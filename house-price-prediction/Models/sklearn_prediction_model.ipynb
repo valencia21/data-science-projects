{
 "cells": [
  {
   "cell_type": "code",
   "execution_count": 1,
   "id": "fad1be58-28d1-4d7c-926d-dc23da6bdd79",
   "metadata": {},
   "outputs": [],
   "source": [
    "from sklearn.impute import SimpleImputer\n",
    "from sklearn.preprocessing import StandardScaler,OneHotEncoder,OrdinalEncoder\n",
    "from sklearn.compose import make_column_selector, make_column_transformer\n",
    "from sklearn.pipeline import make_pipeline\n",
    "from sklearn.linear_model import LogisticRegression\n",
    "from sklearn.model_selection import cross_val_score"
   ]
  },
  {
   "cell_type": "code",
   "execution_count": 2,
   "id": "d20a532b-3222-4f72-a230-fd033a1d4b7b",
   "metadata": {},
   "outputs": [],
   "source": [
    "import pandas as pd\n",
    "import numpy as np"
   ]
  },
  {
   "cell_type": "code",
   "execution_count": 6,
   "id": "f13ab9f1-1e4e-4335-a5f5-608da6ede63d",
   "metadata": {},
   "outputs": [],
   "source": [
    "df_train = pd.read_csv(r\"C:\\Users\\luis_\\Documents\\GitHub\\data-science-projects\\house-price-prediction\\train.csv\")\n",
    "df_test = pd.read_csv(r\"C:\\Users\\luis_\\Documents\\GitHub\\data-science-projects\\house-price-prediction\\test.csv\")"
   ]
  },
  {
   "cell_type": "markdown",
   "id": "76d4d0c2-50f1-4eaf-8b5c-97aa7cd4ce44",
   "metadata": {},
   "source": [
    "## Data Wrangling\n",
    "\n",
    "### Setting Correct Datatypes\n",
    "\n",
    "#### 1) MSSubClass int > str\n",
    "The \"MSSubClass\" category uses integers to specify types of dwelling, but these integers simply refer to categories.\n",
    "We will change the datatype of this column from int to str.\n",
    "\n",
    "<div style=\"float: left\">\n",
    "\n",
    "| Value  | Type of Dwelling |\n",
    "|---|---|\n",
    "| 20  | 1-STORY 1946 & NEWER ALL STYLES |\n",
    "|  30 | 1-STORY 1945 & OLDER |\n",
    "|  40 | 1-STORY W/FINISHED ATTIC ALL AGES |\n",
    "etc.\n",
    "\n",
    "</div>"
   ]
  },
  {
   "cell_type": "code",
   "execution_count": 7,
   "id": "844dc1de-c669-4e58-b3c2-b397cbddd774",
   "metadata": {},
   "outputs": [],
   "source": [
    "# Transformation 1: int > str\n",
    "df_train[\"MSSubClass\"] = df_train[\"MSSubClass\"].astype(\"str\")"
   ]
  },
  {
   "cell_type": "code",
   "execution_count": 8,
   "id": "e266cdeb-eab9-4e11-8d55-f0ef6cc3630c",
   "metadata": {},
   "outputs": [
    {
     "data": {
      "text/plain": [
       "0       60\n",
       "1       20\n",
       "2       60\n",
       "3       70\n",
       "4       60\n",
       "        ..\n",
       "1455    60\n",
       "1456    20\n",
       "1457    70\n",
       "1458    20\n",
       "1459    20\n",
       "Name: MSSubClass, Length: 1460, dtype: object"
      ]
     },
     "execution_count": 8,
     "metadata": {},
     "output_type": "execute_result"
    }
   ],
   "source": [
    "# Check\n",
    "df_train[\"MSSubClass\"]"
   ]
  },
  {
   "cell_type": "markdown",
   "id": "72bf2743-7945-4561-8d79-d65a65e26646",
   "metadata": {},
   "source": [
    "#### 2) \"Quality\" columns str > int\n",
    "\n",
    "As per the tables below, there are some columns with ordinal category values. However, this ordinality is not captured by the str datatype. We will convert these categories to ints using the mapping shown.\n",
    "\n",
    "Columns: ExterQual\\*, ExterCond\\*, BsmtQual, BsmtCond, HeatingQC\\*, KitchenQual\\*, FireplaceQu, GarageQual, GarageCond, PoolQC <br />\n",
    "\\*Does not contain NA value\n",
    "\n",
    "<div style=\"float: left\">\n",
    "\n",
    "| Category  | Ordinal Value  |\n",
    "|---|---|\n",
    "| Ex  | 5 |\n",
    "| Gd  | 4 |\n",
    "| TA  | 3 |\n",
    "| Fa  | 2 |\n",
    "| Po  | 1 |\n",
    "| NA  | 0 |\n",
    "\n",
    "Columns: BsmtFinType1, BsmtFinType2\n",
    "\n",
    "| Category  | Ordinal Value  |\n",
    "|---|---|\n",
    "| GLQ  | 6 |\n",
    "| ALQ  | 5 |\n",
    "| BLQ  | 4 |\n",
    "| Rec  | 3 |\n",
    "| LwQ  | 2 |\n",
    "| Unf  | 1 |\n",
    "| NA  | 0 |\n",
    "\n",
    "\n",
    "Columns: BsmtExposure\n",
    "\n",
    "| Category  | Ordinal Value  |\n",
    "|---|---|\n",
    "| Gd  | 4 |\n",
    "| Av  | 3 |\n",
    "| Mn  | 2 |\n",
    "| No  | 1 |\n",
    "| NA  | 0 |\n",
    "</div>"
   ]
  },
  {
   "cell_type": "code",
   "execution_count": 9,
   "id": "a2b98daf-9755-4f8a-9637-e2fe1817923c",
   "metadata": {},
   "outputs": [],
   "source": [
    "# Transformation 2: str > int\n",
    "# Needs to have mapping from str values to int values\n",
    "\n",
    "# Set 1\n",
    "df_train[[\"ExterQual\",\"ExterCond\",\"BsmtQual\",\"BsmtCond\",\"HeatingQC\",\"KitchenQual\",\"FireplaceQu\",\"GarageQual\",\"GarageCond\",\"PoolQC\"]] = df_train[[\"ExterQual\",\"ExterCond\",\"BsmtQual\",\"BsmtCond\",\"HeatingQC\",\"KitchenQual\",\"FireplaceQu\",\"GarageQual\",\"GarageCond\",\"PoolQC\"]].replace([\"NA\",\"Po\",\"Fa\",\"TA\",\"Gd\",\"Ex\"],[0,1,2,3,4,5])\n",
    "# Set 2\n",
    "df_train[[\"BsmtFinType1\",\"BsmtFinType2\"]] = df_train[[\"BsmtFinType1\",\"BsmtFinType2\"]].replace([\"NA\",\"Unf\",\"LwQ\",\"Rec\",\"BLQ\",\"ALQ\",\"GLQ\"],[0,1,2,3,4,5,6])\n",
    "# Set 3\n",
    "df_train[\"BsmtExposure\"] = df_train[\"BsmtExposure\"].replace([\"Gd\",\"Av\",\"Mn\",\"No\",\"NA\"],[4,3,2,1,0])"
   ]
  },
  {
   "cell_type": "markdown",
   "id": "fec342d5-5789-4556-a5e8-b70e816a5c99",
   "metadata": {},
   "source": [
    "#### 3) \"Year\" columns to \"YearsAgo\"\n",
    "\n",
    "This dataset contains columns pertaining to the years in which a property was built and modded. \n",
    "Keeping these years as is would not capture much of the relationship between the year column and the dependent variable. Consider the following example:\n",
    "\n",
    "| Year  | Sale Price  |\n",
    "|---|---|\n",
    "| 1950  | 50,000 |\n",
    "| 2000  | 200,000 |\n",
    "\n",
    "To a human, we can intuit how a lot changed in these 50 years that would influence the sale price of a property. A model doesn't have this intuition, it just reads some incremental change in the variable. 2000 is just 50 more than 1950.\n",
    "\n",
    "Note to self: I've changed my mind on this. The line of best fit would just have a y-intercept that's higher. We can test this."
   ]
  },
  {
   "cell_type": "code",
   "execution_count": null,
   "id": "5e80579d-a75b-46de-9cde-5038e73b27d5",
   "metadata": {},
   "outputs": [],
   "source": [
    "# Transform MoSold into \"Fraction of Years Ago Sold\"\n",
    "df_train[\"MoSold\"] = df_train[\"MoSold\"].replace([int(x) for x in np.linspace(1,12,12)],np.linspace(0,1,12))"
   ]
  },
  {
   "cell_type": "code",
   "execution_count": 18,
   "id": "18cceac0-f02b-494e-98f7-c9a10c377d47",
   "metadata": {},
   "outputs": [],
   "source": [
    "# Mix columns to include both Years and Months Ago Sold\n",
    "df_train[\"YrMoSold\"] = df_train[\"YrSold\"] + df_train[\"MoSold\"]"
   ]
  },
  {
   "cell_type": "code",
   "execution_count": 19,
   "id": "6a3f3866-3be7-481c-8305-83a07c1756bb",
   "metadata": {},
   "outputs": [
    {
     "data": {
      "text/plain": [
       "0       2.909091\n",
       "1       3.636364\n",
       "2       2.272727\n",
       "3       4.909091\n",
       "4       2.000000\n",
       "          ...   \n",
       "1455    3.363636\n",
       "1456    0.909091\n",
       "1457    0.636364\n",
       "1458    0.727273\n",
       "1459    2.545455\n",
       "Name: YrsMoAgoSold, Length: 1460, dtype: float64"
      ]
     },
     "execution_count": 19,
     "metadata": {},
     "output_type": "execute_result"
    }
   ],
   "source": [
    "# Check\n",
    "df_train[\"YrMoSold\"]"
   ]
  },
  {
   "cell_type": "code",
   "execution_count": 20,
   "id": "e2ee2bff-73e7-49ca-920e-e7c96e535700",
   "metadata": {},
   "outputs": [],
   "source": [
    "# Drop YrSold, but keep MoSold to account for seasonality in sale prices\n",
    "df_train = df_train.drop(\"YrSold\",axis=1)"
   ]
  },
  {
   "cell_type": "code",
   "execution_count": null,
   "id": "7753fb57-e31e-4447-bf70-72a7ce6f7c96",
   "metadata": {},
   "outputs": [],
   "source": []
  },
  {
   "cell_type": "code",
   "execution_count": null,
   "id": "18089d73-7ade-4a04-aad0-6f63d2329e3d",
   "metadata": {},
   "outputs": [],
   "source": [
    "# Changing columns from int > str\n",
    "df_test[\"MSSubClass\"]"
   ]
  },
  {
   "cell_type": "code",
   "execution_count": null,
   "id": "bb4b6a57-cb01-4508-8ad8-12102cf1a4e7",
   "metadata": {},
   "outputs": [],
   "source": [
    "# preprocessing for numeric columns\n",
    "imp_median = SimpleImputer(strategy=\"median\", add_indicator=True)\n",
    "scaler = StandardScaler()"
   ]
  },
  {
   "cell_type": "code",
   "execution_count": null,
   "id": "f9d81190-514c-4d64-8281-453083f1071e",
   "metadata": {},
   "outputs": [],
   "source": [
    "# preprocessing for categorical columns\n",
    "imp_constant = SimpleImputer(strategy=\"constant\")\n",
    "ohe = OneHotEncoder(handle_unknown=\"ignore\")"
   ]
  },
  {
   "cell_type": "code",
   "execution_count": null,
   "id": "e8938ec8-ed54-4dc5-b5c3-cba5b323041d",
   "metadata": {},
   "outputs": [],
   "source": [
    "# select columns by data type\n",
    "num_cols = make_column_selector(dtype_include=\"number\")\n",
    "cat_cols = make_column_selector(dtype_exclude=\"number\")"
   ]
  },
  {
   "cell_type": "code",
   "execution_count": null,
   "id": "b1c01621-b407-4567-a8ac-07ebf0abee66",
   "metadata": {},
   "outputs": [],
   "source": [
    "# all preprocessing\n",
    "preprocessor = make_column_transformer(\n",
    "    (make_pipeline(imp_median, scaler), num_cols),\n",
    "    (make_pipeline(imp_constant, ohe), cat_cols))"
   ]
  },
  {
   "cell_type": "code",
   "execution_count": null,
   "id": "e495449c-6a99-4d41-a658-b23916879ec7",
   "metadata": {},
   "outputs": [],
   "source": [
    "# create a pipeline\n",
    "pipe = make_pipeline(preprocessor, LogisticRegression())"
   ]
  },
  {
   "cell_type": "code",
   "execution_count": null,
   "id": "afd8d455-13bb-4b8c-a635-02243346a514",
   "metadata": {},
   "outputs": [],
   "source": [
    "# cross-validate the pipeline\n",
    "cross_val_score(pipe, X, y).mean()"
   ]
  },
  {
   "cell_type": "code",
   "execution_count": null,
   "id": "671e1bdd-6923-412b-8ad5-8898ad73cbf4",
   "metadata": {},
   "outputs": [],
   "source": [
    "# fit pipeline and make predictions\n",
    "pipe.fit(X,y)\n",
    "pipe.predict(X,new)"
   ]
  }
 ],
 "metadata": {
  "kernelspec": {
   "display_name": "Python 3 (ipykernel)",
   "language": "python",
   "name": "python3"
  },
  "language_info": {
   "codemirror_mode": {
    "name": "ipython",
    "version": 3
   },
   "file_extension": ".py",
   "mimetype": "text/x-python",
   "name": "python",
   "nbconvert_exporter": "python",
   "pygments_lexer": "ipython3",
   "version": "3.7.9"
  }
 },
 "nbformat": 4,
 "nbformat_minor": 5
}
