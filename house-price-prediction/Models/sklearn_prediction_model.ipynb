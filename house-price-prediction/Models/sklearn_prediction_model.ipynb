{
 "cells": [
  {
   "cell_type": "code",
   "execution_count": 1,
   "id": "fad1be58-28d1-4d7c-926d-dc23da6bdd79",
   "metadata": {},
   "outputs": [],
   "source": [
    "from sklearn.impute import SimpleImputer\n",
    "from sklearn.preprocessing import StandardScaler,OneHotEncoder,OrdinalEncoder\n",
    "from sklearn.compose import make_column_selector, make_column_transformer\n",
    "from sklearn.pipeline import make_pipeline\n",
    "from sklearn.linear_model import LogisticRegression\n",
    "from sklearn.model_selection import cross_val_score"
   ]
  },
  {
   "cell_type": "code",
   "execution_count": 2,
   "id": "d20a532b-3222-4f72-a230-fd033a1d4b7b",
   "metadata": {},
   "outputs": [],
   "source": [
    "import pandas as pd\n",
    "import numpy as np"
   ]
  },
  {
   "cell_type": "code",
   "execution_count": 3,
   "id": "f13ab9f1-1e4e-4335-a5f5-608da6ede63d",
   "metadata": {},
   "outputs": [],
   "source": [
    "df_train = pd.read_csv(r\"C:\\Users\\luis_\\Documents\\GitHub\\data-science-projects\\house-price-prediction\\train.csv\")\n",
    "df_test = pd.read_csv(r\"C:\\Users\\luis_\\Documents\\GitHub\\data-science-projects\\house-price-prediction\\test.csv\")"
   ]
  },
  {
   "cell_type": "markdown",
   "id": "76d4d0c2-50f1-4eaf-8b5c-97aa7cd4ce44",
   "metadata": {},
   "source": [
    "## Data Wrangling\n",
    "\n",
    "### Setting Correct Datatypes\n",
    "\n",
    "#### 1) MSSubClass int > str\n",
    "The \"MSSubClass\" category uses integers to specify types of dwelling, but these integers simply refer to categories.\n",
    "We will change the datatype of this column from int to str.\n",
    "\n",
    "<div style=\"float: left\">\n",
    "\n",
    "| Value  | Type of Dwelling |\n",
    "|---|---|\n",
    "| 20  | 1-STORY 1946 & NEWER ALL STYLES |\n",
    "|  30 | 1-STORY 1945 & OLDER |\n",
    "|  40 | 1-STORY W/FINISHED ATTIC ALL AGES |\n",
    "etc.\n",
    "\n",
    "</div>"
   ]
  },
  {
   "cell_type": "code",
   "execution_count": 4,
   "id": "844dc1de-c669-4e58-b3c2-b397cbddd774",
   "metadata": {},
   "outputs": [],
   "source": [
    "# Transformation 1: int > str\n",
    "df_train[\"MSSubClass\"] = df_train[\"MSSubClass\"].astype(\"str\")\n",
    "\n",
    "# Apply same to df_test\n",
    "df_test[\"MSSubClass\"] = df_test[\"MSSubClass\"].astype(\"str\")"
   ]
  },
  {
   "cell_type": "code",
   "execution_count": 5,
   "id": "e266cdeb-eab9-4e11-8d55-f0ef6cc3630c",
   "metadata": {},
   "outputs": [
    {
     "data": {
      "text/plain": [
       "0       60\n",
       "1       20\n",
       "2       60\n",
       "3       70\n",
       "4       60\n",
       "        ..\n",
       "1455    60\n",
       "1456    20\n",
       "1457    70\n",
       "1458    20\n",
       "1459    20\n",
       "Name: MSSubClass, Length: 1460, dtype: object"
      ]
     },
     "execution_count": 5,
     "metadata": {},
     "output_type": "execute_result"
    }
   ],
   "source": [
    "# Check\n",
    "df_train[\"MSSubClass\"]"
   ]
  },
  {
   "cell_type": "markdown",
   "id": "72bf2743-7945-4561-8d79-d65a65e26646",
   "metadata": {},
   "source": [
    "#### 2) \"Quality\" columns str > int\n",
    "\n",
    "As per the tables below, there are some columns with ordinal category values. However, this ordinality is not captured by the str datatype. We will convert these categories to ints using the mapping shown.\n",
    "\n",
    "Columns: ExterQual\\*, ExterCond\\*, BsmtQual, BsmtCond, HeatingQC\\*, KitchenQual\\*, FireplaceQu, GarageQual, GarageCond, PoolQC <br />\n",
    "\\*Does not contain NA value\n",
    "\n",
    "<div style=\"float: left\">\n",
    "\n",
    "| Category  | Ordinal Value  |\n",
    "|---|---|\n",
    "| Ex  | 5 |\n",
    "| Gd  | 4 |\n",
    "| TA  | 3 |\n",
    "| Fa  | 2 |\n",
    "| Po  | 1 |\n",
    "| NA  | 0 |\n",
    "\n",
    "Columns: BsmtFinType1, BsmtFinType2\n",
    "\n",
    "| Category  | Ordinal Value  |\n",
    "|---|---|\n",
    "| GLQ  | 6 |\n",
    "| ALQ  | 5 |\n",
    "| BLQ  | 4 |\n",
    "| Rec  | 3 |\n",
    "| LwQ  | 2 |\n",
    "| Unf  | 1 |\n",
    "| NA  | 0 |\n",
    "\n",
    "\n",
    "Columns: BsmtExposure\n",
    "\n",
    "| Category  | Ordinal Value  |\n",
    "|---|---|\n",
    "| Gd  | 4 |\n",
    "| Av  | 3 |\n",
    "| Mn  | 2 |\n",
    "| No  | 1 |\n",
    "| NA  | 0 |\n",
    "</div>"
   ]
  },
  {
   "cell_type": "code",
   "execution_count": 6,
   "id": "a2b98daf-9755-4f8a-9637-e2fe1817923c",
   "metadata": {},
   "outputs": [],
   "source": [
    "# Transformation 2: str > int\n",
    "# Needs to have mapping from str values to int values\n",
    "\n",
    "# Set 1\n",
    "df_train[[\"ExterQual\",\"ExterCond\",\"BsmtQual\",\"BsmtCond\",\"HeatingQC\",\"KitchenQual\",\"FireplaceQu\",\"GarageQual\",\"GarageCond\",\"PoolQC\"]] = df_train[[\"ExterQual\",\"ExterCond\",\"BsmtQual\",\"BsmtCond\",\"HeatingQC\",\"KitchenQual\",\"FireplaceQu\",\"GarageQual\",\"GarageCond\",\"PoolQC\"]].replace([\"NA\",\"Po\",\"Fa\",\"TA\",\"Gd\",\"Ex\"],[0,1,2,3,4,5])\n",
    "# Set 2\n",
    "df_train[[\"BsmtFinType1\",\"BsmtFinType2\"]] = df_train[[\"BsmtFinType1\",\"BsmtFinType2\"]].replace([\"NA\",\"Unf\",\"LwQ\",\"Rec\",\"BLQ\",\"ALQ\",\"GLQ\"],[0,1,2,3,4,5,6])\n",
    "# Set 3\n",
    "df_train[\"BsmtExposure\"] = df_train[\"BsmtExposure\"].replace([\"Gd\",\"Av\",\"Mn\",\"No\",\"NA\"],[4,3,2,1,0])\n",
    "\n",
    "# Apply same to df_test\n",
    "\n",
    "# Set 1\n",
    "df_test[[\"ExterQual\",\"ExterCond\",\"BsmtQual\",\"BsmtCond\",\"HeatingQC\",\"KitchenQual\",\"FireplaceQu\",\"GarageQual\",\"GarageCond\",\"PoolQC\"]] = df_test[[\"ExterQual\",\"ExterCond\",\"BsmtQual\",\"BsmtCond\",\"HeatingQC\",\"KitchenQual\",\"FireplaceQu\",\"GarageQual\",\"GarageCond\",\"PoolQC\"]].replace([\"NA\",\"Po\",\"Fa\",\"TA\",\"Gd\",\"Ex\"],[0,1,2,3,4,5])\n",
    "# Set 2\n",
    "df_test[[\"BsmtFinType1\",\"BsmtFinType2\"]] = df_test[[\"BsmtFinType1\",\"BsmtFinType2\"]].replace([\"NA\",\"Unf\",\"LwQ\",\"Rec\",\"BLQ\",\"ALQ\",\"GLQ\"],[0,1,2,3,4,5,6])\n",
    "# Set 3\n",
    "df_test[\"BsmtExposure\"] = df_test[\"BsmtExposure\"].replace([\"Gd\",\"Av\",\"Mn\",\"No\",\"NA\"],[4,3,2,1,0])"
   ]
  },
  {
   "cell_type": "markdown",
   "id": "fec342d5-5789-4556-a5e8-b70e816a5c99",
   "metadata": {},
   "source": [
    "#### 3) \"Year\" columns to \"YearsAgo\"\n",
    "\n",
    "This dataset contains columns pertaining to the years in which a property was built and modded. \n",
    "Keeping these years as is would not capture much of the relationship between the year column and the dependent variable. Consider the following example:\n",
    "\n",
    "| Year  | Sale Price  |\n",
    "|---|---|\n",
    "| 1950  | 50,000 |\n",
    "| 2000  | 200,000 |\n",
    "\n",
    "To a human, we can intuit how a lot changed in these 50 years that would influence the sale price of a property. A model doesn't have this intuition, it just reads some incremental change in the variable. 2000 is just 50 more than 1950.\n",
    "\n",
    "Note to self: I've changed my mind on this. The line of best fit would just have a y-intercept that's higher. We can test this."
   ]
  },
  {
   "cell_type": "code",
   "execution_count": 7,
   "id": "5e80579d-a75b-46de-9cde-5038e73b27d5",
   "metadata": {},
   "outputs": [],
   "source": [
    "# Transform MoSold into \"Fraction of Years Ago Sold\"\n",
    "df_train[\"MoSold\"] = df_train[\"MoSold\"].replace([int(x) for x in np.linspace(1,12,12)],np.linspace(0,1,12))\n",
    "\n",
    "# Mix columns to include both Years and Months Ago Sold\n",
    "df_train[\"YrMoSold\"] = df_train[\"YrSold\"] + df_train[\"MoSold\"]\n",
    "\n",
    "# Apply same to df_test\n",
    "df_test[\"MoSold\"] = df_test[\"MoSold\"].replace([int(x) for x in np.linspace(1,12,12)],np.linspace(0,1,12))\n",
    "df_test[\"YrMoSold\"] = df_test[\"YrSold\"] + df_train[\"MoSold\"]"
   ]
  },
  {
   "cell_type": "code",
   "execution_count": 8,
   "id": "6a3f3866-3be7-481c-8305-83a07c1756bb",
   "metadata": {},
   "outputs": [
    {
     "data": {
      "text/plain": [
       "0       2008.090909\n",
       "1       2007.363636\n",
       "2       2008.727273\n",
       "3       2006.090909\n",
       "4       2009.000000\n",
       "           ...     \n",
       "1455    2007.636364\n",
       "1456    2010.090909\n",
       "1457    2010.363636\n",
       "1458    2010.272727\n",
       "1459    2008.454545\n",
       "Name: YrMoSold, Length: 1460, dtype: float64"
      ]
     },
     "execution_count": 8,
     "metadata": {},
     "output_type": "execute_result"
    }
   ],
   "source": [
    "# Check\n",
    "df_train[\"YrMoSold\"]"
   ]
  },
  {
   "cell_type": "code",
   "execution_count": 9,
   "id": "e2ee2bff-73e7-49ca-920e-e7c96e535700",
   "metadata": {},
   "outputs": [],
   "source": [
    "# Drop YrSold, but keep MoSold to account for seasonality in sale prices\n",
    "df_train = df_train.drop(\"YrSold\",axis=1)\n",
    "\n",
    "# Apply same to df_test\n",
    "df_test = df_test.drop(\"YrSold\",axis=1)"
   ]
  },
  {
   "cell_type": "markdown",
   "id": "3d4fe1b4-2237-4362-b7d3-544334cee3cc",
   "metadata": {},
   "source": [
    "## Preprocessing\n",
    "\n",
    "### Numerical values\n",
    "\n",
    "- Impute missing values using the median value of the column.\n",
    "- Standardize the scale of each variable by removing the mean and scaling to unit variance (variance = 1)."
   ]
  },
  {
   "cell_type": "code",
   "execution_count": 10,
   "id": "bb4b6a57-cb01-4508-8ad8-12102cf1a4e7",
   "metadata": {},
   "outputs": [],
   "source": [
    "# preprocessing for numeric columns\n",
    "imp_median = SimpleImputer(strategy=\"median\", add_indicator=True)\n",
    "scaler = StandardScaler()"
   ]
  },
  {
   "cell_type": "markdown",
   "id": "946d69a6-334a-464c-b3e8-420f28d0ee48",
   "metadata": {},
   "source": [
    "### Categorical variables\n",
    "\n",
    "- Impute a \"missing_value\" string where values are missing.\n",
    "- One hot encode all categorical variables."
   ]
  },
  {
   "cell_type": "code",
   "execution_count": 11,
   "id": "f9d81190-514c-4d64-8281-453083f1071e",
   "metadata": {},
   "outputs": [],
   "source": [
    "# preprocessing for categorical columns\n",
    "imp_constant = SimpleImputer(strategy=\"constant\")\n",
    "ohe = OneHotEncoder(handle_unknown=\"ignore\")"
   ]
  },
  {
   "cell_type": "markdown",
   "id": "604266c6-c110-4f00-bf99-e32eb837051f",
   "metadata": {},
   "source": [
    "### Create pipeline\n",
    "\n",
    "Separate numerical and categorical variables, create pipeline to implement steps defined in preprocessing."
   ]
  },
  {
   "cell_type": "code",
   "execution_count": 12,
   "id": "e8938ec8-ed54-4dc5-b5c3-cba5b323041d",
   "metadata": {},
   "outputs": [],
   "source": [
    "# select columns by data type\n",
    "num_cols = make_column_selector(dtype_include=\"number\")\n",
    "cat_cols = make_column_selector(dtype_exclude=\"number\")"
   ]
  },
  {
   "cell_type": "code",
   "execution_count": 13,
   "id": "b1c01621-b407-4567-a8ac-07ebf0abee66",
   "metadata": {},
   "outputs": [],
   "source": [
    "# all preprocessing\n",
    "preprocessor = make_column_transformer(\n",
    "    (make_pipeline(imp_median, scaler), num_cols),\n",
    "    (make_pipeline(imp_constant, ohe), cat_cols))"
   ]
  },
  {
   "cell_type": "markdown",
   "id": "0bfe26a4-c277-4947-a5f6-6075d0f5c67b",
   "metadata": {},
   "source": [
    "### Define prediction method\n",
    "\n",
    "In this case, logistic regression."
   ]
  },
  {
   "cell_type": "code",
   "execution_count": 17,
   "id": "e495449c-6a99-4d41-a658-b23916879ec7",
   "metadata": {},
   "outputs": [],
   "source": [
    "# create a pipeline\n",
    "pipe = make_pipeline(preprocessor, LogisticRegression(max_iter=500))"
   ]
  },
  {
   "cell_type": "code",
   "execution_count": 18,
   "id": "f0509f13-c127-4935-8f14-ac93a089c23e",
   "metadata": {},
   "outputs": [],
   "source": [
    "# Define X (independent variables) and y (dependent variable)\n",
    "\n",
    "X = df_train.drop(columns=\"SalePrice\")\n",
    "y = df_train[\"SalePrice\"]"
   ]
  },
  {
   "cell_type": "code",
   "execution_count": 19,
   "id": "afd8d455-13bb-4b8c-a635-02243346a514",
   "metadata": {},
   "outputs": [
    {
     "name": "stderr",
     "output_type": "stream",
     "text": [
      "C:\\Users\\luis_\\anaconda3\\lib\\site-packages\\sklearn\\model_selection\\_split.py:666: UserWarning: The least populated class in y has only 1 members, which is less than n_splits=5.\n",
      "  warnings.warn((\"The least populated class in y has only %d\"\n"
     ]
    },
    {
     "data": {
      "text/plain": [
       "0.01643835616438356"
      ]
     },
     "execution_count": 19,
     "metadata": {},
     "output_type": "execute_result"
    }
   ],
   "source": [
    "# cross-validate the pipeline\n",
    "cross_val_score(pipe, X, y).mean()"
   ]
  },
  {
   "cell_type": "code",
   "execution_count": 20,
   "id": "13374166-b3d2-4a43-a219-8514ad0f4fcd",
   "metadata": {},
   "outputs": [
    {
     "data": {
      "text/plain": [
       "Pipeline(steps=[('columntransformer',\n",
       "                 ColumnTransformer(transformers=[('pipeline-1',\n",
       "                                                  Pipeline(steps=[('simpleimputer',\n",
       "                                                                   SimpleImputer(add_indicator=True,\n",
       "                                                                                 strategy='median')),\n",
       "                                                                  ('standardscaler',\n",
       "                                                                   StandardScaler())]),\n",
       "                                                  <sklearn.compose._column_transformer.make_column_selector object at 0x00000194170B35B0>),\n",
       "                                                 ('pipeline-2',\n",
       "                                                  Pipeline(steps=[('simpleimputer',\n",
       "                                                                   SimpleImputer(strategy='constant')),\n",
       "                                                                  ('onehotencoder',\n",
       "                                                                   OneHotEncoder(handle_unknown='ignore'))]),\n",
       "                                                  <sklearn.compose._column_transformer.make_column_selector object at 0x00000194170B34C0>)])),\n",
       "                ('logisticregression', LogisticRegression(max_iter=500))])"
      ]
     },
     "execution_count": 20,
     "metadata": {},
     "output_type": "execute_result"
    }
   ],
   "source": [
    "# fit pipeline\n",
    "pipe.fit(X,y)"
   ]
  },
  {
   "cell_type": "code",
   "execution_count": 23,
   "id": "1f927aef-1dcc-41e5-8c30-bacea974dfbd",
   "metadata": {},
   "outputs": [],
   "source": [
    "# Define X_test\n",
    "X_test = df_test"
   ]
  },
  {
   "cell_type": "code",
   "execution_count": 25,
   "id": "671e1bdd-6923-412b-8ad5-8898ad73cbf4",
   "metadata": {},
   "outputs": [],
   "source": [
    "# make predictions based on model\n",
    "predictions = pipe.predict(X_test)"
   ]
  },
  {
   "cell_type": "code",
   "execution_count": 26,
   "id": "f92c99a2-9b70-4dc4-94eb-1cb3aa26071e",
   "metadata": {},
   "outputs": [
    {
     "data": {
      "text/plain": [
       "array([144000, 151500, 189000, ..., 149900,  93500, 240000], dtype=int64)"
      ]
     },
     "execution_count": 26,
     "metadata": {},
     "output_type": "execute_result"
    }
   ],
   "source": [
    "predictions"
   ]
  },
  {
   "cell_type": "code",
   "execution_count": 27,
   "id": "a0c27b97-3ec0-4e48-8df3-34ee912cbb33",
   "metadata": {},
   "outputs": [
    {
     "data": {
      "text/plain": [
       "1459"
      ]
     },
     "execution_count": 27,
     "metadata": {},
     "output_type": "execute_result"
    }
   ],
   "source": [
    "len(predictions)"
   ]
  },
  {
   "cell_type": "code",
   "execution_count": 28,
   "id": "d6003e47-fa99-4d09-8e76-97a022ee37dc",
   "metadata": {},
   "outputs": [
    {
     "data": {
      "text/plain": [
       "1459"
      ]
     },
     "execution_count": 28,
     "metadata": {},
     "output_type": "execute_result"
    }
   ],
   "source": [
    "len(df_test)"
   ]
  },
  {
   "cell_type": "code",
   "execution_count": 34,
   "id": "8aeff879-e790-43c4-a00e-ad1577ae0ca8",
   "metadata": {},
   "outputs": [],
   "source": [
    "d = {\"Id\":df_test[\"Id\"],\"SalePrice\":predictions}\n",
    "submission = pd.DataFrame(data=d)\n",
    "submission"
   ]
  },
  {
   "cell_type": "code",
   "execution_count": 37,
   "id": "b9346a80-fc79-4385-90af-3991962b08fd",
   "metadata": {},
   "outputs": [],
   "source": [
    "submission.to_csv(\"submission.csv\",index=False)"
   ]
  },
  {
   "cell_type": "code",
   "execution_count": null,
   "id": "e62b81b7-f598-429d-8404-41c86600dc24",
   "metadata": {},
   "outputs": [],
   "source": []
  }
 ],
 "metadata": {
  "kernelspec": {
   "display_name": "Python 3",
   "language": "python",
   "name": "python3"
  },
  "language_info": {
   "codemirror_mode": {
    "name": "ipython",
    "version": 3
   },
   "file_extension": ".py",
   "mimetype": "text/x-python",
   "name": "python",
   "nbconvert_exporter": "python",
   "pygments_lexer": "ipython3",
   "version": "3.8.8"
  }
 },
 "nbformat": 4,
 "nbformat_minor": 5
}
