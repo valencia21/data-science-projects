{
 "cells": [
  {
   "cell_type": "code",
   "execution_count": 1,
   "id": "fad1be58-28d1-4d7c-926d-dc23da6bdd79",
   "metadata": {},
   "outputs": [],
   "source": [
    "from sklearn.impute import SimpleImputer\n",
    "from sklearn.preprocessing import StandardScaler,OneHotEncoder,OrdinalEncoder\n",
    "from sklearn.compose import make_column_selector, make_column_transformer\n",
    "from sklearn.pipeline import make_pipeline\n",
    "from sklearn.linear_model import LogisticRegression\n",
    "from sklearn.model_selection import cross_val_score"
   ]
  },
  {
   "cell_type": "code",
   "execution_count": 2,
   "id": "d20a532b-3222-4f72-a230-fd033a1d4b7b",
   "metadata": {},
   "outputs": [],
   "source": [
    "import pandas as pd\n",
    "import numpy as np"
   ]
  },
  {
   "cell_type": "code",
   "execution_count": 3,
   "id": "f13ab9f1-1e4e-4335-a5f5-608da6ede63d",
   "metadata": {},
   "outputs": [],
   "source": [
    "df_train = pd.read_csv(r\"C:\\Users\\luis_\\Desktop\\Environments\\Data Science\\House Price Prediction\\train.csv\")\n",
    "df_test = pd.read_csv(r\"C:\\Users\\luis_\\Desktop\\Environments\\Data Science\\House Price Prediction\\test.csv\")"
   ]
  },
  {
   "cell_type": "markdown",
   "id": "76d4d0c2-50f1-4eaf-8b5c-97aa7cd4ce44",
   "metadata": {},
   "source": [
    "## Data Wrangling\n",
    "\n",
    "### Setting Correct Datatypes\n",
    "\n",
    "#### 1) MSSubClass int > str\n",
    "The \"MSSubClass\" category uses integers to specify types of dwelling, but these integers simply refer to categories.\n",
    "We will change the datatype of this column from int to str.\n",
    "\n",
    "<div style=\"float: left\">\n",
    "\n",
    "| Value  | Type of Dwelling |\n",
    "|---|---|\n",
    "| 20  | 1-STORY 1946 & NEWER ALL STYLES |\n",
    "|  30 | 1-STORY 1945 & OLDER |\n",
    "|  40 | 1-STORY W/FINISHED ATTIC ALL AGES |\n",
    "etc.\n",
    "\n",
    "</div>"
   ]
  },
  {
   "cell_type": "code",
   "execution_count": 5,
   "id": "844dc1de-c669-4e58-b3c2-b397cbddd774",
   "metadata": {},
   "outputs": [],
   "source": [
    "# Transformation 1: int > str\n",
    "df_train[\"MSSubClass\"] = df_train[\"MSSubClass\"].astype(\"str\")"
   ]
  },
  {
   "cell_type": "code",
   "execution_count": 6,
   "id": "e266cdeb-eab9-4e11-8d55-f0ef6cc3630c",
   "metadata": {},
   "outputs": [
    {
     "data": {
      "text/plain": [
       "0       60\n",
       "1       20\n",
       "2       60\n",
       "3       70\n",
       "4       60\n",
       "        ..\n",
       "1455    60\n",
       "1456    20\n",
       "1457    70\n",
       "1458    20\n",
       "1459    20\n",
       "Name: MSSubClass, Length: 1460, dtype: object"
      ]
     },
     "execution_count": 6,
     "metadata": {},
     "output_type": "execute_result"
    }
   ],
   "source": [
    "# Check\n",
    "df_train[\"MSSubClass\"]"
   ]
  },
  {
   "cell_type": "markdown",
   "id": "72bf2743-7945-4561-8d79-d65a65e26646",
   "metadata": {},
   "source": [
    "#### 2) \"Quality\" columns str > int\n",
    "\n",
    "As per the tables below, there are some columns with ordinal category values. However, this ordinality is not captured by the str datatype. We will convert these categories to ints using the mapping shown.\n",
    "\n",
    "Columns: ExterQual\\*, ExterCond\\*, BsmtQual, BsmtCond, HeatingQC\\*, KitchenQual\\*, FireplaceQu, GarageQual, GarageCond, PoolQC <br />\n",
    "\\*Does not contain NA value\n",
    "\n",
    "<div style=\"float: left\">\n",
    "\n",
    "| Category  | Ordinal Value  |\n",
    "|---|---|\n",
    "| Ex  | 5 |\n",
    "| Gd  | 4 |\n",
    "| TA  | 3 |\n",
    "| Fa  | 2 |\n",
    "| Po  | 1 |\n",
    "| NA  | 0 |\n",
    "\n",
    "Columns: BsmtFinType1, BsmtFinType2\n",
    "\n",
    "| Category  | Ordinal Value  |\n",
    "|---|---|\n",
    "| GLQ  | 6 |\n",
    "| ALQ  | 5 |\n",
    "| BLQ  | 4 |\n",
    "| Rec  | 3 |\n",
    "| LwQ  | 2 |\n",
    "| Unf  | 1 |\n",
    "| NA  | 0 |\n",
    "\n",
    "\n",
    "Columns: BsmtExposure\n",
    "\n",
    "| Category  | Ordinal Value  |\n",
    "|---|---|\n",
    "| Gd  | 4 |\n",
    "| Av  | 3 |\n",
    "| Mn  | 2 |\n",
    "| No  | 1 |\n",
    "| NA  | 0 |\n",
    "</div>"
   ]
  },
  {
   "cell_type": "code",
   "execution_count": 7,
   "id": "a2b98daf-9755-4f8a-9637-e2fe1817923c",
   "metadata": {},
   "outputs": [],
   "source": [
    "# Transformation 2: str > int\n",
    "# Needs to have mapping from str values to int values\n",
    "\n",
    "# Set 1\n",
    "df_train[[\"ExterQual\",\"ExterCond\",\"BsmtQual\",\"BsmtCond\",\"HeatingQC\",\"KitchenQual\",\"FireplaceQu\",\"GarageQual\",\"GarageCond\",\"PoolQC\"]] = df_train[[\"ExterQual\",\"ExterCond\",\"BsmtQual\",\"BsmtCond\",\"HeatingQC\",\"KitchenQual\",\"FireplaceQu\",\"GarageQual\",\"GarageCond\",\"PoolQC\"]].replace([\"NA\",\"Po\",\"Fa\",\"TA\",\"Gd\",\"Ex\"],[0,1,2,3,4,5])\n",
    "# Set 2\n",
    "df_train[[\"BsmtFinType1\",\"BsmtFinType2\"]] = df_train[[\"BsmtFinType1\",\"BsmtFinType2\"]].replace([\"NA\",\"Unf\",\"LwQ\",\"Rec\",\"BLQ\",\"ALQ\",\"GLQ\"],[0,1,2,3,4,5,6])\n",
    "# Set 3\n",
    "df_train[\"BsmtExposure\"] = df_train[\"BsmtExposure\"].replace([\"Gd\",\"Av\",\"Mn\",\"No\",\"NA\"],[4,3,2,1,0])"
   ]
  },
  {
   "cell_type": "markdown",
   "id": "fec342d5-5789-4556-a5e8-b70e816a5c99",
   "metadata": {},
   "source": [
    "#### 3) \"Year\" columns to \"YearsAgo\"\n",
    "\n",
    "This dataset contains columns pertaining to the years in which a property was built and modded. \n",
    "Keeping these years as is would not capture much of the relationship between the year column and the dependent variable. Consider the following example:\n",
    "\n",
    "| Year  | Sale Price  |\n",
    "|---|---|\n",
    "| 1950  | 50,000 |\n",
    "| 2000  | 200,000 |\n",
    "\n",
    "To a human, we can intuit how a lot changed in these 50 years that would influence the sale price of a property. A model doesn't have this intuition, it just reads some incremental change in the variable. 2000 is just 50 more than 1950.\n",
    "\n",
    "Note to self: I've changed my mind on this. The line of best fit would just have a y-intercept that's higher. We can test this."
   ]
  },
  {
   "cell_type": "code",
   "execution_count": 24,
   "id": "fa9a8ca1-9a39-45fa-a888-206522550266",
   "metadata": {},
   "outputs": [
    {
     "ename": "KeyError",
     "evalue": "\"None of [Index(['YearBuilt', 'YearRemodAdd'], dtype='object')] are in the [columns]\"",
     "output_type": "error",
     "traceback": [
      "\u001b[1;31m---------------------------------------------------------------------------\u001b[0m",
      "\u001b[1;31mKeyError\u001b[0m                                  Traceback (most recent call last)",
      "\u001b[1;32m<ipython-input-24-73c9db41cb31>\u001b[0m in \u001b[0;36m<module>\u001b[1;34m\u001b[0m\n\u001b[0;32m      2\u001b[0m \u001b[1;33m\u001b[0m\u001b[0m\n\u001b[0;32m      3\u001b[0m \u001b[1;31m# Find last recorded date\u001b[0m\u001b[1;33m\u001b[0m\u001b[1;33m\u001b[0m\u001b[1;33m\u001b[0m\u001b[0m\n\u001b[1;32m----> 4\u001b[1;33m \u001b[0mdf_train\u001b[0m\u001b[1;33m[\u001b[0m\u001b[1;33m[\u001b[0m\u001b[1;34m\"YearBuilt\"\u001b[0m\u001b[1;33m,\u001b[0m\u001b[1;34m\"YearRemodAdd\"\u001b[0m\u001b[1;33m]\u001b[0m\u001b[1;33m]\u001b[0m\u001b[1;33m.\u001b[0m\u001b[0mmax\u001b[0m\u001b[1;33m(\u001b[0m\u001b[1;33m)\u001b[0m\u001b[1;33m\u001b[0m\u001b[1;33m\u001b[0m\u001b[0m\n\u001b[0m",
      "\u001b[1;32m~\\anaconda3\\lib\\site-packages\\pandas\\core\\frame.py\u001b[0m in \u001b[0;36m__getitem__\u001b[1;34m(self, key)\u001b[0m\n\u001b[0;32m   3028\u001b[0m             \u001b[1;32mif\u001b[0m \u001b[0mis_iterator\u001b[0m\u001b[1;33m(\u001b[0m\u001b[0mkey\u001b[0m\u001b[1;33m)\u001b[0m\u001b[1;33m:\u001b[0m\u001b[1;33m\u001b[0m\u001b[1;33m\u001b[0m\u001b[0m\n\u001b[0;32m   3029\u001b[0m                 \u001b[0mkey\u001b[0m \u001b[1;33m=\u001b[0m \u001b[0mlist\u001b[0m\u001b[1;33m(\u001b[0m\u001b[0mkey\u001b[0m\u001b[1;33m)\u001b[0m\u001b[1;33m\u001b[0m\u001b[1;33m\u001b[0m\u001b[0m\n\u001b[1;32m-> 3030\u001b[1;33m             \u001b[0mindexer\u001b[0m \u001b[1;33m=\u001b[0m \u001b[0mself\u001b[0m\u001b[1;33m.\u001b[0m\u001b[0mloc\u001b[0m\u001b[1;33m.\u001b[0m\u001b[0m_get_listlike_indexer\u001b[0m\u001b[1;33m(\u001b[0m\u001b[0mkey\u001b[0m\u001b[1;33m,\u001b[0m \u001b[0maxis\u001b[0m\u001b[1;33m=\u001b[0m\u001b[1;36m1\u001b[0m\u001b[1;33m,\u001b[0m \u001b[0mraise_missing\u001b[0m\u001b[1;33m=\u001b[0m\u001b[1;32mTrue\u001b[0m\u001b[1;33m)\u001b[0m\u001b[1;33m[\u001b[0m\u001b[1;36m1\u001b[0m\u001b[1;33m]\u001b[0m\u001b[1;33m\u001b[0m\u001b[1;33m\u001b[0m\u001b[0m\n\u001b[0m\u001b[0;32m   3031\u001b[0m \u001b[1;33m\u001b[0m\u001b[0m\n\u001b[0;32m   3032\u001b[0m         \u001b[1;31m# take() does not accept boolean indexers\u001b[0m\u001b[1;33m\u001b[0m\u001b[1;33m\u001b[0m\u001b[1;33m\u001b[0m\u001b[0m\n",
      "\u001b[1;32m~\\anaconda3\\lib\\site-packages\\pandas\\core\\indexing.py\u001b[0m in \u001b[0;36m_get_listlike_indexer\u001b[1;34m(self, key, axis, raise_missing)\u001b[0m\n\u001b[0;32m   1264\u001b[0m             \u001b[0mkeyarr\u001b[0m\u001b[1;33m,\u001b[0m \u001b[0mindexer\u001b[0m\u001b[1;33m,\u001b[0m \u001b[0mnew_indexer\u001b[0m \u001b[1;33m=\u001b[0m \u001b[0max\u001b[0m\u001b[1;33m.\u001b[0m\u001b[0m_reindex_non_unique\u001b[0m\u001b[1;33m(\u001b[0m\u001b[0mkeyarr\u001b[0m\u001b[1;33m)\u001b[0m\u001b[1;33m\u001b[0m\u001b[1;33m\u001b[0m\u001b[0m\n\u001b[0;32m   1265\u001b[0m \u001b[1;33m\u001b[0m\u001b[0m\n\u001b[1;32m-> 1266\u001b[1;33m         \u001b[0mself\u001b[0m\u001b[1;33m.\u001b[0m\u001b[0m_validate_read_indexer\u001b[0m\u001b[1;33m(\u001b[0m\u001b[0mkeyarr\u001b[0m\u001b[1;33m,\u001b[0m \u001b[0mindexer\u001b[0m\u001b[1;33m,\u001b[0m \u001b[0maxis\u001b[0m\u001b[1;33m,\u001b[0m \u001b[0mraise_missing\u001b[0m\u001b[1;33m=\u001b[0m\u001b[0mraise_missing\u001b[0m\u001b[1;33m)\u001b[0m\u001b[1;33m\u001b[0m\u001b[1;33m\u001b[0m\u001b[0m\n\u001b[0m\u001b[0;32m   1267\u001b[0m         \u001b[1;32mreturn\u001b[0m \u001b[0mkeyarr\u001b[0m\u001b[1;33m,\u001b[0m \u001b[0mindexer\u001b[0m\u001b[1;33m\u001b[0m\u001b[1;33m\u001b[0m\u001b[0m\n\u001b[0;32m   1268\u001b[0m \u001b[1;33m\u001b[0m\u001b[0m\n",
      "\u001b[1;32m~\\anaconda3\\lib\\site-packages\\pandas\\core\\indexing.py\u001b[0m in \u001b[0;36m_validate_read_indexer\u001b[1;34m(self, key, indexer, axis, raise_missing)\u001b[0m\n\u001b[0;32m   1306\u001b[0m             \u001b[1;32mif\u001b[0m \u001b[0mmissing\u001b[0m \u001b[1;33m==\u001b[0m \u001b[0mlen\u001b[0m\u001b[1;33m(\u001b[0m\u001b[0mindexer\u001b[0m\u001b[1;33m)\u001b[0m\u001b[1;33m:\u001b[0m\u001b[1;33m\u001b[0m\u001b[1;33m\u001b[0m\u001b[0m\n\u001b[0;32m   1307\u001b[0m                 \u001b[0maxis_name\u001b[0m \u001b[1;33m=\u001b[0m \u001b[0mself\u001b[0m\u001b[1;33m.\u001b[0m\u001b[0mobj\u001b[0m\u001b[1;33m.\u001b[0m\u001b[0m_get_axis_name\u001b[0m\u001b[1;33m(\u001b[0m\u001b[0maxis\u001b[0m\u001b[1;33m)\u001b[0m\u001b[1;33m\u001b[0m\u001b[1;33m\u001b[0m\u001b[0m\n\u001b[1;32m-> 1308\u001b[1;33m                 \u001b[1;32mraise\u001b[0m \u001b[0mKeyError\u001b[0m\u001b[1;33m(\u001b[0m\u001b[1;34mf\"None of [{key}] are in the [{axis_name}]\"\u001b[0m\u001b[1;33m)\u001b[0m\u001b[1;33m\u001b[0m\u001b[1;33m\u001b[0m\u001b[0m\n\u001b[0m\u001b[0;32m   1309\u001b[0m \u001b[1;33m\u001b[0m\u001b[0m\n\u001b[0;32m   1310\u001b[0m             \u001b[0max\u001b[0m \u001b[1;33m=\u001b[0m \u001b[0mself\u001b[0m\u001b[1;33m.\u001b[0m\u001b[0mobj\u001b[0m\u001b[1;33m.\u001b[0m\u001b[0m_get_axis\u001b[0m\u001b[1;33m(\u001b[0m\u001b[0maxis\u001b[0m\u001b[1;33m)\u001b[0m\u001b[1;33m\u001b[0m\u001b[1;33m\u001b[0m\u001b[0m\n",
      "\u001b[1;31mKeyError\u001b[0m: \"None of [Index(['YearBuilt', 'YearRemodAdd'], dtype='object')] are in the [columns]\""
     ]
    }
   ],
   "source": [
    "# Transformation 3: Change int Year columns to \"Years ago from Max Year\"\n",
    "\n",
    "# Find last recorded date\n",
    "# df_train[[\"YearBuilt\",\"YearRemodAdd\"]].max()"
   ]
  },
  {
   "cell_type": "code",
   "execution_count": 9,
   "id": "b174d6b3-e767-42ad-8737-8b3c011b9c9c",
   "metadata": {},
   "outputs": [],
   "source": [
    "# Transformation 3: Change int Year columns to \"Years ago from 2010\"\n",
    "df_train[[\"YearBuilt\",\"YearRemodAdd\"]] = 2010 - df_train[[\"YearBuilt\",\"YearRemodAdd\"]]\n",
    "df_train = df_train.rename(columns={\"YearBuilt\":\"YearsAgoBuilt\",\"YearRemodAdd\":\"YearsAgoRemodAdd\"})"
   ]
  },
  {
   "cell_type": "code",
   "execution_count": 10,
   "id": "1a800da4-9c1e-484a-afdc-904a428c11e6",
   "metadata": {},
   "outputs": [
    {
     "data": {
      "text/html": [
       "<div>\n",
       "<style scoped>\n",
       "    .dataframe tbody tr th:only-of-type {\n",
       "        vertical-align: middle;\n",
       "    }\n",
       "\n",
       "    .dataframe tbody tr th {\n",
       "        vertical-align: top;\n",
       "    }\n",
       "\n",
       "    .dataframe thead th {\n",
       "        text-align: right;\n",
       "    }\n",
       "</style>\n",
       "<table border=\"1\" class=\"dataframe\">\n",
       "  <thead>\n",
       "    <tr style=\"text-align: right;\">\n",
       "      <th></th>\n",
       "      <th>YearsAgoBuilt</th>\n",
       "      <th>YearsAgoRemodAdd</th>\n",
       "    </tr>\n",
       "  </thead>\n",
       "  <tbody>\n",
       "    <tr>\n",
       "      <th>0</th>\n",
       "      <td>7</td>\n",
       "      <td>7</td>\n",
       "    </tr>\n",
       "    <tr>\n",
       "      <th>1</th>\n",
       "      <td>34</td>\n",
       "      <td>34</td>\n",
       "    </tr>\n",
       "    <tr>\n",
       "      <th>2</th>\n",
       "      <td>9</td>\n",
       "      <td>8</td>\n",
       "    </tr>\n",
       "    <tr>\n",
       "      <th>3</th>\n",
       "      <td>95</td>\n",
       "      <td>40</td>\n",
       "    </tr>\n",
       "    <tr>\n",
       "      <th>4</th>\n",
       "      <td>10</td>\n",
       "      <td>10</td>\n",
       "    </tr>\n",
       "    <tr>\n",
       "      <th>...</th>\n",
       "      <td>...</td>\n",
       "      <td>...</td>\n",
       "    </tr>\n",
       "    <tr>\n",
       "      <th>1455</th>\n",
       "      <td>11</td>\n",
       "      <td>10</td>\n",
       "    </tr>\n",
       "    <tr>\n",
       "      <th>1456</th>\n",
       "      <td>32</td>\n",
       "      <td>22</td>\n",
       "    </tr>\n",
       "    <tr>\n",
       "      <th>1457</th>\n",
       "      <td>69</td>\n",
       "      <td>4</td>\n",
       "    </tr>\n",
       "    <tr>\n",
       "      <th>1458</th>\n",
       "      <td>60</td>\n",
       "      <td>14</td>\n",
       "    </tr>\n",
       "    <tr>\n",
       "      <th>1459</th>\n",
       "      <td>45</td>\n",
       "      <td>45</td>\n",
       "    </tr>\n",
       "  </tbody>\n",
       "</table>\n",
       "<p>1460 rows × 2 columns</p>\n",
       "</div>"
      ],
      "text/plain": [
       "      YearsAgoBuilt  YearsAgoRemodAdd\n",
       "0                 7                 7\n",
       "1                34                34\n",
       "2                 9                 8\n",
       "3                95                40\n",
       "4                10                10\n",
       "...             ...               ...\n",
       "1455             11                10\n",
       "1456             32                22\n",
       "1457             69                 4\n",
       "1458             60                14\n",
       "1459             45                45\n",
       "\n",
       "[1460 rows x 2 columns]"
      ]
     },
     "execution_count": 10,
     "metadata": {},
     "output_type": "execute_result"
    }
   ],
   "source": [
    "# Check\n",
    "df_train[[\"YearsAgoBuilt\",\"YearsAgoRemodAdd\"]]"
   ]
  },
  {
   "cell_type": "code",
   "execution_count": 11,
   "id": "121e9204-0fb0-4dd7-bc76-bf85ef2019a0",
   "metadata": {},
   "outputs": [],
   "source": [
    "# Transformation 4: Years/Months ago Sold\n",
    "\n",
    "# YrSold > YrsAgoSold\n",
    "df_train[\"YrSold\"] = 2010 - df_train[\"YrSold\"]\n",
    "df_train = df_train.rename(columns={\"YrSold\":\"YrsAgoSold\"})"
   ]
  },
  {
   "cell_type": "code",
   "execution_count": 17,
   "id": "4cb5c7e6-a4b8-42c6-969e-0847f6970da4",
   "metadata": {},
   "outputs": [
    {
     "data": {
      "text/plain": [
       "0       2\n",
       "1       3\n",
       "2       2\n",
       "3       4\n",
       "4       2\n",
       "       ..\n",
       "1455    3\n",
       "1456    0\n",
       "1457    0\n",
       "1458    0\n",
       "1459    2\n",
       "Name: YrsAgoSold, Length: 1460, dtype: int64"
      ]
     },
     "execution_count": 17,
     "metadata": {},
     "output_type": "execute_result"
    }
   ],
   "source": [
    "# Check\n",
    "df_train[\"YrsAgoSold\"]"
   ]
  },
  {
   "cell_type": "code",
   "execution_count": 18,
   "id": "18cceac0-f02b-494e-98f7-c9a10c377d47",
   "metadata": {},
   "outputs": [],
   "source": [
    "# Mix columns to include both Years and Months Ago Sold\n",
    "df_train[\"YrsMoAgoSold\"] = df_train[\"YrsAgoSold\"] + df_train[\"MoSold\"]"
   ]
  },
  {
   "cell_type": "code",
   "execution_count": 19,
   "id": "6a3f3866-3be7-481c-8305-83a07c1756bb",
   "metadata": {},
   "outputs": [
    {
     "data": {
      "text/plain": [
       "0       2.909091\n",
       "1       3.636364\n",
       "2       2.272727\n",
       "3       4.909091\n",
       "4       2.000000\n",
       "          ...   \n",
       "1455    3.363636\n",
       "1456    0.909091\n",
       "1457    0.636364\n",
       "1458    0.727273\n",
       "1459    2.545455\n",
       "Name: YrsMoAgoSold, Length: 1460, dtype: float64"
      ]
     },
     "execution_count": 19,
     "metadata": {},
     "output_type": "execute_result"
    }
   ],
   "source": [
    "# Check\n",
    "df_train[\"YrsMoAgoSold\"]"
   ]
  },
  {
   "cell_type": "code",
   "execution_count": 20,
   "id": "e2ee2bff-73e7-49ca-920e-e7c96e535700",
   "metadata": {},
   "outputs": [],
   "source": [
    "# Drop YrsAgoSold, but keep MoSold to account for seasonality in sale prices\n",
    "df_train = df_train.drop(\"YrsAgoSold\",axis=1)"
   ]
  },
  {
   "cell_type": "code",
   "execution_count": null,
   "id": "7753fb57-e31e-4447-bf70-72a7ce6f7c96",
   "metadata": {},
   "outputs": [],
   "source": []
  },
  {
   "cell_type": "code",
   "execution_count": null,
   "id": "18089d73-7ade-4a04-aad0-6f63d2329e3d",
   "metadata": {},
   "outputs": [],
   "source": [
    "# Changing columns from int > str\n",
    "df_test[\"MSSubClass\"]"
   ]
  },
  {
   "cell_type": "code",
   "execution_count": null,
   "id": "bb4b6a57-cb01-4508-8ad8-12102cf1a4e7",
   "metadata": {},
   "outputs": [],
   "source": [
    "# preprocessing for numeric columns\n",
    "imp_median = SimpleImputer(strategy=\"median\", add_indicator=True)\n",
    "scaler = StandardScaler()"
   ]
  },
  {
   "cell_type": "code",
   "execution_count": null,
   "id": "f9d81190-514c-4d64-8281-453083f1071e",
   "metadata": {},
   "outputs": [],
   "source": [
    "# preprocessing for categorical columns\n",
    "imp_constant = SimpleImputer(strategy=\"constant\")\n",
    "ohe = OneHotEncoder(handle_unknown=\"ignore\")"
   ]
  },
  {
   "cell_type": "code",
   "execution_count": null,
   "id": "e8938ec8-ed54-4dc5-b5c3-cba5b323041d",
   "metadata": {},
   "outputs": [],
   "source": [
    "# select columns by data type\n",
    "num_cols = make_column_selector(dtype_include=\"number\")\n",
    "cat_cols = make_column_selector(dtype_exclude=\"number\")"
   ]
  },
  {
   "cell_type": "code",
   "execution_count": null,
   "id": "b1c01621-b407-4567-a8ac-07ebf0abee66",
   "metadata": {},
   "outputs": [],
   "source": [
    "# all preprocessing\n",
    "preprocessor = make_column_transformer(\n",
    "    (make_pipeline(imp_median, scaler), num_cols),\n",
    "    (make_pipeline(imp_constant, ohe), cat_cols))"
   ]
  },
  {
   "cell_type": "code",
   "execution_count": null,
   "id": "e495449c-6a99-4d41-a658-b23916879ec7",
   "metadata": {},
   "outputs": [],
   "source": [
    "# create a pipeline\n",
    "pipe = make_pipeline(preprocessor, LogisticRegression())"
   ]
  },
  {
   "cell_type": "code",
   "execution_count": null,
   "id": "afd8d455-13bb-4b8c-a635-02243346a514",
   "metadata": {},
   "outputs": [],
   "source": [
    "# cross-validate the pipeline\n",
    "cross_val_score(pipe, X, y).mean()"
   ]
  },
  {
   "cell_type": "code",
   "execution_count": null,
   "id": "671e1bdd-6923-412b-8ad5-8898ad73cbf4",
   "metadata": {},
   "outputs": [],
   "source": [
    "# fit pipeline and make predictions\n",
    "pipe.fit(X,y)\n",
    "pipe.predict(X,new)"
   ]
  }
 ],
 "metadata": {
  "kernelspec": {
   "display_name": "Python 3 (ipykernel)",
   "language": "python",
   "name": "python3"
  },
  "language_info": {
   "codemirror_mode": {
    "name": "ipython",
    "version": 3
   },
   "file_extension": ".py",
   "mimetype": "text/x-python",
   "name": "python",
   "nbconvert_exporter": "python",
   "pygments_lexer": "ipython3",
   "version": "3.7.9"
  }
 },
 "nbformat": 4,
 "nbformat_minor": 5
}
