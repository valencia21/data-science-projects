{
 "cells": [
  {
   "cell_type": "code",
   "execution_count": 1,
   "id": "1a9b44ee-21e3-44e1-ab3b-4af5c351aca6",
   "metadata": {
    "tags": []
   },
   "outputs": [],
   "source": [
    "from sklearn.impute import SimpleImputer\n",
    "from sklearn.preprocessing import StandardScaler,OneHotEncoder,OrdinalEncoder\n",
    "from sklearn.compose import make_column_selector, make_column_transformer\n",
    "from sklearn.pipeline import make_pipeline\n",
    "from sklearn.model_selection import cross_val_score\n",
    "import pandas as pd\n",
    "import numpy as np\n",
    "import seaborn as sns\n",
    "import matplotlib.pyplot as plt\n",
    "\n",
    "# Read in data\n",
    "df_train_original = pd.read_csv(\"/workspaces/data-science-projects/house-price-prediction/train.csv\")\n",
    "df_test_original = pd.read_csv(\"/workspaces/data-science-projects/house-price-prediction/test.csv\")\n",
    "\n",
    "# Creating Duplicate Dataframe \n",
    "df_train_temp = df_train_original.copy()\n",
    "df_test = df_test_original.copy()\n",
    "\n",
    "# Creating a holdout dataset to be used in model blending\n",
    "df_train = df_train_temp.sample(frac=0.8, random_state=200)\n",
    "df_holdout = df_train_temp.drop(df_train.index)"
   ]
  },
  {
   "cell_type": "markdown",
   "id": "1cb5a079-20f5-4d36-8a8d-e7f9ab87b804",
   "metadata": {},
   "source": [
    "The objective of this project is simply to create predictive models using any library available in Python. I opted to use the [Kaggle House Prices Competition Dataset](https://www.kaggle.com/c/house-prices-advanced-regression-techniques) since the dataset is readily available, does not require too much cleaning/wrangling, and predictions can be evaluated on the competition leaderboard.\n",
    "\n",
    "The House Price Competition contains 2 datasets, Train and Test. The training dataset includes 1 dependent variable (SalesPrice), and 79 explanatory variables from which to predict SalesPrice. The Test dataset contains just the 79 explanatory variables. My task was to make the best predictions possible on houses in the Test dataset.\n",
    "\n",
    "This notebook demonstrates the following approach:\n",
    "\n",
    "- Data wrangling (Light exploration, followed by removing and transforming some variables)\n",
    "- Split the training dataset into training and validation datasets\n",
    "- Fit a model using a Scikit-Learn pipeline (Data Preprocessing + fitting XGBoost/LightGBM estimators with a Randomized Search across their respective hyperparameters)\n",
    "- Evaluate and visualize model performance\n",
    "- Implement an automated approach to selecting hyperparameters (HyperOpt)\n",
    "- Make predictions"
   ]
  },
  {
   "cell_type": "markdown",
   "id": "7e2ae0f2-6b50-415f-9d27-b1f47750937d",
   "metadata": {},
   "source": [
    "## Visualising the Dependent Variable (SalePrice)"
   ]
  },
  {
   "cell_type": "markdown",
   "id": "39fa469e-5f19-4068-bc4f-455ec79d1571",
   "metadata": {},
   "source": [
    "The SalePrice variable has quite a strong positive skew, but there are still a lot of houses that sold at least 2x above the mode."
   ]
  },
  {
   "cell_type": "code",
   "execution_count": 2,
   "id": "dcd2f6b7-48d0-4978-b27a-38630966fc76",
   "metadata": {},
   "outputs": [
    {
     "data": {
      "image/png": "[encoded data removed]",
      "text/plain": [
       "<Figure size 432x288 with 1 Axes>"
      ]
     },
     "metadata": {
      "needs_background": "light"
     },
     "output_type": "display_data"
    }
   ],
   "source": [
    "sns.histplot(data=df_train, x=\"SalePrice\")\n",
    "plt.show()"
   ]
  },
  {
   "cell_type": "markdown",
   "id": "7861bfd2-fd14-4d2b-9599-a41378760172",
   "metadata": {},
   "source": [
    "## Data Wrangling"
   ]
  },
  {
   "cell_type": "markdown",
   "id": "7f8feb79-d999-4929-b2ff-f48d1129093b",
   "metadata": {},
   "source": [
    "### Removing Id Column\n",
    "The Id column simply identifies the row in the dataset and has no predictive power."
   ]
  },
  {
   "cell_type": "code",
   "execution_count": 3,
   "id": "b8ccf287-ac8c-49ba-aa30-4a1e47a1433a",
   "metadata": {},
   "outputs": [],
   "source": [
    "# Drop the ID column\n",
    "df_train = df_train.drop(columns=\"Id\")"
   ]
  },
  {
   "cell_type": "markdown",
   "id": "76d4d0c2-50f1-4eaf-8b5c-97aa7cd4ce44",
   "metadata": {
    "tags": []
   },
   "source": [
    "### Checking Datatypes\n",
    "\n",
    "The \"MSSubClass\" category uses integers to specify types of dwelling, but these integers simply refer to categories.\n",
    "I will change the datatype of this column from int to str.\n",
    "\n",
    "Note: I wasn't sure how to deal with the \"MoSold\" category. The current datatype is int and values are between 1-12 for each month. Changing this to a category may miss some seasonality, since, for example, categories 3 & 4 (March and April) would be treated completely separately in the model."
   ]
  },
  {
   "cell_type": "code",
   "execution_count": 4,
   "id": "844dc1de-c669-4e58-b3c2-b397cbddd774",
   "metadata": {},
   "outputs": [],
   "source": [
    "# Transformation 1: int > str\n",
    "df_train[\"MSSubClass\"] = df_train[\"MSSubClass\"].astype(\"str\")\n",
    "\n",
    "# Apply same to df_test\n",
    "df_test[\"MSSubClass\"] = df_test[\"MSSubClass\"].astype(\"str\")"
   ]
  },
  {
   "cell_type": "markdown",
   "id": "17a6f9d0-2ab3-4935-a0d3-126475f2b32e",
   "metadata": {},
   "source": [
    "### Checking missing values\n",
    "\n",
    "There are a few variables with many missing values. However, I will include these variables since I'll be using decision tree algorithms, which are robust against missing values. \n",
    "(Side note: I tried removing all variables with over 30% missing values, but the accuracy of predictions deteriorated)"
   ]
  },
  {
   "cell_type": "code",
   "execution_count": 5,
   "id": "69569563-9f4c-49dc-8d0b-de240b6d1bad",
   "metadata": {},
   "outputs": [
    {
     "data": {
      "text/plain": [
       "PoolQC          1164\n",
       "MiscFeature     1124\n",
       "Alley           1095\n",
       "Fence            936\n",
       "FireplaceQu      567\n",
       "LotFrontage      212\n",
       "GarageYrBlt       67\n",
       "GarageCond        67\n",
       "GarageType        67\n",
       "GarageFinish      67\n",
       "dtype: int64"
      ]
     },
     "execution_count": 5,
     "metadata": {},
     "output_type": "execute_result"
    }
   ],
   "source": [
    "df_train.isna().sum().sort_values(ascending=False).head(10)"
   ]
  },
  {
   "cell_type": "markdown",
   "id": "c3d4fc5c-5504-410e-b7d7-65ad431fb4e2",
   "metadata": {},
   "source": [
    "### Checking Variable Skewness\n",
    "\n",
    "#### Log Transform\n",
    "\n",
    "In Machine Learning algorithms, the distribution of a variable can have a large effect on its usefulness in making predictions. For heavily skewed variables (as in the image below), potentially important information can be lost in lower value ranges, since higher values stretch the scale and cause lower values to be banded closely together. In this case, a log transform opens up the space between values by readjusting the scale, making it easier for an algorithm to learn how small differences in independent variables affect the dependent variable.\n",
    "\n",
    "<img src=\"./log_transform.png\" width=\"400\">"
   ]
  },
  {
   "cell_type": "markdown",
   "id": "25e70039-6d8e-4c3b-a075-d466c85b82cb",
   "metadata": {},
   "source": [
    "Thus, it is common to log transform variables with high skewness to produce more predictive models. The following is the top 10 variables by skewness, according to the skew method in Pandas (which in turn implements [Scipy's skew](https://docs.scipy.org/doc/scipy/reference/generated/scipy.stats.skew.html) method with bias set to False)"
   ]
  },
  {
   "cell_type": "code",
   "execution_count": 6,
   "id": "cc138a11-f7af-453b-afe4-16993fb5f5f5",
   "metadata": {
    "tags": []
   },
   "outputs": [
    {
     "data": {
      "text/plain": [
       "MiscVal          22.425143\n",
       "PoolArea         17.137136\n",
       "LotArea          12.920239\n",
       "3SsnPorch         9.385945\n",
       "LowQualFinSF      9.038897\n",
       "KitchenAbvGr      4.462132\n",
       "BsmtFinSF2        4.359013\n",
       "BsmtHalfBath      4.264403\n",
       "ScreenPorch       4.245624\n",
       "EnclosedPorch     3.098296\n",
       "dtype: float64"
      ]
     },
     "execution_count": 6,
     "metadata": {},
     "output_type": "execute_result"
    }
   ],
   "source": [
    "# List variables with highest \"skew\"\n",
    "df_train.select_dtypes(include=[\"int64\",\"float64\"]).skew().sort_values(ascending=False).head(10)"
   ]
  },
  {
   "cell_type": "markdown",
   "id": "0fb0d2de-c4eb-450e-99fc-b492d1afd23d",
   "metadata": {},
   "source": [
    "#### Considering the Removal/Transformation of Highly-Skewed Variables\n",
    "\n",
    "The skewness of the \"MiscVal\", \"LowQualFinSF\", \"3SsnPorch\" and \"PoolArea\" variables is a result of the vast majority of values being 0, with a few that are not. The existence of  a non-zero value for one of these variables could end up being fairly predictive; for example, the PoolArea variable will only be non-zero for a house with a pool, and a pool is likely to add to the value of a property. Nevertheless, I removed these variables to see if predictions would improve, but they predictably become less accurate.\n",
    "\n",
    "The distribution of the \"LotArea\" variable was highly skewed not because most values are zero, but more likely due to the fact that the area of a house lot follows a long-tail distribution - most houses have a small lot, but a larger mansion will have a correspondingly large lot area. This information seems predictive, so I will log transform the variable to help the machine learning algorithm make better predictions even with small differences in LotArea at the lower end of the range of values.\n",
    "\n",
    "Shown in the first image of this post, the dependent variable \"SalePrice\" is also highly skewed. I will also log transform this variable.\n",
    "\n",
    "The visualizations below show the distribution of values for the top 5 variables by skewness. "
   ]
  },
  {
   "cell_type": "code",
   "execution_count": 7,
   "id": "5446a1f4-e35c-4d2a-8e4b-39b3c91f20a5",
   "metadata": {},
   "outputs": [
    {
     "data": {
      "image/png": "[encoded data removed]",
      "text/plain": [
       "<Figure size 504x504 with 5 Axes>"
      ]
     },
     "metadata": {
      "needs_background": "light"
     },
     "output_type": "display_data"
    }
   ],
   "source": [
    "fig = plt.figure(figsize=(7,7))\n",
    "fig.subplots_adjust(hspace=0.4, wspace=0.4)\n",
    "ax = fig.add_subplot(2, 3, 1)\n",
    "sns.histplot(data=df_train, x=\"MiscVal\", ax=ax)\n",
    "ax = fig.add_subplot(2, 3, 2)\n",
    "sns.histplot(data=df_train, x=\"LotArea\", ax=ax)\n",
    "ax = fig.add_subplot(2, 3, 3)\n",
    "sns.histplot(data=df_train, x=\"LowQualFinSF\", ax=ax)\n",
    "ax = fig.add_subplot(2, 3, 4)\n",
    "sns.histplot(data=df_train, x=\"3SsnPorch\", ax=ax)\n",
    "ax = fig.add_subplot(2, 3, 5)\n",
    "sns.histplot(data=df_train, x=\"PoolArea\", ax=ax)\n",
    "\n",
    "plt.show()"
   ]
  },
  {
   "cell_type": "markdown",
   "id": "34b056bb-6ea8-4728-a9f4-fe6801910660",
   "metadata": {},
   "source": [
    "**Side note:** Since this is the first time I've log transformed skewed variables during data wrangling, and later in the process I will standardize all numerical variables to have 0 mean and unit variance with StandardScaler(), I gave some thought to ensuring the two processes don't interfere with each other.\n",
    "\n",
    "Standard scaling is just a linear transform, and the shape of the distribution won't change as a result. A log transform changes the shape of the distribution, in this case reducing skew, and also changes the mean and variance. The resulting distributions are shown below."
   ]
  },
  {
   "cell_type": "code",
   "execution_count": 8,
   "id": "babcf489-6751-4c87-8b95-9b595db1eb07",
   "metadata": {},
   "outputs": [
    {
     "data": {
      "image/png": "[encoded data removed]",
      "text/plain": [
       "<Figure size 504x504 with 2 Axes>"
      ]
     },
     "metadata": {
      "needs_background": "light"
     },
     "output_type": "display_data"
    }
   ],
   "source": [
    "# Setup StandardScaler and LotArea variable\n",
    "scaler = StandardScaler()\n",
    "t = np.asarray(df_train['LotArea'])\n",
    "t = t.reshape(-1,1)\n",
    "d = {\"LotArea_StandardScaled\": scaler.fit_transform(t).flatten(), \"LotArea_LogTransformed_StandardScaled\": scaler.fit_transform(np.log(t)).flatten()}\n",
    "\n",
    "# Create a temporary dataframe to compare distributions\n",
    "df_scaling = pd.DataFrame(data=d)\n",
    "\n",
    "# Visualize\n",
    "fig = plt.figure(figsize=(7,7))\n",
    "fig.subplots_adjust(hspace=0.4, wspace=0.4)\n",
    "ax = fig.add_subplot(2, 1, 1)\n",
    "sns.histplot(data=df_scaling, x=\"LotArea_StandardScaled\", ax=ax)\n",
    "ax = fig.add_subplot(2, 1, 2)\n",
    "sns.histplot(data=df_scaling, x=\"LotArea_LogTransformed_StandardScaled\", ax=ax)\n",
    "\n",
    "plt.show()"
   ]
  },
  {
   "cell_type": "markdown",
   "id": "7502b054-efcb-48fb-8338-6b4c79dc9cd5",
   "metadata": {},
   "source": [
    "Applying a log transform followed by standardization appears to be a common technique in machine learning to create more predictive models, and the visualizations above show that I am not transforming the variable in weird and unexpected ways."
   ]
  },
  {
   "cell_type": "code",
   "execution_count": 9,
   "id": "e5a464f6",
   "metadata": {},
   "outputs": [
    {
     "data": {
      "text/html": [
       "<div>\n",
       "<style scoped>\n",
       "    .dataframe tbody tr th:only-of-type {\n",
       "        vertical-align: middle;\n",
       "    }\n",
       "\n",
       "    .dataframe tbody tr th {\n",
       "        vertical-align: top;\n",
       "    }\n",
       "\n",
       "    .dataframe thead th {\n",
       "        text-align: right;\n",
       "    }\n",
       "</style>\n",
       "<table border=\"1\" class=\"dataframe\">\n",
       "  <thead>\n",
       "    <tr style=\"text-align: right;\">\n",
       "      <th></th>\n",
       "      <th>MSSubClass</th>\n",
       "      <th>MSZoning</th>\n",
       "      <th>LotFrontage</th>\n",
       "      <th>LotArea</th>\n",
       "      <th>Street</th>\n",
       "      <th>Alley</th>\n",
       "      <th>LotShape</th>\n",
       "      <th>LandContour</th>\n",
       "      <th>Utilities</th>\n",
       "      <th>LotConfig</th>\n",
       "      <th>...</th>\n",
       "      <th>PoolArea</th>\n",
       "      <th>PoolQC</th>\n",
       "      <th>Fence</th>\n",
       "      <th>MiscFeature</th>\n",
       "      <th>MiscVal</th>\n",
       "      <th>MoSold</th>\n",
       "      <th>YrSold</th>\n",
       "      <th>SaleType</th>\n",
       "      <th>SaleCondition</th>\n",
       "      <th>SalePrice</th>\n",
       "    </tr>\n",
       "  </thead>\n",
       "  <tbody>\n",
       "    <tr>\n",
       "      <th>863</th>\n",
       "      <td>20</td>\n",
       "      <td>RL</td>\n",
       "      <td>70.0</td>\n",
       "      <td>7931</td>\n",
       "      <td>Pave</td>\n",
       "      <td>NaN</td>\n",
       "      <td>Reg</td>\n",
       "      <td>Lvl</td>\n",
       "      <td>AllPub</td>\n",
       "      <td>Inside</td>\n",
       "      <td>...</td>\n",
       "      <td>0</td>\n",
       "      <td>NaN</td>\n",
       "      <td>GdPrv</td>\n",
       "      <td>NaN</td>\n",
       "      <td>0</td>\n",
       "      <td>7</td>\n",
       "      <td>2009</td>\n",
       "      <td>WD</td>\n",
       "      <td>Normal</td>\n",
       "      <td>132500</td>\n",
       "    </tr>\n",
       "    <tr>\n",
       "      <th>874</th>\n",
       "      <td>50</td>\n",
       "      <td>RM</td>\n",
       "      <td>52.0</td>\n",
       "      <td>5720</td>\n",
       "      <td>Pave</td>\n",
       "      <td>NaN</td>\n",
       "      <td>Reg</td>\n",
       "      <td>Lvl</td>\n",
       "      <td>AllPub</td>\n",
       "      <td>Inside</td>\n",
       "      <td>...</td>\n",
       "      <td>0</td>\n",
       "      <td>NaN</td>\n",
       "      <td>NaN</td>\n",
       "      <td>NaN</td>\n",
       "      <td>0</td>\n",
       "      <td>8</td>\n",
       "      <td>2009</td>\n",
       "      <td>WD</td>\n",
       "      <td>Abnorml</td>\n",
       "      <td>66500</td>\n",
       "    </tr>\n",
       "    <tr>\n",
       "      <th>1448</th>\n",
       "      <td>50</td>\n",
       "      <td>RL</td>\n",
       "      <td>70.0</td>\n",
       "      <td>11767</td>\n",
       "      <td>Pave</td>\n",
       "      <td>NaN</td>\n",
       "      <td>Reg</td>\n",
       "      <td>Lvl</td>\n",
       "      <td>AllPub</td>\n",
       "      <td>Inside</td>\n",
       "      <td>...</td>\n",
       "      <td>0</td>\n",
       "      <td>NaN</td>\n",
       "      <td>GdWo</td>\n",
       "      <td>NaN</td>\n",
       "      <td>0</td>\n",
       "      <td>5</td>\n",
       "      <td>2007</td>\n",
       "      <td>WD</td>\n",
       "      <td>Normal</td>\n",
       "      <td>112000</td>\n",
       "    </tr>\n",
       "    <tr>\n",
       "      <th>1425</th>\n",
       "      <td>20</td>\n",
       "      <td>RL</td>\n",
       "      <td>80.0</td>\n",
       "      <td>10721</td>\n",
       "      <td>Pave</td>\n",
       "      <td>NaN</td>\n",
       "      <td>IR1</td>\n",
       "      <td>Lvl</td>\n",
       "      <td>AllPub</td>\n",
       "      <td>Inside</td>\n",
       "      <td>...</td>\n",
       "      <td>0</td>\n",
       "      <td>NaN</td>\n",
       "      <td>NaN</td>\n",
       "      <td>NaN</td>\n",
       "      <td>0</td>\n",
       "      <td>10</td>\n",
       "      <td>2008</td>\n",
       "      <td>WD</td>\n",
       "      <td>Normal</td>\n",
       "      <td>142000</td>\n",
       "    </tr>\n",
       "    <tr>\n",
       "      <th>991</th>\n",
       "      <td>70</td>\n",
       "      <td>RM</td>\n",
       "      <td>121.0</td>\n",
       "      <td>17671</td>\n",
       "      <td>Pave</td>\n",
       "      <td>Grvl</td>\n",
       "      <td>Reg</td>\n",
       "      <td>Lvl</td>\n",
       "      <td>AllPub</td>\n",
       "      <td>Corner</td>\n",
       "      <td>...</td>\n",
       "      <td>0</td>\n",
       "      <td>NaN</td>\n",
       "      <td>NaN</td>\n",
       "      <td>NaN</td>\n",
       "      <td>0</td>\n",
       "      <td>11</td>\n",
       "      <td>2009</td>\n",
       "      <td>WD</td>\n",
       "      <td>Normal</td>\n",
       "      <td>168000</td>\n",
       "    </tr>\n",
       "    <tr>\n",
       "      <th>...</th>\n",
       "      <td>...</td>\n",
       "      <td>...</td>\n",
       "      <td>...</td>\n",
       "      <td>...</td>\n",
       "      <td>...</td>\n",
       "      <td>...</td>\n",
       "      <td>...</td>\n",
       "      <td>...</td>\n",
       "      <td>...</td>\n",
       "      <td>...</td>\n",
       "      <td>...</td>\n",
       "      <td>...</td>\n",
       "      <td>...</td>\n",
       "      <td>...</td>\n",
       "      <td>...</td>\n",
       "      <td>...</td>\n",
       "      <td>...</td>\n",
       "      <td>...</td>\n",
       "      <td>...</td>\n",
       "      <td>...</td>\n",
       "      <td>...</td>\n",
       "    </tr>\n",
       "    <tr>\n",
       "      <th>995</th>\n",
       "      <td>50</td>\n",
       "      <td>RL</td>\n",
       "      <td>51.0</td>\n",
       "      <td>4712</td>\n",
       "      <td>Pave</td>\n",
       "      <td>NaN</td>\n",
       "      <td>IR1</td>\n",
       "      <td>Lvl</td>\n",
       "      <td>AllPub</td>\n",
       "      <td>Inside</td>\n",
       "      <td>...</td>\n",
       "      <td>0</td>\n",
       "      <td>NaN</td>\n",
       "      <td>MnPrv</td>\n",
       "      <td>NaN</td>\n",
       "      <td>0</td>\n",
       "      <td>8</td>\n",
       "      <td>2006</td>\n",
       "      <td>WD</td>\n",
       "      <td>Abnorml</td>\n",
       "      <td>121600</td>\n",
       "    </tr>\n",
       "    <tr>\n",
       "      <th>574</th>\n",
       "      <td>80</td>\n",
       "      <td>RL</td>\n",
       "      <td>70.0</td>\n",
       "      <td>10500</td>\n",
       "      <td>Pave</td>\n",
       "      <td>NaN</td>\n",
       "      <td>Reg</td>\n",
       "      <td>Lvl</td>\n",
       "      <td>AllPub</td>\n",
       "      <td>FR2</td>\n",
       "      <td>...</td>\n",
       "      <td>0</td>\n",
       "      <td>NaN</td>\n",
       "      <td>GdWo</td>\n",
       "      <td>NaN</td>\n",
       "      <td>0</td>\n",
       "      <td>12</td>\n",
       "      <td>2007</td>\n",
       "      <td>WD</td>\n",
       "      <td>Normal</td>\n",
       "      <td>139000</td>\n",
       "    </tr>\n",
       "    <tr>\n",
       "      <th>1286</th>\n",
       "      <td>20</td>\n",
       "      <td>RL</td>\n",
       "      <td>NaN</td>\n",
       "      <td>9790</td>\n",
       "      <td>Pave</td>\n",
       "      <td>NaN</td>\n",
       "      <td>Reg</td>\n",
       "      <td>Lvl</td>\n",
       "      <td>AllPub</td>\n",
       "      <td>Inside</td>\n",
       "      <td>...</td>\n",
       "      <td>0</td>\n",
       "      <td>NaN</td>\n",
       "      <td>NaN</td>\n",
       "      <td>NaN</td>\n",
       "      <td>0</td>\n",
       "      <td>6</td>\n",
       "      <td>2010</td>\n",
       "      <td>WD</td>\n",
       "      <td>Normal</td>\n",
       "      <td>143000</td>\n",
       "    </tr>\n",
       "    <tr>\n",
       "      <th>948</th>\n",
       "      <td>60</td>\n",
       "      <td>RL</td>\n",
       "      <td>65.0</td>\n",
       "      <td>14006</td>\n",
       "      <td>Pave</td>\n",
       "      <td>NaN</td>\n",
       "      <td>IR1</td>\n",
       "      <td>Lvl</td>\n",
       "      <td>AllPub</td>\n",
       "      <td>Inside</td>\n",
       "      <td>...</td>\n",
       "      <td>0</td>\n",
       "      <td>NaN</td>\n",
       "      <td>NaN</td>\n",
       "      <td>NaN</td>\n",
       "      <td>0</td>\n",
       "      <td>2</td>\n",
       "      <td>2006</td>\n",
       "      <td>WD</td>\n",
       "      <td>Normal</td>\n",
       "      <td>192500</td>\n",
       "    </tr>\n",
       "    <tr>\n",
       "      <th>55</th>\n",
       "      <td>20</td>\n",
       "      <td>RL</td>\n",
       "      <td>100.0</td>\n",
       "      <td>10175</td>\n",
       "      <td>Pave</td>\n",
       "      <td>NaN</td>\n",
       "      <td>IR1</td>\n",
       "      <td>Lvl</td>\n",
       "      <td>AllPub</td>\n",
       "      <td>Inside</td>\n",
       "      <td>...</td>\n",
       "      <td>0</td>\n",
       "      <td>NaN</td>\n",
       "      <td>NaN</td>\n",
       "      <td>NaN</td>\n",
       "      <td>0</td>\n",
       "      <td>7</td>\n",
       "      <td>2008</td>\n",
       "      <td>WD</td>\n",
       "      <td>Normal</td>\n",
       "      <td>180500</td>\n",
       "    </tr>\n",
       "  </tbody>\n",
       "</table>\n",
       "<p>1168 rows × 80 columns</p>\n",
       "</div>"
      ],
      "text/plain": [
       "     MSSubClass MSZoning  LotFrontage  LotArea Street Alley LotShape  \\\n",
       "863          20       RL         70.0     7931   Pave   NaN      Reg   \n",
       "874          50       RM         52.0     5720   Pave   NaN      Reg   \n",
       "1448         50       RL         70.0    11767   Pave   NaN      Reg   \n",
       "1425         20       RL         80.0    10721   Pave   NaN      IR1   \n",
       "991          70       RM        121.0    17671   Pave  Grvl      Reg   \n",
       "...         ...      ...          ...      ...    ...   ...      ...   \n",
       "995          50       RL         51.0     4712   Pave   NaN      IR1   \n",
       "574          80       RL         70.0    10500   Pave   NaN      Reg   \n",
       "1286         20       RL          NaN     9790   Pave   NaN      Reg   \n",
       "948          60       RL         65.0    14006   Pave   NaN      IR1   \n",
       "55           20       RL        100.0    10175   Pave   NaN      IR1   \n",
       "\n",
       "     LandContour Utilities LotConfig  ... PoolArea PoolQC  Fence MiscFeature  \\\n",
       "863          Lvl    AllPub    Inside  ...        0    NaN  GdPrv         NaN   \n",
       "874          Lvl    AllPub    Inside  ...        0    NaN    NaN         NaN   \n",
       "1448         Lvl    AllPub    Inside  ...        0    NaN   GdWo         NaN   \n",
       "1425         Lvl    AllPub    Inside  ...        0    NaN    NaN         NaN   \n",
       "991          Lvl    AllPub    Corner  ...        0    NaN    NaN         NaN   \n",
       "...          ...       ...       ...  ...      ...    ...    ...         ...   \n",
       "995          Lvl    AllPub    Inside  ...        0    NaN  MnPrv         NaN   \n",
       "574          Lvl    AllPub       FR2  ...        0    NaN   GdWo         NaN   \n",
       "1286         Lvl    AllPub    Inside  ...        0    NaN    NaN         NaN   \n",
       "948          Lvl    AllPub    Inside  ...        0    NaN    NaN         NaN   \n",
       "55           Lvl    AllPub    Inside  ...        0    NaN    NaN         NaN   \n",
       "\n",
       "     MiscVal MoSold  YrSold  SaleType  SaleCondition  SalePrice  \n",
       "863        0      7    2009        WD         Normal     132500  \n",
       "874        0      8    2009        WD        Abnorml      66500  \n",
       "1448       0      5    2007        WD         Normal     112000  \n",
       "1425       0     10    2008        WD         Normal     142000  \n",
       "991        0     11    2009        WD         Normal     168000  \n",
       "...      ...    ...     ...       ...            ...        ...  \n",
       "995        0      8    2006        WD        Abnorml     121600  \n",
       "574        0     12    2007        WD         Normal     139000  \n",
       "1286       0      6    2010        WD         Normal     143000  \n",
       "948        0      2    2006        WD         Normal     192500  \n",
       "55         0      7    2008        WD         Normal     180500  \n",
       "\n",
       "[1168 rows x 80 columns]"
      ]
     },
     "execution_count": 9,
     "metadata": {},
     "output_type": "execute_result"
    }
   ],
   "source": [
    "df_train"
   ]
  },
  {
   "cell_type": "code",
   "execution_count": 10,
   "id": "0d3f11f6-c9f4-47ea-a150-c81bc2eeff60",
   "metadata": {},
   "outputs": [],
   "source": [
    "# Log transform the LotArea variable\n",
    "df_train['LotArea'] = np.log(df_train['LotArea'])\n",
    "df_holdout['LotArea'] = np.log(df_holdout['LotArea'])\n",
    "df_test['LotArea'] = np.log(df_test['LotArea'])\n",
    "\n",
    "# Log transform the SalePrice variable\n",
    "df_train['SalePrice'] = np.log(df_train['SalePrice'])\n",
    "df_holdout['SalePrice'] = np.log(df_holdout['SalePrice'])"
   ]
  },
  {
   "cell_type": "markdown",
   "id": "dc5e7a91-3e3d-4a1c-afb9-992e12317fa2",
   "metadata": {},
   "source": [
    "### Removing Variables with High Multicollinearity\n",
    "Keeping sets of variables that correlate strongly with each other can contribute to overfitting, so I will discover and remove these.\n",
    "Below is a correlation matrix of all numerical variables."
   ]
  },
  {
   "cell_type": "code",
   "execution_count": 11,
   "id": "ec27093a-f321-435c-bb61-8bbdafc0ba4a",
   "metadata": {},
   "outputs": [
    {
     "data": {
      "image/png": "[encoded data removed]",
      "text/plain": [
       "<Figure size 576x360 with 2 Axes>"
      ]
     },
     "metadata": {
      "needs_background": "light"
     },
     "output_type": "display_data"
    }
   ],
   "source": [
    "corrmat = df_train.corr()\n",
    "f, ax = plt.subplots(figsize=(8, 5))\n",
    "sns.heatmap(corrmat, vmax=.8, square=True);"
   ]
  },
  {
   "cell_type": "markdown",
   "id": "fc7b544c-67af-427a-8e30-fb83e3101ed1",
   "metadata": {},
   "source": [
    "The list below is a summary of all variable pairs with a correlation coefficient above 0.7 or below -0.7. I will keep variables that are highly correlated with SalePrice since they will be useful in prediction. The following variables are highly correlated only with each other, so they can be removed: GarageYrBlt, TotalBsmtSF, TotRmsAbvGrd, GarageCars."
   ]
  },
  {
   "cell_type": "code",
   "execution_count": 12,
   "id": "939d1831-3e65-4956-826a-91438d9d5db0",
   "metadata": {},
   "outputs": [
    {
     "data": {
      "text/plain": [
       "OverallQual   SalePrice       0.816949\n",
       "YearBuilt     GarageYrBlt     0.824625\n",
       "TotalBsmtSF   1stFlrSF        0.841139\n",
       "1stFlrSF      TotalBsmtSF     0.841139\n",
       "GrLivArea     TotRmsAbvGrd    0.826153\n",
       "TotRmsAbvGrd  GrLivArea       0.826153\n",
       "GarageYrBlt   YearBuilt       0.824625\n",
       "GarageCars    GarageArea      0.878865\n",
       "GarageArea    GarageCars      0.878865\n",
       "SalePrice     OverallQual     0.816949\n",
       "dtype: float64"
      ]
     },
     "execution_count": 12,
     "metadata": {},
     "output_type": "execute_result"
    }
   ],
   "source": [
    "# Remove one variable in variable pairs where the correlation coefficient is above 0.7\n",
    "threshold = 0.7\n",
    "mask = corrmat.abs() > threshold\n",
    "mask_2 = corrmat.abs() < 1\n",
    "corrmat.where(mask & mask_2).stack()"
   ]
  },
  {
   "cell_type": "code",
   "execution_count": 13,
   "id": "6dcd8b83-8b7e-4532-860f-13d36dc0e4b7",
   "metadata": {},
   "outputs": [],
   "source": [
    "# Remove variables with high collinearity\n",
    "df_train = df_train.drop(columns=['GarageYrBlt', 'TotalBsmtSF', 'TotRmsAbvGrd', 'GarageCars'])"
   ]
  },
  {
   "cell_type": "markdown",
   "id": "3d4fe1b4-2237-4362-b7d3-544334cee3cc",
   "metadata": {},
   "source": [
    "## Data Preprocessing\n",
    "After going through a more manual process of preparing data, there are still a few steps to take across all numerical and categorical variables.\n",
    "\n",
    "### Numerical values\n",
    "- Impute missing values using the median value of the column.\n",
    "- Standardize the scale of each variable by removing the mean and scaling to unit variance (variance = 1)."
   ]
  },
  {
   "cell_type": "code",
   "execution_count": 14,
   "id": "bb4b6a57-cb01-4508-8ad8-12102cf1a4e7",
   "metadata": {},
   "outputs": [],
   "source": [
    "# preprocessing for numeric columns\n",
    "imp_median = SimpleImputer(strategy=\"median\", add_indicator=True)\n",
    "scaler = StandardScaler()"
   ]
  },
  {
   "cell_type": "markdown",
   "id": "946d69a6-334a-464c-b3e8-420f28d0ee48",
   "metadata": {},
   "source": [
    "### Categorical variables\n",
    "- Impute a \"missing_value\" string where values are missing.\n",
    "- One hot encode all categorical variables."
   ]
  },
  {
   "cell_type": "code",
   "execution_count": 15,
   "id": "f9d81190-514c-4d64-8281-453083f1071e",
   "metadata": {},
   "outputs": [],
   "source": [
    "# preprocessing for categorical columns\n",
    "imp_constant = SimpleImputer(strategy=\"constant\")\n",
    "ohe = OneHotEncoder(handle_unknown=\"ignore\")"
   ]
  },
  {
   "cell_type": "markdown",
   "id": "604266c6-c110-4f00-bf99-e32eb837051f",
   "metadata": {},
   "source": [
    "### Create pipeline and split data\n",
    "Applying data transforms and then fitting a model is commonly acheived using a scikit-learn pipeline. In this case, I'll use it to separate numerical and categorical variables, apply the relevant transformations to each, then fit a Random Forest Regression estimator using default values for hyperparameters.\n",
    "\n",
    "Scikit-learn also offers a method to split the training dataset into training and validation datasets, which I will implement at a ratio of 8:2."
   ]
  },
  {
   "cell_type": "code",
   "execution_count": 16,
   "id": "e8938ec8-ed54-4dc5-b5c3-cba5b323041d",
   "metadata": {},
   "outputs": [],
   "source": [
    "from sklearn.pipeline import Pipeline\n",
    "from sklearn.ensemble import RandomForestRegressor\n",
    "\n",
    "# select columns by data type\n",
    "num_cols = make_column_selector(dtype_include=\"number\")\n",
    "cat_cols = make_column_selector(dtype_exclude=\"number\")\n",
    "\n",
    "# all preprocessing\n",
    "preprocessor = make_column_transformer(\n",
    "    (make_pipeline(imp_median, scaler), num_cols),\n",
    "    (make_pipeline(imp_constant, ohe), cat_cols))\n",
    "\n",
    "pipe = Pipeline([('preprocessing', preprocessor), ('clf', RandomForestRegressor())])\n",
    "\n",
    "# Define X (independent variables) and y (dependent variable)\n",
    "X = df_train.drop(columns=\"SalePrice\")\n",
    "y = df_train[\"SalePrice\"]\n",
    "\n",
    "from sklearn.model_selection import train_test_split\n",
    "X_train, X_valid, y_train, y_valid = train_test_split(X,y, test_size=0.2)"
   ]
  },
  {
   "cell_type": "markdown",
   "id": "38bcf2cb-2ed7-47b1-b280-55feb1291e48",
   "metadata": {},
   "source": [
    "## Setting a baseline before optimization"
   ]
  },
  {
   "cell_type": "markdown",
   "id": "a2849ede-4369-4a23-b20c-4fec952857e5",
   "metadata": {},
   "source": [
    "Before going ahead with any feature engineering or hyperparameter optimization, I'll first establish a baseline that I expect to beat."
   ]
  },
  {
   "cell_type": "code",
   "execution_count": 17,
   "id": "9476f30d-5599-4b52-b094-3be20694bf3c",
   "metadata": {},
   "outputs": [
    {
     "name": "stdout",
     "output_type": "stream",
     "text": [
      "Training set score: 0.9810238160343464\n",
      "Validation set score: 0.869093724879185\n"
     ]
    }
   ],
   "source": [
    "pipe.fit(X_train, y_train)\n",
    "print('Training set score: ' + str(pipe.score(X_train,y_train)))\n",
    "print('Validation set score: ' + str(pipe.score(X_valid,y_valid)))"
   ]
  },
  {
   "cell_type": "markdown",
   "id": "c97a16be-8138-4ef5-9a99-b363432502b7",
   "metadata": {},
   "source": [
    "## Search Hyperparameters using RandomizedSearchCV\n",
    "\n",
    "Next, I will create two models using XGBoost, and LightGBM.\n",
    "\n",
    "Both of these algorithms make use of decision trees. Decision Trees split data by asking questions about each column of independent variables, then judging how predictive each split of values in each column ends up being on the column being predicted. The [StatQuest video on Decision Trees](https://www.youtube.com/watch?v=_L39rN6gz7Y) is a great introduction.\n",
    "\n",
    "**Random Forest** - Theoretically, a single decision tree could be created that makes exact predictions on the training set by finely splitting each independent variable until it perfectly predicts the dependent variable. Since small changes to the indepedent variables would result in completely different decision trees, a single decision tree would be unlikely to generalize well to new data. This is known as overfitting, and the model itself it said to have high variance. The Random Forest algorithm builds multiple decision trees, and merges them together to get a more accurate and stable prediction. Merging the predictions of many trees lowers the variance of the model and makes the resulting ensemble model more generalizable, a process known as \"Bagging\".\n",
    "\n",
    "A line of best fit with high variance, clearly overfit to the training data, is shown below.\n",
    "\n",
    "<img src=\"./random_forest_high_variance.png\" width=\"400\">\n",
    "\n",
    "Source: Wade, Corey. Hands-On Gradient Boosting with XGBoost and scikit-learn: Perform accessible machine learning and extreme gradient boosting with Python (p.84).\n",
    "\n",
    "**XGBoost** - While a model with high variance will not generalize well, a model that just cuts a straight line will simply not make good predictions. Such a model is said to have high bias, as shown below.\n",
    "\n",
    "<img src=\"./high_bias.png\" width=\"400\">\n",
    "\n",
    "Source: Wade, Corey. Hands-On Gradient Boosting with XGBoost and scikit-learn: Perform accessible machine learning and extreme gradient boosting with Python (p.83).\n",
    "\n",
    "While bagging reduces variance by combining the predictions of multiple decision trees, boosting uses the error from these trees to inform models with new trees. XGBoost specifically uses gradient boosting, in which the residuals of the predictions of each tree are summed, and this sum is used to score the model. Iterating through this process converges on a model with lower loss, to the extent that these models are more predictive and have lower bias.\n",
    "\n",
    "Since the resulting predictions will be greatly influenced by the number of trees (estimators) created and how much each new tree learns from previously constructed trees, the n_estimators and learning rate hyperparameters are perhaps the two most important hyperparameters to tune when using XGBoost.\n",
    "\n",
    "**LightGBM** - Similiar to XGBoost, LightGBM also uses a combination of bagging and boosting to combine multiple tree estimators. The fundamental difference between the two is that XGBoost expands trees *level-wise*, while LightGBM expands trees *leaf-wise*. In the following images, black nodes represent inexpandable leaves, while green nodes represent leaves that can be be further split to grow the tree.\n",
    "\n",
    "<img src=\"./level-wise.png\" width=\"400\">\n",
    "\n",
    "<img src=\"./leaf-wise.png\" width=\"400\">\n",
    "\n",
    "Source: [XGBoost vs LightGBM: How Are They Different](https://neptune.ai/blog/xgboost-vs-lightgbm)\n",
    "\n",
    "Since XGBoost builds decision trees level-by-level, and each level includes more than one column, there is less chance of overfitting by splitting the training data down to specific values in specific columns relative to LightGBM. However, by growing *leaf-wise*, LightGBM can very quickly generate highly accurate models. To control for overfitting, both the XGBoost and LightGBM algorithms have a \"max_depth\" hyperparameter, which refers to the upper bound of layers in a single decision tree estimator. The LightGBM algorithm typically requires a lower max_depth than XGBoost."
   ]
  },
  {
   "cell_type": "code",
   "execution_count": 18,
   "id": "ad2a8b15-b454-46d7-a243-b3dd51f71c6b",
   "metadata": {},
   "outputs": [
    {
     "name": "stderr",
     "output_type": "stream",
     "text": [
      "/usr/local/lib/python3.8/dist-packages/xgboost/compat.py:36: FutureWarning: pandas.Int64Index is deprecated and will be removed from pandas in a future version. Use pandas.Index with the appropriate dtype instead.\n",
      "  from pandas import MultiIndex, Int64Index\n"
     ]
    },
    {
     "name": "stdout",
     "output_type": "stream",
     "text": [
      "Training set score: 0.9999983335304163\n",
      "Validation set score: 0.8805254180551129\n",
      "From random search, the estimator and hyperparameters resulting in the best predictions on the validation set were:\n",
      "{'clf__n_estimators': 500, 'clf__max_depth': 101, 'clf__learning_rate': 0.1, 'clf': XGBRegressor(base_score=None, booster=None, colsample_bylevel=None,\n",
      "             colsample_bynode=None, colsample_bytree=None,\n",
      "             enable_categorical=False, gamma=None, gpu_id=None,\n",
      "             importance_type=None, interaction_constraints=None,\n",
      "             learning_rate=0.1, max_delta_step=None, max_depth=101,\n",
      "             min_child_weight=None, missing=nan, monotone_constraints=None,\n",
      "             n_estimators=500, n_jobs=None, num_parallel_tree=None,\n",
      "             predictor=None, random_state=None, reg_alpha=None, reg_lambda=None,\n",
      "             scale_pos_weight=None, subsample=None, tree_method=None,\n",
      "             validate_parameters=None, verbosity=None)}\n"
     ]
    }
   ],
   "source": [
    "import xgboost as xgb\n",
    "import lightgbm as lgb\n",
    "from sklearn.model_selection import RandomizedSearchCV\n",
    "\n",
    "search_space_random = [\n",
    "    {\n",
    "        'clf': (xgb.XGBRegressor(), ),\n",
    "        'clf__n_estimators': np.arange(100,1001,100),\n",
    "        'clf__learning_rate': [0.001, 0.01, 0.1],\n",
    "        'clf__max_depth': np.arange(1,151,10)\n",
    "    },\n",
    "    {\n",
    "        'clf': (lgb.LGBMRegressor(), ),\n",
    "        'clf__n_estimators': np.arange(100,1001,100),\n",
    "        'clf__learning_rate': [0.001, 0.01, 0.1],\n",
    "        'clf__max_depth': np.arange(1,50,5)\n",
    "    }\n",
    "]\n",
    "\n",
    "random_search = RandomizedSearchCV(pipe, search_space_random, cv=5, error_score=\"raise\")\n",
    "\n",
    "random_search.fit(X_train,y_train)\n",
    "print('Training set score: ' + str(random_search.score(X_train,y_train)))\n",
    "print('Validation set score: ' + str(random_search.score(X_valid,y_valid)))\n",
    "\n",
    "best_params = random_search.best_params_\n",
    "print(\"From random search, the estimator and hyperparameters resulting in the best predictions on the validation set were:\")\n",
    "print(best_params)"
   ]
  },
  {
   "cell_type": "markdown",
   "id": "71f269f3-9000-402c-8998-ef7568f2a589",
   "metadata": {},
   "source": [
    "## Analyze the results\n",
    "The following plots show the mean test scores for different hyperparameter values used with the XGBoost and LightGBM estimators. In a typical flow for this kind of project, I would use this to determine the next values to use in the hyperparameter search space. This time however, I decided to automate the hyperparameter tuning process."
   ]
  },
  {
   "cell_type": "code",
   "execution_count": 19,
   "id": "4d0d3acd-f7e7-41ee-8909-72933927fc76",
   "metadata": {},
   "outputs": [
    {
     "data": {
      "image/png": "[encoded data removed]",
      "text/plain": [
       "<Figure size 720x720 with 3 Axes>"
      ]
     },
     "metadata": {
      "needs_background": "light"
     },
     "output_type": "display_data"
    }
   ],
   "source": [
    "result_df = pd.DataFrame.from_dict(random_search.cv_results_, orient='columns')\n",
    "\n",
    "fig = plt.figure(figsize=(10,10))\n",
    "fig.subplots_adjust(hspace=0.4, wspace=0.4)\n",
    "ax = fig.add_subplot(2, 2, 1)\n",
    "sns.lineplot(data=result_df, x='param_clf__n_estimators', y='mean_test_score', ax=ax)\n",
    "ax = fig.add_subplot(2, 2, 2)\n",
    "sns.lineplot(data=result_df, x='param_clf__max_depth', y='mean_test_score', ax=ax)\n",
    "ax = fig.add_subplot(2, 2, 3)\n",
    "sns.lineplot(data=result_df, x='param_clf__learning_rate', y='mean_test_score', ax=ax)\n",
    "\n",
    "plt.show()"
   ]
  },
  {
   "cell_type": "markdown",
   "id": "a3f0c5aa-dcbd-4a00-8bb1-a11224466aca",
   "metadata": {},
   "source": [
    "## Automated Hyperparameter Tuning with HyperOpt\n",
    "\n",
    "While my initial approach to tuning model hyperparameters was to visualize accuracy differences for different hyperparameter values and conduct another grid/random search on that basis, another method is to automate the process entirely using HyperOpt, which applies Bayesian optimization to the hyperparameter selection process.\n",
    "\n",
    "To understand this process, I used [these lecture notes](https://www.cs.cornell.edu/courses/cs4787/2019sp/notes/lecture16.pdf) from a CS course at Cornell.\n",
    "\n",
    "Bayes Theorem can be used to work out the conditional probability of an outcome based on previous outcomes. If we want to optimize a function f(x) where x is any real number, we can model f as a probability distribution. We can then compute f at various values of x to get observed instances of x and, since f is defined as a probability distribution, we can infer f at unobserved instances of x. In the case of hyperparameter optimization, we follow the above process by modelling the hyperparameter as function f(x).\n",
    "\n",
    "Encoding the probability distribution of f based on observed instances is typically done using a Gaussian Process prior. In essence, the probability distribution is modelled as a multivariate Gaussian distribution, and taking calculating more and more values for x will converge to the true mean and variance of x due to Central Limit Theorem (an extension of which shows that it can also apply to multidimensional Gaussian distributions).\n",
    "\n",
    "Choosing the value of x to evaluate next requires a separate \"acquisition function\". There are a few ways to do this, but some popular approaches include:\n",
    "- Probability of Improvement Function\n",
    "    - Maximize the probability that the next value of x will be the best found so far.\n",
    "- Expected Improvement\n",
    "    - Minimize the expected improvement in f(x) AFTER the next x is observed.\n",
    "- Lower Confidence Bound\n",
    "    - Minimize Regret over optimization sequence.\n",
    "\n",
    "### K-Fold Cross-Validation in Hyperparameter Optimization\n",
    "\n",
    "While cross-validation gives a better picture of the accuracy/loss of a model by averaging model performance on different splits, the downside is that the same model must be fit and make predictions k times. This is time that could have been used refining hyperparameter combinations and, all else equal, it is likely this is a better use of time. For this implementation, I have not used K-fold cross validation."
   ]
  },
  {
   "cell_type": "code",
   "execution_count": 20,
   "id": "5cee659a-88b1-4128-b6e7-7007a7966b34",
   "metadata": {},
   "outputs": [],
   "source": [
    "from hyperopt import hp\n",
    "from sklearn.metrics import mean_squared_error\n",
    "\n",
    "# XGB parameters\n",
    "xgb_reg_params = {\n",
    "    'learning_rate':    hp.loguniform('learning_rate', np.log(0.01), np.log(0.5)),\n",
    "    'max_depth':        hp.choice('max_depth', np.arange(1, 300, dtype=int)),\n",
    "    # \"Stop trying to split once your sample size in a node goes below a given threshold\"\n",
    "    'min_child_weight': hp.choice('min_child_weight', np.arange(1, 40, dtype=int)),\n",
    "    # The fraction of features (randomly selected) that will be used to train each tree\n",
    "    'colsample_bytree': hp.uniform('colsample_bytree', 0, 1),\n",
    "    # The fraction of the training samples (randomly selected) that will be used to train each tree\n",
    "    'subsample':        hp.uniform('subsample', 0, 1),\n",
    "    'n_estimators':     hp.choice('n_estimators', np.arange(1, 1000, dtype=int))\n",
    "}\n",
    "\n",
    "xgb_fit_params = {\n",
    "    'eval_metric': 'rmse',\n",
    "    'early_stopping_rounds': 10,\n",
    "    'verbose': False\n",
    "}\n",
    "\n",
    "xgb_para = dict()\n",
    "xgb_para['reg_params'] = xgb_reg_params\n",
    "xgb_para['fit_params'] = xgb_fit_params\n",
    "xgb_para['loss_func' ] = lambda y, pred: np.sqrt(mean_squared_error(y, pred))\n",
    "\n",
    "\n",
    "# LightGBM parameters\n",
    "lgb_reg_params = {\n",
    "    'learning_rate':    hp.loguniform('learning_rate', np.log(0.01), np.log(0.5)),\n",
    "    'max_depth':        hp.choice('max_depth', np.arange(1, 151, dtype=int)),\n",
    "    # \"Stop trying to split once your sample size in a node goes below a given threshold\"\n",
    "    'min_child_weight': hp.choice('min_child_weight', np.arange(1, 40, dtype=int)),\n",
    "    # The fraction of features (randomly selected) that will be used to train each tree\n",
    "    'colsample_bytree': hp.uniform('colsample_bytree', 0, 1),\n",
    "    # The fraction of the training samples (randomly selected) that will be used to train each tree\n",
    "    'subsample':        hp.uniform('subsample', 0, 1),\n",
    "    'n_estimators':     hp.choice('n_estimators', np.arange(1, 1000, dtype=int))\n",
    "}\n",
    "\n",
    "lgb_fit_params = {\n",
    "    'eval_metric': 'rmse',\n",
    "    'verbose' : False,\n",
    "    'early_stopping_rounds': 10\n",
    "}\n",
    "\n",
    "lgb_para = dict()\n",
    "lgb_para['reg_params'] = lgb_reg_params\n",
    "lgb_para['fit_params'] = lgb_fit_params\n",
    "lgb_para['loss_func' ] = lambda y, pred: np.sqrt(mean_squared_error(y, pred))"
   ]
  },
  {
   "cell_type": "code",
   "execution_count": 21,
   "id": "f38723f7-d4b4-4d46-b082-eb95d4043775",
   "metadata": {},
   "outputs": [],
   "source": [
    "from hyperopt import fmin, tpe, STATUS_OK, STATUS_FAIL, Trials, space_eval\n",
    "\n",
    "class HPOpt(object):\n",
    "\n",
    "    def __init__(self, x_train, x_test, y_train, y_test):\n",
    "        self.x_train = x_train\n",
    "        self.x_test  = x_test\n",
    "        self.y_train = y_train\n",
    "        self.y_test  = y_test\n",
    "\n",
    "    def process(self, fn_name, space, trials, algo, max_evals):\n",
    "        fn = getattr(self, fn_name)\n",
    "        try:\n",
    "            result = fmin(fn=fn, space=space, algo=algo, max_evals=max_evals, trials=trials)\n",
    "        except Exception as e:\n",
    "            return {'status': STATUS_FAIL,\n",
    "                    'exception': str(e)}\n",
    "        hyperparams = space_eval(space, result)\n",
    "        # Not currently returning trials\n",
    "        return hyperparams\n",
    "\n",
    "    def xgb_reg(self, para):\n",
    "        reg = xgb.XGBRegressor(**para['reg_params'])\n",
    "        return self.train_reg(reg, para)\n",
    "\n",
    "    def lgb_reg(self, para):\n",
    "        reg = lgb.LGBMRegressor(**para['reg_params'])\n",
    "        return self.train_reg(reg, para)\n",
    "\n",
    "    def train_reg(self, reg, para):\n",
    "        reg.fit(self.x_train, self.y_train,\n",
    "                eval_set=[(self.x_train, self.y_train), (self.x_test, self.y_test)],\n",
    "                **para['fit_params'])\n",
    "        pred = reg.predict(self.x_test)\n",
    "        loss = para['loss_func'](self.y_test, pred)\n",
    "        return {'loss': loss, 'status': STATUS_OK}"
   ]
  },
  {
   "cell_type": "code",
   "execution_count": 22,
   "id": "d7cafbf9-18fb-4793-9ef7-e531fb1662f7",
   "metadata": {},
   "outputs": [
    {
     "name": "stdout",
     "output_type": "stream",
     "text": [
      "100%|██████████| 300/300 [02:50<00:00,  1.76trial/s, best loss: 0.11557097475097503]\n",
      "100%|██████████| 300/300 [02:52<00:00,  1.74trial/s, best loss: 0.11799295342369061]\n"
     ]
    }
   ],
   "source": [
    "import warnings\n",
    "warnings.filterwarnings(\"ignore\", category=UserWarning)\n",
    "\n",
    "# Preprocess data using the first step of the pipeline defined earlier\n",
    "X_train_processed = pipe[0].fit_transform(X_train)\n",
    "X_valid_processed = pipe[0].transform(X_valid)\n",
    "\n",
    "obj = HPOpt(X_train_processed, X_valid_processed, y_train, y_valid)\n",
    "\n",
    "xgb_opt = obj.process(fn_name='xgb_reg', space=xgb_para, trials=Trials(), algo=tpe.suggest, max_evals=300)\n",
    "lgb_opt = obj.process(fn_name='lgb_reg', space=lgb_para, trials=Trials(), algo=tpe.suggest, max_evals=300)"
   ]
  },
  {
   "cell_type": "markdown",
   "id": "4787243c-acb5-47e8-8cce-f679c5d99ea4",
   "metadata": {},
   "source": [
    "## Fitting the best model\n",
    "\n",
    "Let's see how the two models perform on the validation dataset."
   ]
  },
  {
   "cell_type": "code",
   "execution_count": 47,
   "id": "a9111516-eb8b-4e0a-8f79-2aa29872363f",
   "metadata": {},
   "outputs": [
    {
     "name": "stdout",
     "output_type": "stream",
     "text": [
      "XGBoost Training set score: 0.9929420109847225\n",
      "XGBoost Validation set score: 0.9094032833930171\n",
      "XGBoost Validation set RMSE: 0.11668726738839677\n",
      "--------------------------------------------\n",
      "LightGBM Training set score: 0.9999984748387083\n",
      "LightGBM Validation set score: 0.9029740878755985\n",
      "LightGBM Validation set RMSE: 0.12075666418922998\n"
     ]
    }
   ],
   "source": [
    "from sklearn.metrics import mean_squared_error\n",
    "\n",
    "# Create pipeline with optimal hyperparameter values (XGBoost)\n",
    "pipe_hyperopt_xgb = Pipeline([('preprocessing', preprocessor), ('clf', xgb.XGBRegressor(**xgb_opt['reg_params']))])\n",
    "pipe_hyperopt_xgb.fit(X_train, y_train, clf__eval_metric=\"rmse\")\n",
    "\n",
    "print('XGBoost Training set score: ' + str(pipe_hyperopt_xgb.score(X_train,y_train)))\n",
    "print('XGBoost Validation set score (R-squared): ' + str(pipe_hyperopt_xgb.score(X_valid,y_valid)))\n",
    "\n",
    "y_valid_pred = pipe_hyperopt_xgb.predict(X_valid)\n",
    "print('XGBoost Validation set RMSE: ' + str(mean_squared_error(y_valid, y_valid_pred, squared=False)))\n",
    "\n",
    "# Add space\n",
    "print('--------------------------------------------')\n",
    "\n",
    "# Create pipeline with optimal hyperparameter values (LightGBM)\n",
    "pipe_hyperopt_lgb = Pipeline([('preprocessing', preprocessor), ('clf', lgb.LGBMRegressor(**lgb_opt['reg_params']))])\n",
    "pipe_hyperopt_lgb.fit(X_train, y_train, clf__eval_metric=\"rmse\")\n",
    "\n",
    "print('LightGBM Training set score: ' + str(pipe_hyperopt_lgb.score(X_train,y_train)))\n",
    "print('LightGBM Validation set score (R-squared): ' + str(pipe_hyperopt_lgb.score(X_valid,y_valid)))\n",
    "\n",
    "y_valid_pred = pipe_hyperopt_lgb.predict(X_valid)\n",
    "print('LightGBM Validation set RMSE: ' + str(mean_squared_error(y_valid, y_valid_pred, squared=False)))"
   ]
  },
  {
   "cell_type": "markdown",
   "id": "ccb418c1-6c50-4f27-a366-fd76ef46bf44",
   "metadata": {},
   "source": [
    "Both of these models perform better on the validation set than the baseline, and XGBoost takes the edge."
   ]
  },
  {
   "cell_type": "markdown",
   "id": "87aa3c7e-368d-4ac7-8992-076b3e0d99f0",
   "metadata": {},
   "source": [
    "## Make Predictions"
   ]
  },
  {
   "cell_type": "markdown",
   "id": "94d44235-be61-419a-aed6-9ad7c7137558",
   "metadata": {},
   "source": [
    "After a long process of data wrangling and model selection, I can finally make some predictions. First of all, some columns were deleted in the training set that still exist in the test set, so these need to be removed."
   ]
  },
  {
   "cell_type": "code",
   "execution_count": 24,
   "id": "f1b4096b-8482-47f6-b0de-abd007cd2fcd",
   "metadata": {},
   "outputs": [],
   "source": [
    "# Find different columns between dataframes\n",
    "list(set(df_train_original.columns) - set(df_train.columns))\n",
    "\n",
    "# Define X_test\n",
    "X_test = df_test.drop(columns=list(set(df_train_original.columns) - set(df_train.columns)))"
   ]
  },
  {
   "cell_type": "markdown",
   "id": "8a76b75d-6a51-4103-9c04-c964e6b72700",
   "metadata": {},
   "source": [
    "Next, I will use the XGBoost pipeline to make predictions."
   ]
  },
  {
   "cell_type": "code",
   "execution_count": 25,
   "id": "8aeff879-e790-43c4-a00e-ad1577ae0ca8",
   "metadata": {},
   "outputs": [],
   "source": [
    "predictions = pipe_hyperopt_xgb.predict(X_test)\n",
    "\n",
    "# Reverse the log transform\n",
    "predictions = np.exp(predictions)\n",
    "\n",
    "d = {\"Id\":df_test[\"Id\"],\"SalePrice\":predictions}\n",
    "submission = pd.DataFrame(data=d)\n",
    "\n",
    "# Save CSV of predictions to submit to Kaggle\n",
    "submission.to_csv(\"submission_dt.csv\",index=False)"
   ]
  },
  {
   "attachments": {
    "423ce60c-42f0-4974-bbf3-632e15be0e65.png": {
     "image/png": "[encoded data removed]"
    }
   },
   "cell_type": "markdown",
   "id": "99b016c0-63e5-4263-88ac-5f24d77a3b43",
   "metadata": {},
   "source": [
    "That's it! At the time of posting, this submission placed 883rd of 5,053 teams on the Kaggle House Prices Leaderboard.\n",
    "\n",
    "![kaggle_leaderboard.png](attachment:423ce60c-42f0-4974-bbf3-632e15be0e65.png)"
   ]
  },
  {
   "cell_type": "markdown",
   "id": "6bcf9381",
   "metadata": {},
   "source": [
    "## Finally, saving the preprocessed data for use with other models"
   ]
  },
  {
   "cell_type": "markdown",
   "id": "dfc3d3f3",
   "metadata": {},
   "source": [
    "### Making predictions on the holdout dataset"
   ]
  },
  {
   "cell_type": "code",
   "execution_count": 48,
   "id": "2280bb47",
   "metadata": {},
   "outputs": [],
   "source": [
    "# Remove unnecessary columns from data cleansing process\n",
    "df_holdout_drop_cols = df_holdout.drop(columns=list(set(df_train_original.columns) - set(df_train.columns)))\n",
    "\n",
    "# Split X,y\n",
    "X_holdout = df_holdout_drop_cols.drop(columns=[\"SalePrice\"])\n",
    "X_holdout = X_holdout.reset_index().drop(columns=\"index\")\n",
    "\n",
    "# Make predictions\n",
    "holdout_predictions_xgb = pipe_hyperopt_xgb.predict(X_holdout)\n",
    "holdout_predictions_lgb = pipe_hyperopt_lgb.predict(X_holdout)\n",
    "\n",
    "# Put together holdout predictions and actual values\n",
    "holdout_DT_predictions = pd.DataFrame()\n",
    "holdout_DT_predictions[\"XGBoost_Predictions\"] = holdout_predictions_xgb\n",
    "holdout_DT_predictions[\"LightGBM_Predictions\"] = holdout_predictions_lgb\n",
    "\n",
    "# Align indices\n",
    "temp_holdout = pd.DataFrame(df_holdout[df_holdout.columns[-1]])\n",
    "temp_holdout = temp_holdout.reset_index().drop(columns=\"index\")\n",
    "holdout_DT_predictions[\"Actual_SalePrice\"] = temp_holdout[\"SalePrice\"]"
   ]
  },
  {
   "cell_type": "code",
   "execution_count": 53,
   "id": "44a4a4f5",
   "metadata": {},
   "outputs": [],
   "source": [
    "# Creating CSV of XGBoost and LightGBM test predictions for weighted mean ensemble\n",
    "xgb_predictions = pipe_hyperopt_xgb.predict(X_test)\n",
    "lgb_predictions = pipe_hyperopt_lgb.predict(X_test)\n",
    "\n",
    "e = {\"Id\":df_test[\"Id\"],\"XGBoost_Predictions\":xgb_predictions,\"LightGBM_Predictions\":lgb_predictions}\n",
    "xgb_lgb_predictions = pd.DataFrame(data=e)\n",
    "\n",
    "xgb_lgb_predictions.to_csv(\"xgb_lgb_test_predictions.csv\", index=False)"
   ]
  },
  {
   "cell_type": "markdown",
   "id": "7c7df9f1",
   "metadata": {},
   "source": [
    "The below is additional code to save processed data and predictions to a CSV for use in the next blog post."
   ]
  },
  {
   "cell_type": "code",
   "execution_count": 49,
   "id": "d4ad40d3",
   "metadata": {},
   "outputs": [],
   "source": [
    "# Define CreateCSV class that can join X,y for each dataset (having been wrangled/preprocessed)\n",
    "class CreateCSV:\n",
    "\n",
    "    def __init__(self, x, y=None):\n",
    "        self.x = x\n",
    "        self.y = y\n",
    "\n",
    "    def convert_to_csv(self, dataset_name):\n",
    "        df = pd.DataFrame(self.x)\n",
    "        if isinstance(self.y, pd.Series):\n",
    "            # Align indices\n",
    "            y = pd.DataFrame(self.y)\n",
    "            y = y.set_index(df.index)\n",
    "            # Append column to end of dataframe\n",
    "            df = df.join(y)\n",
    "        else:\n",
    "            pass\n",
    "\n",
    "        return df.to_csv(\"%s_preprocessed\" % dataset_name, index=False)"
   ]
  },
  {
   "cell_type": "code",
   "execution_count": 50,
   "id": "2b7aeec6",
   "metadata": {},
   "outputs": [],
   "source": [
    "# Apply preprocessing to holdout and test datasets\n",
    "X_holdout_processed = pipe[0].transform(X_holdout)\n",
    "X_test_processed = pipe[0].transform(X_test)\n",
    "\n",
    "# Densify the arrays\n",
    "X_train_processed_densified =  X_train_processed.todense()\n",
    "X_valid_processed_densified =  X_valid_processed.todense()\n",
    "X_holdout_processed_densified = X_holdout_processed.todense()\n",
    "X_test_processed_densified =  X_test_processed.todense()\n",
    "\n",
    "# Create data objects to be coverted to CSVs\n",
    "training = CreateCSV(X_train_processed_densified, y_train)\n",
    "validation = CreateCSV(X_valid_processed_densified, y_valid)\n",
    "holdout = CreateCSV(X_holdout_processed_densified, holdout_DT_predictions[\"Actual_SalePrice\"])\n",
    "holdout_preds = CreateCSV(holdout_DT_predictions[[\"XGBoost_Predictions\",\"LightGBM_Predictions\"]], holdout_DT_predictions[\"Actual_SalePrice\"])\n",
    "test = CreateCSV(X_test_processed_densified)\n",
    "\n",
    "# Convert to CSV\n",
    "training.convert_to_csv(\"training\")\n",
    "validation.convert_to_csv(\"validation\")\n",
    "holdout.convert_to_csv(\"holdout\")\n",
    "holdout_preds.convert_to_csv(\"holdout_preds\")\n",
    "test.convert_to_csv(\"test\")"
   ]
  },
  {
   "cell_type": "code",
   "execution_count": null,
   "id": "20742b30",
   "metadata": {},
   "outputs": [],
   "source": []
  }
 ],
 "metadata": {
  "kernelspec": {
   "display_name": "Python 3 (ipykernel)",
   "language": "python",
   "name": "python3"
  },
  "language_info": {
   "codemirror_mode": {
    "name": "ipython",
    "version": 3
   },
   "file_extension": ".py",
   "mimetype": "text/x-python",
   "name": "python",
   "nbconvert_exporter": "python",
   "pygments_lexer": "ipython3",
   "version": "3.8.10"
  }
 },
 "nbformat": 4,
 "nbformat_minor": 5
}
