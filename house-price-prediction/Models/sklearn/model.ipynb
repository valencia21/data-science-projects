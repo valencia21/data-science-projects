{
 "cells": [
  {
   "cell_type": "code",
   "execution_count": 1,
   "id": "1a9b44ee-21e3-44e1-ab3b-4af5c351aca6",
   "metadata": {
    "tags": []
   },
   "outputs": [],
   "source": [
    "from sklearn.impute import SimpleImputer\n",
    "from sklearn.preprocessing import StandardScaler,OneHotEncoder,OrdinalEncoder\n",
    "from sklearn.compose import make_column_selector, make_column_transformer\n",
    "from sklearn.pipeline import make_pipeline\n",
    "from sklearn.model_selection import cross_val_score\n",
    "import pandas as pd\n",
    "import numpy as np\n",
    "import seaborn as sns\n",
    "import matplotlib.pyplot as plt\n",
    "\n",
    "# Read in data\n",
    "df_train_original = pd.read_csv(r\"C:\\Users\\luis_\\Documents\\GitHub\\data-science-projects\\house-price-prediction\\train.csv\")\n",
    "df_test_original = pd.read_csv(r\"C:\\Users\\luis_\\Documents\\GitHub\\data-science-projects\\house-price-prediction\\test.csv\")\n",
    "\n",
    "# Creating Duplicate Dataframe \n",
    "df_train = df_train_original.copy()\n",
    "df_test = df_test_original.copy()"
   ]
  },
  {
   "cell_type": "markdown",
   "id": "1cb5a079-20f5-4d36-8a8d-e7f9ab87b804",
   "metadata": {},
   "source": [
    "The objective of this project is simply to create predictive models using any library available in Python. I opted to use the [Kaggle House Prices Competition Dataset](https://www.kaggle.com/c/house-prices-advanced-regression-techniques) since the dataset is readily available, does not require too much cleaning/wrangling, and predictions can be evaluated on the competition leaderboard.\n",
    "\n",
    "The House Price Competition contains 2 datasets, Train and Test. The training dataset includes 1 dependent variable (SalesPrice), and 79 explanatory variables from which to predict SalesPrice. The Test dataset contains just the 79 explanatory variables. My task was to make the best predictions possible on houses in the Test dataset.\n",
    "\n",
    "This notebook demonstrates the following approach:\n",
    "\n",
    "- Data wrangling (Light exploration, followed by removing and transforming some variables)\n",
    "- Split the training dataset into training and validation datasets\n",
    "- Fit a model using a Scikit-Learn pipeline (Data Preprocessing + fitting XGBoost/LightGBM estimators with a Randomized Search across their respective hyperparameters)\n",
    "- Evaluate and visualize model performance\n",
    "- Implement an automated approach to selecting hyperparameters (HyperOpt)\n",
    "- Make predictions"
   ]
  },
  {
   "cell_type": "markdown",
   "id": "7e2ae0f2-6b50-415f-9d27-b1f47750937d",
   "metadata": {},
   "source": [
    "## Visualising the Dependent Variable (SalePrice)"
   ]
  },
  {
   "cell_type": "markdown",
   "id": "39fa469e-5f19-4068-bc4f-455ec79d1571",
   "metadata": {},
   "source": [
    "The SalePrice variable has quite a strong positive skew, but there are still a lot of houses that sold at least 2x above the mode."
   ]
  },
  {
   "cell_type": "code",
   "execution_count": 2,
   "id": "dcd2f6b7-48d0-4978-b27a-38630966fc76",
   "metadata": {},
   "outputs": [
    {
     "data": {
      "text/plain": [
       "<AxesSubplot:xlabel='SalePrice', ylabel='Count'>"
      ]
     },
     "execution_count": 2,
     "metadata": {},
     "output_type": "execute_result"
    },
    {
     "data": {
      "image/png": "[encoded data removed]",
      "text/plain": [
       "<Figure size 432x288 with 1 Axes>"
      ]
     },
     "metadata": {
      "needs_background": "light"
     },
     "output_type": "display_data"
    }
   ],
   "source": [
    "sns.histplot(data=df_train, x=\"SalePrice\")"
   ]
  },
  {
   "cell_type": "markdown",
   "id": "7861bfd2-fd14-4d2b-9599-a41378760172",
   "metadata": {},
   "source": [
    "## Data Wrangling"
   ]
  },
  {
   "cell_type": "markdown",
   "id": "7f8feb79-d999-4929-b2ff-f48d1129093b",
   "metadata": {},
   "source": [
    "### Removing Id Column\n",
    "The Id column simply identifies the row in the dataset and has no predictive power."
   ]
  },
  {
   "cell_type": "code",
   "execution_count": 3,
   "id": "b8ccf287-ac8c-49ba-aa30-4a1e47a1433a",
   "metadata": {},
   "outputs": [],
   "source": [
    "# Drop the ID column\n",
    "df_train = df_train.drop(columns=\"Id\")"
   ]
  },
  {
   "cell_type": "markdown",
   "id": "76d4d0c2-50f1-4eaf-8b5c-97aa7cd4ce44",
   "metadata": {
    "tags": []
   },
   "source": [
    "### Checking Datatypes\n",
    "\n",
    "The \"MSSubClass\" category uses integers to specify types of dwelling, but these integers simply refer to categories.\n",
    "I will change the datatype of this column from int to str."
   ]
  },
  {
   "cell_type": "code",
   "execution_count": 4,
   "id": "844dc1de-c669-4e58-b3c2-b397cbddd774",
   "metadata": {},
   "outputs": [],
   "source": [
    "# Transformation 1: int > str\n",
    "df_train[\"MSSubClass\"] = df_train[\"MSSubClass\"].astype(\"str\")\n",
    "\n",
    "# Apply same to df_test\n",
    "df_test[\"MSSubClass\"] = df_test[\"MSSubClass\"].astype(\"str\")"
   ]
  },
  {
   "cell_type": "markdown",
   "id": "17a6f9d0-2ab3-4935-a0d3-126475f2b32e",
   "metadata": {},
   "source": [
    "### Checking missing values\n",
    "\n",
    "There are a few variables with many missing values. However, I will include these variables since I'll be using decision tree algorithms, which are robust against missing values. \n",
    "(Side note: I tried removing all variables with over 30% missing values, but the accuracy of predictions deteriorated)"
   ]
  },
  {
   "cell_type": "code",
   "execution_count": 5,
   "id": "69569563-9f4c-49dc-8d0b-de240b6d1bad",
   "metadata": {},
   "outputs": [
    {
     "data": {
      "text/plain": [
       "PoolQC          1453\n",
       "MiscFeature     1406\n",
       "Alley           1369\n",
       "Fence           1179\n",
       "FireplaceQu      690\n",
       "LotFrontage      259\n",
       "GarageYrBlt       81\n",
       "GarageCond        81\n",
       "GarageType        81\n",
       "GarageFinish      81\n",
       "dtype: int64"
      ]
     },
     "execution_count": 5,
     "metadata": {},
     "output_type": "execute_result"
    }
   ],
   "source": [
    "df_train.isna().sum().sort_values(ascending=False).head(10)"
   ]
  },
  {
   "cell_type": "markdown",
   "id": "c3d4fc5c-5504-410e-b7d7-65ad431fb4e2",
   "metadata": {},
   "source": [
    "### Checking Variable Skewness\n",
    "\n",
    "#### Log Transform\n",
    "\n",
    "In Machine Learning algorithms, the distribution of a variable can have a large effect on its usefulness in making predictions. For heavily skewed variables (as in the image below), potentially important information can be lost in lower value ranges, since higher values stretch the scale and cause lower values to be banded closely together. In this case, a log transform opens up the space between values by readjusting the scale, making it easier for an algorithm to learn how small differences in independent variables affect the dependent variable.\n",
    "\n",
    "<img src=\"./log_transform.png\" width=\"400\">"
   ]
  },
  {
   "cell_type": "markdown",
   "id": "25e70039-6d8e-4c3b-a075-d466c85b82cb",
   "metadata": {},
   "source": [
    "Thus, it is common to log transform variables with high skewness to produce more predictive models. The following is the top 10 variables by skewness, according to the skew method in Pandas (which in turn implements [Scipy's skew](https://docs.scipy.org/doc/scipy/reference/generated/scipy.stats.skew.html) method with bias set to False)"
   ]
  },
  {
   "cell_type": "code",
   "execution_count": 6,
   "id": "cc138a11-f7af-453b-afe4-16993fb5f5f5",
   "metadata": {
    "tags": []
   },
   "outputs": [
    {
     "data": {
      "text/plain": [
       "MiscVal          24.476794\n",
       "PoolArea         14.828374\n",
       "LotArea          12.207688\n",
       "3SsnPorch        10.304342\n",
       "LowQualFinSF      9.011341\n",
       "KitchenAbvGr      4.488397\n",
       "BsmtFinSF2        4.255261\n",
       "ScreenPorch       4.122214\n",
       "BsmtHalfBath      4.103403\n",
       "EnclosedPorch     3.089872\n",
       "dtype: float64"
      ]
     },
     "execution_count": 6,
     "metadata": {},
     "output_type": "execute_result"
    }
   ],
   "source": [
    "# List variables with highest \"skew\"\n",
    "df_train.select_dtypes(include=[\"int64\",\"float64\"]).skew().sort_values(ascending=False).head(10)"
   ]
  },
  {
   "cell_type": "markdown",
   "id": "0fb0d2de-c4eb-450e-99fc-b492d1afd23d",
   "metadata": {},
   "source": [
    "#### Considering the Removal/Transformation of Highly-Skewed Variables\n",
    "\n",
    "The skewness of the \"MiscVal\", \"LowQualFinSF\", \"3SsnPorch\" and \"PoolArea\" variables is a result of the vast majority of values being 0, with a few that are not. The existence of  a non-zero value for one of these variables could end up being fairly predictive; for example, the PoolArea variable will only be non-zero for a house with a pool, and a pool is likely to add to the value of a property. Nevertheless, I removed these variables to see if predictions would improve, but they predictably become less accurate.\n",
    "\n",
    "The distribution of the \"LotArea\" variable was highly skewed not because most values are zero, but more likely due to the fact that the area of a house lot follows a long-tail distribution - most houses have a small lot, but a larger mansion will have a correspondingly large lot area. This information seems predictive, so I will log transform the variable to help the machine learning algorithm make better predictions even with small differences in LotArea at the lower end of the range of values.\n",
    "\n",
    "The visualizations below show the distribution of values for the top 5 variables by skewness. "
   ]
  },
  {
   "cell_type": "code",
   "execution_count": 7,
   "id": "5446a1f4-e35c-4d2a-8e4b-39b3c91f20a5",
   "metadata": {},
   "outputs": [
    {
     "data": {
      "image/png": "[encoded data removed]",
      "text/plain": [
       "<Figure size 504x504 with 5 Axes>"
      ]
     },
     "metadata": {
      "needs_background": "light"
     },
     "output_type": "display_data"
    }
   ],
   "source": [
    "fig = plt.figure(figsize=(7,7))\n",
    "fig.subplots_adjust(hspace=0.4, wspace=0.4)\n",
    "ax = fig.add_subplot(2, 3, 1)\n",
    "sns.histplot(data=df_train, x=\"MiscVal\", ax=ax)\n",
    "ax = fig.add_subplot(2, 3, 2)\n",
    "sns.histplot(data=df_train, x=\"LotArea\", ax=ax)\n",
    "ax = fig.add_subplot(2, 3, 3)\n",
    "sns.histplot(data=df_train, x=\"LowQualFinSF\", ax=ax)\n",
    "ax = fig.add_subplot(2, 3, 4)\n",
    "sns.histplot(data=df_train, x=\"3SsnPorch\", ax=ax)\n",
    "ax = fig.add_subplot(2, 3, 5)\n",
    "sns.histplot(data=df_train, x=\"PoolArea\", ax=ax)\n",
    "\n",
    "plt.show()"
   ]
  },
  {
   "cell_type": "markdown",
   "id": "34b056bb-6ea8-4728-a9f4-fe6801910660",
   "metadata": {},
   "source": [
    "**Side note:** Since this is the first time I've log transformed skewed variables during data wrangling, and later in the process I will standardize all numerical variables to have 0 mean and unit variance with StandardScaler(), I gave some thought to ensuring the two processes don't interfere with each other.\n",
    "\n",
    "Standard scaling is just a linear transform, and the shape of the distribution won't change as a result. A log transform changes the shape of the distribution, in this case reducing skew, and also changes the mean and variance. The resulting distributions are shown below."
   ]
  },
  {
   "cell_type": "code",
   "execution_count": 8,
   "id": "babcf489-6751-4c87-8b95-9b595db1eb07",
   "metadata": {},
   "outputs": [
    {
     "data": {
      "image/png": "[encoded data removed]",
      "text/plain": [
       "<Figure size 504x504 with 2 Axes>"
      ]
     },
     "metadata": {
      "needs_background": "light"
     },
     "output_type": "display_data"
    }
   ],
   "source": [
    "# Setup StandardScaler and LotArea variable\n",
    "scaler = StandardScaler()\n",
    "t = np.asarray(df_train['LotArea'])\n",
    "t = t.reshape(-1,1)\n",
    "d = {\"LotArea_StandardScaled\": scaler.fit_transform(t).flatten(), \"LotArea_LogTransformed_StandardScaled\": scaler.fit_transform(np.log(t)).flatten()}\n",
    "\n",
    "# Create a temporary dataframe to compare distributions\n",
    "df_scaling = pd.DataFrame(data=d)\n",
    "\n",
    "# Visualize\n",
    "fig = plt.figure(figsize=(7,7))\n",
    "fig.subplots_adjust(hspace=0.4, wspace=0.4)\n",
    "ax = fig.add_subplot(2, 1, 1)\n",
    "sns.histplot(data=df_scaling, x=\"LotArea_StandardScaled\", ax=ax)\n",
    "ax = fig.add_subplot(2, 1, 2)\n",
    "sns.histplot(data=df_scaling, x=\"LotArea_LogTransformed_StandardScaled\", ax=ax)\n",
    "\n",
    "plt.show()"
   ]
  },
  {
   "cell_type": "markdown",
   "id": "7502b054-efcb-48fb-8338-6b4c79dc9cd5",
   "metadata": {},
   "source": [
    "Applying a log transform followed by standardization appears to be a common technique in machine learning to create more predictive models, and the visualizations above show that I am not transforming the variable in weird and unexpected ways."
   ]
  },
  {
   "cell_type": "code",
   "execution_count": 9,
   "id": "0d3f11f6-c9f4-47ea-a150-c81bc2eeff60",
   "metadata": {},
   "outputs": [],
   "source": [
    "# Log transform the LotArea variable\n",
    "df_train['LotArea'] = np.log(df_train['LotArea'])\n",
    "df_test['LotArea'] = np.log(df_test['LotArea'])"
   ]
  },
  {
   "cell_type": "markdown",
   "id": "dc5e7a91-3e3d-4a1c-afb9-992e12317fa2",
   "metadata": {},
   "source": [
    "### Removing Variables with High Multicollinearity\n",
    "Keeping sets of variables that correlate strongly with each other can contribute to overfitting, so I will discover and remove these.\n",
    "Below is a correlation matrix of all numerical variables."
   ]
  },
  {
   "cell_type": "code",
   "execution_count": 10,
   "id": "ec27093a-f321-435c-bb61-8bbdafc0ba4a",
   "metadata": {},
   "outputs": [
    {
     "data": {
      "image/png": "[encoded data removed]",
      "text/plain": [
       "<Figure size 576x360 with 2 Axes>"
      ]
     },
     "metadata": {
      "needs_background": "light"
     },
     "output_type": "display_data"
    }
   ],
   "source": [
    "corrmat = df_train.corr()\n",
    "f, ax = plt.subplots(figsize=(8, 5))\n",
    "sns.heatmap(corrmat, vmax=.8, square=True);"
   ]
  },
  {
   "cell_type": "markdown",
   "id": "fc7b544c-67af-427a-8e30-fb83e3101ed1",
   "metadata": {},
   "source": [
    "The list below is a summary of all variable pairs with a correlation coefficient above 0.7 or below -0.7. I will keep variables that are highly correlated with SalePrice since they will be useful in prediction. The following variables are highly correlated only with each other, so they can be removed: GarageYrBlt, TotalBsmtSF, TotRmsAbvGrd, GarageCars."
   ]
  },
  {
   "cell_type": "code",
   "execution_count": 11,
   "id": "939d1831-3e65-4956-826a-91438d9d5db0",
   "metadata": {},
   "outputs": [
    {
     "data": {
      "text/plain": [
       "OverallQual   SalePrice       0.790982\n",
       "YearBuilt     GarageYrBlt     0.825667\n",
       "TotalBsmtSF   1stFlrSF        0.819530\n",
       "1stFlrSF      TotalBsmtSF     0.819530\n",
       "GrLivArea     TotRmsAbvGrd    0.825489\n",
       "              SalePrice       0.708624\n",
       "TotRmsAbvGrd  GrLivArea       0.825489\n",
       "GarageYrBlt   YearBuilt       0.825667\n",
       "GarageCars    GarageArea      0.882475\n",
       "GarageArea    GarageCars      0.882475\n",
       "SalePrice     OverallQual     0.790982\n",
       "              GrLivArea       0.708624\n",
       "dtype: float64"
      ]
     },
     "execution_count": 11,
     "metadata": {},
     "output_type": "execute_result"
    }
   ],
   "source": [
    "# Remove one variable in variable pairs where the correlation coefficient is above 0.7\n",
    "threshold = 0.7\n",
    "mask = corrmat.abs() > threshold\n",
    "mask_2 = corrmat.abs() < 1\n",
    "corrmat.where(mask & mask_2).stack()"
   ]
  },
  {
   "cell_type": "code",
   "execution_count": 12,
   "id": "6dcd8b83-8b7e-4532-860f-13d36dc0e4b7",
   "metadata": {},
   "outputs": [],
   "source": [
    "# Remove variables with high collinearity\n",
    "df_train = df_train.drop(columns=['GarageYrBlt', 'TotalBsmtSF', 'TotRmsAbvGrd', 'GarageCars'])"
   ]
  },
  {
   "cell_type": "markdown",
   "id": "3d4fe1b4-2237-4362-b7d3-544334cee3cc",
   "metadata": {},
   "source": [
    "## Data Preprocessing\n",
    "After going through a more manual process of preparing data, there are still a few steps to take across all numerical and categorical variables.\n",
    "\n",
    "### Numerical values\n",
    "- Impute missing values using the median value of the column.\n",
    "- Standardize the scale of each variable by removing the mean and scaling to unit variance (variance = 1)."
   ]
  },
  {
   "cell_type": "code",
   "execution_count": 13,
   "id": "bb4b6a57-cb01-4508-8ad8-12102cf1a4e7",
   "metadata": {},
   "outputs": [],
   "source": [
    "# preprocessing for numeric columns\n",
    "imp_median = SimpleImputer(strategy=\"median\", add_indicator=True)\n",
    "scaler = StandardScaler()"
   ]
  },
  {
   "cell_type": "markdown",
   "id": "946d69a6-334a-464c-b3e8-420f28d0ee48",
   "metadata": {},
   "source": [
    "### Categorical variables\n",
    "- Impute a \"missing_value\" string where values are missing.\n",
    "- One hot encode all categorical variables."
   ]
  },
  {
   "cell_type": "code",
   "execution_count": 14,
   "id": "f9d81190-514c-4d64-8281-453083f1071e",
   "metadata": {},
   "outputs": [],
   "source": [
    "# preprocessing for categorical columns\n",
    "imp_constant = SimpleImputer(strategy=\"constant\")\n",
    "ohe = OneHotEncoder(handle_unknown=\"ignore\")"
   ]
  },
  {
   "cell_type": "markdown",
   "id": "604266c6-c110-4f00-bf99-e32eb837051f",
   "metadata": {},
   "source": [
    "### Create pipeline and split data\n",
    "Applying data transforms and then fitting a model is commonly acheived using a scikit-learn pipeline. In this case, I'll use it to separate numerical and categorical variables, apply the relevant trnsformations to each, then fit a Random Forest Regression estimator using default values for hyperparameters.\n",
    "\n",
    "Scikit-learn also offers a method to split the training dataset into training and validation datasets, which I will implement at a ratio of 8:2."
   ]
  },
  {
   "cell_type": "code",
   "execution_count": 15,
   "id": "e8938ec8-ed54-4dc5-b5c3-cba5b323041d",
   "metadata": {},
   "outputs": [],
   "source": [
    "from sklearn.pipeline import Pipeline\n",
    "from sklearn.ensemble import RandomForestRegressor\n",
    "\n",
    "# select columns by data type\n",
    "num_cols = make_column_selector(dtype_include=\"number\")\n",
    "cat_cols = make_column_selector(dtype_exclude=\"number\")\n",
    "\n",
    "# all preprocessing\n",
    "preprocessor = make_column_transformer(\n",
    "    (make_pipeline(imp_median, scaler), num_cols),\n",
    "    (make_pipeline(imp_constant, ohe), cat_cols))\n",
    "\n",
    "pipe = Pipeline([('preprocessing', preprocessor), ('clf', RandomForestRegressor())])\n",
    "\n",
    "# Define X (independent variables) and y (dependent variable)\n",
    "X = df_train.drop(columns=\"SalePrice\")\n",
    "y = df_train[\"SalePrice\"]\n",
    "\n",
    "from sklearn.model_selection import train_test_split\n",
    "X_train, X_valid, y_train, y_valid = train_test_split(X,y, test_size=0.2)"
   ]
  },
  {
   "cell_type": "markdown",
   "id": "38bcf2cb-2ed7-47b1-b280-55feb1291e48",
   "metadata": {},
   "source": [
    "## Setting a baseline before optimization"
   ]
  },
  {
   "cell_type": "markdown",
   "id": "a2849ede-4369-4a23-b20c-4fec952857e5",
   "metadata": {},
   "source": [
    "Before going ahead with any feature engineering or hyperparameter optimization, I'll first establish a baseline that I expect to beat."
   ]
  },
  {
   "cell_type": "code",
   "execution_count": 16,
   "id": "9476f30d-5599-4b52-b094-3be20694bf3c",
   "metadata": {},
   "outputs": [
    {
     "name": "stdout",
     "output_type": "stream",
     "text": [
      "Training set score: 0.9801961293167001\n",
      "Validation set score: 0.8779475643086408\n"
     ]
    }
   ],
   "source": [
    "pipe.fit(X_train, y_train)\n",
    "print('Training set score: ' + str(pipe.score(X_train,y_train)))\n",
    "print('Validation set score: ' + str(pipe.score(X_valid,y_valid)))"
   ]
  },
  {
   "cell_type": "markdown",
   "id": "c97a16be-8138-4ef5-9a99-b363432502b7",
   "metadata": {},
   "source": [
    "## Search Hyperparameters using RandomizedSearchCV\n",
    "\n",
    "Next, I will create two models using XGBoost, and LightGBM.\n",
    "\n",
    "Both of these algorithms make use of decision trees. Decision Trees split data by asking questions about each column of independent variables, then judging how predictive each split of values in each column ends up being on the column being predicted. The [StatQuest video on Decision Trees](https://www.youtube.com/watch?v=_L39rN6gz7Y) is a great introduction.\n",
    "\n",
    "**Random Forest** - Theoretically, a single decision tree could be created that makes exact predictions on the training set by finely splitting each independent variable until it perfectly predicts the dependent variable. Since small changes to the indepedent variables would result in completely different decision trees, a single decision tree would be unlikely to generalize well to new data. This is known as overfitting, and the model itself it said to have high variance. The Random Forest algorithm builds multiple decision trees, and merges them together to get a more accurate and stable prediction. Merging the predictions of many trees lowers the variance of the model and makes the resulting ensemble model more generalizable, a process known as \"Bagging\".\n",
    "\n",
    "A line of best fit with high variance, clearly overfit to the training data, is shown below.\n",
    "\n",
    "<img src=\"./random_forest_high_variance.png\" width=\"400\">\n",
    "\n",
    "Source: Wade, Corey. Hands-On Gradient Boosting with XGBoost and scikit-learn: Perform accessible machine learning and extreme gradient boosting with Python (p.84).\n",
    "\n",
    "**XGBoost** - While a model with high variance will not generalize well, a model that just cuts a straight line will simply not make good predictions. Such a model is said to have high bias, as shown below.\n",
    "\n",
    "<img src=\"./high_bias.png\" width=\"400\">\n",
    "\n",
    "Source: Wade, Corey. Hands-On Gradient Boosting with XGBoost and scikit-learn: Perform accessible machine learning and extreme gradient boosting with Python (p.83).\n",
    "\n",
    "While bagging reduces variance by combining the predictions of multiple decision trees, boosting uses the error from these trees to inform models with new trees. XGBoost specifically uses gradient boosting, in which the residuals of the predictions of each tree are summed, and this sum is used to score the model. Iterating through this process converges on a model with lower loss, to the extent that these models are more predictive and have lower bias.\n",
    "\n",
    "Since the resulting predictions will be greatly influenced by the number of trees (estimators) created and how much each new tree learns from previously constructed trees, the n_estimators and learning rate hyperparameters are perhaps the two most important hyperparameters to tune when using XGBoost.\n",
    "\n",
    "**LightGBM** - Similiar to XGBoost, LightGBM also uses a combination of bagging and boosting to combine multiple tree estimators. The fundamental difference between the two is that XGBoost expands trees *level-wise*, while LightGBM expands trees *leaf-wise*. In the following images, black nodes represent inexpandable leaves, while green nodes represent leaves that can be be further split to grow the tree.\n",
    "\n",
    "<img src=\"./level-wise.png\" width=\"400\">\n",
    "\n",
    "<img src=\"./leaf-wise.png\" width=\"400\">\n",
    "\n",
    "Source: [XGBoost vs LightGBM: How Are They Different](https://neptune.ai/blog/xgboost-vs-lightgbm)\n",
    "\n",
    "Since XGBoost builds decision trees level-by-level, and each level includes more than one column, there is less chance of overfitting by splitting the training data down to specific values in specific columns relative to LightGBM. However, by growing *leaf-wise*, LightGBM can very quickly generate highly accurate models. To control for overfitting, both the XGBoost and LightGBM algorithms have a \"max_depth\" hyperparameter, which refers to the upper bound of layers in a single decision tree estimator. The LightGBM algorithm typically requires a lower max_depth than XGBoost."
   ]
  },
  {
   "cell_type": "code",
   "execution_count": 17,
   "id": "ad2a8b15-b454-46d7-a243-b3dd51f71c6b",
   "metadata": {},
   "outputs": [
    {
     "name": "stdout",
     "output_type": "stream",
     "text": [
      "Training set score: 0.9990383024849321\n",
      "Validation set score: 0.8432648993920564\n",
      "From random search, the estimator and hyperparameters resulting in the best predictions on the validation set were:\n",
      "{'clf__n_estimators': 500, 'clf__max_depth': 11, 'clf__learning_rate': 0.1, 'clf': LGBMRegressor(max_depth=11, n_estimators=500)}\n"
     ]
    }
   ],
   "source": [
    "import xgboost as xgb\n",
    "import lightgbm as lgb\n",
    "from sklearn.model_selection import RandomizedSearchCV\n",
    "\n",
    "search_space_random = [\n",
    "    {\n",
    "        'clf': (xgb.XGBRegressor(), ),\n",
    "        'clf__n_estimators': np.arange(100,1001,100),\n",
    "        'clf__learning_rate': [0.001, 0.01, 0.1],\n",
    "        'clf__max_depth': np.arange(1,151,10)\n",
    "    },\n",
    "    {\n",
    "        'clf': (lgb.LGBMRegressor(), ),\n",
    "        'clf__n_estimators': np.arange(100,1001,100),\n",
    "        'clf__learning_rate': [0.001, 0.01, 0.1],\n",
    "        'clf__max_depth': np.arange(1,50,5)\n",
    "    }\n",
    "]\n",
    "\n",
    "random_search = RandomizedSearchCV(pipe, search_space_random, cv=5, n_jobs=8, error_score=\"raise\")\n",
    "\n",
    "random_search.fit(X_train,y_train)\n",
    "print('Training set score: ' + str(random_search.score(X_train,y_train)))\n",
    "print('Validation set score: ' + str(random_search.score(X_valid,y_valid)))\n",
    "\n",
    "best_params = random_search.best_params_\n",
    "print(\"From random search, the estimator and hyperparameters resulting in the best predictions on the validation set were:\")\n",
    "print(best_params)"
   ]
  },
  {
   "cell_type": "markdown",
   "id": "71f269f3-9000-402c-8998-ef7568f2a589",
   "metadata": {},
   "source": [
    "## Analyze the results\n",
    "The following plots show the mean test scores for different hyperparameter values used with the XGBoost and LightGBM estimators. In a typical flow for this kind of project, I would use this to determine the next values to use in the hyperparameter search space. This time however, I decided to automate the hyperparameter tuning process."
   ]
  },
  {
   "cell_type": "code",
   "execution_count": 18,
   "id": "4d0d3acd-f7e7-41ee-8909-72933927fc76",
   "metadata": {},
   "outputs": [
    {
     "data": {
      "image/png": "[encoded data removed]",
      "text/plain": [
       "<Figure size 720x720 with 3 Axes>"
      ]
     },
     "metadata": {
      "needs_background": "light"
     },
     "output_type": "display_data"
    }
   ],
   "source": [
    "result_df = pd.DataFrame.from_dict(random_search.cv_results_, orient='columns')\n",
    "\n",
    "fig = plt.figure(figsize=(10,10))\n",
    "fig.subplots_adjust(hspace=0.4, wspace=0.4)\n",
    "ax = fig.add_subplot(2, 2, 1)\n",
    "sns.lineplot(data=result_df, x='param_clf__n_estimators', y='mean_test_score', ax=ax)\n",
    "ax = fig.add_subplot(2, 2, 2)\n",
    "sns.lineplot(data=result_df, x='param_clf__max_depth', y='mean_test_score', ax=ax)\n",
    "ax = fig.add_subplot(2, 2, 3)\n",
    "sns.lineplot(data=result_df, x='param_clf__learning_rate', y='mean_test_score', ax=ax)\n",
    "\n",
    "plt.show()"
   ]
  },
  {
   "cell_type": "markdown",
   "id": "5a86d74c-d8a9-4512-890a-05ed64286a57",
   "metadata": {},
   "source": [
    "## Automated Hyperparameter Tuning with HyperOpt"
   ]
  },
  {
   "cell_type": "markdown",
   "id": "a3f0c5aa-dcbd-4a00-8bb1-a11224466aca",
   "metadata": {},
   "source": [
    "While my initial approach to tuning model hyperparameters was to visualize accuracy differences for different hyperparameter values and conduct another grid/random search on that basis, another method is to automate the process entirely using HyperOpt, which applies Bayesian optimization to the hyperparameter selection process.\n",
    "\n",
    "To understand this process, I used [these lecture notes](https://www.cs.cornell.edu/courses/cs4787/2019sp/notes/lecture16.pdf) from a CS course at Cornell.\n",
    "\n",
    "Bayes Theorem can be used to work out the conditional probability of an outcome based on previous outcomes. If we want to optimize a function f(x) where x is any real number, we can model f as a probability distribution. We can then compute f at various values of x to get observed instances of x and, since f is defined as a probability distribution, we can infer f at unobserved instances of x. In the case of hyperparameter optimization, we follow the above process by modelling the hyperparameter as function f(x).\n",
    "\n",
    "Encoding the probability distribution of f based on observed instances is typically done using a Gaussian Process prior. In essence, the probability distribution is modelled as a multivariate Gaussian distribution, and taking calculating more and more values for x will converge to the true mean and variance of x due to Central Limit Theorem (an extension of which shows that it can also apply to multidimensional Gaussian distributions).\n",
    "\n",
    "Choosing the value of x to evaluate next requires a separate \"acquisition function\". There are a few ways to do this, but some popular approaches include:\n",
    "- Probability of Improvement Function\n",
    "    - Maximize the probability that the next value of x will be the best found so far.\n",
    "- Expected Improvement\n",
    "    - Minimize the expected improvement in f(x) AFTER the next x is observed.\n",
    "- Lower Confidence Bound\n",
    "    - Minimize Regret over optimization sequence."
   ]
  },
  {
   "cell_type": "code",
   "execution_count": 19,
   "id": "5cee659a-88b1-4128-b6e7-7007a7966b34",
   "metadata": {},
   "outputs": [],
   "source": [
    "from hyperopt import hp\n",
    "from sklearn.metrics import mean_squared_error\n",
    "\n",
    "# XGB parameters\n",
    "xgb_reg_params = {\n",
    "    'learning_rate':    hp.choice('learning_rate',    np.arange(0.001, 0.31, 0.01)),\n",
    "    'max_depth':        hp.choice('max_depth',        np.arange(1,151,10)),\n",
    "    'min_child_weight': hp.choice('min_child_weight', np.arange(1, 8, 1, dtype=int)),\n",
    "    'colsample_bytree': hp.choice('colsample_bytree', np.arange(0.3, 0.8, 0.1)),\n",
    "    'subsample':        hp.choice('subsample', np.arange(0.8, 1, 0.05)),\n",
    "    'n_estimators':     hp.choice('n_estimators',    np.arange(100,1001,100))\n",
    "}\n",
    "\n",
    "xgb_fit_params = {\n",
    "    'eval_metric': 'rmse',\n",
    "    'early_stopping_rounds': 10,\n",
    "    'verbose': False\n",
    "}\n",
    "\n",
    "xgb_para = dict()\n",
    "xgb_para['reg_params'] = xgb_reg_params\n",
    "xgb_para['fit_params'] = xgb_fit_params\n",
    "xgb_para['loss_func' ] = lambda y, pred: np.sqrt(mean_squared_error(y, pred))\n",
    "\n",
    "\n",
    "# LightGBM parameters\n",
    "lgb_reg_params = {\n",
    "    'learning_rate':    hp.choice('learning_rate',    np.arange(0.001, 0.31, 0.01)),\n",
    "    'max_depth':        hp.choice('max_depth',        np.arange(1,151,10)),\n",
    "    'min_child_weight': hp.choice('min_child_weight', np.arange(1, 8, 1, dtype=int)),\n",
    "    'colsample_bytree': hp.choice('colsample_bytree', np.arange(0.3, 0.8, 0.1)),\n",
    "    'subsample':        hp.choice('subsample', np.arange(0.8, 1, 0.05)),\n",
    "    'n_estimators':     hp.choice('n_estimators',    np.arange(100,1001,100))\n",
    "}\n",
    "\n",
    "lgb_fit_params = {\n",
    "    'eval_metric': 'rmse',\n",
    "    'verbose' : False\n",
    "    #'early_stopping_rounds': 10\n",
    "}\n",
    "\n",
    "lgb_para = dict()\n",
    "lgb_para['reg_params'] = lgb_reg_params\n",
    "lgb_para['fit_params'] = lgb_fit_params\n",
    "lgb_para['loss_func' ] = lambda y, pred: np.sqrt(mean_squared_error(y, pred))"
   ]
  },
  {
   "cell_type": "code",
   "execution_count": 20,
   "id": "fe3d33f1-6228-4cba-ad8d-4706291d8bb8",
   "metadata": {},
   "outputs": [
    {
     "data": {
      "text/plain": [
       "{'learning_rate': <hyperopt.pyll.base.Apply at 0x1f2d79b6588>,\n",
       " 'max_depth': <hyperopt.pyll.base.Apply at 0x1f2d79b74c8>,\n",
       " 'min_child_weight': <hyperopt.pyll.base.Apply at 0x1f2d79b7e08>,\n",
       " 'colsample_bytree': <hyperopt.pyll.base.Apply at 0x1f2d79b8608>,\n",
       " 'subsample': <hyperopt.pyll.base.Apply at 0x1f2d79b8c88>,\n",
       " 'n_estimators': <hyperopt.pyll.base.Apply at 0x1f2d79ba808>}"
      ]
     },
     "execution_count": 20,
     "metadata": {},
     "output_type": "execute_result"
    }
   ],
   "source": [
    "lgb_para['reg_params']"
   ]
  },
  {
   "cell_type": "code",
   "execution_count": 21,
   "id": "f38723f7-d4b4-4d46-b082-eb95d4043775",
   "metadata": {},
   "outputs": [],
   "source": [
    "from hyperopt import fmin, tpe, STATUS_OK, STATUS_FAIL, Trials, space_eval\n",
    "\n",
    "class HPOpt(object):\n",
    "\n",
    "    def __init__(self, x_train, x_test, y_train, y_test):\n",
    "        self.x_train = x_train\n",
    "        self.x_test  = x_test\n",
    "        self.y_train = y_train\n",
    "        self.y_test  = y_test\n",
    "\n",
    "    def process(self, fn_name, space, trials, algo, max_evals):\n",
    "        fn = getattr(self, fn_name)\n",
    "        try:\n",
    "            result = fmin(fn=fn, space=space, algo=algo, max_evals=max_evals, trials=trials)\n",
    "        except Exception as e:\n",
    "            return {'status': STATUS_FAIL,\n",
    "                    'exception': str(e)}\n",
    "        hyperparams = space_eval(space, result)\n",
    "        # Not currently returning trials\n",
    "        return hyperparams\n",
    "\n",
    "    def xgb_reg(self, para):\n",
    "        reg = xgb.XGBRegressor(**para['reg_params'])\n",
    "        return self.train_reg(reg, para)\n",
    "\n",
    "    def lgb_reg(self, para):\n",
    "        reg = lgb.LGBMRegressor(**para['reg_params'])\n",
    "        return self.train_reg(reg, para)\n",
    "\n",
    "    def train_reg(self, reg, para):\n",
    "        reg.fit(self.x_train, self.y_train,\n",
    "                eval_set=[(self.x_train, self.y_train), (self.x_test, self.y_test)],\n",
    "                **para['fit_params'])\n",
    "        pred = reg.predict(self.x_test)\n",
    "        loss = para['loss_func'](self.y_test, pred)\n",
    "        return {'loss': loss, 'status': STATUS_OK}"
   ]
  },
  {
   "cell_type": "code",
   "execution_count": 22,
   "id": "d7cafbf9-18fb-4793-9ef7-e531fb1662f7",
   "metadata": {},
   "outputs": [
    {
     "name": "stdout",
     "output_type": "stream",
     "text": [
      "100%|██████████| 300/300 [02:31<00:00,  1.97trial/s, best loss: 25883.186240549614]\n",
      "100%|██████████| 300/300 [04:02<00:00,  1.24trial/s, best loss: 25754.213818686243]\n"
     ]
    }
   ],
   "source": [
    "import warnings\n",
    "warnings.filterwarnings(\"ignore\", category=UserWarning)\n",
    "\n",
    "# Preprocess data using the first step of the pipeline defined earlier\n",
    "X_train_processed = pipe[0].fit_transform(X_train)\n",
    "X_valid_processed = pipe[0].transform(X_valid)\n",
    "\n",
    "obj = HPOpt(X_train_processed, X_valid_processed, y_train, y_valid)\n",
    "\n",
    "xgb_opt = obj.process(fn_name='xgb_reg', space=xgb_para, trials=Trials(), algo=tpe.suggest, max_evals=300)\n",
    "lgb_opt = obj.process(fn_name='lgb_reg', space=lgb_para, trials=Trials(), algo=tpe.suggest, max_evals=300)"
   ]
  },
  {
   "cell_type": "markdown",
   "id": "4787243c-acb5-47e8-8cce-f679c5d99ea4",
   "metadata": {},
   "source": [
    "## Fitting the best model\n",
    "The model with the minimum loss on the validation set turned out to be LightGBM, using the following hyperparameters."
   ]
  },
  {
   "cell_type": "code",
   "execution_count": 23,
   "id": "e902db9a-b809-4ff3-a663-3d9fd08d7802",
   "metadata": {},
   "outputs": [
    {
     "data": {
      "text/plain": [
       "{'fit_params': {'eval_metric': 'rmse', 'verbose': False},\n",
       " 'loss_func': <function __main__.<lambda>(y, pred)>,\n",
       " 'reg_params': {'colsample_bytree': 0.7000000000000002,\n",
       "  'learning_rate': 0.071,\n",
       "  'max_depth': 1,\n",
       "  'min_child_weight': 2,\n",
       "  'n_estimators': 1000,\n",
       "  'subsample': 0.9500000000000002}}"
      ]
     },
     "execution_count": 23,
     "metadata": {},
     "output_type": "execute_result"
    }
   ],
   "source": [
    "lgb_opt"
   ]
  },
  {
   "cell_type": "markdown",
   "id": "6af28025-bdd1-490e-be1c-d38eb13f85fe",
   "metadata": {},
   "source": [
    "All that's left to do to get predictions is fit the model using the estimator and hyperparameter values output by HyperOpt."
   ]
  },
  {
   "cell_type": "code",
   "execution_count": 24,
   "id": "a9111516-eb8b-4e0a-8f79-2aa29872363f",
   "metadata": {},
   "outputs": [
    {
     "name": "stdout",
     "output_type": "stream",
     "text": [
      "Training set score: 0.9100228633556278\n",
      "Validation set score: 0.8979268070971282\n"
     ]
    }
   ],
   "source": [
    "# Create pipeline with optimal hyperparameter values\n",
    "pipe_hyperopt_lgb = Pipeline([('preprocessing', preprocessor), ('clf', lgb.LGBMRegressor(**lgb_opt['reg_params']))])\n",
    "pipe_hyperopt_lgb.fit(X_train, y_train)\n",
    "\n",
    "print('Training set score: ' + str(pipe_hyperopt_lgb.score(X_train,y_train)))\n",
    "print('Validation set score: ' + str(pipe_hyperopt_lgb.score(X_valid,y_valid)))"
   ]
  },
  {
   "cell_type": "markdown",
   "id": "ccb418c1-6c50-4f27-a366-fd76ef46bf44",
   "metadata": {},
   "source": [
    "This model performs better on the validation set than the baseline, great!"
   ]
  },
  {
   "cell_type": "markdown",
   "id": "87aa3c7e-368d-4ac7-8992-076b3e0d99f0",
   "metadata": {},
   "source": [
    "## Make Predictions"
   ]
  },
  {
   "cell_type": "markdown",
   "id": "94d44235-be61-419a-aed6-9ad7c7137558",
   "metadata": {},
   "source": [
    "After a long process of data wrangling and model selection, I can finally make some predictions. First of all, some columns were deleted in the training set that still exist in the test set, so these need to be removed."
   ]
  },
  {
   "cell_type": "code",
   "execution_count": 25,
   "id": "f1b4096b-8482-47f6-b0de-abd007cd2fcd",
   "metadata": {},
   "outputs": [],
   "source": [
    "# Find different columns between dataframes\n",
    "list(set(df_train_original.columns) - set(df_train.columns))\n",
    "\n",
    "# Define X_test\n",
    "X_test = df_test.drop(columns=list(set(df_train_original.columns) - set(df_train.columns)))"
   ]
  },
  {
   "cell_type": "markdown",
   "id": "8a76b75d-6a51-4103-9c04-c964e6b72700",
   "metadata": {},
   "source": [
    "Next, I will use the LightGBM pipeline to make predictions."
   ]
  },
  {
   "cell_type": "code",
   "execution_count": 26,
   "id": "8aeff879-e790-43c4-a00e-ad1577ae0ca8",
   "metadata": {},
   "outputs": [
    {
     "data": {
      "text/html": [
       "<div>\n",
       "<style scoped>\n",
       "    .dataframe tbody tr th:only-of-type {\n",
       "        vertical-align: middle;\n",
       "    }\n",
       "\n",
       "    .dataframe tbody tr th {\n",
       "        vertical-align: top;\n",
       "    }\n",
       "\n",
       "    .dataframe thead th {\n",
       "        text-align: right;\n",
       "    }\n",
       "</style>\n",
       "<table border=\"1\" class=\"dataframe\">\n",
       "  <thead>\n",
       "    <tr style=\"text-align: right;\">\n",
       "      <th></th>\n",
       "      <th>Id</th>\n",
       "      <th>SalePrice</th>\n",
       "    </tr>\n",
       "  </thead>\n",
       "  <tbody>\n",
       "    <tr>\n",
       "      <th>0</th>\n",
       "      <td>1461</td>\n",
       "      <td>130570.598134</td>\n",
       "    </tr>\n",
       "    <tr>\n",
       "      <th>1</th>\n",
       "      <td>1462</td>\n",
       "      <td>164196.888180</td>\n",
       "    </tr>\n",
       "    <tr>\n",
       "      <th>2</th>\n",
       "      <td>1463</td>\n",
       "      <td>186500.411434</td>\n",
       "    </tr>\n",
       "    <tr>\n",
       "      <th>3</th>\n",
       "      <td>1464</td>\n",
       "      <td>192099.118002</td>\n",
       "    </tr>\n",
       "    <tr>\n",
       "      <th>4</th>\n",
       "      <td>1465</td>\n",
       "      <td>210146.914382</td>\n",
       "    </tr>\n",
       "    <tr>\n",
       "      <th>...</th>\n",
       "      <td>...</td>\n",
       "      <td>...</td>\n",
       "    </tr>\n",
       "    <tr>\n",
       "      <th>1454</th>\n",
       "      <td>2915</td>\n",
       "      <td>88390.625646</td>\n",
       "    </tr>\n",
       "    <tr>\n",
       "      <th>1455</th>\n",
       "      <td>2916</td>\n",
       "      <td>87172.326269</td>\n",
       "    </tr>\n",
       "    <tr>\n",
       "      <th>1456</th>\n",
       "      <td>2917</td>\n",
       "      <td>163854.268488</td>\n",
       "    </tr>\n",
       "    <tr>\n",
       "      <th>1457</th>\n",
       "      <td>2918</td>\n",
       "      <td>130048.921608</td>\n",
       "    </tr>\n",
       "    <tr>\n",
       "      <th>1458</th>\n",
       "      <td>2919</td>\n",
       "      <td>221142.039230</td>\n",
       "    </tr>\n",
       "  </tbody>\n",
       "</table>\n",
       "<p>1459 rows × 2 columns</p>\n",
       "</div>"
      ],
      "text/plain": [
       "        Id      SalePrice\n",
       "0     1461  130570.598134\n",
       "1     1462  164196.888180\n",
       "2     1463  186500.411434\n",
       "3     1464  192099.118002\n",
       "4     1465  210146.914382\n",
       "...    ...            ...\n",
       "1454  2915   88390.625646\n",
       "1455  2916   87172.326269\n",
       "1456  2917  163854.268488\n",
       "1457  2918  130048.921608\n",
       "1458  2919  221142.039230\n",
       "\n",
       "[1459 rows x 2 columns]"
      ]
     },
     "execution_count": 26,
     "metadata": {},
     "output_type": "execute_result"
    }
   ],
   "source": [
    "predictions = pipe_hyperopt_lgb.predict(X_test)\n",
    "\n",
    "d = {\"Id\":df_test[\"Id\"],\"SalePrice\":predictions}\n",
    "submission = pd.DataFrame(data=d)\n",
    "\n",
    "# Save CSV of predictions to submit to Kaggle\n",
    "submission.to_csv(\"submission.csv\",index=False)\n",
    "\n",
    "submission"
   ]
  },
  {
   "attachments": {
    "423ce60c-42f0-4974-bbf3-632e15be0e65.png": {
     "image/png": "[encoded data removed]"
    }
   },
   "cell_type": "markdown",
   "id": "99b016c0-63e5-4263-88ac-5f24d77a3b43",
   "metadata": {},
   "source": [
    "That's it! At the time of posting, this submission placed 883rd of 5,053 teams on the Kaggle House Prices Leaderboard.\n",
    "\n",
    "![kaggle_leaderboard.png](attachment:423ce60c-42f0-4974-bbf3-632e15be0e65.png)"
   ]
  }
 ],
 "metadata": {
  "kernelspec": {
   "display_name": "Python 3 (ipykernel)",
   "language": "python",
   "name": "python3"
  },
  "language_info": {
   "codemirror_mode": {
    "name": "ipython",
    "version": 3
   },
   "file_extension": ".py",
   "mimetype": "text/x-python",
   "name": "python",
   "nbconvert_exporter": "python",
   "pygments_lexer": "ipython3",
   "version": "3.7.12"
  }
 },
 "nbformat": 4,
 "nbformat_minor": 5
}
