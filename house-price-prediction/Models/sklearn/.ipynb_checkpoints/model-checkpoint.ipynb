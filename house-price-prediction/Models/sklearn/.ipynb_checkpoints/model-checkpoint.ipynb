{
 "cells": [
  {
   "cell_type": "code",
   "execution_count": 1,
   "id": "fad1be58-28d1-4d7c-926d-dc23da6bdd79",
   "metadata": {},
   "outputs": [],
   "source": [
    "from sklearn.impute import SimpleImputer\n",
    "from sklearn.preprocessing import StandardScaler,OneHotEncoder,OrdinalEncoder\n",
    "from sklearn.compose import make_column_selector, make_column_transformer\n",
    "from sklearn.pipeline import make_pipeline\n",
    "from sklearn.model_selection import cross_val_score"
   ]
  },
  {
   "cell_type": "code",
   "execution_count": 2,
   "id": "d20a532b-3222-4f72-a230-fd033a1d4b7b",
   "metadata": {},
   "outputs": [],
   "source": [
    "import pandas as pd\n",
    "import numpy as np"
   ]
  },
  {
   "cell_type": "code",
   "execution_count": 3,
   "id": "426132a6-8446-4e6a-8a70-56e8caecd1f3",
   "metadata": {},
   "outputs": [],
   "source": [
    "import seaborn as sns\n",
    "import matplotlib.pyplot as plt"
   ]
  },
  {
   "cell_type": "code",
   "execution_count": 4,
   "id": "f13ab9f1-1e4e-4335-a5f5-608da6ede63d",
   "metadata": {},
   "outputs": [],
   "source": [
    "df_train_original = pd.read_csv(r\"C:\\Users\\luis_\\Documents\\GitHub\\data-science-projects\\house-price-prediction\\train.csv\")\n",
    "df_test_original = pd.read_csv(r\"C:\\Users\\luis_\\Documents\\GitHub\\data-science-projects\\house-price-prediction\\test.csv\")"
   ]
  },
  {
   "cell_type": "markdown",
   "id": "b1dc7f6b-cd3d-4d03-9221-34b472eb5fca",
   "metadata": {},
   "source": [
    "## Model Improvements\n",
    "\n",
    "- Added GridSearchCV.\n",
    "- Added RandomizedSearchCV."
   ]
  },
  {
   "cell_type": "markdown",
   "id": "be42fc25-c476-4ba0-80ff-f99467af1e88",
   "metadata": {},
   "source": [
    "## Creating Duplicate Dataframe"
   ]
  },
  {
   "cell_type": "code",
   "execution_count": 5,
   "id": "d65edf90-6da2-474e-9b37-ed3c71bbf222",
   "metadata": {},
   "outputs": [],
   "source": [
    "df_train = df_train_original.copy()\n",
    "df_test = df_test_original.copy()"
   ]
  },
  {
   "cell_type": "markdown",
   "id": "8f47842e-6e4a-4d58-80b4-3f927a9e2fb6",
   "metadata": {},
   "source": [
    "## Visualizing the Dataset"
   ]
  },
  {
   "cell_type": "code",
   "execution_count": 6,
   "id": "dcd2f6b7-48d0-4978-b27a-38630966fc76",
   "metadata": {},
   "outputs": [
    {
     "data": {
      "text/plain": [
       "<AxesSubplot:xlabel='SalePrice', ylabel='Count'>"
      ]
     },
     "execution_count": 6,
     "metadata": {},
     "output_type": "execute_result"
    },
    {
     "data": {
      "image/png": "[encoded data removed]",
      "text/plain": [
       "<Figure size 432x288 with 1 Axes>"
      ]
     },
     "metadata": {
      "needs_background": "light"
     },
     "output_type": "display_data"
    }
   ],
   "source": [
    "import seaborn as sns\n",
    "sns.histplot(data=df_train, x=\"SalePrice\")"
   ]
  },
  {
   "cell_type": "markdown",
   "id": "17a6f9d0-2ab3-4935-a0d3-126475f2b32e",
   "metadata": {},
   "source": [
    "Checking missing values."
   ]
  },
  {
   "cell_type": "code",
   "execution_count": 7,
   "id": "69569563-9f4c-49dc-8d0b-de240b6d1bad",
   "metadata": {},
   "outputs": [
    {
     "data": {
      "text/plain": [
       "PoolQC          1453\n",
       "MiscFeature     1406\n",
       "Alley           1369\n",
       "Fence           1179\n",
       "FireplaceQu      690\n",
       "LotFrontage      259\n",
       "GarageYrBlt       81\n",
       "GarageCond        81\n",
       "GarageType        81\n",
       "GarageFinish      81\n",
       "dtype: int64"
      ]
     },
     "execution_count": 7,
     "metadata": {},
     "output_type": "execute_result"
    }
   ],
   "source": [
    "df_train.isna().sum().sort_values(ascending=False).head(10)"
   ]
  },
  {
   "cell_type": "markdown",
   "id": "218cb867-2e4f-4539-94d4-270bb87dd3f8",
   "metadata": {},
   "source": [
    "Remove columns with 30%+ missing values."
   ]
  },
  {
   "cell_type": "code",
   "execution_count": 8,
   "id": "d8b23d8e-163c-4110-9213-b2ba6ca85482",
   "metadata": {},
   "outputs": [],
   "source": [
    "df_train = df_train.drop(columns=['PoolQC','MiscFeature','Alley','Fence','FireplaceQu'])"
   ]
  },
  {
   "cell_type": "code",
   "execution_count": 9,
   "id": "55c57879-3761-496f-8dfc-1ba1bfc3efe2",
   "metadata": {},
   "outputs": [
    {
     "data": {
      "text/plain": [
       "LotFrontage     259\n",
       "GarageType       81\n",
       "GarageCond       81\n",
       "GarageYrBlt      81\n",
       "GarageFinish     81\n",
       "dtype: int64"
      ]
     },
     "execution_count": 9,
     "metadata": {},
     "output_type": "execute_result"
    }
   ],
   "source": [
    "df_train.isna().sum().sort_values(ascending=False).head(5)"
   ]
  },
  {
   "cell_type": "markdown",
   "id": "e8ace6c3-e223-499f-9f8d-8efe71e79902",
   "metadata": {},
   "source": [
    "Check wildly skewed columns for anomalies and data that can be removed."
   ]
  },
  {
   "cell_type": "code",
   "execution_count": 10,
   "id": "cc138a11-f7af-453b-afe4-16993fb5f5f5",
   "metadata": {},
   "outputs": [
    {
     "data": {
      "text/plain": [
       "MiscVal          24.476794\n",
       "PoolArea         14.828374\n",
       "LotArea          12.207688\n",
       "3SsnPorch        10.304342\n",
       "LowQualFinSF      9.011341\n",
       "KitchenAbvGr      4.488397\n",
       "BsmtFinSF2        4.255261\n",
       "ScreenPorch       4.122214\n",
       "BsmtHalfBath      4.103403\n",
       "EnclosedPorch     3.089872\n",
       "dtype: float64"
      ]
     },
     "execution_count": 10,
     "metadata": {},
     "output_type": "execute_result"
    }
   ],
   "source": [
    "df_train.select_dtypes(include=[\"int64\",\"float64\"]).skew().sort_values(ascending=False).head(10)"
   ]
  },
  {
   "cell_type": "markdown",
   "id": "55ffe481-a1b7-4eb1-a168-088ba9eecdd9",
   "metadata": {},
   "source": [
    "\"Miscval\" denotes the dollar value of a house feature, categorized in the now deleted variable \"MiscFeature\". The vast majority of values are 0 but some contain useful information that would correlate directly with house value, so I will keep the variable as is."
   ]
  },
  {
   "cell_type": "markdown",
   "id": "0fb0d2de-c4eb-450e-99fc-b492d1afd23d",
   "metadata": {},
   "source": [
    "Check histogram of all highly skewed variables."
   ]
  },
  {
   "cell_type": "code",
   "execution_count": 11,
   "id": "5446a1f4-e35c-4d2a-8e4b-39b3c91f20a5",
   "metadata": {},
   "outputs": [
    {
     "data": {
      "image/png": "[encoded data removed]",
      "text/plain": [
       "<Figure size 504x504 with 4 Axes>"
      ]
     },
     "metadata": {
      "needs_background": "light"
     },
     "output_type": "display_data"
    }
   ],
   "source": [
    "fig = plt.figure(figsize=(7,7))\n",
    "fig.subplots_adjust(hspace=0.4, wspace=0.4)\n",
    "ax = fig.add_subplot(2, 2, 1)\n",
    "sns.histplot(data=df_train, x=\"LotArea\", ax=ax)\n",
    "ax = fig.add_subplot(2, 2, 2)\n",
    "sns.histplot(data=df_train, x=\"LowQualFinSF\", ax=ax)\n",
    "ax = fig.add_subplot(2, 2, 3)\n",
    "sns.histplot(data=df_train, x=\"3SsnPorch\", ax=ax)\n",
    "ax = fig.add_subplot(2, 2, 4)\n",
    "sns.histplot(data=df_train, x=\"PoolArea\", ax=ax)\n",
    "\n",
    "plt.show()"
   ]
  },
  {
   "cell_type": "markdown",
   "id": "96a544c8-62f9-4aef-a14e-6d0b90cfb622",
   "metadata": {},
   "source": [
    "LowQualFinSF, 3SsnPorch and Pool Area all have just a handful of values that are not 0, but the remaining values could be quite predictive.\n",
    "LotArea has values that span across 2 orders of magnitude. I'd like to keep that information, so I will log transform the variable."
   ]
  },
  {
   "cell_type": "code",
   "execution_count": 12,
   "id": "babcf489-6751-4c87-8b95-9b595db1eb07",
   "metadata": {},
   "outputs": [],
   "source": [
    "df_train['LotArea'] = np.log(df_train['LotArea'])"
   ]
  },
  {
   "cell_type": "markdown",
   "id": "76d4d0c2-50f1-4eaf-8b5c-97aa7cd4ce44",
   "metadata": {
    "tags": []
   },
   "source": [
    "## Data Wrangling\n",
    "\n",
    "### 1) MSSubClass int > str\n",
    "The \"MSSubClass\" category uses integers to specify types of dwelling, but these integers simply refer to categories.\n",
    "We will change the datatype of this column from int to str.\n",
    "\n",
    "<div style=\"float: left\">\n",
    "\n",
    "| Value  | Type of Dwelling |\n",
    "|---|---|\n",
    "| 20  | 1-STORY 1946 & NEWER ALL STYLES |\n",
    "|  30 | 1-STORY 1945 & OLDER |\n",
    "|  40 | 1-STORY W/FINISHED ATTIC ALL AGES |\n",
    "etc.\n",
    "\n",
    "</div>"
   ]
  },
  {
   "cell_type": "code",
   "execution_count": 13,
   "id": "844dc1de-c669-4e58-b3c2-b397cbddd774",
   "metadata": {},
   "outputs": [],
   "source": [
    "# Transformation 1: int > str\n",
    "df_train[\"MSSubClass\"] = df_train[\"MSSubClass\"].astype(\"str\")\n",
    "\n",
    "# Apply same to df_test\n",
    "df_test[\"MSSubClass\"] = df_test[\"MSSubClass\"].astype(\"str\")"
   ]
  },
  {
   "cell_type": "code",
   "execution_count": 15,
   "id": "e266cdeb-eab9-4e11-8d55-f0ef6cc3630c",
   "metadata": {},
   "outputs": [
    {
     "data": {
      "text/plain": [
       "dtype('O')"
      ]
     },
     "execution_count": 15,
     "metadata": {},
     "output_type": "execute_result"
    }
   ],
   "source": [
    "# Check\n",
    "df_train[\"MSSubClass\"].dtype"
   ]
  },
  {
   "cell_type": "markdown",
   "id": "261e2610-e5ba-4c32-8ba8-08875f1dcb13",
   "metadata": {},
   "source": [
    "### 2) Make Id column index"
   ]
  },
  {
   "cell_type": "code",
   "execution_count": 16,
   "id": "b8ccf287-ac8c-49ba-aa30-4a1e47a1433a",
   "metadata": {},
   "outputs": [],
   "source": [
    "df_train = df_train.set_index(\"Id\")\n",
    "df_test = df_test.set_index(\"Id\")"
   ]
  },
  {
   "cell_type": "markdown",
   "id": "3d4fe1b4-2237-4362-b7d3-544334cee3cc",
   "metadata": {},
   "source": [
    "## Preprocessing\n",
    "\n",
    "### Numerical values\n",
    "\n",
    "- Impute missing values using the median value of the column.\n",
    "- Standardize the scale of each variable by removing the mean and scaling to unit variance (variance = 1)."
   ]
  },
  {
   "cell_type": "code",
   "execution_count": 18,
   "id": "bb4b6a57-cb01-4508-8ad8-12102cf1a4e7",
   "metadata": {},
   "outputs": [],
   "source": [
    "# preprocessing for numeric columns\n",
    "imp_median = SimpleImputer(strategy=\"median\", add_indicator=True)\n",
    "scaler = StandardScaler()"
   ]
  },
  {
   "cell_type": "markdown",
   "id": "946d69a6-334a-464c-b3e8-420f28d0ee48",
   "metadata": {},
   "source": [
    "### Categorical variables\n",
    "\n",
    "- Impute a \"missing_value\" string where values are missing.\n",
    "- One hot encode all categorical variables."
   ]
  },
  {
   "cell_type": "code",
   "execution_count": 19,
   "id": "f9d81190-514c-4d64-8281-453083f1071e",
   "metadata": {},
   "outputs": [],
   "source": [
    "# preprocessing for categorical columns\n",
    "imp_constant = SimpleImputer(strategy=\"constant\")\n",
    "ohe = OneHotEncoder(handle_unknown=\"ignore\")"
   ]
  },
  {
   "cell_type": "markdown",
   "id": "604266c6-c110-4f00-bf99-e32eb837051f",
   "metadata": {},
   "source": [
    "### Create pipeline\n",
    "\n",
    "Separate numerical and categorical variables, create pipeline to implement steps defined in preprocessing."
   ]
  },
  {
   "cell_type": "code",
   "execution_count": 20,
   "id": "e8938ec8-ed54-4dc5-b5c3-cba5b323041d",
   "metadata": {},
   "outputs": [],
   "source": [
    "# select columns by data type\n",
    "num_cols = make_column_selector(dtype_include=\"number\")\n",
    "cat_cols = make_column_selector(dtype_exclude=\"number\")"
   ]
  },
  {
   "cell_type": "code",
   "execution_count": 21,
   "id": "b1c01621-b407-4567-a8ac-07ebf0abee66",
   "metadata": {},
   "outputs": [],
   "source": [
    "# all preprocessing\n",
    "preprocessor = make_column_transformer(\n",
    "    (make_pipeline(imp_median, scaler), num_cols),\n",
    "    (make_pipeline(imp_constant, ohe), cat_cols))"
   ]
  },
  {
   "cell_type": "code",
   "execution_count": 22,
   "id": "84876136-cf6d-4370-ac2a-f514d4c3c221",
   "metadata": {},
   "outputs": [],
   "source": [
    "from sklearn.pipeline import Pipeline\n",
    "from sklearn.ensemble import RandomForestRegressor\n",
    "\n",
    "pipe = Pipeline([('preprocessing', preprocessor), ('clf', RandomForestRegressor())])"
   ]
  },
  {
   "cell_type": "markdown",
   "id": "802afe1a-b9a2-4aac-890c-1f4bba8a81b1",
   "metadata": {},
   "source": [
    "## Split \"train\" dataset into train, valid datasets\n",
    "Splitting the dataset into train, valid early in the modelling process to run tests on various features."
   ]
  },
  {
   "cell_type": "code",
   "execution_count": 23,
   "id": "6957697f-6136-4c36-92d7-8098dbbc3c7a",
   "metadata": {},
   "outputs": [],
   "source": [
    "# Define X (independent variables) and y (dependent variable)\n",
    "X = df_train.drop(columns=\"SalePrice\")\n",
    "y = df_train[\"SalePrice\"]\n",
    "\n",
    "from sklearn.model_selection import train_test_split\n",
    "X_train, X_valid, y_train, y_valid = train_test_split(X,y, test_size=0.2)"
   ]
  },
  {
   "cell_type": "markdown",
   "id": "38bcf2cb-2ed7-47b1-b280-55feb1291e48",
   "metadata": {},
   "source": [
    "## Setting a baseline before optimization"
   ]
  },
  {
   "cell_type": "code",
   "execution_count": 24,
   "id": "edc34340-128e-4a20-84ea-01573d0c2558",
   "metadata": {},
   "outputs": [
    {
     "name": "stdout",
     "output_type": "stream",
     "text": [
      "Training set score: 0.9772717242657707\n",
      "Validation set score: 0.910506906995373\n"
     ]
    }
   ],
   "source": [
    "pipe.fit(X_train, y_train)\n",
    "print('Training set score: ' + str(pipe.score(X_train,y_train)))\n",
    "print('Validation set score: ' + str(pipe.score(X_valid,y_valid)))"
   ]
  },
  {
   "cell_type": "markdown",
   "id": "21230d00-c6ed-4cb3-ad2b-1957437f6e4e",
   "metadata": {},
   "source": [
    "## Feature Engineering\n",
    "\n",
    "### 1) \"SalesPrice\" distribution\n",
    "Since the target variable \"SalesPrice\" has a long-tail distribution, we should make predictions after conducting a log transform."
   ]
  },
  {
   "cell_type": "code",
   "execution_count": 25,
   "id": "c2a77297-f261-4045-9da3-fa8a9b4e04ec",
   "metadata": {},
   "outputs": [],
   "source": [
    "df_train_fe = df_train.copy()"
   ]
  },
  {
   "cell_type": "code",
   "execution_count": 26,
   "id": "1b1914cd-28c4-4de5-9142-bd76503d5c29",
   "metadata": {},
   "outputs": [],
   "source": [
    "# Log transform\n",
    "df_train_fe[\"SalePrice\"] = np.log(df_train_fe[\"SalePrice\"])"
   ]
  },
  {
   "cell_type": "code",
   "execution_count": 27,
   "id": "0dc549e2-4ab5-4aaa-a172-c7de88126b19",
   "metadata": {},
   "outputs": [
    {
     "data": {
      "text/plain": [
       "<AxesSubplot:xlabel='SalePrice', ylabel='Count'>"
      ]
     },
     "execution_count": 27,
     "metadata": {},
     "output_type": "execute_result"
    },
    {
     "data": {
      "image/png": "[encoded data removed]",
      "text/plain": [
       "<Figure size 432x288 with 1 Axes>"
      ]
     },
     "metadata": {
      "needs_background": "light"
     },
     "output_type": "display_data"
    }
   ],
   "source": [
    "sns.histplot(data=df_train_fe, x=\"SalePrice\")"
   ]
  },
  {
   "cell_type": "code",
   "execution_count": 28,
   "id": "f4f8e6b7-8f10-4136-940e-f904aa3b0aeb",
   "metadata": {},
   "outputs": [
    {
     "name": "stdout",
     "output_type": "stream",
     "text": [
      "Training set score: 0.9772717242657707\n",
      "Validation set score: 0.910506906995373\n",
      "Training set score with this feature: 0.9808414673671251\n",
      "Validation set score wth this feature: 0.8679132095376308\n"
     ]
    }
   ],
   "source": [
    "print('Training set score: ' + str(pipe.score(X_train,y_train)))\n",
    "print('Validation set score: ' + str(pipe.score(X_valid,y_valid)))\n",
    "\n",
    "X_fe = df_train_fe.drop(columns=\"SalePrice\")\n",
    "y_fe = df_train_fe[\"SalePrice\"]\n",
    "\n",
    "from sklearn.model_selection import train_test_split\n",
    "X_train_fe, X_valid_fe, y_train_fe, y_valid_fe = train_test_split(X_fe,y_fe, test_size=0.2)\n",
    "\n",
    "pipe_fe = pipe\n",
    "pipe_fe.fit(X_train_fe, y_train_fe)\n",
    "\n",
    "print('Training set score with this feature: ' + str(pipe.score(X_train_fe,y_train_fe)))\n",
    "print('Validation set score wth this feature: ' + str(pipe.score(X_valid_fe,y_valid_fe)))"
   ]
  },
  {
   "cell_type": "markdown",
   "id": "c97a16be-8138-4ef5-9a99-b363432502b7",
   "metadata": {},
   "source": [
    "## Search Hyperparameters using RandomizedSearchCV"
   ]
  },
  {
   "cell_type": "code",
   "execution_count": 29,
   "id": "ad2a8b15-b454-46d7-a243-b3dd51f71c6b",
   "metadata": {},
   "outputs": [],
   "source": [
    "import xgboost as xgb\n",
    "import lightgbm as lgb"
   ]
  },
  {
   "cell_type": "code",
   "execution_count": 56,
   "id": "9b1e7a4a-8da0-40c4-8d0a-20d1234df5d2",
   "metadata": {},
   "outputs": [],
   "source": [
    "search_space_random = [\n",
    "    {\n",
    "        'clf': (xgb.XGBRegressor(), ),\n",
    "        'clf__n_estimators': np.arange(100,1001,100),\n",
    "        'clf__learning_rate': [0.001, 0.01, 0.1],\n",
    "        'clf__max_depth': np.arange(60,151,10),\n",
    "    },\n",
    "    {\n",
    "        'clf': (lgb.LGBMRegressor(), ),\n",
    "        'clf__n_estimators': np.arange(100,1001,100),\n",
    "        'clf__learning_rate': [0.001, 0.01, 0.1],\n",
    "        'clf__max_depth': np.arange(60,151,10)\n",
    "    },\n",
    "    {\n",
    "        'clf': (RandomForestRegressor(), ),\n",
    "        'clf__n_estimators': np.arange(100,1001,100),\n",
    "        'clf__max_depth': np.arange(60,151,10),\n",
    "        'clf__min_samples_leaf': np.arange(3,15),\n",
    "        'clf__min_samples_split': np.arange(4,21,2)\n",
    "    }\n",
    "]"
   ]
  },
  {
   "cell_type": "code",
   "execution_count": 57,
   "id": "0446b4bc-819e-482a-b265-509830e9665e",
   "metadata": {},
   "outputs": [],
   "source": [
    "from sklearn.model_selection import RandomizedSearchCV\n",
    "random_search = RandomizedSearchCV(pipe, search_space_random, cv=5, n_jobs=8, error_score=\"raise\")"
   ]
  },
  {
   "cell_type": "code",
   "execution_count": 58,
   "id": "4f072147-7302-4969-b7db-c1de245bff95",
   "metadata": {},
   "outputs": [
    {
     "name": "stdout",
     "output_type": "stream",
     "text": [
      "Training set score: 0.9999915255413733\n",
      "Validation set score: 0.8903119412583207\n"
     ]
    }
   ],
   "source": [
    "random_search.fit(X_train_fe,y_train_fe)\n",
    "print('Training set score: ' + str(random_search.score(X_train_fe,y_train_fe)))\n",
    "print('Validation set score: ' + str(random_search.score(X_valid_fe,y_valid_fe)))"
   ]
  },
  {
   "cell_type": "code",
   "execution_count": 59,
   "id": "161152dd-e78b-495b-98f5-a7fddd77643f",
   "metadata": {},
   "outputs": [
    {
     "name": "stdout",
     "output_type": "stream",
     "text": [
      "{'clf__n_estimators': 900, 'clf__max_depth': 110, 'clf__learning_rate': 0.1, 'clf': LGBMRegressor(max_depth=110, n_estimators=900)}\n"
     ]
    }
   ],
   "source": [
    "best_params = random_search.best_params_\n",
    "print(best_params)"
   ]
  },
  {
   "cell_type": "markdown",
   "id": "db3a07d0-61cc-49fd-a8de-ad1e827ca65a",
   "metadata": {},
   "source": [
    "I think I need to sort the scoring since RandomForestRegressor has a worse validation score and still wins."
   ]
  },
  {
   "cell_type": "markdown",
   "id": "71f269f3-9000-402c-8998-ef7568f2a589",
   "metadata": {},
   "source": [
    "## Analyze the results\n",
    "\n",
    "First, record the best parameters and models.\n",
    "Then, visualize model performance by reviewing the results for each hyperparameter, and set an improved search space in RandomizedSearchCV.\n",
    "\n",
    "Improvements\n",
    "--------------\n",
    "\n",
    "- Try different estimators.\n",
    "- Better cross-validation."
   ]
  },
  {
   "cell_type": "code",
   "execution_count": null,
   "id": "45f87623-626f-44fc-bfbb-b3914d5ac166",
   "metadata": {},
   "outputs": [
    {
     "name": "stdout",
     "output_type": "stream",
     "text": [
      "0.8832285120825901\n",
      "{'clf__n_estimators': 900, 'clf__max_depth': 110, 'clf__learning_rate': 0.1, 'clf': LGBMRegressor(max_depth=110, n_estimators=900)}\n",
      "Pipeline(steps=[('preprocessing',\n",
      "                 ColumnTransformer(transformers=[('pipeline-1',\n",
      "                                                  Pipeline(steps=[('simpleimputer',\n",
      "                                                                   SimpleImputer(add_indicator=True,\n",
      "                                                                                 strategy='median')),\n",
      "                                                                  ('standardscaler',\n",
      "                                                                   StandardScaler())]),\n",
      "                                                  <sklearn.compose._column_transformer.make_column_selector object at 0x000001BB116CA408>),\n",
      "                                                 ('pipeline-2',\n",
      "                                                  Pipeline(steps=[('simpleimputer',\n",
      "                                                                   SimpleImputer(strategy='constant')),\n",
      "                                                                  ('onehotencoder',\n",
      "                                                                   OneHotEncoder(handle_unknown='ignore'))]),\n",
      "                                                  <sklearn.compose._column_transformer.make_column_selector object at 0x000001BB116B35C8>)])),\n",
      "                ('clf', LGBMRegressor(max_depth=110, n_estimators=900))])\n"
     ]
    }
   ],
   "source": [
    "print(random_search.best_score_)\n",
    "\n",
    "# Access the best set of parameters\n",
    "best_params = random_search.best_params_\n",
    "print(best_params)\n",
    "# Stores the optimum model in best_pipe\n",
    "best_pipe = random_search.best_estimator_\n",
    "print(best_pipe)"
   ]
  },
  {
   "cell_type": "markdown",
   "id": "472c6e69-8e65-43b4-934b-0453c6f44742",
   "metadata": {},
   "source": [
    "Then, visualize the results using a Pandas dataframe and seaborn."
   ]
  },
  {
   "cell_type": "code",
   "execution_count": 61,
   "id": "97a483ed-35b3-4908-9d29-0b0711757584",
   "metadata": {},
   "outputs": [
    {
     "name": "stdout",
     "output_type": "stream",
     "text": [
      "Index(['mean_fit_time', 'std_fit_time', 'mean_score_time', 'std_score_time',\n",
      "       'param_clf__n_estimators', 'param_clf__max_depth',\n",
      "       'param_clf__learning_rate', 'param_clf', 'param_clf__min_samples_split',\n",
      "       'param_clf__min_samples_leaf', 'params', 'split0_test_score',\n",
      "       'split1_test_score', 'split2_test_score', 'split3_test_score',\n",
      "       'split4_test_score', 'mean_test_score', 'std_test_score',\n",
      "       'rank_test_score'],\n",
      "      dtype='object')\n"
     ]
    }
   ],
   "source": [
    "result_df = pd.DataFrame.from_dict(random_search.cv_results_, orient='columns')\n",
    "print(result_df.columns)"
   ]
  },
  {
   "cell_type": "code",
   "execution_count": 63,
   "id": "4d0d3acd-f7e7-41ee-8909-72933927fc76",
   "metadata": {},
   "outputs": [
    {
     "data": {
      "image/png": "[encoded data removed]",
      "text/plain": [
       "<Figure size 720x720 with 5 Axes>"
      ]
     },
     "metadata": {
      "needs_background": "light"
     },
     "output_type": "display_data"
    }
   ],
   "source": [
    "fig = plt.figure(figsize=(10,10))\n",
    "fig.subplots_adjust(hspace=0.4, wspace=0.4)\n",
    "ax = fig.add_subplot(2, 3, 1)\n",
    "sns.lineplot(data=result_df, x='param_clf__n_estimators', y='mean_test_score', ax=ax)\n",
    "ax = fig.add_subplot(2, 3, 2)\n",
    "sns.lineplot(data=result_df, x='param_clf__min_samples_split', y='mean_test_score', ax=ax)\n",
    "ax = fig.add_subplot(2, 3, 3)\n",
    "sns.lineplot(data=result_df, x='param_clf__min_samples_leaf', y='mean_test_score', ax=ax)\n",
    "ax = fig.add_subplot(2, 3, 4)\n",
    "sns.lineplot(data=result_df, x='param_clf__max_depth', y='mean_test_score', ax=ax)\n",
    "ax = fig.add_subplot(2, 3, 5)\n",
    "sns.lineplot(data=result_df, x='param_clf__learning_rate', y='mean_test_score', ax=ax)\n",
    "\n",
    "plt.show()"
   ]
  },
  {
   "cell_type": "markdown",
   "id": "e78d7fd3-02fa-482c-af8d-3b7bd594f6b5",
   "metadata": {},
   "source": [
    "## Review Parameters and Refit"
   ]
  },
  {
   "cell_type": "markdown",
   "id": "314363eb-33a3-4bb2-b937-9dd07cdee98c",
   "metadata": {},
   "source": [
    "Fewer minimum samples per leaf in the Random Forest Regressor and a learning rate higher than 0.1 on XBBoost/LightGBM may yield better results on the validation set."
   ]
  },
  {
   "cell_type": "code",
   "execution_count": 68,
   "id": "64eb5dae-c0e9-4c92-9078-b04e51a7cf45",
   "metadata": {},
   "outputs": [],
   "source": [
    "search_space_random_revised = [\n",
    "    {\n",
    "        'clf': (xgb.XGBRegressor(), ),\n",
    "        'clf__n_estimators': np.arange(100,1001,100),\n",
    "        'clf__learning_rate': [0.01, 0.1, 0.15, 0.2],\n",
    "        'clf__max_depth': np.arange(60,151,10),\n",
    "    },\n",
    "    {\n",
    "        'clf': (lgb.LGBMRegressor(), ),\n",
    "        'clf__n_estimators': np.arange(100,1001,100),\n",
    "        'clf__learning_rate': [0.01, 0.1, 0.15, 0.2],\n",
    "        'clf__max_depth': np.arange(60,151,10)\n",
    "    },\n",
    "    {\n",
    "        'clf': (RandomForestRegressor(), ),\n",
    "        'clf__n_estimators': np.arange(100,1001,100),\n",
    "        'clf__max_depth': np.arange(60,151,10),\n",
    "        'clf__min_samples_leaf': np.arange(1,5),\n",
    "        'clf__min_samples_split': np.arange(4,21,2)\n",
    "    }\n",
    "]"
   ]
  },
  {
   "cell_type": "code",
   "execution_count": 69,
   "id": "b136bb9d-7de2-49bf-a79d-7d6c225b0132",
   "metadata": {},
   "outputs": [],
   "source": [
    "random_search = RandomizedSearchCV(pipe, search_space_random_revised, cv=5, n_jobs=8, error_score=\"raise\")"
   ]
  },
  {
   "cell_type": "code",
   "execution_count": 70,
   "id": "f14cae44-b6ba-4ea0-aca5-ff45f490292f",
   "metadata": {},
   "outputs": [
    {
     "name": "stdout",
     "output_type": "stream",
     "text": [
      "Training set score: 0.9999480166428933\n",
      "Validation set score: 0.8866158407421529\n"
     ]
    }
   ],
   "source": [
    "random_search.fit(X_train_fe,y_train_fe)\n",
    "print('Training set score: ' + str(random_search.score(X_train_fe,y_train_fe)))\n",
    "print('Validation set score: ' + str(random_search.score(X_valid_fe,y_valid_fe)))"
   ]
  },
  {
   "cell_type": "code",
   "execution_count": 71,
   "id": "627c61d1-e4a3-44ae-8614-04810290b430",
   "metadata": {},
   "outputs": [
    {
     "name": "stdout",
     "output_type": "stream",
     "text": [
      "Index(['mean_fit_time', 'std_fit_time', 'mean_score_time', 'std_score_time',\n",
      "       'param_clf__n_estimators', 'param_clf__max_depth',\n",
      "       'param_clf__learning_rate', 'param_clf', 'param_clf__min_samples_split',\n",
      "       'param_clf__min_samples_leaf', 'params', 'split0_test_score',\n",
      "       'split1_test_score', 'split2_test_score', 'split3_test_score',\n",
      "       'split4_test_score', 'mean_test_score', 'std_test_score',\n",
      "       'rank_test_score'],\n",
      "      dtype='object')\n"
     ]
    }
   ],
   "source": [
    "result_df = pd.DataFrame.from_dict(random_search.cv_results_, orient='columns')\n",
    "print(result_df.columns)"
   ]
  },
  {
   "cell_type": "code",
   "execution_count": 72,
   "id": "93c486f5-d261-4ef9-a31b-d71fd47803ed",
   "metadata": {},
   "outputs": [
    {
     "data": {
      "image/png": "[encoded data removed]",
      "text/plain": [
       "<Figure size 720x720 with 5 Axes>"
      ]
     },
     "metadata": {
      "needs_background": "light"
     },
     "output_type": "display_data"
    }
   ],
   "source": [
    "fig = plt.figure(figsize=(10,10))\n",
    "fig.subplots_adjust(hspace=0.4, wspace=0.4)\n",
    "ax = fig.add_subplot(2, 3, 1)\n",
    "sns.lineplot(data=result_df, x='param_clf__n_estimators', y='mean_test_score', ax=ax)\n",
    "ax = fig.add_subplot(2, 3, 2)\n",
    "sns.lineplot(data=result_df, x='param_clf__min_samples_split', y='mean_test_score', ax=ax)\n",
    "ax = fig.add_subplot(2, 3, 3)\n",
    "sns.lineplot(data=result_df, x='param_clf__min_samples_leaf', y='mean_test_score', ax=ax)\n",
    "ax = fig.add_subplot(2, 3, 4)\n",
    "sns.lineplot(data=result_df, x='param_clf__max_depth', y='mean_test_score', ax=ax)\n",
    "ax = fig.add_subplot(2, 3, 5)\n",
    "sns.lineplot(data=result_df, x='param_clf__learning_rate', y='mean_test_score', ax=ax)\n",
    "\n",
    "plt.show()"
   ]
  },
  {
   "cell_type": "code",
   "execution_count": 73,
   "id": "910a3b79-98fb-4e7d-95ea-4409c7693650",
   "metadata": {},
   "outputs": [
    {
     "name": "stdout",
     "output_type": "stream",
     "text": [
      "{'clf__n_estimators': 400, 'clf__max_depth': 120, 'clf__learning_rate': 0.15, 'clf': LGBMRegressor(learning_rate=0.15, max_depth=120, n_estimators=400)}\n"
     ]
    }
   ],
   "source": [
    "best_params = random_search.best_params_\n",
    "print(best_params)"
   ]
  },
  {
   "cell_type": "markdown",
   "id": "87aa3c7e-368d-4ac7-8992-076b3e0d99f0",
   "metadata": {},
   "source": [
    "## Make Predictions"
   ]
  },
  {
   "cell_type": "code",
   "execution_count": 74,
   "id": "1f927aef-1dcc-41e5-8c30-bacea974dfbd",
   "metadata": {},
   "outputs": [],
   "source": [
    "# Define X_test\n",
    "X_test = df_test.drop(columns=['PoolQC','MiscFeature','Alley','Fence','FireplaceQu'])"
   ]
  },
  {
   "cell_type": "code",
   "execution_count": 75,
   "id": "671e1bdd-6923-412b-8ad5-8898ad73cbf4",
   "metadata": {},
   "outputs": [],
   "source": [
    "# make predictions based on model\n",
    "predictions = random_search.predict(X_test)"
   ]
  },
  {
   "cell_type": "code",
   "execution_count": 76,
   "id": "f92c99a2-9b70-4dc4-94eb-1cb3aa26071e",
   "metadata": {},
   "outputs": [
    {
     "data": {
      "text/plain": [
       "array([11.74972642, 11.95166134, 12.13582568, ..., 11.96125256,\n",
       "       11.69895122, 12.33257057])"
      ]
     },
     "execution_count": 76,
     "metadata": {},
     "output_type": "execute_result"
    }
   ],
   "source": [
    "predictions"
   ]
  },
  {
   "cell_type": "code",
   "execution_count": 77,
   "id": "8aeff879-e790-43c4-a00e-ad1577ae0ca8",
   "metadata": {},
   "outputs": [],
   "source": [
    "d = {\"Id\":df_test.index,\"SalePrice\":predictions}\n",
    "submission = pd.DataFrame(data=d)\n",
    "\n",
    "# Revert log transform\n",
    "submission[\"SalePrice\"] = np.exp(submission[\"SalePrice\"])"
   ]
  },
  {
   "cell_type": "code",
   "execution_count": 78,
   "id": "617dcdd9-b0cf-4e21-b833-7c70c26492e6",
   "metadata": {},
   "outputs": [
    {
     "data": {
      "text/html": [
       "<div>\n",
       "<style scoped>\n",
       "    .dataframe tbody tr th:only-of-type {\n",
       "        vertical-align: middle;\n",
       "    }\n",
       "\n",
       "    .dataframe tbody tr th {\n",
       "        vertical-align: top;\n",
       "    }\n",
       "\n",
       "    .dataframe thead th {\n",
       "        text-align: right;\n",
       "    }\n",
       "</style>\n",
       "<table border=\"1\" class=\"dataframe\">\n",
       "  <thead>\n",
       "    <tr style=\"text-align: right;\">\n",
       "      <th></th>\n",
       "      <th>Id</th>\n",
       "      <th>SalePrice</th>\n",
       "    </tr>\n",
       "  </thead>\n",
       "  <tbody>\n",
       "    <tr>\n",
       "      <th>0</th>\n",
       "      <td>1461</td>\n",
       "      <td>126718.885913</td>\n",
       "    </tr>\n",
       "    <tr>\n",
       "      <th>1</th>\n",
       "      <td>1462</td>\n",
       "      <td>155074.563921</td>\n",
       "    </tr>\n",
       "    <tr>\n",
       "      <th>2</th>\n",
       "      <td>1463</td>\n",
       "      <td>186432.715543</td>\n",
       "    </tr>\n",
       "    <tr>\n",
       "      <th>3</th>\n",
       "      <td>1464</td>\n",
       "      <td>199974.981443</td>\n",
       "    </tr>\n",
       "    <tr>\n",
       "      <th>4</th>\n",
       "      <td>1465</td>\n",
       "      <td>199339.523719</td>\n",
       "    </tr>\n",
       "    <tr>\n",
       "      <th>...</th>\n",
       "      <td>...</td>\n",
       "      <td>...</td>\n",
       "    </tr>\n",
       "    <tr>\n",
       "      <th>1454</th>\n",
       "      <td>2915</td>\n",
       "      <td>98984.964308</td>\n",
       "    </tr>\n",
       "    <tr>\n",
       "      <th>1455</th>\n",
       "      <td>2916</td>\n",
       "      <td>96128.878639</td>\n",
       "    </tr>\n",
       "    <tr>\n",
       "      <th>1456</th>\n",
       "      <td>2917</td>\n",
       "      <td>156569.073583</td>\n",
       "    </tr>\n",
       "    <tr>\n",
       "      <th>1457</th>\n",
       "      <td>2918</td>\n",
       "      <td>120445.327638</td>\n",
       "    </tr>\n",
       "    <tr>\n",
       "      <th>1458</th>\n",
       "      <td>2919</td>\n",
       "      <td>226969.419036</td>\n",
       "    </tr>\n",
       "  </tbody>\n",
       "</table>\n",
       "<p>1459 rows × 2 columns</p>\n",
       "</div>"
      ],
      "text/plain": [
       "        Id      SalePrice\n",
       "0     1461  126718.885913\n",
       "1     1462  155074.563921\n",
       "2     1463  186432.715543\n",
       "3     1464  199974.981443\n",
       "4     1465  199339.523719\n",
       "...    ...            ...\n",
       "1454  2915   98984.964308\n",
       "1455  2916   96128.878639\n",
       "1456  2917  156569.073583\n",
       "1457  2918  120445.327638\n",
       "1458  2919  226969.419036\n",
       "\n",
       "[1459 rows x 2 columns]"
      ]
     },
     "execution_count": 78,
     "metadata": {},
     "output_type": "execute_result"
    }
   ],
   "source": [
    "submission"
   ]
  },
  {
   "cell_type": "code",
   "execution_count": 79,
   "id": "b9346a80-fc79-4385-90af-3991962b08fd",
   "metadata": {},
   "outputs": [],
   "source": [
    "submission.to_csv(\"submission.csv\",index=False)"
   ]
  },
  {
   "cell_type": "code",
   "execution_count": null,
   "id": "96babbda-8273-41f8-b460-931dd26c9ef6",
   "metadata": {},
   "outputs": [],
   "source": []
  }
 ],
 "metadata": {
  "kernelspec": {
   "display_name": "Python 3 (ipykernel)",
   "language": "python",
   "name": "python3"
  },
  "language_info": {
   "codemirror_mode": {
    "name": "ipython",
    "version": 3
   },
   "file_extension": ".py",
   "mimetype": "text/x-python",
   "name": "python",
   "nbconvert_exporter": "python",
   "pygments_lexer": "ipython3",
   "version": "3.7.9"
  }
 },
 "nbformat": 4,
 "nbformat_minor": 5
}
