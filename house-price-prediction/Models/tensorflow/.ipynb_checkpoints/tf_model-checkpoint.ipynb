{
 "cells": [
  {
   "cell_type": "code",
   "execution_count": 1,
   "id": "87b24305-78b1-4d88-83a9-733011167427",
   "metadata": {},
   "outputs": [],
   "source": [
    "import tensorflow as tf\n",
    "\n",
    "from tensorflow import keras\n",
    "from tensorflow.keras import layers"
   ]
  },
  {
   "cell_type": "code",
   "execution_count": 2,
   "id": "fad1be58-28d1-4d7c-926d-dc23da6bdd79",
   "metadata": {},
   "outputs": [],
   "source": [
    "from sklearn.impute import SimpleImputer\n",
    "from sklearn.preprocessing import StandardScaler,OneHotEncoder,OrdinalEncoder\n",
    "from sklearn.compose import make_column_selector, make_column_transformer\n",
    "from sklearn.pipeline import make_pipeline\n",
    "from sklearn.model_selection import cross_val_score"
   ]
  },
  {
   "cell_type": "code",
   "execution_count": 3,
   "id": "d20a532b-3222-4f72-a230-fd033a1d4b7b",
   "metadata": {},
   "outputs": [],
   "source": [
    "import pandas as pd\n",
    "import numpy as np"
   ]
  },
  {
   "cell_type": "code",
   "execution_count": 4,
   "id": "f13ab9f1-1e4e-4335-a5f5-608da6ede63d",
   "metadata": {},
   "outputs": [],
   "source": [
    "df_train = pd.read_csv(r\"C:\\Users\\luis_\\Documents\\GitHub\\data-science-projects\\house-price-prediction\\train.csv\")\n",
    "df_test = pd.read_csv(r\"C:\\Users\\luis_\\Documents\\GitHub\\data-science-projects\\house-price-prediction\\test.csv\")"
   ]
  },
  {
   "cell_type": "markdown",
   "id": "b1dc7f6b-cd3d-4d03-9221-34b472eb5fca",
   "metadata": {},
   "source": [
    "## Model Improvements\n",
    "\n",
    "- Added GridSearchCV.\n",
    "- Added RandomizedSearchCV."
   ]
  },
  {
   "cell_type": "markdown",
   "id": "8f47842e-6e4a-4d58-80b4-3f927a9e2fb6",
   "metadata": {},
   "source": [
    "## Visualizing the Dataset"
   ]
  },
  {
   "cell_type": "code",
   "execution_count": 5,
   "id": "dcd2f6b7-48d0-4978-b27a-38630966fc76",
   "metadata": {},
   "outputs": [
    {
     "data": {
      "text/plain": [
       "<AxesSubplot:xlabel='SalePrice', ylabel='Count'>"
      ]
     },
     "execution_count": 5,
     "metadata": {},
     "output_type": "execute_result"
    },
    {
     "data": {
      "image/png": "[encoded data removed]",
      "text/plain": [
       "<Figure size 432x288 with 1 Axes>"
      ]
     },
     "metadata": {
      "needs_background": "light"
     },
     "output_type": "display_data"
    }
   ],
   "source": [
    "import seaborn as sns\n",
    "sns.histplot(data=df_train, x=\"SalePrice\")"
   ]
  },
  {
   "cell_type": "markdown",
   "id": "76d4d0c2-50f1-4eaf-8b5c-97aa7cd4ce44",
   "metadata": {
    "tags": []
   },
   "source": [
    "## Data Wrangling\n",
    "\n",
    "### 1) MSSubClass int > str\n",
    "The \"MSSubClass\" category uses integers to specify types of dwelling, but these integers simply refer to categories.\n",
    "We will change the datatype of this column from int to str.\n",
    "\n",
    "<div style=\"float: left\">\n",
    "\n",
    "| Value  | Type of Dwelling |\n",
    "|---|---|\n",
    "| 20  | 1-STORY 1946 & NEWER ALL STYLES |\n",
    "|  30 | 1-STORY 1945 & OLDER |\n",
    "|  40 | 1-STORY W/FINISHED ATTIC ALL AGES |\n",
    "etc.\n",
    "\n",
    "</div>"
   ]
  },
  {
   "cell_type": "code",
   "execution_count": 6,
   "id": "844dc1de-c669-4e58-b3c2-b397cbddd774",
   "metadata": {},
   "outputs": [],
   "source": [
    "# Transformation 1: int > str\n",
    "df_train[\"MSSubClass\"] = df_train[\"MSSubClass\"].astype(\"str\")\n",
    "\n",
    "# Apply same to df_test\n",
    "df_test[\"MSSubClass\"] = df_test[\"MSSubClass\"].astype(\"str\")"
   ]
  },
  {
   "cell_type": "code",
   "execution_count": 7,
   "id": "e266cdeb-eab9-4e11-8d55-f0ef6cc3630c",
   "metadata": {},
   "outputs": [
    {
     "data": {
      "text/plain": [
       "0       60\n",
       "1       20\n",
       "2       60\n",
       "3       70\n",
       "4       60\n",
       "        ..\n",
       "1455    60\n",
       "1456    20\n",
       "1457    70\n",
       "1458    20\n",
       "1459    20\n",
       "Name: MSSubClass, Length: 1460, dtype: object"
      ]
     },
     "execution_count": 7,
     "metadata": {},
     "output_type": "execute_result"
    }
   ],
   "source": [
    "# Check\n",
    "df_train[\"MSSubClass\"]"
   ]
  },
  {
   "cell_type": "markdown",
   "id": "261e2610-e5ba-4c32-8ba8-08875f1dcb13",
   "metadata": {},
   "source": [
    "### 2) Make Id column index"
   ]
  },
  {
   "cell_type": "code",
   "execution_count": 8,
   "id": "b8ccf287-ac8c-49ba-aa30-4a1e47a1433a",
   "metadata": {},
   "outputs": [],
   "source": [
    "df_train = df_train.set_index(\"Id\")\n",
    "df_test = df_test.set_index(\"Id\")"
   ]
  },
  {
   "cell_type": "markdown",
   "id": "3d4fe1b4-2237-4362-b7d3-544334cee3cc",
   "metadata": {},
   "source": [
    "## Preprocessing\n",
    "\n",
    "### Numerical values\n",
    "\n",
    "- Impute missing values using the median value of the column.\n",
    "- Standardize the scale of each variable by removing the mean and scaling to unit variance (variance = 1)."
   ]
  },
  {
   "cell_type": "code",
   "execution_count": 9,
   "id": "bb4b6a57-cb01-4508-8ad8-12102cf1a4e7",
   "metadata": {},
   "outputs": [],
   "source": [
    "# preprocessing for numeric columns\n",
    "imp_median = SimpleImputer(strategy=\"median\", add_indicator=True)\n",
    "scaler = StandardScaler()"
   ]
  },
  {
   "cell_type": "markdown",
   "id": "946d69a6-334a-464c-b3e8-420f28d0ee48",
   "metadata": {},
   "source": [
    "### Categorical variables\n",
    "\n",
    "- Impute a \"missing_value\" string where values are missing.\n",
    "- One hot encode all categorical variables."
   ]
  },
  {
   "cell_type": "code",
   "execution_count": 10,
   "id": "f9d81190-514c-4d64-8281-453083f1071e",
   "metadata": {},
   "outputs": [],
   "source": [
    "# preprocessing for categorical columns\n",
    "imp_constant = SimpleImputer(strategy=\"constant\")\n",
    "ohe = OneHotEncoder(handle_unknown=\"ignore\")"
   ]
  },
  {
   "cell_type": "markdown",
   "id": "604266c6-c110-4f00-bf99-e32eb837051f",
   "metadata": {},
   "source": [
    "### Create pipeline\n",
    "\n",
    "Separate numerical and categorical variables, create pipeline to implement steps defined in preprocessing."
   ]
  },
  {
   "cell_type": "code",
   "execution_count": 11,
   "id": "e8938ec8-ed54-4dc5-b5c3-cba5b323041d",
   "metadata": {},
   "outputs": [],
   "source": [
    "# select columns by data type\n",
    "num_cols = make_column_selector(dtype_include=\"number\")\n",
    "cat_cols = make_column_selector(dtype_exclude=\"number\")"
   ]
  },
  {
   "cell_type": "code",
   "execution_count": 12,
   "id": "b1c01621-b407-4567-a8ac-07ebf0abee66",
   "metadata": {},
   "outputs": [],
   "source": [
    "# all preprocessing\n",
    "preprocessor = make_column_transformer(\n",
    "    (make_pipeline(imp_median, scaler), num_cols),\n",
    "    (make_pipeline(imp_constant, ohe), cat_cols))"
   ]
  },
  {
   "cell_type": "markdown",
   "id": "802afe1a-b9a2-4aac-890c-1f4bba8a81b1",
   "metadata": {},
   "source": [
    "## Split \"train\" dataset into train, valid datasets\n",
    "Splitting the dataset into train, valid early in the modelling process to run tests on various features."
   ]
  },
  {
   "cell_type": "code",
   "execution_count": 18,
   "id": "6957697f-6136-4c36-92d7-8098dbbc3c7a",
   "metadata": {},
   "outputs": [
    {
     "name": "stdout",
     "output_type": "stream",
     "text": [
      "ERROR! Session/line number was not unique in database. History logging moved to new session 288\n"
     ]
    }
   ],
   "source": [
    "from sklearn.model_selection import train_test_split\n",
    "\n",
    "# Define X (independent variables) and y (dependent variable)\n",
    "X_train = df_train.drop(columns=\"SalePrice\")\n",
    "y_train = df_train[\"SalePrice\"]\n",
    "\n",
    "#from sklearn.model_selection import train_test_split\n",
    "X_train, X_valid, y_train, y_valid = train_test_split(X_train,y_train, test_size=0.2)"
   ]
  },
  {
   "cell_type": "code",
   "execution_count": 19,
   "id": "6460aed3-0b92-43d9-bfbc-aa8e4d78fba5",
   "metadata": {},
   "outputs": [
    {
     "data": {
      "text/plain": [
       "(1168, 79)"
      ]
     },
     "execution_count": 19,
     "metadata": {},
     "output_type": "execute_result"
    }
   ],
   "source": [
    "X_train.shape"
   ]
  },
  {
   "cell_type": "markdown",
   "id": "5335aa4f-db26-4b55-ba85-bc140283d463",
   "metadata": {},
   "source": [
    "## Construct Model"
   ]
  },
  {
   "cell_type": "code",
   "execution_count": 20,
   "id": "3b64a509-8bd9-458b-b01c-0b742aaf4496",
   "metadata": {},
   "outputs": [],
   "source": [
    "def densify(x):\n",
    "    return x.toarray()"
   ]
  },
  {
   "cell_type": "code",
   "execution_count": 21,
   "id": "84876136-cf6d-4370-ac2a-f514d4c3c221",
   "metadata": {},
   "outputs": [],
   "source": [
    "from sklearn.pipeline import Pipeline\n",
    "from sklearn.ensemble import RandomForestRegressor\n",
    "from sklearn.preprocessing import FunctionTransformer\n",
    "\n",
    "densify = FunctionTransformer(densify)\n",
    "\n",
    "preprocessing_pipe = Pipeline([('preprocessing', preprocessor), ('densify', densify)])"
   ]
  },
  {
   "cell_type": "markdown",
   "id": "c005fde0-2b78-40ce-a87d-874c84e65e37",
   "metadata": {},
   "source": [
    "Keras requires the input shape to be known before attempting to fit, so the pipeline has been executed step-by-step."
   ]
  },
  {
   "cell_type": "code",
   "execution_count": 22,
   "id": "f18e6968-1f3d-40a9-9417-8407494646c3",
   "metadata": {},
   "outputs": [],
   "source": [
    "# Define X_test\n",
    "X_test = df_test"
   ]
  },
  {
   "cell_type": "code",
   "execution_count": 23,
   "id": "d4a5fb87-46e9-494a-b59d-a408e37068e4",
   "metadata": {},
   "outputs": [],
   "source": [
    "# Data preprocessing step\n",
    "X_train = preprocessing_pipe[0].fit_transform(X_train)\n",
    "X_valid = preprocessing_pipe[0].transform(X_valid)\n",
    "X_test =  preprocessing_pipe[0].transform(X_test)"
   ]
  },
  {
   "cell_type": "code",
   "execution_count": 24,
   "id": "e5e3e104-37c6-495d-bd89-bcdae56ce0fb",
   "metadata": {},
   "outputs": [],
   "source": [
    "# Converting from a sparse matrix to a dense array\n",
    "X_train = preprocessing_pipe[1].fit_transform(X_train)\n",
    "X_valid = preprocessing_pipe[1].fit_transform(X_valid)\n",
    "X_test = preprocessing_pipe[1].fit_transform(X_test)"
   ]
  },
  {
   "cell_type": "code",
   "execution_count": 25,
   "id": "39367866-227f-47fb-8928-0bf8f4594a25",
   "metadata": {},
   "outputs": [
    {
     "name": "stdout",
     "output_type": "stream",
     "text": [
      "(1168, 315)\n",
      "(292, 315)\n"
     ]
    }
   ],
   "source": [
    "print(X_train.shape)\n",
    "print(X_valid.shape)"
   ]
  },
  {
   "cell_type": "code",
   "execution_count": 33,
   "id": "28d500fa-32d6-4202-b770-365232915670",
   "metadata": {},
   "outputs": [
    {
     "name": "stdout",
     "output_type": "stream",
     "text": [
      "ERROR! Session/line number was not unique in database. History logging moved to new session 290\n"
     ]
    }
   ],
   "source": [
    "from tensorflow.keras.models import Sequential\n",
    "from tensorflow.keras.layers import Dense\n",
    "from time import time\n",
    "from tensorflow.python.keras.callbacks import TensorBoard\n",
    "\n",
    "def create_model(optimizer='rmsprop'):\n",
    "    model = Sequential()\n",
    "    model.add(Dense(64, input_dim=X_train.shape[1], activation='relu'))\n",
    "    model.add(Dense(512, activation='relu'))\n",
    "    model.add(Dense(512, activation='relu'))\n",
    "    model.add(Dense(1))\n",
    "    model.compile(optimizer=optimizer, loss=\"mse\", metrics=[\"mae\"])\n",
    "    return model"
   ]
  },
  {
   "cell_type": "code",
   "execution_count": 34,
   "id": "9444f3ec-81c0-4595-9be5-cfe98e2f8ddf",
   "metadata": {},
   "outputs": [],
   "source": [
    "from tensorflow.keras.wrappers.scikit_learn import KerasRegressor\n",
    "\n",
    "model = KerasRegressor(build_fn=create_model,\n",
    "                        #epochs=300,\n",
    "                        #batch_size=32,\n",
    "                        #validation_data=(X_valid,y_valid),\n",
    "                        verbose=0)"
   ]
  },
  {
   "cell_type": "code",
   "execution_count": 35,
   "id": "c9ad5c85-1c2c-4cb7-befb-7c65161c4488",
   "metadata": {},
   "outputs": [],
   "source": [
    "optimizers = ['adam','rmsprop']\n",
    "#init = ['glorot_uniform', 'normal', 'uniform']\n",
    "epochs = [150,300,450]\n",
    "batches = [5, 10, 20]\n",
    "param_grid = dict(optimizer=optimizers, epochs=epochs, batch_size=batches)"
   ]
  },
  {
   "cell_type": "code",
   "execution_count": 36,
   "id": "438ad229-a521-404d-8e2f-65f7a43ff964",
   "metadata": {},
   "outputs": [],
   "source": [
    "from sklearn.model_selection import GridSearchCV\n",
    "grid = GridSearchCV(estimator=model, param_grid=param_grid)"
   ]
  },
  {
   "cell_type": "code",
   "execution_count": 37,
   "id": "7918e13b-9716-4307-998a-8f70ab82c1c3",
   "metadata": {},
   "outputs": [],
   "source": [
    "grid_result = grid.fit(X_train, y_train)"
   ]
  },
  {
   "cell_type": "code",
   "execution_count": 24,
   "id": "b53fe3e7-3df9-4363-89ae-e638e01821db",
   "metadata": {},
   "outputs": [],
   "source": [
    "#from sklearn.model_selection import cross_val_score, KFold\n",
    "#kfold = KFold(n_splits=5)"
   ]
  },
  {
   "cell_type": "code",
   "execution_count": 25,
   "id": "8a2ef4b6-b8b0-4e47-8674-ba9794406fdc",
   "metadata": {},
   "outputs": [
    {
     "name": "stdout",
     "output_type": "stream",
     "text": [
      "ERROR! Session/line number was not unique in database. History logging moved to new session 278\n",
      "Results: -1383577130.78 (863161385.03) MSE\n"
     ]
    }
   ],
   "source": [
    "#results = cross_val_score(model, X_train, y_train, cv=kfold)\n",
    "#print(\"Results: %.2f (%.2f) MSE\" % (results.mean(), results.std()))"
   ]
  },
  {
   "cell_type": "code",
   "execution_count": 26,
   "id": "1906f95f-c3de-4840-b316-47322d904569",
   "metadata": {},
   "outputs": [
    {
     "name": "stdout",
     "output_type": "stream",
     "text": [
      "ERROR! Session/line number was not unique in database. History logging moved to new session 279\n"
     ]
    },
    {
     "data": {
      "text/plain": [
       "<tensorflow.python.keras.callbacks.History at 0x191c1f06b08>"
      ]
     },
     "execution_count": 26,
     "metadata": {},
     "output_type": "execute_result"
    }
   ],
   "source": [
    "model.fit(X_train, y_train)"
   ]
  },
  {
   "cell_type": "code",
   "execution_count": 38,
   "id": "ef4ac257-d5ea-4f83-81ea-d40b7ff403c5",
   "metadata": {},
   "outputs": [],
   "source": [
    "predictions = grid_result.predict(X_test)"
   ]
  },
  {
   "cell_type": "markdown",
   "id": "22355155-e20f-4e17-b0fa-4406e3ed8317",
   "metadata": {},
   "source": [
    "## Visualize Model Output"
   ]
  },
  {
   "cell_type": "code",
   "execution_count": 30,
   "id": "155f4752-401b-4903-b52f-9d7006909f77",
   "metadata": {},
   "outputs": [
    {
     "data": {
      "text/plain": [
       "{'steps': [('clf',\n",
       "   <tensorflow.python.keras.wrappers.scikit_learn.KerasRegressor at 0x24f1c6466c8>)],\n",
       " 'memory': None,\n",
       " 'verbose': False}"
      ]
     },
     "execution_count": 30,
     "metadata": {},
     "output_type": "execute_result"
    },
    {
     "name": "stdout",
     "output_type": "stream",
     "text": [
      "ERROR! Session/line number was not unique in database. History logging moved to new session 270\n"
     ]
    }
   ],
   "source": [
    "history.__dict__"
   ]
  },
  {
   "cell_type": "code",
   "execution_count": 25,
   "id": "15896add-abc1-4395-bd60-c1e648bb3421",
   "metadata": {},
   "outputs": [],
   "source": [
    "# make predictions based on model\n",
    "predictions = pipe.predict(X_test)"
   ]
  },
  {
   "cell_type": "code",
   "execution_count": 39,
   "id": "eb8b5dd5-1cfe-4942-b62f-9c12d290606d",
   "metadata": {},
   "outputs": [
    {
     "data": {
      "text/plain": [
       "array([109734.63, 153331.62, 173530.38, ..., 157469.86, 104848.43,\n",
       "       212647.83], dtype=float32)"
      ]
     },
     "execution_count": 39,
     "metadata": {},
     "output_type": "execute_result"
    }
   ],
   "source": [
    "predictions"
   ]
  },
  {
   "cell_type": "code",
   "execution_count": 40,
   "id": "6580547e-79cc-46f0-bb94-eb246c24d95d",
   "metadata": {},
   "outputs": [],
   "source": [
    "d = {\"Id\":df_test.index,\"SalePrice\":predictions}\n",
    "submission = pd.DataFrame(data=d)\n",
    "\n",
    "# Revert log transform\n",
    "#submission[\"SalePrice\"] = np.exp(submission[\"SalePrice\"])"
   ]
  },
  {
   "cell_type": "code",
   "execution_count": 41,
   "id": "a14d4a90-2a98-49b5-9560-79120eb70628",
   "metadata": {},
   "outputs": [
    {
     "data": {
      "text/html": [
       "<div>\n",
       "<style scoped>\n",
       "    .dataframe tbody tr th:only-of-type {\n",
       "        vertical-align: middle;\n",
       "    }\n",
       "\n",
       "    .dataframe tbody tr th {\n",
       "        vertical-align: top;\n",
       "    }\n",
       "\n",
       "    .dataframe thead th {\n",
       "        text-align: right;\n",
       "    }\n",
       "</style>\n",
       "<table border=\"1\" class=\"dataframe\">\n",
       "  <thead>\n",
       "    <tr style=\"text-align: right;\">\n",
       "      <th></th>\n",
       "      <th>Id</th>\n",
       "      <th>SalePrice</th>\n",
       "    </tr>\n",
       "  </thead>\n",
       "  <tbody>\n",
       "    <tr>\n",
       "      <th>0</th>\n",
       "      <td>1461</td>\n",
       "      <td>109734.632812</td>\n",
       "    </tr>\n",
       "    <tr>\n",
       "      <th>1</th>\n",
       "      <td>1462</td>\n",
       "      <td>153331.625000</td>\n",
       "    </tr>\n",
       "    <tr>\n",
       "      <th>2</th>\n",
       "      <td>1463</td>\n",
       "      <td>173530.375000</td>\n",
       "    </tr>\n",
       "    <tr>\n",
       "      <th>3</th>\n",
       "      <td>1464</td>\n",
       "      <td>186253.515625</td>\n",
       "    </tr>\n",
       "    <tr>\n",
       "      <th>4</th>\n",
       "      <td>1465</td>\n",
       "      <td>198948.125000</td>\n",
       "    </tr>\n",
       "    <tr>\n",
       "      <th>...</th>\n",
       "      <td>...</td>\n",
       "      <td>...</td>\n",
       "    </tr>\n",
       "    <tr>\n",
       "      <th>1454</th>\n",
       "      <td>2915</td>\n",
       "      <td>76030.078125</td>\n",
       "    </tr>\n",
       "    <tr>\n",
       "      <th>1455</th>\n",
       "      <td>2916</td>\n",
       "      <td>61915.113281</td>\n",
       "    </tr>\n",
       "    <tr>\n",
       "      <th>1456</th>\n",
       "      <td>2917</td>\n",
       "      <td>157469.859375</td>\n",
       "    </tr>\n",
       "    <tr>\n",
       "      <th>1457</th>\n",
       "      <td>2918</td>\n",
       "      <td>104848.429688</td>\n",
       "    </tr>\n",
       "    <tr>\n",
       "      <th>1458</th>\n",
       "      <td>2919</td>\n",
       "      <td>212647.828125</td>\n",
       "    </tr>\n",
       "  </tbody>\n",
       "</table>\n",
       "<p>1459 rows × 2 columns</p>\n",
       "</div>"
      ],
      "text/plain": [
       "        Id      SalePrice\n",
       "0     1461  109734.632812\n",
       "1     1462  153331.625000\n",
       "2     1463  173530.375000\n",
       "3     1464  186253.515625\n",
       "4     1465  198948.125000\n",
       "...    ...            ...\n",
       "1454  2915   76030.078125\n",
       "1455  2916   61915.113281\n",
       "1456  2917  157469.859375\n",
       "1457  2918  104848.429688\n",
       "1458  2919  212647.828125\n",
       "\n",
       "[1459 rows x 2 columns]"
      ]
     },
     "execution_count": 41,
     "metadata": {},
     "output_type": "execute_result"
    }
   ],
   "source": [
    "submission"
   ]
  },
  {
   "cell_type": "code",
   "execution_count": 42,
   "id": "22b277d4-81cd-458c-9d66-e3aae8854fac",
   "metadata": {},
   "outputs": [],
   "source": [
    "submission.to_csv(\"submission.csv\",index=False)"
   ]
  },
  {
   "cell_type": "markdown",
   "id": "21230d00-c6ed-4cb3-ad2b-1957437f6e4e",
   "metadata": {},
   "source": [
    "## Feature Engineering\n",
    "\n",
    "### 1) \"SalesPrice\" distribution\n",
    "Since the target variable \"SalesPrice\" has a long-tail distribution, we should make predictions after conducting a log transform."
   ]
  },
  {
   "cell_type": "code",
   "execution_count": null,
   "id": "c2a77297-f261-4045-9da3-fa8a9b4e04ec",
   "metadata": {},
   "outputs": [],
   "source": [
    "df_train_fe = df_train.copy()"
   ]
  },
  {
   "cell_type": "code",
   "execution_count": null,
   "id": "1b1914cd-28c4-4de5-9142-bd76503d5c29",
   "metadata": {},
   "outputs": [],
   "source": [
    "# Log transform\n",
    "df_train_fe[\"SalePrice\"] = np.log(df_train_fe[\"SalePrice\"])"
   ]
  },
  {
   "cell_type": "code",
   "execution_count": null,
   "id": "0dc549e2-4ab5-4aaa-a172-c7de88126b19",
   "metadata": {},
   "outputs": [],
   "source": [
    "sns.histplot(data=df_train_fe, x=\"SalePrice\")"
   ]
  },
  {
   "cell_type": "code",
   "execution_count": null,
   "id": "f4f8e6b7-8f10-4136-940e-f904aa3b0aeb",
   "metadata": {},
   "outputs": [],
   "source": [
    "print('Training set score: ' + str(pipe.score(X_train,y_train)))\n",
    "print('Validation set score: ' + str(pipe.score(X_valid,y_valid)))\n",
    "\n",
    "X_fe = df_train_fe.drop(columns=\"SalePrice\")\n",
    "y_fe = df_train_fe[\"SalePrice\"]\n",
    "\n",
    "from sklearn.model_selection import train_test_split\n",
    "X_train_fe, X_valid_fe, y_train_fe, y_valid_fe = train_test_split(X_fe,y_fe, test_size=0.2)\n",
    "\n",
    "pipe_fe = pipe\n",
    "pipe_fe.fit(X_train_fe, y_train_fe)\n",
    "\n",
    "print('Training set score with this feature: ' + str(pipe.score(X_train_fe,y_train_fe)))\n",
    "print('Validation set score wth this feature: ' + str(pipe.score(X_valid_fe,y_valid_fe)))"
   ]
  }
 ],
 "metadata": {
  "kernelspec": {
   "display_name": "Python 3 (ipykernel)",
   "language": "python",
   "name": "python3"
  },
  "language_info": {
   "codemirror_mode": {
    "name": "ipython",
    "version": 3
   },
   "file_extension": ".py",
   "mimetype": "text/x-python",
   "name": "python",
   "nbconvert_exporter": "python",
   "pygments_lexer": "ipython3",
   "version": "3.7.9"
  }
 },
 "nbformat": 4,
 "nbformat_minor": 5
}
