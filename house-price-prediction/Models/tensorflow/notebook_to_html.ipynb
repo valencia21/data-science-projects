{
 "cells": [
  {
   "cell_type": "code",
   "execution_count": 13,
   "metadata": {},
   "outputs": [],
   "source": [
    "from traitlets.config import Config\n",
    "import nbformat as nbf\n",
    "from nbconvert.exporters import HTMLExporter\n",
    "from nbconvert.preprocessors import TagRemovePreprocessor\n",
    "\n",
    "# Setup config\n",
    "c = Config()\n",
    "\n",
    "# Configure tag removal - be sure to tag your cells to remove  using the\n",
    "# words remove_cell to remove cells. You can also modify the code to use\n",
    "# a different tag word\n",
    "c.TagRemovePreprocessor.remove_cell_tags = (\"remove_cell\",)\n",
    "c.TagRemovePreprocessor.remove_all_outputs_tags = (\"remove_output\",)\n",
    "c.TagRemovePreprocessor.remove_input_tags = (\"remove_input\",)\n",
    "c.TagRemovePreprocessor.enabled = True\n",
    "\n",
    "# Configure and run out exporter\n",
    "c.HTMLExporter.preprocessors = [\"nbconvert.preprocessors.TagRemovePreprocessor\"]\n",
    "\n",
    "exporter = HTMLExporter(config=c)\n",
    "exporter.register_preprocessor(TagRemovePreprocessor(config=c),True)\n",
    "\n",
    "# Configure and run our exporter - returns a tuple - first element with html,\n",
    "# second with notebook metadata\n",
    "output = HTMLExporter(config=c).from_filename(\"tf_model.ipynb\")\n",
    "\n",
    "# Write to output html file\n",
    "with open(\"tf_model_final.html\",  \"w\") as f:\n",
    "    f.write(output[0])"
   ]
  }
 ],
 "metadata": {
  "interpreter": {
   "hash": "916dbcbb3f70747c44a77c7bcd40155683ae19c65e1c03b4aa3499c5328201f1"
  },
  "kernelspec": {
   "display_name": "Python 3.8.10 64-bit",
   "language": "python",
   "name": "python3"
  },
  "language_info": {
   "codemirror_mode": {
    "name": "ipython",
    "version": 3
   },
   "file_extension": ".py",
   "mimetype": "text/x-python",
   "name": "python",
   "nbconvert_exporter": "python",
   "pygments_lexer": "ipython3",
   "version": "3.8.10"
  },
  "orig_nbformat": 4
 },
 "nbformat": 4,
 "nbformat_minor": 2
}
