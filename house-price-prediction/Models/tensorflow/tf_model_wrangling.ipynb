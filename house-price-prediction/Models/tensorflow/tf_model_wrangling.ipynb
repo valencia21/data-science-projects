{
 "cells": [
  {
   "cell_type": "code",
   "execution_count": 2,
   "id": "1a9b44ee-21e3-44e1-ab3b-4af5c351aca6",
   "metadata": {
    "tags": []
   },
   "outputs": [],
   "source": [
    "from tensorflow.keras.models import Sequential\n",
    "from tensorflow.keras.layers import Dense, Dropout\n",
    "from tensorflow.keras.metrics import RootMeanSquaredError\n",
    "from tensorflow.keras.losses import Huber\n",
    "from time import time\n",
    "from sklearn.metrics import mean_absolute_error\n",
    "import wandb\n",
    "import pandas as pd\n",
    "import numpy as np\n",
    "import matplotlib.pyplot as plt"
   ]
  },
  {
   "cell_type": "markdown",
   "id": "049f674b",
   "metadata": {},
   "source": [
    "In my previous post, I went through the following process:\n",
    "\n",
    "Environment: Anaconda, Windows 11.\n",
    "\n",
    "- Data wrangling (Light exploration, followed by removing and transforming some variables)\n",
    "- Split the training dataset into training and validation datasets\n",
    "- Fit a model using a Scikit-Learn pipeline (Data Preprocessing + fitting XGBoost/LightGBM estimators with a Randomized Search across their respective hyperparameters)\n",
    "- Evaluate and visualize model performance\n",
    "- Implement an automated approach to selecting hyperparameters (HyperOpt)\n",
    "- Make predictions\n",
    "\n",
    "In this post, I will implement the following using the same wrangled/preprocessed data:\n",
    "\n",
    "Environment: Docker, Windows Subsystem for Linux 2 (WSL 2), Windows 11.\n",
    "\n",
    "- Build a simple Sequential model in Keras/Tensorflow\n",
    "- Use the Weights and Biases (WandB) platform to select optimal hyperparameters and record experiments.\n",
    "  - Experiments are evaluated using K-Fold Cross Validation. Mean RMSE across folds for each experiment are custom logged in WandB. \n",
    "- Make predictions.\n",
    "- Blend predictions from the previous post (decision tree) and this post (neural net).\n",
    "  - By both taking the mean of predictions, and defining a meta-model trained on a holdout dataset kept completely separate."
   ]
  },
  {
   "cell_type": "code",
   "execution_count": 3,
   "id": "41683053-0452-48d6-8033-a5e2909e0f84",
   "metadata": {},
   "outputs": [
    {
     "name": "stderr",
     "output_type": "stream",
     "text": [
      "/tmp/ipykernel_1702/2886453018.py:23: FutureWarning: The frame.append method is deprecated and will be removed from pandas in a future version. Use pandas.concat instead.\n",
      "  X_train = X_train.append(X_valid).reset_index().drop(columns=\"index\")\n",
      "/tmp/ipykernel_1702/2886453018.py:24: FutureWarning: The series.append method is deprecated and will be removed from pandas in a future version. Use pandas.concat instead.\n",
      "  y_train = y_train.append(y_valid).reset_index().drop(columns=\"index\").values\n"
     ]
    }
   ],
   "source": [
    "# Function to bring in wrangled/preprocessed data from previous post\n",
    "def data():\n",
    "    training = pd.read_csv(\"../sklearn/training_preprocessed\")\n",
    "    validation = pd.read_csv(\"../sklearn/validation_preprocessed\")\n",
    "    holdout = pd.read_csv(\"../sklearn/holdout_preprocessed\")\n",
    "    holdout_predictions_df = pd.read_csv(\"../sklearn/holdout_preds_preprocessed\")\n",
    "    test = pd.read_csv(\"../sklearn/test_preprocessed\")\n",
    "    \n",
    "    X_train = training.drop(columns=\"SalePrice\")\n",
    "    y_train = training[\"SalePrice\"]\n",
    "    X_valid = validation.drop(columns=\"SalePrice\")\n",
    "    y_valid = validation[\"SalePrice\"]\n",
    "    X_holdout = holdout.drop(columns=\"Actual_SalePrice\")\n",
    "    y_holdout = holdout[\"Actual_SalePrice\"]\n",
    "    X_test = test\n",
    "    holdout_predictions_df = holdout_predictions_df\n",
    "    return X_train, y_train, X_valid, y_valid, X_holdout, y_holdout, X_test, holdout_predictions_df\n",
    "\n",
    "# Bring in data\n",
    "X_train, y_train, X_valid, y_valid, X_holdout, y_holdout, X_test, holdout_predictions_df = data()\n",
    "\n",
    "# Since this model uses k-fold validation, we don't need separate training and validation datasets\n",
    "X_train = X_train.append(X_valid).reset_index().drop(columns=\"index\")\n",
    "y_train = y_train.append(y_valid).reset_index().drop(columns=\"index\").values"
   ]
  },
  {
   "cell_type": "code",
   "execution_count": 4,
   "id": "0cd95926-a2d1-484d-8674-273e1310e88d",
   "metadata": {},
   "outputs": [
    {
     "name": "stderr",
     "output_type": "stream",
     "text": [
      "Failed to detect the name of this notebook, you can set it manually with the WANDB_NOTEBOOK_NAME environment variable to enable code saving.\n",
      "\u001b[34m\u001b[1mwandb\u001b[0m: You can find your API key in your browser here: https://wandb.ai/authorize\n",
      "\u001b[34m\u001b[1mwandb\u001b[0m: Appending key for api.wandb.ai to your netrc file: /root/.netrc\n"
     ]
    },
    {
     "data": {
      "text/html": [
       "Tracking run with wandb version 0.12.11"
      ],
      "text/plain": [
       "<IPython.core.display.HTML object>"
      ]
     },
     "metadata": {},
     "output_type": "display_data"
    },
    {
     "data": {
      "text/html": [
       "Run data is saved locally in <code>/workspaces/data-science-projects/house-price-prediction/Models/tensorflow/wandb/run-20220308_041803-1j7n91qn</code>"
      ],
      "text/plain": [
       "<IPython.core.display.HTML object>"
      ]
     },
     "metadata": {},
     "output_type": "display_data"
    },
    {
     "data": {
      "text/html": [
       "Syncing run <strong><a href=\"https://wandb.ai/luiscostigan/house-price-prediction/runs/1j7n91qn\" target=\"_blank\">dutiful-resonance-297</a></strong> to <a href=\"https://wandb.ai/luiscostigan/house-price-prediction\" target=\"_blank\">Weights & Biases</a> (<a href=\"https://wandb.me/run\" target=\"_blank\">docs</a>)<br/>"
      ],
      "text/plain": [
       "<IPython.core.display.HTML object>"
      ]
     },
     "metadata": {},
     "output_type": "display_data"
    },
    {
     "data": {
      "text/html": [
       "<button onClick=\"this.nextSibling.style.display='block';this.style.display='none';\">Display W&B run</button><iframe src=\"https://wandb.ai/luiscostigan/house-price-prediction/runs/1j7n91qn?jupyter=true\" style=\"border:none;width:100%;height:420px;display:none;\"></iframe>"
      ],
      "text/plain": [
       "<wandb.sdk.wandb_run.Run at 0x7f40f710a9a0>"
      ]
     },
     "execution_count": 4,
     "metadata": {},
     "output_type": "execute_result"
    }
   ],
   "source": [
    "# Log into Weights and Biases\n",
    "wandb.init(project=\"house-price-prediction\", entity=\"luiscostigan\")"
   ]
  },
  {
   "cell_type": "code",
   "execution_count": 5,
   "id": "1b06efad-42f3-4cb3-90c9-ee188ed47acc",
   "metadata": {},
   "outputs": [],
   "source": [
    "# Define simple Sequential model\n",
    "def create_model():\n",
    "    model = Sequential()\n",
    "    model.add(Dense(32, input_dim=X_train.shape[1], activation='relu'))\n",
    "    model.add(Dense(wandb.config.dense1, activation='relu'))\n",
    "    model.add(Dropout(wandb.config.dropout1))\n",
    "    model.add(Dense(wandb.config.dense2, activation='relu'))\n",
    "    model.add(Dense(1))\n",
    "    model.compile(optimizer='rmsprop', loss=Huber(), metrics=[RootMeanSquaredError()])\n",
    "    \n",
    "    return model"
   ]
  },
  {
   "cell_type": "code",
   "execution_count": 13,
   "id": "8227c35a",
   "metadata": {},
   "outputs": [
    {
     "name": "stdout",
     "output_type": "stream",
     "text": [
      "Device found : [PhysicalDevice(name='/physical_device:GPU:0', device_type='GPU')]\n"
     ]
    }
   ],
   "source": [
    "physical_device = tf.config.experimental.list_physical_devices('GPU')\n",
    "print(f'Device found : {physical_device}')"
   ]
  },
  {
   "cell_type": "code",
   "execution_count": 14,
   "id": "9e707d3f-2deb-4ac1-b274-48350e1027bd",
   "metadata": {},
   "outputs": [
    {
     "name": "stdout",
     "output_type": "stream",
     "text": [
      "Create sweep with ID: 397khox8\n",
      "Sweep URL: https://wandb.ai/luiscostigan/house-price-prediction/sweeps/397khox8\n"
     ]
    },
    {
     "name": "stderr",
     "output_type": "stream",
     "text": [
      "\u001b[34m\u001b[1mwandb\u001b[0m: Agent Starting Run: hc4av9ym with config:\n",
      "\u001b[34m\u001b[1mwandb\u001b[0m: \tbatch_size: 512\n",
      "\u001b[34m\u001b[1mwandb\u001b[0m: \tdense1: 32\n",
      "\u001b[34m\u001b[1mwandb\u001b[0m: \tdense2: 512\n",
      "\u001b[34m\u001b[1mwandb\u001b[0m: \tdropout1: 0.12343552425022022\n",
      "\u001b[34m\u001b[1mwandb\u001b[0m: \tepochs: 100\n"
     ]
    },
    {
     "data": {
      "text/html": [
       "Tracking run with wandb version 0.12.11"
      ],
      "text/plain": [
       "<IPython.core.display.HTML object>"
      ]
     },
     "metadata": {},
     "output_type": "display_data"
    },
    {
     "data": {
      "text/html": [
       "Run data is saved locally in <code>/workspaces/data-science-projects/house-price-prediction/Models/tensorflow/wandb/run-20220308_053330-hc4av9ym</code>"
      ],
      "text/plain": [
       "<IPython.core.display.HTML object>"
      ]
     },
     "metadata": {},
     "output_type": "display_data"
    },
    {
     "data": {
      "text/html": [
       "Syncing run <strong><a href=\"https://wandb.ai/luiscostigan/house-price-prediction/runs/hc4av9ym\" target=\"_blank\">zesty-sweep-1</a></strong> to <a href=\"https://wandb.ai/luiscostigan/house-price-prediction\" target=\"_blank\">Weights & Biases</a> (<a href=\"https://wandb.me/run\" target=\"_blank\">docs</a>)<br/>Sweep page:  <a href=\"https://wandb.ai/luiscostigan/house-price-prediction/sweeps/397khox8\" target=\"_blank\">https://wandb.ai/luiscostigan/house-price-prediction/sweeps/397khox8</a>"
      ],
      "text/plain": [
       "<IPython.core.display.HTML object>"
      ]
     },
     "metadata": {},
     "output_type": "display_data"
    },
    {
     "name": "stdout",
     "output_type": "stream",
     "text": [
      "37/37 [==============================] - 0s 4ms/step - loss: 0.7847 - root_mean_squared_error: 1.3013\n",
      "Score for fold 1: loss of 0.7847284078598022; root_mean_squared_error of 1.3012925386428833\n",
      "------------------------------------------------------------------------\n",
      "Score per fold\n",
      "------------------------------------------------------------------------\n",
      "> Fold 1 - Loss: 0.7847284078598022 - RMSE: 1.3012925386428833\n",
      "------------------------------------------------------------------------\n",
      "Average scores for all folds:\n",
      "> RMSE: 1.3012925386428833 (+- 0.0)\n",
      "> Loss: 0.7847284078598022\n",
      "------------------------------------------------------------------------\n",
      "\n"
     ]
    },
    {
     "data": {
      "text/html": [
       "Waiting for W&B process to finish... <strong style=\"color:green\">(success).</strong>"
      ],
      "text/plain": [
       "<IPython.core.display.HTML object>"
      ]
     },
     "metadata": {},
     "output_type": "display_data"
    },
    {
     "data": {
      "application/vnd.jupyter.widget-view+json": {
       "model_id": "c2e8d635ef6b4c1caaccc4dce515c4a9",
       "version_major": 2,
       "version_minor": 0
      },
      "text/plain": [
       "VBox(children=(Label(value='0.255 MB of 0.255 MB uploaded (0.000 MB deduped)\\r'), FloatProgress(value=1.0, max…"
      ]
     },
     "metadata": {},
     "output_type": "display_data"
    },
    {
     "data": {
      "text/html": [
       "<style>\n",
       "    table.wandb td:nth-child(1) { padding: 0 10px; text-align: right }\n",
       "    .wandb-row { display: flex; flex-direction: row; flex-wrap: wrap; width: 100% }\n",
       "    .wandb-col { display: flex; flex-direction: column; flex-basis: 100%; flex: 1; padding: 10px; }\n",
       "    </style>\n",
       "<div class=\"wandb-row\"><div class=\"wandb-col\"><h3>Run history:</h3><br/><table class=\"wandb\"><tr><td>Mean Validation Loss (all folds)</td><td>▁</td></tr><tr><td>Mean Validation RMSE (all folds)</td><td>▁</td></tr><tr><td>epoch</td><td>▁▁▁▁▂▂▂▂▂▃▃▃▃▃▃▄▄▄▄▄▅▅▅▅▅▅▆▆▆▆▆▇▇▇▇▇▇███</td></tr><tr><td>loss</td><td>█▄▁▁▁▁▁▁▁▁▁▁▁▁▁▁▁▁▁▁▁▁▁▁▁▁▁▁▁▁▁▁▁▁▁▁▁▁▁▁</td></tr><tr><td>root_mean_squared_error</td><td>█▄▁▁▁▁▁▁▁▁▁▁▁▁▁▁▁▁▁▁▁▁▁▁▁▁▁▁▁▁▁▁▁▁▁▁▁▁▁▁</td></tr><tr><td>val_loss</td><td>█▂▂▁▁▁▁▁▁▁▁▁▁▁▁▁▁▁▁▁▁▁▁▁▁▁▁▁▁▁▁▁▁▁▁▁▁▁▁▂</td></tr><tr><td>val_root_mean_squared_error</td><td>█▂▂▂▁▁▁▂▁▁▁▁▁▂▁▁▁▁▂▁▁▁▂▁▁▁▁▁▂▂▁▁▂▂▁▁▁▂▁▂</td></tr></table><br/></div><div class=\"wandb-col\"><h3>Run summary:</h3><br/><table class=\"wandb\"><tr><td>Mean Validation Loss (all folds)</td><td>0.78473</td></tr><tr><td>Mean Validation RMSE (all folds)</td><td>1.30129</td></tr><tr><td>best_epoch</td><td>84</td></tr><tr><td>best_val_loss</td><td>0.02448</td></tr><tr><td>epoch</td><td>99</td></tr><tr><td>loss</td><td>0.40216</td></tr><tr><td>root_mean_squared_error</td><td>0.95214</td></tr><tr><td>val_loss</td><td>0.78471</td></tr><tr><td>val_root_mean_squared_error</td><td>1.30127</td></tr></table><br/></div></div>"
      ],
      "text/plain": [
       "<IPython.core.display.HTML object>"
      ]
     },
     "metadata": {},
     "output_type": "display_data"
    },
    {
     "data": {
      "text/html": [
       "Synced <strong style=\"color:#cdcd00\">zesty-sweep-1</strong>: <a href=\"https://wandb.ai/luiscostigan/house-price-prediction/runs/hc4av9ym\" target=\"_blank\">https://wandb.ai/luiscostigan/house-price-prediction/runs/hc4av9ym</a><br/>Synced 5 W&B file(s), 0 media file(s), 0 artifact file(s) and 1 other file(s)"
      ],
      "text/plain": [
       "<IPython.core.display.HTML object>"
      ]
     },
     "metadata": {},
     "output_type": "display_data"
    },
    {
     "data": {
      "text/html": [
       "Find logs at: <code>./wandb/run-20220308_053330-hc4av9ym/logs</code>"
      ],
      "text/plain": [
       "<IPython.core.display.HTML object>"
      ]
     },
     "metadata": {},
     "output_type": "display_data"
    },
    {
     "data": {
      "text/html": [
       "Tracking run with wandb version 0.12.11"
      ],
      "text/plain": [
       "<IPython.core.display.HTML object>"
      ]
     },
     "metadata": {},
     "output_type": "display_data"
    },
    {
     "data": {
      "text/html": [
       "Run data is saved locally in <code>/workspaces/data-science-projects/house-price-prediction/Models/tensorflow/wandb/run-20220308_053344-hc4av9ym</code>"
      ],
      "text/plain": [
       "<IPython.core.display.HTML object>"
      ]
     },
     "metadata": {},
     "output_type": "display_data"
    },
    {
     "data": {
      "text/html": [
       "Syncing run <strong><a href=\"https://wandb.ai/luiscostigan/house-price-prediction/runs/hc4av9ym\" target=\"_blank\">zesty-sweep-1</a></strong> to <a href=\"https://wandb.ai/luiscostigan/house-price-prediction\" target=\"_blank\">Weights & Biases</a> (<a href=\"https://wandb.me/run\" target=\"_blank\">docs</a>)<br/>Sweep page:  <a href=\"https://wandb.ai/luiscostigan/house-price-prediction/sweeps/397khox8\" target=\"_blank\">https://wandb.ai/luiscostigan/house-price-prediction/sweeps/397khox8</a>"
      ],
      "text/plain": [
       "<IPython.core.display.HTML object>"
      ]
     },
     "metadata": {},
     "output_type": "display_data"
    },
    {
     "name": "stdout",
     "output_type": "stream",
     "text": [
      "37/37 [==============================] - 0s 3ms/step - loss: 0.0199 - root_mean_squared_error: 0.1997\n",
      "Score for fold 2: loss of 0.019939659163355827; root_mean_squared_error of 0.1996980756521225\n",
      "------------------------------------------------------------------------\n",
      "Score per fold\n",
      "------------------------------------------------------------------------\n",
      "> Fold 1 - Loss: 0.7847284078598022 - RMSE: 1.3012925386428833\n",
      "------------------------------------------------------------------------\n",
      "> Fold 2 - Loss: 0.019939659163355827 - RMSE: 0.1996980756521225\n",
      "------------------------------------------------------------------------\n",
      "Average scores for all folds:\n",
      "> RMSE: 0.7504953071475029 (+- 0.5507972314953804)\n",
      "> Loss: 0.40233403351157904\n",
      "------------------------------------------------------------------------\n",
      "\n"
     ]
    },
    {
     "data": {
      "text/html": [
       "Waiting for W&B process to finish... <strong style=\"color:green\">(success).</strong>"
      ],
      "text/plain": [
       "<IPython.core.display.HTML object>"
      ]
     },
     "metadata": {},
     "output_type": "display_data"
    },
    {
     "data": {
      "application/vnd.jupyter.widget-view+json": {
       "model_id": "e81dfc0b511a46d5a718b76257523720",
       "version_major": 2,
       "version_minor": 0
      },
      "text/plain": [
       "VBox(children=(Label(value='0.255 MB of 0.255 MB uploaded (0.000 MB deduped)\\r'), FloatProgress(value=1.0, max…"
      ]
     },
     "metadata": {},
     "output_type": "display_data"
    },
    {
     "data": {
      "text/html": [
       "<style>\n",
       "    table.wandb td:nth-child(1) { padding: 0 10px; text-align: right }\n",
       "    .wandb-row { display: flex; flex-direction: row; flex-wrap: wrap; width: 100% }\n",
       "    .wandb-col { display: flex; flex-direction: column; flex-basis: 100%; flex: 1; padding: 10px; }\n",
       "    </style>\n",
       "<div class=\"wandb-row\"><div class=\"wandb-col\"><h3>Run history:</h3><br/><table class=\"wandb\"><tr><td>Mean Validation Loss (all folds)</td><td>▁</td></tr><tr><td>Mean Validation RMSE (all folds)</td><td>▁</td></tr><tr><td>epoch</td><td>▁▁▁▁▂▂▂▂▂▃▃▃▃▃▃▄▄▄▄▄▅▅▅▅▅▅▆▆▆▆▆▇▇▇▇▇▇███</td></tr><tr><td>loss</td><td>█▄▁▁▁▁▁▁▁▁▁▁▁▁▁▁▁▁▁▁▁▁▁▁▁▁▁▁▁▁▁▁▁▁▁▁▁▁▁▁</td></tr><tr><td>root_mean_squared_error</td><td>█▄▁▁▁▁▁▁▁▁▁▁▁▁▁▁▁▁▁▁▁▁▁▁▁▁▁▁▁▁▁▁▁▁▁▁▁▁▁▁</td></tr><tr><td>val_loss</td><td>█▂▂▁▁▁▁▁▁▁▁▁▁▁▁▁▁▁▁▁▁▁▁▁▁▁▂▁▁▁▁▁▁▁▂▂▁▁▁▁</td></tr><tr><td>val_root_mean_squared_error</td><td>█▂▂▂▁▁▁▂▁▁▂▂▁▁▂▁▁▁▁▂▂▁▁▂▂▁▂▂▁▁▂▂▁▁▂▂▁▁▂▁</td></tr></table><br/></div><div class=\"wandb-col\"><h3>Run summary:</h3><br/><table class=\"wandb\"><tr><td>Mean Validation Loss (all folds)</td><td>0.40233</td></tr><tr><td>Mean Validation RMSE (all folds)</td><td>0.7505</td></tr><tr><td>best_epoch</td><td>95</td></tr><tr><td>best_val_loss</td><td>0.01938</td></tr><tr><td>epoch</td><td>99</td></tr><tr><td>loss</td><td>0.34923</td></tr><tr><td>root_mean_squared_error</td><td>0.88752</td></tr><tr><td>val_loss</td><td>0.01995</td></tr><tr><td>val_root_mean_squared_error</td><td>0.19976</td></tr></table><br/></div></div>"
      ],
      "text/plain": [
       "<IPython.core.display.HTML object>"
      ]
     },
     "metadata": {},
     "output_type": "display_data"
    },
    {
     "data": {
      "text/html": [
       "Synced <strong style=\"color:#cdcd00\">zesty-sweep-1</strong>: <a href=\"https://wandb.ai/luiscostigan/house-price-prediction/runs/hc4av9ym\" target=\"_blank\">https://wandb.ai/luiscostigan/house-price-prediction/runs/hc4av9ym</a><br/>Synced 5 W&B file(s), 0 media file(s), 0 artifact file(s) and 1 other file(s)"
      ],
      "text/plain": [
       "<IPython.core.display.HTML object>"
      ]
     },
     "metadata": {},
     "output_type": "display_data"
    },
    {
     "data": {
      "text/html": [
       "Find logs at: <code>./wandb/run-20220308_053344-hc4av9ym/logs</code>"
      ],
      "text/plain": [
       "<IPython.core.display.HTML object>"
      ]
     },
     "metadata": {},
     "output_type": "display_data"
    },
    {
     "data": {
      "text/html": [
       "Tracking run with wandb version 0.12.11"
      ],
      "text/plain": [
       "<IPython.core.display.HTML object>"
      ]
     },
     "metadata": {},
     "output_type": "display_data"
    },
    {
     "data": {
      "text/html": [
       "Run data is saved locally in <code>/workspaces/data-science-projects/house-price-prediction/Models/tensorflow/wandb/run-20220308_053358-hc4av9ym</code>"
      ],
      "text/plain": [
       "<IPython.core.display.HTML object>"
      ]
     },
     "metadata": {},
     "output_type": "display_data"
    },
    {
     "data": {
      "text/html": [
       "Syncing run <strong><a href=\"https://wandb.ai/luiscostigan/house-price-prediction/runs/hc4av9ym\" target=\"_blank\">zesty-sweep-1</a></strong> to <a href=\"https://wandb.ai/luiscostigan/house-price-prediction\" target=\"_blank\">Weights & Biases</a> (<a href=\"https://wandb.me/run\" target=\"_blank\">docs</a>)<br/>Sweep page:  <a href=\"https://wandb.ai/luiscostigan/house-price-prediction/sweeps/397khox8\" target=\"_blank\">https://wandb.ai/luiscostigan/house-price-prediction/sweeps/397khox8</a>"
      ],
      "text/plain": [
       "<IPython.core.display.HTML object>"
      ]
     },
     "metadata": {},
     "output_type": "display_data"
    },
    {
     "name": "stdout",
     "output_type": "stream",
     "text": [
      "37/37 [==============================] - 0s 3ms/step - loss: 0.0393 - root_mean_squared_error: 0.2803\n",
      "Score for fold 3: loss of 0.03928816318511963; root_mean_squared_error of 0.28031468391418457\n",
      "------------------------------------------------------------------------\n",
      "Score per fold\n",
      "------------------------------------------------------------------------\n",
      "> Fold 1 - Loss: 0.7847284078598022 - RMSE: 1.3012925386428833\n",
      "------------------------------------------------------------------------\n",
      "> Fold 2 - Loss: 0.019939659163355827 - RMSE: 0.1996980756521225\n",
      "------------------------------------------------------------------------\n",
      "> Fold 3 - Loss: 0.03928816318511963 - RMSE: 0.28031468391418457\n",
      "------------------------------------------------------------------------\n",
      "Average scores for all folds:\n",
      "> RMSE: 0.5937684327363968 (+- 0.5013764585026569)\n",
      "> Loss: 0.28131874340275925\n",
      "------------------------------------------------------------------------\n",
      "\n"
     ]
    },
    {
     "data": {
      "text/html": [
       "Waiting for W&B process to finish... <strong style=\"color:green\">(success).</strong>"
      ],
      "text/plain": [
       "<IPython.core.display.HTML object>"
      ]
     },
     "metadata": {},
     "output_type": "display_data"
    },
    {
     "data": {
      "application/vnd.jupyter.widget-view+json": {
       "model_id": "2573d7afeb8d49c1bf53d5369d56a39c",
       "version_major": 2,
       "version_minor": 0
      },
      "text/plain": [
       "VBox(children=(Label(value='0.255 MB of 0.255 MB uploaded (0.000 MB deduped)\\r'), FloatProgress(value=1.0, max…"
      ]
     },
     "metadata": {},
     "output_type": "display_data"
    },
    {
     "data": {
      "text/html": [
       "<style>\n",
       "    table.wandb td:nth-child(1) { padding: 0 10px; text-align: right }\n",
       "    .wandb-row { display: flex; flex-direction: row; flex-wrap: wrap; width: 100% }\n",
       "    .wandb-col { display: flex; flex-direction: column; flex-basis: 100%; flex: 1; padding: 10px; }\n",
       "    </style>\n",
       "<div class=\"wandb-row\"><div class=\"wandb-col\"><h3>Run history:</h3><br/><table class=\"wandb\"><tr><td>Mean Validation Loss (all folds)</td><td>▁</td></tr><tr><td>Mean Validation RMSE (all folds)</td><td>▁</td></tr><tr><td>epoch</td><td>▁▁▁▁▂▂▂▂▂▃▃▃▃▃▃▄▄▄▄▄▅▅▅▅▅▅▆▆▆▆▆▇▇▇▇▇▇███</td></tr><tr><td>loss</td><td>█▂▁▁▁▁▁▁▁▁▁▁▁▁▁▁▁▁▁▁▁▁▁▁▁▁▁▁▁▁▁▁▁▁▁▁▁▁▁▁</td></tr><tr><td>root_mean_squared_error</td><td>█▃▂▁▁▁▁▁▁▁▁▁▁▁▁▁▁▁▁▁▁▁▁▁▁▁▁▁▁▁▁▁▁▁▁▁▁▁▁▁</td></tr><tr><td>val_loss</td><td>█▁▁▁▂▁▁▁▁▁▁▁▁▁▁▁▁▁▁▁▁▁▁▁▂▁▂▂▁▁▂▂▁▁▂▂▁▁▂▁</td></tr><tr><td>val_root_mean_squared_error</td><td>█▂▂▁▂▁▁▁▁▂▁▁▂▁▁▂▂▁▁▂▂▁▁▂▂▁▂▂▁▁▂▂▁▁▂▂▁▁▂▁</td></tr></table><br/></div><div class=\"wandb-col\"><h3>Run summary:</h3><br/><table class=\"wandb\"><tr><td>Mean Validation Loss (all folds)</td><td>0.28132</td></tr><tr><td>Mean Validation RMSE (all folds)</td><td>0.59377</td></tr><tr><td>best_epoch</td><td>97</td></tr><tr><td>best_val_loss</td><td>0.02066</td></tr><tr><td>epoch</td><td>99</td></tr><tr><td>loss</td><td>0.38873</td></tr><tr><td>root_mean_squared_error</td><td>0.93676</td></tr><tr><td>val_loss</td><td>0.03933</td></tr><tr><td>val_root_mean_squared_error</td><td>0.28045</td></tr></table><br/></div></div>"
      ],
      "text/plain": [
       "<IPython.core.display.HTML object>"
      ]
     },
     "metadata": {},
     "output_type": "display_data"
    },
    {
     "data": {
      "text/html": [
       "Synced <strong style=\"color:#cdcd00\">zesty-sweep-1</strong>: <a href=\"https://wandb.ai/luiscostigan/house-price-prediction/runs/hc4av9ym\" target=\"_blank\">https://wandb.ai/luiscostigan/house-price-prediction/runs/hc4av9ym</a><br/>Synced 5 W&B file(s), 0 media file(s), 0 artifact file(s) and 1 other file(s)"
      ],
      "text/plain": [
       "<IPython.core.display.HTML object>"
      ]
     },
     "metadata": {},
     "output_type": "display_data"
    },
    {
     "data": {
      "text/html": [
       "Find logs at: <code>./wandb/run-20220308_053358-hc4av9ym/logs</code>"
      ],
      "text/plain": [
       "<IPython.core.display.HTML object>"
      ]
     },
     "metadata": {},
     "output_type": "display_data"
    },
    {
     "data": {
      "text/html": [
       "Tracking run with wandb version 0.12.11"
      ],
      "text/plain": [
       "<IPython.core.display.HTML object>"
      ]
     },
     "metadata": {},
     "output_type": "display_data"
    },
    {
     "data": {
      "text/html": [
       "Run data is saved locally in <code>/workspaces/data-science-projects/house-price-prediction/Models/tensorflow/wandb/run-20220308_053412-hc4av9ym</code>"
      ],
      "text/plain": [
       "<IPython.core.display.HTML object>"
      ]
     },
     "metadata": {},
     "output_type": "display_data"
    },
    {
     "data": {
      "text/html": [
       "Syncing run <strong><a href=\"https://wandb.ai/luiscostigan/house-price-prediction/runs/hc4av9ym\" target=\"_blank\">zesty-sweep-1</a></strong> to <a href=\"https://wandb.ai/luiscostigan/house-price-prediction\" target=\"_blank\">Weights & Biases</a> (<a href=\"https://wandb.me/run\" target=\"_blank\">docs</a>)<br/>Sweep page:  <a href=\"https://wandb.ai/luiscostigan/house-price-prediction/sweeps/397khox8\" target=\"_blank\">https://wandb.ai/luiscostigan/house-price-prediction/sweeps/397khox8</a>"
      ],
      "text/plain": [
       "<IPython.core.display.HTML object>"
      ]
     },
     "metadata": {},
     "output_type": "display_data"
    },
    {
     "name": "stdout",
     "output_type": "stream",
     "text": [
      "37/37 [==============================] - 0s 4ms/step - loss: 0.0256 - root_mean_squared_error: 0.2263\n",
      "Score for fold 4: loss of 0.02560204267501831; root_mean_squared_error of 0.22628319263458252\n",
      "------------------------------------------------------------------------\n",
      "Score per fold\n",
      "------------------------------------------------------------------------\n",
      "> Fold 1 - Loss: 0.7847284078598022 - RMSE: 1.3012925386428833\n",
      "------------------------------------------------------------------------\n",
      "> Fold 2 - Loss: 0.019939659163355827 - RMSE: 0.1996980756521225\n",
      "------------------------------------------------------------------------\n",
      "> Fold 3 - Loss: 0.03928816318511963 - RMSE: 0.28031468391418457\n",
      "------------------------------------------------------------------------\n",
      "> Fold 4 - Loss: 0.02560204267501831 - RMSE: 0.22628319263458252\n",
      "------------------------------------------------------------------------\n",
      "Average scores for all folds:\n",
      "> RMSE: 0.5018971227109432 (+- 0.46244435089303315)\n",
      "> Loss: 0.217389568220824\n",
      "------------------------------------------------------------------------\n",
      "\n"
     ]
    },
    {
     "data": {
      "text/html": [
       "Waiting for W&B process to finish... <strong style=\"color:green\">(success).</strong>"
      ],
      "text/plain": [
       "<IPython.core.display.HTML object>"
      ]
     },
     "metadata": {},
     "output_type": "display_data"
    },
    {
     "data": {
      "application/vnd.jupyter.widget-view+json": {
       "model_id": "fdcbea254f2f47a786c73c6d422064d3",
       "version_major": 2,
       "version_minor": 0
      },
      "text/plain": [
       "VBox(children=(Label(value='0.255 MB of 0.255 MB uploaded (0.000 MB deduped)\\r'), FloatProgress(value=1.0, max…"
      ]
     },
     "metadata": {},
     "output_type": "display_data"
    },
    {
     "data": {
      "text/html": [
       "<style>\n",
       "    table.wandb td:nth-child(1) { padding: 0 10px; text-align: right }\n",
       "    .wandb-row { display: flex; flex-direction: row; flex-wrap: wrap; width: 100% }\n",
       "    .wandb-col { display: flex; flex-direction: column; flex-basis: 100%; flex: 1; padding: 10px; }\n",
       "    </style>\n",
       "<div class=\"wandb-row\"><div class=\"wandb-col\"><h3>Run history:</h3><br/><table class=\"wandb\"><tr><td>Mean Validation Loss (all folds)</td><td>▁</td></tr><tr><td>Mean Validation RMSE (all folds)</td><td>▁</td></tr><tr><td>epoch</td><td>▁▁▁▁▂▂▂▂▂▃▃▃▃▃▃▄▄▄▄▄▅▅▅▅▅▅▆▆▆▆▆▇▇▇▇▇▇███</td></tr><tr><td>loss</td><td>█▄▁▁▁▁▁▁▁▁▁▁▁▁▁▁▁▁▁▁▁▁▁▁▁▁▁▁▁▁▁▁▁▁▁▁▁▁▁▁</td></tr><tr><td>root_mean_squared_error</td><td>█▅▁▂▁▁▁▁▁▁▁▁▁▁▁▁▁▁▁▁▁▁▁▁▁▁▁▁▁▁▁▁▁▁▁▁▁▁▁▁</td></tr><tr><td>val_loss</td><td>█▂▁▁▁▁▁▁▁▁▁▁▁▁▁▁▁▁▁▁▁▁▁▁▁▁▁▁▁▁▁▁▁▁▁▂▁▁▂▁</td></tr><tr><td>val_root_mean_squared_error</td><td>█▂▂▂▂▂▁▁▂▂▁▁▂▁▁▂▂▁▁▁▂▁▁▂▂▁▂▂▁▁▂▂▁▁▂▂▁▁▂▁</td></tr></table><br/></div><div class=\"wandb-col\"><h3>Run summary:</h3><br/><table class=\"wandb\"><tr><td>Mean Validation Loss (all folds)</td><td>0.21739</td></tr><tr><td>Mean Validation RMSE (all folds)</td><td>0.5019</td></tr><tr><td>best_epoch</td><td>93</td></tr><tr><td>best_val_loss</td><td>0.02117</td></tr><tr><td>epoch</td><td>99</td></tr><tr><td>loss</td><td>0.30984</td></tr><tr><td>root_mean_squared_error</td><td>0.83125</td></tr><tr><td>val_loss</td><td>0.0256</td></tr><tr><td>val_root_mean_squared_error</td><td>0.22627</td></tr></table><br/></div></div>"
      ],
      "text/plain": [
       "<IPython.core.display.HTML object>"
      ]
     },
     "metadata": {},
     "output_type": "display_data"
    },
    {
     "data": {
      "text/html": [
       "Synced <strong style=\"color:#cdcd00\">zesty-sweep-1</strong>: <a href=\"https://wandb.ai/luiscostigan/house-price-prediction/runs/hc4av9ym\" target=\"_blank\">https://wandb.ai/luiscostigan/house-price-prediction/runs/hc4av9ym</a><br/>Synced 5 W&B file(s), 0 media file(s), 0 artifact file(s) and 1 other file(s)"
      ],
      "text/plain": [
       "<IPython.core.display.HTML object>"
      ]
     },
     "metadata": {},
     "output_type": "display_data"
    },
    {
     "data": {
      "text/html": [
       "Find logs at: <code>./wandb/run-20220308_053412-hc4av9ym/logs</code>"
      ],
      "text/plain": [
       "<IPython.core.display.HTML object>"
      ]
     },
     "metadata": {},
     "output_type": "display_data"
    },
    {
     "data": {
      "text/html": [
       "Tracking run with wandb version 0.12.11"
      ],
      "text/plain": [
       "<IPython.core.display.HTML object>"
      ]
     },
     "metadata": {},
     "output_type": "display_data"
    },
    {
     "data": {
      "text/html": [
       "Run data is saved locally in <code>/workspaces/data-science-projects/house-price-prediction/Models/tensorflow/wandb/run-20220308_053426-hc4av9ym</code>"
      ],
      "text/plain": [
       "<IPython.core.display.HTML object>"
      ]
     },
     "metadata": {},
     "output_type": "display_data"
    },
    {
     "data": {
      "text/html": [
       "Syncing run <strong><a href=\"https://wandb.ai/luiscostigan/house-price-prediction/runs/hc4av9ym\" target=\"_blank\">zesty-sweep-1</a></strong> to <a href=\"https://wandb.ai/luiscostigan/house-price-prediction\" target=\"_blank\">Weights & Biases</a> (<a href=\"https://wandb.me/run\" target=\"_blank\">docs</a>)<br/>Sweep page:  <a href=\"https://wandb.ai/luiscostigan/house-price-prediction/sweeps/397khox8\" target=\"_blank\">https://wandb.ai/luiscostigan/house-price-prediction/sweeps/397khox8</a>"
      ],
      "text/plain": [
       "<IPython.core.display.HTML object>"
      ]
     },
     "metadata": {},
     "output_type": "display_data"
    },
    {
     "name": "stdout",
     "output_type": "stream",
     "text": [
      "37/37 [==============================] - 0s 4ms/step - loss: 1.0786 - root_mean_squared_error: 1.5898\n",
      "Score for fold 5: loss of 1.078575849533081; root_mean_squared_error of 1.5898329019546509\n",
      "------------------------------------------------------------------------\n",
      "Score per fold\n",
      "------------------------------------------------------------------------\n",
      "> Fold 1 - Loss: 0.7847284078598022 - RMSE: 1.3012925386428833\n",
      "------------------------------------------------------------------------\n",
      "> Fold 2 - Loss: 0.019939659163355827 - RMSE: 0.1996980756521225\n",
      "------------------------------------------------------------------------\n",
      "> Fold 3 - Loss: 0.03928816318511963 - RMSE: 0.28031468391418457\n",
      "------------------------------------------------------------------------\n",
      "> Fold 4 - Loss: 0.02560204267501831 - RMSE: 0.22628319263458252\n",
      "------------------------------------------------------------------------\n",
      "> Fold 5 - Loss: 1.078575849533081 - RMSE: 1.5898329019546509\n",
      "------------------------------------------------------------------------\n",
      "Average scores for all folds:\n",
      "> RMSE: 0.7194842785596848 (+- 0.6003836304394726)\n",
      "> Loss: 0.3896268244832754\n",
      "------------------------------------------------------------------------\n",
      "\n"
     ]
    },
    {
     "data": {
      "text/html": [
       "Waiting for W&B process to finish... <strong style=\"color:green\">(success).</strong>"
      ],
      "text/plain": [
       "<IPython.core.display.HTML object>"
      ]
     },
     "metadata": {},
     "output_type": "display_data"
    },
    {
     "data": {
      "application/vnd.jupyter.widget-view+json": {
       "model_id": "298293125c374f529b8a29ca02e4c836",
       "version_major": 2,
       "version_minor": 0
      },
      "text/plain": [
       "VBox(children=(Label(value='0.255 MB of 0.255 MB uploaded (0.000 MB deduped)\\r'), FloatProgress(value=1.0, max…"
      ]
     },
     "metadata": {},
     "output_type": "display_data"
    },
    {
     "data": {
      "text/html": [
       "<style>\n",
       "    table.wandb td:nth-child(1) { padding: 0 10px; text-align: right }\n",
       "    .wandb-row { display: flex; flex-direction: row; flex-wrap: wrap; width: 100% }\n",
       "    .wandb-col { display: flex; flex-direction: column; flex-basis: 100%; flex: 1; padding: 10px; }\n",
       "    </style>\n",
       "<div class=\"wandb-row\"><div class=\"wandb-col\"><h3>Run history:</h3><br/><table class=\"wandb\"><tr><td>Mean Validation Loss (all folds)</td><td>▁</td></tr><tr><td>Mean Validation RMSE (all folds)</td><td>▁</td></tr><tr><td>epoch</td><td>▁▁▁▁▂▂▂▂▂▃▃▃▃▃▃▄▄▄▄▄▅▅▅▅▅▅▆▆▆▆▆▇▇▇▇▇▇███</td></tr><tr><td>loss</td><td>█▃▁▁▁▁▁▁▁▁▁▁▁▁▁▁▁▁▁▁▁▁▁▁▁▁▁▁▁▁▁▁▁▁▁▁▁▁▁▁</td></tr><tr><td>root_mean_squared_error</td><td>█▃▂▁▁▁▁▁▁▁▁▁▁▁▁▁▁▁▁▁▁▁▁▁▁▁▁▁▁▁▁▁▁▁▁▁▁▁▁▁</td></tr><tr><td>val_loss</td><td>█▁▂▁▁▁▂▂▁▁▁▁▁▁▁▁▁▂▁▁▁▁▂▁▁▂▁▁▂▂▁▁▂▂▁▁▂▂▁▂</td></tr><tr><td>val_root_mean_squared_error</td><td>█▂▂▂▁▁▂▂▁▁▂▂▁▂▂▁▁▂▂▁▁▂▂▁▁▂▁▁▂▂▁▁▂▂▁▁▂▂▁▂</td></tr></table><br/></div><div class=\"wandb-col\"><h3>Run summary:</h3><br/><table class=\"wandb\"><tr><td>Mean Validation Loss (all folds)</td><td>0.38963</td></tr><tr><td>Mean Validation RMSE (all folds)</td><td>0.71948</td></tr><tr><td>best_epoch</td><td>82</td></tr><tr><td>best_val_loss</td><td>0.02469</td></tr><tr><td>epoch</td><td>99</td></tr><tr><td>loss</td><td>0.30668</td></tr><tr><td>root_mean_squared_error</td><td>0.80784</td></tr><tr><td>val_loss</td><td>1.07908</td></tr><tr><td>val_root_mean_squared_error</td><td>1.59033</td></tr></table><br/></div></div>"
      ],
      "text/plain": [
       "<IPython.core.display.HTML object>"
      ]
     },
     "metadata": {},
     "output_type": "display_data"
    },
    {
     "data": {
      "text/html": [
       "Synced <strong style=\"color:#cdcd00\">zesty-sweep-1</strong>: <a href=\"https://wandb.ai/luiscostigan/house-price-prediction/runs/hc4av9ym\" target=\"_blank\">https://wandb.ai/luiscostigan/house-price-prediction/runs/hc4av9ym</a><br/>Synced 5 W&B file(s), 0 media file(s), 0 artifact file(s) and 1 other file(s)"
      ],
      "text/plain": [
       "<IPython.core.display.HTML object>"
      ]
     },
     "metadata": {},
     "output_type": "display_data"
    },
    {
     "data": {
      "text/html": [
       "Find logs at: <code>./wandb/run-20220308_053426-hc4av9ym/logs</code>"
      ],
      "text/plain": [
       "<IPython.core.display.HTML object>"
      ]
     },
     "metadata": {},
     "output_type": "display_data"
    },
    {
     "name": "stderr",
     "output_type": "stream",
     "text": [
      "\u001b[34m\u001b[1mwandb\u001b[0m: Agent Starting Run: rv6f9eoz with config:\n",
      "\u001b[34m\u001b[1mwandb\u001b[0m: \tbatch_size: 8\n",
      "\u001b[34m\u001b[1mwandb\u001b[0m: \tdense1: 2048\n",
      "\u001b[34m\u001b[1mwandb\u001b[0m: \tdense2: 4096\n",
      "\u001b[34m\u001b[1mwandb\u001b[0m: \tdropout1: 0.1053244838314203\n",
      "\u001b[34m\u001b[1mwandb\u001b[0m: \tepochs: 250\n"
     ]
    },
    {
     "data": {
      "text/html": [
       "Tracking run with wandb version 0.12.11"
      ],
      "text/plain": [
       "<IPython.core.display.HTML object>"
      ]
     },
     "metadata": {},
     "output_type": "display_data"
    },
    {
     "data": {
      "text/html": [
       "Run data is saved locally in <code>/workspaces/data-science-projects/house-price-prediction/Models/tensorflow/wandb/run-20220308_053444-rv6f9eoz</code>"
      ],
      "text/plain": [
       "<IPython.core.display.HTML object>"
      ]
     },
     "metadata": {},
     "output_type": "display_data"
    },
    {
     "data": {
      "text/html": [
       "Syncing run <strong><a href=\"https://wandb.ai/luiscostigan/house-price-prediction/runs/rv6f9eoz\" target=\"_blank\">bumbling-sweep-2</a></strong> to <a href=\"https://wandb.ai/luiscostigan/house-price-prediction\" target=\"_blank\">Weights & Biases</a> (<a href=\"https://wandb.me/run\" target=\"_blank\">docs</a>)<br/>Sweep page:  <a href=\"https://wandb.ai/luiscostigan/house-price-prediction/sweeps/397khox8\" target=\"_blank\">https://wandb.ai/luiscostigan/house-price-prediction/sweeps/397khox8</a>"
      ],
      "text/plain": [
       "<IPython.core.display.HTML object>"
      ]
     },
     "metadata": {},
     "output_type": "display_data"
    },
    {
     "name": "stdout",
     "output_type": "stream",
     "text": [
      "37/37 [==============================] - 0s 4ms/step - loss: 0.0064 - root_mean_squared_error: 0.1133\n",
      "Score for fold 1: loss of 0.0064199501648545265; root_mean_squared_error of 0.11331328004598618\n",
      "------------------------------------------------------------------------\n",
      "Score per fold\n",
      "------------------------------------------------------------------------\n",
      "> Fold 1 - Loss: 0.0064199501648545265 - RMSE: 0.11331328004598618\n",
      "------------------------------------------------------------------------\n",
      "Average scores for all folds:\n",
      "> RMSE: 0.11331328004598618 (+- 0.0)\n",
      "> Loss: 0.0064199501648545265\n",
      "------------------------------------------------------------------------\n",
      "\n"
     ]
    },
    {
     "data": {
      "text/html": [
       "Waiting for W&B process to finish... <strong style=\"color:green\">(success).</strong>"
      ],
      "text/plain": [
       "<IPython.core.display.HTML object>"
      ]
     },
     "metadata": {},
     "output_type": "display_data"
    },
    {
     "data": {
      "application/vnd.jupyter.widget-view+json": {
       "model_id": "8370cc5c7c7b4d8eb4618a57eaa62d90",
       "version_major": 2,
       "version_minor": 0
      },
      "text/plain": [
       "VBox(children=(Label(value='0.312 MB of 0.312 MB uploaded (0.000 MB deduped)\\r'), FloatProgress(value=1.0, max…"
      ]
     },
     "metadata": {},
     "output_type": "display_data"
    },
    {
     "data": {
      "text/html": [
       "<style>\n",
       "    table.wandb td:nth-child(1) { padding: 0 10px; text-align: right }\n",
       "    .wandb-row { display: flex; flex-direction: row; flex-wrap: wrap; width: 100% }\n",
       "    .wandb-col { display: flex; flex-direction: column; flex-basis: 100%; flex: 1; padding: 10px; }\n",
       "    </style>\n",
       "<div class=\"wandb-row\"><div class=\"wandb-col\"><h3>Run history:</h3><br/><table class=\"wandb\"><tr><td>Mean Validation Loss (all folds)</td><td>▁</td></tr><tr><td>Mean Validation RMSE (all folds)</td><td>▁</td></tr><tr><td>epoch</td><td>▁▁▁▂▂▂▂▂▂▃▃▃▃▃▄▄▄▄▄▄▅▅▅▅▅▅▆▆▆▆▆▇▇▇▇▇▇███</td></tr><tr><td>loss</td><td>█▃▃▂▂▁▁▁▁▁▁▁▁▁▁▁▁▁▁▁▁▁▁▁▁▁▁▁▁▁▁▁▁▁▁▁▁▁▁▁</td></tr><tr><td>root_mean_squared_error</td><td>█▄▄▃▂▂▂▁▁▁▁▁▁▁▁▁▁▁▁▁▁▁▁▁▁▁▁▁▁▁▁▁▁▁▁▁▁▁▁▁</td></tr><tr><td>val_loss</td><td>█▃▃▂▁▂▁▁▁▁▁▁▁▁▁▁▁▁▁▁▁▁▁▁▁▁▁▁▁▁▁▁▁▁▁▁▁▁▁▁</td></tr><tr><td>val_root_mean_squared_error</td><td>█▄▄▃▂▃▁▁▁▁▁▁▂▂▁▁▂▁▂▁▁▁▁▁▁▁▁▁▁▁▂▁▁▁▁▁▁▁▁▁</td></tr></table><br/></div><div class=\"wandb-col\"><h3>Run summary:</h3><br/><table class=\"wandb\"><tr><td>Mean Validation Loss (all folds)</td><td>0.00642</td></tr><tr><td>Mean Validation RMSE (all folds)</td><td>0.11331</td></tr><tr><td>best_epoch</td><td>244</td></tr><tr><td>best_val_loss</td><td>0.00509</td></tr><tr><td>epoch</td><td>249</td></tr><tr><td>loss</td><td>0.01107</td></tr><tr><td>root_mean_squared_error</td><td>0.14881</td></tr><tr><td>val_loss</td><td>0.00642</td></tr><tr><td>val_root_mean_squared_error</td><td>0.11332</td></tr></table><br/></div></div>"
      ],
      "text/plain": [
       "<IPython.core.display.HTML object>"
      ]
     },
     "metadata": {},
     "output_type": "display_data"
    },
    {
     "data": {
      "text/html": [
       "Synced <strong style=\"color:#cdcd00\">bumbling-sweep-2</strong>: <a href=\"https://wandb.ai/luiscostigan/house-price-prediction/runs/rv6f9eoz\" target=\"_blank\">https://wandb.ai/luiscostigan/house-price-prediction/runs/rv6f9eoz</a><br/>Synced 5 W&B file(s), 0 media file(s), 0 artifact file(s) and 1 other file(s)"
      ],
      "text/plain": [
       "<IPython.core.display.HTML object>"
      ]
     },
     "metadata": {},
     "output_type": "display_data"
    },
    {
     "data": {
      "text/html": [
       "Find logs at: <code>./wandb/run-20220308_053444-rv6f9eoz/logs</code>"
      ],
      "text/plain": [
       "<IPython.core.display.HTML object>"
      ]
     },
     "metadata": {},
     "output_type": "display_data"
    },
    {
     "data": {
      "text/html": [
       "Tracking run with wandb version 0.12.11"
      ],
      "text/plain": [
       "<IPython.core.display.HTML object>"
      ]
     },
     "metadata": {},
     "output_type": "display_data"
    },
    {
     "data": {
      "text/html": [
       "Run data is saved locally in <code>/workspaces/data-science-projects/house-price-prediction/Models/tensorflow/wandb/run-20220308_053911-rv6f9eoz</code>"
      ],
      "text/plain": [
       "<IPython.core.display.HTML object>"
      ]
     },
     "metadata": {},
     "output_type": "display_data"
    },
    {
     "data": {
      "text/html": [
       "Syncing run <strong><a href=\"https://wandb.ai/luiscostigan/house-price-prediction/runs/rv6f9eoz\" target=\"_blank\">bumbling-sweep-2</a></strong> to <a href=\"https://wandb.ai/luiscostigan/house-price-prediction\" target=\"_blank\">Weights & Biases</a> (<a href=\"https://wandb.me/run\" target=\"_blank\">docs</a>)<br/>Sweep page:  <a href=\"https://wandb.ai/luiscostigan/house-price-prediction/sweeps/397khox8\" target=\"_blank\">https://wandb.ai/luiscostigan/house-price-prediction/sweeps/397khox8</a>"
      ],
      "text/plain": [
       "<IPython.core.display.HTML object>"
      ]
     },
     "metadata": {},
     "output_type": "display_data"
    },
    {
     "name": "stdout",
     "output_type": "stream",
     "text": [
      "37/37 [==============================] - 0s 6ms/step - loss: 0.0025 - root_mean_squared_error: 0.0707\n",
      "Score for fold 2: loss of 0.0024963985197246075; root_mean_squared_error of 0.07065972685813904\n",
      "------------------------------------------------------------------------\n",
      "Score per fold\n",
      "------------------------------------------------------------------------\n",
      "> Fold 1 - Loss: 0.0064199501648545265 - RMSE: 0.11331328004598618\n",
      "------------------------------------------------------------------------\n",
      "> Fold 2 - Loss: 0.0024963985197246075 - RMSE: 0.07065972685813904\n",
      "------------------------------------------------------------------------\n",
      "Average scores for all folds:\n",
      "> RMSE: 0.0919865034520626 (+- 0.02132677659392357)\n",
      "> Loss: 0.004458174342289567\n",
      "------------------------------------------------------------------------\n",
      "\n"
     ]
    },
    {
     "data": {
      "text/html": [
       "Waiting for W&B process to finish... <strong style=\"color:green\">(success).</strong>"
      ],
      "text/plain": [
       "<IPython.core.display.HTML object>"
      ]
     },
     "metadata": {},
     "output_type": "display_data"
    },
    {
     "data": {
      "application/vnd.jupyter.widget-view+json": {
       "model_id": "df884b2c7fc641088686342eb1d03d4e",
       "version_major": 2,
       "version_minor": 0
      },
      "text/plain": [
       "VBox(children=(Label(value='1.665 MB of 64.692 MB uploaded (0.000 MB deduped)\\r'), FloatProgress(value=0.02573…"
      ]
     },
     "metadata": {},
     "output_type": "display_data"
    },
    {
     "data": {
      "text/html": [
       "<style>\n",
       "    table.wandb td:nth-child(1) { padding: 0 10px; text-align: right }\n",
       "    .wandb-row { display: flex; flex-direction: row; flex-wrap: wrap; width: 100% }\n",
       "    .wandb-col { display: flex; flex-direction: column; flex-basis: 100%; flex: 1; padding: 10px; }\n",
       "    </style>\n",
       "<div class=\"wandb-row\"><div class=\"wandb-col\"><h3>Run history:</h3><br/><table class=\"wandb\"><tr><td>Mean Validation Loss (all folds)</td><td>▁</td></tr><tr><td>Mean Validation RMSE (all folds)</td><td>▁</td></tr><tr><td>epoch</td><td>▁▁▁▂▂▂▂▂▂▃▃▃▃▃▄▄▄▄▄▄▅▅▅▅▅▅▆▆▆▆▆▇▇▇▇▇▇███</td></tr><tr><td>loss</td><td>█▄▃▂▂▁▁▁▁▁▁▁▁▁▁▁▁▁▁▁▁▁▁▁▁▁▁▁▁▁▁▁▁▁▁▁▁▁▁▁</td></tr><tr><td>root_mean_squared_error</td><td>█▄▄▃▂▂▂▁▁▁▁▁▁▁▁▁▁▁▁▁▁▁▁▁▁▁▁▁▁▁▁▁▁▁▁▁▁▁▁▁</td></tr><tr><td>val_loss</td><td>█▂▂▁▂▂▁▁▁▁▁▁▁▁▁▁▁▁▁▁▁▁▁▁▁▁▁▁▁▁▁▁▁▁▁▁▁▁▁▁</td></tr><tr><td>val_root_mean_squared_error</td><td>█▃▃▂▃▂▂▁▂▂▁▁▁▁▁▁▁▁▁▁▁▂▁▂▁▂▁▁▁▁▁▂▁▁▁▁▁▁▁▁</td></tr></table><br/></div><div class=\"wandb-col\"><h3>Run summary:</h3><br/><table class=\"wandb\"><tr><td>Mean Validation Loss (all folds)</td><td>0.00446</td></tr><tr><td>Mean Validation RMSE (all folds)</td><td>0.09199</td></tr><tr><td>best_epoch</td><td>249</td></tr><tr><td>best_val_loss</td><td>0.0025</td></tr><tr><td>epoch</td><td>249</td></tr><tr><td>loss</td><td>0.00838</td></tr><tr><td>root_mean_squared_error</td><td>0.12943</td></tr><tr><td>val_loss</td><td>0.0025</td></tr><tr><td>val_root_mean_squared_error</td><td>0.07067</td></tr></table><br/></div></div>"
      ],
      "text/plain": [
       "<IPython.core.display.HTML object>"
      ]
     },
     "metadata": {},
     "output_type": "display_data"
    },
    {
     "data": {
      "text/html": [
       "Synced <strong style=\"color:#cdcd00\">bumbling-sweep-2</strong>: <a href=\"https://wandb.ai/luiscostigan/house-price-prediction/runs/rv6f9eoz\" target=\"_blank\">https://wandb.ai/luiscostigan/house-price-prediction/runs/rv6f9eoz</a><br/>Synced 5 W&B file(s), 0 media file(s), 0 artifact file(s) and 1 other file(s)"
      ],
      "text/plain": [
       "<IPython.core.display.HTML object>"
      ]
     },
     "metadata": {},
     "output_type": "display_data"
    },
    {
     "data": {
      "text/html": [
       "Find logs at: <code>./wandb/run-20220308_053911-rv6f9eoz/logs</code>"
      ],
      "text/plain": [
       "<IPython.core.display.HTML object>"
      ]
     },
     "metadata": {},
     "output_type": "display_data"
    },
    {
     "data": {
      "text/html": [
       "Tracking run with wandb version 0.12.11"
      ],
      "text/plain": [
       "<IPython.core.display.HTML object>"
      ]
     },
     "metadata": {},
     "output_type": "display_data"
    },
    {
     "data": {
      "text/html": [
       "Run data is saved locally in <code>/workspaces/data-science-projects/house-price-prediction/Models/tensorflow/wandb/run-20220308_054334-rv6f9eoz</code>"
      ],
      "text/plain": [
       "<IPython.core.display.HTML object>"
      ]
     },
     "metadata": {},
     "output_type": "display_data"
    },
    {
     "data": {
      "text/html": [
       "Syncing run <strong><a href=\"https://wandb.ai/luiscostigan/house-price-prediction/runs/rv6f9eoz\" target=\"_blank\">bumbling-sweep-2</a></strong> to <a href=\"https://wandb.ai/luiscostigan/house-price-prediction\" target=\"_blank\">Weights & Biases</a> (<a href=\"https://wandb.me/run\" target=\"_blank\">docs</a>)<br/>Sweep page:  <a href=\"https://wandb.ai/luiscostigan/house-price-prediction/sweeps/397khox8\" target=\"_blank\">https://wandb.ai/luiscostigan/house-price-prediction/sweeps/397khox8</a>"
      ],
      "text/plain": [
       "<IPython.core.display.HTML object>"
      ]
     },
     "metadata": {},
     "output_type": "display_data"
    },
    {
     "name": "stdout",
     "output_type": "stream",
     "text": [
      "37/37 [==============================] - 0s 5ms/step - loss: 0.0259 - root_mean_squared_error: 0.2274\n",
      "Score for fold 3: loss of 0.02585659921169281; root_mean_squared_error of 0.2274053692817688\n",
      "------------------------------------------------------------------------\n",
      "Score per fold\n",
      "------------------------------------------------------------------------\n",
      "> Fold 1 - Loss: 0.0064199501648545265 - RMSE: 0.11331328004598618\n",
      "------------------------------------------------------------------------\n",
      "> Fold 2 - Loss: 0.0024963985197246075 - RMSE: 0.07065972685813904\n",
      "------------------------------------------------------------------------\n",
      "> Fold 3 - Loss: 0.02585659921169281 - RMSE: 0.2274053692817688\n",
      "------------------------------------------------------------------------\n",
      "Average scores for all folds:\n",
      "> RMSE: 0.137126125395298 (+- 0.06616941794828274)\n",
      "> Loss: 0.011590982632090649\n",
      "------------------------------------------------------------------------\n",
      "\n"
     ]
    },
    {
     "data": {
      "text/html": [
       "Waiting for W&B process to finish... <strong style=\"color:green\">(success).</strong>"
      ],
      "text/plain": [
       "<IPython.core.display.HTML object>"
      ]
     },
     "metadata": {},
     "output_type": "display_data"
    },
    {
     "data": {
      "application/vnd.jupyter.widget-view+json": {
       "model_id": "21e781b0b7ca49759dae9af0c6b34298",
       "version_major": 2,
       "version_minor": 0
      },
      "text/plain": [
       "VBox(children=(Label(value='3.134 MB of 64.692 MB uploaded (0.000 MB deduped)\\r'), FloatProgress(value=0.04844…"
      ]
     },
     "metadata": {},
     "output_type": "display_data"
    },
    {
     "data": {
      "text/html": [
       "<style>\n",
       "    table.wandb td:nth-child(1) { padding: 0 10px; text-align: right }\n",
       "    .wandb-row { display: flex; flex-direction: row; flex-wrap: wrap; width: 100% }\n",
       "    .wandb-col { display: flex; flex-direction: column; flex-basis: 100%; flex: 1; padding: 10px; }\n",
       "    </style>\n",
       "<div class=\"wandb-row\"><div class=\"wandb-col\"><h3>Run history:</h3><br/><table class=\"wandb\"><tr><td>Mean Validation Loss (all folds)</td><td>▁</td></tr><tr><td>Mean Validation RMSE (all folds)</td><td>▁</td></tr><tr><td>epoch</td><td>▁▁▁▂▂▂▂▂▂▃▃▃▃▃▄▄▄▄▄▄▅▅▅▅▅▅▆▆▆▆▆▇▇▇▇▇▇███</td></tr><tr><td>loss</td><td>█▄▃▂▂▁▁▁▁▁▁▁▁▁▁▁▁▁▁▁▁▁▁▁▁▁▁▁▁▁▁▁▁▁▁▁▁▁▁▁</td></tr><tr><td>root_mean_squared_error</td><td>█▄▃▃▂▂▂▂▁▁▁▁▁▁▁▁▁▁▁▁▁▁▁▁▁▁▁▁▁▁▁▁▁▁▁▁▁▁▁▁</td></tr><tr><td>val_loss</td><td>█▃▁▂▃▁▂▁▁▁▁▁▁▁▁▁▁▁▁▁▁▁▁▁▁▁▁▁▁▁▁▁▁▁▁▁▁▁▁▁</td></tr><tr><td>val_root_mean_squared_error</td><td>█▄▂▂▄▂▂▂▂▁▁▂▁▁▂▁▁▂▁▁▁▂▂▁▁▁▂▁▁▁▁▂▂▁▁▂▁▁▁▁</td></tr></table><br/></div><div class=\"wandb-col\"><h3>Run summary:</h3><br/><table class=\"wandb\"><tr><td>Mean Validation Loss (all folds)</td><td>0.01159</td></tr><tr><td>Mean Validation RMSE (all folds)</td><td>0.13713</td></tr><tr><td>best_epoch</td><td>217</td></tr><tr><td>best_val_loss</td><td>0.00388</td></tr><tr><td>epoch</td><td>249</td></tr><tr><td>loss</td><td>0.01157</td></tr><tr><td>root_mean_squared_error</td><td>0.15213</td></tr><tr><td>val_loss</td><td>0.02585</td></tr><tr><td>val_root_mean_squared_error</td><td>0.22739</td></tr></table><br/></div></div>"
      ],
      "text/plain": [
       "<IPython.core.display.HTML object>"
      ]
     },
     "metadata": {},
     "output_type": "display_data"
    },
    {
     "data": {
      "text/html": [
       "Synced <strong style=\"color:#cdcd00\">bumbling-sweep-2</strong>: <a href=\"https://wandb.ai/luiscostigan/house-price-prediction/runs/rv6f9eoz\" target=\"_blank\">https://wandb.ai/luiscostigan/house-price-prediction/runs/rv6f9eoz</a><br/>Synced 5 W&B file(s), 0 media file(s), 0 artifact file(s) and 1 other file(s)"
      ],
      "text/plain": [
       "<IPython.core.display.HTML object>"
      ]
     },
     "metadata": {},
     "output_type": "display_data"
    },
    {
     "data": {
      "text/html": [
       "Find logs at: <code>./wandb/run-20220308_054334-rv6f9eoz/logs</code>"
      ],
      "text/plain": [
       "<IPython.core.display.HTML object>"
      ]
     },
     "metadata": {},
     "output_type": "display_data"
    },
    {
     "data": {
      "text/html": [
       "Tracking run with wandb version 0.12.11"
      ],
      "text/plain": [
       "<IPython.core.display.HTML object>"
      ]
     },
     "metadata": {},
     "output_type": "display_data"
    },
    {
     "data": {
      "text/html": [
       "Run data is saved locally in <code>/workspaces/data-science-projects/house-price-prediction/Models/tensorflow/wandb/run-20220308_054753-rv6f9eoz</code>"
      ],
      "text/plain": [
       "<IPython.core.display.HTML object>"
      ]
     },
     "metadata": {},
     "output_type": "display_data"
    },
    {
     "data": {
      "text/html": [
       "Syncing run <strong><a href=\"https://wandb.ai/luiscostigan/house-price-prediction/runs/rv6f9eoz\" target=\"_blank\">bumbling-sweep-2</a></strong> to <a href=\"https://wandb.ai/luiscostigan/house-price-prediction\" target=\"_blank\">Weights & Biases</a> (<a href=\"https://wandb.me/run\" target=\"_blank\">docs</a>)<br/>Sweep page:  <a href=\"https://wandb.ai/luiscostigan/house-price-prediction/sweeps/397khox8\" target=\"_blank\">https://wandb.ai/luiscostigan/house-price-prediction/sweeps/397khox8</a>"
      ],
      "text/plain": [
       "<IPython.core.display.HTML object>"
      ]
     },
     "metadata": {},
     "output_type": "display_data"
    },
    {
     "name": "stdout",
     "output_type": "stream",
     "text": [
      "37/37 [==============================] - 0s 5ms/step - loss: 0.0081 - root_mean_squared_error: 0.1272\n",
      "Score for fold 4: loss of 0.008091362193226814; root_mean_squared_error of 0.127211332321167\n",
      "------------------------------------------------------------------------\n",
      "Score per fold\n",
      "------------------------------------------------------------------------\n",
      "> Fold 1 - Loss: 0.0064199501648545265 - RMSE: 0.11331328004598618\n",
      "------------------------------------------------------------------------\n",
      "> Fold 2 - Loss: 0.0024963985197246075 - RMSE: 0.07065972685813904\n",
      "------------------------------------------------------------------------\n",
      "> Fold 3 - Loss: 0.02585659921169281 - RMSE: 0.2274053692817688\n",
      "------------------------------------------------------------------------\n",
      "> Fold 4 - Loss: 0.008091362193226814 - RMSE: 0.127211332321167\n",
      "------------------------------------------------------------------------\n",
      "Average scores for all folds:\n",
      "> RMSE: 0.13464742712676525 (+- 0.057464995771601454)\n",
      "> Loss: 0.01071607752237469\n",
      "------------------------------------------------------------------------\n",
      "\n"
     ]
    },
    {
     "data": {
      "text/html": [
       "Waiting for W&B process to finish... <strong style=\"color:green\">(success).</strong>"
      ],
      "text/plain": [
       "<IPython.core.display.HTML object>"
      ]
     },
     "metadata": {},
     "output_type": "display_data"
    },
    {
     "data": {
      "application/vnd.jupyter.widget-view+json": {
       "model_id": "e5f4f9a4d8024bb490dc17d9d70b72e1",
       "version_major": 2,
       "version_minor": 0
      },
      "text/plain": [
       "VBox(children=(Label(value='2.978 MB of 64.692 MB uploaded (0.000 MB deduped)\\r'), FloatProgress(value=0.04602…"
      ]
     },
     "metadata": {},
     "output_type": "display_data"
    },
    {
     "data": {
      "text/html": [
       "<style>\n",
       "    table.wandb td:nth-child(1) { padding: 0 10px; text-align: right }\n",
       "    .wandb-row { display: flex; flex-direction: row; flex-wrap: wrap; width: 100% }\n",
       "    .wandb-col { display: flex; flex-direction: column; flex-basis: 100%; flex: 1; padding: 10px; }\n",
       "    </style>\n",
       "<div class=\"wandb-row\"><div class=\"wandb-col\"><h3>Run history:</h3><br/><table class=\"wandb\"><tr><td>Mean Validation Loss (all folds)</td><td>▁</td></tr><tr><td>Mean Validation RMSE (all folds)</td><td>▁</td></tr><tr><td>epoch</td><td>▁▁▁▂▂▂▂▂▂▃▃▃▃▃▄▄▄▄▄▄▅▅▅▅▅▅▆▆▆▆▆▇▇▇▇▇▇███</td></tr><tr><td>loss</td><td>█▃▃▂▂▁▁▁▁▁▁▁▁▁▁▁▁▁▁▁▁▁▁▁▁▁▁▁▁▁▁▁▁▁▁▁▁▁▁▁</td></tr><tr><td>root_mean_squared_error</td><td>█▄▃▂▂▂▂▁▁▁▁▁▁▁▁▁▁▁▁▁▁▁▁▁▁▁▁▁▁▁▁▁▁▁▁▁▁▁▁▁</td></tr><tr><td>val_loss</td><td>█▄▂▁▁▂▂▁▁▁▁▁▁▁▁▁▁▁▁▁▁▁▁▁▁▁▁▁▁▁▁▁▁▁▁▁▁▁▁▁</td></tr><tr><td>val_root_mean_squared_error</td><td>█▅▃▂▂▃▃▂▁▂▁▁▂▂▁▁▁▁▁▁▁▁▁▂▁▂▁▁▁▁▁▂▁▁▁▁▁▂▁▂</td></tr></table><br/></div><div class=\"wandb-col\"><h3>Run summary:</h3><br/><table class=\"wandb\"><tr><td>Mean Validation Loss (all folds)</td><td>0.01072</td></tr><tr><td>Mean Validation RMSE (all folds)</td><td>0.13465</td></tr><tr><td>best_epoch</td><td>202</td></tr><tr><td>best_val_loss</td><td>0.00503</td></tr><tr><td>epoch</td><td>249</td></tr><tr><td>loss</td><td>0.01238</td></tr><tr><td>root_mean_squared_error</td><td>0.15744</td></tr><tr><td>val_loss</td><td>0.00809</td></tr><tr><td>val_root_mean_squared_error</td><td>0.12721</td></tr></table><br/></div></div>"
      ],
      "text/plain": [
       "<IPython.core.display.HTML object>"
      ]
     },
     "metadata": {},
     "output_type": "display_data"
    },
    {
     "data": {
      "text/html": [
       "Synced <strong style=\"color:#cdcd00\">bumbling-sweep-2</strong>: <a href=\"https://wandb.ai/luiscostigan/house-price-prediction/runs/rv6f9eoz\" target=\"_blank\">https://wandb.ai/luiscostigan/house-price-prediction/runs/rv6f9eoz</a><br/>Synced 5 W&B file(s), 0 media file(s), 0 artifact file(s) and 1 other file(s)"
      ],
      "text/plain": [
       "<IPython.core.display.HTML object>"
      ]
     },
     "metadata": {},
     "output_type": "display_data"
    },
    {
     "data": {
      "text/html": [
       "Find logs at: <code>./wandb/run-20220308_054753-rv6f9eoz/logs</code>"
      ],
      "text/plain": [
       "<IPython.core.display.HTML object>"
      ]
     },
     "metadata": {},
     "output_type": "display_data"
    },
    {
     "data": {
      "text/html": [
       "Tracking run with wandb version 0.12.11"
      ],
      "text/plain": [
       "<IPython.core.display.HTML object>"
      ]
     },
     "metadata": {},
     "output_type": "display_data"
    },
    {
     "data": {
      "text/html": [
       "Run data is saved locally in <code>/workspaces/data-science-projects/house-price-prediction/Models/tensorflow/wandb/run-20220308_055209-rv6f9eoz</code>"
      ],
      "text/plain": [
       "<IPython.core.display.HTML object>"
      ]
     },
     "metadata": {},
     "output_type": "display_data"
    },
    {
     "data": {
      "text/html": [
       "Syncing run <strong><a href=\"https://wandb.ai/luiscostigan/house-price-prediction/runs/rv6f9eoz\" target=\"_blank\">bumbling-sweep-2</a></strong> to <a href=\"https://wandb.ai/luiscostigan/house-price-prediction\" target=\"_blank\">Weights & Biases</a> (<a href=\"https://wandb.me/run\" target=\"_blank\">docs</a>)<br/>Sweep page:  <a href=\"https://wandb.ai/luiscostigan/house-price-prediction/sweeps/397khox8\" target=\"_blank\">https://wandb.ai/luiscostigan/house-price-prediction/sweeps/397khox8</a>"
      ],
      "text/plain": [
       "<IPython.core.display.HTML object>"
      ]
     },
     "metadata": {},
     "output_type": "display_data"
    },
    {
     "name": "stdout",
     "output_type": "stream",
     "text": [
      "37/37 [==============================] - 0s 4ms/step - loss: 0.0100 - root_mean_squared_error: 0.1411\n",
      "Score for fold 5: loss of 0.009953719563782215; root_mean_squared_error of 0.14109371602535248\n",
      "------------------------------------------------------------------------\n",
      "Score per fold\n",
      "------------------------------------------------------------------------\n",
      "> Fold 1 - Loss: 0.0064199501648545265 - RMSE: 0.11331328004598618\n",
      "------------------------------------------------------------------------\n",
      "> Fold 2 - Loss: 0.0024963985197246075 - RMSE: 0.07065972685813904\n",
      "------------------------------------------------------------------------\n",
      "> Fold 3 - Loss: 0.02585659921169281 - RMSE: 0.2274053692817688\n",
      "------------------------------------------------------------------------\n",
      "> Fold 4 - Loss: 0.008091362193226814 - RMSE: 0.127211332321167\n",
      "------------------------------------------------------------------------\n",
      "> Fold 5 - Loss: 0.009953719563782215 - RMSE: 0.14109371602535248\n",
      "------------------------------------------------------------------------\n",
      "Average scores for all folds:\n",
      "> RMSE: 0.1359366849064827 (+- 0.05146289278416426)\n",
      "> Loss: 0.010563605930656195\n",
      "------------------------------------------------------------------------\n",
      "\n"
     ]
    },
    {
     "data": {
      "text/html": [
       "Waiting for W&B process to finish... <strong style=\"color:green\">(success).</strong>"
      ],
      "text/plain": [
       "<IPython.core.display.HTML object>"
      ]
     },
     "metadata": {},
     "output_type": "display_data"
    },
    {
     "data": {
      "application/vnd.jupyter.widget-view+json": {
       "model_id": "ca72d59f79d04c39909484e2a205d741",
       "version_major": 2,
       "version_minor": 0
      },
      "text/plain": [
       "VBox(children=(Label(value='1.337 MB of 64.692 MB uploaded (0.000 MB deduped)\\r'), FloatProgress(value=0.02066…"
      ]
     },
     "metadata": {},
     "output_type": "display_data"
    },
    {
     "data": {
      "text/html": [
       "<style>\n",
       "    table.wandb td:nth-child(1) { padding: 0 10px; text-align: right }\n",
       "    .wandb-row { display: flex; flex-direction: row; flex-wrap: wrap; width: 100% }\n",
       "    .wandb-col { display: flex; flex-direction: column; flex-basis: 100%; flex: 1; padding: 10px; }\n",
       "    </style>\n",
       "<div class=\"wandb-row\"><div class=\"wandb-col\"><h3>Run history:</h3><br/><table class=\"wandb\"><tr><td>Mean Validation Loss (all folds)</td><td>▁</td></tr><tr><td>Mean Validation RMSE (all folds)</td><td>▁</td></tr><tr><td>epoch</td><td>▁▁▁▂▂▂▂▂▂▃▃▃▃▃▄▄▄▄▄▄▅▅▅▅▅▅▆▆▆▆▆▇▇▇▇▇▇███</td></tr><tr><td>loss</td><td>█▄▃▂▂▁▁▁▁▁▁▁▁▁▁▁▁▁▁▁▁▁▁▁▁▁▁▁▁▁▁▁▁▁▁▁▁▁▁▁</td></tr><tr><td>root_mean_squared_error</td><td>█▅▄▃▂▂▂▁▁▁▁▁▁▁▁▁▁▁▁▁▁▁▁▁▁▁▁▁▁▁▁▁▁▁▁▁▁▁▁▁</td></tr><tr><td>val_loss</td><td>█▆▄▂▂▂▁▁▁▁▁▁▁▁▁▁▁▁▁▁▁▁▁▁▁▁▁▁▁▁▁▁▁▁▁▁▁▁▁▁</td></tr><tr><td>val_root_mean_squared_error</td><td>█▆▅▃▃▃▁▂▁▁▁▂▁▁▂▁▁▁▁▁▁▁▁▁▁▁▁▁▁▂▁▁▁▁▁▁▁▂▁▁</td></tr></table><br/></div><div class=\"wandb-col\"><h3>Run summary:</h3><br/><table class=\"wandb\"><tr><td>Mean Validation Loss (all folds)</td><td>0.01056</td></tr><tr><td>Mean Validation RMSE (all folds)</td><td>0.13594</td></tr><tr><td>best_epoch</td><td>208</td></tr><tr><td>best_val_loss</td><td>0.0052</td></tr><tr><td>epoch</td><td>249</td></tr><tr><td>loss</td><td>0.01096</td></tr><tr><td>root_mean_squared_error</td><td>0.14804</td></tr><tr><td>val_loss</td><td>0.00995</td></tr><tr><td>val_root_mean_squared_error</td><td>0.1411</td></tr></table><br/></div></div>"
      ],
      "text/plain": [
       "<IPython.core.display.HTML object>"
      ]
     },
     "metadata": {},
     "output_type": "display_data"
    },
    {
     "data": {
      "text/html": [
       "Synced <strong style=\"color:#cdcd00\">bumbling-sweep-2</strong>: <a href=\"https://wandb.ai/luiscostigan/house-price-prediction/runs/rv6f9eoz\" target=\"_blank\">https://wandb.ai/luiscostigan/house-price-prediction/runs/rv6f9eoz</a><br/>Synced 5 W&B file(s), 0 media file(s), 0 artifact file(s) and 1 other file(s)"
      ],
      "text/plain": [
       "<IPython.core.display.HTML object>"
      ]
     },
     "metadata": {},
     "output_type": "display_data"
    },
    {
     "data": {
      "text/html": [
       "Find logs at: <code>./wandb/run-20220308_055209-rv6f9eoz/logs</code>"
      ],
      "text/plain": [
       "<IPython.core.display.HTML object>"
      ]
     },
     "metadata": {},
     "output_type": "display_data"
    },
    {
     "name": "stderr",
     "output_type": "stream",
     "text": [
      "\u001b[34m\u001b[1mwandb\u001b[0m: Agent Starting Run: jyv0xt71 with config:\n",
      "\u001b[34m\u001b[1mwandb\u001b[0m: \tbatch_size: 8\n",
      "\u001b[34m\u001b[1mwandb\u001b[0m: \tdense1: 512\n",
      "\u001b[34m\u001b[1mwandb\u001b[0m: \tdense2: 512\n",
      "\u001b[34m\u001b[1mwandb\u001b[0m: \tdropout1: 0.11490164345970497\n",
      "\u001b[34m\u001b[1mwandb\u001b[0m: \tepochs: 250\n"
     ]
    },
    {
     "data": {
      "text/html": [
       "Tracking run with wandb version 0.12.11"
      ],
      "text/plain": [
       "<IPython.core.display.HTML object>"
      ]
     },
     "metadata": {},
     "output_type": "display_data"
    },
    {
     "data": {
      "text/html": [
       "Run data is saved locally in <code>/workspaces/data-science-projects/house-price-prediction/Models/tensorflow/wandb/run-20220308_055633-jyv0xt71</code>"
      ],
      "text/plain": [
       "<IPython.core.display.HTML object>"
      ]
     },
     "metadata": {},
     "output_type": "display_data"
    },
    {
     "data": {
      "text/html": [
       "Syncing run <strong><a href=\"https://wandb.ai/luiscostigan/house-price-prediction/runs/jyv0xt71\" target=\"_blank\">worldly-sweep-3</a></strong> to <a href=\"https://wandb.ai/luiscostigan/house-price-prediction\" target=\"_blank\">Weights & Biases</a> (<a href=\"https://wandb.me/run\" target=\"_blank\">docs</a>)<br/>Sweep page:  <a href=\"https://wandb.ai/luiscostigan/house-price-prediction/sweeps/397khox8\" target=\"_blank\">https://wandb.ai/luiscostigan/house-price-prediction/sweeps/397khox8</a>"
      ],
      "text/plain": [
       "<IPython.core.display.HTML object>"
      ]
     },
     "metadata": {},
     "output_type": "display_data"
    },
    {
     "name": "stdout",
     "output_type": "stream",
     "text": [
      "37/37 [==============================] - 0s 4ms/step - loss: 0.0031 - root_mean_squared_error: 0.0791\n",
      "Score for fold 1: loss of 0.0031259646639227867; root_mean_squared_error of 0.07906914502382278\n",
      "------------------------------------------------------------------------\n",
      "Score per fold\n",
      "------------------------------------------------------------------------\n",
      "> Fold 1 - Loss: 0.0031259646639227867 - RMSE: 0.07906914502382278\n",
      "------------------------------------------------------------------------\n",
      "Average scores for all folds:\n",
      "> RMSE: 0.07906914502382278 (+- 0.0)\n",
      "> Loss: 0.0031259646639227867\n",
      "------------------------------------------------------------------------\n",
      "\n"
     ]
    },
    {
     "data": {
      "text/html": [
       "Waiting for W&B process to finish... <strong style=\"color:green\">(success).</strong>"
      ],
      "text/plain": [
       "<IPython.core.display.HTML object>"
      ]
     },
     "metadata": {},
     "output_type": "display_data"
    },
    {
     "data": {
      "application/vnd.jupyter.widget-view+json": {
       "model_id": "9f33e19f24d4477bb2057af2058f5801",
       "version_major": 2,
       "version_minor": 0
      },
      "text/plain": [
       "VBox(children=(Label(value='1.853 MB of 2.251 MB uploaded (0.000 MB deduped)\\r'), FloatProgress(value=0.823071…"
      ]
     },
     "metadata": {},
     "output_type": "display_data"
    },
    {
     "data": {
      "text/html": [
       "<style>\n",
       "    table.wandb td:nth-child(1) { padding: 0 10px; text-align: right }\n",
       "    .wandb-row { display: flex; flex-direction: row; flex-wrap: wrap; width: 100% }\n",
       "    .wandb-col { display: flex; flex-direction: column; flex-basis: 100%; flex: 1; padding: 10px; }\n",
       "    </style>\n",
       "<div class=\"wandb-row\"><div class=\"wandb-col\"><h3>Run history:</h3><br/><table class=\"wandb\"><tr><td>Mean Validation Loss (all folds)</td><td>▁</td></tr><tr><td>Mean Validation RMSE (all folds)</td><td>▁</td></tr><tr><td>epoch</td><td>▁▁▁▂▂▂▂▂▂▃▃▃▃▃▄▄▄▄▄▄▅▅▅▅▅▅▆▆▆▆▆▇▇▇▇▇▇███</td></tr><tr><td>loss</td><td>█▄▄▃▃▃▂▂▂▂▁▁▁▁▁▁▁▁▁▁▁▁▁▁▁▁▁▁▁▁▁▁▁▁▁▁▁▁▁▁</td></tr><tr><td>root_mean_squared_error</td><td>█▅▅▄▄▄▃▃▃▂▂▂▂▁▁▁▁▁▁▁▁▁▁▁▁▁▁▁▁▁▁▁▁▁▁▁▁▁▁▁</td></tr><tr><td>val_loss</td><td>█▂▁▂▂▂▂▁▂▁▂▁▁▁▁▁▁▁▁▁▁▁▁▁▁▁▁▁▁▁▁▁▁▁▁▁▁▁▁▁</td></tr><tr><td>val_root_mean_squared_error</td><td>█▃▂▃▃▃▃▂▄▁▄▂▂▁▂▁▁▁▁▁▁▁▁▁▁▁▁▁▁▁▁▁▁▁▁▁▁▁▁▁</td></tr></table><br/></div><div class=\"wandb-col\"><h3>Run summary:</h3><br/><table class=\"wandb\"><tr><td>Mean Validation Loss (all folds)</td><td>0.00313</td></tr><tr><td>Mean Validation RMSE (all folds)</td><td>0.07907</td></tr><tr><td>best_epoch</td><td>215</td></tr><tr><td>best_val_loss</td><td>0.00269</td></tr><tr><td>epoch</td><td>249</td></tr><tr><td>loss</td><td>0.00565</td></tr><tr><td>root_mean_squared_error</td><td>0.1063</td></tr><tr><td>val_loss</td><td>0.00313</td></tr><tr><td>val_root_mean_squared_error</td><td>0.07906</td></tr></table><br/></div></div>"
      ],
      "text/plain": [
       "<IPython.core.display.HTML object>"
      ]
     },
     "metadata": {},
     "output_type": "display_data"
    },
    {
     "data": {
      "text/html": [
       "Synced <strong style=\"color:#cdcd00\">worldly-sweep-3</strong>: <a href=\"https://wandb.ai/luiscostigan/house-price-prediction/runs/jyv0xt71\" target=\"_blank\">https://wandb.ai/luiscostigan/house-price-prediction/runs/jyv0xt71</a><br/>Synced 5 W&B file(s), 0 media file(s), 0 artifact file(s) and 1 other file(s)"
      ],
      "text/plain": [
       "<IPython.core.display.HTML object>"
      ]
     },
     "metadata": {},
     "output_type": "display_data"
    },
    {
     "data": {
      "text/html": [
       "Find logs at: <code>./wandb/run-20220308_055633-jyv0xt71/logs</code>"
      ],
      "text/plain": [
       "<IPython.core.display.HTML object>"
      ]
     },
     "metadata": {},
     "output_type": "display_data"
    },
    {
     "data": {
      "text/html": [
       "Tracking run with wandb version 0.12.11"
      ],
      "text/plain": [
       "<IPython.core.display.HTML object>"
      ]
     },
     "metadata": {},
     "output_type": "display_data"
    },
    {
     "data": {
      "text/html": [
       "Run data is saved locally in <code>/workspaces/data-science-projects/house-price-prediction/Models/tensorflow/wandb/run-20220308_055924-jyv0xt71</code>"
      ],
      "text/plain": [
       "<IPython.core.display.HTML object>"
      ]
     },
     "metadata": {},
     "output_type": "display_data"
    },
    {
     "data": {
      "text/html": [
       "Syncing run <strong><a href=\"https://wandb.ai/luiscostigan/house-price-prediction/runs/jyv0xt71\" target=\"_blank\">worldly-sweep-3</a></strong> to <a href=\"https://wandb.ai/luiscostigan/house-price-prediction\" target=\"_blank\">Weights & Biases</a> (<a href=\"https://wandb.me/run\" target=\"_blank\">docs</a>)<br/>Sweep page:  <a href=\"https://wandb.ai/luiscostigan/house-price-prediction/sweeps/397khox8\" target=\"_blank\">https://wandb.ai/luiscostigan/house-price-prediction/sweeps/397khox8</a>"
      ],
      "text/plain": [
       "<IPython.core.display.HTML object>"
      ]
     },
     "metadata": {},
     "output_type": "display_data"
    },
    {
     "name": "stdout",
     "output_type": "stream",
     "text": [
      "37/37 [==============================] - 0s 3ms/step - loss: 0.0219 - root_mean_squared_error: 0.2092\n",
      "Score for fold 2: loss of 0.021880969405174255; root_mean_squared_error of 0.20919354259967804\n",
      "------------------------------------------------------------------------\n",
      "Score per fold\n",
      "------------------------------------------------------------------------\n",
      "> Fold 1 - Loss: 0.0031259646639227867 - RMSE: 0.07906914502382278\n",
      "------------------------------------------------------------------------\n",
      "> Fold 2 - Loss: 0.021880969405174255 - RMSE: 0.20919354259967804\n",
      "------------------------------------------------------------------------\n",
      "Average scores for all folds:\n",
      "> RMSE: 0.1441313438117504 (+- 0.06506219878792763)\n",
      "> Loss: 0.012503467034548521\n",
      "------------------------------------------------------------------------\n",
      "\n"
     ]
    },
    {
     "data": {
      "text/html": [
       "Waiting for W&B process to finish... <strong style=\"color:green\">(success).</strong>"
      ],
      "text/plain": [
       "<IPython.core.display.HTML object>"
      ]
     },
     "metadata": {},
     "output_type": "display_data"
    },
    {
     "data": {
      "application/vnd.jupyter.widget-view+json": {
       "model_id": "572fb5cef2c34302ae6e16053f81c8e1",
       "version_major": 2,
       "version_minor": 0
      },
      "text/plain": [
       "VBox(children=(Label(value='2.251 MB of 2.251 MB uploaded (0.000 MB deduped)\\r'), FloatProgress(value=1.0, max…"
      ]
     },
     "metadata": {},
     "output_type": "display_data"
    },
    {
     "data": {
      "text/html": [
       "<style>\n",
       "    table.wandb td:nth-child(1) { padding: 0 10px; text-align: right }\n",
       "    .wandb-row { display: flex; flex-direction: row; flex-wrap: wrap; width: 100% }\n",
       "    .wandb-col { display: flex; flex-direction: column; flex-basis: 100%; flex: 1; padding: 10px; }\n",
       "    </style>\n",
       "<div class=\"wandb-row\"><div class=\"wandb-col\"><h3>Run history:</h3><br/><table class=\"wandb\"><tr><td>Mean Validation Loss (all folds)</td><td>▁</td></tr><tr><td>Mean Validation RMSE (all folds)</td><td>▁</td></tr><tr><td>epoch</td><td>▁▁▁▂▂▂▂▂▂▃▃▃▃▃▄▄▄▄▄▄▅▅▅▅▅▅▆▆▆▆▆▇▇▇▇▇▇███</td></tr><tr><td>loss</td><td>█▅▄▃▃▃▂▂▂▂▂▁▁▁▁▁▁▁▁▁▁▁▁▁▁▁▁▁▁▁▁▁▁▁▁▁▁▁▁▁</td></tr><tr><td>root_mean_squared_error</td><td>█▆▅▄▄▄▃▃▃▃▂▂▂▂▂▁▁▁▁▁▁▁▁▁▁▁▁▁▁▁▁▁▁▁▁▁▁▁▁▁</td></tr><tr><td>val_loss</td><td>█▅▅▃▂▃▁▁▂▁▁▁▁▁▁▁▁▁▁▁▁▁▁▁▁▁▁▁▁▁▁▁▁▁▁▁▁▁▁▁</td></tr><tr><td>val_root_mean_squared_error</td><td>█▆▆▄▃▄▂▂▂▁▂▁▂▂▁▂▂▁▁▁▁▁▁▁▁▁▁▁▁▁▂▁▁▁▁▁▁▁▁▁</td></tr></table><br/></div><div class=\"wandb-col\"><h3>Run summary:</h3><br/><table class=\"wandb\"><tr><td>Mean Validation Loss (all folds)</td><td>0.0125</td></tr><tr><td>Mean Validation RMSE (all folds)</td><td>0.14413</td></tr><tr><td>best_epoch</td><td>171</td></tr><tr><td>best_val_loss</td><td>0.00375</td></tr><tr><td>epoch</td><td>249</td></tr><tr><td>loss</td><td>0.00703</td></tr><tr><td>root_mean_squared_error</td><td>0.11857</td></tr><tr><td>val_loss</td><td>0.02188</td></tr><tr><td>val_root_mean_squared_error</td><td>0.20917</td></tr></table><br/></div></div>"
      ],
      "text/plain": [
       "<IPython.core.display.HTML object>"
      ]
     },
     "metadata": {},
     "output_type": "display_data"
    },
    {
     "data": {
      "text/html": [
       "Synced <strong style=\"color:#cdcd00\">worldly-sweep-3</strong>: <a href=\"https://wandb.ai/luiscostigan/house-price-prediction/runs/jyv0xt71\" target=\"_blank\">https://wandb.ai/luiscostigan/house-price-prediction/runs/jyv0xt71</a><br/>Synced 5 W&B file(s), 0 media file(s), 0 artifact file(s) and 1 other file(s)"
      ],
      "text/plain": [
       "<IPython.core.display.HTML object>"
      ]
     },
     "metadata": {},
     "output_type": "display_data"
    },
    {
     "data": {
      "text/html": [
       "Find logs at: <code>./wandb/run-20220308_055924-jyv0xt71/logs</code>"
      ],
      "text/plain": [
       "<IPython.core.display.HTML object>"
      ]
     },
     "metadata": {},
     "output_type": "display_data"
    },
    {
     "data": {
      "text/html": [
       "Tracking run with wandb version 0.12.11"
      ],
      "text/plain": [
       "<IPython.core.display.HTML object>"
      ]
     },
     "metadata": {},
     "output_type": "display_data"
    },
    {
     "data": {
      "text/html": [
       "Run data is saved locally in <code>/workspaces/data-science-projects/house-price-prediction/Models/tensorflow/wandb/run-20220308_060222-jyv0xt71</code>"
      ],
      "text/plain": [
       "<IPython.core.display.HTML object>"
      ]
     },
     "metadata": {},
     "output_type": "display_data"
    },
    {
     "data": {
      "text/html": [
       "Syncing run <strong><a href=\"https://wandb.ai/luiscostigan/house-price-prediction/runs/jyv0xt71\" target=\"_blank\">worldly-sweep-3</a></strong> to <a href=\"https://wandb.ai/luiscostigan/house-price-prediction\" target=\"_blank\">Weights & Biases</a> (<a href=\"https://wandb.me/run\" target=\"_blank\">docs</a>)<br/>Sweep page:  <a href=\"https://wandb.ai/luiscostigan/house-price-prediction/sweeps/397khox8\" target=\"_blank\">https://wandb.ai/luiscostigan/house-price-prediction/sweeps/397khox8</a>"
      ],
      "text/plain": [
       "<IPython.core.display.HTML object>"
      ]
     },
     "metadata": {},
     "output_type": "display_data"
    },
    {
     "name": "stderr",
     "output_type": "stream",
     "text": [
      "\u001b[34m\u001b[1mwandb\u001b[0m: Ctrl + C detected. Stopping sweep.\n"
     ]
    },
    {
     "name": "stdout",
     "output_type": "stream",
     "text": [
      "\n"
     ]
    },
    {
     "data": {
      "text/html": [
       "Waiting for W&B process to finish... <strong style=\"color:red\">(failed 1).</strong> Press Control-C to abort syncing."
      ],
      "text/plain": [
       "<IPython.core.display.HTML object>"
      ]
     },
     "metadata": {},
     "output_type": "display_data"
    },
    {
     "data": {
      "application/vnd.jupyter.widget-view+json": {
       "model_id": "2deda897c72d4ccc97be62c8b9f0216d",
       "version_major": 2,
       "version_minor": 0
      },
      "text/plain": [
       "VBox(children=(Label(value='2.251 MB of 2.251 MB uploaded (0.000 MB deduped)\\r'), FloatProgress(value=1.0, max…"
      ]
     },
     "metadata": {},
     "output_type": "display_data"
    },
    {
     "data": {
      "text/html": [
       "<style>\n",
       "    table.wandb td:nth-child(1) { padding: 0 10px; text-align: right }\n",
       "    .wandb-row { display: flex; flex-direction: row; flex-wrap: wrap; width: 100% }\n",
       "    .wandb-col { display: flex; flex-direction: column; flex-basis: 100%; flex: 1; padding: 10px; }\n",
       "    </style>\n",
       "<div class=\"wandb-row\"><div class=\"wandb-col\"><h3>Run history:</h3><br/><table class=\"wandb\"><tr><td>epoch</td><td>▁▁▁▁▂▂▂▂▂▂▃▃▃▃▃▄▄▄▄▄▅▅▅▅▅▅▆▆▆▆▆▇▇▇▇▇▇███</td></tr><tr><td>loss</td><td>█▅▄▄▃▃▃▃▂▃▂▂▂▂▂▂▂▂▂▂▂▁▂▁▁▂▁▁▁▁▁▁▁▁▁▁▁▁▁▁</td></tr><tr><td>root_mean_squared_error</td><td>█▄▄▄▃▃▃▃▂▃▂▂▂▂▂▂▂▂▂▂▂▂▂▂▁▂▁▁▁▁▁▁▁▁▁▁▁▁▁▁</td></tr><tr><td>val_loss</td><td>▃▂▄▆▄▃▃▂█▃▂▃▂▂▂▁▂▁▁▃▃▄▁▁▂▁▂▁▂▁▂▁▁▁▁▂▂▁▁▁</td></tr><tr><td>val_root_mean_squared_error</td><td>▄▃▅▇▅▄▄▃█▄▃▄▂▂▂▂▂▁▁▄▄▅▂▁▂▁▂▁▂▁▃▁▂▂▁▃▃▁▁▁</td></tr></table><br/></div><div class=\"wandb-col\"><h3>Run summary:</h3><br/><table class=\"wandb\"><tr><td>best_epoch</td><td>21</td></tr><tr><td>best_val_loss</td><td>0.02077</td></tr><tr><td>epoch</td><td>43</td></tr><tr><td>loss</td><td>0.12242</td></tr><tr><td>root_mean_squared_error</td><td>0.49813</td></tr><tr><td>val_loss</td><td>0.04111</td></tr><tr><td>val_root_mean_squared_error</td><td>0.28762</td></tr></table><br/></div></div>"
      ],
      "text/plain": [
       "<IPython.core.display.HTML object>"
      ]
     },
     "metadata": {},
     "output_type": "display_data"
    },
    {
     "data": {
      "text/html": [
       "Synced <strong style=\"color:#cdcd00\">worldly-sweep-3</strong>: <a href=\"https://wandb.ai/luiscostigan/house-price-prediction/runs/jyv0xt71\" target=\"_blank\">https://wandb.ai/luiscostigan/house-price-prediction/runs/jyv0xt71</a><br/>Synced 5 W&B file(s), 0 media file(s), 0 artifact file(s) and 1 other file(s)"
      ],
      "text/plain": [
       "<IPython.core.display.HTML object>"
      ]
     },
     "metadata": {},
     "output_type": "display_data"
    },
    {
     "data": {
      "text/html": [
       "Find logs at: <code>./wandb/run-20220308_060222-jyv0xt71/logs</code>"
      ],
      "text/plain": [
       "<IPython.core.display.HTML object>"
      ]
     },
     "metadata": {},
     "output_type": "display_data"
    }
   ],
   "source": [
    "# Define training function and hyperparameter ranges\n",
    "from wandb.keras import WandbCallback\n",
    "from sklearn.model_selection import KFold\n",
    "\n",
    "sweep_config = {\n",
    "  \"name\": \"keras-sequential-model-sweep\",\n",
    "  \"method\": \"random\",\n",
    "  \"parameters\": {\n",
    "    \"dropout1\": {\n",
    "      \"min\": 0.0,\n",
    "      \"max\": 0.3\n",
    "    },\n",
    "    \"dense1\": {\n",
    "      \"values\": [32, 128, 512, 2048, 4096]\n",
    "    },\n",
    "    \"dense2\": {\n",
    "      \"values\": [32, 128, 512, 2048, 4096]\n",
    "    },\n",
    "    \"epochs\": {\n",
    "      \"values\": [30, 100, 250]\n",
    "    },\n",
    "    \"batch_size\": {\n",
    "      \"values\": [8, 64, 256, 512]\n",
    "    }\n",
    "  },\n",
    "  \"metric\": {\n",
    "    \"name\": \"Mean Validation RMSE (all folds)\",\n",
    "    \"goal\": \"minimize\"\n",
    "  }\n",
    "}\n",
    "\n",
    "config_defaults = {\n",
    "  \"dropout1\": 0.1,\n",
    "  \"dense1\": 256,\n",
    "  \"dense2\": 256,\n",
    "  \"epochs\": 100,\n",
    "  \"batch_size\": 64\n",
    "}\n",
    "\n",
    "# Define number of splits\n",
    "kf = KFold(n_splits=5)\n",
    "\n",
    "def train():\n",
    "\n",
    "  rmse_per_fold = []\n",
    "  loss_per_fold = []\n",
    "  fold_no = 1\n",
    "\n",
    "  # Go through each split, and get the index number for each\n",
    "  for train, test in kf.split(X_train, y_train):\n",
    "\n",
    "    # With the current session in WandB\n",
    "    with wandb.init(config=config_defaults) as run:\n",
    "\n",
    "      # Recreate the model each time for each new batch\n",
    "      model = None # Not sure if this step is necessary\n",
    "      model = create_model()\n",
    "\n",
    "      # Confirm GPU usage\n",
    "      tf.config.experimental.get_memory_growth(physical_device[0])\n",
    "\n",
    "      # Fit model on new batches\n",
    "      model.fit(\n",
    "        np.asarray(X_train), \n",
    "        y_train, \n",
    "        epochs=wandb.config.epochs, \n",
    "        batch_size=wandb.config.batch_size, \n",
    "        verbose=0,\n",
    "        callbacks=[WandbCallback()], \n",
    "        validation_data=(np.asarray(X_train),y_train)\n",
    "        )\n",
    "      \n",
    "      # Generate data for each\n",
    "      scores = model.evaluate(np.asarray(X_train), y_train, callbacks=[WandbCallback()])\n",
    "      print(f'Score for fold {fold_no}: {model.metrics_names[0]} of {scores[0]}; {model.metrics_names[1]} of {scores[1]}')\n",
    "      rmse_per_fold.append(scores[1])\n",
    "      loss_per_fold.append(scores[0])\n",
    "\n",
    "      # Increase fold number\n",
    "      fold_no = fold_no + 1\n",
    "\n",
    "      # == Provide average scores ==\n",
    "      print('------------------------------------------------------------------------')\n",
    "      print('Score per fold')\n",
    "      for i in range(0, len(rmse_per_fold)):\n",
    "        print('------------------------------------------------------------------------')\n",
    "        print(f'> Fold {i+1} - Loss: {loss_per_fold[i]} - RMSE: {rmse_per_fold[i]}')\n",
    "      print('------------------------------------------------------------------------')\n",
    "      print('Average scores for all folds:')\n",
    "      print(f'> RMSE: {np.mean(rmse_per_fold)} (+- {np.std(rmse_per_fold)})')\n",
    "      print(f'> Loss: {np.mean(loss_per_fold)}')\n",
    "      print('------------------------------------------------------------------------')\n",
    "\n",
    "      wandb.log({\n",
    "        \"Mean Validation RMSE (all folds)\": np.mean(rmse_per_fold),\n",
    "        \"Mean Validation Loss (all folds)\": np.mean(loss_per_fold) \n",
    "        })\n",
    "\n",
    "      wandb.join()\n",
    "\n",
    "keras_sequential_sweep_1 = wandb.sweep(sweep_config, project=\"house-price-prediction\", entity=\"luiscostigan\")\n",
    "\n",
    "count = 10\n",
    "\n",
    "wandb.agent(keras_sequential_sweep_1, function=train, count=count)"
   ]
  },
  {
   "cell_type": "markdown",
   "id": "ffaa74eb",
   "metadata": {},
   "source": [
    "Hyperparameter optimization and experiment recording all took place within the Weights and Biases platform. The set of hyperparameters resulting in the lowest loss (in terms of RMSE) is noted in the top row of the image below:\n",
    "\n",
    "<img src=\"./wandb_rmse.png\" width=\"800\">"
   ]
  },
  {
   "cell_type": "code",
   "execution_count": 35,
   "id": "7b238b8d-bf25-43da-acdb-7caa72dec5df",
   "metadata": {},
   "outputs": [],
   "source": [
    "# Enter best params from sweep\n",
    "best_params = {\n",
    "    \"dropout\": 0.2,\n",
    "    \"dense1\": 4096,\n",
    "    \"dense2\": 4096,\n",
    "    \"epochs\": 1000,\n",
    "    \"batch_size\": 32\n",
    "}\n",
    "\n",
    "# Build model using the best parameters\n",
    "def make_predictions(best_params, dataset):\n",
    "    \n",
    "    model = Sequential()\n",
    "    model.add(Dense(512, input_dim=X_train.shape[1], activation='relu'))\n",
    "    model.add(Dense(best_params.get(\"dense1\"), activation='linear'))\n",
    "    model.add(Dropout(best_params.get(\"dropout\")))\n",
    "    model.add(Dense(best_params.get(\"dense2\"), activation='linear'))\n",
    "    model.add(Dense(1))\n",
    "    model.compile(optimizer='rmsprop', loss=Huber(), metrics=[RootMeanSquaredError()])\n",
    "\n",
    "    \n",
    "    model.fit(X_train, y_train, epochs=best_params.get(\"epochs\"), batch_size=best_params.get(\"batch_size\"), verbose = 0)\n",
    "                \n",
    "    preds  = model.predict(dataset, best_params.get(\"batch_size\"), verbose = 0)\n",
    "              \n",
    "    return preds"
   ]
  },
  {
   "cell_type": "code",
   "execution_count": 36,
   "id": "73e3b4ec-1072-44a8-82b7-620ce29e29db",
   "metadata": {},
   "outputs": [],
   "source": [
    "# Make predictions\n",
    "test_predictions = make_predictions(best_params, X_test)\n",
    "holdout_predictions = make_predictions(best_params, X_holdout)"
   ]
  },
  {
   "cell_type": "code",
   "execution_count": null,
   "id": "02e6fa74",
   "metadata": {},
   "outputs": [],
   "source": []
  },
  {
   "cell_type": "code",
   "execution_count": 32,
   "id": "444e0725",
   "metadata": {},
   "outputs": [],
   "source": [
    "# Undo the log transform\n",
    "test_predictions = np.exp(test_predictions)\n",
    "holdout_predictions = np.exp(holdout_predictions)\n",
    "\n",
    "# Generating submission CSV\n",
    "d = {\"Id\":X_test.index,\"SalePrice\":test_predictions.flatten()}\n",
    "submission = pd.DataFrame(data=d, index=None)\n",
    "\n",
    "submission[\"Id\"] = submission[\"Id\"] + 1461\n",
    "\n",
    "submission.to_csv(\"submission_nn.csv\",index=False)"
   ]
  },
  {
   "cell_type": "code",
   "execution_count": 12,
   "id": "481864a4",
   "metadata": {},
   "outputs": [
    {
     "data": {
      "text/plain": [
       "array([[106721.12 ],\n",
       "       [113128.87 ],\n",
       "       [149416.73 ],\n",
       "       ...,\n",
       "       [120528.125],\n",
       "       [106721.12 ],\n",
       "       [180804.78 ]], dtype=float32)"
      ]
     },
     "execution_count": 12,
     "metadata": {},
     "output_type": "execute_result"
    }
   ],
   "source": [
    "test_predictions"
   ]
  },
  {
   "cell_type": "code",
   "execution_count": 28,
   "id": "97d2b4aa",
   "metadata": {},
   "outputs": [
    {
     "data": {
      "text/plain": [
       "array([[ 218479.58 ],\n",
       "       [ 133389.95 ],\n",
       "       [ 132196.88 ],\n",
       "       [ 132154.52 ],\n",
       "       [ 163463.19 ],\n",
       "       [ 335370.78 ],\n",
       "       [ 132196.88 ],\n",
       "       [ 130181.1  ],\n",
       "       [ 233474.55 ],\n",
       "       [ 143973.17 ],\n",
       "       [ 132196.88 ],\n",
       "       [ 159368.34 ],\n",
       "       [ 174977.47 ],\n",
       "       [ 285044.88 ],\n",
       "       [ 132196.88 ],\n",
       "       [ 132196.88 ],\n",
       "       [ 132196.88 ],\n",
       "       [ 141738.36 ],\n",
       "       [ 200083.   ],\n",
       "       [ 132196.88 ],\n",
       "       [ 132196.88 ],\n",
       "       [ 231247.31 ],\n",
       "       [ 132196.88 ],\n",
       "       [ 141900.39 ],\n",
       "       [ 132196.88 ],\n",
       "       [ 177879.97 ],\n",
       "       [ 141840.06 ],\n",
       "       [ 176016.47 ],\n",
       "       [ 221649.62 ],\n",
       "       [ 240287.45 ],\n",
       "       [ 377281.47 ],\n",
       "       [ 132196.88 ],\n",
       "       [ 351849.88 ],\n",
       "       [ 278087.8  ],\n",
       "       [ 199817.2  ],\n",
       "       [ 235199.83 ],\n",
       "       [ 147299.16 ],\n",
       "       [ 191182.55 ],\n",
       "       [ 570931.2  ],\n",
       "       [ 132196.88 ],\n",
       "       [ 491676.2  ],\n",
       "       [ 146617.45 ],\n",
       "       [ 301641.62 ],\n",
       "       [ 264456.66 ],\n",
       "       [ 212061.81 ],\n",
       "       [ 132196.88 ],\n",
       "       [ 221439.62 ],\n",
       "       [ 263082.4  ],\n",
       "       [ 157212.86 ],\n",
       "       [ 221583.27 ],\n",
       "       [ 178462.62 ],\n",
       "       [ 472825.   ],\n",
       "       [ 132196.88 ],\n",
       "       [ 239127.06 ],\n",
       "       [ 206046.88 ],\n",
       "       [ 334511.5  ],\n",
       "       [ 218587.34 ],\n",
       "       [ 237749.53 ],\n",
       "       [ 176930.84 ],\n",
       "       [ 132196.88 ],\n",
       "       [ 134977.48 ],\n",
       "       [ 201867.78 ],\n",
       "       [ 277014.22 ],\n",
       "       [ 329640.22 ],\n",
       "       [ 159846.89 ],\n",
       "       [ 337908.28 ],\n",
       "       [ 204865.36 ],\n",
       "       [ 156401.28 ],\n",
       "       [ 132196.88 ],\n",
       "       [ 160592.86 ],\n",
       "       [ 132196.88 ],\n",
       "       [ 197275.4  ],\n",
       "       [ 134915.84 ],\n",
       "       [ 185513.   ],\n",
       "       [ 153721.5  ],\n",
       "       [ 251019.67 ],\n",
       "       [ 131202.14 ],\n",
       "       [ 134525.02 ],\n",
       "       [ 485015.94 ],\n",
       "       [ 132196.88 ],\n",
       "       [ 240530.03 ],\n",
       "       [ 136838.05 ],\n",
       "       [ 319636.34 ],\n",
       "       [ 132196.88 ],\n",
       "       [ 280974.6  ],\n",
       "       [ 341590.97 ],\n",
       "       [ 185013.55 ],\n",
       "       [ 132196.88 ],\n",
       "       [ 209965.75 ],\n",
       "       [ 156280.66 ],\n",
       "       [ 283833.16 ],\n",
       "       [ 149581.12 ],\n",
       "       [ 132196.88 ],\n",
       "       [ 141161.55 ],\n",
       "       [ 390313.78 ],\n",
       "       [ 147400.05 ],\n",
       "       [ 149719.97 ],\n",
       "       [ 156198.56 ],\n",
       "       [ 149063.05 ],\n",
       "       [ 132196.88 ],\n",
       "       [ 276399.88 ],\n",
       "       [ 247693.56 ],\n",
       "       [ 132196.88 ],\n",
       "       [ 479031.28 ],\n",
       "       [ 277748.03 ],\n",
       "       [ 239805.11 ],\n",
       "       [ 136888.42 ],\n",
       "       [ 303746.3  ],\n",
       "       [ 132196.88 ],\n",
       "       [ 142210.9  ],\n",
       "       [ 280587.66 ],\n",
       "       [ 225117.98 ],\n",
       "       [ 142658.36 ],\n",
       "       [ 234819.94 ],\n",
       "       [ 146110.62 ],\n",
       "       [ 381549.7  ],\n",
       "       [ 128248.664],\n",
       "       [ 153447.75 ],\n",
       "       [ 132196.88 ],\n",
       "       [ 165007.66 ],\n",
       "       [ 190393.61 ],\n",
       "       [ 146988.33 ],\n",
       "       [ 132196.88 ],\n",
       "       [ 132196.88 ],\n",
       "       [ 172574.48 ],\n",
       "       [ 162198.53 ],\n",
       "       [ 133561.67 ],\n",
       "       [ 102415.625],\n",
       "       [ 132196.88 ],\n",
       "       [ 264162.47 ],\n",
       "       [ 132196.88 ],\n",
       "       [ 159422.45 ],\n",
       "       [ 201067.36 ],\n",
       "       [ 132196.88 ],\n",
       "       [ 466131.56 ],\n",
       "       [ 320835.9  ],\n",
       "       [ 190207.03 ],\n",
       "       [ 333265.84 ],\n",
       "       [ 198160.7  ],\n",
       "       [ 146547.56 ],\n",
       "       [ 319098.47 ],\n",
       "       [ 231986.4  ],\n",
       "       [ 193453.12 ],\n",
       "       [ 132196.88 ],\n",
       "       [ 216635.75 ],\n",
       "       [ 337099.75 ],\n",
       "       [ 284768.84 ],\n",
       "       [ 142983.34 ],\n",
       "       [ 132196.88 ],\n",
       "       [ 144409.78 ],\n",
       "       [ 242398.03 ],\n",
       "       [ 172511.62 ],\n",
       "       [ 333497.62 ],\n",
       "       [ 166162.34 ],\n",
       "       [ 132196.88 ],\n",
       "       [ 132196.88 ],\n",
       "       [ 277379.53 ],\n",
       "       [ 176618.45 ],\n",
       "       [ 231203.88 ],\n",
       "       [ 132196.88 ],\n",
       "       [ 121493.94 ],\n",
       "       [ 491827.16 ],\n",
       "       [ 133990.84 ],\n",
       "       [ 132196.88 ],\n",
       "       [ 354375.5  ],\n",
       "       [ 132196.88 ],\n",
       "       [ 132196.88 ],\n",
       "       [ 135863.44 ],\n",
       "       [ 139762.67 ],\n",
       "       [ 192549.02 ],\n",
       "       [ 132196.88 ],\n",
       "       [ 129886.46 ],\n",
       "       [ 182887.19 ],\n",
       "       [ 132196.88 ],\n",
       "       [ 300220.72 ],\n",
       "       [ 160102.3  ],\n",
       "       [ 148752.2  ],\n",
       "       [ 187097.67 ],\n",
       "       [ 135165.69 ],\n",
       "       [ 286895.03 ],\n",
       "       [ 213846.98 ],\n",
       "       [ 314052.12 ],\n",
       "       [ 257893.61 ],\n",
       "       [ 213461.88 ],\n",
       "       [ 238996.2  ],\n",
       "       [ 137789.02 ],\n",
       "       [ 177451.81 ],\n",
       "       [ 132196.88 ],\n",
       "       [ 189385.28 ],\n",
       "       [ 189359.47 ],\n",
       "       [ 159833.17 ],\n",
       "       [ 132196.88 ],\n",
       "       [ 132196.88 ],\n",
       "       [ 330999.84 ],\n",
       "       [ 132246.3  ],\n",
       "       [ 181344.25 ],\n",
       "       [ 155932.28 ],\n",
       "       [ 132196.88 ],\n",
       "       [ 247937.69 ],\n",
       "       [ 292698.62 ],\n",
       "       [ 132196.88 ],\n",
       "       [ 135504.62 ],\n",
       "       [ 192493.56 ],\n",
       "       [ 172403.72 ],\n",
       "       [ 183389.86 ],\n",
       "       [ 196522.61 ],\n",
       "       [ 137634.05 ],\n",
       "       [ 206362.1  ],\n",
       "       [ 158796.98 ],\n",
       "       [ 139658.88 ],\n",
       "       [ 132196.88 ],\n",
       "       [ 132196.88 ],\n",
       "       [ 151479.64 ],\n",
       "       [ 307693.62 ],\n",
       "       [ 197318.11 ],\n",
       "       [ 132196.88 ],\n",
       "       [ 234124.73 ],\n",
       "       [ 217411.66 ],\n",
       "       [ 187542.84 ],\n",
       "       [ 132196.88 ],\n",
       "       [ 200408.81 ],\n",
       "       [ 422921.84 ],\n",
       "       [ 183213.3  ],\n",
       "       [ 253818.33 ],\n",
       "       [ 229158.4  ],\n",
       "       [ 181949.52 ],\n",
       "       [ 195742.08 ],\n",
       "       [ 132196.88 ],\n",
       "       [ 132196.88 ],\n",
       "       [ 207484.36 ],\n",
       "       [ 171420.7  ],\n",
       "       [ 201268.23 ],\n",
       "       [1135665.   ],\n",
       "       [ 156114.27 ],\n",
       "       [ 250061.1  ],\n",
       "       [ 187451.12 ],\n",
       "       [ 132196.88 ],\n",
       "       [ 149432.69 ],\n",
       "       [ 185546.27 ],\n",
       "       [ 221673.52 ],\n",
       "       [ 132196.88 ],\n",
       "       [ 132196.88 ],\n",
       "       [ 132196.88 ],\n",
       "       [ 147343.14 ],\n",
       "       [ 215602.73 ],\n",
       "       [ 132196.88 ],\n",
       "       [ 132196.88 ],\n",
       "       [ 220830.77 ],\n",
       "       [ 203101.92 ],\n",
       "       [ 146692.72 ],\n",
       "       [ 132196.88 ],\n",
       "       [ 132196.88 ],\n",
       "       [ 145138.34 ],\n",
       "       [ 152706.88 ],\n",
       "       [ 132196.88 ],\n",
       "       [ 361875.34 ],\n",
       "       [ 132196.88 ],\n",
       "       [ 132196.88 ],\n",
       "       [ 207567.06 ],\n",
       "       [ 179256.47 ],\n",
       "       [ 277293.06 ],\n",
       "       [ 132196.88 ],\n",
       "       [ 205548.16 ],\n",
       "       [ 348577.47 ],\n",
       "       [ 352769.8  ],\n",
       "       [ 131529.61 ],\n",
       "       [ 247271.33 ],\n",
       "       [ 259439.3  ],\n",
       "       [ 132196.88 ],\n",
       "       [ 171295.52 ],\n",
       "       [ 176076.25 ],\n",
       "       [ 245723.11 ],\n",
       "       [ 175815.16 ],\n",
       "       [ 293197.6  ],\n",
       "       [ 543511.8  ],\n",
       "       [ 273687.72 ],\n",
       "       [ 283369.6  ],\n",
       "       [ 132196.88 ],\n",
       "       [ 241534.3  ],\n",
       "       [ 149391.52 ],\n",
       "       [ 285232.53 ],\n",
       "       [ 136018.75 ],\n",
       "       [ 132196.88 ],\n",
       "       [ 132196.88 ],\n",
       "       [ 132196.88 ],\n",
       "       [ 141857.11 ],\n",
       "       [ 900719.4  ],\n",
       "       [ 286442.28 ],\n",
       "       [ 201950.97 ],\n",
       "       [ 142785.06 ],\n",
       "       [ 132196.88 ],\n",
       "       [ 273513.94 ]], dtype=float32)"
      ]
     },
     "execution_count": 28,
     "metadata": {},
     "output_type": "execute_result"
    }
   ],
   "source": [
    "holdout_predictions"
   ]
  },
  {
   "cell_type": "markdown",
   "id": "18fb0b31",
   "metadata": {},
   "source": [
    "## Blending Predictions\n",
    "\n",
    "So far, I have generated predictions using a decision tree-based model and a neural net-based model.\n",
    "First, I'll try taking the mean of predictions from both to see how it performs."
   ]
  },
  {
   "cell_type": "code",
   "execution_count": 33,
   "id": "578a0854",
   "metadata": {},
   "outputs": [],
   "source": [
    "# Read CSVs\n",
    "decision_tree_predictions = pd.read_csv(\"../sklearn/submission_dt.csv\")\n",
    "neural_net_predictions = pd.read_csv(\"./tensorflow/submission_nn.csv\")\n",
    "\n",
    "# Merge CSVs on Id column\n",
    "decision_tree_predictions[\"neural_net_predictions\"] = neural_net_predictions[\"SalePrice\"]\n",
    "\n",
    "# Rename decision tree predictions column\n",
    "decision_tree_predictions = decision_tree_predictions.rename(columns={\"SalePrice\":\"decision_tree_predictions\"})\n",
    "\n",
    "# Add new column with mean\n",
    "decision_tree_predictions[\"SalePrice\"] = decision_tree_predictions[[\"neural_net_predictions\",\"decision_tree_predictions\"]].mean(axis=1)\n",
    "\n",
    "# Drop other columns\n",
    "decision_tree_predictions = decision_tree_predictions[[\"Id\",\"SalePrice\"]]\n",
    "\n",
    "# Create mean prediction submission CSV\n",
    "mean_predictions = decision_tree_predictions\n",
    "mean_predictions.to_csv(\"submission_mean.csv\",index=False)"
   ]
  },
  {
   "cell_type": "markdown",
   "id": "84c22511",
   "metadata": {},
   "source": [
    "Taking the mean of predictions did not beat my score from just using LightGBM in the previous post.\n",
    "\n",
    "<img src=\"./mean_predictions_kaggle.png\" width=\"600\">\n",
    "\n",
    "Next, I'll try defining a meta-model to best blend predictions from the two models. After developing each model, predictions were also made on a holdout dataset that was kept separate from the training and validation datasets, for the explicit purpose of training this meta-model. The model trained on this dataset was then used to blend predictions on the test dataset to be submitted to Kaggle."
   ]
  },
  {
   "cell_type": "code",
   "execution_count": 34,
   "id": "d4109da3",
   "metadata": {},
   "outputs": [],
   "source": [
    "# Append holdout set NN predictions to DT predictions\n",
    "holdout_predictions_df[\"NN_predictions\"] = holdout_predictions\n",
    "holdout_predictions_df = holdout_predictions_df[[\"DT_predictions\", \"NN_predictions\", \"Actual_SalePrice\"]]\n",
    "\n",
    "# Reverse log transform on SalePrice\n",
    "holdout_predictions_df[\"Actual_SalePrice\"] = np.exp(holdout_predictions_df[\"Actual_SalePrice\"])"
   ]
  },
  {
   "cell_type": "code",
   "execution_count": 35,
   "id": "5202fcdf",
   "metadata": {},
   "outputs": [
    {
     "data": {
      "text/html": [
       "<div>\n",
       "<style scoped>\n",
       "    .dataframe tbody tr th:only-of-type {\n",
       "        vertical-align: middle;\n",
       "    }\n",
       "\n",
       "    .dataframe tbody tr th {\n",
       "        vertical-align: top;\n",
       "    }\n",
       "\n",
       "    .dataframe thead th {\n",
       "        text-align: right;\n",
       "    }\n",
       "</style>\n",
       "<table border=\"1\" class=\"dataframe\">\n",
       "  <thead>\n",
       "    <tr style=\"text-align: right;\">\n",
       "      <th></th>\n",
       "      <th>DT_predictions</th>\n",
       "      <th>NN_predictions</th>\n",
       "      <th>Actual_SalePrice</th>\n",
       "    </tr>\n",
       "  </thead>\n",
       "  <tbody>\n",
       "    <tr>\n",
       "      <th>0</th>\n",
       "      <td>200565.22</td>\n",
       "      <td>218479.578125</td>\n",
       "      <td>208500.0</td>\n",
       "    </tr>\n",
       "    <tr>\n",
       "      <th>1</th>\n",
       "      <td>133316.58</td>\n",
       "      <td>133389.953125</td>\n",
       "      <td>129500.0</td>\n",
       "    </tr>\n",
       "    <tr>\n",
       "      <th>2</th>\n",
       "      <td>131912.38</td>\n",
       "      <td>132196.875000</td>\n",
       "      <td>132000.0</td>\n",
       "    </tr>\n",
       "    <tr>\n",
       "      <th>3</th>\n",
       "      <td>107866.20</td>\n",
       "      <td>132154.515625</td>\n",
       "      <td>90000.0</td>\n",
       "    </tr>\n",
       "    <tr>\n",
       "      <th>4</th>\n",
       "      <td>155335.47</td>\n",
       "      <td>163463.187500</td>\n",
       "      <td>159000.0</td>\n",
       "    </tr>\n",
       "    <tr>\n",
       "      <th>...</th>\n",
       "      <td>...</td>\n",
       "      <td>...</td>\n",
       "      <td>...</td>\n",
       "    </tr>\n",
       "    <tr>\n",
       "      <th>287</th>\n",
       "      <td>234057.98</td>\n",
       "      <td>286442.281250</td>\n",
       "      <td>271000.0</td>\n",
       "    </tr>\n",
       "    <tr>\n",
       "      <th>288</th>\n",
       "      <td>171889.88</td>\n",
       "      <td>201950.968750</td>\n",
       "      <td>192140.0</td>\n",
       "    </tr>\n",
       "    <tr>\n",
       "      <th>289</th>\n",
       "      <td>144124.02</td>\n",
       "      <td>142785.062500</td>\n",
       "      <td>143750.0</td>\n",
       "    </tr>\n",
       "    <tr>\n",
       "      <th>290</th>\n",
       "      <td>110798.66</td>\n",
       "      <td>132196.875000</td>\n",
       "      <td>64500.0</td>\n",
       "    </tr>\n",
       "    <tr>\n",
       "      <th>291</th>\n",
       "      <td>267439.28</td>\n",
       "      <td>273513.937500</td>\n",
       "      <td>287090.0</td>\n",
       "    </tr>\n",
       "  </tbody>\n",
       "</table>\n",
       "<p>292 rows × 3 columns</p>\n",
       "</div>"
      ],
      "text/plain": [
       "     DT_predictions  NN_predictions  Actual_SalePrice\n",
       "0         200565.22   218479.578125          208500.0\n",
       "1         133316.58   133389.953125          129500.0\n",
       "2         131912.38   132196.875000          132000.0\n",
       "3         107866.20   132154.515625           90000.0\n",
       "4         155335.47   163463.187500          159000.0\n",
       "..              ...             ...               ...\n",
       "287       234057.98   286442.281250          271000.0\n",
       "288       171889.88   201950.968750          192140.0\n",
       "289       144124.02   142785.062500          143750.0\n",
       "290       110798.66   132196.875000           64500.0\n",
       "291       267439.28   273513.937500          287090.0\n",
       "\n",
       "[292 rows x 3 columns]"
      ]
     },
     "execution_count": 35,
     "metadata": {},
     "output_type": "execute_result"
    }
   ],
   "source": [
    "holdout_predictions_df"
   ]
  },
  {
   "cell_type": "code",
   "execution_count": 37,
   "id": "a0349413",
   "metadata": {},
   "outputs": [],
   "source": [
    "# Get predictions on test set\n",
    "test_predictions_dt = pd.read_csv(\"/root/data-science-projects-1/house-price-prediction/Models/sklearn/submission_dt.csv\")\n",
    "test_predictions_nn = pd.read_csv(\"/root/data-science-projects-1/house-price-prediction/Models/tensorflow/submission_nn.csv\")\n",
    "\n",
    "# Merge CSVs on Id column\n",
    "test_predictions_dt[\"NN_predictions\"] = test_predictions_nn[\"SalePrice\"]\n",
    "\n",
    "# Rename decision tree predictions column\n",
    "test_predictions_dt = test_predictions_dt.rename(columns={\"SalePrice\":\"DT_predictions\"})\n",
    "\n",
    "# Rename df\n",
    "blended_predictions_df = test_predictions_dt"
   ]
  },
  {
   "cell_type": "markdown",
   "id": "b76de3cc",
   "metadata": {},
   "source": [
    "The meta-model was a simple grid search across different estimators, without attempting to optimize hyperparameters. Since the holdout dataset is very small, I used 10 folds in the cross-validation process."
   ]
  },
  {
   "cell_type": "code",
   "execution_count": 38,
   "id": "88d80bdc",
   "metadata": {},
   "outputs": [
    {
     "name": "stderr",
     "output_type": "stream",
     "text": [
      "/usr/local/lib/python3.8/dist-packages/xgboost/compat.py:36: FutureWarning: pandas.Int64Index is deprecated and will be removed from pandas in a future version. Use pandas.Index with the appropriate dtype instead.\n",
      "  from pandas import MultiIndex, Int64Index\n",
      "/usr/local/lib/python3.8/dist-packages/xgboost/data.py:262: FutureWarning: pandas.Int64Index is deprecated and will be removed from pandas in a future version. Use pandas.Index with the appropriate dtype instead.\n",
      "  elif isinstance(data.columns, (pd.Int64Index, pd.RangeIndex)):\n",
      "/usr/local/lib/python3.8/dist-packages/xgboost/data.py:262: FutureWarning: pandas.Int64Index is deprecated and will be removed from pandas in a future version. Use pandas.Index with the appropriate dtype instead.\n",
      "  elif isinstance(data.columns, (pd.Int64Index, pd.RangeIndex)):\n",
      "/usr/local/lib/python3.8/dist-packages/xgboost/data.py:262: FutureWarning: pandas.Int64Index is deprecated and will be removed from pandas in a future version. Use pandas.Index with the appropriate dtype instead.\n",
      "  elif isinstance(data.columns, (pd.Int64Index, pd.RangeIndex)):\n",
      "/usr/local/lib/python3.8/dist-packages/xgboost/data.py:262: FutureWarning: pandas.Int64Index is deprecated and will be removed from pandas in a future version. Use pandas.Index with the appropriate dtype instead.\n",
      "  elif isinstance(data.columns, (pd.Int64Index, pd.RangeIndex)):\n",
      "/usr/local/lib/python3.8/dist-packages/xgboost/data.py:262: FutureWarning: pandas.Int64Index is deprecated and will be removed from pandas in a future version. Use pandas.Index with the appropriate dtype instead.\n",
      "  elif isinstance(data.columns, (pd.Int64Index, pd.RangeIndex)):\n",
      "/usr/local/lib/python3.8/dist-packages/xgboost/data.py:262: FutureWarning: pandas.Int64Index is deprecated and will be removed from pandas in a future version. Use pandas.Index with the appropriate dtype instead.\n",
      "  elif isinstance(data.columns, (pd.Int64Index, pd.RangeIndex)):\n",
      "/usr/local/lib/python3.8/dist-packages/xgboost/data.py:262: FutureWarning: pandas.Int64Index is deprecated and will be removed from pandas in a future version. Use pandas.Index with the appropriate dtype instead.\n",
      "  elif isinstance(data.columns, (pd.Int64Index, pd.RangeIndex)):\n",
      "/usr/local/lib/python3.8/dist-packages/xgboost/data.py:262: FutureWarning: pandas.Int64Index is deprecated and will be removed from pandas in a future version. Use pandas.Index with the appropriate dtype instead.\n",
      "  elif isinstance(data.columns, (pd.Int64Index, pd.RangeIndex)):\n",
      "/usr/local/lib/python3.8/dist-packages/xgboost/data.py:262: FutureWarning: pandas.Int64Index is deprecated and will be removed from pandas in a future version. Use pandas.Index with the appropriate dtype instead.\n",
      "  elif isinstance(data.columns, (pd.Int64Index, pd.RangeIndex)):\n",
      "/usr/local/lib/python3.8/dist-packages/xgboost/data.py:262: FutureWarning: pandas.Int64Index is deprecated and will be removed from pandas in a future version. Use pandas.Index with the appropriate dtype instead.\n",
      "  elif isinstance(data.columns, (pd.Int64Index, pd.RangeIndex)):\n"
     ]
    },
    {
     "data": {
      "text/plain": [
       "GridSearchCV(cv=10, estimator=Pipeline(steps=[('clf', LinearRegression())]),\n",
       "             param_grid=[{'clf': (LinearRegression(),)}, {'clf': (Ridge(),)},\n",
       "                         {'clf': (XGBRegressor(base_score=None, booster=None,\n",
       "                                               colsample_bylevel=None,\n",
       "                                               colsample_bynode=None,\n",
       "                                               colsample_bytree=None,\n",
       "                                               enable_categorical=False,\n",
       "                                               gamma=None, gpu_id=None,\n",
       "                                               importance_type=None,\n",
       "                                               interaction_constraints=None,...\n",
       "                                               min_child_weight=None,\n",
       "                                               missing=nan,\n",
       "                                               monotone_constraints=None,\n",
       "                                               n_estimators=100, n_jobs=None,\n",
       "                                               num_parallel_tree=None,\n",
       "                                               predictor=None,\n",
       "                                               random_state=None,\n",
       "                                               reg_alpha=None, reg_lambda=None,\n",
       "                                               scale_pos_weight=None,\n",
       "                                               subsample=None, tree_method=None,\n",
       "                                               validate_parameters=None,\n",
       "                                               verbosity=None),)},\n",
       "                         {'clf': (LGBMRegressor(),)}],\n",
       "             scoring=make_scorer(mean_squared_error, squared=False))"
      ]
     },
     "execution_count": 38,
     "metadata": {},
     "output_type": "execute_result"
    }
   ],
   "source": [
    "from sklearn.linear_model import LinearRegression, Ridge\n",
    "from sklearn.model_selection import cross_val_score, GridSearchCV\n",
    "from sklearn.pipeline import Pipeline\n",
    "from sklearn.metrics import make_scorer, mean_squared_error\n",
    "import xgboost as xgb\n",
    "import lightgbm as lgb\n",
    "\n",
    "# Defining a custom loss function (Root Mean Squared Error)\n",
    "rmse = make_scorer(mean_squared_error, squared=False)\n",
    "\n",
    "X = holdout_predictions_df[[\"DT_predictions\", \"NN_predictions\"]]\n",
    "y = holdout_predictions_df[\"Actual_SalePrice\"]\n",
    "\n",
    "estimators = [\n",
    "    {\n",
    "        \"clf\": (LinearRegression(),)\n",
    "    },\n",
    "    {\n",
    "        \"clf\": (Ridge(),)\n",
    "    },\n",
    "    {\n",
    "        \"clf\": (xgb.XGBRegressor(),)\n",
    "    },\n",
    "    {\n",
    "       \"clf\": (lgb.LGBMRegressor(),)\n",
    "    }\n",
    "]\n",
    "\n",
    "pipe = Pipeline([(\"clf\", LinearRegression())])\n",
    "\n",
    "grid_search = GridSearchCV(pipe, estimators, cv=10, scoring=rmse)\n",
    "grid_search.fit(X,y)"
   ]
  },
  {
   "cell_type": "code",
   "execution_count": 39,
   "id": "f98dafc7",
   "metadata": {},
   "outputs": [
    {
     "data": {
      "text/plain": [
       "Pipeline(steps=[('clf', LGBMRegressor())])"
      ]
     },
     "execution_count": 39,
     "metadata": {},
     "output_type": "execute_result"
    }
   ],
   "source": [
    "# Printing the best estimator\n",
    "grid_search.best_estimator_"
   ]
  },
  {
   "cell_type": "code",
   "execution_count": 40,
   "id": "5f117f30",
   "metadata": {},
   "outputs": [],
   "source": [
    "# Make predictions \n",
    "grid_search_blended_predictions = grid_search.predict(blended_predictions_df[[\"DT_predictions\", \"NN_predictions\"]])"
   ]
  },
  {
   "cell_type": "code",
   "execution_count": 41,
   "id": "0a154b42",
   "metadata": {},
   "outputs": [],
   "source": [
    "# Add predictions to a dataframe\n",
    "grid_search_blended_predictions_df = blended_predictions_df\n",
    "grid_search_blended_predictions_df[\"SalePrice\"] = grid_search_blended_predictions\n",
    "grid_search_blended_predictions_df = grid_search_blended_predictions_df.drop(columns=[\"DT_predictions\",\"NN_predictions\"])\n",
    "\n",
    "# Create CSV with blended predictions\n",
    "grid_search_blended_predictions_df.to_csv(\"submission_gridsearch_blended.csv\",index=False)"
   ]
  },
  {
   "cell_type": "code",
   "execution_count": 42,
   "id": "b6d3c014",
   "metadata": {},
   "outputs": [
    {
     "data": {
      "text/html": [
       "<div>\n",
       "<style scoped>\n",
       "    .dataframe tbody tr th:only-of-type {\n",
       "        vertical-align: middle;\n",
       "    }\n",
       "\n",
       "    .dataframe tbody tr th {\n",
       "        vertical-align: top;\n",
       "    }\n",
       "\n",
       "    .dataframe thead th {\n",
       "        text-align: right;\n",
       "    }\n",
       "</style>\n",
       "<table border=\"1\" class=\"dataframe\">\n",
       "  <thead>\n",
       "    <tr style=\"text-align: right;\">\n",
       "      <th></th>\n",
       "      <th>Id</th>\n",
       "      <th>SalePrice</th>\n",
       "    </tr>\n",
       "  </thead>\n",
       "  <tbody>\n",
       "    <tr>\n",
       "      <th>0</th>\n",
       "      <td>1461</td>\n",
       "      <td>136766.464370</td>\n",
       "    </tr>\n",
       "    <tr>\n",
       "      <th>1</th>\n",
       "      <td>1462</td>\n",
       "      <td>186703.082381</td>\n",
       "    </tr>\n",
       "    <tr>\n",
       "      <th>2</th>\n",
       "      <td>1463</td>\n",
       "      <td>274587.653517</td>\n",
       "    </tr>\n",
       "    <tr>\n",
       "      <th>3</th>\n",
       "      <td>1464</td>\n",
       "      <td>280045.176750</td>\n",
       "    </tr>\n",
       "    <tr>\n",
       "      <th>4</th>\n",
       "      <td>1465</td>\n",
       "      <td>274587.653517</td>\n",
       "    </tr>\n",
       "    <tr>\n",
       "      <th>...</th>\n",
       "      <td>...</td>\n",
       "      <td>...</td>\n",
       "    </tr>\n",
       "    <tr>\n",
       "      <th>1454</th>\n",
       "      <td>2915</td>\n",
       "      <td>101520.160747</td>\n",
       "    </tr>\n",
       "    <tr>\n",
       "      <th>1455</th>\n",
       "      <td>2916</td>\n",
       "      <td>101520.160747</td>\n",
       "    </tr>\n",
       "    <tr>\n",
       "      <th>1456</th>\n",
       "      <td>2917</td>\n",
       "      <td>186667.541492</td>\n",
       "    </tr>\n",
       "    <tr>\n",
       "      <th>1457</th>\n",
       "      <td>2918</td>\n",
       "      <td>120444.947406</td>\n",
       "    </tr>\n",
       "    <tr>\n",
       "      <th>1458</th>\n",
       "      <td>2919</td>\n",
       "      <td>280045.176750</td>\n",
       "    </tr>\n",
       "  </tbody>\n",
       "</table>\n",
       "<p>1459 rows × 2 columns</p>\n",
       "</div>"
      ],
      "text/plain": [
       "        Id      SalePrice\n",
       "0     1461  136766.464370\n",
       "1     1462  186703.082381\n",
       "2     1463  274587.653517\n",
       "3     1464  280045.176750\n",
       "4     1465  274587.653517\n",
       "...    ...            ...\n",
       "1454  2915  101520.160747\n",
       "1455  2916  101520.160747\n",
       "1456  2917  186667.541492\n",
       "1457  2918  120444.947406\n",
       "1458  2919  280045.176750\n",
       "\n",
       "[1459 rows x 2 columns]"
      ]
     },
     "execution_count": 42,
     "metadata": {},
     "output_type": "execute_result"
    }
   ],
   "source": [
    "grid_search_blended_predictions_df"
   ]
  },
  {
   "cell_type": "markdown",
   "id": "f19b1299",
   "metadata": {},
   "source": [
    "I had high hopes for a meta-model that blended predictions, but it performed worse than I expected.\n",
    "\n"
   ]
  },
  {
   "cell_type": "markdown",
   "id": "60f3e2d2",
   "metadata": {},
   "source": [
    "## Improvements to subsequent models\n",
    "\n",
    "Below I note some improvements to the models I would implement if I had more time.\n",
    "\n",
    "- Remove outliers (using something like sklearn's IsolationForest)\n",
    "- "
   ]
  }
 ],
 "metadata": {
  "kernelspec": {
   "display_name": "Python 3 (ipykernel)",
   "language": "python",
   "name": "python3"
  },
  "language_info": {
   "codemirror_mode": {
    "name": "ipython",
    "version": 3
   },
   "file_extension": ".py",
   "mimetype": "text/x-python",
   "name": "python",
   "nbconvert_exporter": "python",
   "pygments_lexer": "ipython3",
   "version": "3.8.10"
  }
 },
 "nbformat": 4,
 "nbformat_minor": 5
}
