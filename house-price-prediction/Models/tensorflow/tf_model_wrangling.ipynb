{
 "cells": [
  {
   "cell_type": "code",
   "execution_count": 1,
   "id": "1a9b44ee-21e3-44e1-ab3b-4af5c351aca6",
   "metadata": {
    "tags": []
   },
   "outputs": [],
   "source": [
    "from tensorflow.keras.models import Sequential\n",
    "from tensorflow.keras.layers import Dense, Dropout\n",
    "from tensorflow.keras.optimizers import Adam\n",
    "from tensorflow.keras.metrics import RootMeanSquaredError\n",
    "from tensorflow.keras.losses import Huber\n",
    "from tensorflow.keras import regularizers\n",
    "from time import time\n",
    "from sklearn.metrics import mean_absolute_error\n",
    "import wandb\n",
    "import pandas as pd\n",
    "import numpy as np\n",
    "import matplotlib.pyplot as plt"
   ]
  },
  {
   "cell_type": "markdown",
   "id": "049f674b",
   "metadata": {},
   "source": [
    "In my previous post, I went through the following process:\n",
    "\n",
    "Environment: Anaconda, Windows 11.\n",
    "\n",
    "- Data wrangling (Light exploration, followed by removing and transforming some variables)\n",
    "- Split the training dataset into training and validation datasets\n",
    "- Fit a model using a Scikit-Learn pipeline (Data Preprocessing + fitting XGBoost/LightGBM estimators with a Randomized Search across their respective hyperparameters)\n",
    "- Evaluate and visualize model performance\n",
    "- Implement an automated approach to selecting hyperparameters (HyperOpt)\n",
    "- Make predictions\n",
    "\n",
    "In this post, I will implement the following using the same wrangled/preprocessed data:\n",
    "\n",
    "Environment: Docker, Windows Subsystem for Linux 2 (WSL 2), Windows 11.\n",
    "\n",
    "- Build a simple Sequential model in Keras/Tensorflow\n",
    "- Use the Weights and Biases (WandB) platform to select optimal hyperparameters and record experiments.\n",
    "  - Experiments are evaluated using K-Fold Cross Validation. Mean RMSE across folds for each experiment are custom logged in WandB. \n",
    "- Make predictions.\n",
    "- Blend predictions from the previous post (decision tree) and this post (neural net).\n",
    "  - By both taking the mean of predictions, and defining a meta-model trained on a holdout dataset kept completely separate."
   ]
  },
  {
   "cell_type": "markdown",
   "id": "557fef8e",
   "metadata": {},
   "source": [
    "Actually setting up the environment (Docker, Windows Subsystem for Linux 2 (WSL 2), Windows 11, VSCode, using CUDA) took a couple of days and is probably worthy of its own blog post. It required the following process:\n",
    "\n",
    "- Install WSL2, CUDA drivers and Docker\n",
    "    - Define a Dockerfile that uses a base image compatible with CUDA\n",
    "    - Get libraries from requirements.txt\n",
    "    - Set \"runArgs\" in devcontainer.json to allow GPU usage\n",
    "- Run in VSCode (the Jupyter extension gave me some trouble)\n",
    "    - I ended up creating the container directly from a Dockerfile in the same repo as my code"
   ]
  },
  {
   "cell_type": "code",
   "execution_count": 2,
   "id": "41683053-0452-48d6-8033-a5e2909e0f84",
   "metadata": {},
   "outputs": [
    {
     "name": "stderr",
     "output_type": "stream",
     "text": [
      "/tmp/ipykernel_323/2886453018.py:23: FutureWarning: The frame.append method is deprecated and will be removed from pandas in a future version. Use pandas.concat instead.\n",
      "  X_train = X_train.append(X_valid).reset_index().drop(columns=\"index\")\n",
      "/tmp/ipykernel_323/2886453018.py:24: FutureWarning: The series.append method is deprecated and will be removed from pandas in a future version. Use pandas.concat instead.\n",
      "  y_train = y_train.append(y_valid).reset_index().drop(columns=\"index\").values\n"
     ]
    }
   ],
   "source": [
    "# Function to bring in wrangled/preprocessed data from previous post\n",
    "def data():\n",
    "    training = pd.read_csv(\"../sklearn/training_preprocessed\")\n",
    "    validation = pd.read_csv(\"../sklearn/validation_preprocessed\")\n",
    "    holdout = pd.read_csv(\"../sklearn/holdout_preprocessed\")\n",
    "    holdout_predictions_df = pd.read_csv(\"../sklearn/holdout_preds_preprocessed\")\n",
    "    test = pd.read_csv(\"../sklearn/test_preprocessed\")\n",
    "    \n",
    "    X_train = training.drop(columns=\"SalePrice\")\n",
    "    y_train = training[\"SalePrice\"]\n",
    "    X_valid = validation.drop(columns=\"SalePrice\")\n",
    "    y_valid = validation[\"SalePrice\"]\n",
    "    X_holdout = holdout.drop(columns=\"Actual_SalePrice\")\n",
    "    y_holdout = holdout[\"Actual_SalePrice\"]\n",
    "    X_test = test\n",
    "    holdout_predictions_df = holdout_predictions_df\n",
    "    return X_train, y_train, X_valid, y_valid, X_holdout, y_holdout, X_test, holdout_predictions_df\n",
    "\n",
    "# Bring in data\n",
    "X_train, y_train, X_valid, y_valid, X_holdout, y_holdout, X_test, holdout_predictions_df = data()\n",
    "\n",
    "# Since this model uses k-fold validation, we don't need separate training and validation datasets\n",
    "X_train = X_train.append(X_valid).reset_index().drop(columns=\"index\")\n",
    "y_train = y_train.append(y_valid).reset_index().drop(columns=\"index\").values"
   ]
  },
  {
   "cell_type": "code",
   "execution_count": 4,
   "id": "0cd95926-a2d1-484d-8674-273e1310e88d",
   "metadata": {},
   "outputs": [
    {
     "data": {
      "text/html": [
       "Tracking run with wandb version 0.12.11"
      ],
      "text/plain": [
       "<IPython.core.display.HTML object>"
      ]
     },
     "metadata": {},
     "output_type": "display_data"
    },
    {
     "data": {
      "text/html": [
       "Run data is saved locally in <code>/workspaces/data-science-projects/house-price-prediction/Models/tensorflow/wandb/run-20220313_073411-edg0p1jw</code>"
      ],
      "text/plain": [
       "<IPython.core.display.HTML object>"
      ]
     },
     "metadata": {},
     "output_type": "display_data"
    },
    {
     "data": {
      "text/html": [
       "Syncing run <strong><a href=\"https://wandb.ai/luiscostigan/house-price-prediction/runs/edg0p1jw\" target=\"_blank\">stoic-resonance-457</a></strong> to <a href=\"https://wandb.ai/luiscostigan/house-price-prediction\" target=\"_blank\">Weights & Biases</a> (<a href=\"https://wandb.me/run\" target=\"_blank\">docs</a>)<br/>"
      ],
      "text/plain": [
       "<IPython.core.display.HTML object>"
      ]
     },
     "metadata": {},
     "output_type": "display_data"
    },
    {
     "data": {
      "text/html": [
       "<button onClick=\"this.nextSibling.style.display='block';this.style.display='none';\">Display W&B run</button><iframe src=\"https://wandb.ai/luiscostigan/house-price-prediction/runs/edg0p1jw?jupyter=true\" style=\"border:none;width:100%;height:420px;display:none;\"></iframe>"
      ],
      "text/plain": [
       "<wandb.sdk.wandb_run.Run at 0x7f0a22634700>"
      ]
     },
     "execution_count": 4,
     "metadata": {},
     "output_type": "execute_result"
    }
   ],
   "source": [
    "# Log into Weights and Biases\n",
    "wandb.init(project=\"house-price-prediction\", entity=\"luiscostigan\")"
   ]
  },
  {
   "cell_type": "code",
   "execution_count": null,
   "id": "505ec3e6",
   "metadata": {},
   "outputs": [],
   "source": [
    "# Use WandB offline (to prevent syncing after each run)\n",
    "%env WANDB_MODE=offline"
   ]
  },
  {
   "cell_type": "code",
   "execution_count": 5,
   "id": "fc0c1995",
   "metadata": {},
   "outputs": [
    {
     "name": "stdout",
     "output_type": "stream",
     "text": [
      "env: TF_GPU_ALLOCATOR=cuda_malloc_async\n"
     ]
    }
   ],
   "source": [
    "# Allow TF to release memory\n",
    "%env TF_GPU_ALLOCATOR=cuda_malloc_async"
   ]
  },
  {
   "cell_type": "code",
   "execution_count": 14,
   "id": "6784b358",
   "metadata": {},
   "outputs": [
    {
     "name": "stdout",
     "output_type": "stream",
     "text": [
      "Syncing: https://wandb.ai/luiscostigan/house-price-prediction/runs/jvzgmc34 ...done.\n",
      "Syncing: https://wandb.ai/luiscostigan/house-price-prediction/runs/jvzgmc34 ...done.\n",
      "Syncing: https://wandb.ai/luiscostigan/house-price-prediction/runs/jvzgmc34 ...done.\n",
      "Syncing: https://wandb.ai/luiscostigan/house-price-prediction/runs/jvzgmc34 ...done.\n",
      "Syncing: https://wandb.ai/luiscostigan/house-price-prediction/runs/jvzgmc34 ...done.\n",
      "Syncing: https://wandb.ai/luiscostigan/house-price-prediction/runs/o52yqket ...done.\n",
      "Syncing: https://wandb.ai/luiscostigan/house-price-prediction/runs/o52yqket ...done.\n",
      "Syncing: https://wandb.ai/luiscostigan/house-price-prediction/runs/o52yqket ...done.\n",
      "Syncing: https://wandb.ai/luiscostigan/house-price-prediction/runs/o52yqket ...done.\n",
      "Syncing: https://wandb.ai/luiscostigan/house-price-prediction/runs/o52yqket ...done.\n",
      "Syncing: https://wandb.ai/luiscostigan/house-price-prediction/runs/4u0kge6j ...done.\n",
      "Syncing: https://wandb.ai/luiscostigan/house-price-prediction/runs/4u0kge6j ...done.\n",
      "Syncing: https://wandb.ai/luiscostigan/house-price-prediction/runs/4u0kge6j ...done.\n",
      "Syncing: https://wandb.ai/luiscostigan/house-price-prediction/runs/4u0kge6j ...done.\n",
      "Syncing: https://wandb.ai/luiscostigan/house-price-prediction/runs/4u0kge6j ...done.\n",
      "Syncing: https://wandb.ai/luiscostigan/house-price-prediction/runs/6igxyq3h ...done.\n",
      "Syncing: https://wandb.ai/luiscostigan/house-price-prediction/runs/6igxyq3h ...done.\n",
      "Syncing: https://wandb.ai/luiscostigan/house-price-prediction/runs/6igxyq3h ...done.\n",
      "Syncing: https://wandb.ai/luiscostigan/house-price-prediction/runs/6igxyq3h ...done.\n",
      "Syncing: https://wandb.ai/luiscostigan/house-price-prediction/runs/6igxyq3h ...done.\n",
      "Syncing: https://wandb.ai/luiscostigan/house-price-prediction/runs/z67036j0 ...done.\n",
      "Syncing: https://wandb.ai/luiscostigan/house-price-prediction/runs/z67036j0 ...done.\n",
      "Syncing: https://wandb.ai/luiscostigan/house-price-prediction/runs/z67036j0 ...done.\n",
      "Syncing: https://wandb.ai/luiscostigan/house-price-prediction/runs/z67036j0 ...done.\n",
      "Syncing: https://wandb.ai/luiscostigan/house-price-prediction/runs/z67036j0 ...done.\n",
      "Syncing: https://wandb.ai/luiscostigan/house-price-prediction/runs/1i0zzrjk ...done.\n",
      "Syncing: https://wandb.ai/luiscostigan/house-price-prediction/runs/asj2pnvf ...done.\n",
      "Syncing: https://wandb.ai/luiscostigan/house-price-prediction/runs/ddg2jyjr ...done.\n",
      "Syncing: https://wandb.ai/luiscostigan/house-price-prediction/runs/8qb8h0uk ...done.\n",
      "Syncing: https://wandb.ai/luiscostigan/house-price-prediction/runs/bdliymv4 ...done.\n",
      "Syncing: https://wandb.ai/luiscostigan/house-price-prediction/runs/i35k09a7 ...done.\n",
      "Syncing: https://wandb.ai/luiscostigan/house-price-prediction/runs/akquypx8 ...done.\n",
      "Syncing: https://wandb.ai/luiscostigan/house-price-prediction/runs/snl83400 ...done.\n",
      "Syncing: https://wandb.ai/luiscostigan/house-price-prediction/runs/tyx49drr ...done.\n",
      "Syncing: https://wandb.ai/luiscostigan/house-price-prediction/runs/tyx49drr ...done.\n",
      "Syncing: https://wandb.ai/luiscostigan/house-price-prediction/runs/tyx49drr ...done.\n",
      "Syncing: https://wandb.ai/luiscostigan/house-price-prediction/runs/tyx49drr ...done.\n",
      "Syncing: https://wandb.ai/luiscostigan/house-price-prediction/runs/gjo9g9gy ...done.\n",
      "Syncing: https://wandb.ai/luiscostigan/house-price-prediction/runs/ll21tygj ...done.\n",
      "Syncing: https://wandb.ai/luiscostigan/house-price-prediction/runs/ll21tygj ...done.\n",
      "Syncing: https://wandb.ai/luiscostigan/house-price-prediction/runs/sgk46ml4 ...done.\n",
      "Syncing: https://wandb.ai/luiscostigan/house-price-prediction/runs/rgvt6x0i ...done.\n",
      "Syncing: https://wandb.ai/luiscostigan/house-price-prediction/runs/rw3uesxi ...done.\n",
      "Syncing: https://wandb.ai/luiscostigan/house-price-prediction/runs/ashscou5 ...done.\n"
     ]
    }
   ],
   "source": [
    "# Sync offline runs\n",
    "! wandb sync --sync-all --no-include-online"
   ]
  },
  {
   "cell_type": "code",
   "execution_count": 6,
   "id": "1b06efad-42f3-4cb3-90c9-ee188ed47acc",
   "metadata": {},
   "outputs": [],
   "source": [
    "# Define simple Sequential model\n",
    "def create_model():\n",
    "    model = Sequential()\n",
    "    model.add(Dense(wandb.config.dense1, input_dim=X_train.shape[1], activation='relu', kernel_regularizer=regularizers.l2(wandb.config.bias1)))\n",
    "    model.add(Dropout(wandb.config.dropout1))\n",
    "    model.add(Dense(wandb.config.dense2, activation='relu', kernel_regularizer=regularizers.l2(wandb.config.bias2)))\n",
    "    model.add(Dense(1))\n",
    "    model.compile(optimizer=Adam(wandb.config.learning_rate), loss=\"mean_absolute_error\", metrics=[RootMeanSquaredError()])\n",
    "    \n",
    "    return model"
   ]
  },
  {
   "cell_type": "code",
   "execution_count": 11,
   "id": "9e707d3f-2deb-4ac1-b274-48350e1027bd",
   "metadata": {},
   "outputs": [
    {
     "name": "stdout",
     "output_type": "stream",
     "text": [
      "\n"
     ]
    },
    {
     "data": {
      "text/html": [
       "Waiting for W&B process to finish... <strong style=\"color:green\">(success).</strong>"
      ],
      "text/plain": [
       "<IPython.core.display.HTML object>"
      ]
     },
     "metadata": {},
     "output_type": "display_data"
    },
    {
     "data": {
      "application/vnd.jupyter.widget-view+json": {
       "model_id": "728254c5d7034fcbafd6a10cb3957754",
       "version_major": 2,
       "version_minor": 0
      },
      "text/plain": [
       "VBox(children=(Label(value='0.001 MB of 0.001 MB uploaded (0.000 MB deduped)\\r'), FloatProgress(value=1.0, max…"
      ]
     },
     "metadata": {},
     "output_type": "display_data"
    },
    {
     "name": "stderr",
     "output_type": "stream",
     "text": [
      "\u001b[34m\u001b[1mwandb\u001b[0m: \u001b[33mWARNING\u001b[0m Calling wandb.login() after wandb.init() has no effect.\n"
     ]
    },
    {
     "name": "stdout",
     "output_type": "stream",
     "text": [
      "Create sweep with ID: 7gy04hx1\n",
      "Sweep URL: https://wandb.ai/luiscostigan/house-price-prediction/sweeps/7gy04hx1\n"
     ]
    },
    {
     "name": "stderr",
     "output_type": "stream",
     "text": [
      "\u001b[34m\u001b[1mwandb\u001b[0m: Agent Starting Run: p0w8f6p1 with config:\n",
      "\u001b[34m\u001b[1mwandb\u001b[0m: \tbatch_size: 16\n",
      "\u001b[34m\u001b[1mwandb\u001b[0m: \tbias1: 0.01\n",
      "\u001b[34m\u001b[1mwandb\u001b[0m: \tbias2: 0.001\n",
      "\u001b[34m\u001b[1mwandb\u001b[0m: \tdense1: 2048\n",
      "\u001b[34m\u001b[1mwandb\u001b[0m: \tdense2: 4096\n",
      "\u001b[34m\u001b[1mwandb\u001b[0m: \tdropout1: 0.2473418433841911\n",
      "\u001b[34m\u001b[1mwandb\u001b[0m: \tepochs: 150\n",
      "\u001b[34m\u001b[1mwandb\u001b[0m: \tlearning_rate: 0.0001\n"
     ]
    },
    {
     "name": "stdout",
     "output_type": "stream",
     "text": [
      "Problem at: /tmp/ipykernel_323/4151639895.py 74 train\n"
     ]
    },
    {
     "name": "stderr",
     "output_type": "stream",
     "text": [
      "Traceback (most recent call last):\n",
      "  File \"/usr/local/lib/python3.8/dist-packages/wandb/sdk/wandb_init.py\", line 954, in init\n",
      "    run = wi.init()\n",
      "  File \"/usr/local/lib/python3.8/dist-packages/wandb/sdk/wandb_init.py\", line 614, in init\n",
      "    backend.cleanup()\n",
      "  File \"/usr/local/lib/python3.8/dist-packages/wandb/sdk/backend/backend.py\", line 248, in cleanup\n",
      "    self.interface.join()\n",
      "  File \"/usr/local/lib/python3.8/dist-packages/wandb/sdk/interface/interface_shared.py\", line 467, in join\n",
      "    super().join()\n",
      "  File \"/usr/local/lib/python3.8/dist-packages/wandb/sdk/interface/interface.py\", line 630, in join\n",
      "    _ = self._communicate_shutdown()\n",
      "  File \"/usr/local/lib/python3.8/dist-packages/wandb/sdk/interface/interface_shared.py\", line 464, in _communicate_shutdown\n",
      "    _ = self._communicate(record)\n",
      "  File \"/usr/local/lib/python3.8/dist-packages/wandb/sdk/interface/interface_shared.py\", line 222, in _communicate\n",
      "    return self._communicate_async(rec, local=local).get(timeout=timeout)\n",
      "  File \"/usr/local/lib/python3.8/dist-packages/wandb/sdk/interface/interface_shared.py\", line 227, in _communicate_async\n",
      "    raise Exception(\"The wandb backend process has shutdown\")\n",
      "Exception: The wandb backend process has shutdown\n"
     ]
    },
    {
     "data": {
      "text/html": [
       "Synced <strong style=\"color:#cdcd00\">driven-sweep-1</strong>: <a href=\"https://wandb.ai/luiscostigan/house-price-prediction/runs/1l1y02q6\" target=\"_blank\">https://wandb.ai/luiscostigan/house-price-prediction/runs/1l1y02q6</a><br/>Synced 5 W&B file(s), 0 media file(s), 0 artifact file(s) and 0 other file(s)"
      ],
      "text/plain": [
       "<IPython.core.display.HTML object>"
      ]
     },
     "metadata": {},
     "output_type": "display_data"
    },
    {
     "data": {
      "text/html": [
       "Find logs at: <code>./wandb/run-20220313_075746-1l1y02q6/logs</code>"
      ],
      "text/plain": [
       "<IPython.core.display.HTML object>"
      ]
     },
     "metadata": {},
     "output_type": "display_data"
    },
    {
     "data": {
      "text/html": [
       "Tracking run with wandb version 0.12.11"
      ],
      "text/plain": [
       "<IPython.core.display.HTML object>"
      ]
     },
     "metadata": {},
     "output_type": "display_data"
    },
    {
     "data": {
      "text/html": [
       "Run data is saved locally in <code>/workspaces/data-science-projects/house-price-prediction/Models/tensorflow/wandb/run-20220313_075751-p0w8f6p1</code>"
      ],
      "text/plain": [
       "<IPython.core.display.HTML object>"
      ]
     },
     "metadata": {},
     "output_type": "display_data"
    },
    {
     "data": {
      "text/html": [
       "Syncing run <strong><a href=\"https://wandb.ai/luiscostigan/house-price-prediction/runs/p0w8f6p1\" target=\"_blank\">dauntless-sweep-1</a></strong> to <a href=\"https://wandb.ai/luiscostigan/house-price-prediction\" target=\"_blank\">Weights & Biases</a> (<a href=\"https://wandb.me/run\" target=\"_blank\">docs</a>)<br/>Sweep page:  <a href=\"https://wandb.ai/luiscostigan/house-price-prediction/sweeps/7gy04hx1\" target=\"_blank\">https://wandb.ai/luiscostigan/house-price-prediction/sweeps/7gy04hx1</a>"
      ],
      "text/plain": [
       "<IPython.core.display.HTML object>"
      ]
     },
     "metadata": {},
     "output_type": "display_data"
    },
    {
     "name": "stderr",
     "output_type": "stream",
     "text": [
      "2022-03-13 07:57:55.432188: F tensorflow/stream_executor/cuda/cuda_driver.cc:153] Failed setting context: CUDA_ERROR_NOT_INITIALIZED: initialization error\n",
      "/usr/local/lib/python3.8/dist-packages/numpy/core/fromnumeric.py:3474: RuntimeWarning: Mean of empty slice.\n",
      "  return _methods._mean(a, axis=axis, dtype=dtype,\n",
      "/usr/local/lib/python3.8/dist-packages/numpy/core/_methods.py:189: RuntimeWarning: invalid value encountered in double_scalars\n",
      "  ret = ret.dtype.type(ret / rcount)\n",
      "/usr/local/lib/python3.8/dist-packages/numpy/core/_methods.py:264: RuntimeWarning: Degrees of freedom <= 0 for slice\n",
      "  ret = _var(a, axis=axis, dtype=dtype, out=out, ddof=ddof,\n",
      "/usr/local/lib/python3.8/dist-packages/numpy/core/_methods.py:222: RuntimeWarning: invalid value encountered in true_divide\n",
      "  arrmean = um.true_divide(arrmean, div, out=arrmean, casting='unsafe',\n",
      "/usr/local/lib/python3.8/dist-packages/numpy/core/_methods.py:256: RuntimeWarning: invalid value encountered in double_scalars\n",
      "  ret = ret.dtype.type(ret / rcount)\n"
     ]
    },
    {
     "name": "stdout",
     "output_type": "stream",
     "text": [
      "Average scores for all folds:\n",
      "> RMSE: nan (+- nan)\n",
      "> Loss: nan\n",
      "------------------------------------------------------------------------\n"
     ]
    },
    {
     "name": "stderr",
     "output_type": "stream",
     "text": [
      "\u001b[34m\u001b[1mwandb\u001b[0m: \u001b[32m\u001b[41mERROR\u001b[0m Abnormal program exit\n"
     ]
    },
    {
     "name": "stdout",
     "output_type": "stream",
     "text": [
      "\n"
     ]
    },
    {
     "data": {
      "text/html": [
       "Waiting for W&B process to finish... <strong style=\"color:green\">(success).</strong>"
      ],
      "text/plain": [
       "<IPython.core.display.HTML object>"
      ]
     },
     "metadata": {},
     "output_type": "display_data"
    },
    {
     "data": {
      "application/vnd.jupyter.widget-view+json": {
       "model_id": "b4156d1abcaa4c3688f6bb72d999917e",
       "version_major": 2,
       "version_minor": 0
      },
      "text/plain": [
       "VBox(children=(Label(value='0.001 MB of 0.001 MB uploaded (0.000 MB deduped)\\r'), FloatProgress(value=1.0, max…"
      ]
     },
     "metadata": {},
     "output_type": "display_data"
    },
    {
     "name": "stderr",
     "output_type": "stream",
     "text": [
      "\u001b[34m\u001b[1mwandb\u001b[0m: Ctrl + C detected. Stopping sweep.\n",
      "\u001b[34m\u001b[1mwandb\u001b[0m: \u001b[32m\u001b[41mERROR\u001b[0m Problem finishing run\n",
      "Traceback (most recent call last):\n",
      "  File \"/usr/local/lib/python3.8/dist-packages/wandb/sdk/wandb_run.py\", line 1711, in _atexit_cleanup\n",
      "    self._on_finish()\n",
      "  File \"/usr/local/lib/python3.8/dist-packages/wandb/sdk/wandb_run.py\", line 1829, in _on_finish\n",
      "    self._backend.interface.communicate_poll_exit()\n",
      "  File \"/usr/local/lib/python3.8/dist-packages/wandb/sdk/interface/interface.py\", line 617, in communicate_poll_exit\n",
      "    resp = self._communicate_poll_exit(poll_exit)\n",
      "  File \"/usr/local/lib/python3.8/dist-packages/wandb/sdk/interface/interface_shared.py\", line 411, in _communicate_poll_exit\n",
      "    result = self._communicate(rec)\n",
      "  File \"/usr/local/lib/python3.8/dist-packages/wandb/sdk/interface/interface_shared.py\", line 222, in _communicate\n",
      "    return self._communicate_async(rec, local=local).get(timeout=timeout)\n",
      "  File \"/usr/local/lib/python3.8/dist-packages/wandb/sdk/interface/router.py\", line 37, in get\n",
      "    is_set = self._object_ready.wait(timeout)\n",
      "  File \"/usr/lib/python3.8/threading.py\", line 558, in wait\n",
      "    signaled = self._cond.wait(timeout)\n",
      "  File \"/usr/lib/python3.8/threading.py\", line 306, in wait\n",
      "    gotit = waiter.acquire(True, timeout)\n",
      "Exception\n"
     ]
    },
    {
     "data": {
      "text/html": [
       "Tracking run with wandb version 0.12.11"
      ],
      "text/plain": [
       "<IPython.core.display.HTML object>"
      ]
     },
     "metadata": {},
     "output_type": "display_data"
    },
    {
     "data": {
      "text/html": [
       "Run data is saved locally in <code>/workspaces/data-science-projects/house-price-prediction/Models/tensorflow/wandb/run-20220313_075800-p0w8f6p1</code>"
      ],
      "text/plain": [
       "<IPython.core.display.HTML object>"
      ]
     },
     "metadata": {},
     "output_type": "display_data"
    },
    {
     "data": {
      "text/html": [
       "Syncing run <strong><a href=\"https://wandb.ai/luiscostigan/house-price-prediction/runs/p0w8f6p1\" target=\"_blank\">dauntless-sweep-1</a></strong> to <a href=\"https://wandb.ai/luiscostigan/house-price-prediction\" target=\"_blank\">Weights & Biases</a> (<a href=\"https://wandb.me/run\" target=\"_blank\">docs</a>)<br/>Sweep page:  <a href=\"https://wandb.ai/luiscostigan/house-price-prediction/sweeps/7gy04hx1\" target=\"_blank\">https://wandb.ai/luiscostigan/house-price-prediction/sweeps/7gy04hx1</a>"
      ],
      "text/plain": [
       "<IPython.core.display.HTML object>"
      ]
     },
     "metadata": {},
     "output_type": "display_data"
    },
    {
     "name": "stderr",
     "output_type": "stream",
     "text": [
      "2022-03-13 07:58:03.739777: F tensorflow/stream_executor/cuda/cuda_driver.cc:153] Failed setting context: CUDA_ERROR_NOT_INITIALIZED: initialization error\n",
      "/usr/local/lib/python3.8/dist-packages/numpy/core/fromnumeric.py:3474: RuntimeWarning: Mean of empty slice.\n",
      "  return _methods._mean(a, axis=axis, dtype=dtype,\n",
      "/usr/local/lib/python3.8/dist-packages/numpy/core/_methods.py:189: RuntimeWarning: invalid value encountered in double_scalars\n",
      "  ret = ret.dtype.type(ret / rcount)\n",
      "/usr/local/lib/python3.8/dist-packages/numpy/core/_methods.py:264: RuntimeWarning: Degrees of freedom <= 0 for slice\n",
      "  ret = _var(a, axis=axis, dtype=dtype, out=out, ddof=ddof,\n",
      "/usr/local/lib/python3.8/dist-packages/numpy/core/_methods.py:222: RuntimeWarning: invalid value encountered in true_divide\n",
      "  arrmean = um.true_divide(arrmean, div, out=arrmean, casting='unsafe',\n",
      "/usr/local/lib/python3.8/dist-packages/numpy/core/_methods.py:256: RuntimeWarning: invalid value encountered in double_scalars\n",
      "  ret = ret.dtype.type(ret / rcount)\n"
     ]
    },
    {
     "name": "stdout",
     "output_type": "stream",
     "text": [
      "Average scores for all folds:\n",
      "> RMSE: nan (+- nan)\n",
      "> Loss: nan\n",
      "------------------------------------------------------------------------\n",
      "\n"
     ]
    },
    {
     "data": {
      "text/html": [
       "Waiting for W&B process to finish... <strong style=\"color:green\">(success).</strong>"
      ],
      "text/plain": [
       "<IPython.core.display.HTML object>"
      ]
     },
     "metadata": {},
     "output_type": "display_data"
    },
    {
     "data": {
      "application/vnd.jupyter.widget-view+json": {
       "model_id": "5ab4d71b50a74eb29d64a0e64c6d2013",
       "version_major": 2,
       "version_minor": 0
      },
      "text/plain": [
       "VBox(children=(Label(value='0.001 MB of 0.001 MB uploaded (0.000 MB deduped)\\r'), FloatProgress(value=1.0, max…"
      ]
     },
     "metadata": {},
     "output_type": "display_data"
    },
    {
     "data": {
      "text/html": [
       "Synced <strong style=\"color:#cdcd00\">dauntless-sweep-1</strong>: <a href=\"https://wandb.ai/luiscostigan/house-price-prediction/runs/p0w8f6p1\" target=\"_blank\">https://wandb.ai/luiscostigan/house-price-prediction/runs/p0w8f6p1</a><br/>Synced 5 W&B file(s), 0 media file(s), 0 artifact file(s) and 0 other file(s)"
      ],
      "text/plain": [
       "<IPython.core.display.HTML object>"
      ]
     },
     "metadata": {},
     "output_type": "display_data"
    },
    {
     "data": {
      "text/html": [
       "Find logs at: <code>./wandb/run-20220313_075800-p0w8f6p1/logs</code>"
      ],
      "text/plain": [
       "<IPython.core.display.HTML object>"
      ]
     },
     "metadata": {},
     "output_type": "display_data"
    },
    {
     "data": {
      "text/html": [
       "Tracking run with wandb version 0.12.11"
      ],
      "text/plain": [
       "<IPython.core.display.HTML object>"
      ]
     },
     "metadata": {},
     "output_type": "display_data"
    },
    {
     "data": {
      "text/html": [
       "Run data is saved locally in <code>/workspaces/data-science-projects/house-price-prediction/Models/tensorflow/wandb/run-20220313_075808-p0w8f6p1</code>"
      ],
      "text/plain": [
       "<IPython.core.display.HTML object>"
      ]
     },
     "metadata": {},
     "output_type": "display_data"
    },
    {
     "data": {
      "text/html": [
       "Syncing run <strong><a href=\"https://wandb.ai/luiscostigan/house-price-prediction/runs/p0w8f6p1\" target=\"_blank\">dauntless-sweep-1</a></strong> to <a href=\"https://wandb.ai/luiscostigan/house-price-prediction\" target=\"_blank\">Weights & Biases</a> (<a href=\"https://wandb.me/run\" target=\"_blank\">docs</a>)<br/>Sweep page:  <a href=\"https://wandb.ai/luiscostigan/house-price-prediction/sweeps/7gy04hx1\" target=\"_blank\">https://wandb.ai/luiscostigan/house-price-prediction/sweeps/7gy04hx1</a>"
      ],
      "text/plain": [
       "<IPython.core.display.HTML object>"
      ]
     },
     "metadata": {},
     "output_type": "display_data"
    },
    {
     "name": "stderr",
     "output_type": "stream",
     "text": [
      "2022-03-13 07:58:12.065223: F tensorflow/stream_executor/cuda/cuda_driver.cc:153] Failed setting context: CUDA_ERROR_NOT_INITIALIZED: initialization error\n",
      "/usr/local/lib/python3.8/dist-packages/numpy/core/fromnumeric.py:3474: RuntimeWarning: Mean of empty slice.\n",
      "  return _methods._mean(a, axis=axis, dtype=dtype,\n",
      "/usr/local/lib/python3.8/dist-packages/numpy/core/_methods.py:189: RuntimeWarning: invalid value encountered in double_scalars\n",
      "  ret = ret.dtype.type(ret / rcount)\n",
      "/usr/local/lib/python3.8/dist-packages/numpy/core/_methods.py:264: RuntimeWarning: Degrees of freedom <= 0 for slice\n",
      "  ret = _var(a, axis=axis, dtype=dtype, out=out, ddof=ddof,\n",
      "/usr/local/lib/python3.8/dist-packages/numpy/core/_methods.py:222: RuntimeWarning: invalid value encountered in true_divide\n",
      "  arrmean = um.true_divide(arrmean, div, out=arrmean, casting='unsafe',\n",
      "/usr/local/lib/python3.8/dist-packages/numpy/core/_methods.py:256: RuntimeWarning: invalid value encountered in double_scalars\n",
      "  ret = ret.dtype.type(ret / rcount)\n"
     ]
    },
    {
     "name": "stdout",
     "output_type": "stream",
     "text": [
      "Average scores for all folds:\n",
      "> RMSE: nan (+- nan)\n",
      "> Loss: nan\n",
      "------------------------------------------------------------------------\n",
      "\n"
     ]
    },
    {
     "data": {
      "text/html": [
       "Waiting for W&B process to finish... <strong style=\"color:green\">(success).</strong>"
      ],
      "text/plain": [
       "<IPython.core.display.HTML object>"
      ]
     },
     "metadata": {},
     "output_type": "display_data"
    },
    {
     "data": {
      "application/vnd.jupyter.widget-view+json": {
       "model_id": "4a848501cb054f5baafe4603546cc476",
       "version_major": 2,
       "version_minor": 0
      },
      "text/plain": [
       "VBox(children=(Label(value='0.001 MB of 0.001 MB uploaded (0.000 MB deduped)\\r'), FloatProgress(value=1.0, max…"
      ]
     },
     "metadata": {},
     "output_type": "display_data"
    },
    {
     "data": {
      "text/html": [
       "Synced <strong style=\"color:#cdcd00\">dauntless-sweep-1</strong>: <a href=\"https://wandb.ai/luiscostigan/house-price-prediction/runs/p0w8f6p1\" target=\"_blank\">https://wandb.ai/luiscostigan/house-price-prediction/runs/p0w8f6p1</a><br/>Synced 5 W&B file(s), 0 media file(s), 0 artifact file(s) and 0 other file(s)"
      ],
      "text/plain": [
       "<IPython.core.display.HTML object>"
      ]
     },
     "metadata": {},
     "output_type": "display_data"
    },
    {
     "data": {
      "text/html": [
       "Find logs at: <code>./wandb/run-20220313_075808-p0w8f6p1/logs</code>"
      ],
      "text/plain": [
       "<IPython.core.display.HTML object>"
      ]
     },
     "metadata": {},
     "output_type": "display_data"
    },
    {
     "data": {
      "text/html": [
       "Tracking run with wandb version 0.12.11"
      ],
      "text/plain": [
       "<IPython.core.display.HTML object>"
      ]
     },
     "metadata": {},
     "output_type": "display_data"
    },
    {
     "data": {
      "text/html": [
       "Run data is saved locally in <code>/workspaces/data-science-projects/house-price-prediction/Models/tensorflow/wandb/run-20220313_075817-p0w8f6p1</code>"
      ],
      "text/plain": [
       "<IPython.core.display.HTML object>"
      ]
     },
     "metadata": {},
     "output_type": "display_data"
    },
    {
     "data": {
      "text/html": [
       "Syncing run <strong><a href=\"https://wandb.ai/luiscostigan/house-price-prediction/runs/p0w8f6p1\" target=\"_blank\">dauntless-sweep-1</a></strong> to <a href=\"https://wandb.ai/luiscostigan/house-price-prediction\" target=\"_blank\">Weights & Biases</a> (<a href=\"https://wandb.me/run\" target=\"_blank\">docs</a>)<br/>Sweep page:  <a href=\"https://wandb.ai/luiscostigan/house-price-prediction/sweeps/7gy04hx1\" target=\"_blank\">https://wandb.ai/luiscostigan/house-price-prediction/sweeps/7gy04hx1</a>"
      ],
      "text/plain": [
       "<IPython.core.display.HTML object>"
      ]
     },
     "metadata": {},
     "output_type": "display_data"
    },
    {
     "name": "stderr",
     "output_type": "stream",
     "text": [
      "2022-03-13 07:58:21.307463: F tensorflow/stream_executor/cuda/cuda_driver.cc:153] Failed setting context: CUDA_ERROR_NOT_INITIALIZED: initialization error\n",
      "/usr/local/lib/python3.8/dist-packages/numpy/core/fromnumeric.py:3474: RuntimeWarning: Mean of empty slice.\n",
      "  return _methods._mean(a, axis=axis, dtype=dtype,\n",
      "/usr/local/lib/python3.8/dist-packages/numpy/core/_methods.py:189: RuntimeWarning: invalid value encountered in double_scalars\n",
      "  ret = ret.dtype.type(ret / rcount)\n",
      "/usr/local/lib/python3.8/dist-packages/numpy/core/_methods.py:264: RuntimeWarning: Degrees of freedom <= 0 for slice\n",
      "  ret = _var(a, axis=axis, dtype=dtype, out=out, ddof=ddof,\n",
      "/usr/local/lib/python3.8/dist-packages/numpy/core/_methods.py:222: RuntimeWarning: invalid value encountered in true_divide\n",
      "  arrmean = um.true_divide(arrmean, div, out=arrmean, casting='unsafe',\n",
      "/usr/local/lib/python3.8/dist-packages/numpy/core/_methods.py:256: RuntimeWarning: invalid value encountered in double_scalars\n",
      "  ret = ret.dtype.type(ret / rcount)\n"
     ]
    },
    {
     "name": "stdout",
     "output_type": "stream",
     "text": [
      "Average scores for all folds:\n",
      "> RMSE: nan (+- nan)\n",
      "> Loss: nan\n",
      "------------------------------------------------------------------------\n",
      "\n"
     ]
    },
    {
     "data": {
      "text/html": [
       "Waiting for W&B process to finish... <strong style=\"color:green\">(success).</strong>"
      ],
      "text/plain": [
       "<IPython.core.display.HTML object>"
      ]
     },
     "metadata": {},
     "output_type": "display_data"
    },
    {
     "data": {
      "application/vnd.jupyter.widget-view+json": {
       "model_id": "d7e0ce7dada440e68d8ad0c9da7370d8",
       "version_major": 2,
       "version_minor": 0
      },
      "text/plain": [
       "VBox(children=(Label(value='0.001 MB of 0.001 MB uploaded (0.000 MB deduped)\\r'), FloatProgress(value=1.0, max…"
      ]
     },
     "metadata": {},
     "output_type": "display_data"
    },
    {
     "data": {
      "text/html": [
       "Synced <strong style=\"color:#cdcd00\">dauntless-sweep-1</strong>: <a href=\"https://wandb.ai/luiscostigan/house-price-prediction/runs/p0w8f6p1\" target=\"_blank\">https://wandb.ai/luiscostigan/house-price-prediction/runs/p0w8f6p1</a><br/>Synced 5 W&B file(s), 0 media file(s), 0 artifact file(s) and 0 other file(s)"
      ],
      "text/plain": [
       "<IPython.core.display.HTML object>"
      ]
     },
     "metadata": {},
     "output_type": "display_data"
    },
    {
     "data": {
      "text/html": [
       "Find logs at: <code>./wandb/run-20220313_075817-p0w8f6p1/logs</code>"
      ],
      "text/plain": [
       "<IPython.core.display.HTML object>"
      ]
     },
     "metadata": {},
     "output_type": "display_data"
    },
    {
     "data": {
      "text/html": [
       "Tracking run with wandb version 0.12.11"
      ],
      "text/plain": [
       "<IPython.core.display.HTML object>"
      ]
     },
     "metadata": {},
     "output_type": "display_data"
    },
    {
     "data": {
      "text/html": [
       "Run data is saved locally in <code>/workspaces/data-science-projects/house-price-prediction/Models/tensorflow/wandb/run-20220313_075826-p0w8f6p1</code>"
      ],
      "text/plain": [
       "<IPython.core.display.HTML object>"
      ]
     },
     "metadata": {},
     "output_type": "display_data"
    },
    {
     "data": {
      "text/html": [
       "Syncing run <strong><a href=\"https://wandb.ai/luiscostigan/house-price-prediction/runs/p0w8f6p1\" target=\"_blank\">dauntless-sweep-1</a></strong> to <a href=\"https://wandb.ai/luiscostigan/house-price-prediction\" target=\"_blank\">Weights & Biases</a> (<a href=\"https://wandb.me/run\" target=\"_blank\">docs</a>)<br/>Sweep page:  <a href=\"https://wandb.ai/luiscostigan/house-price-prediction/sweeps/7gy04hx1\" target=\"_blank\">https://wandb.ai/luiscostigan/house-price-prediction/sweeps/7gy04hx1</a>"
      ],
      "text/plain": [
       "<IPython.core.display.HTML object>"
      ]
     },
     "metadata": {},
     "output_type": "display_data"
    },
    {
     "name": "stderr",
     "output_type": "stream",
     "text": [
      "2022-03-13 07:58:29.646099: F tensorflow/stream_executor/cuda/cuda_driver.cc:153] Failed setting context: CUDA_ERROR_NOT_INITIALIZED: initialization error\n",
      "/usr/local/lib/python3.8/dist-packages/numpy/core/fromnumeric.py:3474: RuntimeWarning: Mean of empty slice.\n",
      "  return _methods._mean(a, axis=axis, dtype=dtype,\n",
      "/usr/local/lib/python3.8/dist-packages/numpy/core/_methods.py:189: RuntimeWarning: invalid value encountered in double_scalars\n",
      "  ret = ret.dtype.type(ret / rcount)\n",
      "/usr/local/lib/python3.8/dist-packages/numpy/core/_methods.py:264: RuntimeWarning: Degrees of freedom <= 0 for slice\n",
      "  ret = _var(a, axis=axis, dtype=dtype, out=out, ddof=ddof,\n",
      "/usr/local/lib/python3.8/dist-packages/numpy/core/_methods.py:222: RuntimeWarning: invalid value encountered in true_divide\n",
      "  arrmean = um.true_divide(arrmean, div, out=arrmean, casting='unsafe',\n",
      "/usr/local/lib/python3.8/dist-packages/numpy/core/_methods.py:256: RuntimeWarning: invalid value encountered in double_scalars\n",
      "  ret = ret.dtype.type(ret / rcount)\n"
     ]
    },
    {
     "name": "stdout",
     "output_type": "stream",
     "text": [
      "Average scores for all folds:\n",
      "> RMSE: nan (+- nan)\n",
      "> Loss: nan\n",
      "------------------------------------------------------------------------\n",
      "\n"
     ]
    },
    {
     "data": {
      "text/html": [
       "Waiting for W&B process to finish... <strong style=\"color:green\">(success).</strong>"
      ],
      "text/plain": [
       "<IPython.core.display.HTML object>"
      ]
     },
     "metadata": {},
     "output_type": "display_data"
    },
    {
     "data": {
      "application/vnd.jupyter.widget-view+json": {
       "model_id": "6bf0e74ac90c47798c201c041e8562a8",
       "version_major": 2,
       "version_minor": 0
      },
      "text/plain": [
       "VBox(children=(Label(value='0.001 MB of 0.001 MB uploaded (0.000 MB deduped)\\r'), FloatProgress(value=1.0, max…"
      ]
     },
     "metadata": {},
     "output_type": "display_data"
    },
    {
     "data": {
      "text/html": [
       "Synced <strong style=\"color:#cdcd00\">dauntless-sweep-1</strong>: <a href=\"https://wandb.ai/luiscostigan/house-price-prediction/runs/p0w8f6p1\" target=\"_blank\">https://wandb.ai/luiscostigan/house-price-prediction/runs/p0w8f6p1</a><br/>Synced 5 W&B file(s), 0 media file(s), 0 artifact file(s) and 0 other file(s)"
      ],
      "text/plain": [
       "<IPython.core.display.HTML object>"
      ]
     },
     "metadata": {},
     "output_type": "display_data"
    },
    {
     "data": {
      "text/html": [
       "Find logs at: <code>./wandb/run-20220313_075826-p0w8f6p1/logs</code>"
      ],
      "text/plain": [
       "<IPython.core.display.HTML object>"
      ]
     },
     "metadata": {},
     "output_type": "display_data"
    }
   ],
   "source": [
    "# Define training function and hyperparameter ranges\n",
    "from wandb.keras import WandbCallback\n",
    "from sklearn.model_selection import KFold\n",
    "import multiprocessing\n",
    "\n",
    "sweep_config = {\n",
    "  \"name\": \"keras-sequential-model-sweep\",\n",
    "  \"method\": \"bayes\",\n",
    "  \"metric\": {\n",
    "    \"name\": \"Mean Validation RMSE (all folds)\",\n",
    "    \"goal\": \"minimize\"\n",
    "  },\n",
    "  \"parameters\": {\n",
    "    \"dropout1\": {\n",
    "      \"distribution\": \"uniform\",\n",
    "      \"min\": 0.0,\n",
    "      \"max\": 0.4\n",
    "    },\n",
    "    \"dense1\": {\n",
    "      \"distribution\": \"categorical\",\n",
    "      \"values\": [1024, 2048, 4096]\n",
    "    },\n",
    "    \"dense2\": {\n",
    "      \"distribution\": \"categorical\",\n",
    "      \"values\": [1024, 2048, 4096]\n",
    "    },\n",
    "    \"bias1\": {\n",
    "      \"distribution\": \"categorical\",\n",
    "      \"values\": [0.001, 0.01]\n",
    "    },\n",
    "    \"bias2\": {\n",
    "      \"distribution\": \"categorical\",\n",
    "      \"values\": [0.001, 0.01]\n",
    "    },\n",
    "    \"epochs\": {\n",
    "      \"distribution\": \"categorical\",\n",
    "      \"values\": [50, 100, 150]\n",
    "    },\n",
    "    \"batch_size\": {\n",
    "      \"distribution\": \"categorical\",\n",
    "      \"values\": [8, 16, 32]\n",
    "    },\n",
    "    \"learning_rate\": {\n",
    "      \"distribution\": \"categorical\",\n",
    "      \"values\": [0.0001, 0.001, 0.01]\n",
    "    }\n",
    "  }\n",
    "}\n",
    "\n",
    "config_defaults = {\n",
    "  \"dropout1\": 0.1,\n",
    "  \"dense1\": 2048,\n",
    "  \"dense2\": 2048,\n",
    "  \"bias1\": 0.01,\n",
    "  \"bias2\": 0.01,\n",
    "  \"epochs\": 100,\n",
    "  \"batch_size\": 16,\n",
    "  \"learning_rate\": 0.001\n",
    "}\n",
    "\n",
    "# Define number of splits\n",
    "kf = KFold(n_splits=5)\n",
    "\n",
    "def train():\n",
    "\n",
    "  rmse_per_fold = []\n",
    "  loss_per_fold = []\n",
    "  fold_no = 1\n",
    "\n",
    "  # Go through each split, and get the index number for each\n",
    "  for train, test in kf.split(X_train, y_train):\n",
    "\n",
    "    # With the current session in WandB\n",
    "    with wandb.init(config=config_defaults) as run:\n",
    "\n",
    "      def evaluate_model():\n",
    "\n",
    "        # Recreate the model each time for each new batch\n",
    "        model = None # Not sure if this step is necessary\n",
    "        model = create_model()\n",
    "\n",
    "        # Fit model on new batches\n",
    "        model.fit(\n",
    "        np.asarray(X_train),\n",
    "        y_train, \n",
    "        epochs=wandb.config.epochs, \n",
    "        batch_size=wandb.config.batch_size, \n",
    "        verbose=0,\n",
    "        callbacks=[WandbCallback()], \n",
    "        validation_data=(np.asarray(X_train),y_train)\n",
    "        )\n",
    "        \n",
    "        # Generate data for each\n",
    "        scores = model.evaluate(np.asarray(X_train), y_train, callbacks=[WandbCallback()])\n",
    "        print(f'Score for fold {fold_no}: {model.metrics_names[0]} of {scores[0]}; {model.metrics_names[1]} of {scores[1]}')\n",
    "        rmse_per_fold.append(scores[1])\n",
    "        loss_per_fold.append(scores[0])\n",
    "\n",
    "        # == Provide average scores ==\n",
    "        print('------------------------------------------------------------------------')\n",
    "        print('Score per fold')\n",
    "        for i in range(0, len(rmse_per_fold)):\n",
    "            print('------------------------------------------------------------------------')\n",
    "            print(f'> Fold {i+1} - Loss: {loss_per_fold[i]} - RMSE: {rmse_per_fold[i]}')\n",
    "            print('------------------------------------------------------------------------')\n",
    "\n",
    "        wandb.log({\n",
    "        \"Mean Validation RMSE (all folds)\": np.mean(rmse_per_fold),\n",
    "        \"Mean Validation Loss (all folds)\": np.mean(loss_per_fold) \n",
    "        })\n",
    "\n",
    "        wandb.join()\n",
    "\n",
    "       # TF has a problem releasing cache after an operation, for which the suggested solution is to start and kill a separate process (https://github.com/tensorflow/tensorflow/issues/36465)\n",
    "      # However, attempting to do this results in an error with WandB (https://github.com/wandb/client/issues/1994)\n",
    "      p = multiprocessing.Process(target=evaluate_model) \n",
    "      p.start() \n",
    "      p.join()\n",
    "\n",
    "      print('Average scores for all folds:')\n",
    "      print(f'> RMSE: {np.mean(rmse_per_fold)} (+- {np.std(rmse_per_fold)})')\n",
    "      print(f'> Loss: {np.mean(loss_per_fold)}')\n",
    "      print('------------------------------------------------------------------------')\n",
    "\n",
    "      # Increase fold number\n",
    "      fold_no = fold_no + 1\n",
    "\n",
    "keras_sequential_sweep_1 = wandb.sweep(sweep_config, project=\"house-price-prediction\", entity=\"luiscostigan\")\n",
    "\n",
    "count = 5\n",
    "\n",
    "wandb.agent(keras_sequential_sweep_1, function=train, count=count)"
   ]
  },
  {
   "cell_type": "markdown",
   "id": "ffaa74eb",
   "metadata": {},
   "source": [
    "Hyperparameter optimization and experiment recording all took place within the Weights and Biases platform. The set of hyperparameters resulting in the lowest loss (in terms of RMSE) is noted in the top row of the image below:\n",
    "\n",
    "<img src=\"./wandb_rmse.png\" width=\"800\">"
   ]
  },
  {
   "cell_type": "code",
   "execution_count": 17,
   "id": "7b238b8d-bf25-43da-acdb-7caa72dec5df",
   "metadata": {},
   "outputs": [],
   "source": [
    "# Enter best params from sweep\n",
    "best_params = {\n",
    "    \"dropout\": 0.3662,\n",
    "    \"dense1\": 4096,\n",
    "    \"dense2\": 4096,\n",
    "    \"bias1\": 0.001,\n",
    "    \"bias2\": 0.01,\n",
    "    \"epochs\": 150,\n",
    "    \"batch_size\": 16,\n",
    "    \"learning_rate\": 0.001\n",
    "}\n",
    "\n",
    "# Build model using the best parameters\n",
    "def make_predictions(best_params, dataset):\n",
    "    \n",
    "    model = Sequential()\n",
    "    model.add(Dense(best_params.get(\"dense1\"), input_dim=X_train.shape[1], activation='relu', kernel_regularizer=regularizers.l2(best_params.get(\"bias1\"))))\n",
    "    model.add(Dropout(best_params.get(\"dropout\")))\n",
    "    model.add(Dense(best_params.get(\"dense2\"), activation='relu', kernel_regularizer=regularizers.l2(best_params.get(\"bias2\"))))\n",
    "    model.add(Dense(1))\n",
    "    model.compile(optimizer=Adam(best_params.get(\"learning_rate\")), loss=\"mean_absolute_error\", metrics=[RootMeanSquaredError()])\n",
    "    \n",
    "    model.fit(X_train, y_train, epochs=best_params.get(\"epochs\"), batch_size=best_params.get(\"batch_size\"), verbose = 0)\n",
    "                \n",
    "    preds  = model.predict(dataset, best_params.get(\"batch_size\"), verbose = 0)\n",
    "              \n",
    "    return preds"
   ]
  },
  {
   "cell_type": "code",
   "execution_count": null,
   "id": "73e3b4ec-1072-44a8-82b7-620ce29e29db",
   "metadata": {},
   "outputs": [],
   "source": [
    "# Make predictions\n",
    "test_predictions_log_transformed = make_predictions(best_params, X_test)"
   ]
  },
  {
   "cell_type": "code",
   "execution_count": 19,
   "id": "eb312192",
   "metadata": {},
   "outputs": [],
   "source": [
    "# Generate predictions on holdout dataset\n",
    "holdout_predictions_log_transformed = make_predictions(best_params, X_holdout)"
   ]
  },
  {
   "cell_type": "code",
   "execution_count": 22,
   "id": "cf8f2acb",
   "metadata": {},
   "outputs": [],
   "source": [
    "holdout_predictions = np.exp(holdout_predictions_log_transformed)"
   ]
  },
  {
   "cell_type": "code",
   "execution_count": 21,
   "id": "444e0725",
   "metadata": {},
   "outputs": [
    {
     "ename": "NameError",
     "evalue": "name 'test_predictions' is not defined",
     "output_type": "error",
     "traceback": [
      "\u001b[0;31m---------------------------------------------------------------------------\u001b[0m",
      "\u001b[0;31mNameError\u001b[0m                                 Traceback (most recent call last)",
      "\u001b[1;32m/workspaces/data-science-projects/house-price-prediction/Models/tensorflow/tf_model_wrangling.ipynb Cell 15'\u001b[0m in \u001b[0;36m<cell line: 6>\u001b[0;34m()\u001b[0m\n\u001b[1;32m      <a href='vscode-notebook-cell://dev-container%2B633a5c55736572735c6c7569735f5c446f63756d656e74735c4769744875625c646174612d736369656e63652d70726f6a656374735c686f7573652d70726963652d70726564696374696f6e/workspaces/data-science-projects/house-price-prediction/Models/tensorflow/tf_model_wrangling.ipynb#ch0000013vscode-remote?line=2'>3</a>\u001b[0m holdout_predictions \u001b[39m=\u001b[39m np\u001b[39m.\u001b[39mexp(holdout_predictions_log_transformed)\n\u001b[1;32m      <a href='vscode-notebook-cell://dev-container%2B633a5c55736572735c6c7569735f5c446f63756d656e74735c4769744875625c646174612d736369656e63652d70726f6a656374735c686f7573652d70726963652d70726564696374696f6e/workspaces/data-science-projects/house-price-prediction/Models/tensorflow/tf_model_wrangling.ipynb#ch0000013vscode-remote?line=4'>5</a>\u001b[0m \u001b[39m# Generating submission CSV\u001b[39;00m\n\u001b[0;32m----> <a href='vscode-notebook-cell://dev-container%2B633a5c55736572735c6c7569735f5c446f63756d656e74735c4769744875625c646174612d736369656e63652d70726f6a656374735c686f7573652d70726963652d70726564696374696f6e/workspaces/data-science-projects/house-price-prediction/Models/tensorflow/tf_model_wrangling.ipynb#ch0000013vscode-remote?line=5'>6</a>\u001b[0m d \u001b[39m=\u001b[39m {\u001b[39m\"\u001b[39m\u001b[39mId\u001b[39m\u001b[39m\"\u001b[39m:X_test\u001b[39m.\u001b[39mindex,\u001b[39m\"\u001b[39m\u001b[39mSalePrice\u001b[39m\u001b[39m\"\u001b[39m:test_predictions\u001b[39m.\u001b[39mflatten()}\n\u001b[1;32m      <a href='vscode-notebook-cell://dev-container%2B633a5c55736572735c6c7569735f5c446f63756d656e74735c4769744875625c646174612d736369656e63652d70726f6a656374735c686f7573652d70726963652d70726564696374696f6e/workspaces/data-science-projects/house-price-prediction/Models/tensorflow/tf_model_wrangling.ipynb#ch0000013vscode-remote?line=6'>7</a>\u001b[0m submission \u001b[39m=\u001b[39m pd\u001b[39m.\u001b[39mDataFrame(data\u001b[39m=\u001b[39md, index\u001b[39m=\u001b[39m\u001b[39mNone\u001b[39;00m)\n\u001b[1;32m      <a href='vscode-notebook-cell://dev-container%2B633a5c55736572735c6c7569735f5c446f63756d656e74735c4769744875625c646174612d736369656e63652d70726f6a656374735c686f7573652d70726963652d70726564696374696f6e/workspaces/data-science-projects/house-price-prediction/Models/tensorflow/tf_model_wrangling.ipynb#ch0000013vscode-remote?line=8'>9</a>\u001b[0m submission[\u001b[39m\"\u001b[39m\u001b[39mId\u001b[39m\u001b[39m\"\u001b[39m] \u001b[39m=\u001b[39m submission[\u001b[39m\"\u001b[39m\u001b[39mId\u001b[39m\u001b[39m\"\u001b[39m] \u001b[39m+\u001b[39m \u001b[39m1461\u001b[39m\n",
      "\u001b[0;31mNameError\u001b[0m: name 'test_predictions' is not defined"
     ]
    }
   ],
   "source": [
    "# Undo the log transform\n",
    "test_predictions = np.exp(test_predictions_log_transformed)\n",
    "holdout_predictions = np.exp(holdout_predictions_log_transformed)\n",
    "\n",
    "# Generating submission CSV\n",
    "d = {\"Id\":X_test.index,\"SalePrice\":test_predictions.flatten()}\n",
    "submission = pd.DataFrame(data=d, index=None)\n",
    "\n",
    "submission[\"Id\"] = submission[\"Id\"] + 1461\n",
    "\n",
    "submission.to_csv(\"submission_nn.csv\",index=False)"
   ]
  },
  {
   "cell_type": "markdown",
   "id": "18fb0b31",
   "metadata": {},
   "source": [
    "## Blending Predictions\n",
    "\n",
    "So far, I have generated predictions using a decision tree-based model and a neural net-based model.\n",
    "First, I'll try taking the mean of predictions from both to see how it performs."
   ]
  },
  {
   "cell_type": "code",
   "execution_count": 23,
   "id": "578a0854",
   "metadata": {},
   "outputs": [],
   "source": [
    "# Read CSVs\n",
    "decision_tree_predictions = pd.read_csv(\"../sklearn/xgb_lgb_test_predictions.csv\")\n",
    "neural_net_predictions = pd.read_csv(\"../tensorflow/submission_nn.csv\")\n",
    "\n",
    "# Merge CSVs on Id column\n",
    "decision_tree_predictions[\"NN_Predictions\"] = neural_net_predictions[\"SalePrice\"]\n",
    "\n",
    "# Log transform NN predictions again (for consistent RMSE value)\n",
    "decision_tree_predictions[\"NN_Predictions\"] = np.log(decision_tree_predictions[\"NN_Predictions\"])\n",
    "\n",
    "# Add new column with mean\n",
    "decision_tree_predictions[\"SalePrice\"] = decision_tree_predictions[[\"NN_Predictions\",\"XGBoost_Predictions\",\"LightGBM_Predictions\"]].mean(axis=1)"
   ]
  },
  {
   "cell_type": "code",
   "execution_count": 25,
   "id": "d4109da3",
   "metadata": {},
   "outputs": [
    {
     "name": "stdout",
     "output_type": "stream",
     "text": [
      "0.14691776450949512\n",
      "0.2549567297876517\n"
     ]
    }
   ],
   "source": [
    "from sklearn.metrics import mean_squared_error\n",
    "\n",
    "# Refresh data\n",
    "X_train, y_train, X_valid, y_valid, X_holdout, y_holdout, X_test, holdout_predictions_df = data()\n",
    "\n",
    "# Append holdout set NN predictions to DT predictions\n",
    "holdout_predictions_df[\"NN_Predictions\"] = holdout_predictions_log_transformed\n",
    "holdout_predictions_df = holdout_predictions_df[[\"XGBoost_Predictions\", \"LightGBM_Predictions\", \"NN_Predictions\", \"Actual_SalePrice\"]]\n",
    "\n",
    "# Add mean column\n",
    "holdout_predictions_df[\"Mean_SalePrice\"] = holdout_predictions_df[[\"XGBoost_Predictions\", \"LightGBM_Predictions\", \"NN_Predictions\"]].mean(axis=1)\n",
    "\n",
    "# Add weighted mean column\n",
    "weight = [0, 0, 1]\n",
    "holdout_predictions_df[\"Weighted_Mean_SalePrice\"] = holdout_predictions_df[[\"XGBoost_Predictions\", \"LightGBM_Predictions\", \"NN_Predictions\"]].dot(weight)\n",
    "\n",
    "# Calculate RMSE\n",
    "print(mean_squared_error(holdout_predictions_df[\"Actual_SalePrice\"], holdout_predictions_df[\"Mean_SalePrice\"], squared=False))\n",
    "print(mean_squared_error(holdout_predictions_df[\"Actual_SalePrice\"], holdout_predictions_df[\"Weighted_Mean_SalePrice\"], squared=False))\n"
   ]
  },
  {
   "cell_type": "code",
   "execution_count": null,
   "id": "264327c6",
   "metadata": {},
   "outputs": [],
   "source": [
    "# Check weighted mean on holdout set\n",
    "\n",
    "holdout_predictions_df.applymap(np.exp)"
   ]
  },
  {
   "cell_type": "code",
   "execution_count": null,
   "id": "707d0bcd",
   "metadata": {},
   "outputs": [],
   "source": [
    "# Drop other columns\n",
    "decision_tree_predictions = decision_tree_predictions[[\"Id\",\"SalePrice\"]]\n",
    "\n",
    "# Create mean prediction submission CSV\n",
    "mean_predictions = decision_tree_predictions\n",
    "mean_predictions.to_csv(\"submission_mean.csv\",index=False)"
   ]
  },
  {
   "cell_type": "markdown",
   "id": "84c22511",
   "metadata": {},
   "source": [
    "Taking the mean of predictions did not beat my score from just using LightGBM in the previous post.\n",
    "\n",
    "<img src=\"./mean_predictions_kaggle.png\" width=\"600\">\n",
    "\n",
    "Next, I'll try defining a meta-model to best blend predictions from the two models. After developing each model, predictions were also made on a holdout dataset that was kept separate from the training and validation datasets, for the explicit purpose of training this meta-model. The model trained on this dataset was then used to blend predictions on the test dataset to be submitted to Kaggle."
   ]
  },
  {
   "cell_type": "code",
   "execution_count": null,
   "id": "a0349413",
   "metadata": {},
   "outputs": [],
   "source": [
    "# Get predictions on test set\n",
    "test_predictions_dt = pd.read_csv(\"/root/data-science-projects-1/house-price-prediction/Models/sklearn/submission_dt.csv\")\n",
    "test_predictions_nn = pd.read_csv(\"/root/data-science-projects-1/house-price-prediction/Models/tensorflow/submission_nn.csv\")\n",
    "\n",
    "# Merge CSVs on Id column\n",
    "test_predictions_dt[\"NN_predictions\"] = test_predictions_nn[\"SalePrice\"]\n",
    "\n",
    "# Rename decision tree predictions column\n",
    "test_predictions_dt = test_predictions_dt.rename(columns={\"SalePrice\":\"DT_predictions\"})\n",
    "\n",
    "# Rename df\n",
    "blended_predictions_df = test_predictions_dt"
   ]
  },
  {
   "cell_type": "markdown",
   "id": "b76de3cc",
   "metadata": {},
   "source": [
    "The meta-model was a simple grid search across different estimators, without attempting to optimize hyperparameters. Since the holdout dataset is very small, I used 10 folds in the cross-validation process."
   ]
  },
  {
   "cell_type": "code",
   "execution_count": null,
   "id": "88d80bdc",
   "metadata": {},
   "outputs": [],
   "source": [
    "import warnings\n",
    "warnings.filterwarnings(\"ignore\", message=\".*Int64Index.*\")\n",
    "\n",
    "from sklearn.linear_model import LinearRegression, Ridge\n",
    "from sklearn.model_selection import cross_val_score, GridSearchCV\n",
    "from sklearn.pipeline import Pipeline\n",
    "from sklearn.metrics import make_scorer\n",
    "import xgboost as xgb\n",
    "import lightgbm as lgb\n",
    "\n",
    "# Defining a custom loss function (Root Mean Squared Error)\n",
    "rmse = make_scorer(mean_squared_error, squared=False)\n",
    "\n",
    "X = holdout_predictions_df[[\"XGBoost_Predictions\", \"LightGBM_Predictions\", \"NN_Predictions\"]]\n",
    "y = holdout_predictions_df[\"Actual_SalePrice\"]\n",
    "\n",
    "estimators = [\n",
    "    {\n",
    "        \"clf\": (LinearRegression(),)\n",
    "    },\n",
    "    {\n",
    "        \"clf\": (Ridge(),)\n",
    "    },\n",
    "    {\n",
    "        \"clf\": (xgb.XGBRegressor(),)\n",
    "    },\n",
    "    {\n",
    "       \"clf\": (lgb.LGBMRegressor(),)\n",
    "    }\n",
    "]\n",
    "\n",
    "pipe = Pipeline([(\"clf\", LinearRegression())])\n",
    "\n",
    "grid_search = GridSearchCV(pipe, estimators, cv=20, scoring=rmse)\n",
    "grid_search.fit(X,y)\n",
    "grid_search.score(X,y)"
   ]
  },
  {
   "cell_type": "code",
   "execution_count": null,
   "id": "57b6bcd2",
   "metadata": {},
   "outputs": [],
   "source": [
    "grid_search.cv_results_"
   ]
  },
  {
   "cell_type": "code",
   "execution_count": null,
   "id": "5f117f30",
   "metadata": {},
   "outputs": [],
   "source": [
    "# Make predictions \n",
    "grid_search_blended_predictions = grid_search.predict(blended_predictions_df[[\"DT_predictions\", \"NN_predictions\"]])"
   ]
  },
  {
   "cell_type": "code",
   "execution_count": null,
   "id": "0a154b42",
   "metadata": {},
   "outputs": [],
   "source": [
    "# Add predictions to a dataframe\n",
    "grid_search_blended_predictions_df = blended_predictions_df\n",
    "grid_search_blended_predictions_df[\"SalePrice\"] = grid_search_blended_predictions\n",
    "grid_search_blended_predictions_df = grid_search_blended_predictions_df.drop(columns=[\"DT_predictions\",\"NN_predictions\"])\n",
    "\n",
    "# Create CSV with blended predictions\n",
    "grid_search_blended_predictions_df.to_csv(\"submission_gridsearch_blended.csv\",index=False)"
   ]
  },
  {
   "cell_type": "code",
   "execution_count": null,
   "id": "b6d3c014",
   "metadata": {},
   "outputs": [],
   "source": [
    "grid_search_blended_predictions_df"
   ]
  },
  {
   "cell_type": "markdown",
   "id": "f19b1299",
   "metadata": {},
   "source": [
    "I had high hopes for a meta-model that blended predictions, but it performed worse than I expected.\n",
    "\n"
   ]
  },
  {
   "cell_type": "markdown",
   "id": "60f3e2d2",
   "metadata": {},
   "source": [
    "## Improvements to subsequent models\n",
    "\n",
    "Below I note some improvements to the models I would implement if I had more time.\n",
    "\n",
    "- Remove outliers (using something like sklearn's IsolationForest)\n",
    "- "
   ]
  }
 ],
 "metadata": {
  "kernelspec": {
   "display_name": "Python 3 (ipykernel)",
   "language": "python",
   "name": "python3"
  },
  "language_info": {
   "codemirror_mode": {
    "name": "ipython",
    "version": 3
   },
   "file_extension": ".py",
   "mimetype": "text/x-python",
   "name": "python",
   "nbconvert_exporter": "python",
   "pygments_lexer": "ipython3",
   "version": "3.8.10"
  }
 },
 "nbformat": 4,
 "nbformat_minor": 5
}
