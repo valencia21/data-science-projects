{
 "cells": [
  {
   "cell_type": "code",
   "execution_count": 2,
   "id": "1a9b44ee-21e3-44e1-ab3b-4af5c351aca6",
   "metadata": {
    "tags": []
   },
   "outputs": [],
   "source": [
    "from tensorflow.keras.models import Sequential\n",
    "from tensorflow.keras.layers import Dense, Dropout\n",
    "from time import time\n",
    "from sklearn.metrics import mean_absolute_error\n",
    "import wandb\n",
    "import pandas as pd\n",
    "import numpy as np\n",
    "import matplotlib.pyplot as plt"
   ]
  },
  {
   "cell_type": "code",
   "execution_count": 3,
   "id": "41683053-0452-48d6-8033-a5e2909e0f84",
   "metadata": {},
   "outputs": [],
   "source": [
    "def data():\n",
    "    training = pd.read_csv(\"./training_preprocessed\")\n",
    "    validation = pd.read_csv(\"./validation_preprocessed\")\n",
    "    test = pd.read_csv(\"./test_preprocessed\")\n",
    "    X_train = training.drop(columns=\"y\")\n",
    "    y_train = training[\"y\"]\n",
    "    X_valid = validation.drop(columns=\"y\")\n",
    "    y_valid = validation[\"y\"]\n",
    "    X_test = test\n",
    "    return X_train, y_train, X_valid, y_valid, X_test"
   ]
  },
  {
   "cell_type": "code",
   "execution_count": 4,
   "id": "408835d3-0eaa-4693-af30-794dd6b24d08",
   "metadata": {},
   "outputs": [],
   "source": [
    "X_train, y_train, X_valid, y_valid, X_test = data()"
   ]
  },
  {
   "cell_type": "code",
   "execution_count": 19,
   "id": "52425c57",
   "metadata": {},
   "outputs": [
    {
     "data": {
      "text/html": [
       "<div>\n",
       "<style scoped>\n",
       "    .dataframe tbody tr th:only-of-type {\n",
       "        vertical-align: middle;\n",
       "    }\n",
       "\n",
       "    .dataframe tbody tr th {\n",
       "        vertical-align: top;\n",
       "    }\n",
       "\n",
       "    .dataframe thead th {\n",
       "        text-align: right;\n",
       "    }\n",
       "</style>\n",
       "<table border=\"1\" class=\"dataframe\">\n",
       "  <thead>\n",
       "    <tr style=\"text-align: right;\">\n",
       "      <th></th>\n",
       "      <th>0</th>\n",
       "      <th>1</th>\n",
       "      <th>2</th>\n",
       "      <th>3</th>\n",
       "      <th>4</th>\n",
       "      <th>5</th>\n",
       "      <th>6</th>\n",
       "      <th>7</th>\n",
       "      <th>8</th>\n",
       "      <th>9</th>\n",
       "      <th>...</th>\n",
       "      <th>299</th>\n",
       "      <th>300</th>\n",
       "      <th>301</th>\n",
       "      <th>302</th>\n",
       "      <th>303</th>\n",
       "      <th>304</th>\n",
       "      <th>305</th>\n",
       "      <th>306</th>\n",
       "      <th>307</th>\n",
       "      <th>308</th>\n",
       "    </tr>\n",
       "  </thead>\n",
       "  <tbody>\n",
       "    <tr>\n",
       "      <th>0</th>\n",
       "      <td>0.543460</td>\n",
       "      <td>0.236888</td>\n",
       "      <td>1.393064</td>\n",
       "      <td>-0.526788</td>\n",
       "      <td>0.683623</td>\n",
       "      <td>0.340810</td>\n",
       "      <td>-0.574965</td>\n",
       "      <td>0.811542</td>\n",
       "      <td>-0.292288</td>\n",
       "      <td>-1.003178</td>\n",
       "      <td>...</td>\n",
       "      <td>0.0</td>\n",
       "      <td>0.0</td>\n",
       "      <td>0.0</td>\n",
       "      <td>1.0</td>\n",
       "      <td>1.0</td>\n",
       "      <td>0.0</td>\n",
       "      <td>0.0</td>\n",
       "      <td>0.0</td>\n",
       "      <td>0.0</td>\n",
       "      <td>0.0</td>\n",
       "    </tr>\n",
       "    <tr>\n",
       "      <th>1</th>\n",
       "      <td>1.215827</td>\n",
       "      <td>2.033324</td>\n",
       "      <td>-1.508583</td>\n",
       "      <td>-0.526788</td>\n",
       "      <td>-0.275562</td>\n",
       "      <td>-1.060661</td>\n",
       "      <td>-0.574965</td>\n",
       "      <td>0.452125</td>\n",
       "      <td>-0.292288</td>\n",
       "      <td>-0.296999</td>\n",
       "      <td>...</td>\n",
       "      <td>0.0</td>\n",
       "      <td>0.0</td>\n",
       "      <td>0.0</td>\n",
       "      <td>1.0</td>\n",
       "      <td>0.0</td>\n",
       "      <td>0.0</td>\n",
       "      <td>0.0</td>\n",
       "      <td>0.0</td>\n",
       "      <td>1.0</td>\n",
       "      <td>0.0</td>\n",
       "    </tr>\n",
       "    <tr>\n",
       "      <th>2</th>\n",
       "      <td>0.159251</td>\n",
       "      <td>-0.410041</td>\n",
       "      <td>-0.057760</td>\n",
       "      <td>0.372756</td>\n",
       "      <td>0.154418</td>\n",
       "      <td>-0.432415</td>\n",
       "      <td>0.830062</td>\n",
       "      <td>0.447517</td>\n",
       "      <td>-0.292288</td>\n",
       "      <td>-0.344530</td>\n",
       "      <td>...</td>\n",
       "      <td>0.0</td>\n",
       "      <td>0.0</td>\n",
       "      <td>0.0</td>\n",
       "      <td>1.0</td>\n",
       "      <td>1.0</td>\n",
       "      <td>0.0</td>\n",
       "      <td>0.0</td>\n",
       "      <td>0.0</td>\n",
       "      <td>0.0</td>\n",
       "      <td>0.0</td>\n",
       "    </tr>\n",
       "    <tr>\n",
       "      <th>3</th>\n",
       "      <td>1.359905</td>\n",
       "      <td>0.234562</td>\n",
       "      <td>-0.057760</td>\n",
       "      <td>-0.526788</td>\n",
       "      <td>0.551322</td>\n",
       "      <td>0.195830</td>\n",
       "      <td>0.901691</td>\n",
       "      <td>0.908308</td>\n",
       "      <td>-0.292288</td>\n",
       "      <td>-0.548236</td>\n",
       "      <td>...</td>\n",
       "      <td>0.0</td>\n",
       "      <td>0.0</td>\n",
       "      <td>0.0</td>\n",
       "      <td>1.0</td>\n",
       "      <td>0.0</td>\n",
       "      <td>0.0</td>\n",
       "      <td>0.0</td>\n",
       "      <td>0.0</td>\n",
       "      <td>1.0</td>\n",
       "      <td>0.0</td>\n",
       "    </tr>\n",
       "    <tr>\n",
       "      <th>4</th>\n",
       "      <td>-0.417063</td>\n",
       "      <td>-0.458178</td>\n",
       "      <td>-0.783171</td>\n",
       "      <td>-0.526788</td>\n",
       "      <td>1.113603</td>\n",
       "      <td>1.017382</td>\n",
       "      <td>-0.574965</td>\n",
       "      <td>1.251597</td>\n",
       "      <td>-0.292288</td>\n",
       "      <td>-1.023549</td>\n",
       "      <td>...</td>\n",
       "      <td>0.0</td>\n",
       "      <td>0.0</td>\n",
       "      <td>0.0</td>\n",
       "      <td>1.0</td>\n",
       "      <td>0.0</td>\n",
       "      <td>0.0</td>\n",
       "      <td>0.0</td>\n",
       "      <td>0.0</td>\n",
       "      <td>1.0</td>\n",
       "      <td>0.0</td>\n",
       "    </tr>\n",
       "    <tr>\n",
       "      <th>...</th>\n",
       "      <td>...</td>\n",
       "      <td>...</td>\n",
       "      <td>...</td>\n",
       "      <td>...</td>\n",
       "      <td>...</td>\n",
       "      <td>...</td>\n",
       "      <td>...</td>\n",
       "      <td>...</td>\n",
       "      <td>...</td>\n",
       "      <td>...</td>\n",
       "      <td>...</td>\n",
       "      <td>...</td>\n",
       "      <td>...</td>\n",
       "      <td>...</td>\n",
       "      <td>...</td>\n",
       "      <td>...</td>\n",
       "      <td>...</td>\n",
       "      <td>...</td>\n",
       "      <td>...</td>\n",
       "      <td>...</td>\n",
       "      <td>...</td>\n",
       "    </tr>\n",
       "    <tr>\n",
       "      <th>287</th>\n",
       "      <td>1.503983</td>\n",
       "      <td>2.646118</td>\n",
       "      <td>-0.783171</td>\n",
       "      <td>-0.526788</td>\n",
       "      <td>-0.540165</td>\n",
       "      <td>-1.447274</td>\n",
       "      <td>-0.574965</td>\n",
       "      <td>1.426697</td>\n",
       "      <td>-0.292288</td>\n",
       "      <td>-1.272522</td>\n",
       "      <td>...</td>\n",
       "      <td>0.0</td>\n",
       "      <td>0.0</td>\n",
       "      <td>0.0</td>\n",
       "      <td>1.0</td>\n",
       "      <td>0.0</td>\n",
       "      <td>0.0</td>\n",
       "      <td>0.0</td>\n",
       "      <td>0.0</td>\n",
       "      <td>1.0</td>\n",
       "      <td>0.0</td>\n",
       "    </tr>\n",
       "    <tr>\n",
       "      <th>288</th>\n",
       "      <td>0.543460</td>\n",
       "      <td>0.149527</td>\n",
       "      <td>-0.783171</td>\n",
       "      <td>0.372756</td>\n",
       "      <td>-0.507089</td>\n",
       "      <td>-1.398947</td>\n",
       "      <td>-0.574965</td>\n",
       "      <td>0.154915</td>\n",
       "      <td>-0.292288</td>\n",
       "      <td>-0.036708</td>\n",
       "      <td>...</td>\n",
       "      <td>0.0</td>\n",
       "      <td>0.0</td>\n",
       "      <td>0.0</td>\n",
       "      <td>1.0</td>\n",
       "      <td>0.0</td>\n",
       "      <td>0.0</td>\n",
       "      <td>0.0</td>\n",
       "      <td>0.0</td>\n",
       "      <td>1.0</td>\n",
       "      <td>0.0</td>\n",
       "    </tr>\n",
       "    <tr>\n",
       "      <th>289</th>\n",
       "      <td>-0.417063</td>\n",
       "      <td>0.378626</td>\n",
       "      <td>0.667652</td>\n",
       "      <td>1.272300</td>\n",
       "      <td>-1.896254</td>\n",
       "      <td>-0.722375</td>\n",
       "      <td>-0.574965</td>\n",
       "      <td>-0.107735</td>\n",
       "      <td>-0.292288</td>\n",
       "      <td>-0.163459</td>\n",
       "      <td>...</td>\n",
       "      <td>0.0</td>\n",
       "      <td>0.0</td>\n",
       "      <td>0.0</td>\n",
       "      <td>1.0</td>\n",
       "      <td>0.0</td>\n",
       "      <td>0.0</td>\n",
       "      <td>0.0</td>\n",
       "      <td>0.0</td>\n",
       "      <td>1.0</td>\n",
       "      <td>0.0</td>\n",
       "    </tr>\n",
       "    <tr>\n",
       "      <th>290</th>\n",
       "      <td>-0.032854</td>\n",
       "      <td>1.358238</td>\n",
       "      <td>-0.057760</td>\n",
       "      <td>-0.526788</td>\n",
       "      <td>-0.143260</td>\n",
       "      <td>-0.432415</td>\n",
       "      <td>1.403093</td>\n",
       "      <td>0.210210</td>\n",
       "      <td>-0.292288</td>\n",
       "      <td>1.334909</td>\n",
       "      <td>...</td>\n",
       "      <td>0.0</td>\n",
       "      <td>0.0</td>\n",
       "      <td>0.0</td>\n",
       "      <td>1.0</td>\n",
       "      <td>0.0</td>\n",
       "      <td>0.0</td>\n",
       "      <td>0.0</td>\n",
       "      <td>0.0</td>\n",
       "      <td>1.0</td>\n",
       "      <td>0.0</td>\n",
       "    </tr>\n",
       "    <tr>\n",
       "      <th>291</th>\n",
       "      <td>0.543460</td>\n",
       "      <td>0.883398</td>\n",
       "      <td>0.667652</td>\n",
       "      <td>-0.526788</td>\n",
       "      <td>0.815925</td>\n",
       "      <td>0.582443</td>\n",
       "      <td>-0.574965</td>\n",
       "      <td>1.760770</td>\n",
       "      <td>-0.292288</td>\n",
       "      <td>-1.034865</td>\n",
       "      <td>...</td>\n",
       "      <td>0.0</td>\n",
       "      <td>0.0</td>\n",
       "      <td>0.0</td>\n",
       "      <td>1.0</td>\n",
       "      <td>0.0</td>\n",
       "      <td>0.0</td>\n",
       "      <td>0.0</td>\n",
       "      <td>0.0</td>\n",
       "      <td>1.0</td>\n",
       "      <td>0.0</td>\n",
       "    </tr>\n",
       "  </tbody>\n",
       "</table>\n",
       "<p>292 rows × 309 columns</p>\n",
       "</div>"
      ],
      "text/plain": [
       "            0         1         2         3         4         5         6  \\\n",
       "0    0.543460  0.236888  1.393064 -0.526788  0.683623  0.340810 -0.574965   \n",
       "1    1.215827  2.033324 -1.508583 -0.526788 -0.275562 -1.060661 -0.574965   \n",
       "2    0.159251 -0.410041 -0.057760  0.372756  0.154418 -0.432415  0.830062   \n",
       "3    1.359905  0.234562 -0.057760 -0.526788  0.551322  0.195830  0.901691   \n",
       "4   -0.417063 -0.458178 -0.783171 -0.526788  1.113603  1.017382 -0.574965   \n",
       "..        ...       ...       ...       ...       ...       ...       ...   \n",
       "287  1.503983  2.646118 -0.783171 -0.526788 -0.540165 -1.447274 -0.574965   \n",
       "288  0.543460  0.149527 -0.783171  0.372756 -0.507089 -1.398947 -0.574965   \n",
       "289 -0.417063  0.378626  0.667652  1.272300 -1.896254 -0.722375 -0.574965   \n",
       "290 -0.032854  1.358238 -0.057760 -0.526788 -0.143260 -0.432415  1.403093   \n",
       "291  0.543460  0.883398  0.667652 -0.526788  0.815925  0.582443 -0.574965   \n",
       "\n",
       "            7         8         9  ...  299  300  301  302  303  304  305  \\\n",
       "0    0.811542 -0.292288 -1.003178  ...  0.0  0.0  0.0  1.0  1.0  0.0  0.0   \n",
       "1    0.452125 -0.292288 -0.296999  ...  0.0  0.0  0.0  1.0  0.0  0.0  0.0   \n",
       "2    0.447517 -0.292288 -0.344530  ...  0.0  0.0  0.0  1.0  1.0  0.0  0.0   \n",
       "3    0.908308 -0.292288 -0.548236  ...  0.0  0.0  0.0  1.0  0.0  0.0  0.0   \n",
       "4    1.251597 -0.292288 -1.023549  ...  0.0  0.0  0.0  1.0  0.0  0.0  0.0   \n",
       "..        ...       ...       ...  ...  ...  ...  ...  ...  ...  ...  ...   \n",
       "287  1.426697 -0.292288 -1.272522  ...  0.0  0.0  0.0  1.0  0.0  0.0  0.0   \n",
       "288  0.154915 -0.292288 -0.036708  ...  0.0  0.0  0.0  1.0  0.0  0.0  0.0   \n",
       "289 -0.107735 -0.292288 -0.163459  ...  0.0  0.0  0.0  1.0  0.0  0.0  0.0   \n",
       "290  0.210210 -0.292288  1.334909  ...  0.0  0.0  0.0  1.0  0.0  0.0  0.0   \n",
       "291  1.760770 -0.292288 -1.034865  ...  0.0  0.0  0.0  1.0  0.0  0.0  0.0   \n",
       "\n",
       "     306  307  308  \n",
       "0    0.0  0.0  0.0  \n",
       "1    0.0  1.0  0.0  \n",
       "2    0.0  0.0  0.0  \n",
       "3    0.0  1.0  0.0  \n",
       "4    0.0  1.0  0.0  \n",
       "..   ...  ...  ...  \n",
       "287  0.0  1.0  0.0  \n",
       "288  0.0  1.0  0.0  \n",
       "289  0.0  1.0  0.0  \n",
       "290  0.0  1.0  0.0  \n",
       "291  0.0  1.0  0.0  \n",
       "\n",
       "[292 rows x 309 columns]"
      ]
     },
     "execution_count": 19,
     "metadata": {},
     "output_type": "execute_result"
    }
   ],
   "source": [
    "X_valid"
   ]
  },
  {
   "cell_type": "code",
   "execution_count": 5,
   "id": "0cd95926-a2d1-484d-8674-273e1310e88d",
   "metadata": {},
   "outputs": [
    {
     "name": "stderr",
     "output_type": "stream",
     "text": [
      "Failed to detect the name of this notebook, you can set it manually with the WANDB_NOTEBOOK_NAME environment variable to enable code saving.\n",
      "\u001b[34m\u001b[1mwandb\u001b[0m: Currently logged in as: \u001b[33mluiscostigan\u001b[0m (use `wandb login --relogin` to force relogin)\n"
     ]
    },
    {
     "data": {
      "text/html": [
       "\n",
       "                    Syncing run <strong><a href=\"https://wandb.ai/luiscostigan/house-price-prediction/runs/3gs4xgfx\" target=\"_blank\">restful-glade-114</a></strong> to <a href=\"https://wandb.ai/luiscostigan/house-price-prediction\" target=\"_blank\">Weights & Biases</a> (<a href=\"https://docs.wandb.com/integrations/jupyter.html\" target=\"_blank\">docs</a>).<br/>\n",
       "\n",
       "                "
      ],
      "text/plain": [
       "<IPython.core.display.HTML object>"
      ]
     },
     "metadata": {},
     "output_type": "display_data"
    },
    {
     "data": {
      "text/html": [
       "<button onClick=\"this.nextSibling.style.display='block';this.style.display='none';\">Display W&B run</button><iframe src=\"https://wandb.ai/luiscostigan/house-price-prediction/runs/3gs4xgfx?jupyter=true\" style=\"border:none;width:100%;height:420px;display:none;\"></iframe>"
      ],
      "text/plain": [
       "<wandb.sdk.wandb_run.Run at 0x7fc25be75bb0>"
      ]
     },
     "execution_count": 5,
     "metadata": {},
     "output_type": "execute_result"
    }
   ],
   "source": [
    "wandb.init(project=\"house-price-prediction\", entity=\"luiscostigan\")"
   ]
  },
  {
   "cell_type": "code",
   "execution_count": 6,
   "id": "1b06efad-42f3-4cb3-90c9-ee188ed47acc",
   "metadata": {},
   "outputs": [],
   "source": [
    "def create_model():\n",
    "    model = Sequential()\n",
    "    model.add(Dense(64, input_dim=X_train.shape[1], activation='relu'))\n",
    "    model.add(Dense(512, activation='relu'))\n",
    "    model.add(Dropout(wandb.config.dropout1))\n",
    "    model.add(Dense(512, activation='relu'))\n",
    "    model.add(Dense(1))\n",
    "    model.compile(optimizer='rmsprop', loss=\"mse\", metrics=[\"mae\"])\n",
    "    \n",
    "    return model"
   ]
  },
  {
   "cell_type": "code",
   "execution_count": 7,
   "id": "51f06990",
   "metadata": {},
   "outputs": [
    {
     "data": {
      "text/plain": [
       "5"
      ]
     },
     "execution_count": 7,
     "metadata": {},
     "output_type": "execute_result"
    }
   ],
   "source": [
    "from sklearn.model_selection import KFold\n",
    "\n",
    "# Instantiate the validator, have it spit out the indices, generate batches from the indices, and feed those batches to the model.\n",
    "kf = KFold(n_splits=5)\n",
    "kf.get_n_splits(X_train, y_train)"
   ]
  },
  {
   "cell_type": "markdown",
   "id": "a12df004",
   "metadata": {},
   "source": [
    "Currently trying to implement RepeatedKFold cross validation with the Keras Sequential model, while recording model results on WandB.\n",
    "\n",
    "Sometimes I am getting a failed-1 error from WandB.\n",
    "    - "
   ]
  },
  {
   "cell_type": "code",
   "execution_count": 8,
   "id": "9e707d3f-2deb-4ac1-b274-48350e1027bd",
   "metadata": {},
   "outputs": [
    {
     "name": "stderr",
     "output_type": "stream",
     "text": [
      "\u001b[34m\u001b[1mwandb\u001b[0m: \u001b[33mWARNING\u001b[0m Calling wandb.login() after wandb.init() has no effect.\n"
     ]
    },
    {
     "name": "stdout",
     "output_type": "stream",
     "text": [
      "Create sweep with ID: cp52f928\n",
      "Sweep URL: https://wandb.ai/luiscostigan/house-price-prediction/sweeps/cp52f928\n"
     ]
    },
    {
     "name": "stderr",
     "output_type": "stream",
     "text": [
      "\u001b[34m\u001b[1mwandb\u001b[0m: Agent Starting Run: vhc2rlyx with config:\n",
      "\u001b[34m\u001b[1mwandb\u001b[0m: \tbatch_size: 16\n",
      "\u001b[34m\u001b[1mwandb\u001b[0m: \tdropout1: 0.20627260536931216\n",
      "\u001b[34m\u001b[1mwandb\u001b[0m: \tepochs: 30\n"
     ]
    },
    {
     "data": {
      "text/html": [
       "\n",
       "                    Syncing run <strong><a href=\"https://wandb.ai/luiscostigan/house-price-prediction/runs/vhc2rlyx\" target=\"_blank\">summer-sweep-1</a></strong> to <a href=\"https://wandb.ai/luiscostigan/house-price-prediction\" target=\"_blank\">Weights & Biases</a> (<a href=\"https://docs.wandb.com/integrations/jupyter.html\" target=\"_blank\">docs</a>).<br/>\n",
       "Sweep page: <a href=\"https://wandb.ai/luiscostigan/house-price-prediction/sweeps/cp52f928\" target=\"_blank\">https://wandb.ai/luiscostigan/house-price-prediction/sweeps/cp52f928</a><br/>\n",
       "\n",
       "                "
      ],
      "text/plain": [
       "<IPython.core.display.HTML object>"
      ]
     },
     "metadata": {},
     "output_type": "display_data"
    },
    {
     "name": "stdout",
     "output_type": "stream",
     "text": [
      "37/37 [==============================] - 0s 3ms/step - loss: 463129216.0000 - mae: 12170.9697\n",
      "Score for fold 1: loss of 463129216.0; mae of 12170.9697265625\n",
      "------------------------------------------------------------------------\n",
      "Score per fold\n",
      "------------------------------------------------------------------------\n",
      "> Fold 1 - Loss: 463129216.0 - Accuracy: 12170.9697265625%\n",
      "------------------------------------------------------------------------\n",
      "Average scores for all folds:\n",
      "> MAE: 12170.9697265625 (+- 0.0)\n",
      "> Loss: 463129216.0\n",
      "------------------------------------------------------------------------\n"
     ]
    },
    {
     "data": {
      "text/html": [
       "<br/>Waiting for W&B process to finish, PID 3859... <strong style=\"color:green\">(success).</strong>"
      ],
      "text/plain": [
       "<IPython.core.display.HTML object>"
      ]
     },
     "metadata": {},
     "output_type": "display_data"
    },
    {
     "data": {
      "application/vnd.jupyter.widget-view+json": {
       "model_id": "8dccc9816c9545049b82f3f2dad79c5c",
       "version_major": 2,
       "version_minor": 0
      },
      "text/plain": [
       "VBox(children=(Label(value=' 2.45MB of 2.45MB uploaded (0.00MB deduped)\\r'), FloatProgress(value=1.0, max=1.0)…"
      ]
     },
     "metadata": {},
     "output_type": "display_data"
    },
    {
     "data": {
      "text/html": [
       "<style>\n",
       "    table.wandb td:nth-child(1) { padding: 0 10px; text-align: right }\n",
       "    .wandb-row { display: flex; flex-direction: row; flex-wrap: wrap; width: 100% }\n",
       "    .wandb-col { display: flex; flex-direction: column; flex-basis: 100%; flex: 1; padding: 10px; }\n",
       "    </style>\n",
       "<div class=\"wandb-row\"><div class=\"wandb-col\">\n",
       "<h3>Run history:</h3><br/><table class=\"wandb\"><tr><td>Mean Validation Loss (all folds)</td><td>▁</td></tr><tr><td>Mean Validation MAE (all folds)</td><td>▁</td></tr><tr><td>epoch</td><td>▁▁▁▂▂▂▂▃▃▃▃▄▄▄▄▅▅▅▅▆▆▆▆▇▇▇▇███</td></tr><tr><td>loss</td><td>█▂▁▁▁▁▁▁▁▁▁▁▁▁▁▁▁▁▁▁▁▁▁▁▁▁▁▁▁▁</td></tr><tr><td>mae</td><td>█▃▂▁▁▁▁▁▁▁▁▁▁▁▁▁▁▁▁▁▁▁▁▁▁▁▁▁▁▁</td></tr><tr><td>val_loss</td><td>█▂▁▁▁▁▁▁▁▁▁▁▁▁▁▁▁▁▁▁▁▁▁▁▁▁▁▁▁▁</td></tr><tr><td>val_mae</td><td>█▃▂▂▁▁▁▁▁▁▁▁▁▁▁▁▁▁▁▁▁▁▁▁▁▁▁▁▁▁</td></tr></table><br/></div><div class=\"wandb-col\">\n",
       "<h3>Run summary:</h3><br/><table class=\"wandb\"><tr><td>Mean Validation Loss (all folds)</td><td>463129216.0</td></tr><tr><td>Mean Validation MAE (all folds)</td><td>12170.96973</td></tr><tr><td>best_epoch</td><td>29</td></tr><tr><td>best_val_loss</td><td>463129184.0</td></tr><tr><td>epoch</td><td>29</td></tr><tr><td>loss</td><td>516508672.0</td></tr><tr><td>mae</td><td>13190.58496</td></tr><tr><td>val_loss</td><td>463129184.0</td></tr><tr><td>val_mae</td><td>12170.9707</td></tr></table>\n",
       "</div></div>\n",
       "Synced 5 W&B file(s), 0 media file(s), 0 artifact file(s) and 1 other file(s)\n",
       "<br/>Synced <strong style=\"color:#cdcd00\">summer-sweep-1</strong>: <a href=\"https://wandb.ai/luiscostigan/house-price-prediction/runs/vhc2rlyx\" target=\"_blank\">https://wandb.ai/luiscostigan/house-price-prediction/runs/vhc2rlyx</a><br/>\n",
       "Find logs at: <code>./wandb/run-20220228_031035-vhc2rlyx/logs</code><br/>\n"
      ],
      "text/plain": [
       "<IPython.core.display.HTML object>"
      ]
     },
     "metadata": {},
     "output_type": "display_data"
    },
    {
     "data": {
      "text/html": [
       "\n",
       "                    Syncing run <strong><a href=\"https://wandb.ai/luiscostigan/house-price-prediction/runs/vhc2rlyx\" target=\"_blank\">summer-sweep-1</a></strong> to <a href=\"https://wandb.ai/luiscostigan/house-price-prediction\" target=\"_blank\">Weights & Biases</a> (<a href=\"https://docs.wandb.com/integrations/jupyter.html\" target=\"_blank\">docs</a>).<br/>\n",
       "Sweep page: <a href=\"https://wandb.ai/luiscostigan/house-price-prediction/sweeps/cp52f928\" target=\"_blank\">https://wandb.ai/luiscostigan/house-price-prediction/sweeps/cp52f928</a><br/>\n",
       "\n",
       "                "
      ],
      "text/plain": [
       "<IPython.core.display.HTML object>"
      ]
     },
     "metadata": {},
     "output_type": "display_data"
    },
    {
     "name": "stdout",
     "output_type": "stream",
     "text": [
      "37/37 [==============================] - 0s 3ms/step - loss: 463733984.0000 - mae: 12257.7900\n",
      "Score for fold 2: loss of 463733984.0; mae of 12257.7900390625\n",
      "------------------------------------------------------------------------\n",
      "Score per fold\n",
      "------------------------------------------------------------------------\n",
      "> Fold 1 - Loss: 463129216.0 - Accuracy: 12170.9697265625%\n",
      "------------------------------------------------------------------------\n",
      "> Fold 2 - Loss: 463733984.0 - Accuracy: 12257.7900390625%\n",
      "------------------------------------------------------------------------\n",
      "Average scores for all folds:\n",
      "> MAE: 12214.3798828125 (+- 43.41015625)\n",
      "> Loss: 463431600.0\n",
      "------------------------------------------------------------------------\n"
     ]
    },
    {
     "data": {
      "text/html": [
       "<br/>Waiting for W&B process to finish, PID 4752... <strong style=\"color:green\">(success).</strong>"
      ],
      "text/plain": [
       "<IPython.core.display.HTML object>"
      ]
     },
     "metadata": {},
     "output_type": "display_data"
    },
    {
     "data": {
      "application/vnd.jupyter.widget-view+json": {
       "model_id": "90f91b8f3f9748c2ad2812d0e80aeb82",
       "version_major": 2,
       "version_minor": 0
      },
      "text/plain": [
       "VBox(children=(Label(value=' 2.45MB of 2.45MB uploaded (0.00MB deduped)\\r'), FloatProgress(value=1.0, max=1.0)…"
      ]
     },
     "metadata": {},
     "output_type": "display_data"
    },
    {
     "data": {
      "text/html": [
       "<style>\n",
       "    table.wandb td:nth-child(1) { padding: 0 10px; text-align: right }\n",
       "    .wandb-row { display: flex; flex-direction: row; flex-wrap: wrap; width: 100% }\n",
       "    .wandb-col { display: flex; flex-direction: column; flex-basis: 100%; flex: 1; padding: 10px; }\n",
       "    </style>\n",
       "<div class=\"wandb-row\"><div class=\"wandb-col\">\n",
       "<h3>Run history:</h3><br/><table class=\"wandb\"><tr><td>Mean Validation Loss (all folds)</td><td>▁</td></tr><tr><td>Mean Validation MAE (all folds)</td><td>▁</td></tr><tr><td>epoch</td><td>▁▁▁▂▂▂▂▃▃▃▃▄▄▄▄▅▅▅▅▆▆▆▆▇▇▇▇███</td></tr><tr><td>loss</td><td>█▂▁▁▁▁▁▁▁▁▁▁▁▁▁▁▁▁▁▁▁▁▁▁▁▁▁▁▁▁</td></tr><tr><td>mae</td><td>█▃▂▁▁▁▁▁▁▁▁▁▁▁▁▁▁▁▁▁▁▁▁▁▁▁▁▁▁▁</td></tr><tr><td>val_loss</td><td>█▂▁▁▁▁▁▁▁▁▁▁▁▁▁▁▁▁▁▁▁▁▁▁▁▁▁▁▁▁</td></tr><tr><td>val_mae</td><td>█▃▂▂▁▁▁▁▁▁▁▁▁▁▁▁▁▁▁▁▁▁▁▁▁▁▁▁▁▁</td></tr></table><br/></div><div class=\"wandb-col\">\n",
       "<h3>Run summary:</h3><br/><table class=\"wandb\"><tr><td>Mean Validation Loss (all folds)</td><td>463431600.0</td></tr><tr><td>Mean Validation MAE (all folds)</td><td>12214.37988</td></tr><tr><td>best_epoch</td><td>28</td></tr><tr><td>best_val_loss</td><td>457282432.0</td></tr><tr><td>epoch</td><td>29</td></tr><tr><td>loss</td><td>483282592.0</td></tr><tr><td>mae</td><td>13250.14258</td></tr><tr><td>val_loss</td><td>463733984.0</td></tr><tr><td>val_mae</td><td>12257.79297</td></tr></table>\n",
       "</div></div>\n",
       "Synced 5 W&B file(s), 0 media file(s), 0 artifact file(s) and 1 other file(s)\n",
       "<br/>Synced <strong style=\"color:#cdcd00\">summer-sweep-1</strong>: <a href=\"https://wandb.ai/luiscostigan/house-price-prediction/runs/vhc2rlyx\" target=\"_blank\">https://wandb.ai/luiscostigan/house-price-prediction/runs/vhc2rlyx</a><br/>\n",
       "Find logs at: <code>./wandb/run-20220228_031056-vhc2rlyx/logs</code><br/>\n"
      ],
      "text/plain": [
       "<IPython.core.display.HTML object>"
      ]
     },
     "metadata": {},
     "output_type": "display_data"
    },
    {
     "data": {
      "text/html": [
       "\n",
       "                    Syncing run <strong><a href=\"https://wandb.ai/luiscostigan/house-price-prediction/runs/vhc2rlyx\" target=\"_blank\">summer-sweep-1</a></strong> to <a href=\"https://wandb.ai/luiscostigan/house-price-prediction\" target=\"_blank\">Weights & Biases</a> (<a href=\"https://docs.wandb.com/integrations/jupyter.html\" target=\"_blank\">docs</a>).<br/>\n",
       "Sweep page: <a href=\"https://wandb.ai/luiscostigan/house-price-prediction/sweeps/cp52f928\" target=\"_blank\">https://wandb.ai/luiscostigan/house-price-prediction/sweeps/cp52f928</a><br/>\n",
       "\n",
       "                "
      ],
      "text/plain": [
       "<IPython.core.display.HTML object>"
      ]
     },
     "metadata": {},
     "output_type": "display_data"
    },
    {
     "name": "stdout",
     "output_type": "stream",
     "text": [
      "37/37 [==============================] - 0s 3ms/step - loss: 446154720.0000 - mae: 11761.5723\n",
      "Score for fold 3: loss of 446154720.0; mae of 11761.572265625\n",
      "------------------------------------------------------------------------\n",
      "Score per fold\n",
      "------------------------------------------------------------------------\n",
      "> Fold 1 - Loss: 463129216.0 - Accuracy: 12170.9697265625%\n",
      "------------------------------------------------------------------------\n",
      "> Fold 2 - Loss: 463733984.0 - Accuracy: 12257.7900390625%\n",
      "------------------------------------------------------------------------\n",
      "> Fold 3 - Loss: 446154720.0 - Accuracy: 11761.572265625%\n",
      "------------------------------------------------------------------------\n",
      "Average scores for all folds:\n",
      "> MAE: 12063.444010416666 (+- 216.37830204424114)\n",
      "> Loss: 457672640.0\n",
      "------------------------------------------------------------------------\n"
     ]
    },
    {
     "data": {
      "text/html": [
       "<br/>Waiting for W&B process to finish, PID 5608... <strong style=\"color:green\">(success).</strong>"
      ],
      "text/plain": [
       "<IPython.core.display.HTML object>"
      ]
     },
     "metadata": {},
     "output_type": "display_data"
    },
    {
     "data": {
      "application/vnd.jupyter.widget-view+json": {
       "model_id": "2cf736a69b744e37b9849f385d58b713",
       "version_major": 2,
       "version_minor": 0
      },
      "text/plain": [
       "VBox(children=(Label(value=' 2.26MB of 2.45MB uploaded (0.00MB deduped)\\r'), FloatProgress(value=0.92154839512…"
      ]
     },
     "metadata": {},
     "output_type": "display_data"
    },
    {
     "data": {
      "text/html": [
       "<style>\n",
       "    table.wandb td:nth-child(1) { padding: 0 10px; text-align: right }\n",
       "    .wandb-row { display: flex; flex-direction: row; flex-wrap: wrap; width: 100% }\n",
       "    .wandb-col { display: flex; flex-direction: column; flex-basis: 100%; flex: 1; padding: 10px; }\n",
       "    </style>\n",
       "<div class=\"wandb-row\"><div class=\"wandb-col\">\n",
       "<h3>Run history:</h3><br/><table class=\"wandb\"><tr><td>Mean Validation Loss (all folds)</td><td>▁</td></tr><tr><td>Mean Validation MAE (all folds)</td><td>▁</td></tr><tr><td>epoch</td><td>▁▁▁▂▂▂▂▃▃▃▃▄▄▄▄▅▅▅▅▆▆▆▆▇▇▇▇███</td></tr><tr><td>loss</td><td>█▂▁▁▁▁▁▁▁▁▁▁▁▁▁▁▁▁▁▁▁▁▁▁▁▁▁▁▁▁</td></tr><tr><td>mae</td><td>█▃▂▁▁▁▁▁▁▁▁▁▁▁▁▁▁▁▁▁▁▁▁▁▁▁▁▁▁▁</td></tr><tr><td>val_loss</td><td>█▂▁▁▁▁▁▁▁▁▁▁▁▁▁▁▁▁▁▁▁▁▁▁▁▁▁▁▁▁</td></tr><tr><td>val_mae</td><td>█▃▂▂▂▁▁▁▁▁▁▁▁▁▁▁▁▁▁▁▁▁▁▁▁▁▁▁▁▁</td></tr></table><br/></div><div class=\"wandb-col\">\n",
       "<h3>Run summary:</h3><br/><table class=\"wandb\"><tr><td>Mean Validation Loss (all folds)</td><td>457672640.0</td></tr><tr><td>Mean Validation MAE (all folds)</td><td>12063.44401</td></tr><tr><td>best_epoch</td><td>29</td></tr><tr><td>best_val_loss</td><td>446154784.0</td></tr><tr><td>epoch</td><td>29</td></tr><tr><td>loss</td><td>487509440.0</td></tr><tr><td>mae</td><td>12808.87598</td></tr><tr><td>val_loss</td><td>446154784.0</td></tr><tr><td>val_mae</td><td>11761.57129</td></tr></table>\n",
       "</div></div>\n",
       "Synced 5 W&B file(s), 0 media file(s), 0 artifact file(s) and 1 other file(s)\n",
       "<br/>Synced <strong style=\"color:#cdcd00\">summer-sweep-1</strong>: <a href=\"https://wandb.ai/luiscostigan/house-price-prediction/runs/vhc2rlyx\" target=\"_blank\">https://wandb.ai/luiscostigan/house-price-prediction/runs/vhc2rlyx</a><br/>\n",
       "Find logs at: <code>./wandb/run-20220228_031116-vhc2rlyx/logs</code><br/>\n"
      ],
      "text/plain": [
       "<IPython.core.display.HTML object>"
      ]
     },
     "metadata": {},
     "output_type": "display_data"
    },
    {
     "data": {
      "text/html": [
       "\n",
       "                    Syncing run <strong><a href=\"https://wandb.ai/luiscostigan/house-price-prediction/runs/vhc2rlyx\" target=\"_blank\">summer-sweep-1</a></strong> to <a href=\"https://wandb.ai/luiscostigan/house-price-prediction\" target=\"_blank\">Weights & Biases</a> (<a href=\"https://docs.wandb.com/integrations/jupyter.html\" target=\"_blank\">docs</a>).<br/>\n",
       "Sweep page: <a href=\"https://wandb.ai/luiscostigan/house-price-prediction/sweeps/cp52f928\" target=\"_blank\">https://wandb.ai/luiscostigan/house-price-prediction/sweeps/cp52f928</a><br/>\n",
       "\n",
       "                "
      ],
      "text/plain": [
       "<IPython.core.display.HTML object>"
      ]
     },
     "metadata": {},
     "output_type": "display_data"
    },
    {
     "name": "stdout",
     "output_type": "stream",
     "text": [
      "37/37 [==============================] - 0s 2ms/step - loss: 457533120.0000 - mae: 12046.6309\n",
      "Score for fold 4: loss of 457533120.0; mae of 12046.630859375\n",
      "------------------------------------------------------------------------\n",
      "Score per fold\n",
      "------------------------------------------------------------------------\n",
      "> Fold 1 - Loss: 463129216.0 - Accuracy: 12170.9697265625%\n",
      "------------------------------------------------------------------------\n",
      "> Fold 2 - Loss: 463733984.0 - Accuracy: 12257.7900390625%\n",
      "------------------------------------------------------------------------\n",
      "> Fold 3 - Loss: 446154720.0 - Accuracy: 11761.572265625%\n",
      "------------------------------------------------------------------------\n",
      "> Fold 4 - Loss: 457533120.0 - Accuracy: 12046.630859375%\n",
      "------------------------------------------------------------------------\n",
      "Average scores for all folds:\n",
      "> MAE: 12059.24072265625 (+- 187.53047773802592)\n",
      "> Loss: 457637760.0\n",
      "------------------------------------------------------------------------\n"
     ]
    },
    {
     "data": {
      "text/html": [
       "<br/>Waiting for W&B process to finish, PID 6481... <strong style=\"color:green\">(success).</strong>"
      ],
      "text/plain": [
       "<IPython.core.display.HTML object>"
      ]
     },
     "metadata": {},
     "output_type": "display_data"
    },
    {
     "data": {
      "application/vnd.jupyter.widget-view+json": {
       "model_id": "93969ff1159941b1b8ae46cfc25f7cae",
       "version_major": 2,
       "version_minor": 0
      },
      "text/plain": [
       "VBox(children=(Label(value=' 2.44MB of 2.45MB uploaded (0.00MB deduped)\\r'), FloatProgress(value=0.99486407102…"
      ]
     },
     "metadata": {},
     "output_type": "display_data"
    },
    {
     "data": {
      "text/html": [
       "<style>\n",
       "    table.wandb td:nth-child(1) { padding: 0 10px; text-align: right }\n",
       "    .wandb-row { display: flex; flex-direction: row; flex-wrap: wrap; width: 100% }\n",
       "    .wandb-col { display: flex; flex-direction: column; flex-basis: 100%; flex: 1; padding: 10px; }\n",
       "    </style>\n",
       "<div class=\"wandb-row\"><div class=\"wandb-col\">\n",
       "<h3>Run history:</h3><br/><table class=\"wandb\"><tr><td>Mean Validation Loss (all folds)</td><td>▁</td></tr><tr><td>Mean Validation MAE (all folds)</td><td>▁</td></tr><tr><td>epoch</td><td>▁▁▁▂▂▂▂▃▃▃▃▄▄▄▄▅▅▅▅▆▆▆▆▇▇▇▇███</td></tr><tr><td>loss</td><td>█▂▁▁▁▁▁▁▁▁▁▁▁▁▁▁▁▁▁▁▁▁▁▁▁▁▁▁▁▁</td></tr><tr><td>mae</td><td>█▃▂▁▁▁▁▁▁▁▁▁▁▁▁▁▁▁▁▁▁▁▁▁▁▁▁▁▁▁</td></tr><tr><td>val_loss</td><td>█▂▁▁▁▁▁▁▁▁▁▁▁▁▁▁▁▁▁▁▁▁▁▁▁▁▁▁▁▁</td></tr><tr><td>val_mae</td><td>█▂▂▂▁▁▁▁▁▁▁▁▁▁▁▁▁▁▁▁▁▁▁▁▁▁▁▁▁▁</td></tr></table><br/></div><div class=\"wandb-col\">\n",
       "<h3>Run summary:</h3><br/><table class=\"wandb\"><tr><td>Mean Validation Loss (all folds)</td><td>457637760.0</td></tr><tr><td>Mean Validation MAE (all folds)</td><td>12059.24072</td></tr><tr><td>best_epoch</td><td>29</td></tr><tr><td>best_val_loss</td><td>457533120.0</td></tr><tr><td>epoch</td><td>29</td></tr><tr><td>loss</td><td>514918720.0</td></tr><tr><td>mae</td><td>13297.91309</td></tr><tr><td>val_loss</td><td>457533120.0</td></tr><tr><td>val_mae</td><td>12046.63086</td></tr></table>\n",
       "</div></div>\n",
       "Synced 5 W&B file(s), 0 media file(s), 0 artifact file(s) and 1 other file(s)\n",
       "<br/>Synced <strong style=\"color:#cdcd00\">summer-sweep-1</strong>: <a href=\"https://wandb.ai/luiscostigan/house-price-prediction/runs/vhc2rlyx\" target=\"_blank\">https://wandb.ai/luiscostigan/house-price-prediction/runs/vhc2rlyx</a><br/>\n",
       "Find logs at: <code>./wandb/run-20220228_031140-vhc2rlyx/logs</code><br/>\n"
      ],
      "text/plain": [
       "<IPython.core.display.HTML object>"
      ]
     },
     "metadata": {},
     "output_type": "display_data"
    },
    {
     "data": {
      "text/html": [
       "\n",
       "                    Syncing run <strong><a href=\"https://wandb.ai/luiscostigan/house-price-prediction/runs/vhc2rlyx\" target=\"_blank\">summer-sweep-1</a></strong> to <a href=\"https://wandb.ai/luiscostigan/house-price-prediction\" target=\"_blank\">Weights & Biases</a> (<a href=\"https://docs.wandb.com/integrations/jupyter.html\" target=\"_blank\">docs</a>).<br/>\n",
       "Sweep page: <a href=\"https://wandb.ai/luiscostigan/house-price-prediction/sweeps/cp52f928\" target=\"_blank\">https://wandb.ai/luiscostigan/house-price-prediction/sweeps/cp52f928</a><br/>\n",
       "\n",
       "                "
      ],
      "text/plain": [
       "<IPython.core.display.HTML object>"
      ]
     },
     "metadata": {},
     "output_type": "display_data"
    },
    {
     "name": "stdout",
     "output_type": "stream",
     "text": [
      "37/37 [==============================] - 0s 3ms/step - loss: 455486848.0000 - mae: 12050.2754\n",
      "Score for fold 5: loss of 455486848.0; mae of 12050.275390625\n",
      "------------------------------------------------------------------------\n",
      "Score per fold\n",
      "------------------------------------------------------------------------\n",
      "> Fold 1 - Loss: 463129216.0 - Accuracy: 12170.9697265625%\n",
      "------------------------------------------------------------------------\n",
      "> Fold 2 - Loss: 463733984.0 - Accuracy: 12257.7900390625%\n",
      "------------------------------------------------------------------------\n",
      "> Fold 3 - Loss: 446154720.0 - Accuracy: 11761.572265625%\n",
      "------------------------------------------------------------------------\n",
      "> Fold 4 - Loss: 457533120.0 - Accuracy: 12046.630859375%\n",
      "------------------------------------------------------------------------\n",
      "> Fold 5 - Loss: 455486848.0 - Accuracy: 12050.275390625%\n",
      "------------------------------------------------------------------------\n",
      "Average scores for all folds:\n",
      "> MAE: 12057.44765625 (+- 167.77068997018128)\n",
      "> Loss: 457207577.6\n",
      "------------------------------------------------------------------------\n"
     ]
    },
    {
     "data": {
      "text/html": [
       "<br/>Waiting for W&B process to finish, PID 7335... <strong style=\"color:green\">(success).</strong>"
      ],
      "text/plain": [
       "<IPython.core.display.HTML object>"
      ]
     },
     "metadata": {},
     "output_type": "display_data"
    },
    {
     "data": {
      "application/vnd.jupyter.widget-view+json": {
       "model_id": "8c928953e28a4e0e955fee59efbb759b",
       "version_major": 2,
       "version_minor": 0
      },
      "text/plain": [
       "VBox(children=(Label(value=' 1.82MB of 2.45MB uploaded (0.00MB deduped)\\r'), FloatProgress(value=0.74306036778…"
      ]
     },
     "metadata": {},
     "output_type": "display_data"
    },
    {
     "data": {
      "text/html": [
       "<style>\n",
       "    table.wandb td:nth-child(1) { padding: 0 10px; text-align: right }\n",
       "    .wandb-row { display: flex; flex-direction: row; flex-wrap: wrap; width: 100% }\n",
       "    .wandb-col { display: flex; flex-direction: column; flex-basis: 100%; flex: 1; padding: 10px; }\n",
       "    </style>\n",
       "<div class=\"wandb-row\"><div class=\"wandb-col\">\n",
       "<h3>Run history:</h3><br/><table class=\"wandb\"><tr><td>Mean Validation Loss (all folds)</td><td>▁</td></tr><tr><td>Mean Validation MAE (all folds)</td><td>▁</td></tr><tr><td>epoch</td><td>▁▁▁▂▂▂▂▃▃▃▃▄▄▄▄▅▅▅▅▆▆▆▆▇▇▇▇███</td></tr><tr><td>loss</td><td>█▂▁▁▁▁▁▁▁▁▁▁▁▁▁▁▁▁▁▁▁▁▁▁▁▁▁▁▁▁</td></tr><tr><td>mae</td><td>█▃▂▁▁▁▁▁▁▁▁▁▁▁▁▁▁▁▁▁▁▁▁▁▁▁▁▁▁▁</td></tr><tr><td>val_loss</td><td>█▂▁▁▁▁▁▁▁▁▁▁▁▁▁▁▁▁▁▁▁▁▁▁▁▁▁▁▁▁</td></tr><tr><td>val_mae</td><td>█▂▂▂▁▁▁▂▁▁▁▁▁▁▁▁▁▁▁▁▁▁▁▁▁▁▁▁▁▁</td></tr></table><br/></div><div class=\"wandb-col\">\n",
       "<h3>Run summary:</h3><br/><table class=\"wandb\"><tr><td>Mean Validation Loss (all folds)</td><td>457207577.6</td></tr><tr><td>Mean Validation MAE (all folds)</td><td>12057.44766</td></tr><tr><td>best_epoch</td><td>29</td></tr><tr><td>best_val_loss</td><td>455486944.0</td></tr><tr><td>epoch</td><td>29</td></tr><tr><td>loss</td><td>517115776.0</td></tr><tr><td>mae</td><td>13255.98145</td></tr><tr><td>val_loss</td><td>455486944.0</td></tr><tr><td>val_mae</td><td>12050.27246</td></tr></table>\n",
       "</div></div>\n",
       "Synced 5 W&B file(s), 0 media file(s), 0 artifact file(s) and 1 other file(s)\n",
       "<br/>Synced <strong style=\"color:#cdcd00\">summer-sweep-1</strong>: <a href=\"https://wandb.ai/luiscostigan/house-price-prediction/runs/vhc2rlyx\" target=\"_blank\">https://wandb.ai/luiscostigan/house-price-prediction/runs/vhc2rlyx</a><br/>\n",
       "Find logs at: <code>./wandb/run-20220228_031158-vhc2rlyx/logs</code><br/>\n"
      ],
      "text/plain": [
       "<IPython.core.display.HTML object>"
      ]
     },
     "metadata": {},
     "output_type": "display_data"
    },
    {
     "name": "stderr",
     "output_type": "stream",
     "text": [
      "\u001b[34m\u001b[1mwandb\u001b[0m: Agent Starting Run: nbnk8xhk with config:\n",
      "\u001b[34m\u001b[1mwandb\u001b[0m: \tbatch_size: 512\n",
      "\u001b[34m\u001b[1mwandb\u001b[0m: \tdropout1: 0.1697888649468462\n",
      "\u001b[34m\u001b[1mwandb\u001b[0m: \tepochs: 50\n"
     ]
    },
    {
     "data": {
      "text/html": [
       "\n",
       "                    Syncing run <strong><a href=\"https://wandb.ai/luiscostigan/house-price-prediction/runs/nbnk8xhk\" target=\"_blank\">stellar-sweep-2</a></strong> to <a href=\"https://wandb.ai/luiscostigan/house-price-prediction\" target=\"_blank\">Weights & Biases</a> (<a href=\"https://docs.wandb.com/integrations/jupyter.html\" target=\"_blank\">docs</a>).<br/>\n",
       "Sweep page: <a href=\"https://wandb.ai/luiscostigan/house-price-prediction/sweeps/cp52f928\" target=\"_blank\">https://wandb.ai/luiscostigan/house-price-prediction/sweeps/cp52f928</a><br/>\n",
       "\n",
       "                "
      ],
      "text/plain": [
       "<IPython.core.display.HTML object>"
      ]
     },
     "metadata": {},
     "output_type": "display_data"
    },
    {
     "name": "stdout",
     "output_type": "stream",
     "text": [
      "37/37 [==============================] - 0s 2ms/step - loss: 1031827520.0000 - mae: 21391.7285\n",
      "Score for fold 1: loss of 1031827520.0; mae of 21391.728515625\n",
      "------------------------------------------------------------------------\n",
      "Score per fold\n",
      "------------------------------------------------------------------------\n",
      "> Fold 1 - Loss: 1031827520.0 - Accuracy: 21391.728515625%\n",
      "------------------------------------------------------------------------\n",
      "Average scores for all folds:\n",
      "> MAE: 21391.728515625 (+- 0.0)\n",
      "> Loss: 1031827520.0\n",
      "------------------------------------------------------------------------\n"
     ]
    },
    {
     "data": {
      "text/html": [
       "<br/>Waiting for W&B process to finish, PID 8208... <strong style=\"color:green\">(success).</strong>"
      ],
      "text/plain": [
       "<IPython.core.display.HTML object>"
      ]
     },
     "metadata": {},
     "output_type": "display_data"
    },
    {
     "data": {
      "application/vnd.jupyter.widget-view+json": {
       "model_id": "ace8cc18b888463ba4b21f6489bb4987",
       "version_major": 2,
       "version_minor": 0
      },
      "text/plain": [
       "VBox(children=(Label(value=' 2.45MB of 2.45MB uploaded (0.00MB deduped)\\r'), FloatProgress(value=1.0, max=1.0)…"
      ]
     },
     "metadata": {},
     "output_type": "display_data"
    },
    {
     "data": {
      "text/html": [
       "<style>\n",
       "    table.wandb td:nth-child(1) { padding: 0 10px; text-align: right }\n",
       "    .wandb-row { display: flex; flex-direction: row; flex-wrap: wrap; width: 100% }\n",
       "    .wandb-col { display: flex; flex-direction: column; flex-basis: 100%; flex: 1; padding: 10px; }\n",
       "    </style>\n",
       "<div class=\"wandb-row\"><div class=\"wandb-col\">\n",
       "<h3>Run history:</h3><br/><table class=\"wandb\"><tr><td>Mean Validation Loss (all folds)</td><td>▁</td></tr><tr><td>Mean Validation MAE (all folds)</td><td>▁</td></tr><tr><td>epoch</td><td>▁▁▁▁▂▂▂▂▂▃▃▃▃▃▃▄▄▄▄▄▅▅▅▅▅▅▆▆▆▆▆▆▇▇▇▇▇███</td></tr><tr><td>loss</td><td>████████▇▇▇▇▆▆▅▅▄▄▄▃▂▂▂▂▁▁▁▁▁▁▁▁▁▁▁▁▁▁▁▁</td></tr><tr><td>mae</td><td>█████████▇▇▇▇▆▆▆▅▅▅▄▃▃▃▂▂▁▁▁▁▁▁▁▁▁▁▁▁▁▁▁</td></tr><tr><td>val_loss</td><td>███████▇▇▇▇▆▆▅▅▅▄▄▃▃▂▂▂▂▁▁▁▁▁▁▁▁▁▁▁▁▁▁▁▁</td></tr><tr><td>val_mae</td><td>████████▇▇▇▇▇▆▆▆▅▅▄▄▃▃▂▂▁▁▁▁▁▁▁▁▁▁▁▁▁▁▁▁</td></tr></table><br/></div><div class=\"wandb-col\">\n",
       "<h3>Run summary:</h3><br/><table class=\"wandb\"><tr><td>Mean Validation Loss (all folds)</td><td>1031827520.0</td></tr><tr><td>Mean Validation MAE (all folds)</td><td>21391.72852</td></tr><tr><td>best_epoch</td><td>49</td></tr><tr><td>best_val_loss</td><td>1031827520.0</td></tr><tr><td>epoch</td><td>49</td></tr><tr><td>loss</td><td>1062905472.0</td></tr><tr><td>mae</td><td>21841.91406</td></tr><tr><td>val_loss</td><td>1031827520.0</td></tr><tr><td>val_mae</td><td>21391.72852</td></tr></table>\n",
       "</div></div>\n",
       "Synced 5 W&B file(s), 0 media file(s), 0 artifact file(s) and 1 other file(s)\n",
       "<br/>Synced <strong style=\"color:#cdcd00\">stellar-sweep-2</strong>: <a href=\"https://wandb.ai/luiscostigan/house-price-prediction/runs/nbnk8xhk\" target=\"_blank\">https://wandb.ai/luiscostigan/house-price-prediction/runs/nbnk8xhk</a><br/>\n",
       "Find logs at: <code>./wandb/run-20220228_031220-nbnk8xhk/logs</code><br/>\n"
      ],
      "text/plain": [
       "<IPython.core.display.HTML object>"
      ]
     },
     "metadata": {},
     "output_type": "display_data"
    },
    {
     "data": {
      "text/html": [
       "\n",
       "                    Syncing run <strong><a href=\"https://wandb.ai/luiscostigan/house-price-prediction/runs/nbnk8xhk\" target=\"_blank\">stellar-sweep-2</a></strong> to <a href=\"https://wandb.ai/luiscostigan/house-price-prediction\" target=\"_blank\">Weights & Biases</a> (<a href=\"https://docs.wandb.com/integrations/jupyter.html\" target=\"_blank\">docs</a>).<br/>\n",
       "Sweep page: <a href=\"https://wandb.ai/luiscostigan/house-price-prediction/sweeps/cp52f928\" target=\"_blank\">https://wandb.ai/luiscostigan/house-price-prediction/sweeps/cp52f928</a><br/>\n",
       "\n",
       "                "
      ],
      "text/plain": [
       "<IPython.core.display.HTML object>"
      ]
     },
     "metadata": {},
     "output_type": "display_data"
    },
    {
     "name": "stdout",
     "output_type": "stream",
     "text": [
      "37/37 [==============================] - 0s 2ms/step - loss: 1129576576.0000 - mae: 21018.9707\n",
      "Score for fold 2: loss of 1129576576.0; mae of 21018.970703125\n",
      "------------------------------------------------------------------------\n",
      "Score per fold\n",
      "------------------------------------------------------------------------\n",
      "> Fold 1 - Loss: 1031827520.0 - Accuracy: 21391.728515625%\n",
      "------------------------------------------------------------------------\n",
      "> Fold 2 - Loss: 1129576576.0 - Accuracy: 21018.970703125%\n",
      "------------------------------------------------------------------------\n",
      "Average scores for all folds:\n",
      "> MAE: 21205.349609375 (+- 186.37890625)\n",
      "> Loss: 1080702048.0\n",
      "------------------------------------------------------------------------\n"
     ]
    },
    {
     "data": {
      "text/html": [
       "<br/>Waiting for W&B process to finish, PID 9377... <strong style=\"color:green\">(success).</strong>"
      ],
      "text/plain": [
       "<IPython.core.display.HTML object>"
      ]
     },
     "metadata": {},
     "output_type": "display_data"
    },
    {
     "data": {
      "application/vnd.jupyter.widget-view+json": {
       "model_id": "0cafe31a58594983a9eb4800eb25e9ce",
       "version_major": 2,
       "version_minor": 0
      },
      "text/plain": [
       "VBox(children=(Label(value=' 2.45MB of 2.45MB uploaded (0.00MB deduped)\\r'), FloatProgress(value=1.0, max=1.0)…"
      ]
     },
     "metadata": {},
     "output_type": "display_data"
    },
    {
     "data": {
      "text/html": [
       "<style>\n",
       "    table.wandb td:nth-child(1) { padding: 0 10px; text-align: right }\n",
       "    .wandb-row { display: flex; flex-direction: row; flex-wrap: wrap; width: 100% }\n",
       "    .wandb-col { display: flex; flex-direction: column; flex-basis: 100%; flex: 1; padding: 10px; }\n",
       "    </style>\n",
       "<div class=\"wandb-row\"><div class=\"wandb-col\">\n",
       "<h3>Run history:</h3><br/><table class=\"wandb\"><tr><td>Mean Validation Loss (all folds)</td><td>▁</td></tr><tr><td>Mean Validation MAE (all folds)</td><td>▁</td></tr><tr><td>epoch</td><td>▁▁▁▁▂▂▂▂▂▃▃▃▃▃▃▄▄▄▄▄▅▅▅▅▅▅▆▆▆▆▆▆▇▇▇▇▇███</td></tr><tr><td>loss</td><td>████████▇▇▇▇▆▆▆▅▅▄▄▃▃▂▂▂▁▁▁▁▁▁▁▁▁▁▁▁▁▁▁▁</td></tr><tr><td>mae</td><td>█████████▇▇▇▇▇▆▆▅▅▅▄▄▃▃▂▂▁▁▁▁▁▁▁▁▁▁▁▁▁▁▁</td></tr><tr><td>val_loss</td><td>████████▇▇▇▇▆▆▅▅▄▄▃▃▂▂▂▂▁▁▁▁▁▁▁▁▁▁▁▁▁▁▁▁</td></tr><tr><td>val_mae</td><td>█████████▇▇▇▇▆▆▆▅▅▅▄▃▃▃▂▂▁▁▁▁▁▁▁▁▁▁▁▁▁▁▁</td></tr></table><br/></div><div class=\"wandb-col\">\n",
       "<h3>Run summary:</h3><br/><table class=\"wandb\"><tr><td>Mean Validation Loss (all folds)</td><td>1080702048.0</td></tr><tr><td>Mean Validation MAE (all folds)</td><td>21205.34961</td></tr><tr><td>best_epoch</td><td>48</td></tr><tr><td>best_val_loss</td><td>1114673792.0</td></tr><tr><td>epoch</td><td>49</td></tr><tr><td>loss</td><td>1124590208.0</td></tr><tr><td>mae</td><td>22047.41406</td></tr><tr><td>val_loss</td><td>1129576576.0</td></tr><tr><td>val_mae</td><td>21018.9707</td></tr></table>\n",
       "</div></div>\n",
       "Synced 5 W&B file(s), 0 media file(s), 0 artifact file(s) and 1 other file(s)\n",
       "<br/>Synced <strong style=\"color:#cdcd00\">stellar-sweep-2</strong>: <a href=\"https://wandb.ai/luiscostigan/house-price-prediction/runs/nbnk8xhk\" target=\"_blank\">https://wandb.ai/luiscostigan/house-price-prediction/runs/nbnk8xhk</a><br/>\n",
       "Find logs at: <code>./wandb/run-20220228_031232-nbnk8xhk/logs</code><br/>\n"
      ],
      "text/plain": [
       "<IPython.core.display.HTML object>"
      ]
     },
     "metadata": {},
     "output_type": "display_data"
    },
    {
     "data": {
      "text/html": [
       "\n",
       "                    Syncing run <strong><a href=\"https://wandb.ai/luiscostigan/house-price-prediction/runs/nbnk8xhk\" target=\"_blank\">stellar-sweep-2</a></strong> to <a href=\"https://wandb.ai/luiscostigan/house-price-prediction\" target=\"_blank\">Weights & Biases</a> (<a href=\"https://docs.wandb.com/integrations/jupyter.html\" target=\"_blank\">docs</a>).<br/>\n",
       "Sweep page: <a href=\"https://wandb.ai/luiscostigan/house-price-prediction/sweeps/cp52f928\" target=\"_blank\">https://wandb.ai/luiscostigan/house-price-prediction/sweeps/cp52f928</a><br/>\n",
       "\n",
       "                "
      ],
      "text/plain": [
       "<IPython.core.display.HTML object>"
      ]
     },
     "metadata": {},
     "output_type": "display_data"
    },
    {
     "name": "stdout",
     "output_type": "stream",
     "text": [
      "37/37 [==============================] - 0s 2ms/step - loss: 1060973760.0000 - mae: 21130.9922\n",
      "Score for fold 3: loss of 1060973760.0; mae of 21130.9921875\n",
      "------------------------------------------------------------------------\n",
      "Score per fold\n",
      "------------------------------------------------------------------------\n",
      "> Fold 1 - Loss: 1031827520.0 - Accuracy: 21391.728515625%\n",
      "------------------------------------------------------------------------\n",
      "> Fold 2 - Loss: 1129576576.0 - Accuracy: 21018.970703125%\n",
      "------------------------------------------------------------------------\n",
      "> Fold 3 - Loss: 1060973760.0 - Accuracy: 21130.9921875%\n",
      "------------------------------------------------------------------------\n",
      "Average scores for all folds:\n",
      "> MAE: 21180.563802083332 (+- 156.1625337572902)\n",
      "> Loss: 1074125952.0\n",
      "------------------------------------------------------------------------\n"
     ]
    },
    {
     "data": {
      "text/html": [
       "<br/>Waiting for W&B process to finish, PID 10546... <strong style=\"color:green\">(success).</strong>"
      ],
      "text/plain": [
       "<IPython.core.display.HTML object>"
      ]
     },
     "metadata": {},
     "output_type": "display_data"
    },
    {
     "data": {
      "application/vnd.jupyter.widget-view+json": {
       "model_id": "7f5af22e905f4dd587714d14b4611bae",
       "version_major": 2,
       "version_minor": 0
      },
      "text/plain": [
       "VBox(children=(Label(value=' 1.67MB of 2.45MB uploaded (0.00MB deduped)\\r'), FloatProgress(value=0.67930836587…"
      ]
     },
     "metadata": {},
     "output_type": "display_data"
    },
    {
     "data": {
      "text/html": [
       "<style>\n",
       "    table.wandb td:nth-child(1) { padding: 0 10px; text-align: right }\n",
       "    .wandb-row { display: flex; flex-direction: row; flex-wrap: wrap; width: 100% }\n",
       "    .wandb-col { display: flex; flex-direction: column; flex-basis: 100%; flex: 1; padding: 10px; }\n",
       "    </style>\n",
       "<div class=\"wandb-row\"><div class=\"wandb-col\">\n",
       "<h3>Run history:</h3><br/><table class=\"wandb\"><tr><td>Mean Validation Loss (all folds)</td><td>▁</td></tr><tr><td>Mean Validation MAE (all folds)</td><td>▁</td></tr><tr><td>epoch</td><td>▁▁▁▁▂▂▂▂▂▃▃▃▃▃▃▄▄▄▄▄▅▅▅▅▅▅▆▆▆▆▆▆▇▇▇▇▇███</td></tr><tr><td>loss</td><td>████████▇▇▇▇▆▆▆▅▅▄▄▃▃▂▂▂▁▁▁▁▁▁▁▁▁▁▁▁▁▁▁▁</td></tr><tr><td>mae</td><td>█████████▇▇▇▇▇▆▆▆▅▅▄▄▃▃▂▂▂▁▁▁▁▁▁▁▁▁▁▁▁▁▁</td></tr><tr><td>val_loss</td><td>████████▇▇▇▇▆▆▅▅▄▄▃▃▂▂▂▂▁▁▁▁▁▁▁▁▁▁▁▁▁▁▁▁</td></tr><tr><td>val_mae</td><td>█████████▇▇▇▇▆▆▆▅▅▅▄▃▃▃▂▂▁▁▁▁▁▁▁▁▁▁▁▁▁▁▁</td></tr></table><br/></div><div class=\"wandb-col\">\n",
       "<h3>Run summary:</h3><br/><table class=\"wandb\"><tr><td>Mean Validation Loss (all folds)</td><td>1074125952.0</td></tr><tr><td>Mean Validation MAE (all folds)</td><td>21180.5638</td></tr><tr><td>best_epoch</td><td>49</td></tr><tr><td>best_val_loss</td><td>1060973888.0</td></tr><tr><td>epoch</td><td>49</td></tr><tr><td>loss</td><td>1105615360.0</td></tr><tr><td>mae</td><td>21658.51172</td></tr><tr><td>val_loss</td><td>1060973888.0</td></tr><tr><td>val_mae</td><td>21130.99219</td></tr></table>\n",
       "</div></div>\n",
       "Synced 5 W&B file(s), 0 media file(s), 0 artifact file(s) and 1 other file(s)\n",
       "<br/>Synced <strong style=\"color:#cdcd00\">stellar-sweep-2</strong>: <a href=\"https://wandb.ai/luiscostigan/house-price-prediction/runs/nbnk8xhk\" target=\"_blank\">https://wandb.ai/luiscostigan/house-price-prediction/runs/nbnk8xhk</a><br/>\n",
       "Find logs at: <code>./wandb/run-20220228_031245-nbnk8xhk/logs</code><br/>\n"
      ],
      "text/plain": [
       "<IPython.core.display.HTML object>"
      ]
     },
     "metadata": {},
     "output_type": "display_data"
    },
    {
     "data": {
      "text/html": [
       "\n",
       "                    Syncing run <strong><a href=\"https://wandb.ai/luiscostigan/house-price-prediction/runs/nbnk8xhk\" target=\"_blank\">stellar-sweep-2</a></strong> to <a href=\"https://wandb.ai/luiscostigan/house-price-prediction\" target=\"_blank\">Weights & Biases</a> (<a href=\"https://docs.wandb.com/integrations/jupyter.html\" target=\"_blank\">docs</a>).<br/>\n",
       "Sweep page: <a href=\"https://wandb.ai/luiscostigan/house-price-prediction/sweeps/cp52f928\" target=\"_blank\">https://wandb.ai/luiscostigan/house-price-prediction/sweeps/cp52f928</a><br/>\n",
       "\n",
       "                "
      ],
      "text/plain": [
       "<IPython.core.display.HTML object>"
      ]
     },
     "metadata": {},
     "output_type": "display_data"
    },
    {
     "name": "stdout",
     "output_type": "stream",
     "text": [
      "37/37 [==============================] - 0s 2ms/step - loss: 1075944960.0000 - mae: 21692.5488\n",
      "Score for fold 4: loss of 1075944960.0; mae of 21692.548828125\n",
      "------------------------------------------------------------------------\n",
      "Score per fold\n",
      "------------------------------------------------------------------------\n",
      "> Fold 1 - Loss: 1031827520.0 - Accuracy: 21391.728515625%\n",
      "------------------------------------------------------------------------\n",
      "> Fold 2 - Loss: 1129576576.0 - Accuracy: 21018.970703125%\n",
      "------------------------------------------------------------------------\n",
      "> Fold 3 - Loss: 1060973760.0 - Accuracy: 21130.9921875%\n",
      "------------------------------------------------------------------------\n",
      "> Fold 4 - Loss: 1075944960.0 - Accuracy: 21692.548828125%\n",
      "------------------------------------------------------------------------\n",
      "Average scores for all folds:\n",
      "> MAE: 21308.56005859375 (+- 259.69054228863195)\n",
      "> Loss: 1074580704.0\n",
      "------------------------------------------------------------------------\n"
     ]
    },
    {
     "data": {
      "text/html": [
       "<br/>Waiting for W&B process to finish, PID 11716... <strong style=\"color:green\">(success).</strong>"
      ],
      "text/plain": [
       "<IPython.core.display.HTML object>"
      ]
     },
     "metadata": {},
     "output_type": "display_data"
    },
    {
     "data": {
      "application/vnd.jupyter.widget-view+json": {
       "model_id": "99cb797069064caba27ebb56fd59dd04",
       "version_major": 2,
       "version_minor": 0
      },
      "text/plain": [
       "VBox(children=(Label(value=' 1.46MB of 2.45MB uploaded (0.00MB deduped)\\r'), FloatProgress(value=0.59644048995…"
      ]
     },
     "metadata": {},
     "output_type": "display_data"
    },
    {
     "data": {
      "text/html": [
       "<style>\n",
       "    table.wandb td:nth-child(1) { padding: 0 10px; text-align: right }\n",
       "    .wandb-row { display: flex; flex-direction: row; flex-wrap: wrap; width: 100% }\n",
       "    .wandb-col { display: flex; flex-direction: column; flex-basis: 100%; flex: 1; padding: 10px; }\n",
       "    </style>\n",
       "<div class=\"wandb-row\"><div class=\"wandb-col\">\n",
       "<h3>Run history:</h3><br/><table class=\"wandb\"><tr><td>Mean Validation Loss (all folds)</td><td>▁</td></tr><tr><td>Mean Validation MAE (all folds)</td><td>▁</td></tr><tr><td>epoch</td><td>▁▁▁▁▂▂▂▂▂▃▃▃▃▃▃▄▄▄▄▄▅▅▅▅▅▅▆▆▆▆▆▆▇▇▇▇▇███</td></tr><tr><td>loss</td><td>████████▇▇▇▇▆▆▅▅▄▄▄▃▃▂▂▂▁▁▁▁▁▁▁▁▁▁▁▁▁▁▁▁</td></tr><tr><td>mae</td><td>█████████▇▇▇▇▇▆▆▅▅▅▄▃▃▃▂▂▁▁▁▁▁▁▁▁▁▁▁▁▁▁▁</td></tr><tr><td>val_loss</td><td>████████▇▇▇▆▆▆▅▅▄▄▃▃▂▂▂▂▁▁▁▁▁▁▁▁▁▁▁▁▁▁▁▁</td></tr><tr><td>val_mae</td><td>████████▇▇▇▇▇▆▆▆▅▅▄▄▃▃▂▂▁▁▁▁▁▁▁▁▁▁▁▁▁▁▁▁</td></tr></table><br/></div><div class=\"wandb-col\">\n",
       "<h3>Run summary:</h3><br/><table class=\"wandb\"><tr><td>Mean Validation Loss (all folds)</td><td>1074580704.0</td></tr><tr><td>Mean Validation MAE (all folds)</td><td>21308.56006</td></tr><tr><td>best_epoch</td><td>49</td></tr><tr><td>best_val_loss</td><td>1075944960.0</td></tr><tr><td>epoch</td><td>49</td></tr><tr><td>loss</td><td>1117800576.0</td></tr><tr><td>mae</td><td>21972.76758</td></tr><tr><td>val_loss</td><td>1075944960.0</td></tr><tr><td>val_mae</td><td>21692.54883</td></tr></table>\n",
       "</div></div>\n",
       "Synced 5 W&B file(s), 0 media file(s), 0 artifact file(s) and 1 other file(s)\n",
       "<br/>Synced <strong style=\"color:#cdcd00\">stellar-sweep-2</strong>: <a href=\"https://wandb.ai/luiscostigan/house-price-prediction/runs/nbnk8xhk\" target=\"_blank\">https://wandb.ai/luiscostigan/house-price-prediction/runs/nbnk8xhk</a><br/>\n",
       "Find logs at: <code>./wandb/run-20220228_031257-nbnk8xhk/logs</code><br/>\n"
      ],
      "text/plain": [
       "<IPython.core.display.HTML object>"
      ]
     },
     "metadata": {},
     "output_type": "display_data"
    },
    {
     "data": {
      "text/html": [
       "\n",
       "                    Syncing run <strong><a href=\"https://wandb.ai/luiscostigan/house-price-prediction/runs/nbnk8xhk\" target=\"_blank\">stellar-sweep-2</a></strong> to <a href=\"https://wandb.ai/luiscostigan/house-price-prediction\" target=\"_blank\">Weights & Biases</a> (<a href=\"https://docs.wandb.com/integrations/jupyter.html\" target=\"_blank\">docs</a>).<br/>\n",
       "Sweep page: <a href=\"https://wandb.ai/luiscostigan/house-price-prediction/sweeps/cp52f928\" target=\"_blank\">https://wandb.ai/luiscostigan/house-price-prediction/sweeps/cp52f928</a><br/>\n",
       "\n",
       "                "
      ],
      "text/plain": [
       "<IPython.core.display.HTML object>"
      ]
     },
     "metadata": {},
     "output_type": "display_data"
    },
    {
     "name": "stdout",
     "output_type": "stream",
     "text": [
      "37/37 [==============================] - 0s 2ms/step - loss: 1027203072.0000 - mae: 20989.6230\n",
      "Score for fold 5: loss of 1027203072.0; mae of 20989.623046875\n",
      "------------------------------------------------------------------------\n",
      "Score per fold\n",
      "------------------------------------------------------------------------\n",
      "> Fold 1 - Loss: 1031827520.0 - Accuracy: 21391.728515625%\n",
      "------------------------------------------------------------------------\n",
      "> Fold 2 - Loss: 1129576576.0 - Accuracy: 21018.970703125%\n",
      "------------------------------------------------------------------------\n",
      "> Fold 3 - Loss: 1060973760.0 - Accuracy: 21130.9921875%\n",
      "------------------------------------------------------------------------\n",
      "> Fold 4 - Loss: 1075944960.0 - Accuracy: 21692.548828125%\n",
      "------------------------------------------------------------------------\n",
      "> Fold 5 - Loss: 1027203072.0 - Accuracy: 20989.623046875%\n",
      "------------------------------------------------------------------------\n",
      "Average scores for all folds:\n",
      "> MAE: 21244.77265625 (+- 265.0031565743789)\n",
      "> Loss: 1065105177.6\n",
      "------------------------------------------------------------------------\n"
     ]
    },
    {
     "data": {
      "text/html": [
       "<br/>Waiting for W&B process to finish, PID 12885... <strong style=\"color:green\">(success).</strong>"
      ],
      "text/plain": [
       "<IPython.core.display.HTML object>"
      ]
     },
     "metadata": {},
     "output_type": "display_data"
    },
    {
     "data": {
      "application/vnd.jupyter.widget-view+json": {
       "model_id": "0c2710acfdd34ba4aa8173e23d8cc4ff",
       "version_major": 2,
       "version_minor": 0
      },
      "text/plain": [
       "VBox(children=(Label(value=' 2.45MB of 2.45MB uploaded (0.00MB deduped)\\r'), FloatProgress(value=1.0, max=1.0)…"
      ]
     },
     "metadata": {},
     "output_type": "display_data"
    },
    {
     "data": {
      "text/html": [
       "<style>\n",
       "    table.wandb td:nth-child(1) { padding: 0 10px; text-align: right }\n",
       "    .wandb-row { display: flex; flex-direction: row; flex-wrap: wrap; width: 100% }\n",
       "    .wandb-col { display: flex; flex-direction: column; flex-basis: 100%; flex: 1; padding: 10px; }\n",
       "    </style>\n",
       "<div class=\"wandb-row\"><div class=\"wandb-col\">\n",
       "<h3>Run history:</h3><br/><table class=\"wandb\"><tr><td>Mean Validation Loss (all folds)</td><td>▁</td></tr><tr><td>Mean Validation MAE (all folds)</td><td>▁</td></tr><tr><td>epoch</td><td>▁▁▁▁▂▂▂▂▂▃▃▃▃▃▃▄▄▄▄▄▅▅▅▅▅▅▆▆▆▆▆▆▇▇▇▇▇███</td></tr><tr><td>loss</td><td>████████▇▇▇▇▆▆▅▅▄▄▄▃▃▂▂▂▁▁▁▁▁▁▁▁▁▁▁▁▁▁▁▁</td></tr><tr><td>mae</td><td>█████████▇▇▇▇▇▆▆▅▅▅▄▃▃▃▂▂▁▁▁▁▁▁▁▁▁▁▁▁▁▁▁</td></tr><tr><td>val_loss</td><td>███████▇▇▇▇▆▆▆▅▅▄▄▃▃▂▂▂▂▁▁▁▁▁▁▁▁▁▁▁▁▁▁▁▁</td></tr><tr><td>val_mae</td><td>████████▇▇▇▇▇▆▆▆▅▅▄▄▃▃▂▂▁▁▁▁▁▁▁▁▁▁▁▁▁▁▁▁</td></tr></table><br/></div><div class=\"wandb-col\">\n",
       "<h3>Run summary:</h3><br/><table class=\"wandb\"><tr><td>Mean Validation Loss (all folds)</td><td>1065105177.6</td></tr><tr><td>Mean Validation MAE (all folds)</td><td>21244.77266</td></tr><tr><td>best_epoch</td><td>49</td></tr><tr><td>best_val_loss</td><td>1027202816.0</td></tr><tr><td>epoch</td><td>49</td></tr><tr><td>loss</td><td>1075687552.0</td></tr><tr><td>mae</td><td>21445.24609</td></tr><tr><td>val_loss</td><td>1027202816.0</td></tr><tr><td>val_mae</td><td>20989.62305</td></tr></table>\n",
       "</div></div>\n",
       "Synced 5 W&B file(s), 0 media file(s), 0 artifact file(s) and 1 other file(s)\n",
       "<br/>Synced <strong style=\"color:#cdcd00\">stellar-sweep-2</strong>: <a href=\"https://wandb.ai/luiscostigan/house-price-prediction/runs/nbnk8xhk\" target=\"_blank\">https://wandb.ai/luiscostigan/house-price-prediction/runs/nbnk8xhk</a><br/>\n",
       "Find logs at: <code>./wandb/run-20220228_031311-nbnk8xhk/logs</code><br/>\n"
      ],
      "text/plain": [
       "<IPython.core.display.HTML object>"
      ]
     },
     "metadata": {},
     "output_type": "display_data"
    },
    {
     "name": "stderr",
     "output_type": "stream",
     "text": [
      "\u001b[34m\u001b[1mwandb\u001b[0m: Sweep Agent: Waiting for job.\n",
      "\u001b[34m\u001b[1mwandb\u001b[0m: Job received.\n",
      "\u001b[34m\u001b[1mwandb\u001b[0m: Agent Starting Run: r6jdijat with config:\n",
      "\u001b[34m\u001b[1mwandb\u001b[0m: \tbatch_size: 64\n",
      "\u001b[34m\u001b[1mwandb\u001b[0m: \tdropout1: 0.29555037017941344\n",
      "\u001b[34m\u001b[1mwandb\u001b[0m: \tepochs: 100\n"
     ]
    },
    {
     "data": {
      "text/html": [
       "\n",
       "                    Syncing run <strong><a href=\"https://wandb.ai/luiscostigan/house-price-prediction/runs/r6jdijat\" target=\"_blank\">proud-sweep-3</a></strong> to <a href=\"https://wandb.ai/luiscostigan/house-price-prediction\" target=\"_blank\">Weights & Biases</a> (<a href=\"https://docs.wandb.com/integrations/jupyter.html\" target=\"_blank\">docs</a>).<br/>\n",
       "Sweep page: <a href=\"https://wandb.ai/luiscostigan/house-price-prediction/sweeps/cp52f928\" target=\"_blank\">https://wandb.ai/luiscostigan/house-price-prediction/sweeps/cp52f928</a><br/>\n",
       "\n",
       "                "
      ],
      "text/plain": [
       "<IPython.core.display.HTML object>"
      ]
     },
     "metadata": {},
     "output_type": "display_data"
    },
    {
     "name": "stdout",
     "output_type": "stream",
     "text": [
      "37/37 [==============================] - 0s 3ms/step - loss: 503489920.0000 - mae: 14367.4209\n",
      "Score for fold 1: loss of 503489920.0; mae of 14367.4208984375\n",
      "------------------------------------------------------------------------\n",
      "Score per fold\n",
      "------------------------------------------------------------------------\n",
      "> Fold 1 - Loss: 503489920.0 - Accuracy: 14367.4208984375%\n",
      "------------------------------------------------------------------------\n",
      "Average scores for all folds:\n",
      "> MAE: 14367.4208984375 (+- 0.0)\n",
      "> Loss: 503489920.0\n",
      "------------------------------------------------------------------------\n"
     ]
    },
    {
     "data": {
      "text/html": [
       "<br/>Waiting for W&B process to finish, PID 14151... <strong style=\"color:green\">(success).</strong>"
      ],
      "text/plain": [
       "<IPython.core.display.HTML object>"
      ]
     },
     "metadata": {},
     "output_type": "display_data"
    },
    {
     "data": {
      "application/vnd.jupyter.widget-view+json": {
       "model_id": "170e26863ddf46ce95808e9bfc0ec7a5",
       "version_major": 2,
       "version_minor": 0
      },
      "text/plain": [
       "VBox(children=(Label(value=' 1.85MB of 2.45MB uploaded (0.00MB deduped)\\r'), FloatProgress(value=0.75583815460…"
      ]
     },
     "metadata": {},
     "output_type": "display_data"
    },
    {
     "data": {
      "text/html": [
       "<style>\n",
       "    table.wandb td:nth-child(1) { padding: 0 10px; text-align: right }\n",
       "    .wandb-row { display: flex; flex-direction: row; flex-wrap: wrap; width: 100% }\n",
       "    .wandb-col { display: flex; flex-direction: column; flex-basis: 100%; flex: 1; padding: 10px; }\n",
       "    </style>\n",
       "<div class=\"wandb-row\"><div class=\"wandb-col\">\n",
       "<h3>Run history:</h3><br/><table class=\"wandb\"><tr><td>Mean Validation Loss (all folds)</td><td>▁</td></tr><tr><td>Mean Validation MAE (all folds)</td><td>▁</td></tr><tr><td>epoch</td><td>▁▁▁▁▂▂▂▂▂▃▃▃▃▃▃▄▄▄▄▄▅▅▅▅▅▅▆▆▆▆▆▇▇▇▇▇▇███</td></tr><tr><td>loss</td><td>█▆▁▁▁▁▁▁▁▁▁▁▁▁▁▁▁▁▁▁▁▁▁▁▁▁▁▁▁▁▁▁▁▁▁▁▁▁▁▁</td></tr><tr><td>mae</td><td>█▇▂▂▁▁▁▁▁▁▁▁▁▁▁▁▁▁▁▁▁▁▁▁▁▁▁▁▁▁▁▁▁▁▁▁▁▁▁▁</td></tr><tr><td>val_loss</td><td>█▅▁▁▁▁▁▁▁▁▁▁▁▁▁▁▁▁▁▁▁▁▁▁▁▁▁▁▁▁▁▁▁▁▁▁▁▁▁▁</td></tr><tr><td>val_mae</td><td>█▆▂▁▁▁▁▁▁▁▁▁▁▁▁▁▁▁▁▁▁▁▁▁▁▁▁▁▁▁▁▁▁▁▁▁▁▁▁▁</td></tr></table><br/></div><div class=\"wandb-col\">\n",
       "<h3>Run summary:</h3><br/><table class=\"wandb\"><tr><td>Mean Validation Loss (all folds)</td><td>503489920.0</td></tr><tr><td>Mean Validation MAE (all folds)</td><td>14367.4209</td></tr><tr><td>best_epoch</td><td>97</td></tr><tr><td>best_val_loss</td><td>421185280.0</td></tr><tr><td>epoch</td><td>99</td></tr><tr><td>loss</td><td>464916704.0</td></tr><tr><td>mae</td><td>13422.34082</td></tr><tr><td>val_loss</td><td>503489920.0</td></tr><tr><td>val_mae</td><td>14367.4209</td></tr></table>\n",
       "</div></div>\n",
       "Synced 5 W&B file(s), 0 media file(s), 0 artifact file(s) and 1 other file(s)\n",
       "<br/>Synced <strong style=\"color:#cdcd00\">proud-sweep-3</strong>: <a href=\"https://wandb.ai/luiscostigan/house-price-prediction/runs/r6jdijat\" target=\"_blank\">https://wandb.ai/luiscostigan/house-price-prediction/runs/r6jdijat</a><br/>\n",
       "Find logs at: <code>./wandb/run-20220228_031334-r6jdijat/logs</code><br/>\n"
      ],
      "text/plain": [
       "<IPython.core.display.HTML object>"
      ]
     },
     "metadata": {},
     "output_type": "display_data"
    },
    {
     "data": {
      "text/html": [
       "\n",
       "                    Syncing run <strong><a href=\"https://wandb.ai/luiscostigan/house-price-prediction/runs/r6jdijat\" target=\"_blank\">proud-sweep-3</a></strong> to <a href=\"https://wandb.ai/luiscostigan/house-price-prediction\" target=\"_blank\">Weights & Biases</a> (<a href=\"https://docs.wandb.com/integrations/jupyter.html\" target=\"_blank\">docs</a>).<br/>\n",
       "Sweep page: <a href=\"https://wandb.ai/luiscostigan/house-price-prediction/sweeps/cp52f928\" target=\"_blank\">https://wandb.ai/luiscostigan/house-price-prediction/sweeps/cp52f928</a><br/>\n",
       "\n",
       "                "
      ],
      "text/plain": [
       "<IPython.core.display.HTML object>"
      ]
     },
     "metadata": {},
     "output_type": "display_data"
    },
    {
     "name": "stdout",
     "output_type": "stream",
     "text": [
      "37/37 [==============================] - 0s 3ms/step - loss: 614160384.0000 - mae: 17252.1152\n",
      "Score for fold 2: loss of 614160384.0; mae of 17252.115234375\n",
      "------------------------------------------------------------------------\n",
      "Score per fold\n",
      "------------------------------------------------------------------------\n",
      "> Fold 1 - Loss: 503489920.0 - Accuracy: 14367.4208984375%\n",
      "------------------------------------------------------------------------\n",
      "> Fold 2 - Loss: 614160384.0 - Accuracy: 17252.115234375%\n",
      "------------------------------------------------------------------------\n",
      "Average scores for all folds:\n",
      "> MAE: 15809.76806640625 (+- 1442.34716796875)\n",
      "> Loss: 558825152.0\n",
      "------------------------------------------------------------------------\n"
     ]
    },
    {
     "data": {
      "text/html": [
       "<br/>Waiting for W&B process to finish, PID 16367... <strong style=\"color:green\">(success).</strong>"
      ],
      "text/plain": [
       "<IPython.core.display.HTML object>"
      ]
     },
     "metadata": {},
     "output_type": "display_data"
    },
    {
     "data": {
      "application/vnd.jupyter.widget-view+json": {
       "model_id": "fe2e551ef95440dd8aef4357e610d78e",
       "version_major": 2,
       "version_minor": 0
      },
      "text/plain": [
       "VBox(children=(Label(value=' 2.45MB of 2.45MB uploaded (0.00MB deduped)\\r'), FloatProgress(value=1.0, max=1.0)…"
      ]
     },
     "metadata": {},
     "output_type": "display_data"
    },
    {
     "data": {
      "text/html": [
       "<style>\n",
       "    table.wandb td:nth-child(1) { padding: 0 10px; text-align: right }\n",
       "    .wandb-row { display: flex; flex-direction: row; flex-wrap: wrap; width: 100% }\n",
       "    .wandb-col { display: flex; flex-direction: column; flex-basis: 100%; flex: 1; padding: 10px; }\n",
       "    </style>\n",
       "<div class=\"wandb-row\"><div class=\"wandb-col\">\n",
       "<h3>Run history:</h3><br/><table class=\"wandb\"><tr><td>Mean Validation Loss (all folds)</td><td>▁</td></tr><tr><td>Mean Validation MAE (all folds)</td><td>▁</td></tr><tr><td>epoch</td><td>▁▁▁▁▂▂▂▂▂▃▃▃▃▃▃▄▄▄▄▄▅▅▅▅▅▅▆▆▆▆▆▇▇▇▇▇▇███</td></tr><tr><td>loss</td><td>█▆▁▁▁▁▁▁▁▁▁▁▁▁▁▁▁▁▁▁▁▁▁▁▁▁▁▁▁▁▁▁▁▁▁▁▁▁▁▁</td></tr><tr><td>mae</td><td>█▇▂▂▁▁▁▁▁▁▁▁▁▁▁▁▁▁▁▁▁▁▁▁▁▁▁▁▁▁▁▁▁▁▁▁▁▁▁▁</td></tr><tr><td>val_loss</td><td>█▅▁▁▁▁▁▁▁▁▁▁▁▁▁▁▁▁▁▁▁▁▁▁▁▁▁▁▁▁▁▁▁▁▁▁▁▁▁▁</td></tr><tr><td>val_mae</td><td>█▆▂▁▁▁▁▁▁▁▁▁▁▁▁▁▁▁▁▁▁▁▁▁▁▁▁▁▁▁▁▁▁▁▁▁▁▁▁▁</td></tr></table><br/></div><div class=\"wandb-col\">\n",
       "<h3>Run summary:</h3><br/><table class=\"wandb\"><tr><td>Mean Validation Loss (all folds)</td><td>558825152.0</td></tr><tr><td>Mean Validation MAE (all folds)</td><td>15809.76807</td></tr><tr><td>best_epoch</td><td>95</td></tr><tr><td>best_val_loss</td><td>403838048.0</td></tr><tr><td>epoch</td><td>99</td></tr><tr><td>loss</td><td>453599232.0</td></tr><tr><td>mae</td><td>12814.49805</td></tr><tr><td>val_loss</td><td>614160448.0</td></tr><tr><td>val_mae</td><td>17252.11523</td></tr></table>\n",
       "</div></div>\n",
       "Synced 5 W&B file(s), 0 media file(s), 0 artifact file(s) and 1 other file(s)\n",
       "<br/>Synced <strong style=\"color:#cdcd00\">proud-sweep-3</strong>: <a href=\"https://wandb.ai/luiscostigan/house-price-prediction/runs/r6jdijat\" target=\"_blank\">https://wandb.ai/luiscostigan/house-price-prediction/runs/r6jdijat</a><br/>\n",
       "Find logs at: <code>./wandb/run-20220228_031359-r6jdijat/logs</code><br/>\n"
      ],
      "text/plain": [
       "<IPython.core.display.HTML object>"
      ]
     },
     "metadata": {},
     "output_type": "display_data"
    },
    {
     "data": {
      "text/html": [
       "\n",
       "                    Syncing run <strong><a href=\"https://wandb.ai/luiscostigan/house-price-prediction/runs/r6jdijat\" target=\"_blank\">proud-sweep-3</a></strong> to <a href=\"https://wandb.ai/luiscostigan/house-price-prediction\" target=\"_blank\">Weights & Biases</a> (<a href=\"https://docs.wandb.com/integrations/jupyter.html\" target=\"_blank\">docs</a>).<br/>\n",
       "Sweep page: <a href=\"https://wandb.ai/luiscostigan/house-price-prediction/sweeps/cp52f928\" target=\"_blank\">https://wandb.ai/luiscostigan/house-price-prediction/sweeps/cp52f928</a><br/>\n",
       "\n",
       "                "
      ],
      "text/plain": [
       "<IPython.core.display.HTML object>"
      ]
     },
     "metadata": {},
     "output_type": "display_data"
    },
    {
     "name": "stdout",
     "output_type": "stream",
     "text": [
      "37/37 [==============================] - 0s 3ms/step - loss: 434841760.0000 - mae: 12808.2217\n",
      "Score for fold 3: loss of 434841760.0; mae of 12808.2216796875\n",
      "------------------------------------------------------------------------\n",
      "Score per fold\n",
      "------------------------------------------------------------------------\n",
      "> Fold 1 - Loss: 503489920.0 - Accuracy: 14367.4208984375%\n",
      "------------------------------------------------------------------------\n",
      "> Fold 2 - Loss: 614160384.0 - Accuracy: 17252.115234375%\n",
      "------------------------------------------------------------------------\n",
      "> Fold 3 - Loss: 434841760.0 - Accuracy: 12808.2216796875%\n",
      "------------------------------------------------------------------------\n",
      "Average scores for all folds:\n",
      "> MAE: 14809.252604166666 (+- 1840.9162435209512)\n",
      "> Loss: 517497354.6666667\n",
      "------------------------------------------------------------------------\n"
     ]
    },
    {
     "data": {
      "text/html": [
       "<br/>Waiting for W&B process to finish, PID 18615... <strong style=\"color:green\">(success).</strong>"
      ],
      "text/plain": [
       "<IPython.core.display.HTML object>"
      ]
     },
     "metadata": {},
     "output_type": "display_data"
    },
    {
     "data": {
      "application/vnd.jupyter.widget-view+json": {
       "model_id": "3e987c13c13745fe8dfb422637347f5e",
       "version_major": 2,
       "version_minor": 0
      },
      "text/plain": [
       "VBox(children=(Label(value=' 1.82MB of 2.45MB uploaded (0.00MB deduped)\\r'), FloatProgress(value=0.74305574199…"
      ]
     },
     "metadata": {},
     "output_type": "display_data"
    },
    {
     "data": {
      "text/html": [
       "<style>\n",
       "    table.wandb td:nth-child(1) { padding: 0 10px; text-align: right }\n",
       "    .wandb-row { display: flex; flex-direction: row; flex-wrap: wrap; width: 100% }\n",
       "    .wandb-col { display: flex; flex-direction: column; flex-basis: 100%; flex: 1; padding: 10px; }\n",
       "    </style>\n",
       "<div class=\"wandb-row\"><div class=\"wandb-col\">\n",
       "<h3>Run history:</h3><br/><table class=\"wandb\"><tr><td>Mean Validation Loss (all folds)</td><td>▁</td></tr><tr><td>Mean Validation MAE (all folds)</td><td>▁</td></tr><tr><td>epoch</td><td>▁▁▁▁▂▂▂▂▂▃▃▃▃▃▃▄▄▄▄▄▅▅▅▅▅▅▆▆▆▆▆▇▇▇▇▇▇███</td></tr><tr><td>loss</td><td>█▆▁▁▁▁▁▁▁▁▁▁▁▁▁▁▁▁▁▁▁▁▁▁▁▁▁▁▁▁▁▁▁▁▁▁▁▁▁▁</td></tr><tr><td>mae</td><td>█▇▂▂▁▁▁▁▁▁▁▁▁▁▁▁▁▁▁▁▁▁▁▁▁▁▁▁▁▁▁▁▁▁▁▁▁▁▁▁</td></tr><tr><td>val_loss</td><td>█▅▁▁▁▁▁▁▁▁▁▁▁▁▁▁▁▁▁▁▁▁▁▁▁▁▁▁▁▁▁▁▁▁▁▁▁▁▁▁</td></tr><tr><td>val_mae</td><td>█▆▂▁▁▁▁▁▁▁▁▁▁▁▁▁▁▁▁▁▁▁▁▁▁▁▁▁▁▁▁▁▁▁▁▁▁▁▁▁</td></tr></table><br/></div><div class=\"wandb-col\">\n",
       "<h3>Run summary:</h3><br/><table class=\"wandb\"><tr><td>Mean Validation Loss (all folds)</td><td>517497354.66667</td></tr><tr><td>Mean Validation MAE (all folds)</td><td>14809.2526</td></tr><tr><td>best_epoch</td><td>91</td></tr><tr><td>best_val_loss</td><td>402810784.0</td></tr><tr><td>epoch</td><td>99</td></tr><tr><td>loss</td><td>444196832.0</td></tr><tr><td>mae</td><td>12644.50195</td></tr><tr><td>val_loss</td><td>434841856.0</td></tr><tr><td>val_mae</td><td>12808.2207</td></tr></table>\n",
       "</div></div>\n",
       "Synced 5 W&B file(s), 0 media file(s), 0 artifact file(s) and 1 other file(s)\n",
       "<br/>Synced <strong style=\"color:#cdcd00\">proud-sweep-3</strong>: <a href=\"https://wandb.ai/luiscostigan/house-price-prediction/runs/r6jdijat\" target=\"_blank\">https://wandb.ai/luiscostigan/house-price-prediction/runs/r6jdijat</a><br/>\n",
       "Find logs at: <code>./wandb/run-20220228_031427-r6jdijat/logs</code><br/>\n"
      ],
      "text/plain": [
       "<IPython.core.display.HTML object>"
      ]
     },
     "metadata": {},
     "output_type": "display_data"
    },
    {
     "data": {
      "text/html": [
       "\n",
       "                    Syncing run <strong><a href=\"https://wandb.ai/luiscostigan/house-price-prediction/runs/r6jdijat\" target=\"_blank\">proud-sweep-3</a></strong> to <a href=\"https://wandb.ai/luiscostigan/house-price-prediction\" target=\"_blank\">Weights & Biases</a> (<a href=\"https://docs.wandb.com/integrations/jupyter.html\" target=\"_blank\">docs</a>).<br/>\n",
       "Sweep page: <a href=\"https://wandb.ai/luiscostigan/house-price-prediction/sweeps/cp52f928\" target=\"_blank\">https://wandb.ai/luiscostigan/house-price-prediction/sweeps/cp52f928</a><br/>\n",
       "\n",
       "                "
      ],
      "text/plain": [
       "<IPython.core.display.HTML object>"
      ]
     },
     "metadata": {},
     "output_type": "display_data"
    },
    {
     "name": "stdout",
     "output_type": "stream",
     "text": [
      "37/37 [==============================] - 0s 3ms/step - loss: 410416672.0000 - mae: 11832.5732\n",
      "Score for fold 4: loss of 410416672.0; mae of 11832.5732421875\n",
      "------------------------------------------------------------------------\n",
      "Score per fold\n",
      "------------------------------------------------------------------------\n",
      "> Fold 1 - Loss: 503489920.0 - Accuracy: 14367.4208984375%\n",
      "------------------------------------------------------------------------\n",
      "> Fold 2 - Loss: 614160384.0 - Accuracy: 17252.115234375%\n",
      "------------------------------------------------------------------------\n",
      "> Fold 3 - Loss: 434841760.0 - Accuracy: 12808.2216796875%\n",
      "------------------------------------------------------------------------\n",
      "> Fold 4 - Loss: 410416672.0 - Accuracy: 11832.5732421875%\n",
      "------------------------------------------------------------------------\n",
      "Average scores for all folds:\n",
      "> MAE: 14065.082763671875 (+- 2050.1452914978)\n",
      "> Loss: 490727184.0\n",
      "------------------------------------------------------------------------\n"
     ]
    },
    {
     "data": {
      "text/html": [
       "<br/>Waiting for W&B process to finish, PID 20841... <strong style=\"color:green\">(success).</strong>"
      ],
      "text/plain": [
       "<IPython.core.display.HTML object>"
      ]
     },
     "metadata": {},
     "output_type": "display_data"
    },
    {
     "data": {
      "application/vnd.jupyter.widget-view+json": {
       "model_id": "cbcd367a74b44403b89f423720148ba9",
       "version_major": 2,
       "version_minor": 0
      },
      "text/plain": [
       "VBox(children=(Label(value=' 1.30MB of 2.45MB uploaded (0.00MB deduped)\\r'), FloatProgress(value=0.52950532833…"
      ]
     },
     "metadata": {},
     "output_type": "display_data"
    },
    {
     "data": {
      "text/html": [
       "<style>\n",
       "    table.wandb td:nth-child(1) { padding: 0 10px; text-align: right }\n",
       "    .wandb-row { display: flex; flex-direction: row; flex-wrap: wrap; width: 100% }\n",
       "    .wandb-col { display: flex; flex-direction: column; flex-basis: 100%; flex: 1; padding: 10px; }\n",
       "    </style>\n",
       "<div class=\"wandb-row\"><div class=\"wandb-col\">\n",
       "<h3>Run history:</h3><br/><table class=\"wandb\"><tr><td>Mean Validation Loss (all folds)</td><td>▁</td></tr><tr><td>Mean Validation MAE (all folds)</td><td>▁</td></tr><tr><td>epoch</td><td>▁▁▁▁▂▂▂▂▂▃▃▃▃▃▃▄▄▄▄▄▅▅▅▅▅▅▆▆▆▆▆▇▇▇▇▇▇███</td></tr><tr><td>loss</td><td>█▆▁▁▁▁▁▁▁▁▁▁▁▁▁▁▁▁▁▁▁▁▁▁▁▁▁▁▁▁▁▁▁▁▁▁▁▁▁▁</td></tr><tr><td>mae</td><td>█▇▂▂▁▁▁▁▁▁▁▁▁▁▁▁▁▁▁▁▁▁▁▁▁▁▁▁▁▁▁▁▁▁▁▁▁▁▁▁</td></tr><tr><td>val_loss</td><td>█▅▁▁▁▁▁▁▁▁▁▁▁▁▁▁▁▁▁▁▁▁▁▁▁▁▁▁▁▁▁▁▁▁▁▁▁▁▁▁</td></tr><tr><td>val_mae</td><td>█▆▂▁▁▁▁▁▁▁▁▁▁▁▁▁▁▁▁▁▁▁▁▁▁▁▁▁▁▁▁▁▁▁▁▁▁▁▁▁</td></tr></table><br/></div><div class=\"wandb-col\">\n",
       "<h3>Run summary:</h3><br/><table class=\"wandb\"><tr><td>Mean Validation Loss (all folds)</td><td>490727184.0</td></tr><tr><td>Mean Validation MAE (all folds)</td><td>14065.08276</td></tr><tr><td>best_epoch</td><td>97</td></tr><tr><td>best_val_loss</td><td>408853280.0</td></tr><tr><td>epoch</td><td>99</td></tr><tr><td>loss</td><td>469366240.0</td></tr><tr><td>mae</td><td>12867.10449</td></tr><tr><td>val_loss</td><td>410416704.0</td></tr><tr><td>val_mae</td><td>11832.5752</td></tr></table>\n",
       "</div></div>\n",
       "Synced 5 W&B file(s), 0 media file(s), 0 artifact file(s) and 1 other file(s)\n",
       "<br/>Synced <strong style=\"color:#cdcd00\">proud-sweep-3</strong>: <a href=\"https://wandb.ai/luiscostigan/house-price-prediction/runs/r6jdijat\" target=\"_blank\">https://wandb.ai/luiscostigan/house-price-prediction/runs/r6jdijat</a><br/>\n",
       "Find logs at: <code>./wandb/run-20220228_031453-r6jdijat/logs</code><br/>\n"
      ],
      "text/plain": [
       "<IPython.core.display.HTML object>"
      ]
     },
     "metadata": {},
     "output_type": "display_data"
    },
    {
     "data": {
      "text/html": [
       "\n",
       "                    Syncing run <strong><a href=\"https://wandb.ai/luiscostigan/house-price-prediction/runs/r6jdijat\" target=\"_blank\">proud-sweep-3</a></strong> to <a href=\"https://wandb.ai/luiscostigan/house-price-prediction\" target=\"_blank\">Weights & Biases</a> (<a href=\"https://docs.wandb.com/integrations/jupyter.html\" target=\"_blank\">docs</a>).<br/>\n",
       "Sweep page: <a href=\"https://wandb.ai/luiscostigan/house-price-prediction/sweeps/cp52f928\" target=\"_blank\">https://wandb.ai/luiscostigan/house-price-prediction/sweeps/cp52f928</a><br/>\n",
       "\n",
       "                "
      ],
      "text/plain": [
       "<IPython.core.display.HTML object>"
      ]
     },
     "metadata": {},
     "output_type": "display_data"
    },
    {
     "name": "stdout",
     "output_type": "stream",
     "text": [
      "37/37 [==============================] - 0s 3ms/step - loss: 393124192.0000 - mae: 11454.3369\n",
      "Score for fold 5: loss of 393124192.0; mae of 11454.3369140625\n",
      "------------------------------------------------------------------------\n",
      "Score per fold\n",
      "------------------------------------------------------------------------\n",
      "> Fold 1 - Loss: 503489920.0 - Accuracy: 14367.4208984375%\n",
      "------------------------------------------------------------------------\n",
      "> Fold 2 - Loss: 614160384.0 - Accuracy: 17252.115234375%\n",
      "------------------------------------------------------------------------\n",
      "> Fold 3 - Loss: 434841760.0 - Accuracy: 12808.2216796875%\n",
      "------------------------------------------------------------------------\n",
      "> Fold 4 - Loss: 410416672.0 - Accuracy: 11832.5732421875%\n",
      "------------------------------------------------------------------------\n",
      "> Fold 5 - Loss: 393124192.0 - Accuracy: 11454.3369140625%\n",
      "------------------------------------------------------------------------\n",
      "Average scores for all folds:\n",
      "> MAE: 13542.93359375 (+- 2110.22169347225)\n",
      "> Loss: 471206585.6\n",
      "------------------------------------------------------------------------\n"
     ]
    },
    {
     "data": {
      "text/html": [
       "<br/>Waiting for W&B process to finish, PID 23035... <strong style=\"color:green\">(success).</strong>"
      ],
      "text/plain": [
       "<IPython.core.display.HTML object>"
      ]
     },
     "metadata": {},
     "output_type": "display_data"
    },
    {
     "data": {
      "application/vnd.jupyter.widget-view+json": {
       "model_id": "1980bd873d664e50afa43f15ddbb4f6f",
       "version_major": 2,
       "version_minor": 0
      },
      "text/plain": [
       "VBox(children=(Label(value=' 1.42MB of 2.45MB uploaded (0.00MB deduped)\\r'), FloatProgress(value=0.58050354670…"
      ]
     },
     "metadata": {},
     "output_type": "display_data"
    },
    {
     "data": {
      "text/html": [
       "<style>\n",
       "    table.wandb td:nth-child(1) { padding: 0 10px; text-align: right }\n",
       "    .wandb-row { display: flex; flex-direction: row; flex-wrap: wrap; width: 100% }\n",
       "    .wandb-col { display: flex; flex-direction: column; flex-basis: 100%; flex: 1; padding: 10px; }\n",
       "    </style>\n",
       "<div class=\"wandb-row\"><div class=\"wandb-col\">\n",
       "<h3>Run history:</h3><br/><table class=\"wandb\"><tr><td>Mean Validation Loss (all folds)</td><td>▁</td></tr><tr><td>Mean Validation MAE (all folds)</td><td>▁</td></tr><tr><td>epoch</td><td>▁▁▁▁▂▂▂▂▂▃▃▃▃▃▃▄▄▄▄▄▅▅▅▅▅▅▆▆▆▆▆▇▇▇▇▇▇███</td></tr><tr><td>loss</td><td>█▆▁▁▁▁▁▁▁▁▁▁▁▁▁▁▁▁▁▁▁▁▁▁▁▁▁▁▁▁▁▁▁▁▁▁▁▁▁▁</td></tr><tr><td>mae</td><td>█▇▂▂▁▁▁▁▁▁▁▁▁▁▁▁▁▁▁▁▁▁▁▁▁▁▁▁▁▁▁▁▁▁▁▁▁▁▁▁</td></tr><tr><td>val_loss</td><td>█▅▁▁▁▁▁▁▁▁▁▁▁▁▁▁▁▁▁▁▁▁▁▁▁▁▁▁▁▁▁▁▁▁▁▁▁▁▁▁</td></tr><tr><td>val_mae</td><td>█▆▂▁▁▁▁▁▁▁▁▁▁▁▁▁▁▁▁▁▁▁▁▁▁▁▁▁▁▁▁▁▁▁▁▁▁▁▁▁</td></tr></table><br/></div><div class=\"wandb-col\">\n",
       "<h3>Run summary:</h3><br/><table class=\"wandb\"><tr><td>Mean Validation Loss (all folds)</td><td>471206585.6</td></tr><tr><td>Mean Validation MAE (all folds)</td><td>13542.93359</td></tr><tr><td>best_epoch</td><td>99</td></tr><tr><td>best_val_loss</td><td>393124064.0</td></tr><tr><td>epoch</td><td>99</td></tr><tr><td>loss</td><td>462956384.0</td></tr><tr><td>mae</td><td>12787.35547</td></tr><tr><td>val_loss</td><td>393124064.0</td></tr><tr><td>val_mae</td><td>11454.33594</td></tr></table>\n",
       "</div></div>\n",
       "Synced 5 W&B file(s), 0 media file(s), 0 artifact file(s) and 1 other file(s)\n",
       "<br/>Synced <strong style=\"color:#cdcd00\">proud-sweep-3</strong>: <a href=\"https://wandb.ai/luiscostigan/house-price-prediction/runs/r6jdijat\" target=\"_blank\">https://wandb.ai/luiscostigan/house-price-prediction/runs/r6jdijat</a><br/>\n",
       "Find logs at: <code>./wandb/run-20220228_031516-r6jdijat/logs</code><br/>\n"
      ],
      "text/plain": [
       "<IPython.core.display.HTML object>"
      ]
     },
     "metadata": {},
     "output_type": "display_data"
    },
    {
     "name": "stderr",
     "output_type": "stream",
     "text": [
      "\u001b[34m\u001b[1mwandb\u001b[0m: Agent Starting Run: chxbf1zo with config:\n",
      "\u001b[34m\u001b[1mwandb\u001b[0m: \tbatch_size: 16\n",
      "\u001b[34m\u001b[1mwandb\u001b[0m: \tdropout1: 0.4863253745543967\n",
      "\u001b[34m\u001b[1mwandb\u001b[0m: \tepochs: 100\n"
     ]
    },
    {
     "data": {
      "text/html": [
       "\n",
       "                    Syncing run <strong><a href=\"https://wandb.ai/luiscostigan/house-price-prediction/runs/chxbf1zo\" target=\"_blank\">playful-sweep-4</a></strong> to <a href=\"https://wandb.ai/luiscostigan/house-price-prediction\" target=\"_blank\">Weights & Biases</a> (<a href=\"https://docs.wandb.com/integrations/jupyter.html\" target=\"_blank\">docs</a>).<br/>\n",
       "Sweep page: <a href=\"https://wandb.ai/luiscostigan/house-price-prediction/sweeps/cp52f928\" target=\"_blank\">https://wandb.ai/luiscostigan/house-price-prediction/sweeps/cp52f928</a><br/>\n",
       "\n",
       "                "
      ],
      "text/plain": [
       "<IPython.core.display.HTML object>"
      ]
     },
     "metadata": {},
     "output_type": "display_data"
    },
    {
     "name": "stdout",
     "output_type": "stream",
     "text": [
      "37/37 [==============================] - 0s 2ms/step - loss: 353907680.0000 - mae: 10142.0928\n",
      "Score for fold 1: loss of 353907680.0; mae of 10142.0927734375\n",
      "------------------------------------------------------------------------\n",
      "Score per fold\n",
      "------------------------------------------------------------------------\n",
      "> Fold 1 - Loss: 353907680.0 - Accuracy: 10142.0927734375%\n",
      "------------------------------------------------------------------------\n",
      "Average scores for all folds:\n",
      "> MAE: 10142.0927734375 (+- 0.0)\n",
      "> Loss: 353907680.0\n",
      "------------------------------------------------------------------------\n"
     ]
    },
    {
     "data": {
      "text/html": [
       "<br/>Waiting for W&B process to finish, PID 25269... <strong style=\"color:green\">(success).</strong>"
      ],
      "text/plain": [
       "<IPython.core.display.HTML object>"
      ]
     },
     "metadata": {},
     "output_type": "display_data"
    },
    {
     "data": {
      "application/vnd.jupyter.widget-view+json": {
       "model_id": "07c6591800e64713ae5e183a2d04fbe8",
       "version_major": 2,
       "version_minor": 0
      },
      "text/plain": [
       "VBox(children=(Label(value=' 1.24MB of 2.45MB uploaded (0.00MB deduped)\\r'), FloatProgress(value=0.50402504559…"
      ]
     },
     "metadata": {},
     "output_type": "display_data"
    },
    {
     "data": {
      "text/html": [
       "<style>\n",
       "    table.wandb td:nth-child(1) { padding: 0 10px; text-align: right }\n",
       "    .wandb-row { display: flex; flex-direction: row; flex-wrap: wrap; width: 100% }\n",
       "    .wandb-col { display: flex; flex-direction: column; flex-basis: 100%; flex: 1; padding: 10px; }\n",
       "    </style>\n",
       "<div class=\"wandb-row\"><div class=\"wandb-col\">\n",
       "<h3>Run history:</h3><br/><table class=\"wandb\"><tr><td>Mean Validation Loss (all folds)</td><td>▁</td></tr><tr><td>Mean Validation MAE (all folds)</td><td>▁</td></tr><tr><td>epoch</td><td>▁▁▁▁▂▂▂▂▂▃▃▃▃▃▃▄▄▄▄▄▅▅▅▅▅▅▆▆▆▆▆▇▇▇▇▇▇███</td></tr><tr><td>loss</td><td>█▁▁▁▁▁▁▁▁▁▁▁▁▁▁▁▁▁▁▁▁▁▁▁▁▁▁▁▁▁▁▁▁▁▁▁▁▁▁▁</td></tr><tr><td>mae</td><td>█▂▁▁▁▁▁▁▁▁▁▁▁▁▁▁▁▁▁▁▁▁▁▁▁▁▁▁▁▁▁▁▁▁▁▁▁▁▁▁</td></tr><tr><td>val_loss</td><td>█▁▁▁▁▁▁▁▁▁▁▁▁▁▁▁▁▁▁▁▁▁▁▁▁▁▁▁▁▁▁▁▁▁▁▁▁▁▁▁</td></tr><tr><td>val_mae</td><td>█▂▁▁▁▁▁▁▁▁▁▁▁▁▁▁▁▁▁▁▁▁▁▁▁▁▁▁▁▁▁▁▁▁▁▁▁▁▁▁</td></tr></table><br/></div><div class=\"wandb-col\">\n",
       "<h3>Run summary:</h3><br/><table class=\"wandb\"><tr><td>Mean Validation Loss (all folds)</td><td>353907680.0</td></tr><tr><td>Mean Validation MAE (all folds)</td><td>10142.09277</td></tr><tr><td>best_epoch</td><td>99</td></tr><tr><td>best_val_loss</td><td>353907712.0</td></tr><tr><td>epoch</td><td>99</td></tr><tr><td>loss</td><td>475162304.0</td></tr><tr><td>mae</td><td>13518.63086</td></tr><tr><td>val_loss</td><td>353907712.0</td></tr><tr><td>val_mae</td><td>10142.0918</td></tr></table>\n",
       "</div></div>\n",
       "Synced 5 W&B file(s), 0 media file(s), 0 artifact file(s) and 1 other file(s)\n",
       "<br/>Synced <strong style=\"color:#cdcd00\">playful-sweep-4</strong>: <a href=\"https://wandb.ai/luiscostigan/house-price-prediction/runs/chxbf1zo\" target=\"_blank\">https://wandb.ai/luiscostigan/house-price-prediction/runs/chxbf1zo</a><br/>\n",
       "Find logs at: <code>./wandb/run-20220228_031541-chxbf1zo/logs</code><br/>\n"
      ],
      "text/plain": [
       "<IPython.core.display.HTML object>"
      ]
     },
     "metadata": {},
     "output_type": "display_data"
    },
    {
     "data": {
      "text/html": [
       "\n",
       "                    Syncing run <strong><a href=\"https://wandb.ai/luiscostigan/house-price-prediction/runs/chxbf1zo\" target=\"_blank\">playful-sweep-4</a></strong> to <a href=\"https://wandb.ai/luiscostigan/house-price-prediction\" target=\"_blank\">Weights & Biases</a> (<a href=\"https://docs.wandb.com/integrations/jupyter.html\" target=\"_blank\">docs</a>).<br/>\n",
       "Sweep page: <a href=\"https://wandb.ai/luiscostigan/house-price-prediction/sweeps/cp52f928\" target=\"_blank\">https://wandb.ai/luiscostigan/house-price-prediction/sweeps/cp52f928</a><br/>\n",
       "\n",
       "                "
      ],
      "text/plain": [
       "<IPython.core.display.HTML object>"
      ]
     },
     "metadata": {},
     "output_type": "display_data"
    },
    {
     "name": "stdout",
     "output_type": "stream",
     "text": [
      "37/37 [==============================] - 0s 2ms/step - loss: 387677760.0000 - mae: 11115.0986\n",
      "Score for fold 2: loss of 387677760.0; mae of 11115.0986328125\n",
      "------------------------------------------------------------------------\n",
      "Score per fold\n",
      "------------------------------------------------------------------------\n",
      "> Fold 1 - Loss: 353907680.0 - Accuracy: 10142.0927734375%\n",
      "------------------------------------------------------------------------\n",
      "> Fold 2 - Loss: 387677760.0 - Accuracy: 11115.0986328125%\n",
      "------------------------------------------------------------------------\n",
      "Average scores for all folds:\n",
      "> MAE: 10628.595703125 (+- 486.5029296875)\n",
      "> Loss: 370792720.0\n",
      "------------------------------------------------------------------------\n"
     ]
    },
    {
     "data": {
      "text/html": [
       "<br/>Waiting for W&B process to finish, PID 27643... <strong style=\"color:green\">(success).</strong>"
      ],
      "text/plain": [
       "<IPython.core.display.HTML object>"
      ]
     },
     "metadata": {},
     "output_type": "display_data"
    },
    {
     "data": {
      "application/vnd.jupyter.widget-view+json": {
       "model_id": "ce57d08a9abe4f5aaa2c4f9351153f50",
       "version_major": 2,
       "version_minor": 0
      },
      "text/plain": [
       "VBox(children=(Label(value=' 1.34MB of 2.45MB uploaded (0.00MB deduped)\\r'), FloatProgress(value=0.54544227157…"
      ]
     },
     "metadata": {},
     "output_type": "display_data"
    },
    {
     "data": {
      "text/html": [
       "<style>\n",
       "    table.wandb td:nth-child(1) { padding: 0 10px; text-align: right }\n",
       "    .wandb-row { display: flex; flex-direction: row; flex-wrap: wrap; width: 100% }\n",
       "    .wandb-col { display: flex; flex-direction: column; flex-basis: 100%; flex: 1; padding: 10px; }\n",
       "    </style>\n",
       "<div class=\"wandb-row\"><div class=\"wandb-col\">\n",
       "<h3>Run history:</h3><br/><table class=\"wandb\"><tr><td>Mean Validation Loss (all folds)</td><td>▁</td></tr><tr><td>Mean Validation MAE (all folds)</td><td>▁</td></tr><tr><td>epoch</td><td>▁▁▁▁▂▂▂▂▂▃▃▃▃▃▃▄▄▄▄▄▅▅▅▅▅▅▆▆▆▆▆▇▇▇▇▇▇███</td></tr><tr><td>loss</td><td>█▁▁▁▁▁▁▁▁▁▁▁▁▁▁▁▁▁▁▁▁▁▁▁▁▁▁▁▁▁▁▁▁▁▁▁▁▁▁▁</td></tr><tr><td>mae</td><td>█▂▁▁▁▁▁▁▁▁▁▁▁▁▁▁▁▁▁▁▁▁▁▁▁▁▁▁▁▁▁▁▁▁▁▁▁▁▁▁</td></tr><tr><td>val_loss</td><td>█▁▁▁▁▁▁▁▁▁▁▁▁▁▁▁▁▁▁▁▁▁▁▁▁▁▁▁▁▁▁▁▁▁▁▁▁▁▁▁</td></tr><tr><td>val_mae</td><td>█▂▂▁▁▁▁▁▁▁▁▁▁▁▁▁▁▁▁▁▁▁▁▁▁▁▁▁▁▁▁▁▁▁▁▁▁▁▁▁</td></tr></table><br/></div><div class=\"wandb-col\">\n",
       "<h3>Run summary:</h3><br/><table class=\"wandb\"><tr><td>Mean Validation Loss (all folds)</td><td>370792720.0</td></tr><tr><td>Mean Validation MAE (all folds)</td><td>10628.5957</td></tr><tr><td>best_epoch</td><td>96</td></tr><tr><td>best_val_loss</td><td>345840384.0</td></tr><tr><td>epoch</td><td>99</td></tr><tr><td>loss</td><td>466621600.0</td></tr><tr><td>mae</td><td>13160.57324</td></tr><tr><td>val_loss</td><td>387677728.0</td></tr><tr><td>val_mae</td><td>11115.09961</td></tr></table>\n",
       "</div></div>\n",
       "Synced 5 W&B file(s), 0 media file(s), 0 artifact file(s) and 1 other file(s)\n",
       "<br/>Synced <strong style=\"color:#cdcd00\">playful-sweep-4</strong>: <a href=\"https://wandb.ai/luiscostigan/house-price-prediction/runs/chxbf1zo\" target=\"_blank\">https://wandb.ai/luiscostigan/house-price-prediction/runs/chxbf1zo</a><br/>\n",
       "Find logs at: <code>./wandb/run-20220228_031623-chxbf1zo/logs</code><br/>\n"
      ],
      "text/plain": [
       "<IPython.core.display.HTML object>"
      ]
     },
     "metadata": {},
     "output_type": "display_data"
    },
    {
     "data": {
      "text/html": [
       "\n",
       "                    Syncing run <strong><a href=\"https://wandb.ai/luiscostigan/house-price-prediction/runs/chxbf1zo\" target=\"_blank\">playful-sweep-4</a></strong> to <a href=\"https://wandb.ai/luiscostigan/house-price-prediction\" target=\"_blank\">Weights & Biases</a> (<a href=\"https://docs.wandb.com/integrations/jupyter.html\" target=\"_blank\">docs</a>).<br/>\n",
       "Sweep page: <a href=\"https://wandb.ai/luiscostigan/house-price-prediction/sweeps/cp52f928\" target=\"_blank\">https://wandb.ai/luiscostigan/house-price-prediction/sweeps/cp52f928</a><br/>\n",
       "\n",
       "                "
      ],
      "text/plain": [
       "<IPython.core.display.HTML object>"
      ]
     },
     "metadata": {},
     "output_type": "display_data"
    },
    {
     "name": "stdout",
     "output_type": "stream",
     "text": [
      "37/37 [==============================] - 0s 2ms/step - loss: 412459808.0000 - mae: 11479.3271\n",
      "Score for fold 3: loss of 412459808.0; mae of 11479.3271484375\n",
      "------------------------------------------------------------------------\n",
      "Score per fold\n",
      "------------------------------------------------------------------------\n",
      "> Fold 1 - Loss: 353907680.0 - Accuracy: 10142.0927734375%\n",
      "------------------------------------------------------------------------\n",
      "> Fold 2 - Loss: 387677760.0 - Accuracy: 11115.0986328125%\n",
      "------------------------------------------------------------------------\n",
      "> Fold 3 - Loss: 412459808.0 - Accuracy: 11479.3271484375%\n",
      "------------------------------------------------------------------------\n",
      "Average scores for all folds:\n",
      "> MAE: 10912.1728515625 (+- 564.466177281599)\n",
      "> Loss: 384681749.3333333\n",
      "------------------------------------------------------------------------\n"
     ]
    },
    {
     "data": {
      "text/html": [
       "<br/>Waiting for W&B process to finish, PID 30008... <strong style=\"color:green\">(success).</strong>"
      ],
      "text/plain": [
       "<IPython.core.display.HTML object>"
      ]
     },
     "metadata": {},
     "output_type": "display_data"
    },
    {
     "data": {
      "application/vnd.jupyter.widget-view+json": {
       "model_id": "96f811e4a56a473d8e91e1cf3916b606",
       "version_major": 2,
       "version_minor": 0
      },
      "text/plain": [
       "VBox(children=(Label(value=' 1.34MB of 2.45MB uploaded (0.00MB deduped)\\r'), FloatProgress(value=0.54543887601…"
      ]
     },
     "metadata": {},
     "output_type": "display_data"
    },
    {
     "data": {
      "text/html": [
       "<style>\n",
       "    table.wandb td:nth-child(1) { padding: 0 10px; text-align: right }\n",
       "    .wandb-row { display: flex; flex-direction: row; flex-wrap: wrap; width: 100% }\n",
       "    .wandb-col { display: flex; flex-direction: column; flex-basis: 100%; flex: 1; padding: 10px; }\n",
       "    </style>\n",
       "<div class=\"wandb-row\"><div class=\"wandb-col\">\n",
       "<h3>Run history:</h3><br/><table class=\"wandb\"><tr><td>Mean Validation Loss (all folds)</td><td>▁</td></tr><tr><td>Mean Validation MAE (all folds)</td><td>▁</td></tr><tr><td>epoch</td><td>▁▁▁▁▂▂▂▂▂▃▃▃▃▃▃▄▄▄▄▄▅▅▅▅▅▅▆▆▆▆▆▇▇▇▇▇▇███</td></tr><tr><td>loss</td><td>█▁▁▁▁▁▁▁▁▁▁▁▁▁▁▁▁▁▁▁▁▁▁▁▁▁▁▁▁▁▁▁▁▁▁▁▁▁▁▁</td></tr><tr><td>mae</td><td>█▂▁▁▁▁▁▁▁▁▁▁▁▁▁▁▁▁▁▁▁▁▁▁▁▁▁▁▁▁▁▁▁▁▁▁▁▁▁▁</td></tr><tr><td>val_loss</td><td>█▁▁▁▁▁▁▁▁▁▁▁▁▁▁▁▁▁▁▁▁▁▁▁▁▁▁▁▁▁▁▁▁▁▁▁▁▁▁▁</td></tr><tr><td>val_mae</td><td>█▂▁▁▁▁▁▁▁▁▁▁▁▁▁▁▁▁▁▁▁▁▁▁▁▁▁▁▁▁▁▁▁▁▁▁▁▁▁▁</td></tr></table><br/></div><div class=\"wandb-col\">\n",
       "<h3>Run summary:</h3><br/><table class=\"wandb\"><tr><td>Mean Validation Loss (all folds)</td><td>384681749.33333</td></tr><tr><td>Mean Validation MAE (all folds)</td><td>10912.17285</td></tr><tr><td>best_epoch</td><td>98</td></tr><tr><td>best_val_loss</td><td>353840032.0</td></tr><tr><td>epoch</td><td>99</td></tr><tr><td>loss</td><td>454802208.0</td></tr><tr><td>mae</td><td>12861.97559</td></tr><tr><td>val_loss</td><td>412459712.0</td></tr><tr><td>val_mae</td><td>11479.3252</td></tr></table>\n",
       "</div></div>\n",
       "Synced 5 W&B file(s), 0 media file(s), 0 artifact file(s) and 1 other file(s)\n",
       "<br/>Synced <strong style=\"color:#cdcd00\">playful-sweep-4</strong>: <a href=\"https://wandb.ai/luiscostigan/house-price-prediction/runs/chxbf1zo\" target=\"_blank\">https://wandb.ai/luiscostigan/house-price-prediction/runs/chxbf1zo</a><br/>\n",
       "Find logs at: <code>./wandb/run-20220228_031706-chxbf1zo/logs</code><br/>\n"
      ],
      "text/plain": [
       "<IPython.core.display.HTML object>"
      ]
     },
     "metadata": {},
     "output_type": "display_data"
    },
    {
     "data": {
      "text/html": [
       "\n",
       "                    Syncing run <strong><a href=\"https://wandb.ai/luiscostigan/house-price-prediction/runs/chxbf1zo\" target=\"_blank\">playful-sweep-4</a></strong> to <a href=\"https://wandb.ai/luiscostigan/house-price-prediction\" target=\"_blank\">Weights & Biases</a> (<a href=\"https://docs.wandb.com/integrations/jupyter.html\" target=\"_blank\">docs</a>).<br/>\n",
       "Sweep page: <a href=\"https://wandb.ai/luiscostigan/house-price-prediction/sweeps/cp52f928\" target=\"_blank\">https://wandb.ai/luiscostigan/house-price-prediction/sweeps/cp52f928</a><br/>\n",
       "\n",
       "                "
      ],
      "text/plain": [
       "<IPython.core.display.HTML object>"
      ]
     },
     "metadata": {},
     "output_type": "display_data"
    },
    {
     "name": "stdout",
     "output_type": "stream",
     "text": [
      "37/37 [==============================] - 0s 2ms/step - loss: 453238144.0000 - mae: 12955.3262\n",
      "Score for fold 4: loss of 453238144.0; mae of 12955.326171875\n",
      "------------------------------------------------------------------------\n",
      "Score per fold\n",
      "------------------------------------------------------------------------\n",
      "> Fold 1 - Loss: 353907680.0 - Accuracy: 10142.0927734375%\n",
      "------------------------------------------------------------------------\n",
      "> Fold 2 - Loss: 387677760.0 - Accuracy: 11115.0986328125%\n",
      "------------------------------------------------------------------------\n",
      "> Fold 3 - Loss: 412459808.0 - Accuracy: 11479.3271484375%\n",
      "------------------------------------------------------------------------\n",
      "> Fold 4 - Loss: 453238144.0 - Accuracy: 12955.326171875%\n",
      "------------------------------------------------------------------------\n",
      "Average scores for all folds:\n",
      "> MAE: 11422.961181640625 (+- 1010.7822235294677)\n",
      "> Loss: 401820848.0\n",
      "------------------------------------------------------------------------\n"
     ]
    },
    {
     "data": {
      "text/html": [
       "<br/>Waiting for W&B process to finish, PID 32387... <strong style=\"color:green\">(success).</strong>"
      ],
      "text/plain": [
       "<IPython.core.display.HTML object>"
      ]
     },
     "metadata": {},
     "output_type": "display_data"
    },
    {
     "data": {
      "application/vnd.jupyter.widget-view+json": {
       "model_id": "373132620f8b402b8854cc3b13c3b1e7",
       "version_major": 2,
       "version_minor": 0
      },
      "text/plain": [
       "VBox(children=(Label(value=' 1.46MB of 2.45MB uploaded (0.00MB deduped)\\r'), FloatProgress(value=0.59644048995…"
      ]
     },
     "metadata": {},
     "output_type": "display_data"
    },
    {
     "data": {
      "text/html": [
       "<style>\n",
       "    table.wandb td:nth-child(1) { padding: 0 10px; text-align: right }\n",
       "    .wandb-row { display: flex; flex-direction: row; flex-wrap: wrap; width: 100% }\n",
       "    .wandb-col { display: flex; flex-direction: column; flex-basis: 100%; flex: 1; padding: 10px; }\n",
       "    </style>\n",
       "<div class=\"wandb-row\"><div class=\"wandb-col\">\n",
       "<h3>Run history:</h3><br/><table class=\"wandb\"><tr><td>Mean Validation Loss (all folds)</td><td>▁</td></tr><tr><td>Mean Validation MAE (all folds)</td><td>▁</td></tr><tr><td>epoch</td><td>▁▁▁▁▂▂▂▂▂▃▃▃▃▃▃▄▄▄▄▄▅▅▅▅▅▅▆▆▆▆▆▇▇▇▇▇▇███</td></tr><tr><td>loss</td><td>█▁▁▁▁▁▁▁▁▁▁▁▁▁▁▁▁▁▁▁▁▁▁▁▁▁▁▁▁▁▁▁▁▁▁▁▁▁▁▁</td></tr><tr><td>mae</td><td>█▂▁▁▁▁▁▁▁▁▁▁▁▁▁▁▁▁▁▁▁▁▁▁▁▁▁▁▁▁▁▁▁▁▁▁▁▁▁▁</td></tr><tr><td>val_loss</td><td>█▁▁▁▁▁▁▁▁▁▁▁▁▁▁▁▁▁▁▁▁▁▁▁▁▁▁▁▁▁▁▁▁▁▁▁▁▁▁▁</td></tr><tr><td>val_mae</td><td>█▂▁▁▁▁▁▁▁▁▁▁▁▁▁▁▁▁▁▁▁▁▁▁▁▁▁▁▁▁▁▁▁▁▁▁▁▁▁▁</td></tr></table><br/></div><div class=\"wandb-col\">\n",
       "<h3>Run summary:</h3><br/><table class=\"wandb\"><tr><td>Mean Validation Loss (all folds)</td><td>401820848.0</td></tr><tr><td>Mean Validation MAE (all folds)</td><td>11422.96118</td></tr><tr><td>best_epoch</td><td>98</td></tr><tr><td>best_val_loss</td><td>363589312.0</td></tr><tr><td>epoch</td><td>99</td></tr><tr><td>loss</td><td>463173280.0</td></tr><tr><td>mae</td><td>12996.54492</td></tr><tr><td>val_loss</td><td>453238112.0</td></tr><tr><td>val_mae</td><td>12955.32617</td></tr></table>\n",
       "</div></div>\n",
       "Synced 5 W&B file(s), 0 media file(s), 0 artifact file(s) and 1 other file(s)\n",
       "<br/>Synced <strong style=\"color:#cdcd00\">playful-sweep-4</strong>: <a href=\"https://wandb.ai/luiscostigan/house-price-prediction/runs/chxbf1zo\" target=\"_blank\">https://wandb.ai/luiscostigan/house-price-prediction/runs/chxbf1zo</a><br/>\n",
       "Find logs at: <code>./wandb/run-20220228_031749-chxbf1zo/logs</code><br/>\n"
      ],
      "text/plain": [
       "<IPython.core.display.HTML object>"
      ]
     },
     "metadata": {},
     "output_type": "display_data"
    },
    {
     "data": {
      "text/html": [
       "\n",
       "                    Syncing run <strong><a href=\"https://wandb.ai/luiscostigan/house-price-prediction/runs/chxbf1zo\" target=\"_blank\">playful-sweep-4</a></strong> to <a href=\"https://wandb.ai/luiscostigan/house-price-prediction\" target=\"_blank\">Weights & Biases</a> (<a href=\"https://docs.wandb.com/integrations/jupyter.html\" target=\"_blank\">docs</a>).<br/>\n",
       "Sweep page: <a href=\"https://wandb.ai/luiscostigan/house-price-prediction/sweeps/cp52f928\" target=\"_blank\">https://wandb.ai/luiscostigan/house-price-prediction/sweeps/cp52f928</a><br/>\n",
       "\n",
       "                "
      ],
      "text/plain": [
       "<IPython.core.display.HTML object>"
      ]
     },
     "metadata": {},
     "output_type": "display_data"
    },
    {
     "name": "stdout",
     "output_type": "stream",
     "text": [
      "37/37 [==============================] - 0s 3ms/step - loss: 341490272.0000 - mae: 9786.9854\n",
      "Score for fold 5: loss of 341490272.0; mae of 9786.9853515625\n",
      "------------------------------------------------------------------------\n",
      "Score per fold\n",
      "------------------------------------------------------------------------\n",
      "> Fold 1 - Loss: 353907680.0 - Accuracy: 10142.0927734375%\n",
      "------------------------------------------------------------------------\n",
      "> Fold 2 - Loss: 387677760.0 - Accuracy: 11115.0986328125%\n",
      "------------------------------------------------------------------------\n",
      "> Fold 3 - Loss: 412459808.0 - Accuracy: 11479.3271484375%\n",
      "------------------------------------------------------------------------\n",
      "> Fold 4 - Loss: 453238144.0 - Accuracy: 12955.326171875%\n",
      "------------------------------------------------------------------------\n",
      "> Fold 5 - Loss: 341490272.0 - Accuracy: 9786.9853515625%\n",
      "------------------------------------------------------------------------\n",
      "Average scores for all folds:\n",
      "> MAE: 11095.766015625 (+- 1116.051642791905)\n",
      "> Loss: 389754732.8\n",
      "------------------------------------------------------------------------\n"
     ]
    },
    {
     "data": {
      "text/html": [
       "<br/>Waiting for W&B process to finish, PID 2314... <strong style=\"color:green\">(success).</strong>"
      ],
      "text/plain": [
       "<IPython.core.display.HTML object>"
      ]
     },
     "metadata": {},
     "output_type": "display_data"
    },
    {
     "data": {
      "application/vnd.jupyter.widget-view+json": {
       "model_id": "241daefd02e54d08b548ce817cf9a8e2",
       "version_major": 2,
       "version_minor": 0
      },
      "text/plain": [
       "VBox(children=(Label(value=' 2.45MB of 2.45MB uploaded (0.00MB deduped)\\r'), FloatProgress(value=1.0, max=1.0)…"
      ]
     },
     "metadata": {},
     "output_type": "display_data"
    },
    {
     "data": {
      "text/html": [
       "<style>\n",
       "    table.wandb td:nth-child(1) { padding: 0 10px; text-align: right }\n",
       "    .wandb-row { display: flex; flex-direction: row; flex-wrap: wrap; width: 100% }\n",
       "    .wandb-col { display: flex; flex-direction: column; flex-basis: 100%; flex: 1; padding: 10px; }\n",
       "    </style>\n",
       "<div class=\"wandb-row\"><div class=\"wandb-col\">\n",
       "<h3>Run history:</h3><br/><table class=\"wandb\"><tr><td>Mean Validation Loss (all folds)</td><td>▁</td></tr><tr><td>Mean Validation MAE (all folds)</td><td>▁</td></tr><tr><td>epoch</td><td>▁▁▁▁▂▂▂▂▂▃▃▃▃▃▃▄▄▄▄▄▅▅▅▅▅▅▆▆▆▆▆▇▇▇▇▇▇███</td></tr><tr><td>loss</td><td>█▁▁▁▁▁▁▁▁▁▁▁▁▁▁▁▁▁▁▁▁▁▁▁▁▁▁▁▁▁▁▁▁▁▁▁▁▁▁▁</td></tr><tr><td>mae</td><td>█▂▁▁▁▁▁▁▁▁▁▁▁▁▁▁▁▁▁▁▁▁▁▁▁▁▁▁▁▁▁▁▁▁▁▁▁▁▁▁</td></tr><tr><td>val_loss</td><td>█▁▁▁▁▁▁▁▁▁▁▁▁▁▁▁▁▁▁▁▁▁▁▁▁▁▁▁▁▁▁▁▁▁▁▁▁▁▁▁</td></tr><tr><td>val_mae</td><td>█▂▂▁▁▁▁▁▁▁▁▁▁▁▁▁▁▁▁▁▁▁▁▁▁▁▁▁▁▁▁▁▁▁▁▁▁▁▁▁</td></tr></table><br/></div><div class=\"wandb-col\">\n",
       "<h3>Run summary:</h3><br/><table class=\"wandb\"><tr><td>Mean Validation Loss (all folds)</td><td>389754732.8</td></tr><tr><td>Mean Validation MAE (all folds)</td><td>11095.76602</td></tr><tr><td>best_epoch</td><td>99</td></tr><tr><td>best_val_loss</td><td>341490368.0</td></tr><tr><td>epoch</td><td>99</td></tr><tr><td>loss</td><td>494509504.0</td></tr><tr><td>mae</td><td>13074.85742</td></tr><tr><td>val_loss</td><td>341490368.0</td></tr><tr><td>val_mae</td><td>9786.98438</td></tr></table>\n",
       "</div></div>\n",
       "Synced 5 W&B file(s), 0 media file(s), 0 artifact file(s) and 1 other file(s)\n",
       "<br/>Synced <strong style=\"color:#cdcd00\">playful-sweep-4</strong>: <a href=\"https://wandb.ai/luiscostigan/house-price-prediction/runs/chxbf1zo\" target=\"_blank\">https://wandb.ai/luiscostigan/house-price-prediction/runs/chxbf1zo</a><br/>\n",
       "Find logs at: <code>./wandb/run-20220228_031832-chxbf1zo/logs</code><br/>\n"
      ],
      "text/plain": [
       "<IPython.core.display.HTML object>"
      ]
     },
     "metadata": {},
     "output_type": "display_data"
    },
    {
     "name": "stderr",
     "output_type": "stream",
     "text": [
      "\u001b[34m\u001b[1mwandb\u001b[0m: Agent Starting Run: lhysn6az with config:\n",
      "\u001b[34m\u001b[1mwandb\u001b[0m: \tbatch_size: 128\n",
      "\u001b[34m\u001b[1mwandb\u001b[0m: \tdropout1: 0.47213078778456863\n",
      "\u001b[34m\u001b[1mwandb\u001b[0m: \tepochs: 30\n"
     ]
    },
    {
     "data": {
      "text/html": [
       "\n",
       "                    Syncing run <strong><a href=\"https://wandb.ai/luiscostigan/house-price-prediction/runs/lhysn6az\" target=\"_blank\">lyric-sweep-5</a></strong> to <a href=\"https://wandb.ai/luiscostigan/house-price-prediction\" target=\"_blank\">Weights & Biases</a> (<a href=\"https://docs.wandb.com/integrations/jupyter.html\" target=\"_blank\">docs</a>).<br/>\n",
       "Sweep page: <a href=\"https://wandb.ai/luiscostigan/house-price-prediction/sweeps/cp52f928\" target=\"_blank\">https://wandb.ai/luiscostigan/house-price-prediction/sweeps/cp52f928</a><br/>\n",
       "\n",
       "                "
      ],
      "text/plain": [
       "<IPython.core.display.HTML object>"
      ]
     },
     "metadata": {},
     "output_type": "display_data"
    },
    {
     "name": "stdout",
     "output_type": "stream",
     "text": [
      "37/37 [==============================] - 0s 2ms/step - loss: 663464896.0000 - mae: 16201.0596\n",
      "Score for fold 1: loss of 663464896.0; mae of 16201.0595703125\n",
      "------------------------------------------------------------------------\n",
      "Score per fold\n",
      "------------------------------------------------------------------------\n",
      "> Fold 1 - Loss: 663464896.0 - Accuracy: 16201.0595703125%\n",
      "------------------------------------------------------------------------\n",
      "Average scores for all folds:\n",
      "> MAE: 16201.0595703125 (+- 0.0)\n",
      "> Loss: 663464896.0\n",
      "------------------------------------------------------------------------\n"
     ]
    },
    {
     "data": {
      "text/html": [
       "<br/>Waiting for W&B process to finish, PID 4774... <strong style=\"color:green\">(success).</strong>"
      ],
      "text/plain": [
       "<IPython.core.display.HTML object>"
      ]
     },
     "metadata": {},
     "output_type": "display_data"
    },
    {
     "data": {
      "application/vnd.jupyter.widget-view+json": {
       "model_id": "44cf83c4b840413086d22b7e502bc11e",
       "version_major": 2,
       "version_minor": 0
      },
      "text/plain": [
       "VBox(children=(Label(value=' 2.45MB of 2.45MB uploaded (0.00MB deduped)\\r'), FloatProgress(value=1.0, max=1.0)…"
      ]
     },
     "metadata": {},
     "output_type": "display_data"
    },
    {
     "data": {
      "text/html": [
       "<style>\n",
       "    table.wandb td:nth-child(1) { padding: 0 10px; text-align: right }\n",
       "    .wandb-row { display: flex; flex-direction: row; flex-wrap: wrap; width: 100% }\n",
       "    .wandb-col { display: flex; flex-direction: column; flex-basis: 100%; flex: 1; padding: 10px; }\n",
       "    </style>\n",
       "<div class=\"wandb-row\"><div class=\"wandb-col\">\n",
       "<h3>Run history:</h3><br/><table class=\"wandb\"><tr><td>Mean Validation Loss (all folds)</td><td>▁</td></tr><tr><td>Mean Validation MAE (all folds)</td><td>▁</td></tr><tr><td>epoch</td><td>▁▁▁▂▂▂▂▃▃▃▃▄▄▄▄▅▅▅▅▆▆▆▆▇▇▇▇███</td></tr><tr><td>loss</td><td>███▇▆▅▄▃▂▂▁▁▁▁▁▁▁▁▁▁▁▁▁▁▁▁▁▁▁▁</td></tr><tr><td>mae</td><td>███▇▇▆▅▄▃▂▂▂▁▁▁▁▁▁▁▁▁▁▁▁▁▁▁▁▁▁</td></tr><tr><td>val_loss</td><td>██▇▇▆▅▃▂▂▁▁▁▁▁▁▁▁▁▁▁▁▁▁▁▁▁▁▁▁▁</td></tr><tr><td>val_mae</td><td>███▇▇▆▅▃▂▂▂▁▁▁▁▁▁▁▁▁▁▁▁▁▁▁▁▁▁▁</td></tr></table><br/></div><div class=\"wandb-col\">\n",
       "<h3>Run summary:</h3><br/><table class=\"wandb\"><tr><td>Mean Validation Loss (all folds)</td><td>663464896.0</td></tr><tr><td>Mean Validation MAE (all folds)</td><td>16201.05957</td></tr><tr><td>best_epoch</td><td>29</td></tr><tr><td>best_val_loss</td><td>663464832.0</td></tr><tr><td>epoch</td><td>29</td></tr><tr><td>loss</td><td>716726592.0</td></tr><tr><td>mae</td><td>17590.79297</td></tr><tr><td>val_loss</td><td>663464832.0</td></tr><tr><td>val_mae</td><td>16201.05957</td></tr></table>\n",
       "</div></div>\n",
       "Synced 5 W&B file(s), 0 media file(s), 0 artifact file(s) and 1 other file(s)\n",
       "<br/>Synced <strong style=\"color:#cdcd00\">lyric-sweep-5</strong>: <a href=\"https://wandb.ai/luiscostigan/house-price-prediction/runs/lhysn6az\" target=\"_blank\">https://wandb.ai/luiscostigan/house-price-prediction/runs/lhysn6az</a><br/>\n",
       "Find logs at: <code>./wandb/run-20220228_031920-lhysn6az/logs</code><br/>\n"
      ],
      "text/plain": [
       "<IPython.core.display.HTML object>"
      ]
     },
     "metadata": {},
     "output_type": "display_data"
    },
    {
     "data": {
      "text/html": [
       "\n",
       "                    Syncing run <strong><a href=\"https://wandb.ai/luiscostigan/house-price-prediction/runs/lhysn6az\" target=\"_blank\">lyric-sweep-5</a></strong> to <a href=\"https://wandb.ai/luiscostigan/house-price-prediction\" target=\"_blank\">Weights & Biases</a> (<a href=\"https://docs.wandb.com/integrations/jupyter.html\" target=\"_blank\">docs</a>).<br/>\n",
       "Sweep page: <a href=\"https://wandb.ai/luiscostigan/house-price-prediction/sweeps/cp52f928\" target=\"_blank\">https://wandb.ai/luiscostigan/house-price-prediction/sweeps/cp52f928</a><br/>\n",
       "\n",
       "                "
      ],
      "text/plain": [
       "<IPython.core.display.HTML object>"
      ]
     },
     "metadata": {},
     "output_type": "display_data"
    },
    {
     "name": "stdout",
     "output_type": "stream",
     "text": [
      "37/37 [==============================] - 0s 2ms/step - loss: 674871680.0000 - mae: 16073.8154\n",
      "Score for fold 2: loss of 674871680.0; mae of 16073.8154296875\n",
      "------------------------------------------------------------------------\n",
      "Score per fold\n",
      "------------------------------------------------------------------------\n",
      "> Fold 1 - Loss: 663464896.0 - Accuracy: 16201.0595703125%\n",
      "------------------------------------------------------------------------\n",
      "> Fold 2 - Loss: 674871680.0 - Accuracy: 16073.8154296875%\n",
      "------------------------------------------------------------------------\n",
      "Average scores for all folds:\n",
      "> MAE: 16137.4375 (+- 63.6220703125)\n",
      "> Loss: 669168288.0\n",
      "------------------------------------------------------------------------\n"
     ]
    },
    {
     "data": {
      "text/html": [
       "<br/>Waiting for W&B process to finish, PID 5553... <strong style=\"color:green\">(success).</strong>"
      ],
      "text/plain": [
       "<IPython.core.display.HTML object>"
      ]
     },
     "metadata": {},
     "output_type": "display_data"
    },
    {
     "data": {
      "application/vnd.jupyter.widget-view+json": {
       "model_id": "53cb0cad27dc4313a4e531bf1ec45a69",
       "version_major": 2,
       "version_minor": 0
      },
      "text/plain": [
       "VBox(children=(Label(value=' 1.83MB of 2.45MB uploaded (0.00MB deduped)\\r'), FloatProgress(value=0.74624775643…"
      ]
     },
     "metadata": {},
     "output_type": "display_data"
    },
    {
     "data": {
      "text/html": [
       "<style>\n",
       "    table.wandb td:nth-child(1) { padding: 0 10px; text-align: right }\n",
       "    .wandb-row { display: flex; flex-direction: row; flex-wrap: wrap; width: 100% }\n",
       "    .wandb-col { display: flex; flex-direction: column; flex-basis: 100%; flex: 1; padding: 10px; }\n",
       "    </style>\n",
       "<div class=\"wandb-row\"><div class=\"wandb-col\">\n",
       "<h3>Run history:</h3><br/><table class=\"wandb\"><tr><td>Mean Validation Loss (all folds)</td><td>▁</td></tr><tr><td>Mean Validation MAE (all folds)</td><td>▁</td></tr><tr><td>epoch</td><td>▁▁▁▂▂▂▂▃▃▃▃▄▄▄▄▅▅▅▅▆▆▆▆▇▇▇▇███</td></tr><tr><td>loss</td><td>███▇▆▅▄▃▂▁▁▁▁▁▁▁▁▁▁▁▁▁▁▁▁▁▁▁▁▁</td></tr><tr><td>mae</td><td>███▇▇▆▅▄▃▂▂▁▁▁▁▁▁▁▁▁▁▁▁▁▁▁▁▁▁▁</td></tr><tr><td>val_loss</td><td>██▇▇▆▅▃▂▂▁▁▁▁▁▁▁▁▁▁▁▁▁▁▁▁▁▁▁▁▁</td></tr><tr><td>val_mae</td><td>███▇▇▆▄▃▂▂▂▁▁▁▁▁▁▁▁▁▁▁▁▁▁▁▁▁▁▁</td></tr></table><br/></div><div class=\"wandb-col\">\n",
       "<h3>Run summary:</h3><br/><table class=\"wandb\"><tr><td>Mean Validation Loss (all folds)</td><td>669168288.0</td></tr><tr><td>Mean Validation MAE (all folds)</td><td>16137.4375</td></tr><tr><td>best_epoch</td><td>29</td></tr><tr><td>best_val_loss</td><td>674871680.0</td></tr><tr><td>epoch</td><td>29</td></tr><tr><td>loss</td><td>772176512.0</td></tr><tr><td>mae</td><td>17699.16602</td></tr><tr><td>val_loss</td><td>674871680.0</td></tr><tr><td>val_mae</td><td>16073.81836</td></tr></table>\n",
       "</div></div>\n",
       "Synced 5 W&B file(s), 0 media file(s), 0 artifact file(s) and 1 other file(s)\n",
       "<br/>Synced <strong style=\"color:#cdcd00\">lyric-sweep-5</strong>: <a href=\"https://wandb.ai/luiscostigan/house-price-prediction/runs/lhysn6az\" target=\"_blank\">https://wandb.ai/luiscostigan/house-price-prediction/runs/lhysn6az</a><br/>\n",
       "Find logs at: <code>./wandb/run-20220228_031932-lhysn6az/logs</code><br/>\n"
      ],
      "text/plain": [
       "<IPython.core.display.HTML object>"
      ]
     },
     "metadata": {},
     "output_type": "display_data"
    },
    {
     "data": {
      "text/html": [
       "\n",
       "                    Syncing run <strong><a href=\"https://wandb.ai/luiscostigan/house-price-prediction/runs/lhysn6az\" target=\"_blank\">lyric-sweep-5</a></strong> to <a href=\"https://wandb.ai/luiscostigan/house-price-prediction\" target=\"_blank\">Weights & Biases</a> (<a href=\"https://docs.wandb.com/integrations/jupyter.html\" target=\"_blank\">docs</a>).<br/>\n",
       "Sweep page: <a href=\"https://wandb.ai/luiscostigan/house-price-prediction/sweeps/cp52f928\" target=\"_blank\">https://wandb.ai/luiscostigan/house-price-prediction/sweeps/cp52f928</a><br/>\n",
       "\n",
       "                "
      ],
      "text/plain": [
       "<IPython.core.display.HTML object>"
      ]
     },
     "metadata": {},
     "output_type": "display_data"
    },
    {
     "name": "stdout",
     "output_type": "stream",
     "text": [
      "37/37 [==============================] - 0s 2ms/step - loss: 661735808.0000 - mae: 16048.3594\n",
      "Score for fold 3: loss of 661735808.0; mae of 16048.359375\n",
      "------------------------------------------------------------------------\n",
      "Score per fold\n",
      "------------------------------------------------------------------------\n",
      "> Fold 1 - Loss: 663464896.0 - Accuracy: 16201.0595703125%\n",
      "------------------------------------------------------------------------\n",
      "> Fold 2 - Loss: 674871680.0 - Accuracy: 16073.8154296875%\n",
      "------------------------------------------------------------------------\n",
      "> Fold 3 - Loss: 661735808.0 - Accuracy: 16048.359375%\n",
      "------------------------------------------------------------------------\n",
      "Average scores for all folds:\n",
      "> MAE: 16107.744791666666 (+- 66.7968992062451)\n",
      "> Loss: 666690794.6666666\n",
      "------------------------------------------------------------------------\n"
     ]
    },
    {
     "data": {
      "text/html": [
       "<br/>Waiting for W&B process to finish, PID 6330... <strong style=\"color:green\">(success).</strong>"
      ],
      "text/plain": [
       "<IPython.core.display.HTML object>"
      ]
     },
     "metadata": {},
     "output_type": "display_data"
    },
    {
     "data": {
      "application/vnd.jupyter.widget-view+json": {
       "model_id": "dbcb10ae5acf44beb2737834cca4522c",
       "version_major": 2,
       "version_minor": 0
      },
      "text/plain": [
       "VBox(children=(Label(value=' 2.45MB of 2.45MB uploaded (0.00MB deduped)\\r'), FloatProgress(value=1.0, max=1.0)…"
      ]
     },
     "metadata": {},
     "output_type": "display_data"
    },
    {
     "data": {
      "text/html": [
       "<style>\n",
       "    table.wandb td:nth-child(1) { padding: 0 10px; text-align: right }\n",
       "    .wandb-row { display: flex; flex-direction: row; flex-wrap: wrap; width: 100% }\n",
       "    .wandb-col { display: flex; flex-direction: column; flex-basis: 100%; flex: 1; padding: 10px; }\n",
       "    </style>\n",
       "<div class=\"wandb-row\"><div class=\"wandb-col\">\n",
       "<h3>Run history:</h3><br/><table class=\"wandb\"><tr><td>Mean Validation Loss (all folds)</td><td>▁</td></tr><tr><td>Mean Validation MAE (all folds)</td><td>▁</td></tr><tr><td>epoch</td><td>▁▁▁▂▂▂▂▃▃▃▃▄▄▄▄▅▅▅▅▆▆▆▆▇▇▇▇███</td></tr><tr><td>loss</td><td>███▇▆▅▄▃▂▁▁▁▁▁▁▁▁▁▁▁▁▁▁▁▁▁▁▁▁▁</td></tr><tr><td>mae</td><td>███▇▇▆▅▄▃▂▂▂▁▁▁▁▁▁▁▁▁▁▁▁▁▁▁▁▁▁</td></tr><tr><td>val_loss</td><td>██▇▇▆▅▃▂▂▁▁▁▁▁▁▁▁▁▁▁▁▁▁▁▁▁▁▁▁▁</td></tr><tr><td>val_mae</td><td>███▇▆▆▄▃▂▂▂▂▁▁▁▁▁▁▁▁▁▁▁▁▁▁▁▁▁▁</td></tr></table><br/></div><div class=\"wandb-col\">\n",
       "<h3>Run summary:</h3><br/><table class=\"wandb\"><tr><td>Mean Validation Loss (all folds)</td><td>666690794.66667</td></tr><tr><td>Mean Validation MAE (all folds)</td><td>16107.74479</td></tr><tr><td>best_epoch</td><td>29</td></tr><tr><td>best_val_loss</td><td>661735744.0</td></tr><tr><td>epoch</td><td>29</td></tr><tr><td>loss</td><td>718536896.0</td></tr><tr><td>mae</td><td>17062.82422</td></tr><tr><td>val_loss</td><td>661735744.0</td></tr><tr><td>val_mae</td><td>16048.35938</td></tr></table>\n",
       "</div></div>\n",
       "Synced 5 W&B file(s), 0 media file(s), 0 artifact file(s) and 1 other file(s)\n",
       "<br/>Synced <strong style=\"color:#cdcd00\">lyric-sweep-5</strong>: <a href=\"https://wandb.ai/luiscostigan/house-price-prediction/runs/lhysn6az\" target=\"_blank\">https://wandb.ai/luiscostigan/house-price-prediction/runs/lhysn6az</a><br/>\n",
       "Find logs at: <code>./wandb/run-20220228_031944-lhysn6az/logs</code><br/>\n"
      ],
      "text/plain": [
       "<IPython.core.display.HTML object>"
      ]
     },
     "metadata": {},
     "output_type": "display_data"
    },
    {
     "data": {
      "text/html": [
       "\n",
       "                    Syncing run <strong><a href=\"https://wandb.ai/luiscostigan/house-price-prediction/runs/lhysn6az\" target=\"_blank\">lyric-sweep-5</a></strong> to <a href=\"https://wandb.ai/luiscostigan/house-price-prediction\" target=\"_blank\">Weights & Biases</a> (<a href=\"https://docs.wandb.com/integrations/jupyter.html\" target=\"_blank\">docs</a>).<br/>\n",
       "Sweep page: <a href=\"https://wandb.ai/luiscostigan/house-price-prediction/sweeps/cp52f928\" target=\"_blank\">https://wandb.ai/luiscostigan/house-price-prediction/sweeps/cp52f928</a><br/>\n",
       "\n",
       "                "
      ],
      "text/plain": [
       "<IPython.core.display.HTML object>"
      ]
     },
     "metadata": {},
     "output_type": "display_data"
    },
    {
     "name": "stdout",
     "output_type": "stream",
     "text": [
      "37/37 [==============================] - 0s 2ms/step - loss: 673140224.0000 - mae: 16128.0342\n",
      "Score for fold 4: loss of 673140224.0; mae of 16128.0341796875\n",
      "------------------------------------------------------------------------\n",
      "Score per fold\n",
      "------------------------------------------------------------------------\n",
      "> Fold 1 - Loss: 663464896.0 - Accuracy: 16201.0595703125%\n",
      "------------------------------------------------------------------------\n",
      "> Fold 2 - Loss: 674871680.0 - Accuracy: 16073.8154296875%\n",
      "------------------------------------------------------------------------\n",
      "> Fold 3 - Loss: 661735808.0 - Accuracy: 16048.359375%\n",
      "------------------------------------------------------------------------\n",
      "> Fold 4 - Loss: 673140224.0 - Accuracy: 16128.0341796875%\n",
      "------------------------------------------------------------------------\n",
      "Average scores for all folds:\n",
      "> MAE: 16112.817138671875 (+- 58.51115637295754)\n",
      "> Loss: 668303152.0\n",
      "------------------------------------------------------------------------\n"
     ]
    },
    {
     "data": {
      "text/html": [
       "<br/>Waiting for W&B process to finish, PID 7104... <strong style=\"color:green\">(success).</strong>"
      ],
      "text/plain": [
       "<IPython.core.display.HTML object>"
      ]
     },
     "metadata": {},
     "output_type": "display_data"
    },
    {
     "data": {
      "application/vnd.jupyter.widget-view+json": {
       "model_id": "b8ac4f3bf3b44637bfd804ab98a32cee",
       "version_major": 2,
       "version_minor": 0
      },
      "text/plain": [
       "VBox(children=(Label(value=' 2.21MB of 2.45MB uploaded (0.00MB deduped)\\r'), FloatProgress(value=0.90242980021…"
      ]
     },
     "metadata": {},
     "output_type": "display_data"
    },
    {
     "data": {
      "text/html": [
       "<style>\n",
       "    table.wandb td:nth-child(1) { padding: 0 10px; text-align: right }\n",
       "    .wandb-row { display: flex; flex-direction: row; flex-wrap: wrap; width: 100% }\n",
       "    .wandb-col { display: flex; flex-direction: column; flex-basis: 100%; flex: 1; padding: 10px; }\n",
       "    </style>\n",
       "<div class=\"wandb-row\"><div class=\"wandb-col\">\n",
       "<h3>Run history:</h3><br/><table class=\"wandb\"><tr><td>Mean Validation Loss (all folds)</td><td>▁</td></tr><tr><td>Mean Validation MAE (all folds)</td><td>▁</td></tr><tr><td>epoch</td><td>▁▁▁▂▂▂▂▃▃▃▃▄▄▄▄▅▅▅▅▆▆▆▆▇▇▇▇███</td></tr><tr><td>loss</td><td>███▇▆▅▄▃▂▁▁▁▁▁▁▁▁▁▁▁▁▁▁▁▁▁▁▁▁▁</td></tr><tr><td>mae</td><td>███▇▇▆▅▄▃▂▂▂▁▁▁▁▁▁▁▁▁▁▁▁▁▁▁▁▁▁</td></tr><tr><td>val_loss</td><td>██▇▇▆▅▃▂▂▁▁▁▁▁▁▁▁▁▁▁▁▁▁▁▁▁▁▁▁▁</td></tr><tr><td>val_mae</td><td>███▇▇▆▄▃▂▂▂▁▂▁▁▁▁▁▁▁▁▁▁▁▁▁▁▁▁▁</td></tr></table><br/></div><div class=\"wandb-col\">\n",
       "<h3>Run summary:</h3><br/><table class=\"wandb\"><tr><td>Mean Validation Loss (all folds)</td><td>668303152.0</td></tr><tr><td>Mean Validation MAE (all folds)</td><td>16112.81714</td></tr><tr><td>best_epoch</td><td>29</td></tr><tr><td>best_val_loss</td><td>673140160.0</td></tr><tr><td>epoch</td><td>29</td></tr><tr><td>loss</td><td>753635136.0</td></tr><tr><td>mae</td><td>17554.1875</td></tr><tr><td>val_loss</td><td>673140160.0</td></tr><tr><td>val_mae</td><td>16128.03223</td></tr></table>\n",
       "</div></div>\n",
       "Synced 5 W&B file(s), 0 media file(s), 0 artifact file(s) and 1 other file(s)\n",
       "<br/>Synced <strong style=\"color:#cdcd00\">lyric-sweep-5</strong>: <a href=\"https://wandb.ai/luiscostigan/house-price-prediction/runs/lhysn6az\" target=\"_blank\">https://wandb.ai/luiscostigan/house-price-prediction/runs/lhysn6az</a><br/>\n",
       "Find logs at: <code>./wandb/run-20220228_031956-lhysn6az/logs</code><br/>\n"
      ],
      "text/plain": [
       "<IPython.core.display.HTML object>"
      ]
     },
     "metadata": {},
     "output_type": "display_data"
    },
    {
     "data": {
      "text/html": [
       "\n",
       "                    Syncing run <strong><a href=\"https://wandb.ai/luiscostigan/house-price-prediction/runs/lhysn6az\" target=\"_blank\">lyric-sweep-5</a></strong> to <a href=\"https://wandb.ai/luiscostigan/house-price-prediction\" target=\"_blank\">Weights & Biases</a> (<a href=\"https://docs.wandb.com/integrations/jupyter.html\" target=\"_blank\">docs</a>).<br/>\n",
       "Sweep page: <a href=\"https://wandb.ai/luiscostigan/house-price-prediction/sweeps/cp52f928\" target=\"_blank\">https://wandb.ai/luiscostigan/house-price-prediction/sweeps/cp52f928</a><br/>\n",
       "\n",
       "                "
      ],
      "text/plain": [
       "<IPython.core.display.HTML object>"
      ]
     },
     "metadata": {},
     "output_type": "display_data"
    },
    {
     "name": "stdout",
     "output_type": "stream",
     "text": [
      "37/37 [==============================] - 0s 2ms/step - loss: 662544128.0000 - mae: 16111.6982\n",
      "Score for fold 5: loss of 662544128.0; mae of 16111.6982421875\n",
      "------------------------------------------------------------------------\n",
      "Score per fold\n",
      "------------------------------------------------------------------------\n",
      "> Fold 1 - Loss: 663464896.0 - Accuracy: 16201.0595703125%\n",
      "------------------------------------------------------------------------\n",
      "> Fold 2 - Loss: 674871680.0 - Accuracy: 16073.8154296875%\n",
      "------------------------------------------------------------------------\n",
      "> Fold 3 - Loss: 661735808.0 - Accuracy: 16048.359375%\n",
      "------------------------------------------------------------------------\n",
      "> Fold 4 - Loss: 673140224.0 - Accuracy: 16128.0341796875%\n",
      "------------------------------------------------------------------------\n",
      "> Fold 5 - Loss: 662544128.0 - Accuracy: 16111.6982421875%\n",
      "------------------------------------------------------------------------\n",
      "Average scores for all folds:\n",
      "> MAE: 16112.593359375 (+- 52.335882955916496)\n",
      "> Loss: 667151347.2\n",
      "------------------------------------------------------------------------\n"
     ]
    },
    {
     "data": {
      "text/html": [
       "<br/>Waiting for W&B process to finish, PID 7883... <strong style=\"color:green\">(success).</strong>"
      ],
      "text/plain": [
       "<IPython.core.display.HTML object>"
      ]
     },
     "metadata": {},
     "output_type": "display_data"
    },
    {
     "data": {
      "application/vnd.jupyter.widget-view+json": {
       "model_id": "0ff3191539304b768a339f9dfdf8c586",
       "version_major": 2,
       "version_minor": 0
      },
      "text/plain": [
       "VBox(children=(Label(value=' 1.79MB of 2.45MB uploaded (0.00MB deduped)\\r'), FloatProgress(value=0.73031081319…"
      ]
     },
     "metadata": {},
     "output_type": "display_data"
    },
    {
     "data": {
      "text/html": [
       "<style>\n",
       "    table.wandb td:nth-child(1) { padding: 0 10px; text-align: right }\n",
       "    .wandb-row { display: flex; flex-direction: row; flex-wrap: wrap; width: 100% }\n",
       "    .wandb-col { display: flex; flex-direction: column; flex-basis: 100%; flex: 1; padding: 10px; }\n",
       "    </style>\n",
       "<div class=\"wandb-row\"><div class=\"wandb-col\">\n",
       "<h3>Run history:</h3><br/><table class=\"wandb\"><tr><td>Mean Validation Loss (all folds)</td><td>▁</td></tr><tr><td>Mean Validation MAE (all folds)</td><td>▁</td></tr><tr><td>epoch</td><td>▁▁▁▂▂▂▂▃▃▃▃▄▄▄▄▅▅▅▅▆▆▆▆▇▇▇▇███</td></tr><tr><td>loss</td><td>███▇▆▅▄▃▂▂▁▁▁▁▁▁▁▁▁▁▁▁▁▁▁▁▁▁▁▁</td></tr><tr><td>mae</td><td>███▇▇▆▅▄▃▂▂▂▁▁▁▁▁▁▁▁▁▁▁▁▁▁▁▁▁▁</td></tr><tr><td>val_loss</td><td>██▇▇▆▅▄▃▂▁▁▁▁▁▁▁▁▁▁▁▁▁▁▁▁▁▁▁▁▁</td></tr><tr><td>val_mae</td><td>███▇▇▆▅▃▂▂▂▂▁▁▁▁▁▁▁▁▁▁▁▁▁▁▁▁▁▁</td></tr></table><br/></div><div class=\"wandb-col\">\n",
       "<h3>Run summary:</h3><br/><table class=\"wandb\"><tr><td>Mean Validation Loss (all folds)</td><td>667151347.2</td></tr><tr><td>Mean Validation MAE (all folds)</td><td>16112.59336</td></tr><tr><td>best_epoch</td><td>29</td></tr><tr><td>best_val_loss</td><td>662544128.0</td></tr><tr><td>epoch</td><td>29</td></tr><tr><td>loss</td><td>777486592.0</td></tr><tr><td>mae</td><td>18129.46484</td></tr><tr><td>val_loss</td><td>662544128.0</td></tr><tr><td>val_mae</td><td>16111.7002</td></tr></table>\n",
       "</div></div>\n",
       "Synced 5 W&B file(s), 0 media file(s), 0 artifact file(s) and 1 other file(s)\n",
       "<br/>Synced <strong style=\"color:#cdcd00\">lyric-sweep-5</strong>: <a href=\"https://wandb.ai/luiscostigan/house-price-prediction/runs/lhysn6az\" target=\"_blank\">https://wandb.ai/luiscostigan/house-price-prediction/runs/lhysn6az</a><br/>\n",
       "Find logs at: <code>./wandb/run-20220228_032007-lhysn6az/logs</code><br/>\n"
      ],
      "text/plain": [
       "<IPython.core.display.HTML object>"
      ]
     },
     "metadata": {},
     "output_type": "display_data"
    },
    {
     "name": "stderr",
     "output_type": "stream",
     "text": [
      "\u001b[34m\u001b[1mwandb\u001b[0m: Agent Starting Run: dtdthptn with config:\n",
      "\u001b[34m\u001b[1mwandb\u001b[0m: \tbatch_size: 512\n",
      "\u001b[34m\u001b[1mwandb\u001b[0m: \tdropout1: 0.5335958145283571\n",
      "\u001b[34m\u001b[1mwandb\u001b[0m: \tepochs: 30\n"
     ]
    },
    {
     "data": {
      "text/html": [
       "\n",
       "                    Syncing run <strong><a href=\"https://wandb.ai/luiscostigan/house-price-prediction/runs/dtdthptn\" target=\"_blank\">robust-sweep-6</a></strong> to <a href=\"https://wandb.ai/luiscostigan/house-price-prediction\" target=\"_blank\">Weights & Biases</a> (<a href=\"https://docs.wandb.com/integrations/jupyter.html\" target=\"_blank\">docs</a>).<br/>\n",
       "Sweep page: <a href=\"https://wandb.ai/luiscostigan/house-price-prediction/sweeps/cp52f928\" target=\"_blank\">https://wandb.ai/luiscostigan/house-price-prediction/sweeps/cp52f928</a><br/>\n",
       "\n",
       "                "
      ],
      "text/plain": [
       "<IPython.core.display.HTML object>"
      ]
     },
     "metadata": {},
     "output_type": "display_data"
    },
    {
     "name": "stdout",
     "output_type": "stream",
     "text": [
      "37/37 [==============================] - 0s 2ms/step - loss: 4276367616.0000 - mae: 43194.8125\n",
      "Score for fold 1: loss of 4276367616.0; mae of 43194.8125\n",
      "------------------------------------------------------------------------\n",
      "Score per fold\n",
      "------------------------------------------------------------------------\n",
      "> Fold 1 - Loss: 4276367616.0 - Accuracy: 43194.8125%\n",
      "------------------------------------------------------------------------\n",
      "Average scores for all folds:\n",
      "> MAE: 43194.8125 (+- 0.0)\n",
      "> Loss: 4276367616.0\n",
      "------------------------------------------------------------------------\n"
     ]
    },
    {
     "data": {
      "text/html": [
       "<br/>Waiting for W&B process to finish, PID 8689... <strong style=\"color:green\">(success).</strong>"
      ],
      "text/plain": [
       "<IPython.core.display.HTML object>"
      ]
     },
     "metadata": {},
     "output_type": "display_data"
    },
    {
     "data": {
      "application/vnd.jupyter.widget-view+json": {
       "model_id": "b8d42d3328284191aeb8b1d4bd9c1deb",
       "version_major": 2,
       "version_minor": 0
      },
      "text/plain": [
       "VBox(children=(Label(value=' 0.00MB of 2.45MB uploaded (0.00MB deduped)\\r'), FloatProgress(value=0.00039882756…"
      ]
     },
     "metadata": {},
     "output_type": "display_data"
    },
    {
     "data": {
      "text/html": [
       "<style>\n",
       "    table.wandb td:nth-child(1) { padding: 0 10px; text-align: right }\n",
       "    .wandb-row { display: flex; flex-direction: row; flex-wrap: wrap; width: 100% }\n",
       "    .wandb-col { display: flex; flex-direction: column; flex-basis: 100%; flex: 1; padding: 10px; }\n",
       "    </style>\n",
       "<div class=\"wandb-row\"><div class=\"wandb-col\">\n",
       "<h3>Run history:</h3><br/><table class=\"wandb\"><tr><td>Mean Validation Loss (all folds)</td><td>▁</td></tr><tr><td>Mean Validation MAE (all folds)</td><td>▁</td></tr><tr><td>epoch</td><td>▁▁▁▂▂▂▂▃▃▃▃▄▄▄▄▅▅▅▅▆▆▆▆▇▇▇▇███</td></tr><tr><td>loss</td><td>█████████▇▇▇▇▇▆▆▆▅▅▅▄▄▃▃▃▂▂▂▁▁</td></tr><tr><td>mae</td><td>███████████▇▇▇▇▇▆▆▆▅▅▅▄▄▃▃▂▂▁▁</td></tr><tr><td>val_loss</td><td>█████████▇▇▇▇▆▆▆▆▅▅▄▄▄▃▃▂▂▂▁▁▁</td></tr><tr><td>val_mae</td><td>██████████▇▇▇▇▇▇▆▆▆▅▅▅▄▄▃▃▂▂▁▁</td></tr></table><br/></div><div class=\"wandb-col\">\n",
       "<h3>Run summary:</h3><br/><table class=\"wandb\"><tr><td>Mean Validation Loss (all folds)</td><td>4276367616.0</td></tr><tr><td>Mean Validation MAE (all folds)</td><td>43194.8125</td></tr><tr><td>best_epoch</td><td>29</td></tr><tr><td>best_val_loss</td><td>4276368128.0</td></tr><tr><td>epoch</td><td>29</td></tr><tr><td>loss</td><td>4968240128.0</td></tr><tr><td>mae</td><td>48673.25391</td></tr><tr><td>val_loss</td><td>4276368128.0</td></tr><tr><td>val_mae</td><td>43194.82031</td></tr></table>\n",
       "</div></div>\n",
       "Synced 5 W&B file(s), 0 media file(s), 0 artifact file(s) and 1 other file(s)\n",
       "<br/>Synced <strong style=\"color:#cdcd00\">robust-sweep-6</strong>: <a href=\"https://wandb.ai/luiscostigan/house-price-prediction/runs/dtdthptn\" target=\"_blank\">https://wandb.ai/luiscostigan/house-price-prediction/runs/dtdthptn</a><br/>\n",
       "Find logs at: <code>./wandb/run-20220228_032023-dtdthptn/logs</code><br/>\n"
      ],
      "text/plain": [
       "<IPython.core.display.HTML object>"
      ]
     },
     "metadata": {},
     "output_type": "display_data"
    },
    {
     "data": {
      "text/html": [
       "\n",
       "                    Syncing run <strong><a href=\"https://wandb.ai/luiscostigan/house-price-prediction/runs/dtdthptn\" target=\"_blank\">robust-sweep-6</a></strong> to <a href=\"https://wandb.ai/luiscostigan/house-price-prediction\" target=\"_blank\">Weights & Biases</a> (<a href=\"https://docs.wandb.com/integrations/jupyter.html\" target=\"_blank\">docs</a>).<br/>\n",
       "Sweep page: <a href=\"https://wandb.ai/luiscostigan/house-price-prediction/sweeps/cp52f928\" target=\"_blank\">https://wandb.ai/luiscostigan/house-price-prediction/sweeps/cp52f928</a><br/>\n",
       "\n",
       "                "
      ],
      "text/plain": [
       "<IPython.core.display.HTML object>"
      ]
     },
     "metadata": {},
     "output_type": "display_data"
    },
    {
     "name": "stdout",
     "output_type": "stream",
     "text": [
      "37/37 [==============================] - 0s 2ms/step - loss: 3326909440.0000 - mae: 35603.3164\n",
      "Score for fold 2: loss of 3326909440.0; mae of 35603.31640625\n",
      "------------------------------------------------------------------------\n",
      "Score per fold\n",
      "------------------------------------------------------------------------\n",
      "> Fold 1 - Loss: 4276367616.0 - Accuracy: 43194.8125%\n",
      "------------------------------------------------------------------------\n",
      "> Fold 2 - Loss: 3326909440.0 - Accuracy: 35603.31640625%\n",
      "------------------------------------------------------------------------\n",
      "Average scores for all folds:\n",
      "> MAE: 39399.064453125 (+- 3795.748046875)\n",
      "> Loss: 3801638528.0\n",
      "------------------------------------------------------------------------\n"
     ]
    },
    {
     "data": {
      "text/html": [
       "<br/>Waiting for W&B process to finish, PID 9443... <strong style=\"color:green\">(success).</strong>"
      ],
      "text/plain": [
       "<IPython.core.display.HTML object>"
      ]
     },
     "metadata": {},
     "output_type": "display_data"
    },
    {
     "data": {
      "application/vnd.jupyter.widget-view+json": {
       "model_id": "cca8ddbae0c14b69a6fae8b6a9781e95",
       "version_major": 2,
       "version_minor": 0
      },
      "text/plain": [
       "VBox(children=(Label(value=' 0.69MB of 2.45MB uploaded (0.00MB deduped)\\r'), FloatProgress(value=0.28088901374…"
      ]
     },
     "metadata": {},
     "output_type": "display_data"
    },
    {
     "data": {
      "text/html": [
       "<style>\n",
       "    table.wandb td:nth-child(1) { padding: 0 10px; text-align: right }\n",
       "    .wandb-row { display: flex; flex-direction: row; flex-wrap: wrap; width: 100% }\n",
       "    .wandb-col { display: flex; flex-direction: column; flex-basis: 100%; flex: 1; padding: 10px; }\n",
       "    </style>\n",
       "<div class=\"wandb-row\"><div class=\"wandb-col\">\n",
       "<h3>Run history:</h3><br/><table class=\"wandb\"><tr><td>Mean Validation Loss (all folds)</td><td>▁</td></tr><tr><td>Mean Validation MAE (all folds)</td><td>▁</td></tr><tr><td>epoch</td><td>▁▁▁▂▂▂▂▃▃▃▃▄▄▄▄▅▅▅▅▆▆▆▆▇▇▇▇███</td></tr><tr><td>loss</td><td>█████████▇▇▇▇▇▆▆▆▅▅▄▄▄▃▃▂▂▂▁▁▁</td></tr><tr><td>mae</td><td>███████████▇▇▇▇▇▆▆▆▅▅▅▄▄▃▃▂▂▁▁</td></tr><tr><td>val_loss</td><td>████████▇▇▇▇▇▆▆▆▅▅▅▄▄▃▃▃▂▂▂▁▁▁</td></tr><tr><td>val_mae</td><td>██████████▇▇▇▇▇▆▆▆▆▅▅▄▄▄▃▃▂▂▁▁</td></tr></table><br/></div><div class=\"wandb-col\">\n",
       "<h3>Run summary:</h3><br/><table class=\"wandb\"><tr><td>Mean Validation Loss (all folds)</td><td>3801638528.0</td></tr><tr><td>Mean Validation MAE (all folds)</td><td>39399.06445</td></tr><tr><td>best_epoch</td><td>29</td></tr><tr><td>best_val_loss</td><td>3326909440.0</td></tr><tr><td>epoch</td><td>29</td></tr><tr><td>loss</td><td>3931038208.0</td></tr><tr><td>mae</td><td>40575.89453</td></tr><tr><td>val_loss</td><td>3326909440.0</td></tr><tr><td>val_mae</td><td>35603.31641</td></tr></table>\n",
       "</div></div>\n",
       "Synced 5 W&B file(s), 0 media file(s), 0 artifact file(s) and 1 other file(s)\n",
       "<br/>Synced <strong style=\"color:#cdcd00\">robust-sweep-6</strong>: <a href=\"https://wandb.ai/luiscostigan/house-price-prediction/runs/dtdthptn\" target=\"_blank\">https://wandb.ai/luiscostigan/house-price-prediction/runs/dtdthptn</a><br/>\n",
       "Find logs at: <code>./wandb/run-20220228_032034-dtdthptn/logs</code><br/>\n"
      ],
      "text/plain": [
       "<IPython.core.display.HTML object>"
      ]
     },
     "metadata": {},
     "output_type": "display_data"
    },
    {
     "data": {
      "text/html": [
       "\n",
       "                    Syncing run <strong><a href=\"https://wandb.ai/luiscostigan/house-price-prediction/runs/dtdthptn\" target=\"_blank\">robust-sweep-6</a></strong> to <a href=\"https://wandb.ai/luiscostigan/house-price-prediction\" target=\"_blank\">Weights & Biases</a> (<a href=\"https://docs.wandb.com/integrations/jupyter.html\" target=\"_blank\">docs</a>).<br/>\n",
       "Sweep page: <a href=\"https://wandb.ai/luiscostigan/house-price-prediction/sweeps/cp52f928\" target=\"_blank\">https://wandb.ai/luiscostigan/house-price-prediction/sweeps/cp52f928</a><br/>\n",
       "\n",
       "                "
      ],
      "text/plain": [
       "<IPython.core.display.HTML object>"
      ]
     },
     "metadata": {},
     "output_type": "display_data"
    },
    {
     "name": "stdout",
     "output_type": "stream",
     "text": [
      "37/37 [==============================] - 0s 2ms/step - loss: 3278102272.0000 - mae: 34774.3633\n",
      "Score for fold 3: loss of 3278102272.0; mae of 34774.36328125\n",
      "------------------------------------------------------------------------\n",
      "Score per fold\n",
      "------------------------------------------------------------------------\n",
      "> Fold 1 - Loss: 4276367616.0 - Accuracy: 43194.8125%\n",
      "------------------------------------------------------------------------\n",
      "> Fold 2 - Loss: 3326909440.0 - Accuracy: 35603.31640625%\n",
      "------------------------------------------------------------------------\n",
      "> Fold 3 - Loss: 3278102272.0 - Accuracy: 34774.36328125%\n",
      "------------------------------------------------------------------------\n",
      "Average scores for all folds:\n",
      "> MAE: 37857.497395833336 (+- 3789.194304135207)\n",
      "> Loss: 3627126442.6666665\n",
      "------------------------------------------------------------------------\n"
     ]
    },
    {
     "data": {
      "text/html": [
       "<br/>Waiting for W&B process to finish, PID 10203... <strong style=\"color:green\">(success).</strong>"
      ],
      "text/plain": [
       "<IPython.core.display.HTML object>"
      ]
     },
     "metadata": {},
     "output_type": "display_data"
    },
    {
     "data": {
      "application/vnd.jupyter.widget-view+json": {
       "model_id": "301b83582f6d49be861f958412191161",
       "version_major": 2,
       "version_minor": 0
      },
      "text/plain": [
       "VBox(children=(Label(value=' 2.45MB of 2.45MB uploaded (0.00MB deduped)\\r'), FloatProgress(value=1.0, max=1.0)…"
      ]
     },
     "metadata": {},
     "output_type": "display_data"
    },
    {
     "data": {
      "text/html": [
       "<style>\n",
       "    table.wandb td:nth-child(1) { padding: 0 10px; text-align: right }\n",
       "    .wandb-row { display: flex; flex-direction: row; flex-wrap: wrap; width: 100% }\n",
       "    .wandb-col { display: flex; flex-direction: column; flex-basis: 100%; flex: 1; padding: 10px; }\n",
       "    </style>\n",
       "<div class=\"wandb-row\"><div class=\"wandb-col\">\n",
       "<h3>Run history:</h3><br/><table class=\"wandb\"><tr><td>Mean Validation Loss (all folds)</td><td>▁</td></tr><tr><td>Mean Validation MAE (all folds)</td><td>▁</td></tr><tr><td>epoch</td><td>▁▁▁▂▂▂▂▃▃▃▃▄▄▄▄▅▅▅▅▆▆▆▆▇▇▇▇███</td></tr><tr><td>loss</td><td>█████████▇▇▇▇▇▆▆▆▅▅▄▄▄▃▃▂▂▂▁▁▁</td></tr><tr><td>mae</td><td>██████████▇▇▇▇▇▇▆▆▆▅▅▅▄▄▃▃▂▂▁▁</td></tr><tr><td>val_loss</td><td>████████▇▇▇▇▇▆▆▆▅▅▅▄▄▃▃▃▂▂▂▁▁▁</td></tr><tr><td>val_mae</td><td>██████████▇▇▇▇▇▆▆▆▅▅▅▄▄▃▃▃▂▂▁▁</td></tr></table><br/></div><div class=\"wandb-col\">\n",
       "<h3>Run summary:</h3><br/><table class=\"wandb\"><tr><td>Mean Validation Loss (all folds)</td><td>3627126442.66667</td></tr><tr><td>Mean Validation MAE (all folds)</td><td>37857.4974</td></tr><tr><td>best_epoch</td><td>29</td></tr><tr><td>best_val_loss</td><td>3278102528.0</td></tr><tr><td>epoch</td><td>29</td></tr><tr><td>loss</td><td>3825068288.0</td></tr><tr><td>mae</td><td>39158.60938</td></tr><tr><td>val_loss</td><td>3278102528.0</td></tr><tr><td>val_mae</td><td>34774.36328</td></tr></table>\n",
       "</div></div>\n",
       "Synced 5 W&B file(s), 0 media file(s), 0 artifact file(s) and 1 other file(s)\n",
       "<br/>Synced <strong style=\"color:#cdcd00\">robust-sweep-6</strong>: <a href=\"https://wandb.ai/luiscostigan/house-price-prediction/runs/dtdthptn\" target=\"_blank\">https://wandb.ai/luiscostigan/house-price-prediction/runs/dtdthptn</a><br/>\n",
       "Find logs at: <code>./wandb/run-20220228_032044-dtdthptn/logs</code><br/>\n"
      ],
      "text/plain": [
       "<IPython.core.display.HTML object>"
      ]
     },
     "metadata": {},
     "output_type": "display_data"
    },
    {
     "data": {
      "text/html": [
       "\n",
       "                    Syncing run <strong><a href=\"https://wandb.ai/luiscostigan/house-price-prediction/runs/dtdthptn\" target=\"_blank\">robust-sweep-6</a></strong> to <a href=\"https://wandb.ai/luiscostigan/house-price-prediction\" target=\"_blank\">Weights & Biases</a> (<a href=\"https://docs.wandb.com/integrations/jupyter.html\" target=\"_blank\">docs</a>).<br/>\n",
       "Sweep page: <a href=\"https://wandb.ai/luiscostigan/house-price-prediction/sweeps/cp52f928\" target=\"_blank\">https://wandb.ai/luiscostigan/house-price-prediction/sweeps/cp52f928</a><br/>\n",
       "\n",
       "                "
      ],
      "text/plain": [
       "<IPython.core.display.HTML object>"
      ]
     },
     "metadata": {},
     "output_type": "display_data"
    },
    {
     "name": "stdout",
     "output_type": "stream",
     "text": [
      "37/37 [==============================] - 0s 2ms/step - loss: 3418878976.0000 - mae: 36122.5742\n",
      "Score for fold 4: loss of 3418878976.0; mae of 36122.57421875\n",
      "------------------------------------------------------------------------\n",
      "Score per fold\n",
      "------------------------------------------------------------------------\n",
      "> Fold 1 - Loss: 4276367616.0 - Accuracy: 43194.8125%\n",
      "------------------------------------------------------------------------\n",
      "> Fold 2 - Loss: 3326909440.0 - Accuracy: 35603.31640625%\n",
      "------------------------------------------------------------------------\n",
      "> Fold 3 - Loss: 3278102272.0 - Accuracy: 34774.36328125%\n",
      "------------------------------------------------------------------------\n",
      "> Fold 4 - Loss: 3418878976.0 - Accuracy: 36122.57421875%\n",
      "------------------------------------------------------------------------\n",
      "Average scores for all folds:\n",
      "> MAE: 37423.7666015625 (+- 3366.4316882367366)\n",
      "> Loss: 3575064576.0\n",
      "------------------------------------------------------------------------\n"
     ]
    },
    {
     "data": {
      "text/html": [
       "<br/>Waiting for W&B process to finish, PID 10980... <strong style=\"color:green\">(success).</strong>"
      ],
      "text/plain": [
       "<IPython.core.display.HTML object>"
      ]
     },
     "metadata": {},
     "output_type": "display_data"
    },
    {
     "data": {
      "application/vnd.jupyter.widget-view+json": {
       "model_id": "ee446114fbc7408db8858dcd9cebff74",
       "version_major": 2,
       "version_minor": 0
      },
      "text/plain": [
       "VBox(children=(Label(value=' 0.60MB of 2.45MB uploaded (0.00MB deduped)\\r'), FloatProgress(value=0.24582773860…"
      ]
     },
     "metadata": {},
     "output_type": "display_data"
    },
    {
     "data": {
      "text/html": [
       "<style>\n",
       "    table.wandb td:nth-child(1) { padding: 0 10px; text-align: right }\n",
       "    .wandb-row { display: flex; flex-direction: row; flex-wrap: wrap; width: 100% }\n",
       "    .wandb-col { display: flex; flex-direction: column; flex-basis: 100%; flex: 1; padding: 10px; }\n",
       "    </style>\n",
       "<div class=\"wandb-row\"><div class=\"wandb-col\">\n",
       "<h3>Run history:</h3><br/><table class=\"wandb\"><tr><td>Mean Validation Loss (all folds)</td><td>▁</td></tr><tr><td>Mean Validation MAE (all folds)</td><td>▁</td></tr><tr><td>epoch</td><td>▁▁▁▂▂▂▂▃▃▃▃▄▄▄▄▅▅▅▅▆▆▆▆▇▇▇▇███</td></tr><tr><td>loss</td><td>█████████▇▇▇▇▇▆▆▆▅▅▄▄▄▃▃▂▂▂▁▁▁</td></tr><tr><td>mae</td><td>███████████▇▇▇▇▇▆▆▆▅▅▅▄▄▃▃▂▂▁▁</td></tr><tr><td>val_loss</td><td>████████▇▇▇▇▇▆▆▆▅▅▅▄▄▃▃▃▂▂▂▁▁▁</td></tr><tr><td>val_mae</td><td>██████████▇▇▇▇▇▆▆▆▅▅▅▄▄▃▃▃▂▂▁▁</td></tr></table><br/></div><div class=\"wandb-col\">\n",
       "<h3>Run summary:</h3><br/><table class=\"wandb\"><tr><td>Mean Validation Loss (all folds)</td><td>3575064576.0</td></tr><tr><td>Mean Validation MAE (all folds)</td><td>37423.7666</td></tr><tr><td>best_epoch</td><td>29</td></tr><tr><td>best_val_loss</td><td>3418878976.0</td></tr><tr><td>epoch</td><td>29</td></tr><tr><td>loss</td><td>3969413632.0</td></tr><tr><td>mae</td><td>40498.81641</td></tr><tr><td>val_loss</td><td>3418878976.0</td></tr><tr><td>val_mae</td><td>36122.57031</td></tr></table>\n",
       "</div></div>\n",
       "Synced 5 W&B file(s), 0 media file(s), 0 artifact file(s) and 1 other file(s)\n",
       "<br/>Synced <strong style=\"color:#cdcd00\">robust-sweep-6</strong>: <a href=\"https://wandb.ai/luiscostigan/house-price-prediction/runs/dtdthptn\" target=\"_blank\">https://wandb.ai/luiscostigan/house-price-prediction/runs/dtdthptn</a><br/>\n",
       "Find logs at: <code>./wandb/run-20220228_032056-dtdthptn/logs</code><br/>\n"
      ],
      "text/plain": [
       "<IPython.core.display.HTML object>"
      ]
     },
     "metadata": {},
     "output_type": "display_data"
    },
    {
     "data": {
      "text/html": [
       "\n",
       "                    Syncing run <strong><a href=\"https://wandb.ai/luiscostigan/house-price-prediction/runs/dtdthptn\" target=\"_blank\">robust-sweep-6</a></strong> to <a href=\"https://wandb.ai/luiscostigan/house-price-prediction\" target=\"_blank\">Weights & Biases</a> (<a href=\"https://docs.wandb.com/integrations/jupyter.html\" target=\"_blank\">docs</a>).<br/>\n",
       "Sweep page: <a href=\"https://wandb.ai/luiscostigan/house-price-prediction/sweeps/cp52f928\" target=\"_blank\">https://wandb.ai/luiscostigan/house-price-prediction/sweeps/cp52f928</a><br/>\n",
       "\n",
       "                "
      ],
      "text/plain": [
       "<IPython.core.display.HTML object>"
      ]
     },
     "metadata": {},
     "output_type": "display_data"
    },
    {
     "name": "stdout",
     "output_type": "stream",
     "text": [
      "37/37 [==============================] - 0s 2ms/step - loss: 3432199936.0000 - mae: 36273.9805\n",
      "Score for fold 5: loss of 3432199936.0; mae of 36273.98046875\n",
      "------------------------------------------------------------------------\n",
      "Score per fold\n",
      "------------------------------------------------------------------------\n",
      "> Fold 1 - Loss: 4276367616.0 - Accuracy: 43194.8125%\n",
      "------------------------------------------------------------------------\n",
      "> Fold 2 - Loss: 3326909440.0 - Accuracy: 35603.31640625%\n",
      "------------------------------------------------------------------------\n",
      "> Fold 3 - Loss: 3278102272.0 - Accuracy: 34774.36328125%\n",
      "------------------------------------------------------------------------\n",
      "> Fold 4 - Loss: 3418878976.0 - Accuracy: 36122.57421875%\n",
      "------------------------------------------------------------------------\n",
      "> Fold 5 - Loss: 3432199936.0 - Accuracy: 36273.98046875%\n",
      "------------------------------------------------------------------------\n",
      "Average scores for all folds:\n",
      "> MAE: 37193.809375 (+- 3045.9499591169947)\n",
      "> Loss: 3546491648.0\n",
      "------------------------------------------------------------------------\n"
     ]
    },
    {
     "data": {
      "text/html": [
       "<br/>Waiting for W&B process to finish, PID 11746... <strong style=\"color:green\">(success).</strong>"
      ],
      "text/plain": [
       "<IPython.core.display.HTML object>"
      ]
     },
     "metadata": {},
     "output_type": "display_data"
    },
    {
     "data": {
      "application/vnd.jupyter.widget-view+json": {
       "model_id": "2f2404f44d444da4bdda04ae9cb07569",
       "version_major": 2,
       "version_minor": 0
      },
      "text/plain": [
       "VBox(children=(Label(value=' 1.09MB of 2.45MB uploaded (0.00MB deduped)\\r'), FloatProgress(value=0.44663322346…"
      ]
     },
     "metadata": {},
     "output_type": "display_data"
    },
    {
     "data": {
      "text/html": [
       "<style>\n",
       "    table.wandb td:nth-child(1) { padding: 0 10px; text-align: right }\n",
       "    .wandb-row { display: flex; flex-direction: row; flex-wrap: wrap; width: 100% }\n",
       "    .wandb-col { display: flex; flex-direction: column; flex-basis: 100%; flex: 1; padding: 10px; }\n",
       "    </style>\n",
       "<div class=\"wandb-row\"><div class=\"wandb-col\">\n",
       "<h3>Run history:</h3><br/><table class=\"wandb\"><tr><td>Mean Validation Loss (all folds)</td><td>▁</td></tr><tr><td>Mean Validation MAE (all folds)</td><td>▁</td></tr><tr><td>epoch</td><td>▁▁▁▂▂▂▂▃▃▃▃▄▄▄▄▅▅▅▅▆▆▆▆▇▇▇▇███</td></tr><tr><td>loss</td><td>█████████▇▇▇▇▇▆▆▆▅▅▄▄▄▃▃▂▂▂▁▁▁</td></tr><tr><td>mae</td><td>███████████▇▇▇▇▇▆▆▆▅▅▅▄▄▃▃▂▂▁▁</td></tr><tr><td>val_loss</td><td>████████▇▇▇▇▇▆▆▆▅▅▅▄▄▃▃▃▂▂▂▁▁▁</td></tr><tr><td>val_mae</td><td>██████████▇▇▇▇▇▆▆▆▆▅▅▄▄▄▃▃▂▂▁▁</td></tr></table><br/></div><div class=\"wandb-col\">\n",
       "<h3>Run summary:</h3><br/><table class=\"wandb\"><tr><td>Mean Validation Loss (all folds)</td><td>3546491648.0</td></tr><tr><td>Mean Validation MAE (all folds)</td><td>37193.80937</td></tr><tr><td>best_epoch</td><td>29</td></tr><tr><td>best_val_loss</td><td>3432199936.0</td></tr><tr><td>epoch</td><td>29</td></tr><tr><td>loss</td><td>4019354624.0</td></tr><tr><td>mae</td><td>41337.71875</td></tr><tr><td>val_loss</td><td>3432199936.0</td></tr><tr><td>val_mae</td><td>36273.98438</td></tr></table>\n",
       "</div></div>\n",
       "Synced 5 W&B file(s), 0 media file(s), 0 artifact file(s) and 1 other file(s)\n",
       "<br/>Synced <strong style=\"color:#cdcd00\">robust-sweep-6</strong>: <a href=\"https://wandb.ai/luiscostigan/house-price-prediction/runs/dtdthptn\" target=\"_blank\">https://wandb.ai/luiscostigan/house-price-prediction/runs/dtdthptn</a><br/>\n",
       "Find logs at: <code>./wandb/run-20220228_032106-dtdthptn/logs</code><br/>\n"
      ],
      "text/plain": [
       "<IPython.core.display.HTML object>"
      ]
     },
     "metadata": {},
     "output_type": "display_data"
    },
    {
     "name": "stderr",
     "output_type": "stream",
     "text": [
      "\u001b[34m\u001b[1mwandb\u001b[0m: Agent Starting Run: 6ncf2m6j with config:\n",
      "\u001b[34m\u001b[1mwandb\u001b[0m: \tbatch_size: 512\n",
      "\u001b[34m\u001b[1mwandb\u001b[0m: \tdropout1: 0.5722840774695895\n",
      "\u001b[34m\u001b[1mwandb\u001b[0m: \tepochs: 50\n"
     ]
    },
    {
     "data": {
      "text/html": [
       "\n",
       "                    Syncing run <strong><a href=\"https://wandb.ai/luiscostigan/house-price-prediction/runs/6ncf2m6j\" target=\"_blank\">noble-sweep-7</a></strong> to <a href=\"https://wandb.ai/luiscostigan/house-price-prediction\" target=\"_blank\">Weights & Biases</a> (<a href=\"https://docs.wandb.com/integrations/jupyter.html\" target=\"_blank\">docs</a>).<br/>\n",
       "Sweep page: <a href=\"https://wandb.ai/luiscostigan/house-price-prediction/sweeps/cp52f928\" target=\"_blank\">https://wandb.ai/luiscostigan/house-price-prediction/sweeps/cp52f928</a><br/>\n",
       "\n",
       "                "
      ],
      "text/plain": [
       "<IPython.core.display.HTML object>"
      ]
     },
     "metadata": {},
     "output_type": "display_data"
    },
    {
     "name": "stdout",
     "output_type": "stream",
     "text": [
      "37/37 [==============================] - 0s 2ms/step - loss: 1078591232.0000 - mae: 20849.4121\n",
      "Score for fold 1: loss of 1078591232.0; mae of 20849.412109375\n",
      "------------------------------------------------------------------------\n",
      "Score per fold\n",
      "------------------------------------------------------------------------\n",
      "> Fold 1 - Loss: 1078591232.0 - Accuracy: 20849.412109375%\n",
      "------------------------------------------------------------------------\n",
      "Average scores for all folds:\n",
      "> MAE: 20849.412109375 (+- 0.0)\n",
      "> Loss: 1078591232.0\n",
      "------------------------------------------------------------------------\n"
     ]
    },
    {
     "data": {
      "text/html": [
       "<br/>Waiting for W&B process to finish, PID 12549... <strong style=\"color:green\">(success).</strong>"
      ],
      "text/plain": [
       "<IPython.core.display.HTML object>"
      ]
     },
     "metadata": {},
     "output_type": "display_data"
    },
    {
     "data": {
      "application/vnd.jupyter.widget-view+json": {
       "model_id": "5d4229f1e9ed4f4d9a9148954174f816",
       "version_major": 2,
       "version_minor": 0
      },
      "text/plain": [
       "VBox(children=(Label(value=' 1.21MB of 2.45MB uploaded (0.00MB deduped)\\r'), FloatProgress(value=0.49446252246…"
      ]
     },
     "metadata": {},
     "output_type": "display_data"
    },
    {
     "data": {
      "text/html": [
       "<style>\n",
       "    table.wandb td:nth-child(1) { padding: 0 10px; text-align: right }\n",
       "    .wandb-row { display: flex; flex-direction: row; flex-wrap: wrap; width: 100% }\n",
       "    .wandb-col { display: flex; flex-direction: column; flex-basis: 100%; flex: 1; padding: 10px; }\n",
       "    </style>\n",
       "<div class=\"wandb-row\"><div class=\"wandb-col\">\n",
       "<h3>Run history:</h3><br/><table class=\"wandb\"><tr><td>Mean Validation Loss (all folds)</td><td>▁</td></tr><tr><td>Mean Validation MAE (all folds)</td><td>▁</td></tr><tr><td>epoch</td><td>▁▁▁▁▂▂▂▂▂▃▃▃▃▃▃▄▄▄▄▄▅▅▅▅▅▅▆▆▆▆▆▆▇▇▇▇▇███</td></tr><tr><td>loss</td><td>████████▇▇▇▇▆▆▆▅▄▄▄▃▃▂▂▂▁▁▁▁▁▁▁▁▁▁▁▁▁▁▁▁</td></tr><tr><td>mae</td><td>█████████▇▇▇▇▇▆▆▅▅▅▄▃▃▃▂▂▁▁▁▁▁▁▁▁▁▁▁▁▁▁▁</td></tr><tr><td>val_loss</td><td>████████▇▇▇▆▆▆▅▅▄▄▃▃▂▂▂▂▁▁▁▁▁▁▁▁▁▁▁▁▁▁▁▁</td></tr><tr><td>val_mae</td><td>████████▇▇▇▇▇▆▆▆▅▅▄▄▃▃▂▂▂▁▁▁▁▁▁▁▁▁▁▁▁▁▁▁</td></tr></table><br/></div><div class=\"wandb-col\">\n",
       "<h3>Run summary:</h3><br/><table class=\"wandb\"><tr><td>Mean Validation Loss (all folds)</td><td>1078591232.0</td></tr><tr><td>Mean Validation MAE (all folds)</td><td>20849.41211</td></tr><tr><td>best_epoch</td><td>49</td></tr><tr><td>best_val_loss</td><td>1078591104.0</td></tr><tr><td>epoch</td><td>49</td></tr><tr><td>loss</td><td>1195886336.0</td></tr><tr><td>mae</td><td>22840.87695</td></tr><tr><td>val_loss</td><td>1078591104.0</td></tr><tr><td>val_mae</td><td>20849.41016</td></tr></table>\n",
       "</div></div>\n",
       "Synced 5 W&B file(s), 0 media file(s), 0 artifact file(s) and 1 other file(s)\n",
       "<br/>Synced <strong style=\"color:#cdcd00\">noble-sweep-7</strong>: <a href=\"https://wandb.ai/luiscostigan/house-price-prediction/runs/6ncf2m6j\" target=\"_blank\">https://wandb.ai/luiscostigan/house-price-prediction/runs/6ncf2m6j</a><br/>\n",
       "Find logs at: <code>./wandb/run-20220228_032121-6ncf2m6j/logs</code><br/>\n"
      ],
      "text/plain": [
       "<IPython.core.display.HTML object>"
      ]
     },
     "metadata": {},
     "output_type": "display_data"
    },
    {
     "data": {
      "text/html": [
       "\n",
       "                    Syncing run <strong><a href=\"https://wandb.ai/luiscostigan/house-price-prediction/runs/6ncf2m6j\" target=\"_blank\">noble-sweep-7</a></strong> to <a href=\"https://wandb.ai/luiscostigan/house-price-prediction\" target=\"_blank\">Weights & Biases</a> (<a href=\"https://docs.wandb.com/integrations/jupyter.html\" target=\"_blank\">docs</a>).<br/>\n",
       "Sweep page: <a href=\"https://wandb.ai/luiscostigan/house-price-prediction/sweeps/cp52f928\" target=\"_blank\">https://wandb.ai/luiscostigan/house-price-prediction/sweeps/cp52f928</a><br/>\n",
       "\n",
       "                "
      ],
      "text/plain": [
       "<IPython.core.display.HTML object>"
      ]
     },
     "metadata": {},
     "output_type": "display_data"
    },
    {
     "name": "stdout",
     "output_type": "stream",
     "text": [
      "37/37 [==============================] - 0s 2ms/step - loss: 1028277440.0000 - mae: 21146.2148\n",
      "Score for fold 2: loss of 1028277440.0; mae of 21146.21484375\n",
      "------------------------------------------------------------------------\n",
      "Score per fold\n",
      "------------------------------------------------------------------------\n",
      "> Fold 1 - Loss: 1078591232.0 - Accuracy: 20849.412109375%\n",
      "------------------------------------------------------------------------\n",
      "> Fold 2 - Loss: 1028277440.0 - Accuracy: 21146.21484375%\n",
      "------------------------------------------------------------------------\n",
      "Average scores for all folds:\n",
      "> MAE: 20997.8134765625 (+- 148.4013671875)\n",
      "> Loss: 1053434336.0\n",
      "------------------------------------------------------------------------\n"
     ]
    },
    {
     "data": {
      "text/html": [
       "<br/>Waiting for W&B process to finish, PID 13714... <strong style=\"color:green\">(success).</strong>"
      ],
      "text/plain": [
       "<IPython.core.display.HTML object>"
      ]
     },
     "metadata": {},
     "output_type": "display_data"
    },
    {
     "data": {
      "application/vnd.jupyter.widget-view+json": {
       "model_id": "cf3a6909dc38450f83d9dc800463abc4",
       "version_major": 2,
       "version_minor": 0
      },
      "text/plain": [
       "VBox(children=(Label(value=' 1.16MB of 2.45MB uploaded (0.00MB deduped)\\r'), FloatProgress(value=0.47213233265…"
      ]
     },
     "metadata": {},
     "output_type": "display_data"
    },
    {
     "data": {
      "text/html": [
       "<style>\n",
       "    table.wandb td:nth-child(1) { padding: 0 10px; text-align: right }\n",
       "    .wandb-row { display: flex; flex-direction: row; flex-wrap: wrap; width: 100% }\n",
       "    .wandb-col { display: flex; flex-direction: column; flex-basis: 100%; flex: 1; padding: 10px; }\n",
       "    </style>\n",
       "<div class=\"wandb-row\"><div class=\"wandb-col\">\n",
       "<h3>Run history:</h3><br/><table class=\"wandb\"><tr><td>Mean Validation Loss (all folds)</td><td>▁</td></tr><tr><td>Mean Validation MAE (all folds)</td><td>▁</td></tr><tr><td>epoch</td><td>▁▁▁▁▂▂▂▂▂▃▃▃▃▃▃▄▄▄▄▄▅▅▅▅▅▅▆▆▆▆▆▆▇▇▇▇▇███</td></tr><tr><td>loss</td><td>████████▇▇▇▇▆▆▆▅▅▄▄▃▃▂▂▂▁▁▁▁▁▁▁▁▁▁▁▁▁▁▁▁</td></tr><tr><td>mae</td><td>█████████▇▇▇▇▇▆▆▅▅▅▄▄▃▃▂▂▁▁▁▁▁▁▁▁▁▁▁▁▁▁▁</td></tr><tr><td>val_loss</td><td>████████▇▇▇▇▆▆▅▅▄▄▃▃▂▂▂▂▁▁▁▁▁▁▁▁▁▁▁▁▁▁▁▁</td></tr><tr><td>val_mae</td><td>█████████▇▇▇▇▆▆▆▅▅▅▄▃▃▃▂▂▁▁▁▁▁▁▁▁▁▁▁▁▁▁▁</td></tr></table><br/></div><div class=\"wandb-col\">\n",
       "<h3>Run summary:</h3><br/><table class=\"wandb\"><tr><td>Mean Validation Loss (all folds)</td><td>1053434336.0</td></tr><tr><td>Mean Validation MAE (all folds)</td><td>20997.81348</td></tr><tr><td>best_epoch</td><td>49</td></tr><tr><td>best_val_loss</td><td>1028277568.0</td></tr><tr><td>epoch</td><td>49</td></tr><tr><td>loss</td><td>1168959104.0</td></tr><tr><td>mae</td><td>23043.41211</td></tr><tr><td>val_loss</td><td>1028277568.0</td></tr><tr><td>val_mae</td><td>21146.21484</td></tr></table>\n",
       "</div></div>\n",
       "Synced 5 W&B file(s), 0 media file(s), 0 artifact file(s) and 1 other file(s)\n",
       "<br/>Synced <strong style=\"color:#cdcd00\">noble-sweep-7</strong>: <a href=\"https://wandb.ai/luiscostigan/house-price-prediction/runs/6ncf2m6j\" target=\"_blank\">https://wandb.ai/luiscostigan/house-price-prediction/runs/6ncf2m6j</a><br/>\n",
       "Find logs at: <code>./wandb/run-20220228_032133-6ncf2m6j/logs</code><br/>\n"
      ],
      "text/plain": [
       "<IPython.core.display.HTML object>"
      ]
     },
     "metadata": {},
     "output_type": "display_data"
    },
    {
     "data": {
      "text/html": [
       "\n",
       "                    Syncing run <strong><a href=\"https://wandb.ai/luiscostigan/house-price-prediction/runs/6ncf2m6j\" target=\"_blank\">noble-sweep-7</a></strong> to <a href=\"https://wandb.ai/luiscostigan/house-price-prediction\" target=\"_blank\">Weights & Biases</a> (<a href=\"https://docs.wandb.com/integrations/jupyter.html\" target=\"_blank\">docs</a>).<br/>\n",
       "Sweep page: <a href=\"https://wandb.ai/luiscostigan/house-price-prediction/sweeps/cp52f928\" target=\"_blank\">https://wandb.ai/luiscostigan/house-price-prediction/sweeps/cp52f928</a><br/>\n",
       "\n",
       "                "
      ],
      "text/plain": [
       "<IPython.core.display.HTML object>"
      ]
     },
     "metadata": {},
     "output_type": "display_data"
    },
    {
     "name": "stdout",
     "output_type": "stream",
     "text": [
      "37/37 [==============================] - 0s 2ms/step - loss: 1101791360.0000 - mae: 21118.4395\n",
      "Score for fold 3: loss of 1101791360.0; mae of 21118.439453125\n",
      "------------------------------------------------------------------------\n",
      "Score per fold\n",
      "------------------------------------------------------------------------\n",
      "> Fold 1 - Loss: 1078591232.0 - Accuracy: 20849.412109375%\n",
      "------------------------------------------------------------------------\n",
      "> Fold 2 - Loss: 1028277440.0 - Accuracy: 21146.21484375%\n",
      "------------------------------------------------------------------------\n",
      "> Fold 3 - Loss: 1101791360.0 - Accuracy: 21118.439453125%\n",
      "------------------------------------------------------------------------\n",
      "Average scores for all folds:\n",
      "> MAE: 21038.022135416668 (+- 133.8486073235267)\n",
      "> Loss: 1069553344.0\n",
      "------------------------------------------------------------------------\n"
     ]
    },
    {
     "data": {
      "text/html": [
       "<br/>Waiting for W&B process to finish, PID 14871... <strong style=\"color:green\">(success).</strong>"
      ],
      "text/plain": [
       "<IPython.core.display.HTML object>"
      ]
     },
     "metadata": {},
     "output_type": "display_data"
    },
    {
     "data": {
      "application/vnd.jupyter.widget-view+json": {
       "model_id": "f726fab87a054241a842948b957d2ccd",
       "version_major": 2,
       "version_minor": 0
      },
      "text/plain": [
       "VBox(children=(Label(value=' 2.43MB of 2.45MB uploaded (0.00MB deduped)\\r'), FloatProgress(value=0.99167050886…"
      ]
     },
     "metadata": {},
     "output_type": "display_data"
    },
    {
     "data": {
      "text/html": [
       "<style>\n",
       "    table.wandb td:nth-child(1) { padding: 0 10px; text-align: right }\n",
       "    .wandb-row { display: flex; flex-direction: row; flex-wrap: wrap; width: 100% }\n",
       "    .wandb-col { display: flex; flex-direction: column; flex-basis: 100%; flex: 1; padding: 10px; }\n",
       "    </style>\n",
       "<div class=\"wandb-row\"><div class=\"wandb-col\">\n",
       "<h3>Run history:</h3><br/><table class=\"wandb\"><tr><td>Mean Validation Loss (all folds)</td><td>▁</td></tr><tr><td>Mean Validation MAE (all folds)</td><td>▁</td></tr><tr><td>epoch</td><td>▁▁▁▁▂▂▂▂▂▃▃▃▃▃▃▄▄▄▄▄▅▅▅▅▅▅▆▆▆▆▆▆▇▇▇▇▇███</td></tr><tr><td>loss</td><td>████████▇▇▇▇▆▆▆▅▅▄▄▃▃▂▂▂▂▁▁▁▁▁▁▁▁▁▁▁▁▁▁▁</td></tr><tr><td>mae</td><td>█████████▇▇▇▇▇▆▆▆▅▅▄▄▃▃▂▂▂▁▁▁▁▁▁▁▁▁▁▁▁▁▁</td></tr><tr><td>val_loss</td><td>████████▇▇▇▇▆▆▅▅▄▄▄▃▃▂▂▂▁▁▁▁▁▁▁▁▁▁▁▁▁▁▁▁</td></tr><tr><td>val_mae</td><td>█████████▇▇▇▇▆▆▆▅▅▅▄▃▃▃▂▂▁▁▁▁▁▁▁▁▁▁▁▁▁▁▁</td></tr></table><br/></div><div class=\"wandb-col\">\n",
       "<h3>Run summary:</h3><br/><table class=\"wandb\"><tr><td>Mean Validation Loss (all folds)</td><td>1069553344.0</td></tr><tr><td>Mean Validation MAE (all folds)</td><td>21038.02214</td></tr><tr><td>best_epoch</td><td>49</td></tr><tr><td>best_val_loss</td><td>1101791360.0</td></tr><tr><td>epoch</td><td>49</td></tr><tr><td>loss</td><td>1211284864.0</td></tr><tr><td>mae</td><td>22835.98438</td></tr><tr><td>val_loss</td><td>1101791360.0</td></tr><tr><td>val_mae</td><td>21118.4375</td></tr></table>\n",
       "</div></div>\n",
       "Synced 5 W&B file(s), 0 media file(s), 0 artifact file(s) and 1 other file(s)\n",
       "<br/>Synced <strong style=\"color:#cdcd00\">noble-sweep-7</strong>: <a href=\"https://wandb.ai/luiscostigan/house-price-prediction/runs/6ncf2m6j\" target=\"_blank\">https://wandb.ai/luiscostigan/house-price-prediction/runs/6ncf2m6j</a><br/>\n",
       "Find logs at: <code>./wandb/run-20220228_032145-6ncf2m6j/logs</code><br/>\n"
      ],
      "text/plain": [
       "<IPython.core.display.HTML object>"
      ]
     },
     "metadata": {},
     "output_type": "display_data"
    },
    {
     "data": {
      "text/html": [
       "\n",
       "                    Syncing run <strong><a href=\"https://wandb.ai/luiscostigan/house-price-prediction/runs/6ncf2m6j\" target=\"_blank\">noble-sweep-7</a></strong> to <a href=\"https://wandb.ai/luiscostigan/house-price-prediction\" target=\"_blank\">Weights & Biases</a> (<a href=\"https://docs.wandb.com/integrations/jupyter.html\" target=\"_blank\">docs</a>).<br/>\n",
       "Sweep page: <a href=\"https://wandb.ai/luiscostigan/house-price-prediction/sweeps/cp52f928\" target=\"_blank\">https://wandb.ai/luiscostigan/house-price-prediction/sweeps/cp52f928</a><br/>\n",
       "\n",
       "                "
      ],
      "text/plain": [
       "<IPython.core.display.HTML object>"
      ]
     },
     "metadata": {},
     "output_type": "display_data"
    },
    {
     "name": "stdout",
     "output_type": "stream",
     "text": [
      "37/37 [==============================] - 0s 2ms/step - loss: 1110905088.0000 - mae: 22534.1914\n",
      "Score for fold 4: loss of 1110905088.0; mae of 22534.19140625\n",
      "------------------------------------------------------------------------\n",
      "Score per fold\n",
      "------------------------------------------------------------------------\n",
      "> Fold 1 - Loss: 1078591232.0 - Accuracy: 20849.412109375%\n",
      "------------------------------------------------------------------------\n",
      "> Fold 2 - Loss: 1028277440.0 - Accuracy: 21146.21484375%\n",
      "------------------------------------------------------------------------\n",
      "> Fold 3 - Loss: 1101791360.0 - Accuracy: 21118.439453125%\n",
      "------------------------------------------------------------------------\n",
      "> Fold 4 - Loss: 1110905088.0 - Accuracy: 22534.19140625%\n",
      "------------------------------------------------------------------------\n",
      "Average scores for all folds:\n",
      "> MAE: 21412.064453125 (+- 658.1485801638571)\n",
      "> Loss: 1079891280.0\n",
      "------------------------------------------------------------------------\n"
     ]
    },
    {
     "data": {
      "text/html": [
       "<br/>Waiting for W&B process to finish, PID 16025... <strong style=\"color:green\">(success).</strong>"
      ],
      "text/plain": [
       "<IPython.core.display.HTML object>"
      ]
     },
     "metadata": {},
     "output_type": "display_data"
    },
    {
     "data": {
      "application/vnd.jupyter.widget-view+json": {
       "model_id": "785444d4d3af48a2ba35074b217e6cfe",
       "version_major": 2,
       "version_minor": 0
      },
      "text/plain": [
       "VBox(children=(Label(value=' 2.03MB of 2.45MB uploaded (0.00MB deduped)\\r'), FloatProgress(value=0.82911986129…"
      ]
     },
     "metadata": {},
     "output_type": "display_data"
    },
    {
     "data": {
      "text/html": [
       "<style>\n",
       "    table.wandb td:nth-child(1) { padding: 0 10px; text-align: right }\n",
       "    .wandb-row { display: flex; flex-direction: row; flex-wrap: wrap; width: 100% }\n",
       "    .wandb-col { display: flex; flex-direction: column; flex-basis: 100%; flex: 1; padding: 10px; }\n",
       "    </style>\n",
       "<div class=\"wandb-row\"><div class=\"wandb-col\">\n",
       "<h3>Run history:</h3><br/><table class=\"wandb\"><tr><td>Mean Validation Loss (all folds)</td><td>▁</td></tr><tr><td>Mean Validation MAE (all folds)</td><td>▁</td></tr><tr><td>epoch</td><td>▁▁▁▁▂▂▂▂▂▃▃▃▃▃▃▄▄▄▄▄▅▅▅▅▅▅▆▆▆▆▆▆▇▇▇▇▇███</td></tr><tr><td>loss</td><td>████████▇▇▇▇▆▆▆▅▅▄▄▃▃▂▂▂▂▁▁▁▁▁▁▁▁▁▁▁▁▁▁▁</td></tr><tr><td>mae</td><td>█████████▇▇▇▇▇▆▆▆▅▅▄▄▃▃▂▂▂▁▁▁▁▁▁▁▁▁▁▁▁▁▁</td></tr><tr><td>val_loss</td><td>████████▇▇▇▇▆▆▅▅▄▄▄▃▃▂▂▂▁▁▁▁▁▁▁▁▁▁▁▁▁▁▁▁</td></tr><tr><td>val_mae</td><td>█████████▇▇▇▇▆▆▆▅▅▅▄▃▃▃▂▂▁▁▁▁▁▁▁▁▁▁▁▁▁▁▁</td></tr></table><br/></div><div class=\"wandb-col\">\n",
       "<h3>Run summary:</h3><br/><table class=\"wandb\"><tr><td>Mean Validation Loss (all folds)</td><td>1079891280.0</td></tr><tr><td>Mean Validation MAE (all folds)</td><td>21412.06445</td></tr><tr><td>best_epoch</td><td>49</td></tr><tr><td>best_val_loss</td><td>1110904832.0</td></tr><tr><td>epoch</td><td>49</td></tr><tr><td>loss</td><td>1238873600.0</td></tr><tr><td>mae</td><td>23564.95508</td></tr><tr><td>val_loss</td><td>1110904832.0</td></tr><tr><td>val_mae</td><td>22534.1875</td></tr></table>\n",
       "</div></div>\n",
       "Synced 5 W&B file(s), 0 media file(s), 0 artifact file(s) and 1 other file(s)\n",
       "<br/>Synced <strong style=\"color:#cdcd00\">noble-sweep-7</strong>: <a href=\"https://wandb.ai/luiscostigan/house-price-prediction/runs/6ncf2m6j\" target=\"_blank\">https://wandb.ai/luiscostigan/house-price-prediction/runs/6ncf2m6j</a><br/>\n",
       "Find logs at: <code>./wandb/run-20220228_032157-6ncf2m6j/logs</code><br/>\n"
      ],
      "text/plain": [
       "<IPython.core.display.HTML object>"
      ]
     },
     "metadata": {},
     "output_type": "display_data"
    },
    {
     "data": {
      "text/html": [
       "\n",
       "                    Syncing run <strong><a href=\"https://wandb.ai/luiscostigan/house-price-prediction/runs/6ncf2m6j\" target=\"_blank\">noble-sweep-7</a></strong> to <a href=\"https://wandb.ai/luiscostigan/house-price-prediction\" target=\"_blank\">Weights & Biases</a> (<a href=\"https://docs.wandb.com/integrations/jupyter.html\" target=\"_blank\">docs</a>).<br/>\n",
       "Sweep page: <a href=\"https://wandb.ai/luiscostigan/house-price-prediction/sweeps/cp52f928\" target=\"_blank\">https://wandb.ai/luiscostigan/house-price-prediction/sweeps/cp52f928</a><br/>\n",
       "\n",
       "                "
      ],
      "text/plain": [
       "<IPython.core.display.HTML object>"
      ]
     },
     "metadata": {},
     "output_type": "display_data"
    },
    {
     "name": "stdout",
     "output_type": "stream",
     "text": [
      "37/37 [==============================] - 0s 2ms/step - loss: 1042197696.0000 - mae: 21417.2109\n",
      "Score for fold 5: loss of 1042197696.0; mae of 21417.2109375\n",
      "------------------------------------------------------------------------\n",
      "Score per fold\n",
      "------------------------------------------------------------------------\n",
      "> Fold 1 - Loss: 1078591232.0 - Accuracy: 20849.412109375%\n",
      "------------------------------------------------------------------------\n",
      "> Fold 2 - Loss: 1028277440.0 - Accuracy: 21146.21484375%\n",
      "------------------------------------------------------------------------\n",
      "> Fold 3 - Loss: 1101791360.0 - Accuracy: 21118.439453125%\n",
      "------------------------------------------------------------------------\n",
      "> Fold 4 - Loss: 1110905088.0 - Accuracy: 22534.19140625%\n",
      "------------------------------------------------------------------------\n",
      "> Fold 5 - Loss: 1042197696.0 - Accuracy: 21417.2109375%\n",
      "------------------------------------------------------------------------\n",
      "Average scores for all folds:\n",
      "> MAE: 21413.09375 (+- 588.669585307062)\n",
      "> Loss: 1072352563.2\n",
      "------------------------------------------------------------------------\n"
     ]
    },
    {
     "data": {
      "text/html": [
       "<br/>Waiting for W&B process to finish, PID 17180... <strong style=\"color:green\">(success).</strong>"
      ],
      "text/plain": [
       "<IPython.core.display.HTML object>"
      ]
     },
     "metadata": {},
     "output_type": "display_data"
    },
    {
     "data": {
      "application/vnd.jupyter.widget-view+json": {
       "model_id": "7fcfcc0be19144a784b7545865db55a8",
       "version_major": 2,
       "version_minor": 0
      },
      "text/plain": [
       "VBox(children=(Label(value=' 1.97MB of 2.45MB uploaded (0.00MB deduped)\\r'), FloatProgress(value=0.80362075211…"
      ]
     },
     "metadata": {},
     "output_type": "display_data"
    },
    {
     "data": {
      "text/html": [
       "<style>\n",
       "    table.wandb td:nth-child(1) { padding: 0 10px; text-align: right }\n",
       "    .wandb-row { display: flex; flex-direction: row; flex-wrap: wrap; width: 100% }\n",
       "    .wandb-col { display: flex; flex-direction: column; flex-basis: 100%; flex: 1; padding: 10px; }\n",
       "    </style>\n",
       "<div class=\"wandb-row\"><div class=\"wandb-col\">\n",
       "<h3>Run history:</h3><br/><table class=\"wandb\"><tr><td>Mean Validation Loss (all folds)</td><td>▁</td></tr><tr><td>Mean Validation MAE (all folds)</td><td>▁</td></tr><tr><td>epoch</td><td>▁▁▁▁▂▂▂▂▂▃▃▃▃▃▃▄▄▄▄▄▅▅▅▅▅▅▆▆▆▆▆▆▇▇▇▇▇███</td></tr><tr><td>loss</td><td>████████▇▇▇▇▆▆▅▅▄▄▄▃▃▂▂▂▁▁▁▁▁▁▁▁▁▁▁▁▁▁▁▁</td></tr><tr><td>mae</td><td>█████████▇▇▇▇▇▆▆▅▅▅▄▃▃▃▂▂▁▁▁▁▁▁▁▁▁▁▁▁▁▁▁</td></tr><tr><td>val_loss</td><td>████████▇▇▇▆▆▆▅▅▄▄▃▃▂▂▂▂▁▁▁▁▁▁▁▁▁▁▁▁▁▁▁▁</td></tr><tr><td>val_mae</td><td>████████▇▇▇▇▇▆▆▆▅▅▄▄▃▃▂▂▂▁▁▁▁▁▁▁▁▁▁▁▁▁▁▁</td></tr></table><br/></div><div class=\"wandb-col\">\n",
       "<h3>Run summary:</h3><br/><table class=\"wandb\"><tr><td>Mean Validation Loss (all folds)</td><td>1072352563.2</td></tr><tr><td>Mean Validation MAE (all folds)</td><td>21413.09375</td></tr><tr><td>best_epoch</td><td>49</td></tr><tr><td>best_val_loss</td><td>1042197568.0</td></tr><tr><td>epoch</td><td>49</td></tr><tr><td>loss</td><td>1169240960.0</td></tr><tr><td>mae</td><td>22136.79297</td></tr><tr><td>val_loss</td><td>1042197568.0</td></tr><tr><td>val_mae</td><td>21417.20898</td></tr></table>\n",
       "</div></div>\n",
       "Synced 5 W&B file(s), 0 media file(s), 0 artifact file(s) and 1 other file(s)\n",
       "<br/>Synced <strong style=\"color:#cdcd00\">noble-sweep-7</strong>: <a href=\"https://wandb.ai/luiscostigan/house-price-prediction/runs/6ncf2m6j\" target=\"_blank\">https://wandb.ai/luiscostigan/house-price-prediction/runs/6ncf2m6j</a><br/>\n",
       "Find logs at: <code>./wandb/run-20220228_032209-6ncf2m6j/logs</code><br/>\n"
      ],
      "text/plain": [
       "<IPython.core.display.HTML object>"
      ]
     },
     "metadata": {},
     "output_type": "display_data"
    },
    {
     "name": "stderr",
     "output_type": "stream",
     "text": [
      "\u001b[34m\u001b[1mwandb\u001b[0m: Agent Starting Run: 6fcn2zva with config:\n",
      "\u001b[34m\u001b[1mwandb\u001b[0m: \tbatch_size: 512\n",
      "\u001b[34m\u001b[1mwandb\u001b[0m: \tdropout1: 0.6605677762875634\n",
      "\u001b[34m\u001b[1mwandb\u001b[0m: \tepochs: 50\n"
     ]
    },
    {
     "data": {
      "text/html": [
       "\n",
       "                    Syncing run <strong><a href=\"https://wandb.ai/luiscostigan/house-price-prediction/runs/6fcn2zva\" target=\"_blank\">snowy-sweep-8</a></strong> to <a href=\"https://wandb.ai/luiscostigan/house-price-prediction\" target=\"_blank\">Weights & Biases</a> (<a href=\"https://docs.wandb.com/integrations/jupyter.html\" target=\"_blank\">docs</a>).<br/>\n",
       "Sweep page: <a href=\"https://wandb.ai/luiscostigan/house-price-prediction/sweeps/cp52f928\" target=\"_blank\">https://wandb.ai/luiscostigan/house-price-prediction/sweeps/cp52f928</a><br/>\n",
       "\n",
       "                "
      ],
      "text/plain": [
       "<IPython.core.display.HTML object>"
      ]
     },
     "metadata": {},
     "output_type": "display_data"
    },
    {
     "name": "stdout",
     "output_type": "stream",
     "text": [
      "37/37 [==============================] - 0s 2ms/step - loss: 1019889984.0000 - mae: 20400.0664\n",
      "Score for fold 1: loss of 1019889984.0; mae of 20400.06640625\n",
      "------------------------------------------------------------------------\n",
      "Score per fold\n",
      "------------------------------------------------------------------------\n",
      "> Fold 1 - Loss: 1019889984.0 - Accuracy: 20400.06640625%\n",
      "------------------------------------------------------------------------\n",
      "Average scores for all folds:\n",
      "> MAE: 20400.06640625 (+- 0.0)\n",
      "> Loss: 1019889984.0\n",
      "------------------------------------------------------------------------\n"
     ]
    },
    {
     "data": {
      "text/html": [
       "<br/>Waiting for W&B process to finish, PID 18373... <strong style=\"color:green\">(success).</strong>"
      ],
      "text/plain": [
       "<IPython.core.display.HTML object>"
      ]
     },
     "metadata": {},
     "output_type": "display_data"
    },
    {
     "data": {
      "application/vnd.jupyter.widget-view+json": {
       "model_id": "5f70e78225574e559b03c669e0a5d18a",
       "version_major": 2,
       "version_minor": 0
      },
      "text/plain": [
       "VBox(children=(Label(value=' 2.45MB of 2.45MB uploaded (0.00MB deduped)\\r'), FloatProgress(value=1.0, max=1.0)…"
      ]
     },
     "metadata": {},
     "output_type": "display_data"
    },
    {
     "data": {
      "text/html": [
       "<style>\n",
       "    table.wandb td:nth-child(1) { padding: 0 10px; text-align: right }\n",
       "    .wandb-row { display: flex; flex-direction: row; flex-wrap: wrap; width: 100% }\n",
       "    .wandb-col { display: flex; flex-direction: column; flex-basis: 100%; flex: 1; padding: 10px; }\n",
       "    </style>\n",
       "<div class=\"wandb-row\"><div class=\"wandb-col\">\n",
       "<h3>Run history:</h3><br/><table class=\"wandb\"><tr><td>Mean Validation Loss (all folds)</td><td>▁</td></tr><tr><td>Mean Validation MAE (all folds)</td><td>▁</td></tr><tr><td>epoch</td><td>▁▁▁▁▂▂▂▂▂▃▃▃▃▃▃▄▄▄▄▄▅▅▅▅▅▅▆▆▆▆▆▆▇▇▇▇▇███</td></tr><tr><td>loss</td><td>████████▇▇▇▇▆▆▅▅▄▄▃▃▂▂▂▂▁▁▁▁▁▁▁▁▁▁▁▁▁▁▁▁</td></tr><tr><td>mae</td><td>█████████▇▇▇▇▆▆▆▅▅▄▄▃▃▂▂▂▁▁▁▁▁▁▁▁▁▁▁▁▁▁▁</td></tr><tr><td>val_loss</td><td>███████▇▇▇▇▆▆▅▅▅▄▄▃▃▂▂▂▂▁▁▁▁▁▁▁▁▁▁▁▁▁▁▁▁</td></tr><tr><td>val_mae</td><td>████████▇▇▇▇▇▆▆▆▅▅▄▄▃▃▂▂▁▁▁▁▁▁▁▁▁▁▁▁▁▁▁▁</td></tr></table><br/></div><div class=\"wandb-col\">\n",
       "<h3>Run summary:</h3><br/><table class=\"wandb\"><tr><td>Mean Validation Loss (all folds)</td><td>1019889984.0</td></tr><tr><td>Mean Validation MAE (all folds)</td><td>20400.06641</td></tr><tr><td>best_epoch</td><td>49</td></tr><tr><td>best_val_loss</td><td>1019889856.0</td></tr><tr><td>epoch</td><td>49</td></tr><tr><td>loss</td><td>1209533312.0</td></tr><tr><td>mae</td><td>23075.53125</td></tr><tr><td>val_loss</td><td>1019889856.0</td></tr><tr><td>val_mae</td><td>20400.06836</td></tr></table>\n",
       "</div></div>\n",
       "Synced 5 W&B file(s), 0 media file(s), 0 artifact file(s) and 1 other file(s)\n",
       "<br/>Synced <strong style=\"color:#cdcd00\">snowy-sweep-8</strong>: <a href=\"https://wandb.ai/luiscostigan/house-price-prediction/runs/6fcn2zva\" target=\"_blank\">https://wandb.ai/luiscostigan/house-price-prediction/runs/6fcn2zva</a><br/>\n",
       "Find logs at: <code>./wandb/run-20220228_032225-6fcn2zva/logs</code><br/>\n"
      ],
      "text/plain": [
       "<IPython.core.display.HTML object>"
      ]
     },
     "metadata": {},
     "output_type": "display_data"
    },
    {
     "data": {
      "text/html": [
       "\n",
       "                    Syncing run <strong><a href=\"https://wandb.ai/luiscostigan/house-price-prediction/runs/6fcn2zva\" target=\"_blank\">snowy-sweep-8</a></strong> to <a href=\"https://wandb.ai/luiscostigan/house-price-prediction\" target=\"_blank\">Weights & Biases</a> (<a href=\"https://docs.wandb.com/integrations/jupyter.html\" target=\"_blank\">docs</a>).<br/>\n",
       "Sweep page: <a href=\"https://wandb.ai/luiscostigan/house-price-prediction/sweeps/cp52f928\" target=\"_blank\">https://wandb.ai/luiscostigan/house-price-prediction/sweeps/cp52f928</a><br/>\n",
       "\n",
       "                "
      ],
      "text/plain": [
       "<IPython.core.display.HTML object>"
      ]
     },
     "metadata": {},
     "output_type": "display_data"
    },
    {
     "name": "stdout",
     "output_type": "stream",
     "text": [
      "37/37 [==============================] - 0s 2ms/step - loss: 1065084992.0000 - mae: 21512.3145\n",
      "Score for fold 2: loss of 1065084992.0; mae of 21512.314453125\n",
      "------------------------------------------------------------------------\n",
      "Score per fold\n",
      "------------------------------------------------------------------------\n",
      "> Fold 1 - Loss: 1019889984.0 - Accuracy: 20400.06640625%\n",
      "------------------------------------------------------------------------\n",
      "> Fold 2 - Loss: 1065084992.0 - Accuracy: 21512.314453125%\n",
      "------------------------------------------------------------------------\n",
      "Average scores for all folds:\n",
      "> MAE: 20956.1904296875 (+- 556.1240234375)\n",
      "> Loss: 1042487488.0\n",
      "------------------------------------------------------------------------\n"
     ]
    },
    {
     "data": {
      "text/html": [
       "<br/>Waiting for W&B process to finish, PID 19543... <strong style=\"color:green\">(success).</strong>"
      ],
      "text/plain": [
       "<IPython.core.display.HTML object>"
      ]
     },
     "metadata": {},
     "output_type": "display_data"
    },
    {
     "data": {
      "application/vnd.jupyter.widget-view+json": {
       "model_id": "e758345fbd6c4e32916e67084051ffd5",
       "version_major": 2,
       "version_minor": 0
      },
      "text/plain": [
       "VBox(children=(Label(value=' 2.45MB of 2.45MB uploaded (0.00MB deduped)\\r'), FloatProgress(value=1.0, max=1.0)…"
      ]
     },
     "metadata": {},
     "output_type": "display_data"
    },
    {
     "data": {
      "text/html": [
       "<style>\n",
       "    table.wandb td:nth-child(1) { padding: 0 10px; text-align: right }\n",
       "    .wandb-row { display: flex; flex-direction: row; flex-wrap: wrap; width: 100% }\n",
       "    .wandb-col { display: flex; flex-direction: column; flex-basis: 100%; flex: 1; padding: 10px; }\n",
       "    </style>\n",
       "<div class=\"wandb-row\"><div class=\"wandb-col\">\n",
       "<h3>Run history:</h3><br/><table class=\"wandb\"><tr><td>Mean Validation Loss (all folds)</td><td>▁</td></tr><tr><td>Mean Validation MAE (all folds)</td><td>▁</td></tr><tr><td>epoch</td><td>▁▁▁▁▂▂▂▂▂▃▃▃▃▃▃▄▄▄▄▄▅▅▅▅▅▅▆▆▆▆▆▆▇▇▇▇▇███</td></tr><tr><td>loss</td><td>████████▇▇▇▇▆▆▅▅▄▄▄▃▃▂▂▂▁▁▁▁▁▁▁▁▁▁▁▁▁▁▁▁</td></tr><tr><td>mae</td><td>█████████▇▇▇▇▇▆▆▅▅▅▄▃▃▃▂▂▁▁▁▁▁▁▁▁▁▁▁▁▁▁▁</td></tr><tr><td>val_loss</td><td>████████▇▇▇▆▆▆▅▅▄▄▃▃▂▂▂▂▁▁▁▁▁▁▁▁▁▁▁▁▁▁▁▁</td></tr><tr><td>val_mae</td><td>████████▇▇▇▇▇▆▆▆▅▅▄▄▃▃▂▂▁▁▁▁▁▁▁▁▁▁▁▁▁▁▁▁</td></tr></table><br/></div><div class=\"wandb-col\">\n",
       "<h3>Run summary:</h3><br/><table class=\"wandb\"><tr><td>Mean Validation Loss (all folds)</td><td>1042487488.0</td></tr><tr><td>Mean Validation MAE (all folds)</td><td>20956.19043</td></tr><tr><td>best_epoch</td><td>49</td></tr><tr><td>best_val_loss</td><td>1065084992.0</td></tr><tr><td>epoch</td><td>49</td></tr><tr><td>loss</td><td>1299357312.0</td></tr><tr><td>mae</td><td>23849.96875</td></tr><tr><td>val_loss</td><td>1065084992.0</td></tr><tr><td>val_mae</td><td>21512.31445</td></tr></table>\n",
       "</div></div>\n",
       "Synced 5 W&B file(s), 0 media file(s), 0 artifact file(s) and 1 other file(s)\n",
       "<br/>Synced <strong style=\"color:#cdcd00\">snowy-sweep-8</strong>: <a href=\"https://wandb.ai/luiscostigan/house-price-prediction/runs/6fcn2zva\" target=\"_blank\">https://wandb.ai/luiscostigan/house-price-prediction/runs/6fcn2zva</a><br/>\n",
       "Find logs at: <code>./wandb/run-20220228_032237-6fcn2zva/logs</code><br/>\n"
      ],
      "text/plain": [
       "<IPython.core.display.HTML object>"
      ]
     },
     "metadata": {},
     "output_type": "display_data"
    },
    {
     "data": {
      "text/html": [
       "\n",
       "                    Syncing run <strong><a href=\"https://wandb.ai/luiscostigan/house-price-prediction/runs/6fcn2zva\" target=\"_blank\">snowy-sweep-8</a></strong> to <a href=\"https://wandb.ai/luiscostigan/house-price-prediction\" target=\"_blank\">Weights & Biases</a> (<a href=\"https://docs.wandb.com/integrations/jupyter.html\" target=\"_blank\">docs</a>).<br/>\n",
       "Sweep page: <a href=\"https://wandb.ai/luiscostigan/house-price-prediction/sweeps/cp52f928\" target=\"_blank\">https://wandb.ai/luiscostigan/house-price-prediction/sweeps/cp52f928</a><br/>\n",
       "\n",
       "                "
      ],
      "text/plain": [
       "<IPython.core.display.HTML object>"
      ]
     },
     "metadata": {},
     "output_type": "display_data"
    },
    {
     "name": "stdout",
     "output_type": "stream",
     "text": [
      "37/37 [==============================] - 0s 2ms/step - loss: 1063862848.0000 - mae: 21746.7227\n",
      "Score for fold 3: loss of 1063862848.0; mae of 21746.72265625\n",
      "------------------------------------------------------------------------\n",
      "Score per fold\n",
      "------------------------------------------------------------------------\n",
      "> Fold 1 - Loss: 1019889984.0 - Accuracy: 20400.06640625%\n",
      "------------------------------------------------------------------------\n",
      "> Fold 2 - Loss: 1065084992.0 - Accuracy: 21512.314453125%\n",
      "------------------------------------------------------------------------\n",
      "> Fold 3 - Loss: 1063862848.0 - Accuracy: 21746.72265625%\n",
      "------------------------------------------------------------------------\n",
      "Average scores for all folds:\n",
      "> MAE: 21219.701171875 (+- 587.4167533582578)\n",
      "> Loss: 1049612608.0\n",
      "------------------------------------------------------------------------\n"
     ]
    },
    {
     "data": {
      "text/html": [
       "<br/>Waiting for W&B process to finish, PID 20700... <strong style=\"color:green\">(success).</strong>"
      ],
      "text/plain": [
       "<IPython.core.display.HTML object>"
      ]
     },
     "metadata": {},
     "output_type": "display_data"
    },
    {
     "data": {
      "application/vnd.jupyter.widget-view+json": {
       "model_id": "000bab80b4a34075be4a04ec2a5014ca",
       "version_major": 2,
       "version_minor": 0
      },
      "text/plain": [
       "VBox(children=(Label(value=' 1.42MB of 2.45MB uploaded (0.00MB deduped)\\r'), FloatProgress(value=0.58049993288…"
      ]
     },
     "metadata": {},
     "output_type": "display_data"
    },
    {
     "data": {
      "text/html": [
       "<style>\n",
       "    table.wandb td:nth-child(1) { padding: 0 10px; text-align: right }\n",
       "    .wandb-row { display: flex; flex-direction: row; flex-wrap: wrap; width: 100% }\n",
       "    .wandb-col { display: flex; flex-direction: column; flex-basis: 100%; flex: 1; padding: 10px; }\n",
       "    </style>\n",
       "<div class=\"wandb-row\"><div class=\"wandb-col\">\n",
       "<h3>Run history:</h3><br/><table class=\"wandb\"><tr><td>Mean Validation Loss (all folds)</td><td>▁</td></tr><tr><td>Mean Validation MAE (all folds)</td><td>▁</td></tr><tr><td>epoch</td><td>▁▁▁▁▂▂▂▂▂▃▃▃▃▃▃▄▄▄▄▄▅▅▅▅▅▅▆▆▆▆▆▆▇▇▇▇▇███</td></tr><tr><td>loss</td><td>████████▇▇▇▇▆▆▅▅▄▄▄▃▃▂▂▂▁▁▁▁▁▁▁▁▁▁▁▁▁▁▁▁</td></tr><tr><td>mae</td><td>█████████▇▇▇▇▇▆▆▅▅▅▄▃▃▃▂▂▁▁▁▁▁▁▁▁▁▁▁▁▁▁▁</td></tr><tr><td>val_loss</td><td>████████▇▇▇▆▆▆▅▅▄▄▃▃▂▂▂▂▁▁▁▁▁▁▁▁▁▁▁▁▁▁▁▁</td></tr><tr><td>val_mae</td><td>████████▇▇▇▇▇▆▆▆▅▅▄▄▃▃▂▂▁▁▁▁▁▁▁▁▁▁▁▁▁▁▁▁</td></tr></table><br/></div><div class=\"wandb-col\">\n",
       "<h3>Run summary:</h3><br/><table class=\"wandb\"><tr><td>Mean Validation Loss (all folds)</td><td>1049612608.0</td></tr><tr><td>Mean Validation MAE (all folds)</td><td>21219.70117</td></tr><tr><td>best_epoch</td><td>49</td></tr><tr><td>best_val_loss</td><td>1063862720.0</td></tr><tr><td>epoch</td><td>49</td></tr><tr><td>loss</td><td>1247879808.0</td></tr><tr><td>mae</td><td>23059.59961</td></tr><tr><td>val_loss</td><td>1063862720.0</td></tr><tr><td>val_mae</td><td>21746.72461</td></tr></table>\n",
       "</div></div>\n",
       "Synced 5 W&B file(s), 0 media file(s), 0 artifact file(s) and 1 other file(s)\n",
       "<br/>Synced <strong style=\"color:#cdcd00\">snowy-sweep-8</strong>: <a href=\"https://wandb.ai/luiscostigan/house-price-prediction/runs/6fcn2zva\" target=\"_blank\">https://wandb.ai/luiscostigan/house-price-prediction/runs/6fcn2zva</a><br/>\n",
       "Find logs at: <code>./wandb/run-20220228_032250-6fcn2zva/logs</code><br/>\n"
      ],
      "text/plain": [
       "<IPython.core.display.HTML object>"
      ]
     },
     "metadata": {},
     "output_type": "display_data"
    },
    {
     "data": {
      "text/html": [
       "\n",
       "                    Syncing run <strong><a href=\"https://wandb.ai/luiscostigan/house-price-prediction/runs/6fcn2zva\" target=\"_blank\">snowy-sweep-8</a></strong> to <a href=\"https://wandb.ai/luiscostigan/house-price-prediction\" target=\"_blank\">Weights & Biases</a> (<a href=\"https://docs.wandb.com/integrations/jupyter.html\" target=\"_blank\">docs</a>).<br/>\n",
       "Sweep page: <a href=\"https://wandb.ai/luiscostigan/house-price-prediction/sweeps/cp52f928\" target=\"_blank\">https://wandb.ai/luiscostigan/house-price-prediction/sweeps/cp52f928</a><br/>\n",
       "\n",
       "                "
      ],
      "text/plain": [
       "<IPython.core.display.HTML object>"
      ]
     },
     "metadata": {},
     "output_type": "display_data"
    },
    {
     "name": "stdout",
     "output_type": "stream",
     "text": [
      "37/37 [==============================] - 0s 2ms/step - loss: 1060340864.0000 - mae: 21412.4434\n",
      "Score for fold 4: loss of 1060340864.0; mae of 21412.443359375\n",
      "------------------------------------------------------------------------\n",
      "Score per fold\n",
      "------------------------------------------------------------------------\n",
      "> Fold 1 - Loss: 1019889984.0 - Accuracy: 20400.06640625%\n",
      "------------------------------------------------------------------------\n",
      "> Fold 2 - Loss: 1065084992.0 - Accuracy: 21512.314453125%\n",
      "------------------------------------------------------------------------\n",
      "> Fold 3 - Loss: 1063862848.0 - Accuracy: 21746.72265625%\n",
      "------------------------------------------------------------------------\n",
      "> Fold 4 - Loss: 1060340864.0 - Accuracy: 21412.443359375%\n",
      "------------------------------------------------------------------------\n",
      "Average scores for all folds:\n",
      "> MAE: 21267.88671875 (+- 515.5185470741044)\n",
      "> Loss: 1052294672.0\n",
      "------------------------------------------------------------------------\n"
     ]
    },
    {
     "data": {
      "text/html": [
       "<br/>Waiting for W&B process to finish, PID 21861... <strong style=\"color:green\">(success).</strong>"
      ],
      "text/plain": [
       "<IPython.core.display.HTML object>"
      ]
     },
     "metadata": {},
     "output_type": "display_data"
    },
    {
     "data": {
      "application/vnd.jupyter.widget-view+json": {
       "model_id": "3e24288f5cac46249f4e2f9d9a024f05",
       "version_major": 2,
       "version_minor": 0
      },
      "text/plain": [
       "VBox(children=(Label(value=' 1.49MB of 2.45MB uploaded (0.00MB deduped)\\r'), FloatProgress(value=0.60600265589…"
      ]
     },
     "metadata": {},
     "output_type": "display_data"
    },
    {
     "data": {
      "text/html": [
       "<style>\n",
       "    table.wandb td:nth-child(1) { padding: 0 10px; text-align: right }\n",
       "    .wandb-row { display: flex; flex-direction: row; flex-wrap: wrap; width: 100% }\n",
       "    .wandb-col { display: flex; flex-direction: column; flex-basis: 100%; flex: 1; padding: 10px; }\n",
       "    </style>\n",
       "<div class=\"wandb-row\"><div class=\"wandb-col\">\n",
       "<h3>Run history:</h3><br/><table class=\"wandb\"><tr><td>Mean Validation Loss (all folds)</td><td>▁</td></tr><tr><td>Mean Validation MAE (all folds)</td><td>▁</td></tr><tr><td>epoch</td><td>▁▁▁▁▂▂▂▂▂▃▃▃▃▃▃▄▄▄▄▄▅▅▅▅▅▅▆▆▆▆▆▆▇▇▇▇▇███</td></tr><tr><td>loss</td><td>████████▇▇▇▇▆▆▅▅▄▄▄▃▂▂▂▂▁▁▁▁▁▁▁▁▁▁▁▁▁▁▁▁</td></tr><tr><td>mae</td><td>█████████▇▇▇▇▆▆▆▅▅▅▄▃▃▂▂▂▁▁▁▁▁▁▁▁▁▁▁▁▁▁▁</td></tr><tr><td>val_loss</td><td>████████▇▇▇▆▆▅▅▅▄▄▃▃▂▂▂▂▁▁▁▁▁▁▁▁▁▁▁▁▁▁▁▁</td></tr><tr><td>val_mae</td><td>████████▇▇▇▇▇▆▆▆▅▅▄▄▃▃▂▂▁▁▁▁▁▁▁▁▁▁▁▁▁▁▁▁</td></tr></table><br/></div><div class=\"wandb-col\">\n",
       "<h3>Run summary:</h3><br/><table class=\"wandb\"><tr><td>Mean Validation Loss (all folds)</td><td>1052294672.0</td></tr><tr><td>Mean Validation MAE (all folds)</td><td>21267.88672</td></tr><tr><td>best_epoch</td><td>49</td></tr><tr><td>best_val_loss</td><td>1060340864.0</td></tr><tr><td>epoch</td><td>49</td></tr><tr><td>loss</td><td>1188245120.0</td></tr><tr><td>mae</td><td>22821.09766</td></tr><tr><td>val_loss</td><td>1060340864.0</td></tr><tr><td>val_mae</td><td>21412.44141</td></tr></table>\n",
       "</div></div>\n",
       "Synced 5 W&B file(s), 0 media file(s), 0 artifact file(s) and 1 other file(s)\n",
       "<br/>Synced <strong style=\"color:#cdcd00\">snowy-sweep-8</strong>: <a href=\"https://wandb.ai/luiscostigan/house-price-prediction/runs/6fcn2zva\" target=\"_blank\">https://wandb.ai/luiscostigan/house-price-prediction/runs/6fcn2zva</a><br/>\n",
       "Find logs at: <code>./wandb/run-20220228_032302-6fcn2zva/logs</code><br/>\n"
      ],
      "text/plain": [
       "<IPython.core.display.HTML object>"
      ]
     },
     "metadata": {},
     "output_type": "display_data"
    },
    {
     "data": {
      "text/html": [
       "\n",
       "                    Syncing run <strong><a href=\"https://wandb.ai/luiscostigan/house-price-prediction/runs/6fcn2zva\" target=\"_blank\">snowy-sweep-8</a></strong> to <a href=\"https://wandb.ai/luiscostigan/house-price-prediction\" target=\"_blank\">Weights & Biases</a> (<a href=\"https://docs.wandb.com/integrations/jupyter.html\" target=\"_blank\">docs</a>).<br/>\n",
       "Sweep page: <a href=\"https://wandb.ai/luiscostigan/house-price-prediction/sweeps/cp52f928\" target=\"_blank\">https://wandb.ai/luiscostigan/house-price-prediction/sweeps/cp52f928</a><br/>\n",
       "\n",
       "                "
      ],
      "text/plain": [
       "<IPython.core.display.HTML object>"
      ]
     },
     "metadata": {},
     "output_type": "display_data"
    },
    {
     "name": "stdout",
     "output_type": "stream",
     "text": [
      "37/37 [==============================] - 0s 2ms/step - loss: 1076209920.0000 - mae: 21044.0098\n",
      "Score for fold 5: loss of 1076209920.0; mae of 21044.009765625\n",
      "------------------------------------------------------------------------\n",
      "Score per fold\n",
      "------------------------------------------------------------------------\n",
      "> Fold 1 - Loss: 1019889984.0 - Accuracy: 20400.06640625%\n",
      "------------------------------------------------------------------------\n",
      "> Fold 2 - Loss: 1065084992.0 - Accuracy: 21512.314453125%\n",
      "------------------------------------------------------------------------\n",
      "> Fold 3 - Loss: 1063862848.0 - Accuracy: 21746.72265625%\n",
      "------------------------------------------------------------------------\n",
      "> Fold 4 - Loss: 1060340864.0 - Accuracy: 21412.443359375%\n",
      "------------------------------------------------------------------------\n",
      "> Fold 5 - Loss: 1076209920.0 - Accuracy: 21044.009765625%\n",
      "------------------------------------------------------------------------\n",
      "Average scores for all folds:\n",
      "> MAE: 21223.111328125 (+- 469.70931470900365)\n",
      "> Loss: 1057077721.6\n",
      "------------------------------------------------------------------------\n"
     ]
    },
    {
     "data": {
      "text/html": [
       "<br/>Waiting for W&B process to finish, PID 23023... <strong style=\"color:green\">(success).</strong>"
      ],
      "text/plain": [
       "<IPython.core.display.HTML object>"
      ]
     },
     "metadata": {},
     "output_type": "display_data"
    },
    {
     "data": {
      "application/vnd.jupyter.widget-view+json": {
       "model_id": "ee5600b3d62d46a0bf9ae9e8513f5061",
       "version_major": 2,
       "version_minor": 0
      },
      "text/plain": [
       "VBox(children=(Label(value=' 1.24MB of 2.45MB uploaded (0.00MB deduped)\\r'), FloatProgress(value=0.50719360779…"
      ]
     },
     "metadata": {},
     "output_type": "display_data"
    },
    {
     "data": {
      "text/html": [
       "<style>\n",
       "    table.wandb td:nth-child(1) { padding: 0 10px; text-align: right }\n",
       "    .wandb-row { display: flex; flex-direction: row; flex-wrap: wrap; width: 100% }\n",
       "    .wandb-col { display: flex; flex-direction: column; flex-basis: 100%; flex: 1; padding: 10px; }\n",
       "    </style>\n",
       "<div class=\"wandb-row\"><div class=\"wandb-col\">\n",
       "<h3>Run history:</h3><br/><table class=\"wandb\"><tr><td>Mean Validation Loss (all folds)</td><td>▁</td></tr><tr><td>Mean Validation MAE (all folds)</td><td>▁</td></tr><tr><td>epoch</td><td>▁▁▁▁▂▂▂▂▂▃▃▃▃▃▃▄▄▄▄▄▅▅▅▅▅▅▆▆▆▆▆▆▇▇▇▇▇███</td></tr><tr><td>loss</td><td>████████▇▇▇▇▆▆▆▅▄▄▄▃▃▂▂▂▁▁▁▁▁▁▁▁▁▁▁▁▁▁▁▁</td></tr><tr><td>mae</td><td>█████████▇▇▇▇▇▆▆▅▅▅▄▄▃▃▂▂▁▁▁▁▁▁▁▁▁▁▁▁▁▁▁</td></tr><tr><td>val_loss</td><td>████████▇▇▇▇▆▆▅▅▄▄▃▃▂▂▂▂▁▁▁▁▁▁▁▁▁▁▁▁▁▁▁▁</td></tr><tr><td>val_mae</td><td>█████████▇▇▇▇▆▆▆▅▅▄▄▃▃▂▂▂▁▁▁▁▁▁▁▁▁▁▁▁▁▁▁</td></tr></table><br/></div><div class=\"wandb-col\">\n",
       "<h3>Run summary:</h3><br/><table class=\"wandb\"><tr><td>Mean Validation Loss (all folds)</td><td>1057077721.6</td></tr><tr><td>Mean Validation MAE (all folds)</td><td>21223.11133</td></tr><tr><td>best_epoch</td><td>49</td></tr><tr><td>best_val_loss</td><td>1076209920.0</td></tr><tr><td>epoch</td><td>49</td></tr><tr><td>loss</td><td>1207413888.0</td></tr><tr><td>mae</td><td>22801.47266</td></tr><tr><td>val_loss</td><td>1076209920.0</td></tr><tr><td>val_mae</td><td>21044.00781</td></tr></table>\n",
       "</div></div>\n",
       "Synced 5 W&B file(s), 0 media file(s), 0 artifact file(s) and 1 other file(s)\n",
       "<br/>Synced <strong style=\"color:#cdcd00\">snowy-sweep-8</strong>: <a href=\"https://wandb.ai/luiscostigan/house-price-prediction/runs/6fcn2zva\" target=\"_blank\">https://wandb.ai/luiscostigan/house-price-prediction/runs/6fcn2zva</a><br/>\n",
       "Find logs at: <code>./wandb/run-20220228_032315-6fcn2zva/logs</code><br/>\n"
      ],
      "text/plain": [
       "<IPython.core.display.HTML object>"
      ]
     },
     "metadata": {},
     "output_type": "display_data"
    },
    {
     "name": "stderr",
     "output_type": "stream",
     "text": [
      "\u001b[34m\u001b[1mwandb\u001b[0m: Agent Starting Run: 73jn3sif with config:\n",
      "\u001b[34m\u001b[1mwandb\u001b[0m: \tbatch_size: 128\n",
      "\u001b[34m\u001b[1mwandb\u001b[0m: \tdropout1: 0.416139079902887\n",
      "\u001b[34m\u001b[1mwandb\u001b[0m: \tepochs: 50\n"
     ]
    },
    {
     "data": {
      "text/html": [
       "\n",
       "                    Syncing run <strong><a href=\"https://wandb.ai/luiscostigan/house-price-prediction/runs/73jn3sif\" target=\"_blank\">lemon-sweep-9</a></strong> to <a href=\"https://wandb.ai/luiscostigan/house-price-prediction\" target=\"_blank\">Weights & Biases</a> (<a href=\"https://docs.wandb.com/integrations/jupyter.html\" target=\"_blank\">docs</a>).<br/>\n",
       "Sweep page: <a href=\"https://wandb.ai/luiscostigan/house-price-prediction/sweeps/cp52f928\" target=\"_blank\">https://wandb.ai/luiscostigan/house-price-prediction/sweeps/cp52f928</a><br/>\n",
       "\n",
       "                "
      ],
      "text/plain": [
       "<IPython.core.display.HTML object>"
      ]
     },
     "metadata": {},
     "output_type": "display_data"
    },
    {
     "name": "stdout",
     "output_type": "stream",
     "text": [
      "37/37 [==============================] - 0s 2ms/step - loss: 551999296.0000 - mae: 14492.6426\n",
      "Score for fold 1: loss of 551999296.0; mae of 14492.642578125\n",
      "------------------------------------------------------------------------\n",
      "Score per fold\n",
      "------------------------------------------------------------------------\n",
      "> Fold 1 - Loss: 551999296.0 - Accuracy: 14492.642578125%\n",
      "------------------------------------------------------------------------\n",
      "Average scores for all folds:\n",
      "> MAE: 14492.642578125 (+- 0.0)\n",
      "> Loss: 551999296.0\n",
      "------------------------------------------------------------------------\n"
     ]
    },
    {
     "data": {
      "text/html": [
       "<br/>Waiting for W&B process to finish, PID 24241... <strong style=\"color:green\">(success).</strong>"
      ],
      "text/plain": [
       "<IPython.core.display.HTML object>"
      ]
     },
     "metadata": {},
     "output_type": "display_data"
    },
    {
     "data": {
      "application/vnd.jupyter.widget-view+json": {
       "model_id": "1d066647e70f4846ac0c77a31df48042",
       "version_major": 2,
       "version_minor": 0
      },
      "text/plain": [
       "VBox(children=(Label(value=' 1.98MB of 2.45MB uploaded (0.00MB deduped)\\r'), FloatProgress(value=0.80683827795…"
      ]
     },
     "metadata": {},
     "output_type": "display_data"
    },
    {
     "data": {
      "text/html": [
       "<style>\n",
       "    table.wandb td:nth-child(1) { padding: 0 10px; text-align: right }\n",
       "    .wandb-row { display: flex; flex-direction: row; flex-wrap: wrap; width: 100% }\n",
       "    .wandb-col { display: flex; flex-direction: column; flex-basis: 100%; flex: 1; padding: 10px; }\n",
       "    </style>\n",
       "<div class=\"wandb-row\"><div class=\"wandb-col\">\n",
       "<h3>Run history:</h3><br/><table class=\"wandb\"><tr><td>Mean Validation Loss (all folds)</td><td>▁</td></tr><tr><td>Mean Validation MAE (all folds)</td><td>▁</td></tr><tr><td>epoch</td><td>▁▁▁▁▂▂▂▂▂▃▃▃▃▃▃▄▄▄▄▄▅▅▅▅▅▅▆▆▆▆▆▆▇▇▇▇▇███</td></tr><tr><td>loss</td><td>███▇▅▄▃▂▁▁▁▁▁▁▁▁▁▁▁▁▁▁▁▁▁▁▁▁▁▁▁▁▁▁▁▁▁▁▁▁</td></tr><tr><td>mae</td><td>███▇▆▅▄▃▂▂▁▁▁▁▁▁▁▁▁▁▁▁▁▁▁▁▁▁▁▁▁▁▁▁▁▁▁▁▁▁</td></tr><tr><td>val_loss</td><td>██▇▇▅▃▂▂▁▁▁▁▁▁▁▁▁▁▁▁▁▁▁▁▁▁▁▁▁▁▁▁▁▁▁▁▁▁▁▁</td></tr><tr><td>val_mae</td><td>███▇▆▅▃▂▂▂▁▁▁▁▁▁▁▁▁▁▁▁▁▁▁▁▁▁▁▁▁▁▁▁▁▁▁▁▁▁</td></tr></table><br/></div><div class=\"wandb-col\">\n",
       "<h3>Run summary:</h3><br/><table class=\"wandb\"><tr><td>Mean Validation Loss (all folds)</td><td>551999296.0</td></tr><tr><td>Mean Validation MAE (all folds)</td><td>14492.64258</td></tr><tr><td>best_epoch</td><td>47</td></tr><tr><td>best_val_loss</td><td>548474624.0</td></tr><tr><td>epoch</td><td>49</td></tr><tr><td>loss</td><td>628989824.0</td></tr><tr><td>mae</td><td>15807.42676</td></tr><tr><td>val_loss</td><td>551999360.0</td></tr><tr><td>val_mae</td><td>14492.64258</td></tr></table>\n",
       "</div></div>\n",
       "Synced 5 W&B file(s), 0 media file(s), 0 artifact file(s) and 1 other file(s)\n",
       "<br/>Synced <strong style=\"color:#cdcd00\">lemon-sweep-9</strong>: <a href=\"https://wandb.ai/luiscostigan/house-price-prediction/runs/73jn3sif\" target=\"_blank\">https://wandb.ai/luiscostigan/house-price-prediction/runs/73jn3sif</a><br/>\n",
       "Find logs at: <code>./wandb/run-20220228_032333-73jn3sif/logs</code><br/>\n"
      ],
      "text/plain": [
       "<IPython.core.display.HTML object>"
      ]
     },
     "metadata": {},
     "output_type": "display_data"
    },
    {
     "data": {
      "text/html": [
       "\n",
       "                    Syncing run <strong><a href=\"https://wandb.ai/luiscostigan/house-price-prediction/runs/73jn3sif\" target=\"_blank\">lemon-sweep-9</a></strong> to <a href=\"https://wandb.ai/luiscostigan/house-price-prediction\" target=\"_blank\">Weights & Biases</a> (<a href=\"https://docs.wandb.com/integrations/jupyter.html\" target=\"_blank\">docs</a>).<br/>\n",
       "Sweep page: <a href=\"https://wandb.ai/luiscostigan/house-price-prediction/sweeps/cp52f928\" target=\"_blank\">https://wandb.ai/luiscostigan/house-price-prediction/sweeps/cp52f928</a><br/>\n",
       "\n",
       "                "
      ],
      "text/plain": [
       "<IPython.core.display.HTML object>"
      ]
     },
     "metadata": {},
     "output_type": "display_data"
    },
    {
     "name": "stdout",
     "output_type": "stream",
     "text": [
      "37/37 [==============================] - 0s 2ms/step - loss: 623685440.0000 - mae: 16152.0205\n",
      "Score for fold 2: loss of 623685440.0; mae of 16152.0205078125\n",
      "------------------------------------------------------------------------\n",
      "Score per fold\n",
      "------------------------------------------------------------------------\n",
      "> Fold 1 - Loss: 551999296.0 - Accuracy: 14492.642578125%\n",
      "------------------------------------------------------------------------\n",
      "> Fold 2 - Loss: 623685440.0 - Accuracy: 16152.0205078125%\n",
      "------------------------------------------------------------------------\n",
      "Average scores for all folds:\n",
      "> MAE: 15322.33154296875 (+- 829.68896484375)\n",
      "> Loss: 587842368.0\n",
      "------------------------------------------------------------------------\n"
     ]
    },
    {
     "data": {
      "text/html": [
       "<br/>Waiting for W&B process to finish, PID 25415... <strong style=\"color:green\">(success).</strong>"
      ],
      "text/plain": [
       "<IPython.core.display.HTML object>"
      ]
     },
     "metadata": {},
     "output_type": "display_data"
    },
    {
     "data": {
      "application/vnd.jupyter.widget-view+json": {
       "model_id": "e3983d97c4624761857ef0f9811bd422",
       "version_major": 2,
       "version_minor": 0
      },
      "text/plain": [
       "VBox(children=(Label(value=' 1.56MB of 2.45MB uploaded (0.00MB deduped)\\r'), FloatProgress(value=0.63787654238…"
      ]
     },
     "metadata": {},
     "output_type": "display_data"
    },
    {
     "data": {
      "text/html": [
       "<style>\n",
       "    table.wandb td:nth-child(1) { padding: 0 10px; text-align: right }\n",
       "    .wandb-row { display: flex; flex-direction: row; flex-wrap: wrap; width: 100% }\n",
       "    .wandb-col { display: flex; flex-direction: column; flex-basis: 100%; flex: 1; padding: 10px; }\n",
       "    </style>\n",
       "<div class=\"wandb-row\"><div class=\"wandb-col\">\n",
       "<h3>Run history:</h3><br/><table class=\"wandb\"><tr><td>Mean Validation Loss (all folds)</td><td>▁</td></tr><tr><td>Mean Validation MAE (all folds)</td><td>▁</td></tr><tr><td>epoch</td><td>▁▁▁▁▂▂▂▂▂▃▃▃▃▃▃▄▄▄▄▄▅▅▅▅▅▅▆▆▆▆▆▆▇▇▇▇▇███</td></tr><tr><td>loss</td><td>███▇▅▄▃▂▁▁▁▁▁▁▁▁▁▁▁▁▁▁▁▁▁▁▁▁▁▁▁▁▁▁▁▁▁▁▁▁</td></tr><tr><td>mae</td><td>███▇▆▅▄▃▂▂▁▁▁▁▁▁▁▁▁▁▁▁▁▁▁▁▁▁▁▁▁▁▁▁▁▁▁▁▁▁</td></tr><tr><td>val_loss</td><td>██▇▇▅▃▂▂▁▁▁▁▁▁▁▁▁▁▁▁▁▁▁▁▁▁▁▁▁▁▁▁▁▁▁▁▁▁▁▁</td></tr><tr><td>val_mae</td><td>███▇▆▄▃▂▂▂▁▁▁▁▁▁▁▁▁▁▁▁▁▁▁▁▁▁▁▁▁▁▁▁▁▁▁▁▁▁</td></tr></table><br/></div><div class=\"wandb-col\">\n",
       "<h3>Run summary:</h3><br/><table class=\"wandb\"><tr><td>Mean Validation Loss (all folds)</td><td>587842368.0</td></tr><tr><td>Mean Validation MAE (all folds)</td><td>15322.33154</td></tr><tr><td>best_epoch</td><td>47</td></tr><tr><td>best_val_loss</td><td>546612224.0</td></tr><tr><td>epoch</td><td>49</td></tr><tr><td>loss</td><td>580178176.0</td></tr><tr><td>mae</td><td>15079.13574</td></tr><tr><td>val_loss</td><td>623685440.0</td></tr><tr><td>val_mae</td><td>16152.01855</td></tr></table>\n",
       "</div></div>\n",
       "Synced 5 W&B file(s), 0 media file(s), 0 artifact file(s) and 1 other file(s)\n",
       "<br/>Synced <strong style=\"color:#cdcd00\">lemon-sweep-9</strong>: <a href=\"https://wandb.ai/luiscostigan/house-price-prediction/runs/73jn3sif\" target=\"_blank\">https://wandb.ai/luiscostigan/house-price-prediction/runs/73jn3sif</a><br/>\n",
       "Find logs at: <code>./wandb/run-20220228_032347-73jn3sif/logs</code><br/>\n"
      ],
      "text/plain": [
       "<IPython.core.display.HTML object>"
      ]
     },
     "metadata": {},
     "output_type": "display_data"
    },
    {
     "data": {
      "text/html": [
       "\n",
       "                    Syncing run <strong><a href=\"https://wandb.ai/luiscostigan/house-price-prediction/runs/73jn3sif\" target=\"_blank\">lemon-sweep-9</a></strong> to <a href=\"https://wandb.ai/luiscostigan/house-price-prediction\" target=\"_blank\">Weights & Biases</a> (<a href=\"https://docs.wandb.com/integrations/jupyter.html\" target=\"_blank\">docs</a>).<br/>\n",
       "Sweep page: <a href=\"https://wandb.ai/luiscostigan/house-price-prediction/sweeps/cp52f928\" target=\"_blank\">https://wandb.ai/luiscostigan/house-price-prediction/sweeps/cp52f928</a><br/>\n",
       "\n",
       "                "
      ],
      "text/plain": [
       "<IPython.core.display.HTML object>"
      ]
     },
     "metadata": {},
     "output_type": "display_data"
    },
    {
     "name": "stdout",
     "output_type": "stream",
     "text": [
      "37/37 [==============================] - 0s 2ms/step - loss: 631915456.0000 - mae: 16457.9688\n",
      "Score for fold 3: loss of 631915456.0; mae of 16457.96875\n",
      "------------------------------------------------------------------------\n",
      "Score per fold\n",
      "------------------------------------------------------------------------\n",
      "> Fold 1 - Loss: 551999296.0 - Accuracy: 14492.642578125%\n",
      "------------------------------------------------------------------------\n",
      "> Fold 2 - Loss: 623685440.0 - Accuracy: 16152.0205078125%\n",
      "------------------------------------------------------------------------\n",
      "> Fold 3 - Loss: 631915456.0 - Accuracy: 16457.96875%\n",
      "------------------------------------------------------------------------\n",
      "Average scores for all folds:\n",
      "> MAE: 15700.877278645834 (+- 863.432838685753)\n",
      "> Loss: 602533397.3333334\n",
      "------------------------------------------------------------------------\n"
     ]
    },
    {
     "data": {
      "text/html": [
       "<br/>Waiting for W&B process to finish, PID 26589... <strong style=\"color:green\">(success).</strong>"
      ],
      "text/plain": [
       "<IPython.core.display.HTML object>"
      ]
     },
     "metadata": {},
     "output_type": "display_data"
    },
    {
     "data": {
      "application/vnd.jupyter.widget-view+json": {
       "model_id": "81674f5eb68f4b899c28561f9d26476f",
       "version_major": 2,
       "version_minor": 0
      },
      "text/plain": [
       "VBox(children=(Label(value=' 1.63MB of 2.45MB uploaded (0.00MB deduped)\\r'), FloatProgress(value=0.66655889064…"
      ]
     },
     "metadata": {},
     "output_type": "display_data"
    },
    {
     "data": {
      "text/html": [
       "<style>\n",
       "    table.wandb td:nth-child(1) { padding: 0 10px; text-align: right }\n",
       "    .wandb-row { display: flex; flex-direction: row; flex-wrap: wrap; width: 100% }\n",
       "    .wandb-col { display: flex; flex-direction: column; flex-basis: 100%; flex: 1; padding: 10px; }\n",
       "    </style>\n",
       "<div class=\"wandb-row\"><div class=\"wandb-col\">\n",
       "<h3>Run history:</h3><br/><table class=\"wandb\"><tr><td>Mean Validation Loss (all folds)</td><td>▁</td></tr><tr><td>Mean Validation MAE (all folds)</td><td>▁</td></tr><tr><td>epoch</td><td>▁▁▁▁▂▂▂▂▂▃▃▃▃▃▃▄▄▄▄▄▅▅▅▅▅▅▆▆▆▆▆▆▇▇▇▇▇███</td></tr><tr><td>loss</td><td>███▇▅▄▃▂▁▁▁▁▁▁▁▁▁▁▁▁▁▁▁▁▁▁▁▁▁▁▁▁▁▁▁▁▁▁▁▁</td></tr><tr><td>mae</td><td>███▇▆▅▄▃▂▂▂▁▁▁▁▁▁▁▁▁▁▁▁▁▁▁▁▁▁▁▁▁▁▁▁▁▁▁▁▁</td></tr><tr><td>val_loss</td><td>██▇▇▅▃▂▂▁▁▁▁▁▁▁▁▁▁▁▁▁▁▁▁▁▁▁▁▁▁▁▁▁▁▁▁▁▁▁▁</td></tr><tr><td>val_mae</td><td>███▇▆▄▃▂▂▂▁▁▁▁▁▁▁▁▁▁▁▁▁▁▁▁▁▁▁▁▁▁▁▁▁▁▁▁▁▁</td></tr></table><br/></div><div class=\"wandb-col\">\n",
       "<h3>Run summary:</h3><br/><table class=\"wandb\"><tr><td>Mean Validation Loss (all folds)</td><td>602533397.33333</td></tr><tr><td>Mean Validation MAE (all folds)</td><td>15700.87728</td></tr><tr><td>best_epoch</td><td>44</td></tr><tr><td>best_val_loss</td><td>551118144.0</td></tr><tr><td>epoch</td><td>49</td></tr><tr><td>loss</td><td>607921408.0</td></tr><tr><td>mae</td><td>15196.23926</td></tr><tr><td>val_loss</td><td>631915520.0</td></tr><tr><td>val_mae</td><td>16457.9668</td></tr></table>\n",
       "</div></div>\n",
       "Synced 5 W&B file(s), 0 media file(s), 0 artifact file(s) and 1 other file(s)\n",
       "<br/>Synced <strong style=\"color:#cdcd00\">lemon-sweep-9</strong>: <a href=\"https://wandb.ai/luiscostigan/house-price-prediction/runs/73jn3sif\" target=\"_blank\">https://wandb.ai/luiscostigan/house-price-prediction/runs/73jn3sif</a><br/>\n",
       "Find logs at: <code>./wandb/run-20220228_032401-73jn3sif/logs</code><br/>\n"
      ],
      "text/plain": [
       "<IPython.core.display.HTML object>"
      ]
     },
     "metadata": {},
     "output_type": "display_data"
    },
    {
     "data": {
      "text/html": [
       "\n",
       "                    Syncing run <strong><a href=\"https://wandb.ai/luiscostigan/house-price-prediction/runs/73jn3sif\" target=\"_blank\">lemon-sweep-9</a></strong> to <a href=\"https://wandb.ai/luiscostigan/house-price-prediction\" target=\"_blank\">Weights & Biases</a> (<a href=\"https://docs.wandb.com/integrations/jupyter.html\" target=\"_blank\">docs</a>).<br/>\n",
       "Sweep page: <a href=\"https://wandb.ai/luiscostigan/house-price-prediction/sweeps/cp52f928\" target=\"_blank\">https://wandb.ai/luiscostigan/house-price-prediction/sweeps/cp52f928</a><br/>\n",
       "\n",
       "                "
      ],
      "text/plain": [
       "<IPython.core.display.HTML object>"
      ]
     },
     "metadata": {},
     "output_type": "display_data"
    },
    {
     "name": "stdout",
     "output_type": "stream",
     "text": [
      "37/37 [==============================] - 0s 2ms/step - loss: 540478912.0000 - mae: 14028.5371\n",
      "Score for fold 4: loss of 540478912.0; mae of 14028.537109375\n",
      "------------------------------------------------------------------------\n",
      "Score per fold\n",
      "------------------------------------------------------------------------\n",
      "> Fold 1 - Loss: 551999296.0 - Accuracy: 14492.642578125%\n",
      "------------------------------------------------------------------------\n",
      "> Fold 2 - Loss: 623685440.0 - Accuracy: 16152.0205078125%\n",
      "------------------------------------------------------------------------\n",
      "> Fold 3 - Loss: 631915456.0 - Accuracy: 16457.96875%\n",
      "------------------------------------------------------------------------\n",
      "> Fold 4 - Loss: 540478912.0 - Accuracy: 14028.537109375%\n",
      "------------------------------------------------------------------------\n",
      "Average scores for all folds:\n",
      "> MAE: 15282.792236328125 (+- 1040.9238723461494)\n",
      "> Loss: 587019776.0\n",
      "------------------------------------------------------------------------\n"
     ]
    },
    {
     "data": {
      "text/html": [
       "<br/>Waiting for W&B process to finish, PID 27765... <strong style=\"color:green\">(success).</strong>"
      ],
      "text/plain": [
       "<IPython.core.display.HTML object>"
      ]
     },
     "metadata": {},
     "output_type": "display_data"
    },
    {
     "data": {
      "application/vnd.jupyter.widget-view+json": {
       "model_id": "bb4dc1d10cbf4848ba81f7cc5599e456",
       "version_major": 2,
       "version_minor": 0
      },
      "text/plain": [
       "VBox(children=(Label(value=' 2.45MB of 2.45MB uploaded (0.00MB deduped)\\r'), FloatProgress(value=1.0, max=1.0)…"
      ]
     },
     "metadata": {},
     "output_type": "display_data"
    },
    {
     "data": {
      "text/html": [
       "<style>\n",
       "    table.wandb td:nth-child(1) { padding: 0 10px; text-align: right }\n",
       "    .wandb-row { display: flex; flex-direction: row; flex-wrap: wrap; width: 100% }\n",
       "    .wandb-col { display: flex; flex-direction: column; flex-basis: 100%; flex: 1; padding: 10px; }\n",
       "    </style>\n",
       "<div class=\"wandb-row\"><div class=\"wandb-col\">\n",
       "<h3>Run history:</h3><br/><table class=\"wandb\"><tr><td>Mean Validation Loss (all folds)</td><td>▁</td></tr><tr><td>Mean Validation MAE (all folds)</td><td>▁</td></tr><tr><td>epoch</td><td>▁▁▁▁▂▂▂▂▂▃▃▃▃▃▃▄▄▄▄▄▅▅▅▅▅▅▆▆▆▆▆▆▇▇▇▇▇███</td></tr><tr><td>loss</td><td>███▇▅▄▃▂▁▁▁▁▁▁▁▁▁▁▁▁▁▁▁▁▁▁▁▁▁▁▁▁▁▁▁▁▁▁▁▁</td></tr><tr><td>mae</td><td>███▇▆▅▄▃▂▂▂▁▁▁▁▁▁▁▁▁▁▁▁▁▁▁▁▁▁▁▁▁▁▁▁▁▁▁▁▁</td></tr><tr><td>val_loss</td><td>██▇▇▅▄▂▂▁▁▁▁▁▁▁▁▁▁▁▁▁▁▁▁▁▁▁▁▁▁▁▁▁▁▁▁▁▁▁▁</td></tr><tr><td>val_mae</td><td>███▇▆▅▃▂▂▂▁▂▁▁▁▁▁▁▁▁▁▁▁▁▁▁▁▁▁▁▁▁▁▁▁▁▁▁▁▁</td></tr></table><br/></div><div class=\"wandb-col\">\n",
       "<h3>Run summary:</h3><br/><table class=\"wandb\"><tr><td>Mean Validation Loss (all folds)</td><td>587019776.0</td></tr><tr><td>Mean Validation MAE (all folds)</td><td>15282.79224</td></tr><tr><td>best_epoch</td><td>49</td></tr><tr><td>best_val_loss</td><td>540478976.0</td></tr><tr><td>epoch</td><td>49</td></tr><tr><td>loss</td><td>592803904.0</td></tr><tr><td>mae</td><td>15374.66309</td></tr><tr><td>val_loss</td><td>540478976.0</td></tr><tr><td>val_mae</td><td>14028.53516</td></tr></table>\n",
       "</div></div>\n",
       "Synced 5 W&B file(s), 0 media file(s), 0 artifact file(s) and 1 other file(s)\n",
       "<br/>Synced <strong style=\"color:#cdcd00\">lemon-sweep-9</strong>: <a href=\"https://wandb.ai/luiscostigan/house-price-prediction/runs/73jn3sif\" target=\"_blank\">https://wandb.ai/luiscostigan/house-price-prediction/runs/73jn3sif</a><br/>\n",
       "Find logs at: <code>./wandb/run-20220228_032415-73jn3sif/logs</code><br/>\n"
      ],
      "text/plain": [
       "<IPython.core.display.HTML object>"
      ]
     },
     "metadata": {},
     "output_type": "display_data"
    },
    {
     "data": {
      "text/html": [
       "\n",
       "                    Syncing run <strong><a href=\"https://wandb.ai/luiscostigan/house-price-prediction/runs/73jn3sif\" target=\"_blank\">lemon-sweep-9</a></strong> to <a href=\"https://wandb.ai/luiscostigan/house-price-prediction\" target=\"_blank\">Weights & Biases</a> (<a href=\"https://docs.wandb.com/integrations/jupyter.html\" target=\"_blank\">docs</a>).<br/>\n",
       "Sweep page: <a href=\"https://wandb.ai/luiscostigan/house-price-prediction/sweeps/cp52f928\" target=\"_blank\">https://wandb.ai/luiscostigan/house-price-prediction/sweeps/cp52f928</a><br/>\n",
       "\n",
       "                "
      ],
      "text/plain": [
       "<IPython.core.display.HTML object>"
      ]
     },
     "metadata": {},
     "output_type": "display_data"
    },
    {
     "name": "stdout",
     "output_type": "stream",
     "text": [
      "37/37 [==============================] - 0s 3ms/step - loss: 560606656.0000 - mae: 14244.8848\n",
      "Score for fold 5: loss of 560606656.0; mae of 14244.884765625\n",
      "------------------------------------------------------------------------\n",
      "Score per fold\n",
      "------------------------------------------------------------------------\n",
      "> Fold 1 - Loss: 551999296.0 - Accuracy: 14492.642578125%\n",
      "------------------------------------------------------------------------\n",
      "> Fold 2 - Loss: 623685440.0 - Accuracy: 16152.0205078125%\n",
      "------------------------------------------------------------------------\n",
      "> Fold 3 - Loss: 631915456.0 - Accuracy: 16457.96875%\n",
      "------------------------------------------------------------------------\n",
      "> Fold 4 - Loss: 540478912.0 - Accuracy: 14028.537109375%\n",
      "------------------------------------------------------------------------\n",
      "> Fold 5 - Loss: 560606656.0 - Accuracy: 14244.884765625%\n",
      "------------------------------------------------------------------------\n",
      "Average scores for all folds:\n",
      "> MAE: 15075.2107421875 (+- 1019.4009580408975)\n",
      "> Loss: 581737152.0\n",
      "------------------------------------------------------------------------\n"
     ]
    },
    {
     "data": {
      "text/html": [
       "<br/>Waiting for W&B process to finish, PID 28935... <strong style=\"color:green\">(success).</strong>"
      ],
      "text/plain": [
       "<IPython.core.display.HTML object>"
      ]
     },
     "metadata": {},
     "output_type": "display_data"
    },
    {
     "data": {
      "application/vnd.jupyter.widget-view+json": {
       "model_id": "877d2b3635e74422baf4dffe07ab018c",
       "version_major": 2,
       "version_minor": 0
      },
      "text/plain": [
       "VBox(children=(Label(value=' 2.31MB of 2.45MB uploaded (0.00MB deduped)\\r'), FloatProgress(value=0.94386585264…"
      ]
     },
     "metadata": {},
     "output_type": "display_data"
    },
    {
     "data": {
      "text/html": [
       "<style>\n",
       "    table.wandb td:nth-child(1) { padding: 0 10px; text-align: right }\n",
       "    .wandb-row { display: flex; flex-direction: row; flex-wrap: wrap; width: 100% }\n",
       "    .wandb-col { display: flex; flex-direction: column; flex-basis: 100%; flex: 1; padding: 10px; }\n",
       "    </style>\n",
       "<div class=\"wandb-row\"><div class=\"wandb-col\">\n",
       "<h3>Run history:</h3><br/><table class=\"wandb\"><tr><td>Mean Validation Loss (all folds)</td><td>▁</td></tr><tr><td>Mean Validation MAE (all folds)</td><td>▁</td></tr><tr><td>epoch</td><td>▁▁▁▁▂▂▂▂▂▃▃▃▃▃▃▄▄▄▄▄▅▅▅▅▅▅▆▆▆▆▆▆▇▇▇▇▇███</td></tr><tr><td>loss</td><td>███▇▅▄▃▂▁▁▁▁▁▁▁▁▁▁▁▁▁▁▁▁▁▁▁▁▁▁▁▁▁▁▁▁▁▁▁▁</td></tr><tr><td>mae</td><td>████▆▅▄▃▂▂▂▁▁▁▁▁▁▁▁▁▁▁▁▁▁▁▁▁▁▁▁▁▁▁▁▁▁▁▁▁</td></tr><tr><td>val_loss</td><td>██▇▇▅▄▃▂▁▁▁▁▁▁▁▁▁▁▁▁▁▁▁▁▁▁▁▁▁▁▁▁▁▁▁▁▁▁▁▁</td></tr><tr><td>val_mae</td><td>███▇▆▅▃▂▂▂▂▁▁▁▁▁▁▁▁▁▁▁▁▁▁▁▁▁▁▁▁▁▁▁▁▁▁▁▁▁</td></tr></table><br/></div><div class=\"wandb-col\">\n",
       "<h3>Run summary:</h3><br/><table class=\"wandb\"><tr><td>Mean Validation Loss (all folds)</td><td>581737152.0</td></tr><tr><td>Mean Validation MAE (all folds)</td><td>15075.21074</td></tr><tr><td>best_epoch</td><td>47</td></tr><tr><td>best_val_loss</td><td>550680832.0</td></tr><tr><td>epoch</td><td>49</td></tr><tr><td>loss</td><td>619918848.0</td></tr><tr><td>mae</td><td>15166.35938</td></tr><tr><td>val_loss</td><td>560606720.0</td></tr><tr><td>val_mae</td><td>14244.88477</td></tr></table>\n",
       "</div></div>\n",
       "Synced 5 W&B file(s), 0 media file(s), 0 artifact file(s) and 1 other file(s)\n",
       "<br/>Synced <strong style=\"color:#cdcd00\">lemon-sweep-9</strong>: <a href=\"https://wandb.ai/luiscostigan/house-price-prediction/runs/73jn3sif\" target=\"_blank\">https://wandb.ai/luiscostigan/house-price-prediction/runs/73jn3sif</a><br/>\n",
       "Find logs at: <code>./wandb/run-20220228_032429-73jn3sif/logs</code><br/>\n"
      ],
      "text/plain": [
       "<IPython.core.display.HTML object>"
      ]
     },
     "metadata": {},
     "output_type": "display_data"
    },
    {
     "name": "stderr",
     "output_type": "stream",
     "text": [
      "\u001b[34m\u001b[1mwandb\u001b[0m: Agent Starting Run: m7oh0fyy with config:\n",
      "\u001b[34m\u001b[1mwandb\u001b[0m: \tbatch_size: 64\n",
      "\u001b[34m\u001b[1mwandb\u001b[0m: \tdropout1: 0.5218132953569848\n",
      "\u001b[34m\u001b[1mwandb\u001b[0m: \tepochs: 50\n"
     ]
    },
    {
     "data": {
      "text/html": [
       "\n",
       "                    Syncing run <strong><a href=\"https://wandb.ai/luiscostigan/house-price-prediction/runs/m7oh0fyy\" target=\"_blank\">divine-sweep-10</a></strong> to <a href=\"https://wandb.ai/luiscostigan/house-price-prediction\" target=\"_blank\">Weights & Biases</a> (<a href=\"https://docs.wandb.com/integrations/jupyter.html\" target=\"_blank\">docs</a>).<br/>\n",
       "Sweep page: <a href=\"https://wandb.ai/luiscostigan/house-price-prediction/sweeps/cp52f928\" target=\"_blank\">https://wandb.ai/luiscostigan/house-price-prediction/sweeps/cp52f928</a><br/>\n",
       "\n",
       "                "
      ],
      "text/plain": [
       "<IPython.core.display.HTML object>"
      ]
     },
     "metadata": {},
     "output_type": "display_data"
    },
    {
     "name": "stdout",
     "output_type": "stream",
     "text": [
      "37/37 [==============================] - 0s 2ms/step - loss: 489506912.0000 - mae: 13148.0615\n",
      "Score for fold 1: loss of 489506912.0; mae of 13148.0615234375\n",
      "------------------------------------------------------------------------\n",
      "Score per fold\n",
      "------------------------------------------------------------------------\n",
      "> Fold 1 - Loss: 489506912.0 - Accuracy: 13148.0615234375%\n",
      "------------------------------------------------------------------------\n",
      "Average scores for all folds:\n",
      "> MAE: 13148.0615234375 (+- 0.0)\n",
      "> Loss: 489506912.0\n",
      "------------------------------------------------------------------------\n"
     ]
    },
    {
     "data": {
      "text/html": [
       "<br/>Waiting for W&B process to finish, PID 30148... <strong style=\"color:green\">(success).</strong>"
      ],
      "text/plain": [
       "<IPython.core.display.HTML object>"
      ]
     },
     "metadata": {},
     "output_type": "display_data"
    },
    {
     "data": {
      "application/vnd.jupyter.widget-view+json": {
       "model_id": "f429d179680f48dda2b8cd221c1f154b",
       "version_major": 2,
       "version_minor": 0
      },
      "text/plain": [
       "VBox(children=(Label(value=' 1.69MB of 2.45MB uploaded (0.00MB deduped)\\r'), FloatProgress(value=0.68890049271…"
      ]
     },
     "metadata": {},
     "output_type": "display_data"
    },
    {
     "data": {
      "text/html": [
       "<style>\n",
       "    table.wandb td:nth-child(1) { padding: 0 10px; text-align: right }\n",
       "    .wandb-row { display: flex; flex-direction: row; flex-wrap: wrap; width: 100% }\n",
       "    .wandb-col { display: flex; flex-direction: column; flex-basis: 100%; flex: 1; padding: 10px; }\n",
       "    </style>\n",
       "<div class=\"wandb-row\"><div class=\"wandb-col\">\n",
       "<h3>Run history:</h3><br/><table class=\"wandb\"><tr><td>Mean Validation Loss (all folds)</td><td>▁</td></tr><tr><td>Mean Validation MAE (all folds)</td><td>▁</td></tr><tr><td>epoch</td><td>▁▁▁▁▂▂▂▂▂▃▃▃▃▃▃▄▄▄▄▄▅▅▅▅▅▅▆▆▆▆▆▆▇▇▇▇▇███</td></tr><tr><td>loss</td><td>██▆▄▁▁▁▁▁▁▁▁▁▁▁▁▁▁▁▁▁▁▁▁▁▁▁▁▁▁▁▁▁▁▁▁▁▁▁▁</td></tr><tr><td>mae</td><td>██▇▅▂▂▁▁▁▁▁▁▁▁▁▁▁▁▁▁▁▁▁▁▁▁▁▁▁▁▁▁▁▁▁▁▁▁▁▁</td></tr><tr><td>val_loss</td><td>█▇▅▃▁▁▁▁▁▁▁▁▁▁▁▁▁▁▁▁▁▁▁▁▁▁▁▁▁▁▁▁▁▁▁▁▁▁▁▁</td></tr><tr><td>val_mae</td><td>█▇▆▄▂▂▁▁▁▁▁▁▁▁▁▁▁▁▁▁▁▁▁▁▁▁▁▁▁▁▁▁▁▁▁▁▁▁▁▁</td></tr></table><br/></div><div class=\"wandb-col\">\n",
       "<h3>Run summary:</h3><br/><table class=\"wandb\"><tr><td>Mean Validation Loss (all folds)</td><td>489506912.0</td></tr><tr><td>Mean Validation MAE (all folds)</td><td>13148.06152</td></tr><tr><td>best_epoch</td><td>47</td></tr><tr><td>best_val_loss</td><td>488038560.0</td></tr><tr><td>epoch</td><td>49</td></tr><tr><td>loss</td><td>553458048.0</td></tr><tr><td>mae</td><td>15342.28613</td></tr><tr><td>val_loss</td><td>489506848.0</td></tr><tr><td>val_mae</td><td>13148.06055</td></tr></table>\n",
       "</div></div>\n",
       "Synced 5 W&B file(s), 0 media file(s), 0 artifact file(s) and 1 other file(s)\n",
       "<br/>Synced <strong style=\"color:#cdcd00\">divine-sweep-10</strong>: <a href=\"https://wandb.ai/luiscostigan/house-price-prediction/runs/m7oh0fyy\" target=\"_blank\">https://wandb.ai/luiscostigan/house-price-prediction/runs/m7oh0fyy</a><br/>\n",
       "Find logs at: <code>./wandb/run-20220228_032447-m7oh0fyy/logs</code><br/>\n"
      ],
      "text/plain": [
       "<IPython.core.display.HTML object>"
      ]
     },
     "metadata": {},
     "output_type": "display_data"
    },
    {
     "data": {
      "text/html": [
       "\n",
       "                    Syncing run <strong><a href=\"https://wandb.ai/luiscostigan/house-price-prediction/runs/m7oh0fyy\" target=\"_blank\">divine-sweep-10</a></strong> to <a href=\"https://wandb.ai/luiscostigan/house-price-prediction\" target=\"_blank\">Weights & Biases</a> (<a href=\"https://docs.wandb.com/integrations/jupyter.html\" target=\"_blank\">docs</a>).<br/>\n",
       "Sweep page: <a href=\"https://wandb.ai/luiscostigan/house-price-prediction/sweeps/cp52f928\" target=\"_blank\">https://wandb.ai/luiscostigan/house-price-prediction/sweeps/cp52f928</a><br/>\n",
       "\n",
       "                "
      ],
      "text/plain": [
       "<IPython.core.display.HTML object>"
      ]
     },
     "metadata": {},
     "output_type": "display_data"
    },
    {
     "name": "stdout",
     "output_type": "stream",
     "text": [
      "37/37 [==============================] - 0s 2ms/step - loss: 477979520.0000 - mae: 12858.9521\n",
      "Score for fold 2: loss of 477979520.0; mae of 12858.9521484375\n",
      "------------------------------------------------------------------------\n",
      "Score per fold\n",
      "------------------------------------------------------------------------\n",
      "> Fold 1 - Loss: 489506912.0 - Accuracy: 13148.0615234375%\n",
      "------------------------------------------------------------------------\n",
      "> Fold 2 - Loss: 477979520.0 - Accuracy: 12858.9521484375%\n",
      "------------------------------------------------------------------------\n",
      "Average scores for all folds:\n",
      "> MAE: 13003.5068359375 (+- 144.5546875)\n",
      "> Loss: 483743216.0\n",
      "------------------------------------------------------------------------\n"
     ]
    },
    {
     "data": {
      "text/html": [
       "<br/>Waiting for W&B process to finish, PID 31342... <strong style=\"color:green\">(success).</strong>"
      ],
      "text/plain": [
       "<IPython.core.display.HTML object>"
      ]
     },
     "metadata": {},
     "output_type": "display_data"
    },
    {
     "data": {
      "application/vnd.jupyter.widget-view+json": {
       "model_id": "1ed9f0967b6442f087a0a2ee39f5b9f7",
       "version_major": 2,
       "version_minor": 0
      },
      "text/plain": [
       "VBox(children=(Label(value=' 2.45MB of 2.45MB uploaded (0.00MB deduped)\\r'), FloatProgress(value=1.0, max=1.0)…"
      ]
     },
     "metadata": {},
     "output_type": "display_data"
    },
    {
     "data": {
      "text/html": [
       "<style>\n",
       "    table.wandb td:nth-child(1) { padding: 0 10px; text-align: right }\n",
       "    .wandb-row { display: flex; flex-direction: row; flex-wrap: wrap; width: 100% }\n",
       "    .wandb-col { display: flex; flex-direction: column; flex-basis: 100%; flex: 1; padding: 10px; }\n",
       "    </style>\n",
       "<div class=\"wandb-row\"><div class=\"wandb-col\">\n",
       "<h3>Run history:</h3><br/><table class=\"wandb\"><tr><td>Mean Validation Loss (all folds)</td><td>▁</td></tr><tr><td>Mean Validation MAE (all folds)</td><td>▁</td></tr><tr><td>epoch</td><td>▁▁▁▁▂▂▂▂▂▃▃▃▃▃▃▄▄▄▄▄▅▅▅▅▅▅▆▆▆▆▆▆▇▇▇▇▇███</td></tr><tr><td>loss</td><td>██▆▄▁▁▁▁▁▁▁▁▁▁▁▁▁▁▁▁▁▁▁▁▁▁▁▁▁▁▁▁▁▁▁▁▁▁▁▁</td></tr><tr><td>mae</td><td>██▇▅▂▂▁▁▁▁▁▁▁▁▁▁▁▁▁▁▁▁▁▁▁▁▁▁▁▁▁▁▁▁▁▁▁▁▁▁</td></tr><tr><td>val_loss</td><td>█▇▅▃▁▁▁▁▁▁▁▁▁▁▁▁▁▁▁▁▁▁▁▁▁▁▁▁▁▁▁▁▁▁▁▁▁▁▁▁</td></tr><tr><td>val_mae</td><td>█▇▆▄▂▁▁▁▁▁▁▁▁▁▁▁▁▁▁▁▁▁▁▁▁▁▁▁▁▁▁▁▁▁▁▁▁▁▁▁</td></tr></table><br/></div><div class=\"wandb-col\">\n",
       "<h3>Run summary:</h3><br/><table class=\"wandb\"><tr><td>Mean Validation Loss (all folds)</td><td>483743216.0</td></tr><tr><td>Mean Validation MAE (all folds)</td><td>13003.50684</td></tr><tr><td>best_epoch</td><td>47</td></tr><tr><td>best_val_loss</td><td>477213248.0</td></tr><tr><td>epoch</td><td>49</td></tr><tr><td>loss</td><td>595569664.0</td></tr><tr><td>mae</td><td>15288.82031</td></tr><tr><td>val_loss</td><td>477979456.0</td></tr><tr><td>val_mae</td><td>12858.9541</td></tr></table>\n",
       "</div></div>\n",
       "Synced 5 W&B file(s), 0 media file(s), 0 artifact file(s) and 1 other file(s)\n",
       "<br/>Synced <strong style=\"color:#cdcd00\">divine-sweep-10</strong>: <a href=\"https://wandb.ai/luiscostigan/house-price-prediction/runs/m7oh0fyy\" target=\"_blank\">https://wandb.ai/luiscostigan/house-price-prediction/runs/m7oh0fyy</a><br/>\n",
       "Find logs at: <code>./wandb/run-20220228_032503-m7oh0fyy/logs</code><br/>\n"
      ],
      "text/plain": [
       "<IPython.core.display.HTML object>"
      ]
     },
     "metadata": {},
     "output_type": "display_data"
    },
    {
     "data": {
      "text/html": [
       "\n",
       "                    Syncing run <strong><a href=\"https://wandb.ai/luiscostigan/house-price-prediction/runs/m7oh0fyy\" target=\"_blank\">divine-sweep-10</a></strong> to <a href=\"https://wandb.ai/luiscostigan/house-price-prediction\" target=\"_blank\">Weights & Biases</a> (<a href=\"https://docs.wandb.com/integrations/jupyter.html\" target=\"_blank\">docs</a>).<br/>\n",
       "Sweep page: <a href=\"https://wandb.ai/luiscostigan/house-price-prediction/sweeps/cp52f928\" target=\"_blank\">https://wandb.ai/luiscostigan/house-price-prediction/sweeps/cp52f928</a><br/>\n",
       "\n",
       "                "
      ],
      "text/plain": [
       "<IPython.core.display.HTML object>"
      ]
     },
     "metadata": {},
     "output_type": "display_data"
    },
    {
     "name": "stdout",
     "output_type": "stream",
     "text": [
      "37/37 [==============================] - 0s 2ms/step - loss: 471004544.0000 - mae: 12597.2676\n",
      "Score for fold 3: loss of 471004544.0; mae of 12597.267578125\n",
      "------------------------------------------------------------------------\n",
      "Score per fold\n",
      "------------------------------------------------------------------------\n",
      "> Fold 1 - Loss: 489506912.0 - Accuracy: 13148.0615234375%\n",
      "------------------------------------------------------------------------\n",
      "> Fold 2 - Loss: 477979520.0 - Accuracy: 12858.9521484375%\n",
      "------------------------------------------------------------------------\n",
      "> Fold 3 - Loss: 471004544.0 - Accuracy: 12597.267578125%\n",
      "------------------------------------------------------------------------\n",
      "Average scores for all folds:\n",
      "> MAE: 12868.09375 (+- 224.95357922257787)\n",
      "> Loss: 479496992.0\n",
      "------------------------------------------------------------------------\n"
     ]
    },
    {
     "data": {
      "text/html": [
       "<br/>Waiting for W&B process to finish, PID 32542... <strong style=\"color:green\">(success).</strong>"
      ],
      "text/plain": [
       "<IPython.core.display.HTML object>"
      ]
     },
     "metadata": {},
     "output_type": "display_data"
    },
    {
     "data": {
      "application/vnd.jupyter.widget-view+json": {
       "model_id": "09758e577b6f407088ab28bb18124855",
       "version_major": 2,
       "version_minor": 0
      },
      "text/plain": [
       "VBox(children=(Label(value=' 2.45MB of 2.45MB uploaded (0.00MB deduped)\\r'), FloatProgress(value=1.0, max=1.0)…"
      ]
     },
     "metadata": {},
     "output_type": "display_data"
    },
    {
     "data": {
      "text/html": [
       "<style>\n",
       "    table.wandb td:nth-child(1) { padding: 0 10px; text-align: right }\n",
       "    .wandb-row { display: flex; flex-direction: row; flex-wrap: wrap; width: 100% }\n",
       "    .wandb-col { display: flex; flex-direction: column; flex-basis: 100%; flex: 1; padding: 10px; }\n",
       "    </style>\n",
       "<div class=\"wandb-row\"><div class=\"wandb-col\">\n",
       "<h3>Run history:</h3><br/><table class=\"wandb\"><tr><td>Mean Validation Loss (all folds)</td><td>▁</td></tr><tr><td>Mean Validation MAE (all folds)</td><td>▁</td></tr><tr><td>epoch</td><td>▁▁▁▁▂▂▂▂▂▃▃▃▃▃▃▄▄▄▄▄▅▅▅▅▅▅▆▆▆▆▆▆▇▇▇▇▇███</td></tr><tr><td>loss</td><td>██▆▄▁▁▁▁▁▁▁▁▁▁▁▁▁▁▁▁▁▁▁▁▁▁▁▁▁▁▁▁▁▁▁▁▁▁▁▁</td></tr><tr><td>mae</td><td>██▇▅▂▂▁▁▁▁▁▁▁▁▁▁▁▁▁▁▁▁▁▁▁▁▁▁▁▁▁▁▁▁▁▁▁▁▁▁</td></tr><tr><td>val_loss</td><td>█▇▅▃▁▁▁▁▁▁▁▁▁▁▁▁▁▁▁▁▁▁▁▁▁▁▁▁▁▁▁▁▁▁▁▁▁▁▁▁</td></tr><tr><td>val_mae</td><td>█▇▆▄▂▂▁▁▁▁▁▁▁▁▁▁▁▁▁▁▁▁▁▁▁▁▁▁▁▁▁▁▁▁▁▁▁▁▁▁</td></tr></table><br/></div><div class=\"wandb-col\">\n",
       "<h3>Run summary:</h3><br/><table class=\"wandb\"><tr><td>Mean Validation Loss (all folds)</td><td>479496992.0</td></tr><tr><td>Mean Validation MAE (all folds)</td><td>12868.09375</td></tr><tr><td>best_epoch</td><td>49</td></tr><tr><td>best_val_loss</td><td>471004480.0</td></tr><tr><td>epoch</td><td>49</td></tr><tr><td>loss</td><td>580285376.0</td></tr><tr><td>mae</td><td>15428.91797</td></tr><tr><td>val_loss</td><td>471004480.0</td></tr><tr><td>val_mae</td><td>12597.26562</td></tr></table>\n",
       "</div></div>\n",
       "Synced 5 W&B file(s), 0 media file(s), 0 artifact file(s) and 1 other file(s)\n",
       "<br/>Synced <strong style=\"color:#cdcd00\">divine-sweep-10</strong>: <a href=\"https://wandb.ai/luiscostigan/house-price-prediction/runs/m7oh0fyy\" target=\"_blank\">https://wandb.ai/luiscostigan/house-price-prediction/runs/m7oh0fyy</a><br/>\n",
       "Find logs at: <code>./wandb/run-20220228_032520-m7oh0fyy/logs</code><br/>\n"
      ],
      "text/plain": [
       "<IPython.core.display.HTML object>"
      ]
     },
     "metadata": {},
     "output_type": "display_data"
    },
    {
     "data": {
      "text/html": [
       "\n",
       "                    Syncing run <strong><a href=\"https://wandb.ai/luiscostigan/house-price-prediction/runs/m7oh0fyy\" target=\"_blank\">divine-sweep-10</a></strong> to <a href=\"https://wandb.ai/luiscostigan/house-price-prediction\" target=\"_blank\">Weights & Biases</a> (<a href=\"https://docs.wandb.com/integrations/jupyter.html\" target=\"_blank\">docs</a>).<br/>\n",
       "Sweep page: <a href=\"https://wandb.ai/luiscostigan/house-price-prediction/sweeps/cp52f928\" target=\"_blank\">https://wandb.ai/luiscostigan/house-price-prediction/sweeps/cp52f928</a><br/>\n",
       "\n",
       "                "
      ],
      "text/plain": [
       "<IPython.core.display.HTML object>"
      ]
     },
     "metadata": {},
     "output_type": "display_data"
    },
    {
     "name": "stdout",
     "output_type": "stream",
     "text": [
      "37/37 [==============================] - 0s 2ms/step - loss: 487222496.0000 - mae: 13082.9092\n",
      "Score for fold 4: loss of 487222496.0; mae of 13082.9091796875\n",
      "------------------------------------------------------------------------\n",
      "Score per fold\n",
      "------------------------------------------------------------------------\n",
      "> Fold 1 - Loss: 489506912.0 - Accuracy: 13148.0615234375%\n",
      "------------------------------------------------------------------------\n",
      "> Fold 2 - Loss: 477979520.0 - Accuracy: 12858.9521484375%\n",
      "------------------------------------------------------------------------\n",
      "> Fold 3 - Loss: 471004544.0 - Accuracy: 12597.267578125%\n",
      "------------------------------------------------------------------------\n",
      "> Fold 4 - Loss: 487222496.0 - Accuracy: 13082.9091796875%\n",
      "------------------------------------------------------------------------\n",
      "Average scores for all folds:\n",
      "> MAE: 12921.797607421875 (+- 215.88283282779506)\n",
      "> Loss: 481428368.0\n",
      "------------------------------------------------------------------------\n"
     ]
    },
    {
     "data": {
      "text/html": [
       "<br/>Waiting for W&B process to finish, PID 1274... <strong style=\"color:green\">(success).</strong>"
      ],
      "text/plain": [
       "<IPython.core.display.HTML object>"
      ]
     },
     "metadata": {},
     "output_type": "display_data"
    },
    {
     "data": {
      "application/vnd.jupyter.widget-view+json": {
       "model_id": "44801087baca42e793ac9bb6db0b35c7",
       "version_major": 2,
       "version_minor": 0
      },
      "text/plain": [
       "VBox(children=(Label(value=' 2.45MB of 2.45MB uploaded (0.00MB deduped)\\r'), FloatProgress(value=1.0, max=1.0)…"
      ]
     },
     "metadata": {},
     "output_type": "display_data"
    },
    {
     "data": {
      "text/html": [
       "<style>\n",
       "    table.wandb td:nth-child(1) { padding: 0 10px; text-align: right }\n",
       "    .wandb-row { display: flex; flex-direction: row; flex-wrap: wrap; width: 100% }\n",
       "    .wandb-col { display: flex; flex-direction: column; flex-basis: 100%; flex: 1; padding: 10px; }\n",
       "    </style>\n",
       "<div class=\"wandb-row\"><div class=\"wandb-col\">\n",
       "<h3>Run history:</h3><br/><table class=\"wandb\"><tr><td>Mean Validation Loss (all folds)</td><td>▁</td></tr><tr><td>Mean Validation MAE (all folds)</td><td>▁</td></tr><tr><td>epoch</td><td>▁▁▁▁▂▂▂▂▂▃▃▃▃▃▃▄▄▄▄▄▅▅▅▅▅▅▆▆▆▆▆▆▇▇▇▇▇███</td></tr><tr><td>loss</td><td>██▆▄▁▁▁▁▁▁▁▁▁▁▁▁▁▁▁▁▁▁▁▁▁▁▁▁▁▁▁▁▁▁▁▁▁▁▁▁</td></tr><tr><td>mae</td><td>██▇▅▂▂▁▁▁▁▁▁▁▁▁▁▁▁▁▁▁▁▁▁▁▁▁▁▁▁▁▁▁▁▁▁▁▁▁▁</td></tr><tr><td>val_loss</td><td>█▇▅▃▁▁▁▁▁▁▁▁▁▁▁▁▁▁▁▁▁▁▁▁▁▁▁▁▁▁▁▁▁▁▁▁▁▁▁▁</td></tr><tr><td>val_mae</td><td>█▇▆▄▂▂▁▁▁▁▁▁▁▁▁▁▁▁▁▁▁▁▁▁▁▁▁▁▁▁▁▁▁▁▁▁▁▁▁▁</td></tr></table><br/></div><div class=\"wandb-col\">\n",
       "<h3>Run summary:</h3><br/><table class=\"wandb\"><tr><td>Mean Validation Loss (all folds)</td><td>481428368.0</td></tr><tr><td>Mean Validation MAE (all folds)</td><td>12921.79761</td></tr><tr><td>best_epoch</td><td>46</td></tr><tr><td>best_val_loss</td><td>485625856.0</td></tr><tr><td>epoch</td><td>49</td></tr><tr><td>loss</td><td>566673600.0</td></tr><tr><td>mae</td><td>14989.5293</td></tr><tr><td>val_loss</td><td>487222464.0</td></tr><tr><td>val_mae</td><td>13082.90918</td></tr></table>\n",
       "</div></div>\n",
       "Synced 5 W&B file(s), 0 media file(s), 0 artifact file(s) and 1 other file(s)\n",
       "<br/>Synced <strong style=\"color:#cdcd00\">divine-sweep-10</strong>: <a href=\"https://wandb.ai/luiscostigan/house-price-prediction/runs/m7oh0fyy\" target=\"_blank\">https://wandb.ai/luiscostigan/house-price-prediction/runs/m7oh0fyy</a><br/>\n",
       "Find logs at: <code>./wandb/run-20220228_032537-m7oh0fyy/logs</code><br/>\n"
      ],
      "text/plain": [
       "<IPython.core.display.HTML object>"
      ]
     },
     "metadata": {},
     "output_type": "display_data"
    },
    {
     "data": {
      "text/html": [
       "\n",
       "                    Syncing run <strong><a href=\"https://wandb.ai/luiscostigan/house-price-prediction/runs/m7oh0fyy\" target=\"_blank\">divine-sweep-10</a></strong> to <a href=\"https://wandb.ai/luiscostigan/house-price-prediction\" target=\"_blank\">Weights & Biases</a> (<a href=\"https://docs.wandb.com/integrations/jupyter.html\" target=\"_blank\">docs</a>).<br/>\n",
       "Sweep page: <a href=\"https://wandb.ai/luiscostigan/house-price-prediction/sweeps/cp52f928\" target=\"_blank\">https://wandb.ai/luiscostigan/house-price-prediction/sweeps/cp52f928</a><br/>\n",
       "\n",
       "                "
      ],
      "text/plain": [
       "<IPython.core.display.HTML object>"
      ]
     },
     "metadata": {},
     "output_type": "display_data"
    },
    {
     "name": "stdout",
     "output_type": "stream",
     "text": [
      "37/37 [==============================] - 0s 2ms/step - loss: 476419104.0000 - mae: 12716.4170\n",
      "Score for fold 5: loss of 476419104.0; mae of 12716.4169921875\n",
      "------------------------------------------------------------------------\n",
      "Score per fold\n",
      "------------------------------------------------------------------------\n",
      "> Fold 1 - Loss: 489506912.0 - Accuracy: 13148.0615234375%\n",
      "------------------------------------------------------------------------\n",
      "> Fold 2 - Loss: 477979520.0 - Accuracy: 12858.9521484375%\n",
      "------------------------------------------------------------------------\n",
      "> Fold 3 - Loss: 471004544.0 - Accuracy: 12597.267578125%\n",
      "------------------------------------------------------------------------\n",
      "> Fold 4 - Loss: 487222496.0 - Accuracy: 13082.9091796875%\n",
      "------------------------------------------------------------------------\n",
      "> Fold 5 - Loss: 476419104.0 - Accuracy: 12716.4169921875%\n",
      "------------------------------------------------------------------------\n",
      "Average scores for all folds:\n",
      "> MAE: 12880.721484375 (+- 209.8411531279101)\n",
      "> Loss: 480426515.2\n",
      "------------------------------------------------------------------------\n"
     ]
    },
    {
     "data": {
      "text/html": [
       "<br/>Waiting for W&B process to finish, PID 2482... <strong style=\"color:green\">(success).</strong>"
      ],
      "text/plain": [
       "<IPython.core.display.HTML object>"
      ]
     },
     "metadata": {},
     "output_type": "display_data"
    },
    {
     "data": {
      "application/vnd.jupyter.widget-view+json": {
       "model_id": "0f43043617854a1783606a4ce349c6ce",
       "version_major": 2,
       "version_minor": 0
      },
      "text/plain": [
       "VBox(children=(Label(value=' 1.81MB of 2.45MB uploaded (0.00MB deduped)\\r'), FloatProgress(value=0.73987297913…"
      ]
     },
     "metadata": {},
     "output_type": "display_data"
    },
    {
     "data": {
      "text/html": [
       "<style>\n",
       "    table.wandb td:nth-child(1) { padding: 0 10px; text-align: right }\n",
       "    .wandb-row { display: flex; flex-direction: row; flex-wrap: wrap; width: 100% }\n",
       "    .wandb-col { display: flex; flex-direction: column; flex-basis: 100%; flex: 1; padding: 10px; }\n",
       "    </style>\n",
       "<div class=\"wandb-row\"><div class=\"wandb-col\">\n",
       "<h3>Run history:</h3><br/><table class=\"wandb\"><tr><td>Mean Validation Loss (all folds)</td><td>▁</td></tr><tr><td>Mean Validation MAE (all folds)</td><td>▁</td></tr><tr><td>epoch</td><td>▁▁▁▁▂▂▂▂▂▃▃▃▃▃▃▄▄▄▄▄▅▅▅▅▅▅▆▆▆▆▆▆▇▇▇▇▇███</td></tr><tr><td>loss</td><td>██▆▄▁▁▁▁▁▁▁▁▁▁▁▁▁▁▁▁▁▁▁▁▁▁▁▁▁▁▁▁▁▁▁▁▁▁▁▁</td></tr><tr><td>mae</td><td>██▇▅▂▂▁▁▁▁▁▁▁▁▁▁▁▁▁▁▁▁▁▁▁▁▁▁▁▁▁▁▁▁▁▁▁▁▁▁</td></tr><tr><td>val_loss</td><td>█▇▅▃▁▁▁▁▁▁▁▁▁▁▁▁▁▁▁▁▁▁▁▁▁▁▁▁▁▁▁▁▁▁▁▁▁▁▁▁</td></tr><tr><td>val_mae</td><td>█▇▆▄▂▂▁▁▁▁▁▁▁▁▁▁▁▁▁▁▁▁▁▁▁▁▁▁▁▁▁▁▁▁▁▁▁▁▁▁</td></tr></table><br/></div><div class=\"wandb-col\">\n",
       "<h3>Run summary:</h3><br/><table class=\"wandb\"><tr><td>Mean Validation Loss (all folds)</td><td>480426515.2</td></tr><tr><td>Mean Validation MAE (all folds)</td><td>12880.72148</td></tr><tr><td>best_epoch</td><td>49</td></tr><tr><td>best_val_loss</td><td>476419072.0</td></tr><tr><td>epoch</td><td>49</td></tr><tr><td>loss</td><td>584574720.0</td></tr><tr><td>mae</td><td>15015.22754</td></tr><tr><td>val_loss</td><td>476419072.0</td></tr><tr><td>val_mae</td><td>12716.41602</td></tr></table>\n",
       "</div></div>\n",
       "Synced 5 W&B file(s), 0 media file(s), 0 artifact file(s) and 1 other file(s)\n",
       "<br/>Synced <strong style=\"color:#cdcd00\">divine-sweep-10</strong>: <a href=\"https://wandb.ai/luiscostigan/house-price-prediction/runs/m7oh0fyy\" target=\"_blank\">https://wandb.ai/luiscostigan/house-price-prediction/runs/m7oh0fyy</a><br/>\n",
       "Find logs at: <code>./wandb/run-20220228_032554-m7oh0fyy/logs</code><br/>\n"
      ],
      "text/plain": [
       "<IPython.core.display.HTML object>"
      ]
     },
     "metadata": {},
     "output_type": "display_data"
    }
   ],
   "source": [
    "from wandb.keras import WandbCallback\n",
    "\n",
    "sweep_config = {\n",
    "  \"name\": \"keras-sequential-model-sweep\",\n",
    "  \"method\": \"random\",\n",
    "  \"parameters\": {\n",
    "    \"dropout1\": {\n",
    "      \"min\": 0.0,\n",
    "      \"max\": 0.8\n",
    "    },\n",
    "    \"epochs\": {\n",
    "      \"values\": [30,50,100]\n",
    "    },\n",
    "    \"batch_size\": {\n",
    "      \"values\": [16, 64, 128, 512]\n",
    "    }\n",
    "  }\n",
    "}\n",
    "\n",
    "config_defaults = {\n",
    "  \"dropout1\": 0.5,\n",
    "  \"epochs\": 50,\n",
    "  \"batch_size\": 64\n",
    "}\n",
    "\n",
    "def train():\n",
    "\n",
    "  mae_per_fold = []\n",
    "  loss_per_fold = []\n",
    "  fold_no = 1\n",
    "\n",
    "  # Go through each split, and get the index number for each (currently 50, 10 x 5 repeated k-fold) \n",
    "  for train, test in kf.split(X_train, y_train):\n",
    "\n",
    "    # With the current session in WandB\n",
    "    with wandb.init(config=config_defaults) as run:\n",
    "\n",
    "      # Recreate the model each time for each new batch\n",
    "      model = None # Not sure if this step is necessary\n",
    "      model = create_model()\n",
    "\n",
    "      # Fit model on new batches\n",
    "      model.fit(\n",
    "        np.asarray(X_train), \n",
    "        y_train, \n",
    "        epochs=wandb.config.epochs, \n",
    "        batch_size=wandb.config.batch_size, \n",
    "        verbose=0,\n",
    "        callbacks=[WandbCallback()], \n",
    "        validation_data=(np.asarray(X_train),y_train)\n",
    "        )\n",
    "      \n",
    "      # Generate data for each\n",
    "      scores = model.evaluate(np.asarray(X_train), y_train, callbacks=[WandbCallback()])\n",
    "      print(f'Score for fold {fold_no}: {model.metrics_names[0]} of {scores[0]}; {model.metrics_names[1]} of {scores[1]}')\n",
    "      mae_per_fold.append(scores[1])\n",
    "      loss_per_fold.append(scores[0])\n",
    "\n",
    "      # Increase fold number\n",
    "      fold_no = fold_no + 1\n",
    "\n",
    "      # == Provide average scores ==\n",
    "      print('------------------------------------------------------------------------')\n",
    "      print('Score per fold')\n",
    "      for i in range(0, len(mae_per_fold)):\n",
    "        print('------------------------------------------------------------------------')\n",
    "        print(f'> Fold {i+1} - Loss: {loss_per_fold[i]} - Accuracy: {mae_per_fold[i]}%')\n",
    "      print('------------------------------------------------------------------------')\n",
    "      print('Average scores for all folds:')\n",
    "      print(f'> MAE: {np.mean(mae_per_fold)} (+- {np.std(mae_per_fold)})')\n",
    "      print(f'> Loss: {np.mean(loss_per_fold)}')\n",
    "      print('------------------------------------------------------------------------')\n",
    "\n",
    "      wandb.log({\n",
    "        \"Mean Validation MAE (all folds)\": np.mean(mae_per_fold),\n",
    "        \"Mean Validation Loss (all folds)\": np.mean(loss_per_fold) \n",
    "        })\n",
    "\n",
    "keras_sequential_sweep_1 = wandb.sweep(sweep_config, project=\"house-price-prediction\", entity=\"luiscostigan\")\n",
    "\n",
    "count = 10\n",
    "wandb.agent(keras_sequential_sweep_1, function=train, count=count)"
   ]
  },
  {
   "cell_type": "markdown",
   "id": "a3fd60be-6f5c-4031-9cc8-c6f3d3b5b551",
   "metadata": {},
   "source": [
    "Train the model with Hyperopt to find best parameters.\n",
    "Retrain model with new best parameters.\n",
    "Make predictions."
   ]
  },
  {
   "cell_type": "code",
   "execution_count": 9,
   "id": "c8d51126",
   "metadata": {},
   "outputs": [
    {
     "name": "stdout",
     "output_type": "stream",
     "text": [
      "Num GPUs Available:  0\n"
     ]
    }
   ],
   "source": [
    "import tensorflow as tf\n",
    "print(\"Num GPUs Available: \", len(tf.config.list_physical_devices('GPU')))"
   ]
  },
  {
   "cell_type": "code",
   "execution_count": 9,
   "id": "7b238b8d-bf25-43da-acdb-7caa72dec5df",
   "metadata": {},
   "outputs": [],
   "source": [
    "# Enter best params from sweep\n",
    "best_params = {\n",
    "    \"dropout\": 0.4863,\n",
    "    \"epochs\": 100,\n",
    "    \"batch_size\": 16\n",
    "}\n",
    "\n",
    "def make_predictions(best_params):\n",
    "    \n",
    "    model = Sequential()\n",
    "    model.add(Dense(64, input_dim=X_train.shape[1], activation='relu'))\n",
    "    model.add(Dense(512, activation='relu'))\n",
    "    model.add(Dropout(best_params.get(\"dropout\")))\n",
    "    model.add(Dense(512, activation='relu'))\n",
    "    model.add(Dense(1))\n",
    "    model.compile(optimizer='rmsprop', loss=\"mse\", metrics=[\"mae\"])\n",
    "              \n",
    "    model.fit(X_train, y_train, epochs=best_params.get(\"epochs\"),\n",
    "              batch_size=best_params.get(\"batch_size\"), verbose = 0)\n",
    "    \n",
    "    preds  = model.predict(X_test, best_params.get(\"batch_size\"), verbose = 0)\n",
    "              \n",
    "    return preds"
   ]
  },
  {
   "cell_type": "code",
   "execution_count": 10,
   "id": "73e3b4ec-1072-44a8-82b7-620ce29e29db",
   "metadata": {},
   "outputs": [],
   "source": [
    "predictions = make_predictions(best_params)"
   ]
  },
  {
   "cell_type": "code",
   "execution_count": 14,
   "id": "6927d8b7",
   "metadata": {},
   "outputs": [
    {
     "data": {
      "text/html": [
       "<div>\n",
       "<style scoped>\n",
       "    .dataframe tbody tr th:only-of-type {\n",
       "        vertical-align: middle;\n",
       "    }\n",
       "\n",
       "    .dataframe tbody tr th {\n",
       "        vertical-align: top;\n",
       "    }\n",
       "\n",
       "    .dataframe thead th {\n",
       "        text-align: right;\n",
       "    }\n",
       "</style>\n",
       "<table border=\"1\" class=\"dataframe\">\n",
       "  <thead>\n",
       "    <tr style=\"text-align: right;\">\n",
       "      <th></th>\n",
       "      <th>0</th>\n",
       "      <th>1</th>\n",
       "      <th>2</th>\n",
       "      <th>3</th>\n",
       "      <th>4</th>\n",
       "      <th>5</th>\n",
       "      <th>6</th>\n",
       "      <th>7</th>\n",
       "      <th>8</th>\n",
       "      <th>9</th>\n",
       "      <th>...</th>\n",
       "      <th>299</th>\n",
       "      <th>300</th>\n",
       "      <th>301</th>\n",
       "      <th>302</th>\n",
       "      <th>303</th>\n",
       "      <th>304</th>\n",
       "      <th>305</th>\n",
       "      <th>306</th>\n",
       "      <th>307</th>\n",
       "      <th>308</th>\n",
       "    </tr>\n",
       "  </thead>\n",
       "  <tbody>\n",
       "    <tr>\n",
       "      <th>0</th>\n",
       "      <td>0.543460</td>\n",
       "      <td>0.521305</td>\n",
       "      <td>-0.783171</td>\n",
       "      <td>0.372756</td>\n",
       "      <td>-0.341712</td>\n",
       "      <td>-1.157314</td>\n",
       "      <td>-0.574965</td>\n",
       "      <td>0.071973</td>\n",
       "      <td>0.595904</td>\n",
       "      <td>-0.661405</td>\n",
       "      <td>...</td>\n",
       "      <td>0.0</td>\n",
       "      <td>0.0</td>\n",
       "      <td>0.0</td>\n",
       "      <td>1.0</td>\n",
       "      <td>0.0</td>\n",
       "      <td>0.0</td>\n",
       "      <td>0.0</td>\n",
       "      <td>0.0</td>\n",
       "      <td>1.0</td>\n",
       "      <td>0.0</td>\n",
       "    </tr>\n",
       "    <tr>\n",
       "      <th>1</th>\n",
       "      <td>0.591487</td>\n",
       "      <td>0.920145</td>\n",
       "      <td>-0.057760</td>\n",
       "      <td>0.372756</td>\n",
       "      <td>-0.440939</td>\n",
       "      <td>-1.302294</td>\n",
       "      <td>0.020106</td>\n",
       "      <td>1.120271</td>\n",
       "      <td>-0.292288</td>\n",
       "      <td>-0.353584</td>\n",
       "      <td>...</td>\n",
       "      <td>0.0</td>\n",
       "      <td>0.0</td>\n",
       "      <td>0.0</td>\n",
       "      <td>1.0</td>\n",
       "      <td>0.0</td>\n",
       "      <td>0.0</td>\n",
       "      <td>0.0</td>\n",
       "      <td>0.0</td>\n",
       "      <td>1.0</td>\n",
       "      <td>0.0</td>\n",
       "    </tr>\n",
       "    <tr>\n",
       "      <th>2</th>\n",
       "      <td>0.255303</td>\n",
       "      <td>0.859635</td>\n",
       "      <td>-0.783171</td>\n",
       "      <td>-0.526788</td>\n",
       "      <td>0.849000</td>\n",
       "      <td>0.630770</td>\n",
       "      <td>-0.574965</td>\n",
       "      <td>0.816150</td>\n",
       "      <td>-0.292288</td>\n",
       "      <td>-0.962437</td>\n",
       "      <td>...</td>\n",
       "      <td>0.0</td>\n",
       "      <td>0.0</td>\n",
       "      <td>0.0</td>\n",
       "      <td>1.0</td>\n",
       "      <td>0.0</td>\n",
       "      <td>0.0</td>\n",
       "      <td>0.0</td>\n",
       "      <td>0.0</td>\n",
       "      <td>1.0</td>\n",
       "      <td>0.0</td>\n",
       "    </tr>\n",
       "    <tr>\n",
       "      <th>3</th>\n",
       "      <td>0.447408</td>\n",
       "      <td>0.224645</td>\n",
       "      <td>-0.057760</td>\n",
       "      <td>0.372756</td>\n",
       "      <td>0.882075</td>\n",
       "      <td>0.630770</td>\n",
       "      <td>-0.464767</td>\n",
       "      <td>0.380703</td>\n",
       "      <td>-0.292288</td>\n",
       "      <td>-0.539182</td>\n",
       "      <td>...</td>\n",
       "      <td>0.0</td>\n",
       "      <td>0.0</td>\n",
       "      <td>0.0</td>\n",
       "      <td>1.0</td>\n",
       "      <td>0.0</td>\n",
       "      <td>0.0</td>\n",
       "      <td>0.0</td>\n",
       "      <td>0.0</td>\n",
       "      <td>1.0</td>\n",
       "      <td>0.0</td>\n",
       "    </tr>\n",
       "    <tr>\n",
       "      <th>4</th>\n",
       "      <td>-1.233507</td>\n",
       "      <td>-1.117361</td>\n",
       "      <td>1.393064</td>\n",
       "      <td>-0.526788</td>\n",
       "      <td>0.683623</td>\n",
       "      <td>0.340810</td>\n",
       "      <td>-0.574965</td>\n",
       "      <td>-0.400337</td>\n",
       "      <td>-0.292288</td>\n",
       "      <td>1.029350</td>\n",
       "      <td>...</td>\n",
       "      <td>0.0</td>\n",
       "      <td>0.0</td>\n",
       "      <td>0.0</td>\n",
       "      <td>1.0</td>\n",
       "      <td>0.0</td>\n",
       "      <td>0.0</td>\n",
       "      <td>0.0</td>\n",
       "      <td>0.0</td>\n",
       "      <td>1.0</td>\n",
       "      <td>0.0</td>\n",
       "    </tr>\n",
       "    <tr>\n",
       "      <th>...</th>\n",
       "      <td>...</td>\n",
       "      <td>...</td>\n",
       "      <td>...</td>\n",
       "      <td>...</td>\n",
       "      <td>...</td>\n",
       "      <td>...</td>\n",
       "      <td>...</td>\n",
       "      <td>...</td>\n",
       "      <td>...</td>\n",
       "      <td>...</td>\n",
       "      <td>...</td>\n",
       "      <td>...</td>\n",
       "      <td>...</td>\n",
       "      <td>...</td>\n",
       "      <td>...</td>\n",
       "      <td>...</td>\n",
       "      <td>...</td>\n",
       "      <td>...</td>\n",
       "      <td>...</td>\n",
       "      <td>...</td>\n",
       "      <td>...</td>\n",
       "    </tr>\n",
       "    <tr>\n",
       "      <th>1454</th>\n",
       "      <td>-2.290083</td>\n",
       "      <td>-2.964834</td>\n",
       "      <td>-1.508583</td>\n",
       "      <td>1.272300</td>\n",
       "      <td>-0.044034</td>\n",
       "      <td>-0.722375</td>\n",
       "      <td>-0.574965</td>\n",
       "      <td>-1.006277</td>\n",
       "      <td>-0.292288</td>\n",
       "      <td>-0.036708</td>\n",
       "      <td>...</td>\n",
       "      <td>0.0</td>\n",
       "      <td>0.0</td>\n",
       "      <td>0.0</td>\n",
       "      <td>1.0</td>\n",
       "      <td>0.0</td>\n",
       "      <td>0.0</td>\n",
       "      <td>0.0</td>\n",
       "      <td>0.0</td>\n",
       "      <td>1.0</td>\n",
       "      <td>0.0</td>\n",
       "    </tr>\n",
       "    <tr>\n",
       "      <th>1455</th>\n",
       "      <td>-2.290083</td>\n",
       "      <td>-3.007496</td>\n",
       "      <td>-1.508583</td>\n",
       "      <td>-0.526788</td>\n",
       "      <td>-0.044034</td>\n",
       "      <td>-0.722375</td>\n",
       "      <td>-0.574965</td>\n",
       "      <td>-0.425681</td>\n",
       "      <td>-0.292288</td>\n",
       "      <td>-0.607084</td>\n",
       "      <td>...</td>\n",
       "      <td>0.0</td>\n",
       "      <td>0.0</td>\n",
       "      <td>0.0</td>\n",
       "      <td>1.0</td>\n",
       "      <td>1.0</td>\n",
       "      <td>0.0</td>\n",
       "      <td>0.0</td>\n",
       "      <td>0.0</td>\n",
       "      <td>0.0</td>\n",
       "      <td>0.0</td>\n",
       "    </tr>\n",
       "    <tr>\n",
       "      <th>1456</th>\n",
       "      <td>4.385553</td>\n",
       "      <td>1.577164</td>\n",
       "      <td>-0.783171</td>\n",
       "      <td>1.272300</td>\n",
       "      <td>-0.374788</td>\n",
       "      <td>0.534116</td>\n",
       "      <td>-0.574965</td>\n",
       "      <td>1.813761</td>\n",
       "      <td>-0.292288</td>\n",
       "      <td>-1.272522</td>\n",
       "      <td>...</td>\n",
       "      <td>0.0</td>\n",
       "      <td>0.0</td>\n",
       "      <td>0.0</td>\n",
       "      <td>1.0</td>\n",
       "      <td>1.0</td>\n",
       "      <td>0.0</td>\n",
       "      <td>0.0</td>\n",
       "      <td>0.0</td>\n",
       "      <td>0.0</td>\n",
       "      <td>0.0</td>\n",
       "    </tr>\n",
       "    <tr>\n",
       "      <th>1457</th>\n",
       "      <td>-0.321010</td>\n",
       "      <td>0.312870</td>\n",
       "      <td>-0.783171</td>\n",
       "      <td>-0.526788</td>\n",
       "      <td>0.683623</td>\n",
       "      <td>0.340810</td>\n",
       "      <td>-0.574965</td>\n",
       "      <td>-0.229845</td>\n",
       "      <td>-0.292288</td>\n",
       "      <td>0.028930</td>\n",
       "      <td>...</td>\n",
       "      <td>0.0</td>\n",
       "      <td>0.0</td>\n",
       "      <td>0.0</td>\n",
       "      <td>1.0</td>\n",
       "      <td>0.0</td>\n",
       "      <td>0.0</td>\n",
       "      <td>0.0</td>\n",
       "      <td>0.0</td>\n",
       "      <td>1.0</td>\n",
       "      <td>0.0</td>\n",
       "    </tr>\n",
       "    <tr>\n",
       "      <th>1458</th>\n",
       "      <td>0.255303</td>\n",
       "      <td>0.154990</td>\n",
       "      <td>0.667652</td>\n",
       "      <td>-0.526788</td>\n",
       "      <td>0.716699</td>\n",
       "      <td>0.437463</td>\n",
       "      <td>-0.057033</td>\n",
       "      <td>0.740119</td>\n",
       "      <td>-0.292288</td>\n",
       "      <td>-0.733834</td>\n",
       "      <td>...</td>\n",
       "      <td>0.0</td>\n",
       "      <td>0.0</td>\n",
       "      <td>0.0</td>\n",
       "      <td>1.0</td>\n",
       "      <td>0.0</td>\n",
       "      <td>0.0</td>\n",
       "      <td>0.0</td>\n",
       "      <td>0.0</td>\n",
       "      <td>1.0</td>\n",
       "      <td>0.0</td>\n",
       "    </tr>\n",
       "  </tbody>\n",
       "</table>\n",
       "<p>1459 rows × 309 columns</p>\n",
       "</div>"
      ],
      "text/plain": [
       "             0         1         2         3         4         5         6  \\\n",
       "0     0.543460  0.521305 -0.783171  0.372756 -0.341712 -1.157314 -0.574965   \n",
       "1     0.591487  0.920145 -0.057760  0.372756 -0.440939 -1.302294  0.020106   \n",
       "2     0.255303  0.859635 -0.783171 -0.526788  0.849000  0.630770 -0.574965   \n",
       "3     0.447408  0.224645 -0.057760  0.372756  0.882075  0.630770 -0.464767   \n",
       "4    -1.233507 -1.117361  1.393064 -0.526788  0.683623  0.340810 -0.574965   \n",
       "...        ...       ...       ...       ...       ...       ...       ...   \n",
       "1454 -2.290083 -2.964834 -1.508583  1.272300 -0.044034 -0.722375 -0.574965   \n",
       "1455 -2.290083 -3.007496 -1.508583 -0.526788 -0.044034 -0.722375 -0.574965   \n",
       "1456  4.385553  1.577164 -0.783171  1.272300 -0.374788  0.534116 -0.574965   \n",
       "1457 -0.321010  0.312870 -0.783171 -0.526788  0.683623  0.340810 -0.574965   \n",
       "1458  0.255303  0.154990  0.667652 -0.526788  0.716699  0.437463 -0.057033   \n",
       "\n",
       "             7         8         9  ...  299  300  301  302  303  304  305  \\\n",
       "0     0.071973  0.595904 -0.661405  ...  0.0  0.0  0.0  1.0  0.0  0.0  0.0   \n",
       "1     1.120271 -0.292288 -0.353584  ...  0.0  0.0  0.0  1.0  0.0  0.0  0.0   \n",
       "2     0.816150 -0.292288 -0.962437  ...  0.0  0.0  0.0  1.0  0.0  0.0  0.0   \n",
       "3     0.380703 -0.292288 -0.539182  ...  0.0  0.0  0.0  1.0  0.0  0.0  0.0   \n",
       "4    -0.400337 -0.292288  1.029350  ...  0.0  0.0  0.0  1.0  0.0  0.0  0.0   \n",
       "...        ...       ...       ...  ...  ...  ...  ...  ...  ...  ...  ...   \n",
       "1454 -1.006277 -0.292288 -0.036708  ...  0.0  0.0  0.0  1.0  0.0  0.0  0.0   \n",
       "1455 -0.425681 -0.292288 -0.607084  ...  0.0  0.0  0.0  1.0  1.0  0.0  0.0   \n",
       "1456  1.813761 -0.292288 -1.272522  ...  0.0  0.0  0.0  1.0  1.0  0.0  0.0   \n",
       "1457 -0.229845 -0.292288  0.028930  ...  0.0  0.0  0.0  1.0  0.0  0.0  0.0   \n",
       "1458  0.740119 -0.292288 -0.733834  ...  0.0  0.0  0.0  1.0  0.0  0.0  0.0   \n",
       "\n",
       "      306  307  308  \n",
       "0     0.0  1.0  0.0  \n",
       "1     0.0  1.0  0.0  \n",
       "2     0.0  1.0  0.0  \n",
       "3     0.0  1.0  0.0  \n",
       "4     0.0  1.0  0.0  \n",
       "...   ...  ...  ...  \n",
       "1454  0.0  1.0  0.0  \n",
       "1455  0.0  0.0  0.0  \n",
       "1456  0.0  0.0  0.0  \n",
       "1457  0.0  1.0  0.0  \n",
       "1458  0.0  1.0  0.0  \n",
       "\n",
       "[1459 rows x 309 columns]"
      ]
     },
     "execution_count": 14,
     "metadata": {},
     "output_type": "execute_result"
    }
   ],
   "source": [
    "X_test"
   ]
  },
  {
   "cell_type": "markdown",
   "id": "9ee06205-3d55-49c7-8c13-0a0e587ef0df",
   "metadata": {},
   "source": [
    "## Create Submissions"
   ]
  },
  {
   "cell_type": "code",
   "execution_count": 20,
   "id": "6580547e-79cc-46f0-bb94-eb246c24d95d",
   "metadata": {},
   "outputs": [],
   "source": [
    "d = {\"Id\":X_test.index,\"SalePrice\":predictions.flatten()}\n",
    "submission = pd.DataFrame(data=d, index=None)"
   ]
  },
  {
   "cell_type": "code",
   "execution_count": 21,
   "id": "a14d4a90-2a98-49b5-9560-79120eb70628",
   "metadata": {},
   "outputs": [],
   "source": [
    "submission[\"Id\"] = submission[\"Id\"] + 1461"
   ]
  },
  {
   "cell_type": "code",
   "execution_count": 23,
   "id": "22b277d4-81cd-458c-9d66-e3aae8854fac",
   "metadata": {},
   "outputs": [],
   "source": [
    "submission.to_csv(\"submission.csv\",index=False)"
   ]
  },
  {
   "cell_type": "markdown",
   "id": "18fb0b31",
   "metadata": {},
   "source": [
    "## Blend Predictions\n",
    "\n",
    "First, try taking the mean of predictions from the decision tree algorithm and neural net algorithm."
   ]
  },
  {
   "cell_type": "code",
   "execution_count": 32,
   "id": "578a0854",
   "metadata": {},
   "outputs": [],
   "source": [
    "# Read CSVs\n",
    "decision_tree_predictions = pd.read_csv(\"/root/data-science-projects-1/house-price-prediction/Models/sklearn/submission.csv\")\n",
    "neural_net_predictions = pd.read_csv(\"/root/data-science-projects-1/house-price-prediction/Models/tensorflow/submission.csv\")\n",
    "\n",
    "# Merge CSVs on Id column\n",
    "decision_tree_predictions[\"neural_net_predictions\"] = neural_net_predictions[\"SalePrice\"]\n",
    "\n",
    "# Rename decision tree predictions column\n",
    "decision_tree_predictions = decision_tree_predictions.rename(columns={\"SalePrice\":\"decision_tree_predictions\"})\n",
    "\n",
    "# Add new column with mean\n",
    "decision_tree_predictions[\"SalePrice\"] = decision_tree_predictions[[\"neural_net_predictions\",\"decision_tree_predictions\"]].mean(axis=1)\n",
    "\n",
    "# Drop other columns\n",
    "decision_tree_predictions = decision_tree_predictions[[\"Id\",\"SalePrice\"]]\n",
    "\n",
    "mean_predictions = decision_tree_predictions"
   ]
  },
  {
   "cell_type": "code",
   "execution_count": 33,
   "id": "603e18a6",
   "metadata": {},
   "outputs": [
    {
     "data": {
      "text/html": [
       "<div>\n",
       "<style scoped>\n",
       "    .dataframe tbody tr th:only-of-type {\n",
       "        vertical-align: middle;\n",
       "    }\n",
       "\n",
       "    .dataframe tbody tr th {\n",
       "        vertical-align: top;\n",
       "    }\n",
       "\n",
       "    .dataframe thead th {\n",
       "        text-align: right;\n",
       "    }\n",
       "</style>\n",
       "<table border=\"1\" class=\"dataframe\">\n",
       "  <thead>\n",
       "    <tr style=\"text-align: right;\">\n",
       "      <th></th>\n",
       "      <th>Id</th>\n",
       "      <th>SalePrice</th>\n",
       "    </tr>\n",
       "  </thead>\n",
       "  <tbody>\n",
       "    <tr>\n",
       "      <th>0</th>\n",
       "      <td>1461</td>\n",
       "      <td>127361.134067</td>\n",
       "    </tr>\n",
       "    <tr>\n",
       "      <th>1</th>\n",
       "      <td>1462</td>\n",
       "      <td>158052.584090</td>\n",
       "    </tr>\n",
       "    <tr>\n",
       "      <th>2</th>\n",
       "      <td>1463</td>\n",
       "      <td>181674.855717</td>\n",
       "    </tr>\n",
       "    <tr>\n",
       "      <th>3</th>\n",
       "      <td>1464</td>\n",
       "      <td>188875.924001</td>\n",
       "    </tr>\n",
       "    <tr>\n",
       "      <th>4</th>\n",
       "      <td>1465</td>\n",
       "      <td>200818.447191</td>\n",
       "    </tr>\n",
       "    <tr>\n",
       "      <th>...</th>\n",
       "      <td>...</td>\n",
       "      <td>...</td>\n",
       "    </tr>\n",
       "    <tr>\n",
       "      <th>1454</th>\n",
       "      <td>2915</td>\n",
       "      <td>82795.660323</td>\n",
       "    </tr>\n",
       "    <tr>\n",
       "      <th>1455</th>\n",
       "      <td>2916</td>\n",
       "      <td>78708.973134</td>\n",
       "    </tr>\n",
       "    <tr>\n",
       "      <th>1456</th>\n",
       "      <td>2917</td>\n",
       "      <td>161475.439244</td>\n",
       "    </tr>\n",
       "    <tr>\n",
       "      <th>1457</th>\n",
       "      <td>2918</td>\n",
       "      <td>117693.042804</td>\n",
       "    </tr>\n",
       "    <tr>\n",
       "      <th>1458</th>\n",
       "      <td>2919</td>\n",
       "      <td>212442.404615</td>\n",
       "    </tr>\n",
       "  </tbody>\n",
       "</table>\n",
       "<p>1459 rows × 2 columns</p>\n",
       "</div>"
      ],
      "text/plain": [
       "        Id      SalePrice\n",
       "0     1461  127361.134067\n",
       "1     1462  158052.584090\n",
       "2     1463  181674.855717\n",
       "3     1464  188875.924001\n",
       "4     1465  200818.447191\n",
       "...    ...            ...\n",
       "1454  2915   82795.660323\n",
       "1455  2916   78708.973134\n",
       "1456  2917  161475.439244\n",
       "1457  2918  117693.042804\n",
       "1458  2919  212442.404615\n",
       "\n",
       "[1459 rows x 2 columns]"
      ]
     },
     "execution_count": 33,
     "metadata": {},
     "output_type": "execute_result"
    }
   ],
   "source": [
    "mean_predictions"
   ]
  },
  {
   "cell_type": "code",
   "execution_count": 34,
   "id": "5c98024e",
   "metadata": {},
   "outputs": [],
   "source": [
    "mean_predictions.to_csv(\"submission_mean.csv\",index=False)"
   ]
  },
  {
   "cell_type": "markdown",
   "id": "99d1ff2c",
   "metadata": {},
   "source": [
    "Next, try defining a meta-model to best blend predictions."
   ]
  },
  {
   "cell_type": "code",
   "execution_count": null,
   "id": "d05f88ef",
   "metadata": {},
   "outputs": [],
   "source": [
    "# You currently have the following problems:\n",
    "# 1) You have trained and validated using k-fold validation on a training set that was already split into a validation set.\n",
    "# 2) You need to keep a \"hold-out\" data set to validate merged predictions, that was not used at all in the DT and NN models."
   ]
  }
 ],
 "metadata": {
  "kernelspec": {
   "display_name": "Python 3 (ipykernel)",
   "language": "python",
   "name": "python3"
  },
  "language_info": {
   "codemirror_mode": {
    "name": "ipython",
    "version": 3
   },
   "file_extension": ".py",
   "mimetype": "text/x-python",
   "name": "python",
   "nbconvert_exporter": "python",
   "pygments_lexer": "ipython3",
   "version": "3.8.10"
  }
 },
 "nbformat": 4,
 "nbformat_minor": 5
}
