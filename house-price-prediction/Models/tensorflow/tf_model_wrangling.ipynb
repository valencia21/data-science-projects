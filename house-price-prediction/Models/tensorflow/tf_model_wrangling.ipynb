{
 "cells": [
  {
   "cell_type": "code",
   "execution_count": 5,
   "id": "1a9b44ee-21e3-44e1-ab3b-4af5c351aca6",
   "metadata": {
    "tags": []
   },
   "outputs": [],
   "source": [
    "from tensorflow.keras.models import Sequential\n",
    "from tensorflow.keras.layers import Dense, Dropout\n",
    "from time import time\n",
    "from tensorflow.python.keras.callbacks import TensorBoard\n",
    "from sklearn.metrics import mean_absolute_error\n",
    "import wandb\n",
    "import pandas as pd\n",
    "import numpy as np\n",
    "import matplotlib.pyplot as plt"
   ]
  },
  {
   "cell_type": "code",
   "execution_count": 3,
   "id": "41683053-0452-48d6-8033-a5e2909e0f84",
   "metadata": {},
   "outputs": [],
   "source": [
    "def data():\n",
    "    training = pd.read_csv(\"./training_preprocessed\")\n",
    "    validation = pd.read_csv(\"./validation_preprocessed\")\n",
    "    test = pd.read_csv(\"./test_preprocessed\")\n",
    "    X_train = training.drop(columns=\"y\")\n",
    "    y_train = training[\"y\"]\n",
    "    X_valid = validation.drop(columns=\"y\")\n",
    "    y_valid = validation[\"y\"]\n",
    "    X_test = test\n",
    "    return X_train, y_train, X_valid, y_valid, X_test"
   ]
  },
  {
   "cell_type": "code",
   "execution_count": 4,
   "id": "408835d3-0eaa-4693-af30-794dd6b24d08",
   "metadata": {},
   "outputs": [],
   "source": [
    "X_train, y_train, X_valid, y_valid, X_test = data()"
   ]
  },
  {
   "cell_type": "code",
   "execution_count": 6,
   "id": "0cd95926-a2d1-484d-8674-273e1310e88d",
   "metadata": {},
   "outputs": [
    {
     "name": "stderr",
     "output_type": "stream",
     "text": [
      "Failed to detect the name of this notebook, you can set it manually with the WANDB_NOTEBOOK_NAME environment variable to enable code saving.\n",
      "\u001b[34m\u001b[1mwandb\u001b[0m: Currently logged in as: \u001b[33mluiscostigan\u001b[0m (use `wandb login --relogin` to force relogin)\n"
     ]
    },
    {
     "data": {
      "text/html": [
       "\n",
       "                    Syncing run <strong><a href=\"https://wandb.ai/luiscostigan/house-price-prediction/runs/2fh6av87\" target=\"_blank\">treasured-puddle-41</a></strong> to <a href=\"https://wandb.ai/luiscostigan/house-price-prediction\" target=\"_blank\">Weights & Biases</a> (<a href=\"https://docs.wandb.com/integrations/jupyter.html\" target=\"_blank\">docs</a>).<br/>\n",
       "\n",
       "                "
      ],
      "text/plain": [
       "<IPython.core.display.HTML object>"
      ]
     },
     "metadata": {},
     "output_type": "display_data"
    },
    {
     "data": {
      "text/html": [
       "<button onClick=\"this.nextSibling.style.display='block';this.style.display='none';\">Display W&B run</button><iframe src=\"https://wandb.ai/luiscostigan/house-price-prediction/runs/2fh6av87?jupyter=true\" style=\"border:none;width:100%;height:420px;display:none;\"></iframe>"
      ],
      "text/plain": [
       "<wandb.sdk.wandb_run.Run at 0x7f2048994f10>"
      ]
     },
     "execution_count": 6,
     "metadata": {},
     "output_type": "execute_result"
    }
   ],
   "source": [
    "wandb.init(project=\"house-price-prediction\", entity=\"luiscostigan\")"
   ]
  },
  {
   "cell_type": "code",
   "execution_count": 7,
   "id": "1b06efad-42f3-4cb3-90c9-ee188ed47acc",
   "metadata": {},
   "outputs": [],
   "source": [
    "def create_model():\n",
    "    model = Sequential()\n",
    "    model.add(Dense(64, input_dim=X_train.shape[1], activation='relu'))\n",
    "    model.add(Dense(512, activation='relu'))\n",
    "    model.add(Dropout(config.dropout1))\n",
    "    model.add(Dense(512, activation='relu'))\n",
    "    model.add(Dense(1))\n",
    "    model.compile(optimizer='rmsprop', loss=\"mse\", metrics=[\"mae\"])\n",
    "    \n",
    "    return model"
   ]
  },
  {
   "cell_type": "code",
   "execution_count": 14,
   "id": "51f06990",
   "metadata": {},
   "outputs": [
    {
     "data": {
      "text/plain": [
       "50"
      ]
     },
     "execution_count": 14,
     "metadata": {},
     "output_type": "execute_result"
    }
   ],
   "source": [
    "from sklearn.model_selection import RepeatedKFold\n",
    "\n",
    "# Instantiate the validator, have it spit out the indices, generate batches from the indices, and feed those batches to the model.\n",
    "rkf = RepeatedKFold(n_splits=10, n_repeats=5)\n",
    "rkf.get_n_splits(X_train, y_train)"
   ]
  },
  {
   "cell_type": "markdown",
   "id": "a12df004",
   "metadata": {},
   "source": [
    "Currently trying to implement RepeatedKFold cross validation with the Keras Sequential model, while recording model results on WandB.\n",
    "\n",
    "Sometimes I am getting a failed-1 error from WandB.\n",
    "    - "
   ]
  },
  {
   "cell_type": "code",
   "execution_count": 15,
   "id": "63f38227",
   "metadata": {},
   "outputs": [
    {
     "name": "stdout",
     "output_type": "stream",
     "text": [
      "<generator object _RepeatedSplits.split at 0x7f2048800120>\n"
     ]
    }
   ],
   "source": [
    "print(rkf.split(X_train, y_train))"
   ]
  },
  {
   "cell_type": "code",
   "execution_count": 11,
   "id": "7ebdbfa1",
   "metadata": {},
   "outputs": [
    {
     "name": "stdout",
     "output_type": "stream",
     "text": [
      "<enumerate object at 0x7f2048939d40>\n"
     ]
    }
   ],
   "source": [
    "print(enumerate(rkf.split(X_train, y_train)))"
   ]
  },
  {
   "cell_type": "code",
   "execution_count": 9,
   "id": "9e707d3f-2deb-4ac1-b274-48350e1027bd",
   "metadata": {},
   "outputs": [
    {
     "name": "stderr",
     "output_type": "stream",
     "text": [
      "\u001b[34m\u001b[1mwandb\u001b[0m: \u001b[33mWARNING\u001b[0m Calling wandb.login() after wandb.init() has no effect.\n"
     ]
    },
    {
     "name": "stdout",
     "output_type": "stream",
     "text": [
      "Create sweep with ID: pvoqgyg4\n",
      "Sweep URL: https://wandb.ai/luiscostigan/house-price-prediction/sweeps/pvoqgyg4\n"
     ]
    },
    {
     "name": "stderr",
     "output_type": "stream",
     "text": [
      "\u001b[34m\u001b[1mwandb\u001b[0m: Agent Starting Run: 8lhdu1eu with config:\n",
      "\u001b[34m\u001b[1mwandb\u001b[0m: \tbatch_size: 16\n",
      "\u001b[34m\u001b[1mwandb\u001b[0m: \tdropout1: 0.37488221243751385\n",
      "\u001b[34m\u001b[1mwandb\u001b[0m: \tepochs: 50\n"
     ]
    },
    {
     "data": {
      "text/html": [
       "\n",
       "                    Syncing run <strong><a href=\"https://wandb.ai/luiscostigan/house-price-prediction/runs/8lhdu1eu\" target=\"_blank\">soft-sweep-1</a></strong> to <a href=\"https://wandb.ai/luiscostigan/house-price-prediction\" target=\"_blank\">Weights & Biases</a> (<a href=\"https://docs.wandb.com/integrations/jupyter.html\" target=\"_blank\">docs</a>).<br/>\n",
       "Sweep page: <a href=\"https://wandb.ai/luiscostigan/house-price-prediction/sweeps/pvoqgyg4\" target=\"_blank\">https://wandb.ai/luiscostigan/house-price-prediction/sweeps/pvoqgyg4</a><br/>\n",
       "\n",
       "                "
      ],
      "text/plain": [
       "<IPython.core.display.HTML object>"
      ]
     },
     "metadata": {},
     "output_type": "display_data"
    },
    {
     "name": "stdout",
     "output_type": "stream",
     "text": [
      "Training on fold 1/10...\n"
     ]
    },
    {
     "data": {
      "text/html": [
       "<br/>Waiting for W&B process to finish, PID 10083... <strong style=\"color:red\">(failed 1).</strong> Press ctrl-c to abort syncing."
      ],
      "text/plain": [
       "<IPython.core.display.HTML object>"
      ]
     },
     "metadata": {},
     "output_type": "display_data"
    },
    {
     "data": {
      "application/vnd.jupyter.widget-view+json": {
       "model_id": "0f1f8f2d02a043058ee6fb85be375edc",
       "version_major": 2,
       "version_minor": 0
      },
      "text/plain": [
       "VBox(children=(Label(value=' 0.00MB of 0.00MB uploaded (0.00MB deduped)\\r'), FloatProgress(value=1.0, max=1.0)…"
      ]
     },
     "metadata": {},
     "output_type": "display_data"
    },
    {
     "data": {
      "text/html": [
       "<style>\n",
       "    table.wandb td:nth-child(1) { padding: 0 10px; text-align: right }\n",
       "    .wandb-row { display: flex; flex-direction: row; flex-wrap: wrap; width: 100% }\n",
       "    .wandb-col { display: flex; flex-direction: column; flex-basis: 100%; flex: 1; padding: 10px; }\n",
       "    </style>\n",
       "<div class=\"wandb-row\"><div class=\"wandb-col\">\n",
       "</div><div class=\"wandb-col\">\n",
       "</div></div>\n",
       "Synced 5 W&B file(s), 0 media file(s), 0 artifact file(s) and 0 other file(s)\n",
       "<br/>Synced <strong style=\"color:#cdcd00\">soft-sweep-1</strong>: <a href=\"https://wandb.ai/luiscostigan/house-price-prediction/runs/8lhdu1eu\" target=\"_blank\">https://wandb.ai/luiscostigan/house-price-prediction/runs/8lhdu1eu</a><br/>\n",
       "Find logs at: <code>./wandb/run-20220223_080654-8lhdu1eu/logs</code><br/>\n"
      ],
      "text/plain": [
       "<IPython.core.display.HTML object>"
      ]
     },
     "metadata": {},
     "output_type": "display_data"
    },
    {
     "name": "stderr",
     "output_type": "stream",
     "text": [
      "\u001b[34m\u001b[1mwandb\u001b[0m: \u001b[32m\u001b[41mERROR\u001b[0m Run 8lhdu1eu errored: KeyError(\"None of [Int64Index([   0,    1,    2,    3,    5,    6,    8,    9,   10,   11,\\n            ...\\n            1157, 1158, 1159, 1160, 1161, 1162, 1163, 1164, 1166, 1167],\\n           dtype='int64', length=1051)] are in the [columns]\")\n",
      "\u001b[34m\u001b[1mwandb\u001b[0m: Agent Starting Run: p1h3i3lv with config:\n",
      "\u001b[34m\u001b[1mwandb\u001b[0m: \tbatch_size: 16\n",
      "\u001b[34m\u001b[1mwandb\u001b[0m: \tdropout1: 0.5146620120077245\n",
      "\u001b[34m\u001b[1mwandb\u001b[0m: \tepochs: 50\n",
      "\u001b[34m\u001b[1mwandb\u001b[0m: Ctrl + C detected. Stopping sweep.\n",
      "\u001b[34m\u001b[1mwandb\u001b[0m: W&B API key is configured (use `wandb login --relogin` to force relogin)\n"
     ]
    },
    {
     "data": {
      "text/html": [
       "\n",
       "                    Syncing run <strong><a href=\"https://wandb.ai/luiscostigan/house-price-prediction/runs/p1h3i3lv\" target=\"_blank\">dulcet-sweep-2</a></strong> to <a href=\"https://wandb.ai/luiscostigan/house-price-prediction\" target=\"_blank\">Weights & Biases</a> (<a href=\"https://docs.wandb.com/integrations/jupyter.html\" target=\"_blank\">docs</a>).<br/>\n",
       "Sweep page: <a href=\"https://wandb.ai/luiscostigan/house-price-prediction/sweeps/pvoqgyg4\" target=\"_blank\">https://wandb.ai/luiscostigan/house-price-prediction/sweeps/pvoqgyg4</a><br/>\n",
       "\n",
       "                "
      ],
      "text/plain": [
       "<IPython.core.display.HTML object>"
      ]
     },
     "metadata": {},
     "output_type": "display_data"
    },
    {
     "name": "stdout",
     "output_type": "stream",
     "text": [
      "Training on fold 1/10...\n"
     ]
    },
    {
     "data": {
      "text/html": [
       "<br/>Waiting for W&B process to finish, PID 10302... <strong style=\"color:red\">(failed 1).</strong> Press ctrl-c to abort syncing."
      ],
      "text/plain": [
       "<IPython.core.display.HTML object>"
      ]
     },
     "metadata": {},
     "output_type": "display_data"
    },
    {
     "data": {
      "application/vnd.jupyter.widget-view+json": {
       "model_id": "653d64d22b2f462d8be429f1164d90a5",
       "version_major": 2,
       "version_minor": 0
      },
      "text/plain": [
       "VBox(children=(Label(value=' 0.00MB of 0.00MB uploaded (0.00MB deduped)\\r'), FloatProgress(value=1.0, max=1.0)…"
      ]
     },
     "metadata": {},
     "output_type": "display_data"
    },
    {
     "data": {
      "text/html": [
       "<style>\n",
       "    table.wandb td:nth-child(1) { padding: 0 10px; text-align: right }\n",
       "    .wandb-row { display: flex; flex-direction: row; flex-wrap: wrap; width: 100% }\n",
       "    .wandb-col { display: flex; flex-direction: column; flex-basis: 100%; flex: 1; padding: 10px; }\n",
       "    </style>\n",
       "<div class=\"wandb-row\"><div class=\"wandb-col\">\n",
       "</div><div class=\"wandb-col\">\n",
       "</div></div>\n",
       "Synced 5 W&B file(s), 0 media file(s), 0 artifact file(s) and 0 other file(s)\n",
       "<br/>Synced <strong style=\"color:#cdcd00\">dulcet-sweep-2</strong>: <a href=\"https://wandb.ai/luiscostigan/house-price-prediction/runs/p1h3i3lv\" target=\"_blank\">https://wandb.ai/luiscostigan/house-price-prediction/runs/p1h3i3lv</a><br/>\n",
       "Find logs at: <code>./wandb/run-20220223_080710-p1h3i3lv/logs</code><br/>\n"
      ],
      "text/plain": [
       "<IPython.core.display.HTML object>"
      ]
     },
     "metadata": {},
     "output_type": "display_data"
    }
   ],
   "source": [
    "from wandb.keras import WandbCallback\n",
    "\n",
    "sweep_config = {\n",
    "  \"name\": \"keras-sequential-model-sweep\",\n",
    "  \"method\": \"random\",\n",
    "  \"parameters\": {\n",
    "    \"dropout1\": {\n",
    "      \"min\": 0.0,\n",
    "      \"max\": 0.8\n",
    "    },\n",
    "    \"epochs\": {\n",
    "      \"values\": [30,50,100]\n",
    "    },\n",
    "    \"batch_size\": {\n",
    "      \"values\": [16, 64, 128, 512]\n",
    "    }\n",
    "  }\n",
    "}\n",
    "\n",
    "keras_sequential_sweep_1 = wandb.sweep(sweep_config, project=\"house-price-prediction\", entity=\"luiscostigan\")\n",
    "\n",
    "def train():\n",
    "\n",
    "  with wandb.init() as run:\n",
    "    config = wandb.config\n",
    "\n",
    "    for index, (train_indices, val_indices) in enumerate(rkf.split(X_train, y_train)):\n",
    "      print(\"Training on fold \" + str(index+1) + \"/10...\")\n",
    "\n",
    "      # Generate batches from indices\n",
    "      xtrain, xval = X_train[train_indices], X_train[val_indices]\n",
    "      ytrain, yval = y_train[train_indices], y_train[val_indices]\n",
    "\n",
    "      model = create_model()\n",
    "\n",
    "      model.fit(\n",
    "        np.asarray(xtrain), \n",
    "        ytrain, \n",
    "        epochs=config.epochs, \n",
    "        batch_size=config.batch_size, \n",
    "        verbose=0,\n",
    "        callbacks=[WandbCallback()], \n",
    "        validation_data=(np.asarray(xval),yval)\n",
    "        )\n",
    "      \n",
    "      test_mse_score, test_mae_score = model.evaluate(np.asarray(xval), yval, callbacks=[WandbCallback()])\n",
    "\n",
    "count = 10\n",
    "wandb.agent(keras_sequential_sweep_1, function=train, count=count)"
   ]
  },
  {
   "cell_type": "markdown",
   "id": "a3fd60be-6f5c-4031-9cc8-c6f3d3b5b551",
   "metadata": {},
   "source": [
    "Train the model with Hyperopt to find best parameters.\n",
    "Retrain model with new best parameters.\n",
    "Make predictions."
   ]
  },
  {
   "cell_type": "code",
   "execution_count": 18,
   "id": "1d709e78",
   "metadata": {},
   "outputs": [],
   "source": [
    "best_params = {\n",
    "    \"dropout\": 0.2,\n",
    "    \"epochs\": 100,\n",
    "    \"batch_size\": 128\n",
    "}"
   ]
  },
  {
   "cell_type": "code",
   "execution_count": 20,
   "id": "7b238b8d-bf25-43da-acdb-7caa72dec5df",
   "metadata": {},
   "outputs": [],
   "source": [
    "best_params = {\n",
    "    \"dropout\": 0.2,\n",
    "    \"epochs\": 100,\n",
    "    \"batch_size\": 128\n",
    "}\n",
    "\n",
    "def make_predictions(best_params):\n",
    "    \n",
    "    model = Sequential()\n",
    "    model.add(Dense(64, input_dim=X_train.shape[1], activation='relu'))\n",
    "    model.add(Dense(512, activation='relu'))\n",
    "    model.add(Dropout(best_params.get(\"dropout\")))\n",
    "    model.add(Dense(512, activation='relu'))\n",
    "    model.add(Dense(1))\n",
    "    model.compile(optimizer='rmsprop', loss=\"mse\", metrics=[\"mae\"])\n",
    "              \n",
    "    model.fit(X_train, y_train, epochs=best_params.get(\"epochs\"),\n",
    "              batch_size=best_params.get(\"batch_size\"), verbose = 0)\n",
    "    \n",
    "    preds  = model.predict(X_test, best_params.get(\"batch_size\"), verbose = 0)\n",
    "              \n",
    "    return preds"
   ]
  },
  {
   "cell_type": "code",
   "execution_count": 22,
   "id": "73e3b4ec-1072-44a8-82b7-620ce29e29db",
   "metadata": {},
   "outputs": [],
   "source": [
    "predictions = make_predictions(best_params)"
   ]
  },
  {
   "cell_type": "markdown",
   "id": "9ee06205-3d55-49c7-8c13-0a0e587ef0df",
   "metadata": {},
   "source": [
    "## Visualize Model Output"
   ]
  },
  {
   "cell_type": "code",
   "execution_count": 26,
   "id": "82249522",
   "metadata": {},
   "outputs": [
    {
     "data": {
      "text/plain": [
       "{'Id': RangeIndex(start=0, stop=1459, step=1),\n",
       " 'SalePrice': array([[136474.11],\n",
       "        [156334.36],\n",
       "        [188805.05],\n",
       "        ...,\n",
       "        [181121.44],\n",
       "        [106913.19],\n",
       "        [214941.02]], dtype=float32)}"
      ]
     },
     "execution_count": 26,
     "metadata": {},
     "output_type": "execute_result"
    }
   ],
   "source": [
    "d"
   ]
  },
  {
   "cell_type": "code",
   "execution_count": 29,
   "id": "6580547e-79cc-46f0-bb94-eb246c24d95d",
   "metadata": {},
   "outputs": [],
   "source": [
    "d = {\"Id\":X_test.index,\"SalePrice\":predictions.flatten()}\n",
    "submission = pd.DataFrame(data=d, index=None)\n",
    "\n",
    "# Revert log transform\n",
    "#submission[\"SalePrice\"] = np.exp(submission[\"SalePrice\"])"
   ]
  },
  {
   "cell_type": "code",
   "execution_count": 30,
   "id": "a14d4a90-2a98-49b5-9560-79120eb70628",
   "metadata": {},
   "outputs": [
    {
     "data": {
      "text/html": [
       "<div>\n",
       "<style scoped>\n",
       "    .dataframe tbody tr th:only-of-type {\n",
       "        vertical-align: middle;\n",
       "    }\n",
       "\n",
       "    .dataframe tbody tr th {\n",
       "        vertical-align: top;\n",
       "    }\n",
       "\n",
       "    .dataframe thead th {\n",
       "        text-align: right;\n",
       "    }\n",
       "</style>\n",
       "<table border=\"1\" class=\"dataframe\">\n",
       "  <thead>\n",
       "    <tr style=\"text-align: right;\">\n",
       "      <th></th>\n",
       "      <th>Id</th>\n",
       "      <th>SalePrice</th>\n",
       "    </tr>\n",
       "  </thead>\n",
       "  <tbody>\n",
       "    <tr>\n",
       "      <th>0</th>\n",
       "      <td>0</td>\n",
       "      <td>136474.109375</td>\n",
       "    </tr>\n",
       "    <tr>\n",
       "      <th>1</th>\n",
       "      <td>1</td>\n",
       "      <td>156334.359375</td>\n",
       "    </tr>\n",
       "    <tr>\n",
       "      <th>2</th>\n",
       "      <td>2</td>\n",
       "      <td>188805.046875</td>\n",
       "    </tr>\n",
       "    <tr>\n",
       "      <th>3</th>\n",
       "      <td>3</td>\n",
       "      <td>195929.828125</td>\n",
       "    </tr>\n",
       "    <tr>\n",
       "      <th>4</th>\n",
       "      <td>4</td>\n",
       "      <td>200915.140625</td>\n",
       "    </tr>\n",
       "    <tr>\n",
       "      <th>...</th>\n",
       "      <td>...</td>\n",
       "      <td>...</td>\n",
       "    </tr>\n",
       "    <tr>\n",
       "      <th>1454</th>\n",
       "      <td>1454</td>\n",
       "      <td>76588.890625</td>\n",
       "    </tr>\n",
       "    <tr>\n",
       "      <th>1455</th>\n",
       "      <td>1455</td>\n",
       "      <td>63704.851562</td>\n",
       "    </tr>\n",
       "    <tr>\n",
       "      <th>1456</th>\n",
       "      <td>1456</td>\n",
       "      <td>181121.437500</td>\n",
       "    </tr>\n",
       "    <tr>\n",
       "      <th>1457</th>\n",
       "      <td>1457</td>\n",
       "      <td>106913.187500</td>\n",
       "    </tr>\n",
       "    <tr>\n",
       "      <th>1458</th>\n",
       "      <td>1458</td>\n",
       "      <td>214941.015625</td>\n",
       "    </tr>\n",
       "  </tbody>\n",
       "</table>\n",
       "<p>1459 rows × 2 columns</p>\n",
       "</div>"
      ],
      "text/plain": [
       "        Id      SalePrice\n",
       "0        0  136474.109375\n",
       "1        1  156334.359375\n",
       "2        2  188805.046875\n",
       "3        3  195929.828125\n",
       "4        4  200915.140625\n",
       "...    ...            ...\n",
       "1454  1454   76588.890625\n",
       "1455  1455   63704.851562\n",
       "1456  1456  181121.437500\n",
       "1457  1457  106913.187500\n",
       "1458  1458  214941.015625\n",
       "\n",
       "[1459 rows x 2 columns]"
      ]
     },
     "execution_count": 30,
     "metadata": {},
     "output_type": "execute_result"
    }
   ],
   "source": [
    "submission"
   ]
  },
  {
   "cell_type": "code",
   "execution_count": 31,
   "id": "22b277d4-81cd-458c-9d66-e3aae8854fac",
   "metadata": {},
   "outputs": [],
   "source": [
    "submission.to_csv(\"submission.csv\",index=False)"
   ]
  },
  {
   "cell_type": "code",
   "execution_count": null,
   "id": "18fb0b31",
   "metadata": {},
   "outputs": [],
   "source": []
  }
 ],
 "metadata": {
  "kernelspec": {
   "display_name": "Python 3 (ipykernel)",
   "language": "python",
   "name": "python3"
  },
  "language_info": {
   "codemirror_mode": {
    "name": "ipython",
    "version": 3
   },
   "file_extension": ".py",
   "mimetype": "text/x-python",
   "name": "python",
   "nbconvert_exporter": "python",
   "pygments_lexer": "ipython3",
   "version": "3.8.10"
  }
 },
 "nbformat": 4,
 "nbformat_minor": 5
}
