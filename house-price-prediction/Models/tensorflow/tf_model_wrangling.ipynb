{
 "cells": [
  {
   "cell_type": "code",
   "execution_count": 21,
   "id": "1a9b44ee-21e3-44e1-ab3b-4af5c351aca6",
   "metadata": {
    "tags": []
   },
   "outputs": [],
   "source": [
    "from tensorflow.keras.models import Sequential\n",
    "from tensorflow.keras.layers import Dense, Dropout\n",
    "from tensorflow.keras.metrics import RootMeanSquaredError\n",
    "from time import time\n",
    "from sklearn.metrics import mean_absolute_error\n",
    "import wandb\n",
    "import pandas as pd\n",
    "import numpy as np\n",
    "import matplotlib.pyplot as plt"
   ]
  },
  {
   "cell_type": "code",
   "execution_count": 76,
   "id": "41683053-0452-48d6-8033-a5e2909e0f84",
   "metadata": {},
   "outputs": [],
   "source": [
    "def data():\n",
    "    training = pd.read_csv(\"/root/data-science-projects-1/house-price-prediction/Models/sklearn/training_preprocessed\")\n",
    "    validation = pd.read_csv(\"/root/data-science-projects-1/house-price-prediction/Models/sklearn/validation_preprocessed\")\n",
    "    holdout = pd.read_csv(\"/root/data-science-projects-1/house-price-prediction/Models/sklearn/holdout_preprocessed\")\n",
    "    holdout_predictions_df = pd.read_csv(\"/root/data-science-projects-1/house-price-prediction/Models/sklearn/holdout_preds_preprocessed\")\n",
    "    test = pd.read_csv(\"/root/data-science-projects-1/house-price-prediction/Models/sklearn/test_preprocessed\")\n",
    "    \n",
    "    X_train = training.drop(columns=\"SalePrice\")\n",
    "    y_train = training[\"SalePrice\"]\n",
    "    X_valid = validation.drop(columns=\"SalePrice\")\n",
    "    y_valid = validation[\"SalePrice\"]\n",
    "    X_holdout = holdout.drop(columns=\"Actual_SalePrice\")\n",
    "    y_holdout = holdout[\"Actual_SalePrice\"]\n",
    "    X_test = test\n",
    "    holdout_predictions_df = holdout_predictions_df\n",
    "    return X_train, y_train, X_valid, y_valid, X_holdout, y_holdout, X_test, holdout_predictions_df"
   ]
  },
  {
   "cell_type": "code",
   "execution_count": 77,
   "id": "850a33cf",
   "metadata": {},
   "outputs": [],
   "source": [
    "X_train, y_train, X_valid, y_valid, X_holdout, y_holdout, X_test, holdout_predictions_df = data()"
   ]
  },
  {
   "cell_type": "code",
   "execution_count": 104,
   "id": "9d1d0d22",
   "metadata": {},
   "outputs": [
    {
     "name": "stderr",
     "output_type": "stream",
     "text": [
      "<ipython-input-104-33faa622c081>:2: FutureWarning: The frame.append method is deprecated and will be removed from pandas in a future version. Use pandas.concat instead.\n",
      "  X_train = X_train.append(X_valid).reset_index().drop(columns=\"index\")\n",
      "<ipython-input-104-33faa622c081>:3: FutureWarning: The series.append method is deprecated and will be removed from pandas in a future version. Use pandas.concat instead.\n",
      "  y_train = y_train.append(y_valid).reset_index().drop(columns=\"index\").values\n"
     ]
    }
   ],
   "source": [
    "# Since this model uses k-fold validation, we don't need separate training and validation datasets\n",
    "X_train = X_train.append(X_valid).reset_index().drop(columns=\"index\")\n",
    "y_train = y_train.append(y_valid).reset_index().drop(columns=\"index\").values"
   ]
  },
  {
   "cell_type": "code",
   "execution_count": 108,
   "id": "0cd95926-a2d1-484d-8674-273e1310e88d",
   "metadata": {},
   "outputs": [
    {
     "name": "stderr",
     "output_type": "stream",
     "text": [
      "\u001b[34m\u001b[1mwandb\u001b[0m: \u001b[33mWARNING\u001b[0m Ignored wandb.init() arg project when running a sweep.\n",
      "\u001b[34m\u001b[1mwandb\u001b[0m: \u001b[33mWARNING\u001b[0m Ignored wandb.init() arg entity when running a sweep.\n",
      "\u001b[34m\u001b[1mwandb\u001b[0m: wandb version 0.12.11 is available!  To upgrade, please run:\n",
      "\u001b[34m\u001b[1mwandb\u001b[0m:  $ pip install wandb --upgrade\n"
     ]
    },
    {
     "data": {
      "text/html": [
       "\n",
       "                    Syncing run <strong><a href=\"https://wandb.ai/luiscostigan/house-price-prediction/runs/6wamlbgn\" target=\"_blank\">quiet-sweep-10</a></strong> to <a href=\"https://wandb.ai/luiscostigan/house-price-prediction\" target=\"_blank\">Weights & Biases</a> (<a href=\"https://docs.wandb.com/integrations/jupyter.html\" target=\"_blank\">docs</a>).<br/>\n",
       "Sweep page: <a href=\"https://wandb.ai/luiscostigan/house-price-prediction/sweeps/s3wlr0o8\" target=\"_blank\">https://wandb.ai/luiscostigan/house-price-prediction/sweeps/s3wlr0o8</a><br/>\n",
       "\n",
       "                "
      ],
      "text/plain": [
       "<IPython.core.display.HTML object>"
      ]
     },
     "metadata": {},
     "output_type": "display_data"
    },
    {
     "data": {
      "text/html": [
       "<button onClick=\"this.nextSibling.style.display='block';this.style.display='none';\">Display W&B run</button><iframe src=\"https://wandb.ai/luiscostigan/house-price-prediction/runs/6wamlbgn?jupyter=true\" style=\"border:none;width:100%;height:420px;display:none;\"></iframe>"
      ],
      "text/plain": [
       "<wandb.sdk.wandb_run.Run at 0x7f95727d8130>"
      ]
     },
     "execution_count": 108,
     "metadata": {},
     "output_type": "execute_result"
    }
   ],
   "source": [
    "wandb.init(project=\"house-price-prediction\", entity=\"luiscostigan\")"
   ]
  },
  {
   "cell_type": "code",
   "execution_count": 109,
   "id": "1b06efad-42f3-4cb3-90c9-ee188ed47acc",
   "metadata": {},
   "outputs": [],
   "source": [
    "def create_model():\n",
    "    model = Sequential()\n",
    "    model.add(Dense(64, input_dim=X_train.shape[1], activation='relu'))\n",
    "    model.add(Dense(512, activation='relu'))\n",
    "    model.add(Dropout(wandb.config.dropout1))\n",
    "    model.add(Dense(512, activation='relu'))\n",
    "    model.add(Dense(1))\n",
    "    model.compile(optimizer='rmsprop', loss=\"mse\", metrics=[RootMeanSquaredError()])\n",
    "    \n",
    "    return model"
   ]
  },
  {
   "cell_type": "code",
   "execution_count": 110,
   "id": "51f06990",
   "metadata": {},
   "outputs": [
    {
     "data": {
      "text/plain": [
       "5"
      ]
     },
     "execution_count": 110,
     "metadata": {},
     "output_type": "execute_result"
    }
   ],
   "source": [
    "from sklearn.model_selection import KFold\n",
    "\n",
    "# Instantiate the validator, have it spit out the indices, generate batches from the indices, and feed those batches to the model.\n",
    "kf = KFold(n_splits=5)\n",
    "kf.get_n_splits(X_train, y_train)"
   ]
  },
  {
   "cell_type": "markdown",
   "id": "a12df004",
   "metadata": {},
   "source": [
    "Currently trying to implement RepeatedKFold cross validation with the Keras Sequential model, while recording model results on WandB.\n",
    "\n",
    "Sometimes I am getting a failed-1 error from WandB.\n",
    "    - "
   ]
  },
  {
   "cell_type": "code",
   "execution_count": 112,
   "id": "9e707d3f-2deb-4ac1-b274-48350e1027bd",
   "metadata": {},
   "outputs": [
    {
     "name": "stdout",
     "output_type": "stream",
     "text": [
      "Create sweep with ID: ru0ykkjf\n",
      "Sweep URL: https://wandb.ai/luiscostigan/house-price-prediction/sweeps/ru0ykkjf\n"
     ]
    },
    {
     "name": "stderr",
     "output_type": "stream",
     "text": [
      "\u001b[34m\u001b[1mwandb\u001b[0m: Agent Starting Run: iung0a55 with config:\n",
      "\u001b[34m\u001b[1mwandb\u001b[0m: \tbatch_size: 16\n",
      "\u001b[34m\u001b[1mwandb\u001b[0m: \tdropout1: 0.3838429917661869\n",
      "\u001b[34m\u001b[1mwandb\u001b[0m: \tepochs: 50\n",
      "\u001b[34m\u001b[1mwandb\u001b[0m: wandb version 0.12.11 is available!  To upgrade, please run:\n",
      "\u001b[34m\u001b[1mwandb\u001b[0m:  $ pip install wandb --upgrade\n"
     ]
    },
    {
     "data": {
      "text/html": [
       "\n",
       "                    Syncing run <strong><a href=\"https://wandb.ai/luiscostigan/house-price-prediction/runs/iung0a55\" target=\"_blank\">atomic-sweep-1</a></strong> to <a href=\"https://wandb.ai/luiscostigan/house-price-prediction\" target=\"_blank\">Weights & Biases</a> (<a href=\"https://docs.wandb.com/integrations/jupyter.html\" target=\"_blank\">docs</a>).<br/>\n",
       "Sweep page: <a href=\"https://wandb.ai/luiscostigan/house-price-prediction/sweeps/ru0ykkjf\" target=\"_blank\">https://wandb.ai/luiscostigan/house-price-prediction/sweeps/ru0ykkjf</a><br/>\n",
       "\n",
       "                "
      ],
      "text/plain": [
       "<IPython.core.display.HTML object>"
      ]
     },
     "metadata": {},
     "output_type": "display_data"
    },
    {
     "name": "stdout",
     "output_type": "stream",
     "text": [
      "37/37 [==============================] - 0s 3ms/step - loss: 642050368.0000 - root_mean_squared_error: 25338.7129\n",
      "Score for fold 1: loss of 642050368.0; root_mean_squared_error of 25338.712890625\n",
      "------------------------------------------------------------------------\n",
      "Score per fold\n",
      "------------------------------------------------------------------------\n",
      "> Fold 1 - Loss: 642050368.0 - RMSE: 25338.712890625%\n",
      "------------------------------------------------------------------------\n",
      "Average scores for all folds:\n",
      "> RMSE: 25338.712890625 (+- 0.0)\n",
      "> Loss: 642050368.0\n",
      "------------------------------------------------------------------------\n"
     ]
    },
    {
     "data": {
      "text/html": [
       "<br/>Waiting for W&B process to finish, PID 24482... <strong style=\"color:green\">(success).</strong>"
      ],
      "text/plain": [
       "<IPython.core.display.HTML object>"
      ]
     },
     "metadata": {},
     "output_type": "display_data"
    },
    {
     "data": {
      "application/vnd.jupyter.widget-view+json": {
       "model_id": "6c35224a42ce489b83969732393d2710",
       "version_major": 2,
       "version_minor": 0
      },
      "text/plain": [
       "VBox(children=(Label(value=' 2.09MB of 2.45MB uploaded (0.00MB deduped)\\r'), FloatProgress(value=0.85414040999…"
      ]
     },
     "metadata": {},
     "output_type": "display_data"
    },
    {
     "data": {
      "text/html": [
       "<style>\n",
       "    table.wandb td:nth-child(1) { padding: 0 10px; text-align: right }\n",
       "    .wandb-row { display: flex; flex-direction: row; flex-wrap: wrap; width: 100% }\n",
       "    .wandb-col { display: flex; flex-direction: column; flex-basis: 100%; flex: 1; padding: 10px; }\n",
       "    </style>\n",
       "<div class=\"wandb-row\"><div class=\"wandb-col\">\n",
       "<h3>Run history:</h3><br/><table class=\"wandb\"><tr><td>Mean Validation Loss (all folds)</td><td>▁</td></tr><tr><td>Mean Validation RMSE (all folds)</td><td>▁</td></tr><tr><td>epoch</td><td>▁▁▁▁▂▂▂▂▂▃▃▃▃▃▃▄▄▄▄▄▅▅▅▅▅▅▆▆▆▆▆▆▇▇▇▇▇███</td></tr><tr><td>loss</td><td>█▂▁▁▁▁▁▁▁▁▁▁▁▁▁▁▁▁▁▁▁▁▁▁▁▁▁▁▁▁▁▁▁▁▁▁▁▁▁▁</td></tr><tr><td>root_mean_squared_error</td><td>█▃▂▂▁▁▁▁▁▁▁▁▁▁▁▁▁▁▁▁▁▁▁▁▁▁▁▁▁▁▁▁▁▁▁▁▁▁▁▁</td></tr><tr><td>val_loss</td><td>█▂▁▁▁▁▁▁▁▁▁▁▁▁▁▁▁▁▁▁▁▁▁▁▁▁▁▁▁▁▁▁▁▁▁▁▁▁▁▁</td></tr><tr><td>val_root_mean_squared_error</td><td>█▂▂▂▁▁▁▁▁▁▁▁▁▁▁▁▁▁▁▁▁▁▁▁▁▁▁▁▁▁▁▁▁▁▁▁▁▁▁▁</td></tr></table><br/></div><div class=\"wandb-col\">\n",
       "<h3>Run summary:</h3><br/><table class=\"wandb\"><tr><td>Mean Validation Loss (all folds)</td><td>642050368.0</td></tr><tr><td>Mean Validation RMSE (all folds)</td><td>25338.71289</td></tr><tr><td>best_epoch</td><td>49</td></tr><tr><td>best_val_loss</td><td>642050496.0</td></tr><tr><td>epoch</td><td>49</td></tr><tr><td>loss</td><td>786594688.0</td></tr><tr><td>root_mean_squared_error</td><td>28046.29492</td></tr><tr><td>val_loss</td><td>642050496.0</td></tr><tr><td>val_root_mean_squared_error</td><td>25338.71484</td></tr></table>\n",
       "</div></div>\n",
       "Synced 5 W&B file(s), 0 media file(s), 0 artifact file(s) and 1 other file(s)\n",
       "<br/>Synced <strong style=\"color:#cdcd00\">atomic-sweep-1</strong>: <a href=\"https://wandb.ai/luiscostigan/house-price-prediction/runs/iung0a55\" target=\"_blank\">https://wandb.ai/luiscostigan/house-price-prediction/runs/iung0a55</a><br/>\n",
       "Find logs at: <code>./wandb/run-20220302_032542-iung0a55/logs</code><br/>\n"
      ],
      "text/plain": [
       "<IPython.core.display.HTML object>"
      ]
     },
     "metadata": {},
     "output_type": "display_data"
    },
    {
     "name": "stderr",
     "output_type": "stream",
     "text": [
      "\u001b[34m\u001b[1mwandb\u001b[0m: wandb version 0.12.11 is available!  To upgrade, please run:\n",
      "\u001b[34m\u001b[1mwandb\u001b[0m:  $ pip install wandb --upgrade\n"
     ]
    },
    {
     "data": {
      "text/html": [
       "\n",
       "                    Syncing run <strong><a href=\"https://wandb.ai/luiscostigan/house-price-prediction/runs/iung0a55\" target=\"_blank\">atomic-sweep-1</a></strong> to <a href=\"https://wandb.ai/luiscostigan/house-price-prediction\" target=\"_blank\">Weights & Biases</a> (<a href=\"https://docs.wandb.com/integrations/jupyter.html\" target=\"_blank\">docs</a>).<br/>\n",
       "Sweep page: <a href=\"https://wandb.ai/luiscostigan/house-price-prediction/sweeps/ru0ykkjf\" target=\"_blank\">https://wandb.ai/luiscostigan/house-price-prediction/sweeps/ru0ykkjf</a><br/>\n",
       "\n",
       "                "
      ],
      "text/plain": [
       "<IPython.core.display.HTML object>"
      ]
     },
     "metadata": {},
     "output_type": "display_data"
    },
    {
     "name": "stdout",
     "output_type": "stream",
     "text": [
      "37/37 [==============================] - 0s 2ms/step - loss: 666235456.0000 - root_mean_squared_error: 25811.5371\n",
      "Score for fold 2: loss of 666235456.0; root_mean_squared_error of 25811.537109375\n",
      "------------------------------------------------------------------------\n",
      "Score per fold\n",
      "------------------------------------------------------------------------\n",
      "> Fold 1 - Loss: 642050368.0 - RMSE: 25338.712890625%\n",
      "------------------------------------------------------------------------\n",
      "> Fold 2 - Loss: 666235456.0 - RMSE: 25811.537109375%\n",
      "------------------------------------------------------------------------\n",
      "Average scores for all folds:\n",
      "> RMSE: 25575.125 (+- 236.412109375)\n",
      "> Loss: 654142912.0\n",
      "------------------------------------------------------------------------\n"
     ]
    },
    {
     "data": {
      "text/html": [
       "<br/>Waiting for W&B process to finish, PID 25767... <strong style=\"color:green\">(success).</strong>"
      ],
      "text/plain": [
       "<IPython.core.display.HTML object>"
      ]
     },
     "metadata": {},
     "output_type": "display_data"
    },
    {
     "data": {
      "application/vnd.jupyter.widget-view+json": {
       "model_id": "54a42c17d820478194fd8f23b542669a",
       "version_major": 2,
       "version_minor": 0
      },
      "text/plain": [
       "VBox(children=(Label(value=' 1.45MB of 2.45MB uploaded (0.00MB deduped)\\r'), FloatProgress(value=0.59289876403…"
      ]
     },
     "metadata": {},
     "output_type": "display_data"
    },
    {
     "data": {
      "text/html": [
       "<style>\n",
       "    table.wandb td:nth-child(1) { padding: 0 10px; text-align: right }\n",
       "    .wandb-row { display: flex; flex-direction: row; flex-wrap: wrap; width: 100% }\n",
       "    .wandb-col { display: flex; flex-direction: column; flex-basis: 100%; flex: 1; padding: 10px; }\n",
       "    </style>\n",
       "<div class=\"wandb-row\"><div class=\"wandb-col\">\n",
       "<h3>Run history:</h3><br/><table class=\"wandb\"><tr><td>Mean Validation Loss (all folds)</td><td>▁</td></tr><tr><td>Mean Validation RMSE (all folds)</td><td>▁</td></tr><tr><td>epoch</td><td>▁▁▁▁▂▂▂▂▂▃▃▃▃▃▃▄▄▄▄▄▅▅▅▅▅▅▆▆▆▆▆▆▇▇▇▇▇███</td></tr><tr><td>loss</td><td>█▂▁▁▁▁▁▁▁▁▁▁▁▁▁▁▁▁▁▁▁▁▁▁▁▁▁▁▁▁▁▁▁▁▁▁▁▁▁▁</td></tr><tr><td>root_mean_squared_error</td><td>█▃▂▂▁▁▁▁▁▁▁▁▁▁▁▁▁▁▁▁▁▁▁▁▁▁▁▁▁▁▁▁▁▁▁▁▁▁▁▁</td></tr><tr><td>val_loss</td><td>█▂▁▁▁▁▁▁▁▁▁▁▁▁▁▁▁▁▁▁▁▁▁▁▁▁▁▁▁▁▁▁▁▁▁▁▁▁▁▁</td></tr><tr><td>val_root_mean_squared_error</td><td>█▂▂▂▁▁▁▁▁▁▁▁▁▁▁▁▁▁▁▁▁▁▁▁▁▁▁▁▁▁▁▁▁▁▁▁▁▁▁▁</td></tr></table><br/></div><div class=\"wandb-col\">\n",
       "<h3>Run summary:</h3><br/><table class=\"wandb\"><tr><td>Mean Validation Loss (all folds)</td><td>654142912.0</td></tr><tr><td>Mean Validation RMSE (all folds)</td><td>25575.125</td></tr><tr><td>best_epoch</td><td>49</td></tr><tr><td>best_val_loss</td><td>666235136.0</td></tr><tr><td>epoch</td><td>49</td></tr><tr><td>loss</td><td>763257984.0</td></tr><tr><td>root_mean_squared_error</td><td>27627.125</td></tr><tr><td>val_loss</td><td>666235136.0</td></tr><tr><td>val_root_mean_squared_error</td><td>25811.53125</td></tr></table>\n",
       "</div></div>\n",
       "Synced 5 W&B file(s), 0 media file(s), 0 artifact file(s) and 1 other file(s)\n",
       "<br/>Synced <strong style=\"color:#cdcd00\">atomic-sweep-1</strong>: <a href=\"https://wandb.ai/luiscostigan/house-price-prediction/runs/iung0a55\" target=\"_blank\">https://wandb.ai/luiscostigan/house-price-prediction/runs/iung0a55</a><br/>\n",
       "Find logs at: <code>./wandb/run-20220302_032608-iung0a55/logs</code><br/>\n"
      ],
      "text/plain": [
       "<IPython.core.display.HTML object>"
      ]
     },
     "metadata": {},
     "output_type": "display_data"
    },
    {
     "name": "stderr",
     "output_type": "stream",
     "text": [
      "\u001b[34m\u001b[1mwandb\u001b[0m: wandb version 0.12.11 is available!  To upgrade, please run:\n",
      "\u001b[34m\u001b[1mwandb\u001b[0m:  $ pip install wandb --upgrade\n"
     ]
    },
    {
     "data": {
      "text/html": [
       "\n",
       "                    Syncing run <strong><a href=\"https://wandb.ai/luiscostigan/house-price-prediction/runs/iung0a55\" target=\"_blank\">atomic-sweep-1</a></strong> to <a href=\"https://wandb.ai/luiscostigan/house-price-prediction\" target=\"_blank\">Weights & Biases</a> (<a href=\"https://docs.wandb.com/integrations/jupyter.html\" target=\"_blank\">docs</a>).<br/>\n",
       "Sweep page: <a href=\"https://wandb.ai/luiscostigan/house-price-prediction/sweeps/ru0ykkjf\" target=\"_blank\">https://wandb.ai/luiscostigan/house-price-prediction/sweeps/ru0ykkjf</a><br/>\n",
       "\n",
       "                "
      ],
      "text/plain": [
       "<IPython.core.display.HTML object>"
      ]
     },
     "metadata": {},
     "output_type": "display_data"
    },
    {
     "name": "stdout",
     "output_type": "stream",
     "text": [
      "37/37 [==============================] - 0s 3ms/step - loss: 647470784.0000 - root_mean_squared_error: 25445.4473\n",
      "Score for fold 3: loss of 647470784.0; root_mean_squared_error of 25445.447265625\n",
      "------------------------------------------------------------------------\n",
      "Score per fold\n",
      "------------------------------------------------------------------------\n",
      "> Fold 1 - Loss: 642050368.0 - RMSE: 25338.712890625%\n",
      "------------------------------------------------------------------------\n",
      "> Fold 2 - Loss: 666235456.0 - RMSE: 25811.537109375%\n",
      "------------------------------------------------------------------------\n",
      "> Fold 3 - Loss: 647470784.0 - RMSE: 25445.447265625%\n",
      "------------------------------------------------------------------------\n",
      "Average scores for all folds:\n",
      "> RMSE: 25531.899088541668 (+- 202.47818602398957)\n",
      "> Loss: 651918869.3333334\n",
      "------------------------------------------------------------------------\n"
     ]
    },
    {
     "data": {
      "text/html": [
       "<br/>Waiting for W&B process to finish, PID 27071... <strong style=\"color:green\">(success).</strong>"
      ],
      "text/plain": [
       "<IPython.core.display.HTML object>"
      ]
     },
     "metadata": {},
     "output_type": "display_data"
    },
    {
     "data": {
      "application/vnd.jupyter.widget-view+json": {
       "model_id": "7a043ce2df6b4152b4565a399ab7d0ad",
       "version_major": 2,
       "version_minor": 0
      },
      "text/plain": [
       "VBox(children=(Label(value=' 1.77MB of 2.45MB uploaded (0.00MB deduped)\\r'), FloatProgress(value=0.72031367809…"
      ]
     },
     "metadata": {},
     "output_type": "display_data"
    },
    {
     "data": {
      "text/html": [
       "<style>\n",
       "    table.wandb td:nth-child(1) { padding: 0 10px; text-align: right }\n",
       "    .wandb-row { display: flex; flex-direction: row; flex-wrap: wrap; width: 100% }\n",
       "    .wandb-col { display: flex; flex-direction: column; flex-basis: 100%; flex: 1; padding: 10px; }\n",
       "    </style>\n",
       "<div class=\"wandb-row\"><div class=\"wandb-col\">\n",
       "<h3>Run history:</h3><br/><table class=\"wandb\"><tr><td>Mean Validation Loss (all folds)</td><td>▁</td></tr><tr><td>Mean Validation RMSE (all folds)</td><td>▁</td></tr><tr><td>epoch</td><td>▁▁▁▁▂▂▂▂▂▃▃▃▃▃▃▄▄▄▄▄▅▅▅▅▅▅▆▆▆▆▆▆▇▇▇▇▇███</td></tr><tr><td>loss</td><td>█▂▁▁▁▁▁▁▁▁▁▁▁▁▁▁▁▁▁▁▁▁▁▁▁▁▁▁▁▁▁▁▁▁▁▁▁▁▁▁</td></tr><tr><td>root_mean_squared_error</td><td>█▃▂▁▁▁▁▁▁▁▁▁▁▁▁▁▁▁▁▁▁▁▁▁▁▁▁▁▁▁▁▁▁▁▁▁▁▁▁▁</td></tr><tr><td>val_loss</td><td>█▂▁▁▁▁▁▁▁▁▁▁▁▁▁▁▁▁▁▁▁▁▁▁▁▁▁▁▁▁▁▁▁▁▁▁▁▁▁▁</td></tr><tr><td>val_root_mean_squared_error</td><td>█▃▂▂▁▁▁▁▁▁▁▁▁▁▁▁▁▁▁▁▁▁▁▁▁▁▁▁▁▁▁▁▁▁▁▁▁▁▁▁</td></tr></table><br/></div><div class=\"wandb-col\">\n",
       "<h3>Run summary:</h3><br/><table class=\"wandb\"><tr><td>Mean Validation Loss (all folds)</td><td>651918869.33333</td></tr><tr><td>Mean Validation RMSE (all folds)</td><td>25531.89909</td></tr><tr><td>best_epoch</td><td>49</td></tr><tr><td>best_val_loss</td><td>647470720.0</td></tr><tr><td>epoch</td><td>49</td></tr><tr><td>loss</td><td>722060864.0</td></tr><tr><td>root_mean_squared_error</td><td>26871.18945</td></tr><tr><td>val_loss</td><td>647470720.0</td></tr><tr><td>val_root_mean_squared_error</td><td>25445.44531</td></tr></table>\n",
       "</div></div>\n",
       "Synced 5 W&B file(s), 0 media file(s), 0 artifact file(s) and 1 other file(s)\n",
       "<br/>Synced <strong style=\"color:#cdcd00\">atomic-sweep-1</strong>: <a href=\"https://wandb.ai/luiscostigan/house-price-prediction/runs/iung0a55\" target=\"_blank\">https://wandb.ai/luiscostigan/house-price-prediction/runs/iung0a55</a><br/>\n",
       "Find logs at: <code>./wandb/run-20220302_032632-iung0a55/logs</code><br/>\n"
      ],
      "text/plain": [
       "<IPython.core.display.HTML object>"
      ]
     },
     "metadata": {},
     "output_type": "display_data"
    },
    {
     "name": "stderr",
     "output_type": "stream",
     "text": [
      "\u001b[34m\u001b[1mwandb\u001b[0m: wandb version 0.12.11 is available!  To upgrade, please run:\n",
      "\u001b[34m\u001b[1mwandb\u001b[0m:  $ pip install wandb --upgrade\n"
     ]
    },
    {
     "data": {
      "text/html": [
       "\n",
       "                    Syncing run <strong><a href=\"https://wandb.ai/luiscostigan/house-price-prediction/runs/iung0a55\" target=\"_blank\">atomic-sweep-1</a></strong> to <a href=\"https://wandb.ai/luiscostigan/house-price-prediction\" target=\"_blank\">Weights & Biases</a> (<a href=\"https://docs.wandb.com/integrations/jupyter.html\" target=\"_blank\">docs</a>).<br/>\n",
       "Sweep page: <a href=\"https://wandb.ai/luiscostigan/house-price-prediction/sweeps/ru0ykkjf\" target=\"_blank\">https://wandb.ai/luiscostigan/house-price-prediction/sweeps/ru0ykkjf</a><br/>\n",
       "\n",
       "                "
      ],
      "text/plain": [
       "<IPython.core.display.HTML object>"
      ]
     },
     "metadata": {},
     "output_type": "display_data"
    },
    {
     "name": "stdout",
     "output_type": "stream",
     "text": [
      "37/37 [==============================] - 0s 2ms/step - loss: 647459392.0000 - root_mean_squared_error: 25445.2227\n",
      "Score for fold 4: loss of 647459392.0; root_mean_squared_error of 25445.22265625\n",
      "------------------------------------------------------------------------\n",
      "Score per fold\n",
      "------------------------------------------------------------------------\n",
      "> Fold 1 - Loss: 642050368.0 - RMSE: 25338.712890625%\n",
      "------------------------------------------------------------------------\n",
      "> Fold 2 - Loss: 666235456.0 - RMSE: 25811.537109375%\n",
      "------------------------------------------------------------------------\n",
      "> Fold 3 - Loss: 647470784.0 - RMSE: 25445.447265625%\n",
      "------------------------------------------------------------------------\n",
      "> Fold 4 - Loss: 647459392.0 - RMSE: 25445.22265625%\n",
      "------------------------------------------------------------------------\n",
      "Average scores for all folds:\n",
      "> RMSE: 25510.22998046875 (+- 179.3229282487357)\n",
      "> Loss: 650804000.0\n",
      "------------------------------------------------------------------------\n"
     ]
    },
    {
     "data": {
      "text/html": [
       "<br/>Waiting for W&B process to finish, PID 28357... <strong style=\"color:green\">(success).</strong>"
      ],
      "text/plain": [
       "<IPython.core.display.HTML object>"
      ]
     },
     "metadata": {},
     "output_type": "display_data"
    },
    {
     "data": {
      "application/vnd.jupyter.widget-view+json": {
       "model_id": "63ecbcb007d24a38be3ea56c35e5046b",
       "version_major": 2,
       "version_minor": 0
      },
      "text/plain": [
       "VBox(children=(Label(value=' 1.73MB of 2.45MB uploaded (0.00MB deduped)\\r'), FloatProgress(value=0.70439073518…"
      ]
     },
     "metadata": {},
     "output_type": "display_data"
    },
    {
     "data": {
      "text/html": [
       "<style>\n",
       "    table.wandb td:nth-child(1) { padding: 0 10px; text-align: right }\n",
       "    .wandb-row { display: flex; flex-direction: row; flex-wrap: wrap; width: 100% }\n",
       "    .wandb-col { display: flex; flex-direction: column; flex-basis: 100%; flex: 1; padding: 10px; }\n",
       "    </style>\n",
       "<div class=\"wandb-row\"><div class=\"wandb-col\">\n",
       "<h3>Run history:</h3><br/><table class=\"wandb\"><tr><td>Mean Validation Loss (all folds)</td><td>▁</td></tr><tr><td>Mean Validation RMSE (all folds)</td><td>▁</td></tr><tr><td>epoch</td><td>▁▁▁▁▂▂▂▂▂▃▃▃▃▃▃▄▄▄▄▄▅▅▅▅▅▅▆▆▆▆▆▆▇▇▇▇▇███</td></tr><tr><td>loss</td><td>█▂▁▁▁▁▁▁▁▁▁▁▁▁▁▁▁▁▁▁▁▁▁▁▁▁▁▁▁▁▁▁▁▁▁▁▁▁▁▁</td></tr><tr><td>root_mean_squared_error</td><td>█▃▂▁▁▁▁▁▁▁▁▁▁▁▁▁▁▁▁▁▁▁▁▁▁▁▁▁▁▁▁▁▁▁▁▁▁▁▁▁</td></tr><tr><td>val_loss</td><td>█▂▁▁▁▁▁▁▁▁▁▁▁▁▁▁▁▁▁▁▁▁▁▁▁▁▁▁▁▁▁▁▁▁▁▁▁▁▁▁</td></tr><tr><td>val_root_mean_squared_error</td><td>█▂▂▂▁▁▁▁▁▁▁▁▁▁▁▁▁▁▁▁▁▁▁▁▁▁▁▁▁▁▁▁▁▁▁▁▁▁▁▁</td></tr></table><br/></div><div class=\"wandb-col\">\n",
       "<h3>Run summary:</h3><br/><table class=\"wandb\"><tr><td>Mean Validation Loss (all folds)</td><td>650804000.0</td></tr><tr><td>Mean Validation RMSE (all folds)</td><td>25510.22998</td></tr><tr><td>best_epoch</td><td>49</td></tr><tr><td>best_val_loss</td><td>647459392.0</td></tr><tr><td>epoch</td><td>49</td></tr><tr><td>loss</td><td>754448256.0</td></tr><tr><td>root_mean_squared_error</td><td>27467.2207</td></tr><tr><td>val_loss</td><td>647459392.0</td></tr><tr><td>val_root_mean_squared_error</td><td>25445.22266</td></tr></table>\n",
       "</div></div>\n",
       "Synced 5 W&B file(s), 0 media file(s), 0 artifact file(s) and 1 other file(s)\n",
       "<br/>Synced <strong style=\"color:#cdcd00\">atomic-sweep-1</strong>: <a href=\"https://wandb.ai/luiscostigan/house-price-prediction/runs/iung0a55\" target=\"_blank\">https://wandb.ai/luiscostigan/house-price-prediction/runs/iung0a55</a><br/>\n",
       "Find logs at: <code>./wandb/run-20220302_032658-iung0a55/logs</code><br/>\n"
      ],
      "text/plain": [
       "<IPython.core.display.HTML object>"
      ]
     },
     "metadata": {},
     "output_type": "display_data"
    },
    {
     "name": "stderr",
     "output_type": "stream",
     "text": [
      "\u001b[34m\u001b[1mwandb\u001b[0m: wandb version 0.12.11 is available!  To upgrade, please run:\n",
      "\u001b[34m\u001b[1mwandb\u001b[0m:  $ pip install wandb --upgrade\n"
     ]
    },
    {
     "data": {
      "text/html": [
       "\n",
       "                    Syncing run <strong><a href=\"https://wandb.ai/luiscostigan/house-price-prediction/runs/iung0a55\" target=\"_blank\">atomic-sweep-1</a></strong> to <a href=\"https://wandb.ai/luiscostigan/house-price-prediction\" target=\"_blank\">Weights & Biases</a> (<a href=\"https://docs.wandb.com/integrations/jupyter.html\" target=\"_blank\">docs</a>).<br/>\n",
       "Sweep page: <a href=\"https://wandb.ai/luiscostigan/house-price-prediction/sweeps/ru0ykkjf\" target=\"_blank\">https://wandb.ai/luiscostigan/house-price-prediction/sweeps/ru0ykkjf</a><br/>\n",
       "\n",
       "                "
      ],
      "text/plain": [
       "<IPython.core.display.HTML object>"
      ]
     },
     "metadata": {},
     "output_type": "display_data"
    },
    {
     "name": "stdout",
     "output_type": "stream",
     "text": [
      "37/37 [==============================] - 0s 2ms/step - loss: 671350208.0000 - root_mean_squared_error: 25910.4258\n",
      "Score for fold 5: loss of 671350208.0; root_mean_squared_error of 25910.42578125\n",
      "------------------------------------------------------------------------\n",
      "Score per fold\n",
      "------------------------------------------------------------------------\n",
      "> Fold 1 - Loss: 642050368.0 - RMSE: 25338.712890625%\n",
      "------------------------------------------------------------------------\n",
      "> Fold 2 - Loss: 666235456.0 - RMSE: 25811.537109375%\n",
      "------------------------------------------------------------------------\n",
      "> Fold 3 - Loss: 647470784.0 - RMSE: 25445.447265625%\n",
      "------------------------------------------------------------------------\n",
      "> Fold 4 - Loss: 647459392.0 - RMSE: 25445.22265625%\n",
      "------------------------------------------------------------------------\n",
      "> Fold 5 - Loss: 671350208.0 - RMSE: 25910.42578125%\n",
      "------------------------------------------------------------------------\n",
      "Average scores for all folds:\n",
      "> RMSE: 25590.269140625 (+- 226.60635187618269)\n",
      "> Loss: 654913241.6\n",
      "------------------------------------------------------------------------\n"
     ]
    },
    {
     "data": {
      "text/html": [
       "<br/>Waiting for W&B process to finish, PID 29627... <strong style=\"color:green\">(success).</strong>"
      ],
      "text/plain": [
       "<IPython.core.display.HTML object>"
      ]
     },
     "metadata": {},
     "output_type": "display_data"
    },
    {
     "data": {
      "application/vnd.jupyter.widget-view+json": {
       "model_id": "b18e4276b2a94a0ab1cdeb7fdd1a1923",
       "version_major": 2,
       "version_minor": 0
      },
      "text/plain": [
       "VBox(children=(Label(value=' 2.16MB of 2.45MB uploaded (0.00MB deduped)\\r'), FloatProgress(value=0.87959240414…"
      ]
     },
     "metadata": {},
     "output_type": "display_data"
    },
    {
     "data": {
      "text/html": [
       "<style>\n",
       "    table.wandb td:nth-child(1) { padding: 0 10px; text-align: right }\n",
       "    .wandb-row { display: flex; flex-direction: row; flex-wrap: wrap; width: 100% }\n",
       "    .wandb-col { display: flex; flex-direction: column; flex-basis: 100%; flex: 1; padding: 10px; }\n",
       "    </style>\n",
       "<div class=\"wandb-row\"><div class=\"wandb-col\">\n",
       "<h3>Run history:</h3><br/><table class=\"wandb\"><tr><td>Mean Validation Loss (all folds)</td><td>▁</td></tr><tr><td>Mean Validation RMSE (all folds)</td><td>▁</td></tr><tr><td>epoch</td><td>▁▁▁▁▂▂▂▂▂▃▃▃▃▃▃▄▄▄▄▄▅▅▅▅▅▅▆▆▆▆▆▆▇▇▇▇▇███</td></tr><tr><td>loss</td><td>█▂▁▁▁▁▁▁▁▁▁▁▁▁▁▁▁▁▁▁▁▁▁▁▁▁▁▁▁▁▁▁▁▁▁▁▁▁▁▁</td></tr><tr><td>root_mean_squared_error</td><td>█▃▂▂▁▁▁▁▁▁▁▁▁▁▁▁▁▁▁▁▁▁▁▁▁▁▁▁▁▁▁▁▁▁▁▁▁▁▁▁</td></tr><tr><td>val_loss</td><td>█▂▁▁▁▁▁▁▁▁▁▁▁▁▁▁▁▁▁▁▁▁▁▁▁▁▁▁▁▁▁▁▁▁▁▁▁▁▁▁</td></tr><tr><td>val_root_mean_squared_error</td><td>█▃▂▂▁▁▁▁▁▁▁▁▁▁▁▁▁▁▁▁▁▁▁▁▁▁▁▁▁▁▁▁▁▁▁▁▁▁▁▁</td></tr></table><br/></div><div class=\"wandb-col\">\n",
       "<h3>Run summary:</h3><br/><table class=\"wandb\"><tr><td>Mean Validation Loss (all folds)</td><td>654913241.6</td></tr><tr><td>Mean Validation RMSE (all folds)</td><td>25590.26914</td></tr><tr><td>best_epoch</td><td>46</td></tr><tr><td>best_val_loss</td><td>666617920.0</td></tr><tr><td>epoch</td><td>49</td></tr><tr><td>loss</td><td>773736448.0</td></tr><tr><td>root_mean_squared_error</td><td>27816.11914</td></tr><tr><td>val_loss</td><td>671350080.0</td></tr><tr><td>val_root_mean_squared_error</td><td>25910.42383</td></tr></table>\n",
       "</div></div>\n",
       "Synced 5 W&B file(s), 0 media file(s), 0 artifact file(s) and 1 other file(s)\n",
       "<br/>Synced <strong style=\"color:#cdcd00\">atomic-sweep-1</strong>: <a href=\"https://wandb.ai/luiscostigan/house-price-prediction/runs/iung0a55\" target=\"_blank\">https://wandb.ai/luiscostigan/house-price-prediction/runs/iung0a55</a><br/>\n",
       "Find logs at: <code>./wandb/run-20220302_032723-iung0a55/logs</code><br/>\n"
      ],
      "text/plain": [
       "<IPython.core.display.HTML object>"
      ]
     },
     "metadata": {},
     "output_type": "display_data"
    },
    {
     "name": "stderr",
     "output_type": "stream",
     "text": [
      "\u001b[34m\u001b[1mwandb\u001b[0m: Agent Starting Run: jeumtzm0 with config:\n",
      "\u001b[34m\u001b[1mwandb\u001b[0m: \tbatch_size: 128\n",
      "\u001b[34m\u001b[1mwandb\u001b[0m: \tdropout1: 0.4585805278409533\n",
      "\u001b[34m\u001b[1mwandb\u001b[0m: \tepochs: 30\n",
      "\u001b[34m\u001b[1mwandb\u001b[0m: wandb version 0.12.11 is available!  To upgrade, please run:\n",
      "\u001b[34m\u001b[1mwandb\u001b[0m:  $ pip install wandb --upgrade\n"
     ]
    },
    {
     "data": {
      "text/html": [
       "\n",
       "                    Syncing run <strong><a href=\"https://wandb.ai/luiscostigan/house-price-prediction/runs/jeumtzm0\" target=\"_blank\">gallant-sweep-2</a></strong> to <a href=\"https://wandb.ai/luiscostigan/house-price-prediction\" target=\"_blank\">Weights & Biases</a> (<a href=\"https://docs.wandb.com/integrations/jupyter.html\" target=\"_blank\">docs</a>).<br/>\n",
       "Sweep page: <a href=\"https://wandb.ai/luiscostigan/house-price-prediction/sweeps/ru0ykkjf\" target=\"_blank\">https://wandb.ai/luiscostigan/house-price-prediction/sweeps/ru0ykkjf</a><br/>\n",
       "\n",
       "                "
      ],
      "text/plain": [
       "<IPython.core.display.HTML object>"
      ]
     },
     "metadata": {},
     "output_type": "display_data"
    },
    {
     "name": "stdout",
     "output_type": "stream",
     "text": [
      "37/37 [==============================] - 0s 2ms/step - loss: 1033542080.0000 - root_mean_squared_error: 32148.7500\n",
      "Score for fold 1: loss of 1033542080.0; root_mean_squared_error of 32148.75\n",
      "------------------------------------------------------------------------\n",
      "Score per fold\n",
      "------------------------------------------------------------------------\n",
      "> Fold 1 - Loss: 1033542080.0 - RMSE: 32148.75%\n",
      "------------------------------------------------------------------------\n",
      "Average scores for all folds:\n",
      "> RMSE: 32148.75 (+- 0.0)\n",
      "> Loss: 1033542080.0\n",
      "------------------------------------------------------------------------\n"
     ]
    },
    {
     "data": {
      "text/html": [
       "<br/>Waiting for W&B process to finish, PID 30975... <strong style=\"color:green\">(success).</strong>"
      ],
      "text/plain": [
       "<IPython.core.display.HTML object>"
      ]
     },
     "metadata": {},
     "output_type": "display_data"
    },
    {
     "data": {
      "application/vnd.jupyter.widget-view+json": {
       "model_id": "e5d558ca195444fda87ccd621d0edb9b",
       "version_major": 2,
       "version_minor": 0
      },
      "text/plain": [
       "VBox(children=(Label(value=' 1.73MB of 2.45MB uploaded (0.00MB deduped)\\r'), FloatProgress(value=0.70441703100…"
      ]
     },
     "metadata": {},
     "output_type": "display_data"
    },
    {
     "data": {
      "text/html": [
       "<style>\n",
       "    table.wandb td:nth-child(1) { padding: 0 10px; text-align: right }\n",
       "    .wandb-row { display: flex; flex-direction: row; flex-wrap: wrap; width: 100% }\n",
       "    .wandb-col { display: flex; flex-direction: column; flex-basis: 100%; flex: 1; padding: 10px; }\n",
       "    </style>\n",
       "<div class=\"wandb-row\"><div class=\"wandb-col\">\n",
       "<h3>Run history:</h3><br/><table class=\"wandb\"><tr><td>Mean Validation Loss (all folds)</td><td>▁</td></tr><tr><td>Mean Validation RMSE (all folds)</td><td>▁</td></tr><tr><td>epoch</td><td>▁▁▁▂▂▂▂▃▃▃▃▄▄▄▄▅▅▅▅▆▆▆▆▇▇▇▇███</td></tr><tr><td>loss</td><td>███▇▆▅▄▃▂▁▁▁▁▁▁▁▁▁▁▁▁▁▁▁▁▁▁▁▁▁</td></tr><tr><td>root_mean_squared_error</td><td>███▇▇▆▅▄▃▂▂▂▂▁▁▁▁▁▁▁▁▁▁▁▁▁▁▁▁▁</td></tr><tr><td>val_loss</td><td>██▇▇▆▅▃▂▂▁▁▁▁▁▁▁▁▁▁▁▁▁▁▁▁▁▁▁▁▁</td></tr><tr><td>val_root_mean_squared_error</td><td>███▇▇▆▅▃▂▂▂▂▁▁▁▁▁▁▁▁▁▁▁▁▁▁▁▁▁▁</td></tr></table><br/></div><div class=\"wandb-col\">\n",
       "<h3>Run summary:</h3><br/><table class=\"wandb\"><tr><td>Mean Validation Loss (all folds)</td><td>1033542080.0</td></tr><tr><td>Mean Validation RMSE (all folds)</td><td>32148.75</td></tr><tr><td>best_epoch</td><td>28</td></tr><tr><td>best_val_loss</td><td>978012608.0</td></tr><tr><td>epoch</td><td>29</td></tr><tr><td>loss</td><td>1000056448.0</td></tr><tr><td>root_mean_squared_error</td><td>31623.66992</td></tr><tr><td>val_loss</td><td>1033542336.0</td></tr><tr><td>val_root_mean_squared_error</td><td>32148.75391</td></tr></table>\n",
       "</div></div>\n",
       "Synced 5 W&B file(s), 0 media file(s), 0 artifact file(s) and 1 other file(s)\n",
       "<br/>Synced <strong style=\"color:#cdcd00\">gallant-sweep-2</strong>: <a href=\"https://wandb.ai/luiscostigan/house-price-prediction/runs/jeumtzm0\" target=\"_blank\">https://wandb.ai/luiscostigan/house-price-prediction/runs/jeumtzm0</a><br/>\n",
       "Find logs at: <code>./wandb/run-20220302_032753-jeumtzm0/logs</code><br/>\n"
      ],
      "text/plain": [
       "<IPython.core.display.HTML object>"
      ]
     },
     "metadata": {},
     "output_type": "display_data"
    },
    {
     "name": "stderr",
     "output_type": "stream",
     "text": [
      "\u001b[34m\u001b[1mwandb\u001b[0m: wandb version 0.12.11 is available!  To upgrade, please run:\n",
      "\u001b[34m\u001b[1mwandb\u001b[0m:  $ pip install wandb --upgrade\n"
     ]
    },
    {
     "data": {
      "text/html": [
       "\n",
       "                    Syncing run <strong><a href=\"https://wandb.ai/luiscostigan/house-price-prediction/runs/jeumtzm0\" target=\"_blank\">gallant-sweep-2</a></strong> to <a href=\"https://wandb.ai/luiscostigan/house-price-prediction\" target=\"_blank\">Weights & Biases</a> (<a href=\"https://docs.wandb.com/integrations/jupyter.html\" target=\"_blank\">docs</a>).<br/>\n",
       "Sweep page: <a href=\"https://wandb.ai/luiscostigan/house-price-prediction/sweeps/ru0ykkjf\" target=\"_blank\">https://wandb.ai/luiscostigan/house-price-prediction/sweeps/ru0ykkjf</a><br/>\n",
       "\n",
       "                "
      ],
      "text/plain": [
       "<IPython.core.display.HTML object>"
      ]
     },
     "metadata": {},
     "output_type": "display_data"
    },
    {
     "name": "stdout",
     "output_type": "stream",
     "text": [
      "37/37 [==============================] - 0s 2ms/step - loss: 1020233792.0000 - root_mean_squared_error: 31941.0996\n",
      "Score for fold 2: loss of 1020233792.0; root_mean_squared_error of 31941.099609375\n",
      "------------------------------------------------------------------------\n",
      "Score per fold\n",
      "------------------------------------------------------------------------\n",
      "> Fold 1 - Loss: 1033542080.0 - RMSE: 32148.75%\n",
      "------------------------------------------------------------------------\n",
      "> Fold 2 - Loss: 1020233792.0 - RMSE: 31941.099609375%\n",
      "------------------------------------------------------------------------\n",
      "Average scores for all folds:\n",
      "> RMSE: 32044.9248046875 (+- 103.8251953125)\n",
      "> Loss: 1026887936.0\n",
      "------------------------------------------------------------------------\n"
     ]
    },
    {
     "data": {
      "text/html": [
       "<br/>Waiting for W&B process to finish, PID 31764... <strong style=\"color:green\">(success).</strong>"
      ],
      "text/plain": [
       "<IPython.core.display.HTML object>"
      ]
     },
     "metadata": {},
     "output_type": "display_data"
    },
    {
     "data": {
      "application/vnd.jupyter.widget-view+json": {
       "model_id": "94b8f249e69f46e381cc7d3a24188294",
       "version_major": 2,
       "version_minor": 0
      },
      "text/plain": [
       "VBox(children=(Label(value=' 2.22MB of 2.45MB uploaded (0.00MB deduped)\\r'), FloatProgress(value=0.90507628326…"
      ]
     },
     "metadata": {},
     "output_type": "display_data"
    },
    {
     "data": {
      "text/html": [
       "<style>\n",
       "    table.wandb td:nth-child(1) { padding: 0 10px; text-align: right }\n",
       "    .wandb-row { display: flex; flex-direction: row; flex-wrap: wrap; width: 100% }\n",
       "    .wandb-col { display: flex; flex-direction: column; flex-basis: 100%; flex: 1; padding: 10px; }\n",
       "    </style>\n",
       "<div class=\"wandb-row\"><div class=\"wandb-col\">\n",
       "<h3>Run history:</h3><br/><table class=\"wandb\"><tr><td>Mean Validation Loss (all folds)</td><td>▁</td></tr><tr><td>Mean Validation RMSE (all folds)</td><td>▁</td></tr><tr><td>epoch</td><td>▁▁▁▂▂▂▂▃▃▃▃▄▄▄▄▅▅▅▅▆▆▆▆▇▇▇▇███</td></tr><tr><td>loss</td><td>███▇▆▅▄▃▂▁▁▁▁▁▁▁▁▁▁▁▁▁▁▁▁▁▁▁▁▁</td></tr><tr><td>root_mean_squared_error</td><td>███▇▇▆▅▄▃▂▂▂▁▁▁▁▁▁▁▁▁▁▁▁▁▁▁▁▁▁</td></tr><tr><td>val_loss</td><td>██▇▇▆▅▃▂▂▁▁▁▁▁▁▁▁▁▁▁▁▁▁▁▁▁▁▁▁▁</td></tr><tr><td>val_root_mean_squared_error</td><td>███▇▇▆▅▄▂▂▂▂▁▁▁▁▁▁▁▁▁▁▁▁▁▁▁▁▁▁</td></tr></table><br/></div><div class=\"wandb-col\">\n",
       "<h3>Run summary:</h3><br/><table class=\"wandb\"><tr><td>Mean Validation Loss (all folds)</td><td>1026887936.0</td></tr><tr><td>Mean Validation RMSE (all folds)</td><td>32044.9248</td></tr><tr><td>best_epoch</td><td>28</td></tr><tr><td>best_val_loss</td><td>984084096.0</td></tr><tr><td>epoch</td><td>29</td></tr><tr><td>loss</td><td>1021203136.0</td></tr><tr><td>root_mean_squared_error</td><td>31956.26953</td></tr><tr><td>val_loss</td><td>1020233920.0</td></tr><tr><td>val_root_mean_squared_error</td><td>31941.10156</td></tr></table>\n",
       "</div></div>\n",
       "Synced 5 W&B file(s), 0 media file(s), 0 artifact file(s) and 1 other file(s)\n",
       "<br/>Synced <strong style=\"color:#cdcd00\">gallant-sweep-2</strong>: <a href=\"https://wandb.ai/luiscostigan/house-price-prediction/runs/jeumtzm0\" target=\"_blank\">https://wandb.ai/luiscostigan/house-price-prediction/runs/jeumtzm0</a><br/>\n",
       "Find logs at: <code>./wandb/run-20220302_032805-jeumtzm0/logs</code><br/>\n"
      ],
      "text/plain": [
       "<IPython.core.display.HTML object>"
      ]
     },
     "metadata": {},
     "output_type": "display_data"
    },
    {
     "name": "stderr",
     "output_type": "stream",
     "text": [
      "\u001b[34m\u001b[1mwandb\u001b[0m: wandb version 0.12.11 is available!  To upgrade, please run:\n",
      "\u001b[34m\u001b[1mwandb\u001b[0m:  $ pip install wandb --upgrade\n"
     ]
    },
    {
     "data": {
      "text/html": [
       "\n",
       "                    Syncing run <strong><a href=\"https://wandb.ai/luiscostigan/house-price-prediction/runs/jeumtzm0\" target=\"_blank\">gallant-sweep-2</a></strong> to <a href=\"https://wandb.ai/luiscostigan/house-price-prediction\" target=\"_blank\">Weights & Biases</a> (<a href=\"https://docs.wandb.com/integrations/jupyter.html\" target=\"_blank\">docs</a>).<br/>\n",
       "Sweep page: <a href=\"https://wandb.ai/luiscostigan/house-price-prediction/sweeps/ru0ykkjf\" target=\"_blank\">https://wandb.ai/luiscostigan/house-price-prediction/sweeps/ru0ykkjf</a><br/>\n",
       "\n",
       "                "
      ],
      "text/plain": [
       "<IPython.core.display.HTML object>"
      ]
     },
     "metadata": {},
     "output_type": "display_data"
    },
    {
     "name": "stdout",
     "output_type": "stream",
     "text": [
      "37/37 [==============================] - 0s 2ms/step - loss: 1017387264.0000 - root_mean_squared_error: 31896.5078\n",
      "Score for fold 3: loss of 1017387264.0; root_mean_squared_error of 31896.5078125\n",
      "------------------------------------------------------------------------\n",
      "Score per fold\n",
      "------------------------------------------------------------------------\n",
      "> Fold 1 - Loss: 1033542080.0 - RMSE: 32148.75%\n",
      "------------------------------------------------------------------------\n",
      "> Fold 2 - Loss: 1020233792.0 - RMSE: 31941.099609375%\n",
      "------------------------------------------------------------------------\n",
      "> Fold 3 - Loss: 1017387264.0 - RMSE: 31896.5078125%\n",
      "------------------------------------------------------------------------\n",
      "Average scores for all folds:\n",
      "> RMSE: 31995.452473958332 (+- 109.91574259406435)\n",
      "> Loss: 1023721045.3333334\n",
      "------------------------------------------------------------------------\n"
     ]
    },
    {
     "data": {
      "text/html": [
       "<br/>Waiting for W&B process to finish, PID 32553... <strong style=\"color:green\">(success).</strong>"
      ],
      "text/plain": [
       "<IPython.core.display.HTML object>"
      ]
     },
     "metadata": {},
     "output_type": "display_data"
    },
    {
     "data": {
      "application/vnd.jupyter.widget-view+json": {
       "model_id": "b63d199e987142848ea07cfe6a424dba",
       "version_major": 2,
       "version_minor": 0
      },
      "text/plain": [
       "VBox(children=(Label(value=' 1.55MB of 2.45MB uploaded (0.00MB deduped)\\r'), FloatProgress(value=0.63112065610…"
      ]
     },
     "metadata": {},
     "output_type": "display_data"
    },
    {
     "data": {
      "text/html": [
       "<style>\n",
       "    table.wandb td:nth-child(1) { padding: 0 10px; text-align: right }\n",
       "    .wandb-row { display: flex; flex-direction: row; flex-wrap: wrap; width: 100% }\n",
       "    .wandb-col { display: flex; flex-direction: column; flex-basis: 100%; flex: 1; padding: 10px; }\n",
       "    </style>\n",
       "<div class=\"wandb-row\"><div class=\"wandb-col\">\n",
       "<h3>Run history:</h3><br/><table class=\"wandb\"><tr><td>Mean Validation Loss (all folds)</td><td>▁</td></tr><tr><td>Mean Validation RMSE (all folds)</td><td>▁</td></tr><tr><td>epoch</td><td>▁▁▁▂▂▂▂▃▃▃▃▄▄▄▄▅▅▅▅▆▆▆▆▇▇▇▇███</td></tr><tr><td>loss</td><td>███▇▆▅▄▃▂▂▁▁▁▁▁▁▁▁▁▁▁▁▁▁▁▁▁▁▁▁</td></tr><tr><td>root_mean_squared_error</td><td>███▇▇▆▅▄▃▂▂▂▂▁▁▁▁▁▁▁▁▁▁▁▁▁▁▁▁▁</td></tr><tr><td>val_loss</td><td>██▇▇▆▅▃▂▂▁▁▁▁▁▁▁▁▁▁▁▁▁▁▁▁▁▁▁▁▁</td></tr><tr><td>val_root_mean_squared_error</td><td>███▇▇▆▅▄▃▂▂▂▁▁▁▁▁▁▁▁▁▁▁▁▁▁▁▁▁▁</td></tr></table><br/></div><div class=\"wandb-col\">\n",
       "<h3>Run summary:</h3><br/><table class=\"wandb\"><tr><td>Mean Validation Loss (all folds)</td><td>1023721045.33333</td></tr><tr><td>Mean Validation RMSE (all folds)</td><td>31995.45247</td></tr><tr><td>best_epoch</td><td>27</td></tr><tr><td>best_val_loss</td><td>986274816.0</td></tr><tr><td>epoch</td><td>29</td></tr><tr><td>loss</td><td>1011635904.0</td></tr><tr><td>root_mean_squared_error</td><td>31806.22461</td></tr><tr><td>val_loss</td><td>1017387136.0</td></tr><tr><td>val_root_mean_squared_error</td><td>31896.50586</td></tr></table>\n",
       "</div></div>\n",
       "Synced 5 W&B file(s), 0 media file(s), 0 artifact file(s) and 1 other file(s)\n",
       "<br/>Synced <strong style=\"color:#cdcd00\">gallant-sweep-2</strong>: <a href=\"https://wandb.ai/luiscostigan/house-price-prediction/runs/jeumtzm0\" target=\"_blank\">https://wandb.ai/luiscostigan/house-price-prediction/runs/jeumtzm0</a><br/>\n",
       "Find logs at: <code>./wandb/run-20220302_032817-jeumtzm0/logs</code><br/>\n"
      ],
      "text/plain": [
       "<IPython.core.display.HTML object>"
      ]
     },
     "metadata": {},
     "output_type": "display_data"
    },
    {
     "name": "stderr",
     "output_type": "stream",
     "text": [
      "\u001b[34m\u001b[1mwandb\u001b[0m: wandb version 0.12.11 is available!  To upgrade, please run:\n",
      "\u001b[34m\u001b[1mwandb\u001b[0m:  $ pip install wandb --upgrade\n"
     ]
    },
    {
     "data": {
      "text/html": [
       "\n",
       "                    Syncing run <strong><a href=\"https://wandb.ai/luiscostigan/house-price-prediction/runs/jeumtzm0\" target=\"_blank\">gallant-sweep-2</a></strong> to <a href=\"https://wandb.ai/luiscostigan/house-price-prediction\" target=\"_blank\">Weights & Biases</a> (<a href=\"https://docs.wandb.com/integrations/jupyter.html\" target=\"_blank\">docs</a>).<br/>\n",
       "Sweep page: <a href=\"https://wandb.ai/luiscostigan/house-price-prediction/sweeps/ru0ykkjf\" target=\"_blank\">https://wandb.ai/luiscostigan/house-price-prediction/sweeps/ru0ykkjf</a><br/>\n",
       "\n",
       "                "
      ],
      "text/plain": [
       "<IPython.core.display.HTML object>"
      ]
     },
     "metadata": {},
     "output_type": "display_data"
    },
    {
     "name": "stdout",
     "output_type": "stream",
     "text": [
      "37/37 [==============================] - 0s 1ms/step - loss: 1043705664.0000 - root_mean_squared_error: 32306.4336\n",
      "Score for fold 4: loss of 1043705664.0; root_mean_squared_error of 32306.43359375\n",
      "------------------------------------------------------------------------\n",
      "Score per fold\n",
      "------------------------------------------------------------------------\n",
      "> Fold 1 - Loss: 1033542080.0 - RMSE: 32148.75%\n",
      "------------------------------------------------------------------------\n",
      "> Fold 2 - Loss: 1020233792.0 - RMSE: 31941.099609375%\n",
      "------------------------------------------------------------------------\n",
      "> Fold 3 - Loss: 1017387264.0 - RMSE: 31896.5078125%\n",
      "------------------------------------------------------------------------\n",
      "> Fold 4 - Loss: 1043705664.0 - RMSE: 32306.43359375%\n",
      "------------------------------------------------------------------------\n",
      "Average scores for all folds:\n",
      "> RMSE: 32073.19775390625 (+- 164.90630222960934)\n",
      "> Loss: 1028717200.0\n",
      "------------------------------------------------------------------------\n"
     ]
    },
    {
     "data": {
      "text/html": [
       "<br/>Waiting for W&B process to finish, PID 949... <strong style=\"color:green\">(success).</strong>"
      ],
      "text/plain": [
       "<IPython.core.display.HTML object>"
      ]
     },
     "metadata": {},
     "output_type": "display_data"
    },
    {
     "data": {
      "application/vnd.jupyter.widget-view+json": {
       "model_id": "a74acfb8197b4d538965d6d7cd7bcb74",
       "version_major": 2,
       "version_minor": 0
      },
      "text/plain": [
       "VBox(children=(Label(value=' 1.89MB of 2.45MB uploaded (0.00MB deduped)\\r'), FloatProgress(value=0.77128591787…"
      ]
     },
     "metadata": {},
     "output_type": "display_data"
    },
    {
     "data": {
      "text/html": [
       "<style>\n",
       "    table.wandb td:nth-child(1) { padding: 0 10px; text-align: right }\n",
       "    .wandb-row { display: flex; flex-direction: row; flex-wrap: wrap; width: 100% }\n",
       "    .wandb-col { display: flex; flex-direction: column; flex-basis: 100%; flex: 1; padding: 10px; }\n",
       "    </style>\n",
       "<div class=\"wandb-row\"><div class=\"wandb-col\">\n",
       "<h3>Run history:</h3><br/><table class=\"wandb\"><tr><td>Mean Validation Loss (all folds)</td><td>▁</td></tr><tr><td>Mean Validation RMSE (all folds)</td><td>▁</td></tr><tr><td>epoch</td><td>▁▁▁▂▂▂▂▃▃▃▃▄▄▄▄▅▅▅▅▆▆▆▆▇▇▇▇███</td></tr><tr><td>loss</td><td>███▇▆▅▄▃▂▁▁▁▁▁▁▁▁▁▁▁▁▁▁▁▁▁▁▁▁▁</td></tr><tr><td>root_mean_squared_error</td><td>███▇▇▆▅▄▃▂▂▂▂▁▁▁▁▁▁▁▁▁▁▁▁▁▁▁▁▁</td></tr><tr><td>val_loss</td><td>██▇▇▆▅▃▂▂▁▁▁▁▁▁▁▁▁▁▁▁▁▁▁▁▁▁▁▁▁</td></tr><tr><td>val_root_mean_squared_error</td><td>███▇▇▆▅▃▂▂▂▂▁▁▁▁▁▁▁▁▁▁▁▁▁▁▁▁▁▁</td></tr></table><br/></div><div class=\"wandb-col\">\n",
       "<h3>Run summary:</h3><br/><table class=\"wandb\"><tr><td>Mean Validation Loss (all folds)</td><td>1028717200.0</td></tr><tr><td>Mean Validation RMSE (all folds)</td><td>32073.19775</td></tr><tr><td>best_epoch</td><td>28</td></tr><tr><td>best_val_loss</td><td>962564288.0</td></tr><tr><td>epoch</td><td>29</td></tr><tr><td>loss</td><td>1006769728.0</td></tr><tr><td>root_mean_squared_error</td><td>31729.63477</td></tr><tr><td>val_loss</td><td>1043705792.0</td></tr><tr><td>val_root_mean_squared_error</td><td>32306.43555</td></tr></table>\n",
       "</div></div>\n",
       "Synced 5 W&B file(s), 0 media file(s), 0 artifact file(s) and 1 other file(s)\n",
       "<br/>Synced <strong style=\"color:#cdcd00\">gallant-sweep-2</strong>: <a href=\"https://wandb.ai/luiscostigan/house-price-prediction/runs/jeumtzm0\" target=\"_blank\">https://wandb.ai/luiscostigan/house-price-prediction/runs/jeumtzm0</a><br/>\n",
       "Find logs at: <code>./wandb/run-20220302_032828-jeumtzm0/logs</code><br/>\n"
      ],
      "text/plain": [
       "<IPython.core.display.HTML object>"
      ]
     },
     "metadata": {},
     "output_type": "display_data"
    },
    {
     "name": "stderr",
     "output_type": "stream",
     "text": [
      "\u001b[34m\u001b[1mwandb\u001b[0m: wandb version 0.12.11 is available!  To upgrade, please run:\n",
      "\u001b[34m\u001b[1mwandb\u001b[0m:  $ pip install wandb --upgrade\n"
     ]
    },
    {
     "data": {
      "text/html": [
       "\n",
       "                    Syncing run <strong><a href=\"https://wandb.ai/luiscostigan/house-price-prediction/runs/jeumtzm0\" target=\"_blank\">gallant-sweep-2</a></strong> to <a href=\"https://wandb.ai/luiscostigan/house-price-prediction\" target=\"_blank\">Weights & Biases</a> (<a href=\"https://docs.wandb.com/integrations/jupyter.html\" target=\"_blank\">docs</a>).<br/>\n",
       "Sweep page: <a href=\"https://wandb.ai/luiscostigan/house-price-prediction/sweeps/ru0ykkjf\" target=\"_blank\">https://wandb.ai/luiscostigan/house-price-prediction/sweeps/ru0ykkjf</a><br/>\n",
       "\n",
       "                "
      ],
      "text/plain": [
       "<IPython.core.display.HTML object>"
      ]
     },
     "metadata": {},
     "output_type": "display_data"
    },
    {
     "name": "stdout",
     "output_type": "stream",
     "text": [
      "37/37 [==============================] - 0s 2ms/step - loss: 962240192.0000 - root_mean_squared_error: 31019.9961\n",
      "Score for fold 5: loss of 962240192.0; root_mean_squared_error of 31019.99609375\n",
      "------------------------------------------------------------------------\n",
      "Score per fold\n",
      "------------------------------------------------------------------------\n",
      "> Fold 1 - Loss: 1033542080.0 - RMSE: 32148.75%\n",
      "------------------------------------------------------------------------\n",
      "> Fold 2 - Loss: 1020233792.0 - RMSE: 31941.099609375%\n",
      "------------------------------------------------------------------------\n",
      "> Fold 3 - Loss: 1017387264.0 - RMSE: 31896.5078125%\n",
      "------------------------------------------------------------------------\n",
      "> Fold 4 - Loss: 1043705664.0 - RMSE: 32306.43359375%\n",
      "------------------------------------------------------------------------\n",
      "> Fold 5 - Loss: 962240192.0 - RMSE: 31019.99609375%\n",
      "------------------------------------------------------------------------\n",
      "Average scores for all folds:\n",
      "> RMSE: 31862.557421875 (+- 446.354868602299)\n",
      "> Loss: 1015421798.4\n",
      "------------------------------------------------------------------------\n"
     ]
    },
    {
     "data": {
      "text/html": [
       "<br/>Waiting for W&B process to finish, PID 1741... <strong style=\"color:green\">(success).</strong>"
      ],
      "text/plain": [
       "<IPython.core.display.HTML object>"
      ]
     },
     "metadata": {},
     "output_type": "display_data"
    },
    {
     "data": {
      "application/vnd.jupyter.widget-view+json": {
       "model_id": "ba2b88c9441646f6aee8cebbaa52ae89",
       "version_major": 2,
       "version_minor": 0
      },
      "text/plain": [
       "VBox(children=(Label(value=' 1.67MB of 2.45MB uploaded (0.00MB deduped)\\r'), FloatProgress(value=0.67890685606…"
      ]
     },
     "metadata": {},
     "output_type": "display_data"
    },
    {
     "data": {
      "text/html": [
       "<style>\n",
       "    table.wandb td:nth-child(1) { padding: 0 10px; text-align: right }\n",
       "    .wandb-row { display: flex; flex-direction: row; flex-wrap: wrap; width: 100% }\n",
       "    .wandb-col { display: flex; flex-direction: column; flex-basis: 100%; flex: 1; padding: 10px; }\n",
       "    </style>\n",
       "<div class=\"wandb-row\"><div class=\"wandb-col\">\n",
       "<h3>Run history:</h3><br/><table class=\"wandb\"><tr><td>Mean Validation Loss (all folds)</td><td>▁</td></tr><tr><td>Mean Validation RMSE (all folds)</td><td>▁</td></tr><tr><td>epoch</td><td>▁▁▁▂▂▂▂▃▃▃▃▄▄▄▄▅▅▅▅▆▆▆▆▇▇▇▇███</td></tr><tr><td>loss</td><td>███▇▆▅▄▃▂▁▁▁▁▁▁▁▁▁▁▁▁▁▁▁▁▁▁▁▁▁</td></tr><tr><td>root_mean_squared_error</td><td>███▇▇▆▅▄▃▂▂▂▂▁▁▁▁▁▁▁▁▁▁▁▁▁▁▁▁▁</td></tr><tr><td>val_loss</td><td>██▇▇▆▅▃▂▂▁▁▁▁▁▁▁▁▁▁▁▁▁▁▁▁▁▁▁▁▁</td></tr><tr><td>val_root_mean_squared_error</td><td>███▇▇▆▅▃▂▂▂▂▁▁▁▁▁▁▁▁▁▁▁▁▁▁▁▁▁▁</td></tr></table><br/></div><div class=\"wandb-col\">\n",
       "<h3>Run summary:</h3><br/><table class=\"wandb\"><tr><td>Mean Validation Loss (all folds)</td><td>1015421798.4</td></tr><tr><td>Mean Validation RMSE (all folds)</td><td>31862.55742</td></tr><tr><td>best_epoch</td><td>29</td></tr><tr><td>best_val_loss</td><td>962240192.0</td></tr><tr><td>epoch</td><td>29</td></tr><tr><td>loss</td><td>1080847488.0</td></tr><tr><td>root_mean_squared_error</td><td>32876.24609</td></tr><tr><td>val_loss</td><td>962240192.0</td></tr><tr><td>val_root_mean_squared_error</td><td>31019.99609</td></tr></table>\n",
       "</div></div>\n",
       "Synced 5 W&B file(s), 0 media file(s), 0 artifact file(s) and 1 other file(s)\n",
       "<br/>Synced <strong style=\"color:#cdcd00\">gallant-sweep-2</strong>: <a href=\"https://wandb.ai/luiscostigan/house-price-prediction/runs/jeumtzm0\" target=\"_blank\">https://wandb.ai/luiscostigan/house-price-prediction/runs/jeumtzm0</a><br/>\n",
       "Find logs at: <code>./wandb/run-20220302_032840-jeumtzm0/logs</code><br/>\n"
      ],
      "text/plain": [
       "<IPython.core.display.HTML object>"
      ]
     },
     "metadata": {},
     "output_type": "display_data"
    },
    {
     "name": "stderr",
     "output_type": "stream",
     "text": [
      "\u001b[34m\u001b[1mwandb\u001b[0m: Agent Starting Run: yqpi7moe with config:\n",
      "\u001b[34m\u001b[1mwandb\u001b[0m: \tbatch_size: 512\n",
      "\u001b[34m\u001b[1mwandb\u001b[0m: \tdropout1: 0.16191635906380847\n",
      "\u001b[34m\u001b[1mwandb\u001b[0m: \tepochs: 50\n",
      "\u001b[34m\u001b[1mwandb\u001b[0m: wandb version 0.12.11 is available!  To upgrade, please run:\n",
      "\u001b[34m\u001b[1mwandb\u001b[0m:  $ pip install wandb --upgrade\n"
     ]
    },
    {
     "data": {
      "text/html": [
       "\n",
       "                    Syncing run <strong><a href=\"https://wandb.ai/luiscostigan/house-price-prediction/runs/yqpi7moe\" target=\"_blank\">fiery-sweep-3</a></strong> to <a href=\"https://wandb.ai/luiscostigan/house-price-prediction\" target=\"_blank\">Weights & Biases</a> (<a href=\"https://docs.wandb.com/integrations/jupyter.html\" target=\"_blank\">docs</a>).<br/>\n",
       "Sweep page: <a href=\"https://wandb.ai/luiscostigan/house-price-prediction/sweeps/ru0ykkjf\" target=\"_blank\">https://wandb.ai/luiscostigan/house-price-prediction/sweeps/ru0ykkjf</a><br/>\n",
       "\n",
       "                "
      ],
      "text/plain": [
       "<IPython.core.display.HTML object>"
      ]
     },
     "metadata": {},
     "output_type": "display_data"
    },
    {
     "name": "stdout",
     "output_type": "stream",
     "text": [
      "37/37 [==============================] - 0s 2ms/step - loss: 1406468864.0000 - root_mean_squared_error: 37502.9180\n",
      "Score for fold 1: loss of 1406468864.0; root_mean_squared_error of 37502.91796875\n",
      "------------------------------------------------------------------------\n",
      "Score per fold\n",
      "------------------------------------------------------------------------\n",
      "> Fold 1 - Loss: 1406468864.0 - RMSE: 37502.91796875%\n",
      "------------------------------------------------------------------------\n",
      "Average scores for all folds:\n",
      "> RMSE: 37502.91796875 (+- 0.0)\n",
      "> Loss: 1406468864.0\n",
      "------------------------------------------------------------------------\n"
     ]
    },
    {
     "data": {
      "text/html": [
       "<br/>Waiting for W&B process to finish, PID 2573... <strong style=\"color:green\">(success).</strong>"
      ],
      "text/plain": [
       "<IPython.core.display.HTML object>"
      ]
     },
     "metadata": {},
     "output_type": "display_data"
    },
    {
     "data": {
      "application/vnd.jupyter.widget-view+json": {
       "model_id": "7391849bdf844ab29adf3baf7096612d",
       "version_major": 2,
       "version_minor": 0
      },
      "text/plain": [
       "VBox(children=(Label(value=' 2.43MB of 2.45MB uploaded (0.00MB deduped)\\r'), FloatProgress(value=0.99112137376…"
      ]
     },
     "metadata": {},
     "output_type": "display_data"
    },
    {
     "data": {
      "text/html": [
       "<style>\n",
       "    table.wandb td:nth-child(1) { padding: 0 10px; text-align: right }\n",
       "    .wandb-row { display: flex; flex-direction: row; flex-wrap: wrap; width: 100% }\n",
       "    .wandb-col { display: flex; flex-direction: column; flex-basis: 100%; flex: 1; padding: 10px; }\n",
       "    </style>\n",
       "<div class=\"wandb-row\"><div class=\"wandb-col\">\n",
       "<h3>Run history:</h3><br/><table class=\"wandb\"><tr><td>Mean Validation Loss (all folds)</td><td>▁</td></tr><tr><td>Mean Validation RMSE (all folds)</td><td>▁</td></tr><tr><td>epoch</td><td>▁▁▁▁▂▂▂▂▂▃▃▃▃▃▃▄▄▄▄▄▅▅▅▅▅▅▆▆▆▆▆▆▇▇▇▇▇███</td></tr><tr><td>loss</td><td>████████▇▇▇▇▆▆▆▅▅▄▄▄▃▂▂▂▂▁▁▁▁▁▁▁▁▁▁▁▁▁▁▁</td></tr><tr><td>root_mean_squared_error</td><td>██████████▇▇▇▇▆▆▆▅▅▅▄▄▃▃▂▂▂▂▁▁▁▁▁▁▁▁▁▁▁▁</td></tr><tr><td>val_loss</td><td>████████▇▇▇▇▆▆▅▅▄▄▄▃▃▂▂▂▁▁▁▁▁▁▁▁▁▁▁▁▁▁▁▁</td></tr><tr><td>val_root_mean_squared_error</td><td>█████████▇▇▇▇▇▆▆▅▅▅▄▄▃▃▃▂▂▂▂▁▁▁▁▁▁▁▁▁▁▁▁</td></tr></table><br/></div><div class=\"wandb-col\">\n",
       "<h3>Run summary:</h3><br/><table class=\"wandb\"><tr><td>Mean Validation Loss (all folds)</td><td>1406468864.0</td></tr><tr><td>Mean Validation RMSE (all folds)</td><td>37502.91797</td></tr><tr><td>best_epoch</td><td>49</td></tr><tr><td>best_val_loss</td><td>1406468608.0</td></tr><tr><td>epoch</td><td>49</td></tr><tr><td>loss</td><td>1448344704.0</td></tr><tr><td>root_mean_squared_error</td><td>38057.125</td></tr><tr><td>val_loss</td><td>1406468608.0</td></tr><tr><td>val_root_mean_squared_error</td><td>37502.91406</td></tr></table>\n",
       "</div></div>\n",
       "Synced 5 W&B file(s), 0 media file(s), 0 artifact file(s) and 1 other file(s)\n",
       "<br/>Synced <strong style=\"color:#cdcd00\">fiery-sweep-3</strong>: <a href=\"https://wandb.ai/luiscostigan/house-price-prediction/runs/yqpi7moe\" target=\"_blank\">https://wandb.ai/luiscostigan/house-price-prediction/runs/yqpi7moe</a><br/>\n",
       "Find logs at: <code>./wandb/run-20220302_032857-yqpi7moe/logs</code><br/>\n"
      ],
      "text/plain": [
       "<IPython.core.display.HTML object>"
      ]
     },
     "metadata": {},
     "output_type": "display_data"
    },
    {
     "name": "stderr",
     "output_type": "stream",
     "text": [
      "\u001b[34m\u001b[1mwandb\u001b[0m: wandb version 0.12.11 is available!  To upgrade, please run:\n",
      "\u001b[34m\u001b[1mwandb\u001b[0m:  $ pip install wandb --upgrade\n"
     ]
    },
    {
     "data": {
      "text/html": [
       "\n",
       "                    Syncing run <strong><a href=\"https://wandb.ai/luiscostigan/house-price-prediction/runs/yqpi7moe\" target=\"_blank\">fiery-sweep-3</a></strong> to <a href=\"https://wandb.ai/luiscostigan/house-price-prediction\" target=\"_blank\">Weights & Biases</a> (<a href=\"https://docs.wandb.com/integrations/jupyter.html\" target=\"_blank\">docs</a>).<br/>\n",
       "Sweep page: <a href=\"https://wandb.ai/luiscostigan/house-price-prediction/sweeps/ru0ykkjf\" target=\"_blank\">https://wandb.ai/luiscostigan/house-price-prediction/sweeps/ru0ykkjf</a><br/>\n",
       "\n",
       "                "
      ],
      "text/plain": [
       "<IPython.core.display.HTML object>"
      ]
     },
     "metadata": {},
     "output_type": "display_data"
    },
    {
     "name": "stdout",
     "output_type": "stream",
     "text": [
      "37/37 [==============================] - 0s 2ms/step - loss: 1310975232.0000 - root_mean_squared_error: 36207.3906\n",
      "Score for fold 2: loss of 1310975232.0; root_mean_squared_error of 36207.390625\n",
      "------------------------------------------------------------------------\n",
      "Score per fold\n",
      "------------------------------------------------------------------------\n",
      "> Fold 1 - Loss: 1406468864.0 - RMSE: 37502.91796875%\n",
      "------------------------------------------------------------------------\n",
      "> Fold 2 - Loss: 1310975232.0 - RMSE: 36207.390625%\n",
      "------------------------------------------------------------------------\n",
      "Average scores for all folds:\n",
      "> RMSE: 36855.154296875 (+- 647.763671875)\n",
      "> Loss: 1358722048.0\n",
      "------------------------------------------------------------------------\n"
     ]
    },
    {
     "data": {
      "text/html": [
       "<br/>Waiting for W&B process to finish, PID 3737... <strong style=\"color:green\">(success).</strong>"
      ],
      "text/plain": [
       "<IPython.core.display.HTML object>"
      ]
     },
     "metadata": {},
     "output_type": "display_data"
    },
    {
     "data": {
      "application/vnd.jupyter.widget-view+json": {
       "model_id": "3d7a1fe952f040268858d00a5b69294f",
       "version_major": 2,
       "version_minor": 0
      },
      "text/plain": [
       "VBox(children=(Label(value=' 2.13MB of 2.45MB uploaded (0.00MB deduped)\\r'), FloatProgress(value=0.87003594947…"
      ]
     },
     "metadata": {},
     "output_type": "display_data"
    },
    {
     "data": {
      "text/html": [
       "<style>\n",
       "    table.wandb td:nth-child(1) { padding: 0 10px; text-align: right }\n",
       "    .wandb-row { display: flex; flex-direction: row; flex-wrap: wrap; width: 100% }\n",
       "    .wandb-col { display: flex; flex-direction: column; flex-basis: 100%; flex: 1; padding: 10px; }\n",
       "    </style>\n",
       "<div class=\"wandb-row\"><div class=\"wandb-col\">\n",
       "<h3>Run history:</h3><br/><table class=\"wandb\"><tr><td>Mean Validation Loss (all folds)</td><td>▁</td></tr><tr><td>Mean Validation RMSE (all folds)</td><td>▁</td></tr><tr><td>epoch</td><td>▁▁▁▁▂▂▂▂▂▃▃▃▃▃▃▄▄▄▄▄▅▅▅▅▅▅▆▆▆▆▆▆▇▇▇▇▇███</td></tr><tr><td>loss</td><td>████████▇▇▇▇▆▆▅▅▄▄▄▃▂▂▂▂▁▁▁▁▁▁▁▁▁▁▁▁▁▁▁▁</td></tr><tr><td>root_mean_squared_error</td><td>█████████▇▇▇▇▇▆▆▅▅▅▄▄▃▃▂▂▂▂▂▁▁▁▁▁▁▁▁▁▁▁▁</td></tr><tr><td>val_loss</td><td>███████▇▇▇▇▆▆▅▅▅▄▄▃▃▂▂▂▂▁▁▁▁▁▁▁▁▁▁▁▁▁▁▁▁</td></tr><tr><td>val_root_mean_squared_error</td><td>████████▇▇▇▇▇▆▆▆▅▅▄▄▃▃▃▂▂▂▂▁▁▁▁▁▁▁▁▁▁▁▁▁</td></tr></table><br/></div><div class=\"wandb-col\">\n",
       "<h3>Run summary:</h3><br/><table class=\"wandb\"><tr><td>Mean Validation Loss (all folds)</td><td>1358722048.0</td></tr><tr><td>Mean Validation RMSE (all folds)</td><td>36855.1543</td></tr><tr><td>best_epoch</td><td>49</td></tr><tr><td>best_val_loss</td><td>1310975104.0</td></tr><tr><td>epoch</td><td>49</td></tr><tr><td>loss</td><td>1359518336.0</td></tr><tr><td>root_mean_squared_error</td><td>36871.64844</td></tr><tr><td>val_loss</td><td>1310975104.0</td></tr><tr><td>val_root_mean_squared_error</td><td>36207.39062</td></tr></table>\n",
       "</div></div>\n",
       "Synced 5 W&B file(s), 0 media file(s), 0 artifact file(s) and 1 other file(s)\n",
       "<br/>Synced <strong style=\"color:#cdcd00\">fiery-sweep-3</strong>: <a href=\"https://wandb.ai/luiscostigan/house-price-prediction/runs/yqpi7moe\" target=\"_blank\">https://wandb.ai/luiscostigan/house-price-prediction/runs/yqpi7moe</a><br/>\n",
       "Find logs at: <code>./wandb/run-20220302_032909-yqpi7moe/logs</code><br/>\n"
      ],
      "text/plain": [
       "<IPython.core.display.HTML object>"
      ]
     },
     "metadata": {},
     "output_type": "display_data"
    },
    {
     "name": "stderr",
     "output_type": "stream",
     "text": [
      "\u001b[34m\u001b[1mwandb\u001b[0m: wandb version 0.12.11 is available!  To upgrade, please run:\n",
      "\u001b[34m\u001b[1mwandb\u001b[0m:  $ pip install wandb --upgrade\n"
     ]
    },
    {
     "data": {
      "text/html": [
       "\n",
       "                    Syncing run <strong><a href=\"https://wandb.ai/luiscostigan/house-price-prediction/runs/yqpi7moe\" target=\"_blank\">fiery-sweep-3</a></strong> to <a href=\"https://wandb.ai/luiscostigan/house-price-prediction\" target=\"_blank\">Weights & Biases</a> (<a href=\"https://docs.wandb.com/integrations/jupyter.html\" target=\"_blank\">docs</a>).<br/>\n",
       "Sweep page: <a href=\"https://wandb.ai/luiscostigan/house-price-prediction/sweeps/ru0ykkjf\" target=\"_blank\">https://wandb.ai/luiscostigan/house-price-prediction/sweeps/ru0ykkjf</a><br/>\n",
       "\n",
       "                "
      ],
      "text/plain": [
       "<IPython.core.display.HTML object>"
      ]
     },
     "metadata": {},
     "output_type": "display_data"
    },
    {
     "name": "stdout",
     "output_type": "stream",
     "text": [
      "37/37 [==============================] - 0s 2ms/step - loss: 1345510784.0000 - root_mean_squared_error: 36681.2031\n",
      "Score for fold 3: loss of 1345510784.0; root_mean_squared_error of 36681.203125\n",
      "------------------------------------------------------------------------\n",
      "Score per fold\n",
      "------------------------------------------------------------------------\n",
      "> Fold 1 - Loss: 1406468864.0 - RMSE: 37502.91796875%\n",
      "------------------------------------------------------------------------\n",
      "> Fold 2 - Loss: 1310975232.0 - RMSE: 36207.390625%\n",
      "------------------------------------------------------------------------\n",
      "> Fold 3 - Loss: 1345510784.0 - RMSE: 36681.203125%\n",
      "------------------------------------------------------------------------\n",
      "Average scores for all folds:\n",
      "> RMSE: 36797.170572916664 (+- 535.2159136480724)\n",
      "> Loss: 1354318293.3333333\n",
      "------------------------------------------------------------------------\n"
     ]
    },
    {
     "data": {
      "text/html": [
       "<br/>Waiting for W&B process to finish, PID 4929... <strong style=\"color:green\">(success).</strong>"
      ],
      "text/plain": [
       "<IPython.core.display.HTML object>"
      ]
     },
     "metadata": {},
     "output_type": "display_data"
    },
    {
     "data": {
      "application/vnd.jupyter.widget-view+json": {
       "model_id": "23038fc68feb43c2acab1820de2fcb87",
       "version_major": 2,
       "version_minor": 0
      },
      "text/plain": [
       "VBox(children=(Label(value=' 1.57MB of 2.45MB uploaded (0.00MB deduped)\\r'), FloatProgress(value=0.64067705131…"
      ]
     },
     "metadata": {},
     "output_type": "display_data"
    },
    {
     "data": {
      "text/html": [
       "<style>\n",
       "    table.wandb td:nth-child(1) { padding: 0 10px; text-align: right }\n",
       "    .wandb-row { display: flex; flex-direction: row; flex-wrap: wrap; width: 100% }\n",
       "    .wandb-col { display: flex; flex-direction: column; flex-basis: 100%; flex: 1; padding: 10px; }\n",
       "    </style>\n",
       "<div class=\"wandb-row\"><div class=\"wandb-col\">\n",
       "<h3>Run history:</h3><br/><table class=\"wandb\"><tr><td>Mean Validation Loss (all folds)</td><td>▁</td></tr><tr><td>Mean Validation RMSE (all folds)</td><td>▁</td></tr><tr><td>epoch</td><td>▁▁▁▁▂▂▂▂▂▃▃▃▃▃▃▄▄▄▄▄▅▅▅▅▅▅▆▆▆▆▆▆▇▇▇▇▇███</td></tr><tr><td>loss</td><td>████████▇▇▇▇▆▆▆▅▄▄▄▃▃▂▂▂▁▁▁▁▁▁▁▁▁▁▁▁▁▁▁▁</td></tr><tr><td>root_mean_squared_error</td><td>█████████▇▇▇▇▇▆▆▆▅▅▄▄▃▃▃▂▂▂▂▁▁▁▁▁▁▁▁▁▁▁▁</td></tr><tr><td>val_loss</td><td>████████▇▇▇▆▆▆▅▅▄▄▃▃▂▂▂▂▁▁▁▁▁▁▁▁▁▁▁▁▁▁▁▁</td></tr><tr><td>val_root_mean_squared_error</td><td>█████████▇▇▇▇▆▆▆▅▅▅▄▃▃▃▂▂▂▂▁▁▁▁▁▁▁▁▁▁▁▁▁</td></tr></table><br/></div><div class=\"wandb-col\">\n",
       "<h3>Run summary:</h3><br/><table class=\"wandb\"><tr><td>Mean Validation Loss (all folds)</td><td>1354318293.33333</td></tr><tr><td>Mean Validation RMSE (all folds)</td><td>36797.17057</td></tr><tr><td>best_epoch</td><td>49</td></tr><tr><td>best_val_loss</td><td>1345510656.0</td></tr><tr><td>epoch</td><td>49</td></tr><tr><td>loss</td><td>1416084992.0</td></tr><tr><td>root_mean_squared_error</td><td>37630.90625</td></tr><tr><td>val_loss</td><td>1345510656.0</td></tr><tr><td>val_root_mean_squared_error</td><td>36681.20312</td></tr></table>\n",
       "</div></div>\n",
       "Synced 5 W&B file(s), 0 media file(s), 0 artifact file(s) and 1 other file(s)\n",
       "<br/>Synced <strong style=\"color:#cdcd00\">fiery-sweep-3</strong>: <a href=\"https://wandb.ai/luiscostigan/house-price-prediction/runs/yqpi7moe\" target=\"_blank\">https://wandb.ai/luiscostigan/house-price-prediction/runs/yqpi7moe</a><br/>\n",
       "Find logs at: <code>./wandb/run-20220302_032921-yqpi7moe/logs</code><br/>\n"
      ],
      "text/plain": [
       "<IPython.core.display.HTML object>"
      ]
     },
     "metadata": {},
     "output_type": "display_data"
    },
    {
     "name": "stderr",
     "output_type": "stream",
     "text": [
      "\u001b[34m\u001b[1mwandb\u001b[0m: wandb version 0.12.11 is available!  To upgrade, please run:\n",
      "\u001b[34m\u001b[1mwandb\u001b[0m:  $ pip install wandb --upgrade\n"
     ]
    },
    {
     "data": {
      "text/html": [
       "\n",
       "                    Syncing run <strong><a href=\"https://wandb.ai/luiscostigan/house-price-prediction/runs/yqpi7moe\" target=\"_blank\">fiery-sweep-3</a></strong> to <a href=\"https://wandb.ai/luiscostigan/house-price-prediction\" target=\"_blank\">Weights & Biases</a> (<a href=\"https://docs.wandb.com/integrations/jupyter.html\" target=\"_blank\">docs</a>).<br/>\n",
       "Sweep page: <a href=\"https://wandb.ai/luiscostigan/house-price-prediction/sweeps/ru0ykkjf\" target=\"_blank\">https://wandb.ai/luiscostigan/house-price-prediction/sweeps/ru0ykkjf</a><br/>\n",
       "\n",
       "                "
      ],
      "text/plain": [
       "<IPython.core.display.HTML object>"
      ]
     },
     "metadata": {},
     "output_type": "display_data"
    },
    {
     "name": "stdout",
     "output_type": "stream",
     "text": [
      "37/37 [==============================] - 0s 2ms/step - loss: 1349283840.0000 - root_mean_squared_error: 36732.5977\n",
      "Score for fold 4: loss of 1349283840.0; root_mean_squared_error of 36732.59765625\n",
      "------------------------------------------------------------------------\n",
      "Score per fold\n",
      "------------------------------------------------------------------------\n",
      "> Fold 1 - Loss: 1406468864.0 - RMSE: 37502.91796875%\n",
      "------------------------------------------------------------------------\n",
      "> Fold 2 - Loss: 1310975232.0 - RMSE: 36207.390625%\n",
      "------------------------------------------------------------------------\n",
      "> Fold 3 - Loss: 1345510784.0 - RMSE: 36681.203125%\n",
      "------------------------------------------------------------------------\n",
      "> Fold 4 - Loss: 1349283840.0 - RMSE: 36732.59765625%\n",
      "------------------------------------------------------------------------\n",
      "Average scores for all folds:\n",
      "> RMSE: 36781.02734375 (+- 464.3531707767141)\n",
      "> Loss: 1353059680.0\n",
      "------------------------------------------------------------------------\n"
     ]
    },
    {
     "data": {
      "text/html": [
       "<br/>Waiting for W&B process to finish, PID 6107... <strong style=\"color:green\">(success).</strong>"
      ],
      "text/plain": [
       "<IPython.core.display.HTML object>"
      ]
     },
     "metadata": {},
     "output_type": "display_data"
    },
    {
     "data": {
      "application/vnd.jupyter.widget-view+json": {
       "model_id": "3ed6da67916746888cfad8ae673cea4a",
       "version_major": 2,
       "version_minor": 0
      },
      "text/plain": [
       "VBox(children=(Label(value=' 2.45MB of 2.45MB uploaded (0.00MB deduped)\\r'), FloatProgress(value=1.0, max=1.0)…"
      ]
     },
     "metadata": {},
     "output_type": "display_data"
    },
    {
     "data": {
      "text/html": [
       "<style>\n",
       "    table.wandb td:nth-child(1) { padding: 0 10px; text-align: right }\n",
       "    .wandb-row { display: flex; flex-direction: row; flex-wrap: wrap; width: 100% }\n",
       "    .wandb-col { display: flex; flex-direction: column; flex-basis: 100%; flex: 1; padding: 10px; }\n",
       "    </style>\n",
       "<div class=\"wandb-row\"><div class=\"wandb-col\">\n",
       "<h3>Run history:</h3><br/><table class=\"wandb\"><tr><td>Mean Validation Loss (all folds)</td><td>▁</td></tr><tr><td>Mean Validation RMSE (all folds)</td><td>▁</td></tr><tr><td>epoch</td><td>▁▁▁▁▂▂▂▂▂▃▃▃▃▃▃▄▄▄▄▄▅▅▅▅▅▅▆▆▆▆▆▆▇▇▇▇▇███</td></tr><tr><td>loss</td><td>████████▇▇▇▇▆▆▆▅▄▄▄▃▃▂▂▂▁▁▁▁▁▁▁▁▁▁▁▁▁▁▁▁</td></tr><tr><td>root_mean_squared_error</td><td>█████████▇▇▇▇▇▆▆▆▅▅▄▄▃▃▃▂▂▂▂▁▁▁▁▁▁▁▁▁▁▁▁</td></tr><tr><td>val_loss</td><td>████████▇▇▇▇▆▆▅▅▄▄▃▃▂▂▂▂▁▁▁▁▁▁▁▁▁▁▁▁▁▁▁▁</td></tr><tr><td>val_root_mean_squared_error</td><td>█████████▇▇▇▇▆▆▆▅▅▅▄▃▃▃▂▂▂▂▁▁▁▁▁▁▁▁▁▁▁▁▁</td></tr></table><br/></div><div class=\"wandb-col\">\n",
       "<h3>Run summary:</h3><br/><table class=\"wandb\"><tr><td>Mean Validation Loss (all folds)</td><td>1353059680.0</td></tr><tr><td>Mean Validation RMSE (all folds)</td><td>36781.02734</td></tr><tr><td>best_epoch</td><td>49</td></tr><tr><td>best_val_loss</td><td>1349283840.0</td></tr><tr><td>epoch</td><td>49</td></tr><tr><td>loss</td><td>1386064768.0</td></tr><tr><td>root_mean_squared_error</td><td>37229.89062</td></tr><tr><td>val_loss</td><td>1349283840.0</td></tr><tr><td>val_root_mean_squared_error</td><td>36732.59766</td></tr></table>\n",
       "</div></div>\n",
       "Synced 5 W&B file(s), 0 media file(s), 0 artifact file(s) and 1 other file(s)\n",
       "<br/>Synced <strong style=\"color:#cdcd00\">fiery-sweep-3</strong>: <a href=\"https://wandb.ai/luiscostigan/house-price-prediction/runs/yqpi7moe\" target=\"_blank\">https://wandb.ai/luiscostigan/house-price-prediction/runs/yqpi7moe</a><br/>\n",
       "Find logs at: <code>./wandb/run-20220302_032934-yqpi7moe/logs</code><br/>\n"
      ],
      "text/plain": [
       "<IPython.core.display.HTML object>"
      ]
     },
     "metadata": {},
     "output_type": "display_data"
    },
    {
     "name": "stderr",
     "output_type": "stream",
     "text": [
      "\u001b[34m\u001b[1mwandb\u001b[0m: wandb version 0.12.11 is available!  To upgrade, please run:\n",
      "\u001b[34m\u001b[1mwandb\u001b[0m:  $ pip install wandb --upgrade\n"
     ]
    },
    {
     "data": {
      "text/html": [
       "\n",
       "                    Syncing run <strong><a href=\"https://wandb.ai/luiscostigan/house-price-prediction/runs/yqpi7moe\" target=\"_blank\">fiery-sweep-3</a></strong> to <a href=\"https://wandb.ai/luiscostigan/house-price-prediction\" target=\"_blank\">Weights & Biases</a> (<a href=\"https://docs.wandb.com/integrations/jupyter.html\" target=\"_blank\">docs</a>).<br/>\n",
       "Sweep page: <a href=\"https://wandb.ai/luiscostigan/house-price-prediction/sweeps/ru0ykkjf\" target=\"_blank\">https://wandb.ai/luiscostigan/house-price-prediction/sweeps/ru0ykkjf</a><br/>\n",
       "\n",
       "                "
      ],
      "text/plain": [
       "<IPython.core.display.HTML object>"
      ]
     },
     "metadata": {},
     "output_type": "display_data"
    },
    {
     "name": "stdout",
     "output_type": "stream",
     "text": [
      "37/37 [==============================] - 0s 2ms/step - loss: 1380161408.0000 - root_mean_squared_error: 37150.5234\n",
      "Score for fold 5: loss of 1380161408.0; root_mean_squared_error of 37150.5234375\n",
      "------------------------------------------------------------------------\n",
      "Score per fold\n",
      "------------------------------------------------------------------------\n",
      "> Fold 1 - Loss: 1406468864.0 - RMSE: 37502.91796875%\n",
      "------------------------------------------------------------------------\n",
      "> Fold 2 - Loss: 1310975232.0 - RMSE: 36207.390625%\n",
      "------------------------------------------------------------------------\n",
      "> Fold 3 - Loss: 1345510784.0 - RMSE: 36681.203125%\n",
      "------------------------------------------------------------------------\n",
      "> Fold 4 - Loss: 1349283840.0 - RMSE: 36732.59765625%\n",
      "------------------------------------------------------------------------\n",
      "> Fold 5 - Loss: 1380161408.0 - RMSE: 37150.5234375%\n",
      "------------------------------------------------------------------------\n",
      "Average scores for all folds:\n",
      "> RMSE: 36854.9265625 (+- 440.8440448681959)\n",
      "> Loss: 1358480025.6\n",
      "------------------------------------------------------------------------\n"
     ]
    },
    {
     "data": {
      "text/html": [
       "<br/>Waiting for W&B process to finish, PID 7284... <strong style=\"color:green\">(success).</strong>"
      ],
      "text/plain": [
       "<IPython.core.display.HTML object>"
      ]
     },
     "metadata": {},
     "output_type": "display_data"
    },
    {
     "data": {
      "application/vnd.jupyter.widget-view+json": {
       "model_id": "0afd33d49bff4d93afb75123b29e4119",
       "version_major": 2,
       "version_minor": 0
      },
      "text/plain": [
       "VBox(children=(Label(value=' 1.58MB of 2.45MB uploaded (0.00MB deduped)\\r'), FloatProgress(value=0.64386652227…"
      ]
     },
     "metadata": {},
     "output_type": "display_data"
    },
    {
     "data": {
      "text/html": [
       "<style>\n",
       "    table.wandb td:nth-child(1) { padding: 0 10px; text-align: right }\n",
       "    .wandb-row { display: flex; flex-direction: row; flex-wrap: wrap; width: 100% }\n",
       "    .wandb-col { display: flex; flex-direction: column; flex-basis: 100%; flex: 1; padding: 10px; }\n",
       "    </style>\n",
       "<div class=\"wandb-row\"><div class=\"wandb-col\">\n",
       "<h3>Run history:</h3><br/><table class=\"wandb\"><tr><td>Mean Validation Loss (all folds)</td><td>▁</td></tr><tr><td>Mean Validation RMSE (all folds)</td><td>▁</td></tr><tr><td>epoch</td><td>▁▁▁▁▂▂▂▂▂▃▃▃▃▃▃▄▄▄▄▄▅▅▅▅▅▅▆▆▆▆▆▆▇▇▇▇▇███</td></tr><tr><td>loss</td><td>████████▇▇▇▇▆▆▅▅▄▄▄▃▃▂▂▂▁▁▁▁▁▁▁▁▁▁▁▁▁▁▁▁</td></tr><tr><td>root_mean_squared_error</td><td>█████████▇▇▇▇▇▆▆▅▅▅▄▄▃▃▃▂▂▂▂▁▁▁▁▁▁▁▁▁▁▁▁</td></tr><tr><td>val_loss</td><td>███████▇▇▇▇▆▆▆▅▅▄▄▃▃▂▂▂▂▁▁▁▁▁▁▁▁▁▁▁▁▁▁▁▁</td></tr><tr><td>val_root_mean_squared_error</td><td>████████▇▇▇▇▇▆▆▆▅▅▄▄▃▃▃▂▂▂▂▁▁▁▁▁▁▁▁▁▁▁▁▁</td></tr></table><br/></div><div class=\"wandb-col\">\n",
       "<h3>Run summary:</h3><br/><table class=\"wandb\"><tr><td>Mean Validation Loss (all folds)</td><td>1358480025.6</td></tr><tr><td>Mean Validation RMSE (all folds)</td><td>36854.92656</td></tr><tr><td>best_epoch</td><td>49</td></tr><tr><td>best_val_loss</td><td>1380161536.0</td></tr><tr><td>epoch</td><td>49</td></tr><tr><td>loss</td><td>1391197952.0</td></tr><tr><td>root_mean_squared_error</td><td>37298.76562</td></tr><tr><td>val_loss</td><td>1380161536.0</td></tr><tr><td>val_root_mean_squared_error</td><td>37150.52344</td></tr></table>\n",
       "</div></div>\n",
       "Synced 5 W&B file(s), 0 media file(s), 0 artifact file(s) and 1 other file(s)\n",
       "<br/>Synced <strong style=\"color:#cdcd00\">fiery-sweep-3</strong>: <a href=\"https://wandb.ai/luiscostigan/house-price-prediction/runs/yqpi7moe\" target=\"_blank\">https://wandb.ai/luiscostigan/house-price-prediction/runs/yqpi7moe</a><br/>\n",
       "Find logs at: <code>./wandb/run-20220302_032946-yqpi7moe/logs</code><br/>\n"
      ],
      "text/plain": [
       "<IPython.core.display.HTML object>"
      ]
     },
     "metadata": {},
     "output_type": "display_data"
    },
    {
     "name": "stderr",
     "output_type": "stream",
     "text": [
      "\u001b[34m\u001b[1mwandb\u001b[0m: Agent Starting Run: jgebms9t with config:\n",
      "\u001b[34m\u001b[1mwandb\u001b[0m: \tbatch_size: 16\n",
      "\u001b[34m\u001b[1mwandb\u001b[0m: \tdropout1: 0.1588814642915684\n",
      "\u001b[34m\u001b[1mwandb\u001b[0m: \tepochs: 50\n",
      "\u001b[34m\u001b[1mwandb\u001b[0m: wandb version 0.12.11 is available!  To upgrade, please run:\n",
      "\u001b[34m\u001b[1mwandb\u001b[0m:  $ pip install wandb --upgrade\n"
     ]
    },
    {
     "data": {
      "text/html": [
       "\n",
       "                    Syncing run <strong><a href=\"https://wandb.ai/luiscostigan/house-price-prediction/runs/jgebms9t\" target=\"_blank\">wild-sweep-4</a></strong> to <a href=\"https://wandb.ai/luiscostigan/house-price-prediction\" target=\"_blank\">Weights & Biases</a> (<a href=\"https://docs.wandb.com/integrations/jupyter.html\" target=\"_blank\">docs</a>).<br/>\n",
       "Sweep page: <a href=\"https://wandb.ai/luiscostigan/house-price-prediction/sweeps/ru0ykkjf\" target=\"_blank\">https://wandb.ai/luiscostigan/house-price-prediction/sweeps/ru0ykkjf</a><br/>\n",
       "\n",
       "                "
      ],
      "text/plain": [
       "<IPython.core.display.HTML object>"
      ]
     },
     "metadata": {},
     "output_type": "display_data"
    },
    {
     "name": "stdout",
     "output_type": "stream",
     "text": [
      "37/37 [==============================] - 0s 3ms/step - loss: 659172352.0000 - root_mean_squared_error: 25674.3516\n",
      "Score for fold 1: loss of 659172352.0; root_mean_squared_error of 25674.3515625\n",
      "------------------------------------------------------------------------\n",
      "Score per fold\n",
      "------------------------------------------------------------------------\n",
      "> Fold 1 - Loss: 659172352.0 - RMSE: 25674.3515625%\n",
      "------------------------------------------------------------------------\n",
      "Average scores for all folds:\n",
      "> RMSE: 25674.3515625 (+- 0.0)\n",
      "> Loss: 659172352.0\n",
      "------------------------------------------------------------------------\n"
     ]
    },
    {
     "data": {
      "text/html": [
       "<br/>Waiting for W&B process to finish, PID 8466... <strong style=\"color:green\">(success).</strong>"
      ],
      "text/plain": [
       "<IPython.core.display.HTML object>"
      ]
     },
     "metadata": {},
     "output_type": "display_data"
    },
    {
     "data": {
      "application/vnd.jupyter.widget-view+json": {
       "model_id": "992882f6eb91431ea07808c7cbac04eb",
       "version_major": 2,
       "version_minor": 0
      },
      "text/plain": [
       "VBox(children=(Label(value=' 2.27MB of 2.45MB uploaded (0.00MB deduped)\\r'), FloatProgress(value=0.92740929759…"
      ]
     },
     "metadata": {},
     "output_type": "display_data"
    },
    {
     "data": {
      "text/html": [
       "<style>\n",
       "    table.wandb td:nth-child(1) { padding: 0 10px; text-align: right }\n",
       "    .wandb-row { display: flex; flex-direction: row; flex-wrap: wrap; width: 100% }\n",
       "    .wandb-col { display: flex; flex-direction: column; flex-basis: 100%; flex: 1; padding: 10px; }\n",
       "    </style>\n",
       "<div class=\"wandb-row\"><div class=\"wandb-col\">\n",
       "<h3>Run history:</h3><br/><table class=\"wandb\"><tr><td>Mean Validation Loss (all folds)</td><td>▁</td></tr><tr><td>Mean Validation RMSE (all folds)</td><td>▁</td></tr><tr><td>epoch</td><td>▁▁▁▁▂▂▂▂▂▃▃▃▃▃▃▄▄▄▄▄▅▅▅▅▅▅▆▆▆▆▆▆▇▇▇▇▇███</td></tr><tr><td>loss</td><td>█▂▁▁▁▁▁▁▁▁▁▁▁▁▁▁▁▁▁▁▁▁▁▁▁▁▁▁▁▁▁▁▁▁▁▁▁▁▁▁</td></tr><tr><td>root_mean_squared_error</td><td>█▃▂▁▁▁▁▁▁▁▁▁▁▁▁▁▁▁▁▁▁▁▁▁▁▁▁▁▁▁▁▁▁▁▁▁▁▁▁▁</td></tr><tr><td>val_loss</td><td>█▂▁▁▁▁▁▁▁▁▁▁▁▁▁▁▁▁▁▁▁▁▁▁▁▁▁▁▁▁▁▁▁▁▁▁▁▁▁▁</td></tr><tr><td>val_root_mean_squared_error</td><td>█▃▂▂▁▁▁▁▁▁▁▁▁▁▁▁▁▁▁▁▁▁▁▁▁▁▁▁▁▁▁▁▁▁▁▁▁▁▁▁</td></tr></table><br/></div><div class=\"wandb-col\">\n",
       "<h3>Run summary:</h3><br/><table class=\"wandb\"><tr><td>Mean Validation Loss (all folds)</td><td>659172352.0</td></tr><tr><td>Mean Validation RMSE (all folds)</td><td>25674.35156</td></tr><tr><td>best_epoch</td><td>49</td></tr><tr><td>best_val_loss</td><td>659172544.0</td></tr><tr><td>epoch</td><td>49</td></tr><tr><td>loss</td><td>763729088.0</td></tr><tr><td>root_mean_squared_error</td><td>27635.64844</td></tr><tr><td>val_loss</td><td>659172544.0</td></tr><tr><td>val_root_mean_squared_error</td><td>25674.35547</td></tr></table>\n",
       "</div></div>\n",
       "Synced 5 W&B file(s), 0 media file(s), 0 artifact file(s) and 1 other file(s)\n",
       "<br/>Synced <strong style=\"color:#cdcd00\">wild-sweep-4</strong>: <a href=\"https://wandb.ai/luiscostigan/house-price-prediction/runs/jgebms9t\" target=\"_blank\">https://wandb.ai/luiscostigan/house-price-prediction/runs/jgebms9t</a><br/>\n",
       "Find logs at: <code>./wandb/run-20220302_032959-jgebms9t/logs</code><br/>\n"
      ],
      "text/plain": [
       "<IPython.core.display.HTML object>"
      ]
     },
     "metadata": {},
     "output_type": "display_data"
    },
    {
     "name": "stderr",
     "output_type": "stream",
     "text": [
      "\u001b[34m\u001b[1mwandb\u001b[0m: wandb version 0.12.11 is available!  To upgrade, please run:\n",
      "\u001b[34m\u001b[1mwandb\u001b[0m:  $ pip install wandb --upgrade\n"
     ]
    },
    {
     "data": {
      "text/html": [
       "\n",
       "                    Syncing run <strong><a href=\"https://wandb.ai/luiscostigan/house-price-prediction/runs/jgebms9t\" target=\"_blank\">wild-sweep-4</a></strong> to <a href=\"https://wandb.ai/luiscostigan/house-price-prediction\" target=\"_blank\">Weights & Biases</a> (<a href=\"https://docs.wandb.com/integrations/jupyter.html\" target=\"_blank\">docs</a>).<br/>\n",
       "Sweep page: <a href=\"https://wandb.ai/luiscostigan/house-price-prediction/sweeps/ru0ykkjf\" target=\"_blank\">https://wandb.ai/luiscostigan/house-price-prediction/sweeps/ru0ykkjf</a><br/>\n",
       "\n",
       "                "
      ],
      "text/plain": [
       "<IPython.core.display.HTML object>"
      ]
     },
     "metadata": {},
     "output_type": "display_data"
    },
    {
     "name": "stdout",
     "output_type": "stream",
     "text": [
      "37/37 [==============================] - 0s 2ms/step - loss: 661943744.0000 - root_mean_squared_error: 25728.2676\n",
      "Score for fold 2: loss of 661943744.0; root_mean_squared_error of 25728.267578125\n",
      "------------------------------------------------------------------------\n",
      "Score per fold\n",
      "------------------------------------------------------------------------\n",
      "> Fold 1 - Loss: 659172352.0 - RMSE: 25674.3515625%\n",
      "------------------------------------------------------------------------\n",
      "> Fold 2 - Loss: 661943744.0 - RMSE: 25728.267578125%\n",
      "------------------------------------------------------------------------\n",
      "Average scores for all folds:\n",
      "> RMSE: 25701.3095703125 (+- 26.9580078125)\n",
      "> Loss: 660558048.0\n",
      "------------------------------------------------------------------------\n"
     ]
    },
    {
     "data": {
      "text/html": [
       "<br/>Waiting for W&B process to finish, PID 9772... <strong style=\"color:green\">(success).</strong>"
      ],
      "text/plain": [
       "<IPython.core.display.HTML object>"
      ]
     },
     "metadata": {},
     "output_type": "display_data"
    },
    {
     "data": {
      "application/vnd.jupyter.widget-view+json": {
       "model_id": "570cbbe399c7436d90c62a0f739815d8",
       "version_major": 2,
       "version_minor": 0
      },
      "text/plain": [
       "VBox(children=(Label(value=' 0.57MB of 2.45MB uploaded (0.00MB deduped)\\r'), FloatProgress(value=0.23293897144…"
      ]
     },
     "metadata": {},
     "output_type": "display_data"
    },
    {
     "data": {
      "text/html": [
       "<style>\n",
       "    table.wandb td:nth-child(1) { padding: 0 10px; text-align: right }\n",
       "    .wandb-row { display: flex; flex-direction: row; flex-wrap: wrap; width: 100% }\n",
       "    .wandb-col { display: flex; flex-direction: column; flex-basis: 100%; flex: 1; padding: 10px; }\n",
       "    </style>\n",
       "<div class=\"wandb-row\"><div class=\"wandb-col\">\n",
       "<h3>Run history:</h3><br/><table class=\"wandb\"><tr><td>Mean Validation Loss (all folds)</td><td>▁</td></tr><tr><td>Mean Validation RMSE (all folds)</td><td>▁</td></tr><tr><td>epoch</td><td>▁▁▁▁▂▂▂▂▂▃▃▃▃▃▃▄▄▄▄▄▅▅▅▅▅▅▆▆▆▆▆▆▇▇▇▇▇███</td></tr><tr><td>loss</td><td>█▂▁▁▁▁▁▁▁▁▁▁▁▁▁▁▁▁▁▁▁▁▁▁▁▁▁▁▁▁▁▁▁▁▁▁▁▁▁▁</td></tr><tr><td>root_mean_squared_error</td><td>█▃▂▁▁▁▁▁▁▁▁▁▁▁▁▁▁▁▁▁▁▁▁▁▁▁▁▁▁▁▁▁▁▁▁▁▁▁▁▁</td></tr><tr><td>val_loss</td><td>█▂▁▁▁▁▁▁▁▁▁▁▁▁▁▁▁▁▁▁▁▁▁▁▁▁▁▁▁▁▁▁▁▁▁▁▁▁▁▁</td></tr><tr><td>val_root_mean_squared_error</td><td>█▃▂▂▁▁▂▁▁▁▁▁▁▁▁▁▁▁▁▁▁▁▁▁▁▁▁▁▁▁▁▁▁▁▁▁▁▁▁▁</td></tr></table><br/></div><div class=\"wandb-col\">\n",
       "<h3>Run summary:</h3><br/><table class=\"wandb\"><tr><td>Mean Validation Loss (all folds)</td><td>660558048.0</td></tr><tr><td>Mean Validation RMSE (all folds)</td><td>25701.30957</td></tr><tr><td>best_epoch</td><td>49</td></tr><tr><td>best_val_loss</td><td>661943616.0</td></tr><tr><td>epoch</td><td>49</td></tr><tr><td>loss</td><td>745323776.0</td></tr><tr><td>root_mean_squared_error</td><td>27300.61914</td></tr><tr><td>val_loss</td><td>661943616.0</td></tr><tr><td>val_root_mean_squared_error</td><td>25728.26562</td></tr></table>\n",
       "</div></div>\n",
       "Synced 5 W&B file(s), 0 media file(s), 0 artifact file(s) and 1 other file(s)\n",
       "<br/>Synced <strong style=\"color:#cdcd00\">wild-sweep-4</strong>: <a href=\"https://wandb.ai/luiscostigan/house-price-prediction/runs/jgebms9t\" target=\"_blank\">https://wandb.ai/luiscostigan/house-price-prediction/runs/jgebms9t</a><br/>\n",
       "Find logs at: <code>./wandb/run-20220302_033025-jgebms9t/logs</code><br/>\n"
      ],
      "text/plain": [
       "<IPython.core.display.HTML object>"
      ]
     },
     "metadata": {},
     "output_type": "display_data"
    },
    {
     "name": "stderr",
     "output_type": "stream",
     "text": [
      "\u001b[34m\u001b[1mwandb\u001b[0m: wandb version 0.12.11 is available!  To upgrade, please run:\n",
      "\u001b[34m\u001b[1mwandb\u001b[0m:  $ pip install wandb --upgrade\n"
     ]
    },
    {
     "data": {
      "text/html": [
       "\n",
       "                    Syncing run <strong><a href=\"https://wandb.ai/luiscostigan/house-price-prediction/runs/jgebms9t\" target=\"_blank\">wild-sweep-4</a></strong> to <a href=\"https://wandb.ai/luiscostigan/house-price-prediction\" target=\"_blank\">Weights & Biases</a> (<a href=\"https://docs.wandb.com/integrations/jupyter.html\" target=\"_blank\">docs</a>).<br/>\n",
       "Sweep page: <a href=\"https://wandb.ai/luiscostigan/house-price-prediction/sweeps/ru0ykkjf\" target=\"_blank\">https://wandb.ai/luiscostigan/house-price-prediction/sweeps/ru0ykkjf</a><br/>\n",
       "\n",
       "                "
      ],
      "text/plain": [
       "<IPython.core.display.HTML object>"
      ]
     },
     "metadata": {},
     "output_type": "display_data"
    },
    {
     "name": "stdout",
     "output_type": "stream",
     "text": [
      "37/37 [==============================] - 0s 2ms/step - loss: 637127040.0000 - root_mean_squared_error: 25241.3750\n",
      "Score for fold 3: loss of 637127040.0; root_mean_squared_error of 25241.375\n",
      "------------------------------------------------------------------------\n",
      "Score per fold\n",
      "------------------------------------------------------------------------\n",
      "> Fold 1 - Loss: 659172352.0 - RMSE: 25674.3515625%\n",
      "------------------------------------------------------------------------\n",
      "> Fold 2 - Loss: 661943744.0 - RMSE: 25728.267578125%\n",
      "------------------------------------------------------------------------\n",
      "> Fold 3 - Loss: 637127040.0 - RMSE: 25241.375%\n",
      "------------------------------------------------------------------------\n",
      "Average scores for all folds:\n",
      "> RMSE: 25547.998046875 (+- 217.92965813368946)\n",
      "> Loss: 652747712.0\n",
      "------------------------------------------------------------------------\n"
     ]
    },
    {
     "data": {
      "text/html": [
       "<br/>Waiting for W&B process to finish, PID 11053... <strong style=\"color:green\">(success).</strong>"
      ],
      "text/plain": [
       "<IPython.core.display.HTML object>"
      ]
     },
     "metadata": {},
     "output_type": "display_data"
    },
    {
     "data": {
      "application/vnd.jupyter.widget-view+json": {
       "model_id": "8afea5da14e34b1fa468a8ddeaa84dd5",
       "version_major": 2,
       "version_minor": 0
      },
      "text/plain": [
       "VBox(children=(Label(value=' 2.45MB of 2.45MB uploaded (0.00MB deduped)\\r'), FloatProgress(value=1.0, max=1.0)…"
      ]
     },
     "metadata": {},
     "output_type": "display_data"
    },
    {
     "data": {
      "text/html": [
       "<style>\n",
       "    table.wandb td:nth-child(1) { padding: 0 10px; text-align: right }\n",
       "    .wandb-row { display: flex; flex-direction: row; flex-wrap: wrap; width: 100% }\n",
       "    .wandb-col { display: flex; flex-direction: column; flex-basis: 100%; flex: 1; padding: 10px; }\n",
       "    </style>\n",
       "<div class=\"wandb-row\"><div class=\"wandb-col\">\n",
       "<h3>Run history:</h3><br/><table class=\"wandb\"><tr><td>Mean Validation Loss (all folds)</td><td>▁</td></tr><tr><td>Mean Validation RMSE (all folds)</td><td>▁</td></tr><tr><td>epoch</td><td>▁▁▁▁▂▂▂▂▂▃▃▃▃▃▃▄▄▄▄▄▅▅▅▅▅▅▆▆▆▆▆▆▇▇▇▇▇███</td></tr><tr><td>loss</td><td>█▂▁▁▁▁▁▁▁▁▁▁▁▁▁▁▁▁▁▁▁▁▁▁▁▁▁▁▁▁▁▁▁▁▁▁▁▁▁▁</td></tr><tr><td>root_mean_squared_error</td><td>█▃▂▁▁▁▁▁▁▁▁▁▁▁▁▁▁▁▁▁▁▁▁▁▁▁▁▁▁▁▁▁▁▁▁▁▁▁▁▁</td></tr><tr><td>val_loss</td><td>█▂▁▁▁▁▁▁▁▁▁▁▁▁▁▁▁▁▁▁▁▁▁▁▁▁▁▁▁▁▁▁▁▁▁▁▁▁▁▁</td></tr><tr><td>val_root_mean_squared_error</td><td>█▂▂▂▁▁▁▁▁▁▁▁▁▁▁▁▁▁▁▁▁▁▁▁▁▁▁▁▁▁▁▁▁▁▁▁▁▁▁▁</td></tr></table><br/></div><div class=\"wandb-col\">\n",
       "<h3>Run summary:</h3><br/><table class=\"wandb\"><tr><td>Mean Validation Loss (all folds)</td><td>652747712.0</td></tr><tr><td>Mean Validation RMSE (all folds)</td><td>25547.99805</td></tr><tr><td>best_epoch</td><td>49</td></tr><tr><td>best_val_loss</td><td>637126976.0</td></tr><tr><td>epoch</td><td>49</td></tr><tr><td>loss</td><td>698824896.0</td></tr><tr><td>root_mean_squared_error</td><td>26435.29688</td></tr><tr><td>val_loss</td><td>637126976.0</td></tr><tr><td>val_root_mean_squared_error</td><td>25241.375</td></tr></table>\n",
       "</div></div>\n",
       "Synced 5 W&B file(s), 0 media file(s), 0 artifact file(s) and 1 other file(s)\n",
       "<br/>Synced <strong style=\"color:#cdcd00\">wild-sweep-4</strong>: <a href=\"https://wandb.ai/luiscostigan/house-price-prediction/runs/jgebms9t\" target=\"_blank\">https://wandb.ai/luiscostigan/house-price-prediction/runs/jgebms9t</a><br/>\n",
       "Find logs at: <code>./wandb/run-20220302_033050-jgebms9t/logs</code><br/>\n"
      ],
      "text/plain": [
       "<IPython.core.display.HTML object>"
      ]
     },
     "metadata": {},
     "output_type": "display_data"
    },
    {
     "name": "stderr",
     "output_type": "stream",
     "text": [
      "\u001b[34m\u001b[1mwandb\u001b[0m: wandb version 0.12.11 is available!  To upgrade, please run:\n",
      "\u001b[34m\u001b[1mwandb\u001b[0m:  $ pip install wandb --upgrade\n"
     ]
    },
    {
     "data": {
      "text/html": [
       "\n",
       "                    Syncing run <strong><a href=\"https://wandb.ai/luiscostigan/house-price-prediction/runs/jgebms9t\" target=\"_blank\">wild-sweep-4</a></strong> to <a href=\"https://wandb.ai/luiscostigan/house-price-prediction\" target=\"_blank\">Weights & Biases</a> (<a href=\"https://docs.wandb.com/integrations/jupyter.html\" target=\"_blank\">docs</a>).<br/>\n",
       "Sweep page: <a href=\"https://wandb.ai/luiscostigan/house-price-prediction/sweeps/ru0ykkjf\" target=\"_blank\">https://wandb.ai/luiscostigan/house-price-prediction/sweeps/ru0ykkjf</a><br/>\n",
       "\n",
       "                "
      ],
      "text/plain": [
       "<IPython.core.display.HTML object>"
      ]
     },
     "metadata": {},
     "output_type": "display_data"
    },
    {
     "name": "stdout",
     "output_type": "stream",
     "text": [
      "37/37 [==============================] - 0s 2ms/step - loss: 639593472.0000 - root_mean_squared_error: 25290.1855\n",
      "Score for fold 4: loss of 639593472.0; root_mean_squared_error of 25290.185546875\n",
      "------------------------------------------------------------------------\n",
      "Score per fold\n",
      "------------------------------------------------------------------------\n",
      "> Fold 1 - Loss: 659172352.0 - RMSE: 25674.3515625%\n",
      "------------------------------------------------------------------------\n",
      "> Fold 2 - Loss: 661943744.0 - RMSE: 25728.267578125%\n",
      "------------------------------------------------------------------------\n",
      "> Fold 3 - Loss: 637127040.0 - RMSE: 25241.375%\n",
      "------------------------------------------------------------------------\n",
      "> Fold 4 - Loss: 639593472.0 - RMSE: 25290.185546875%\n",
      "------------------------------------------------------------------------\n",
      "Average scores for all folds:\n",
      "> RMSE: 25483.544921875 (+- 219.27749060835438)\n",
      "> Loss: 649459152.0\n",
      "------------------------------------------------------------------------\n"
     ]
    },
    {
     "data": {
      "text/html": [
       "<br/>Waiting for W&B process to finish, PID 12328... <strong style=\"color:green\">(success).</strong>"
      ],
      "text/plain": [
       "<IPython.core.display.HTML object>"
      ]
     },
     "metadata": {},
     "output_type": "display_data"
    },
    {
     "data": {
      "application/vnd.jupyter.widget-view+json": {
       "model_id": "a63d14cab5a745b6b6d0937d8829164d",
       "version_major": 2,
       "version_minor": 0
      },
      "text/plain": [
       "VBox(children=(Label(value=' 1.77MB of 2.45MB uploaded (0.00MB deduped)\\r'), FloatProgress(value=0.72031815963…"
      ]
     },
     "metadata": {},
     "output_type": "display_data"
    },
    {
     "data": {
      "text/html": [
       "<style>\n",
       "    table.wandb td:nth-child(1) { padding: 0 10px; text-align: right }\n",
       "    .wandb-row { display: flex; flex-direction: row; flex-wrap: wrap; width: 100% }\n",
       "    .wandb-col { display: flex; flex-direction: column; flex-basis: 100%; flex: 1; padding: 10px; }\n",
       "    </style>\n",
       "<div class=\"wandb-row\"><div class=\"wandb-col\">\n",
       "<h3>Run history:</h3><br/><table class=\"wandb\"><tr><td>Mean Validation Loss (all folds)</td><td>▁</td></tr><tr><td>Mean Validation RMSE (all folds)</td><td>▁</td></tr><tr><td>epoch</td><td>▁▁▁▁▂▂▂▂▂▃▃▃▃▃▃▄▄▄▄▄▅▅▅▅▅▅▆▆▆▆▆▆▇▇▇▇▇███</td></tr><tr><td>loss</td><td>█▂▁▁▁▁▁▁▁▁▁▁▁▁▁▁▁▁▁▁▁▁▁▁▁▁▁▁▁▁▁▁▁▁▁▁▁▁▁▁</td></tr><tr><td>root_mean_squared_error</td><td>█▃▂▁▁▁▁▁▁▁▁▁▁▁▁▁▁▁▁▁▁▁▁▁▁▁▁▁▁▁▁▁▁▁▁▁▁▁▁▁</td></tr><tr><td>val_loss</td><td>█▂▁▁▁▁▁▁▁▁▁▁▁▁▁▁▁▁▁▁▁▁▁▁▁▁▁▁▁▁▁▁▁▁▁▁▁▁▁▁</td></tr><tr><td>val_root_mean_squared_error</td><td>█▃▂▂▁▁▁▁▁▁▁▁▁▁▁▁▁▁▁▁▁▁▁▁▁▁▁▁▁▁▁▁▁▁▁▁▁▁▁▁</td></tr></table><br/></div><div class=\"wandb-col\">\n",
       "<h3>Run summary:</h3><br/><table class=\"wandb\"><tr><td>Mean Validation Loss (all folds)</td><td>649459152.0</td></tr><tr><td>Mean Validation RMSE (all folds)</td><td>25483.54492</td></tr><tr><td>best_epoch</td><td>49</td></tr><tr><td>best_val_loss</td><td>639593536.0</td></tr><tr><td>epoch</td><td>49</td></tr><tr><td>loss</td><td>688939072.0</td></tr><tr><td>root_mean_squared_error</td><td>26247.64844</td></tr><tr><td>val_loss</td><td>639593536.0</td></tr><tr><td>val_root_mean_squared_error</td><td>25290.1875</td></tr></table>\n",
       "</div></div>\n",
       "Synced 5 W&B file(s), 0 media file(s), 0 artifact file(s) and 1 other file(s)\n",
       "<br/>Synced <strong style=\"color:#cdcd00\">wild-sweep-4</strong>: <a href=\"https://wandb.ai/luiscostigan/house-price-prediction/runs/jgebms9t\" target=\"_blank\">https://wandb.ai/luiscostigan/house-price-prediction/runs/jgebms9t</a><br/>\n",
       "Find logs at: <code>./wandb/run-20220302_033115-jgebms9t/logs</code><br/>\n"
      ],
      "text/plain": [
       "<IPython.core.display.HTML object>"
      ]
     },
     "metadata": {},
     "output_type": "display_data"
    },
    {
     "name": "stderr",
     "output_type": "stream",
     "text": [
      "\u001b[34m\u001b[1mwandb\u001b[0m: wandb version 0.12.11 is available!  To upgrade, please run:\n",
      "\u001b[34m\u001b[1mwandb\u001b[0m:  $ pip install wandb --upgrade\n"
     ]
    },
    {
     "data": {
      "text/html": [
       "\n",
       "                    Syncing run <strong><a href=\"https://wandb.ai/luiscostigan/house-price-prediction/runs/jgebms9t\" target=\"_blank\">wild-sweep-4</a></strong> to <a href=\"https://wandb.ai/luiscostigan/house-price-prediction\" target=\"_blank\">Weights & Biases</a> (<a href=\"https://docs.wandb.com/integrations/jupyter.html\" target=\"_blank\">docs</a>).<br/>\n",
       "Sweep page: <a href=\"https://wandb.ai/luiscostigan/house-price-prediction/sweeps/ru0ykkjf\" target=\"_blank\">https://wandb.ai/luiscostigan/house-price-prediction/sweeps/ru0ykkjf</a><br/>\n",
       "\n",
       "                "
      ],
      "text/plain": [
       "<IPython.core.display.HTML object>"
      ]
     },
     "metadata": {},
     "output_type": "display_data"
    },
    {
     "name": "stdout",
     "output_type": "stream",
     "text": [
      "37/37 [==============================] - 0s 2ms/step - loss: 656215808.0000 - root_mean_squared_error: 25616.7090\n",
      "Score for fold 5: loss of 656215808.0; root_mean_squared_error of 25616.708984375\n",
      "------------------------------------------------------------------------\n",
      "Score per fold\n",
      "------------------------------------------------------------------------\n",
      "> Fold 1 - Loss: 659172352.0 - RMSE: 25674.3515625%\n",
      "------------------------------------------------------------------------\n",
      "> Fold 2 - Loss: 661943744.0 - RMSE: 25728.267578125%\n",
      "------------------------------------------------------------------------\n",
      "> Fold 3 - Loss: 637127040.0 - RMSE: 25241.375%\n",
      "------------------------------------------------------------------------\n",
      "> Fold 4 - Loss: 639593472.0 - RMSE: 25290.185546875%\n",
      "------------------------------------------------------------------------\n",
      "> Fold 5 - Loss: 656215808.0 - RMSE: 25616.708984375%\n",
      "------------------------------------------------------------------------\n",
      "Average scores for all folds:\n",
      "> RMSE: 25510.177734375 (+- 203.23218523806258)\n",
      "> Loss: 650810483.2\n",
      "------------------------------------------------------------------------\n"
     ]
    },
    {
     "data": {
      "text/html": [
       "<br/>Waiting for W&B process to finish, PID 13603... <strong style=\"color:green\">(success).</strong>"
      ],
      "text/plain": [
       "<IPython.core.display.HTML object>"
      ]
     },
     "metadata": {},
     "output_type": "display_data"
    },
    {
     "data": {
      "application/vnd.jupyter.widget-view+json": {
       "model_id": "ad28e4f3960041cda3d58d3b3f4a8079",
       "version_major": 2,
       "version_minor": 0
      },
      "text/plain": [
       "VBox(children=(Label(value=' 2.37MB of 2.45MB uploaded (0.00MB deduped)\\r'), FloatProgress(value=0.96560049617…"
      ]
     },
     "metadata": {},
     "output_type": "display_data"
    },
    {
     "data": {
      "text/html": [
       "<style>\n",
       "    table.wandb td:nth-child(1) { padding: 0 10px; text-align: right }\n",
       "    .wandb-row { display: flex; flex-direction: row; flex-wrap: wrap; width: 100% }\n",
       "    .wandb-col { display: flex; flex-direction: column; flex-basis: 100%; flex: 1; padding: 10px; }\n",
       "    </style>\n",
       "<div class=\"wandb-row\"><div class=\"wandb-col\">\n",
       "<h3>Run history:</h3><br/><table class=\"wandb\"><tr><td>Mean Validation Loss (all folds)</td><td>▁</td></tr><tr><td>Mean Validation RMSE (all folds)</td><td>▁</td></tr><tr><td>epoch</td><td>▁▁▁▁▂▂▂▂▂▃▃▃▃▃▃▄▄▄▄▄▅▅▅▅▅▅▆▆▆▆▆▆▇▇▇▇▇███</td></tr><tr><td>loss</td><td>█▂▁▁▁▁▁▁▁▁▁▁▁▁▁▁▁▁▁▁▁▁▁▁▁▁▁▁▁▁▁▁▁▁▁▁▁▁▁▁</td></tr><tr><td>root_mean_squared_error</td><td>█▃▂▂▁▁▁▁▁▁▁▁▁▁▁▁▁▁▁▁▁▁▁▁▁▁▁▁▁▁▁▁▁▁▁▁▁▁▁▁</td></tr><tr><td>val_loss</td><td>█▂▁▁▁▁▁▁▁▁▁▁▁▁▁▁▁▁▁▁▁▁▁▁▁▁▁▁▁▁▁▁▁▁▁▁▁▁▁▁</td></tr><tr><td>val_root_mean_squared_error</td><td>█▂▂▂▁▁▁▁▁▁▁▁▁▁▁▁▁▁▁▁▁▁▁▁▁▁▁▁▁▁▁▁▁▁▁▁▁▁▁▁</td></tr></table><br/></div><div class=\"wandb-col\">\n",
       "<h3>Run summary:</h3><br/><table class=\"wandb\"><tr><td>Mean Validation Loss (all folds)</td><td>650810483.2</td></tr><tr><td>Mean Validation RMSE (all folds)</td><td>25510.17773</td></tr><tr><td>best_epoch</td><td>48</td></tr><tr><td>best_val_loss</td><td>650919040.0</td></tr><tr><td>epoch</td><td>49</td></tr><tr><td>loss</td><td>688830720.0</td></tr><tr><td>root_mean_squared_error</td><td>26245.58398</td></tr><tr><td>val_loss</td><td>656215680.0</td></tr><tr><td>val_root_mean_squared_error</td><td>25616.70703</td></tr></table>\n",
       "</div></div>\n",
       "Synced 5 W&B file(s), 0 media file(s), 0 artifact file(s) and 1 other file(s)\n",
       "<br/>Synced <strong style=\"color:#cdcd00\">wild-sweep-4</strong>: <a href=\"https://wandb.ai/luiscostigan/house-price-prediction/runs/jgebms9t\" target=\"_blank\">https://wandb.ai/luiscostigan/house-price-prediction/runs/jgebms9t</a><br/>\n",
       "Find logs at: <code>./wandb/run-20220302_033139-jgebms9t/logs</code><br/>\n"
      ],
      "text/plain": [
       "<IPython.core.display.HTML object>"
      ]
     },
     "metadata": {},
     "output_type": "display_data"
    },
    {
     "name": "stderr",
     "output_type": "stream",
     "text": [
      "\u001b[34m\u001b[1mwandb\u001b[0m: Agent Starting Run: j0jbkoh7 with config:\n",
      "\u001b[34m\u001b[1mwandb\u001b[0m: \tbatch_size: 512\n",
      "\u001b[34m\u001b[1mwandb\u001b[0m: \tdropout1: 0.5452815994573488\n",
      "\u001b[34m\u001b[1mwandb\u001b[0m: \tepochs: 200\n",
      "\u001b[34m\u001b[1mwandb\u001b[0m: wandb version 0.12.11 is available!  To upgrade, please run:\n",
      "\u001b[34m\u001b[1mwandb\u001b[0m:  $ pip install wandb --upgrade\n"
     ]
    },
    {
     "data": {
      "text/html": [
       "\n",
       "                    Syncing run <strong><a href=\"https://wandb.ai/luiscostigan/house-price-prediction/runs/j0jbkoh7\" target=\"_blank\">unique-sweep-5</a></strong> to <a href=\"https://wandb.ai/luiscostigan/house-price-prediction\" target=\"_blank\">Weights & Biases</a> (<a href=\"https://docs.wandb.com/integrations/jupyter.html\" target=\"_blank\">docs</a>).<br/>\n",
       "Sweep page: <a href=\"https://wandb.ai/luiscostigan/house-price-prediction/sweeps/ru0ykkjf\" target=\"_blank\">https://wandb.ai/luiscostigan/house-price-prediction/sweeps/ru0ykkjf</a><br/>\n",
       "\n",
       "                "
      ],
      "text/plain": [
       "<IPython.core.display.HTML object>"
      ]
     },
     "metadata": {},
     "output_type": "display_data"
    },
    {
     "name": "stdout",
     "output_type": "stream",
     "text": [
      "37/37 [==============================] - 0s 2ms/step - loss: 685209728.0000 - root_mean_squared_error: 26176.5117\n",
      "Score for fold 1: loss of 685209728.0; root_mean_squared_error of 26176.51171875\n",
      "------------------------------------------------------------------------\n",
      "Score per fold\n",
      "------------------------------------------------------------------------\n",
      "> Fold 1 - Loss: 685209728.0 - RMSE: 26176.51171875%\n",
      "------------------------------------------------------------------------\n",
      "Average scores for all folds:\n",
      "> RMSE: 26176.51171875 (+- 0.0)\n",
      "> Loss: 685209728.0\n",
      "------------------------------------------------------------------------\n"
     ]
    },
    {
     "data": {
      "text/html": [
       "<br/>Waiting for W&B process to finish, PID 14950... <strong style=\"color:green\">(success).</strong>"
      ],
      "text/plain": [
       "<IPython.core.display.HTML object>"
      ]
     },
     "metadata": {},
     "output_type": "display_data"
    },
    {
     "data": {
      "application/vnd.jupyter.widget-view+json": {
       "model_id": "e79f3af75dd84f41a818735810738b66",
       "version_major": 2,
       "version_minor": 0
      },
      "text/plain": [
       "VBox(children=(Label(value=' 1.67MB of 2.45MB uploaded (0.00MB deduped)\\r'), FloatProgress(value=0.67893220053…"
      ]
     },
     "metadata": {},
     "output_type": "display_data"
    },
    {
     "data": {
      "text/html": [
       "<style>\n",
       "    table.wandb td:nth-child(1) { padding: 0 10px; text-align: right }\n",
       "    .wandb-row { display: flex; flex-direction: row; flex-wrap: wrap; width: 100% }\n",
       "    .wandb-col { display: flex; flex-direction: column; flex-basis: 100%; flex: 1; padding: 10px; }\n",
       "    </style>\n",
       "<div class=\"wandb-row\"><div class=\"wandb-col\">\n",
       "<h3>Run history:</h3><br/><table class=\"wandb\"><tr><td>Mean Validation Loss (all folds)</td><td>▁</td></tr><tr><td>Mean Validation RMSE (all folds)</td><td>▁</td></tr><tr><td>epoch</td><td>▁▁▁▁▂▂▂▂▂▃▃▃▃▃▃▄▄▄▄▄▅▅▅▅▅▅▆▆▆▆▆▇▇▇▇▇▇███</td></tr><tr><td>loss</td><td>██▇▆▄▃▂▁▁▁▁▁▁▁▁▁▁▁▁▁▁▁▁▁▁▁▁▁▁▁▁▁▁▁▁▁▁▁▁▁</td></tr><tr><td>root_mean_squared_error</td><td>███▇▅▄▂▂▂▂▁▁▁▁▁▁▁▁▁▁▁▁▁▁▁▁▁▁▁▁▁▁▁▁▁▁▁▁▁▁</td></tr><tr><td>val_loss</td><td>██▇▆▄▃▁▁▁▁▁▁▁▁▁▁▁▁▁▁▁▁▁▁▁▁▁▁▁▁▁▁▁▁▁▁▁▁▁▁</td></tr><tr><td>val_root_mean_squared_error</td><td>██▇▇▅▄▂▂▂▂▁▁▁▁▁▁▁▁▁▁▁▁▁▁▁▁▁▁▁▁▁▁▁▁▁▁▁▁▁▁</td></tr></table><br/></div><div class=\"wandb-col\">\n",
       "<h3>Run summary:</h3><br/><table class=\"wandb\"><tr><td>Mean Validation Loss (all folds)</td><td>685209728.0</td></tr><tr><td>Mean Validation RMSE (all folds)</td><td>26176.51172</td></tr><tr><td>best_epoch</td><td>197</td></tr><tr><td>best_val_loss</td><td>650496896.0</td></tr><tr><td>epoch</td><td>199</td></tr><tr><td>loss</td><td>762128448.0</td></tr><tr><td>root_mean_squared_error</td><td>27606.67383</td></tr><tr><td>val_loss</td><td>685209792.0</td></tr><tr><td>val_root_mean_squared_error</td><td>26176.51172</td></tr></table>\n",
       "</div></div>\n",
       "Synced 5 W&B file(s), 0 media file(s), 0 artifact file(s) and 1 other file(s)\n",
       "<br/>Synced <strong style=\"color:#cdcd00\">unique-sweep-5</strong>: <a href=\"https://wandb.ai/luiscostigan/house-price-prediction/runs/j0jbkoh7\" target=\"_blank\">https://wandb.ai/luiscostigan/house-price-prediction/runs/j0jbkoh7</a><br/>\n",
       "Find logs at: <code>./wandb/run-20220302_033205-j0jbkoh7/logs</code><br/>\n"
      ],
      "text/plain": [
       "<IPython.core.display.HTML object>"
      ]
     },
     "metadata": {},
     "output_type": "display_data"
    },
    {
     "name": "stderr",
     "output_type": "stream",
     "text": [
      "\u001b[34m\u001b[1mwandb\u001b[0m: wandb version 0.12.11 is available!  To upgrade, please run:\n",
      "\u001b[34m\u001b[1mwandb\u001b[0m:  $ pip install wandb --upgrade\n"
     ]
    },
    {
     "data": {
      "text/html": [
       "\n",
       "                    Syncing run <strong><a href=\"https://wandb.ai/luiscostigan/house-price-prediction/runs/j0jbkoh7\" target=\"_blank\">unique-sweep-5</a></strong> to <a href=\"https://wandb.ai/luiscostigan/house-price-prediction\" target=\"_blank\">Weights & Biases</a> (<a href=\"https://docs.wandb.com/integrations/jupyter.html\" target=\"_blank\">docs</a>).<br/>\n",
       "Sweep page: <a href=\"https://wandb.ai/luiscostigan/house-price-prediction/sweeps/ru0ykkjf\" target=\"_blank\">https://wandb.ai/luiscostigan/house-price-prediction/sweeps/ru0ykkjf</a><br/>\n",
       "\n",
       "                "
      ],
      "text/plain": [
       "<IPython.core.display.HTML object>"
      ]
     },
     "metadata": {},
     "output_type": "display_data"
    },
    {
     "name": "stdout",
     "output_type": "stream",
     "text": [
      "37/37 [==============================] - 0s 2ms/step - loss: 644439808.0000 - root_mean_squared_error: 25385.8184\n",
      "Score for fold 2: loss of 644439808.0; root_mean_squared_error of 25385.818359375\n",
      "------------------------------------------------------------------------\n",
      "Score per fold\n",
      "------------------------------------------------------------------------\n",
      "> Fold 1 - Loss: 685209728.0 - RMSE: 26176.51171875%\n",
      "------------------------------------------------------------------------\n",
      "> Fold 2 - Loss: 644439808.0 - RMSE: 25385.818359375%\n",
      "------------------------------------------------------------------------\n",
      "Average scores for all folds:\n",
      "> RMSE: 25781.1650390625 (+- 395.3466796875)\n",
      "> Loss: 664824768.0\n",
      "------------------------------------------------------------------------\n"
     ]
    },
    {
     "data": {
      "text/html": [
       "<br/>Waiting for W&B process to finish, PID 19063... <strong style=\"color:green\">(success).</strong>"
      ],
      "text/plain": [
       "<IPython.core.display.HTML object>"
      ]
     },
     "metadata": {},
     "output_type": "display_data"
    },
    {
     "data": {
      "application/vnd.jupyter.widget-view+json": {
       "model_id": "b7138f9aa23142938b03281a6f63c0c6",
       "version_major": 2,
       "version_minor": 0
      },
      "text/plain": [
       "VBox(children=(Label(value=' 0.85MB of 2.45MB uploaded (0.00MB deduped)\\r'), FloatProgress(value=0.34761642748…"
      ]
     },
     "metadata": {},
     "output_type": "display_data"
    },
    {
     "data": {
      "text/html": [
       "<style>\n",
       "    table.wandb td:nth-child(1) { padding: 0 10px; text-align: right }\n",
       "    .wandb-row { display: flex; flex-direction: row; flex-wrap: wrap; width: 100% }\n",
       "    .wandb-col { display: flex; flex-direction: column; flex-basis: 100%; flex: 1; padding: 10px; }\n",
       "    </style>\n",
       "<div class=\"wandb-row\"><div class=\"wandb-col\">\n",
       "<h3>Run history:</h3><br/><table class=\"wandb\"><tr><td>Mean Validation Loss (all folds)</td><td>▁</td></tr><tr><td>Mean Validation RMSE (all folds)</td><td>▁</td></tr><tr><td>epoch</td><td>▁▁▁▁▂▂▂▂▂▃▃▃▃▃▃▄▄▄▄▄▅▅▅▅▅▅▆▆▆▆▆▇▇▇▇▇▇███</td></tr><tr><td>loss</td><td>██▇▆▄▃▁▁▁▁▁▁▁▁▁▁▁▁▁▁▁▁▁▁▁▁▁▁▁▁▁▁▁▁▁▁▁▁▁▁</td></tr><tr><td>root_mean_squared_error</td><td>██▇▇▅▄▂▂▂▁▁▁▁▁▁▁▁▁▁▁▁▁▁▁▁▁▁▁▁▁▁▁▁▁▁▁▁▁▁▁</td></tr><tr><td>val_loss</td><td>██▇▆▄▂▁▁▁▁▁▁▁▁▁▁▁▁▁▁▁▁▁▁▁▁▁▁▁▁▁▁▁▁▁▁▁▁▁▁</td></tr><tr><td>val_root_mean_squared_error</td><td>██▇▇▅▄▂▂▂▂▁▁▁▁▁▁▁▁▁▁▁▁▁▁▁▁▁▁▁▁▁▁▁▁▁▁▁▁▁▁</td></tr></table><br/></div><div class=\"wandb-col\">\n",
       "<h3>Run summary:</h3><br/><table class=\"wandb\"><tr><td>Mean Validation Loss (all folds)</td><td>664824768.0</td></tr><tr><td>Mean Validation RMSE (all folds)</td><td>25781.16504</td></tr><tr><td>best_epoch</td><td>199</td></tr><tr><td>best_val_loss</td><td>644439744.0</td></tr><tr><td>epoch</td><td>199</td></tr><tr><td>loss</td><td>742557056.0</td></tr><tr><td>root_mean_squared_error</td><td>27249.90039</td></tr><tr><td>val_loss</td><td>644439744.0</td></tr><tr><td>val_root_mean_squared_error</td><td>25385.81836</td></tr></table>\n",
       "</div></div>\n",
       "Synced 5 W&B file(s), 0 media file(s), 0 artifact file(s) and 1 other file(s)\n",
       "<br/>Synced <strong style=\"color:#cdcd00\">unique-sweep-5</strong>: <a href=\"https://wandb.ai/luiscostigan/house-price-prediction/runs/j0jbkoh7\" target=\"_blank\">https://wandb.ai/luiscostigan/house-price-prediction/runs/j0jbkoh7</a><br/>\n",
       "Find logs at: <code>./wandb/run-20220302_033225-j0jbkoh7/logs</code><br/>\n"
      ],
      "text/plain": [
       "<IPython.core.display.HTML object>"
      ]
     },
     "metadata": {},
     "output_type": "display_data"
    },
    {
     "name": "stderr",
     "output_type": "stream",
     "text": [
      "\u001b[34m\u001b[1mwandb\u001b[0m: wandb version 0.12.11 is available!  To upgrade, please run:\n",
      "\u001b[34m\u001b[1mwandb\u001b[0m:  $ pip install wandb --upgrade\n"
     ]
    },
    {
     "data": {
      "text/html": [
       "\n",
       "                    Syncing run <strong><a href=\"https://wandb.ai/luiscostigan/house-price-prediction/runs/j0jbkoh7\" target=\"_blank\">unique-sweep-5</a></strong> to <a href=\"https://wandb.ai/luiscostigan/house-price-prediction\" target=\"_blank\">Weights & Biases</a> (<a href=\"https://docs.wandb.com/integrations/jupyter.html\" target=\"_blank\">docs</a>).<br/>\n",
       "Sweep page: <a href=\"https://wandb.ai/luiscostigan/house-price-prediction/sweeps/ru0ykkjf\" target=\"_blank\">https://wandb.ai/luiscostigan/house-price-prediction/sweeps/ru0ykkjf</a><br/>\n",
       "\n",
       "                "
      ],
      "text/plain": [
       "<IPython.core.display.HTML object>"
      ]
     },
     "metadata": {},
     "output_type": "display_data"
    },
    {
     "name": "stdout",
     "output_type": "stream",
     "text": [
      "37/37 [==============================] - 0s 2ms/step - loss: 640744320.0000 - root_mean_squared_error: 25312.9277\n",
      "Score for fold 3: loss of 640744320.0; root_mean_squared_error of 25312.927734375\n",
      "------------------------------------------------------------------------\n",
      "Score per fold\n",
      "------------------------------------------------------------------------\n",
      "> Fold 1 - Loss: 685209728.0 - RMSE: 26176.51171875%\n",
      "------------------------------------------------------------------------\n",
      "> Fold 2 - Loss: 644439808.0 - RMSE: 25385.818359375%\n",
      "------------------------------------------------------------------------\n",
      "> Fold 3 - Loss: 640744320.0 - RMSE: 25312.927734375%\n",
      "------------------------------------------------------------------------\n",
      "Average scores for all folds:\n",
      "> RMSE: 25625.0859375 (+- 391.0507682075754)\n",
      "> Loss: 656797952.0\n",
      "------------------------------------------------------------------------\n"
     ]
    },
    {
     "data": {
      "text/html": [
       "<br/>Waiting for W&B process to finish, PID 23183... <strong style=\"color:green\">(success).</strong>"
      ],
      "text/plain": [
       "<IPython.core.display.HTML object>"
      ]
     },
     "metadata": {},
     "output_type": "display_data"
    },
    {
     "data": {
      "application/vnd.jupyter.widget-view+json": {
       "model_id": "1768086c716a4f1c9944b796e12a1466",
       "version_major": 2,
       "version_minor": 0
      },
      "text/plain": [
       "VBox(children=(Label(value=' 1.54MB of 2.45MB uploaded (0.00MB deduped)\\r'), FloatProgress(value=0.62793519102…"
      ]
     },
     "metadata": {},
     "output_type": "display_data"
    },
    {
     "data": {
      "text/html": [
       "<style>\n",
       "    table.wandb td:nth-child(1) { padding: 0 10px; text-align: right }\n",
       "    .wandb-row { display: flex; flex-direction: row; flex-wrap: wrap; width: 100% }\n",
       "    .wandb-col { display: flex; flex-direction: column; flex-basis: 100%; flex: 1; padding: 10px; }\n",
       "    </style>\n",
       "<div class=\"wandb-row\"><div class=\"wandb-col\">\n",
       "<h3>Run history:</h3><br/><table class=\"wandb\"><tr><td>Mean Validation Loss (all folds)</td><td>▁</td></tr><tr><td>Mean Validation RMSE (all folds)</td><td>▁</td></tr><tr><td>epoch</td><td>▁▁▁▁▂▂▂▂▂▃▃▃▃▃▃▄▄▄▄▄▅▅▅▅▅▅▆▆▆▆▆▇▇▇▇▇▇███</td></tr><tr><td>loss</td><td>██▇▆▄▃▁▁▁▁▁▁▁▁▁▁▁▁▁▁▁▁▁▁▁▁▁▁▁▁▁▁▁▁▁▁▁▁▁▁</td></tr><tr><td>root_mean_squared_error</td><td>███▇▅▄▂▂▂▂▁▁▁▁▁▁▁▁▁▁▁▁▁▁▁▁▁▁▁▁▁▁▁▁▁▁▁▁▁▁</td></tr><tr><td>val_loss</td><td>██▇▆▄▃▁▁▁▁▁▁▁▁▁▁▁▁▁▁▁▁▁▁▁▁▁▁▁▁▁▁▁▁▁▁▁▁▁▁</td></tr><tr><td>val_root_mean_squared_error</td><td>██▇▇▅▄▂▂▂▂▁▁▁▁▁▁▁▁▁▁▁▁▁▁▁▁▁▁▁▁▁▁▁▁▁▁▁▁▁▁</td></tr></table><br/></div><div class=\"wandb-col\">\n",
       "<h3>Run summary:</h3><br/><table class=\"wandb\"><tr><td>Mean Validation Loss (all folds)</td><td>656797952.0</td></tr><tr><td>Mean Validation RMSE (all folds)</td><td>25625.08594</td></tr><tr><td>best_epoch</td><td>199</td></tr><tr><td>best_val_loss</td><td>640744256.0</td></tr><tr><td>epoch</td><td>199</td></tr><tr><td>loss</td><td>695394752.0</td></tr><tr><td>root_mean_squared_error</td><td>26370.33789</td></tr><tr><td>val_loss</td><td>640744256.0</td></tr><tr><td>val_root_mean_squared_error</td><td>25312.92578</td></tr></table>\n",
       "</div></div>\n",
       "Synced 5 W&B file(s), 0 media file(s), 0 artifact file(s) and 1 other file(s)\n",
       "<br/>Synced <strong style=\"color:#cdcd00\">unique-sweep-5</strong>: <a href=\"https://wandb.ai/luiscostigan/house-price-prediction/runs/j0jbkoh7\" target=\"_blank\">https://wandb.ai/luiscostigan/house-price-prediction/runs/j0jbkoh7</a><br/>\n",
       "Find logs at: <code>./wandb/run-20220302_033246-j0jbkoh7/logs</code><br/>\n"
      ],
      "text/plain": [
       "<IPython.core.display.HTML object>"
      ]
     },
     "metadata": {},
     "output_type": "display_data"
    },
    {
     "name": "stderr",
     "output_type": "stream",
     "text": [
      "\u001b[34m\u001b[1mwandb\u001b[0m: wandb version 0.12.11 is available!  To upgrade, please run:\n",
      "\u001b[34m\u001b[1mwandb\u001b[0m:  $ pip install wandb --upgrade\n"
     ]
    },
    {
     "data": {
      "text/html": [
       "\n",
       "                    Syncing run <strong><a href=\"https://wandb.ai/luiscostigan/house-price-prediction/runs/j0jbkoh7\" target=\"_blank\">unique-sweep-5</a></strong> to <a href=\"https://wandb.ai/luiscostigan/house-price-prediction\" target=\"_blank\">Weights & Biases</a> (<a href=\"https://docs.wandb.com/integrations/jupyter.html\" target=\"_blank\">docs</a>).<br/>\n",
       "Sweep page: <a href=\"https://wandb.ai/luiscostigan/house-price-prediction/sweeps/ru0ykkjf\" target=\"_blank\">https://wandb.ai/luiscostigan/house-price-prediction/sweeps/ru0ykkjf</a><br/>\n",
       "\n",
       "                "
      ],
      "text/plain": [
       "<IPython.core.display.HTML object>"
      ]
     },
     "metadata": {},
     "output_type": "display_data"
    },
    {
     "name": "stdout",
     "output_type": "stream",
     "text": [
      "37/37 [==============================] - 0s 1ms/step - loss: 645608064.0000 - root_mean_squared_error: 25408.8184\n",
      "Score for fold 4: loss of 645608064.0; root_mean_squared_error of 25408.818359375\n",
      "------------------------------------------------------------------------\n",
      "Score per fold\n",
      "------------------------------------------------------------------------\n",
      "> Fold 1 - Loss: 685209728.0 - RMSE: 26176.51171875%\n",
      "------------------------------------------------------------------------\n",
      "> Fold 2 - Loss: 644439808.0 - RMSE: 25385.818359375%\n",
      "------------------------------------------------------------------------\n",
      "> Fold 3 - Loss: 640744320.0 - RMSE: 25312.927734375%\n",
      "------------------------------------------------------------------------\n",
      "> Fold 4 - Loss: 645608064.0 - RMSE: 25408.818359375%\n",
      "------------------------------------------------------------------------\n",
      "Average scores for all folds:\n",
      "> RMSE: 25571.01904296875 (+- 351.3690577435086)\n",
      "> Loss: 654000480.0\n",
      "------------------------------------------------------------------------\n"
     ]
    },
    {
     "data": {
      "text/html": [
       "<br/>Waiting for W&B process to finish, PID 27278... <strong style=\"color:green\">(success).</strong>"
      ],
      "text/plain": [
       "<IPython.core.display.HTML object>"
      ]
     },
     "metadata": {},
     "output_type": "display_data"
    },
    {
     "data": {
      "application/vnd.jupyter.widget-view+json": {
       "model_id": "857d389f43424938ba9cdfaf35279c57",
       "version_major": 2,
       "version_minor": 0
      },
      "text/plain": [
       "VBox(children=(Label(value=' 1.70MB of 2.45MB uploaded (0.00MB deduped)\\r'), FloatProgress(value=0.69483428051…"
      ]
     },
     "metadata": {},
     "output_type": "display_data"
    },
    {
     "data": {
      "text/html": [
       "<style>\n",
       "    table.wandb td:nth-child(1) { padding: 0 10px; text-align: right }\n",
       "    .wandb-row { display: flex; flex-direction: row; flex-wrap: wrap; width: 100% }\n",
       "    .wandb-col { display: flex; flex-direction: column; flex-basis: 100%; flex: 1; padding: 10px; }\n",
       "    </style>\n",
       "<div class=\"wandb-row\"><div class=\"wandb-col\">\n",
       "<h3>Run history:</h3><br/><table class=\"wandb\"><tr><td>Mean Validation Loss (all folds)</td><td>▁</td></tr><tr><td>Mean Validation RMSE (all folds)</td><td>▁</td></tr><tr><td>epoch</td><td>▁▁▁▁▂▂▂▂▂▃▃▃▃▃▃▄▄▄▄▄▅▅▅▅▅▅▆▆▆▆▆▇▇▇▇▇▇███</td></tr><tr><td>loss</td><td>██▇▆▄▃▁▁▁▁▁▁▁▁▁▁▁▁▁▁▁▁▁▁▁▁▁▁▁▁▁▁▁▁▁▁▁▁▁▁</td></tr><tr><td>root_mean_squared_error</td><td>███▇▅▄▂▂▂▂▁▁▁▁▁▁▁▁▁▁▁▁▁▁▁▁▁▁▁▁▁▁▁▁▁▁▁▁▁▁</td></tr><tr><td>val_loss</td><td>██▇▆▄▃▁▁▁▁▁▁▁▁▁▁▁▁▁▁▁▁▁▁▁▁▁▁▁▁▁▁▁▁▁▁▁▁▁▁</td></tr><tr><td>val_root_mean_squared_error</td><td>██▇▇▅▄▂▂▂▂▁▁▁▁▁▁▁▁▁▁▁▁▁▁▁▁▁▁▁▁▁▁▁▁▁▁▁▁▁▁</td></tr></table><br/></div><div class=\"wandb-col\">\n",
       "<h3>Run summary:</h3><br/><table class=\"wandb\"><tr><td>Mean Validation Loss (all folds)</td><td>654000480.0</td></tr><tr><td>Mean Validation RMSE (all folds)</td><td>25571.01904</td></tr><tr><td>best_epoch</td><td>199</td></tr><tr><td>best_val_loss</td><td>645608064.0</td></tr><tr><td>epoch</td><td>199</td></tr><tr><td>loss</td><td>763765888.0</td></tr><tr><td>root_mean_squared_error</td><td>27636.31445</td></tr><tr><td>val_loss</td><td>645608064.0</td></tr><tr><td>val_root_mean_squared_error</td><td>25408.81836</td></tr></table>\n",
       "</div></div>\n",
       "Synced 5 W&B file(s), 0 media file(s), 0 artifact file(s) and 1 other file(s)\n",
       "<br/>Synced <strong style=\"color:#cdcd00\">unique-sweep-5</strong>: <a href=\"https://wandb.ai/luiscostigan/house-price-prediction/runs/j0jbkoh7\" target=\"_blank\">https://wandb.ai/luiscostigan/house-price-prediction/runs/j0jbkoh7</a><br/>\n",
       "Find logs at: <code>./wandb/run-20220302_033306-j0jbkoh7/logs</code><br/>\n"
      ],
      "text/plain": [
       "<IPython.core.display.HTML object>"
      ]
     },
     "metadata": {},
     "output_type": "display_data"
    },
    {
     "name": "stderr",
     "output_type": "stream",
     "text": [
      "\u001b[34m\u001b[1mwandb\u001b[0m: wandb version 0.12.11 is available!  To upgrade, please run:\n",
      "\u001b[34m\u001b[1mwandb\u001b[0m:  $ pip install wandb --upgrade\n"
     ]
    },
    {
     "data": {
      "text/html": [
       "\n",
       "                    Syncing run <strong><a href=\"https://wandb.ai/luiscostigan/house-price-prediction/runs/j0jbkoh7\" target=\"_blank\">unique-sweep-5</a></strong> to <a href=\"https://wandb.ai/luiscostigan/house-price-prediction\" target=\"_blank\">Weights & Biases</a> (<a href=\"https://docs.wandb.com/integrations/jupyter.html\" target=\"_blank\">docs</a>).<br/>\n",
       "Sweep page: <a href=\"https://wandb.ai/luiscostigan/house-price-prediction/sweeps/ru0ykkjf\" target=\"_blank\">https://wandb.ai/luiscostigan/house-price-prediction/sweeps/ru0ykkjf</a><br/>\n",
       "\n",
       "                "
      ],
      "text/plain": [
       "<IPython.core.display.HTML object>"
      ]
     },
     "metadata": {},
     "output_type": "display_data"
    },
    {
     "name": "stdout",
     "output_type": "stream",
     "text": [
      "37/37 [==============================] - 0s 2ms/step - loss: 646840640.0000 - root_mean_squared_error: 25433.0625\n",
      "Score for fold 5: loss of 646840640.0; root_mean_squared_error of 25433.0625\n",
      "------------------------------------------------------------------------\n",
      "Score per fold\n",
      "------------------------------------------------------------------------\n",
      "> Fold 1 - Loss: 685209728.0 - RMSE: 26176.51171875%\n",
      "------------------------------------------------------------------------\n",
      "> Fold 2 - Loss: 644439808.0 - RMSE: 25385.818359375%\n",
      "------------------------------------------------------------------------\n",
      "> Fold 3 - Loss: 640744320.0 - RMSE: 25312.927734375%\n",
      "------------------------------------------------------------------------\n",
      "> Fold 4 - Loss: 645608064.0 - RMSE: 25408.818359375%\n",
      "------------------------------------------------------------------------\n",
      "> Fold 5 - Loss: 646840640.0 - RMSE: 25433.0625%\n",
      "------------------------------------------------------------------------\n",
      "Average scores for all folds:\n",
      "> RMSE: 25543.427734375 (+- 319.08195347169203)\n",
      "> Loss: 652568512.0\n",
      "------------------------------------------------------------------------\n"
     ]
    },
    {
     "data": {
      "text/html": [
       "<br/>Waiting for W&B process to finish, PID 31385... <strong style=\"color:green\">(success).</strong>"
      ],
      "text/plain": [
       "<IPython.core.display.HTML object>"
      ]
     },
     "metadata": {},
     "output_type": "display_data"
    },
    {
     "data": {
      "application/vnd.jupyter.widget-view+json": {
       "model_id": "160b89bdd6704e8684aee769e852b71b",
       "version_major": 2,
       "version_minor": 0
      },
      "text/plain": [
       "VBox(children=(Label(value=' 1.94MB of 2.45MB uploaded (0.00MB deduped)\\r'), FloatProgress(value=0.79039882721…"
      ]
     },
     "metadata": {},
     "output_type": "display_data"
    },
    {
     "data": {
      "text/html": [
       "<style>\n",
       "    table.wandb td:nth-child(1) { padding: 0 10px; text-align: right }\n",
       "    .wandb-row { display: flex; flex-direction: row; flex-wrap: wrap; width: 100% }\n",
       "    .wandb-col { display: flex; flex-direction: column; flex-basis: 100%; flex: 1; padding: 10px; }\n",
       "    </style>\n",
       "<div class=\"wandb-row\"><div class=\"wandb-col\">\n",
       "<h3>Run history:</h3><br/><table class=\"wandb\"><tr><td>Mean Validation Loss (all folds)</td><td>▁</td></tr><tr><td>Mean Validation RMSE (all folds)</td><td>▁</td></tr><tr><td>epoch</td><td>▁▁▁▁▂▂▂▂▂▃▃▃▃▃▃▄▄▄▄▄▅▅▅▅▅▅▆▆▆▆▆▇▇▇▇▇▇███</td></tr><tr><td>loss</td><td>██▇▆▄▃▁▁▁▁▁▁▁▁▁▁▁▁▁▁▁▁▁▁▁▁▁▁▁▁▁▁▁▁▁▁▁▁▁▁</td></tr><tr><td>root_mean_squared_error</td><td>██▇▇▅▄▂▂▂▂▁▁▁▁▁▁▁▁▁▁▁▁▁▁▁▁▁▁▁▁▁▁▁▁▁▁▁▁▁▁</td></tr><tr><td>val_loss</td><td>██▇▆▄▂▁▁▁▁▁▁▁▁▁▁▁▁▁▁▁▁▁▁▁▁▁▁▁▁▁▁▁▁▁▁▁▁▁▁</td></tr><tr><td>val_root_mean_squared_error</td><td>██▇▇▅▄▂▂▂▂▁▁▁▁▁▁▁▁▁▁▁▁▁▁▁▁▁▁▁▁▁▁▁▁▁▁▁▁▁▁</td></tr></table><br/></div><div class=\"wandb-col\">\n",
       "<h3>Run summary:</h3><br/><table class=\"wandb\"><tr><td>Mean Validation Loss (all folds)</td><td>652568512.0</td></tr><tr><td>Mean Validation RMSE (all folds)</td><td>25543.42773</td></tr><tr><td>best_epoch</td><td>199</td></tr><tr><td>best_val_loss</td><td>646840640.0</td></tr><tr><td>epoch</td><td>199</td></tr><tr><td>loss</td><td>776939264.0</td></tr><tr><td>root_mean_squared_error</td><td>27873.63086</td></tr><tr><td>val_loss</td><td>646840640.0</td></tr><tr><td>val_root_mean_squared_error</td><td>25433.0625</td></tr></table>\n",
       "</div></div>\n",
       "Synced 5 W&B file(s), 0 media file(s), 0 artifact file(s) and 1 other file(s)\n",
       "<br/>Synced <strong style=\"color:#cdcd00\">unique-sweep-5</strong>: <a href=\"https://wandb.ai/luiscostigan/house-price-prediction/runs/j0jbkoh7\" target=\"_blank\">https://wandb.ai/luiscostigan/house-price-prediction/runs/j0jbkoh7</a><br/>\n",
       "Find logs at: <code>./wandb/run-20220302_033328-j0jbkoh7/logs</code><br/>\n"
      ],
      "text/plain": [
       "<IPython.core.display.HTML object>"
      ]
     },
     "metadata": {},
     "output_type": "display_data"
    },
    {
     "name": "stderr",
     "output_type": "stream",
     "text": [
      "\u001b[34m\u001b[1mwandb\u001b[0m: Agent Starting Run: 632fkgih with config:\n",
      "\u001b[34m\u001b[1mwandb\u001b[0m: \tbatch_size: 64\n",
      "\u001b[34m\u001b[1mwandb\u001b[0m: \tdropout1: 0.293682488572431\n",
      "\u001b[34m\u001b[1mwandb\u001b[0m: \tepochs: 30\n",
      "\u001b[34m\u001b[1mwandb\u001b[0m: wandb version 0.12.11 is available!  To upgrade, please run:\n",
      "\u001b[34m\u001b[1mwandb\u001b[0m:  $ pip install wandb --upgrade\n"
     ]
    },
    {
     "data": {
      "text/html": [
       "\n",
       "                    Syncing run <strong><a href=\"https://wandb.ai/luiscostigan/house-price-prediction/runs/632fkgih\" target=\"_blank\">rich-sweep-6</a></strong> to <a href=\"https://wandb.ai/luiscostigan/house-price-prediction\" target=\"_blank\">Weights & Biases</a> (<a href=\"https://docs.wandb.com/integrations/jupyter.html\" target=\"_blank\">docs</a>).<br/>\n",
       "Sweep page: <a href=\"https://wandb.ai/luiscostigan/house-price-prediction/sweeps/ru0ykkjf\" target=\"_blank\">https://wandb.ai/luiscostigan/house-price-prediction/sweeps/ru0ykkjf</a><br/>\n",
       "\n",
       "                "
      ],
      "text/plain": [
       "<IPython.core.display.HTML object>"
      ]
     },
     "metadata": {},
     "output_type": "display_data"
    },
    {
     "name": "stdout",
     "output_type": "stream",
     "text": [
      "37/37 [==============================] - 0s 1ms/step - loss: 813331584.0000 - root_mean_squared_error: 28518.9688\n",
      "Score for fold 1: loss of 813331584.0; root_mean_squared_error of 28518.96875\n",
      "------------------------------------------------------------------------\n",
      "Score per fold\n",
      "------------------------------------------------------------------------\n",
      "> Fold 1 - Loss: 813331584.0 - RMSE: 28518.96875%\n",
      "------------------------------------------------------------------------\n",
      "Average scores for all folds:\n",
      "> RMSE: 28518.96875 (+- 0.0)\n",
      "> Loss: 813331584.0\n",
      "------------------------------------------------------------------------\n"
     ]
    },
    {
     "data": {
      "text/html": [
       "<br/>Waiting for W&B process to finish, PID 3119... <strong style=\"color:green\">(success).</strong>"
      ],
      "text/plain": [
       "<IPython.core.display.HTML object>"
      ]
     },
     "metadata": {},
     "output_type": "display_data"
    },
    {
     "data": {
      "application/vnd.jupyter.widget-view+json": {
       "model_id": "14c5681c6b1f40c7af0a56a106a4583c",
       "version_major": 2,
       "version_minor": 0
      },
      "text/plain": [
       "VBox(children=(Label(value=' 1.23MB of 2.45MB uploaded (0.00MB deduped)\\r'), FloatProgress(value=0.50053838726…"
      ]
     },
     "metadata": {},
     "output_type": "display_data"
    },
    {
     "data": {
      "text/html": [
       "<style>\n",
       "    table.wandb td:nth-child(1) { padding: 0 10px; text-align: right }\n",
       "    .wandb-row { display: flex; flex-direction: row; flex-wrap: wrap; width: 100% }\n",
       "    .wandb-col { display: flex; flex-direction: column; flex-basis: 100%; flex: 1; padding: 10px; }\n",
       "    </style>\n",
       "<div class=\"wandb-row\"><div class=\"wandb-col\">\n",
       "<h3>Run history:</h3><br/><table class=\"wandb\"><tr><td>Mean Validation Loss (all folds)</td><td>▁</td></tr><tr><td>Mean Validation RMSE (all folds)</td><td>▁</td></tr><tr><td>epoch</td><td>▁▁▁▂▂▂▂▃▃▃▃▄▄▄▄▅▅▅▅▆▆▆▆▇▇▇▇███</td></tr><tr><td>loss</td><td>█▇▆▄▂▁▁▁▁▁▁▁▁▁▁▁▁▁▁▁▁▁▁▁▁▁▁▁▁▁</td></tr><tr><td>root_mean_squared_error</td><td>██▇▅▃▂▂▂▁▁▁▁▁▁▁▁▁▁▁▁▁▁▁▁▁▁▁▁▁▁</td></tr><tr><td>val_loss</td><td>█▇▅▃▁▁▁▁▁▁▁▁▁▁▁▁▁▁▁▁▁▁▁▁▁▁▁▁▁▁</td></tr><tr><td>val_root_mean_squared_error</td><td>█▇▆▄▂▂▂▁▁▁▁▁▁▁▁▁▁▁▁▁▁▁▁▁▁▁▁▁▁▁</td></tr></table><br/></div><div class=\"wandb-col\">\n",
       "<h3>Run summary:</h3><br/><table class=\"wandb\"><tr><td>Mean Validation Loss (all folds)</td><td>813331584.0</td></tr><tr><td>Mean Validation RMSE (all folds)</td><td>28518.96875</td></tr><tr><td>best_epoch</td><td>28</td></tr><tr><td>best_val_loss</td><td>798435840.0</td></tr><tr><td>epoch</td><td>29</td></tr><tr><td>loss</td><td>840424000.0</td></tr><tr><td>root_mean_squared_error</td><td>28990.06641</td></tr><tr><td>val_loss</td><td>813331648.0</td></tr><tr><td>val_root_mean_squared_error</td><td>28518.9707</td></tr></table>\n",
       "</div></div>\n",
       "Synced 5 W&B file(s), 0 media file(s), 0 artifact file(s) and 1 other file(s)\n",
       "<br/>Synced <strong style=\"color:#cdcd00\">rich-sweep-6</strong>: <a href=\"https://wandb.ai/luiscostigan/house-price-prediction/runs/632fkgih\" target=\"_blank\">https://wandb.ai/luiscostigan/house-price-prediction/runs/632fkgih</a><br/>\n",
       "Find logs at: <code>./wandb/run-20220302_033354-632fkgih/logs</code><br/>\n"
      ],
      "text/plain": [
       "<IPython.core.display.HTML object>"
      ]
     },
     "metadata": {},
     "output_type": "display_data"
    },
    {
     "name": "stderr",
     "output_type": "stream",
     "text": [
      "\u001b[34m\u001b[1mwandb\u001b[0m: wandb version 0.12.11 is available!  To upgrade, please run:\n",
      "\u001b[34m\u001b[1mwandb\u001b[0m:  $ pip install wandb --upgrade\n"
     ]
    },
    {
     "data": {
      "text/html": [
       "\n",
       "                    Syncing run <strong><a href=\"https://wandb.ai/luiscostigan/house-price-prediction/runs/632fkgih\" target=\"_blank\">rich-sweep-6</a></strong> to <a href=\"https://wandb.ai/luiscostigan/house-price-prediction\" target=\"_blank\">Weights & Biases</a> (<a href=\"https://docs.wandb.com/integrations/jupyter.html\" target=\"_blank\">docs</a>).<br/>\n",
       "Sweep page: <a href=\"https://wandb.ai/luiscostigan/house-price-prediction/sweeps/ru0ykkjf\" target=\"_blank\">https://wandb.ai/luiscostigan/house-price-prediction/sweeps/ru0ykkjf</a><br/>\n",
       "\n",
       "                "
      ],
      "text/plain": [
       "<IPython.core.display.HTML object>"
      ]
     },
     "metadata": {},
     "output_type": "display_data"
    },
    {
     "name": "stdout",
     "output_type": "stream",
     "text": [
      "37/37 [==============================] - 0s 2ms/step - loss: 812239808.0000 - root_mean_squared_error: 28499.8203\n",
      "Score for fold 2: loss of 812239808.0; root_mean_squared_error of 28499.8203125\n",
      "------------------------------------------------------------------------\n",
      "Score per fold\n",
      "------------------------------------------------------------------------\n",
      "> Fold 1 - Loss: 813331584.0 - RMSE: 28518.96875%\n",
      "------------------------------------------------------------------------\n",
      "> Fold 2 - Loss: 812239808.0 - RMSE: 28499.8203125%\n",
      "------------------------------------------------------------------------\n",
      "Average scores for all folds:\n",
      "> RMSE: 28509.39453125 (+- 9.57421875)\n",
      "> Loss: 812785696.0\n",
      "------------------------------------------------------------------------\n"
     ]
    },
    {
     "data": {
      "text/html": [
       "<br/>Waiting for W&B process to finish, PID 3909... <strong style=\"color:green\">(success).</strong>"
      ],
      "text/plain": [
       "<IPython.core.display.HTML object>"
      ]
     },
     "metadata": {},
     "output_type": "display_data"
    },
    {
     "data": {
      "application/vnd.jupyter.widget-view+json": {
       "model_id": "1a0b422ac3f54135887fe17794f0711c",
       "version_major": 2,
       "version_minor": 0
      },
      "text/plain": [
       "VBox(children=(Label(value=' 1.43MB of 2.45MB uploaded (0.00MB deduped)\\r'), FloatProgress(value=0.58334230935…"
      ]
     },
     "metadata": {},
     "output_type": "display_data"
    },
    {
     "data": {
      "text/html": [
       "<style>\n",
       "    table.wandb td:nth-child(1) { padding: 0 10px; text-align: right }\n",
       "    .wandb-row { display: flex; flex-direction: row; flex-wrap: wrap; width: 100% }\n",
       "    .wandb-col { display: flex; flex-direction: column; flex-basis: 100%; flex: 1; padding: 10px; }\n",
       "    </style>\n",
       "<div class=\"wandb-row\"><div class=\"wandb-col\">\n",
       "<h3>Run history:</h3><br/><table class=\"wandb\"><tr><td>Mean Validation Loss (all folds)</td><td>▁</td></tr><tr><td>Mean Validation RMSE (all folds)</td><td>▁</td></tr><tr><td>epoch</td><td>▁▁▁▂▂▂▂▃▃▃▃▄▄▄▄▅▅▅▅▆▆▆▆▇▇▇▇███</td></tr><tr><td>loss</td><td>██▆▄▂▁▁▁▁▁▁▁▁▁▁▁▁▁▁▁▁▁▁▁▁▁▁▁▁▁</td></tr><tr><td>root_mean_squared_error</td><td>██▇▅▄▂▂▂▁▁▁▁▁▁▁▁▁▁▁▁▁▁▁▁▁▁▁▁▁▁</td></tr><tr><td>val_loss</td><td>█▇▅▃▂▁▁▁▁▁▁▁▁▁▁▁▁▁▁▁▁▁▁▁▁▁▁▁▁▁</td></tr><tr><td>val_root_mean_squared_error</td><td>█▇▆▄▃▂▂▁▁▁▁▁▁▁▁▁▁▁▁▁▁▁▁▁▁▁▁▁▁▁</td></tr></table><br/></div><div class=\"wandb-col\">\n",
       "<h3>Run summary:</h3><br/><table class=\"wandb\"><tr><td>Mean Validation Loss (all folds)</td><td>812785696.0</td></tr><tr><td>Mean Validation RMSE (all folds)</td><td>28509.39453</td></tr><tr><td>best_epoch</td><td>27</td></tr><tr><td>best_val_loss</td><td>810548288.0</td></tr><tr><td>epoch</td><td>29</td></tr><tr><td>loss</td><td>881482816.0</td></tr><tr><td>root_mean_squared_error</td><td>29689.77539</td></tr><tr><td>val_loss</td><td>812239808.0</td></tr><tr><td>val_root_mean_squared_error</td><td>28499.82031</td></tr></table>\n",
       "</div></div>\n",
       "Synced 5 W&B file(s), 0 media file(s), 0 artifact file(s) and 1 other file(s)\n",
       "<br/>Synced <strong style=\"color:#cdcd00\">rich-sweep-6</strong>: <a href=\"https://wandb.ai/luiscostigan/house-price-prediction/runs/632fkgih\" target=\"_blank\">https://wandb.ai/luiscostigan/house-price-prediction/runs/632fkgih</a><br/>\n",
       "Find logs at: <code>./wandb/run-20220302_033407-632fkgih/logs</code><br/>\n"
      ],
      "text/plain": [
       "<IPython.core.display.HTML object>"
      ]
     },
     "metadata": {},
     "output_type": "display_data"
    },
    {
     "name": "stderr",
     "output_type": "stream",
     "text": [
      "\u001b[34m\u001b[1mwandb\u001b[0m: wandb version 0.12.11 is available!  To upgrade, please run:\n",
      "\u001b[34m\u001b[1mwandb\u001b[0m:  $ pip install wandb --upgrade\n"
     ]
    },
    {
     "data": {
      "text/html": [
       "\n",
       "                    Syncing run <strong><a href=\"https://wandb.ai/luiscostigan/house-price-prediction/runs/632fkgih\" target=\"_blank\">rich-sweep-6</a></strong> to <a href=\"https://wandb.ai/luiscostigan/house-price-prediction\" target=\"_blank\">Weights & Biases</a> (<a href=\"https://docs.wandb.com/integrations/jupyter.html\" target=\"_blank\">docs</a>).<br/>\n",
       "Sweep page: <a href=\"https://wandb.ai/luiscostigan/house-price-prediction/sweeps/ru0ykkjf\" target=\"_blank\">https://wandb.ai/luiscostigan/house-price-prediction/sweeps/ru0ykkjf</a><br/>\n",
       "\n",
       "                "
      ],
      "text/plain": [
       "<IPython.core.display.HTML object>"
      ]
     },
     "metadata": {},
     "output_type": "display_data"
    },
    {
     "name": "stdout",
     "output_type": "stream",
     "text": [
      "37/37 [==============================] - 0s 2ms/step - loss: 795851584.0000 - root_mean_squared_error: 28210.8418\n",
      "Score for fold 3: loss of 795851584.0; root_mean_squared_error of 28210.841796875\n",
      "------------------------------------------------------------------------\n",
      "Score per fold\n",
      "------------------------------------------------------------------------\n",
      "> Fold 1 - Loss: 813331584.0 - RMSE: 28518.96875%\n",
      "------------------------------------------------------------------------\n",
      "> Fold 2 - Loss: 812239808.0 - RMSE: 28499.8203125%\n",
      "------------------------------------------------------------------------\n",
      "> Fold 3 - Loss: 795851584.0 - RMSE: 28210.841796875%\n",
      "------------------------------------------------------------------------\n",
      "Average scores for all folds:\n",
      "> RMSE: 28409.876953125 (+- 140.95604688996565)\n",
      "> Loss: 807140992.0\n",
      "------------------------------------------------------------------------\n"
     ]
    },
    {
     "data": {
      "text/html": [
       "<br/>Waiting for W&B process to finish, PID 4689... <strong style=\"color:green\">(success).</strong>"
      ],
      "text/plain": [
       "<IPython.core.display.HTML object>"
      ]
     },
     "metadata": {},
     "output_type": "display_data"
    },
    {
     "data": {
      "application/vnd.jupyter.widget-view+json": {
       "model_id": "9029234d6425476484950ec44ad6d38e",
       "version_major": 2,
       "version_minor": 0
      },
      "text/plain": [
       "VBox(children=(Label(value=' 2.45MB of 2.45MB uploaded (0.00MB deduped)\\r'), FloatProgress(value=1.0, max=1.0)…"
      ]
     },
     "metadata": {},
     "output_type": "display_data"
    },
    {
     "data": {
      "text/html": [
       "<style>\n",
       "    table.wandb td:nth-child(1) { padding: 0 10px; text-align: right }\n",
       "    .wandb-row { display: flex; flex-direction: row; flex-wrap: wrap; width: 100% }\n",
       "    .wandb-col { display: flex; flex-direction: column; flex-basis: 100%; flex: 1; padding: 10px; }\n",
       "    </style>\n",
       "<div class=\"wandb-row\"><div class=\"wandb-col\">\n",
       "<h3>Run history:</h3><br/><table class=\"wandb\"><tr><td>Mean Validation Loss (all folds)</td><td>▁</td></tr><tr><td>Mean Validation RMSE (all folds)</td><td>▁</td></tr><tr><td>epoch</td><td>▁▁▁▂▂▂▂▃▃▃▃▄▄▄▄▅▅▅▅▆▆▆▆▇▇▇▇███</td></tr><tr><td>loss</td><td>██▆▄▂▁▁▁▁▁▁▁▁▁▁▁▁▁▁▁▁▁▁▁▁▁▁▁▁▁</td></tr><tr><td>root_mean_squared_error</td><td>██▇▆▄▂▂▂▁▁▁▁▁▁▁▁▁▁▁▁▁▁▁▁▁▁▁▁▁▁</td></tr><tr><td>val_loss</td><td>█▇▅▃▂▁▁▁▁▁▁▁▁▁▁▁▁▁▁▁▁▁▁▁▁▁▁▁▁▁</td></tr><tr><td>val_root_mean_squared_error</td><td>██▆▅▂▂▂▁▁▁▁▁▁▁▁▁▁▁▁▁▁▁▁▁▁▁▁▁▁▁</td></tr></table><br/></div><div class=\"wandb-col\">\n",
       "<h3>Run summary:</h3><br/><table class=\"wandb\"><tr><td>Mean Validation Loss (all folds)</td><td>807140992.0</td></tr><tr><td>Mean Validation RMSE (all folds)</td><td>28409.87695</td></tr><tr><td>best_epoch</td><td>29</td></tr><tr><td>best_val_loss</td><td>795851520.0</td></tr><tr><td>epoch</td><td>29</td></tr><tr><td>loss</td><td>857964288.0</td></tr><tr><td>root_mean_squared_error</td><td>29291.02734</td></tr><tr><td>val_loss</td><td>795851520.0</td></tr><tr><td>val_root_mean_squared_error</td><td>28210.83984</td></tr></table>\n",
       "</div></div>\n",
       "Synced 5 W&B file(s), 0 media file(s), 0 artifact file(s) and 1 other file(s)\n",
       "<br/>Synced <strong style=\"color:#cdcd00\">rich-sweep-6</strong>: <a href=\"https://wandb.ai/luiscostigan/house-price-prediction/runs/632fkgih\" target=\"_blank\">https://wandb.ai/luiscostigan/house-price-prediction/runs/632fkgih</a><br/>\n",
       "Find logs at: <code>./wandb/run-20220302_033420-632fkgih/logs</code><br/>\n"
      ],
      "text/plain": [
       "<IPython.core.display.HTML object>"
      ]
     },
     "metadata": {},
     "output_type": "display_data"
    },
    {
     "name": "stderr",
     "output_type": "stream",
     "text": [
      "\u001b[34m\u001b[1mwandb\u001b[0m: wandb version 0.12.11 is available!  To upgrade, please run:\n",
      "\u001b[34m\u001b[1mwandb\u001b[0m:  $ pip install wandb --upgrade\n"
     ]
    },
    {
     "data": {
      "text/html": [
       "\n",
       "                    Syncing run <strong><a href=\"https://wandb.ai/luiscostigan/house-price-prediction/runs/632fkgih\" target=\"_blank\">rich-sweep-6</a></strong> to <a href=\"https://wandb.ai/luiscostigan/house-price-prediction\" target=\"_blank\">Weights & Biases</a> (<a href=\"https://docs.wandb.com/integrations/jupyter.html\" target=\"_blank\">docs</a>).<br/>\n",
       "Sweep page: <a href=\"https://wandb.ai/luiscostigan/house-price-prediction/sweeps/ru0ykkjf\" target=\"_blank\">https://wandb.ai/luiscostigan/house-price-prediction/sweeps/ru0ykkjf</a><br/>\n",
       "\n",
       "                "
      ],
      "text/plain": [
       "<IPython.core.display.HTML object>"
      ]
     },
     "metadata": {},
     "output_type": "display_data"
    },
    {
     "name": "stdout",
     "output_type": "stream",
     "text": [
      "37/37 [==============================] - 0s 2ms/step - loss: 791057088.0000 - root_mean_squared_error: 28125.7363\n",
      "Score for fold 4: loss of 791057088.0; root_mean_squared_error of 28125.736328125\n",
      "------------------------------------------------------------------------\n",
      "Score per fold\n",
      "------------------------------------------------------------------------\n",
      "> Fold 1 - Loss: 813331584.0 - RMSE: 28518.96875%\n",
      "------------------------------------------------------------------------\n",
      "> Fold 2 - Loss: 812239808.0 - RMSE: 28499.8203125%\n",
      "------------------------------------------------------------------------\n",
      "> Fold 3 - Loss: 795851584.0 - RMSE: 28210.841796875%\n",
      "------------------------------------------------------------------------\n",
      "> Fold 4 - Loss: 791057088.0 - RMSE: 28125.736328125%\n",
      "------------------------------------------------------------------------\n",
      "Average scores for all folds:\n",
      "> RMSE: 28338.841796875 (+- 173.31888424669825)\n",
      "> Loss: 803120016.0\n",
      "------------------------------------------------------------------------\n"
     ]
    },
    {
     "data": {
      "text/html": [
       "<br/>Waiting for W&B process to finish, PID 5482... <strong style=\"color:green\">(success).</strong>"
      ],
      "text/plain": [
       "<IPython.core.display.HTML object>"
      ]
     },
     "metadata": {},
     "output_type": "display_data"
    },
    {
     "data": {
      "application/vnd.jupyter.widget-view+json": {
       "model_id": "86b5029f847b44698961bada2adf1770",
       "version_major": 2,
       "version_minor": 0
      },
      "text/plain": [
       "VBox(children=(Label(value=' 1.60MB of 2.45MB uploaded (0.00MB deduped)\\r'), FloatProgress(value=0.65342297694…"
      ]
     },
     "metadata": {},
     "output_type": "display_data"
    },
    {
     "data": {
      "text/html": [
       "<style>\n",
       "    table.wandb td:nth-child(1) { padding: 0 10px; text-align: right }\n",
       "    .wandb-row { display: flex; flex-direction: row; flex-wrap: wrap; width: 100% }\n",
       "    .wandb-col { display: flex; flex-direction: column; flex-basis: 100%; flex: 1; padding: 10px; }\n",
       "    </style>\n",
       "<div class=\"wandb-row\"><div class=\"wandb-col\">\n",
       "<h3>Run history:</h3><br/><table class=\"wandb\"><tr><td>Mean Validation Loss (all folds)</td><td>▁</td></tr><tr><td>Mean Validation RMSE (all folds)</td><td>▁</td></tr><tr><td>epoch</td><td>▁▁▁▂▂▂▂▃▃▃▃▄▄▄▄▅▅▅▅▆▆▆▆▇▇▇▇███</td></tr><tr><td>loss</td><td>██▆▄▂▁▁▁▁▁▁▁▁▁▁▁▁▁▁▁▁▁▁▁▁▁▁▁▁▁</td></tr><tr><td>root_mean_squared_error</td><td>██▇▅▃▂▂▂▁▁▁▁▁▁▁▁▁▁▁▁▁▁▁▁▁▁▁▁▁▁</td></tr><tr><td>val_loss</td><td>█▇▅▃▂▁▁▁▁▁▁▁▁▁▁▁▁▁▁▁▁▁▁▁▁▁▁▁▁▁</td></tr><tr><td>val_root_mean_squared_error</td><td>█▇▆▄▂▂▂▁▁▁▁▁▁▁▁▁▁▁▁▁▁▁▁▁▁▁▁▁▁▁</td></tr></table><br/></div><div class=\"wandb-col\">\n",
       "<h3>Run summary:</h3><br/><table class=\"wandb\"><tr><td>Mean Validation Loss (all folds)</td><td>803120016.0</td></tr><tr><td>Mean Validation RMSE (all folds)</td><td>28338.8418</td></tr><tr><td>best_epoch</td><td>29</td></tr><tr><td>best_val_loss</td><td>791057088.0</td></tr><tr><td>epoch</td><td>29</td></tr><tr><td>loss</td><td>870434176.0</td></tr><tr><td>root_mean_squared_error</td><td>29503.12109</td></tr><tr><td>val_loss</td><td>791057088.0</td></tr><tr><td>val_root_mean_squared_error</td><td>28125.73633</td></tr></table>\n",
       "</div></div>\n",
       "Synced 5 W&B file(s), 0 media file(s), 0 artifact file(s) and 1 other file(s)\n",
       "<br/>Synced <strong style=\"color:#cdcd00\">rich-sweep-6</strong>: <a href=\"https://wandb.ai/luiscostigan/house-price-prediction/runs/632fkgih\" target=\"_blank\">https://wandb.ai/luiscostigan/house-price-prediction/runs/632fkgih</a><br/>\n",
       "Find logs at: <code>./wandb/run-20220302_033433-632fkgih/logs</code><br/>\n"
      ],
      "text/plain": [
       "<IPython.core.display.HTML object>"
      ]
     },
     "metadata": {},
     "output_type": "display_data"
    },
    {
     "name": "stderr",
     "output_type": "stream",
     "text": [
      "\u001b[34m\u001b[1mwandb\u001b[0m: wandb version 0.12.11 is available!  To upgrade, please run:\n",
      "\u001b[34m\u001b[1mwandb\u001b[0m:  $ pip install wandb --upgrade\n"
     ]
    },
    {
     "data": {
      "text/html": [
       "\n",
       "                    Syncing run <strong><a href=\"https://wandb.ai/luiscostigan/house-price-prediction/runs/632fkgih\" target=\"_blank\">rich-sweep-6</a></strong> to <a href=\"https://wandb.ai/luiscostigan/house-price-prediction\" target=\"_blank\">Weights & Biases</a> (<a href=\"https://docs.wandb.com/integrations/jupyter.html\" target=\"_blank\">docs</a>).<br/>\n",
       "Sweep page: <a href=\"https://wandb.ai/luiscostigan/house-price-prediction/sweeps/ru0ykkjf\" target=\"_blank\">https://wandb.ai/luiscostigan/house-price-prediction/sweeps/ru0ykkjf</a><br/>\n",
       "\n",
       "                "
      ],
      "text/plain": [
       "<IPython.core.display.HTML object>"
      ]
     },
     "metadata": {},
     "output_type": "display_data"
    },
    {
     "name": "stdout",
     "output_type": "stream",
     "text": [
      "37/37 [==============================] - 0s 2ms/step - loss: 953088256.0000 - root_mean_squared_error: 30872.1270\n",
      "Score for fold 5: loss of 953088256.0; root_mean_squared_error of 30872.126953125\n",
      "------------------------------------------------------------------------\n",
      "Score per fold\n",
      "------------------------------------------------------------------------\n",
      "> Fold 1 - Loss: 813331584.0 - RMSE: 28518.96875%\n",
      "------------------------------------------------------------------------\n",
      "> Fold 2 - Loss: 812239808.0 - RMSE: 28499.8203125%\n",
      "------------------------------------------------------------------------\n",
      "> Fold 3 - Loss: 795851584.0 - RMSE: 28210.841796875%\n",
      "------------------------------------------------------------------------\n",
      "> Fold 4 - Loss: 791057088.0 - RMSE: 28125.736328125%\n",
      "------------------------------------------------------------------------\n",
      "> Fold 5 - Loss: 953088256.0 - RMSE: 30872.126953125%\n",
      "------------------------------------------------------------------------\n",
      "Average scores for all folds:\n",
      "> RMSE: 28845.498828125 (+- 1025.103379064507)\n",
      "> Loss: 833113664.0\n",
      "------------------------------------------------------------------------\n"
     ]
    },
    {
     "data": {
      "text/html": [
       "<br/>Waiting for W&B process to finish, PID 6278... <strong style=\"color:green\">(success).</strong>"
      ],
      "text/plain": [
       "<IPython.core.display.HTML object>"
      ]
     },
     "metadata": {},
     "output_type": "display_data"
    },
    {
     "data": {
      "application/vnd.jupyter.widget-view+json": {
       "model_id": "003d048c875d42f0a5ebd72d7f2cad15",
       "version_major": 2,
       "version_minor": 0
      },
      "text/plain": [
       "VBox(children=(Label(value=' 1.95MB of 2.45MB uploaded (0.00MB deduped)\\r'), FloatProgress(value=0.79358431210…"
      ]
     },
     "metadata": {},
     "output_type": "display_data"
    },
    {
     "data": {
      "text/html": [
       "<style>\n",
       "    table.wandb td:nth-child(1) { padding: 0 10px; text-align: right }\n",
       "    .wandb-row { display: flex; flex-direction: row; flex-wrap: wrap; width: 100% }\n",
       "    .wandb-col { display: flex; flex-direction: column; flex-basis: 100%; flex: 1; padding: 10px; }\n",
       "    </style>\n",
       "<div class=\"wandb-row\"><div class=\"wandb-col\">\n",
       "<h3>Run history:</h3><br/><table class=\"wandb\"><tr><td>Mean Validation Loss (all folds)</td><td>▁</td></tr><tr><td>Mean Validation RMSE (all folds)</td><td>▁</td></tr><tr><td>epoch</td><td>▁▁▁▂▂▂▂▃▃▃▃▄▄▄▄▅▅▅▅▆▆▆▆▇▇▇▇███</td></tr><tr><td>loss</td><td>██▆▄▂▁▁▁▁▁▁▁▁▁▁▁▁▁▁▁▁▁▁▁▁▁▁▁▁▁</td></tr><tr><td>root_mean_squared_error</td><td>██▇▅▃▂▂▂▁▁▁▁▁▁▁▁▁▁▁▁▁▁▁▁▁▁▁▁▁▁</td></tr><tr><td>val_loss</td><td>█▇▅▃▂▁▁▁▁▁▁▁▁▁▁▁▁▁▁▁▁▁▁▁▁▁▁▁▁▁</td></tr><tr><td>val_root_mean_squared_error</td><td>█▇▆▄▂▂▂▁▁▁▁▁▁▁▁▁▁▁▁▁▁▁▁▁▁▁▁▁▁▁</td></tr></table><br/></div><div class=\"wandb-col\">\n",
       "<h3>Run summary:</h3><br/><table class=\"wandb\"><tr><td>Mean Validation Loss (all folds)</td><td>833113664.0</td></tr><tr><td>Mean Validation RMSE (all folds)</td><td>28845.49883</td></tr><tr><td>best_epoch</td><td>27</td></tr><tr><td>best_val_loss</td><td>814777920.0</td></tr><tr><td>epoch</td><td>29</td></tr><tr><td>loss</td><td>878918528.0</td></tr><tr><td>root_mean_squared_error</td><td>29646.56055</td></tr><tr><td>val_loss</td><td>953088448.0</td></tr><tr><td>val_root_mean_squared_error</td><td>30872.13086</td></tr></table>\n",
       "</div></div>\n",
       "Synced 5 W&B file(s), 0 media file(s), 0 artifact file(s) and 1 other file(s)\n",
       "<br/>Synced <strong style=\"color:#cdcd00\">rich-sweep-6</strong>: <a href=\"https://wandb.ai/luiscostigan/house-price-prediction/runs/632fkgih\" target=\"_blank\">https://wandb.ai/luiscostigan/house-price-prediction/runs/632fkgih</a><br/>\n",
       "Find logs at: <code>./wandb/run-20220302_033448-632fkgih/logs</code><br/>\n"
      ],
      "text/plain": [
       "<IPython.core.display.HTML object>"
      ]
     },
     "metadata": {},
     "output_type": "display_data"
    },
    {
     "name": "stderr",
     "output_type": "stream",
     "text": [
      "\u001b[34m\u001b[1mwandb\u001b[0m: Sweep Agent: Waiting for job.\n",
      "\u001b[34m\u001b[1mwandb\u001b[0m: Job received.\n",
      "\u001b[34m\u001b[1mwandb\u001b[0m: Agent Starting Run: rot4xsbj with config:\n",
      "\u001b[34m\u001b[1mwandb\u001b[0m: \tbatch_size: 128\n",
      "\u001b[34m\u001b[1mwandb\u001b[0m: \tdropout1: 0.3393707319442158\n",
      "\u001b[34m\u001b[1mwandb\u001b[0m: \tepochs: 50\n",
      "\u001b[34m\u001b[1mwandb\u001b[0m: wandb version 0.12.11 is available!  To upgrade, please run:\n",
      "\u001b[34m\u001b[1mwandb\u001b[0m:  $ pip install wandb --upgrade\n"
     ]
    },
    {
     "data": {
      "text/html": [
       "\n",
       "                    Syncing run <strong><a href=\"https://wandb.ai/luiscostigan/house-price-prediction/runs/rot4xsbj\" target=\"_blank\">amber-sweep-7</a></strong> to <a href=\"https://wandb.ai/luiscostigan/house-price-prediction\" target=\"_blank\">Weights & Biases</a> (<a href=\"https://docs.wandb.com/integrations/jupyter.html\" target=\"_blank\">docs</a>).<br/>\n",
       "Sweep page: <a href=\"https://wandb.ai/luiscostigan/house-price-prediction/sweeps/ru0ykkjf\" target=\"_blank\">https://wandb.ai/luiscostigan/house-price-prediction/sweeps/ru0ykkjf</a><br/>\n",
       "\n",
       "                "
      ],
      "text/plain": [
       "<IPython.core.display.HTML object>"
      ]
     },
     "metadata": {},
     "output_type": "display_data"
    },
    {
     "name": "stdout",
     "output_type": "stream",
     "text": [
      "37/37 [==============================] - 0s 1ms/step - loss: 809700672.0000 - root_mean_squared_error: 28455.2402\n",
      "Score for fold 1: loss of 809700672.0; root_mean_squared_error of 28455.240234375\n",
      "------------------------------------------------------------------------\n",
      "Score per fold\n",
      "------------------------------------------------------------------------\n",
      "> Fold 1 - Loss: 809700672.0 - RMSE: 28455.240234375%\n",
      "------------------------------------------------------------------------\n",
      "Average scores for all folds:\n",
      "> RMSE: 28455.240234375 (+- 0.0)\n",
      "> Loss: 809700672.0\n",
      "------------------------------------------------------------------------\n"
     ]
    },
    {
     "data": {
      "text/html": [
       "<br/>Waiting for W&B process to finish, PID 7169... <strong style=\"color:green\">(success).</strong>"
      ],
      "text/plain": [
       "<IPython.core.display.HTML object>"
      ]
     },
     "metadata": {},
     "output_type": "display_data"
    },
    {
     "data": {
      "application/vnd.jupyter.widget-view+json": {
       "model_id": "1d56d6efb873494b971c9718f53c13b8",
       "version_major": 2,
       "version_minor": 0
      },
      "text/plain": [
       "VBox(children=(Label(value=' 1.70MB of 2.45MB uploaded (0.00MB deduped)\\r'), FloatProgress(value=0.69486021957…"
      ]
     },
     "metadata": {},
     "output_type": "display_data"
    },
    {
     "data": {
      "text/html": [
       "<style>\n",
       "    table.wandb td:nth-child(1) { padding: 0 10px; text-align: right }\n",
       "    .wandb-row { display: flex; flex-direction: row; flex-wrap: wrap; width: 100% }\n",
       "    .wandb-col { display: flex; flex-direction: column; flex-basis: 100%; flex: 1; padding: 10px; }\n",
       "    </style>\n",
       "<div class=\"wandb-row\"><div class=\"wandb-col\">\n",
       "<h3>Run history:</h3><br/><table class=\"wandb\"><tr><td>Mean Validation Loss (all folds)</td><td>▁</td></tr><tr><td>Mean Validation RMSE (all folds)</td><td>▁</td></tr><tr><td>epoch</td><td>▁▁▁▁▂▂▂▂▂▃▃▃▃▃▃▄▄▄▄▄▅▅▅▅▅▅▆▆▆▆▆▆▇▇▇▇▇███</td></tr><tr><td>loss</td><td>███▇▅▄▃▂▁▁▁▁▁▁▁▁▁▁▁▁▁▁▁▁▁▁▁▁▁▁▁▁▁▁▁▁▁▁▁▁</td></tr><tr><td>root_mean_squared_error</td><td>████▆▅▄▃▂▂▂▂▁▁▁▁▁▁▁▁▁▁▁▁▁▁▁▁▁▁▁▁▁▁▁▁▁▁▁▁</td></tr><tr><td>val_loss</td><td>██▇▇▅▄▂▂▁▁▁▁▁▁▁▁▁▁▁▁▁▁▁▁▁▁▁▁▁▁▁▁▁▁▁▁▁▁▁▁</td></tr><tr><td>val_root_mean_squared_error</td><td>███▇▆▅▄▃▂▂▂▁▁▁▁▁▁▁▁▁▁▁▁▁▁▁▁▁▁▁▁▁▁▁▁▁▁▁▁▁</td></tr></table><br/></div><div class=\"wandb-col\">\n",
       "<h3>Run summary:</h3><br/><table class=\"wandb\"><tr><td>Mean Validation Loss (all folds)</td><td>809700672.0</td></tr><tr><td>Mean Validation RMSE (all folds)</td><td>28455.24023</td></tr><tr><td>best_epoch</td><td>47</td></tr><tr><td>best_val_loss</td><td>781119808.0</td></tr><tr><td>epoch</td><td>49</td></tr><tr><td>loss</td><td>810602176.0</td></tr><tr><td>root_mean_squared_error</td><td>28471.07617</td></tr><tr><td>val_loss</td><td>809700672.0</td></tr><tr><td>val_root_mean_squared_error</td><td>28455.24023</td></tr></table>\n",
       "</div></div>\n",
       "Synced 5 W&B file(s), 0 media file(s), 0 artifact file(s) and 1 other file(s)\n",
       "<br/>Synced <strong style=\"color:#cdcd00\">amber-sweep-7</strong>: <a href=\"https://wandb.ai/luiscostigan/house-price-prediction/runs/rot4xsbj\" target=\"_blank\">https://wandb.ai/luiscostigan/house-price-prediction/runs/rot4xsbj</a><br/>\n",
       "Find logs at: <code>./wandb/run-20220302_033512-rot4xsbj/logs</code><br/>\n"
      ],
      "text/plain": [
       "<IPython.core.display.HTML object>"
      ]
     },
     "metadata": {},
     "output_type": "display_data"
    },
    {
     "name": "stderr",
     "output_type": "stream",
     "text": [
      "\u001b[34m\u001b[1mwandb\u001b[0m: wandb version 0.12.11 is available!  To upgrade, please run:\n",
      "\u001b[34m\u001b[1mwandb\u001b[0m:  $ pip install wandb --upgrade\n"
     ]
    },
    {
     "data": {
      "text/html": [
       "\n",
       "                    Syncing run <strong><a href=\"https://wandb.ai/luiscostigan/house-price-prediction/runs/rot4xsbj\" target=\"_blank\">amber-sweep-7</a></strong> to <a href=\"https://wandb.ai/luiscostigan/house-price-prediction\" target=\"_blank\">Weights & Biases</a> (<a href=\"https://docs.wandb.com/integrations/jupyter.html\" target=\"_blank\">docs</a>).<br/>\n",
       "Sweep page: <a href=\"https://wandb.ai/luiscostigan/house-price-prediction/sweeps/ru0ykkjf\" target=\"_blank\">https://wandb.ai/luiscostigan/house-price-prediction/sweeps/ru0ykkjf</a><br/>\n",
       "\n",
       "                "
      ],
      "text/plain": [
       "<IPython.core.display.HTML object>"
      ]
     },
     "metadata": {},
     "output_type": "display_data"
    },
    {
     "name": "stdout",
     "output_type": "stream",
     "text": [
      "37/37 [==============================] - 0s 1ms/step - loss: 771160960.0000 - root_mean_squared_error: 27769.7852\n",
      "Score for fold 2: loss of 771160960.0; root_mean_squared_error of 27769.78515625\n",
      "------------------------------------------------------------------------\n",
      "Score per fold\n",
      "------------------------------------------------------------------------\n",
      "> Fold 1 - Loss: 809700672.0 - RMSE: 28455.240234375%\n",
      "------------------------------------------------------------------------\n",
      "> Fold 2 - Loss: 771160960.0 - RMSE: 27769.78515625%\n",
      "------------------------------------------------------------------------\n",
      "Average scores for all folds:\n",
      "> RMSE: 28112.5126953125 (+- 342.7275390625)\n",
      "> Loss: 790430816.0\n",
      "------------------------------------------------------------------------\n"
     ]
    },
    {
     "data": {
      "text/html": [
       "<br/>Waiting for W&B process to finish, PID 8338... <strong style=\"color:green\">(success).</strong>"
      ],
      "text/plain": [
       "<IPython.core.display.HTML object>"
      ]
     },
     "metadata": {},
     "output_type": "display_data"
    },
    {
     "data": {
      "application/vnd.jupyter.widget-view+json": {
       "model_id": "19f9c8912e634bfa89e01892395fa114",
       "version_major": 2,
       "version_minor": 0
      },
      "text/plain": [
       "VBox(children=(Label(value=' 1.95MB of 2.45MB uploaded (0.00MB deduped)\\r'), FloatProgress(value=0.79676979699…"
      ]
     },
     "metadata": {},
     "output_type": "display_data"
    },
    {
     "data": {
      "text/html": [
       "<style>\n",
       "    table.wandb td:nth-child(1) { padding: 0 10px; text-align: right }\n",
       "    .wandb-row { display: flex; flex-direction: row; flex-wrap: wrap; width: 100% }\n",
       "    .wandb-col { display: flex; flex-direction: column; flex-basis: 100%; flex: 1; padding: 10px; }\n",
       "    </style>\n",
       "<div class=\"wandb-row\"><div class=\"wandb-col\">\n",
       "<h3>Run history:</h3><br/><table class=\"wandb\"><tr><td>Mean Validation Loss (all folds)</td><td>▁</td></tr><tr><td>Mean Validation RMSE (all folds)</td><td>▁</td></tr><tr><td>epoch</td><td>▁▁▁▁▂▂▂▂▂▃▃▃▃▃▃▄▄▄▄▄▅▅▅▅▅▅▆▆▆▆▆▆▇▇▇▇▇███</td></tr><tr><td>loss</td><td>███▇▅▄▃▂▁▁▁▁▁▁▁▁▁▁▁▁▁▁▁▁▁▁▁▁▁▁▁▁▁▁▁▁▁▁▁▁</td></tr><tr><td>root_mean_squared_error</td><td>████▆▅▄▃▂▂▂▂▁▁▁▁▁▁▁▁▁▁▁▁▁▁▁▁▁▁▁▁▁▁▁▁▁▁▁▁</td></tr><tr><td>val_loss</td><td>██▇▇▅▄▂▂▁▁▁▁▁▁▁▁▁▁▁▁▁▁▁▁▁▁▁▁▁▁▁▁▁▁▁▁▁▁▁▁</td></tr><tr><td>val_root_mean_squared_error</td><td>███▇▆▅▄▃▂▂▂▂▁▁▁▁▁▁▁▁▁▁▁▁▁▁▁▁▁▁▁▁▁▁▁▁▁▁▁▁</td></tr></table><br/></div><div class=\"wandb-col\">\n",
       "<h3>Run summary:</h3><br/><table class=\"wandb\"><tr><td>Mean Validation Loss (all folds)</td><td>790430816.0</td></tr><tr><td>Mean Validation RMSE (all folds)</td><td>28112.5127</td></tr><tr><td>best_epoch</td><td>49</td></tr><tr><td>best_val_loss</td><td>771161024.0</td></tr><tr><td>epoch</td><td>49</td></tr><tr><td>loss</td><td>849535680.0</td></tr><tr><td>root_mean_squared_error</td><td>29146.79492</td></tr><tr><td>val_loss</td><td>771161024.0</td></tr><tr><td>val_root_mean_squared_error</td><td>27769.78711</td></tr></table>\n",
       "</div></div>\n",
       "Synced 5 W&B file(s), 0 media file(s), 0 artifact file(s) and 1 other file(s)\n",
       "<br/>Synced <strong style=\"color:#cdcd00\">amber-sweep-7</strong>: <a href=\"https://wandb.ai/luiscostigan/house-price-prediction/runs/rot4xsbj\" target=\"_blank\">https://wandb.ai/luiscostigan/house-price-prediction/runs/rot4xsbj</a><br/>\n",
       "Find logs at: <code>./wandb/run-20220302_033526-rot4xsbj/logs</code><br/>\n"
      ],
      "text/plain": [
       "<IPython.core.display.HTML object>"
      ]
     },
     "metadata": {},
     "output_type": "display_data"
    },
    {
     "name": "stderr",
     "output_type": "stream",
     "text": [
      "\u001b[34m\u001b[1mwandb\u001b[0m: wandb version 0.12.11 is available!  To upgrade, please run:\n",
      "\u001b[34m\u001b[1mwandb\u001b[0m:  $ pip install wandb --upgrade\n"
     ]
    },
    {
     "data": {
      "text/html": [
       "\n",
       "                    Syncing run <strong><a href=\"https://wandb.ai/luiscostigan/house-price-prediction/runs/rot4xsbj\" target=\"_blank\">amber-sweep-7</a></strong> to <a href=\"https://wandb.ai/luiscostigan/house-price-prediction\" target=\"_blank\">Weights & Biases</a> (<a href=\"https://docs.wandb.com/integrations/jupyter.html\" target=\"_blank\">docs</a>).<br/>\n",
       "Sweep page: <a href=\"https://wandb.ai/luiscostigan/house-price-prediction/sweeps/ru0ykkjf\" target=\"_blank\">https://wandb.ai/luiscostigan/house-price-prediction/sweeps/ru0ykkjf</a><br/>\n",
       "\n",
       "                "
      ],
      "text/plain": [
       "<IPython.core.display.HTML object>"
      ]
     },
     "metadata": {},
     "output_type": "display_data"
    },
    {
     "name": "stdout",
     "output_type": "stream",
     "text": [
      "37/37 [==============================] - 0s 1ms/step - loss: 787146368.0000 - root_mean_squared_error: 28056.1289\n",
      "Score for fold 3: loss of 787146368.0; root_mean_squared_error of 28056.12890625\n",
      "------------------------------------------------------------------------\n",
      "Score per fold\n",
      "------------------------------------------------------------------------\n",
      "> Fold 1 - Loss: 809700672.0 - RMSE: 28455.240234375%\n",
      "------------------------------------------------------------------------\n",
      "> Fold 2 - Loss: 771160960.0 - RMSE: 27769.78515625%\n",
      "------------------------------------------------------------------------\n",
      "> Fold 3 - Loss: 787146368.0 - RMSE: 28056.12890625%\n",
      "------------------------------------------------------------------------\n",
      "Average scores for all folds:\n",
      "> RMSE: 28093.718098958332 (+- 281.0953297230741)\n",
      "> Loss: 789336000.0\n",
      "------------------------------------------------------------------------\n"
     ]
    },
    {
     "data": {
      "text/html": [
       "<br/>Waiting for W&B process to finish, PID 9535... <strong style=\"color:green\">(success).</strong>"
      ],
      "text/plain": [
       "<IPython.core.display.HTML object>"
      ]
     },
     "metadata": {},
     "output_type": "display_data"
    },
    {
     "data": {
      "application/vnd.jupyter.widget-view+json": {
       "model_id": "fed0578fa4c348f3b6fc877244335129",
       "version_major": 2,
       "version_minor": 0
      },
      "text/plain": [
       "VBox(children=(Label(value=' 2.45MB of 2.45MB uploaded (0.00MB deduped)\\r'), FloatProgress(value=1.0, max=1.0)…"
      ]
     },
     "metadata": {},
     "output_type": "display_data"
    },
    {
     "data": {
      "text/html": [
       "<style>\n",
       "    table.wandb td:nth-child(1) { padding: 0 10px; text-align: right }\n",
       "    .wandb-row { display: flex; flex-direction: row; flex-wrap: wrap; width: 100% }\n",
       "    .wandb-col { display: flex; flex-direction: column; flex-basis: 100%; flex: 1; padding: 10px; }\n",
       "    </style>\n",
       "<div class=\"wandb-row\"><div class=\"wandb-col\">\n",
       "<h3>Run history:</h3><br/><table class=\"wandb\"><tr><td>Mean Validation Loss (all folds)</td><td>▁</td></tr><tr><td>Mean Validation RMSE (all folds)</td><td>▁</td></tr><tr><td>epoch</td><td>▁▁▁▁▂▂▂▂▂▃▃▃▃▃▃▄▄▄▄▄▅▅▅▅▅▅▆▆▆▆▆▆▇▇▇▇▇███</td></tr><tr><td>loss</td><td>███▇▅▄▃▂▁▁▁▁▁▁▁▁▁▁▁▁▁▁▁▁▁▁▁▁▁▁▁▁▁▁▁▁▁▁▁▁</td></tr><tr><td>root_mean_squared_error</td><td>████▆▅▄▃▂▂▂▂▁▁▁▁▁▁▁▁▁▁▁▁▁▁▁▁▁▁▁▁▁▁▁▁▁▁▁▁</td></tr><tr><td>val_loss</td><td>██▇▇▅▄▂▂▁▁▁▁▁▁▁▁▁▁▁▁▁▁▁▁▁▁▁▁▁▁▁▁▁▁▁▁▁▁▁▁</td></tr><tr><td>val_root_mean_squared_error</td><td>███▇▆▅▄▃▂▂▂▂▁▁▁▁▁▁▁▁▁▁▁▁▁▁▁▁▁▁▁▁▁▁▁▁▁▁▁▁</td></tr></table><br/></div><div class=\"wandb-col\">\n",
       "<h3>Run summary:</h3><br/><table class=\"wandb\"><tr><td>Mean Validation Loss (all folds)</td><td>789336000.0</td></tr><tr><td>Mean Validation RMSE (all folds)</td><td>28093.7181</td></tr><tr><td>best_epoch</td><td>48</td></tr><tr><td>best_val_loss</td><td>783066048.0</td></tr><tr><td>epoch</td><td>49</td></tr><tr><td>loss</td><td>858710272.0</td></tr><tr><td>root_mean_squared_error</td><td>29303.75781</td></tr><tr><td>val_loss</td><td>787146368.0</td></tr><tr><td>val_root_mean_squared_error</td><td>28056.12891</td></tr></table>\n",
       "</div></div>\n",
       "Synced 5 W&B file(s), 0 media file(s), 0 artifact file(s) and 1 other file(s)\n",
       "<br/>Synced <strong style=\"color:#cdcd00\">amber-sweep-7</strong>: <a href=\"https://wandb.ai/luiscostigan/house-price-prediction/runs/rot4xsbj\" target=\"_blank\">https://wandb.ai/luiscostigan/house-price-prediction/runs/rot4xsbj</a><br/>\n",
       "Find logs at: <code>./wandb/run-20220302_033539-rot4xsbj/logs</code><br/>\n"
      ],
      "text/plain": [
       "<IPython.core.display.HTML object>"
      ]
     },
     "metadata": {},
     "output_type": "display_data"
    },
    {
     "name": "stderr",
     "output_type": "stream",
     "text": [
      "\u001b[34m\u001b[1mwandb\u001b[0m: wandb version 0.12.11 is available!  To upgrade, please run:\n",
      "\u001b[34m\u001b[1mwandb\u001b[0m:  $ pip install wandb --upgrade\n"
     ]
    },
    {
     "data": {
      "text/html": [
       "\n",
       "                    Syncing run <strong><a href=\"https://wandb.ai/luiscostigan/house-price-prediction/runs/rot4xsbj\" target=\"_blank\">amber-sweep-7</a></strong> to <a href=\"https://wandb.ai/luiscostigan/house-price-prediction\" target=\"_blank\">Weights & Biases</a> (<a href=\"https://docs.wandb.com/integrations/jupyter.html\" target=\"_blank\">docs</a>).<br/>\n",
       "Sweep page: <a href=\"https://wandb.ai/luiscostigan/house-price-prediction/sweeps/ru0ykkjf\" target=\"_blank\">https://wandb.ai/luiscostigan/house-price-prediction/sweeps/ru0ykkjf</a><br/>\n",
       "\n",
       "                "
      ],
      "text/plain": [
       "<IPython.core.display.HTML object>"
      ]
     },
     "metadata": {},
     "output_type": "display_data"
    },
    {
     "name": "stdout",
     "output_type": "stream",
     "text": [
      "37/37 [==============================] - 0s 1ms/step - loss: 790039552.0000 - root_mean_squared_error: 28107.6426\n",
      "Score for fold 4: loss of 790039552.0; root_mean_squared_error of 28107.642578125\n",
      "------------------------------------------------------------------------\n",
      "Score per fold\n",
      "------------------------------------------------------------------------\n",
      "> Fold 1 - Loss: 809700672.0 - RMSE: 28455.240234375%\n",
      "------------------------------------------------------------------------\n",
      "> Fold 2 - Loss: 771160960.0 - RMSE: 27769.78515625%\n",
      "------------------------------------------------------------------------\n",
      "> Fold 3 - Loss: 787146368.0 - RMSE: 28056.12890625%\n",
      "------------------------------------------------------------------------\n",
      "> Fold 4 - Loss: 790039552.0 - RMSE: 28107.642578125%\n",
      "------------------------------------------------------------------------\n",
      "Average scores for all folds:\n",
      "> RMSE: 28097.19921875 (+- 243.51035476772773)\n",
      "> Loss: 789511888.0\n",
      "------------------------------------------------------------------------\n"
     ]
    },
    {
     "data": {
      "text/html": [
       "<br/>Waiting for W&B process to finish, PID 10700... <strong style=\"color:green\">(success).</strong>"
      ],
      "text/plain": [
       "<IPython.core.display.HTML object>"
      ]
     },
     "metadata": {},
     "output_type": "display_data"
    },
    {
     "data": {
      "application/vnd.jupyter.widget-view+json": {
       "model_id": "89a9748c05ed40a2afaff035b0270288",
       "version_major": 2,
       "version_minor": 0
      },
      "text/plain": [
       "VBox(children=(Label(value=' 0.97MB of 2.45MB uploaded (0.00MB deduped)\\r'), FloatProgress(value=0.39539870084…"
      ]
     },
     "metadata": {},
     "output_type": "display_data"
    },
    {
     "data": {
      "text/html": [
       "<style>\n",
       "    table.wandb td:nth-child(1) { padding: 0 10px; text-align: right }\n",
       "    .wandb-row { display: flex; flex-direction: row; flex-wrap: wrap; width: 100% }\n",
       "    .wandb-col { display: flex; flex-direction: column; flex-basis: 100%; flex: 1; padding: 10px; }\n",
       "    </style>\n",
       "<div class=\"wandb-row\"><div class=\"wandb-col\">\n",
       "<h3>Run history:</h3><br/><table class=\"wandb\"><tr><td>Mean Validation Loss (all folds)</td><td>▁</td></tr><tr><td>Mean Validation RMSE (all folds)</td><td>▁</td></tr><tr><td>epoch</td><td>▁▁▁▁▂▂▂▂▂▃▃▃▃▃▃▄▄▄▄▄▅▅▅▅▅▅▆▆▆▆▆▆▇▇▇▇▇███</td></tr><tr><td>loss</td><td>███▇▅▄▃▂▁▁▁▁▁▁▁▁▁▁▁▁▁▁▁▁▁▁▁▁▁▁▁▁▁▁▁▁▁▁▁▁</td></tr><tr><td>root_mean_squared_error</td><td>███▇▆▅▄▃▂▂▂▂▁▁▁▁▁▁▁▁▁▁▁▁▁▁▁▁▁▁▁▁▁▁▁▁▁▁▁▁</td></tr><tr><td>val_loss</td><td>██▇▇▅▃▂▂▁▁▁▁▁▁▁▁▁▁▁▁▁▁▁▁▁▁▁▁▁▁▁▁▁▁▁▁▁▁▁▁</td></tr><tr><td>val_root_mean_squared_error</td><td>███▇▆▅▄▃▂▂▂▁▁▁▁▁▁▁▁▁▁▁▁▁▁▁▁▁▁▁▁▁▁▁▁▁▁▁▁▁</td></tr></table><br/></div><div class=\"wandb-col\">\n",
       "<h3>Run summary:</h3><br/><table class=\"wandb\"><tr><td>Mean Validation Loss (all folds)</td><td>789511888.0</td></tr><tr><td>Mean Validation RMSE (all folds)</td><td>28097.19922</td></tr><tr><td>best_epoch</td><td>47</td></tr><tr><td>best_val_loss</td><td>780975680.0</td></tr><tr><td>epoch</td><td>49</td></tr><tr><td>loss</td><td>777957120.0</td></tr><tr><td>root_mean_squared_error</td><td>27891.88281</td></tr><tr><td>val_loss</td><td>790039616.0</td></tr><tr><td>val_root_mean_squared_error</td><td>28107.64258</td></tr></table>\n",
       "</div></div>\n",
       "Synced 5 W&B file(s), 0 media file(s), 0 artifact file(s) and 1 other file(s)\n",
       "<br/>Synced <strong style=\"color:#cdcd00\">amber-sweep-7</strong>: <a href=\"https://wandb.ai/luiscostigan/house-price-prediction/runs/rot4xsbj\" target=\"_blank\">https://wandb.ai/luiscostigan/house-price-prediction/runs/rot4xsbj</a><br/>\n",
       "Find logs at: <code>./wandb/run-20220302_033553-rot4xsbj/logs</code><br/>\n"
      ],
      "text/plain": [
       "<IPython.core.display.HTML object>"
      ]
     },
     "metadata": {},
     "output_type": "display_data"
    },
    {
     "name": "stderr",
     "output_type": "stream",
     "text": [
      "\u001b[34m\u001b[1mwandb\u001b[0m: wandb version 0.12.11 is available!  To upgrade, please run:\n",
      "\u001b[34m\u001b[1mwandb\u001b[0m:  $ pip install wandb --upgrade\n"
     ]
    },
    {
     "data": {
      "text/html": [
       "\n",
       "                    Syncing run <strong><a href=\"https://wandb.ai/luiscostigan/house-price-prediction/runs/rot4xsbj\" target=\"_blank\">amber-sweep-7</a></strong> to <a href=\"https://wandb.ai/luiscostigan/house-price-prediction\" target=\"_blank\">Weights & Biases</a> (<a href=\"https://docs.wandb.com/integrations/jupyter.html\" target=\"_blank\">docs</a>).<br/>\n",
       "Sweep page: <a href=\"https://wandb.ai/luiscostigan/house-price-prediction/sweeps/ru0ykkjf\" target=\"_blank\">https://wandb.ai/luiscostigan/house-price-prediction/sweeps/ru0ykkjf</a><br/>\n",
       "\n",
       "                "
      ],
      "text/plain": [
       "<IPython.core.display.HTML object>"
      ]
     },
     "metadata": {},
     "output_type": "display_data"
    },
    {
     "name": "stdout",
     "output_type": "stream",
     "text": [
      "37/37 [==============================] - 0s 2ms/step - loss: 770721728.0000 - root_mean_squared_error: 27761.8750\n",
      "Score for fold 5: loss of 770721728.0; root_mean_squared_error of 27761.875\n",
      "------------------------------------------------------------------------\n",
      "Score per fold\n",
      "------------------------------------------------------------------------\n",
      "> Fold 1 - Loss: 809700672.0 - RMSE: 28455.240234375%\n",
      "------------------------------------------------------------------------\n",
      "> Fold 2 - Loss: 771160960.0 - RMSE: 27769.78515625%\n",
      "------------------------------------------------------------------------\n",
      "> Fold 3 - Loss: 787146368.0 - RMSE: 28056.12890625%\n",
      "------------------------------------------------------------------------\n",
      "> Fold 4 - Loss: 790039552.0 - RMSE: 28107.642578125%\n",
      "------------------------------------------------------------------------\n",
      "> Fold 5 - Loss: 770721728.0 - RMSE: 27761.875%\n",
      "------------------------------------------------------------------------\n",
      "Average scores for all folds:\n",
      "> RMSE: 28030.134375 (+- 255.79016277435562)\n",
      "> Loss: 785753856.0\n",
      "------------------------------------------------------------------------\n"
     ]
    },
    {
     "data": {
      "text/html": [
       "<br/>Waiting for W&B process to finish, PID 11871... <strong style=\"color:green\">(success).</strong>"
      ],
      "text/plain": [
       "<IPython.core.display.HTML object>"
      ]
     },
     "metadata": {},
     "output_type": "display_data"
    },
    {
     "data": {
      "application/vnd.jupyter.widget-view+json": {
       "model_id": "6bfc4e20b8a3467889f62aa3fda3b27b",
       "version_major": 2,
       "version_minor": 0
      },
      "text/plain": [
       "VBox(children=(Label(value=' 1.92MB of 2.45MB uploaded (0.00MB deduped)\\r'), FloatProgress(value=0.78084237254…"
      ]
     },
     "metadata": {},
     "output_type": "display_data"
    },
    {
     "data": {
      "text/html": [
       "<style>\n",
       "    table.wandb td:nth-child(1) { padding: 0 10px; text-align: right }\n",
       "    .wandb-row { display: flex; flex-direction: row; flex-wrap: wrap; width: 100% }\n",
       "    .wandb-col { display: flex; flex-direction: column; flex-basis: 100%; flex: 1; padding: 10px; }\n",
       "    </style>\n",
       "<div class=\"wandb-row\"><div class=\"wandb-col\">\n",
       "<h3>Run history:</h3><br/><table class=\"wandb\"><tr><td>Mean Validation Loss (all folds)</td><td>▁</td></tr><tr><td>Mean Validation RMSE (all folds)</td><td>▁</td></tr><tr><td>epoch</td><td>▁▁▁▁▂▂▂▂▂▃▃▃▃▃▃▄▄▄▄▄▅▅▅▅▅▅▆▆▆▆▆▆▇▇▇▇▇███</td></tr><tr><td>loss</td><td>███▇▅▄▃▂▁▁▁▁▁▁▁▁▁▁▁▁▁▁▁▁▁▁▁▁▁▁▁▁▁▁▁▁▁▁▁▁</td></tr><tr><td>root_mean_squared_error</td><td>███▇▆▅▄▃▂▂▂▂▁▁▁▁▁▁▁▁▁▁▁▁▁▁▁▁▁▁▁▁▁▁▁▁▁▁▁▁</td></tr><tr><td>val_loss</td><td>██▇▇▅▃▂▂▁▁▁▁▁▁▁▁▁▁▁▁▁▁▁▁▁▁▁▁▁▁▁▁▁▁▁▁▁▁▁▁</td></tr><tr><td>val_root_mean_squared_error</td><td>███▇▆▅▃▂▂▂▂▁▁▁▁▁▁▁▁▁▁▁▁▁▁▁▁▁▁▁▁▁▁▁▁▁▁▁▁▁</td></tr></table><br/></div><div class=\"wandb-col\">\n",
       "<h3>Run summary:</h3><br/><table class=\"wandb\"><tr><td>Mean Validation Loss (all folds)</td><td>785753856.0</td></tr><tr><td>Mean Validation RMSE (all folds)</td><td>28030.13438</td></tr><tr><td>best_epoch</td><td>49</td></tr><tr><td>best_val_loss</td><td>770721792.0</td></tr><tr><td>epoch</td><td>49</td></tr><tr><td>loss</td><td>852566208.0</td></tr><tr><td>root_mean_squared_error</td><td>29198.73633</td></tr><tr><td>val_loss</td><td>770721792.0</td></tr><tr><td>val_root_mean_squared_error</td><td>27761.87695</td></tr></table>\n",
       "</div></div>\n",
       "Synced 5 W&B file(s), 0 media file(s), 0 artifact file(s) and 1 other file(s)\n",
       "<br/>Synced <strong style=\"color:#cdcd00\">amber-sweep-7</strong>: <a href=\"https://wandb.ai/luiscostigan/house-price-prediction/runs/rot4xsbj\" target=\"_blank\">https://wandb.ai/luiscostigan/house-price-prediction/runs/rot4xsbj</a><br/>\n",
       "Find logs at: <code>./wandb/run-20220302_033606-rot4xsbj/logs</code><br/>\n"
      ],
      "text/plain": [
       "<IPython.core.display.HTML object>"
      ]
     },
     "metadata": {},
     "output_type": "display_data"
    },
    {
     "name": "stderr",
     "output_type": "stream",
     "text": [
      "\u001b[34m\u001b[1mwandb\u001b[0m: Agent Starting Run: azdfkpdd with config:\n",
      "\u001b[34m\u001b[1mwandb\u001b[0m: \tbatch_size: 64\n",
      "\u001b[34m\u001b[1mwandb\u001b[0m: \tdropout1: 0.398229644730952\n",
      "\u001b[34m\u001b[1mwandb\u001b[0m: \tepochs: 30\n",
      "\u001b[34m\u001b[1mwandb\u001b[0m: wandb version 0.12.11 is available!  To upgrade, please run:\n",
      "\u001b[34m\u001b[1mwandb\u001b[0m:  $ pip install wandb --upgrade\n"
     ]
    },
    {
     "data": {
      "text/html": [
       "\n",
       "                    Syncing run <strong><a href=\"https://wandb.ai/luiscostigan/house-price-prediction/runs/azdfkpdd\" target=\"_blank\">easy-sweep-8</a></strong> to <a href=\"https://wandb.ai/luiscostigan/house-price-prediction\" target=\"_blank\">Weights & Biases</a> (<a href=\"https://docs.wandb.com/integrations/jupyter.html\" target=\"_blank\">docs</a>).<br/>\n",
       "Sweep page: <a href=\"https://wandb.ai/luiscostigan/house-price-prediction/sweeps/ru0ykkjf\" target=\"_blank\">https://wandb.ai/luiscostigan/house-price-prediction/sweeps/ru0ykkjf</a><br/>\n",
       "\n",
       "                "
      ],
      "text/plain": [
       "<IPython.core.display.HTML object>"
      ]
     },
     "metadata": {},
     "output_type": "display_data"
    },
    {
     "name": "stdout",
     "output_type": "stream",
     "text": [
      "37/37 [==============================] - 0s 1ms/step - loss: 801021184.0000 - root_mean_squared_error: 28302.3184\n",
      "Score for fold 1: loss of 801021184.0; root_mean_squared_error of 28302.318359375\n",
      "------------------------------------------------------------------------\n",
      "Score per fold\n",
      "------------------------------------------------------------------------\n",
      "> Fold 1 - Loss: 801021184.0 - RMSE: 28302.318359375%\n",
      "------------------------------------------------------------------------\n",
      "Average scores for all folds:\n",
      "> RMSE: 28302.318359375 (+- 0.0)\n",
      "> Loss: 801021184.0\n",
      "------------------------------------------------------------------------\n"
     ]
    },
    {
     "data": {
      "text/html": [
       "<br/>Waiting for W&B process to finish, PID 13059... <strong style=\"color:green\">(success).</strong>"
      ],
      "text/plain": [
       "<IPython.core.display.HTML object>"
      ]
     },
     "metadata": {},
     "output_type": "display_data"
    },
    {
     "data": {
      "application/vnd.jupyter.widget-view+json": {
       "model_id": "cb0f33344af043d79642035c57018c55",
       "version_major": 2,
       "version_minor": 0
      },
      "text/plain": [
       "VBox(children=(Label(value=' 1.31MB of 2.45MB uploaded (0.00MB deduped)\\r'), FloatProgress(value=0.53239442534…"
      ]
     },
     "metadata": {},
     "output_type": "display_data"
    },
    {
     "data": {
      "text/html": [
       "<style>\n",
       "    table.wandb td:nth-child(1) { padding: 0 10px; text-align: right }\n",
       "    .wandb-row { display: flex; flex-direction: row; flex-wrap: wrap; width: 100% }\n",
       "    .wandb-col { display: flex; flex-direction: column; flex-basis: 100%; flex: 1; padding: 10px; }\n",
       "    </style>\n",
       "<div class=\"wandb-row\"><div class=\"wandb-col\">\n",
       "<h3>Run history:</h3><br/><table class=\"wandb\"><tr><td>Mean Validation Loss (all folds)</td><td>▁</td></tr><tr><td>Mean Validation RMSE (all folds)</td><td>▁</td></tr><tr><td>epoch</td><td>▁▁▁▂▂▂▂▃▃▃▃▄▄▄▄▅▅▅▅▆▆▆▆▇▇▇▇███</td></tr><tr><td>loss</td><td>██▆▄▂▁▁▁▁▁▁▁▁▁▁▁▁▁▁▁▁▁▁▁▁▁▁▁▁▁</td></tr><tr><td>root_mean_squared_error</td><td>██▇▅▃▂▂▂▁▁▁▁▁▁▁▁▁▁▁▁▁▁▁▁▁▁▁▁▁▁</td></tr><tr><td>val_loss</td><td>█▇▅▃▂▁▁▁▁▁▁▁▁▁▁▁▁▁▁▁▁▁▁▁▁▁▁▁▁▁</td></tr><tr><td>val_root_mean_squared_error</td><td>█▇▆▄▂▂▂▁▁▁▁▁▁▁▁▁▁▁▁▁▁▁▁▁▁▁▁▁▁▁</td></tr></table><br/></div><div class=\"wandb-col\">\n",
       "<h3>Run summary:</h3><br/><table class=\"wandb\"><tr><td>Mean Validation Loss (all folds)</td><td>801021184.0</td></tr><tr><td>Mean Validation RMSE (all folds)</td><td>28302.31836</td></tr><tr><td>best_epoch</td><td>29</td></tr><tr><td>best_val_loss</td><td>801020992.0</td></tr><tr><td>epoch</td><td>29</td></tr><tr><td>loss</td><td>847966080.0</td></tr><tr><td>root_mean_squared_error</td><td>29119.85742</td></tr><tr><td>val_loss</td><td>801020992.0</td></tr><tr><td>val_root_mean_squared_error</td><td>28302.31445</td></tr></table>\n",
       "</div></div>\n",
       "Synced 5 W&B file(s), 0 media file(s), 0 artifact file(s) and 1 other file(s)\n",
       "<br/>Synced <strong style=\"color:#cdcd00\">easy-sweep-8</strong>: <a href=\"https://wandb.ai/luiscostigan/house-price-prediction/runs/azdfkpdd\" target=\"_blank\">https://wandb.ai/luiscostigan/house-price-prediction/runs/azdfkpdd</a><br/>\n",
       "Find logs at: <code>./wandb/run-20220302_033622-azdfkpdd/logs</code><br/>\n"
      ],
      "text/plain": [
       "<IPython.core.display.HTML object>"
      ]
     },
     "metadata": {},
     "output_type": "display_data"
    },
    {
     "name": "stderr",
     "output_type": "stream",
     "text": [
      "\u001b[34m\u001b[1mwandb\u001b[0m: wandb version 0.12.11 is available!  To upgrade, please run:\n",
      "\u001b[34m\u001b[1mwandb\u001b[0m:  $ pip install wandb --upgrade\n"
     ]
    },
    {
     "data": {
      "text/html": [
       "\n",
       "                    Syncing run <strong><a href=\"https://wandb.ai/luiscostigan/house-price-prediction/runs/azdfkpdd\" target=\"_blank\">easy-sweep-8</a></strong> to <a href=\"https://wandb.ai/luiscostigan/house-price-prediction\" target=\"_blank\">Weights & Biases</a> (<a href=\"https://docs.wandb.com/integrations/jupyter.html\" target=\"_blank\">docs</a>).<br/>\n",
       "Sweep page: <a href=\"https://wandb.ai/luiscostigan/house-price-prediction/sweeps/ru0ykkjf\" target=\"_blank\">https://wandb.ai/luiscostigan/house-price-prediction/sweeps/ru0ykkjf</a><br/>\n",
       "\n",
       "                "
      ],
      "text/plain": [
       "<IPython.core.display.HTML object>"
      ]
     },
     "metadata": {},
     "output_type": "display_data"
    },
    {
     "name": "stdout",
     "output_type": "stream",
     "text": [
      "37/37 [==============================] - 0s 1ms/step - loss: 788207104.0000 - root_mean_squared_error: 28075.0254\n",
      "Score for fold 2: loss of 788207104.0; root_mean_squared_error of 28075.025390625\n",
      "------------------------------------------------------------------------\n",
      "Score per fold\n",
      "------------------------------------------------------------------------\n",
      "> Fold 1 - Loss: 801021184.0 - RMSE: 28302.318359375%\n",
      "------------------------------------------------------------------------\n",
      "> Fold 2 - Loss: 788207104.0 - RMSE: 28075.025390625%\n",
      "------------------------------------------------------------------------\n",
      "Average scores for all folds:\n",
      "> RMSE: 28188.671875 (+- 113.646484375)\n",
      "> Loss: 794614144.0\n",
      "------------------------------------------------------------------------\n"
     ]
    },
    {
     "data": {
      "text/html": [
       "<br/>Waiting for W&B process to finish, PID 13836... <strong style=\"color:green\">(success).</strong>"
      ],
      "text/plain": [
       "<IPython.core.display.HTML object>"
      ]
     },
     "metadata": {},
     "output_type": "display_data"
    },
    {
     "data": {
      "application/vnd.jupyter.widget-view+json": {
       "model_id": "f9b591b6eaf14ad381f4efa0cbb75d32",
       "version_major": 2,
       "version_minor": 0
      },
      "text/plain": [
       "VBox(children=(Label(value=' 2.06MB of 2.45MB uploaded (0.00MB deduped)\\r'), FloatProgress(value=0.84136658546…"
      ]
     },
     "metadata": {},
     "output_type": "display_data"
    },
    {
     "data": {
      "text/html": [
       "<style>\n",
       "    table.wandb td:nth-child(1) { padding: 0 10px; text-align: right }\n",
       "    .wandb-row { display: flex; flex-direction: row; flex-wrap: wrap; width: 100% }\n",
       "    .wandb-col { display: flex; flex-direction: column; flex-basis: 100%; flex: 1; padding: 10px; }\n",
       "    </style>\n",
       "<div class=\"wandb-row\"><div class=\"wandb-col\">\n",
       "<h3>Run history:</h3><br/><table class=\"wandb\"><tr><td>Mean Validation Loss (all folds)</td><td>▁</td></tr><tr><td>Mean Validation RMSE (all folds)</td><td>▁</td></tr><tr><td>epoch</td><td>▁▁▁▂▂▂▂▃▃▃▃▄▄▄▄▅▅▅▅▆▆▆▆▇▇▇▇███</td></tr><tr><td>loss</td><td>█▇▆▄▂▁▁▁▁▁▁▁▁▁▁▁▁▁▁▁▁▁▁▁▁▁▁▁▁▁</td></tr><tr><td>root_mean_squared_error</td><td>██▇▅▃▂▂▂▁▁▁▁▁▁▁▁▁▁▁▁▁▁▁▁▁▁▁▁▁▁</td></tr><tr><td>val_loss</td><td>█▇▅▃▁▁▁▁▁▁▁▁▁▁▁▁▁▁▁▁▁▁▁▁▁▁▁▁▁▁</td></tr><tr><td>val_root_mean_squared_error</td><td>█▇▆▄▂▂▂▂▁▁▁▁▁▁▁▁▁▁▁▁▁▁▁▁▁▁▁▁▁▁</td></tr></table><br/></div><div class=\"wandb-col\">\n",
       "<h3>Run summary:</h3><br/><table class=\"wandb\"><tr><td>Mean Validation Loss (all folds)</td><td>794614144.0</td></tr><tr><td>Mean Validation RMSE (all folds)</td><td>28188.67188</td></tr><tr><td>best_epoch</td><td>29</td></tr><tr><td>best_val_loss</td><td>788206976.0</td></tr><tr><td>epoch</td><td>29</td></tr><tr><td>loss</td><td>911080320.0</td></tr><tr><td>root_mean_squared_error</td><td>30184.10742</td></tr><tr><td>val_loss</td><td>788206976.0</td></tr><tr><td>val_root_mean_squared_error</td><td>28075.02344</td></tr></table>\n",
       "</div></div>\n",
       "Synced 5 W&B file(s), 0 media file(s), 0 artifact file(s) and 1 other file(s)\n",
       "<br/>Synced <strong style=\"color:#cdcd00\">easy-sweep-8</strong>: <a href=\"https://wandb.ai/luiscostigan/house-price-prediction/runs/azdfkpdd\" target=\"_blank\">https://wandb.ai/luiscostigan/house-price-prediction/runs/azdfkpdd</a><br/>\n",
       "Find logs at: <code>./wandb/run-20220302_033634-azdfkpdd/logs</code><br/>\n"
      ],
      "text/plain": [
       "<IPython.core.display.HTML object>"
      ]
     },
     "metadata": {},
     "output_type": "display_data"
    },
    {
     "name": "stderr",
     "output_type": "stream",
     "text": [
      "\u001b[34m\u001b[1mwandb\u001b[0m: wandb version 0.12.11 is available!  To upgrade, please run:\n",
      "\u001b[34m\u001b[1mwandb\u001b[0m:  $ pip install wandb --upgrade\n"
     ]
    },
    {
     "data": {
      "text/html": [
       "\n",
       "                    Syncing run <strong><a href=\"https://wandb.ai/luiscostigan/house-price-prediction/runs/azdfkpdd\" target=\"_blank\">easy-sweep-8</a></strong> to <a href=\"https://wandb.ai/luiscostigan/house-price-prediction\" target=\"_blank\">Weights & Biases</a> (<a href=\"https://docs.wandb.com/integrations/jupyter.html\" target=\"_blank\">docs</a>).<br/>\n",
       "Sweep page: <a href=\"https://wandb.ai/luiscostigan/house-price-prediction/sweeps/ru0ykkjf\" target=\"_blank\">https://wandb.ai/luiscostigan/house-price-prediction/sweeps/ru0ykkjf</a><br/>\n",
       "\n",
       "                "
      ],
      "text/plain": [
       "<IPython.core.display.HTML object>"
      ]
     },
     "metadata": {},
     "output_type": "display_data"
    },
    {
     "name": "stdout",
     "output_type": "stream",
     "text": [
      "37/37 [==============================] - 0s 1ms/step - loss: 792453696.0000 - root_mean_squared_error: 28150.5547\n",
      "Score for fold 3: loss of 792453696.0; root_mean_squared_error of 28150.5546875\n",
      "------------------------------------------------------------------------\n",
      "Score per fold\n",
      "------------------------------------------------------------------------\n",
      "> Fold 1 - Loss: 801021184.0 - RMSE: 28302.318359375%\n",
      "------------------------------------------------------------------------\n",
      "> Fold 2 - Loss: 788207104.0 - RMSE: 28075.025390625%\n",
      "------------------------------------------------------------------------\n",
      "> Fold 3 - Loss: 792453696.0 - RMSE: 28150.5546875%\n",
      "------------------------------------------------------------------------\n",
      "Average scores for all folds:\n",
      "> RMSE: 28175.966145833332 (+- 94.51571323248203)\n",
      "> Loss: 793893994.6666666\n",
      "------------------------------------------------------------------------\n"
     ]
    },
    {
     "data": {
      "text/html": [
       "<br/>Waiting for W&B process to finish, PID 14683... <strong style=\"color:green\">(success).</strong>"
      ],
      "text/plain": [
       "<IPython.core.display.HTML object>"
      ]
     },
     "metadata": {},
     "output_type": "display_data"
    },
    {
     "data": {
      "application/vnd.jupyter.widget-view+json": {
       "model_id": "1dab02cd63fd4acf8151a7267a670e16",
       "version_major": 2,
       "version_minor": 0
      },
      "text/plain": [
       "VBox(children=(Label(value=' 2.11MB of 2.45MB uploaded (0.00MB deduped)\\r'), FloatProgress(value=0.86047414123…"
      ]
     },
     "metadata": {},
     "output_type": "display_data"
    },
    {
     "data": {
      "text/html": [
       "<style>\n",
       "    table.wandb td:nth-child(1) { padding: 0 10px; text-align: right }\n",
       "    .wandb-row { display: flex; flex-direction: row; flex-wrap: wrap; width: 100% }\n",
       "    .wandb-col { display: flex; flex-direction: column; flex-basis: 100%; flex: 1; padding: 10px; }\n",
       "    </style>\n",
       "<div class=\"wandb-row\"><div class=\"wandb-col\">\n",
       "<h3>Run history:</h3><br/><table class=\"wandb\"><tr><td>Mean Validation Loss (all folds)</td><td>▁</td></tr><tr><td>Mean Validation RMSE (all folds)</td><td>▁</td></tr><tr><td>epoch</td><td>▁▁▁▂▂▂▂▃▃▃▃▄▄▄▄▅▅▅▅▆▆▆▆▇▇▇▇███</td></tr><tr><td>loss</td><td>██▆▄▂▁▁▁▁▁▁▁▁▁▁▁▁▁▁▁▁▁▁▁▁▁▁▁▁▁</td></tr><tr><td>root_mean_squared_error</td><td>██▇▅▃▂▂▁▁▁▁▁▁▁▁▁▁▁▁▁▁▁▁▁▁▁▁▁▁▁</td></tr><tr><td>val_loss</td><td>█▇▅▃▂▁▁▁▁▁▁▁▁▁▁▁▁▁▁▁▁▁▁▁▁▁▁▁▁▁</td></tr><tr><td>val_root_mean_squared_error</td><td>█▇▆▄▂▂▂▁▁▁▁▁▁▁▁▁▁▁▁▁▁▁▁▁▁▁▁▁▁▁</td></tr></table><br/></div><div class=\"wandb-col\">\n",
       "<h3>Run summary:</h3><br/><table class=\"wandb\"><tr><td>Mean Validation Loss (all folds)</td><td>793893994.66667</td></tr><tr><td>Mean Validation RMSE (all folds)</td><td>28175.96615</td></tr><tr><td>best_epoch</td><td>29</td></tr><tr><td>best_val_loss</td><td>792453760.0</td></tr><tr><td>epoch</td><td>29</td></tr><tr><td>loss</td><td>852276608.0</td></tr><tr><td>root_mean_squared_error</td><td>29193.77734</td></tr><tr><td>val_loss</td><td>792453760.0</td></tr><tr><td>val_root_mean_squared_error</td><td>28150.55469</td></tr></table>\n",
       "</div></div>\n",
       "Synced 5 W&B file(s), 0 media file(s), 0 artifact file(s) and 1 other file(s)\n",
       "<br/>Synced <strong style=\"color:#cdcd00\">easy-sweep-8</strong>: <a href=\"https://wandb.ai/luiscostigan/house-price-prediction/runs/azdfkpdd\" target=\"_blank\">https://wandb.ai/luiscostigan/house-price-prediction/runs/azdfkpdd</a><br/>\n",
       "Find logs at: <code>./wandb/run-20220302_033647-azdfkpdd/logs</code><br/>\n"
      ],
      "text/plain": [
       "<IPython.core.display.HTML object>"
      ]
     },
     "metadata": {},
     "output_type": "display_data"
    },
    {
     "name": "stderr",
     "output_type": "stream",
     "text": [
      "\u001b[34m\u001b[1mwandb\u001b[0m: wandb version 0.12.11 is available!  To upgrade, please run:\n",
      "\u001b[34m\u001b[1mwandb\u001b[0m:  $ pip install wandb --upgrade\n"
     ]
    },
    {
     "data": {
      "text/html": [
       "\n",
       "                    Syncing run <strong><a href=\"https://wandb.ai/luiscostigan/house-price-prediction/runs/azdfkpdd\" target=\"_blank\">easy-sweep-8</a></strong> to <a href=\"https://wandb.ai/luiscostigan/house-price-prediction\" target=\"_blank\">Weights & Biases</a> (<a href=\"https://docs.wandb.com/integrations/jupyter.html\" target=\"_blank\">docs</a>).<br/>\n",
       "Sweep page: <a href=\"https://wandb.ai/luiscostigan/house-price-prediction/sweeps/ru0ykkjf\" target=\"_blank\">https://wandb.ai/luiscostigan/house-price-prediction/sweeps/ru0ykkjf</a><br/>\n",
       "\n",
       "                "
      ],
      "text/plain": [
       "<IPython.core.display.HTML object>"
      ]
     },
     "metadata": {},
     "output_type": "display_data"
    },
    {
     "name": "stdout",
     "output_type": "stream",
     "text": [
      "37/37 [==============================] - 0s 1ms/step - loss: 784439040.0000 - root_mean_squared_error: 28007.8398\n",
      "Score for fold 4: loss of 784439040.0; root_mean_squared_error of 28007.83984375\n",
      "------------------------------------------------------------------------\n",
      "Score per fold\n",
      "------------------------------------------------------------------------\n",
      "> Fold 1 - Loss: 801021184.0 - RMSE: 28302.318359375%\n",
      "------------------------------------------------------------------------\n",
      "> Fold 2 - Loss: 788207104.0 - RMSE: 28075.025390625%\n",
      "------------------------------------------------------------------------\n",
      "> Fold 3 - Loss: 792453696.0 - RMSE: 28150.5546875%\n",
      "------------------------------------------------------------------------\n",
      "> Fold 4 - Loss: 784439040.0 - RMSE: 28007.83984375%\n",
      "------------------------------------------------------------------------\n",
      "Average scores for all folds:\n",
      "> RMSE: 28133.9345703125 (+- 109.54394122074545)\n",
      "> Loss: 791530256.0\n",
      "------------------------------------------------------------------------\n"
     ]
    },
    {
     "data": {
      "text/html": [
       "<br/>Waiting for W&B process to finish, PID 15460... <strong style=\"color:green\">(success).</strong>"
      ],
      "text/plain": [
       "<IPython.core.display.HTML object>"
      ]
     },
     "metadata": {},
     "output_type": "display_data"
    },
    {
     "data": {
      "application/vnd.jupyter.widget-view+json": {
       "model_id": "08f3d3b80aaf4f59934329a3c4f04b34",
       "version_major": 2,
       "version_minor": 0
      },
      "text/plain": [
       "VBox(children=(Label(value=' 2.25MB of 2.45MB uploaded (0.00MB deduped)\\r'), FloatProgress(value=0.91781822282…"
      ]
     },
     "metadata": {},
     "output_type": "display_data"
    },
    {
     "data": {
      "text/html": [
       "<style>\n",
       "    table.wandb td:nth-child(1) { padding: 0 10px; text-align: right }\n",
       "    .wandb-row { display: flex; flex-direction: row; flex-wrap: wrap; width: 100% }\n",
       "    .wandb-col { display: flex; flex-direction: column; flex-basis: 100%; flex: 1; padding: 10px; }\n",
       "    </style>\n",
       "<div class=\"wandb-row\"><div class=\"wandb-col\">\n",
       "<h3>Run history:</h3><br/><table class=\"wandb\"><tr><td>Mean Validation Loss (all folds)</td><td>▁</td></tr><tr><td>Mean Validation RMSE (all folds)</td><td>▁</td></tr><tr><td>epoch</td><td>▁▁▁▂▂▂▂▃▃▃▃▄▄▄▄▅▅▅▅▆▆▆▆▇▇▇▇███</td></tr><tr><td>loss</td><td>██▆▄▂▁▁▁▁▁▁▁▁▁▁▁▁▁▁▁▁▁▁▁▁▁▁▁▁▁</td></tr><tr><td>root_mean_squared_error</td><td>██▇▅▃▂▂▂▁▁▁▁▁▁▁▁▁▁▁▁▁▁▁▁▁▁▁▁▁▁</td></tr><tr><td>val_loss</td><td>█▇▅▃▂▁▁▁▁▁▁▁▁▁▁▁▁▁▁▁▁▁▁▁▁▁▁▁▁▁</td></tr><tr><td>val_root_mean_squared_error</td><td>█▇▆▄▂▂▂▁▁▁▁▁▁▁▁▁▁▁▁▁▁▁▁▁▁▁▁▁▁▁</td></tr></table><br/></div><div class=\"wandb-col\">\n",
       "<h3>Run summary:</h3><br/><table class=\"wandb\"><tr><td>Mean Validation Loss (all folds)</td><td>791530256.0</td></tr><tr><td>Mean Validation RMSE (all folds)</td><td>28133.93457</td></tr><tr><td>best_epoch</td><td>29</td></tr><tr><td>best_val_loss</td><td>784439040.0</td></tr><tr><td>epoch</td><td>29</td></tr><tr><td>loss</td><td>836445568.0</td></tr><tr><td>root_mean_squared_error</td><td>28921.36914</td></tr><tr><td>val_loss</td><td>784439040.0</td></tr><tr><td>val_root_mean_squared_error</td><td>28007.83984</td></tr></table>\n",
       "</div></div>\n",
       "Synced 5 W&B file(s), 0 media file(s), 0 artifact file(s) and 1 other file(s)\n",
       "<br/>Synced <strong style=\"color:#cdcd00\">easy-sweep-8</strong>: <a href=\"https://wandb.ai/luiscostigan/house-price-prediction/runs/azdfkpdd\" target=\"_blank\">https://wandb.ai/luiscostigan/house-price-prediction/runs/azdfkpdd</a><br/>\n",
       "Find logs at: <code>./wandb/run-20220302_033659-azdfkpdd/logs</code><br/>\n"
      ],
      "text/plain": [
       "<IPython.core.display.HTML object>"
      ]
     },
     "metadata": {},
     "output_type": "display_data"
    },
    {
     "name": "stderr",
     "output_type": "stream",
     "text": [
      "\u001b[34m\u001b[1mwandb\u001b[0m: wandb version 0.12.11 is available!  To upgrade, please run:\n",
      "\u001b[34m\u001b[1mwandb\u001b[0m:  $ pip install wandb --upgrade\n"
     ]
    },
    {
     "data": {
      "text/html": [
       "\n",
       "                    Syncing run <strong><a href=\"https://wandb.ai/luiscostigan/house-price-prediction/runs/azdfkpdd\" target=\"_blank\">easy-sweep-8</a></strong> to <a href=\"https://wandb.ai/luiscostigan/house-price-prediction\" target=\"_blank\">Weights & Biases</a> (<a href=\"https://docs.wandb.com/integrations/jupyter.html\" target=\"_blank\">docs</a>).<br/>\n",
       "Sweep page: <a href=\"https://wandb.ai/luiscostigan/house-price-prediction/sweeps/ru0ykkjf\" target=\"_blank\">https://wandb.ai/luiscostigan/house-price-prediction/sweeps/ru0ykkjf</a><br/>\n",
       "\n",
       "                "
      ],
      "text/plain": [
       "<IPython.core.display.HTML object>"
      ]
     },
     "metadata": {},
     "output_type": "display_data"
    },
    {
     "name": "stdout",
     "output_type": "stream",
     "text": [
      "37/37 [==============================] - 0s 3ms/step - loss: 806598656.0000 - root_mean_squared_error: 28400.6797\n",
      "Score for fold 5: loss of 806598656.0; root_mean_squared_error of 28400.6796875\n",
      "------------------------------------------------------------------------\n",
      "Score per fold\n",
      "------------------------------------------------------------------------\n",
      "> Fold 1 - Loss: 801021184.0 - RMSE: 28302.318359375%\n",
      "------------------------------------------------------------------------\n",
      "> Fold 2 - Loss: 788207104.0 - RMSE: 28075.025390625%\n",
      "------------------------------------------------------------------------\n",
      "> Fold 3 - Loss: 792453696.0 - RMSE: 28150.5546875%\n",
      "------------------------------------------------------------------------\n",
      "> Fold 4 - Loss: 784439040.0 - RMSE: 28007.83984375%\n",
      "------------------------------------------------------------------------\n",
      "> Fold 5 - Loss: 806598656.0 - RMSE: 28400.6796875%\n",
      "------------------------------------------------------------------------\n",
      "Average scores for all folds:\n",
      "> RMSE: 28187.28359375 (+- 144.8598400298682)\n",
      "> Loss: 794543936.0\n",
      "------------------------------------------------------------------------\n"
     ]
    },
    {
     "data": {
      "text/html": [
       "<br/>Waiting for W&B process to finish, PID 16244... <strong style=\"color:green\">(success).</strong>"
      ],
      "text/plain": [
       "<IPython.core.display.HTML object>"
      ]
     },
     "metadata": {},
     "output_type": "display_data"
    },
    {
     "data": {
      "application/vnd.jupyter.widget-view+json": {
       "model_id": "275f8befd0504b3b855239dc849b0a1c",
       "version_major": 2,
       "version_minor": 0
      },
      "text/plain": [
       "VBox(children=(Label(value=' 2.45MB of 2.45MB uploaded (0.00MB deduped)\\r'), FloatProgress(value=1.0, max=1.0)…"
      ]
     },
     "metadata": {},
     "output_type": "display_data"
    },
    {
     "data": {
      "text/html": [
       "<style>\n",
       "    table.wandb td:nth-child(1) { padding: 0 10px; text-align: right }\n",
       "    .wandb-row { display: flex; flex-direction: row; flex-wrap: wrap; width: 100% }\n",
       "    .wandb-col { display: flex; flex-direction: column; flex-basis: 100%; flex: 1; padding: 10px; }\n",
       "    </style>\n",
       "<div class=\"wandb-row\"><div class=\"wandb-col\">\n",
       "<h3>Run history:</h3><br/><table class=\"wandb\"><tr><td>Mean Validation Loss (all folds)</td><td>▁</td></tr><tr><td>Mean Validation RMSE (all folds)</td><td>▁</td></tr><tr><td>epoch</td><td>▁▁▁▂▂▂▂▃▃▃▃▄▄▄▄▅▅▅▅▆▆▆▆▇▇▇▇███</td></tr><tr><td>loss</td><td>██▆▄▂▁▁▁▁▁▁▁▁▁▁▁▁▁▁▁▁▁▁▁▁▁▁▁▁▁</td></tr><tr><td>root_mean_squared_error</td><td>██▇▅▃▂▂▂▁▁▁▁▁▁▁▁▁▁▁▁▁▁▁▁▁▁▁▁▁▁</td></tr><tr><td>val_loss</td><td>█▇▅▃▂▁▁▁▁▁▁▁▁▁▁▁▁▁▁▁▁▁▁▁▁▁▁▁▁▁</td></tr><tr><td>val_root_mean_squared_error</td><td>█▇▆▄▃▂▂▁▁▁▁▁▁▁▁▁▁▁▁▁▁▁▁▁▁▁▁▁▁▁</td></tr></table><br/></div><div class=\"wandb-col\">\n",
       "<h3>Run summary:</h3><br/><table class=\"wandb\"><tr><td>Mean Validation Loss (all folds)</td><td>794543936.0</td></tr><tr><td>Mean Validation RMSE (all folds)</td><td>28187.28359</td></tr><tr><td>best_epoch</td><td>29</td></tr><tr><td>best_val_loss</td><td>806598656.0</td></tr><tr><td>epoch</td><td>29</td></tr><tr><td>loss</td><td>877957952.0</td></tr><tr><td>root_mean_squared_error</td><td>29630.35547</td></tr><tr><td>val_loss</td><td>806598656.0</td></tr><tr><td>val_root_mean_squared_error</td><td>28400.67969</td></tr></table>\n",
       "</div></div>\n",
       "Synced 5 W&B file(s), 0 media file(s), 0 artifact file(s) and 1 other file(s)\n",
       "<br/>Synced <strong style=\"color:#cdcd00\">easy-sweep-8</strong>: <a href=\"https://wandb.ai/luiscostigan/house-price-prediction/runs/azdfkpdd\" target=\"_blank\">https://wandb.ai/luiscostigan/house-price-prediction/runs/azdfkpdd</a><br/>\n",
       "Find logs at: <code>./wandb/run-20220302_033712-azdfkpdd/logs</code><br/>\n"
      ],
      "text/plain": [
       "<IPython.core.display.HTML object>"
      ]
     },
     "metadata": {},
     "output_type": "display_data"
    },
    {
     "name": "stderr",
     "output_type": "stream",
     "text": [
      "\u001b[34m\u001b[1mwandb\u001b[0m: Agent Starting Run: 5jalxpei with config:\n",
      "\u001b[34m\u001b[1mwandb\u001b[0m: \tbatch_size: 512\n",
      "\u001b[34m\u001b[1mwandb\u001b[0m: \tdropout1: 0.5424897144191697\n",
      "\u001b[34m\u001b[1mwandb\u001b[0m: \tepochs: 30\n",
      "\u001b[34m\u001b[1mwandb\u001b[0m: wandb version 0.12.11 is available!  To upgrade, please run:\n",
      "\u001b[34m\u001b[1mwandb\u001b[0m:  $ pip install wandb --upgrade\n"
     ]
    },
    {
     "data": {
      "text/html": [
       "\n",
       "                    Syncing run <strong><a href=\"https://wandb.ai/luiscostigan/house-price-prediction/runs/5jalxpei\" target=\"_blank\">summer-sweep-9</a></strong> to <a href=\"https://wandb.ai/luiscostigan/house-price-prediction\" target=\"_blank\">Weights & Biases</a> (<a href=\"https://docs.wandb.com/integrations/jupyter.html\" target=\"_blank\">docs</a>).<br/>\n",
       "Sweep page: <a href=\"https://wandb.ai/luiscostigan/house-price-prediction/sweeps/ru0ykkjf\" target=\"_blank\">https://wandb.ai/luiscostigan/house-price-prediction/sweeps/ru0ykkjf</a><br/>\n",
       "\n",
       "                "
      ],
      "text/plain": [
       "<IPython.core.display.HTML object>"
      ]
     },
     "metadata": {},
     "output_type": "display_data"
    },
    {
     "name": "stdout",
     "output_type": "stream",
     "text": [
      "37/37 [==============================] - 0s 1ms/step - loss: 4674007040.0000 - root_mean_squared_error: 68366.7109\n",
      "Score for fold 1: loss of 4674007040.0; root_mean_squared_error of 68366.7109375\n",
      "------------------------------------------------------------------------\n",
      "Score per fold\n",
      "------------------------------------------------------------------------\n",
      "> Fold 1 - Loss: 4674007040.0 - RMSE: 68366.7109375%\n",
      "------------------------------------------------------------------------\n",
      "Average scores for all folds:\n",
      "> RMSE: 68366.7109375 (+- 0.0)\n",
      "> Loss: 4674007040.0\n",
      "------------------------------------------------------------------------\n"
     ]
    },
    {
     "data": {
      "text/html": [
       "<br/>Waiting for W&B process to finish, PID 17073... <strong style=\"color:green\">(success).</strong>"
      ],
      "text/plain": [
       "<IPython.core.display.HTML object>"
      ]
     },
     "metadata": {},
     "output_type": "display_data"
    },
    {
     "data": {
      "application/vnd.jupyter.widget-view+json": {
       "model_id": "e7b3d9b0160946fdbe7ca2420b9f03f9",
       "version_major": 2,
       "version_minor": 0
      },
      "text/plain": [
       "VBox(children=(Label(value=' 1.34MB of 2.45MB uploaded (0.00MB deduped)\\r'), FloatProgress(value=0.54832244439…"
      ]
     },
     "metadata": {},
     "output_type": "display_data"
    },
    {
     "data": {
      "text/html": [
       "<style>\n",
       "    table.wandb td:nth-child(1) { padding: 0 10px; text-align: right }\n",
       "    .wandb-row { display: flex; flex-direction: row; flex-wrap: wrap; width: 100% }\n",
       "    .wandb-col { display: flex; flex-direction: column; flex-basis: 100%; flex: 1; padding: 10px; }\n",
       "    </style>\n",
       "<div class=\"wandb-row\"><div class=\"wandb-col\">\n",
       "<h3>Run history:</h3><br/><table class=\"wandb\"><tr><td>Mean Validation Loss (all folds)</td><td>▁</td></tr><tr><td>Mean Validation RMSE (all folds)</td><td>▁</td></tr><tr><td>epoch</td><td>▁▁▁▂▂▂▂▃▃▃▃▄▄▄▄▅▅▅▅▆▆▆▆▇▇▇▇███</td></tr><tr><td>loss</td><td>█████████▇▇▇▇▇▆▆▆▅▅▅▄▄▃▃▃▂▂▂▁▁</td></tr><tr><td>root_mean_squared_error</td><td>███████████▇▇▇▇▇▆▆▆▅▅▅▄▄▃▃▂▂▁▁</td></tr><tr><td>val_loss</td><td>█████████▇▇▇▇▇▆▆▆▅▅▄▄▄▃▃▂▂▂▁▁▁</td></tr><tr><td>val_root_mean_squared_error</td><td>██████████▇▇▇▇▇▆▆▆▆▅▅▄▄▄▃▃▂▂▁▁</td></tr></table><br/></div><div class=\"wandb-col\">\n",
       "<h3>Run summary:</h3><br/><table class=\"wandb\"><tr><td>Mean Validation Loss (all folds)</td><td>4674007040.0</td></tr><tr><td>Mean Validation RMSE (all folds)</td><td>68366.71094</td></tr><tr><td>best_epoch</td><td>29</td></tr><tr><td>best_val_loss</td><td>4674007040.0</td></tr><tr><td>epoch</td><td>29</td></tr><tr><td>loss</td><td>5560984064.0</td></tr><tr><td>root_mean_squared_error</td><td>74572.00781</td></tr><tr><td>val_loss</td><td>4674007040.0</td></tr><tr><td>val_root_mean_squared_error</td><td>68366.71094</td></tr></table>\n",
       "</div></div>\n",
       "Synced 5 W&B file(s), 0 media file(s), 0 artifact file(s) and 1 other file(s)\n",
       "<br/>Synced <strong style=\"color:#cdcd00\">summer-sweep-9</strong>: <a href=\"https://wandb.ai/luiscostigan/house-price-prediction/runs/5jalxpei\" target=\"_blank\">https://wandb.ai/luiscostigan/house-price-prediction/runs/5jalxpei</a><br/>\n",
       "Find logs at: <code>./wandb/run-20220302_033730-5jalxpei/logs</code><br/>\n"
      ],
      "text/plain": [
       "<IPython.core.display.HTML object>"
      ]
     },
     "metadata": {},
     "output_type": "display_data"
    },
    {
     "name": "stderr",
     "output_type": "stream",
     "text": [
      "\u001b[34m\u001b[1mwandb\u001b[0m: wandb version 0.12.11 is available!  To upgrade, please run:\n",
      "\u001b[34m\u001b[1mwandb\u001b[0m:  $ pip install wandb --upgrade\n"
     ]
    },
    {
     "data": {
      "text/html": [
       "\n",
       "                    Syncing run <strong><a href=\"https://wandb.ai/luiscostigan/house-price-prediction/runs/5jalxpei\" target=\"_blank\">summer-sweep-9</a></strong> to <a href=\"https://wandb.ai/luiscostigan/house-price-prediction\" target=\"_blank\">Weights & Biases</a> (<a href=\"https://docs.wandb.com/integrations/jupyter.html\" target=\"_blank\">docs</a>).<br/>\n",
       "Sweep page: <a href=\"https://wandb.ai/luiscostigan/house-price-prediction/sweeps/ru0ykkjf\" target=\"_blank\">https://wandb.ai/luiscostigan/house-price-prediction/sweeps/ru0ykkjf</a><br/>\n",
       "\n",
       "                "
      ],
      "text/plain": [
       "<IPython.core.display.HTML object>"
      ]
     },
     "metadata": {},
     "output_type": "display_data"
    },
    {
     "name": "stdout",
     "output_type": "stream",
     "text": [
      "37/37 [==============================] - 0s 1ms/step - loss: 3644759552.0000 - root_mean_squared_error: 60371.8438\n",
      "Score for fold 2: loss of 3644759552.0; root_mean_squared_error of 60371.84375\n",
      "------------------------------------------------------------------------\n",
      "Score per fold\n",
      "------------------------------------------------------------------------\n",
      "> Fold 1 - Loss: 4674007040.0 - RMSE: 68366.7109375%\n",
      "------------------------------------------------------------------------\n",
      "> Fold 2 - Loss: 3644759552.0 - RMSE: 60371.84375%\n",
      "------------------------------------------------------------------------\n",
      "Average scores for all folds:\n",
      "> RMSE: 64369.27734375 (+- 3997.43359375)\n",
      "> Loss: 4159383296.0\n",
      "------------------------------------------------------------------------\n"
     ]
    },
    {
     "data": {
      "text/html": [
       "<br/>Waiting for W&B process to finish, PID 17831... <strong style=\"color:green\">(success).</strong>"
      ],
      "text/plain": [
       "<IPython.core.display.HTML object>"
      ]
     },
     "metadata": {},
     "output_type": "display_data"
    },
    {
     "data": {
      "application/vnd.jupyter.widget-view+json": {
       "model_id": "0dbff5bf1bd5422392161bb162604d14",
       "version_major": 2,
       "version_minor": 0
      },
      "text/plain": [
       "VBox(children=(Label(value=' 0.60MB of 2.45MB uploaded (0.00MB deduped)\\r'), FloatProgress(value=0.24568091100…"
      ]
     },
     "metadata": {},
     "output_type": "display_data"
    },
    {
     "data": {
      "text/html": [
       "<style>\n",
       "    table.wandb td:nth-child(1) { padding: 0 10px; text-align: right }\n",
       "    .wandb-row { display: flex; flex-direction: row; flex-wrap: wrap; width: 100% }\n",
       "    .wandb-col { display: flex; flex-direction: column; flex-basis: 100%; flex: 1; padding: 10px; }\n",
       "    </style>\n",
       "<div class=\"wandb-row\"><div class=\"wandb-col\">\n",
       "<h3>Run history:</h3><br/><table class=\"wandb\"><tr><td>Mean Validation Loss (all folds)</td><td>▁</td></tr><tr><td>Mean Validation RMSE (all folds)</td><td>▁</td></tr><tr><td>epoch</td><td>▁▁▁▂▂▂▂▃▃▃▃▄▄▄▄▅▅▅▅▆▆▆▆▇▇▇▇███</td></tr><tr><td>loss</td><td>█████████▇▇▇▇▇▆▆▆▅▅▄▄▄▃▃▂▂▂▁▁▁</td></tr><tr><td>root_mean_squared_error</td><td>██████████▇▇▇▇▇▇▆▆▆▅▅▄▄▄▃▃▂▂▁▁</td></tr><tr><td>val_loss</td><td>████████▇▇▇▇▇▆▆▆▅▅▅▄▄▃▃▃▂▂▂▁▁▁</td></tr><tr><td>val_root_mean_squared_error</td><td>██████████▇▇▇▇▇▆▆▆▅▅▅▄▄▃▃▃▂▂▁▁</td></tr></table><br/></div><div class=\"wandb-col\">\n",
       "<h3>Run summary:</h3><br/><table class=\"wandb\"><tr><td>Mean Validation Loss (all folds)</td><td>4159383296.0</td></tr><tr><td>Mean Validation RMSE (all folds)</td><td>64369.27734</td></tr><tr><td>best_epoch</td><td>29</td></tr><tr><td>best_val_loss</td><td>3644759552.0</td></tr><tr><td>epoch</td><td>29</td></tr><tr><td>loss</td><td>4296125440.0</td></tr><tr><td>root_mean_squared_error</td><td>65544.83594</td></tr><tr><td>val_loss</td><td>3644759552.0</td></tr><tr><td>val_root_mean_squared_error</td><td>60371.84375</td></tr></table>\n",
       "</div></div>\n",
       "Synced 5 W&B file(s), 0 media file(s), 0 artifact file(s) and 1 other file(s)\n",
       "<br/>Synced <strong style=\"color:#cdcd00\">summer-sweep-9</strong>: <a href=\"https://wandb.ai/luiscostigan/house-price-prediction/runs/5jalxpei\" target=\"_blank\">https://wandb.ai/luiscostigan/house-price-prediction/runs/5jalxpei</a><br/>\n",
       "Find logs at: <code>./wandb/run-20220302_033740-5jalxpei/logs</code><br/>\n"
      ],
      "text/plain": [
       "<IPython.core.display.HTML object>"
      ]
     },
     "metadata": {},
     "output_type": "display_data"
    },
    {
     "name": "stderr",
     "output_type": "stream",
     "text": [
      "\u001b[34m\u001b[1mwandb\u001b[0m: wandb version 0.12.11 is available!  To upgrade, please run:\n",
      "\u001b[34m\u001b[1mwandb\u001b[0m:  $ pip install wandb --upgrade\n"
     ]
    },
    {
     "data": {
      "text/html": [
       "\n",
       "                    Syncing run <strong><a href=\"https://wandb.ai/luiscostigan/house-price-prediction/runs/5jalxpei\" target=\"_blank\">summer-sweep-9</a></strong> to <a href=\"https://wandb.ai/luiscostigan/house-price-prediction\" target=\"_blank\">Weights & Biases</a> (<a href=\"https://docs.wandb.com/integrations/jupyter.html\" target=\"_blank\">docs</a>).<br/>\n",
       "Sweep page: <a href=\"https://wandb.ai/luiscostigan/house-price-prediction/sweeps/ru0ykkjf\" target=\"_blank\">https://wandb.ai/luiscostigan/house-price-prediction/sweeps/ru0ykkjf</a><br/>\n",
       "\n",
       "                "
      ],
      "text/plain": [
       "<IPython.core.display.HTML object>"
      ]
     },
     "metadata": {},
     "output_type": "display_data"
    },
    {
     "name": "stdout",
     "output_type": "stream",
     "text": [
      "37/37 [==============================] - 0s 1ms/step - loss: 3644527104.0000 - root_mean_squared_error: 60369.9180\n",
      "Score for fold 3: loss of 3644527104.0; root_mean_squared_error of 60369.91796875\n",
      "------------------------------------------------------------------------\n",
      "Score per fold\n",
      "------------------------------------------------------------------------\n",
      "> Fold 1 - Loss: 4674007040.0 - RMSE: 68366.7109375%\n",
      "------------------------------------------------------------------------\n",
      "> Fold 2 - Loss: 3644759552.0 - RMSE: 60371.84375%\n",
      "------------------------------------------------------------------------\n",
      "> Fold 3 - Loss: 3644527104.0 - RMSE: 60369.91796875%\n",
      "------------------------------------------------------------------------\n",
      "Average scores for all folds:\n",
      "> RMSE: 63036.157552083336 (+- 3769.270528297765)\n",
      "> Loss: 3987764565.3333335\n",
      "------------------------------------------------------------------------\n"
     ]
    },
    {
     "data": {
      "text/html": [
       "<br/>Waiting for W&B process to finish, PID 18604... <strong style=\"color:green\">(success).</strong>"
      ],
      "text/plain": [
       "<IPython.core.display.HTML object>"
      ]
     },
     "metadata": {},
     "output_type": "display_data"
    },
    {
     "data": {
      "application/vnd.jupyter.widget-view+json": {
       "model_id": "7572ecb10e4247678572299eccc47ed2",
       "version_major": 2,
       "version_minor": 0
      },
      "text/plain": [
       "VBox(children=(Label(value=' 0.00MB of 2.45MB uploaded (0.00MB deduped)\\r'), FloatProgress(value=0.00039857198…"
      ]
     },
     "metadata": {},
     "output_type": "display_data"
    },
    {
     "data": {
      "text/html": [
       "<style>\n",
       "    table.wandb td:nth-child(1) { padding: 0 10px; text-align: right }\n",
       "    .wandb-row { display: flex; flex-direction: row; flex-wrap: wrap; width: 100% }\n",
       "    .wandb-col { display: flex; flex-direction: column; flex-basis: 100%; flex: 1; padding: 10px; }\n",
       "    </style>\n",
       "<div class=\"wandb-row\"><div class=\"wandb-col\">\n",
       "<h3>Run history:</h3><br/><table class=\"wandb\"><tr><td>Mean Validation Loss (all folds)</td><td>▁</td></tr><tr><td>Mean Validation RMSE (all folds)</td><td>▁</td></tr><tr><td>epoch</td><td>▁▁▁▂▂▂▂▃▃▃▃▄▄▄▄▅▅▅▅▆▆▆▆▇▇▇▇███</td></tr><tr><td>loss</td><td>█████████▇▇▇▇▇▆▆▆▅▅▄▄▄▃▃▂▂▂▁▁▁</td></tr><tr><td>root_mean_squared_error</td><td>██████████▇▇▇▇▇▇▆▆▆▅▅▅▄▄▃▃▂▂▁▁</td></tr><tr><td>val_loss</td><td>████████▇▇▇▇▇▆▆▆▅▅▅▄▄▃▃▃▂▂▂▁▁▁</td></tr><tr><td>val_root_mean_squared_error</td><td>██████████▇▇▇▇▇▆▆▆▅▅▅▄▄▃▃▃▂▂▁▁</td></tr></table><br/></div><div class=\"wandb-col\">\n",
       "<h3>Run summary:</h3><br/><table class=\"wandb\"><tr><td>Mean Validation Loss (all folds)</td><td>3987764565.33333</td></tr><tr><td>Mean Validation RMSE (all folds)</td><td>63036.15755</td></tr><tr><td>best_epoch</td><td>29</td></tr><tr><td>best_val_loss</td><td>3644527360.0</td></tr><tr><td>epoch</td><td>29</td></tr><tr><td>loss</td><td>4258274816.0</td></tr><tr><td>root_mean_squared_error</td><td>65255.45703</td></tr><tr><td>val_loss</td><td>3644527360.0</td></tr><tr><td>val_root_mean_squared_error</td><td>60369.92188</td></tr></table>\n",
       "</div></div>\n",
       "Synced 5 W&B file(s), 0 media file(s), 0 artifact file(s) and 1 other file(s)\n",
       "<br/>Synced <strong style=\"color:#cdcd00\">summer-sweep-9</strong>: <a href=\"https://wandb.ai/luiscostigan/house-price-prediction/runs/5jalxpei\" target=\"_blank\">https://wandb.ai/luiscostigan/house-price-prediction/runs/5jalxpei</a><br/>\n",
       "Find logs at: <code>./wandb/run-20220302_033751-5jalxpei/logs</code><br/>\n"
      ],
      "text/plain": [
       "<IPython.core.display.HTML object>"
      ]
     },
     "metadata": {},
     "output_type": "display_data"
    },
    {
     "name": "stderr",
     "output_type": "stream",
     "text": [
      "\u001b[34m\u001b[1mwandb\u001b[0m: wandb version 0.12.11 is available!  To upgrade, please run:\n",
      "\u001b[34m\u001b[1mwandb\u001b[0m:  $ pip install wandb --upgrade\n"
     ]
    },
    {
     "data": {
      "text/html": [
       "\n",
       "                    Syncing run <strong><a href=\"https://wandb.ai/luiscostigan/house-price-prediction/runs/5jalxpei\" target=\"_blank\">summer-sweep-9</a></strong> to <a href=\"https://wandb.ai/luiscostigan/house-price-prediction\" target=\"_blank\">Weights & Biases</a> (<a href=\"https://docs.wandb.com/integrations/jupyter.html\" target=\"_blank\">docs</a>).<br/>\n",
       "Sweep page: <a href=\"https://wandb.ai/luiscostigan/house-price-prediction/sweeps/ru0ykkjf\" target=\"_blank\">https://wandb.ai/luiscostigan/house-price-prediction/sweeps/ru0ykkjf</a><br/>\n",
       "\n",
       "                "
      ],
      "text/plain": [
       "<IPython.core.display.HTML object>"
      ]
     },
     "metadata": {},
     "output_type": "display_data"
    },
    {
     "name": "stdout",
     "output_type": "stream",
     "text": [
      "37/37 [==============================] - 0s 1ms/step - loss: 3916645120.0000 - root_mean_squared_error: 62583.1055\n",
      "Score for fold 4: loss of 3916645120.0; root_mean_squared_error of 62583.10546875\n",
      "------------------------------------------------------------------------\n",
      "Score per fold\n",
      "------------------------------------------------------------------------\n",
      "> Fold 1 - Loss: 4674007040.0 - RMSE: 68366.7109375%\n",
      "------------------------------------------------------------------------\n",
      "> Fold 2 - Loss: 3644759552.0 - RMSE: 60371.84375%\n",
      "------------------------------------------------------------------------\n",
      "> Fold 3 - Loss: 3644527104.0 - RMSE: 60369.91796875%\n",
      "------------------------------------------------------------------------\n",
      "> Fold 4 - Loss: 3916645120.0 - RMSE: 62583.10546875%\n",
      "------------------------------------------------------------------------\n",
      "Average scores for all folds:\n",
      "> RMSE: 62922.89453125 (+- 3270.1736608757433)\n",
      "> Loss: 3969984704.0\n",
      "------------------------------------------------------------------------\n"
     ]
    },
    {
     "data": {
      "text/html": [
       "<br/>Waiting for W&B process to finish, PID 19371... <strong style=\"color:green\">(success).</strong>"
      ],
      "text/plain": [
       "<IPython.core.display.HTML object>"
      ]
     },
     "metadata": {},
     "output_type": "display_data"
    },
    {
     "data": {
      "application/vnd.jupyter.widget-view+json": {
       "model_id": "83279aff79d64a94a69cfbae529ae9b0",
       "version_major": 2,
       "version_minor": 0
      },
      "text/plain": [
       "VBox(children=(Label(value=' 1.52MB of 2.45MB uploaded (0.00MB deduped)\\r'), FloatProgress(value=0.61838264315…"
      ]
     },
     "metadata": {},
     "output_type": "display_data"
    },
    {
     "data": {
      "text/html": [
       "<style>\n",
       "    table.wandb td:nth-child(1) { padding: 0 10px; text-align: right }\n",
       "    .wandb-row { display: flex; flex-direction: row; flex-wrap: wrap; width: 100% }\n",
       "    .wandb-col { display: flex; flex-direction: column; flex-basis: 100%; flex: 1; padding: 10px; }\n",
       "    </style>\n",
       "<div class=\"wandb-row\"><div class=\"wandb-col\">\n",
       "<h3>Run history:</h3><br/><table class=\"wandb\"><tr><td>Mean Validation Loss (all folds)</td><td>▁</td></tr><tr><td>Mean Validation RMSE (all folds)</td><td>▁</td></tr><tr><td>epoch</td><td>▁▁▁▂▂▂▂▃▃▃▃▄▄▄▄▅▅▅▅▆▆▆▆▇▇▇▇███</td></tr><tr><td>loss</td><td>█████████▇▇▇▇▇▆▆▆▅▅▄▄▄▃▃▂▂▂▁▁▁</td></tr><tr><td>root_mean_squared_error</td><td>██████████▇▇▇▇▇▇▆▆▆▅▅▅▄▄▃▃▂▂▁▁</td></tr><tr><td>val_loss</td><td>████████▇▇▇▇▇▆▆▆▅▅▅▄▄▃▃▃▂▂▂▁▁▁</td></tr><tr><td>val_root_mean_squared_error</td><td>██████████▇▇▇▇▇▆▆▆▅▅▅▄▄▃▃▃▂▂▁▁</td></tr></table><br/></div><div class=\"wandb-col\">\n",
       "<h3>Run summary:</h3><br/><table class=\"wandb\"><tr><td>Mean Validation Loss (all folds)</td><td>3969984704.0</td></tr><tr><td>Mean Validation RMSE (all folds)</td><td>62922.89453</td></tr><tr><td>best_epoch</td><td>29</td></tr><tr><td>best_val_loss</td><td>3916645376.0</td></tr><tr><td>epoch</td><td>29</td></tr><tr><td>loss</td><td>4590775808.0</td></tr><tr><td>root_mean_squared_error</td><td>67755.26562</td></tr><tr><td>val_loss</td><td>3916645376.0</td></tr><tr><td>val_root_mean_squared_error</td><td>62583.10938</td></tr></table>\n",
       "</div></div>\n",
       "Synced 5 W&B file(s), 0 media file(s), 0 artifact file(s) and 1 other file(s)\n",
       "<br/>Synced <strong style=\"color:#cdcd00\">summer-sweep-9</strong>: <a href=\"https://wandb.ai/luiscostigan/house-price-prediction/runs/5jalxpei\" target=\"_blank\">https://wandb.ai/luiscostigan/house-price-prediction/runs/5jalxpei</a><br/>\n",
       "Find logs at: <code>./wandb/run-20220302_033802-5jalxpei/logs</code><br/>\n"
      ],
      "text/plain": [
       "<IPython.core.display.HTML object>"
      ]
     },
     "metadata": {},
     "output_type": "display_data"
    },
    {
     "name": "stderr",
     "output_type": "stream",
     "text": [
      "\u001b[34m\u001b[1mwandb\u001b[0m: wandb version 0.12.11 is available!  To upgrade, please run:\n",
      "\u001b[34m\u001b[1mwandb\u001b[0m:  $ pip install wandb --upgrade\n"
     ]
    },
    {
     "data": {
      "text/html": [
       "\n",
       "                    Syncing run <strong><a href=\"https://wandb.ai/luiscostigan/house-price-prediction/runs/5jalxpei\" target=\"_blank\">summer-sweep-9</a></strong> to <a href=\"https://wandb.ai/luiscostigan/house-price-prediction\" target=\"_blank\">Weights & Biases</a> (<a href=\"https://docs.wandb.com/integrations/jupyter.html\" target=\"_blank\">docs</a>).<br/>\n",
       "Sweep page: <a href=\"https://wandb.ai/luiscostigan/house-price-prediction/sweeps/ru0ykkjf\" target=\"_blank\">https://wandb.ai/luiscostigan/house-price-prediction/sweeps/ru0ykkjf</a><br/>\n",
       "\n",
       "                "
      ],
      "text/plain": [
       "<IPython.core.display.HTML object>"
      ]
     },
     "metadata": {},
     "output_type": "display_data"
    },
    {
     "name": "stdout",
     "output_type": "stream",
     "text": [
      "37/37 [==============================] - 0s 1ms/step - loss: 3608422400.0000 - root_mean_squared_error: 60070.1445\n",
      "Score for fold 5: loss of 3608422400.0; root_mean_squared_error of 60070.14453125\n",
      "------------------------------------------------------------------------\n",
      "Score per fold\n",
      "------------------------------------------------------------------------\n",
      "> Fold 1 - Loss: 4674007040.0 - RMSE: 68366.7109375%\n",
      "------------------------------------------------------------------------\n",
      "> Fold 2 - Loss: 3644759552.0 - RMSE: 60371.84375%\n",
      "------------------------------------------------------------------------\n",
      "> Fold 3 - Loss: 3644527104.0 - RMSE: 60369.91796875%\n",
      "------------------------------------------------------------------------\n",
      "> Fold 4 - Loss: 3916645120.0 - RMSE: 62583.10546875%\n",
      "------------------------------------------------------------------------\n",
      "> Fold 5 - Loss: 3608422400.0 - RMSE: 60070.14453125%\n",
      "------------------------------------------------------------------------\n",
      "Average scores for all folds:\n",
      "> RMSE: 62352.34453125 (+- 3139.639760836961)\n",
      "> Loss: 3897672243.2\n",
      "------------------------------------------------------------------------\n"
     ]
    },
    {
     "data": {
      "text/html": [
       "<br/>Waiting for W&B process to finish, PID 20131... <strong style=\"color:green\">(success).</strong>"
      ],
      "text/plain": [
       "<IPython.core.display.HTML object>"
      ]
     },
     "metadata": {},
     "output_type": "display_data"
    },
    {
     "data": {
      "application/vnd.jupyter.widget-view+json": {
       "model_id": "a952b663ade1418c8f845b4169d6d69c",
       "version_major": 2,
       "version_minor": 0
      },
      "text/plain": [
       "VBox(children=(Label(value=' 0.00MB of 2.45MB uploaded (0.00MB deduped)\\r'), FloatProgress(value=0.00039857446…"
      ]
     },
     "metadata": {},
     "output_type": "display_data"
    },
    {
     "data": {
      "text/html": [
       "<style>\n",
       "    table.wandb td:nth-child(1) { padding: 0 10px; text-align: right }\n",
       "    .wandb-row { display: flex; flex-direction: row; flex-wrap: wrap; width: 100% }\n",
       "    .wandb-col { display: flex; flex-direction: column; flex-basis: 100%; flex: 1; padding: 10px; }\n",
       "    </style>\n",
       "<div class=\"wandb-row\"><div class=\"wandb-col\">\n",
       "<h3>Run history:</h3><br/><table class=\"wandb\"><tr><td>Mean Validation Loss (all folds)</td><td>▁</td></tr><tr><td>Mean Validation RMSE (all folds)</td><td>▁</td></tr><tr><td>epoch</td><td>▁▁▁▂▂▂▂▃▃▃▃▄▄▄▄▅▅▅▅▆▆▆▆▇▇▇▇███</td></tr><tr><td>loss</td><td>█████████▇▇▇▇▇▆▆▆▅▅▄▄▄▃▃▂▂▂▁▁▁</td></tr><tr><td>root_mean_squared_error</td><td>██████████▇▇▇▇▇▆▆▆▆▅▅▄▄▄▃▃▂▂▁▁</td></tr><tr><td>val_loss</td><td>████████▇▇▇▇▇▆▆▆▅▅▅▄▄▃▃▃▂▂▂▁▁▁</td></tr><tr><td>val_root_mean_squared_error</td><td>██████████▇▇▇▇▇▆▆▆▅▅▅▄▄▃▃▂▂▂▁▁</td></tr></table><br/></div><div class=\"wandb-col\">\n",
       "<h3>Run summary:</h3><br/><table class=\"wandb\"><tr><td>Mean Validation Loss (all folds)</td><td>3897672243.2</td></tr><tr><td>Mean Validation RMSE (all folds)</td><td>62352.34453</td></tr><tr><td>best_epoch</td><td>29</td></tr><tr><td>best_val_loss</td><td>3608423424.0</td></tr><tr><td>epoch</td><td>29</td></tr><tr><td>loss</td><td>4304610304.0</td></tr><tr><td>root_mean_squared_error</td><td>65609.53125</td></tr><tr><td>val_loss</td><td>3608423424.0</td></tr><tr><td>val_root_mean_squared_error</td><td>60070.15234</td></tr></table>\n",
       "</div></div>\n",
       "Synced 5 W&B file(s), 0 media file(s), 0 artifact file(s) and 1 other file(s)\n",
       "<br/>Synced <strong style=\"color:#cdcd00\">summer-sweep-9</strong>: <a href=\"https://wandb.ai/luiscostigan/house-price-prediction/runs/5jalxpei\" target=\"_blank\">https://wandb.ai/luiscostigan/house-price-prediction/runs/5jalxpei</a><br/>\n",
       "Find logs at: <code>./wandb/run-20220302_033812-5jalxpei/logs</code><br/>\n"
      ],
      "text/plain": [
       "<IPython.core.display.HTML object>"
      ]
     },
     "metadata": {},
     "output_type": "display_data"
    },
    {
     "name": "stderr",
     "output_type": "stream",
     "text": [
      "\u001b[34m\u001b[1mwandb\u001b[0m: Agent Starting Run: 73vxr4t9 with config:\n",
      "\u001b[34m\u001b[1mwandb\u001b[0m: \tbatch_size: 64\n",
      "\u001b[34m\u001b[1mwandb\u001b[0m: \tdropout1: 0.36924589593256574\n",
      "\u001b[34m\u001b[1mwandb\u001b[0m: \tepochs: 50\n",
      "\u001b[34m\u001b[1mwandb\u001b[0m: wandb version 0.12.11 is available!  To upgrade, please run:\n",
      "\u001b[34m\u001b[1mwandb\u001b[0m:  $ pip install wandb --upgrade\n"
     ]
    },
    {
     "data": {
      "text/html": [
       "\n",
       "                    Syncing run <strong><a href=\"https://wandb.ai/luiscostigan/house-price-prediction/runs/73vxr4t9\" target=\"_blank\">treasured-sweep-10</a></strong> to <a href=\"https://wandb.ai/luiscostigan/house-price-prediction\" target=\"_blank\">Weights & Biases</a> (<a href=\"https://docs.wandb.com/integrations/jupyter.html\" target=\"_blank\">docs</a>).<br/>\n",
       "Sweep page: <a href=\"https://wandb.ai/luiscostigan/house-price-prediction/sweeps/ru0ykkjf\" target=\"_blank\">https://wandb.ai/luiscostigan/house-price-prediction/sweeps/ru0ykkjf</a><br/>\n",
       "\n",
       "                "
      ],
      "text/plain": [
       "<IPython.core.display.HTML object>"
      ]
     },
     "metadata": {},
     "output_type": "display_data"
    },
    {
     "name": "stdout",
     "output_type": "stream",
     "text": [
      "37/37 [==============================] - 0s 1ms/step - loss: 689857664.0000 - root_mean_squared_error: 26265.1426\n",
      "Score for fold 1: loss of 689857664.0; root_mean_squared_error of 26265.142578125\n",
      "------------------------------------------------------------------------\n",
      "Score per fold\n",
      "------------------------------------------------------------------------\n",
      "> Fold 1 - Loss: 689857664.0 - RMSE: 26265.142578125%\n",
      "------------------------------------------------------------------------\n",
      "Average scores for all folds:\n",
      "> RMSE: 26265.142578125 (+- 0.0)\n",
      "> Loss: 689857664.0\n",
      "------------------------------------------------------------------------\n"
     ]
    },
    {
     "data": {
      "text/html": [
       "<br/>Waiting for W&B process to finish, PID 20936... <strong style=\"color:green\">(success).</strong>"
      ],
      "text/plain": [
       "<IPython.core.display.HTML object>"
      ]
     },
     "metadata": {},
     "output_type": "display_data"
    },
    {
     "data": {
      "application/vnd.jupyter.widget-view+json": {
       "model_id": "f1ff39365a4d4862b76f65a15217bd4c",
       "version_major": 2,
       "version_minor": 0
      },
      "text/plain": [
       "VBox(children=(Label(value=' 1.24MB of 2.45MB uploaded (0.00MB deduped)\\r'), FloatProgress(value=0.50372399107…"
      ]
     },
     "metadata": {},
     "output_type": "display_data"
    },
    {
     "data": {
      "text/html": [
       "<style>\n",
       "    table.wandb td:nth-child(1) { padding: 0 10px; text-align: right }\n",
       "    .wandb-row { display: flex; flex-direction: row; flex-wrap: wrap; width: 100% }\n",
       "    .wandb-col { display: flex; flex-direction: column; flex-basis: 100%; flex: 1; padding: 10px; }\n",
       "    </style>\n",
       "<div class=\"wandb-row\"><div class=\"wandb-col\">\n",
       "<h3>Run history:</h3><br/><table class=\"wandb\"><tr><td>Mean Validation Loss (all folds)</td><td>▁</td></tr><tr><td>Mean Validation RMSE (all folds)</td><td>▁</td></tr><tr><td>epoch</td><td>▁▁▁▁▂▂▂▂▂▃▃▃▃▃▃▄▄▄▄▄▅▅▅▅▅▅▆▆▆▆▆▆▇▇▇▇▇███</td></tr><tr><td>loss</td><td>██▆▄▁▁▁▁▁▁▁▁▁▁▁▁▁▁▁▁▁▁▁▁▁▁▁▁▁▁▁▁▁▁▁▁▁▁▁▁</td></tr><tr><td>root_mean_squared_error</td><td>██▇▅▂▂▂▁▁▁▁▁▁▁▁▁▁▁▁▁▁▁▁▁▁▁▁▁▁▁▁▁▁▁▁▁▁▁▁▁</td></tr><tr><td>val_loss</td><td>█▇▅▃▁▁▁▁▁▁▁▁▁▁▁▁▁▁▁▁▁▁▁▁▁▁▁▁▁▁▁▁▁▁▁▁▁▁▁▁</td></tr><tr><td>val_root_mean_squared_error</td><td>█▇▆▄▂▂▂▁▁▁▁▁▁▁▁▁▁▁▁▁▁▁▁▁▁▁▁▁▁▁▁▁▁▁▁▁▁▁▁▁</td></tr></table><br/></div><div class=\"wandb-col\">\n",
       "<h3>Run summary:</h3><br/><table class=\"wandb\"><tr><td>Mean Validation Loss (all folds)</td><td>689857664.0</td></tr><tr><td>Mean Validation RMSE (all folds)</td><td>26265.14258</td></tr><tr><td>best_epoch</td><td>49</td></tr><tr><td>best_val_loss</td><td>689857728.0</td></tr><tr><td>epoch</td><td>49</td></tr><tr><td>loss</td><td>749880064.0</td></tr><tr><td>root_mean_squared_error</td><td>27383.9375</td></tr><tr><td>val_loss</td><td>689857728.0</td></tr><tr><td>val_root_mean_squared_error</td><td>26265.14258</td></tr></table>\n",
       "</div></div>\n",
       "Synced 5 W&B file(s), 0 media file(s), 0 artifact file(s) and 1 other file(s)\n",
       "<br/>Synced <strong style=\"color:#cdcd00\">treasured-sweep-10</strong>: <a href=\"https://wandb.ai/luiscostigan/house-price-prediction/runs/73vxr4t9\" target=\"_blank\">https://wandb.ai/luiscostigan/house-price-prediction/runs/73vxr4t9</a><br/>\n",
       "Find logs at: <code>./wandb/run-20220302_033827-73vxr4t9/logs</code><br/>\n"
      ],
      "text/plain": [
       "<IPython.core.display.HTML object>"
      ]
     },
     "metadata": {},
     "output_type": "display_data"
    },
    {
     "name": "stderr",
     "output_type": "stream",
     "text": [
      "\u001b[34m\u001b[1mwandb\u001b[0m: wandb version 0.12.11 is available!  To upgrade, please run:\n",
      "\u001b[34m\u001b[1mwandb\u001b[0m:  $ pip install wandb --upgrade\n"
     ]
    },
    {
     "data": {
      "text/html": [
       "\n",
       "                    Syncing run <strong><a href=\"https://wandb.ai/luiscostigan/house-price-prediction/runs/73vxr4t9\" target=\"_blank\">treasured-sweep-10</a></strong> to <a href=\"https://wandb.ai/luiscostigan/house-price-prediction\" target=\"_blank\">Weights & Biases</a> (<a href=\"https://docs.wandb.com/integrations/jupyter.html\" target=\"_blank\">docs</a>).<br/>\n",
       "Sweep page: <a href=\"https://wandb.ai/luiscostigan/house-price-prediction/sweeps/ru0ykkjf\" target=\"_blank\">https://wandb.ai/luiscostigan/house-price-prediction/sweeps/ru0ykkjf</a><br/>\n",
       "\n",
       "                "
      ],
      "text/plain": [
       "<IPython.core.display.HTML object>"
      ]
     },
     "metadata": {},
     "output_type": "display_data"
    },
    {
     "name": "stdout",
     "output_type": "stream",
     "text": [
      "37/37 [==============================] - 0s 1ms/step - loss: 696049856.0000 - root_mean_squared_error: 26382.7559\n",
      "Score for fold 2: loss of 696049856.0; root_mean_squared_error of 26382.755859375\n",
      "------------------------------------------------------------------------\n",
      "Score per fold\n",
      "------------------------------------------------------------------------\n",
      "> Fold 1 - Loss: 689857664.0 - RMSE: 26265.142578125%\n",
      "------------------------------------------------------------------------\n",
      "> Fold 2 - Loss: 696049856.0 - RMSE: 26382.755859375%\n",
      "------------------------------------------------------------------------\n",
      "Average scores for all folds:\n",
      "> RMSE: 26323.94921875 (+- 58.806640625)\n",
      "> Loss: 692953760.0\n",
      "------------------------------------------------------------------------\n"
     ]
    },
    {
     "data": {
      "text/html": [
       "<br/>Waiting for W&B process to finish, PID 22118... <strong style=\"color:green\">(success).</strong>"
      ],
      "text/plain": [
       "<IPython.core.display.HTML object>"
      ]
     },
     "metadata": {},
     "output_type": "display_data"
    },
    {
     "data": {
      "application/vnd.jupyter.widget-view+json": {
       "model_id": "eb1bb47658254a01843c369c160f8171",
       "version_major": 2,
       "version_minor": 0
      },
      "text/plain": [
       "VBox(children=(Label(value=' 1.25MB of 2.45MB uploaded (0.00MB deduped)\\r'), FloatProgress(value=0.51007615688…"
      ]
     },
     "metadata": {},
     "output_type": "display_data"
    },
    {
     "data": {
      "text/html": [
       "<style>\n",
       "    table.wandb td:nth-child(1) { padding: 0 10px; text-align: right }\n",
       "    .wandb-row { display: flex; flex-direction: row; flex-wrap: wrap; width: 100% }\n",
       "    .wandb-col { display: flex; flex-direction: column; flex-basis: 100%; flex: 1; padding: 10px; }\n",
       "    </style>\n",
       "<div class=\"wandb-row\"><div class=\"wandb-col\">\n",
       "<h3>Run history:</h3><br/><table class=\"wandb\"><tr><td>Mean Validation Loss (all folds)</td><td>▁</td></tr><tr><td>Mean Validation RMSE (all folds)</td><td>▁</td></tr><tr><td>epoch</td><td>▁▁▁▁▂▂▂▂▂▃▃▃▃▃▃▄▄▄▄▄▅▅▅▅▅▅▆▆▆▆▆▆▇▇▇▇▇███</td></tr><tr><td>loss</td><td>██▆▄▁▁▁▁▁▁▁▁▁▁▁▁▁▁▁▁▁▁▁▁▁▁▁▁▁▁▁▁▁▁▁▁▁▁▁▁</td></tr><tr><td>root_mean_squared_error</td><td>██▇▅▂▂▂▁▁▁▁▁▁▁▁▁▁▁▁▁▁▁▁▁▁▁▁▁▁▁▁▁▁▁▁▁▁▁▁▁</td></tr><tr><td>val_loss</td><td>█▇▅▃▁▁▁▁▁▁▁▁▁▁▁▁▁▁▁▁▁▁▁▁▁▁▁▁▁▁▁▁▁▁▁▁▁▁▁▁</td></tr><tr><td>val_root_mean_squared_error</td><td>█▇▆▄▂▂▂▁▁▁▁▁▁▁▁▁▁▁▁▁▁▁▁▁▁▁▁▁▁▁▁▁▁▁▁▁▁▁▁▁</td></tr></table><br/></div><div class=\"wandb-col\">\n",
       "<h3>Run summary:</h3><br/><table class=\"wandb\"><tr><td>Mean Validation Loss (all folds)</td><td>692953760.0</td></tr><tr><td>Mean Validation RMSE (all folds)</td><td>26323.94922</td></tr><tr><td>best_epoch</td><td>48</td></tr><tr><td>best_val_loss</td><td>694684864.0</td></tr><tr><td>epoch</td><td>49</td></tr><tr><td>loss</td><td>743430208.0</td></tr><tr><td>root_mean_squared_error</td><td>27265.91602</td></tr><tr><td>val_loss</td><td>696049856.0</td></tr><tr><td>val_root_mean_squared_error</td><td>26382.75586</td></tr></table>\n",
       "</div></div>\n",
       "Synced 5 W&B file(s), 0 media file(s), 0 artifact file(s) and 1 other file(s)\n",
       "<br/>Synced <strong style=\"color:#cdcd00\">treasured-sweep-10</strong>: <a href=\"https://wandb.ai/luiscostigan/house-price-prediction/runs/73vxr4t9\" target=\"_blank\">https://wandb.ai/luiscostigan/house-price-prediction/runs/73vxr4t9</a><br/>\n",
       "Find logs at: <code>./wandb/run-20220302_033842-73vxr4t9/logs</code><br/>\n"
      ],
      "text/plain": [
       "<IPython.core.display.HTML object>"
      ]
     },
     "metadata": {},
     "output_type": "display_data"
    },
    {
     "name": "stderr",
     "output_type": "stream",
     "text": [
      "\u001b[34m\u001b[1mwandb\u001b[0m: wandb version 0.12.11 is available!  To upgrade, please run:\n",
      "\u001b[34m\u001b[1mwandb\u001b[0m:  $ pip install wandb --upgrade\n"
     ]
    },
    {
     "data": {
      "text/html": [
       "\n",
       "                    Syncing run <strong><a href=\"https://wandb.ai/luiscostigan/house-price-prediction/runs/73vxr4t9\" target=\"_blank\">treasured-sweep-10</a></strong> to <a href=\"https://wandb.ai/luiscostigan/house-price-prediction\" target=\"_blank\">Weights & Biases</a> (<a href=\"https://docs.wandb.com/integrations/jupyter.html\" target=\"_blank\">docs</a>).<br/>\n",
       "Sweep page: <a href=\"https://wandb.ai/luiscostigan/house-price-prediction/sweeps/ru0ykkjf\" target=\"_blank\">https://wandb.ai/luiscostigan/house-price-prediction/sweeps/ru0ykkjf</a><br/>\n",
       "\n",
       "                "
      ],
      "text/plain": [
       "<IPython.core.display.HTML object>"
      ]
     },
     "metadata": {},
     "output_type": "display_data"
    },
    {
     "name": "stdout",
     "output_type": "stream",
     "text": [
      "37/37 [==============================] - 0s 2ms/step - loss: 772503680.0000 - root_mean_squared_error: 27793.9512\n",
      "Score for fold 3: loss of 772503680.0; root_mean_squared_error of 27793.951171875\n",
      "------------------------------------------------------------------------\n",
      "Score per fold\n",
      "------------------------------------------------------------------------\n",
      "> Fold 1 - Loss: 689857664.0 - RMSE: 26265.142578125%\n",
      "------------------------------------------------------------------------\n",
      "> Fold 2 - Loss: 696049856.0 - RMSE: 26382.755859375%\n",
      "------------------------------------------------------------------------\n",
      "> Fold 3 - Loss: 772503680.0 - RMSE: 27793.951171875%\n",
      "------------------------------------------------------------------------\n",
      "Average scores for all folds:\n",
      "> RMSE: 26813.949869791668 (+- 694.6270630323246)\n",
      "> Loss: 719470400.0\n",
      "------------------------------------------------------------------------\n"
     ]
    },
    {
     "data": {
      "text/html": [
       "<br/>Waiting for W&B process to finish, PID 23328... <strong style=\"color:green\">(success).</strong>"
      ],
      "text/plain": [
       "<IPython.core.display.HTML object>"
      ]
     },
     "metadata": {},
     "output_type": "display_data"
    },
    {
     "data": {
      "application/vnd.jupyter.widget-view+json": {
       "model_id": "5a6774e1a8ef4a8a9f5a44a0d4b6f6c1",
       "version_major": 2,
       "version_minor": 0
      },
      "text/plain": [
       "VBox(children=(Label(value=' 2.45MB of 2.45MB uploaded (0.00MB deduped)\\r'), FloatProgress(value=1.0, max=1.0)…"
      ]
     },
     "metadata": {},
     "output_type": "display_data"
    },
    {
     "data": {
      "text/html": [
       "<style>\n",
       "    table.wandb td:nth-child(1) { padding: 0 10px; text-align: right }\n",
       "    .wandb-row { display: flex; flex-direction: row; flex-wrap: wrap; width: 100% }\n",
       "    .wandb-col { display: flex; flex-direction: column; flex-basis: 100%; flex: 1; padding: 10px; }\n",
       "    </style>\n",
       "<div class=\"wandb-row\"><div class=\"wandb-col\">\n",
       "<h3>Run history:</h3><br/><table class=\"wandb\"><tr><td>Mean Validation Loss (all folds)</td><td>▁</td></tr><tr><td>Mean Validation RMSE (all folds)</td><td>▁</td></tr><tr><td>epoch</td><td>▁▁▁▁▂▂▂▂▂▃▃▃▃▃▃▄▄▄▄▄▅▅▅▅▅▅▆▆▆▆▆▆▇▇▇▇▇███</td></tr><tr><td>loss</td><td>██▆▄▁▁▁▁▁▁▁▁▁▁▁▁▁▁▁▁▁▁▁▁▁▁▁▁▁▁▁▁▁▁▁▁▁▁▁▁</td></tr><tr><td>root_mean_squared_error</td><td>██▇▅▂▂▂▂▁▁▁▁▁▁▁▁▁▁▁▁▁▁▁▁▁▁▁▁▁▁▁▁▁▁▁▁▁▁▁▁</td></tr><tr><td>val_loss</td><td>█▇▅▃▁▁▁▁▁▁▁▁▁▁▁▁▁▁▁▁▁▁▁▁▁▁▁▁▁▁▁▁▁▁▁▁▁▁▁▁</td></tr><tr><td>val_root_mean_squared_error</td><td>█▇▆▄▂▂▂▁▁▁▁▁▁▁▁▁▁▁▁▁▁▁▁▁▁▁▁▁▁▁▁▁▁▁▁▁▁▁▁▁</td></tr></table><br/></div><div class=\"wandb-col\">\n",
       "<h3>Run summary:</h3><br/><table class=\"wandb\"><tr><td>Mean Validation Loss (all folds)</td><td>719470400.0</td></tr><tr><td>Mean Validation RMSE (all folds)</td><td>26813.94987</td></tr><tr><td>best_epoch</td><td>48</td></tr><tr><td>best_val_loss</td><td>688762752.0</td></tr><tr><td>epoch</td><td>49</td></tr><tr><td>loss</td><td>771481856.0</td></tr><tr><td>root_mean_squared_error</td><td>27775.5625</td></tr><tr><td>val_loss</td><td>772503680.0</td></tr><tr><td>val_root_mean_squared_error</td><td>27793.95117</td></tr></table>\n",
       "</div></div>\n",
       "Synced 5 W&B file(s), 0 media file(s), 0 artifact file(s) and 1 other file(s)\n",
       "<br/>Synced <strong style=\"color:#cdcd00\">treasured-sweep-10</strong>: <a href=\"https://wandb.ai/luiscostigan/house-price-prediction/runs/73vxr4t9\" target=\"_blank\">https://wandb.ai/luiscostigan/house-price-prediction/runs/73vxr4t9</a><br/>\n",
       "Find logs at: <code>./wandb/run-20220302_033857-73vxr4t9/logs</code><br/>\n"
      ],
      "text/plain": [
       "<IPython.core.display.HTML object>"
      ]
     },
     "metadata": {},
     "output_type": "display_data"
    },
    {
     "name": "stderr",
     "output_type": "stream",
     "text": [
      "\u001b[34m\u001b[1mwandb\u001b[0m: wandb version 0.12.11 is available!  To upgrade, please run:\n",
      "\u001b[34m\u001b[1mwandb\u001b[0m:  $ pip install wandb --upgrade\n"
     ]
    },
    {
     "data": {
      "text/html": [
       "\n",
       "                    Syncing run <strong><a href=\"https://wandb.ai/luiscostigan/house-price-prediction/runs/73vxr4t9\" target=\"_blank\">treasured-sweep-10</a></strong> to <a href=\"https://wandb.ai/luiscostigan/house-price-prediction\" target=\"_blank\">Weights & Biases</a> (<a href=\"https://docs.wandb.com/integrations/jupyter.html\" target=\"_blank\">docs</a>).<br/>\n",
       "Sweep page: <a href=\"https://wandb.ai/luiscostigan/house-price-prediction/sweeps/ru0ykkjf\" target=\"_blank\">https://wandb.ai/luiscostigan/house-price-prediction/sweeps/ru0ykkjf</a><br/>\n",
       "\n",
       "                "
      ],
      "text/plain": [
       "<IPython.core.display.HTML object>"
      ]
     },
     "metadata": {},
     "output_type": "display_data"
    },
    {
     "name": "stdout",
     "output_type": "stream",
     "text": [
      "37/37 [==============================] - 0s 1ms/step - loss: 701038464.0000 - root_mean_squared_error: 26477.1309\n",
      "Score for fold 4: loss of 701038464.0; root_mean_squared_error of 26477.130859375\n",
      "------------------------------------------------------------------------\n",
      "Score per fold\n",
      "------------------------------------------------------------------------\n",
      "> Fold 1 - Loss: 689857664.0 - RMSE: 26265.142578125%\n",
      "------------------------------------------------------------------------\n",
      "> Fold 2 - Loss: 696049856.0 - RMSE: 26382.755859375%\n",
      "------------------------------------------------------------------------\n",
      "> Fold 3 - Loss: 772503680.0 - RMSE: 27793.951171875%\n",
      "------------------------------------------------------------------------\n",
      "> Fold 4 - Loss: 701038464.0 - RMSE: 26477.130859375%\n",
      "------------------------------------------------------------------------\n",
      "Average scores for all folds:\n",
      "> RMSE: 26729.7451171875 (+- 618.9922363051668)\n",
      "> Loss: 714862416.0\n",
      "------------------------------------------------------------------------\n"
     ]
    },
    {
     "data": {
      "text/html": [
       "<br/>Waiting for W&B process to finish, PID 24521... <strong style=\"color:green\">(success).</strong>"
      ],
      "text/plain": [
       "<IPython.core.display.HTML object>"
      ]
     },
     "metadata": {},
     "output_type": "display_data"
    },
    {
     "data": {
      "application/vnd.jupyter.widget-view+json": {
       "model_id": "919e5464437547fdb802c6b5aba0f555",
       "version_major": 2,
       "version_minor": 0
      },
      "text/plain": [
       "VBox(children=(Label(value=' 0.90MB of 2.45MB uploaded (0.00MB deduped)\\r'), FloatProgress(value=0.36672933683…"
      ]
     },
     "metadata": {},
     "output_type": "display_data"
    },
    {
     "data": {
      "text/html": [
       "<style>\n",
       "    table.wandb td:nth-child(1) { padding: 0 10px; text-align: right }\n",
       "    .wandb-row { display: flex; flex-direction: row; flex-wrap: wrap; width: 100% }\n",
       "    .wandb-col { display: flex; flex-direction: column; flex-basis: 100%; flex: 1; padding: 10px; }\n",
       "    </style>\n",
       "<div class=\"wandb-row\"><div class=\"wandb-col\">\n",
       "<h3>Run history:</h3><br/><table class=\"wandb\"><tr><td>Mean Validation Loss (all folds)</td><td>▁</td></tr><tr><td>Mean Validation RMSE (all folds)</td><td>▁</td></tr><tr><td>epoch</td><td>▁▁▁▁▂▂▂▂▂▃▃▃▃▃▃▄▄▄▄▄▅▅▅▅▅▅▆▆▆▆▆▆▇▇▇▇▇███</td></tr><tr><td>loss</td><td>██▆▄▁▁▁▁▁▁▁▁▁▁▁▁▁▁▁▁▁▁▁▁▁▁▁▁▁▁▁▁▁▁▁▁▁▁▁▁</td></tr><tr><td>root_mean_squared_error</td><td>██▇▅▂▂▂▁▁▁▁▁▁▁▁▁▁▁▁▁▁▁▁▁▁▁▁▁▁▁▁▁▁▁▁▁▁▁▁▁</td></tr><tr><td>val_loss</td><td>█▇▅▃▁▁▁▁▁▁▁▁▁▁▁▁▁▁▁▁▁▁▁▁▁▁▁▁▁▁▁▁▁▁▁▁▁▁▁▁</td></tr><tr><td>val_root_mean_squared_error</td><td>█▇▆▄▂▂▂▁▁▁▁▁▁▁▁▁▁▁▁▁▁▁▁▁▁▁▁▁▁▁▁▁▁▁▁▁▁▁▁▁</td></tr></table><br/></div><div class=\"wandb-col\">\n",
       "<h3>Run summary:</h3><br/><table class=\"wandb\"><tr><td>Mean Validation Loss (all folds)</td><td>714862416.0</td></tr><tr><td>Mean Validation RMSE (all folds)</td><td>26729.74512</td></tr><tr><td>best_epoch</td><td>48</td></tr><tr><td>best_val_loss</td><td>692058112.0</td></tr><tr><td>epoch</td><td>49</td></tr><tr><td>loss</td><td>755572032.0</td></tr><tr><td>root_mean_squared_error</td><td>27487.66992</td></tr><tr><td>val_loss</td><td>701038464.0</td></tr><tr><td>val_root_mean_squared_error</td><td>26477.13086</td></tr></table>\n",
       "</div></div>\n",
       "Synced 5 W&B file(s), 0 media file(s), 0 artifact file(s) and 1 other file(s)\n",
       "<br/>Synced <strong style=\"color:#cdcd00\">treasured-sweep-10</strong>: <a href=\"https://wandb.ai/luiscostigan/house-price-prediction/runs/73vxr4t9\" target=\"_blank\">https://wandb.ai/luiscostigan/house-price-prediction/runs/73vxr4t9</a><br/>\n",
       "Find logs at: <code>./wandb/run-20220302_033914-73vxr4t9/logs</code><br/>\n"
      ],
      "text/plain": [
       "<IPython.core.display.HTML object>"
      ]
     },
     "metadata": {},
     "output_type": "display_data"
    },
    {
     "name": "stderr",
     "output_type": "stream",
     "text": [
      "\u001b[34m\u001b[1mwandb\u001b[0m: wandb version 0.12.11 is available!  To upgrade, please run:\n",
      "\u001b[34m\u001b[1mwandb\u001b[0m:  $ pip install wandb --upgrade\n"
     ]
    },
    {
     "data": {
      "text/html": [
       "\n",
       "                    Syncing run <strong><a href=\"https://wandb.ai/luiscostigan/house-price-prediction/runs/73vxr4t9\" target=\"_blank\">treasured-sweep-10</a></strong> to <a href=\"https://wandb.ai/luiscostigan/house-price-prediction\" target=\"_blank\">Weights & Biases</a> (<a href=\"https://docs.wandb.com/integrations/jupyter.html\" target=\"_blank\">docs</a>).<br/>\n",
       "Sweep page: <a href=\"https://wandb.ai/luiscostigan/house-price-prediction/sweeps/ru0ykkjf\" target=\"_blank\">https://wandb.ai/luiscostigan/house-price-prediction/sweeps/ru0ykkjf</a><br/>\n",
       "\n",
       "                "
      ],
      "text/plain": [
       "<IPython.core.display.HTML object>"
      ]
     },
     "metadata": {},
     "output_type": "display_data"
    },
    {
     "name": "stdout",
     "output_type": "stream",
     "text": [
      "37/37 [==============================] - 0s 1ms/step - loss: 692565696.0000 - root_mean_squared_error: 26316.6426\n",
      "Score for fold 5: loss of 692565696.0; root_mean_squared_error of 26316.642578125\n",
      "------------------------------------------------------------------------\n",
      "Score per fold\n",
      "------------------------------------------------------------------------\n",
      "> Fold 1 - Loss: 689857664.0 - RMSE: 26265.142578125%\n",
      "------------------------------------------------------------------------\n",
      "> Fold 2 - Loss: 696049856.0 - RMSE: 26382.755859375%\n",
      "------------------------------------------------------------------------\n",
      "> Fold 3 - Loss: 772503680.0 - RMSE: 27793.951171875%\n",
      "------------------------------------------------------------------------\n",
      "> Fold 4 - Loss: 701038464.0 - RMSE: 26477.130859375%\n",
      "------------------------------------------------------------------------\n",
      "> Fold 5 - Loss: 692565696.0 - RMSE: 26316.642578125%\n",
      "------------------------------------------------------------------------\n",
      "Average scores for all folds:\n",
      "> RMSE: 26647.124609375 (+- 577.77651746124)\n",
      "> Loss: 710403072.0\n",
      "------------------------------------------------------------------------\n"
     ]
    },
    {
     "data": {
      "text/html": [
       "<br/>Waiting for W&B process to finish, PID 25714... <strong style=\"color:green\">(success).</strong>"
      ],
      "text/plain": [
       "<IPython.core.display.HTML object>"
      ]
     },
     "metadata": {},
     "output_type": "display_data"
    },
    {
     "data": {
      "application/vnd.jupyter.widget-view+json": {
       "model_id": "4834e5c9624c45778f31214d977126f2",
       "version_major": 2,
       "version_minor": 0
      },
      "text/plain": [
       "VBox(children=(Label(value=' 1.70MB of 2.45MB uploaded (0.00MB deduped)\\r'), FloatProgress(value=0.69164879562…"
      ]
     },
     "metadata": {},
     "output_type": "display_data"
    },
    {
     "data": {
      "text/html": [
       "<style>\n",
       "    table.wandb td:nth-child(1) { padding: 0 10px; text-align: right }\n",
       "    .wandb-row { display: flex; flex-direction: row; flex-wrap: wrap; width: 100% }\n",
       "    .wandb-col { display: flex; flex-direction: column; flex-basis: 100%; flex: 1; padding: 10px; }\n",
       "    </style>\n",
       "<div class=\"wandb-row\"><div class=\"wandb-col\">\n",
       "<h3>Run history:</h3><br/><table class=\"wandb\"><tr><td>Mean Validation Loss (all folds)</td><td>▁</td></tr><tr><td>Mean Validation RMSE (all folds)</td><td>▁</td></tr><tr><td>epoch</td><td>▁▁▁▁▂▂▂▂▂▃▃▃▃▃▃▄▄▄▄▄▅▅▅▅▅▅▆▆▆▆▆▆▇▇▇▇▇███</td></tr><tr><td>loss</td><td>██▆▄▁▁▁▁▁▁▁▁▁▁▁▁▁▁▁▁▁▁▁▁▁▁▁▁▁▁▁▁▁▁▁▁▁▁▁▁</td></tr><tr><td>root_mean_squared_error</td><td>██▇▅▂▂▂▂▁▁▁▁▁▁▁▁▁▁▁▁▁▁▁▁▁▁▁▁▁▁▁▁▁▁▁▁▁▁▁▁</td></tr><tr><td>val_loss</td><td>█▇▅▃▁▁▁▁▁▁▁▁▁▁▁▁▁▁▁▁▁▁▁▁▁▁▁▁▁▁▁▁▁▁▁▁▁▁▁▁</td></tr><tr><td>val_root_mean_squared_error</td><td>█▇▆▄▂▂▂▁▁▁▁▁▁▁▁▁▁▁▁▁▁▁▁▁▁▁▁▁▁▁▁▁▁▁▁▁▁▁▁▁</td></tr></table><br/></div><div class=\"wandb-col\">\n",
       "<h3>Run summary:</h3><br/><table class=\"wandb\"><tr><td>Mean Validation Loss (all folds)</td><td>710403072.0</td></tr><tr><td>Mean Validation RMSE (all folds)</td><td>26647.12461</td></tr><tr><td>best_epoch</td><td>48</td></tr><tr><td>best_val_loss</td><td>692033920.0</td></tr><tr><td>epoch</td><td>49</td></tr><tr><td>loss</td><td>703920000.0</td></tr><tr><td>root_mean_squared_error</td><td>26531.49023</td></tr><tr><td>val_loss</td><td>692565632.0</td></tr><tr><td>val_root_mean_squared_error</td><td>26316.64258</td></tr></table>\n",
       "</div></div>\n",
       "Synced 5 W&B file(s), 0 media file(s), 0 artifact file(s) and 1 other file(s)\n",
       "<br/>Synced <strong style=\"color:#cdcd00\">treasured-sweep-10</strong>: <a href=\"https://wandb.ai/luiscostigan/house-price-prediction/runs/73vxr4t9\" target=\"_blank\">https://wandb.ai/luiscostigan/house-price-prediction/runs/73vxr4t9</a><br/>\n",
       "Find logs at: <code>./wandb/run-20220302_033929-73vxr4t9/logs</code><br/>\n"
      ],
      "text/plain": [
       "<IPython.core.display.HTML object>"
      ]
     },
     "metadata": {},
     "output_type": "display_data"
    }
   ],
   "source": [
    "from wandb.keras import WandbCallback\n",
    "\n",
    "sweep_config = {\n",
    "  \"name\": \"keras-sequential-model-sweep\",\n",
    "  \"method\": \"random\",\n",
    "  \"parameters\": {\n",
    "    \"dropout1\": {\n",
    "      \"min\": 0.0,\n",
    "      \"max\": 0.6\n",
    "    },\n",
    "    \"epochs\": {\n",
    "      \"values\": [30,50,100,200]\n",
    "    },\n",
    "    \"batch_size\": {\n",
    "      \"values\": [16, 64, 128, 512]\n",
    "    }\n",
    "  }\n",
    "}\n",
    "\n",
    "config_defaults = {\n",
    "  \"dropout1\": 0.5,\n",
    "  \"epochs\": 50,\n",
    "  \"batch_size\": 64\n",
    "}\n",
    "\n",
    "def train():\n",
    "\n",
    "  rmse_per_fold = []\n",
    "  loss_per_fold = []\n",
    "  fold_no = 1\n",
    "\n",
    "  # Go through each split, and get the index number for each (currently 50, 10 x 5 repeated k-fold) \n",
    "  for train, test in kf.split(X_train, y_train):\n",
    "\n",
    "    # With the current session in WandB\n",
    "    with wandb.init(config=config_defaults) as run:\n",
    "\n",
    "      # Recreate the model each time for each new batch\n",
    "      model = None # Not sure if this step is necessary\n",
    "      model = create_model()\n",
    "\n",
    "      # Fit model on new batches\n",
    "      model.fit(\n",
    "        np.asarray(X_train), \n",
    "        y_train, \n",
    "        epochs=wandb.config.epochs, \n",
    "        batch_size=wandb.config.batch_size, \n",
    "        verbose=0,\n",
    "        callbacks=[WandbCallback()], \n",
    "        validation_data=(np.asarray(X_train),y_train)\n",
    "        )\n",
    "      \n",
    "      # Generate data for each\n",
    "      scores = model.evaluate(np.asarray(X_train), y_train, callbacks=[WandbCallback()])\n",
    "      print(f'Score for fold {fold_no}: {model.metrics_names[0]} of {scores[0]}; {model.metrics_names[1]} of {scores[1]}')\n",
    "      rmse_per_fold.append(scores[1])\n",
    "      loss_per_fold.append(scores[0])\n",
    "\n",
    "      # Increase fold number\n",
    "      fold_no = fold_no + 1\n",
    "\n",
    "      # == Provide average scores ==\n",
    "      print('------------------------------------------------------------------------')\n",
    "      print('Score per fold')\n",
    "      for i in range(0, len(rmse_per_fold)):\n",
    "        print('------------------------------------------------------------------------')\n",
    "        print(f'> Fold {i+1} - Loss: {loss_per_fold[i]} - RMSE: {rmse_per_fold[i]}%')\n",
    "      print('------------------------------------------------------------------------')\n",
    "      print('Average scores for all folds:')\n",
    "      print(f'> RMSE: {np.mean(rmse_per_fold)} (+- {np.std(rmse_per_fold)})')\n",
    "      print(f'> Loss: {np.mean(loss_per_fold)}')\n",
    "      print('------------------------------------------------------------------------')\n",
    "\n",
    "      wandb.log({\n",
    "        \"Mean Validation RMSE (all folds)\": np.mean(rmse_per_fold),\n",
    "        \"Mean Validation Loss (all folds)\": np.mean(loss_per_fold) \n",
    "        })\n",
    "\n",
    "keras_sequential_sweep_1 = wandb.sweep(sweep_config, project=\"house-price-prediction\", entity=\"luiscostigan\")\n",
    "\n",
    "count = 10\n",
    "wandb.agent(keras_sequential_sweep_1, function=train, count=count)"
   ]
  },
  {
   "cell_type": "code",
   "execution_count": 113,
   "id": "7b238b8d-bf25-43da-acdb-7caa72dec5df",
   "metadata": {},
   "outputs": [],
   "source": [
    "# Enter best params from sweep\n",
    "best_params = {\n",
    "    \"dropout\": 0.1589,\n",
    "    \"epochs\": 50,\n",
    "    \"batch_size\": 16\n",
    "}\n",
    "\n",
    "def make_predictions(best_params, dataset):\n",
    "    \n",
    "    model = Sequential()\n",
    "    model.add(Dense(64, input_dim=X_train.shape[1], activation='relu'))\n",
    "    model.add(Dense(512, activation='relu'))\n",
    "    model.add(Dropout(best_params.get(\"dropout\")))\n",
    "    model.add(Dense(512, activation='relu'))\n",
    "    model.add(Dense(1))\n",
    "    model.compile(optimizer='rmsprop', loss=\"mse\", metrics=[RootMeanSquaredError()])\n",
    "              \n",
    "    model.fit(X_train, y_train, epochs=best_params.get(\"epochs\"),\n",
    "              batch_size=best_params.get(\"batch_size\"), verbose = 0)\n",
    "    \n",
    "    preds  = model.predict(dataset, best_params.get(\"batch_size\"), verbose = 0)\n",
    "              \n",
    "    return preds"
   ]
  },
  {
   "cell_type": "code",
   "execution_count": 114,
   "id": "73e3b4ec-1072-44a8-82b7-620ce29e29db",
   "metadata": {},
   "outputs": [],
   "source": [
    "test_predictions = make_predictions(best_params, X_test)\n",
    "holdout_predictions = make_predictions(best_params, X_holdout)"
   ]
  },
  {
   "cell_type": "markdown",
   "id": "9ee06205-3d55-49c7-8c13-0a0e587ef0df",
   "metadata": {},
   "source": [
    "## Create Submissions"
   ]
  },
  {
   "cell_type": "code",
   "execution_count": 115,
   "id": "6580547e-79cc-46f0-bb94-eb246c24d95d",
   "metadata": {},
   "outputs": [],
   "source": [
    "# Generating submission for test dataset\n",
    "d = {\"Id\":X_test.index,\"SalePrice\":test_predictions.flatten()}\n",
    "submission = pd.DataFrame(data=d, index=None)\n",
    "\n",
    "submission[\"Id\"] = submission[\"Id\"] + 1461\n",
    "\n",
    "submission.to_csv(\"submission_nn.csv\",index=False)"
   ]
  },
  {
   "cell_type": "markdown",
   "id": "18fb0b31",
   "metadata": {},
   "source": [
    "## Blend Predictions\n",
    "\n",
    "First, try taking the mean of predictions from the decision tree algorithm and neural net algorithm."
   ]
  },
  {
   "cell_type": "code",
   "execution_count": 118,
   "id": "578a0854",
   "metadata": {},
   "outputs": [],
   "source": [
    "# Read CSVs\n",
    "decision_tree_predictions = pd.read_csv(\"/root/data-science-projects-1/house-price-prediction/Models/sklearn/submission_dt.csv\")\n",
    "neural_net_predictions = pd.read_csv(\"/root/data-science-projects-1/house-price-prediction/Models/tensorflow/submission_nn.csv\")\n",
    "\n",
    "# Merge CSVs on Id column\n",
    "decision_tree_predictions[\"neural_net_predictions\"] = neural_net_predictions[\"SalePrice\"]\n",
    "\n",
    "# Rename decision tree predictions column\n",
    "decision_tree_predictions = decision_tree_predictions.rename(columns={\"SalePrice\":\"decision_tree_predictions\"})\n",
    "\n",
    "# Add new column with mean\n",
    "decision_tree_predictions[\"SalePrice\"] = decision_tree_predictions[[\"neural_net_predictions\",\"decision_tree_predictions\"]].mean(axis=1)\n",
    "\n",
    "# Drop other columns\n",
    "decision_tree_predictions = decision_tree_predictions[[\"Id\",\"SalePrice\"]]\n",
    "\n",
    "mean_predictions = decision_tree_predictions"
   ]
  },
  {
   "cell_type": "code",
   "execution_count": 119,
   "id": "5c98024e",
   "metadata": {},
   "outputs": [],
   "source": [
    "mean_predictions.to_csv(\"submission_mean.csv\",index=False)"
   ]
  },
  {
   "cell_type": "markdown",
   "id": "99d1ff2c",
   "metadata": {},
   "source": [
    "Next, try defining a meta-model to best blend predictions."
   ]
  },
  {
   "cell_type": "code",
   "execution_count": null,
   "id": "d05f88ef",
   "metadata": {},
   "outputs": [],
   "source": [
    "# You currently have the following problems:\n",
    "# 1) You have trained and validated using k-fold validation on a training set that was already split into a validation set.\n",
    "# 2) You need to keep a \"hold-out\" data set to validate merged predictions, that was not used at all in the DT and NN models."
   ]
  },
  {
   "cell_type": "code",
   "execution_count": 88,
   "id": "d4109da3",
   "metadata": {},
   "outputs": [],
   "source": [
    "holdout_predictions_df[\"NN_predictions\"] = holdout_predictions\n",
    "holdout_predictions_df = holdout_predictions_df[[\"DT_predictions\", \"NN_predictions\", \"Actual_SalePrice\"]]"
   ]
  },
  {
   "cell_type": "code",
   "execution_count": null,
   "id": "f608885a",
   "metadata": {},
   "outputs": [],
   "source": [
    "# Use a super-simple Linear Regression to generate blended predictions"
   ]
  },
  {
   "cell_type": "code",
   "execution_count": 155,
   "id": "a0349413",
   "metadata": {},
   "outputs": [],
   "source": [
    "test_predictions_dt = pd.read_csv(\"/root/data-science-projects-1/house-price-prediction/Models/sklearn/submission_dt.csv\")\n",
    "test_predictions_nn = pd.read_csv(\"/root/data-science-projects-1/house-price-prediction/Models/tensorflow/submission_nn.csv\")"
   ]
  },
  {
   "cell_type": "code",
   "execution_count": 156,
   "id": "7b11d9e7",
   "metadata": {},
   "outputs": [],
   "source": [
    "# Merge CSVs on Id column\n",
    "test_predictions_dt[\"NN_predictions\"] = test_predictions_nn[\"SalePrice\"]\n",
    "\n",
    "# Rename decision tree predictions column\n",
    "test_predictions_dt = test_predictions_dt.rename(columns={\"SalePrice\":\"DT_predictions\"})\n",
    "\n",
    "# Rename df\n",
    "blended_predictions_df = test_predictions_dt"
   ]
  },
  {
   "cell_type": "code",
   "execution_count": 157,
   "id": "e7e34d4f",
   "metadata": {},
   "outputs": [
    {
     "data": {
      "text/html": [
       "<div>\n",
       "<style scoped>\n",
       "    .dataframe tbody tr th:only-of-type {\n",
       "        vertical-align: middle;\n",
       "    }\n",
       "\n",
       "    .dataframe tbody tr th {\n",
       "        vertical-align: top;\n",
       "    }\n",
       "\n",
       "    .dataframe thead th {\n",
       "        text-align: right;\n",
       "    }\n",
       "</style>\n",
       "<table border=\"1\" class=\"dataframe\">\n",
       "  <thead>\n",
       "    <tr style=\"text-align: right;\">\n",
       "      <th></th>\n",
       "      <th>Id</th>\n",
       "      <th>DT_predictions</th>\n",
       "      <th>NN_predictions</th>\n",
       "    </tr>\n",
       "  </thead>\n",
       "  <tbody>\n",
       "    <tr>\n",
       "      <th>0</th>\n",
       "      <td>1461</td>\n",
       "      <td>127293.890818</td>\n",
       "      <td>115650.310</td>\n",
       "    </tr>\n",
       "    <tr>\n",
       "      <th>1</th>\n",
       "      <td>1462</td>\n",
       "      <td>161564.270609</td>\n",
       "      <td>163336.770</td>\n",
       "    </tr>\n",
       "    <tr>\n",
       "      <th>2</th>\n",
       "      <td>1463</td>\n",
       "      <td>181414.391385</td>\n",
       "      <td>180642.690</td>\n",
       "    </tr>\n",
       "    <tr>\n",
       "      <th>3</th>\n",
       "      <td>1464</td>\n",
       "      <td>191273.208250</td>\n",
       "      <td>191659.220</td>\n",
       "    </tr>\n",
       "    <tr>\n",
       "      <th>4</th>\n",
       "      <td>1465</td>\n",
       "      <td>184825.733316</td>\n",
       "      <td>197580.620</td>\n",
       "    </tr>\n",
       "    <tr>\n",
       "      <th>...</th>\n",
       "      <td>...</td>\n",
       "      <td>...</td>\n",
       "      <td>...</td>\n",
       "    </tr>\n",
       "    <tr>\n",
       "      <th>1454</th>\n",
       "      <td>2915</td>\n",
       "      <td>79642.883442</td>\n",
       "      <td>79426.590</td>\n",
       "    </tr>\n",
       "    <tr>\n",
       "      <th>1455</th>\n",
       "      <td>2916</td>\n",
       "      <td>85594.040995</td>\n",
       "      <td>74407.945</td>\n",
       "    </tr>\n",
       "    <tr>\n",
       "      <th>1456</th>\n",
       "      <td>2917</td>\n",
       "      <td>153089.149513</td>\n",
       "      <td>165210.940</td>\n",
       "    </tr>\n",
       "    <tr>\n",
       "      <th>1457</th>\n",
       "      <td>2918</td>\n",
       "      <td>113378.264361</td>\n",
       "      <td>110647.040</td>\n",
       "    </tr>\n",
       "    <tr>\n",
       "      <th>1458</th>\n",
       "      <td>2919</td>\n",
       "      <td>220078.736889</td>\n",
       "      <td>202848.380</td>\n",
       "    </tr>\n",
       "  </tbody>\n",
       "</table>\n",
       "<p>1459 rows × 3 columns</p>\n",
       "</div>"
      ],
      "text/plain": [
       "        Id  DT_predictions  NN_predictions\n",
       "0     1461   127293.890818      115650.310\n",
       "1     1462   161564.270609      163336.770\n",
       "2     1463   181414.391385      180642.690\n",
       "3     1464   191273.208250      191659.220\n",
       "4     1465   184825.733316      197580.620\n",
       "...    ...             ...             ...\n",
       "1454  2915    79642.883442       79426.590\n",
       "1455  2916    85594.040995       74407.945\n",
       "1456  2917   153089.149513      165210.940\n",
       "1457  2918   113378.264361      110647.040\n",
       "1458  2919   220078.736889      202848.380\n",
       "\n",
       "[1459 rows x 3 columns]"
      ]
     },
     "execution_count": 157,
     "metadata": {},
     "output_type": "execute_result"
    }
   ],
   "source": [
    "blended_predictions_df"
   ]
  },
  {
   "cell_type": "code",
   "execution_count": 192,
   "id": "88d80bdc",
   "metadata": {},
   "outputs": [
    {
     "name": "stderr",
     "output_type": "stream",
     "text": [
      "/usr/local/lib/python3.8/dist-packages/xgboost/data.py:262: FutureWarning: pandas.Int64Index is deprecated and will be removed from pandas in a future version. Use pandas.Index with the appropriate dtype instead.\n",
      "  elif isinstance(data.columns, (pd.Int64Index, pd.RangeIndex)):\n",
      "/usr/local/lib/python3.8/dist-packages/xgboost/data.py:262: FutureWarning: pandas.Int64Index is deprecated and will be removed from pandas in a future version. Use pandas.Index with the appropriate dtype instead.\n",
      "  elif isinstance(data.columns, (pd.Int64Index, pd.RangeIndex)):\n",
      "/usr/local/lib/python3.8/dist-packages/xgboost/data.py:262: FutureWarning: pandas.Int64Index is deprecated and will be removed from pandas in a future version. Use pandas.Index with the appropriate dtype instead.\n",
      "  elif isinstance(data.columns, (pd.Int64Index, pd.RangeIndex)):\n",
      "/usr/local/lib/python3.8/dist-packages/xgboost/data.py:262: FutureWarning: pandas.Int64Index is deprecated and will be removed from pandas in a future version. Use pandas.Index with the appropriate dtype instead.\n",
      "  elif isinstance(data.columns, (pd.Int64Index, pd.RangeIndex)):\n",
      "/usr/local/lib/python3.8/dist-packages/xgboost/data.py:262: FutureWarning: pandas.Int64Index is deprecated and will be removed from pandas in a future version. Use pandas.Index with the appropriate dtype instead.\n",
      "  elif isinstance(data.columns, (pd.Int64Index, pd.RangeIndex)):\n",
      "/usr/local/lib/python3.8/dist-packages/xgboost/data.py:262: FutureWarning: pandas.Int64Index is deprecated and will be removed from pandas in a future version. Use pandas.Index with the appropriate dtype instead.\n",
      "  elif isinstance(data.columns, (pd.Int64Index, pd.RangeIndex)):\n",
      "/usr/local/lib/python3.8/dist-packages/xgboost/data.py:262: FutureWarning: pandas.Int64Index is deprecated and will be removed from pandas in a future version. Use pandas.Index with the appropriate dtype instead.\n",
      "  elif isinstance(data.columns, (pd.Int64Index, pd.RangeIndex)):\n",
      "/usr/local/lib/python3.8/dist-packages/xgboost/data.py:262: FutureWarning: pandas.Int64Index is deprecated and will be removed from pandas in a future version. Use pandas.Index with the appropriate dtype instead.\n",
      "  elif isinstance(data.columns, (pd.Int64Index, pd.RangeIndex)):\n",
      "/usr/local/lib/python3.8/dist-packages/xgboost/data.py:262: FutureWarning: pandas.Int64Index is deprecated and will be removed from pandas in a future version. Use pandas.Index with the appropriate dtype instead.\n",
      "  elif isinstance(data.columns, (pd.Int64Index, pd.RangeIndex)):\n",
      "/usr/local/lib/python3.8/dist-packages/xgboost/data.py:262: FutureWarning: pandas.Int64Index is deprecated and will be removed from pandas in a future version. Use pandas.Index with the appropriate dtype instead.\n",
      "  elif isinstance(data.columns, (pd.Int64Index, pd.RangeIndex)):\n",
      "/usr/local/lib/python3.8/dist-packages/xgboost/data.py:262: FutureWarning: pandas.Int64Index is deprecated and will be removed from pandas in a future version. Use pandas.Index with the appropriate dtype instead.\n",
      "  elif isinstance(data.columns, (pd.Int64Index, pd.RangeIndex)):\n"
     ]
    },
    {
     "data": {
      "text/plain": [
       "GridSearchCV(cv=10, estimator=Pipeline(steps=[('clf', LinearRegression())]),\n",
       "             param_grid=[{'clf': (LinearRegression(),)}, {'clf': (Ridge(),)},\n",
       "                         {'clf': (XGBRegressor(base_score=None, booster=None,\n",
       "                                               colsample_bylevel=None,\n",
       "                                               colsample_bynode=None,\n",
       "                                               colsample_bytree=None,\n",
       "                                               enable_categorical=False,\n",
       "                                               gamma=None, gpu_id=None,\n",
       "                                               importance_type=None,\n",
       "                                               interaction_constraints=None,...\n",
       "                                               min_child_weight=None,\n",
       "                                               missing=nan,\n",
       "                                               monotone_constraints=None,\n",
       "                                               n_estimators=100, n_jobs=None,\n",
       "                                               num_parallel_tree=None,\n",
       "                                               predictor=None,\n",
       "                                               random_state=None,\n",
       "                                               reg_alpha=None, reg_lambda=None,\n",
       "                                               scale_pos_weight=None,\n",
       "                                               subsample=None, tree_method=None,\n",
       "                                               validate_parameters=None,\n",
       "                                               verbosity=None),)},\n",
       "                         {'clf': (LGBMRegressor(),)}],\n",
       "             scoring=make_scorer(mean_squared_error, squared=False))"
      ]
     },
     "execution_count": 192,
     "metadata": {},
     "output_type": "execute_result"
    }
   ],
   "source": [
    "from sklearn.linear_model import LinearRegression, Ridge\n",
    "from sklearn.model_selection import cross_val_score, GridSearchCV\n",
    "from sklearn.pipeline import Pipeline\n",
    "from sklearn.metrics import make_scorer, mean_squared_error\n",
    "import xgboost as xgb\n",
    "import lightgbm as lgb\n",
    "\n",
    "\n",
    "rmse = make_scorer(mean_squared_error, squared=False)\n",
    "\n",
    "X = holdout_predictions_df[[\"DT_predictions\", \"NN_predictions\"]]\n",
    "y = holdout_predictions_df[\"Actual_SalePrice\"]\n",
    "\n",
    "#folds = KFold(n_splits=5, shuffle=True, random_state = 100)\n",
    "\n",
    "estimators = [\n",
    "    {\n",
    "        \"clf\": (LinearRegression(),)\n",
    "    },\n",
    "    {\n",
    "        \"clf\": (Ridge(),)\n",
    "    },\n",
    "    {\n",
    "        \"clf\": (xgb.XGBRegressor(),)\n",
    "    },\n",
    "    {\n",
    "       \"clf\": (lgb.LGBMRegressor(),)\n",
    "    }\n",
    "]\n",
    "\n",
    "pipe = Pipeline([(\"clf\", LinearRegression())])\n",
    "\n",
    "grid_search = GridSearchCV(pipe, estimators, cv=10, scoring=rmse)\n",
    "grid_search.fit(X,y)"
   ]
  },
  {
   "cell_type": "code",
   "execution_count": 193,
   "id": "f98dafc7",
   "metadata": {},
   "outputs": [
    {
     "data": {
      "text/plain": [
       "Pipeline(steps=[('clf',\n",
       "                 XGBRegressor(base_score=0.5, booster='gbtree',\n",
       "                              colsample_bylevel=1, colsample_bynode=1,\n",
       "                              colsample_bytree=1, enable_categorical=False,\n",
       "                              gamma=0, gpu_id=-1, importance_type=None,\n",
       "                              interaction_constraints='',\n",
       "                              learning_rate=0.300000012, max_delta_step=0,\n",
       "                              max_depth=6, min_child_weight=1, missing=nan,\n",
       "                              monotone_constraints='()', n_estimators=100,\n",
       "                              n_jobs=16, num_parallel_tree=1, predictor='auto',\n",
       "                              random_state=0, reg_alpha=0, reg_lambda=1,\n",
       "                              scale_pos_weight=1, subsample=1,\n",
       "                              tree_method='exact', validate_parameters=1,\n",
       "                              verbosity=None))])"
      ]
     },
     "execution_count": 193,
     "metadata": {},
     "output_type": "execute_result"
    }
   ],
   "source": [
    "grid_search.best_estimator_"
   ]
  },
  {
   "cell_type": "code",
   "execution_count": 194,
   "id": "5f117f30",
   "metadata": {},
   "outputs": [
    {
     "name": "stderr",
     "output_type": "stream",
     "text": [
      "/usr/local/lib/python3.8/dist-packages/xgboost/data.py:262: FutureWarning: pandas.Int64Index is deprecated and will be removed from pandas in a future version. Use pandas.Index with the appropriate dtype instead.\n",
      "  elif isinstance(data.columns, (pd.Int64Index, pd.RangeIndex)):\n"
     ]
    },
    {
     "data": {
      "text/plain": [
       "array([125867.625, 167306.84 , 177933.84 , ..., 149429.88 , 111527.47 ,\n",
       "       228091.75 ], dtype=float32)"
      ]
     },
     "execution_count": 194,
     "metadata": {},
     "output_type": "execute_result"
    }
   ],
   "source": [
    "grid_search_blended_predictions = grid_search.predict(blended_predictions_df[[\"DT_predictions\", \"NN_predictions\"]])\n",
    "grid_search_blended_predictions"
   ]
  },
  {
   "cell_type": "code",
   "execution_count": 181,
   "id": "0a154b42",
   "metadata": {},
   "outputs": [],
   "source": [
    "grid_search_blended_predictions_df = blended_predictions_df\n",
    "grid_search_blended_predictions_df[\"SalePrice\"] = grid_search_blended_predictions\n",
    "grid_search_blended_predictions_df = grid_search_blended_predictions_df.drop(columns=[\"DT_predictions\",\"NN_predictions\"])\n",
    "grid_search_blended_predictions_df.to_csv(\"submission_gridsearch_blended.csv\",index=False)"
   ]
  },
  {
   "cell_type": "code",
   "execution_count": null,
   "id": "60f3e2d2",
   "metadata": {},
   "outputs": [],
   "source": []
  }
 ],
 "metadata": {
  "kernelspec": {
   "display_name": "Python 3 (ipykernel)",
   "language": "python",
   "name": "python3"
  },
  "language_info": {
   "codemirror_mode": {
    "name": "ipython",
    "version": 3
   },
   "file_extension": ".py",
   "mimetype": "text/x-python",
   "name": "python",
   "nbconvert_exporter": "python",
   "pygments_lexer": "ipython3",
   "version": "3.8.10"
  }
 },
 "nbformat": 4,
 "nbformat_minor": 5
}
