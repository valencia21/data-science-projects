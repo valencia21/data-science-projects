{
 "cells": [
  {
   "cell_type": "code",
   "execution_count": 2,
   "id": "1a9b44ee-21e3-44e1-ab3b-4af5c351aca6",
   "metadata": {
    "tags": []
   },
   "outputs": [],
   "source": [
    "from tensorflow.keras.models import Sequential\n",
    "from tensorflow.keras.layers import Dense, Dropout\n",
    "from time import time\n",
    "from sklearn.metrics import mean_absolute_error\n",
    "import wandb\n",
    "import pandas as pd\n",
    "import numpy as np\n",
    "import matplotlib.pyplot as plt"
   ]
  },
  {
   "cell_type": "code",
   "execution_count": 4,
   "id": "41683053-0452-48d6-8033-a5e2909e0f84",
   "metadata": {},
   "outputs": [],
   "source": [
    "def data():\n",
    "    training = pd.read_csv(\"/root/data-science-projects-1/house-price-prediction/Models/sklearn/training_preprocessed\")\n",
    "    validation = pd.read_csv(\"/root/data-science-projects-1/house-price-prediction/Models/sklearn/validation_preprocessed\")\n",
    "    holdout = pd.read_csv(\"/root/data-science-projects-1/house-price-prediction/Models/sklearn/holdout_preprocessed\")\n",
    "    holdout_predictions = pd.read_csv(\"/root/data-science-projects-1/house-price-prediction/Models/sklearn/holdout_preds_preprocessed\")\n",
    "    test = pd.read_csv(\"/root/data-science-projects-1/house-price-prediction/Models/sklearn/test_preprocessed\")\n",
    "    \n",
    "    X_train = training.drop(columns=\"SalePrice\")\n",
    "    y_train = training[\"SalePrice\"]\n",
    "    X_valid = validation.drop(columns=\"SalePrice\")\n",
    "    y_valid = validation[\"SalePrice\"]\n",
    "    X_holdout = holdout.drop(columns=\"Actual_SalePrice\")\n",
    "    y_holdout = holdout[\"Actual_SalePrice\"]\n",
    "    X_test = test\n",
    "    return X_train, y_train, X_valid, y_valid, X_holdout, y_holdout, X_test"
   ]
  },
  {
   "cell_type": "code",
   "execution_count": 8,
   "id": "0cd95926-a2d1-484d-8674-273e1310e88d",
   "metadata": {},
   "outputs": [
    {
     "name": "stderr",
     "output_type": "stream",
     "text": [
      "Failed to detect the name of this notebook, you can set it manually with the WANDB_NOTEBOOK_NAME environment variable to enable code saving.\n",
      "\u001b[34m\u001b[1mwandb\u001b[0m: Currently logged in as: \u001b[33mluiscostigan\u001b[0m (use `wandb login --relogin` to force relogin)\n"
     ]
    },
    {
     "data": {
      "text/html": [
       "\n",
       "                    Syncing run <strong><a href=\"https://wandb.ai/luiscostigan/house-price-prediction/runs/13syoind\" target=\"_blank\">lunar-lion-126</a></strong> to <a href=\"https://wandb.ai/luiscostigan/house-price-prediction\" target=\"_blank\">Weights & Biases</a> (<a href=\"https://docs.wandb.com/integrations/jupyter.html\" target=\"_blank\">docs</a>).<br/>\n",
       "\n",
       "                "
      ],
      "text/plain": [
       "<IPython.core.display.HTML object>"
      ]
     },
     "metadata": {},
     "output_type": "display_data"
    },
    {
     "data": {
      "text/html": [
       "<button onClick=\"this.nextSibling.style.display='block';this.style.display='none';\">Display W&B run</button><iframe src=\"https://wandb.ai/luiscostigan/house-price-prediction/runs/13syoind?jupyter=true\" style=\"border:none;width:100%;height:420px;display:none;\"></iframe>"
      ],
      "text/plain": [
       "<wandb.sdk.wandb_run.Run at 0x7f957e7898e0>"
      ]
     },
     "execution_count": 8,
     "metadata": {},
     "output_type": "execute_result"
    }
   ],
   "source": [
    "wandb.init(project=\"house-price-prediction\", entity=\"luiscostigan\")"
   ]
  },
  {
   "cell_type": "markdown",
   "id": "1b06efad-42f3-4cb3-90c9-ee188ed47acc",
   "metadata": {},
   "source": [
    "def create_model():\n",
    "    model = Sequential()\n",
    "    model.add(Dense(64, input_dim=X_train.shape[1], activation='relu'))\n",
    "    model.add(Dense(512, activation='relu'))\n",
    "    model.add(Dropout(wandb.config.dropout1))\n",
    "    model.add(Dense(512, activation='relu'))\n",
    "    model.add(Dense(1))\n",
    "    model.compile(optimizer='rmsprop', loss=\"mse\", metrics=[\"\"])\n",
    "    \n",
    "    return model"
   ]
  },
  {
   "cell_type": "code",
   "execution_count": 10,
   "id": "51f06990",
   "metadata": {},
   "outputs": [
    {
     "data": {
      "text/plain": [
       "5"
      ]
     },
     "execution_count": 10,
     "metadata": {},
     "output_type": "execute_result"
    }
   ],
   "source": [
    "from sklearn.model_selection import KFold\n",
    "\n",
    "# Instantiate the validator, have it spit out the indices, generate batches from the indices, and feed those batches to the model.\n",
    "kf = KFold(n_splits=5)\n",
    "kf.get_n_splits(X_train, y_train)"
   ]
  },
  {
   "cell_type": "markdown",
   "id": "a12df004",
   "metadata": {},
   "source": [
    "Currently trying to implement RepeatedKFold cross validation with the Keras Sequential model, while recording model results on WandB.\n",
    "\n",
    "Sometimes I am getting a failed-1 error from WandB.\n",
    "    - "
   ]
  },
  {
   "cell_type": "code",
   "execution_count": 11,
   "id": "9e707d3f-2deb-4ac1-b274-48350e1027bd",
   "metadata": {},
   "outputs": [
    {
     "name": "stderr",
     "output_type": "stream",
     "text": [
      "\u001b[34m\u001b[1mwandb\u001b[0m: \u001b[33mWARNING\u001b[0m Calling wandb.login() after wandb.init() has no effect.\n"
     ]
    },
    {
     "name": "stdout",
     "output_type": "stream",
     "text": [
      "Create sweep with ID: 7tqliuqb\n",
      "Sweep URL: https://wandb.ai/luiscostigan/house-price-prediction/sweeps/7tqliuqb\n"
     ]
    },
    {
     "name": "stderr",
     "output_type": "stream",
     "text": [
      "\u001b[34m\u001b[1mwandb\u001b[0m: Agent Starting Run: 7vueblz6 with config:\n",
      "\u001b[34m\u001b[1mwandb\u001b[0m: \tbatch_size: 16\n",
      "\u001b[34m\u001b[1mwandb\u001b[0m: \tdropout1: 0.3290358347002571\n",
      "\u001b[34m\u001b[1mwandb\u001b[0m: \tepochs: 30\n"
     ]
    },
    {
     "data": {
      "text/html": [
       "\n",
       "                    Syncing run <strong><a href=\"https://wandb.ai/luiscostigan/house-price-prediction/runs/7vueblz6\" target=\"_blank\">fancy-sweep-1</a></strong> to <a href=\"https://wandb.ai/luiscostigan/house-price-prediction\" target=\"_blank\">Weights & Biases</a> (<a href=\"https://docs.wandb.com/integrations/jupyter.html\" target=\"_blank\">docs</a>).<br/>\n",
       "Sweep page: <a href=\"https://wandb.ai/luiscostigan/house-price-prediction/sweeps/7tqliuqb\" target=\"_blank\">https://wandb.ai/luiscostigan/house-price-prediction/sweeps/7tqliuqb</a><br/>\n",
       "\n",
       "                "
      ],
      "text/plain": [
       "<IPython.core.display.HTML object>"
      ]
     },
     "metadata": {},
     "output_type": "display_data"
    },
    {
     "name": "stdout",
     "output_type": "stream",
     "text": [
      "30/30 [==============================] - 0s 1ms/step - loss: 764085696.0000 - mae: 13761.7559\n",
      "Score for fold 1: loss of 764085696.0; mae of 13761.755859375\n",
      "------------------------------------------------------------------------\n",
      "Score per fold\n",
      "------------------------------------------------------------------------\n",
      "> Fold 1 - Loss: 764085696.0 - Accuracy: 13761.755859375%\n",
      "------------------------------------------------------------------------\n",
      "Average scores for all folds:\n",
      "> MAE: 13761.755859375 (+- 0.0)\n",
      "> Loss: 764085696.0\n",
      "------------------------------------------------------------------------\n"
     ]
    },
    {
     "data": {
      "text/html": [
       "<br/>Waiting for W&B process to finish, PID 14517... <strong style=\"color:green\">(success).</strong>"
      ],
      "text/plain": [
       "<IPython.core.display.HTML object>"
      ]
     },
     "metadata": {},
     "output_type": "display_data"
    },
    {
     "data": {
      "application/vnd.jupyter.widget-view+json": {
       "model_id": "4221cb4b73954829be171699d11ccd8a",
       "version_major": 2,
       "version_minor": 0
      },
      "text/plain": [
       "VBox(children=(Label(value=' 0.00MB of 2.45MB uploaded (0.00MB deduped)\\r'), FloatProgress(value=0.00039858934…"
      ]
     },
     "metadata": {},
     "output_type": "display_data"
    },
    {
     "data": {
      "text/html": [
       "<style>\n",
       "    table.wandb td:nth-child(1) { padding: 0 10px; text-align: right }\n",
       "    .wandb-row { display: flex; flex-direction: row; flex-wrap: wrap; width: 100% }\n",
       "    .wandb-col { display: flex; flex-direction: column; flex-basis: 100%; flex: 1; padding: 10px; }\n",
       "    </style>\n",
       "<div class=\"wandb-row\"><div class=\"wandb-col\">\n",
       "<h3>Run history:</h3><br/><table class=\"wandb\"><tr><td>Mean Validation Loss (all folds)</td><td>▁</td></tr><tr><td>Mean Validation MAE (all folds)</td><td>▁</td></tr><tr><td>epoch</td><td>▁▁▁▂▂▂▂▃▃▃▃▄▄▄▄▅▅▅▅▆▆▆▆▇▇▇▇███</td></tr><tr><td>loss</td><td>█▃▁▁▁▁▁▁▁▁▁▁▁▁▁▁▁▁▁▁▁▁▁▁▁▁▁▁▁▁</td></tr><tr><td>mae</td><td>█▄▂▁▁▁▁▁▁▁▁▁▁▁▁▁▁▁▁▁▁▁▁▁▁▁▁▁▁▁</td></tr><tr><td>val_loss</td><td>█▂▁▁▁▁▁▁▁▁▁▁▁▁▁▁▁▁▁▁▁▁▁▁▁▁▁▁▁▁</td></tr><tr><td>val_mae</td><td>█▂▂▂▁▁▁▁▁▁▁▁▁▁▁▁▁▁▁▁▁▁▁▁▁▁▁▁▁▁</td></tr></table><br/></div><div class=\"wandb-col\">\n",
       "<h3>Run summary:</h3><br/><table class=\"wandb\"><tr><td>Mean Validation Loss (all folds)</td><td>764085696.0</td></tr><tr><td>Mean Validation MAE (all folds)</td><td>13761.75586</td></tr><tr><td>best_epoch</td><td>29</td></tr><tr><td>best_val_loss</td><td>764085696.0</td></tr><tr><td>epoch</td><td>29</td></tr><tr><td>loss</td><td>839825472.0</td></tr><tr><td>mae</td><td>15187.45508</td></tr><tr><td>val_loss</td><td>764085696.0</td></tr><tr><td>val_mae</td><td>13761.75684</td></tr></table>\n",
       "</div></div>\n",
       "Synced 5 W&B file(s), 0 media file(s), 0 artifact file(s) and 1 other file(s)\n",
       "<br/>Synced <strong style=\"color:#cdcd00\">fancy-sweep-1</strong>: <a href=\"https://wandb.ai/luiscostigan/house-price-prediction/runs/7vueblz6\" target=\"_blank\">https://wandb.ai/luiscostigan/house-price-prediction/runs/7vueblz6</a><br/>\n",
       "Find logs at: <code>./wandb/run-20220301_074904-7vueblz6/logs</code><br/>\n"
      ],
      "text/plain": [
       "<IPython.core.display.HTML object>"
      ]
     },
     "metadata": {},
     "output_type": "display_data"
    },
    {
     "data": {
      "text/html": [
       "\n",
       "                    Syncing run <strong><a href=\"https://wandb.ai/luiscostigan/house-price-prediction/runs/7vueblz6\" target=\"_blank\">fancy-sweep-1</a></strong> to <a href=\"https://wandb.ai/luiscostigan/house-price-prediction\" target=\"_blank\">Weights & Biases</a> (<a href=\"https://docs.wandb.com/integrations/jupyter.html\" target=\"_blank\">docs</a>).<br/>\n",
       "Sweep page: <a href=\"https://wandb.ai/luiscostigan/house-price-prediction/sweeps/7tqliuqb\" target=\"_blank\">https://wandb.ai/luiscostigan/house-price-prediction/sweeps/7tqliuqb</a><br/>\n",
       "\n",
       "                "
      ],
      "text/plain": [
       "<IPython.core.display.HTML object>"
      ]
     },
     "metadata": {},
     "output_type": "display_data"
    },
    {
     "name": "stdout",
     "output_type": "stream",
     "text": [
      "30/30 [==============================] - 0s 2ms/step - loss: 771098112.0000 - mae: 14246.5312\n",
      "Score for fold 2: loss of 771098112.0; mae of 14246.53125\n",
      "------------------------------------------------------------------------\n",
      "Score per fold\n",
      "------------------------------------------------------------------------\n",
      "> Fold 1 - Loss: 764085696.0 - Accuracy: 13761.755859375%\n",
      "------------------------------------------------------------------------\n",
      "> Fold 2 - Loss: 771098112.0 - Accuracy: 14246.53125%\n",
      "------------------------------------------------------------------------\n",
      "Average scores for all folds:\n",
      "> MAE: 14004.1435546875 (+- 242.3876953125)\n",
      "> Loss: 767591904.0\n",
      "------------------------------------------------------------------------\n"
     ]
    },
    {
     "data": {
      "text/html": [
       "<br/>Waiting for W&B process to finish, PID 15399... <strong style=\"color:green\">(success).</strong>"
      ],
      "text/plain": [
       "<IPython.core.display.HTML object>"
      ]
     },
     "metadata": {},
     "output_type": "display_data"
    },
    {
     "data": {
      "application/vnd.jupyter.widget-view+json": {
       "model_id": "972d24cf60a94055b697025976453e89",
       "version_major": 2,
       "version_minor": 0
      },
      "text/plain": [
       "VBox(children=(Label(value=' 1.60MB of 2.45MB uploaded (0.00MB deduped)\\r'), FloatProgress(value=0.65342297694…"
      ]
     },
     "metadata": {},
     "output_type": "display_data"
    },
    {
     "data": {
      "text/html": [
       "<style>\n",
       "    table.wandb td:nth-child(1) { padding: 0 10px; text-align: right }\n",
       "    .wandb-row { display: flex; flex-direction: row; flex-wrap: wrap; width: 100% }\n",
       "    .wandb-col { display: flex; flex-direction: column; flex-basis: 100%; flex: 1; padding: 10px; }\n",
       "    </style>\n",
       "<div class=\"wandb-row\"><div class=\"wandb-col\">\n",
       "<h3>Run history:</h3><br/><table class=\"wandb\"><tr><td>Mean Validation Loss (all folds)</td><td>▁</td></tr><tr><td>Mean Validation MAE (all folds)</td><td>▁</td></tr><tr><td>epoch</td><td>▁▁▁▂▂▂▂▃▃▃▃▄▄▄▄▅▅▅▅▆▆▆▆▇▇▇▇███</td></tr><tr><td>loss</td><td>█▃▁▁▁▁▁▁▁▁▁▁▁▁▁▁▁▁▁▁▁▁▁▁▁▁▁▁▁▁</td></tr><tr><td>mae</td><td>█▄▂▁▁▁▁▁▁▁▁▁▁▁▁▁▁▁▁▁▁▁▁▁▁▁▁▁▁▁</td></tr><tr><td>val_loss</td><td>█▂▁▁▁▁▁▁▁▁▁▁▁▁▁▁▁▁▁▁▁▁▁▁▁▁▁▁▁▁</td></tr><tr><td>val_mae</td><td>█▂▂▂▁▁▁▁▁▁▁▁▁▁▁▁▁▁▁▁▁▁▁▁▁▁▁▁▁▁</td></tr></table><br/></div><div class=\"wandb-col\">\n",
       "<h3>Run summary:</h3><br/><table class=\"wandb\"><tr><td>Mean Validation Loss (all folds)</td><td>767591904.0</td></tr><tr><td>Mean Validation MAE (all folds)</td><td>14004.14355</td></tr><tr><td>best_epoch</td><td>26</td></tr><tr><td>best_val_loss</td><td>762481984.0</td></tr><tr><td>epoch</td><td>29</td></tr><tr><td>loss</td><td>811691520.0</td></tr><tr><td>mae</td><td>15034.79785</td></tr><tr><td>val_loss</td><td>771098240.0</td></tr><tr><td>val_mae</td><td>14246.53125</td></tr></table>\n",
       "</div></div>\n",
       "Synced 5 W&B file(s), 0 media file(s), 0 artifact file(s) and 1 other file(s)\n",
       "<br/>Synced <strong style=\"color:#cdcd00\">fancy-sweep-1</strong>: <a href=\"https://wandb.ai/luiscostigan/house-price-prediction/runs/7vueblz6\" target=\"_blank\">https://wandb.ai/luiscostigan/house-price-prediction/runs/7vueblz6</a><br/>\n",
       "Find logs at: <code>./wandb/run-20220301_074923-7vueblz6/logs</code><br/>\n"
      ],
      "text/plain": [
       "<IPython.core.display.HTML object>"
      ]
     },
     "metadata": {},
     "output_type": "display_data"
    },
    {
     "data": {
      "text/html": [
       "\n",
       "                    Syncing run <strong><a href=\"https://wandb.ai/luiscostigan/house-price-prediction/runs/7vueblz6\" target=\"_blank\">fancy-sweep-1</a></strong> to <a href=\"https://wandb.ai/luiscostigan/house-price-prediction\" target=\"_blank\">Weights & Biases</a> (<a href=\"https://docs.wandb.com/integrations/jupyter.html\" target=\"_blank\">docs</a>).<br/>\n",
       "Sweep page: <a href=\"https://wandb.ai/luiscostigan/house-price-prediction/sweeps/7tqliuqb\" target=\"_blank\">https://wandb.ai/luiscostigan/house-price-prediction/sweeps/7tqliuqb</a><br/>\n",
       "\n",
       "                "
      ],
      "text/plain": [
       "<IPython.core.display.HTML object>"
      ]
     },
     "metadata": {},
     "output_type": "display_data"
    },
    {
     "name": "stdout",
     "output_type": "stream",
     "text": [
      "30/30 [==============================] - 0s 2ms/step - loss: 759819584.0000 - mae: 13695.9336\n",
      "Score for fold 3: loss of 759819584.0; mae of 13695.93359375\n",
      "------------------------------------------------------------------------\n",
      "Score per fold\n",
      "------------------------------------------------------------------------\n",
      "> Fold 1 - Loss: 764085696.0 - Accuracy: 13761.755859375%\n",
      "------------------------------------------------------------------------\n",
      "> Fold 2 - Loss: 771098112.0 - Accuracy: 14246.53125%\n",
      "------------------------------------------------------------------------\n",
      "> Fold 3 - Loss: 759819584.0 - Accuracy: 13695.93359375%\n",
      "------------------------------------------------------------------------\n",
      "Average scores for all folds:\n",
      "> MAE: 13901.406901041666 (+- 245.51477191937906)\n",
      "> Loss: 765001130.6666666\n",
      "------------------------------------------------------------------------\n"
     ]
    },
    {
     "data": {
      "text/html": [
       "<br/>Waiting for W&B process to finish, PID 16229... <strong style=\"color:green\">(success).</strong>"
      ],
      "text/plain": [
       "<IPython.core.display.HTML object>"
      ]
     },
     "metadata": {},
     "output_type": "display_data"
    },
    {
     "data": {
      "application/vnd.jupyter.widget-view+json": {
       "model_id": "4222ad78b08f47578bc2edda571565d6",
       "version_major": 2,
       "version_minor": 0
      },
      "text/plain": [
       "VBox(children=(Label(value=' 2.25MB of 2.45MB uploaded (0.00MB deduped)\\r'), FloatProgress(value=0.91781251251…"
      ]
     },
     "metadata": {},
     "output_type": "display_data"
    },
    {
     "data": {
      "text/html": [
       "<style>\n",
       "    table.wandb td:nth-child(1) { padding: 0 10px; text-align: right }\n",
       "    .wandb-row { display: flex; flex-direction: row; flex-wrap: wrap; width: 100% }\n",
       "    .wandb-col { display: flex; flex-direction: column; flex-basis: 100%; flex: 1; padding: 10px; }\n",
       "    </style>\n",
       "<div class=\"wandb-row\"><div class=\"wandb-col\">\n",
       "<h3>Run history:</h3><br/><table class=\"wandb\"><tr><td>Mean Validation Loss (all folds)</td><td>▁</td></tr><tr><td>Mean Validation MAE (all folds)</td><td>▁</td></tr><tr><td>epoch</td><td>▁▁▁▂▂▂▂▃▃▃▃▄▄▄▄▅▅▅▅▆▆▆▆▇▇▇▇███</td></tr><tr><td>loss</td><td>█▃▁▁▁▁▁▁▁▁▁▁▁▁▁▁▁▁▁▁▁▁▁▁▁▁▁▁▁▁</td></tr><tr><td>mae</td><td>█▄▂▁▁▁▁▁▁▁▁▁▁▁▁▁▁▁▁▁▁▁▁▁▁▁▁▁▁▁</td></tr><tr><td>val_loss</td><td>█▂▁▁▁▁▁▁▁▁▁▁▁▁▁▁▁▁▁▁▁▁▁▁▁▁▁▁▁▁</td></tr><tr><td>val_mae</td><td>█▂▂▁▁▁▁▁▁▁▁▁▁▁▁▁▁▁▁▁▁▁▁▁▁▁▁▁▁▁</td></tr></table><br/></div><div class=\"wandb-col\">\n",
       "<h3>Run summary:</h3><br/><table class=\"wandb\"><tr><td>Mean Validation Loss (all folds)</td><td>765001130.66667</td></tr><tr><td>Mean Validation MAE (all folds)</td><td>13901.4069</td></tr><tr><td>best_epoch</td><td>29</td></tr><tr><td>best_val_loss</td><td>759819584.0</td></tr><tr><td>epoch</td><td>29</td></tr><tr><td>loss</td><td>838683328.0</td></tr><tr><td>mae</td><td>15565.75781</td></tr><tr><td>val_loss</td><td>759819584.0</td></tr><tr><td>val_mae</td><td>13695.93457</td></tr></table>\n",
       "</div></div>\n",
       "Synced 5 W&B file(s), 0 media file(s), 0 artifact file(s) and 1 other file(s)\n",
       "<br/>Synced <strong style=\"color:#cdcd00\">fancy-sweep-1</strong>: <a href=\"https://wandb.ai/luiscostigan/house-price-prediction/runs/7vueblz6\" target=\"_blank\">https://wandb.ai/luiscostigan/house-price-prediction/runs/7vueblz6</a><br/>\n",
       "Find logs at: <code>./wandb/run-20220301_074942-7vueblz6/logs</code><br/>\n"
      ],
      "text/plain": [
       "<IPython.core.display.HTML object>"
      ]
     },
     "metadata": {},
     "output_type": "display_data"
    },
    {
     "data": {
      "text/html": [
       "\n",
       "                    Syncing run <strong><a href=\"https://wandb.ai/luiscostigan/house-price-prediction/runs/7vueblz6\" target=\"_blank\">fancy-sweep-1</a></strong> to <a href=\"https://wandb.ai/luiscostigan/house-price-prediction\" target=\"_blank\">Weights & Biases</a> (<a href=\"https://docs.wandb.com/integrations/jupyter.html\" target=\"_blank\">docs</a>).<br/>\n",
       "Sweep page: <a href=\"https://wandb.ai/luiscostigan/house-price-prediction/sweeps/7tqliuqb\" target=\"_blank\">https://wandb.ai/luiscostigan/house-price-prediction/sweeps/7tqliuqb</a><br/>\n",
       "\n",
       "                "
      ],
      "text/plain": [
       "<IPython.core.display.HTML object>"
      ]
     },
     "metadata": {},
     "output_type": "display_data"
    },
    {
     "name": "stdout",
     "output_type": "stream",
     "text": [
      "30/30 [==============================] - 0s 2ms/step - loss: 762777216.0000 - mae: 13527.5801\n",
      "Score for fold 4: loss of 762777216.0; mae of 13527.580078125\n",
      "------------------------------------------------------------------------\n",
      "Score per fold\n",
      "------------------------------------------------------------------------\n",
      "> Fold 1 - Loss: 764085696.0 - Accuracy: 13761.755859375%\n",
      "------------------------------------------------------------------------\n",
      "> Fold 2 - Loss: 771098112.0 - Accuracy: 14246.53125%\n",
      "------------------------------------------------------------------------\n",
      "> Fold 3 - Loss: 759819584.0 - Accuracy: 13695.93359375%\n",
      "------------------------------------------------------------------------\n",
      "> Fold 4 - Loss: 762777216.0 - Accuracy: 13527.580078125%\n",
      "------------------------------------------------------------------------\n",
      "Average scores for all folds:\n",
      "> MAE: 13807.9501953125 (+- 267.2276089033704)\n",
      "> Loss: 764445152.0\n",
      "------------------------------------------------------------------------\n"
     ]
    },
    {
     "data": {
      "text/html": [
       "<br/>Waiting for W&B process to finish, PID 17075... <strong style=\"color:green\">(success).</strong>"
      ],
      "text/plain": [
       "<IPython.core.display.HTML object>"
      ]
     },
     "metadata": {},
     "output_type": "display_data"
    },
    {
     "data": {
      "application/vnd.jupyter.widget-view+json": {
       "model_id": "267fd24e9bc541388474cd0674c25273",
       "version_major": 2,
       "version_minor": 0
      },
      "text/plain": [
       "VBox(children=(Label(value=' 1.59MB of 2.45MB uploaded (0.00MB deduped)\\r'), FloatProgress(value=0.65023749205…"
      ]
     },
     "metadata": {},
     "output_type": "display_data"
    },
    {
     "data": {
      "text/html": [
       "<style>\n",
       "    table.wandb td:nth-child(1) { padding: 0 10px; text-align: right }\n",
       "    .wandb-row { display: flex; flex-direction: row; flex-wrap: wrap; width: 100% }\n",
       "    .wandb-col { display: flex; flex-direction: column; flex-basis: 100%; flex: 1; padding: 10px; }\n",
       "    </style>\n",
       "<div class=\"wandb-row\"><div class=\"wandb-col\">\n",
       "<h3>Run history:</h3><br/><table class=\"wandb\"><tr><td>Mean Validation Loss (all folds)</td><td>▁</td></tr><tr><td>Mean Validation MAE (all folds)</td><td>▁</td></tr><tr><td>epoch</td><td>▁▁▁▂▂▂▂▃▃▃▃▄▄▄▄▅▅▅▅▆▆▆▆▇▇▇▇███</td></tr><tr><td>loss</td><td>█▃▁▁▁▁▁▁▁▁▁▁▁▁▁▁▁▁▁▁▁▁▁▁▁▁▁▁▁▁</td></tr><tr><td>mae</td><td>█▄▂▁▁▁▁▁▁▁▁▁▁▁▁▁▁▁▁▁▁▁▁▁▁▁▁▁▁▁</td></tr><tr><td>val_loss</td><td>█▂▁▁▁▁▁▁▁▁▁▁▁▁▁▁▁▁▁▁▁▁▁▁▁▁▁▁▁▁</td></tr><tr><td>val_mae</td><td>█▂▂▁▁▁▁▁▁▁▁▁▁▁▁▁▁▁▁▁▁▁▁▁▁▁▁▁▁▁</td></tr></table><br/></div><div class=\"wandb-col\">\n",
       "<h3>Run summary:</h3><br/><table class=\"wandb\"><tr><td>Mean Validation Loss (all folds)</td><td>764445152.0</td></tr><tr><td>Mean Validation MAE (all folds)</td><td>13807.9502</td></tr><tr><td>best_epoch</td><td>29</td></tr><tr><td>best_val_loss</td><td>762777152.0</td></tr><tr><td>epoch</td><td>29</td></tr><tr><td>loss</td><td>879392384.0</td></tr><tr><td>mae</td><td>15340.37598</td></tr><tr><td>val_loss</td><td>762777152.0</td></tr><tr><td>val_mae</td><td>13527.58105</td></tr></table>\n",
       "</div></div>\n",
       "Synced 5 W&B file(s), 0 media file(s), 0 artifact file(s) and 1 other file(s)\n",
       "<br/>Synced <strong style=\"color:#cdcd00\">fancy-sweep-1</strong>: <a href=\"https://wandb.ai/luiscostigan/house-price-prediction/runs/7vueblz6\" target=\"_blank\">https://wandb.ai/luiscostigan/house-price-prediction/runs/7vueblz6</a><br/>\n",
       "Find logs at: <code>./wandb/run-20220301_075002-7vueblz6/logs</code><br/>\n"
      ],
      "text/plain": [
       "<IPython.core.display.HTML object>"
      ]
     },
     "metadata": {},
     "output_type": "display_data"
    },
    {
     "data": {
      "text/html": [
       "\n",
       "                    Syncing run <strong><a href=\"https://wandb.ai/luiscostigan/house-price-prediction/runs/7vueblz6\" target=\"_blank\">fancy-sweep-1</a></strong> to <a href=\"https://wandb.ai/luiscostigan/house-price-prediction\" target=\"_blank\">Weights & Biases</a> (<a href=\"https://docs.wandb.com/integrations/jupyter.html\" target=\"_blank\">docs</a>).<br/>\n",
       "Sweep page: <a href=\"https://wandb.ai/luiscostigan/house-price-prediction/sweeps/7tqliuqb\" target=\"_blank\">https://wandb.ai/luiscostigan/house-price-prediction/sweeps/7tqliuqb</a><br/>\n",
       "\n",
       "                "
      ],
      "text/plain": [
       "<IPython.core.display.HTML object>"
      ]
     },
     "metadata": {},
     "output_type": "display_data"
    },
    {
     "name": "stdout",
     "output_type": "stream",
     "text": [
      "30/30 [==============================] - 0s 2ms/step - loss: 769775424.0000 - mae: 13673.3809\n",
      "Score for fold 5: loss of 769775424.0; mae of 13673.380859375\n",
      "------------------------------------------------------------------------\n",
      "Score per fold\n",
      "------------------------------------------------------------------------\n",
      "> Fold 1 - Loss: 764085696.0 - Accuracy: 13761.755859375%\n",
      "------------------------------------------------------------------------\n",
      "> Fold 2 - Loss: 771098112.0 - Accuracy: 14246.53125%\n",
      "------------------------------------------------------------------------\n",
      "> Fold 3 - Loss: 759819584.0 - Accuracy: 13695.93359375%\n",
      "------------------------------------------------------------------------\n",
      "> Fold 4 - Loss: 762777216.0 - Accuracy: 13527.580078125%\n",
      "------------------------------------------------------------------------\n",
      "> Fold 5 - Loss: 769775424.0 - Accuracy: 13673.380859375%\n",
      "------------------------------------------------------------------------\n",
      "Average scores for all folds:\n",
      "> MAE: 13781.036328125 (+- 245.001838679051)\n",
      "> Loss: 765511206.4\n",
      "------------------------------------------------------------------------\n"
     ]
    },
    {
     "data": {
      "text/html": [
       "<br/>Waiting for W&B process to finish, PID 17913... <strong style=\"color:green\">(success).</strong>"
      ],
      "text/plain": [
       "<IPython.core.display.HTML object>"
      ]
     },
     "metadata": {},
     "output_type": "display_data"
    },
    {
     "data": {
      "application/vnd.jupyter.widget-view+json": {
       "model_id": "cd9af481c7ac4b529a3a1a3a31d1db71",
       "version_major": 2,
       "version_minor": 0
      },
      "text/plain": [
       "VBox(children=(Label(value=' 2.45MB of 2.45MB uploaded (0.00MB deduped)\\r'), FloatProgress(value=1.0, max=1.0)…"
      ]
     },
     "metadata": {},
     "output_type": "display_data"
    },
    {
     "data": {
      "text/html": [
       "<style>\n",
       "    table.wandb td:nth-child(1) { padding: 0 10px; text-align: right }\n",
       "    .wandb-row { display: flex; flex-direction: row; flex-wrap: wrap; width: 100% }\n",
       "    .wandb-col { display: flex; flex-direction: column; flex-basis: 100%; flex: 1; padding: 10px; }\n",
       "    </style>\n",
       "<div class=\"wandb-row\"><div class=\"wandb-col\">\n",
       "<h3>Run history:</h3><br/><table class=\"wandb\"><tr><td>Mean Validation Loss (all folds)</td><td>▁</td></tr><tr><td>Mean Validation MAE (all folds)</td><td>▁</td></tr><tr><td>epoch</td><td>▁▁▁▂▂▂▂▃▃▃▃▄▄▄▄▅▅▅▅▆▆▆▆▇▇▇▇███</td></tr><tr><td>loss</td><td>█▃▁▁▁▁▁▁▁▁▁▁▁▁▁▁▁▁▁▁▁▁▁▁▁▁▁▁▁▁</td></tr><tr><td>mae</td><td>█▄▂▁▁▁▁▁▁▁▁▁▁▁▁▁▁▁▁▁▁▁▁▁▁▁▁▁▁▁</td></tr><tr><td>val_loss</td><td>█▂▁▁▁▁▁▁▁▁▁▁▁▁▁▁▁▁▁▁▁▁▁▁▁▁▁▁▁▁</td></tr><tr><td>val_mae</td><td>█▂▂▂▁▁▁▁▁▁▁▁▁▁▁▁▁▁▁▁▁▁▁▁▁▁▁▁▁▁</td></tr></table><br/></div><div class=\"wandb-col\">\n",
       "<h3>Run summary:</h3><br/><table class=\"wandb\"><tr><td>Mean Validation Loss (all folds)</td><td>765511206.4</td></tr><tr><td>Mean Validation MAE (all folds)</td><td>13781.03633</td></tr><tr><td>best_epoch</td><td>28</td></tr><tr><td>best_val_loss</td><td>754012352.0</td></tr><tr><td>epoch</td><td>29</td></tr><tr><td>loss</td><td>883500288.0</td></tr><tr><td>mae</td><td>15019.94824</td></tr><tr><td>val_loss</td><td>769775552.0</td></tr><tr><td>val_mae</td><td>13673.37598</td></tr></table>\n",
       "</div></div>\n",
       "Synced 5 W&B file(s), 0 media file(s), 0 artifact file(s) and 1 other file(s)\n",
       "<br/>Synced <strong style=\"color:#cdcd00\">fancy-sweep-1</strong>: <a href=\"https://wandb.ai/luiscostigan/house-price-prediction/runs/7vueblz6\" target=\"_blank\">https://wandb.ai/luiscostigan/house-price-prediction/runs/7vueblz6</a><br/>\n",
       "Find logs at: <code>./wandb/run-20220301_075022-7vueblz6/logs</code><br/>\n"
      ],
      "text/plain": [
       "<IPython.core.display.HTML object>"
      ]
     },
     "metadata": {},
     "output_type": "display_data"
    },
    {
     "name": "stderr",
     "output_type": "stream",
     "text": [
      "\u001b[34m\u001b[1mwandb\u001b[0m: Agent Starting Run: bffag01q with config:\n",
      "\u001b[34m\u001b[1mwandb\u001b[0m: \tbatch_size: 512\n",
      "\u001b[34m\u001b[1mwandb\u001b[0m: \tdropout1: 0.012525919563827335\n",
      "\u001b[34m\u001b[1mwandb\u001b[0m: \tepochs: 50\n"
     ]
    },
    {
     "data": {
      "text/html": [
       "\n",
       "                    Syncing run <strong><a href=\"https://wandb.ai/luiscostigan/house-price-prediction/runs/bffag01q\" target=\"_blank\">pretty-sweep-2</a></strong> to <a href=\"https://wandb.ai/luiscostigan/house-price-prediction\" target=\"_blank\">Weights & Biases</a> (<a href=\"https://docs.wandb.com/integrations/jupyter.html\" target=\"_blank\">docs</a>).<br/>\n",
       "Sweep page: <a href=\"https://wandb.ai/luiscostigan/house-price-prediction/sweeps/7tqliuqb\" target=\"_blank\">https://wandb.ai/luiscostigan/house-price-prediction/sweeps/7tqliuqb</a><br/>\n",
       "\n",
       "                "
      ],
      "text/plain": [
       "<IPython.core.display.HTML object>"
      ]
     },
     "metadata": {},
     "output_type": "display_data"
    },
    {
     "name": "stdout",
     "output_type": "stream",
     "text": [
      "30/30 [==============================] - 0s 2ms/step - loss: 2701991168.0000 - mae: 30032.1113\n",
      "Score for fold 1: loss of 2701991168.0; mae of 30032.111328125\n",
      "------------------------------------------------------------------------\n",
      "Score per fold\n",
      "------------------------------------------------------------------------\n",
      "> Fold 1 - Loss: 2701991168.0 - Accuracy: 30032.111328125%\n",
      "------------------------------------------------------------------------\n",
      "Average scores for all folds:\n",
      "> MAE: 30032.111328125 (+- 0.0)\n",
      "> Loss: 2701991168.0\n",
      "------------------------------------------------------------------------\n"
     ]
    },
    {
     "data": {
      "text/html": [
       "<br/>Waiting for W&B process to finish, PID 18769... <strong style=\"color:green\">(success).</strong>"
      ],
      "text/plain": [
       "<IPython.core.display.HTML object>"
      ]
     },
     "metadata": {},
     "output_type": "display_data"
    },
    {
     "data": {
      "application/vnd.jupyter.widget-view+json": {
       "model_id": "3a34528ab72b410796745dc8836d3413",
       "version_major": 2,
       "version_minor": 0
      },
      "text/plain": [
       "VBox(children=(Label(value=' 2.42MB of 2.45MB uploaded (0.00MB deduped)\\r'), FloatProgress(value=0.98475016614…"
      ]
     },
     "metadata": {},
     "output_type": "display_data"
    },
    {
     "data": {
      "text/html": [
       "<style>\n",
       "    table.wandb td:nth-child(1) { padding: 0 10px; text-align: right }\n",
       "    .wandb-row { display: flex; flex-direction: row; flex-wrap: wrap; width: 100% }\n",
       "    .wandb-col { display: flex; flex-direction: column; flex-basis: 100%; flex: 1; padding: 10px; }\n",
       "    </style>\n",
       "<div class=\"wandb-row\"><div class=\"wandb-col\">\n",
       "<h3>Run history:</h3><br/><table class=\"wandb\"><tr><td>Mean Validation Loss (all folds)</td><td>▁</td></tr><tr><td>Mean Validation MAE (all folds)</td><td>▁</td></tr><tr><td>epoch</td><td>▁▁▁▁▂▂▂▂▂▃▃▃▃▃▃▄▄▄▄▄▅▅▅▅▅▅▆▆▆▆▆▆▇▇▇▇▇███</td></tr><tr><td>loss</td><td>████████████▇▇▇▇▇▆▆▆▆▅▅▅▄▄▄▄▃▃▃▂▂▂▂▂▁▁▁▁</td></tr><tr><td>mae</td><td>██████████████▇▇▇▇▇▇▆▆▆▆▅▅▅▅▄▄▄▃▃▂▂▂▁▁▁▁</td></tr><tr><td>val_loss</td><td>███████████▇▇▇▇▇▇▆▆▆▅▅▅▅▄▄▄▃▃▃▃▂▂▂▂▁▁▁▁▁</td></tr><tr><td>val_mae</td><td>█████████████▇▇▇▇▇▇▇▆▆▆▆▅▅▅▄▄▄▃▃▃▂▂▂▁▁▁▁</td></tr></table><br/></div><div class=\"wandb-col\">\n",
       "<h3>Run summary:</h3><br/><table class=\"wandb\"><tr><td>Mean Validation Loss (all folds)</td><td>2701991168.0</td></tr><tr><td>Mean Validation MAE (all folds)</td><td>30032.11133</td></tr><tr><td>best_epoch</td><td>49</td></tr><tr><td>best_val_loss</td><td>2701991680.0</td></tr><tr><td>epoch</td><td>49</td></tr><tr><td>loss</td><td>2849351168.0</td></tr><tr><td>mae</td><td>30588.86523</td></tr><tr><td>val_loss</td><td>2701991680.0</td></tr><tr><td>val_mae</td><td>30032.11133</td></tr></table>\n",
       "</div></div>\n",
       "Synced 5 W&B file(s), 0 media file(s), 0 artifact file(s) and 1 other file(s)\n",
       "<br/>Synced <strong style=\"color:#cdcd00\">pretty-sweep-2</strong>: <a href=\"https://wandb.ai/luiscostigan/house-price-prediction/runs/bffag01q\" target=\"_blank\">https://wandb.ai/luiscostigan/house-price-prediction/runs/bffag01q</a><br/>\n",
       "Find logs at: <code>./wandb/run-20220301_075043-bffag01q/logs</code><br/>\n"
      ],
      "text/plain": [
       "<IPython.core.display.HTML object>"
      ]
     },
     "metadata": {},
     "output_type": "display_data"
    },
    {
     "data": {
      "text/html": [
       "\n",
       "                    Syncing run <strong><a href=\"https://wandb.ai/luiscostigan/house-price-prediction/runs/bffag01q\" target=\"_blank\">pretty-sweep-2</a></strong> to <a href=\"https://wandb.ai/luiscostigan/house-price-prediction\" target=\"_blank\">Weights & Biases</a> (<a href=\"https://docs.wandb.com/integrations/jupyter.html\" target=\"_blank\">docs</a>).<br/>\n",
       "Sweep page: <a href=\"https://wandb.ai/luiscostigan/house-price-prediction/sweeps/7tqliuqb\" target=\"_blank\">https://wandb.ai/luiscostigan/house-price-prediction/sweeps/7tqliuqb</a><br/>\n",
       "\n",
       "                "
      ],
      "text/plain": [
       "<IPython.core.display.HTML object>"
      ]
     },
     "metadata": {},
     "output_type": "display_data"
    },
    {
     "name": "stdout",
     "output_type": "stream",
     "text": [
      "30/30 [==============================] - 0s 2ms/step - loss: 2602598656.0000 - mae: 29253.0566\n",
      "Score for fold 2: loss of 2602598656.0; mae of 29253.056640625\n",
      "------------------------------------------------------------------------\n",
      "Score per fold\n",
      "------------------------------------------------------------------------\n",
      "> Fold 1 - Loss: 2701991168.0 - Accuracy: 30032.111328125%\n",
      "------------------------------------------------------------------------\n",
      "> Fold 2 - Loss: 2602598656.0 - Accuracy: 29253.056640625%\n",
      "------------------------------------------------------------------------\n",
      "Average scores for all folds:\n",
      "> MAE: 29642.583984375 (+- 389.52734375)\n",
      "> Loss: 2652294912.0\n",
      "------------------------------------------------------------------------\n"
     ]
    },
    {
     "data": {
      "text/html": [
       "<br/>Waiting for W&B process to finish, PID 19934... <strong style=\"color:green\">(success).</strong>"
      ],
      "text/plain": [
       "<IPython.core.display.HTML object>"
      ]
     },
     "metadata": {},
     "output_type": "display_data"
    },
    {
     "data": {
      "application/vnd.jupyter.widget-view+json": {
       "model_id": "cabaf15f5a164b1cadd87cb2be548b56",
       "version_major": 2,
       "version_minor": 0
      },
      "text/plain": [
       "VBox(children=(Label(value=' 2.13MB of 2.45MB uploaded (0.00MB deduped)\\r'), FloatProgress(value=0.87003594947…"
      ]
     },
     "metadata": {},
     "output_type": "display_data"
    },
    {
     "data": {
      "text/html": [
       "<style>\n",
       "    table.wandb td:nth-child(1) { padding: 0 10px; text-align: right }\n",
       "    .wandb-row { display: flex; flex-direction: row; flex-wrap: wrap; width: 100% }\n",
       "    .wandb-col { display: flex; flex-direction: column; flex-basis: 100%; flex: 1; padding: 10px; }\n",
       "    </style>\n",
       "<div class=\"wandb-row\"><div class=\"wandb-col\">\n",
       "<h3>Run history:</h3><br/><table class=\"wandb\"><tr><td>Mean Validation Loss (all folds)</td><td>▁</td></tr><tr><td>Mean Validation MAE (all folds)</td><td>▁</td></tr><tr><td>epoch</td><td>▁▁▁▁▂▂▂▂▂▃▃▃▃▃▃▄▄▄▄▄▅▅▅▅▅▅▆▆▆▆▆▆▇▇▇▇▇███</td></tr><tr><td>loss</td><td>████████████▇▇▇▇▇▆▆▆▆▅▅▅▄▄▄▄▃▃▃▂▂▂▂▂▁▁▁▁</td></tr><tr><td>mae</td><td>█████████████▇▇▇▇▇▇▇▆▆▆▆▅▅▅▅▄▄▄▃▃▂▂▂▁▁▁▁</td></tr><tr><td>val_loss</td><td>███████████▇▇▇▇▇▆▆▆▆▅▅▅▅▄▄▄▃▃▃▃▂▂▂▂▁▁▁▁▁</td></tr><tr><td>val_mae</td><td>█████████████▇▇▇▇▇▇▇▆▆▆▆▅▅▅▅▄▄▃▃▃▂▂▂▁▁▁▁</td></tr></table><br/></div><div class=\"wandb-col\">\n",
       "<h3>Run summary:</h3><br/><table class=\"wandb\"><tr><td>Mean Validation Loss (all folds)</td><td>2652294912.0</td></tr><tr><td>Mean Validation MAE (all folds)</td><td>29642.58398</td></tr><tr><td>best_epoch</td><td>49</td></tr><tr><td>best_val_loss</td><td>2602598656.0</td></tr><tr><td>epoch</td><td>49</td></tr><tr><td>loss</td><td>2755625216.0</td></tr><tr><td>mae</td><td>29882.5918</td></tr><tr><td>val_loss</td><td>2602598656.0</td></tr><tr><td>val_mae</td><td>29253.05273</td></tr></table>\n",
       "</div></div>\n",
       "Synced 5 W&B file(s), 0 media file(s), 0 artifact file(s) and 1 other file(s)\n",
       "<br/>Synced <strong style=\"color:#cdcd00\">pretty-sweep-2</strong>: <a href=\"https://wandb.ai/luiscostigan/house-price-prediction/runs/bffag01q\" target=\"_blank\">https://wandb.ai/luiscostigan/house-price-prediction/runs/bffag01q</a><br/>\n",
       "Find logs at: <code>./wandb/run-20220301_075055-bffag01q/logs</code><br/>\n"
      ],
      "text/plain": [
       "<IPython.core.display.HTML object>"
      ]
     },
     "metadata": {},
     "output_type": "display_data"
    },
    {
     "data": {
      "text/html": [
       "\n",
       "                    Syncing run <strong><a href=\"https://wandb.ai/luiscostigan/house-price-prediction/runs/bffag01q\" target=\"_blank\">pretty-sweep-2</a></strong> to <a href=\"https://wandb.ai/luiscostigan/house-price-prediction\" target=\"_blank\">Weights & Biases</a> (<a href=\"https://docs.wandb.com/integrations/jupyter.html\" target=\"_blank\">docs</a>).<br/>\n",
       "Sweep page: <a href=\"https://wandb.ai/luiscostigan/house-price-prediction/sweeps/7tqliuqb\" target=\"_blank\">https://wandb.ai/luiscostigan/house-price-prediction/sweeps/7tqliuqb</a><br/>\n",
       "\n",
       "                "
      ],
      "text/plain": [
       "<IPython.core.display.HTML object>"
      ]
     },
     "metadata": {},
     "output_type": "display_data"
    },
    {
     "name": "stdout",
     "output_type": "stream",
     "text": [
      "30/30 [==============================] - 0s 2ms/step - loss: 2621567488.0000 - mae: 29352.1582\n",
      "Score for fold 3: loss of 2621567488.0; mae of 29352.158203125\n",
      "------------------------------------------------------------------------\n",
      "Score per fold\n",
      "------------------------------------------------------------------------\n",
      "> Fold 1 - Loss: 2701991168.0 - Accuracy: 30032.111328125%\n",
      "------------------------------------------------------------------------\n",
      "> Fold 2 - Loss: 2602598656.0 - Accuracy: 29253.056640625%\n",
      "------------------------------------------------------------------------\n",
      "> Fold 3 - Loss: 2621567488.0 - Accuracy: 29352.158203125%\n",
      "------------------------------------------------------------------------\n",
      "Average scores for all folds:\n",
      "> MAE: 29545.775390625 (+- 346.26315907653077)\n",
      "> Loss: 2642052437.3333335\n",
      "------------------------------------------------------------------------\n"
     ]
    },
    {
     "data": {
      "text/html": [
       "<br/>Waiting for W&B process to finish, PID 21091... <strong style=\"color:green\">(success).</strong>"
      ],
      "text/plain": [
       "<IPython.core.display.HTML object>"
      ]
     },
     "metadata": {},
     "output_type": "display_data"
    },
    {
     "data": {
      "application/vnd.jupyter.widget-view+json": {
       "model_id": "5dff2490ee4f4d39b13a98924a8cdf9a",
       "version_major": 2,
       "version_minor": 0
      },
      "text/plain": [
       "VBox(children=(Label(value=' 1.34MB of 2.45MB uploaded (0.00MB deduped)\\r'), FloatProgress(value=0.54511309917…"
      ]
     },
     "metadata": {},
     "output_type": "display_data"
    },
    {
     "data": {
      "text/html": [
       "<style>\n",
       "    table.wandb td:nth-child(1) { padding: 0 10px; text-align: right }\n",
       "    .wandb-row { display: flex; flex-direction: row; flex-wrap: wrap; width: 100% }\n",
       "    .wandb-col { display: flex; flex-direction: column; flex-basis: 100%; flex: 1; padding: 10px; }\n",
       "    </style>\n",
       "<div class=\"wandb-row\"><div class=\"wandb-col\">\n",
       "<h3>Run history:</h3><br/><table class=\"wandb\"><tr><td>Mean Validation Loss (all folds)</td><td>▁</td></tr><tr><td>Mean Validation MAE (all folds)</td><td>▁</td></tr><tr><td>epoch</td><td>▁▁▁▁▂▂▂▂▂▃▃▃▃▃▃▄▄▄▄▄▅▅▅▅▅▅▆▆▆▆▆▆▇▇▇▇▇███</td></tr><tr><td>loss</td><td>████████████▇▇▇▇▇▆▆▆▆▅▅▅▄▄▄▄▃▃▃▂▂▂▂▂▁▁▁▁</td></tr><tr><td>mae</td><td>█████████████▇▇▇▇▇▇▇▆▆▆▆▅▅▅▅▄▄▄▃▃▂▂▂▁▁▁▁</td></tr><tr><td>val_loss</td><td>███████████▇▇▇▇▇▆▆▆▆▅▅▅▅▄▄▄▃▃▃▂▂▂▂▂▁▁▁▁▁</td></tr><tr><td>val_mae</td><td>█████████████▇▇▇▇▇▇▇▆▆▆▆▅▅▅▄▄▄▃▃▃▂▂▂▁▁▁▁</td></tr></table><br/></div><div class=\"wandb-col\">\n",
       "<h3>Run summary:</h3><br/><table class=\"wandb\"><tr><td>Mean Validation Loss (all folds)</td><td>2642052437.33333</td></tr><tr><td>Mean Validation MAE (all folds)</td><td>29545.77539</td></tr><tr><td>best_epoch</td><td>49</td></tr><tr><td>best_val_loss</td><td>2621567744.0</td></tr><tr><td>epoch</td><td>49</td></tr><tr><td>loss</td><td>2760922880.0</td></tr><tr><td>mae</td><td>29840.95508</td></tr><tr><td>val_loss</td><td>2621567744.0</td></tr><tr><td>val_mae</td><td>29352.1582</td></tr></table>\n",
       "</div></div>\n",
       "Synced 5 W&B file(s), 0 media file(s), 0 artifact file(s) and 1 other file(s)\n",
       "<br/>Synced <strong style=\"color:#cdcd00\">pretty-sweep-2</strong>: <a href=\"https://wandb.ai/luiscostigan/house-price-prediction/runs/bffag01q\" target=\"_blank\">https://wandb.ai/luiscostigan/house-price-prediction/runs/bffag01q</a><br/>\n",
       "Find logs at: <code>./wandb/run-20220301_075108-bffag01q/logs</code><br/>\n"
      ],
      "text/plain": [
       "<IPython.core.display.HTML object>"
      ]
     },
     "metadata": {},
     "output_type": "display_data"
    },
    {
     "data": {
      "text/html": [
       "\n",
       "                    Syncing run <strong><a href=\"https://wandb.ai/luiscostigan/house-price-prediction/runs/bffag01q\" target=\"_blank\">pretty-sweep-2</a></strong> to <a href=\"https://wandb.ai/luiscostigan/house-price-prediction\" target=\"_blank\">Weights & Biases</a> (<a href=\"https://docs.wandb.com/integrations/jupyter.html\" target=\"_blank\">docs</a>).<br/>\n",
       "Sweep page: <a href=\"https://wandb.ai/luiscostigan/house-price-prediction/sweeps/7tqliuqb\" target=\"_blank\">https://wandb.ai/luiscostigan/house-price-prediction/sweeps/7tqliuqb</a><br/>\n",
       "\n",
       "                "
      ],
      "text/plain": [
       "<IPython.core.display.HTML object>"
      ]
     },
     "metadata": {},
     "output_type": "display_data"
    },
    {
     "name": "stdout",
     "output_type": "stream",
     "text": [
      "30/30 [==============================] - 0s 2ms/step - loss: 2539979264.0000 - mae: 28917.3594\n",
      "Score for fold 4: loss of 2539979264.0; mae of 28917.359375\n",
      "------------------------------------------------------------------------\n",
      "Score per fold\n",
      "------------------------------------------------------------------------\n",
      "> Fold 1 - Loss: 2701991168.0 - Accuracy: 30032.111328125%\n",
      "------------------------------------------------------------------------\n",
      "> Fold 2 - Loss: 2602598656.0 - Accuracy: 29253.056640625%\n",
      "------------------------------------------------------------------------\n",
      "> Fold 3 - Loss: 2621567488.0 - Accuracy: 29352.158203125%\n",
      "------------------------------------------------------------------------\n",
      "> Fold 4 - Loss: 2539979264.0 - Accuracy: 28917.359375%\n",
      "------------------------------------------------------------------------\n",
      "Average scores for all folds:\n",
      "> MAE: 29388.67138671875 (+- 404.930408379476)\n",
      "> Loss: 2616534144.0\n",
      "------------------------------------------------------------------------\n"
     ]
    },
    {
     "data": {
      "text/html": [
       "<br/>Waiting for W&B process to finish, PID 22251... <strong style=\"color:green\">(success).</strong>"
      ],
      "text/plain": [
       "<IPython.core.display.HTML object>"
      ]
     },
     "metadata": {},
     "output_type": "display_data"
    },
    {
     "data": {
      "application/vnd.jupyter.widget-view+json": {
       "model_id": "5fec378ba801466ab8c8a75378ca5f70",
       "version_major": 2,
       "version_minor": 0
      },
      "text/plain": [
       "VBox(children=(Label(value=' 1.73MB of 2.45MB uploaded (0.00MB deduped)\\r'), FloatProgress(value=0.70439073518…"
      ]
     },
     "metadata": {},
     "output_type": "display_data"
    },
    {
     "data": {
      "text/html": [
       "<style>\n",
       "    table.wandb td:nth-child(1) { padding: 0 10px; text-align: right }\n",
       "    .wandb-row { display: flex; flex-direction: row; flex-wrap: wrap; width: 100% }\n",
       "    .wandb-col { display: flex; flex-direction: column; flex-basis: 100%; flex: 1; padding: 10px; }\n",
       "    </style>\n",
       "<div class=\"wandb-row\"><div class=\"wandb-col\">\n",
       "<h3>Run history:</h3><br/><table class=\"wandb\"><tr><td>Mean Validation Loss (all folds)</td><td>▁</td></tr><tr><td>Mean Validation MAE (all folds)</td><td>▁</td></tr><tr><td>epoch</td><td>▁▁▁▁▂▂▂▂▂▃▃▃▃▃▃▄▄▄▄▄▅▅▅▅▅▅▆▆▆▆▆▆▇▇▇▇▇███</td></tr><tr><td>loss</td><td>████████████▇▇▇▇▇▆▆▆▆▅▅▅▄▄▄▄▃▃▃▂▂▂▂▁▁▁▁▁</td></tr><tr><td>mae</td><td>█████████████▇▇▇▇▇▇▇▆▆▆▆▅▅▅▅▄▄▄▃▃▂▂▂▁▁▁▁</td></tr><tr><td>val_loss</td><td>███████████▇▇▇▇▇▆▆▆▆▅▅▅▅▄▄▄▃▃▃▂▂▂▂▂▁▁▁▁▁</td></tr><tr><td>val_mae</td><td>█████████████▇▇▇▇▇▇▇▆▆▆▆▅▅▅▄▄▄▃▃▂▂▂▂▁▁▁▁</td></tr></table><br/></div><div class=\"wandb-col\">\n",
       "<h3>Run summary:</h3><br/><table class=\"wandb\"><tr><td>Mean Validation Loss (all folds)</td><td>2616534144.0</td></tr><tr><td>Mean Validation MAE (all folds)</td><td>29388.67139</td></tr><tr><td>best_epoch</td><td>49</td></tr><tr><td>best_val_loss</td><td>2539979008.0</td></tr><tr><td>epoch</td><td>49</td></tr><tr><td>loss</td><td>2680896768.0</td></tr><tr><td>mae</td><td>29432.31055</td></tr><tr><td>val_loss</td><td>2539979008.0</td></tr><tr><td>val_mae</td><td>28917.35742</td></tr></table>\n",
       "</div></div>\n",
       "Synced 5 W&B file(s), 0 media file(s), 0 artifact file(s) and 1 other file(s)\n",
       "<br/>Synced <strong style=\"color:#cdcd00\">pretty-sweep-2</strong>: <a href=\"https://wandb.ai/luiscostigan/house-price-prediction/runs/bffag01q\" target=\"_blank\">https://wandb.ai/luiscostigan/house-price-prediction/runs/bffag01q</a><br/>\n",
       "Find logs at: <code>./wandb/run-20220301_075120-bffag01q/logs</code><br/>\n"
      ],
      "text/plain": [
       "<IPython.core.display.HTML object>"
      ]
     },
     "metadata": {},
     "output_type": "display_data"
    },
    {
     "data": {
      "text/html": [
       "\n",
       "                    Syncing run <strong><a href=\"https://wandb.ai/luiscostigan/house-price-prediction/runs/bffag01q\" target=\"_blank\">pretty-sweep-2</a></strong> to <a href=\"https://wandb.ai/luiscostigan/house-price-prediction\" target=\"_blank\">Weights & Biases</a> (<a href=\"https://docs.wandb.com/integrations/jupyter.html\" target=\"_blank\">docs</a>).<br/>\n",
       "Sweep page: <a href=\"https://wandb.ai/luiscostigan/house-price-prediction/sweeps/7tqliuqb\" target=\"_blank\">https://wandb.ai/luiscostigan/house-price-prediction/sweeps/7tqliuqb</a><br/>\n",
       "\n",
       "                "
      ],
      "text/plain": [
       "<IPython.core.display.HTML object>"
      ]
     },
     "metadata": {},
     "output_type": "display_data"
    },
    {
     "name": "stdout",
     "output_type": "stream",
     "text": [
      "30/30 [==============================] - 0s 2ms/step - loss: 2509117952.0000 - mae: 29190.4238\n",
      "Score for fold 5: loss of 2509117952.0; mae of 29190.423828125\n",
      "------------------------------------------------------------------------\n",
      "Score per fold\n",
      "------------------------------------------------------------------------\n",
      "> Fold 1 - Loss: 2701991168.0 - Accuracy: 30032.111328125%\n",
      "------------------------------------------------------------------------\n",
      "> Fold 2 - Loss: 2602598656.0 - Accuracy: 29253.056640625%\n",
      "------------------------------------------------------------------------\n",
      "> Fold 3 - Loss: 2621567488.0 - Accuracy: 29352.158203125%\n",
      "------------------------------------------------------------------------\n",
      "> Fold 4 - Loss: 2539979264.0 - Accuracy: 28917.359375%\n",
      "------------------------------------------------------------------------\n",
      "> Fold 5 - Loss: 2509117952.0 - Accuracy: 29190.423828125%\n",
      "------------------------------------------------------------------------\n",
      "Average scores for all folds:\n",
      "> MAE: 29349.021875 (+- 370.7603587527077)\n",
      "> Loss: 2595050905.6\n",
      "------------------------------------------------------------------------\n"
     ]
    },
    {
     "data": {
      "text/html": [
       "<br/>Waiting for W&B process to finish, PID 23414... <strong style=\"color:green\">(success).</strong>"
      ],
      "text/plain": [
       "<IPython.core.display.HTML object>"
      ]
     },
     "metadata": {},
     "output_type": "display_data"
    },
    {
     "data": {
      "application/vnd.jupyter.widget-view+json": {
       "model_id": "fca1e2828ff5445d9313cd9a0ef8ad4d",
       "version_major": 2,
       "version_minor": 0
      },
      "text/plain": [
       "VBox(children=(Label(value=' 1.36MB of 2.45MB uploaded (0.00MB deduped)\\r'), FloatProgress(value=0.55467294534…"
      ]
     },
     "metadata": {},
     "output_type": "display_data"
    },
    {
     "data": {
      "text/html": [
       "<style>\n",
       "    table.wandb td:nth-child(1) { padding: 0 10px; text-align: right }\n",
       "    .wandb-row { display: flex; flex-direction: row; flex-wrap: wrap; width: 100% }\n",
       "    .wandb-col { display: flex; flex-direction: column; flex-basis: 100%; flex: 1; padding: 10px; }\n",
       "    </style>\n",
       "<div class=\"wandb-row\"><div class=\"wandb-col\">\n",
       "<h3>Run history:</h3><br/><table class=\"wandb\"><tr><td>Mean Validation Loss (all folds)</td><td>▁</td></tr><tr><td>Mean Validation MAE (all folds)</td><td>▁</td></tr><tr><td>epoch</td><td>▁▁▁▁▂▂▂▂▂▃▃▃▃▃▃▄▄▄▄▄▅▅▅▅▅▅▆▆▆▆▆▆▇▇▇▇▇███</td></tr><tr><td>loss</td><td>████████████▇▇▇▇▇▆▆▆▆▅▅▅▄▄▄▄▃▃▃▂▂▂▂▁▁▁▁▁</td></tr><tr><td>mae</td><td>█████████████▇▇▇▇▇▇▇▆▆▆▆▅▅▅▅▄▄▄▃▃▂▂▂▁▁▁▁</td></tr><tr><td>val_loss</td><td>███████████▇▇▇▇▇▆▆▆▆▅▅▅▅▄▄▄▃▃▃▂▂▂▂▂▁▁▁▁▁</td></tr><tr><td>val_mae</td><td>█████████████▇▇▇▇▇▇▇▆▆▆▆▅▅▅▄▄▄▃▃▂▂▂▂▁▁▁▁</td></tr></table><br/></div><div class=\"wandb-col\">\n",
       "<h3>Run summary:</h3><br/><table class=\"wandb\"><tr><td>Mean Validation Loss (all folds)</td><td>2595050905.6</td></tr><tr><td>Mean Validation MAE (all folds)</td><td>29349.02187</td></tr><tr><td>best_epoch</td><td>49</td></tr><tr><td>best_val_loss</td><td>2509117952.0</td></tr><tr><td>epoch</td><td>49</td></tr><tr><td>loss</td><td>2640550144.0</td></tr><tr><td>mae</td><td>29605.92773</td></tr><tr><td>val_loss</td><td>2509117952.0</td></tr><tr><td>val_mae</td><td>29190.42578</td></tr></table>\n",
       "</div></div>\n",
       "Synced 5 W&B file(s), 0 media file(s), 0 artifact file(s) and 1 other file(s)\n",
       "<br/>Synced <strong style=\"color:#cdcd00\">pretty-sweep-2</strong>: <a href=\"https://wandb.ai/luiscostigan/house-price-prediction/runs/bffag01q\" target=\"_blank\">https://wandb.ai/luiscostigan/house-price-prediction/runs/bffag01q</a><br/>\n",
       "Find logs at: <code>./wandb/run-20220301_075132-bffag01q/logs</code><br/>\n"
      ],
      "text/plain": [
       "<IPython.core.display.HTML object>"
      ]
     },
     "metadata": {},
     "output_type": "display_data"
    },
    {
     "name": "stderr",
     "output_type": "stream",
     "text": [
      "\u001b[34m\u001b[1mwandb\u001b[0m: Sweep Agent: Waiting for job.\n",
      "\u001b[34m\u001b[1mwandb\u001b[0m: Job received.\n",
      "\u001b[34m\u001b[1mwandb\u001b[0m: Agent Starting Run: tngdefd8 with config:\n",
      "\u001b[34m\u001b[1mwandb\u001b[0m: \tbatch_size: 128\n",
      "\u001b[34m\u001b[1mwandb\u001b[0m: \tdropout1: 0.35034528840441004\n",
      "\u001b[34m\u001b[1mwandb\u001b[0m: \tepochs: 30\n"
     ]
    },
    {
     "data": {
      "text/html": [
       "\n",
       "                    Syncing run <strong><a href=\"https://wandb.ai/luiscostigan/house-price-prediction/runs/tngdefd8\" target=\"_blank\">major-sweep-3</a></strong> to <a href=\"https://wandb.ai/luiscostigan/house-price-prediction\" target=\"_blank\">Weights & Biases</a> (<a href=\"https://docs.wandb.com/integrations/jupyter.html\" target=\"_blank\">docs</a>).<br/>\n",
       "Sweep page: <a href=\"https://wandb.ai/luiscostigan/house-price-prediction/sweeps/7tqliuqb\" target=\"_blank\">https://wandb.ai/luiscostigan/house-price-prediction/sweeps/7tqliuqb</a><br/>\n",
       "\n",
       "                "
      ],
      "text/plain": [
       "<IPython.core.display.HTML object>"
      ]
     },
     "metadata": {},
     "output_type": "display_data"
    },
    {
     "name": "stdout",
     "output_type": "stream",
     "text": [
      "30/30 [==============================] - 0s 2ms/step - loss: 1144854272.0000 - mae: 19894.9805\n",
      "Score for fold 1: loss of 1144854272.0; mae of 19894.98046875\n",
      "------------------------------------------------------------------------\n",
      "Score per fold\n",
      "------------------------------------------------------------------------\n",
      "> Fold 1 - Loss: 1144854272.0 - Accuracy: 19894.98046875%\n",
      "------------------------------------------------------------------------\n",
      "Average scores for all folds:\n",
      "> MAE: 19894.98046875 (+- 0.0)\n",
      "> Loss: 1144854272.0\n",
      "------------------------------------------------------------------------\n"
     ]
    },
    {
     "data": {
      "text/html": [
       "<br/>Waiting for W&B process to finish, PID 24662... <strong style=\"color:green\">(success).</strong>"
      ],
      "text/plain": [
       "<IPython.core.display.HTML object>"
      ]
     },
     "metadata": {},
     "output_type": "display_data"
    },
    {
     "data": {
      "application/vnd.jupyter.widget-view+json": {
       "model_id": "c9218301be104f118cdafcb2451507db",
       "version_major": 2,
       "version_minor": 0
      },
      "text/plain": [
       "VBox(children=(Label(value=' 2.03MB of 2.45MB uploaded (0.00MB deduped)\\r'), FloatProgress(value=0.82865557953…"
      ]
     },
     "metadata": {},
     "output_type": "display_data"
    },
    {
     "data": {
      "text/html": [
       "<style>\n",
       "    table.wandb td:nth-child(1) { padding: 0 10px; text-align: right }\n",
       "    .wandb-row { display: flex; flex-direction: row; flex-wrap: wrap; width: 100% }\n",
       "    .wandb-col { display: flex; flex-direction: column; flex-basis: 100%; flex: 1; padding: 10px; }\n",
       "    </style>\n",
       "<div class=\"wandb-row\"><div class=\"wandb-col\">\n",
       "<h3>Run history:</h3><br/><table class=\"wandb\"><tr><td>Mean Validation Loss (all folds)</td><td>▁</td></tr><tr><td>Mean Validation MAE (all folds)</td><td>▁</td></tr><tr><td>epoch</td><td>▁▁▁▂▂▂▂▃▃▃▃▄▄▄▄▅▅▅▅▆▆▆▆▇▇▇▇███</td></tr><tr><td>loss</td><td>████▇▆▆▅▄▃▂▂▁▁▁▁▁▁▁▁▁▁▁▁▁▁▁▁▁▁</td></tr><tr><td>mae</td><td>████▇▇▆▆▅▄▃▂▂▁▁▁▁▁▁▁▁▁▁▁▁▁▁▁▁▁</td></tr><tr><td>val_loss</td><td>███▇▇▆▅▄▃▂▂▁▁▁▁▁▁▁▁▁▁▁▁▁▁▁▁▁▁▁</td></tr><tr><td>val_mae</td><td>████▇▇▆▅▄▃▂▂▂▁▁▁▁▁▁▁▁▁▁▁▁▁▁▁▁▁</td></tr></table><br/></div><div class=\"wandb-col\">\n",
       "<h3>Run summary:</h3><br/><table class=\"wandb\"><tr><td>Mean Validation Loss (all folds)</td><td>1144854272.0</td></tr><tr><td>Mean Validation MAE (all folds)</td><td>19894.98047</td></tr><tr><td>best_epoch</td><td>29</td></tr><tr><td>best_val_loss</td><td>1144854400.0</td></tr><tr><td>epoch</td><td>29</td></tr><tr><td>loss</td><td>1182778368.0</td></tr><tr><td>mae</td><td>20025.63477</td></tr><tr><td>val_loss</td><td>1144854400.0</td></tr><tr><td>val_mae</td><td>19894.97852</td></tr></table>\n",
       "</div></div>\n",
       "Synced 5 W&B file(s), 0 media file(s), 0 artifact file(s) and 1 other file(s)\n",
       "<br/>Synced <strong style=\"color:#cdcd00\">major-sweep-3</strong>: <a href=\"https://wandb.ai/luiscostigan/house-price-prediction/runs/tngdefd8\" target=\"_blank\">https://wandb.ai/luiscostigan/house-price-prediction/runs/tngdefd8</a><br/>\n",
       "Find logs at: <code>./wandb/run-20220301_075155-tngdefd8/logs</code><br/>\n"
      ],
      "text/plain": [
       "<IPython.core.display.HTML object>"
      ]
     },
     "metadata": {},
     "output_type": "display_data"
    },
    {
     "data": {
      "text/html": [
       "\n",
       "                    Syncing run <strong><a href=\"https://wandb.ai/luiscostigan/house-price-prediction/runs/tngdefd8\" target=\"_blank\">major-sweep-3</a></strong> to <a href=\"https://wandb.ai/luiscostigan/house-price-prediction\" target=\"_blank\">Weights & Biases</a> (<a href=\"https://docs.wandb.com/integrations/jupyter.html\" target=\"_blank\">docs</a>).<br/>\n",
       "Sweep page: <a href=\"https://wandb.ai/luiscostigan/house-price-prediction/sweeps/7tqliuqb\" target=\"_blank\">https://wandb.ai/luiscostigan/house-price-prediction/sweeps/7tqliuqb</a><br/>\n",
       "\n",
       "                "
      ],
      "text/plain": [
       "<IPython.core.display.HTML object>"
      ]
     },
     "metadata": {},
     "output_type": "display_data"
    },
    {
     "name": "stdout",
     "output_type": "stream",
     "text": [
      "30/30 [==============================] - 0s 2ms/step - loss: 1198682240.0000 - mae: 20831.0176\n",
      "Score for fold 2: loss of 1198682240.0; mae of 20831.017578125\n",
      "------------------------------------------------------------------------\n",
      "Score per fold\n",
      "------------------------------------------------------------------------\n",
      "> Fold 1 - Loss: 1144854272.0 - Accuracy: 19894.98046875%\n",
      "------------------------------------------------------------------------\n",
      "> Fold 2 - Loss: 1198682240.0 - Accuracy: 20831.017578125%\n",
      "------------------------------------------------------------------------\n",
      "Average scores for all folds:\n",
      "> MAE: 20362.9990234375 (+- 468.0185546875)\n",
      "> Loss: 1171768256.0\n",
      "------------------------------------------------------------------------\n"
     ]
    },
    {
     "data": {
      "text/html": [
       "<br/>Waiting for W&B process to finish, PID 25439... <strong style=\"color:green\">(success).</strong>"
      ],
      "text/plain": [
       "<IPython.core.display.HTML object>"
      ]
     },
     "metadata": {},
     "output_type": "display_data"
    },
    {
     "data": {
      "application/vnd.jupyter.widget-view+json": {
       "model_id": "5385a0a0ec5b41558417a9740a7073e9",
       "version_major": 2,
       "version_minor": 0
      },
      "text/plain": [
       "VBox(children=(Label(value=' 2.24MB of 2.45MB uploaded (0.00MB deduped)\\r'), FloatProgress(value=0.91144725304…"
      ]
     },
     "metadata": {},
     "output_type": "display_data"
    },
    {
     "data": {
      "text/html": [
       "<style>\n",
       "    table.wandb td:nth-child(1) { padding: 0 10px; text-align: right }\n",
       "    .wandb-row { display: flex; flex-direction: row; flex-wrap: wrap; width: 100% }\n",
       "    .wandb-col { display: flex; flex-direction: column; flex-basis: 100%; flex: 1; padding: 10px; }\n",
       "    </style>\n",
       "<div class=\"wandb-row\"><div class=\"wandb-col\">\n",
       "<h3>Run history:</h3><br/><table class=\"wandb\"><tr><td>Mean Validation Loss (all folds)</td><td>▁</td></tr><tr><td>Mean Validation MAE (all folds)</td><td>▁</td></tr><tr><td>epoch</td><td>▁▁▁▂▂▂▂▃▃▃▃▄▄▄▄▅▅▅▅▆▆▆▆▇▇▇▇███</td></tr><tr><td>loss</td><td>████▇▇▆▅▄▃▂▂▁▁▁▁▁▁▁▁▁▁▁▁▁▁▁▁▁▁</td></tr><tr><td>mae</td><td>████▇▇▆▆▅▄▃▂▂▂▁▁▁▁▁▁▁▁▁▁▁▁▁▁▁▁</td></tr><tr><td>val_loss</td><td>███▇▇▆▅▄▃▂▂▁▁▁▁▁▁▁▁▁▁▁▁▁▁▁▁▁▁▁</td></tr><tr><td>val_mae</td><td>████▇▇▆▅▄▃▂▂▂▁▁▁▁▁▁▁▁▁▁▁▁▁▁▁▁▁</td></tr></table><br/></div><div class=\"wandb-col\">\n",
       "<h3>Run summary:</h3><br/><table class=\"wandb\"><tr><td>Mean Validation Loss (all folds)</td><td>1171768256.0</td></tr><tr><td>Mean Validation MAE (all folds)</td><td>20362.99902</td></tr><tr><td>best_epoch</td><td>28</td></tr><tr><td>best_val_loss</td><td>1166330752.0</td></tr><tr><td>epoch</td><td>29</td></tr><tr><td>loss</td><td>1279981824.0</td></tr><tr><td>mae</td><td>20121.26367</td></tr><tr><td>val_loss</td><td>1198682368.0</td></tr><tr><td>val_mae</td><td>20831.01758</td></tr></table>\n",
       "</div></div>\n",
       "Synced 5 W&B file(s), 0 media file(s), 0 artifact file(s) and 1 other file(s)\n",
       "<br/>Synced <strong style=\"color:#cdcd00\">major-sweep-3</strong>: <a href=\"https://wandb.ai/luiscostigan/house-price-prediction/runs/tngdefd8\" target=\"_blank\">https://wandb.ai/luiscostigan/house-price-prediction/runs/tngdefd8</a><br/>\n",
       "Find logs at: <code>./wandb/run-20220301_075208-tngdefd8/logs</code><br/>\n"
      ],
      "text/plain": [
       "<IPython.core.display.HTML object>"
      ]
     },
     "metadata": {},
     "output_type": "display_data"
    },
    {
     "data": {
      "text/html": [
       "\n",
       "                    Syncing run <strong><a href=\"https://wandb.ai/luiscostigan/house-price-prediction/runs/tngdefd8\" target=\"_blank\">major-sweep-3</a></strong> to <a href=\"https://wandb.ai/luiscostigan/house-price-prediction\" target=\"_blank\">Weights & Biases</a> (<a href=\"https://docs.wandb.com/integrations/jupyter.html\" target=\"_blank\">docs</a>).<br/>\n",
       "Sweep page: <a href=\"https://wandb.ai/luiscostigan/house-price-prediction/sweeps/7tqliuqb\" target=\"_blank\">https://wandb.ai/luiscostigan/house-price-prediction/sweeps/7tqliuqb</a><br/>\n",
       "\n",
       "                "
      ],
      "text/plain": [
       "<IPython.core.display.HTML object>"
      ]
     },
     "metadata": {},
     "output_type": "display_data"
    },
    {
     "name": "stdout",
     "output_type": "stream",
     "text": [
      "30/30 [==============================] - 0s 3ms/step - loss: 1119700864.0000 - mae: 18653.1543\n",
      "Score for fold 3: loss of 1119700864.0; mae of 18653.154296875\n",
      "------------------------------------------------------------------------\n",
      "Score per fold\n",
      "------------------------------------------------------------------------\n",
      "> Fold 1 - Loss: 1144854272.0 - Accuracy: 19894.98046875%\n",
      "------------------------------------------------------------------------\n",
      "> Fold 2 - Loss: 1198682240.0 - Accuracy: 20831.017578125%\n",
      "------------------------------------------------------------------------\n",
      "> Fold 3 - Loss: 1119700864.0 - Accuracy: 18653.154296875%\n",
      "------------------------------------------------------------------------\n",
      "Average scores for all folds:\n",
      "> MAE: 19793.05078125 (+- 892.0255466631883)\n",
      "> Loss: 1154412458.6666667\n",
      "------------------------------------------------------------------------\n"
     ]
    },
    {
     "data": {
      "text/html": [
       "<br/>Waiting for W&B process to finish, PID 26223... <strong style=\"color:green\">(success).</strong>"
      ],
      "text/plain": [
       "<IPython.core.display.HTML object>"
      ]
     },
     "metadata": {},
     "output_type": "display_data"
    },
    {
     "data": {
      "application/vnd.jupyter.widget-view+json": {
       "model_id": "c56a0fd2b28f4ebabf1512fdbc44932e",
       "version_major": 2,
       "version_minor": 0
      },
      "text/plain": [
       "VBox(children=(Label(value=' 2.45MB of 2.45MB uploaded (0.00MB deduped)\\r'), FloatProgress(value=1.0, max=1.0)…"
      ]
     },
     "metadata": {},
     "output_type": "display_data"
    },
    {
     "data": {
      "text/html": [
       "<style>\n",
       "    table.wandb td:nth-child(1) { padding: 0 10px; text-align: right }\n",
       "    .wandb-row { display: flex; flex-direction: row; flex-wrap: wrap; width: 100% }\n",
       "    .wandb-col { display: flex; flex-direction: column; flex-basis: 100%; flex: 1; padding: 10px; }\n",
       "    </style>\n",
       "<div class=\"wandb-row\"><div class=\"wandb-col\">\n",
       "<h3>Run history:</h3><br/><table class=\"wandb\"><tr><td>Mean Validation Loss (all folds)</td><td>▁</td></tr><tr><td>Mean Validation MAE (all folds)</td><td>▁</td></tr><tr><td>epoch</td><td>▁▁▁▂▂▂▂▃▃▃▃▄▄▄▄▅▅▅▅▆▆▆▆▇▇▇▇███</td></tr><tr><td>loss</td><td>████▇▆▆▅▄▃▂▂▁▁▁▁▁▁▁▁▁▁▁▁▁▁▁▁▁▁</td></tr><tr><td>mae</td><td>████▇▇▆▆▅▄▃▂▂▁▁▁▁▁▁▁▁▁▁▁▁▁▁▁▁▁</td></tr><tr><td>val_loss</td><td>███▇▇▆▅▄▃▂▂▁▁▁▁▁▁▁▁▁▁▁▁▁▁▁▁▁▁▁</td></tr><tr><td>val_mae</td><td>████▇▇▆▅▄▃▂▂▁▁▁▁▁▁▁▁▁▁▁▁▁▁▁▁▁▁</td></tr></table><br/></div><div class=\"wandb-col\">\n",
       "<h3>Run summary:</h3><br/><table class=\"wandb\"><tr><td>Mean Validation Loss (all folds)</td><td>1154412458.66667</td></tr><tr><td>Mean Validation MAE (all folds)</td><td>19793.05078</td></tr><tr><td>best_epoch</td><td>29</td></tr><tr><td>best_val_loss</td><td>1119700864.0</td></tr><tr><td>epoch</td><td>29</td></tr><tr><td>loss</td><td>1149064832.0</td></tr><tr><td>mae</td><td>20133.2207</td></tr><tr><td>val_loss</td><td>1119700864.0</td></tr><tr><td>val_mae</td><td>18653.15234</td></tr></table>\n",
       "</div></div>\n",
       "Synced 5 W&B file(s), 0 media file(s), 0 artifact file(s) and 1 other file(s)\n",
       "<br/>Synced <strong style=\"color:#cdcd00\">major-sweep-3</strong>: <a href=\"https://wandb.ai/luiscostigan/house-price-prediction/runs/tngdefd8\" target=\"_blank\">https://wandb.ai/luiscostigan/house-price-prediction/runs/tngdefd8</a><br/>\n",
       "Find logs at: <code>./wandb/run-20220301_075220-tngdefd8/logs</code><br/>\n"
      ],
      "text/plain": [
       "<IPython.core.display.HTML object>"
      ]
     },
     "metadata": {},
     "output_type": "display_data"
    },
    {
     "data": {
      "text/html": [
       "\n",
       "                    Syncing run <strong><a href=\"https://wandb.ai/luiscostigan/house-price-prediction/runs/tngdefd8\" target=\"_blank\">major-sweep-3</a></strong> to <a href=\"https://wandb.ai/luiscostigan/house-price-prediction\" target=\"_blank\">Weights & Biases</a> (<a href=\"https://docs.wandb.com/integrations/jupyter.html\" target=\"_blank\">docs</a>).<br/>\n",
       "Sweep page: <a href=\"https://wandb.ai/luiscostigan/house-price-prediction/sweeps/7tqliuqb\" target=\"_blank\">https://wandb.ai/luiscostigan/house-price-prediction/sweeps/7tqliuqb</a><br/>\n",
       "\n",
       "                "
      ],
      "text/plain": [
       "<IPython.core.display.HTML object>"
      ]
     },
     "metadata": {},
     "output_type": "display_data"
    },
    {
     "name": "stdout",
     "output_type": "stream",
     "text": [
      "30/30 [==============================] - 0s 2ms/step - loss: 1150721664.0000 - mae: 19756.3027\n",
      "Score for fold 4: loss of 1150721664.0; mae of 19756.302734375\n",
      "------------------------------------------------------------------------\n",
      "Score per fold\n",
      "------------------------------------------------------------------------\n",
      "> Fold 1 - Loss: 1144854272.0 - Accuracy: 19894.98046875%\n",
      "------------------------------------------------------------------------\n",
      "> Fold 2 - Loss: 1198682240.0 - Accuracy: 20831.017578125%\n",
      "------------------------------------------------------------------------\n",
      "> Fold 3 - Loss: 1119700864.0 - Accuracy: 18653.154296875%\n",
      "------------------------------------------------------------------------\n",
      "> Fold 4 - Loss: 1150721664.0 - Accuracy: 19756.302734375%\n",
      "------------------------------------------------------------------------\n",
      "Average scores for all folds:\n",
      "> MAE: 19783.86376953125 (+- 772.6806490897654)\n",
      "> Loss: 1153489760.0\n",
      "------------------------------------------------------------------------\n"
     ]
    },
    {
     "data": {
      "text/html": [
       "<br/>Waiting for W&B process to finish, PID 27002... <strong style=\"color:green\">(success).</strong>"
      ],
      "text/plain": [
       "<IPython.core.display.HTML object>"
      ]
     },
     "metadata": {},
     "output_type": "display_data"
    },
    {
     "data": {
      "application/vnd.jupyter.widget-view+json": {
       "model_id": "a346f283655e49418f7ef869b2ea92f2",
       "version_major": 2,
       "version_minor": 0
      },
      "text/plain": [
       "VBox(children=(Label(value=' 1.42MB of 2.45MB uploaded (0.00MB deduped)\\r'), FloatProgress(value=0.58015682446…"
      ]
     },
     "metadata": {},
     "output_type": "display_data"
    },
    {
     "data": {
      "text/html": [
       "<style>\n",
       "    table.wandb td:nth-child(1) { padding: 0 10px; text-align: right }\n",
       "    .wandb-row { display: flex; flex-direction: row; flex-wrap: wrap; width: 100% }\n",
       "    .wandb-col { display: flex; flex-direction: column; flex-basis: 100%; flex: 1; padding: 10px; }\n",
       "    </style>\n",
       "<div class=\"wandb-row\"><div class=\"wandb-col\">\n",
       "<h3>Run history:</h3><br/><table class=\"wandb\"><tr><td>Mean Validation Loss (all folds)</td><td>▁</td></tr><tr><td>Mean Validation MAE (all folds)</td><td>▁</td></tr><tr><td>epoch</td><td>▁▁▁▂▂▂▂▃▃▃▃▄▄▄▄▅▅▅▅▆▆▆▆▇▇▇▇███</td></tr><tr><td>loss</td><td>████▇▇▆▅▄▃▂▂▁▁▁▁▁▁▁▁▁▁▁▁▁▁▁▁▁▁</td></tr><tr><td>mae</td><td>████▇▇▆▆▅▄▃▂▂▁▁▁▁▁▁▁▁▁▁▁▁▁▁▁▁▁</td></tr><tr><td>val_loss</td><td>███▇▇▆▅▄▃▂▂▁▁▁▁▁▁▁▁▁▁▁▁▁▁▁▁▁▁▁</td></tr><tr><td>val_mae</td><td>████▇▇▆▅▄▃▂▂▂▂▁▁▁▁▁▁▁▁▁▁▁▁▁▁▁▁</td></tr></table><br/></div><div class=\"wandb-col\">\n",
       "<h3>Run summary:</h3><br/><table class=\"wandb\"><tr><td>Mean Validation Loss (all folds)</td><td>1153489760.0</td></tr><tr><td>Mean Validation MAE (all folds)</td><td>19783.86377</td></tr><tr><td>best_epoch</td><td>29</td></tr><tr><td>best_val_loss</td><td>1150721536.0</td></tr><tr><td>epoch</td><td>29</td></tr><tr><td>loss</td><td>1230376064.0</td></tr><tr><td>mae</td><td>20245.66797</td></tr><tr><td>val_loss</td><td>1150721536.0</td></tr><tr><td>val_mae</td><td>19756.30469</td></tr></table>\n",
       "</div></div>\n",
       "Synced 5 W&B file(s), 0 media file(s), 0 artifact file(s) and 1 other file(s)\n",
       "<br/>Synced <strong style=\"color:#cdcd00\">major-sweep-3</strong>: <a href=\"https://wandb.ai/luiscostigan/house-price-prediction/runs/tngdefd8\" target=\"_blank\">https://wandb.ai/luiscostigan/house-price-prediction/runs/tngdefd8</a><br/>\n",
       "Find logs at: <code>./wandb/run-20220301_075232-tngdefd8/logs</code><br/>\n"
      ],
      "text/plain": [
       "<IPython.core.display.HTML object>"
      ]
     },
     "metadata": {},
     "output_type": "display_data"
    },
    {
     "data": {
      "text/html": [
       "\n",
       "                    Syncing run <strong><a href=\"https://wandb.ai/luiscostigan/house-price-prediction/runs/tngdefd8\" target=\"_blank\">major-sweep-3</a></strong> to <a href=\"https://wandb.ai/luiscostigan/house-price-prediction\" target=\"_blank\">Weights & Biases</a> (<a href=\"https://docs.wandb.com/integrations/jupyter.html\" target=\"_blank\">docs</a>).<br/>\n",
       "Sweep page: <a href=\"https://wandb.ai/luiscostigan/house-price-prediction/sweeps/7tqliuqb\" target=\"_blank\">https://wandb.ai/luiscostigan/house-price-prediction/sweeps/7tqliuqb</a><br/>\n",
       "\n",
       "                "
      ],
      "text/plain": [
       "<IPython.core.display.HTML object>"
      ]
     },
     "metadata": {},
     "output_type": "display_data"
    },
    {
     "name": "stdout",
     "output_type": "stream",
     "text": [
      "30/30 [==============================] - 0s 2ms/step - loss: 1145031296.0000 - mae: 18975.6152\n",
      "Score for fold 5: loss of 1145031296.0; mae of 18975.615234375\n",
      "------------------------------------------------------------------------\n",
      "Score per fold\n",
      "------------------------------------------------------------------------\n",
      "> Fold 1 - Loss: 1144854272.0 - Accuracy: 19894.98046875%\n",
      "------------------------------------------------------------------------\n",
      "> Fold 2 - Loss: 1198682240.0 - Accuracy: 20831.017578125%\n",
      "------------------------------------------------------------------------\n",
      "> Fold 3 - Loss: 1119700864.0 - Accuracy: 18653.154296875%\n",
      "------------------------------------------------------------------------\n",
      "> Fold 4 - Loss: 1150721664.0 - Accuracy: 19756.302734375%\n",
      "------------------------------------------------------------------------\n",
      "> Fold 5 - Loss: 1145031296.0 - Accuracy: 18975.615234375%\n",
      "------------------------------------------------------------------------\n",
      "Average scores for all folds:\n",
      "> MAE: 19622.2140625 (+- 762.9880860900652)\n",
      "> Loss: 1151798067.2\n",
      "------------------------------------------------------------------------\n"
     ]
    },
    {
     "data": {
      "text/html": [
       "<br/>Waiting for W&B process to finish, PID 27790... <strong style=\"color:green\">(success).</strong>"
      ],
      "text/plain": [
       "<IPython.core.display.HTML object>"
      ]
     },
     "metadata": {},
     "output_type": "display_data"
    },
    {
     "data": {
      "application/vnd.jupyter.widget-view+json": {
       "model_id": "639301e9d89d4c118cf8a86831120fd7",
       "version_major": 2,
       "version_minor": 0
      },
      "text/plain": [
       "VBox(children=(Label(value=' 0.54MB of 2.45MB uploaded (0.00MB deduped)\\r'), FloatProgress(value=0.22019703188…"
      ]
     },
     "metadata": {},
     "output_type": "display_data"
    },
    {
     "data": {
      "text/html": [
       "<style>\n",
       "    table.wandb td:nth-child(1) { padding: 0 10px; text-align: right }\n",
       "    .wandb-row { display: flex; flex-direction: row; flex-wrap: wrap; width: 100% }\n",
       "    .wandb-col { display: flex; flex-direction: column; flex-basis: 100%; flex: 1; padding: 10px; }\n",
       "    </style>\n",
       "<div class=\"wandb-row\"><div class=\"wandb-col\">\n",
       "<h3>Run history:</h3><br/><table class=\"wandb\"><tr><td>Mean Validation Loss (all folds)</td><td>▁</td></tr><tr><td>Mean Validation MAE (all folds)</td><td>▁</td></tr><tr><td>epoch</td><td>▁▁▁▂▂▂▂▃▃▃▃▄▄▄▄▅▅▅▅▆▆▆▆▇▇▇▇███</td></tr><tr><td>loss</td><td>████▇▆▆▅▄▃▂▂▁▁▁▁▁▁▁▁▁▁▁▁▁▁▁▁▁▁</td></tr><tr><td>mae</td><td>████▇▇▆▆▅▄▃▂▂▁▁▁▁▁▁▁▁▁▁▁▁▁▁▁▁▁</td></tr><tr><td>val_loss</td><td>███▇▇▆▅▄▃▂▂▁▁▁▁▁▁▁▁▁▁▁▁▁▁▁▁▁▁▁</td></tr><tr><td>val_mae</td><td>████▇▇▆▅▄▃▂▂▂▂▁▁▁▁▁▁▁▁▁▁▁▁▁▁▁▁</td></tr></table><br/></div><div class=\"wandb-col\">\n",
       "<h3>Run summary:</h3><br/><table class=\"wandb\"><tr><td>Mean Validation Loss (all folds)</td><td>1151798067.2</td></tr><tr><td>Mean Validation MAE (all folds)</td><td>19622.21406</td></tr><tr><td>best_epoch</td><td>29</td></tr><tr><td>best_val_loss</td><td>1145031296.0</td></tr><tr><td>epoch</td><td>29</td></tr><tr><td>loss</td><td>1228745472.0</td></tr><tr><td>mae</td><td>20273.2207</td></tr><tr><td>val_loss</td><td>1145031296.0</td></tr><tr><td>val_mae</td><td>18975.61719</td></tr></table>\n",
       "</div></div>\n",
       "Synced 5 W&B file(s), 0 media file(s), 0 artifact file(s) and 1 other file(s)\n",
       "<br/>Synced <strong style=\"color:#cdcd00\">major-sweep-3</strong>: <a href=\"https://wandb.ai/luiscostigan/house-price-prediction/runs/tngdefd8\" target=\"_blank\">https://wandb.ai/luiscostigan/house-price-prediction/runs/tngdefd8</a><br/>\n",
       "Find logs at: <code>./wandb/run-20220301_075246-tngdefd8/logs</code><br/>\n"
      ],
      "text/plain": [
       "<IPython.core.display.HTML object>"
      ]
     },
     "metadata": {},
     "output_type": "display_data"
    },
    {
     "name": "stderr",
     "output_type": "stream",
     "text": [
      "\u001b[34m\u001b[1mwandb\u001b[0m: Agent Starting Run: bqivbrqu with config:\n",
      "\u001b[34m\u001b[1mwandb\u001b[0m: \tbatch_size: 16\n",
      "\u001b[34m\u001b[1mwandb\u001b[0m: \tdropout1: 0.0029746816546927235\n",
      "\u001b[34m\u001b[1mwandb\u001b[0m: \tepochs: 100\n"
     ]
    },
    {
     "data": {
      "text/html": [
       "\n",
       "                    Syncing run <strong><a href=\"https://wandb.ai/luiscostigan/house-price-prediction/runs/bqivbrqu\" target=\"_blank\">twilight-sweep-4</a></strong> to <a href=\"https://wandb.ai/luiscostigan/house-price-prediction\" target=\"_blank\">Weights & Biases</a> (<a href=\"https://docs.wandb.com/integrations/jupyter.html\" target=\"_blank\">docs</a>).<br/>\n",
       "Sweep page: <a href=\"https://wandb.ai/luiscostigan/house-price-prediction/sweeps/7tqliuqb\" target=\"_blank\">https://wandb.ai/luiscostigan/house-price-prediction/sweeps/7tqliuqb</a><br/>\n",
       "\n",
       "                "
      ],
      "text/plain": [
       "<IPython.core.display.HTML object>"
      ]
     },
     "metadata": {},
     "output_type": "display_data"
    },
    {
     "name": "stdout",
     "output_type": "stream",
     "text": [
      "30/30 [==============================] - 0s 2ms/step - loss: 474667872.0000 - mae: 10981.8809\n",
      "Score for fold 1: loss of 474667872.0; mae of 10981.880859375\n",
      "------------------------------------------------------------------------\n",
      "Score per fold\n",
      "------------------------------------------------------------------------\n",
      "> Fold 1 - Loss: 474667872.0 - Accuracy: 10981.880859375%\n",
      "------------------------------------------------------------------------\n",
      "Average scores for all folds:\n",
      "> MAE: 10981.880859375 (+- 0.0)\n",
      "> Loss: 474667872.0\n",
      "------------------------------------------------------------------------\n"
     ]
    },
    {
     "data": {
      "text/html": [
       "<br/>Waiting for W&B process to finish, PID 28624... <strong style=\"color:green\">(success).</strong>"
      ],
      "text/plain": [
       "<IPython.core.display.HTML object>"
      ]
     },
     "metadata": {},
     "output_type": "display_data"
    },
    {
     "data": {
      "application/vnd.jupyter.widget-view+json": {
       "model_id": "8916fbe6c201438f9156c603c4ca7b6f",
       "version_major": 2,
       "version_minor": 0
      },
      "text/plain": [
       "VBox(children=(Label(value=' 1.86MB of 2.45MB uploaded (0.00MB deduped)\\r'), FloatProgress(value=0.75857229574…"
      ]
     },
     "metadata": {},
     "output_type": "display_data"
    },
    {
     "data": {
      "text/html": [
       "<style>\n",
       "    table.wandb td:nth-child(1) { padding: 0 10px; text-align: right }\n",
       "    .wandb-row { display: flex; flex-direction: row; flex-wrap: wrap; width: 100% }\n",
       "    .wandb-col { display: flex; flex-direction: column; flex-basis: 100%; flex: 1; padding: 10px; }\n",
       "    </style>\n",
       "<div class=\"wandb-row\"><div class=\"wandb-col\">\n",
       "<h3>Run history:</h3><br/><table class=\"wandb\"><tr><td>Mean Validation Loss (all folds)</td><td>▁</td></tr><tr><td>Mean Validation MAE (all folds)</td><td>▁</td></tr><tr><td>epoch</td><td>▁▁▁▁▂▂▂▂▂▃▃▃▃▃▃▄▄▄▄▄▅▅▅▅▅▅▆▆▆▆▆▇▇▇▇▇▇███</td></tr><tr><td>loss</td><td>█▁▁▁▁▁▁▁▁▁▁▁▁▁▁▁▁▁▁▁▁▁▁▁▁▁▁▁▁▁▁▁▁▁▁▁▁▁▁▁</td></tr><tr><td>mae</td><td>█▂▁▁▁▁▁▁▁▁▁▁▁▁▁▁▁▁▁▁▁▁▁▁▁▁▁▁▁▁▁▁▁▁▁▁▁▁▁▁</td></tr><tr><td>val_loss</td><td>█▁▁▁▁▁▁▁▁▁▁▁▁▁▁▁▁▁▁▁▁▁▁▁▁▁▁▁▁▁▁▁▁▁▁▁▁▁▁▁</td></tr><tr><td>val_mae</td><td>█▂▁▁▁▁▁▁▁▁▁▁▁▁▁▁▁▁▁▁▁▁▁▁▁▁▁▁▁▁▁▁▁▁▁▁▁▁▁▁</td></tr></table><br/></div><div class=\"wandb-col\">\n",
       "<h3>Run summary:</h3><br/><table class=\"wandb\"><tr><td>Mean Validation Loss (all folds)</td><td>474667872.0</td></tr><tr><td>Mean Validation MAE (all folds)</td><td>10981.88086</td></tr><tr><td>best_epoch</td><td>99</td></tr><tr><td>best_val_loss</td><td>474667776.0</td></tr><tr><td>epoch</td><td>99</td></tr><tr><td>loss</td><td>535947488.0</td></tr><tr><td>mae</td><td>11874.58203</td></tr><tr><td>val_loss</td><td>474667776.0</td></tr><tr><td>val_mae</td><td>10981.88086</td></tr></table>\n",
       "</div></div>\n",
       "Synced 5 W&B file(s), 0 media file(s), 0 artifact file(s) and 1 other file(s)\n",
       "<br/>Synced <strong style=\"color:#cdcd00\">twilight-sweep-4</strong>: <a href=\"https://wandb.ai/luiscostigan/house-price-prediction/runs/bqivbrqu\" target=\"_blank\">https://wandb.ai/luiscostigan/house-price-prediction/runs/bqivbrqu</a><br/>\n",
       "Find logs at: <code>./wandb/run-20220301_075304-bqivbrqu/logs</code><br/>\n"
      ],
      "text/plain": [
       "<IPython.core.display.HTML object>"
      ]
     },
     "metadata": {},
     "output_type": "display_data"
    },
    {
     "data": {
      "text/html": [
       "\n",
       "                    Syncing run <strong><a href=\"https://wandb.ai/luiscostigan/house-price-prediction/runs/bqivbrqu\" target=\"_blank\">twilight-sweep-4</a></strong> to <a href=\"https://wandb.ai/luiscostigan/house-price-prediction\" target=\"_blank\">Weights & Biases</a> (<a href=\"https://docs.wandb.com/integrations/jupyter.html\" target=\"_blank\">docs</a>).<br/>\n",
       "Sweep page: <a href=\"https://wandb.ai/luiscostigan/house-price-prediction/sweeps/7tqliuqb\" target=\"_blank\">https://wandb.ai/luiscostigan/house-price-prediction/sweeps/7tqliuqb</a><br/>\n",
       "\n",
       "                "
      ],
      "text/plain": [
       "<IPython.core.display.HTML object>"
      ]
     },
     "metadata": {},
     "output_type": "display_data"
    },
    {
     "name": "stdout",
     "output_type": "stream",
     "text": [
      "30/30 [==============================] - 0s 1ms/step - loss: 499029696.0000 - mae: 11126.1406\n",
      "Score for fold 2: loss of 499029696.0; mae of 11126.140625\n",
      "------------------------------------------------------------------------\n",
      "Score per fold\n",
      "------------------------------------------------------------------------\n",
      "> Fold 1 - Loss: 474667872.0 - Accuracy: 10981.880859375%\n",
      "------------------------------------------------------------------------\n",
      "> Fold 2 - Loss: 499029696.0 - Accuracy: 11126.140625%\n",
      "------------------------------------------------------------------------\n",
      "Average scores for all folds:\n",
      "> MAE: 11054.0107421875 (+- 72.1298828125)\n",
      "> Loss: 486848784.0\n",
      "------------------------------------------------------------------------\n"
     ]
    },
    {
     "data": {
      "text/html": [
       "<br/>Waiting for W&B process to finish, PID 30988... <strong style=\"color:green\">(success).</strong>"
      ],
      "text/plain": [
       "<IPython.core.display.HTML object>"
      ]
     },
     "metadata": {},
     "output_type": "display_data"
    },
    {
     "data": {
      "application/vnd.jupyter.widget-view+json": {
       "model_id": "9e2d27a1567e43f0b6451da3afc22df8",
       "version_major": 2,
       "version_minor": 0
      },
      "text/plain": [
       "VBox(children=(Label(value=' 2.20MB of 2.45MB uploaded (0.00MB deduped)\\r'), FloatProgress(value=0.89551982859…"
      ]
     },
     "metadata": {},
     "output_type": "display_data"
    },
    {
     "data": {
      "text/html": [
       "<style>\n",
       "    table.wandb td:nth-child(1) { padding: 0 10px; text-align: right }\n",
       "    .wandb-row { display: flex; flex-direction: row; flex-wrap: wrap; width: 100% }\n",
       "    .wandb-col { display: flex; flex-direction: column; flex-basis: 100%; flex: 1; padding: 10px; }\n",
       "    </style>\n",
       "<div class=\"wandb-row\"><div class=\"wandb-col\">\n",
       "<h3>Run history:</h3><br/><table class=\"wandb\"><tr><td>Mean Validation Loss (all folds)</td><td>▁</td></tr><tr><td>Mean Validation MAE (all folds)</td><td>▁</td></tr><tr><td>epoch</td><td>▁▁▁▁▂▂▂▂▂▃▃▃▃▃▃▄▄▄▄▄▅▅▅▅▅▅▆▆▆▆▆▇▇▇▇▇▇███</td></tr><tr><td>loss</td><td>█▁▁▁▁▁▁▁▁▁▁▁▁▁▁▁▁▁▁▁▁▁▁▁▁▁▁▁▁▁▁▁▁▁▁▁▁▁▁▁</td></tr><tr><td>mae</td><td>█▂▁▁▁▁▁▁▁▁▁▁▁▁▁▁▁▁▁▁▁▁▁▁▁▁▁▁▁▁▁▁▁▁▁▁▁▁▁▁</td></tr><tr><td>val_loss</td><td>█▁▁▁▁▁▁▁▁▁▁▁▁▁▁▁▁▁▁▁▁▁▁▁▁▁▁▁▁▁▁▁▁▁▁▁▁▁▁▁</td></tr><tr><td>val_mae</td><td>█▂▁▁▁▁▁▁▂▁▁▁▁▁▁▁▁▁▁▁▁▁▁▁▁▁▁▁▁▁▁▁▁▁▁▁▁▁▁▁</td></tr></table><br/></div><div class=\"wandb-col\">\n",
       "<h3>Run summary:</h3><br/><table class=\"wandb\"><tr><td>Mean Validation Loss (all folds)</td><td>486848784.0</td></tr><tr><td>Mean Validation MAE (all folds)</td><td>11054.01074</td></tr><tr><td>best_epoch</td><td>99</td></tr><tr><td>best_val_loss</td><td>499029696.0</td></tr><tr><td>epoch</td><td>99</td></tr><tr><td>loss</td><td>551435840.0</td></tr><tr><td>mae</td><td>11882.84766</td></tr><tr><td>val_loss</td><td>499029696.0</td></tr><tr><td>val_mae</td><td>11126.14062</td></tr></table>\n",
       "</div></div>\n",
       "Synced 5 W&B file(s), 0 media file(s), 0 artifact file(s) and 1 other file(s)\n",
       "<br/>Synced <strong style=\"color:#cdcd00\">twilight-sweep-4</strong>: <a href=\"https://wandb.ai/luiscostigan/house-price-prediction/runs/bqivbrqu\" target=\"_blank\">https://wandb.ai/luiscostigan/house-price-prediction/runs/bqivbrqu</a><br/>\n",
       "Find logs at: <code>./wandb/run-20220301_075347-bqivbrqu/logs</code><br/>\n"
      ],
      "text/plain": [
       "<IPython.core.display.HTML object>"
      ]
     },
     "metadata": {},
     "output_type": "display_data"
    },
    {
     "data": {
      "text/html": [
       "\n",
       "                    Syncing run <strong><a href=\"https://wandb.ai/luiscostigan/house-price-prediction/runs/bqivbrqu\" target=\"_blank\">twilight-sweep-4</a></strong> to <a href=\"https://wandb.ai/luiscostigan/house-price-prediction\" target=\"_blank\">Weights & Biases</a> (<a href=\"https://docs.wandb.com/integrations/jupyter.html\" target=\"_blank\">docs</a>).<br/>\n",
       "Sweep page: <a href=\"https://wandb.ai/luiscostigan/house-price-prediction/sweeps/7tqliuqb\" target=\"_blank\">https://wandb.ai/luiscostigan/house-price-prediction/sweeps/7tqliuqb</a><br/>\n",
       "\n",
       "                "
      ],
      "text/plain": [
       "<IPython.core.display.HTML object>"
      ]
     },
     "metadata": {},
     "output_type": "display_data"
    },
    {
     "name": "stdout",
     "output_type": "stream",
     "text": [
      "30/30 [==============================] - 0s 2ms/step - loss: 507483104.0000 - mae: 11180.7139\n",
      "Score for fold 3: loss of 507483104.0; mae of 11180.7138671875\n",
      "------------------------------------------------------------------------\n",
      "Score per fold\n",
      "------------------------------------------------------------------------\n",
      "> Fold 1 - Loss: 474667872.0 - Accuracy: 10981.880859375%\n",
      "------------------------------------------------------------------------\n",
      "> Fold 2 - Loss: 499029696.0 - Accuracy: 11126.140625%\n",
      "------------------------------------------------------------------------\n",
      "> Fold 3 - Loss: 507483104.0 - Accuracy: 11180.7138671875%\n",
      "------------------------------------------------------------------------\n",
      "Average scores for all folds:\n",
      "> MAE: 11096.2451171875 (+- 83.88065843592653)\n",
      "> Loss: 493726890.6666667\n",
      "------------------------------------------------------------------------\n"
     ]
    },
    {
     "data": {
      "text/html": [
       "<br/>Waiting for W&B process to finish, PID 928... <strong style=\"color:green\">(success).</strong>"
      ],
      "text/plain": [
       "<IPython.core.display.HTML object>"
      ]
     },
     "metadata": {},
     "output_type": "display_data"
    },
    {
     "data": {
      "application/vnd.jupyter.widget-view+json": {
       "model_id": "cb6f5d1a587f4bf59149c6aadd0f5d83",
       "version_major": 2,
       "version_minor": 0
      },
      "text/plain": [
       "VBox(children=(Label(value=' 1.13MB of 2.45MB uploaded (0.00MB deduped)\\r'), FloatProgress(value=0.46229100732…"
      ]
     },
     "metadata": {},
     "output_type": "display_data"
    },
    {
     "data": {
      "text/html": [
       "<style>\n",
       "    table.wandb td:nth-child(1) { padding: 0 10px; text-align: right }\n",
       "    .wandb-row { display: flex; flex-direction: row; flex-wrap: wrap; width: 100% }\n",
       "    .wandb-col { display: flex; flex-direction: column; flex-basis: 100%; flex: 1; padding: 10px; }\n",
       "    </style>\n",
       "<div class=\"wandb-row\"><div class=\"wandb-col\">\n",
       "<h3>Run history:</h3><br/><table class=\"wandb\"><tr><td>Mean Validation Loss (all folds)</td><td>▁</td></tr><tr><td>Mean Validation MAE (all folds)</td><td>▁</td></tr><tr><td>epoch</td><td>▁▁▁▁▂▂▂▂▂▃▃▃▃▃▃▄▄▄▄▄▅▅▅▅▅▅▆▆▆▆▆▇▇▇▇▇▇███</td></tr><tr><td>loss</td><td>█▁▁▁▁▁▁▁▁▁▁▁▁▁▁▁▁▁▁▁▁▁▁▁▁▁▁▁▁▁▁▁▁▁▁▁▁▁▁▁</td></tr><tr><td>mae</td><td>█▂▁▁▁▁▁▁▁▁▁▁▁▁▁▁▁▁▁▁▁▁▁▁▁▁▁▁▁▁▁▁▁▁▁▁▁▁▁▁</td></tr><tr><td>val_loss</td><td>█▁▁▁▁▁▁▁▁▁▁▁▁▁▁▁▁▁▁▁▁▁▁▁▁▁▁▁▁▁▁▁▁▁▁▁▁▁▁▁</td></tr><tr><td>val_mae</td><td>█▂▁▁▁▁▁▁▁▁▁▁▁▁▁▁▁▁▁▁▁▁▁▁▁▁▁▁▁▁▁▁▁▁▁▁▁▁▁▁</td></tr></table><br/></div><div class=\"wandb-col\">\n",
       "<h3>Run summary:</h3><br/><table class=\"wandb\"><tr><td>Mean Validation Loss (all folds)</td><td>493726890.66667</td></tr><tr><td>Mean Validation MAE (all folds)</td><td>11096.24512</td></tr><tr><td>best_epoch</td><td>99</td></tr><tr><td>best_val_loss</td><td>507483008.0</td></tr><tr><td>epoch</td><td>99</td></tr><tr><td>loss</td><td>546331904.0</td></tr><tr><td>mae</td><td>11933.0957</td></tr><tr><td>val_loss</td><td>507483008.0</td></tr><tr><td>val_mae</td><td>11180.71191</td></tr></table>\n",
       "</div></div>\n",
       "Synced 5 W&B file(s), 0 media file(s), 0 artifact file(s) and 1 other file(s)\n",
       "<br/>Synced <strong style=\"color:#cdcd00\">twilight-sweep-4</strong>: <a href=\"https://wandb.ai/luiscostigan/house-price-prediction/runs/bqivbrqu\" target=\"_blank\">https://wandb.ai/luiscostigan/house-price-prediction/runs/bqivbrqu</a><br/>\n",
       "Find logs at: <code>./wandb/run-20220301_075425-bqivbrqu/logs</code><br/>\n"
      ],
      "text/plain": [
       "<IPython.core.display.HTML object>"
      ]
     },
     "metadata": {},
     "output_type": "display_data"
    },
    {
     "data": {
      "text/html": [
       "\n",
       "                    Syncing run <strong><a href=\"https://wandb.ai/luiscostigan/house-price-prediction/runs/bqivbrqu\" target=\"_blank\">twilight-sweep-4</a></strong> to <a href=\"https://wandb.ai/luiscostigan/house-price-prediction\" target=\"_blank\">Weights & Biases</a> (<a href=\"https://docs.wandb.com/integrations/jupyter.html\" target=\"_blank\">docs</a>).<br/>\n",
       "Sweep page: <a href=\"https://wandb.ai/luiscostigan/house-price-prediction/sweeps/7tqliuqb\" target=\"_blank\">https://wandb.ai/luiscostigan/house-price-prediction/sweeps/7tqliuqb</a><br/>\n",
       "\n",
       "                "
      ],
      "text/plain": [
       "<IPython.core.display.HTML object>"
      ]
     },
     "metadata": {},
     "output_type": "display_data"
    },
    {
     "name": "stdout",
     "output_type": "stream",
     "text": [
      "30/30 [==============================] - 0s 1ms/step - loss: 558088064.0000 - mae: 11981.7510\n",
      "Score for fold 4: loss of 558088064.0; mae of 11981.7509765625\n",
      "------------------------------------------------------------------------\n",
      "Score per fold\n",
      "------------------------------------------------------------------------\n",
      "> Fold 1 - Loss: 474667872.0 - Accuracy: 10981.880859375%\n",
      "------------------------------------------------------------------------\n",
      "> Fold 2 - Loss: 499029696.0 - Accuracy: 11126.140625%\n",
      "------------------------------------------------------------------------\n",
      "> Fold 3 - Loss: 507483104.0 - Accuracy: 11180.7138671875%\n",
      "------------------------------------------------------------------------\n",
      "> Fold 4 - Loss: 558088064.0 - Accuracy: 11981.7509765625%\n",
      "------------------------------------------------------------------------\n",
      "Average scores for all folds:\n",
      "> MAE: 11317.62158203125 (+- 390.2558022693342)\n",
      "> Loss: 509817184.0\n",
      "------------------------------------------------------------------------\n"
     ]
    },
    {
     "data": {
      "text/html": [
       "<br/>Waiting for W&B process to finish, PID 3238... <strong style=\"color:green\">(success).</strong>"
      ],
      "text/plain": [
       "<IPython.core.display.HTML object>"
      ]
     },
     "metadata": {},
     "output_type": "display_data"
    },
    {
     "data": {
      "application/vnd.jupyter.widget-view+json": {
       "model_id": "8eb40e63961247d5a1286fa09cb74512",
       "version_major": 2,
       "version_minor": 0
      },
      "text/plain": [
       "VBox(children=(Label(value=' 2.25MB of 2.45MB uploaded (0.00MB deduped)\\r'), FloatProgress(value=0.91781822282…"
      ]
     },
     "metadata": {},
     "output_type": "display_data"
    },
    {
     "data": {
      "text/html": [
       "<style>\n",
       "    table.wandb td:nth-child(1) { padding: 0 10px; text-align: right }\n",
       "    .wandb-row { display: flex; flex-direction: row; flex-wrap: wrap; width: 100% }\n",
       "    .wandb-col { display: flex; flex-direction: column; flex-basis: 100%; flex: 1; padding: 10px; }\n",
       "    </style>\n",
       "<div class=\"wandb-row\"><div class=\"wandb-col\">\n",
       "<h3>Run history:</h3><br/><table class=\"wandb\"><tr><td>Mean Validation Loss (all folds)</td><td>▁</td></tr><tr><td>Mean Validation MAE (all folds)</td><td>▁</td></tr><tr><td>epoch</td><td>▁▁▁▁▂▂▂▂▂▃▃▃▃▃▃▄▄▄▄▄▅▅▅▅▅▅▆▆▆▆▆▇▇▇▇▇▇███</td></tr><tr><td>loss</td><td>█▁▁▁▁▁▁▁▁▁▁▁▁▁▁▁▁▁▁▁▁▁▁▁▁▁▁▁▁▁▁▁▁▁▁▁▁▁▁▁</td></tr><tr><td>mae</td><td>█▂▁▁▁▁▁▁▁▁▁▁▁▁▁▁▁▁▁▁▁▁▁▁▁▁▁▁▁▁▁▁▁▁▁▁▁▁▁▁</td></tr><tr><td>val_loss</td><td>█▁▁▁▁▁▁▁▁▁▁▁▁▁▁▁▁▁▁▁▁▁▁▁▁▁▁▁▁▁▁▁▁▁▁▁▁▁▁▁</td></tr><tr><td>val_mae</td><td>█▂▁▁▁▁▁▁▁▁▁▁▁▁▁▁▁▁▁▁▁▁▁▁▁▁▁▁▁▁▁▁▁▁▁▁▁▁▁▁</td></tr></table><br/></div><div class=\"wandb-col\">\n",
       "<h3>Run summary:</h3><br/><table class=\"wandb\"><tr><td>Mean Validation Loss (all folds)</td><td>509817184.0</td></tr><tr><td>Mean Validation MAE (all folds)</td><td>11317.62158</td></tr><tr><td>best_epoch</td><td>97</td></tr><tr><td>best_val_loss</td><td>554748928.0</td></tr><tr><td>epoch</td><td>99</td></tr><tr><td>loss</td><td>603306240.0</td></tr><tr><td>mae</td><td>12574.39941</td></tr><tr><td>val_loss</td><td>558088192.0</td></tr><tr><td>val_mae</td><td>11981.75195</td></tr></table>\n",
       "</div></div>\n",
       "Synced 5 W&B file(s), 0 media file(s), 0 artifact file(s) and 1 other file(s)\n",
       "<br/>Synced <strong style=\"color:#cdcd00\">twilight-sweep-4</strong>: <a href=\"https://wandb.ai/luiscostigan/house-price-prediction/runs/bqivbrqu\" target=\"_blank\">https://wandb.ai/luiscostigan/house-price-prediction/runs/bqivbrqu</a><br/>\n",
       "Find logs at: <code>./wandb/run-20220301_075501-bqivbrqu/logs</code><br/>\n"
      ],
      "text/plain": [
       "<IPython.core.display.HTML object>"
      ]
     },
     "metadata": {},
     "output_type": "display_data"
    },
    {
     "data": {
      "text/html": [
       "\n",
       "                    Syncing run <strong><a href=\"https://wandb.ai/luiscostigan/house-price-prediction/runs/bqivbrqu\" target=\"_blank\">twilight-sweep-4</a></strong> to <a href=\"https://wandb.ai/luiscostigan/house-price-prediction\" target=\"_blank\">Weights & Biases</a> (<a href=\"https://docs.wandb.com/integrations/jupyter.html\" target=\"_blank\">docs</a>).<br/>\n",
       "Sweep page: <a href=\"https://wandb.ai/luiscostigan/house-price-prediction/sweeps/7tqliuqb\" target=\"_blank\">https://wandb.ai/luiscostigan/house-price-prediction/sweeps/7tqliuqb</a><br/>\n",
       "\n",
       "                "
      ],
      "text/plain": [
       "<IPython.core.display.HTML object>"
      ]
     },
     "metadata": {},
     "output_type": "display_data"
    },
    {
     "name": "stdout",
     "output_type": "stream",
     "text": [
      "30/30 [==============================] - 0s 1ms/step - loss: 501126400.0000 - mae: 11100.9951\n",
      "Score for fold 5: loss of 501126400.0; mae of 11100.9951171875\n",
      "------------------------------------------------------------------------\n",
      "Score per fold\n",
      "------------------------------------------------------------------------\n",
      "> Fold 1 - Loss: 474667872.0 - Accuracy: 10981.880859375%\n",
      "------------------------------------------------------------------------\n",
      "> Fold 2 - Loss: 499029696.0 - Accuracy: 11126.140625%\n",
      "------------------------------------------------------------------------\n",
      "> Fold 3 - Loss: 507483104.0 - Accuracy: 11180.7138671875%\n",
      "------------------------------------------------------------------------\n",
      "> Fold 4 - Loss: 558088064.0 - Accuracy: 11981.7509765625%\n",
      "------------------------------------------------------------------------\n",
      "> Fold 5 - Loss: 501126400.0 - Accuracy: 11100.9951171875%\n",
      "------------------------------------------------------------------------\n",
      "Average scores for all folds:\n",
      "> MAE: 11274.2962890625 (+- 359.6498255348074)\n",
      "> Loss: 508079027.2\n",
      "------------------------------------------------------------------------\n"
     ]
    },
    {
     "data": {
      "text/html": [
       "<br/>Waiting for W&B process to finish, PID 5551... <strong style=\"color:green\">(success).</strong>"
      ],
      "text/plain": [
       "<IPython.core.display.HTML object>"
      ]
     },
     "metadata": {},
     "output_type": "display_data"
    },
    {
     "data": {
      "application/vnd.jupyter.widget-view+json": {
       "model_id": "5f0b5ddae4584b03b5a59fcac3398993",
       "version_major": 2,
       "version_minor": 0
      },
      "text/plain": [
       "VBox(children=(Label(value=' 2.45MB of 2.45MB uploaded (0.00MB deduped)\\r'), FloatProgress(value=1.0, max=1.0)…"
      ]
     },
     "metadata": {},
     "output_type": "display_data"
    },
    {
     "data": {
      "text/html": [
       "<style>\n",
       "    table.wandb td:nth-child(1) { padding: 0 10px; text-align: right }\n",
       "    .wandb-row { display: flex; flex-direction: row; flex-wrap: wrap; width: 100% }\n",
       "    .wandb-col { display: flex; flex-direction: column; flex-basis: 100%; flex: 1; padding: 10px; }\n",
       "    </style>\n",
       "<div class=\"wandb-row\"><div class=\"wandb-col\">\n",
       "<h3>Run history:</h3><br/><table class=\"wandb\"><tr><td>Mean Validation Loss (all folds)</td><td>▁</td></tr><tr><td>Mean Validation MAE (all folds)</td><td>▁</td></tr><tr><td>epoch</td><td>▁▁▁▁▂▂▂▂▂▃▃▃▃▃▃▄▄▄▄▄▅▅▅▅▅▅▆▆▆▆▆▇▇▇▇▇▇███</td></tr><tr><td>loss</td><td>█▁▁▁▁▁▁▁▁▁▁▁▁▁▁▁▁▁▁▁▁▁▁▁▁▁▁▁▁▁▁▁▁▁▁▁▁▁▁▁</td></tr><tr><td>mae</td><td>█▂▁▁▁▁▁▁▁▁▁▁▁▁▁▁▁▁▁▁▁▁▁▁▁▁▁▁▁▁▁▁▁▁▁▁▁▁▁▁</td></tr><tr><td>val_loss</td><td>█▁▁▁▁▁▁▁▁▁▁▁▁▁▁▁▁▁▁▁▁▁▁▁▁▁▁▁▁▁▁▁▁▁▁▁▁▁▁▁</td></tr><tr><td>val_mae</td><td>█▂▂▁▁▁▁▁▁▁▁▁▁▁▁▁▁▁▁▁▁▁▁▁▁▁▁▁▁▁▁▁▁▁▁▁▁▁▁▁</td></tr></table><br/></div><div class=\"wandb-col\">\n",
       "<h3>Run summary:</h3><br/><table class=\"wandb\"><tr><td>Mean Validation Loss (all folds)</td><td>508079027.2</td></tr><tr><td>Mean Validation MAE (all folds)</td><td>11274.29629</td></tr><tr><td>best_epoch</td><td>99</td></tr><tr><td>best_val_loss</td><td>501126464.0</td></tr><tr><td>epoch</td><td>99</td></tr><tr><td>loss</td><td>557575872.0</td></tr><tr><td>mae</td><td>11639.06738</td></tr><tr><td>val_loss</td><td>501126464.0</td></tr><tr><td>val_mae</td><td>11100.99609</td></tr></table>\n",
       "</div></div>\n",
       "Synced 5 W&B file(s), 0 media file(s), 0 artifact file(s) and 1 other file(s)\n",
       "<br/>Synced <strong style=\"color:#cdcd00\">twilight-sweep-4</strong>: <a href=\"https://wandb.ai/luiscostigan/house-price-prediction/runs/bqivbrqu\" target=\"_blank\">https://wandb.ai/luiscostigan/house-price-prediction/runs/bqivbrqu</a><br/>\n",
       "Find logs at: <code>./wandb/run-20220301_075537-bqivbrqu/logs</code><br/>\n"
      ],
      "text/plain": [
       "<IPython.core.display.HTML object>"
      ]
     },
     "metadata": {},
     "output_type": "display_data"
    },
    {
     "name": "stderr",
     "output_type": "stream",
     "text": [
      "\u001b[34m\u001b[1mwandb\u001b[0m: Agent Starting Run: 57gnhon5 with config:\n",
      "\u001b[34m\u001b[1mwandb\u001b[0m: \tbatch_size: 512\n",
      "\u001b[34m\u001b[1mwandb\u001b[0m: \tdropout1: 0.6019328410659873\n",
      "\u001b[34m\u001b[1mwandb\u001b[0m: \tepochs: 100\n"
     ]
    },
    {
     "data": {
      "text/html": [
       "\n",
       "                    Syncing run <strong><a href=\"https://wandb.ai/luiscostigan/house-price-prediction/runs/57gnhon5\" target=\"_blank\">frosty-sweep-5</a></strong> to <a href=\"https://wandb.ai/luiscostigan/house-price-prediction\" target=\"_blank\">Weights & Biases</a> (<a href=\"https://docs.wandb.com/integrations/jupyter.html\" target=\"_blank\">docs</a>).<br/>\n",
       "Sweep page: <a href=\"https://wandb.ai/luiscostigan/house-price-prediction/sweeps/7tqliuqb\" target=\"_blank\">https://wandb.ai/luiscostigan/house-price-prediction/sweeps/7tqliuqb</a><br/>\n",
       "\n",
       "                "
      ],
      "text/plain": [
       "<IPython.core.display.HTML object>"
      ]
     },
     "metadata": {},
     "output_type": "display_data"
    },
    {
     "name": "stdout",
     "output_type": "stream",
     "text": [
      "30/30 [==============================] - 0s 1ms/step - loss: 1120712960.0000 - mae: 19263.8652\n",
      "Score for fold 1: loss of 1120712960.0; mae of 19263.865234375\n",
      "------------------------------------------------------------------------\n",
      "Score per fold\n",
      "------------------------------------------------------------------------\n",
      "> Fold 1 - Loss: 1120712960.0 - Accuracy: 19263.865234375%\n",
      "------------------------------------------------------------------------\n",
      "Average scores for all folds:\n",
      "> MAE: 19263.865234375 (+- 0.0)\n",
      "> Loss: 1120712960.0\n",
      "------------------------------------------------------------------------\n"
     ]
    },
    {
     "data": {
      "text/html": [
       "<br/>Waiting for W&B process to finish, PID 7885... <strong style=\"color:green\">(success).</strong>"
      ],
      "text/plain": [
       "<IPython.core.display.HTML object>"
      ]
     },
     "metadata": {},
     "output_type": "display_data"
    },
    {
     "data": {
      "application/vnd.jupyter.widget-view+json": {
       "model_id": "e45f1c2a47cc413cb8e0def53f7e64d1",
       "version_major": 2,
       "version_minor": 0
      },
      "text/plain": [
       "VBox(children=(Label(value=' 2.40MB of 2.45MB uploaded (0.00MB deduped)\\r'), FloatProgress(value=0.97837895852…"
      ]
     },
     "metadata": {},
     "output_type": "display_data"
    },
    {
     "data": {
      "text/html": [
       "<style>\n",
       "    table.wandb td:nth-child(1) { padding: 0 10px; text-align: right }\n",
       "    .wandb-row { display: flex; flex-direction: row; flex-wrap: wrap; width: 100% }\n",
       "    .wandb-col { display: flex; flex-direction: column; flex-basis: 100%; flex: 1; padding: 10px; }\n",
       "    </style>\n",
       "<div class=\"wandb-row\"><div class=\"wandb-col\">\n",
       "<h3>Run history:</h3><br/><table class=\"wandb\"><tr><td>Mean Validation Loss (all folds)</td><td>▁</td></tr><tr><td>Mean Validation MAE (all folds)</td><td>▁</td></tr><tr><td>epoch</td><td>▁▁▁▁▂▂▂▂▂▃▃▃▃▃▃▄▄▄▄▄▅▅▅▅▅▅▆▆▆▆▆▇▇▇▇▇▇███</td></tr><tr><td>loss</td><td>██████▇▇▇▆▆▅▄▄▃▃▂▂▂▁▁▁▁▁▁▁▁▁▁▁▁▁▁▁▁▁▁▁▁▁</td></tr><tr><td>mae</td><td>███████▇▇▇▆▆▅▅▄▃▃▂▂▁▁▁▁▁▁▁▁▁▁▁▁▁▁▁▁▁▁▁▁▁</td></tr><tr><td>val_loss</td><td>██████▇▇▇▆▅▅▄▄▃▂▂▂▁▁▁▁▁▁▁▁▁▁▁▁▁▁▁▁▁▁▁▁▁▁</td></tr><tr><td>val_mae</td><td>███████▇▇▇▆▆▅▅▄▃▃▂▂▁▁▁▁▁▁▁▁▁▁▁▁▁▁▁▁▁▁▁▁▁</td></tr></table><br/></div><div class=\"wandb-col\">\n",
       "<h3>Run summary:</h3><br/><table class=\"wandb\"><tr><td>Mean Validation Loss (all folds)</td><td>1120712960.0</td></tr><tr><td>Mean Validation MAE (all folds)</td><td>19263.86523</td></tr><tr><td>best_epoch</td><td>99</td></tr><tr><td>best_val_loss</td><td>1120712832.0</td></tr><tr><td>epoch</td><td>99</td></tr><tr><td>loss</td><td>1164063872.0</td></tr><tr><td>mae</td><td>20805.06641</td></tr><tr><td>val_loss</td><td>1120712832.0</td></tr><tr><td>val_mae</td><td>19263.86328</td></tr></table>\n",
       "</div></div>\n",
       "Synced 5 W&B file(s), 0 media file(s), 0 artifact file(s) and 1 other file(s)\n",
       "<br/>Synced <strong style=\"color:#cdcd00\">frosty-sweep-5</strong>: <a href=\"https://wandb.ai/luiscostigan/house-price-prediction/runs/57gnhon5\" target=\"_blank\">https://wandb.ai/luiscostigan/house-price-prediction/runs/57gnhon5</a><br/>\n",
       "Find logs at: <code>./wandb/run-20220301_075615-57gnhon5/logs</code><br/>\n"
      ],
      "text/plain": [
       "<IPython.core.display.HTML object>"
      ]
     },
     "metadata": {},
     "output_type": "display_data"
    },
    {
     "data": {
      "text/html": [
       "\n",
       "                    Syncing run <strong><a href=\"https://wandb.ai/luiscostigan/house-price-prediction/runs/57gnhon5\" target=\"_blank\">frosty-sweep-5</a></strong> to <a href=\"https://wandb.ai/luiscostigan/house-price-prediction\" target=\"_blank\">Weights & Biases</a> (<a href=\"https://docs.wandb.com/integrations/jupyter.html\" target=\"_blank\">docs</a>).<br/>\n",
       "Sweep page: <a href=\"https://wandb.ai/luiscostigan/house-price-prediction/sweeps/7tqliuqb\" target=\"_blank\">https://wandb.ai/luiscostigan/house-price-prediction/sweeps/7tqliuqb</a><br/>\n",
       "\n",
       "                "
      ],
      "text/plain": [
       "<IPython.core.display.HTML object>"
      ]
     },
     "metadata": {},
     "output_type": "display_data"
    },
    {
     "name": "stdout",
     "output_type": "stream",
     "text": [
      "30/30 [==============================] - 0s 1ms/step - loss: 1153258496.0000 - mae: 19646.2910\n",
      "Score for fold 2: loss of 1153258496.0; mae of 19646.291015625\n",
      "------------------------------------------------------------------------\n",
      "Score per fold\n",
      "------------------------------------------------------------------------\n",
      "> Fold 1 - Loss: 1120712960.0 - Accuracy: 19263.865234375%\n",
      "------------------------------------------------------------------------\n",
      "> Fold 2 - Loss: 1153258496.0 - Accuracy: 19646.291015625%\n",
      "------------------------------------------------------------------------\n",
      "Average scores for all folds:\n",
      "> MAE: 19455.078125 (+- 191.212890625)\n",
      "> Loss: 1136985728.0\n",
      "------------------------------------------------------------------------\n"
     ]
    },
    {
     "data": {
      "text/html": [
       "<br/>Waiting for W&B process to finish, PID 10027... <strong style=\"color:green\">(success).</strong>"
      ],
      "text/plain": [
       "<IPython.core.display.HTML object>"
      ]
     },
     "metadata": {},
     "output_type": "display_data"
    },
    {
     "data": {
      "application/vnd.jupyter.widget-view+json": {
       "model_id": "de355be6c64845498e7fd1cf9a182df7",
       "version_major": 2,
       "version_minor": 0
      },
      "text/plain": [
       "VBox(children=(Label(value=' 1.43MB of 2.45MB uploaded (0.00MB deduped)\\r'), FloatProgress(value=0.58334230935…"
      ]
     },
     "metadata": {},
     "output_type": "display_data"
    },
    {
     "data": {
      "text/html": [
       "<style>\n",
       "    table.wandb td:nth-child(1) { padding: 0 10px; text-align: right }\n",
       "    .wandb-row { display: flex; flex-direction: row; flex-wrap: wrap; width: 100% }\n",
       "    .wandb-col { display: flex; flex-direction: column; flex-basis: 100%; flex: 1; padding: 10px; }\n",
       "    </style>\n",
       "<div class=\"wandb-row\"><div class=\"wandb-col\">\n",
       "<h3>Run history:</h3><br/><table class=\"wandb\"><tr><td>Mean Validation Loss (all folds)</td><td>▁</td></tr><tr><td>Mean Validation MAE (all folds)</td><td>▁</td></tr><tr><td>epoch</td><td>▁▁▁▁▂▂▂▂▂▃▃▃▃▃▃▄▄▄▄▄▅▅▅▅▅▅▆▆▆▆▆▇▇▇▇▇▇███</td></tr><tr><td>loss</td><td>██████▇▇▇▆▆▅▅▄▃▃▂▂▂▁▁▁▁▁▁▁▁▁▁▁▁▁▁▁▁▁▁▁▁▁</td></tr><tr><td>mae</td><td>███████▇▇▇▇▆▆▅▄▄▃▂▂▂▁▁▁▁▁▁▁▁▁▁▁▁▁▁▁▁▁▁▁▁</td></tr><tr><td>val_loss</td><td>██████▇▇▇▆▆▅▄▄▃▃▂▂▂▁▁▁▁▁▁▁▁▁▁▁▁▁▁▁▁▁▁▁▁▁</td></tr><tr><td>val_mae</td><td>███████▇▇▇▆▆▅▅▄▄▃▂▂▁▁▁▁▁▁▁▁▁▁▁▁▁▁▁▁▁▁▁▁▁</td></tr></table><br/></div><div class=\"wandb-col\">\n",
       "<h3>Run summary:</h3><br/><table class=\"wandb\"><tr><td>Mean Validation Loss (all folds)</td><td>1136985728.0</td></tr><tr><td>Mean Validation MAE (all folds)</td><td>19455.07812</td></tr><tr><td>best_epoch</td><td>99</td></tr><tr><td>best_val_loss</td><td>1153258624.0</td></tr><tr><td>epoch</td><td>99</td></tr><tr><td>loss</td><td>1255962240.0</td></tr><tr><td>mae</td><td>20889.18555</td></tr><tr><td>val_loss</td><td>1153258624.0</td></tr><tr><td>val_mae</td><td>19646.29102</td></tr></table>\n",
       "</div></div>\n",
       "Synced 5 W&B file(s), 0 media file(s), 0 artifact file(s) and 1 other file(s)\n",
       "<br/>Synced <strong style=\"color:#cdcd00\">frosty-sweep-5</strong>: <a href=\"https://wandb.ai/luiscostigan/house-price-prediction/runs/57gnhon5\" target=\"_blank\">https://wandb.ai/luiscostigan/house-price-prediction/runs/57gnhon5</a><br/>\n",
       "Find logs at: <code>./wandb/run-20220301_075629-57gnhon5/logs</code><br/>\n"
      ],
      "text/plain": [
       "<IPython.core.display.HTML object>"
      ]
     },
     "metadata": {},
     "output_type": "display_data"
    },
    {
     "data": {
      "text/html": [
       "\n",
       "                    Syncing run <strong><a href=\"https://wandb.ai/luiscostigan/house-price-prediction/runs/57gnhon5\" target=\"_blank\">frosty-sweep-5</a></strong> to <a href=\"https://wandb.ai/luiscostigan/house-price-prediction\" target=\"_blank\">Weights & Biases</a> (<a href=\"https://docs.wandb.com/integrations/jupyter.html\" target=\"_blank\">docs</a>).<br/>\n",
       "Sweep page: <a href=\"https://wandb.ai/luiscostigan/house-price-prediction/sweeps/7tqliuqb\" target=\"_blank\">https://wandb.ai/luiscostigan/house-price-prediction/sweeps/7tqliuqb</a><br/>\n",
       "\n",
       "                "
      ],
      "text/plain": [
       "<IPython.core.display.HTML object>"
      ]
     },
     "metadata": {},
     "output_type": "display_data"
    },
    {
     "name": "stdout",
     "output_type": "stream",
     "text": [
      "30/30 [==============================] - 0s 1ms/step - loss: 1109779968.0000 - mae: 19183.1582\n",
      "Score for fold 3: loss of 1109779968.0; mae of 19183.158203125\n",
      "------------------------------------------------------------------------\n",
      "Score per fold\n",
      "------------------------------------------------------------------------\n",
      "> Fold 1 - Loss: 1120712960.0 - Accuracy: 19263.865234375%\n",
      "------------------------------------------------------------------------\n",
      "> Fold 2 - Loss: 1153258496.0 - Accuracy: 19646.291015625%\n",
      "------------------------------------------------------------------------\n",
      "> Fold 3 - Loss: 1109779968.0 - Accuracy: 19183.158203125%\n",
      "------------------------------------------------------------------------\n",
      "Average scores for all folds:\n",
      "> MAE: 19364.438151041668 (+- 202.00525435191076)\n",
      "> Loss: 1127917141.3333333\n",
      "------------------------------------------------------------------------\n"
     ]
    },
    {
     "data": {
      "text/html": [
       "<br/>Waiting for W&B process to finish, PID 12148... <strong style=\"color:green\">(success).</strong>"
      ],
      "text/plain": [
       "<IPython.core.display.HTML object>"
      ]
     },
     "metadata": {},
     "output_type": "display_data"
    },
    {
     "data": {
      "application/vnd.jupyter.widget-view+json": {
       "model_id": "e1125e423a904035bb69d9fcd6fc9020",
       "version_major": 2,
       "version_minor": 0
      },
      "text/plain": [
       "VBox(children=(Label(value=' 0.85MB of 2.45MB uploaded (0.00MB deduped)\\r'), FloatProgress(value=0.34761426475…"
      ]
     },
     "metadata": {},
     "output_type": "display_data"
    },
    {
     "data": {
      "text/html": [
       "<style>\n",
       "    table.wandb td:nth-child(1) { padding: 0 10px; text-align: right }\n",
       "    .wandb-row { display: flex; flex-direction: row; flex-wrap: wrap; width: 100% }\n",
       "    .wandb-col { display: flex; flex-direction: column; flex-basis: 100%; flex: 1; padding: 10px; }\n",
       "    </style>\n",
       "<div class=\"wandb-row\"><div class=\"wandb-col\">\n",
       "<h3>Run history:</h3><br/><table class=\"wandb\"><tr><td>Mean Validation Loss (all folds)</td><td>▁</td></tr><tr><td>Mean Validation MAE (all folds)</td><td>▁</td></tr><tr><td>epoch</td><td>▁▁▁▁▂▂▂▂▂▃▃▃▃▃▃▄▄▄▄▄▅▅▅▅▅▅▆▆▆▆▆▇▇▇▇▇▇███</td></tr><tr><td>loss</td><td>██████▇▇▇▆▆▅▄▄▃▂▂▂▁▁▁▁▁▁▁▁▁▁▁▁▁▁▁▁▁▁▁▁▁▁</td></tr><tr><td>mae</td><td>███████▇▇▇▆▆▅▅▄▃▃▂▂▁▁▁▁▁▁▁▁▁▁▁▁▁▁▁▁▁▁▁▁▁</td></tr><tr><td>val_loss</td><td>██████▇▇▆▆▅▅▄▃▃▂▂▂▁▁▁▁▁▁▁▁▁▁▁▁▁▁▁▁▁▁▁▁▁▁</td></tr><tr><td>val_mae</td><td>███████▇▇▇▆▆▅▅▄▃▃▂▂▁▁▁▁▁▁▁▁▁▁▁▁▁▁▁▁▁▁▁▁▁</td></tr></table><br/></div><div class=\"wandb-col\">\n",
       "<h3>Run summary:</h3><br/><table class=\"wandb\"><tr><td>Mean Validation Loss (all folds)</td><td>1127917141.33333</td></tr><tr><td>Mean Validation MAE (all folds)</td><td>19364.43815</td></tr><tr><td>best_epoch</td><td>99</td></tr><tr><td>best_val_loss</td><td>1109779968.0</td></tr><tr><td>epoch</td><td>99</td></tr><tr><td>loss</td><td>1199682048.0</td></tr><tr><td>mae</td><td>20856.04297</td></tr><tr><td>val_loss</td><td>1109779968.0</td></tr><tr><td>val_mae</td><td>19183.16016</td></tr></table>\n",
       "</div></div>\n",
       "Synced 5 W&B file(s), 0 media file(s), 0 artifact file(s) and 1 other file(s)\n",
       "<br/>Synced <strong style=\"color:#cdcd00\">frosty-sweep-5</strong>: <a href=\"https://wandb.ai/luiscostigan/house-price-prediction/runs/57gnhon5\" target=\"_blank\">https://wandb.ai/luiscostigan/house-price-prediction/runs/57gnhon5</a><br/>\n",
       "Find logs at: <code>./wandb/run-20220301_075643-57gnhon5/logs</code><br/>\n"
      ],
      "text/plain": [
       "<IPython.core.display.HTML object>"
      ]
     },
     "metadata": {},
     "output_type": "display_data"
    },
    {
     "data": {
      "text/html": [
       "\n",
       "                    Syncing run <strong><a href=\"https://wandb.ai/luiscostigan/house-price-prediction/runs/57gnhon5\" target=\"_blank\">frosty-sweep-5</a></strong> to <a href=\"https://wandb.ai/luiscostigan/house-price-prediction\" target=\"_blank\">Weights & Biases</a> (<a href=\"https://docs.wandb.com/integrations/jupyter.html\" target=\"_blank\">docs</a>).<br/>\n",
       "Sweep page: <a href=\"https://wandb.ai/luiscostigan/house-price-prediction/sweeps/7tqliuqb\" target=\"_blank\">https://wandb.ai/luiscostigan/house-price-prediction/sweeps/7tqliuqb</a><br/>\n",
       "\n",
       "                "
      ],
      "text/plain": [
       "<IPython.core.display.HTML object>"
      ]
     },
     "metadata": {},
     "output_type": "display_data"
    },
    {
     "name": "stdout",
     "output_type": "stream",
     "text": [
      "30/30 [==============================] - 0s 2ms/step - loss: 1138863872.0000 - mae: 19902.8027\n",
      "Score for fold 4: loss of 1138863872.0; mae of 19902.802734375\n",
      "------------------------------------------------------------------------\n",
      "Score per fold\n",
      "------------------------------------------------------------------------\n",
      "> Fold 1 - Loss: 1120712960.0 - Accuracy: 19263.865234375%\n",
      "------------------------------------------------------------------------\n",
      "> Fold 2 - Loss: 1153258496.0 - Accuracy: 19646.291015625%\n",
      "------------------------------------------------------------------------\n",
      "> Fold 3 - Loss: 1109779968.0 - Accuracy: 19183.158203125%\n",
      "------------------------------------------------------------------------\n",
      "> Fold 4 - Loss: 1138863872.0 - Accuracy: 19902.802734375%\n",
      "------------------------------------------------------------------------\n",
      "Average scores for all folds:\n",
      "> MAE: 19499.029296875 (+- 291.45998301572024)\n",
      "> Loss: 1130653824.0\n",
      "------------------------------------------------------------------------\n"
     ]
    },
    {
     "data": {
      "text/html": [
       "<br/>Waiting for W&B process to finish, PID 14270... <strong style=\"color:green\">(success).</strong>"
      ],
      "text/plain": [
       "<IPython.core.display.HTML object>"
      ]
     },
     "metadata": {},
     "output_type": "display_data"
    },
    {
     "data": {
      "application/vnd.jupyter.widget-view+json": {
       "model_id": "25aeeb2631ff41f597da795530f9eedb",
       "version_major": 2,
       "version_minor": 0
      },
      "text/plain": [
       "VBox(children=(Label(value=' 1.77MB of 2.45MB uploaded (0.00MB deduped)\\r'), FloatProgress(value=0.72031815963…"
      ]
     },
     "metadata": {},
     "output_type": "display_data"
    },
    {
     "data": {
      "text/html": [
       "<style>\n",
       "    table.wandb td:nth-child(1) { padding: 0 10px; text-align: right }\n",
       "    .wandb-row { display: flex; flex-direction: row; flex-wrap: wrap; width: 100% }\n",
       "    .wandb-col { display: flex; flex-direction: column; flex-basis: 100%; flex: 1; padding: 10px; }\n",
       "    </style>\n",
       "<div class=\"wandb-row\"><div class=\"wandb-col\">\n",
       "<h3>Run history:</h3><br/><table class=\"wandb\"><tr><td>Mean Validation Loss (all folds)</td><td>▁</td></tr><tr><td>Mean Validation MAE (all folds)</td><td>▁</td></tr><tr><td>epoch</td><td>▁▁▁▁▂▂▂▂▂▃▃▃▃▃▃▄▄▄▄▄▅▅▅▅▅▅▆▆▆▆▆▇▇▇▇▇▇███</td></tr><tr><td>loss</td><td>██████▇▇▇▆▆▅▅▄▃▃▂▂▂▁▁▁▁▁▁▁▁▁▁▁▁▁▁▁▁▁▁▁▁▁</td></tr><tr><td>mae</td><td>███████▇▇▇▆▆▆▅▄▄▃▂▂▁▁▁▁▁▁▁▁▁▁▁▁▁▁▁▁▁▁▁▁▁</td></tr><tr><td>val_loss</td><td>██████▇▇▇▆▆▅▄▄▃▃▂▂▁▁▁▁▁▁▁▁▁▁▁▁▁▁▁▁▁▁▁▁▁▁</td></tr><tr><td>val_mae</td><td>███████▇▇▇▆▆▅▅▄▃▃▂▂▁▁▁▁▁▁▁▁▁▁▁▁▁▁▁▁▁▁▁▁▁</td></tr></table><br/></div><div class=\"wandb-col\">\n",
       "<h3>Run summary:</h3><br/><table class=\"wandb\"><tr><td>Mean Validation Loss (all folds)</td><td>1130653824.0</td></tr><tr><td>Mean Validation MAE (all folds)</td><td>19499.0293</td></tr><tr><td>best_epoch</td><td>99</td></tr><tr><td>best_val_loss</td><td>1138863872.0</td></tr><tr><td>epoch</td><td>99</td></tr><tr><td>loss</td><td>1262697472.0</td></tr><tr><td>mae</td><td>21322.50977</td></tr><tr><td>val_loss</td><td>1138863872.0</td></tr><tr><td>val_mae</td><td>19902.80078</td></tr></table>\n",
       "</div></div>\n",
       "Synced 5 W&B file(s), 0 media file(s), 0 artifact file(s) and 1 other file(s)\n",
       "<br/>Synced <strong style=\"color:#cdcd00\">frosty-sweep-5</strong>: <a href=\"https://wandb.ai/luiscostigan/house-price-prediction/runs/57gnhon5\" target=\"_blank\">https://wandb.ai/luiscostigan/house-price-prediction/runs/57gnhon5</a><br/>\n",
       "Find logs at: <code>./wandb/run-20220301_075657-57gnhon5/logs</code><br/>\n"
      ],
      "text/plain": [
       "<IPython.core.display.HTML object>"
      ]
     },
     "metadata": {},
     "output_type": "display_data"
    },
    {
     "data": {
      "text/html": [
       "\n",
       "                    Syncing run <strong><a href=\"https://wandb.ai/luiscostigan/house-price-prediction/runs/57gnhon5\" target=\"_blank\">frosty-sweep-5</a></strong> to <a href=\"https://wandb.ai/luiscostigan/house-price-prediction\" target=\"_blank\">Weights & Biases</a> (<a href=\"https://docs.wandb.com/integrations/jupyter.html\" target=\"_blank\">docs</a>).<br/>\n",
       "Sweep page: <a href=\"https://wandb.ai/luiscostigan/house-price-prediction/sweeps/7tqliuqb\" target=\"_blank\">https://wandb.ai/luiscostigan/house-price-prediction/sweeps/7tqliuqb</a><br/>\n",
       "\n",
       "                "
      ],
      "text/plain": [
       "<IPython.core.display.HTML object>"
      ]
     },
     "metadata": {},
     "output_type": "display_data"
    },
    {
     "name": "stdout",
     "output_type": "stream",
     "text": [
      "30/30 [==============================] - 0s 1ms/step - loss: 1086239872.0000 - mae: 18888.1602\n",
      "Score for fold 5: loss of 1086239872.0; mae of 18888.16015625\n",
      "------------------------------------------------------------------------\n",
      "Score per fold\n",
      "------------------------------------------------------------------------\n",
      "> Fold 1 - Loss: 1120712960.0 - Accuracy: 19263.865234375%\n",
      "------------------------------------------------------------------------\n",
      "> Fold 2 - Loss: 1153258496.0 - Accuracy: 19646.291015625%\n",
      "------------------------------------------------------------------------\n",
      "> Fold 3 - Loss: 1109779968.0 - Accuracy: 19183.158203125%\n",
      "------------------------------------------------------------------------\n",
      "> Fold 4 - Loss: 1138863872.0 - Accuracy: 19902.802734375%\n",
      "------------------------------------------------------------------------\n",
      "> Fold 5 - Loss: 1086239872.0 - Accuracy: 18888.16015625%\n",
      "------------------------------------------------------------------------\n",
      "Average scores for all folds:\n",
      "> MAE: 19376.85546875 (+- 357.30227325681443)\n",
      "> Loss: 1121771033.6\n",
      "------------------------------------------------------------------------\n"
     ]
    },
    {
     "data": {
      "text/html": [
       "<br/>Waiting for W&B process to finish, PID 16446... <strong style=\"color:green\">(success).</strong>"
      ],
      "text/plain": [
       "<IPython.core.display.HTML object>"
      ]
     },
     "metadata": {},
     "output_type": "display_data"
    },
    {
     "data": {
      "application/vnd.jupyter.widget-view+json": {
       "model_id": "08e7c490326b4c85937d2933f7f677b1",
       "version_major": 2,
       "version_minor": 0
      },
      "text/plain": [
       "VBox(children=(Label(value=' 1.36MB of 2.45MB uploaded (0.00MB deduped)\\r'), FloatProgress(value=0.55467294534…"
      ]
     },
     "metadata": {},
     "output_type": "display_data"
    },
    {
     "data": {
      "text/html": [
       "<style>\n",
       "    table.wandb td:nth-child(1) { padding: 0 10px; text-align: right }\n",
       "    .wandb-row { display: flex; flex-direction: row; flex-wrap: wrap; width: 100% }\n",
       "    .wandb-col { display: flex; flex-direction: column; flex-basis: 100%; flex: 1; padding: 10px; }\n",
       "    </style>\n",
       "<div class=\"wandb-row\"><div class=\"wandb-col\">\n",
       "<h3>Run history:</h3><br/><table class=\"wandb\"><tr><td>Mean Validation Loss (all folds)</td><td>▁</td></tr><tr><td>Mean Validation MAE (all folds)</td><td>▁</td></tr><tr><td>epoch</td><td>▁▁▁▁▂▂▂▂▂▃▃▃▃▃▃▄▄▄▄▄▅▅▅▅▅▅▆▆▆▆▆▇▇▇▇▇▇███</td></tr><tr><td>loss</td><td>██████▇▇▆▆▅▅▄▃▃▂▂▂▁▁▁▁▁▁▁▁▁▁▁▁▁▁▁▁▁▁▁▁▁▁</td></tr><tr><td>mae</td><td>███████▇▇▇▆▆▅▄▄▃▂▂▂▁▁▁▁▁▁▁▁▁▁▁▁▁▁▁▁▁▁▁▁▁</td></tr><tr><td>val_loss</td><td>██████▇▇▆▆▅▅▄▃▃▂▂▁▁▁▁▁▁▁▁▁▁▁▁▁▁▁▁▁▁▁▁▁▁▁</td></tr><tr><td>val_mae</td><td>██████▇▇▇▇▆▆▅▄▄▃▂▂▂▁▁▁▁▁▁▁▁▁▁▁▁▁▁▁▁▁▁▁▁▁</td></tr></table><br/></div><div class=\"wandb-col\">\n",
       "<h3>Run summary:</h3><br/><table class=\"wandb\"><tr><td>Mean Validation Loss (all folds)</td><td>1121771033.6</td></tr><tr><td>Mean Validation MAE (all folds)</td><td>19376.85547</td></tr><tr><td>best_epoch</td><td>99</td></tr><tr><td>best_val_loss</td><td>1086240000.0</td></tr><tr><td>epoch</td><td>99</td></tr><tr><td>loss</td><td>1267656832.0</td></tr><tr><td>mae</td><td>20758.10742</td></tr><tr><td>val_loss</td><td>1086240000.0</td></tr><tr><td>val_mae</td><td>18888.16016</td></tr></table>\n",
       "</div></div>\n",
       "Synced 5 W&B file(s), 0 media file(s), 0 artifact file(s) and 1 other file(s)\n",
       "<br/>Synced <strong style=\"color:#cdcd00\">frosty-sweep-5</strong>: <a href=\"https://wandb.ai/luiscostigan/house-price-prediction/runs/57gnhon5\" target=\"_blank\">https://wandb.ai/luiscostigan/house-price-prediction/runs/57gnhon5</a><br/>\n",
       "Find logs at: <code>./wandb/run-20220301_075712-57gnhon5/logs</code><br/>\n"
      ],
      "text/plain": [
       "<IPython.core.display.HTML object>"
      ]
     },
     "metadata": {},
     "output_type": "display_data"
    },
    {
     "name": "stderr",
     "output_type": "stream",
     "text": [
      "\u001b[34m\u001b[1mwandb\u001b[0m: Agent Starting Run: 64t82z06 with config:\n",
      "\u001b[34m\u001b[1mwandb\u001b[0m: \tbatch_size: 512\n",
      "\u001b[34m\u001b[1mwandb\u001b[0m: \tdropout1: 0.5207216540746978\n",
      "\u001b[34m\u001b[1mwandb\u001b[0m: \tepochs: 30\n"
     ]
    },
    {
     "data": {
      "text/html": [
       "\n",
       "                    Syncing run <strong><a href=\"https://wandb.ai/luiscostigan/house-price-prediction/runs/64t82z06\" target=\"_blank\">hardy-sweep-6</a></strong> to <a href=\"https://wandb.ai/luiscostigan/house-price-prediction\" target=\"_blank\">Weights & Biases</a> (<a href=\"https://docs.wandb.com/integrations/jupyter.html\" target=\"_blank\">docs</a>).<br/>\n",
       "Sweep page: <a href=\"https://wandb.ai/luiscostigan/house-price-prediction/sweeps/7tqliuqb\" target=\"_blank\">https://wandb.ai/luiscostigan/house-price-prediction/sweeps/7tqliuqb</a><br/>\n",
       "\n",
       "                "
      ],
      "text/plain": [
       "<IPython.core.display.HTML object>"
      ]
     },
     "metadata": {},
     "output_type": "display_data"
    },
    {
     "name": "stdout",
     "output_type": "stream",
     "text": [
      "30/30 [==============================] - 0s 4ms/step - loss: 19351543808.0000 - mae: 119969.4141\n",
      "Score for fold 1: loss of 19351543808.0; mae of 119969.4140625\n",
      "------------------------------------------------------------------------\n",
      "Score per fold\n",
      "------------------------------------------------------------------------\n",
      "> Fold 1 - Loss: 19351543808.0 - Accuracy: 119969.4140625%\n",
      "------------------------------------------------------------------------\n",
      "Average scores for all folds:\n",
      "> MAE: 119969.4140625 (+- 0.0)\n",
      "> Loss: 19351543808.0\n",
      "------------------------------------------------------------------------\n"
     ]
    },
    {
     "data": {
      "text/html": [
       "<br/>Waiting for W&B process to finish, PID 18639... <strong style=\"color:green\">(success).</strong>"
      ],
      "text/plain": [
       "<IPython.core.display.HTML object>"
      ]
     },
     "metadata": {},
     "output_type": "display_data"
    },
    {
     "data": {
      "application/vnd.jupyter.widget-view+json": {
       "model_id": "823b70966a174f80827d456b5f860725",
       "version_major": 2,
       "version_minor": 0
      },
      "text/plain": [
       "VBox(children=(Label(value=' 1.34MB of 2.45MB uploaded (0.00MB deduped)\\r'), FloatProgress(value=0.54513684058…"
      ]
     },
     "metadata": {},
     "output_type": "display_data"
    },
    {
     "data": {
      "text/html": [
       "<style>\n",
       "    table.wandb td:nth-child(1) { padding: 0 10px; text-align: right }\n",
       "    .wandb-row { display: flex; flex-direction: row; flex-wrap: wrap; width: 100% }\n",
       "    .wandb-col { display: flex; flex-direction: column; flex-basis: 100%; flex: 1; padding: 10px; }\n",
       "    </style>\n",
       "<div class=\"wandb-row\"><div class=\"wandb-col\">\n",
       "<h3>Run history:</h3><br/><table class=\"wandb\"><tr><td>Mean Validation Loss (all folds)</td><td>▁</td></tr><tr><td>Mean Validation MAE (all folds)</td><td>▁</td></tr><tr><td>epoch</td><td>▁▁▁▂▂▂▂▃▃▃▃▄▄▄▄▅▅▅▅▆▆▆▆▇▇▇▇███</td></tr><tr><td>loss</td><td>███████████▇▇▇▇▇▆▆▆▅▅▅▄▄▃▃▂▂▂▁</td></tr><tr><td>mae</td><td>███████████▇▇▇▇▇▇▆▆▆▅▅▅▄▄▃▃▂▂▁</td></tr><tr><td>val_loss</td><td>██████████▇▇▇▇▇▆▆▆▆▅▅▅▄▄▃▃▂▂▁▁</td></tr><tr><td>val_mae</td><td>███████████▇▇▇▇▇▆▆▆▆▅▅▅▄▄▃▃▂▂▁</td></tr></table><br/></div><div class=\"wandb-col\">\n",
       "<h3>Run summary:</h3><br/><table class=\"wandb\"><tr><td>Mean Validation Loss (all folds)</td><td>19351543808.0</td></tr><tr><td>Mean Validation MAE (all folds)</td><td>119969.41406</td></tr><tr><td>best_epoch</td><td>29</td></tr><tr><td>best_val_loss</td><td>19351547904.0</td></tr><tr><td>epoch</td><td>29</td></tr><tr><td>loss</td><td>20458629120.0</td></tr><tr><td>mae</td><td>124083.98438</td></tr><tr><td>val_loss</td><td>19351547904.0</td></tr><tr><td>val_mae</td><td>119969.40625</td></tr></table>\n",
       "</div></div>\n",
       "Synced 5 W&B file(s), 0 media file(s), 0 artifact file(s) and 1 other file(s)\n",
       "<br/>Synced <strong style=\"color:#cdcd00\">hardy-sweep-6</strong>: <a href=\"https://wandb.ai/luiscostigan/house-price-prediction/runs/64t82z06\" target=\"_blank\">https://wandb.ai/luiscostigan/house-price-prediction/runs/64t82z06</a><br/>\n",
       "Find logs at: <code>./wandb/run-20220301_075734-64t82z06/logs</code><br/>\n"
      ],
      "text/plain": [
       "<IPython.core.display.HTML object>"
      ]
     },
     "metadata": {},
     "output_type": "display_data"
    },
    {
     "data": {
      "text/html": [
       "\n",
       "                    Syncing run <strong><a href=\"https://wandb.ai/luiscostigan/house-price-prediction/runs/64t82z06\" target=\"_blank\">hardy-sweep-6</a></strong> to <a href=\"https://wandb.ai/luiscostigan/house-price-prediction\" target=\"_blank\">Weights & Biases</a> (<a href=\"https://docs.wandb.com/integrations/jupyter.html\" target=\"_blank\">docs</a>).<br/>\n",
       "Sweep page: <a href=\"https://wandb.ai/luiscostigan/house-price-prediction/sweeps/7tqliuqb\" target=\"_blank\">https://wandb.ai/luiscostigan/house-price-prediction/sweeps/7tqliuqb</a><br/>\n",
       "\n",
       "                "
      ],
      "text/plain": [
       "<IPython.core.display.HTML object>"
      ]
     },
     "metadata": {},
     "output_type": "display_data"
    },
    {
     "name": "stdout",
     "output_type": "stream",
     "text": [
      "30/30 [==============================] - 0s 1ms/step - loss: 20209537024.0000 - mae: 123253.0000\n",
      "Score for fold 2: loss of 20209537024.0; mae of 123253.0\n",
      "------------------------------------------------------------------------\n",
      "Score per fold\n",
      "------------------------------------------------------------------------\n",
      "> Fold 1 - Loss: 19351543808.0 - Accuracy: 119969.4140625%\n",
      "------------------------------------------------------------------------\n",
      "> Fold 2 - Loss: 20209537024.0 - Accuracy: 123253.0%\n",
      "------------------------------------------------------------------------\n",
      "Average scores for all folds:\n",
      "> MAE: 121611.20703125 (+- 1641.79296875)\n",
      "> Loss: 19780540416.0\n",
      "------------------------------------------------------------------------\n"
     ]
    },
    {
     "data": {
      "text/html": [
       "<br/>Waiting for W&B process to finish, PID 19416... <strong style=\"color:green\">(success).</strong>"
      ],
      "text/plain": [
       "<IPython.core.display.HTML object>"
      ]
     },
     "metadata": {},
     "output_type": "display_data"
    },
    {
     "data": {
      "application/vnd.jupyter.widget-view+json": {
       "model_id": "88671344f8794ef1b69c57df0f694bfa",
       "version_major": 2,
       "version_minor": 0
      },
      "text/plain": [
       "VBox(children=(Label(value=' 0.00MB of 2.45MB uploaded (0.00MB deduped)\\r'), FloatProgress(value=0.00039857446…"
      ]
     },
     "metadata": {},
     "output_type": "display_data"
    },
    {
     "data": {
      "text/html": [
       "<style>\n",
       "    table.wandb td:nth-child(1) { padding: 0 10px; text-align: right }\n",
       "    .wandb-row { display: flex; flex-direction: row; flex-wrap: wrap; width: 100% }\n",
       "    .wandb-col { display: flex; flex-direction: column; flex-basis: 100%; flex: 1; padding: 10px; }\n",
       "    </style>\n",
       "<div class=\"wandb-row\"><div class=\"wandb-col\">\n",
       "<h3>Run history:</h3><br/><table class=\"wandb\"><tr><td>Mean Validation Loss (all folds)</td><td>▁</td></tr><tr><td>Mean Validation MAE (all folds)</td><td>▁</td></tr><tr><td>epoch</td><td>▁▁▁▂▂▂▂▃▃▃▃▄▄▄▄▅▅▅▅▆▆▆▆▇▇▇▇███</td></tr><tr><td>loss</td><td>███████████▇▇▇▇▇▆▆▆▅▅▅▄▄▃▃▃▂▂▁</td></tr><tr><td>mae</td><td>███████████▇▇▇▇▇▇▆▆▆▅▅▅▄▄▃▃▂▂▁</td></tr><tr><td>val_loss</td><td>██████████▇▇▇▇▇▇▆▆▆▅▅▅▄▄▃▃▂▂▂▁</td></tr><tr><td>val_mae</td><td>███████████▇▇▇▇▇▆▆▆▆▅▅▅▄▄▃▃▂▂▁</td></tr></table><br/></div><div class=\"wandb-col\">\n",
       "<h3>Run summary:</h3><br/><table class=\"wandb\"><tr><td>Mean Validation Loss (all folds)</td><td>19780540416.0</td></tr><tr><td>Mean Validation MAE (all folds)</td><td>121611.20703</td></tr><tr><td>best_epoch</td><td>29</td></tr><tr><td>best_val_loss</td><td>20209539072.0</td></tr><tr><td>epoch</td><td>29</td></tr><tr><td>loss</td><td>21217914880.0</td></tr><tr><td>mae</td><td>126951.14844</td></tr><tr><td>val_loss</td><td>20209539072.0</td></tr><tr><td>val_mae</td><td>123253.0</td></tr></table>\n",
       "</div></div>\n",
       "Synced 5 W&B file(s), 0 media file(s), 0 artifact file(s) and 1 other file(s)\n",
       "<br/>Synced <strong style=\"color:#cdcd00\">hardy-sweep-6</strong>: <a href=\"https://wandb.ai/luiscostigan/house-price-prediction/runs/64t82z06\" target=\"_blank\">https://wandb.ai/luiscostigan/house-price-prediction/runs/64t82z06</a><br/>\n",
       "Find logs at: <code>./wandb/run-20220301_075746-64t82z06/logs</code><br/>\n"
      ],
      "text/plain": [
       "<IPython.core.display.HTML object>"
      ]
     },
     "metadata": {},
     "output_type": "display_data"
    },
    {
     "data": {
      "text/html": [
       "\n",
       "                    Syncing run <strong><a href=\"https://wandb.ai/luiscostigan/house-price-prediction/runs/64t82z06\" target=\"_blank\">hardy-sweep-6</a></strong> to <a href=\"https://wandb.ai/luiscostigan/house-price-prediction\" target=\"_blank\">Weights & Biases</a> (<a href=\"https://docs.wandb.com/integrations/jupyter.html\" target=\"_blank\">docs</a>).<br/>\n",
       "Sweep page: <a href=\"https://wandb.ai/luiscostigan/house-price-prediction/sweeps/7tqliuqb\" target=\"_blank\">https://wandb.ai/luiscostigan/house-price-prediction/sweeps/7tqliuqb</a><br/>\n",
       "\n",
       "                "
      ],
      "text/plain": [
       "<IPython.core.display.HTML object>"
      ]
     },
     "metadata": {},
     "output_type": "display_data"
    },
    {
     "name": "stdout",
     "output_type": "stream",
     "text": [
      "30/30 [==============================] - 0s 2ms/step - loss: 19827812352.0000 - mae: 121815.3516\n",
      "Score for fold 3: loss of 19827812352.0; mae of 121815.3515625\n",
      "------------------------------------------------------------------------\n",
      "Score per fold\n",
      "------------------------------------------------------------------------\n",
      "> Fold 1 - Loss: 19351543808.0 - Accuracy: 119969.4140625%\n",
      "------------------------------------------------------------------------\n",
      "> Fold 2 - Loss: 20209537024.0 - Accuracy: 123253.0%\n",
      "------------------------------------------------------------------------\n",
      "> Fold 3 - Loss: 19827812352.0 - Accuracy: 121815.3515625%\n",
      "------------------------------------------------------------------------\n",
      "Average scores for all folds:\n",
      "> MAE: 121679.25520833333 (+- 1343.9682078209123)\n",
      "> Loss: 19796297728.0\n",
      "------------------------------------------------------------------------\n"
     ]
    },
    {
     "data": {
      "text/html": [
       "<br/>Waiting for W&B process to finish, PID 20183... <strong style=\"color:green\">(success).</strong>"
      ],
      "text/plain": [
       "<IPython.core.display.HTML object>"
      ]
     },
     "metadata": {},
     "output_type": "display_data"
    },
    {
     "data": {
      "application/vnd.jupyter.widget-view+json": {
       "model_id": "7557bb5cbf6c4b47ba5ee8748fb281d8",
       "version_major": 2,
       "version_minor": 0
      },
      "text/plain": [
       "VBox(children=(Label(value=' 0.00MB of 2.45MB uploaded (0.00MB deduped)\\r'), FloatProgress(value=0.00039857198…"
      ]
     },
     "metadata": {},
     "output_type": "display_data"
    },
    {
     "data": {
      "text/html": [
       "<style>\n",
       "    table.wandb td:nth-child(1) { padding: 0 10px; text-align: right }\n",
       "    .wandb-row { display: flex; flex-direction: row; flex-wrap: wrap; width: 100% }\n",
       "    .wandb-col { display: flex; flex-direction: column; flex-basis: 100%; flex: 1; padding: 10px; }\n",
       "    </style>\n",
       "<div class=\"wandb-row\"><div class=\"wandb-col\">\n",
       "<h3>Run history:</h3><br/><table class=\"wandb\"><tr><td>Mean Validation Loss (all folds)</td><td>▁</td></tr><tr><td>Mean Validation MAE (all folds)</td><td>▁</td></tr><tr><td>epoch</td><td>▁▁▁▂▂▂▂▃▃▃▃▄▄▄▄▅▅▅▅▆▆▆▆▇▇▇▇███</td></tr><tr><td>loss</td><td>███████████▇▇▇▇▇▆▆▆▅▅▅▄▄▃▃▃▂▂▁</td></tr><tr><td>mae</td><td>███████████▇▇▇▇▇▇▆▆▆▅▅▅▄▄▃▃▂▂▁</td></tr><tr><td>val_loss</td><td>██████████▇▇▇▇▇▆▆▆▆▅▅▅▄▄▃▃▂▂▁▁</td></tr><tr><td>val_mae</td><td>███████████▇▇▇▇▇▆▆▆▆▅▅▅▄▄▃▃▂▂▁</td></tr></table><br/></div><div class=\"wandb-col\">\n",
       "<h3>Run summary:</h3><br/><table class=\"wandb\"><tr><td>Mean Validation Loss (all folds)</td><td>19796297728.0</td></tr><tr><td>Mean Validation MAE (all folds)</td><td>121679.25521</td></tr><tr><td>best_epoch</td><td>29</td></tr><tr><td>best_val_loss</td><td>19827812352.0</td></tr><tr><td>epoch</td><td>29</td></tr><tr><td>loss</td><td>20835225600.0</td></tr><tr><td>mae</td><td>125509.17969</td></tr><tr><td>val_loss</td><td>19827812352.0</td></tr><tr><td>val_mae</td><td>121815.35156</td></tr></table>\n",
       "</div></div>\n",
       "Synced 5 W&B file(s), 0 media file(s), 0 artifact file(s) and 1 other file(s)\n",
       "<br/>Synced <strong style=\"color:#cdcd00\">hardy-sweep-6</strong>: <a href=\"https://wandb.ai/luiscostigan/house-price-prediction/runs/64t82z06\" target=\"_blank\">https://wandb.ai/luiscostigan/house-price-prediction/runs/64t82z06</a><br/>\n",
       "Find logs at: <code>./wandb/run-20220301_075757-64t82z06/logs</code><br/>\n"
      ],
      "text/plain": [
       "<IPython.core.display.HTML object>"
      ]
     },
     "metadata": {},
     "output_type": "display_data"
    },
    {
     "data": {
      "text/html": [
       "\n",
       "                    Syncing run <strong><a href=\"https://wandb.ai/luiscostigan/house-price-prediction/runs/64t82z06\" target=\"_blank\">hardy-sweep-6</a></strong> to <a href=\"https://wandb.ai/luiscostigan/house-price-prediction\" target=\"_blank\">Weights & Biases</a> (<a href=\"https://docs.wandb.com/integrations/jupyter.html\" target=\"_blank\">docs</a>).<br/>\n",
       "Sweep page: <a href=\"https://wandb.ai/luiscostigan/house-price-prediction/sweeps/7tqliuqb\" target=\"_blank\">https://wandb.ai/luiscostigan/house-price-prediction/sweeps/7tqliuqb</a><br/>\n",
       "\n",
       "                "
      ],
      "text/plain": [
       "<IPython.core.display.HTML object>"
      ]
     },
     "metadata": {},
     "output_type": "display_data"
    },
    {
     "name": "stdout",
     "output_type": "stream",
     "text": [
      "30/30 [==============================] - 0s 2ms/step - loss: 20001427456.0000 - mae: 122710.3359\n",
      "Score for fold 4: loss of 20001427456.0; mae of 122710.3359375\n",
      "------------------------------------------------------------------------\n",
      "Score per fold\n",
      "------------------------------------------------------------------------\n",
      "> Fold 1 - Loss: 19351543808.0 - Accuracy: 119969.4140625%\n",
      "------------------------------------------------------------------------\n",
      "> Fold 2 - Loss: 20209537024.0 - Accuracy: 123253.0%\n",
      "------------------------------------------------------------------------\n",
      "> Fold 3 - Loss: 19827812352.0 - Accuracy: 121815.3515625%\n",
      "------------------------------------------------------------------------\n",
      "> Fold 4 - Loss: 20001427456.0 - Accuracy: 122710.3359375%\n",
      "------------------------------------------------------------------------\n",
      "Average scores for all folds:\n",
      "> MAE: 121937.025390625 (+- 1246.6051132419814)\n",
      "> Loss: 19847580160.0\n",
      "------------------------------------------------------------------------\n"
     ]
    },
    {
     "data": {
      "text/html": [
       "<br/>Waiting for W&B process to finish, PID 20972... <strong style=\"color:green\">(success).</strong>"
      ],
      "text/plain": [
       "<IPython.core.display.HTML object>"
      ]
     },
     "metadata": {},
     "output_type": "display_data"
    },
    {
     "data": {
      "application/vnd.jupyter.widget-view+json": {
       "model_id": "e46f4d01073d4edf835ec54a0d856414",
       "version_major": 2,
       "version_minor": 0
      },
      "text/plain": [
       "VBox(children=(Label(value=' 2.44MB of 2.45MB uploaded (0.00MB deduped)\\r'), FloatProgress(value=0.99426986018…"
      ]
     },
     "metadata": {},
     "output_type": "display_data"
    },
    {
     "data": {
      "text/html": [
       "<style>\n",
       "    table.wandb td:nth-child(1) { padding: 0 10px; text-align: right }\n",
       "    .wandb-row { display: flex; flex-direction: row; flex-wrap: wrap; width: 100% }\n",
       "    .wandb-col { display: flex; flex-direction: column; flex-basis: 100%; flex: 1; padding: 10px; }\n",
       "    </style>\n",
       "<div class=\"wandb-row\"><div class=\"wandb-col\">\n",
       "<h3>Run history:</h3><br/><table class=\"wandb\"><tr><td>Mean Validation Loss (all folds)</td><td>▁</td></tr><tr><td>Mean Validation MAE (all folds)</td><td>▁</td></tr><tr><td>epoch</td><td>▁▁▁▂▂▂▂▃▃▃▃▄▄▄▄▅▅▅▅▆▆▆▆▇▇▇▇███</td></tr><tr><td>loss</td><td>███████████▇▇▇▇▇▆▆▆▅▅▅▄▄▃▃▃▂▂▁</td></tr><tr><td>mae</td><td>███████████▇▇▇▇▇▇▆▆▆▅▅▅▄▄▃▃▂▂▁</td></tr><tr><td>val_loss</td><td>██████████▇▇▇▇▇▆▆▆▆▅▅▅▄▄▃▃▂▂▁▁</td></tr><tr><td>val_mae</td><td>███████████▇▇▇▇▇▆▆▆▆▅▅▅▄▄▃▃▂▂▁</td></tr></table><br/></div><div class=\"wandb-col\">\n",
       "<h3>Run summary:</h3><br/><table class=\"wandb\"><tr><td>Mean Validation Loss (all folds)</td><td>19847580160.0</td></tr><tr><td>Mean Validation MAE (all folds)</td><td>121937.02539</td></tr><tr><td>best_epoch</td><td>29</td></tr><tr><td>best_val_loss</td><td>20001427456.0</td></tr><tr><td>epoch</td><td>29</td></tr><tr><td>loss</td><td>21048791040.0</td></tr><tr><td>mae</td><td>126522.47656</td></tr><tr><td>val_loss</td><td>20001427456.0</td></tr><tr><td>val_mae</td><td>122710.33594</td></tr></table>\n",
       "</div></div>\n",
       "Synced 5 W&B file(s), 0 media file(s), 0 artifact file(s) and 1 other file(s)\n",
       "<br/>Synced <strong style=\"color:#cdcd00\">hardy-sweep-6</strong>: <a href=\"https://wandb.ai/luiscostigan/house-price-prediction/runs/64t82z06\" target=\"_blank\">https://wandb.ai/luiscostigan/house-price-prediction/runs/64t82z06</a><br/>\n",
       "Find logs at: <code>./wandb/run-20220301_075809-64t82z06/logs</code><br/>\n"
      ],
      "text/plain": [
       "<IPython.core.display.HTML object>"
      ]
     },
     "metadata": {},
     "output_type": "display_data"
    },
    {
     "data": {
      "text/html": [
       "\n",
       "                    Syncing run <strong><a href=\"https://wandb.ai/luiscostigan/house-price-prediction/runs/64t82z06\" target=\"_blank\">hardy-sweep-6</a></strong> to <a href=\"https://wandb.ai/luiscostigan/house-price-prediction\" target=\"_blank\">Weights & Biases</a> (<a href=\"https://docs.wandb.com/integrations/jupyter.html\" target=\"_blank\">docs</a>).<br/>\n",
       "Sweep page: <a href=\"https://wandb.ai/luiscostigan/house-price-prediction/sweeps/7tqliuqb\" target=\"_blank\">https://wandb.ai/luiscostigan/house-price-prediction/sweeps/7tqliuqb</a><br/>\n",
       "\n",
       "                "
      ],
      "text/plain": [
       "<IPython.core.display.HTML object>"
      ]
     },
     "metadata": {},
     "output_type": "display_data"
    },
    {
     "name": "stdout",
     "output_type": "stream",
     "text": [
      "30/30 [==============================] - 0s 2ms/step - loss: 18623346688.0000 - mae: 117441.2812\n",
      "Score for fold 5: loss of 18623346688.0; mae of 117441.28125\n",
      "------------------------------------------------------------------------\n",
      "Score per fold\n",
      "------------------------------------------------------------------------\n",
      "> Fold 1 - Loss: 19351543808.0 - Accuracy: 119969.4140625%\n",
      "------------------------------------------------------------------------\n",
      "> Fold 2 - Loss: 20209537024.0 - Accuracy: 123253.0%\n",
      "------------------------------------------------------------------------\n",
      "> Fold 3 - Loss: 19827812352.0 - Accuracy: 121815.3515625%\n",
      "------------------------------------------------------------------------\n",
      "> Fold 4 - Loss: 20001427456.0 - Accuracy: 122710.3359375%\n",
      "------------------------------------------------------------------------\n",
      "> Fold 5 - Loss: 18623346688.0 - Accuracy: 117441.28125%\n",
      "------------------------------------------------------------------------\n",
      "Average scores for all folds:\n",
      "> MAE: 121037.8765625 (+- 2115.91443758085)\n",
      "> Loss: 19602733465.6\n",
      "------------------------------------------------------------------------\n"
     ]
    },
    {
     "data": {
      "text/html": [
       "<br/>Waiting for W&B process to finish, PID 21756... <strong style=\"color:green\">(success).</strong>"
      ],
      "text/plain": [
       "<IPython.core.display.HTML object>"
      ]
     },
     "metadata": {},
     "output_type": "display_data"
    },
    {
     "data": {
      "application/vnd.jupyter.widget-view+json": {
       "model_id": "1a9cb21535f5402a9cce91f7acab5609",
       "version_major": 2,
       "version_minor": 0
      },
      "text/plain": [
       "VBox(children=(Label(value=' 0.00MB of 2.45MB uploaded (0.00MB deduped)\\r'), FloatProgress(value=0.00039857446…"
      ]
     },
     "metadata": {},
     "output_type": "display_data"
    },
    {
     "data": {
      "text/html": [
       "<style>\n",
       "    table.wandb td:nth-child(1) { padding: 0 10px; text-align: right }\n",
       "    .wandb-row { display: flex; flex-direction: row; flex-wrap: wrap; width: 100% }\n",
       "    .wandb-col { display: flex; flex-direction: column; flex-basis: 100%; flex: 1; padding: 10px; }\n",
       "    </style>\n",
       "<div class=\"wandb-row\"><div class=\"wandb-col\">\n",
       "<h3>Run history:</h3><br/><table class=\"wandb\"><tr><td>Mean Validation Loss (all folds)</td><td>▁</td></tr><tr><td>Mean Validation MAE (all folds)</td><td>▁</td></tr><tr><td>epoch</td><td>▁▁▁▂▂▂▂▃▃▃▃▄▄▄▄▅▅▅▅▆▆▆▆▇▇▇▇███</td></tr><tr><td>loss</td><td>██████████▇▇▇▇▇▇▆▆▆▅▅▅▄▄▃▃▂▂▂▁</td></tr><tr><td>mae</td><td>███████████▇▇▇▇▇▇▆▆▆▅▅▅▄▄▃▃▂▂▁</td></tr><tr><td>val_loss</td><td>██████████▇▇▇▇▇▆▆▆▆▅▅▅▄▄▃▃▂▂▁▁</td></tr><tr><td>val_mae</td><td>███████████▇▇▇▇▇▆▆▆▆▅▅▄▄▄▃▃▂▂▁</td></tr></table><br/></div><div class=\"wandb-col\">\n",
       "<h3>Run summary:</h3><br/><table class=\"wandb\"><tr><td>Mean Validation Loss (all folds)</td><td>19602733465.6</td></tr><tr><td>Mean Validation MAE (all folds)</td><td>121037.87656</td></tr><tr><td>best_epoch</td><td>29</td></tr><tr><td>best_val_loss</td><td>18623346688.0</td></tr><tr><td>epoch</td><td>29</td></tr><tr><td>loss</td><td>19674335232.0</td></tr><tr><td>mae</td><td>121460.82812</td></tr><tr><td>val_loss</td><td>18623346688.0</td></tr><tr><td>val_mae</td><td>117441.28125</td></tr></table>\n",
       "</div></div>\n",
       "Synced 5 W&B file(s), 0 media file(s), 0 artifact file(s) and 1 other file(s)\n",
       "<br/>Synced <strong style=\"color:#cdcd00\">hardy-sweep-6</strong>: <a href=\"https://wandb.ai/luiscostigan/house-price-prediction/runs/64t82z06\" target=\"_blank\">https://wandb.ai/luiscostigan/house-price-prediction/runs/64t82z06</a><br/>\n",
       "Find logs at: <code>./wandb/run-20220301_075822-64t82z06/logs</code><br/>\n"
      ],
      "text/plain": [
       "<IPython.core.display.HTML object>"
      ]
     },
     "metadata": {},
     "output_type": "display_data"
    },
    {
     "name": "stderr",
     "output_type": "stream",
     "text": [
      "\u001b[34m\u001b[1mwandb\u001b[0m: Agent Starting Run: xcqjh5vs with config:\n",
      "\u001b[34m\u001b[1mwandb\u001b[0m: \tbatch_size: 512\n",
      "\u001b[34m\u001b[1mwandb\u001b[0m: \tdropout1: 0.753919139234282\n",
      "\u001b[34m\u001b[1mwandb\u001b[0m: \tepochs: 100\n"
     ]
    },
    {
     "data": {
      "text/html": [
       "\n",
       "                    Syncing run <strong><a href=\"https://wandb.ai/luiscostigan/house-price-prediction/runs/xcqjh5vs\" target=\"_blank\">young-sweep-7</a></strong> to <a href=\"https://wandb.ai/luiscostigan/house-price-prediction\" target=\"_blank\">Weights & Biases</a> (<a href=\"https://docs.wandb.com/integrations/jupyter.html\" target=\"_blank\">docs</a>).<br/>\n",
       "Sweep page: <a href=\"https://wandb.ai/luiscostigan/house-price-prediction/sweeps/7tqliuqb\" target=\"_blank\">https://wandb.ai/luiscostigan/house-price-prediction/sweeps/7tqliuqb</a><br/>\n",
       "\n",
       "                "
      ],
      "text/plain": [
       "<IPython.core.display.HTML object>"
      ]
     },
     "metadata": {},
     "output_type": "display_data"
    },
    {
     "name": "stdout",
     "output_type": "stream",
     "text": [
      "30/30 [==============================] - 0s 1ms/step - loss: 1148613376.0000 - mae: 19190.1621\n",
      "Score for fold 1: loss of 1148613376.0; mae of 19190.162109375\n",
      "------------------------------------------------------------------------\n",
      "Score per fold\n",
      "------------------------------------------------------------------------\n",
      "> Fold 1 - Loss: 1148613376.0 - Accuracy: 19190.162109375%\n",
      "------------------------------------------------------------------------\n",
      "Average scores for all folds:\n",
      "> MAE: 19190.162109375 (+- 0.0)\n",
      "> Loss: 1148613376.0\n",
      "------------------------------------------------------------------------\n"
     ]
    },
    {
     "data": {
      "text/html": [
       "<br/>Waiting for W&B process to finish, PID 22554... <strong style=\"color:green\">(success).</strong>"
      ],
      "text/plain": [
       "<IPython.core.display.HTML object>"
      ]
     },
     "metadata": {},
     "output_type": "display_data"
    },
    {
     "data": {
      "application/vnd.jupyter.widget-view+json": {
       "model_id": "63a0cda6354744cd961d9d9c0f6cfecf",
       "version_major": 2,
       "version_minor": 0
      },
      "text/plain": [
       "VBox(children=(Label(value=' 1.84MB of 2.45MB uploaded (0.00MB deduped)\\r'), FloatProgress(value=0.75220108812…"
      ]
     },
     "metadata": {},
     "output_type": "display_data"
    },
    {
     "data": {
      "text/html": [
       "<style>\n",
       "    table.wandb td:nth-child(1) { padding: 0 10px; text-align: right }\n",
       "    .wandb-row { display: flex; flex-direction: row; flex-wrap: wrap; width: 100% }\n",
       "    .wandb-col { display: flex; flex-direction: column; flex-basis: 100%; flex: 1; padding: 10px; }\n",
       "    </style>\n",
       "<div class=\"wandb-row\"><div class=\"wandb-col\">\n",
       "<h3>Run history:</h3><br/><table class=\"wandb\"><tr><td>Mean Validation Loss (all folds)</td><td>▁</td></tr><tr><td>Mean Validation MAE (all folds)</td><td>▁</td></tr><tr><td>epoch</td><td>▁▁▁▁▂▂▂▂▂▃▃▃▃▃▃▄▄▄▄▄▅▅▅▅▅▅▆▆▆▆▆▇▇▇▇▇▇███</td></tr><tr><td>loss</td><td>██████▇▇▇▆▆▅▅▄▃▃▂▂▂▁▁▁▁▁▁▁▁▁▁▁▁▁▁▁▁▁▁▁▁▁</td></tr><tr><td>mae</td><td>███████▇▇▇▆▆▅▅▄▃▃▂▂▁▁▁▁▁▁▁▁▁▁▁▁▁▁▁▁▁▁▁▁▁</td></tr><tr><td>val_loss</td><td>██████▇▇▇▆▆▅▄▄▃▂▂▂▁▁▁▁▁▁▁▁▁▁▁▁▁▁▁▁▁▁▁▁▁▁</td></tr><tr><td>val_mae</td><td>███████▇▇▇▆▆▅▅▄▃▃▂▂▁▁▁▁▁▁▁▁▁▁▁▁▁▁▁▁▁▁▁▁▁</td></tr></table><br/></div><div class=\"wandb-col\">\n",
       "<h3>Run summary:</h3><br/><table class=\"wandb\"><tr><td>Mean Validation Loss (all folds)</td><td>1148613376.0</td></tr><tr><td>Mean Validation MAE (all folds)</td><td>19190.16211</td></tr><tr><td>best_epoch</td><td>99</td></tr><tr><td>best_val_loss</td><td>1148613376.0</td></tr><tr><td>epoch</td><td>99</td></tr><tr><td>loss</td><td>1263022336.0</td></tr><tr><td>mae</td><td>22320.16211</td></tr><tr><td>val_loss</td><td>1148613376.0</td></tr><tr><td>val_mae</td><td>19190.16211</td></tr></table>\n",
       "</div></div>\n",
       "Synced 5 W&B file(s), 0 media file(s), 0 artifact file(s) and 1 other file(s)\n",
       "<br/>Synced <strong style=\"color:#cdcd00\">young-sweep-7</strong>: <a href=\"https://wandb.ai/luiscostigan/house-price-prediction/runs/xcqjh5vs\" target=\"_blank\">https://wandb.ai/luiscostigan/house-price-prediction/runs/xcqjh5vs</a><br/>\n",
       "Find logs at: <code>./wandb/run-20220301_075836-xcqjh5vs/logs</code><br/>\n"
      ],
      "text/plain": [
       "<IPython.core.display.HTML object>"
      ]
     },
     "metadata": {},
     "output_type": "display_data"
    },
    {
     "data": {
      "text/html": [
       "\n",
       "                    Syncing run <strong><a href=\"https://wandb.ai/luiscostigan/house-price-prediction/runs/xcqjh5vs\" target=\"_blank\">young-sweep-7</a></strong> to <a href=\"https://wandb.ai/luiscostigan/house-price-prediction\" target=\"_blank\">Weights & Biases</a> (<a href=\"https://docs.wandb.com/integrations/jupyter.html\" target=\"_blank\">docs</a>).<br/>\n",
       "Sweep page: <a href=\"https://wandb.ai/luiscostigan/house-price-prediction/sweeps/7tqliuqb\" target=\"_blank\">https://wandb.ai/luiscostigan/house-price-prediction/sweeps/7tqliuqb</a><br/>\n",
       "\n",
       "                "
      ],
      "text/plain": [
       "<IPython.core.display.HTML object>"
      ]
     },
     "metadata": {},
     "output_type": "display_data"
    },
    {
     "name": "stdout",
     "output_type": "stream",
     "text": [
      "30/30 [==============================] - 0s 1ms/step - loss: 1134992512.0000 - mae: 18874.5117\n",
      "Score for fold 2: loss of 1134992512.0; mae of 18874.51171875\n",
      "------------------------------------------------------------------------\n",
      "Score per fold\n",
      "------------------------------------------------------------------------\n",
      "> Fold 1 - Loss: 1148613376.0 - Accuracy: 19190.162109375%\n",
      "------------------------------------------------------------------------\n",
      "> Fold 2 - Loss: 1134992512.0 - Accuracy: 18874.51171875%\n",
      "------------------------------------------------------------------------\n",
      "Average scores for all folds:\n",
      "> MAE: 19032.3369140625 (+- 157.8251953125)\n",
      "> Loss: 1141802944.0\n",
      "------------------------------------------------------------------------\n"
     ]
    },
    {
     "data": {
      "text/html": [
       "<br/>Waiting for W&B process to finish, PID 24685... <strong style=\"color:green\">(success).</strong>"
      ],
      "text/plain": [
       "<IPython.core.display.HTML object>"
      ]
     },
     "metadata": {},
     "output_type": "display_data"
    },
    {
     "data": {
      "application/vnd.jupyter.widget-view+json": {
       "model_id": "4632b4b821fd4561945fd8dd42a1ef2f",
       "version_major": 2,
       "version_minor": 0
      },
      "text/plain": [
       "VBox(children=(Label(value=' 1.39MB of 2.45MB uploaded (0.00MB deduped)\\r'), FloatProgress(value=0.56741488490…"
      ]
     },
     "metadata": {},
     "output_type": "display_data"
    },
    {
     "data": {
      "text/html": [
       "<style>\n",
       "    table.wandb td:nth-child(1) { padding: 0 10px; text-align: right }\n",
       "    .wandb-row { display: flex; flex-direction: row; flex-wrap: wrap; width: 100% }\n",
       "    .wandb-col { display: flex; flex-direction: column; flex-basis: 100%; flex: 1; padding: 10px; }\n",
       "    </style>\n",
       "<div class=\"wandb-row\"><div class=\"wandb-col\">\n",
       "<h3>Run history:</h3><br/><table class=\"wandb\"><tr><td>Mean Validation Loss (all folds)</td><td>▁</td></tr><tr><td>Mean Validation MAE (all folds)</td><td>▁</td></tr><tr><td>epoch</td><td>▁▁▁▁▂▂▂▂▂▃▃▃▃▃▃▄▄▄▄▄▅▅▅▅▅▅▆▆▆▆▆▇▇▇▇▇▇███</td></tr><tr><td>loss</td><td>██████▇▇▇▆▆▅▄▄▃▂▂▂▁▁▁▁▁▁▁▁▁▁▁▁▁▁▁▁▁▁▁▁▁▁</td></tr><tr><td>mae</td><td>███████▇▇▇▆▆▅▅▄▃▃▂▂▁▁▁▁▁▁▁▁▁▁▁▁▁▁▁▁▁▁▁▁▁</td></tr><tr><td>val_loss</td><td>██████▇▇▆▆▅▅▄▃▃▂▂▂▁▁▁▁▁▁▁▁▁▁▁▁▁▁▁▁▁▁▁▁▁▁</td></tr><tr><td>val_mae</td><td>███████▇▇▇▆▆▅▄▄▃▃▂▂▁▁▁▁▁▁▁▁▁▁▁▁▁▁▁▁▁▁▁▁▁</td></tr></table><br/></div><div class=\"wandb-col\">\n",
       "<h3>Run summary:</h3><br/><table class=\"wandb\"><tr><td>Mean Validation Loss (all folds)</td><td>1141802944.0</td></tr><tr><td>Mean Validation MAE (all folds)</td><td>19032.33691</td></tr><tr><td>best_epoch</td><td>99</td></tr><tr><td>best_val_loss</td><td>1134992384.0</td></tr><tr><td>epoch</td><td>99</td></tr><tr><td>loss</td><td>1353188224.0</td></tr><tr><td>mae</td><td>22190.59375</td></tr><tr><td>val_loss</td><td>1134992384.0</td></tr><tr><td>val_mae</td><td>18874.51172</td></tr></table>\n",
       "</div></div>\n",
       "Synced 5 W&B file(s), 0 media file(s), 0 artifact file(s) and 1 other file(s)\n",
       "<br/>Synced <strong style=\"color:#cdcd00\">young-sweep-7</strong>: <a href=\"https://wandb.ai/luiscostigan/house-price-prediction/runs/xcqjh5vs\" target=\"_blank\">https://wandb.ai/luiscostigan/house-price-prediction/runs/xcqjh5vs</a><br/>\n",
       "Find logs at: <code>./wandb/run-20220301_075852-xcqjh5vs/logs</code><br/>\n"
      ],
      "text/plain": [
       "<IPython.core.display.HTML object>"
      ]
     },
     "metadata": {},
     "output_type": "display_data"
    },
    {
     "data": {
      "text/html": [
       "\n",
       "                    Syncing run <strong><a href=\"https://wandb.ai/luiscostigan/house-price-prediction/runs/xcqjh5vs\" target=\"_blank\">young-sweep-7</a></strong> to <a href=\"https://wandb.ai/luiscostigan/house-price-prediction\" target=\"_blank\">Weights & Biases</a> (<a href=\"https://docs.wandb.com/integrations/jupyter.html\" target=\"_blank\">docs</a>).<br/>\n",
       "Sweep page: <a href=\"https://wandb.ai/luiscostigan/house-price-prediction/sweeps/7tqliuqb\" target=\"_blank\">https://wandb.ai/luiscostigan/house-price-prediction/sweeps/7tqliuqb</a><br/>\n",
       "\n",
       "                "
      ],
      "text/plain": [
       "<IPython.core.display.HTML object>"
      ]
     },
     "metadata": {},
     "output_type": "display_data"
    },
    {
     "name": "stdout",
     "output_type": "stream",
     "text": [
      "30/30 [==============================] - 0s 1ms/step - loss: 1142907392.0000 - mae: 19000.0176\n",
      "Score for fold 3: loss of 1142907392.0; mae of 19000.017578125\n",
      "------------------------------------------------------------------------\n",
      "Score per fold\n",
      "------------------------------------------------------------------------\n",
      "> Fold 1 - Loss: 1148613376.0 - Accuracy: 19190.162109375%\n",
      "------------------------------------------------------------------------\n",
      "> Fold 2 - Loss: 1134992512.0 - Accuracy: 18874.51171875%\n",
      "------------------------------------------------------------------------\n",
      "> Fold 3 - Loss: 1142907392.0 - Accuracy: 19000.017578125%\n",
      "------------------------------------------------------------------------\n",
      "Average scores for all folds:\n",
      "> MAE: 19021.563802083332 (+- 129.76124768352008)\n",
      "> Loss: 1142171093.3333333\n",
      "------------------------------------------------------------------------\n"
     ]
    },
    {
     "data": {
      "text/html": [
       "<br/>Waiting for W&B process to finish, PID 26810... <strong style=\"color:green\">(success).</strong>"
      ],
      "text/plain": [
       "<IPython.core.display.HTML object>"
      ]
     },
     "metadata": {},
     "output_type": "display_data"
    },
    {
     "data": {
      "application/vnd.jupyter.widget-view+json": {
       "model_id": "02524533f4d8433592ed8603d7610272",
       "version_major": 2,
       "version_minor": 0
      },
      "text/plain": [
       "VBox(children=(Label(value=' 1.09MB of 2.45MB uploaded (0.00MB deduped)\\r'), FloatProgress(value=0.44636368196…"
      ]
     },
     "metadata": {},
     "output_type": "display_data"
    },
    {
     "data": {
      "text/html": [
       "<style>\n",
       "    table.wandb td:nth-child(1) { padding: 0 10px; text-align: right }\n",
       "    .wandb-row { display: flex; flex-direction: row; flex-wrap: wrap; width: 100% }\n",
       "    .wandb-col { display: flex; flex-direction: column; flex-basis: 100%; flex: 1; padding: 10px; }\n",
       "    </style>\n",
       "<div class=\"wandb-row\"><div class=\"wandb-col\">\n",
       "<h3>Run history:</h3><br/><table class=\"wandb\"><tr><td>Mean Validation Loss (all folds)</td><td>▁</td></tr><tr><td>Mean Validation MAE (all folds)</td><td>▁</td></tr><tr><td>epoch</td><td>▁▁▁▁▂▂▂▂▂▃▃▃▃▃▃▄▄▄▄▄▅▅▅▅▅▅▆▆▆▆▆▇▇▇▇▇▇███</td></tr><tr><td>loss</td><td>██████▇▇▇▆▆▅▅▄▃▃▂▂▂▁▁▁▁▁▁▁▁▁▁▁▁▁▁▁▁▁▁▁▁▁</td></tr><tr><td>mae</td><td>███████▇▇▇▆▆▆▅▄▄▃▂▂▁▁▁▁▁▁▁▁▁▁▁▁▁▁▁▁▁▁▁▁▁</td></tr><tr><td>val_loss</td><td>██████▇▇▇▆▆▅▄▄▃▂▂▂▁▁▁▁▁▁▁▁▁▁▁▁▁▁▁▁▁▁▁▁▁▁</td></tr><tr><td>val_mae</td><td>███████▇▇▇▆▆▅▅▄▃▃▂▂▁▁▁▁▁▁▁▁▁▁▁▁▁▁▁▁▁▁▁▁▁</td></tr></table><br/></div><div class=\"wandb-col\">\n",
       "<h3>Run summary:</h3><br/><table class=\"wandb\"><tr><td>Mean Validation Loss (all folds)</td><td>1142171093.33333</td></tr><tr><td>Mean Validation MAE (all folds)</td><td>19021.5638</td></tr><tr><td>best_epoch</td><td>99</td></tr><tr><td>best_val_loss</td><td>1142907392.0</td></tr><tr><td>epoch</td><td>99</td></tr><tr><td>loss</td><td>1398449024.0</td></tr><tr><td>mae</td><td>22729.80469</td></tr><tr><td>val_loss</td><td>1142907392.0</td></tr><tr><td>val_mae</td><td>19000.01758</td></tr></table>\n",
       "</div></div>\n",
       "Synced 5 W&B file(s), 0 media file(s), 0 artifact file(s) and 1 other file(s)\n",
       "<br/>Synced <strong style=\"color:#cdcd00\">young-sweep-7</strong>: <a href=\"https://wandb.ai/luiscostigan/house-price-prediction/runs/xcqjh5vs\" target=\"_blank\">https://wandb.ai/luiscostigan/house-price-prediction/runs/xcqjh5vs</a><br/>\n",
       "Find logs at: <code>./wandb/run-20220301_075906-xcqjh5vs/logs</code><br/>\n"
      ],
      "text/plain": [
       "<IPython.core.display.HTML object>"
      ]
     },
     "metadata": {},
     "output_type": "display_data"
    },
    {
     "data": {
      "text/html": [
       "\n",
       "                    Syncing run <strong><a href=\"https://wandb.ai/luiscostigan/house-price-prediction/runs/xcqjh5vs\" target=\"_blank\">young-sweep-7</a></strong> to <a href=\"https://wandb.ai/luiscostigan/house-price-prediction\" target=\"_blank\">Weights & Biases</a> (<a href=\"https://docs.wandb.com/integrations/jupyter.html\" target=\"_blank\">docs</a>).<br/>\n",
       "Sweep page: <a href=\"https://wandb.ai/luiscostigan/house-price-prediction/sweeps/7tqliuqb\" target=\"_blank\">https://wandb.ai/luiscostigan/house-price-prediction/sweeps/7tqliuqb</a><br/>\n",
       "\n",
       "                "
      ],
      "text/plain": [
       "<IPython.core.display.HTML object>"
      ]
     },
     "metadata": {},
     "output_type": "display_data"
    },
    {
     "name": "stdout",
     "output_type": "stream",
     "text": [
      "30/30 [==============================] - 0s 1ms/step - loss: 1121819008.0000 - mae: 19235.6035\n",
      "Score for fold 4: loss of 1121819008.0; mae of 19235.603515625\n",
      "------------------------------------------------------------------------\n",
      "Score per fold\n",
      "------------------------------------------------------------------------\n",
      "> Fold 1 - Loss: 1148613376.0 - Accuracy: 19190.162109375%\n",
      "------------------------------------------------------------------------\n",
      "> Fold 2 - Loss: 1134992512.0 - Accuracy: 18874.51171875%\n",
      "------------------------------------------------------------------------\n",
      "> Fold 3 - Loss: 1142907392.0 - Accuracy: 19000.017578125%\n",
      "------------------------------------------------------------------------\n",
      "> Fold 4 - Loss: 1121819008.0 - Accuracy: 19235.603515625%\n",
      "------------------------------------------------------------------------\n",
      "Average scores for all folds:\n",
      "> MAE: 19075.07373046875 (+- 145.66545011678352)\n",
      "> Loss: 1137083072.0\n",
      "------------------------------------------------------------------------\n"
     ]
    },
    {
     "data": {
      "text/html": [
       "<br/>Waiting for W&B process to finish, PID 28940... <strong style=\"color:green\">(success).</strong>"
      ],
      "text/plain": [
       "<IPython.core.display.HTML object>"
      ]
     },
     "metadata": {},
     "output_type": "display_data"
    },
    {
     "data": {
      "application/vnd.jupyter.widget-view+json": {
       "model_id": "090ab8d8e44843a2865b8cbb9d08b5e0",
       "version_major": 2,
       "version_minor": 0
      },
      "text/plain": [
       "VBox(children=(Label(value=' 1.24MB of 2.45MB uploaded (0.00MB deduped)\\r'), FloatProgress(value=0.50370518710…"
      ]
     },
     "metadata": {},
     "output_type": "display_data"
    },
    {
     "data": {
      "text/html": [
       "<style>\n",
       "    table.wandb td:nth-child(1) { padding: 0 10px; text-align: right }\n",
       "    .wandb-row { display: flex; flex-direction: row; flex-wrap: wrap; width: 100% }\n",
       "    .wandb-col { display: flex; flex-direction: column; flex-basis: 100%; flex: 1; padding: 10px; }\n",
       "    </style>\n",
       "<div class=\"wandb-row\"><div class=\"wandb-col\">\n",
       "<h3>Run history:</h3><br/><table class=\"wandb\"><tr><td>Mean Validation Loss (all folds)</td><td>▁</td></tr><tr><td>Mean Validation MAE (all folds)</td><td>▁</td></tr><tr><td>epoch</td><td>▁▁▁▁▂▂▂▂▂▃▃▃▃▃▃▄▄▄▄▄▅▅▅▅▅▅▆▆▆▆▆▇▇▇▇▇▇███</td></tr><tr><td>loss</td><td>██████▇▇▇▆▆▅▄▄▃▂▂▂▁▁▁▁▁▁▁▁▁▁▁▁▁▁▁▁▁▁▁▁▁▁</td></tr><tr><td>mae</td><td>███████▇▇▇▆▆▅▅▄▃▃▂▂▁▁▁▁▁▁▁▁▁▁▁▁▁▁▁▁▁▁▁▁▁</td></tr><tr><td>val_loss</td><td>██████▇▇▆▆▅▅▄▃▃▂▂▂▁▁▁▁▁▁▁▁▁▁▁▁▁▁▁▁▁▁▁▁▁▁</td></tr><tr><td>val_mae</td><td>███████▇▇▇▆▆▅▄▄▃▃▂▂▁▁▁▁▁▁▁▁▁▁▁▁▁▁▁▁▁▁▁▁▁</td></tr></table><br/></div><div class=\"wandb-col\">\n",
       "<h3>Run summary:</h3><br/><table class=\"wandb\"><tr><td>Mean Validation Loss (all folds)</td><td>1137083072.0</td></tr><tr><td>Mean Validation MAE (all folds)</td><td>19075.07373</td></tr><tr><td>best_epoch</td><td>99</td></tr><tr><td>best_val_loss</td><td>1121818880.0</td></tr><tr><td>epoch</td><td>99</td></tr><tr><td>loss</td><td>1380295680.0</td></tr><tr><td>mae</td><td>22741.69727</td></tr><tr><td>val_loss</td><td>1121818880.0</td></tr><tr><td>val_mae</td><td>19235.60547</td></tr></table>\n",
       "</div></div>\n",
       "Synced 5 W&B file(s), 0 media file(s), 0 artifact file(s) and 1 other file(s)\n",
       "<br/>Synced <strong style=\"color:#cdcd00\">young-sweep-7</strong>: <a href=\"https://wandb.ai/luiscostigan/house-price-prediction/runs/xcqjh5vs\" target=\"_blank\">https://wandb.ai/luiscostigan/house-price-prediction/runs/xcqjh5vs</a><br/>\n",
       "Find logs at: <code>./wandb/run-20220301_075920-xcqjh5vs/logs</code><br/>\n"
      ],
      "text/plain": [
       "<IPython.core.display.HTML object>"
      ]
     },
     "metadata": {},
     "output_type": "display_data"
    },
    {
     "data": {
      "text/html": [
       "\n",
       "                    Syncing run <strong><a href=\"https://wandb.ai/luiscostigan/house-price-prediction/runs/xcqjh5vs\" target=\"_blank\">young-sweep-7</a></strong> to <a href=\"https://wandb.ai/luiscostigan/house-price-prediction\" target=\"_blank\">Weights & Biases</a> (<a href=\"https://docs.wandb.com/integrations/jupyter.html\" target=\"_blank\">docs</a>).<br/>\n",
       "Sweep page: <a href=\"https://wandb.ai/luiscostigan/house-price-prediction/sweeps/7tqliuqb\" target=\"_blank\">https://wandb.ai/luiscostigan/house-price-prediction/sweeps/7tqliuqb</a><br/>\n",
       "\n",
       "                "
      ],
      "text/plain": [
       "<IPython.core.display.HTML object>"
      ]
     },
     "metadata": {},
     "output_type": "display_data"
    },
    {
     "name": "stdout",
     "output_type": "stream",
     "text": [
      "30/30 [==============================] - 0s 2ms/step - loss: 1122508416.0000 - mae: 19146.2832\n",
      "Score for fold 5: loss of 1122508416.0; mae of 19146.283203125\n",
      "------------------------------------------------------------------------\n",
      "Score per fold\n",
      "------------------------------------------------------------------------\n",
      "> Fold 1 - Loss: 1148613376.0 - Accuracy: 19190.162109375%\n",
      "------------------------------------------------------------------------\n",
      "> Fold 2 - Loss: 1134992512.0 - Accuracy: 18874.51171875%\n",
      "------------------------------------------------------------------------\n",
      "> Fold 3 - Loss: 1142907392.0 - Accuracy: 19000.017578125%\n",
      "------------------------------------------------------------------------\n",
      "> Fold 4 - Loss: 1121819008.0 - Accuracy: 19235.603515625%\n",
      "------------------------------------------------------------------------\n",
      "> Fold 5 - Loss: 1122508416.0 - Accuracy: 19146.283203125%\n",
      "------------------------------------------------------------------------\n",
      "Average scores for all folds:\n",
      "> MAE: 19089.315625 (+- 133.36440651664563)\n",
      "> Loss: 1134168140.8\n",
      "------------------------------------------------------------------------\n"
     ]
    },
    {
     "data": {
      "text/html": [
       "<br/>Waiting for W&B process to finish, PID 31067... <strong style=\"color:green\">(success).</strong>"
      ],
      "text/plain": [
       "<IPython.core.display.HTML object>"
      ]
     },
     "metadata": {},
     "output_type": "display_data"
    },
    {
     "data": {
      "application/vnd.jupyter.widget-view+json": {
       "model_id": "15b0080e12c04aa2be568906c1a20989",
       "version_major": 2,
       "version_minor": 0
      },
      "text/plain": [
       "VBox(children=(Label(value=' 1.83MB of 2.45MB uploaded (0.00MB deduped)\\r'), FloatProgress(value=0.74580203875…"
      ]
     },
     "metadata": {},
     "output_type": "display_data"
    },
    {
     "data": {
      "text/html": [
       "<style>\n",
       "    table.wandb td:nth-child(1) { padding: 0 10px; text-align: right }\n",
       "    .wandb-row { display: flex; flex-direction: row; flex-wrap: wrap; width: 100% }\n",
       "    .wandb-col { display: flex; flex-direction: column; flex-basis: 100%; flex: 1; padding: 10px; }\n",
       "    </style>\n",
       "<div class=\"wandb-row\"><div class=\"wandb-col\">\n",
       "<h3>Run history:</h3><br/><table class=\"wandb\"><tr><td>Mean Validation Loss (all folds)</td><td>▁</td></tr><tr><td>Mean Validation MAE (all folds)</td><td>▁</td></tr><tr><td>epoch</td><td>▁▁▁▁▂▂▂▂▂▃▃▃▃▃▃▄▄▄▄▄▅▅▅▅▅▅▆▆▆▆▆▇▇▇▇▇▇███</td></tr><tr><td>loss</td><td>██████▇▇▇▆▆▅▄▄▃▂▂▂▁▁▁▁▁▁▁▁▁▁▁▁▁▁▁▁▁▁▁▁▁▁</td></tr><tr><td>mae</td><td>███████▇▇▇▆▆▅▅▄▃▃▂▂▁▁▁▁▁▁▁▁▁▁▁▁▁▁▁▁▁▁▁▁▁</td></tr><tr><td>val_loss</td><td>██████▇▇▆▆▅▅▄▃▃▂▂▂▁▁▁▁▁▁▁▁▁▁▁▁▁▁▁▁▁▁▁▁▁▁</td></tr><tr><td>val_mae</td><td>███████▇▇▇▆▆▅▅▄▃▃▂▂▁▁▁▁▁▁▁▁▁▁▁▁▁▁▁▁▁▁▁▁▁</td></tr></table><br/></div><div class=\"wandb-col\">\n",
       "<h3>Run summary:</h3><br/><table class=\"wandb\"><tr><td>Mean Validation Loss (all folds)</td><td>1134168140.8</td></tr><tr><td>Mean Validation MAE (all folds)</td><td>19089.31562</td></tr><tr><td>best_epoch</td><td>99</td></tr><tr><td>best_val_loss</td><td>1122508288.0</td></tr><tr><td>epoch</td><td>99</td></tr><tr><td>loss</td><td>1280306816.0</td></tr><tr><td>mae</td><td>22441.9707</td></tr><tr><td>val_loss</td><td>1122508288.0</td></tr><tr><td>val_mae</td><td>19146.28125</td></tr></table>\n",
       "</div></div>\n",
       "Synced 5 W&B file(s), 0 media file(s), 0 artifact file(s) and 1 other file(s)\n",
       "<br/>Synced <strong style=\"color:#cdcd00\">young-sweep-7</strong>: <a href=\"https://wandb.ai/luiscostigan/house-price-prediction/runs/xcqjh5vs\" target=\"_blank\">https://wandb.ai/luiscostigan/house-price-prediction/runs/xcqjh5vs</a><br/>\n",
       "Find logs at: <code>./wandb/run-20220301_075935-xcqjh5vs/logs</code><br/>\n"
      ],
      "text/plain": [
       "<IPython.core.display.HTML object>"
      ]
     },
     "metadata": {},
     "output_type": "display_data"
    },
    {
     "name": "stderr",
     "output_type": "stream",
     "text": [
      "\u001b[34m\u001b[1mwandb\u001b[0m: Agent Starting Run: 3xut0fax with config:\n",
      "\u001b[34m\u001b[1mwandb\u001b[0m: \tbatch_size: 512\n",
      "\u001b[34m\u001b[1mwandb\u001b[0m: \tdropout1: 0.45900285632691146\n",
      "\u001b[34m\u001b[1mwandb\u001b[0m: \tepochs: 30\n"
     ]
    },
    {
     "data": {
      "text/html": [
       "\n",
       "                    Syncing run <strong><a href=\"https://wandb.ai/luiscostigan/house-price-prediction/runs/3xut0fax\" target=\"_blank\">balmy-sweep-8</a></strong> to <a href=\"https://wandb.ai/luiscostigan/house-price-prediction\" target=\"_blank\">Weights & Biases</a> (<a href=\"https://docs.wandb.com/integrations/jupyter.html\" target=\"_blank\">docs</a>).<br/>\n",
       "Sweep page: <a href=\"https://wandb.ai/luiscostigan/house-price-prediction/sweeps/7tqliuqb\" target=\"_blank\">https://wandb.ai/luiscostigan/house-price-prediction/sweeps/7tqliuqb</a><br/>\n",
       "\n",
       "                "
      ],
      "text/plain": [
       "<IPython.core.display.HTML object>"
      ]
     },
     "metadata": {},
     "output_type": "display_data"
    },
    {
     "name": "stdout",
     "output_type": "stream",
     "text": [
      "30/30 [==============================] - 0s 2ms/step - loss: 20274919424.0000 - mae: 123580.4531\n",
      "Score for fold 1: loss of 20274919424.0; mae of 123580.453125\n",
      "------------------------------------------------------------------------\n",
      "Score per fold\n",
      "------------------------------------------------------------------------\n",
      "> Fold 1 - Loss: 20274919424.0 - Accuracy: 123580.453125%\n",
      "------------------------------------------------------------------------\n",
      "Average scores for all folds:\n",
      "> MAE: 123580.453125 (+- 0.0)\n",
      "> Loss: 20274919424.0\n",
      "------------------------------------------------------------------------\n"
     ]
    },
    {
     "data": {
      "text/html": [
       "<br/>Waiting for W&B process to finish, PID 830... <strong style=\"color:green\">(success).</strong>"
      ],
      "text/plain": [
       "<IPython.core.display.HTML object>"
      ]
     },
     "metadata": {},
     "output_type": "display_data"
    },
    {
     "data": {
      "application/vnd.jupyter.widget-view+json": {
       "model_id": "1b0b2cdacbd647468b98c4d63431e25a",
       "version_major": 2,
       "version_minor": 0
      },
      "text/plain": [
       "VBox(children=(Label(value=' 2.45MB of 2.45MB uploaded (0.00MB deduped)\\r'), FloatProgress(value=1.0, max=1.0)…"
      ]
     },
     "metadata": {},
     "output_type": "display_data"
    },
    {
     "data": {
      "text/html": [
       "<style>\n",
       "    table.wandb td:nth-child(1) { padding: 0 10px; text-align: right }\n",
       "    .wandb-row { display: flex; flex-direction: row; flex-wrap: wrap; width: 100% }\n",
       "    .wandb-col { display: flex; flex-direction: column; flex-basis: 100%; flex: 1; padding: 10px; }\n",
       "    </style>\n",
       "<div class=\"wandb-row\"><div class=\"wandb-col\">\n",
       "<h3>Run history:</h3><br/><table class=\"wandb\"><tr><td>Mean Validation Loss (all folds)</td><td>▁</td></tr><tr><td>Mean Validation MAE (all folds)</td><td>▁</td></tr><tr><td>epoch</td><td>▁▁▁▂▂▂▂▃▃▃▃▄▄▄▄▅▅▅▅▆▆▆▆▇▇▇▇███</td></tr><tr><td>loss</td><td>███████████▇▇▇▇▇▆▆▆▅▅▅▄▄▃▃▃▂▂▁</td></tr><tr><td>mae</td><td>███████████▇▇▇▇▇▇▆▆▆▅▅▅▄▄▃▃▂▂▁</td></tr><tr><td>val_loss</td><td>██████████▇▇▇▇▇▇▆▆▆▅▅▅▄▄▃▃▂▂▂▁</td></tr><tr><td>val_mae</td><td>███████████▇▇▇▇▇▆▆▆▆▅▅▅▄▄▃▃▂▂▁</td></tr></table><br/></div><div class=\"wandb-col\">\n",
       "<h3>Run summary:</h3><br/><table class=\"wandb\"><tr><td>Mean Validation Loss (all folds)</td><td>20274919424.0</td></tr><tr><td>Mean Validation MAE (all folds)</td><td>123580.45312</td></tr><tr><td>best_epoch</td><td>29</td></tr><tr><td>best_val_loss</td><td>20274919424.0</td></tr><tr><td>epoch</td><td>29</td></tr><tr><td>loss</td><td>21281495040.0</td></tr><tr><td>mae</td><td>127209.0625</td></tr><tr><td>val_loss</td><td>20274919424.0</td></tr><tr><td>val_mae</td><td>123580.45312</td></tr></table>\n",
       "</div></div>\n",
       "Synced 5 W&B file(s), 0 media file(s), 0 artifact file(s) and 1 other file(s)\n",
       "<br/>Synced <strong style=\"color:#cdcd00\">balmy-sweep-8</strong>: <a href=\"https://wandb.ai/luiscostigan/house-price-prediction/runs/3xut0fax\" target=\"_blank\">https://wandb.ai/luiscostigan/house-price-prediction/runs/3xut0fax</a><br/>\n",
       "Find logs at: <code>./wandb/run-20220301_075955-3xut0fax/logs</code><br/>\n"
      ],
      "text/plain": [
       "<IPython.core.display.HTML object>"
      ]
     },
     "metadata": {},
     "output_type": "display_data"
    },
    {
     "data": {
      "text/html": [
       "\n",
       "                    Syncing run <strong><a href=\"https://wandb.ai/luiscostigan/house-price-prediction/runs/3xut0fax\" target=\"_blank\">balmy-sweep-8</a></strong> to <a href=\"https://wandb.ai/luiscostigan/house-price-prediction\" target=\"_blank\">Weights & Biases</a> (<a href=\"https://docs.wandb.com/integrations/jupyter.html\" target=\"_blank\">docs</a>).<br/>\n",
       "Sweep page: <a href=\"https://wandb.ai/luiscostigan/house-price-prediction/sweeps/7tqliuqb\" target=\"_blank\">https://wandb.ai/luiscostigan/house-price-prediction/sweeps/7tqliuqb</a><br/>\n",
       "\n",
       "                "
      ],
      "text/plain": [
       "<IPython.core.display.HTML object>"
      ]
     },
     "metadata": {},
     "output_type": "display_data"
    },
    {
     "name": "stdout",
     "output_type": "stream",
     "text": [
      "30/30 [==============================] - 0s 1ms/step - loss: 20075765760.0000 - mae: 122818.4062\n",
      "Score for fold 2: loss of 20075765760.0; mae of 122818.40625\n",
      "------------------------------------------------------------------------\n",
      "Score per fold\n",
      "------------------------------------------------------------------------\n",
      "> Fold 1 - Loss: 20274919424.0 - Accuracy: 123580.453125%\n",
      "------------------------------------------------------------------------\n",
      "> Fold 2 - Loss: 20075765760.0 - Accuracy: 122818.40625%\n",
      "------------------------------------------------------------------------\n",
      "Average scores for all folds:\n",
      "> MAE: 123199.4296875 (+- 381.0234375)\n",
      "> Loss: 20175342592.0\n",
      "------------------------------------------------------------------------\n"
     ]
    },
    {
     "data": {
      "text/html": [
       "<br/>Waiting for W&B process to finish, PID 1630... <strong style=\"color:green\">(success).</strong>"
      ],
      "text/plain": [
       "<IPython.core.display.HTML object>"
      ]
     },
     "metadata": {},
     "output_type": "display_data"
    },
    {
     "data": {
      "application/vnd.jupyter.widget-view+json": {
       "model_id": "86eb46f21afa427fac99b354db0c488f",
       "version_major": 2,
       "version_minor": 0
      },
      "text/plain": [
       "VBox(children=(Label(value=' 0.00MB of 2.45MB uploaded (0.00MB deduped)\\r'), FloatProgress(value=0.00039857446…"
      ]
     },
     "metadata": {},
     "output_type": "display_data"
    },
    {
     "data": {
      "text/html": [
       "<style>\n",
       "    table.wandb td:nth-child(1) { padding: 0 10px; text-align: right }\n",
       "    .wandb-row { display: flex; flex-direction: row; flex-wrap: wrap; width: 100% }\n",
       "    .wandb-col { display: flex; flex-direction: column; flex-basis: 100%; flex: 1; padding: 10px; }\n",
       "    </style>\n",
       "<div class=\"wandb-row\"><div class=\"wandb-col\">\n",
       "<h3>Run history:</h3><br/><table class=\"wandb\"><tr><td>Mean Validation Loss (all folds)</td><td>▁</td></tr><tr><td>Mean Validation MAE (all folds)</td><td>▁</td></tr><tr><td>epoch</td><td>▁▁▁▂▂▂▂▃▃▃▃▄▄▄▄▅▅▅▅▆▆▆▆▇▇▇▇███</td></tr><tr><td>loss</td><td>██████████▇▇▇▇▇▇▆▆▆▅▅▅▄▄▃▃▃▂▂▁</td></tr><tr><td>mae</td><td>███████████▇▇▇▇▇▇▆▆▆▅▅▅▄▄▃▃▂▂▁</td></tr><tr><td>val_loss</td><td>██████████▇▇▇▇▇▆▆▆▆▅▅▅▄▄▃▃▂▂▁▁</td></tr><tr><td>val_mae</td><td>███████████▇▇▇▇▇▆▆▆▆▅▅▅▄▄▃▃▂▂▁</td></tr></table><br/></div><div class=\"wandb-col\">\n",
       "<h3>Run summary:</h3><br/><table class=\"wandb\"><tr><td>Mean Validation Loss (all folds)</td><td>20175342592.0</td></tr><tr><td>Mean Validation MAE (all folds)</td><td>123199.42969</td></tr><tr><td>best_epoch</td><td>29</td></tr><tr><td>best_val_loss</td><td>20075763712.0</td></tr><tr><td>epoch</td><td>29</td></tr><tr><td>loss</td><td>21131237376.0</td></tr><tr><td>mae</td><td>126536.96094</td></tr><tr><td>val_loss</td><td>20075763712.0</td></tr><tr><td>val_mae</td><td>122818.39844</td></tr></table>\n",
       "</div></div>\n",
       "Synced 5 W&B file(s), 0 media file(s), 0 artifact file(s) and 1 other file(s)\n",
       "<br/>Synced <strong style=\"color:#cdcd00\">balmy-sweep-8</strong>: <a href=\"https://wandb.ai/luiscostigan/house-price-prediction/runs/3xut0fax\" target=\"_blank\">https://wandb.ai/luiscostigan/house-price-prediction/runs/3xut0fax</a><br/>\n",
       "Find logs at: <code>./wandb/run-20220301_080007-3xut0fax/logs</code><br/>\n"
      ],
      "text/plain": [
       "<IPython.core.display.HTML object>"
      ]
     },
     "metadata": {},
     "output_type": "display_data"
    },
    {
     "data": {
      "text/html": [
       "\n",
       "                    Syncing run <strong><a href=\"https://wandb.ai/luiscostigan/house-price-prediction/runs/3xut0fax\" target=\"_blank\">balmy-sweep-8</a></strong> to <a href=\"https://wandb.ai/luiscostigan/house-price-prediction\" target=\"_blank\">Weights & Biases</a> (<a href=\"https://docs.wandb.com/integrations/jupyter.html\" target=\"_blank\">docs</a>).<br/>\n",
       "Sweep page: <a href=\"https://wandb.ai/luiscostigan/house-price-prediction/sweeps/7tqliuqb\" target=\"_blank\">https://wandb.ai/luiscostigan/house-price-prediction/sweeps/7tqliuqb</a><br/>\n",
       "\n",
       "                "
      ],
      "text/plain": [
       "<IPython.core.display.HTML object>"
      ]
     },
     "metadata": {},
     "output_type": "display_data"
    },
    {
     "name": "stdout",
     "output_type": "stream",
     "text": [
      "30/30 [==============================] - 0s 1ms/step - loss: 20340273152.0000 - mae: 123800.3594\n",
      "Score for fold 3: loss of 20340273152.0; mae of 123800.359375\n",
      "------------------------------------------------------------------------\n",
      "Score per fold\n",
      "------------------------------------------------------------------------\n",
      "> Fold 1 - Loss: 20274919424.0 - Accuracy: 123580.453125%\n",
      "------------------------------------------------------------------------\n",
      "> Fold 2 - Loss: 20075765760.0 - Accuracy: 122818.40625%\n",
      "------------------------------------------------------------------------\n",
      "> Fold 3 - Loss: 20340273152.0 - Accuracy: 123800.359375%\n",
      "------------------------------------------------------------------------\n",
      "Average scores for all folds:\n",
      "> MAE: 123399.73958333333 (+- 420.7541031929845)\n",
      "> Loss: 20230319445.333332\n",
      "------------------------------------------------------------------------\n"
     ]
    },
    {
     "data": {
      "text/html": [
       "<br/>Waiting for W&B process to finish, PID 2400... <strong style=\"color:green\">(success).</strong>"
      ],
      "text/plain": [
       "<IPython.core.display.HTML object>"
      ]
     },
     "metadata": {},
     "output_type": "display_data"
    },
    {
     "data": {
      "application/vnd.jupyter.widget-view+json": {
       "model_id": "07a91e2f9c8e418d9e10fd380def746f",
       "version_major": 2,
       "version_minor": 0
      },
      "text/plain": [
       "VBox(children=(Label(value=' 0.73MB of 2.45MB uploaded (0.00MB deduped)\\r'), FloatProgress(value=0.29664682361…"
      ]
     },
     "metadata": {},
     "output_type": "display_data"
    },
    {
     "data": {
      "text/html": [
       "<style>\n",
       "    table.wandb td:nth-child(1) { padding: 0 10px; text-align: right }\n",
       "    .wandb-row { display: flex; flex-direction: row; flex-wrap: wrap; width: 100% }\n",
       "    .wandb-col { display: flex; flex-direction: column; flex-basis: 100%; flex: 1; padding: 10px; }\n",
       "    </style>\n",
       "<div class=\"wandb-row\"><div class=\"wandb-col\">\n",
       "<h3>Run history:</h3><br/><table class=\"wandb\"><tr><td>Mean Validation Loss (all folds)</td><td>▁</td></tr><tr><td>Mean Validation MAE (all folds)</td><td>▁</td></tr><tr><td>epoch</td><td>▁▁▁▂▂▂▂▃▃▃▃▄▄▄▄▅▅▅▅▆▆▆▆▇▇▇▇███</td></tr><tr><td>loss</td><td>███████████▇▇▇▇▇▆▆▆▅▅▅▄▄▃▃▃▂▂▁</td></tr><tr><td>mae</td><td>███████████▇▇▇▇▇▇▆▆▆▅▅▅▄▄▃▃▂▂▁</td></tr><tr><td>val_loss</td><td>██████████▇▇▇▇▇▆▆▆▆▅▅▅▄▄▃▃▂▂▁▁</td></tr><tr><td>val_mae</td><td>███████████▇▇▇▇▇▆▆▆▆▅▅▅▄▄▃▃▂▂▁</td></tr></table><br/></div><div class=\"wandb-col\">\n",
       "<h3>Run summary:</h3><br/><table class=\"wandb\"><tr><td>Mean Validation Loss (all folds)</td><td>20230319445.33333</td></tr><tr><td>Mean Validation MAE (all folds)</td><td>123399.73958</td></tr><tr><td>best_epoch</td><td>29</td></tr><tr><td>best_val_loss</td><td>20340271104.0</td></tr><tr><td>epoch</td><td>29</td></tr><tr><td>loss</td><td>21409505280.0</td></tr><tr><td>mae</td><td>127676.83594</td></tr><tr><td>val_loss</td><td>20340271104.0</td></tr><tr><td>val_mae</td><td>123800.35938</td></tr></table>\n",
       "</div></div>\n",
       "Synced 5 W&B file(s), 0 media file(s), 0 artifact file(s) and 1 other file(s)\n",
       "<br/>Synced <strong style=\"color:#cdcd00\">balmy-sweep-8</strong>: <a href=\"https://wandb.ai/luiscostigan/house-price-prediction/runs/3xut0fax\" target=\"_blank\">https://wandb.ai/luiscostigan/house-price-prediction/runs/3xut0fax</a><br/>\n",
       "Find logs at: <code>./wandb/run-20220301_080018-3xut0fax/logs</code><br/>\n"
      ],
      "text/plain": [
       "<IPython.core.display.HTML object>"
      ]
     },
     "metadata": {},
     "output_type": "display_data"
    },
    {
     "data": {
      "text/html": [
       "\n",
       "                    Syncing run <strong><a href=\"https://wandb.ai/luiscostigan/house-price-prediction/runs/3xut0fax\" target=\"_blank\">balmy-sweep-8</a></strong> to <a href=\"https://wandb.ai/luiscostigan/house-price-prediction\" target=\"_blank\">Weights & Biases</a> (<a href=\"https://docs.wandb.com/integrations/jupyter.html\" target=\"_blank\">docs</a>).<br/>\n",
       "Sweep page: <a href=\"https://wandb.ai/luiscostigan/house-price-prediction/sweeps/7tqliuqb\" target=\"_blank\">https://wandb.ai/luiscostigan/house-price-prediction/sweeps/7tqliuqb</a><br/>\n",
       "\n",
       "                "
      ],
      "text/plain": [
       "<IPython.core.display.HTML object>"
      ]
     },
     "metadata": {},
     "output_type": "display_data"
    },
    {
     "name": "stdout",
     "output_type": "stream",
     "text": [
      "30/30 [==============================] - 0s 2ms/step - loss: 21121556480.0000 - mae: 126784.1641\n",
      "Score for fold 4: loss of 21121556480.0; mae of 126784.1640625\n",
      "------------------------------------------------------------------------\n",
      "Score per fold\n",
      "------------------------------------------------------------------------\n",
      "> Fold 1 - Loss: 20274919424.0 - Accuracy: 123580.453125%\n",
      "------------------------------------------------------------------------\n",
      "> Fold 2 - Loss: 20075765760.0 - Accuracy: 122818.40625%\n",
      "------------------------------------------------------------------------\n",
      "> Fold 3 - Loss: 20340273152.0 - Accuracy: 123800.359375%\n",
      "------------------------------------------------------------------------\n",
      "> Fold 4 - Loss: 21121556480.0 - Accuracy: 126784.1640625%\n",
      "------------------------------------------------------------------------\n",
      "Average scores for all folds:\n",
      "> MAE: 124245.845703125 (+- 1510.119932112026)\n",
      "> Loss: 20453128704.0\n",
      "------------------------------------------------------------------------\n"
     ]
    },
    {
     "data": {
      "text/html": [
       "<br/>Waiting for W&B process to finish, PID 3162... <strong style=\"color:green\">(success).</strong>"
      ],
      "text/plain": [
       "<IPython.core.display.HTML object>"
      ]
     },
     "metadata": {},
     "output_type": "display_data"
    },
    {
     "data": {
      "application/vnd.jupyter.widget-view+json": {
       "model_id": "12b651892027492b93af87d04c3e07ea",
       "version_major": 2,
       "version_minor": 0
      },
      "text/plain": [
       "VBox(children=(Label(value=' 0.00MB of 2.45MB uploaded (0.00MB deduped)\\r'), FloatProgress(value=0.00039857446…"
      ]
     },
     "metadata": {},
     "output_type": "display_data"
    },
    {
     "data": {
      "text/html": [
       "<style>\n",
       "    table.wandb td:nth-child(1) { padding: 0 10px; text-align: right }\n",
       "    .wandb-row { display: flex; flex-direction: row; flex-wrap: wrap; width: 100% }\n",
       "    .wandb-col { display: flex; flex-direction: column; flex-basis: 100%; flex: 1; padding: 10px; }\n",
       "    </style>\n",
       "<div class=\"wandb-row\"><div class=\"wandb-col\">\n",
       "<h3>Run history:</h3><br/><table class=\"wandb\"><tr><td>Mean Validation Loss (all folds)</td><td>▁</td></tr><tr><td>Mean Validation MAE (all folds)</td><td>▁</td></tr><tr><td>epoch</td><td>▁▁▁▂▂▂▂▃▃▃▃▄▄▄▄▅▅▅▅▆▆▆▆▇▇▇▇███</td></tr><tr><td>loss</td><td>███████████▇▇▇▇▇▆▆▆▅▅▅▄▄▃▃▃▂▂▁</td></tr><tr><td>mae</td><td>███████████▇▇▇▇▇▇▆▆▆▅▅▅▄▄▃▃▂▂▁</td></tr><tr><td>val_loss</td><td>██████████▇▇▇▇▇▇▆▆▆▅▅▅▄▄▃▃▂▂▂▁</td></tr><tr><td>val_mae</td><td>███████████▇▇▇▇▇▆▆▆▆▅▅▅▄▄▃▃▂▂▁</td></tr></table><br/></div><div class=\"wandb-col\">\n",
       "<h3>Run summary:</h3><br/><table class=\"wandb\"><tr><td>Mean Validation Loss (all folds)</td><td>20453128704.0</td></tr><tr><td>Mean Validation MAE (all folds)</td><td>124245.8457</td></tr><tr><td>best_epoch</td><td>29</td></tr><tr><td>best_val_loss</td><td>21121558528.0</td></tr><tr><td>epoch</td><td>29</td></tr><tr><td>loss</td><td>22129991680.0</td></tr><tr><td>mae</td><td>130337.72656</td></tr><tr><td>val_loss</td><td>21121558528.0</td></tr><tr><td>val_mae</td><td>126784.15625</td></tr></table>\n",
       "</div></div>\n",
       "Synced 5 W&B file(s), 0 media file(s), 0 artifact file(s) and 1 other file(s)\n",
       "<br/>Synced <strong style=\"color:#cdcd00\">balmy-sweep-8</strong>: <a href=\"https://wandb.ai/luiscostigan/house-price-prediction/runs/3xut0fax\" target=\"_blank\">https://wandb.ai/luiscostigan/house-price-prediction/runs/3xut0fax</a><br/>\n",
       "Find logs at: <code>./wandb/run-20220301_080028-3xut0fax/logs</code><br/>\n"
      ],
      "text/plain": [
       "<IPython.core.display.HTML object>"
      ]
     },
     "metadata": {},
     "output_type": "display_data"
    },
    {
     "data": {
      "text/html": [
       "\n",
       "                    Syncing run <strong><a href=\"https://wandb.ai/luiscostigan/house-price-prediction/runs/3xut0fax\" target=\"_blank\">balmy-sweep-8</a></strong> to <a href=\"https://wandb.ai/luiscostigan/house-price-prediction\" target=\"_blank\">Weights & Biases</a> (<a href=\"https://docs.wandb.com/integrations/jupyter.html\" target=\"_blank\">docs</a>).<br/>\n",
       "Sweep page: <a href=\"https://wandb.ai/luiscostigan/house-price-prediction/sweeps/7tqliuqb\" target=\"_blank\">https://wandb.ai/luiscostigan/house-price-prediction/sweeps/7tqliuqb</a><br/>\n",
       "\n",
       "                "
      ],
      "text/plain": [
       "<IPython.core.display.HTML object>"
      ]
     },
     "metadata": {},
     "output_type": "display_data"
    },
    {
     "name": "stdout",
     "output_type": "stream",
     "text": [
      "30/30 [==============================] - 0s 2ms/step - loss: 20625938432.0000 - mae: 125130.5391\n",
      "Score for fold 5: loss of 20625938432.0; mae of 125130.5390625\n",
      "------------------------------------------------------------------------\n",
      "Score per fold\n",
      "------------------------------------------------------------------------\n",
      "> Fold 1 - Loss: 20274919424.0 - Accuracy: 123580.453125%\n",
      "------------------------------------------------------------------------\n",
      "> Fold 2 - Loss: 20075765760.0 - Accuracy: 122818.40625%\n",
      "------------------------------------------------------------------------\n",
      "> Fold 3 - Loss: 20340273152.0 - Accuracy: 123800.359375%\n",
      "------------------------------------------------------------------------\n",
      "> Fold 4 - Loss: 21121556480.0 - Accuracy: 126784.1640625%\n",
      "------------------------------------------------------------------------\n",
      "> Fold 5 - Loss: 20625938432.0 - Accuracy: 125130.5390625%\n",
      "------------------------------------------------------------------------\n",
      "Average scores for all folds:\n",
      "> MAE: 124422.784375 (+- 1396.280395160363)\n",
      "> Loss: 20487690649.6\n",
      "------------------------------------------------------------------------\n"
     ]
    },
    {
     "data": {
      "text/html": [
       "<br/>Waiting for W&B process to finish, PID 3929... <strong style=\"color:green\">(success).</strong>"
      ],
      "text/plain": [
       "<IPython.core.display.HTML object>"
      ]
     },
     "metadata": {},
     "output_type": "display_data"
    },
    {
     "data": {
      "application/vnd.jupyter.widget-view+json": {
       "model_id": "7b923319cb634b47879a2dc65f233f26",
       "version_major": 2,
       "version_minor": 0
      },
      "text/plain": [
       "VBox(children=(Label(value=' 2.30MB of 2.45MB uploaded (0.00MB deduped)\\r'), FloatProgress(value=0.93693113216…"
      ]
     },
     "metadata": {},
     "output_type": "display_data"
    },
    {
     "data": {
      "text/html": [
       "<style>\n",
       "    table.wandb td:nth-child(1) { padding: 0 10px; text-align: right }\n",
       "    .wandb-row { display: flex; flex-direction: row; flex-wrap: wrap; width: 100% }\n",
       "    .wandb-col { display: flex; flex-direction: column; flex-basis: 100%; flex: 1; padding: 10px; }\n",
       "    </style>\n",
       "<div class=\"wandb-row\"><div class=\"wandb-col\">\n",
       "<h3>Run history:</h3><br/><table class=\"wandb\"><tr><td>Mean Validation Loss (all folds)</td><td>▁</td></tr><tr><td>Mean Validation MAE (all folds)</td><td>▁</td></tr><tr><td>epoch</td><td>▁▁▁▂▂▂▂▃▃▃▃▄▄▄▄▅▅▅▅▆▆▆▆▇▇▇▇███</td></tr><tr><td>loss</td><td>███████████▇▇▇▇▇▆▆▆▅▅▅▄▄▃▃▃▂▂▁</td></tr><tr><td>mae</td><td>███████████▇▇▇▇▇▇▆▆▆▅▅▅▄▄▃▃▂▂▁</td></tr><tr><td>val_loss</td><td>██████████▇▇▇▇▇▇▆▆▆▅▅▅▄▄▃▃▂▂▂▁</td></tr><tr><td>val_mae</td><td>███████████▇▇▇▇▇▆▆▆▆▅▅▅▄▄▃▃▂▂▁</td></tr></table><br/></div><div class=\"wandb-col\">\n",
       "<h3>Run summary:</h3><br/><table class=\"wandb\"><tr><td>Mean Validation Loss (all folds)</td><td>20487690649.6</td></tr><tr><td>Mean Validation MAE (all folds)</td><td>124422.78438</td></tr><tr><td>best_epoch</td><td>29</td></tr><tr><td>best_val_loss</td><td>20625938432.0</td></tr><tr><td>epoch</td><td>29</td></tr><tr><td>loss</td><td>21626314752.0</td></tr><tr><td>mae</td><td>128673.74219</td></tr><tr><td>val_loss</td><td>20625938432.0</td></tr><tr><td>val_mae</td><td>125130.53906</td></tr></table>\n",
       "</div></div>\n",
       "Synced 5 W&B file(s), 0 media file(s), 0 artifact file(s) and 1 other file(s)\n",
       "<br/>Synced <strong style=\"color:#cdcd00\">balmy-sweep-8</strong>: <a href=\"https://wandb.ai/luiscostigan/house-price-prediction/runs/3xut0fax\" target=\"_blank\">https://wandb.ai/luiscostigan/house-price-prediction/runs/3xut0fax</a><br/>\n",
       "Find logs at: <code>./wandb/run-20220301_080039-3xut0fax/logs</code><br/>\n"
      ],
      "text/plain": [
       "<IPython.core.display.HTML object>"
      ]
     },
     "metadata": {},
     "output_type": "display_data"
    },
    {
     "name": "stderr",
     "output_type": "stream",
     "text": [
      "\u001b[34m\u001b[1mwandb\u001b[0m: Agent Starting Run: qpbrkye9 with config:\n",
      "\u001b[34m\u001b[1mwandb\u001b[0m: \tbatch_size: 512\n",
      "\u001b[34m\u001b[1mwandb\u001b[0m: \tdropout1: 0.7191967652976312\n",
      "\u001b[34m\u001b[1mwandb\u001b[0m: \tepochs: 100\n"
     ]
    },
    {
     "data": {
      "text/html": [
       "\n",
       "                    Syncing run <strong><a href=\"https://wandb.ai/luiscostigan/house-price-prediction/runs/qpbrkye9\" target=\"_blank\">kind-sweep-9</a></strong> to <a href=\"https://wandb.ai/luiscostigan/house-price-prediction\" target=\"_blank\">Weights & Biases</a> (<a href=\"https://docs.wandb.com/integrations/jupyter.html\" target=\"_blank\">docs</a>).<br/>\n",
       "Sweep page: <a href=\"https://wandb.ai/luiscostigan/house-price-prediction/sweeps/7tqliuqb\" target=\"_blank\">https://wandb.ai/luiscostigan/house-price-prediction/sweeps/7tqliuqb</a><br/>\n",
       "\n",
       "                "
      ],
      "text/plain": [
       "<IPython.core.display.HTML object>"
      ]
     },
     "metadata": {},
     "output_type": "display_data"
    },
    {
     "name": "stdout",
     "output_type": "stream",
     "text": [
      "30/30 [==============================] - 0s 2ms/step - loss: 1108611200.0000 - mae: 19097.1738\n",
      "Score for fold 1: loss of 1108611200.0; mae of 19097.173828125\n",
      "------------------------------------------------------------------------\n",
      "Score per fold\n",
      "------------------------------------------------------------------------\n",
      "> Fold 1 - Loss: 1108611200.0 - Accuracy: 19097.173828125%\n",
      "------------------------------------------------------------------------\n",
      "Average scores for all folds:\n",
      "> MAE: 19097.173828125 (+- 0.0)\n",
      "> Loss: 1108611200.0\n",
      "------------------------------------------------------------------------\n"
     ]
    },
    {
     "data": {
      "text/html": [
       "<br/>Waiting for W&B process to finish, PID 4718... <strong style=\"color:green\">(success).</strong>"
      ],
      "text/plain": [
       "<IPython.core.display.HTML object>"
      ]
     },
     "metadata": {},
     "output_type": "display_data"
    },
    {
     "data": {
      "application/vnd.jupyter.widget-view+json": {
       "model_id": "221e55c7314b48d181b94015301387a9",
       "version_major": 2,
       "version_minor": 0
      },
      "text/plain": [
       "VBox(children=(Label(value=' 0.97MB of 2.45MB uploaded (0.00MB deduped)\\r'), FloatProgress(value=0.39541346158…"
      ]
     },
     "metadata": {},
     "output_type": "display_data"
    },
    {
     "data": {
      "text/html": [
       "<style>\n",
       "    table.wandb td:nth-child(1) { padding: 0 10px; text-align: right }\n",
       "    .wandb-row { display: flex; flex-direction: row; flex-wrap: wrap; width: 100% }\n",
       "    .wandb-col { display: flex; flex-direction: column; flex-basis: 100%; flex: 1; padding: 10px; }\n",
       "    </style>\n",
       "<div class=\"wandb-row\"><div class=\"wandb-col\">\n",
       "<h3>Run history:</h3><br/><table class=\"wandb\"><tr><td>Mean Validation Loss (all folds)</td><td>▁</td></tr><tr><td>Mean Validation MAE (all folds)</td><td>▁</td></tr><tr><td>epoch</td><td>▁▁▁▁▂▂▂▂▂▃▃▃▃▃▃▄▄▄▄▄▅▅▅▅▅▅▆▆▆▆▆▇▇▇▇▇▇███</td></tr><tr><td>loss</td><td>██████▇▇▇▆▆▅▄▄▃▂▂▂▁▁▁▁▁▁▁▁▁▁▁▁▁▁▁▁▁▁▁▁▁▁</td></tr><tr><td>mae</td><td>███████▇▇▇▆▆▅▅▄▃▃▂▂▁▁▁▁▁▁▁▁▁▁▁▁▁▁▁▁▁▁▁▁▁</td></tr><tr><td>val_loss</td><td>██████▇▇▆▆▅▅▄▃▃▂▂▂▁▁▁▁▁▁▁▁▁▁▁▁▁▁▁▁▁▁▁▁▁▁</td></tr><tr><td>val_mae</td><td>███████▇▇▇▆▆▅▄▄▃▃▂▂▁▁▁▁▁▁▁▁▁▁▁▁▁▁▁▁▁▁▁▁▁</td></tr></table><br/></div><div class=\"wandb-col\">\n",
       "<h3>Run summary:</h3><br/><table class=\"wandb\"><tr><td>Mean Validation Loss (all folds)</td><td>1108611200.0</td></tr><tr><td>Mean Validation MAE (all folds)</td><td>19097.17383</td></tr><tr><td>best_epoch</td><td>99</td></tr><tr><td>best_val_loss</td><td>1108611072.0</td></tr><tr><td>epoch</td><td>99</td></tr><tr><td>loss</td><td>1234912768.0</td></tr><tr><td>mae</td><td>21456.16992</td></tr><tr><td>val_loss</td><td>1108611072.0</td></tr><tr><td>val_mae</td><td>19097.17383</td></tr></table>\n",
       "</div></div>\n",
       "Synced 5 W&B file(s), 0 media file(s), 0 artifact file(s) and 1 other file(s)\n",
       "<br/>Synced <strong style=\"color:#cdcd00\">kind-sweep-9</strong>: <a href=\"https://wandb.ai/luiscostigan/house-price-prediction/runs/qpbrkye9\" target=\"_blank\">https://wandb.ai/luiscostigan/house-price-prediction/runs/qpbrkye9</a><br/>\n",
       "Find logs at: <code>./wandb/run-20220301_080053-qpbrkye9/logs</code><br/>\n"
      ],
      "text/plain": [
       "<IPython.core.display.HTML object>"
      ]
     },
     "metadata": {},
     "output_type": "display_data"
    },
    {
     "data": {
      "text/html": [
       "\n",
       "                    Syncing run <strong><a href=\"https://wandb.ai/luiscostigan/house-price-prediction/runs/qpbrkye9\" target=\"_blank\">kind-sweep-9</a></strong> to <a href=\"https://wandb.ai/luiscostigan/house-price-prediction\" target=\"_blank\">Weights & Biases</a> (<a href=\"https://docs.wandb.com/integrations/jupyter.html\" target=\"_blank\">docs</a>).<br/>\n",
       "Sweep page: <a href=\"https://wandb.ai/luiscostigan/house-price-prediction/sweeps/7tqliuqb\" target=\"_blank\">https://wandb.ai/luiscostigan/house-price-prediction/sweeps/7tqliuqb</a><br/>\n",
       "\n",
       "                "
      ],
      "text/plain": [
       "<IPython.core.display.HTML object>"
      ]
     },
     "metadata": {},
     "output_type": "display_data"
    },
    {
     "name": "stdout",
     "output_type": "stream",
     "text": [
      "30/30 [==============================] - 0s 2ms/step - loss: 1136262784.0000 - mae: 19139.4316\n",
      "Score for fold 2: loss of 1136262784.0; mae of 19139.431640625\n",
      "------------------------------------------------------------------------\n",
      "Score per fold\n",
      "------------------------------------------------------------------------\n",
      "> Fold 1 - Loss: 1108611200.0 - Accuracy: 19097.173828125%\n",
      "------------------------------------------------------------------------\n",
      "> Fold 2 - Loss: 1136262784.0 - Accuracy: 19139.431640625%\n",
      "------------------------------------------------------------------------\n",
      "Average scores for all folds:\n",
      "> MAE: 19118.302734375 (+- 21.12890625)\n",
      "> Loss: 1122436992.0\n",
      "------------------------------------------------------------------------\n"
     ]
    },
    {
     "data": {
      "text/html": [
       "<br/>Waiting for W&B process to finish, PID 6884... <strong style=\"color:green\">(success).</strong>"
      ],
      "text/plain": [
       "<IPython.core.display.HTML object>"
      ]
     },
     "metadata": {},
     "output_type": "display_data"
    },
    {
     "data": {
      "application/vnd.jupyter.widget-view+json": {
       "model_id": "c0fd756d27d24ad0b5238cd50880197f",
       "version_major": 2,
       "version_minor": 0
      },
      "text/plain": [
       "VBox(children=(Label(value=' 0.67MB of 2.45MB uploaded (0.00MB deduped)\\r'), FloatProgress(value=0.27116479012…"
      ]
     },
     "metadata": {},
     "output_type": "display_data"
    },
    {
     "data": {
      "text/html": [
       "<style>\n",
       "    table.wandb td:nth-child(1) { padding: 0 10px; text-align: right }\n",
       "    .wandb-row { display: flex; flex-direction: row; flex-wrap: wrap; width: 100% }\n",
       "    .wandb-col { display: flex; flex-direction: column; flex-basis: 100%; flex: 1; padding: 10px; }\n",
       "    </style>\n",
       "<div class=\"wandb-row\"><div class=\"wandb-col\">\n",
       "<h3>Run history:</h3><br/><table class=\"wandb\"><tr><td>Mean Validation Loss (all folds)</td><td>▁</td></tr><tr><td>Mean Validation MAE (all folds)</td><td>▁</td></tr><tr><td>epoch</td><td>▁▁▁▁▂▂▂▂▂▃▃▃▃▃▃▄▄▄▄▄▅▅▅▅▅▅▆▆▆▆▆▇▇▇▇▇▇███</td></tr><tr><td>loss</td><td>██████▇▇▇▆▆▅▅▄▃▃▂▂▂▁▁▁▁▁▁▁▁▁▁▁▁▁▁▁▁▁▁▁▁▁</td></tr><tr><td>mae</td><td>███████▇▇▇▆▆▅▅▄▄▃▂▂▁▁▁▁▁▁▁▁▁▁▁▁▁▁▁▁▁▁▁▁▁</td></tr><tr><td>val_loss</td><td>██████▇▇▇▆▆▅▄▄▃▂▂▂▁▁▁▁▁▁▁▁▁▁▁▁▁▁▁▁▁▁▁▁▁▁</td></tr><tr><td>val_mae</td><td>███████▇▇▇▆▆▅▅▄▃▃▂▂▁▁▁▁▁▁▁▁▁▁▁▁▁▁▁▁▁▁▁▁▁</td></tr></table><br/></div><div class=\"wandb-col\">\n",
       "<h3>Run summary:</h3><br/><table class=\"wandb\"><tr><td>Mean Validation Loss (all folds)</td><td>1122436992.0</td></tr><tr><td>Mean Validation MAE (all folds)</td><td>19118.30273</td></tr><tr><td>best_epoch</td><td>99</td></tr><tr><td>best_val_loss</td><td>1136262912.0</td></tr><tr><td>epoch</td><td>99</td></tr><tr><td>loss</td><td>1277671296.0</td></tr><tr><td>mae</td><td>22128.67188</td></tr><tr><td>val_loss</td><td>1136262912.0</td></tr><tr><td>val_mae</td><td>19139.42969</td></tr></table>\n",
       "</div></div>\n",
       "Synced 5 W&B file(s), 0 media file(s), 0 artifact file(s) and 1 other file(s)\n",
       "<br/>Synced <strong style=\"color:#cdcd00\">kind-sweep-9</strong>: <a href=\"https://wandb.ai/luiscostigan/house-price-prediction/runs/qpbrkye9\" target=\"_blank\">https://wandb.ai/luiscostigan/house-price-prediction/runs/qpbrkye9</a><br/>\n",
       "Find logs at: <code>./wandb/run-20220301_080111-qpbrkye9/logs</code><br/>\n"
      ],
      "text/plain": [
       "<IPython.core.display.HTML object>"
      ]
     },
     "metadata": {},
     "output_type": "display_data"
    },
    {
     "data": {
      "text/html": [
       "\n",
       "                    Syncing run <strong><a href=\"https://wandb.ai/luiscostigan/house-price-prediction/runs/qpbrkye9\" target=\"_blank\">kind-sweep-9</a></strong> to <a href=\"https://wandb.ai/luiscostigan/house-price-prediction\" target=\"_blank\">Weights & Biases</a> (<a href=\"https://docs.wandb.com/integrations/jupyter.html\" target=\"_blank\">docs</a>).<br/>\n",
       "Sweep page: <a href=\"https://wandb.ai/luiscostigan/house-price-prediction/sweeps/7tqliuqb\" target=\"_blank\">https://wandb.ai/luiscostigan/house-price-prediction/sweeps/7tqliuqb</a><br/>\n",
       "\n",
       "                "
      ],
      "text/plain": [
       "<IPython.core.display.HTML object>"
      ]
     },
     "metadata": {},
     "output_type": "display_data"
    },
    {
     "name": "stdout",
     "output_type": "stream",
     "text": [
      "30/30 [==============================] - 0s 3ms/step - loss: 1133391872.0000 - mae: 19026.5352\n",
      "Score for fold 3: loss of 1133391872.0; mae of 19026.53515625\n",
      "------------------------------------------------------------------------\n",
      "Score per fold\n",
      "------------------------------------------------------------------------\n",
      "> Fold 1 - Loss: 1108611200.0 - Accuracy: 19097.173828125%\n",
      "------------------------------------------------------------------------\n",
      "> Fold 2 - Loss: 1136262784.0 - Accuracy: 19139.431640625%\n",
      "------------------------------------------------------------------------\n",
      "> Fold 3 - Loss: 1133391872.0 - Accuracy: 19026.53515625%\n",
      "------------------------------------------------------------------------\n",
      "Average scores for all folds:\n",
      "> MAE: 19087.713541666668 (+- 46.57271598238571)\n",
      "> Loss: 1126088618.6666667\n",
      "------------------------------------------------------------------------\n"
     ]
    },
    {
     "data": {
      "text/html": [
       "<br/>Waiting for W&B process to finish, PID 9035... <strong style=\"color:green\">(success).</strong>"
      ],
      "text/plain": [
       "<IPython.core.display.HTML object>"
      ]
     },
     "metadata": {},
     "output_type": "display_data"
    },
    {
     "data": {
      "application/vnd.jupyter.widget-view+json": {
       "model_id": "882bc730728649d39be99c66e3fe6d3f",
       "version_major": 2,
       "version_minor": 0
      },
      "text/plain": [
       "VBox(children=(Label(value=' 0.75MB of 2.45MB uploaded (0.00MB deduped)\\r'), FloatProgress(value=0.30620321882…"
      ]
     },
     "metadata": {},
     "output_type": "display_data"
    },
    {
     "data": {
      "text/html": [
       "<style>\n",
       "    table.wandb td:nth-child(1) { padding: 0 10px; text-align: right }\n",
       "    .wandb-row { display: flex; flex-direction: row; flex-wrap: wrap; width: 100% }\n",
       "    .wandb-col { display: flex; flex-direction: column; flex-basis: 100%; flex: 1; padding: 10px; }\n",
       "    </style>\n",
       "<div class=\"wandb-row\"><div class=\"wandb-col\">\n",
       "<h3>Run history:</h3><br/><table class=\"wandb\"><tr><td>Mean Validation Loss (all folds)</td><td>▁</td></tr><tr><td>Mean Validation MAE (all folds)</td><td>▁</td></tr><tr><td>epoch</td><td>▁▁▁▁▂▂▂▂▂▃▃▃▃▃▃▄▄▄▄▄▅▅▅▅▅▅▆▆▆▆▆▇▇▇▇▇▇███</td></tr><tr><td>loss</td><td>██████▇▇▇▆▆▅▄▄▃▃▂▂▂▁▁▁▁▁▁▁▁▁▁▁▁▁▁▁▁▁▁▁▁▁</td></tr><tr><td>mae</td><td>███████▇▇▇▆▆▅▅▄▃▃▂▂▂▁▁▁▁▁▁▁▁▁▁▁▁▁▁▁▁▁▁▁▁</td></tr><tr><td>val_loss</td><td>██████▇▇▇▆▅▅▄▄▃▂▂▂▁▁▁▁▁▁▁▁▁▁▁▁▁▁▁▁▁▁▁▁▁▁</td></tr><tr><td>val_mae</td><td>███████▇▇▇▆▆▅▅▄▃▃▂▂▁▁▁▁▁▁▁▁▁▁▁▁▁▁▁▁▁▁▁▁▁</td></tr></table><br/></div><div class=\"wandb-col\">\n",
       "<h3>Run summary:</h3><br/><table class=\"wandb\"><tr><td>Mean Validation Loss (all folds)</td><td>1126088618.66667</td></tr><tr><td>Mean Validation MAE (all folds)</td><td>19087.71354</td></tr><tr><td>best_epoch</td><td>99</td></tr><tr><td>best_val_loss</td><td>1133391744.0</td></tr><tr><td>epoch</td><td>99</td></tr><tr><td>loss</td><td>1304047872.0</td></tr><tr><td>mae</td><td>21987.59375</td></tr><tr><td>val_loss</td><td>1133391744.0</td></tr><tr><td>val_mae</td><td>19026.53711</td></tr></table>\n",
       "</div></div>\n",
       "Synced 5 W&B file(s), 0 media file(s), 0 artifact file(s) and 1 other file(s)\n",
       "<br/>Synced <strong style=\"color:#cdcd00\">kind-sweep-9</strong>: <a href=\"https://wandb.ai/luiscostigan/house-price-prediction/runs/qpbrkye9\" target=\"_blank\">https://wandb.ai/luiscostigan/house-price-prediction/runs/qpbrkye9</a><br/>\n",
       "Find logs at: <code>./wandb/run-20220301_080127-qpbrkye9/logs</code><br/>\n"
      ],
      "text/plain": [
       "<IPython.core.display.HTML object>"
      ]
     },
     "metadata": {},
     "output_type": "display_data"
    },
    {
     "data": {
      "text/html": [
       "\n",
       "                    Syncing run <strong><a href=\"https://wandb.ai/luiscostigan/house-price-prediction/runs/qpbrkye9\" target=\"_blank\">kind-sweep-9</a></strong> to <a href=\"https://wandb.ai/luiscostigan/house-price-prediction\" target=\"_blank\">Weights & Biases</a> (<a href=\"https://docs.wandb.com/integrations/jupyter.html\" target=\"_blank\">docs</a>).<br/>\n",
       "Sweep page: <a href=\"https://wandb.ai/luiscostigan/house-price-prediction/sweeps/7tqliuqb\" target=\"_blank\">https://wandb.ai/luiscostigan/house-price-prediction/sweeps/7tqliuqb</a><br/>\n",
       "\n",
       "                "
      ],
      "text/plain": [
       "<IPython.core.display.HTML object>"
      ]
     },
     "metadata": {},
     "output_type": "display_data"
    },
    {
     "name": "stdout",
     "output_type": "stream",
     "text": [
      "30/30 [==============================] - 0s 2ms/step - loss: 1127319296.0000 - mae: 19111.4023\n",
      "Score for fold 4: loss of 1127319296.0; mae of 19111.40234375\n",
      "------------------------------------------------------------------------\n",
      "Score per fold\n",
      "------------------------------------------------------------------------\n",
      "> Fold 1 - Loss: 1108611200.0 - Accuracy: 19097.173828125%\n",
      "------------------------------------------------------------------------\n",
      "> Fold 2 - Loss: 1136262784.0 - Accuracy: 19139.431640625%\n",
      "------------------------------------------------------------------------\n",
      "> Fold 3 - Loss: 1133391872.0 - Accuracy: 19026.53515625%\n",
      "------------------------------------------------------------------------\n",
      "> Fold 4 - Loss: 1127319296.0 - Accuracy: 19111.40234375%\n",
      "------------------------------------------------------------------------\n",
      "Average scores for all folds:\n",
      "> MAE: 19093.6357421875 (+- 41.61707320930738)\n",
      "> Loss: 1126396288.0\n",
      "------------------------------------------------------------------------\n"
     ]
    },
    {
     "data": {
      "text/html": [
       "<br/>Waiting for W&B process to finish, PID 11201... <strong style=\"color:green\">(success).</strong>"
      ],
      "text/plain": [
       "<IPython.core.display.HTML object>"
      ]
     },
     "metadata": {},
     "output_type": "display_data"
    },
    {
     "data": {
      "application/vnd.jupyter.widget-view+json": {
       "model_id": "a89803b85c7e42a4a3c14d2c2d660a40",
       "version_major": 2,
       "version_minor": 0
      },
      "text/plain": [
       "VBox(children=(Label(value=' 2.37MB of 2.45MB uploaded (0.00MB deduped)\\r'), FloatProgress(value=0.96560049617…"
      ]
     },
     "metadata": {},
     "output_type": "display_data"
    },
    {
     "data": {
      "text/html": [
       "<style>\n",
       "    table.wandb td:nth-child(1) { padding: 0 10px; text-align: right }\n",
       "    .wandb-row { display: flex; flex-direction: row; flex-wrap: wrap; width: 100% }\n",
       "    .wandb-col { display: flex; flex-direction: column; flex-basis: 100%; flex: 1; padding: 10px; }\n",
       "    </style>\n",
       "<div class=\"wandb-row\"><div class=\"wandb-col\">\n",
       "<h3>Run history:</h3><br/><table class=\"wandb\"><tr><td>Mean Validation Loss (all folds)</td><td>▁</td></tr><tr><td>Mean Validation MAE (all folds)</td><td>▁</td></tr><tr><td>epoch</td><td>▁▁▁▁▂▂▂▂▂▃▃▃▃▃▃▄▄▄▄▄▅▅▅▅▅▅▆▆▆▆▆▇▇▇▇▇▇███</td></tr><tr><td>loss</td><td>██████▇▇▇▆▆▅▄▄▃▂▂▂▁▁▁▁▁▁▁▁▁▁▁▁▁▁▁▁▁▁▁▁▁▁</td></tr><tr><td>mae</td><td>███████▇▇▇▆▆▅▅▄▃▃▂▂▁▁▁▁▁▁▁▁▁▁▁▁▁▁▁▁▁▁▁▁▁</td></tr><tr><td>val_loss</td><td>██████▇▇▆▆▅▅▄▃▃▂▂▂▁▁▁▁▁▁▁▁▁▁▁▁▁▁▁▁▁▁▁▁▁▁</td></tr><tr><td>val_mae</td><td>███████▇▇▇▆▆▅▄▄▃▃▂▂▁▁▁▁▁▁▁▁▁▁▁▁▁▁▁▁▁▁▁▁▁</td></tr></table><br/></div><div class=\"wandb-col\">\n",
       "<h3>Run summary:</h3><br/><table class=\"wandb\"><tr><td>Mean Validation Loss (all folds)</td><td>1126396288.0</td></tr><tr><td>Mean Validation MAE (all folds)</td><td>19093.63574</td></tr><tr><td>best_epoch</td><td>99</td></tr><tr><td>best_val_loss</td><td>1127319424.0</td></tr><tr><td>epoch</td><td>99</td></tr><tr><td>loss</td><td>1290078720.0</td></tr><tr><td>mae</td><td>22252.89062</td></tr><tr><td>val_loss</td><td>1127319424.0</td></tr><tr><td>val_mae</td><td>19111.40039</td></tr></table>\n",
       "</div></div>\n",
       "Synced 5 W&B file(s), 0 media file(s), 0 artifact file(s) and 1 other file(s)\n",
       "<br/>Synced <strong style=\"color:#cdcd00\">kind-sweep-9</strong>: <a href=\"https://wandb.ai/luiscostigan/house-price-prediction/runs/qpbrkye9\" target=\"_blank\">https://wandb.ai/luiscostigan/house-price-prediction/runs/qpbrkye9</a><br/>\n",
       "Find logs at: <code>./wandb/run-20220301_080146-qpbrkye9/logs</code><br/>\n"
      ],
      "text/plain": [
       "<IPython.core.display.HTML object>"
      ]
     },
     "metadata": {},
     "output_type": "display_data"
    },
    {
     "data": {
      "text/html": [
       "\n",
       "                    Syncing run <strong><a href=\"https://wandb.ai/luiscostigan/house-price-prediction/runs/qpbrkye9\" target=\"_blank\">kind-sweep-9</a></strong> to <a href=\"https://wandb.ai/luiscostigan/house-price-prediction\" target=\"_blank\">Weights & Biases</a> (<a href=\"https://docs.wandb.com/integrations/jupyter.html\" target=\"_blank\">docs</a>).<br/>\n",
       "Sweep page: <a href=\"https://wandb.ai/luiscostigan/house-price-prediction/sweeps/7tqliuqb\" target=\"_blank\">https://wandb.ai/luiscostigan/house-price-prediction/sweeps/7tqliuqb</a><br/>\n",
       "\n",
       "                "
      ],
      "text/plain": [
       "<IPython.core.display.HTML object>"
      ]
     },
     "metadata": {},
     "output_type": "display_data"
    },
    {
     "name": "stdout",
     "output_type": "stream",
     "text": [
      "30/30 [==============================] - 0s 2ms/step - loss: 1145597824.0000 - mae: 19046.3477\n",
      "Score for fold 5: loss of 1145597824.0; mae of 19046.34765625\n",
      "------------------------------------------------------------------------\n",
      "Score per fold\n",
      "------------------------------------------------------------------------\n",
      "> Fold 1 - Loss: 1108611200.0 - Accuracy: 19097.173828125%\n",
      "------------------------------------------------------------------------\n",
      "> Fold 2 - Loss: 1136262784.0 - Accuracy: 19139.431640625%\n",
      "------------------------------------------------------------------------\n",
      "> Fold 3 - Loss: 1133391872.0 - Accuracy: 19026.53515625%\n",
      "------------------------------------------------------------------------\n",
      "> Fold 4 - Loss: 1127319296.0 - Accuracy: 19111.40234375%\n",
      "------------------------------------------------------------------------\n",
      "> Fold 5 - Loss: 1145597824.0 - Accuracy: 19046.34765625%\n",
      "------------------------------------------------------------------------\n",
      "Average scores for all folds:\n",
      "> MAE: 19084.178125 (+- 41.75369106400369)\n",
      "> Loss: 1130236595.2\n",
      "------------------------------------------------------------------------\n"
     ]
    },
    {
     "data": {
      "text/html": [
       "<br/>Waiting for W&B process to finish, PID 13352... <strong style=\"color:green\">(success).</strong>"
      ],
      "text/plain": [
       "<IPython.core.display.HTML object>"
      ]
     },
     "metadata": {},
     "output_type": "display_data"
    },
    {
     "data": {
      "application/vnd.jupyter.widget-view+json": {
       "model_id": "6eb89f049cfd4931a392ab72f17649da",
       "version_major": 2,
       "version_minor": 0
      },
      "text/plain": [
       "VBox(children=(Label(value=' 2.00MB of 2.45MB uploaded (0.00MB deduped)\\r'), FloatProgress(value=0.81588270634…"
      ]
     },
     "metadata": {},
     "output_type": "display_data"
    },
    {
     "data": {
      "text/html": [
       "<style>\n",
       "    table.wandb td:nth-child(1) { padding: 0 10px; text-align: right }\n",
       "    .wandb-row { display: flex; flex-direction: row; flex-wrap: wrap; width: 100% }\n",
       "    .wandb-col { display: flex; flex-direction: column; flex-basis: 100%; flex: 1; padding: 10px; }\n",
       "    </style>\n",
       "<div class=\"wandb-row\"><div class=\"wandb-col\">\n",
       "<h3>Run history:</h3><br/><table class=\"wandb\"><tr><td>Mean Validation Loss (all folds)</td><td>▁</td></tr><tr><td>Mean Validation MAE (all folds)</td><td>▁</td></tr><tr><td>epoch</td><td>▁▁▁▁▂▂▂▂▂▃▃▃▃▃▃▄▄▄▄▄▅▅▅▅▅▅▆▆▆▆▆▇▇▇▇▇▇███</td></tr><tr><td>loss</td><td>██████▇▇▇▆▆▅▅▄▃▃▂▂▂▁▁▁▁▁▁▁▁▁▁▁▁▁▁▁▁▁▁▁▁▁</td></tr><tr><td>mae</td><td>███████▇▇▇▆▆▅▅▄▃▃▂▂▁▁▁▁▁▁▁▁▁▁▁▁▁▁▁▁▁▁▁▁▁</td></tr><tr><td>val_loss</td><td>██████▇▇▇▆▆▅▄▄▃▂▂▂▁▁▁▁▁▁▁▁▁▁▁▁▁▁▁▁▁▁▁▁▁▁</td></tr><tr><td>val_mae</td><td>███████▇▇▇▆▆▅▅▄▃▃▂▂▁▁▁▁▁▁▁▁▁▁▁▁▁▁▁▁▁▁▁▁▁</td></tr></table><br/></div><div class=\"wandb-col\">\n",
       "<h3>Run summary:</h3><br/><table class=\"wandb\"><tr><td>Mean Validation Loss (all folds)</td><td>1130236595.2</td></tr><tr><td>Mean Validation MAE (all folds)</td><td>19084.17812</td></tr><tr><td>best_epoch</td><td>99</td></tr><tr><td>best_val_loss</td><td>1145597568.0</td></tr><tr><td>epoch</td><td>99</td></tr><tr><td>loss</td><td>1392003840.0</td></tr><tr><td>mae</td><td>22542.06055</td></tr><tr><td>val_loss</td><td>1145597568.0</td></tr><tr><td>val_mae</td><td>19046.34766</td></tr></table>\n",
       "</div></div>\n",
       "Synced 5 W&B file(s), 0 media file(s), 0 artifact file(s) and 1 other file(s)\n",
       "<br/>Synced <strong style=\"color:#cdcd00\">kind-sweep-9</strong>: <a href=\"https://wandb.ai/luiscostigan/house-price-prediction/runs/qpbrkye9\" target=\"_blank\">https://wandb.ai/luiscostigan/house-price-prediction/runs/qpbrkye9</a><br/>\n",
       "Find logs at: <code>./wandb/run-20220301_080202-qpbrkye9/logs</code><br/>\n"
      ],
      "text/plain": [
       "<IPython.core.display.HTML object>"
      ]
     },
     "metadata": {},
     "output_type": "display_data"
    },
    {
     "name": "stderr",
     "output_type": "stream",
     "text": [
      "\u001b[34m\u001b[1mwandb\u001b[0m: Agent Starting Run: ojpielp3 with config:\n",
      "\u001b[34m\u001b[1mwandb\u001b[0m: \tbatch_size: 128\n",
      "\u001b[34m\u001b[1mwandb\u001b[0m: \tdropout1: 0.49199496818658073\n",
      "\u001b[34m\u001b[1mwandb\u001b[0m: \tepochs: 100\n"
     ]
    },
    {
     "data": {
      "text/html": [
       "\n",
       "                    Syncing run <strong><a href=\"https://wandb.ai/luiscostigan/house-price-prediction/runs/ojpielp3\" target=\"_blank\">cool-sweep-10</a></strong> to <a href=\"https://wandb.ai/luiscostigan/house-price-prediction\" target=\"_blank\">Weights & Biases</a> (<a href=\"https://docs.wandb.com/integrations/jupyter.html\" target=\"_blank\">docs</a>).<br/>\n",
       "Sweep page: <a href=\"https://wandb.ai/luiscostigan/house-price-prediction/sweeps/7tqliuqb\" target=\"_blank\">https://wandb.ai/luiscostigan/house-price-prediction/sweeps/7tqliuqb</a><br/>\n",
       "\n",
       "                "
      ],
      "text/plain": [
       "<IPython.core.display.HTML object>"
      ]
     },
     "metadata": {},
     "output_type": "display_data"
    },
    {
     "name": "stdout",
     "output_type": "stream",
     "text": [
      "30/30 [==============================] - 0s 2ms/step - loss: 658464384.0000 - mae: 14438.5898\n",
      "Score for fold 1: loss of 658464384.0; mae of 14438.58984375\n",
      "------------------------------------------------------------------------\n",
      "Score per fold\n",
      "------------------------------------------------------------------------\n",
      "> Fold 1 - Loss: 658464384.0 - Accuracy: 14438.58984375%\n",
      "------------------------------------------------------------------------\n",
      "Average scores for all folds:\n",
      "> MAE: 14438.58984375 (+- 0.0)\n",
      "> Loss: 658464384.0\n",
      "------------------------------------------------------------------------\n"
     ]
    },
    {
     "data": {
      "text/html": [
       "<br/>Waiting for W&B process to finish, PID 15587... <strong style=\"color:green\">(success).</strong>"
      ],
      "text/plain": [
       "<IPython.core.display.HTML object>"
      ]
     },
     "metadata": {},
     "output_type": "display_data"
    },
    {
     "data": {
      "application/vnd.jupyter.widget-view+json": {
       "model_id": "75346f4d0e7a427ca3db642d18f17f40",
       "version_major": 2,
       "version_minor": 0
      },
      "text/plain": [
       "VBox(children=(Label(value=' 0.53MB of 2.45MB uploaded (0.00MB deduped)\\r'), FloatProgress(value=0.21701964831…"
      ]
     },
     "metadata": {},
     "output_type": "display_data"
    },
    {
     "data": {
      "text/html": [
       "<style>\n",
       "    table.wandb td:nth-child(1) { padding: 0 10px; text-align: right }\n",
       "    .wandb-row { display: flex; flex-direction: row; flex-wrap: wrap; width: 100% }\n",
       "    .wandb-col { display: flex; flex-direction: column; flex-basis: 100%; flex: 1; padding: 10px; }\n",
       "    </style>\n",
       "<div class=\"wandb-row\"><div class=\"wandb-col\">\n",
       "<h3>Run history:</h3><br/><table class=\"wandb\"><tr><td>Mean Validation Loss (all folds)</td><td>▁</td></tr><tr><td>Mean Validation MAE (all folds)</td><td>▁</td></tr><tr><td>epoch</td><td>▁▁▁▁▂▂▂▂▂▃▃▃▃▃▃▄▄▄▄▄▅▅▅▅▅▅▆▆▆▆▆▇▇▇▇▇▇███</td></tr><tr><td>loss</td><td>██▆▅▂▁▁▁▁▁▁▁▁▁▁▁▁▁▁▁▁▁▁▁▁▁▁▁▁▁▁▁▁▁▁▁▁▁▁▁</td></tr><tr><td>mae</td><td>██▇▆▃▂▁▁▁▁▁▁▁▁▁▁▁▁▁▁▁▁▁▁▁▁▁▁▁▁▁▁▁▁▁▁▁▁▁▁</td></tr><tr><td>val_loss</td><td>██▆▄▂▁▁▁▁▁▁▁▁▁▁▁▁▁▁▁▁▁▁▁▁▁▁▁▁▁▁▁▁▁▁▁▁▁▁▁</td></tr><tr><td>val_mae</td><td>██▇▅▂▂▁▁▁▁▁▁▁▁▁▁▁▁▁▁▁▁▁▁▁▁▁▁▁▁▁▁▁▁▁▁▁▁▁▁</td></tr></table><br/></div><div class=\"wandb-col\">\n",
       "<h3>Run summary:</h3><br/><table class=\"wandb\"><tr><td>Mean Validation Loss (all folds)</td><td>658464384.0</td></tr><tr><td>Mean Validation MAE (all folds)</td><td>14438.58984</td></tr><tr><td>best_epoch</td><td>99</td></tr><tr><td>best_val_loss</td><td>658464448.0</td></tr><tr><td>epoch</td><td>99</td></tr><tr><td>loss</td><td>751373952.0</td></tr><tr><td>mae</td><td>16049.77539</td></tr><tr><td>val_loss</td><td>658464448.0</td></tr><tr><td>val_mae</td><td>14438.58984</td></tr></table>\n",
       "</div></div>\n",
       "Synced 5 W&B file(s), 0 media file(s), 0 artifact file(s) and 1 other file(s)\n",
       "<br/>Synced <strong style=\"color:#cdcd00\">cool-sweep-10</strong>: <a href=\"https://wandb.ai/luiscostigan/house-price-prediction/runs/ojpielp3\" target=\"_blank\">https://wandb.ai/luiscostigan/house-price-prediction/runs/ojpielp3</a><br/>\n",
       "Find logs at: <code>./wandb/run-20220301_080222-ojpielp3/logs</code><br/>\n"
      ],
      "text/plain": [
       "<IPython.core.display.HTML object>"
      ]
     },
     "metadata": {},
     "output_type": "display_data"
    },
    {
     "data": {
      "text/html": [
       "\n",
       "                    Syncing run <strong><a href=\"https://wandb.ai/luiscostigan/house-price-prediction/runs/ojpielp3\" target=\"_blank\">cool-sweep-10</a></strong> to <a href=\"https://wandb.ai/luiscostigan/house-price-prediction\" target=\"_blank\">Weights & Biases</a> (<a href=\"https://docs.wandb.com/integrations/jupyter.html\" target=\"_blank\">docs</a>).<br/>\n",
       "Sweep page: <a href=\"https://wandb.ai/luiscostigan/house-price-prediction/sweeps/7tqliuqb\" target=\"_blank\">https://wandb.ai/luiscostigan/house-price-prediction/sweeps/7tqliuqb</a><br/>\n",
       "\n",
       "                "
      ],
      "text/plain": [
       "<IPython.core.display.HTML object>"
      ]
     },
     "metadata": {},
     "output_type": "display_data"
    },
    {
     "name": "stdout",
     "output_type": "stream",
     "text": [
      "30/30 [==============================] - 0s 2ms/step - loss: 673840384.0000 - mae: 14713.4551\n",
      "Score for fold 2: loss of 673840384.0; mae of 14713.455078125\n",
      "------------------------------------------------------------------------\n",
      "Score per fold\n",
      "------------------------------------------------------------------------\n",
      "> Fold 1 - Loss: 658464384.0 - Accuracy: 14438.58984375%\n",
      "------------------------------------------------------------------------\n",
      "> Fold 2 - Loss: 673840384.0 - Accuracy: 14713.455078125%\n",
      "------------------------------------------------------------------------\n",
      "Average scores for all folds:\n",
      "> MAE: 14576.0224609375 (+- 137.4326171875)\n",
      "> Loss: 666152384.0\n",
      "------------------------------------------------------------------------\n"
     ]
    },
    {
     "data": {
      "text/html": [
       "<br/>Waiting for W&B process to finish, PID 17747... <strong style=\"color:green\">(success).</strong>"
      ],
      "text/plain": [
       "<IPython.core.display.HTML object>"
      ]
     },
     "metadata": {},
     "output_type": "display_data"
    },
    {
     "data": {
      "application/vnd.jupyter.widget-view+json": {
       "model_id": "1d23901f74bd4a8cb8abfe832d30beeb",
       "version_major": 2,
       "version_minor": 0
      },
      "text/plain": [
       "VBox(children=(Label(value=' 1.64MB of 2.45MB uploaded (0.00MB deduped)\\r'), FloatProgress(value=0.66935040139…"
      ]
     },
     "metadata": {},
     "output_type": "display_data"
    },
    {
     "data": {
      "text/html": [
       "<style>\n",
       "    table.wandb td:nth-child(1) { padding: 0 10px; text-align: right }\n",
       "    .wandb-row { display: flex; flex-direction: row; flex-wrap: wrap; width: 100% }\n",
       "    .wandb-col { display: flex; flex-direction: column; flex-basis: 100%; flex: 1; padding: 10px; }\n",
       "    </style>\n",
       "<div class=\"wandb-row\"><div class=\"wandb-col\">\n",
       "<h3>Run history:</h3><br/><table class=\"wandb\"><tr><td>Mean Validation Loss (all folds)</td><td>▁</td></tr><tr><td>Mean Validation MAE (all folds)</td><td>▁</td></tr><tr><td>epoch</td><td>▁▁▁▁▂▂▂▂▂▃▃▃▃▃▃▄▄▄▄▄▅▅▅▅▅▅▆▆▆▆▆▇▇▇▇▇▇███</td></tr><tr><td>loss</td><td>██▇▅▂▁▁▁▁▁▁▁▁▁▁▁▁▁▁▁▁▁▁▁▁▁▁▁▁▁▁▁▁▁▁▁▁▁▁▁</td></tr><tr><td>mae</td><td>██▇▆▃▂▂▁▁▁▁▁▁▁▁▁▁▁▁▁▁▁▁▁▁▁▁▁▁▁▁▁▁▁▁▁▁▁▁▁</td></tr><tr><td>val_loss</td><td>██▆▄▂▁▁▁▁▁▁▁▁▁▁▁▁▁▁▁▁▁▁▁▁▁▁▁▁▁▁▁▁▁▁▁▁▁▁▁</td></tr><tr><td>val_mae</td><td>██▇▅▂▂▁▁▁▁▁▁▁▁▁▁▁▁▁▁▁▁▁▁▁▁▁▁▁▁▁▁▁▁▁▁▁▁▁▁</td></tr></table><br/></div><div class=\"wandb-col\">\n",
       "<h3>Run summary:</h3><br/><table class=\"wandb\"><tr><td>Mean Validation Loss (all folds)</td><td>666152384.0</td></tr><tr><td>Mean Validation MAE (all folds)</td><td>14576.02246</td></tr><tr><td>best_epoch</td><td>97</td></tr><tr><td>best_val_loss</td><td>671980736.0</td></tr><tr><td>epoch</td><td>99</td></tr><tr><td>loss</td><td>733344704.0</td></tr><tr><td>mae</td><td>15880.01465</td></tr><tr><td>val_loss</td><td>673840320.0</td></tr><tr><td>val_mae</td><td>14713.45312</td></tr></table>\n",
       "</div></div>\n",
       "Synced 5 W&B file(s), 0 media file(s), 0 artifact file(s) and 1 other file(s)\n",
       "<br/>Synced <strong style=\"color:#cdcd00\">cool-sweep-10</strong>: <a href=\"https://wandb.ai/luiscostigan/house-price-prediction/runs/ojpielp3\" target=\"_blank\">https://wandb.ai/luiscostigan/house-price-prediction/runs/ojpielp3</a><br/>\n",
       "Find logs at: <code>./wandb/run-20220301_080240-ojpielp3/logs</code><br/>\n"
      ],
      "text/plain": [
       "<IPython.core.display.HTML object>"
      ]
     },
     "metadata": {},
     "output_type": "display_data"
    },
    {
     "data": {
      "text/html": [
       "\n",
       "                    Syncing run <strong><a href=\"https://wandb.ai/luiscostigan/house-price-prediction/runs/ojpielp3\" target=\"_blank\">cool-sweep-10</a></strong> to <a href=\"https://wandb.ai/luiscostigan/house-price-prediction\" target=\"_blank\">Weights & Biases</a> (<a href=\"https://docs.wandb.com/integrations/jupyter.html\" target=\"_blank\">docs</a>).<br/>\n",
       "Sweep page: <a href=\"https://wandb.ai/luiscostigan/house-price-prediction/sweeps/7tqliuqb\" target=\"_blank\">https://wandb.ai/luiscostigan/house-price-prediction/sweeps/7tqliuqb</a><br/>\n",
       "\n",
       "                "
      ],
      "text/plain": [
       "<IPython.core.display.HTML object>"
      ]
     },
     "metadata": {},
     "output_type": "display_data"
    },
    {
     "name": "stdout",
     "output_type": "stream",
     "text": [
      "30/30 [==============================] - 0s 2ms/step - loss: 711179200.0000 - mae: 14999.0879\n",
      "Score for fold 3: loss of 711179200.0; mae of 14999.087890625\n",
      "------------------------------------------------------------------------\n",
      "Score per fold\n",
      "------------------------------------------------------------------------\n",
      "> Fold 1 - Loss: 658464384.0 - Accuracy: 14438.58984375%\n",
      "------------------------------------------------------------------------\n",
      "> Fold 2 - Loss: 673840384.0 - Accuracy: 14713.455078125%\n",
      "------------------------------------------------------------------------\n",
      "> Fold 3 - Loss: 711179200.0 - Accuracy: 14999.087890625%\n",
      "------------------------------------------------------------------------\n",
      "Average scores for all folds:\n",
      "> MAE: 14717.044270833334 (+- 228.83644358055616)\n",
      "> Loss: 681161322.6666666\n",
      "------------------------------------------------------------------------\n"
     ]
    },
    {
     "data": {
      "text/html": [
       "<br/>Waiting for W&B process to finish, PID 19895... <strong style=\"color:green\">(success).</strong>"
      ],
      "text/plain": [
       "<IPython.core.display.HTML object>"
      ]
     },
     "metadata": {},
     "output_type": "display_data"
    },
    {
     "data": {
      "application/vnd.jupyter.widget-view+json": {
       "model_id": "fb3de17477904e53a7afc8d184da6514",
       "version_major": 2,
       "version_minor": 0
      },
      "text/plain": [
       "VBox(children=(Label(value=' 1.74MB of 2.45MB uploaded (0.00MB deduped)\\r'), FloatProgress(value=0.70757181781…"
      ]
     },
     "metadata": {},
     "output_type": "display_data"
    },
    {
     "data": {
      "text/html": [
       "<style>\n",
       "    table.wandb td:nth-child(1) { padding: 0 10px; text-align: right }\n",
       "    .wandb-row { display: flex; flex-direction: row; flex-wrap: wrap; width: 100% }\n",
       "    .wandb-col { display: flex; flex-direction: column; flex-basis: 100%; flex: 1; padding: 10px; }\n",
       "    </style>\n",
       "<div class=\"wandb-row\"><div class=\"wandb-col\">\n",
       "<h3>Run history:</h3><br/><table class=\"wandb\"><tr><td>Mean Validation Loss (all folds)</td><td>▁</td></tr><tr><td>Mean Validation MAE (all folds)</td><td>▁</td></tr><tr><td>epoch</td><td>▁▁▁▁▂▂▂▂▂▃▃▃▃▃▃▄▄▄▄▄▅▅▅▅▅▅▆▆▆▆▆▇▇▇▇▇▇███</td></tr><tr><td>loss</td><td>██▇▅▂▂▁▁▁▁▁▁▁▁▁▁▁▁▁▁▁▁▁▁▁▁▁▁▁▁▁▁▁▁▁▁▁▁▁▁</td></tr><tr><td>mae</td><td>██▇▆▃▂▂▁▁▁▁▁▁▁▁▁▁▁▁▁▁▁▁▁▁▁▁▁▁▁▁▁▁▁▁▁▁▁▁▁</td></tr><tr><td>val_loss</td><td>██▆▅▂▁▁▁▁▁▁▁▁▁▁▁▁▁▁▁▁▁▁▁▁▁▁▁▁▁▁▁▁▁▁▁▁▁▁▁</td></tr><tr><td>val_mae</td><td>██▇▆▃▂▂▂▁▁▁▁▁▁▁▁▁▁▁▁▁▁▁▁▁▁▁▁▁▁▁▁▁▁▁▁▁▁▁▁</td></tr></table><br/></div><div class=\"wandb-col\">\n",
       "<h3>Run summary:</h3><br/><table class=\"wandb\"><tr><td>Mean Validation Loss (all folds)</td><td>681161322.66667</td></tr><tr><td>Mean Validation MAE (all folds)</td><td>14717.04427</td></tr><tr><td>best_epoch</td><td>97</td></tr><tr><td>best_val_loss</td><td>692796608.0</td></tr><tr><td>epoch</td><td>99</td></tr><tr><td>loss</td><td>757252288.0</td></tr><tr><td>mae</td><td>16452.79102</td></tr><tr><td>val_loss</td><td>711179136.0</td></tr><tr><td>val_mae</td><td>14999.08691</td></tr></table>\n",
       "</div></div>\n",
       "Synced 5 W&B file(s), 0 media file(s), 0 artifact file(s) and 1 other file(s)\n",
       "<br/>Synced <strong style=\"color:#cdcd00\">cool-sweep-10</strong>: <a href=\"https://wandb.ai/luiscostigan/house-price-prediction/runs/ojpielp3\" target=\"_blank\">https://wandb.ai/luiscostigan/house-price-prediction/runs/ojpielp3</a><br/>\n",
       "Find logs at: <code>./wandb/run-20220301_080257-ojpielp3/logs</code><br/>\n"
      ],
      "text/plain": [
       "<IPython.core.display.HTML object>"
      ]
     },
     "metadata": {},
     "output_type": "display_data"
    },
    {
     "data": {
      "text/html": [
       "\n",
       "                    Syncing run <strong><a href=\"https://wandb.ai/luiscostigan/house-price-prediction/runs/ojpielp3\" target=\"_blank\">cool-sweep-10</a></strong> to <a href=\"https://wandb.ai/luiscostigan/house-price-prediction\" target=\"_blank\">Weights & Biases</a> (<a href=\"https://docs.wandb.com/integrations/jupyter.html\" target=\"_blank\">docs</a>).<br/>\n",
       "Sweep page: <a href=\"https://wandb.ai/luiscostigan/house-price-prediction/sweeps/7tqliuqb\" target=\"_blank\">https://wandb.ai/luiscostigan/house-price-prediction/sweeps/7tqliuqb</a><br/>\n",
       "\n",
       "                "
      ],
      "text/plain": [
       "<IPython.core.display.HTML object>"
      ]
     },
     "metadata": {},
     "output_type": "display_data"
    },
    {
     "name": "stdout",
     "output_type": "stream",
     "text": [
      "30/30 [==============================] - 0s 2ms/step - loss: 661531456.0000 - mae: 14578.4736\n",
      "Score for fold 4: loss of 661531456.0; mae of 14578.4736328125\n",
      "------------------------------------------------------------------------\n",
      "Score per fold\n",
      "------------------------------------------------------------------------\n",
      "> Fold 1 - Loss: 658464384.0 - Accuracy: 14438.58984375%\n",
      "------------------------------------------------------------------------\n",
      "> Fold 2 - Loss: 673840384.0 - Accuracy: 14713.455078125%\n",
      "------------------------------------------------------------------------\n",
      "> Fold 3 - Loss: 711179200.0 - Accuracy: 14999.087890625%\n",
      "------------------------------------------------------------------------\n",
      "> Fold 4 - Loss: 661531456.0 - Accuracy: 14578.4736328125%\n",
      "------------------------------------------------------------------------\n",
      "Average scores for all folds:\n",
      "> MAE: 14682.401611328125 (+- 207.06262339140108)\n",
      "> Loss: 676253856.0\n",
      "------------------------------------------------------------------------\n"
     ]
    },
    {
     "data": {
      "text/html": [
       "<br/>Waiting for W&B process to finish, PID 22038... <strong style=\"color:green\">(success).</strong>"
      ],
      "text/plain": [
       "<IPython.core.display.HTML object>"
      ]
     },
     "metadata": {},
     "output_type": "display_data"
    },
    {
     "data": {
      "application/vnd.jupyter.widget-view+json": {
       "model_id": "11970b3b4cfe4c91a0a3ef7320e92974",
       "version_major": 2,
       "version_minor": 0
      },
      "text/plain": [
       "VBox(children=(Label(value=' 2.45MB of 2.45MB uploaded (0.00MB deduped)\\r'), FloatProgress(value=1.0, max=1.0)…"
      ]
     },
     "metadata": {},
     "output_type": "display_data"
    },
    {
     "data": {
      "text/html": [
       "<style>\n",
       "    table.wandb td:nth-child(1) { padding: 0 10px; text-align: right }\n",
       "    .wandb-row { display: flex; flex-direction: row; flex-wrap: wrap; width: 100% }\n",
       "    .wandb-col { display: flex; flex-direction: column; flex-basis: 100%; flex: 1; padding: 10px; }\n",
       "    </style>\n",
       "<div class=\"wandb-row\"><div class=\"wandb-col\">\n",
       "<h3>Run history:</h3><br/><table class=\"wandb\"><tr><td>Mean Validation Loss (all folds)</td><td>▁</td></tr><tr><td>Mean Validation MAE (all folds)</td><td>▁</td></tr><tr><td>epoch</td><td>▁▁▁▁▂▂▂▂▂▃▃▃▃▃▃▄▄▄▄▄▅▅▅▅▅▅▆▆▆▆▆▇▇▇▇▇▇███</td></tr><tr><td>loss</td><td>██▆▅▂▁▁▁▁▁▁▁▁▁▁▁▁▁▁▁▁▁▁▁▁▁▁▁▁▁▁▁▁▁▁▁▁▁▁▁</td></tr><tr><td>mae</td><td>██▇▆▃▂▂▁▁▁▁▁▁▁▁▁▁▁▁▁▁▁▁▁▁▁▁▁▁▁▁▁▁▁▁▁▁▁▁▁</td></tr><tr><td>val_loss</td><td>██▆▄▂▁▁▁▁▁▁▁▁▁▁▁▁▁▁▁▁▁▁▁▁▁▁▁▁▁▁▁▁▁▁▁▁▁▁▁</td></tr><tr><td>val_mae</td><td>██▇▅▂▂▂▂▁▁▁▁▁▁▁▁▁▁▁▁▁▁▁▁▁▁▁▁▁▁▁▁▁▁▁▁▁▁▁▁</td></tr></table><br/></div><div class=\"wandb-col\">\n",
       "<h3>Run summary:</h3><br/><table class=\"wandb\"><tr><td>Mean Validation Loss (all folds)</td><td>676253856.0</td></tr><tr><td>Mean Validation MAE (all folds)</td><td>14682.40161</td></tr><tr><td>best_epoch</td><td>99</td></tr><tr><td>best_val_loss</td><td>661531584.0</td></tr><tr><td>epoch</td><td>99</td></tr><tr><td>loss</td><td>772395200.0</td></tr><tr><td>mae</td><td>16656.55469</td></tr><tr><td>val_loss</td><td>661531584.0</td></tr><tr><td>val_mae</td><td>14578.47559</td></tr></table>\n",
       "</div></div>\n",
       "Synced 5 W&B file(s), 0 media file(s), 0 artifact file(s) and 1 other file(s)\n",
       "<br/>Synced <strong style=\"color:#cdcd00\">cool-sweep-10</strong>: <a href=\"https://wandb.ai/luiscostigan/house-price-prediction/runs/ojpielp3\" target=\"_blank\">https://wandb.ai/luiscostigan/house-price-prediction/runs/ojpielp3</a><br/>\n",
       "Find logs at: <code>./wandb/run-20220301_080314-ojpielp3/logs</code><br/>\n"
      ],
      "text/plain": [
       "<IPython.core.display.HTML object>"
      ]
     },
     "metadata": {},
     "output_type": "display_data"
    },
    {
     "data": {
      "text/html": [
       "\n",
       "                    Syncing run <strong><a href=\"https://wandb.ai/luiscostigan/house-price-prediction/runs/ojpielp3\" target=\"_blank\">cool-sweep-10</a></strong> to <a href=\"https://wandb.ai/luiscostigan/house-price-prediction\" target=\"_blank\">Weights & Biases</a> (<a href=\"https://docs.wandb.com/integrations/jupyter.html\" target=\"_blank\">docs</a>).<br/>\n",
       "Sweep page: <a href=\"https://wandb.ai/luiscostigan/house-price-prediction/sweeps/7tqliuqb\" target=\"_blank\">https://wandb.ai/luiscostigan/house-price-prediction/sweeps/7tqliuqb</a><br/>\n",
       "\n",
       "                "
      ],
      "text/plain": [
       "<IPython.core.display.HTML object>"
      ]
     },
     "metadata": {},
     "output_type": "display_data"
    },
    {
     "name": "stdout",
     "output_type": "stream",
     "text": [
      "30/30 [==============================] - 0s 2ms/step - loss: 688282560.0000 - mae: 14666.3916\n",
      "Score for fold 5: loss of 688282560.0; mae of 14666.3916015625\n",
      "------------------------------------------------------------------------\n",
      "Score per fold\n",
      "------------------------------------------------------------------------\n",
      "> Fold 1 - Loss: 658464384.0 - Accuracy: 14438.58984375%\n",
      "------------------------------------------------------------------------\n",
      "> Fold 2 - Loss: 673840384.0 - Accuracy: 14713.455078125%\n",
      "------------------------------------------------------------------------\n",
      "> Fold 3 - Loss: 711179200.0 - Accuracy: 14999.087890625%\n",
      "------------------------------------------------------------------------\n",
      "> Fold 4 - Loss: 661531456.0 - Accuracy: 14578.4736328125%\n",
      "------------------------------------------------------------------------\n",
      "> Fold 5 - Loss: 688282560.0 - Accuracy: 14666.3916015625%\n",
      "------------------------------------------------------------------------\n",
      "Average scores for all folds:\n",
      "> MAE: 14679.199609375 (+- 185.3131276262279)\n",
      "> Loss: 678659596.8\n",
      "------------------------------------------------------------------------\n"
     ]
    },
    {
     "data": {
      "text/html": [
       "<br/>Waiting for W&B process to finish, PID 24191... <strong style=\"color:green\">(success).</strong>"
      ],
      "text/plain": [
       "<IPython.core.display.HTML object>"
      ]
     },
     "metadata": {},
     "output_type": "display_data"
    },
    {
     "data": {
      "application/vnd.jupyter.widget-view+json": {
       "model_id": "10749d5e474847e399ebc3d223767df8",
       "version_major": 2,
       "version_minor": 0
      },
      "text/plain": [
       "VBox(children=(Label(value=' 2.13MB of 2.45MB uploaded (0.00MB deduped)\\r'), FloatProgress(value=0.87003594947…"
      ]
     },
     "metadata": {},
     "output_type": "display_data"
    },
    {
     "data": {
      "text/html": [
       "<style>\n",
       "    table.wandb td:nth-child(1) { padding: 0 10px; text-align: right }\n",
       "    .wandb-row { display: flex; flex-direction: row; flex-wrap: wrap; width: 100% }\n",
       "    .wandb-col { display: flex; flex-direction: column; flex-basis: 100%; flex: 1; padding: 10px; }\n",
       "    </style>\n",
       "<div class=\"wandb-row\"><div class=\"wandb-col\">\n",
       "<h3>Run history:</h3><br/><table class=\"wandb\"><tr><td>Mean Validation Loss (all folds)</td><td>▁</td></tr><tr><td>Mean Validation MAE (all folds)</td><td>▁</td></tr><tr><td>epoch</td><td>▁▁▁▁▂▂▂▂▂▃▃▃▃▃▃▄▄▄▄▄▅▅▅▅▅▅▆▆▆▆▆▇▇▇▇▇▇███</td></tr><tr><td>loss</td><td>██▆▅▂▁▁▁▁▁▁▁▁▁▁▁▁▁▁▁▁▁▁▁▁▁▁▁▁▁▁▁▁▁▁▁▁▁▁▁</td></tr><tr><td>mae</td><td>██▇▆▃▂▂▁▁▁▁▁▁▁▁▁▁▁▁▁▁▁▁▁▁▁▁▁▁▁▁▁▁▁▁▁▁▁▁▁</td></tr><tr><td>val_loss</td><td>██▆▄▂▁▁▁▁▁▁▁▁▁▁▁▁▁▁▁▁▁▁▁▁▁▁▁▁▁▁▁▁▁▁▁▁▁▁▁</td></tr><tr><td>val_mae</td><td>██▇▅▂▂▁▁▁▁▁▁▁▁▁▁▁▁▁▁▁▁▁▁▁▁▁▁▁▁▁▁▁▁▁▁▁▁▁▁</td></tr></table><br/></div><div class=\"wandb-col\">\n",
       "<h3>Run summary:</h3><br/><table class=\"wandb\"><tr><td>Mean Validation Loss (all folds)</td><td>678659596.8</td></tr><tr><td>Mean Validation MAE (all folds)</td><td>14679.19961</td></tr><tr><td>best_epoch</td><td>98</td></tr><tr><td>best_val_loss</td><td>677519040.0</td></tr><tr><td>epoch</td><td>99</td></tr><tr><td>loss</td><td>795953216.0</td></tr><tr><td>mae</td><td>16347.73145</td></tr><tr><td>val_loss</td><td>688282560.0</td></tr><tr><td>val_mae</td><td>14666.39062</td></tr></table>\n",
       "</div></div>\n",
       "Synced 5 W&B file(s), 0 media file(s), 0 artifact file(s) and 1 other file(s)\n",
       "<br/>Synced <strong style=\"color:#cdcd00\">cool-sweep-10</strong>: <a href=\"https://wandb.ai/luiscostigan/house-price-prediction/runs/ojpielp3\" target=\"_blank\">https://wandb.ai/luiscostigan/house-price-prediction/runs/ojpielp3</a><br/>\n",
       "Find logs at: <code>./wandb/run-20220301_080331-ojpielp3/logs</code><br/>\n"
      ],
      "text/plain": [
       "<IPython.core.display.HTML object>"
      ]
     },
     "metadata": {},
     "output_type": "display_data"
    }
   ],
   "source": [
    "from wandb.keras import WandbCallback\n",
    "\n",
    "sweep_config = {\n",
    "  \"name\": \"keras-sequential-model-sweep\",\n",
    "  \"method\": \"random\",\n",
    "  \"parameters\": {\n",
    "    \"dropout1\": {\n",
    "      \"min\": 0.0,\n",
    "      \"max\": 0.8\n",
    "    },\n",
    "    \"epochs\": {\n",
    "      \"values\": [30,50,100]\n",
    "    },\n",
    "    \"batch_size\": {\n",
    "      \"values\": [16, 64, 128, 512]\n",
    "    }\n",
    "  }\n",
    "}\n",
    "\n",
    "config_defaults = {\n",
    "  \"dropout1\": 0.5,\n",
    "  \"epochs\": 50,\n",
    "  \"batch_size\": 64\n",
    "}\n",
    "\n",
    "def train():\n",
    "\n",
    "  mae_per_fold = []\n",
    "  loss_per_fold = []\n",
    "  fold_no = 1\n",
    "\n",
    "  # Go through each split, and get the index number for each (currently 50, 10 x 5 repeated k-fold) \n",
    "  for train, test in kf.split(X_train, y_train):\n",
    "\n",
    "    # With the current session in WandB\n",
    "    with wandb.init(config=config_defaults) as run:\n",
    "\n",
    "      # Recreate the model each time for each new batch\n",
    "      model = None # Not sure if this step is necessary\n",
    "      model = create_model()\n",
    "\n",
    "      # Fit model on new batches\n",
    "      model.fit(\n",
    "        np.asarray(X_train), \n",
    "        y_train, \n",
    "        epochs=wandb.config.epochs, \n",
    "        batch_size=wandb.config.batch_size, \n",
    "        verbose=0,\n",
    "        callbacks=[WandbCallback()], \n",
    "        validation_data=(np.asarray(X_train),y_train)\n",
    "        )\n",
    "      \n",
    "      # Generate data for each\n",
    "      scores = model.evaluate(np.asarray(X_train), y_train, callbacks=[WandbCallback()])\n",
    "      print(f'Score for fold {fold_no}: {model.metrics_names[0]} of {scores[0]}; {model.metrics_names[1]} of {scores[1]}')\n",
    "      mae_per_fold.append(scores[1])\n",
    "      loss_per_fold.append(scores[0])\n",
    "\n",
    "      # Increase fold number\n",
    "      fold_no = fold_no + 1\n",
    "\n",
    "      # == Provide average scores ==\n",
    "      print('------------------------------------------------------------------------')\n",
    "      print('Score per fold')\n",
    "      for i in range(0, len(mae_per_fold)):\n",
    "        print('------------------------------------------------------------------------')\n",
    "        print(f'> Fold {i+1} - Loss: {loss_per_fold[i]} - MAE: {mae_per_fold[i]}%')\n",
    "      print('------------------------------------------------------------------------')\n",
    "      print('Average scores for all folds:')\n",
    "      print(f'> MAE: {np.mean(mae_per_fold)} (+- {np.std(mae_per_fold)})')\n",
    "      print(f'> Loss: {np.mean(loss_per_fold)}')\n",
    "      print('------------------------------------------------------------------------')\n",
    "\n",
    "      wandb.log({\n",
    "        \"Mean Validation MAE (all folds)\": np.mean(mae_per_fold),\n",
    "        \"Mean Validation Loss (all folds)\": np.mean(loss_per_fold) \n",
    "        })\n",
    "\n",
    "keras_sequential_sweep_1 = wandb.sweep(sweep_config, project=\"house-price-prediction\", entity=\"luiscostigan\")\n",
    "\n",
    "count = 10\n",
    "wandb.agent(keras_sequential_sweep_1, function=train, count=count)"
   ]
  },
  {
   "cell_type": "markdown",
   "id": "a3fd60be-6f5c-4031-9cc8-c6f3d3b5b551",
   "metadata": {},
   "source": [
    "Train the model with Hyperopt to find best parameters.\n",
    "Retrain model with new best parameters.\n",
    "Make predictions."
   ]
  },
  {
   "cell_type": "code",
   "execution_count": 9,
   "id": "7b238b8d-bf25-43da-acdb-7caa72dec5df",
   "metadata": {},
   "outputs": [],
   "source": [
    "# Enter best params from sweep\n",
    "best_params = {\n",
    "    \"dropout\": 0.4863,\n",
    "    \"epochs\": 100,\n",
    "    \"batch_size\": 16\n",
    "}\n",
    "\n",
    "def make_predictions(best_params):\n",
    "    \n",
    "    model = Sequential()\n",
    "    model.add(Dense(64, input_dim=X_train.shape[1], activation='relu'))\n",
    "    model.add(Dense(512, activation='relu'))\n",
    "    model.add(Dropout(best_params.get(\"dropout\")))\n",
    "    model.add(Dense(512, activation='relu'))\n",
    "    model.add(Dense(1))\n",
    "    model.compile(optimizer='rmsprop', loss=\"mse\", metrics=[\"mae\"])\n",
    "              \n",
    "    model.fit(X_train, y_train, epochs=best_params.get(\"epochs\"),\n",
    "              batch_size=best_params.get(\"batch_size\"), verbose = 0)\n",
    "    \n",
    "    preds  = model.predict(X_test, best_params.get(\"batch_size\"), verbose = 0)\n",
    "              \n",
    "    return preds"
   ]
  },
  {
   "cell_type": "code",
   "execution_count": 10,
   "id": "73e3b4ec-1072-44a8-82b7-620ce29e29db",
   "metadata": {},
   "outputs": [],
   "source": [
    "predictions = make_predictions(best_params)"
   ]
  },
  {
   "cell_type": "code",
   "execution_count": 14,
   "id": "6927d8b7",
   "metadata": {},
   "outputs": [
    {
     "data": {
      "text/html": [
       "<div>\n",
       "<style scoped>\n",
       "    .dataframe tbody tr th:only-of-type {\n",
       "        vertical-align: middle;\n",
       "    }\n",
       "\n",
       "    .dataframe tbody tr th {\n",
       "        vertical-align: top;\n",
       "    }\n",
       "\n",
       "    .dataframe thead th {\n",
       "        text-align: right;\n",
       "    }\n",
       "</style>\n",
       "<table border=\"1\" class=\"dataframe\">\n",
       "  <thead>\n",
       "    <tr style=\"text-align: right;\">\n",
       "      <th></th>\n",
       "      <th>0</th>\n",
       "      <th>1</th>\n",
       "      <th>2</th>\n",
       "      <th>3</th>\n",
       "      <th>4</th>\n",
       "      <th>5</th>\n",
       "      <th>6</th>\n",
       "      <th>7</th>\n",
       "      <th>8</th>\n",
       "      <th>9</th>\n",
       "      <th>...</th>\n",
       "      <th>299</th>\n",
       "      <th>300</th>\n",
       "      <th>301</th>\n",
       "      <th>302</th>\n",
       "      <th>303</th>\n",
       "      <th>304</th>\n",
       "      <th>305</th>\n",
       "      <th>306</th>\n",
       "      <th>307</th>\n",
       "      <th>308</th>\n",
       "    </tr>\n",
       "  </thead>\n",
       "  <tbody>\n",
       "    <tr>\n",
       "      <th>0</th>\n",
       "      <td>0.543460</td>\n",
       "      <td>0.521305</td>\n",
       "      <td>-0.783171</td>\n",
       "      <td>0.372756</td>\n",
       "      <td>-0.341712</td>\n",
       "      <td>-1.157314</td>\n",
       "      <td>-0.574965</td>\n",
       "      <td>0.071973</td>\n",
       "      <td>0.595904</td>\n",
       "      <td>-0.661405</td>\n",
       "      <td>...</td>\n",
       "      <td>0.0</td>\n",
       "      <td>0.0</td>\n",
       "      <td>0.0</td>\n",
       "      <td>1.0</td>\n",
       "      <td>0.0</td>\n",
       "      <td>0.0</td>\n",
       "      <td>0.0</td>\n",
       "      <td>0.0</td>\n",
       "      <td>1.0</td>\n",
       "      <td>0.0</td>\n",
       "    </tr>\n",
       "    <tr>\n",
       "      <th>1</th>\n",
       "      <td>0.591487</td>\n",
       "      <td>0.920145</td>\n",
       "      <td>-0.057760</td>\n",
       "      <td>0.372756</td>\n",
       "      <td>-0.440939</td>\n",
       "      <td>-1.302294</td>\n",
       "      <td>0.020106</td>\n",
       "      <td>1.120271</td>\n",
       "      <td>-0.292288</td>\n",
       "      <td>-0.353584</td>\n",
       "      <td>...</td>\n",
       "      <td>0.0</td>\n",
       "      <td>0.0</td>\n",
       "      <td>0.0</td>\n",
       "      <td>1.0</td>\n",
       "      <td>0.0</td>\n",
       "      <td>0.0</td>\n",
       "      <td>0.0</td>\n",
       "      <td>0.0</td>\n",
       "      <td>1.0</td>\n",
       "      <td>0.0</td>\n",
       "    </tr>\n",
       "    <tr>\n",
       "      <th>2</th>\n",
       "      <td>0.255303</td>\n",
       "      <td>0.859635</td>\n",
       "      <td>-0.783171</td>\n",
       "      <td>-0.526788</td>\n",
       "      <td>0.849000</td>\n",
       "      <td>0.630770</td>\n",
       "      <td>-0.574965</td>\n",
       "      <td>0.816150</td>\n",
       "      <td>-0.292288</td>\n",
       "      <td>-0.962437</td>\n",
       "      <td>...</td>\n",
       "      <td>0.0</td>\n",
       "      <td>0.0</td>\n",
       "      <td>0.0</td>\n",
       "      <td>1.0</td>\n",
       "      <td>0.0</td>\n",
       "      <td>0.0</td>\n",
       "      <td>0.0</td>\n",
       "      <td>0.0</td>\n",
       "      <td>1.0</td>\n",
       "      <td>0.0</td>\n",
       "    </tr>\n",
       "    <tr>\n",
       "      <th>3</th>\n",
       "      <td>0.447408</td>\n",
       "      <td>0.224645</td>\n",
       "      <td>-0.057760</td>\n",
       "      <td>0.372756</td>\n",
       "      <td>0.882075</td>\n",
       "      <td>0.630770</td>\n",
       "      <td>-0.464767</td>\n",
       "      <td>0.380703</td>\n",
       "      <td>-0.292288</td>\n",
       "      <td>-0.539182</td>\n",
       "      <td>...</td>\n",
       "      <td>0.0</td>\n",
       "      <td>0.0</td>\n",
       "      <td>0.0</td>\n",
       "      <td>1.0</td>\n",
       "      <td>0.0</td>\n",
       "      <td>0.0</td>\n",
       "      <td>0.0</td>\n",
       "      <td>0.0</td>\n",
       "      <td>1.0</td>\n",
       "      <td>0.0</td>\n",
       "    </tr>\n",
       "    <tr>\n",
       "      <th>4</th>\n",
       "      <td>-1.233507</td>\n",
       "      <td>-1.117361</td>\n",
       "      <td>1.393064</td>\n",
       "      <td>-0.526788</td>\n",
       "      <td>0.683623</td>\n",
       "      <td>0.340810</td>\n",
       "      <td>-0.574965</td>\n",
       "      <td>-0.400337</td>\n",
       "      <td>-0.292288</td>\n",
       "      <td>1.029350</td>\n",
       "      <td>...</td>\n",
       "      <td>0.0</td>\n",
       "      <td>0.0</td>\n",
       "      <td>0.0</td>\n",
       "      <td>1.0</td>\n",
       "      <td>0.0</td>\n",
       "      <td>0.0</td>\n",
       "      <td>0.0</td>\n",
       "      <td>0.0</td>\n",
       "      <td>1.0</td>\n",
       "      <td>0.0</td>\n",
       "    </tr>\n",
       "    <tr>\n",
       "      <th>...</th>\n",
       "      <td>...</td>\n",
       "      <td>...</td>\n",
       "      <td>...</td>\n",
       "      <td>...</td>\n",
       "      <td>...</td>\n",
       "      <td>...</td>\n",
       "      <td>...</td>\n",
       "      <td>...</td>\n",
       "      <td>...</td>\n",
       "      <td>...</td>\n",
       "      <td>...</td>\n",
       "      <td>...</td>\n",
       "      <td>...</td>\n",
       "      <td>...</td>\n",
       "      <td>...</td>\n",
       "      <td>...</td>\n",
       "      <td>...</td>\n",
       "      <td>...</td>\n",
       "      <td>...</td>\n",
       "      <td>...</td>\n",
       "      <td>...</td>\n",
       "    </tr>\n",
       "    <tr>\n",
       "      <th>1454</th>\n",
       "      <td>-2.290083</td>\n",
       "      <td>-2.964834</td>\n",
       "      <td>-1.508583</td>\n",
       "      <td>1.272300</td>\n",
       "      <td>-0.044034</td>\n",
       "      <td>-0.722375</td>\n",
       "      <td>-0.574965</td>\n",
       "      <td>-1.006277</td>\n",
       "      <td>-0.292288</td>\n",
       "      <td>-0.036708</td>\n",
       "      <td>...</td>\n",
       "      <td>0.0</td>\n",
       "      <td>0.0</td>\n",
       "      <td>0.0</td>\n",
       "      <td>1.0</td>\n",
       "      <td>0.0</td>\n",
       "      <td>0.0</td>\n",
       "      <td>0.0</td>\n",
       "      <td>0.0</td>\n",
       "      <td>1.0</td>\n",
       "      <td>0.0</td>\n",
       "    </tr>\n",
       "    <tr>\n",
       "      <th>1455</th>\n",
       "      <td>-2.290083</td>\n",
       "      <td>-3.007496</td>\n",
       "      <td>-1.508583</td>\n",
       "      <td>-0.526788</td>\n",
       "      <td>-0.044034</td>\n",
       "      <td>-0.722375</td>\n",
       "      <td>-0.574965</td>\n",
       "      <td>-0.425681</td>\n",
       "      <td>-0.292288</td>\n",
       "      <td>-0.607084</td>\n",
       "      <td>...</td>\n",
       "      <td>0.0</td>\n",
       "      <td>0.0</td>\n",
       "      <td>0.0</td>\n",
       "      <td>1.0</td>\n",
       "      <td>1.0</td>\n",
       "      <td>0.0</td>\n",
       "      <td>0.0</td>\n",
       "      <td>0.0</td>\n",
       "      <td>0.0</td>\n",
       "      <td>0.0</td>\n",
       "    </tr>\n",
       "    <tr>\n",
       "      <th>1456</th>\n",
       "      <td>4.385553</td>\n",
       "      <td>1.577164</td>\n",
       "      <td>-0.783171</td>\n",
       "      <td>1.272300</td>\n",
       "      <td>-0.374788</td>\n",
       "      <td>0.534116</td>\n",
       "      <td>-0.574965</td>\n",
       "      <td>1.813761</td>\n",
       "      <td>-0.292288</td>\n",
       "      <td>-1.272522</td>\n",
       "      <td>...</td>\n",
       "      <td>0.0</td>\n",
       "      <td>0.0</td>\n",
       "      <td>0.0</td>\n",
       "      <td>1.0</td>\n",
       "      <td>1.0</td>\n",
       "      <td>0.0</td>\n",
       "      <td>0.0</td>\n",
       "      <td>0.0</td>\n",
       "      <td>0.0</td>\n",
       "      <td>0.0</td>\n",
       "    </tr>\n",
       "    <tr>\n",
       "      <th>1457</th>\n",
       "      <td>-0.321010</td>\n",
       "      <td>0.312870</td>\n",
       "      <td>-0.783171</td>\n",
       "      <td>-0.526788</td>\n",
       "      <td>0.683623</td>\n",
       "      <td>0.340810</td>\n",
       "      <td>-0.574965</td>\n",
       "      <td>-0.229845</td>\n",
       "      <td>-0.292288</td>\n",
       "      <td>0.028930</td>\n",
       "      <td>...</td>\n",
       "      <td>0.0</td>\n",
       "      <td>0.0</td>\n",
       "      <td>0.0</td>\n",
       "      <td>1.0</td>\n",
       "      <td>0.0</td>\n",
       "      <td>0.0</td>\n",
       "      <td>0.0</td>\n",
       "      <td>0.0</td>\n",
       "      <td>1.0</td>\n",
       "      <td>0.0</td>\n",
       "    </tr>\n",
       "    <tr>\n",
       "      <th>1458</th>\n",
       "      <td>0.255303</td>\n",
       "      <td>0.154990</td>\n",
       "      <td>0.667652</td>\n",
       "      <td>-0.526788</td>\n",
       "      <td>0.716699</td>\n",
       "      <td>0.437463</td>\n",
       "      <td>-0.057033</td>\n",
       "      <td>0.740119</td>\n",
       "      <td>-0.292288</td>\n",
       "      <td>-0.733834</td>\n",
       "      <td>...</td>\n",
       "      <td>0.0</td>\n",
       "      <td>0.0</td>\n",
       "      <td>0.0</td>\n",
       "      <td>1.0</td>\n",
       "      <td>0.0</td>\n",
       "      <td>0.0</td>\n",
       "      <td>0.0</td>\n",
       "      <td>0.0</td>\n",
       "      <td>1.0</td>\n",
       "      <td>0.0</td>\n",
       "    </tr>\n",
       "  </tbody>\n",
       "</table>\n",
       "<p>1459 rows × 309 columns</p>\n",
       "</div>"
      ],
      "text/plain": [
       "             0         1         2         3         4         5         6  \\\n",
       "0     0.543460  0.521305 -0.783171  0.372756 -0.341712 -1.157314 -0.574965   \n",
       "1     0.591487  0.920145 -0.057760  0.372756 -0.440939 -1.302294  0.020106   \n",
       "2     0.255303  0.859635 -0.783171 -0.526788  0.849000  0.630770 -0.574965   \n",
       "3     0.447408  0.224645 -0.057760  0.372756  0.882075  0.630770 -0.464767   \n",
       "4    -1.233507 -1.117361  1.393064 -0.526788  0.683623  0.340810 -0.574965   \n",
       "...        ...       ...       ...       ...       ...       ...       ...   \n",
       "1454 -2.290083 -2.964834 -1.508583  1.272300 -0.044034 -0.722375 -0.574965   \n",
       "1455 -2.290083 -3.007496 -1.508583 -0.526788 -0.044034 -0.722375 -0.574965   \n",
       "1456  4.385553  1.577164 -0.783171  1.272300 -0.374788  0.534116 -0.574965   \n",
       "1457 -0.321010  0.312870 -0.783171 -0.526788  0.683623  0.340810 -0.574965   \n",
       "1458  0.255303  0.154990  0.667652 -0.526788  0.716699  0.437463 -0.057033   \n",
       "\n",
       "             7         8         9  ...  299  300  301  302  303  304  305  \\\n",
       "0     0.071973  0.595904 -0.661405  ...  0.0  0.0  0.0  1.0  0.0  0.0  0.0   \n",
       "1     1.120271 -0.292288 -0.353584  ...  0.0  0.0  0.0  1.0  0.0  0.0  0.0   \n",
       "2     0.816150 -0.292288 -0.962437  ...  0.0  0.0  0.0  1.0  0.0  0.0  0.0   \n",
       "3     0.380703 -0.292288 -0.539182  ...  0.0  0.0  0.0  1.0  0.0  0.0  0.0   \n",
       "4    -0.400337 -0.292288  1.029350  ...  0.0  0.0  0.0  1.0  0.0  0.0  0.0   \n",
       "...        ...       ...       ...  ...  ...  ...  ...  ...  ...  ...  ...   \n",
       "1454 -1.006277 -0.292288 -0.036708  ...  0.0  0.0  0.0  1.0  0.0  0.0  0.0   \n",
       "1455 -0.425681 -0.292288 -0.607084  ...  0.0  0.0  0.0  1.0  1.0  0.0  0.0   \n",
       "1456  1.813761 -0.292288 -1.272522  ...  0.0  0.0  0.0  1.0  1.0  0.0  0.0   \n",
       "1457 -0.229845 -0.292288  0.028930  ...  0.0  0.0  0.0  1.0  0.0  0.0  0.0   \n",
       "1458  0.740119 -0.292288 -0.733834  ...  0.0  0.0  0.0  1.0  0.0  0.0  0.0   \n",
       "\n",
       "      306  307  308  \n",
       "0     0.0  1.0  0.0  \n",
       "1     0.0  1.0  0.0  \n",
       "2     0.0  1.0  0.0  \n",
       "3     0.0  1.0  0.0  \n",
       "4     0.0  1.0  0.0  \n",
       "...   ...  ...  ...  \n",
       "1454  0.0  1.0  0.0  \n",
       "1455  0.0  0.0  0.0  \n",
       "1456  0.0  0.0  0.0  \n",
       "1457  0.0  1.0  0.0  \n",
       "1458  0.0  1.0  0.0  \n",
       "\n",
       "[1459 rows x 309 columns]"
      ]
     },
     "execution_count": 14,
     "metadata": {},
     "output_type": "execute_result"
    }
   ],
   "source": [
    "X_test"
   ]
  },
  {
   "cell_type": "markdown",
   "id": "9ee06205-3d55-49c7-8c13-0a0e587ef0df",
   "metadata": {},
   "source": [
    "## Create Submissions"
   ]
  },
  {
   "cell_type": "code",
   "execution_count": 20,
   "id": "6580547e-79cc-46f0-bb94-eb246c24d95d",
   "metadata": {},
   "outputs": [],
   "source": [
    "d = {\"Id\":X_test.index,\"SalePrice\":predictions.flatten()}\n",
    "submission = pd.DataFrame(data=d, index=None)"
   ]
  },
  {
   "cell_type": "code",
   "execution_count": 21,
   "id": "a14d4a90-2a98-49b5-9560-79120eb70628",
   "metadata": {},
   "outputs": [],
   "source": [
    "submission[\"Id\"] = submission[\"Id\"] + 1461"
   ]
  },
  {
   "cell_type": "code",
   "execution_count": 23,
   "id": "22b277d4-81cd-458c-9d66-e3aae8854fac",
   "metadata": {},
   "outputs": [],
   "source": [
    "submission.to_csv(\"submission.csv\",index=False)"
   ]
  },
  {
   "cell_type": "markdown",
   "id": "18fb0b31",
   "metadata": {},
   "source": [
    "## Blend Predictions\n",
    "\n",
    "First, try taking the mean of predictions from the decision tree algorithm and neural net algorithm."
   ]
  },
  {
   "cell_type": "code",
   "execution_count": 32,
   "id": "578a0854",
   "metadata": {},
   "outputs": [],
   "source": [
    "# Read CSVs\n",
    "decision_tree_predictions = pd.read_csv(\"/root/data-science-projects-1/house-price-prediction/Models/sklearn/submission.csv\")\n",
    "neural_net_predictions = pd.read_csv(\"/root/data-science-projects-1/house-price-prediction/Models/tensorflow/submission.csv\")\n",
    "\n",
    "# Merge CSVs on Id column\n",
    "decision_tree_predictions[\"neural_net_predictions\"] = neural_net_predictions[\"SalePrice\"]\n",
    "\n",
    "# Rename decision tree predictions column\n",
    "decision_tree_predictions = decision_tree_predictions.rename(columns={\"SalePrice\":\"decision_tree_predictions\"})\n",
    "\n",
    "# Add new column with mean\n",
    "decision_tree_predictions[\"SalePrice\"] = decision_tree_predictions[[\"neural_net_predictions\",\"decision_tree_predictions\"]].mean(axis=1)\n",
    "\n",
    "# Drop other columns\n",
    "decision_tree_predictions = decision_tree_predictions[[\"Id\",\"SalePrice\"]]\n",
    "\n",
    "mean_predictions = decision_tree_predictions"
   ]
  },
  {
   "cell_type": "code",
   "execution_count": 33,
   "id": "603e18a6",
   "metadata": {},
   "outputs": [
    {
     "data": {
      "text/html": [
       "<div>\n",
       "<style scoped>\n",
       "    .dataframe tbody tr th:only-of-type {\n",
       "        vertical-align: middle;\n",
       "    }\n",
       "\n",
       "    .dataframe tbody tr th {\n",
       "        vertical-align: top;\n",
       "    }\n",
       "\n",
       "    .dataframe thead th {\n",
       "        text-align: right;\n",
       "    }\n",
       "</style>\n",
       "<table border=\"1\" class=\"dataframe\">\n",
       "  <thead>\n",
       "    <tr style=\"text-align: right;\">\n",
       "      <th></th>\n",
       "      <th>Id</th>\n",
       "      <th>SalePrice</th>\n",
       "    </tr>\n",
       "  </thead>\n",
       "  <tbody>\n",
       "    <tr>\n",
       "      <th>0</th>\n",
       "      <td>1461</td>\n",
       "      <td>127361.134067</td>\n",
       "    </tr>\n",
       "    <tr>\n",
       "      <th>1</th>\n",
       "      <td>1462</td>\n",
       "      <td>158052.584090</td>\n",
       "    </tr>\n",
       "    <tr>\n",
       "      <th>2</th>\n",
       "      <td>1463</td>\n",
       "      <td>181674.855717</td>\n",
       "    </tr>\n",
       "    <tr>\n",
       "      <th>3</th>\n",
       "      <td>1464</td>\n",
       "      <td>188875.924001</td>\n",
       "    </tr>\n",
       "    <tr>\n",
       "      <th>4</th>\n",
       "      <td>1465</td>\n",
       "      <td>200818.447191</td>\n",
       "    </tr>\n",
       "    <tr>\n",
       "      <th>...</th>\n",
       "      <td>...</td>\n",
       "      <td>...</td>\n",
       "    </tr>\n",
       "    <tr>\n",
       "      <th>1454</th>\n",
       "      <td>2915</td>\n",
       "      <td>82795.660323</td>\n",
       "    </tr>\n",
       "    <tr>\n",
       "      <th>1455</th>\n",
       "      <td>2916</td>\n",
       "      <td>78708.973134</td>\n",
       "    </tr>\n",
       "    <tr>\n",
       "      <th>1456</th>\n",
       "      <td>2917</td>\n",
       "      <td>161475.439244</td>\n",
       "    </tr>\n",
       "    <tr>\n",
       "      <th>1457</th>\n",
       "      <td>2918</td>\n",
       "      <td>117693.042804</td>\n",
       "    </tr>\n",
       "    <tr>\n",
       "      <th>1458</th>\n",
       "      <td>2919</td>\n",
       "      <td>212442.404615</td>\n",
       "    </tr>\n",
       "  </tbody>\n",
       "</table>\n",
       "<p>1459 rows × 2 columns</p>\n",
       "</div>"
      ],
      "text/plain": [
       "        Id      SalePrice\n",
       "0     1461  127361.134067\n",
       "1     1462  158052.584090\n",
       "2     1463  181674.855717\n",
       "3     1464  188875.924001\n",
       "4     1465  200818.447191\n",
       "...    ...            ...\n",
       "1454  2915   82795.660323\n",
       "1455  2916   78708.973134\n",
       "1456  2917  161475.439244\n",
       "1457  2918  117693.042804\n",
       "1458  2919  212442.404615\n",
       "\n",
       "[1459 rows x 2 columns]"
      ]
     },
     "execution_count": 33,
     "metadata": {},
     "output_type": "execute_result"
    }
   ],
   "source": [
    "mean_predictions"
   ]
  },
  {
   "cell_type": "code",
   "execution_count": 34,
   "id": "5c98024e",
   "metadata": {},
   "outputs": [],
   "source": [
    "mean_predictions.to_csv(\"submission_mean.csv\",index=False)"
   ]
  },
  {
   "cell_type": "markdown",
   "id": "99d1ff2c",
   "metadata": {},
   "source": [
    "Next, try defining a meta-model to best blend predictions."
   ]
  },
  {
   "cell_type": "code",
   "execution_count": null,
   "id": "d05f88ef",
   "metadata": {},
   "outputs": [],
   "source": [
    "# You currently have the following problems:\n",
    "# 1) You have trained and validated using k-fold validation on a training set that was already split into a validation set.\n",
    "# 2) You need to keep a \"hold-out\" data set to validate merged predictions, that was not used at all in the DT and NN models."
   ]
  }
 ],
 "metadata": {
  "kernelspec": {
   "display_name": "Python 3 (ipykernel)",
   "language": "python",
   "name": "python3"
  },
  "language_info": {
   "codemirror_mode": {
    "name": "ipython",
    "version": 3
   },
   "file_extension": ".py",
   "mimetype": "text/x-python",
   "name": "python",
   "nbconvert_exporter": "python",
   "pygments_lexer": "ipython3",
   "version": "3.8.10"
  }
 },
 "nbformat": 4,
 "nbformat_minor": 5
}
