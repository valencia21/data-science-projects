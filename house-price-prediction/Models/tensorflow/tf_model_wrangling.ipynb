{
 "cells": [
  {
   "cell_type": "code",
   "execution_count": 3,
   "id": "1a9b44ee-21e3-44e1-ab3b-4af5c351aca6",
   "metadata": {
    "tags": []
   },
   "outputs": [],
   "source": [
    "from tensorflow.keras.models import Sequential\n",
    "from tensorflow.keras.layers import Dense, Dropout\n",
    "from tensorflow.keras.metrics import RootMeanSquaredError\n",
    "from time import time\n",
    "from sklearn.metrics import mean_absolute_error\n",
    "import wandb\n",
    "import pandas as pd\n",
    "import numpy as np\n",
    "import matplotlib.pyplot as plt"
   ]
  },
  {
   "cell_type": "markdown",
   "id": "049f674b",
   "metadata": {},
   "source": [
    "In my previous post, I went through the following process:\n",
    "\n",
    "Environment: Anaconda, Windows 11.\n",
    "\n",
    "- Data wrangling (Light exploration, followed by removing and transforming some variables)\n",
    "- Split the training dataset into training and validation datasets\n",
    "- Fit a model using a Scikit-Learn pipeline (Data Preprocessing + fitting XGBoost/LightGBM estimators with a Randomized Search across their respective hyperparameters)\n",
    "- Evaluate and visualize model performance\n",
    "- Implement an automated approach to selecting hyperparameters (HyperOpt)\n",
    "- Make predictions\n",
    "\n",
    "In this post, I will implement the following using the same wrangled/preprocessed data:\n",
    "\n",
    "Environment: Docker, Windows Subsystem for Linux 2 (WSL 2), Windows 11.\n",
    "\n",
    "- Build a simple Sequential model in Keras/Tensorflow\n",
    "- Use the Weights and Biases (WandB) platform to select optimal hyperparameters and record experiments.\n",
    "  - Experiments are evaluated using K-Fold Cross Validation. Mean RMSE across folds for each experiment are custom logged in WandB. \n",
    "- Make predictions.\n",
    "- Blend predictions from the previous post (decision tree) and this post (neural net).\n",
    "  - By both taking the mean of predictions, and defining a meta-model trained on a holdout dataset kept completely separate."
   ]
  },
  {
   "cell_type": "code",
   "execution_count": 4,
   "id": "41683053-0452-48d6-8033-a5e2909e0f84",
   "metadata": {},
   "outputs": [],
   "source": [
    "# Function to bring in wrangled/preprocessed data from previous post\n",
    "def data():\n",
    "    training = pd.read_csv(\"/root/data-science-projects-1/house-price-prediction/Models/sklearn/training_preprocessed\")\n",
    "    validation = pd.read_csv(\"/root/data-science-projects-1/house-price-prediction/Models/sklearn/validation_preprocessed\")\n",
    "    holdout = pd.read_csv(\"/root/data-science-projects-1/house-price-prediction/Models/sklearn/holdout_preprocessed\")\n",
    "    holdout_predictions_df = pd.read_csv(\"/root/data-science-projects-1/house-price-prediction/Models/sklearn/holdout_preds_preprocessed\")\n",
    "    test = pd.read_csv(\"/root/data-science-projects-1/house-price-prediction/Models/sklearn/test_preprocessed\")\n",
    "    \n",
    "    X_train = training.drop(columns=\"SalePrice\")\n",
    "    y_train = training[\"SalePrice\"]\n",
    "    X_valid = validation.drop(columns=\"SalePrice\")\n",
    "    y_valid = validation[\"SalePrice\"]\n",
    "    X_holdout = holdout.drop(columns=\"Actual_SalePrice\")\n",
    "    y_holdout = holdout[\"Actual_SalePrice\"]\n",
    "    X_test = test\n",
    "    holdout_predictions_df = holdout_predictions_df\n",
    "    return X_train, y_train, X_valid, y_valid, X_holdout, y_holdout, X_test, holdout_predictions_df"
   ]
  },
  {
   "cell_type": "code",
   "execution_count": 5,
   "id": "850a33cf",
   "metadata": {},
   "outputs": [],
   "source": [
    "# Bring in data\n",
    "X_train, y_train, X_valid, y_valid, X_holdout, y_holdout, X_test, holdout_predictions_df = data()"
   ]
  },
  {
   "cell_type": "code",
   "execution_count": 63,
   "id": "b5fce048",
   "metadata": {},
   "outputs": [],
   "source": [
    "# Log transforming SalePrice\n",
    "y_list = [y_train, y_valid, y_holdout] \n",
    "y_train, y_valid, y_holdout = [np.log(y) for y in y_list]"
   ]
  },
  {
   "cell_type": "code",
   "execution_count": 6,
   "id": "9d1d0d22",
   "metadata": {},
   "outputs": [
    {
     "name": "stderr",
     "output_type": "stream",
     "text": [
      "<ipython-input-6-33faa622c081>:2: FutureWarning: The frame.append method is deprecated and will be removed from pandas in a future version. Use pandas.concat instead.\n",
      "  X_train = X_train.append(X_valid).reset_index().drop(columns=\"index\")\n",
      "<ipython-input-6-33faa622c081>:3: FutureWarning: The series.append method is deprecated and will be removed from pandas in a future version. Use pandas.concat instead.\n",
      "  y_train = y_train.append(y_valid).reset_index().drop(columns=\"index\").values\n"
     ]
    }
   ],
   "source": [
    "# Since this model uses k-fold validation, we don't need separate training and validation datasets\n",
    "X_train = X_train.append(X_valid).reset_index().drop(columns=\"index\")\n",
    "y_train = y_train.append(y_valid).reset_index().drop(columns=\"index\").values"
   ]
  },
  {
   "cell_type": "code",
   "execution_count": 7,
   "id": "0cd95926-a2d1-484d-8674-273e1310e88d",
   "metadata": {},
   "outputs": [
    {
     "name": "stderr",
     "output_type": "stream",
     "text": [
      "Failed to detect the name of this notebook, you can set it manually with the WANDB_NOTEBOOK_NAME environment variable to enable code saving.\n",
      "\u001b[34m\u001b[1mwandb\u001b[0m: Currently logged in as: \u001b[33mluiscostigan\u001b[0m (use `wandb login --relogin` to force relogin)\n",
      "\u001b[34m\u001b[1mwandb\u001b[0m: wandb version 0.12.11 is available!  To upgrade, please run:\n",
      "\u001b[34m\u001b[1mwandb\u001b[0m:  $ pip install wandb --upgrade\n"
     ]
    },
    {
     "data": {
      "text/html": [
       "\n",
       "                    Syncing run <strong><a href=\"https://wandb.ai/luiscostigan/house-price-prediction/runs/1e5hthrk\" target=\"_blank\">eternal-violet-187</a></strong> to <a href=\"https://wandb.ai/luiscostigan/house-price-prediction\" target=\"_blank\">Weights & Biases</a> (<a href=\"https://docs.wandb.com/integrations/jupyter.html\" target=\"_blank\">docs</a>).<br/>\n",
       "\n",
       "                "
      ],
      "text/plain": [
       "<IPython.core.display.HTML object>"
      ]
     },
     "metadata": {},
     "output_type": "display_data"
    },
    {
     "data": {
      "text/html": [
       "<button onClick=\"this.nextSibling.style.display='block';this.style.display='none';\">Display W&B run</button><iframe src=\"https://wandb.ai/luiscostigan/house-price-prediction/runs/1e5hthrk?jupyter=true\" style=\"border:none;width:100%;height:420px;display:none;\"></iframe>"
      ],
      "text/plain": [
       "<wandb.sdk.wandb_run.Run at 0x7f90cb72d310>"
      ]
     },
     "execution_count": 7,
     "metadata": {},
     "output_type": "execute_result"
    }
   ],
   "source": [
    "# Log into Weights and Biases\n",
    "wandb.init(project=\"house-price-prediction\", entity=\"luiscostigan\")"
   ]
  },
  {
   "cell_type": "code",
   "execution_count": 75,
   "id": "1b06efad-42f3-4cb3-90c9-ee188ed47acc",
   "metadata": {},
   "outputs": [],
   "source": [
    "# Define simple Sequential model\n",
    "def create_model():\n",
    "    model = Sequential()\n",
    "    model.add(Dense(32, input_dim=X_train.shape[1], activation='relu'))\n",
    "    model.add(Dense(wandb.config.dense1, activation='relu'))\n",
    "    model.add(Dropout(wandb.config.dropout1))\n",
    "    model.add(Dense(wandb.config.dense2, activation='relu'))\n",
    "    model.add(Dense(1))\n",
    "    model.compile(optimizer='rmsprop', loss=\"mse\", metrics=[RootMeanSquaredError()])\n",
    "    \n",
    "    return model"
   ]
  },
  {
   "cell_type": "code",
   "execution_count": 81,
   "id": "9e707d3f-2deb-4ac1-b274-48350e1027bd",
   "metadata": {},
   "outputs": [
    {
     "name": "stdout",
     "output_type": "stream",
     "text": [
      "Create sweep with ID: hbftehhf\n",
      "Sweep URL: https://wandb.ai/luiscostigan/house-price-prediction/sweeps/hbftehhf\n"
     ]
    },
    {
     "name": "stderr",
     "output_type": "stream",
     "text": [
      "\u001b[34m\u001b[1mwandb\u001b[0m: Agent Starting Run: tjv4e6i3 with config:\n",
      "\u001b[34m\u001b[1mwandb\u001b[0m: \tbatch_size: 16\n",
      "\u001b[34m\u001b[1mwandb\u001b[0m: \tdense1: 8\n",
      "\u001b[34m\u001b[1mwandb\u001b[0m: \tdense2: 16\n",
      "\u001b[34m\u001b[1mwandb\u001b[0m: \tdropout1: 0.07939069771740113\n",
      "\u001b[34m\u001b[1mwandb\u001b[0m: \tepochs: 250\n",
      "\u001b[34m\u001b[1mwandb\u001b[0m: wandb version 0.12.11 is available!  To upgrade, please run:\n",
      "\u001b[34m\u001b[1mwandb\u001b[0m:  $ pip install wandb --upgrade\n"
     ]
    },
    {
     "data": {
      "text/html": [
       "\n",
       "                    Syncing run <strong><a href=\"https://wandb.ai/luiscostigan/house-price-prediction/runs/tjv4e6i3\" target=\"_blank\">winter-sweep-1</a></strong> to <a href=\"https://wandb.ai/luiscostigan/house-price-prediction\" target=\"_blank\">Weights & Biases</a> (<a href=\"https://docs.wandb.com/integrations/jupyter.html\" target=\"_blank\">docs</a>).<br/>\n",
       "Sweep page: <a href=\"https://wandb.ai/luiscostigan/house-price-prediction/sweeps/hbftehhf\" target=\"_blank\">https://wandb.ai/luiscostigan/house-price-prediction/sweeps/hbftehhf</a><br/>\n",
       "\n",
       "                "
      ],
      "text/plain": [
       "<IPython.core.display.HTML object>"
      ]
     },
     "metadata": {},
     "output_type": "display_data"
    },
    {
     "name": "stdout",
     "output_type": "stream",
     "text": [
      "37/37 [==============================] - 0s 2ms/step - loss: 0.4211 - root_mean_squared_error: 0.6490\n",
      "Score for fold 1: loss of 0.42114102840423584; root_mean_squared_error of 0.6489537954330444\n",
      "------------------------------------------------------------------------\n",
      "Score per fold\n",
      "------------------------------------------------------------------------\n",
      "> Fold 1 - Loss: 0.42114102840423584 - RMSE: 0.6489537954330444%\n",
      "------------------------------------------------------------------------\n",
      "Average scores for all folds:\n",
      "> RMSE: 0.6489537954330444 (+- 0.0)\n",
      "> Loss: 0.42114102840423584\n",
      "------------------------------------------------------------------------\n"
     ]
    },
    {
     "data": {
      "text/html": [
       "<br/>Waiting for W&B process to finish, PID 32527... <strong style=\"color:green\">(success).</strong>"
      ],
      "text/plain": [
       "<IPython.core.display.HTML object>"
      ]
     },
     "metadata": {},
     "output_type": "display_data"
    },
    {
     "data": {
      "application/vnd.jupyter.widget-view+json": {
       "model_id": "9a095aae408d4f078fee1a40b91d93e2",
       "version_major": 2,
       "version_minor": 0
      },
      "text/plain": [
       "VBox(children=(Label(value=' 0.12MB of 0.12MB uploaded (0.00MB deduped)\\r'), FloatProgress(value=1.0, max=1.0)…"
      ]
     },
     "metadata": {},
     "output_type": "display_data"
    },
    {
     "data": {
      "text/html": [
       "<style>\n",
       "    table.wandb td:nth-child(1) { padding: 0 10px; text-align: right }\n",
       "    .wandb-row { display: flex; flex-direction: row; flex-wrap: wrap; width: 100% }\n",
       "    .wandb-col { display: flex; flex-direction: column; flex-basis: 100%; flex: 1; padding: 10px; }\n",
       "    </style>\n",
       "<div class=\"wandb-row\"><div class=\"wandb-col\">\n",
       "<h3>Run history:</h3><br/><table class=\"wandb\"><tr><td>Mean Validation Loss (all folds)</td><td>▁</td></tr><tr><td>Mean Validation RMSE (all folds)</td><td>▁</td></tr><tr><td>epoch</td><td>▁▁▁▂▂▂▂▂▂▃▃▃▃▃▄▄▄▄▄▄▅▅▅▅▅▅▆▆▆▆▆▇▇▇▇▇▇███</td></tr><tr><td>loss</td><td>█▂▂▁▁▁▁▁▁▁▁▁▁▁▁▁▁▁▁▁▁▁▁▁▁▁▁▁▁▁▁▁▁▁▁▁▁▁▁▁</td></tr><tr><td>root_mean_squared_error</td><td>█▃▃▂▂▂▂▁▁▂▁▁▁▂▁▂▁▁▁▂▂▁▁▁▁▁▂▁▁▁▁▁▁▁▁▁▁▁▁▁</td></tr><tr><td>val_loss</td><td>▁▂▄▇▄▃▃▆▆▁▅▆█▂▄▅▃▃▃▅▂▃▄▅▂▂▁▃▂▁▂▃▃▂▄▄▃▄▄▂</td></tr><tr><td>val_root_mean_squared_error</td><td>▁▃▅▇▄▃▄▆▆▂▆▇█▂▅▆▄▃▃▆▃▄▅▆▃▂▂▄▃▂▂▄▄▃▅▅▄▅▄▃</td></tr></table><br/></div><div class=\"wandb-col\">\n",
       "<h3>Run summary:</h3><br/><table class=\"wandb\"><tr><td>Mean Validation Loss (all folds)</td><td>0.42114</td></tr><tr><td>Mean Validation RMSE (all folds)</td><td>0.64895</td></tr><tr><td>best_epoch</td><td>4</td></tr><tr><td>best_val_loss</td><td>0.08593</td></tr><tr><td>epoch</td><td>249</td></tr><tr><td>loss</td><td>0.03934</td></tr><tr><td>root_mean_squared_error</td><td>0.19836</td></tr><tr><td>val_loss</td><td>0.42114</td></tr><tr><td>val_root_mean_squared_error</td><td>0.64895</td></tr></table>\n",
       "</div></div>\n",
       "Synced 5 W&B file(s), 0 media file(s), 0 artifact file(s) and 1 other file(s)\n",
       "<br/>Synced <strong style=\"color:#cdcd00\">winter-sweep-1</strong>: <a href=\"https://wandb.ai/luiscostigan/house-price-prediction/runs/tjv4e6i3\" target=\"_blank\">https://wandb.ai/luiscostigan/house-price-prediction/runs/tjv4e6i3</a><br/>\n",
       "Find logs at: <code>./wandb/run-20220304_122145-tjv4e6i3/logs</code><br/>\n"
      ],
      "text/plain": [
       "<IPython.core.display.HTML object>"
      ]
     },
     "metadata": {},
     "output_type": "display_data"
    },
    {
     "name": "stderr",
     "output_type": "stream",
     "text": [
      "\u001b[34m\u001b[1mwandb\u001b[0m: wandb version 0.12.11 is available!  To upgrade, please run:\n",
      "\u001b[34m\u001b[1mwandb\u001b[0m:  $ pip install wandb --upgrade\n"
     ]
    },
    {
     "data": {
      "text/html": [
       "\n",
       "                    Syncing run <strong><a href=\"https://wandb.ai/luiscostigan/house-price-prediction/runs/tjv4e6i3\" target=\"_blank\">winter-sweep-1</a></strong> to <a href=\"https://wandb.ai/luiscostigan/house-price-prediction\" target=\"_blank\">Weights & Biases</a> (<a href=\"https://docs.wandb.com/integrations/jupyter.html\" target=\"_blank\">docs</a>).<br/>\n",
       "Sweep page: <a href=\"https://wandb.ai/luiscostigan/house-price-prediction/sweeps/hbftehhf\" target=\"_blank\">https://wandb.ai/luiscostigan/house-price-prediction/sweeps/hbftehhf</a><br/>\n",
       "\n",
       "                "
      ],
      "text/plain": [
       "<IPython.core.display.HTML object>"
      ]
     },
     "metadata": {},
     "output_type": "display_data"
    },
    {
     "name": "stdout",
     "output_type": "stream",
     "text": [
      "37/37 [==============================] - 0s 2ms/step - loss: 0.5117 - root_mean_squared_error: 0.7153\n",
      "Score for fold 2: loss of 0.5116884708404541; root_mean_squared_error of 0.7153240442276001\n",
      "------------------------------------------------------------------------\n",
      "Score per fold\n",
      "------------------------------------------------------------------------\n",
      "> Fold 1 - Loss: 0.42114102840423584 - RMSE: 0.6489537954330444%\n",
      "------------------------------------------------------------------------\n",
      "> Fold 2 - Loss: 0.5116884708404541 - RMSE: 0.7153240442276001%\n",
      "------------------------------------------------------------------------\n",
      "Average scores for all folds:\n",
      "> RMSE: 0.6821389198303223 (+- 0.03318512439727783)\n",
      "> Loss: 0.46641474962234497\n",
      "------------------------------------------------------------------------\n"
     ]
    },
    {
     "data": {
      "text/html": [
       "<br/>Waiting for W&B process to finish, PID 5420... <strong style=\"color:green\">(success).</strong>"
      ],
      "text/plain": [
       "<IPython.core.display.HTML object>"
      ]
     },
     "metadata": {},
     "output_type": "display_data"
    },
    {
     "data": {
      "application/vnd.jupyter.widget-view+json": {
       "model_id": "b07dbc63068f4be39b84fe74c4a80883",
       "version_major": 2,
       "version_minor": 0
      },
      "text/plain": [
       "VBox(children=(Label(value=' 0.12MB of 0.12MB uploaded (0.00MB deduped)\\r'), FloatProgress(value=1.0, max=1.0)…"
      ]
     },
     "metadata": {},
     "output_type": "display_data"
    },
    {
     "data": {
      "text/html": [
       "<style>\n",
       "    table.wandb td:nth-child(1) { padding: 0 10px; text-align: right }\n",
       "    .wandb-row { display: flex; flex-direction: row; flex-wrap: wrap; width: 100% }\n",
       "    .wandb-col { display: flex; flex-direction: column; flex-basis: 100%; flex: 1; padding: 10px; }\n",
       "    </style>\n",
       "<div class=\"wandb-row\"><div class=\"wandb-col\">\n",
       "<h3>Run history:</h3><br/><table class=\"wandb\"><tr><td>Mean Validation Loss (all folds)</td><td>▁</td></tr><tr><td>Mean Validation RMSE (all folds)</td><td>▁</td></tr><tr><td>epoch</td><td>▁▁▁▂▂▂▂▂▂▃▃▃▃▃▄▄▄▄▄▄▅▅▅▅▅▅▆▆▆▆▆▇▇▇▇▇▇███</td></tr><tr><td>loss</td><td>█▅▃▂▂▂▁▁▁▁▁▁▁▁▁▁▁▁▁▁▁▁▁▁▁▁▁▁▁▁▁▁▁▁▁▁▁▁▁▁</td></tr><tr><td>root_mean_squared_error</td><td>█▆▅▃▃▃▂▂▂▂▂▂▂▂▁▂▁▁▂▁▁▁▁▁▁▁▁▁▂▁▁▁▁▁▁▁▁▁▁▁</td></tr><tr><td>val_loss</td><td>▂▂▂▂▃█▄▂▄▂▃▁▃▆█▃▅▆▅▅▂▃▁▄▂▂▆▄▄▃▂▃▁▂▂▂▂▂▃▄</td></tr><tr><td>val_root_mean_squared_error</td><td>▂▂▂▃▃█▅▃▅▂▃▁▄▇█▄▆▆▅▆▃▄▂▅▃▃▆▅▅▄▃▃▁▃▃▂▃▂▄▅</td></tr></table><br/></div><div class=\"wandb-col\">\n",
       "<h3>Run summary:</h3><br/><table class=\"wandb\"><tr><td>Mean Validation Loss (all folds)</td><td>0.46641</td></tr><tr><td>Mean Validation RMSE (all folds)</td><td>0.68214</td></tr><tr><td>best_epoch</td><td>11</td></tr><tr><td>best_val_loss</td><td>0.07723</td></tr><tr><td>epoch</td><td>249</td></tr><tr><td>loss</td><td>0.06959</td></tr><tr><td>root_mean_squared_error</td><td>0.26379</td></tr><tr><td>val_loss</td><td>0.51169</td></tr><tr><td>val_root_mean_squared_error</td><td>0.71532</td></tr></table>\n",
       "</div></div>\n",
       "Synced 5 W&B file(s), 0 media file(s), 0 artifact file(s) and 1 other file(s)\n",
       "<br/>Synced <strong style=\"color:#cdcd00\">winter-sweep-1</strong>: <a href=\"https://wandb.ai/luiscostigan/house-price-prediction/runs/tjv4e6i3\" target=\"_blank\">https://wandb.ai/luiscostigan/house-price-prediction/runs/tjv4e6i3</a><br/>\n",
       "Find logs at: <code>./wandb/run-20220304_122235-tjv4e6i3/logs</code><br/>\n"
      ],
      "text/plain": [
       "<IPython.core.display.HTML object>"
      ]
     },
     "metadata": {},
     "output_type": "display_data"
    },
    {
     "name": "stderr",
     "output_type": "stream",
     "text": [
      "\u001b[34m\u001b[1mwandb\u001b[0m: wandb version 0.12.11 is available!  To upgrade, please run:\n",
      "\u001b[34m\u001b[1mwandb\u001b[0m:  $ pip install wandb --upgrade\n"
     ]
    },
    {
     "data": {
      "text/html": [
       "\n",
       "                    Syncing run <strong><a href=\"https://wandb.ai/luiscostigan/house-price-prediction/runs/tjv4e6i3\" target=\"_blank\">winter-sweep-1</a></strong> to <a href=\"https://wandb.ai/luiscostigan/house-price-prediction\" target=\"_blank\">Weights & Biases</a> (<a href=\"https://docs.wandb.com/integrations/jupyter.html\" target=\"_blank\">docs</a>).<br/>\n",
       "Sweep page: <a href=\"https://wandb.ai/luiscostigan/house-price-prediction/sweeps/hbftehhf\" target=\"_blank\">https://wandb.ai/luiscostigan/house-price-prediction/sweeps/hbftehhf</a><br/>\n",
       "\n",
       "                "
      ],
      "text/plain": [
       "<IPython.core.display.HTML object>"
      ]
     },
     "metadata": {},
     "output_type": "display_data"
    },
    {
     "name": "stdout",
     "output_type": "stream",
     "text": [
      "37/37 [==============================] - 0s 1ms/step - loss: 0.8107 - root_mean_squared_error: 0.9004\n",
      "Score for fold 3: loss of 0.8106940388679504; root_mean_squared_error of 0.9003854990005493\n",
      "------------------------------------------------------------------------\n",
      "Score per fold\n",
      "------------------------------------------------------------------------\n",
      "> Fold 1 - Loss: 0.42114102840423584 - RMSE: 0.6489537954330444%\n",
      "------------------------------------------------------------------------\n",
      "> Fold 2 - Loss: 0.5116884708404541 - RMSE: 0.7153240442276001%\n",
      "------------------------------------------------------------------------\n",
      "> Fold 3 - Loss: 0.8106940388679504 - RMSE: 0.9003854990005493%\n",
      "------------------------------------------------------------------------\n",
      "Average scores for all folds:\n",
      "> RMSE: 0.7548877795537313 (+- 0.10639060815200915)\n",
      "> Loss: 0.5811745127042135\n",
      "------------------------------------------------------------------------\n"
     ]
    },
    {
     "data": {
      "text/html": [
       "<br/>Waiting for W&B process to finish, PID 10682... <strong style=\"color:green\">(success).</strong>"
      ],
      "text/plain": [
       "<IPython.core.display.HTML object>"
      ]
     },
     "metadata": {},
     "output_type": "display_data"
    },
    {
     "data": {
      "application/vnd.jupyter.widget-view+json": {
       "model_id": "084cf48f0cab4aada690bbbba977657f",
       "version_major": 2,
       "version_minor": 0
      },
      "text/plain": [
       "VBox(children=(Label(value=' 0.12MB of 0.12MB uploaded (0.00MB deduped)\\r'), FloatProgress(value=1.0, max=1.0)…"
      ]
     },
     "metadata": {},
     "output_type": "display_data"
    },
    {
     "data": {
      "text/html": [
       "<style>\n",
       "    table.wandb td:nth-child(1) { padding: 0 10px; text-align: right }\n",
       "    .wandb-row { display: flex; flex-direction: row; flex-wrap: wrap; width: 100% }\n",
       "    .wandb-col { display: flex; flex-direction: column; flex-basis: 100%; flex: 1; padding: 10px; }\n",
       "    </style>\n",
       "<div class=\"wandb-row\"><div class=\"wandb-col\">\n",
       "<h3>Run history:</h3><br/><table class=\"wandb\"><tr><td>Mean Validation Loss (all folds)</td><td>▁</td></tr><tr><td>Mean Validation RMSE (all folds)</td><td>▁</td></tr><tr><td>epoch</td><td>▁▁▁▂▂▂▂▂▂▃▃▃▃▃▄▄▄▄▄▄▅▅▅▅▅▅▆▆▆▆▆▇▇▇▇▇▇███</td></tr><tr><td>loss</td><td>█▂▁▁▁▁▁▁▁▁▁▁▁▁▁▁▁▁▁▁▁▁▁▁▁▁▁▁▁▁▁▁▁▁▁▁▁▁▁▁</td></tr><tr><td>root_mean_squared_error</td><td>█▃▂▂▂▁▁▂▂▁▁▂▁▁▁▂▁▁▂▂▁▁▂▂▁▁▁▁▁▂▁▁▁▁▁▂▁▁▁▁</td></tr><tr><td>val_loss</td><td>▄▁█▅▅▆▅▃▃▄▃▅▂▆▁▃▃▂▃▄▃▃▅▂▄▃▃▃▂▃▄▂▄▅▃▅▅▃▂▂</td></tr><tr><td>val_root_mean_squared_error</td><td>▅▁█▆▅▆▆▄▃▅▄▆▃▇▁▄▄▃▄▅▄▄▅▃▄▃▄▃▂▄▄▂▄▆▄▅▅▄▃▃</td></tr></table><br/></div><div class=\"wandb-col\">\n",
       "<h3>Run summary:</h3><br/><table class=\"wandb\"><tr><td>Mean Validation Loss (all folds)</td><td>0.58117</td></tr><tr><td>Mean Validation RMSE (all folds)</td><td>0.75489</td></tr><tr><td>best_epoch</td><td>4</td></tr><tr><td>best_val_loss</td><td>0.16061</td></tr><tr><td>epoch</td><td>249</td></tr><tr><td>loss</td><td>0.0198</td></tr><tr><td>root_mean_squared_error</td><td>0.1407</td></tr><tr><td>val_loss</td><td>0.81069</td></tr><tr><td>val_root_mean_squared_error</td><td>0.90039</td></tr></table>\n",
       "</div></div>\n",
       "Synced 5 W&B file(s), 0 media file(s), 0 artifact file(s) and 1 other file(s)\n",
       "<br/>Synced <strong style=\"color:#cdcd00\">winter-sweep-1</strong>: <a href=\"https://wandb.ai/luiscostigan/house-price-prediction/runs/tjv4e6i3\" target=\"_blank\">https://wandb.ai/luiscostigan/house-price-prediction/runs/tjv4e6i3</a><br/>\n",
       "Find logs at: <code>./wandb/run-20220304_122321-tjv4e6i3/logs</code><br/>\n"
      ],
      "text/plain": [
       "<IPython.core.display.HTML object>"
      ]
     },
     "metadata": {},
     "output_type": "display_data"
    },
    {
     "name": "stderr",
     "output_type": "stream",
     "text": [
      "\u001b[34m\u001b[1mwandb\u001b[0m: wandb version 0.12.11 is available!  To upgrade, please run:\n",
      "\u001b[34m\u001b[1mwandb\u001b[0m:  $ pip install wandb --upgrade\n"
     ]
    },
    {
     "data": {
      "text/html": [
       "\n",
       "                    Syncing run <strong><a href=\"https://wandb.ai/luiscostigan/house-price-prediction/runs/tjv4e6i3\" target=\"_blank\">winter-sweep-1</a></strong> to <a href=\"https://wandb.ai/luiscostigan/house-price-prediction\" target=\"_blank\">Weights & Biases</a> (<a href=\"https://docs.wandb.com/integrations/jupyter.html\" target=\"_blank\">docs</a>).<br/>\n",
       "Sweep page: <a href=\"https://wandb.ai/luiscostigan/house-price-prediction/sweeps/hbftehhf\" target=\"_blank\">https://wandb.ai/luiscostigan/house-price-prediction/sweeps/hbftehhf</a><br/>\n",
       "\n",
       "                "
      ],
      "text/plain": [
       "<IPython.core.display.HTML object>"
      ]
     },
     "metadata": {},
     "output_type": "display_data"
    },
    {
     "name": "stdout",
     "output_type": "stream",
     "text": [
      "37/37 [==============================] - 0s 1ms/step - loss: 0.6957 - root_mean_squared_error: 0.8341\n",
      "Score for fold 4: loss of 0.6957235336303711; root_mean_squared_error of 0.8341004252433777\n",
      "------------------------------------------------------------------------\n",
      "Score per fold\n",
      "------------------------------------------------------------------------\n",
      "> Fold 1 - Loss: 0.42114102840423584 - RMSE: 0.6489537954330444%\n",
      "------------------------------------------------------------------------\n",
      "> Fold 2 - Loss: 0.5116884708404541 - RMSE: 0.7153240442276001%\n",
      "------------------------------------------------------------------------\n",
      "> Fold 3 - Loss: 0.8106940388679504 - RMSE: 0.9003854990005493%\n",
      "------------------------------------------------------------------------\n",
      "> Fold 4 - Loss: 0.6957235336303711 - RMSE: 0.8341004252433777%\n",
      "------------------------------------------------------------------------\n",
      "Average scores for all folds:\n",
      "> RMSE: 0.7746909409761429 (+- 0.09831437704721542)\n",
      "> Loss: 0.6098117679357529\n",
      "------------------------------------------------------------------------\n"
     ]
    },
    {
     "data": {
      "text/html": [
       "<br/>Waiting for W&B process to finish, PID 15974... <strong style=\"color:green\">(success).</strong>"
      ],
      "text/plain": [
       "<IPython.core.display.HTML object>"
      ]
     },
     "metadata": {},
     "output_type": "display_data"
    },
    {
     "data": {
      "application/vnd.jupyter.widget-view+json": {
       "model_id": "9374de2a6c3140c4a8b8364560539b5b",
       "version_major": 2,
       "version_minor": 0
      },
      "text/plain": [
       "VBox(children=(Label(value=' 0.12MB of 0.12MB uploaded (0.00MB deduped)\\r'), FloatProgress(value=1.0, max=1.0)…"
      ]
     },
     "metadata": {},
     "output_type": "display_data"
    },
    {
     "data": {
      "text/html": [
       "<style>\n",
       "    table.wandb td:nth-child(1) { padding: 0 10px; text-align: right }\n",
       "    .wandb-row { display: flex; flex-direction: row; flex-wrap: wrap; width: 100% }\n",
       "    .wandb-col { display: flex; flex-direction: column; flex-basis: 100%; flex: 1; padding: 10px; }\n",
       "    </style>\n",
       "<div class=\"wandb-row\"><div class=\"wandb-col\">\n",
       "<h3>Run history:</h3><br/><table class=\"wandb\"><tr><td>Mean Validation Loss (all folds)</td><td>▁</td></tr><tr><td>Mean Validation RMSE (all folds)</td><td>▁</td></tr><tr><td>epoch</td><td>▁▁▁▂▂▂▂▂▂▃▃▃▃▃▄▄▄▄▄▄▅▅▅▅▅▅▆▆▆▆▆▇▇▇▇▇▇███</td></tr><tr><td>loss</td><td>█▁▁▁▁▁▁▁▁▁▁▁▁▁▁▁▁▁▁▁▁▁▁▁▁▁▁▁▁▁▁▁▁▁▁▁▁▁▁▁</td></tr><tr><td>root_mean_squared_error</td><td>█▂▂▂▁▁▁▁▁▂▁▁▁▁▁▁▁▁▁▁▁▁▁▁▁▁▁▁▁▁▂▁▁▁▁▁▁▁▁▁</td></tr><tr><td>val_loss</td><td>▁▂▃▄▃▂▆▆▇▃█▄▇▅▆▅▇▆▃▂▆▆▃▆▅▄▆▃▃▄▂▁▅▂▆▃▅▆▃▆</td></tr><tr><td>val_root_mean_squared_error</td><td>▁▃▄▅▄▂▆▆▇▃█▅▇▅▆▅▇▆▄▃▆▆▄▇▆▅▆▄▄▅▃▂▅▃▆▃▆▆▄▆</td></tr></table><br/></div><div class=\"wandb-col\">\n",
       "<h3>Run summary:</h3><br/><table class=\"wandb\"><tr><td>Mean Validation Loss (all folds)</td><td>0.60981</td></tr><tr><td>Mean Validation RMSE (all folds)</td><td>0.77469</td></tr><tr><td>best_epoch</td><td>1</td></tr><tr><td>best_val_loss</td><td>0.24033</td></tr><tr><td>epoch</td><td>249</td></tr><tr><td>loss</td><td>0.02622</td></tr><tr><td>root_mean_squared_error</td><td>0.16194</td></tr><tr><td>val_loss</td><td>0.69572</td></tr><tr><td>val_root_mean_squared_error</td><td>0.8341</td></tr></table>\n",
       "</div></div>\n",
       "Synced 5 W&B file(s), 0 media file(s), 0 artifact file(s) and 1 other file(s)\n",
       "<br/>Synced <strong style=\"color:#cdcd00\">winter-sweep-1</strong>: <a href=\"https://wandb.ai/luiscostigan/house-price-prediction/runs/tjv4e6i3\" target=\"_blank\">https://wandb.ai/luiscostigan/house-price-prediction/runs/tjv4e6i3</a><br/>\n",
       "Find logs at: <code>./wandb/run-20220304_122407-tjv4e6i3/logs</code><br/>\n"
      ],
      "text/plain": [
       "<IPython.core.display.HTML object>"
      ]
     },
     "metadata": {},
     "output_type": "display_data"
    },
    {
     "name": "stderr",
     "output_type": "stream",
     "text": [
      "\u001b[34m\u001b[1mwandb\u001b[0m: wandb version 0.12.11 is available!  To upgrade, please run:\n",
      "\u001b[34m\u001b[1mwandb\u001b[0m:  $ pip install wandb --upgrade\n"
     ]
    },
    {
     "data": {
      "text/html": [
       "\n",
       "                    Syncing run <strong><a href=\"https://wandb.ai/luiscostigan/house-price-prediction/runs/tjv4e6i3\" target=\"_blank\">winter-sweep-1</a></strong> to <a href=\"https://wandb.ai/luiscostigan/house-price-prediction\" target=\"_blank\">Weights & Biases</a> (<a href=\"https://docs.wandb.com/integrations/jupyter.html\" target=\"_blank\">docs</a>).<br/>\n",
       "Sweep page: <a href=\"https://wandb.ai/luiscostigan/house-price-prediction/sweeps/hbftehhf\" target=\"_blank\">https://wandb.ai/luiscostigan/house-price-prediction/sweeps/hbftehhf</a><br/>\n",
       "\n",
       "                "
      ],
      "text/plain": [
       "<IPython.core.display.HTML object>"
      ]
     },
     "metadata": {},
     "output_type": "display_data"
    },
    {
     "name": "stdout",
     "output_type": "stream",
     "text": [
      "37/37 [==============================] - 0s 2ms/step - loss: 1.0411 - root_mean_squared_error: 1.0203\n",
      "Score for fold 5: loss of 1.0410889387130737; root_mean_squared_error of 1.020337700843811\n",
      "------------------------------------------------------------------------\n",
      "Score per fold\n",
      "------------------------------------------------------------------------\n",
      "> Fold 1 - Loss: 0.42114102840423584 - RMSE: 0.6489537954330444%\n",
      "------------------------------------------------------------------------\n",
      "> Fold 2 - Loss: 0.5116884708404541 - RMSE: 0.7153240442276001%\n",
      "------------------------------------------------------------------------\n",
      "> Fold 3 - Loss: 0.8106940388679504 - RMSE: 0.9003854990005493%\n",
      "------------------------------------------------------------------------\n",
      "> Fold 4 - Loss: 0.6957235336303711 - RMSE: 0.8341004252433777%\n",
      "------------------------------------------------------------------------\n",
      "> Fold 5 - Loss: 1.0410889387130737 - RMSE: 1.020337700843811%\n",
      "------------------------------------------------------------------------\n",
      "Average scores for all folds:\n",
      "> RMSE: 0.8238202929496765 (+- 0.1318610870905554)\n",
      "> Loss: 0.6960672020912171\n",
      "------------------------------------------------------------------------\n"
     ]
    },
    {
     "data": {
      "text/html": [
       "<br/>Waiting for W&B process to finish, PID 21230... <strong style=\"color:green\">(success).</strong>"
      ],
      "text/plain": [
       "<IPython.core.display.HTML object>"
      ]
     },
     "metadata": {},
     "output_type": "display_data"
    },
    {
     "data": {
      "application/vnd.jupyter.widget-view+json": {
       "model_id": "cbe124c9da49429e8226e9eacc8400e0",
       "version_major": 2,
       "version_minor": 0
      },
      "text/plain": [
       "VBox(children=(Label(value=' 0.12MB of 0.12MB uploaded (0.00MB deduped)\\r'), FloatProgress(value=1.0, max=1.0)…"
      ]
     },
     "metadata": {},
     "output_type": "display_data"
    },
    {
     "data": {
      "text/html": [
       "<style>\n",
       "    table.wandb td:nth-child(1) { padding: 0 10px; text-align: right }\n",
       "    .wandb-row { display: flex; flex-direction: row; flex-wrap: wrap; width: 100% }\n",
       "    .wandb-col { display: flex; flex-direction: column; flex-basis: 100%; flex: 1; padding: 10px; }\n",
       "    </style>\n",
       "<div class=\"wandb-row\"><div class=\"wandb-col\">\n",
       "<h3>Run history:</h3><br/><table class=\"wandb\"><tr><td>Mean Validation Loss (all folds)</td><td>▁</td></tr><tr><td>Mean Validation RMSE (all folds)</td><td>▁</td></tr><tr><td>epoch</td><td>▁▁▁▂▂▂▂▂▂▃▃▃▃▃▄▄▄▄▄▄▅▅▅▅▅▅▆▆▆▆▆▇▇▇▇▇▇███</td></tr><tr><td>loss</td><td>█▄▂▁▁▁▁▁▁▁▁▁▁▁▁▁▁▁▁▁▁▁▁▁▁▁▁▁▁▁▁▁▁▁▁▁▁▁▁▁</td></tr><tr><td>root_mean_squared_error</td><td>█▅▃▂▂▂▂▂▁▁▁▂▁▁▁▁▁▁▁▁▁▁▁▁▁▁▁▁▂▁▁▁▁▁▁▁▁▁▁▁</td></tr><tr><td>val_loss</td><td>▄▃▂▆▆▃▄▄█▆▆▅▃▇▅▇▃▂▂▆▇▇▂▂▂▅▅▃▂▂▃▅▅▅▄▄▃▅▁▂</td></tr><tr><td>val_root_mean_squared_error</td><td>▄▃▂▆▆▄▅▅█▆▆▆▄▇▆▇▃▂▃▇▇▇▃▃▂▆▆▃▂▃▃▆▆▅▅▅▃▆▁▃</td></tr></table><br/></div><div class=\"wandb-col\">\n",
       "<h3>Run summary:</h3><br/><table class=\"wandb\"><tr><td>Mean Validation Loss (all folds)</td><td>0.69607</td></tr><tr><td>Mean Validation RMSE (all folds)</td><td>0.82382</td></tr><tr><td>best_epoch</td><td>6</td></tr><tr><td>best_val_loss</td><td>0.12218</td></tr><tr><td>epoch</td><td>249</td></tr><tr><td>loss</td><td>0.02932</td></tr><tr><td>root_mean_squared_error</td><td>0.17124</td></tr><tr><td>val_loss</td><td>1.04109</td></tr><tr><td>val_root_mean_squared_error</td><td>1.02034</td></tr></table>\n",
       "</div></div>\n",
       "Synced 5 W&B file(s), 0 media file(s), 0 artifact file(s) and 1 other file(s)\n",
       "<br/>Synced <strong style=\"color:#cdcd00\">winter-sweep-1</strong>: <a href=\"https://wandb.ai/luiscostigan/house-price-prediction/runs/tjv4e6i3\" target=\"_blank\">https://wandb.ai/luiscostigan/house-price-prediction/runs/tjv4e6i3</a><br/>\n",
       "Find logs at: <code>./wandb/run-20220304_122453-tjv4e6i3/logs</code><br/>\n"
      ],
      "text/plain": [
       "<IPython.core.display.HTML object>"
      ]
     },
     "metadata": {},
     "output_type": "display_data"
    },
    {
     "name": "stderr",
     "output_type": "stream",
     "text": [
      "\u001b[34m\u001b[1mwandb\u001b[0m: Agent Starting Run: encg59mp with config:\n",
      "\u001b[34m\u001b[1mwandb\u001b[0m: \tbatch_size: 16\n",
      "\u001b[34m\u001b[1mwandb\u001b[0m: \tdense1: 16\n",
      "\u001b[34m\u001b[1mwandb\u001b[0m: \tdense2: 16\n",
      "\u001b[34m\u001b[1mwandb\u001b[0m: \tdropout1: 0.16810433224685223\n",
      "\u001b[34m\u001b[1mwandb\u001b[0m: \tepochs: 500\n",
      "\u001b[34m\u001b[1mwandb\u001b[0m: wandb version 0.12.11 is available!  To upgrade, please run:\n",
      "\u001b[34m\u001b[1mwandb\u001b[0m:  $ pip install wandb --upgrade\n"
     ]
    },
    {
     "data": {
      "text/html": [
       "\n",
       "                    Syncing run <strong><a href=\"https://wandb.ai/luiscostigan/house-price-prediction/runs/encg59mp\" target=\"_blank\">twilight-sweep-2</a></strong> to <a href=\"https://wandb.ai/luiscostigan/house-price-prediction\" target=\"_blank\">Weights & Biases</a> (<a href=\"https://docs.wandb.com/integrations/jupyter.html\" target=\"_blank\">docs</a>).<br/>\n",
       "Sweep page: <a href=\"https://wandb.ai/luiscostigan/house-price-prediction/sweeps/hbftehhf\" target=\"_blank\">https://wandb.ai/luiscostigan/house-price-prediction/sweeps/hbftehhf</a><br/>\n",
       "\n",
       "                "
      ],
      "text/plain": [
       "<IPython.core.display.HTML object>"
      ]
     },
     "metadata": {},
     "output_type": "display_data"
    },
    {
     "name": "stdout",
     "output_type": "stream",
     "text": [
      "37/37 [==============================] - 0s 1ms/step - loss: 2.2729 - root_mean_squared_error: 1.5076\n",
      "Score for fold 1: loss of 2.2729437351226807; root_mean_squared_error of 1.5076285600662231\n",
      "------------------------------------------------------------------------\n",
      "Score per fold\n",
      "------------------------------------------------------------------------\n",
      "> Fold 1 - Loss: 2.2729437351226807 - RMSE: 1.5076285600662231%\n",
      "------------------------------------------------------------------------\n",
      "Average scores for all folds:\n",
      "> RMSE: 1.5076285600662231 (+- 0.0)\n",
      "> Loss: 2.2729437351226807\n",
      "------------------------------------------------------------------------\n"
     ]
    },
    {
     "data": {
      "text/html": [
       "<br/>Waiting for W&B process to finish, PID 26515... <strong style=\"color:green\">(success).</strong>"
      ],
      "text/plain": [
       "<IPython.core.display.HTML object>"
      ]
     },
     "metadata": {},
     "output_type": "display_data"
    },
    {
     "data": {
      "application/vnd.jupyter.widget-view+json": {
       "model_id": "5b0a8a834ae9437897c8d64dccee6b81",
       "version_major": 2,
       "version_minor": 0
      },
      "text/plain": [
       "VBox(children=(Label(value=' 0.12MB of 0.12MB uploaded (0.00MB deduped)\\r'), FloatProgress(value=1.0, max=1.0)…"
      ]
     },
     "metadata": {},
     "output_type": "display_data"
    },
    {
     "data": {
      "text/html": [
       "<style>\n",
       "    table.wandb td:nth-child(1) { padding: 0 10px; text-align: right }\n",
       "    .wandb-row { display: flex; flex-direction: row; flex-wrap: wrap; width: 100% }\n",
       "    .wandb-col { display: flex; flex-direction: column; flex-basis: 100%; flex: 1; padding: 10px; }\n",
       "    </style>\n",
       "<div class=\"wandb-row\"><div class=\"wandb-col\">\n",
       "<h3>Run history:</h3><br/><table class=\"wandb\"><tr><td>Mean Validation Loss (all folds)</td><td>▁</td></tr><tr><td>Mean Validation RMSE (all folds)</td><td>▁</td></tr><tr><td>epoch</td><td>▁▁▁▂▂▂▂▂▂▃▃▃▃▃▄▄▄▄▄▄▅▅▅▅▅▅▆▆▆▆▆▇▇▇▇▇▇███</td></tr><tr><td>loss</td><td>█▃▁▁▁▁▁▁▁▁▁▁▁▁▁▁▁▁▁▁▁▁▁▁▁▁▁▁▁▁▁▁▁▁▁▁▁▁▁▁</td></tr><tr><td>root_mean_squared_error</td><td>█▄▂▂▁▂▁▁▁▁▁▁▂▁▁▁▁▁▁▂▂▁▁▁▂▁▁▁▁▁▁▁▁▁▁▁▁▁▁▁</td></tr><tr><td>val_loss</td><td>▁▇▆▆██▇▆▅▆▆▅▆▅▇▆▇▅▆▅▅▆▆▅▆▅▆▄▅▅▄▆▅▆▆▅▆▆▆▆</td></tr><tr><td>val_root_mean_squared_error</td><td>▁█▇▇███▇▆▇▇▆▇▆▇▇▇▆▇▆▆▇▇▆▇▆▇▅▆▆▅▇▆▇▇▆▇▆▆▆</td></tr></table><br/></div><div class=\"wandb-col\">\n",
       "<h3>Run summary:</h3><br/><table class=\"wandb\"><tr><td>Mean Validation Loss (all folds)</td><td>2.27294</td></tr><tr><td>Mean Validation RMSE (all folds)</td><td>1.50763</td></tr><tr><td>best_epoch</td><td>3</td></tr><tr><td>best_val_loss</td><td>0.19802</td></tr><tr><td>epoch</td><td>499</td></tr><tr><td>loss</td><td>0.0176</td></tr><tr><td>root_mean_squared_error</td><td>0.13266</td></tr><tr><td>val_loss</td><td>2.27294</td></tr><tr><td>val_root_mean_squared_error</td><td>1.50763</td></tr></table>\n",
       "</div></div>\n",
       "Synced 5 W&B file(s), 0 media file(s), 0 artifact file(s) and 1 other file(s)\n",
       "<br/>Synced <strong style=\"color:#cdcd00\">twilight-sweep-2</strong>: <a href=\"https://wandb.ai/luiscostigan/house-price-prediction/runs/encg59mp\" target=\"_blank\">https://wandb.ai/luiscostigan/house-price-prediction/runs/encg59mp</a><br/>\n",
       "Find logs at: <code>./wandb/run-20220304_122543-encg59mp/logs</code><br/>\n"
      ],
      "text/plain": [
       "<IPython.core.display.HTML object>"
      ]
     },
     "metadata": {},
     "output_type": "display_data"
    },
    {
     "name": "stderr",
     "output_type": "stream",
     "text": [
      "\u001b[34m\u001b[1mwandb\u001b[0m: wandb version 0.12.11 is available!  To upgrade, please run:\n",
      "\u001b[34m\u001b[1mwandb\u001b[0m:  $ pip install wandb --upgrade\n"
     ]
    },
    {
     "data": {
      "text/html": [
       "\n",
       "                    Syncing run <strong><a href=\"https://wandb.ai/luiscostigan/house-price-prediction/runs/encg59mp\" target=\"_blank\">twilight-sweep-2</a></strong> to <a href=\"https://wandb.ai/luiscostigan/house-price-prediction\" target=\"_blank\">Weights & Biases</a> (<a href=\"https://docs.wandb.com/integrations/jupyter.html\" target=\"_blank\">docs</a>).<br/>\n",
       "Sweep page: <a href=\"https://wandb.ai/luiscostigan/house-price-prediction/sweeps/hbftehhf\" target=\"_blank\">https://wandb.ai/luiscostigan/house-price-prediction/sweeps/hbftehhf</a><br/>\n",
       "\n",
       "                "
      ],
      "text/plain": [
       "<IPython.core.display.HTML object>"
      ]
     },
     "metadata": {},
     "output_type": "display_data"
    },
    {
     "name": "stdout",
     "output_type": "stream",
     "text": [
      "37/37 [==============================] - 0s 2ms/step - loss: 1.1247 - root_mean_squared_error: 1.0605\n",
      "Score for fold 2: loss of 1.1247214078903198; root_mean_squared_error of 1.0605288743972778\n",
      "------------------------------------------------------------------------\n",
      "Score per fold\n",
      "------------------------------------------------------------------------\n",
      "> Fold 1 - Loss: 2.2729437351226807 - RMSE: 1.5076285600662231%\n",
      "------------------------------------------------------------------------\n",
      "> Fold 2 - Loss: 1.1247214078903198 - RMSE: 1.0605288743972778%\n",
      "------------------------------------------------------------------------\n",
      "Average scores for all folds:\n",
      "> RMSE: 1.2840787172317505 (+- 0.22354984283447266)\n",
      "> Loss: 1.6988325715065002\n",
      "------------------------------------------------------------------------\n"
     ]
    },
    {
     "data": {
      "text/html": [
       "<br/>Waiting for W&B process to finish, PID 4438... <strong style=\"color:green\">(success).</strong>"
      ],
      "text/plain": [
       "<IPython.core.display.HTML object>"
      ]
     },
     "metadata": {},
     "output_type": "display_data"
    },
    {
     "data": {
      "application/vnd.jupyter.widget-view+json": {
       "model_id": "2b20f5d13c83479dae80c6d9818c8ab0",
       "version_major": 2,
       "version_minor": 0
      },
      "text/plain": [
       "VBox(children=(Label(value=' 0.12MB of 0.12MB uploaded (0.00MB deduped)\\r'), FloatProgress(value=1.0, max=1.0)…"
      ]
     },
     "metadata": {},
     "output_type": "display_data"
    },
    {
     "data": {
      "text/html": [
       "<style>\n",
       "    table.wandb td:nth-child(1) { padding: 0 10px; text-align: right }\n",
       "    .wandb-row { display: flex; flex-direction: row; flex-wrap: wrap; width: 100% }\n",
       "    .wandb-col { display: flex; flex-direction: column; flex-basis: 100%; flex: 1; padding: 10px; }\n",
       "    </style>\n",
       "<div class=\"wandb-row\"><div class=\"wandb-col\">\n",
       "<h3>Run history:</h3><br/><table class=\"wandb\"><tr><td>Mean Validation Loss (all folds)</td><td>▁</td></tr><tr><td>Mean Validation RMSE (all folds)</td><td>▁</td></tr><tr><td>epoch</td><td>▁▁▁▂▂▂▂▂▂▃▃▃▃▃▄▄▄▄▄▄▅▅▅▅▅▅▆▆▆▆▆▇▇▇▇▇▇███</td></tr><tr><td>loss</td><td>█▂▁▁▁▁▁▁▁▁▁▁▁▁▁▁▁▁▁▁▁▁▁▁▁▁▁▁▁▁▁▁▁▁▁▁▁▁▁▁</td></tr><tr><td>root_mean_squared_error</td><td>█▄▃▂▂▂▂▂▂▂▁▂▁▁▂▁▂▁▂▁▁▁▁▁▁▁▁▁▁▁▁▁▁▁▁▁▁▁▁▁</td></tr><tr><td>val_loss</td><td>▁█▆▆▅▆▇▇▄▅▃▆▄▄▄▅▅▄▄▃▃▃▄▃▄▂▃▄▃▃▂▄▂▂▃▂▂▃▂▂</td></tr><tr><td>val_root_mean_squared_error</td><td>▁█▇▇▆▆▇▇▅▆▄▇▄▄▅▆▅▄▅▃▃▄▄▃▅▃▃▅▄▃▂▄▂▃▃▂▂▃▂▃</td></tr></table><br/></div><div class=\"wandb-col\">\n",
       "<h3>Run summary:</h3><br/><table class=\"wandb\"><tr><td>Mean Validation Loss (all folds)</td><td>1.69883</td></tr><tr><td>Mean Validation RMSE (all folds)</td><td>1.28408</td></tr><tr><td>best_epoch</td><td>4</td></tr><tr><td>best_val_loss</td><td>0.17906</td></tr><tr><td>epoch</td><td>499</td></tr><tr><td>loss</td><td>0.01163</td></tr><tr><td>root_mean_squared_error</td><td>0.10786</td></tr><tr><td>val_loss</td><td>1.12472</td></tr><tr><td>val_root_mean_squared_error</td><td>1.06053</td></tr></table>\n",
       "</div></div>\n",
       "Synced 5 W&B file(s), 0 media file(s), 0 artifact file(s) and 1 other file(s)\n",
       "<br/>Synced <strong style=\"color:#cdcd00\">twilight-sweep-2</strong>: <a href=\"https://wandb.ai/luiscostigan/house-price-prediction/runs/encg59mp\" target=\"_blank\">https://wandb.ai/luiscostigan/house-price-prediction/runs/encg59mp</a><br/>\n",
       "Find logs at: <code>./wandb/run-20220304_122706-encg59mp/logs</code><br/>\n"
      ],
      "text/plain": [
       "<IPython.core.display.HTML object>"
      ]
     },
     "metadata": {},
     "output_type": "display_data"
    },
    {
     "name": "stderr",
     "output_type": "stream",
     "text": [
      "\u001b[34m\u001b[1mwandb\u001b[0m: wandb version 0.12.11 is available!  To upgrade, please run:\n",
      "\u001b[34m\u001b[1mwandb\u001b[0m:  $ pip install wandb --upgrade\n"
     ]
    },
    {
     "data": {
      "text/html": [
       "\n",
       "                    Syncing run <strong><a href=\"https://wandb.ai/luiscostigan/house-price-prediction/runs/encg59mp\" target=\"_blank\">twilight-sweep-2</a></strong> to <a href=\"https://wandb.ai/luiscostigan/house-price-prediction\" target=\"_blank\">Weights & Biases</a> (<a href=\"https://docs.wandb.com/integrations/jupyter.html\" target=\"_blank\">docs</a>).<br/>\n",
       "Sweep page: <a href=\"https://wandb.ai/luiscostigan/house-price-prediction/sweeps/hbftehhf\" target=\"_blank\">https://wandb.ai/luiscostigan/house-price-prediction/sweeps/hbftehhf</a><br/>\n",
       "\n",
       "                "
      ],
      "text/plain": [
       "<IPython.core.display.HTML object>"
      ]
     },
     "metadata": {},
     "output_type": "display_data"
    },
    {
     "name": "stdout",
     "output_type": "stream",
     "text": [
      "37/37 [==============================] - 0s 2ms/step - loss: 2.0975 - root_mean_squared_error: 1.4483\n",
      "Score for fold 3: loss of 2.09751296043396; root_mean_squared_error of 1.4482792615890503\n",
      "------------------------------------------------------------------------\n",
      "Score per fold\n",
      "------------------------------------------------------------------------\n",
      "> Fold 1 - Loss: 2.2729437351226807 - RMSE: 1.5076285600662231%\n",
      "------------------------------------------------------------------------\n",
      "> Fold 2 - Loss: 1.1247214078903198 - RMSE: 1.0605288743972778%\n",
      "------------------------------------------------------------------------\n",
      "> Fold 3 - Loss: 2.09751296043396 - RMSE: 1.4482792615890503%\n",
      "------------------------------------------------------------------------\n",
      "Average scores for all folds:\n",
      "> RMSE: 1.338812232017517 (+- 0.19826212473007987)\n",
      "> Loss: 1.83172603448232\n",
      "------------------------------------------------------------------------\n"
     ]
    },
    {
     "data": {
      "text/html": [
       "<br/>Waiting for W&B process to finish, PID 14832... <strong style=\"color:green\">(success).</strong>"
      ],
      "text/plain": [
       "<IPython.core.display.HTML object>"
      ]
     },
     "metadata": {},
     "output_type": "display_data"
    },
    {
     "data": {
      "application/vnd.jupyter.widget-view+json": {
       "model_id": "b35cc009a05142edb9088cdc68ea2275",
       "version_major": 2,
       "version_minor": 0
      },
      "text/plain": [
       "VBox(children=(Label(value=' 0.12MB of 0.12MB uploaded (0.00MB deduped)\\r'), FloatProgress(value=1.0, max=1.0)…"
      ]
     },
     "metadata": {},
     "output_type": "display_data"
    },
    {
     "data": {
      "text/html": [
       "<style>\n",
       "    table.wandb td:nth-child(1) { padding: 0 10px; text-align: right }\n",
       "    .wandb-row { display: flex; flex-direction: row; flex-wrap: wrap; width: 100% }\n",
       "    .wandb-col { display: flex; flex-direction: column; flex-basis: 100%; flex: 1; padding: 10px; }\n",
       "    </style>\n",
       "<div class=\"wandb-row\"><div class=\"wandb-col\">\n",
       "<h3>Run history:</h3><br/><table class=\"wandb\"><tr><td>Mean Validation Loss (all folds)</td><td>▁</td></tr><tr><td>Mean Validation RMSE (all folds)</td><td>▁</td></tr><tr><td>epoch</td><td>▁▁▁▂▂▂▂▂▂▃▃▃▃▃▄▄▄▄▄▄▅▅▅▅▅▅▆▆▆▆▆▇▇▇▇▇▇███</td></tr><tr><td>loss</td><td>█▂▂▁▂▁▁▁▁▁▁▁▁▁▁▁▁▁▁▁▁▁▁▁▁▁▁▁▁▁▁▁▁▁▁▁▁▁▁▁</td></tr><tr><td>root_mean_squared_error</td><td>█▃▃▂▃▂▂▂▂▂▂▂▂▁▂▂▁▁▁▁▁▁▁▁▁▁▁▁▁▁▁▁▁▁▁▁▁▁▁▁</td></tr><tr><td>val_loss</td><td>▁█▅█▆█▄▅▄▅▅▄▄▄▅▅▆▅▃▃▂▃▄▄▄▃▂▄▄▄▃▃▃▃▃▄▃▃▃▄</td></tr><tr><td>val_root_mean_squared_error</td><td>▁█▅█▆█▄▅▅▅▅▄▄▅▆▅▆▆▄▄▃▄▅▄▄▄▃▄▅▅▄▃▃▄▄▄▄▃▄▄</td></tr></table><br/></div><div class=\"wandb-col\">\n",
       "<h3>Run summary:</h3><br/><table class=\"wandb\"><tr><td>Mean Validation Loss (all folds)</td><td>1.83173</td></tr><tr><td>Mean Validation RMSE (all folds)</td><td>1.33881</td></tr><tr><td>best_epoch</td><td>1</td></tr><tr><td>best_val_loss</td><td>0.37627</td></tr><tr><td>epoch</td><td>499</td></tr><tr><td>loss</td><td>0.01197</td></tr><tr><td>root_mean_squared_error</td><td>0.10939</td></tr><tr><td>val_loss</td><td>2.09751</td></tr><tr><td>val_root_mean_squared_error</td><td>1.44828</td></tr></table>\n",
       "</div></div>\n",
       "Synced 5 W&B file(s), 0 media file(s), 0 artifact file(s) and 1 other file(s)\n",
       "<br/>Synced <strong style=\"color:#cdcd00\">twilight-sweep-2</strong>: <a href=\"https://wandb.ai/luiscostigan/house-price-prediction/runs/encg59mp\" target=\"_blank\">https://wandb.ai/luiscostigan/house-price-prediction/runs/encg59mp</a><br/>\n",
       "Find logs at: <code>./wandb/run-20220304_122829-encg59mp/logs</code><br/>\n"
      ],
      "text/plain": [
       "<IPython.core.display.HTML object>"
      ]
     },
     "metadata": {},
     "output_type": "display_data"
    },
    {
     "name": "stderr",
     "output_type": "stream",
     "text": [
      "\u001b[34m\u001b[1mwandb\u001b[0m: wandb version 0.12.11 is available!  To upgrade, please run:\n",
      "\u001b[34m\u001b[1mwandb\u001b[0m:  $ pip install wandb --upgrade\n"
     ]
    },
    {
     "data": {
      "text/html": [
       "\n",
       "                    Syncing run <strong><a href=\"https://wandb.ai/luiscostigan/house-price-prediction/runs/encg59mp\" target=\"_blank\">twilight-sweep-2</a></strong> to <a href=\"https://wandb.ai/luiscostigan/house-price-prediction\" target=\"_blank\">Weights & Biases</a> (<a href=\"https://docs.wandb.com/integrations/jupyter.html\" target=\"_blank\">docs</a>).<br/>\n",
       "Sweep page: <a href=\"https://wandb.ai/luiscostigan/house-price-prediction/sweeps/hbftehhf\" target=\"_blank\">https://wandb.ai/luiscostigan/house-price-prediction/sweeps/hbftehhf</a><br/>\n",
       "\n",
       "                "
      ],
      "text/plain": [
       "<IPython.core.display.HTML object>"
      ]
     },
     "metadata": {},
     "output_type": "display_data"
    },
    {
     "name": "stdout",
     "output_type": "stream",
     "text": [
      "37/37 [==============================] - 0s 2ms/step - loss: 2.8229 - root_mean_squared_error: 1.6802\n",
      "Score for fold 4: loss of 2.8229148387908936; root_mean_squared_error of 1.680153250694275\n",
      "------------------------------------------------------------------------\n",
      "Score per fold\n",
      "------------------------------------------------------------------------\n",
      "> Fold 1 - Loss: 2.2729437351226807 - RMSE: 1.5076285600662231%\n",
      "------------------------------------------------------------------------\n",
      "> Fold 2 - Loss: 1.1247214078903198 - RMSE: 1.0605288743972778%\n",
      "------------------------------------------------------------------------\n",
      "> Fold 3 - Loss: 2.09751296043396 - RMSE: 1.4482792615890503%\n",
      "------------------------------------------------------------------------\n",
      "> Fold 4 - Loss: 2.8229148387908936 - RMSE: 1.680153250694275%\n",
      "------------------------------------------------------------------------\n",
      "Average scores for all folds:\n",
      "> RMSE: 1.4241474866867065 (+- 0.22655511392425148)\n",
      "> Loss: 2.0795232355594635\n",
      "------------------------------------------------------------------------\n"
     ]
    },
    {
     "data": {
      "text/html": [
       "<br/>Waiting for W&B process to finish, PID 25174... <strong style=\"color:green\">(success).</strong>"
      ],
      "text/plain": [
       "<IPython.core.display.HTML object>"
      ]
     },
     "metadata": {},
     "output_type": "display_data"
    },
    {
     "data": {
      "application/vnd.jupyter.widget-view+json": {
       "model_id": "8b6388810b5b45cb9359e6279f9090b0",
       "version_major": 2,
       "version_minor": 0
      },
      "text/plain": [
       "VBox(children=(Label(value=' 0.12MB of 0.12MB uploaded (0.00MB deduped)\\r'), FloatProgress(value=1.0, max=1.0)…"
      ]
     },
     "metadata": {},
     "output_type": "display_data"
    },
    {
     "data": {
      "text/html": [
       "<style>\n",
       "    table.wandb td:nth-child(1) { padding: 0 10px; text-align: right }\n",
       "    .wandb-row { display: flex; flex-direction: row; flex-wrap: wrap; width: 100% }\n",
       "    .wandb-col { display: flex; flex-direction: column; flex-basis: 100%; flex: 1; padding: 10px; }\n",
       "    </style>\n",
       "<div class=\"wandb-row\"><div class=\"wandb-col\">\n",
       "<h3>Run history:</h3><br/><table class=\"wandb\"><tr><td>Mean Validation Loss (all folds)</td><td>▁</td></tr><tr><td>Mean Validation RMSE (all folds)</td><td>▁</td></tr><tr><td>epoch</td><td>▁▁▁▂▂▂▂▂▂▃▃▃▃▃▄▄▄▄▄▄▅▅▅▅▅▅▆▆▆▆▆▇▇▇▇▇▇███</td></tr><tr><td>loss</td><td>█▂▂▂▂▁▁▁▁▁▁▁▁▁▁▁▁▁▁▁▁▁▁▁▁▁▁▁▁▁▁▁▁▁▁▁▁▁▁▁</td></tr><tr><td>root_mean_squared_error</td><td>█▃▂▂▃▂▂▂▂▂▂▂▂▁▂▂▂▁▂▁▁▁▁▁▁▁▁▁▁▁▁▁▁▁▁▁▁▁▁▁</td></tr><tr><td>val_loss</td><td>▁▆▄▅█▇▆▅▅▇▄▄▇▅█▅▃▆▇▅▄▅▂▄▂▅▄▅▂▃▁▅▄▂▃▂▄▅▄▂</td></tr><tr><td>val_root_mean_squared_error</td><td>▁▆▅▅█▇▆▅▅▇▅▄▇▅█▆▃▆▇▆▅▆▂▅▂▅▅▅▂▃▁▆▄▃▃▂▅▅▄▃</td></tr></table><br/></div><div class=\"wandb-col\">\n",
       "<h3>Run summary:</h3><br/><table class=\"wandb\"><tr><td>Mean Validation Loss (all folds)</td><td>2.07952</td></tr><tr><td>Mean Validation RMSE (all folds)</td><td>1.42415</td></tr><tr><td>best_epoch</td><td>2</td></tr><tr><td>best_val_loss</td><td>0.71017</td></tr><tr><td>epoch</td><td>499</td></tr><tr><td>loss</td><td>0.01202</td></tr><tr><td>root_mean_squared_error</td><td>0.10966</td></tr><tr><td>val_loss</td><td>2.82291</td></tr><tr><td>val_root_mean_squared_error</td><td>1.68015</td></tr></table>\n",
       "</div></div>\n",
       "Synced 5 W&B file(s), 0 media file(s), 0 artifact file(s) and 1 other file(s)\n",
       "<br/>Synced <strong style=\"color:#cdcd00\">twilight-sweep-2</strong>: <a href=\"https://wandb.ai/luiscostigan/house-price-prediction/runs/encg59mp\" target=\"_blank\">https://wandb.ai/luiscostigan/house-price-prediction/runs/encg59mp</a><br/>\n",
       "Find logs at: <code>./wandb/run-20220304_122953-encg59mp/logs</code><br/>\n"
      ],
      "text/plain": [
       "<IPython.core.display.HTML object>"
      ]
     },
     "metadata": {},
     "output_type": "display_data"
    },
    {
     "name": "stderr",
     "output_type": "stream",
     "text": [
      "\u001b[34m\u001b[1mwandb\u001b[0m: wandb version 0.12.11 is available!  To upgrade, please run:\n",
      "\u001b[34m\u001b[1mwandb\u001b[0m:  $ pip install wandb --upgrade\n"
     ]
    },
    {
     "data": {
      "text/html": [
       "\n",
       "                    Syncing run <strong><a href=\"https://wandb.ai/luiscostigan/house-price-prediction/runs/encg59mp\" target=\"_blank\">twilight-sweep-2</a></strong> to <a href=\"https://wandb.ai/luiscostigan/house-price-prediction\" target=\"_blank\">Weights & Biases</a> (<a href=\"https://docs.wandb.com/integrations/jupyter.html\" target=\"_blank\">docs</a>).<br/>\n",
       "Sweep page: <a href=\"https://wandb.ai/luiscostigan/house-price-prediction/sweeps/hbftehhf\" target=\"_blank\">https://wandb.ai/luiscostigan/house-price-prediction/sweeps/hbftehhf</a><br/>\n",
       "\n",
       "                "
      ],
      "text/plain": [
       "<IPython.core.display.HTML object>"
      ]
     },
     "metadata": {},
     "output_type": "display_data"
    },
    {
     "name": "stdout",
     "output_type": "stream",
     "text": [
      "37/37 [==============================] - 0s 1ms/step - loss: 2.3874 - root_mean_squared_error: 1.5451\n",
      "Score for fold 5: loss of 2.387437105178833; root_mean_squared_error of 1.545133352279663\n",
      "------------------------------------------------------------------------\n",
      "Score per fold\n",
      "------------------------------------------------------------------------\n",
      "> Fold 1 - Loss: 2.2729437351226807 - RMSE: 1.5076285600662231%\n",
      "------------------------------------------------------------------------\n",
      "> Fold 2 - Loss: 1.1247214078903198 - RMSE: 1.0605288743972778%\n",
      "------------------------------------------------------------------------\n",
      "> Fold 3 - Loss: 2.09751296043396 - RMSE: 1.4482792615890503%\n",
      "------------------------------------------------------------------------\n",
      "> Fold 4 - Loss: 2.8229148387908936 - RMSE: 1.680153250694275%\n",
      "------------------------------------------------------------------------\n",
      "> Fold 5 - Loss: 2.387437105178833 - RMSE: 1.545133352279663%\n",
      "------------------------------------------------------------------------\n",
      "Average scores for all folds:\n",
      "> RMSE: 1.4483446598052978 (+- 0.20833575896592685)\n",
      "> Loss: 2.1411060094833374\n",
      "------------------------------------------------------------------------\n"
     ]
    },
    {
     "data": {
      "text/html": [
       "<br/>Waiting for W&B process to finish, PID 3062... <strong style=\"color:green\">(success).</strong>"
      ],
      "text/plain": [
       "<IPython.core.display.HTML object>"
      ]
     },
     "metadata": {},
     "output_type": "display_data"
    },
    {
     "data": {
      "application/vnd.jupyter.widget-view+json": {
       "model_id": "f1d9d014ae28421bbc75564060179b18",
       "version_major": 2,
       "version_minor": 0
      },
      "text/plain": [
       "VBox(children=(Label(value=' 0.12MB of 0.12MB uploaded (0.00MB deduped)\\r'), FloatProgress(value=1.0, max=1.0)…"
      ]
     },
     "metadata": {},
     "output_type": "display_data"
    },
    {
     "data": {
      "text/html": [
       "<style>\n",
       "    table.wandb td:nth-child(1) { padding: 0 10px; text-align: right }\n",
       "    .wandb-row { display: flex; flex-direction: row; flex-wrap: wrap; width: 100% }\n",
       "    .wandb-col { display: flex; flex-direction: column; flex-basis: 100%; flex: 1; padding: 10px; }\n",
       "    </style>\n",
       "<div class=\"wandb-row\"><div class=\"wandb-col\">\n",
       "<h3>Run history:</h3><br/><table class=\"wandb\"><tr><td>Mean Validation Loss (all folds)</td><td>▁</td></tr><tr><td>Mean Validation RMSE (all folds)</td><td>▁</td></tr><tr><td>epoch</td><td>▁▁▁▂▂▂▂▂▂▃▃▃▃▃▄▄▄▄▄▄▅▅▅▅▅▅▆▆▆▆▆▇▇▇▇▇▇███</td></tr><tr><td>loss</td><td>█▂▁▁▁▁▁▁▁▁▁▁▁▁▁▁▁▁▁▁▁▁▁▁▁▁▁▁▁▁▁▁▁▁▁▁▁▁▁▁</td></tr><tr><td>root_mean_squared_error</td><td>█▃▂▂▂▂▂▂▂▂▂▂▁▁▁▂▁▁▁▁▁▁▁▁▁▁▁▁▁▁▁▁▁▁▁▁▁▁▁▁</td></tr><tr><td>val_loss</td><td>▁▅▆▄▆█▇▅█▇▄▃▅▆▅▄▄▆▄▅▃▅▅▄▄▃▅▄▅▅▄▆▅▄▄▄▅▃▃▄</td></tr><tr><td>val_root_mean_squared_error</td><td>▁▆▆▅▇█▇▆█▇▅▄▅▆▅▄▅▆▅▅▄▅▆▅▅▃▅▄▅▆▄▆▅▄▅▅▅▄▄▄</td></tr></table><br/></div><div class=\"wandb-col\">\n",
       "<h3>Run summary:</h3><br/><table class=\"wandb\"><tr><td>Mean Validation Loss (all folds)</td><td>2.14111</td></tr><tr><td>Mean Validation RMSE (all folds)</td><td>1.44834</td></tr><tr><td>best_epoch</td><td>1</td></tr><tr><td>best_val_loss</td><td>0.23081</td></tr><tr><td>epoch</td><td>499</td></tr><tr><td>loss</td><td>0.01488</td></tr><tr><td>root_mean_squared_error</td><td>0.12198</td></tr><tr><td>val_loss</td><td>2.38744</td></tr><tr><td>val_root_mean_squared_error</td><td>1.54513</td></tr></table>\n",
       "</div></div>\n",
       "Synced 5 W&B file(s), 0 media file(s), 0 artifact file(s) and 1 other file(s)\n",
       "<br/>Synced <strong style=\"color:#cdcd00\">twilight-sweep-2</strong>: <a href=\"https://wandb.ai/luiscostigan/house-price-prediction/runs/encg59mp\" target=\"_blank\">https://wandb.ai/luiscostigan/house-price-prediction/runs/encg59mp</a><br/>\n",
       "Find logs at: <code>./wandb/run-20220304_123115-encg59mp/logs</code><br/>\n"
      ],
      "text/plain": [
       "<IPython.core.display.HTML object>"
      ]
     },
     "metadata": {},
     "output_type": "display_data"
    },
    {
     "name": "stderr",
     "output_type": "stream",
     "text": [
      "\u001b[34m\u001b[1mwandb\u001b[0m: Sweep Agent: Waiting for job.\n",
      "\u001b[34m\u001b[1mwandb\u001b[0m: Job received.\n",
      "\u001b[34m\u001b[1mwandb\u001b[0m: Agent Starting Run: 482lga15 with config:\n",
      "\u001b[34m\u001b[1mwandb\u001b[0m: \tbatch_size: 8\n",
      "\u001b[34m\u001b[1mwandb\u001b[0m: \tdense1: 32\n",
      "\u001b[34m\u001b[1mwandb\u001b[0m: \tdense2: 8\n",
      "\u001b[34m\u001b[1mwandb\u001b[0m: \tdropout1: 0.04928770178693598\n",
      "\u001b[34m\u001b[1mwandb\u001b[0m: \tepochs: 500\n",
      "\u001b[34m\u001b[1mwandb\u001b[0m: wandb version 0.12.11 is available!  To upgrade, please run:\n",
      "\u001b[34m\u001b[1mwandb\u001b[0m:  $ pip install wandb --upgrade\n"
     ]
    },
    {
     "data": {
      "text/html": [
       "\n",
       "                    Syncing run <strong><a href=\"https://wandb.ai/luiscostigan/house-price-prediction/runs/482lga15\" target=\"_blank\">peach-sweep-3</a></strong> to <a href=\"https://wandb.ai/luiscostigan/house-price-prediction\" target=\"_blank\">Weights & Biases</a> (<a href=\"https://docs.wandb.com/integrations/jupyter.html\" target=\"_blank\">docs</a>).<br/>\n",
       "Sweep page: <a href=\"https://wandb.ai/luiscostigan/house-price-prediction/sweeps/hbftehhf\" target=\"_blank\">https://wandb.ai/luiscostigan/house-price-prediction/sweeps/hbftehhf</a><br/>\n",
       "\n",
       "                "
      ],
      "text/plain": [
       "<IPython.core.display.HTML object>"
      ]
     },
     "metadata": {},
     "output_type": "display_data"
    },
    {
     "name": "stdout",
     "output_type": "stream",
     "text": [
      "37/37 [==============================] - 0s 2ms/step - loss: 0.4307 - root_mean_squared_error: 0.6563\n",
      "Score for fold 1: loss of 0.4307333827018738; root_mean_squared_error of 0.656302809715271\n",
      "------------------------------------------------------------------------\n",
      "Score per fold\n",
      "------------------------------------------------------------------------\n",
      "> Fold 1 - Loss: 0.4307333827018738 - RMSE: 0.656302809715271%\n",
      "------------------------------------------------------------------------\n",
      "Average scores for all folds:\n",
      "> RMSE: 0.656302809715271 (+- 0.0)\n",
      "> Loss: 0.4307333827018738\n",
      "------------------------------------------------------------------------\n"
     ]
    },
    {
     "data": {
      "text/html": [
       "<br/>Waiting for W&B process to finish, PID 13621... <strong style=\"color:green\">(success).</strong>"
      ],
      "text/plain": [
       "<IPython.core.display.HTML object>"
      ]
     },
     "metadata": {},
     "output_type": "display_data"
    },
    {
     "data": {
      "application/vnd.jupyter.widget-view+json": {
       "model_id": "532f5a8c696346079df1733b47a3c264",
       "version_major": 2,
       "version_minor": 0
      },
      "text/plain": [
       "VBox(children=(Label(value=' 0.12MB of 0.12MB uploaded (0.00MB deduped)\\r'), FloatProgress(value=1.0, max=1.0)…"
      ]
     },
     "metadata": {},
     "output_type": "display_data"
    },
    {
     "data": {
      "text/html": [
       "<style>\n",
       "    table.wandb td:nth-child(1) { padding: 0 10px; text-align: right }\n",
       "    .wandb-row { display: flex; flex-direction: row; flex-wrap: wrap; width: 100% }\n",
       "    .wandb-col { display: flex; flex-direction: column; flex-basis: 100%; flex: 1; padding: 10px; }\n",
       "    </style>\n",
       "<div class=\"wandb-row\"><div class=\"wandb-col\">\n",
       "<h3>Run history:</h3><br/><table class=\"wandb\"><tr><td>Mean Validation Loss (all folds)</td><td>▁</td></tr><tr><td>Mean Validation RMSE (all folds)</td><td>▁</td></tr><tr><td>epoch</td><td>▁▁▁▂▂▂▂▂▂▃▃▃▃▃▄▄▄▄▄▄▅▅▅▅▅▅▆▆▆▆▆▇▇▇▇▇▇███</td></tr><tr><td>loss</td><td>█▃▂▂▃▂▃▂▂▂▂▂▂▂▁▁▁▁▁▁▁▁▁▁▁▁▁▁▁▁▁▁▁▁▁▁▁▂▁▁</td></tr><tr><td>root_mean_squared_error</td><td>█▄▄▄▄▃▄▃▃▃▃▃▂▂▂▂▂▂▂▂▂▂▂▁▁▂▂▂▁▁▁▂▁▁▁▁▁▂▁▁</td></tr><tr><td>val_loss</td><td>▂▄▆▃▃█▆▂▄▆▂▄▁▇▄▄▄▄▃▇▅▃▅▃▃▅▅▃▅▅▄▆▄▂▄▃▃▄▅▄</td></tr><tr><td>val_root_mean_squared_error</td><td>▃▆▇▅▄█▇▃▆▇▃▅▁▇▆▅▅▅▄█▆▄▆▄▄▆▆▅▆▆▅▇▆▃▅▄▄▅▆▅</td></tr></table><br/></div><div class=\"wandb-col\">\n",
       "<h3>Run summary:</h3><br/><table class=\"wandb\"><tr><td>Mean Validation Loss (all folds)</td><td>0.43073</td></tr><tr><td>Mean Validation RMSE (all folds)</td><td>0.6563</td></tr><tr><td>best_epoch</td><td>155</td></tr><tr><td>best_val_loss</td><td>0.01661</td></tr><tr><td>epoch</td><td>499</td></tr><tr><td>loss</td><td>0.01063</td></tr><tr><td>root_mean_squared_error</td><td>0.10312</td></tr><tr><td>val_loss</td><td>0.43073</td></tr><tr><td>val_root_mean_squared_error</td><td>0.6563</td></tr></table>\n",
       "</div></div>\n",
       "Synced 5 W&B file(s), 0 media file(s), 0 artifact file(s) and 1 other file(s)\n",
       "<br/>Synced <strong style=\"color:#cdcd00\">peach-sweep-3</strong>: <a href=\"https://wandb.ai/luiscostigan/house-price-prediction/runs/482lga15\" target=\"_blank\">https://wandb.ai/luiscostigan/house-price-prediction/runs/482lga15</a><br/>\n",
       "Find logs at: <code>./wandb/run-20220304_123254-482lga15/logs</code><br/>\n"
      ],
      "text/plain": [
       "<IPython.core.display.HTML object>"
      ]
     },
     "metadata": {},
     "output_type": "display_data"
    },
    {
     "name": "stderr",
     "output_type": "stream",
     "text": [
      "\u001b[34m\u001b[1mwandb\u001b[0m: wandb version 0.12.11 is available!  To upgrade, please run:\n",
      "\u001b[34m\u001b[1mwandb\u001b[0m:  $ pip install wandb --upgrade\n"
     ]
    },
    {
     "data": {
      "text/html": [
       "\n",
       "                    Syncing run <strong><a href=\"https://wandb.ai/luiscostigan/house-price-prediction/runs/482lga15\" target=\"_blank\">peach-sweep-3</a></strong> to <a href=\"https://wandb.ai/luiscostigan/house-price-prediction\" target=\"_blank\">Weights & Biases</a> (<a href=\"https://docs.wandb.com/integrations/jupyter.html\" target=\"_blank\">docs</a>).<br/>\n",
       "Sweep page: <a href=\"https://wandb.ai/luiscostigan/house-price-prediction/sweeps/hbftehhf\" target=\"_blank\">https://wandb.ai/luiscostigan/house-price-prediction/sweeps/hbftehhf</a><br/>\n",
       "\n",
       "                "
      ],
      "text/plain": [
       "<IPython.core.display.HTML object>"
      ]
     },
     "metadata": {},
     "output_type": "display_data"
    },
    {
     "name": "stdout",
     "output_type": "stream",
     "text": [
      " 1/37 [..............................] - ETA: 8s - loss: 0.0012 - root_mean_squared_error: 0.0346WARNING:tensorflow:Callback method `on_test_batch_end` is slow compared to the batch time (batch time: 0.0015s vs `on_test_batch_end` time: 0.0028s). Check your callbacks.\n",
      "37/37 [==============================] - 0s 3ms/step - loss: 0.0018 - root_mean_squared_error: 0.0429\n",
      "Score for fold 2: loss of 0.0018387442687526345; root_mean_squared_error of 0.042880579829216\n",
      "------------------------------------------------------------------------\n",
      "Score per fold\n",
      "------------------------------------------------------------------------\n",
      "> Fold 1 - Loss: 0.4307333827018738 - RMSE: 0.656302809715271%\n",
      "------------------------------------------------------------------------\n",
      "> Fold 2 - Loss: 0.0018387442687526345 - RMSE: 0.042880579829216%\n",
      "------------------------------------------------------------------------\n",
      "Average scores for all folds:\n",
      "> RMSE: 0.3495916947722435 (+- 0.3067111149430275)\n",
      "> Loss: 0.2162860634853132\n",
      "------------------------------------------------------------------------\n"
     ]
    },
    {
     "data": {
      "text/html": [
       "<br/>Waiting for W&B process to finish, PID 24542... <strong style=\"color:green\">(success).</strong>"
      ],
      "text/plain": [
       "<IPython.core.display.HTML object>"
      ]
     },
     "metadata": {},
     "output_type": "display_data"
    },
    {
     "data": {
      "application/vnd.jupyter.widget-view+json": {
       "model_id": "6bf39bd031ce48d98336a677437bd3bb",
       "version_major": 2,
       "version_minor": 0
      },
      "text/plain": [
       "VBox(children=(Label(value=' 0.12MB of 0.12MB uploaded (0.00MB deduped)\\r'), FloatProgress(value=1.0, max=1.0)…"
      ]
     },
     "metadata": {},
     "output_type": "display_data"
    },
    {
     "data": {
      "text/html": [
       "<style>\n",
       "    table.wandb td:nth-child(1) { padding: 0 10px; text-align: right }\n",
       "    .wandb-row { display: flex; flex-direction: row; flex-wrap: wrap; width: 100% }\n",
       "    .wandb-col { display: flex; flex-direction: column; flex-basis: 100%; flex: 1; padding: 10px; }\n",
       "    </style>\n",
       "<div class=\"wandb-row\"><div class=\"wandb-col\">\n",
       "<h3>Run history:</h3><br/><table class=\"wandb\"><tr><td>Mean Validation Loss (all folds)</td><td>▁</td></tr><tr><td>Mean Validation RMSE (all folds)</td><td>▁</td></tr><tr><td>epoch</td><td>▁▁▁▂▂▂▂▂▂▃▃▃▃▃▄▄▄▄▄▄▅▅▅▅▅▅▆▆▆▆▆▇▇▇▇▇▇███</td></tr><tr><td>loss</td><td>█▆▅▅▄▄▃▃▂▂▂▁▁▁▁▁▁▁▁▁▁▁▁▁▁▁▁▁▁▁▁▁▁▁▁▁▁▁▁▁</td></tr><tr><td>root_mean_squared_error</td><td>█▇▆▆▅▅▅▄▄▃▃▂▂▁▁▁▁▁▁▁▁▁▁▁▁▁▁▁▁▁▁▁▁▁▁▁▁▁▁▁</td></tr><tr><td>val_loss</td><td>██▃▃▃▃▂▃▂▄▂▄▂▁▁▁▁▁▂▁▁▁▁▁▁▁▁▁▁▁▁▁▁▁▁▁▁▁▁▁</td></tr><tr><td>val_root_mean_squared_error</td><td>██▅▄▄▅▄▄▃▆▃▅▂▂▂▂▁▁▃▁▁▁▂▁▁▁▁▁▁▁▁▁▁▁▁▁▁▁▁▂</td></tr></table><br/></div><div class=\"wandb-col\">\n",
       "<h3>Run summary:</h3><br/><table class=\"wandb\"><tr><td>Mean Validation Loss (all folds)</td><td>0.21629</td></tr><tr><td>Mean Validation RMSE (all folds)</td><td>0.34959</td></tr><tr><td>best_epoch</td><td>493</td></tr><tr><td>best_val_loss</td><td>0.00181</td></tr><tr><td>epoch</td><td>499</td></tr><tr><td>loss</td><td>0.00323</td></tr><tr><td>root_mean_squared_error</td><td>0.05687</td></tr><tr><td>val_loss</td><td>0.00184</td></tr><tr><td>val_root_mean_squared_error</td><td>0.04288</td></tr></table>\n",
       "</div></div>\n",
       "Synced 5 W&B file(s), 0 media file(s), 0 artifact file(s) and 1 other file(s)\n",
       "<br/>Synced <strong style=\"color:#cdcd00\">peach-sweep-3</strong>: <a href=\"https://wandb.ai/luiscostigan/house-price-prediction/runs/482lga15\" target=\"_blank\">https://wandb.ai/luiscostigan/house-price-prediction/runs/482lga15</a><br/>\n",
       "Find logs at: <code>./wandb/run-20220304_123526-482lga15/logs</code><br/>\n"
      ],
      "text/plain": [
       "<IPython.core.display.HTML object>"
      ]
     },
     "metadata": {},
     "output_type": "display_data"
    },
    {
     "name": "stderr",
     "output_type": "stream",
     "text": [
      "\u001b[34m\u001b[1mwandb\u001b[0m: wandb version 0.12.11 is available!  To upgrade, please run:\n",
      "\u001b[34m\u001b[1mwandb\u001b[0m:  $ pip install wandb --upgrade\n"
     ]
    },
    {
     "data": {
      "text/html": [
       "\n",
       "                    Syncing run <strong><a href=\"https://wandb.ai/luiscostigan/house-price-prediction/runs/482lga15\" target=\"_blank\">peach-sweep-3</a></strong> to <a href=\"https://wandb.ai/luiscostigan/house-price-prediction\" target=\"_blank\">Weights & Biases</a> (<a href=\"https://docs.wandb.com/integrations/jupyter.html\" target=\"_blank\">docs</a>).<br/>\n",
       "Sweep page: <a href=\"https://wandb.ai/luiscostigan/house-price-prediction/sweeps/hbftehhf\" target=\"_blank\">https://wandb.ai/luiscostigan/house-price-prediction/sweeps/hbftehhf</a><br/>\n",
       "\n",
       "                "
      ],
      "text/plain": [
       "<IPython.core.display.HTML object>"
      ]
     },
     "metadata": {},
     "output_type": "display_data"
    },
    {
     "name": "stdout",
     "output_type": "stream",
     "text": [
      "37/37 [==============================] - 0s 3ms/step - loss: 0.0042 - root_mean_squared_error: 0.0645\n",
      "Score for fold 3: loss of 0.004154288675636053; root_mean_squared_error of 0.06445377320051193\n",
      "------------------------------------------------------------------------\n",
      "Score per fold\n",
      "------------------------------------------------------------------------\n",
      "> Fold 1 - Loss: 0.4307333827018738 - RMSE: 0.656302809715271%\n",
      "------------------------------------------------------------------------\n",
      "> Fold 2 - Loss: 0.0018387442687526345 - RMSE: 0.042880579829216%\n",
      "------------------------------------------------------------------------\n",
      "> Fold 3 - Loss: 0.004154288675636053 - RMSE: 0.06445377320051193%\n",
      "------------------------------------------------------------------------\n",
      "Average scores for all folds:\n",
      "> RMSE: 0.25454572091499966 (+- 0.28422164997176724)\n",
      "> Loss: 0.1455754718820875\n",
      "------------------------------------------------------------------------\n"
     ]
    },
    {
     "data": {
      "text/html": [
       "<br/>Waiting for W&B process to finish, PID 3258... <strong style=\"color:green\">(success).</strong>"
      ],
      "text/plain": [
       "<IPython.core.display.HTML object>"
      ]
     },
     "metadata": {},
     "output_type": "display_data"
    },
    {
     "data": {
      "application/vnd.jupyter.widget-view+json": {
       "model_id": "62f1776d08e94030b6418ce1abe30e52",
       "version_major": 2,
       "version_minor": 0
      },
      "text/plain": [
       "VBox(children=(Label(value=' 0.12MB of 0.12MB uploaded (0.00MB deduped)\\r'), FloatProgress(value=1.0, max=1.0)…"
      ]
     },
     "metadata": {},
     "output_type": "display_data"
    },
    {
     "data": {
      "text/html": [
       "<style>\n",
       "    table.wandb td:nth-child(1) { padding: 0 10px; text-align: right }\n",
       "    .wandb-row { display: flex; flex-direction: row; flex-wrap: wrap; width: 100% }\n",
       "    .wandb-col { display: flex; flex-direction: column; flex-basis: 100%; flex: 1; padding: 10px; }\n",
       "    </style>\n",
       "<div class=\"wandb-row\"><div class=\"wandb-col\">\n",
       "<h3>Run history:</h3><br/><table class=\"wandb\"><tr><td>Mean Validation Loss (all folds)</td><td>▁</td></tr><tr><td>Mean Validation RMSE (all folds)</td><td>▁</td></tr><tr><td>epoch</td><td>▁▁▁▂▂▂▂▂▂▃▃▃▃▃▄▄▄▄▄▄▅▅▅▅▅▅▆▆▆▆▆▇▇▇▇▇▇███</td></tr><tr><td>loss</td><td>█▄▃▂▂▂▂▂▂▁▂▂▁▁▁▁▂▁▁▁▁▁▁▁▁▁▁▁▁▁▁▁▁▁▁▁▁▁▁▁</td></tr><tr><td>root_mean_squared_error</td><td>█▆▄▄▃▃▃▃▃▃▃▃▃▃▂▂▃▂▂▂▂▂▂▂▂▂▂▂▁▁▁▁▁▁▁▁▁▁▁▁</td></tr><tr><td>val_loss</td><td>▃▃▄█▇▅▆▂▄▅▄▅█▂▄▅▂▄▃▅▁▃▃▂▁▁▂▂▂▁▁▁▁▁▁▁▁▁▁▁</td></tr><tr><td>val_root_mean_squared_error</td><td>▅▅▅██▆▇▃▅▆▅▆█▄▅▆▄▆▄▆▂▅▄▃▂▁▃▃▃▂▂▁▁▁▁▁▁▁▁▁</td></tr></table><br/></div><div class=\"wandb-col\">\n",
       "<h3>Run summary:</h3><br/><table class=\"wandb\"><tr><td>Mean Validation Loss (all folds)</td><td>0.14558</td></tr><tr><td>Mean Validation RMSE (all folds)</td><td>0.25455</td></tr><tr><td>best_epoch</td><td>450</td></tr><tr><td>best_val_loss</td><td>0.00084</td></tr><tr><td>epoch</td><td>499</td></tr><tr><td>loss</td><td>0.00307</td></tr><tr><td>root_mean_squared_error</td><td>0.05541</td></tr><tr><td>val_loss</td><td>0.00415</td></tr><tr><td>val_root_mean_squared_error</td><td>0.06445</td></tr></table>\n",
       "</div></div>\n",
       "Synced 5 W&B file(s), 0 media file(s), 0 artifact file(s) and 1 other file(s)\n",
       "<br/>Synced <strong style=\"color:#cdcd00\">peach-sweep-3</strong>: <a href=\"https://wandb.ai/luiscostigan/house-price-prediction/runs/482lga15\" target=\"_blank\">https://wandb.ai/luiscostigan/house-price-prediction/runs/482lga15</a><br/>\n",
       "Find logs at: <code>./wandb/run-20220304_123826-482lga15/logs</code><br/>\n"
      ],
      "text/plain": [
       "<IPython.core.display.HTML object>"
      ]
     },
     "metadata": {},
     "output_type": "display_data"
    },
    {
     "name": "stderr",
     "output_type": "stream",
     "text": [
      "\u001b[34m\u001b[1mwandb\u001b[0m: wandb version 0.12.11 is available!  To upgrade, please run:\n",
      "\u001b[34m\u001b[1mwandb\u001b[0m:  $ pip install wandb --upgrade\n"
     ]
    },
    {
     "data": {
      "text/html": [
       "\n",
       "                    Syncing run <strong><a href=\"https://wandb.ai/luiscostigan/house-price-prediction/runs/482lga15\" target=\"_blank\">peach-sweep-3</a></strong> to <a href=\"https://wandb.ai/luiscostigan/house-price-prediction\" target=\"_blank\">Weights & Biases</a> (<a href=\"https://docs.wandb.com/integrations/jupyter.html\" target=\"_blank\">docs</a>).<br/>\n",
       "Sweep page: <a href=\"https://wandb.ai/luiscostigan/house-price-prediction/sweeps/hbftehhf\" target=\"_blank\">https://wandb.ai/luiscostigan/house-price-prediction/sweeps/hbftehhf</a><br/>\n",
       "\n",
       "                "
      ],
      "text/plain": [
       "<IPython.core.display.HTML object>"
      ]
     },
     "metadata": {},
     "output_type": "display_data"
    },
    {
     "name": "stdout",
     "output_type": "stream",
     "text": [
      "37/37 [==============================] - 0s 2ms/step - loss: 0.1306 - root_mean_squared_error: 0.3613\n",
      "Score for fold 4: loss of 0.13057094812393188; root_mean_squared_error of 0.361346036195755\n",
      "------------------------------------------------------------------------\n",
      "Score per fold\n",
      "------------------------------------------------------------------------\n",
      "> Fold 1 - Loss: 0.4307333827018738 - RMSE: 0.656302809715271%\n",
      "------------------------------------------------------------------------\n",
      "> Fold 2 - Loss: 0.0018387442687526345 - RMSE: 0.042880579829216%\n",
      "------------------------------------------------------------------------\n",
      "> Fold 3 - Loss: 0.004154288675636053 - RMSE: 0.06445377320051193%\n",
      "------------------------------------------------------------------------\n",
      "> Fold 4 - Loss: 0.13057094812393188 - RMSE: 0.361346036195755%\n",
      "------------------------------------------------------------------------\n",
      "Average scores for all folds:\n",
      "> RMSE: 0.2812457997351885 (+- 0.2504498799391172)\n",
      "> Loss: 0.1418243409425486\n",
      "------------------------------------------------------------------------\n"
     ]
    },
    {
     "data": {
      "text/html": [
       "<br/>Waiting for W&B process to finish, PID 14435... <strong style=\"color:green\">(success).</strong>"
      ],
      "text/plain": [
       "<IPython.core.display.HTML object>"
      ]
     },
     "metadata": {},
     "output_type": "display_data"
    },
    {
     "data": {
      "application/vnd.jupyter.widget-view+json": {
       "model_id": "8dcfe43d0bc64202aa44b85719b9d35f",
       "version_major": 2,
       "version_minor": 0
      },
      "text/plain": [
       "VBox(children=(Label(value=' 0.00MB of 0.12MB uploaded (0.00MB deduped)\\r'), FloatProgress(value=0.00786567725…"
      ]
     },
     "metadata": {},
     "output_type": "display_data"
    },
    {
     "data": {
      "text/html": [
       "<style>\n",
       "    table.wandb td:nth-child(1) { padding: 0 10px; text-align: right }\n",
       "    .wandb-row { display: flex; flex-direction: row; flex-wrap: wrap; width: 100% }\n",
       "    .wandb-col { display: flex; flex-direction: column; flex-basis: 100%; flex: 1; padding: 10px; }\n",
       "    </style>\n",
       "<div class=\"wandb-row\"><div class=\"wandb-col\">\n",
       "<h3>Run history:</h3><br/><table class=\"wandb\"><tr><td>Mean Validation Loss (all folds)</td><td>▁</td></tr><tr><td>Mean Validation RMSE (all folds)</td><td>▁</td></tr><tr><td>epoch</td><td>▁▁▁▂▂▂▂▂▂▃▃▃▃▃▄▄▄▄▄▄▅▅▅▅▅▅▆▆▆▆▆▇▇▇▇▇▇███</td></tr><tr><td>loss</td><td>█▃▃▂▂▂▂▁▁▁▁▁▁▁▁▁▁▁▁▁▁▁▁▁▁▁▁▁▁▁▁▁▁▁▁▁▁▁▁▁</td></tr><tr><td>root_mean_squared_error</td><td>█▅▄▃▃▃▂▂▂▂▂▂▂▂▁▂▂▁▁▁▁▁▁▁▁▁▁▁▁▁▁▁▁▁▁▁▁▁▁▁</td></tr><tr><td>val_loss</td><td>▁█▅▂▂▁▃▂▅▅▂▂▅▂▂▃▅▅▄▃▂▂▃▃▁▂▂▂▃▃▅▃▂▃▃▂▄▁▁▂</td></tr><tr><td>val_root_mean_squared_error</td><td>▁█▆▃▂▂▃▂▆▅▂▃▅▃▃▄▆▆▄▃▃▂▄▄▁▃▃▃▄▄▅▄▃▃▄▃▅▁▁▃</td></tr></table><br/></div><div class=\"wandb-col\">\n",
       "<h3>Run summary:</h3><br/><table class=\"wandb\"><tr><td>Mean Validation Loss (all folds)</td><td>0.14182</td></tr><tr><td>Mean Validation RMSE (all folds)</td><td>0.28125</td></tr><tr><td>best_epoch</td><td>21</td></tr><tr><td>best_val_loss</td><td>0.03661</td></tr><tr><td>epoch</td><td>499</td></tr><tr><td>loss</td><td>0.01087</td></tr><tr><td>root_mean_squared_error</td><td>0.10425</td></tr><tr><td>val_loss</td><td>0.13057</td></tr><tr><td>val_root_mean_squared_error</td><td>0.36135</td></tr></table>\n",
       "</div></div>\n",
       "Synced 5 W&B file(s), 0 media file(s), 0 artifact file(s) and 1 other file(s)\n",
       "<br/>Synced <strong style=\"color:#cdcd00\">peach-sweep-3</strong>: <a href=\"https://wandb.ai/luiscostigan/house-price-prediction/runs/482lga15\" target=\"_blank\">https://wandb.ai/luiscostigan/house-price-prediction/runs/482lga15</a><br/>\n",
       "Find logs at: <code>./wandb/run-20220304_124117-482lga15/logs</code><br/>\n"
      ],
      "text/plain": [
       "<IPython.core.display.HTML object>"
      ]
     },
     "metadata": {},
     "output_type": "display_data"
    },
    {
     "name": "stderr",
     "output_type": "stream",
     "text": [
      "\u001b[34m\u001b[1mwandb\u001b[0m: wandb version 0.12.11 is available!  To upgrade, please run:\n",
      "\u001b[34m\u001b[1mwandb\u001b[0m:  $ pip install wandb --upgrade\n"
     ]
    },
    {
     "data": {
      "text/html": [
       "\n",
       "                    Syncing run <strong><a href=\"https://wandb.ai/luiscostigan/house-price-prediction/runs/482lga15\" target=\"_blank\">peach-sweep-3</a></strong> to <a href=\"https://wandb.ai/luiscostigan/house-price-prediction\" target=\"_blank\">Weights & Biases</a> (<a href=\"https://docs.wandb.com/integrations/jupyter.html\" target=\"_blank\">docs</a>).<br/>\n",
       "Sweep page: <a href=\"https://wandb.ai/luiscostigan/house-price-prediction/sweeps/hbftehhf\" target=\"_blank\">https://wandb.ai/luiscostigan/house-price-prediction/sweeps/hbftehhf</a><br/>\n",
       "\n",
       "                "
      ],
      "text/plain": [
       "<IPython.core.display.HTML object>"
      ]
     },
     "metadata": {},
     "output_type": "display_data"
    },
    {
     "name": "stdout",
     "output_type": "stream",
     "text": [
      "37/37 [==============================] - 1s 2ms/step - loss: 0.0074 - root_mean_squared_error: 0.0862\n",
      "Score for fold 5: loss of 0.007433156482875347; root_mean_squared_error of 0.08621575683355331\n",
      "------------------------------------------------------------------------\n",
      "Score per fold\n",
      "------------------------------------------------------------------------\n",
      "> Fold 1 - Loss: 0.4307333827018738 - RMSE: 0.656302809715271%\n",
      "------------------------------------------------------------------------\n",
      "> Fold 2 - Loss: 0.0018387442687526345 - RMSE: 0.042880579829216%\n",
      "------------------------------------------------------------------------\n",
      "> Fold 3 - Loss: 0.004154288675636053 - RMSE: 0.06445377320051193%\n",
      "------------------------------------------------------------------------\n",
      "> Fold 4 - Loss: 0.13057094812393188 - RMSE: 0.361346036195755%\n",
      "------------------------------------------------------------------------\n",
      "> Fold 5 - Loss: 0.007433156482875347 - RMSE: 0.08621575683355331%\n",
      "------------------------------------------------------------------------\n",
      "Average scores for all folds:\n",
      "> RMSE: 0.24223979115486144 (+- 0.23720452927945698)\n",
      "> Loss: 0.11494610405061394\n",
      "------------------------------------------------------------------------\n"
     ]
    },
    {
     "name": "stderr",
     "output_type": "stream",
     "text": [
      "\u001b[34m\u001b[1mwandb\u001b[0m: Processing terminal ouput (stdout)...\n",
      "\u001b[34m\u001b[1mwandb\u001b[0m: Done.\n"
     ]
    },
    {
     "data": {
      "text/html": [
       "<br/>Waiting for W&B process to finish, PID 25513... <strong style=\"color:green\">(success).</strong>"
      ],
      "text/plain": [
       "<IPython.core.display.HTML object>"
      ]
     },
     "metadata": {},
     "output_type": "display_data"
    },
    {
     "data": {
      "application/vnd.jupyter.widget-view+json": {
       "model_id": "25a296d0c51649b688d22743208e6b40",
       "version_major": 2,
       "version_minor": 0
      },
      "text/plain": [
       "VBox(children=(Label(value=' 0.12MB of 0.12MB uploaded (0.00MB deduped)\\r'), FloatProgress(value=1.0, max=1.0)…"
      ]
     },
     "metadata": {},
     "output_type": "display_data"
    },
    {
     "data": {
      "text/html": [
       "<style>\n",
       "    table.wandb td:nth-child(1) { padding: 0 10px; text-align: right }\n",
       "    .wandb-row { display: flex; flex-direction: row; flex-wrap: wrap; width: 100% }\n",
       "    .wandb-col { display: flex; flex-direction: column; flex-basis: 100%; flex: 1; padding: 10px; }\n",
       "    </style>\n",
       "<div class=\"wandb-row\"><div class=\"wandb-col\">\n",
       "<h3>Run history:</h3><br/><table class=\"wandb\"><tr><td>Mean Validation Loss (all folds)</td><td>▁</td></tr><tr><td>Mean Validation RMSE (all folds)</td><td>▁</td></tr><tr><td>epoch</td><td>▁▁▁▂▂▂▂▂▂▃▃▃▃▃▄▄▄▄▄▄▅▅▅▅▅▅▆▆▆▆▆▇▇▇▇▇▇███</td></tr><tr><td>loss</td><td>█▇▆▅▅▄▄▃▃▂▂▁▁▁▁▁▁▁▁▁▁▁▁▁▁▁▁▁▁▁▁▁▁▁▁▁▁▁▁▁</td></tr><tr><td>root_mean_squared_error</td><td>█▇▇▇▆▆▅▅▄▄▃▂▂▁▁▁▁▁▁▁▁▁▁▁▁▁▁▁▁▁▁▁▁▁▁▁▁▁▁▁</td></tr><tr><td>val_loss</td><td>▇▆▅▅▃▄▂█▃▄▂▃▂▁▁▁▁▁▁▁▁▁▁▁▁▁▁▁▁▁▁▁▁▁▁▁▁▁▁▁</td></tr><tr><td>val_root_mean_squared_error</td><td>▇▇▆▆▅▅▃█▄▅▂▄▂▂▂▂▂▁▁▁▂▁▁▁▁▁▂▁▁▁▁▂▁▁▁▁▁▂▁▁</td></tr></table><br/></div><div class=\"wandb-col\">\n",
       "<h3>Run summary:</h3><br/><table class=\"wandb\"><tr><td>Mean Validation Loss (all folds)</td><td>0.11495</td></tr><tr><td>Mean Validation RMSE (all folds)</td><td>0.24224</td></tr><tr><td>best_epoch</td><td>475</td></tr><tr><td>best_val_loss</td><td>0.00225</td></tr><tr><td>epoch</td><td>499</td></tr><tr><td>loss</td><td>0.00373</td></tr><tr><td>root_mean_squared_error</td><td>0.06106</td></tr><tr><td>val_loss</td><td>0.00743</td></tr><tr><td>val_root_mean_squared_error</td><td>0.08622</td></tr></table>\n",
       "</div></div>\n",
       "Synced 5 W&B file(s), 0 media file(s), 0 artifact file(s) and 1 other file(s)\n",
       "<br/>Synced <strong style=\"color:#cdcd00\">peach-sweep-3</strong>: <a href=\"https://wandb.ai/luiscostigan/house-price-prediction/runs/482lga15\" target=\"_blank\">https://wandb.ai/luiscostigan/house-price-prediction/runs/482lga15</a><br/>\n",
       "Find logs at: <code>./wandb/run-20220304_124407-482lga15/logs</code><br/>\n"
      ],
      "text/plain": [
       "<IPython.core.display.HTML object>"
      ]
     },
     "metadata": {},
     "output_type": "display_data"
    },
    {
     "name": "stderr",
     "output_type": "stream",
     "text": [
      "\u001b[34m\u001b[1mwandb\u001b[0m: Agent Starting Run: fzds8ybq with config:\n",
      "\u001b[34m\u001b[1mwandb\u001b[0m: \tbatch_size: 64\n",
      "\u001b[34m\u001b[1mwandb\u001b[0m: \tdense1: 32\n",
      "\u001b[34m\u001b[1mwandb\u001b[0m: \tdense2: 8\n",
      "\u001b[34m\u001b[1mwandb\u001b[0m: \tdropout1: 0.042294391102698954\n",
      "\u001b[34m\u001b[1mwandb\u001b[0m: \tepochs: 250\n",
      "\u001b[34m\u001b[1mwandb\u001b[0m: wandb version 0.12.11 is available!  To upgrade, please run:\n",
      "\u001b[34m\u001b[1mwandb\u001b[0m:  $ pip install wandb --upgrade\n"
     ]
    },
    {
     "data": {
      "text/html": [
       "\n",
       "                    Syncing run <strong><a href=\"https://wandb.ai/luiscostigan/house-price-prediction/runs/fzds8ybq\" target=\"_blank\">sleek-sweep-4</a></strong> to <a href=\"https://wandb.ai/luiscostigan/house-price-prediction\" target=\"_blank\">Weights & Biases</a> (<a href=\"https://docs.wandb.com/integrations/jupyter.html\" target=\"_blank\">docs</a>).<br/>\n",
       "Sweep page: <a href=\"https://wandb.ai/luiscostigan/house-price-prediction/sweeps/hbftehhf\" target=\"_blank\">https://wandb.ai/luiscostigan/house-price-prediction/sweeps/hbftehhf</a><br/>\n",
       "\n",
       "                "
      ],
      "text/plain": [
       "<IPython.core.display.HTML object>"
      ]
     },
     "metadata": {},
     "output_type": "display_data"
    },
    {
     "name": "stdout",
     "output_type": "stream",
     "text": [
      "37/37 [==============================] - 0s 2ms/step - loss: 0.1017 - root_mean_squared_error: 0.3189\n",
      "Score for fold 1: loss of 0.10172329097986221; root_mean_squared_error of 0.3189408779144287\n",
      "------------------------------------------------------------------------\n",
      "Score per fold\n",
      "------------------------------------------------------------------------\n",
      "> Fold 1 - Loss: 0.10172329097986221 - RMSE: 0.3189408779144287%\n",
      "------------------------------------------------------------------------\n",
      "Average scores for all folds:\n",
      "> RMSE: 0.3189408779144287 (+- 0.0)\n",
      "> Loss: 0.10172329097986221\n",
      "------------------------------------------------------------------------\n"
     ]
    },
    {
     "data": {
      "text/html": [
       "<br/>Waiting for W&B process to finish, PID 4350... <strong style=\"color:green\">(success).</strong>"
      ],
      "text/plain": [
       "<IPython.core.display.HTML object>"
      ]
     },
     "metadata": {},
     "output_type": "display_data"
    },
    {
     "data": {
      "application/vnd.jupyter.widget-view+json": {
       "model_id": "2c1746aeae624239bc56e11b00ee3ff0",
       "version_major": 2,
       "version_minor": 0
      },
      "text/plain": [
       "VBox(children=(Label(value=' 0.12MB of 0.12MB uploaded (0.00MB deduped)\\r'), FloatProgress(value=1.0, max=1.0)…"
      ]
     },
     "metadata": {},
     "output_type": "display_data"
    },
    {
     "data": {
      "text/html": [
       "<style>\n",
       "    table.wandb td:nth-child(1) { padding: 0 10px; text-align: right }\n",
       "    .wandb-row { display: flex; flex-direction: row; flex-wrap: wrap; width: 100% }\n",
       "    .wandb-col { display: flex; flex-direction: column; flex-basis: 100%; flex: 1; padding: 10px; }\n",
       "    </style>\n",
       "<div class=\"wandb-row\"><div class=\"wandb-col\">\n",
       "<h3>Run history:</h3><br/><table class=\"wandb\"><tr><td>Mean Validation Loss (all folds)</td><td>▁</td></tr><tr><td>Mean Validation RMSE (all folds)</td><td>▁</td></tr><tr><td>epoch</td><td>▁▁▁▂▂▂▂▂▂▃▃▃▃▃▄▄▄▄▄▄▅▅▅▅▅▅▆▆▆▆▆▇▇▇▇▇▇███</td></tr><tr><td>loss</td><td>█▂▂▂▂▂▂▂▂▂▁▁▁▁▁▁▁▁▁▁▁▁▁▁▁▁▁▁▁▁▁▁▁▁▁▁▁▁▁▁</td></tr><tr><td>root_mean_squared_error</td><td>█▃▃▃▃▃▃▂▃▂▂▂▂▂▂▂▂▂▂▂▂▂▂▁▂▁▁▁▁▁▁▁▁▁▁▁▁▁▁▁</td></tr><tr><td>val_loss</td><td>█▂▂▄▄▄▄▃▃▂▂▁▅▂▂▃▂▅▁▁▁▄▁▄▂▆▆▄█▆▃▂▂▂▁▂▃▃▆▂</td></tr><tr><td>val_root_mean_squared_error</td><td>█▃▃▅▅▅▅▄▄▃▃▂▆▃▃▄▃▆▂▁▂▅▂▅▃▇▇▅█▆▄▃▃▂▂▄▄▄▆▃</td></tr></table><br/></div><div class=\"wandb-col\">\n",
       "<h3>Run summary:</h3><br/><table class=\"wandb\"><tr><td>Mean Validation Loss (all folds)</td><td>0.10172</td></tr><tr><td>Mean Validation RMSE (all folds)</td><td>0.31894</td></tr><tr><td>best_epoch</td><td>193</td></tr><tr><td>best_val_loss</td><td>0.0125</td></tr><tr><td>epoch</td><td>249</td></tr><tr><td>loss</td><td>0.09395</td></tr><tr><td>root_mean_squared_error</td><td>0.30651</td></tr><tr><td>val_loss</td><td>0.10172</td></tr><tr><td>val_root_mean_squared_error</td><td>0.31894</td></tr></table>\n",
       "</div></div>\n",
       "Synced 5 W&B file(s), 0 media file(s), 0 artifact file(s) and 1 other file(s)\n",
       "<br/>Synced <strong style=\"color:#cdcd00\">sleek-sweep-4</strong>: <a href=\"https://wandb.ai/luiscostigan/house-price-prediction/runs/fzds8ybq\" target=\"_blank\">https://wandb.ai/luiscostigan/house-price-prediction/runs/fzds8ybq</a><br/>\n",
       "Find logs at: <code>./wandb/run-20220304_124716-fzds8ybq/logs</code><br/>\n"
      ],
      "text/plain": [
       "<IPython.core.display.HTML object>"
      ]
     },
     "metadata": {},
     "output_type": "display_data"
    },
    {
     "name": "stderr",
     "output_type": "stream",
     "text": [
      "\u001b[34m\u001b[1mwandb\u001b[0m: wandb version 0.12.11 is available!  To upgrade, please run:\n",
      "\u001b[34m\u001b[1mwandb\u001b[0m:  $ pip install wandb --upgrade\n"
     ]
    },
    {
     "data": {
      "text/html": [
       "\n",
       "                    Syncing run <strong><a href=\"https://wandb.ai/luiscostigan/house-price-prediction/runs/fzds8ybq\" target=\"_blank\">sleek-sweep-4</a></strong> to <a href=\"https://wandb.ai/luiscostigan/house-price-prediction\" target=\"_blank\">Weights & Biases</a> (<a href=\"https://docs.wandb.com/integrations/jupyter.html\" target=\"_blank\">docs</a>).<br/>\n",
       "Sweep page: <a href=\"https://wandb.ai/luiscostigan/house-price-prediction/sweeps/hbftehhf\" target=\"_blank\">https://wandb.ai/luiscostigan/house-price-prediction/sweeps/hbftehhf</a><br/>\n",
       "\n",
       "                "
      ],
      "text/plain": [
       "<IPython.core.display.HTML object>"
      ]
     },
     "metadata": {},
     "output_type": "display_data"
    },
    {
     "name": "stdout",
     "output_type": "stream",
     "text": [
      "37/37 [==============================] - 0s 2ms/step - loss: 0.1229 - root_mean_squared_error: 0.3506\n",
      "Score for fold 2: loss of 0.12291979789733887; root_mean_squared_error of 0.3505991995334625\n",
      "------------------------------------------------------------------------\n",
      "Score per fold\n",
      "------------------------------------------------------------------------\n",
      "> Fold 1 - Loss: 0.10172329097986221 - RMSE: 0.3189408779144287%\n",
      "------------------------------------------------------------------------\n",
      "> Fold 2 - Loss: 0.12291979789733887 - RMSE: 0.3505991995334625%\n",
      "------------------------------------------------------------------------\n",
      "Average scores for all folds:\n",
      "> RMSE: 0.3347700387239456 (+- 0.015829160809516907)\n",
      "> Loss: 0.11232154443860054\n",
      "------------------------------------------------------------------------\n"
     ]
    },
    {
     "data": {
      "text/html": [
       "<br/>Waiting for W&B process to finish, PID 9505... <strong style=\"color:green\">(success).</strong>"
      ],
      "text/plain": [
       "<IPython.core.display.HTML object>"
      ]
     },
     "metadata": {},
     "output_type": "display_data"
    },
    {
     "data": {
      "application/vnd.jupyter.widget-view+json": {
       "model_id": "208bc80645ea4c018246bf0131326c07",
       "version_major": 2,
       "version_minor": 0
      },
      "text/plain": [
       "VBox(children=(Label(value=' 0.12MB of 0.12MB uploaded (0.00MB deduped)\\r'), FloatProgress(value=1.0, max=1.0)…"
      ]
     },
     "metadata": {},
     "output_type": "display_data"
    },
    {
     "data": {
      "text/html": [
       "<style>\n",
       "    table.wandb td:nth-child(1) { padding: 0 10px; text-align: right }\n",
       "    .wandb-row { display: flex; flex-direction: row; flex-wrap: wrap; width: 100% }\n",
       "    .wandb-col { display: flex; flex-direction: column; flex-basis: 100%; flex: 1; padding: 10px; }\n",
       "    </style>\n",
       "<div class=\"wandb-row\"><div class=\"wandb-col\">\n",
       "<h3>Run history:</h3><br/><table class=\"wandb\"><tr><td>Mean Validation Loss (all folds)</td><td>▁</td></tr><tr><td>Mean Validation RMSE (all folds)</td><td>▁</td></tr><tr><td>epoch</td><td>▁▁▁▂▂▂▂▂▂▃▃▃▃▃▄▄▄▄▄▄▅▅▅▅▅▅▆▆▆▆▆▇▇▇▇▇▇███</td></tr><tr><td>loss</td><td>█▁▁▁▁▁▁▁▁▁▁▁▁▁▁▁▁▁▁▁▁▁▁▁▁▁▁▁▁▁▁▁▁▁▁▁▁▁▁▁</td></tr><tr><td>root_mean_squared_error</td><td>█▂▂▁▁▁▁▁▁▁▁▁▁▁▁▁▁▁▁▁▁▁▁▁▁▁▁▁▁▁▁▁▁▁▁▁▁▁▁▁</td></tr><tr><td>val_loss</td><td>█▃▂▁▂▄▃▃▁▂▄▃▅▁▂▃█▁▃▂▅▂▃▁▂▂▁▅▄▁▂▂▅▃▁▁▁▂▃▁</td></tr><tr><td>val_root_mean_squared_error</td><td>█▄▃▁▃▅▄▄▂▃▅▄▆▁▃▅█▁▄▃▆▃▄▂▃▃▁▆▅▁▃▂▆▄▁▁▂▃▄▁</td></tr></table><br/></div><div class=\"wandb-col\">\n",
       "<h3>Run summary:</h3><br/><table class=\"wandb\"><tr><td>Mean Validation Loss (all folds)</td><td>0.11232</td></tr><tr><td>Mean Validation RMSE (all folds)</td><td>0.33477</td></tr><tr><td>best_epoch</td><td>174</td></tr><tr><td>best_val_loss</td><td>0.01362</td></tr><tr><td>epoch</td><td>249</td></tr><tr><td>loss</td><td>0.32488</td></tr><tr><td>root_mean_squared_error</td><td>0.56999</td></tr><tr><td>val_loss</td><td>0.12292</td></tr><tr><td>val_root_mean_squared_error</td><td>0.3506</td></tr></table>\n",
       "</div></div>\n",
       "Synced 5 W&B file(s), 0 media file(s), 0 artifact file(s) and 1 other file(s)\n",
       "<br/>Synced <strong style=\"color:#cdcd00\">sleek-sweep-4</strong>: <a href=\"https://wandb.ai/luiscostigan/house-price-prediction/runs/fzds8ybq\" target=\"_blank\">https://wandb.ai/luiscostigan/house-price-prediction/runs/fzds8ybq</a><br/>\n",
       "Find logs at: <code>./wandb/run-20220304_124751-fzds8ybq/logs</code><br/>\n"
      ],
      "text/plain": [
       "<IPython.core.display.HTML object>"
      ]
     },
     "metadata": {},
     "output_type": "display_data"
    },
    {
     "name": "stderr",
     "output_type": "stream",
     "text": [
      "\u001b[34m\u001b[1mwandb\u001b[0m: wandb version 0.12.11 is available!  To upgrade, please run:\n",
      "\u001b[34m\u001b[1mwandb\u001b[0m:  $ pip install wandb --upgrade\n"
     ]
    },
    {
     "data": {
      "text/html": [
       "\n",
       "                    Syncing run <strong><a href=\"https://wandb.ai/luiscostigan/house-price-prediction/runs/fzds8ybq\" target=\"_blank\">sleek-sweep-4</a></strong> to <a href=\"https://wandb.ai/luiscostigan/house-price-prediction\" target=\"_blank\">Weights & Biases</a> (<a href=\"https://docs.wandb.com/integrations/jupyter.html\" target=\"_blank\">docs</a>).<br/>\n",
       "Sweep page: <a href=\"https://wandb.ai/luiscostigan/house-price-prediction/sweeps/hbftehhf\" target=\"_blank\">https://wandb.ai/luiscostigan/house-price-prediction/sweeps/hbftehhf</a><br/>\n",
       "\n",
       "                "
      ],
      "text/plain": [
       "<IPython.core.display.HTML object>"
      ]
     },
     "metadata": {},
     "output_type": "display_data"
    },
    {
     "name": "stdout",
     "output_type": "stream",
     "text": [
      "37/37 [==============================] - 0s 3ms/step - loss: 0.2896 - root_mean_squared_error: 0.5382\n",
      "Score for fold 3: loss of 0.2896213233470917; root_mean_squared_error of 0.5381647944450378\n",
      "------------------------------------------------------------------------\n",
      "Score per fold\n",
      "------------------------------------------------------------------------\n",
      "> Fold 1 - Loss: 0.10172329097986221 - RMSE: 0.3189408779144287%\n",
      "------------------------------------------------------------------------\n",
      "> Fold 2 - Loss: 0.12291979789733887 - RMSE: 0.3505991995334625%\n",
      "------------------------------------------------------------------------\n",
      "> Fold 3 - Loss: 0.2896213233470917 - RMSE: 0.5381647944450378%\n",
      "------------------------------------------------------------------------\n",
      "Average scores for all folds:\n",
      "> RMSE: 0.4025682906309764 (+- 0.09674837196522099)\n",
      "> Loss: 0.1714214707414309\n",
      "------------------------------------------------------------------------\n"
     ]
    },
    {
     "data": {
      "text/html": [
       "<br/>Waiting for W&B process to finish, PID 14699... <strong style=\"color:green\">(success).</strong>"
      ],
      "text/plain": [
       "<IPython.core.display.HTML object>"
      ]
     },
     "metadata": {},
     "output_type": "display_data"
    },
    {
     "data": {
      "application/vnd.jupyter.widget-view+json": {
       "model_id": "75f36692fbda416cb8f63f785758466a",
       "version_major": 2,
       "version_minor": 0
      },
      "text/plain": [
       "VBox(children=(Label(value=' 0.12MB of 0.12MB uploaded (0.00MB deduped)\\r'), FloatProgress(value=1.0, max=1.0)…"
      ]
     },
     "metadata": {},
     "output_type": "display_data"
    },
    {
     "data": {
      "text/html": [
       "<style>\n",
       "    table.wandb td:nth-child(1) { padding: 0 10px; text-align: right }\n",
       "    .wandb-row { display: flex; flex-direction: row; flex-wrap: wrap; width: 100% }\n",
       "    .wandb-col { display: flex; flex-direction: column; flex-basis: 100%; flex: 1; padding: 10px; }\n",
       "    </style>\n",
       "<div class=\"wandb-row\"><div class=\"wandb-col\">\n",
       "<h3>Run history:</h3><br/><table class=\"wandb\"><tr><td>Mean Validation Loss (all folds)</td><td>▁</td></tr><tr><td>Mean Validation RMSE (all folds)</td><td>▁</td></tr><tr><td>epoch</td><td>▁▁▁▂▂▂▂▂▂▃▃▃▃▃▄▄▄▄▄▄▅▅▅▅▅▅▆▆▆▆▆▇▇▇▇▇▇███</td></tr><tr><td>loss</td><td>█▂▁▁▁▁▁▁▁▁▁▁▁▁▁▁▁▁▁▁▁▁▁▁▁▁▁▁▁▁▁▁▁▁▁▁▁▁▁▁</td></tr><tr><td>root_mean_squared_error</td><td>█▂▂▂▂▂▂▂▂▁▁▂▂▁▁▁▂▁▁▁▁▁▁▁▁▁▁▁▁▁▁▁▁▁▁▁▁▁▁▁</td></tr><tr><td>val_loss</td><td>▆▂▁▃▅█▂▂▁▄▃▁▁▃▄▁▂▃▁▁▁█▂▂▇▁▂▅▁▃▂▁█▆▆▃▂▁▁▃</td></tr><tr><td>val_root_mean_squared_error</td><td>▇▃▂▄▆█▃▃▁▅▅▁▁▅▅▁▃▄▂▁▁█▃▃█▂▄▆▂▄▄▁█▇▇▄▃▂▂▄</td></tr></table><br/></div><div class=\"wandb-col\">\n",
       "<h3>Run summary:</h3><br/><table class=\"wandb\"><tr><td>Mean Validation Loss (all folds)</td><td>0.17142</td></tr><tr><td>Mean Validation RMSE (all folds)</td><td>0.40257</td></tr><tr><td>best_epoch</td><td>236</td></tr><tr><td>best_val_loss</td><td>0.01443</td></tr><tr><td>epoch</td><td>249</td></tr><tr><td>loss</td><td>0.15679</td></tr><tr><td>root_mean_squared_error</td><td>0.39597</td></tr><tr><td>val_loss</td><td>0.28962</td></tr><tr><td>val_root_mean_squared_error</td><td>0.53816</td></tr></table>\n",
       "</div></div>\n",
       "Synced 5 W&B file(s), 0 media file(s), 0 artifact file(s) and 1 other file(s)\n",
       "<br/>Synced <strong style=\"color:#cdcd00\">sleek-sweep-4</strong>: <a href=\"https://wandb.ai/luiscostigan/house-price-prediction/runs/fzds8ybq\" target=\"_blank\">https://wandb.ai/luiscostigan/house-price-prediction/runs/fzds8ybq</a><br/>\n",
       "Find logs at: <code>./wandb/run-20220304_124826-fzds8ybq/logs</code><br/>\n"
      ],
      "text/plain": [
       "<IPython.core.display.HTML object>"
      ]
     },
     "metadata": {},
     "output_type": "display_data"
    },
    {
     "name": "stderr",
     "output_type": "stream",
     "text": [
      "\u001b[34m\u001b[1mwandb\u001b[0m: wandb version 0.12.11 is available!  To upgrade, please run:\n",
      "\u001b[34m\u001b[1mwandb\u001b[0m:  $ pip install wandb --upgrade\n"
     ]
    },
    {
     "data": {
      "text/html": [
       "\n",
       "                    Syncing run <strong><a href=\"https://wandb.ai/luiscostigan/house-price-prediction/runs/fzds8ybq\" target=\"_blank\">sleek-sweep-4</a></strong> to <a href=\"https://wandb.ai/luiscostigan/house-price-prediction\" target=\"_blank\">Weights & Biases</a> (<a href=\"https://docs.wandb.com/integrations/jupyter.html\" target=\"_blank\">docs</a>).<br/>\n",
       "Sweep page: <a href=\"https://wandb.ai/luiscostigan/house-price-prediction/sweeps/hbftehhf\" target=\"_blank\">https://wandb.ai/luiscostigan/house-price-prediction/sweeps/hbftehhf</a><br/>\n",
       "\n",
       "                "
      ],
      "text/plain": [
       "<IPython.core.display.HTML object>"
      ]
     },
     "metadata": {},
     "output_type": "display_data"
    },
    {
     "name": "stdout",
     "output_type": "stream",
     "text": [
      "37/37 [==============================] - 0s 3ms/step - loss: 0.1517 - root_mean_squared_error: 0.3895\n",
      "Score for fold 4: loss of 0.15173880755901337; root_mean_squared_error of 0.38953664898872375\n",
      "------------------------------------------------------------------------\n",
      "Score per fold\n",
      "------------------------------------------------------------------------\n",
      "> Fold 1 - Loss: 0.10172329097986221 - RMSE: 0.3189408779144287%\n",
      "------------------------------------------------------------------------\n",
      "> Fold 2 - Loss: 0.12291979789733887 - RMSE: 0.3505991995334625%\n",
      "------------------------------------------------------------------------\n",
      "> Fold 3 - Loss: 0.2896213233470917 - RMSE: 0.5381647944450378%\n",
      "------------------------------------------------------------------------\n",
      "> Fold 4 - Loss: 0.15173880755901337 - RMSE: 0.38953664898872375%\n",
      "------------------------------------------------------------------------\n",
      "Average scores for all folds:\n",
      "> RMSE: 0.3993103802204132 (+- 0.08397635113036489)\n",
      "> Loss: 0.16650080494582653\n",
      "------------------------------------------------------------------------\n"
     ]
    },
    {
     "data": {
      "text/html": [
       "<br/>Waiting for W&B process to finish, PID 19843... <strong style=\"color:green\">(success).</strong>"
      ],
      "text/plain": [
       "<IPython.core.display.HTML object>"
      ]
     },
     "metadata": {},
     "output_type": "display_data"
    },
    {
     "data": {
      "application/vnd.jupyter.widget-view+json": {
       "model_id": "1f2ce1e254f04ecea889c884f35ea100",
       "version_major": 2,
       "version_minor": 0
      },
      "text/plain": [
       "VBox(children=(Label(value=' 0.12MB of 0.12MB uploaded (0.00MB deduped)\\r'), FloatProgress(value=1.0, max=1.0)…"
      ]
     },
     "metadata": {},
     "output_type": "display_data"
    },
    {
     "data": {
      "text/html": [
       "<style>\n",
       "    table.wandb td:nth-child(1) { padding: 0 10px; text-align: right }\n",
       "    .wandb-row { display: flex; flex-direction: row; flex-wrap: wrap; width: 100% }\n",
       "    .wandb-col { display: flex; flex-direction: column; flex-basis: 100%; flex: 1; padding: 10px; }\n",
       "    </style>\n",
       "<div class=\"wandb-row\"><div class=\"wandb-col\">\n",
       "<h3>Run history:</h3><br/><table class=\"wandb\"><tr><td>Mean Validation Loss (all folds)</td><td>▁</td></tr><tr><td>Mean Validation RMSE (all folds)</td><td>▁</td></tr><tr><td>epoch</td><td>▁▁▁▂▂▂▂▂▂▃▃▃▃▃▄▄▄▄▄▄▅▅▅▅▅▅▆▆▆▆▆▇▇▇▇▇▇███</td></tr><tr><td>loss</td><td>█▁▁▁▁▁▁▁▁▁▁▁▁▁▁▁▁▁▁▁▁▁▁▁▁▁▁▁▁▁▁▁▁▁▁▁▁▁▁▁</td></tr><tr><td>root_mean_squared_error</td><td>█▂▂▂▂▁▁▁▁▁▁▁▁▁▁▁▁▁▁▁▁▁▁▁▁▁▁▁▁▁▁▁▁▁▁▁▁▁▁▁</td></tr><tr><td>val_loss</td><td>█▂▁▁▂▂▁▃▂▃▃▁▂▂▁▂▂▃▁▁▄▁▄▄▄▁▂▁▁▃▂▁▁▃▂▂▂▁▂▂</td></tr><tr><td>val_root_mean_squared_error</td><td>█▃▁▁▃▃▁▄▃▄▄▂▃▂▁▄▂▅▂▂▅▂▅▅▅▂▄▂▂▄▃▂▂▄▂▄▃▁▃▃</td></tr></table><br/></div><div class=\"wandb-col\">\n",
       "<h3>Run summary:</h3><br/><table class=\"wandb\"><tr><td>Mean Validation Loss (all folds)</td><td>0.1665</td></tr><tr><td>Mean Validation RMSE (all folds)</td><td>0.39931</td></tr><tr><td>best_epoch</td><td>114</td></tr><tr><td>best_val_loss</td><td>0.01509</td></tr><tr><td>epoch</td><td>249</td></tr><tr><td>loss</td><td>0.07273</td></tr><tr><td>root_mean_squared_error</td><td>0.26969</td></tr><tr><td>val_loss</td><td>0.15174</td></tr><tr><td>val_root_mean_squared_error</td><td>0.38954</td></tr></table>\n",
       "</div></div>\n",
       "Synced 5 W&B file(s), 0 media file(s), 0 artifact file(s) and 1 other file(s)\n",
       "<br/>Synced <strong style=\"color:#cdcd00\">sleek-sweep-4</strong>: <a href=\"https://wandb.ai/luiscostigan/house-price-prediction/runs/fzds8ybq\" target=\"_blank\">https://wandb.ai/luiscostigan/house-price-prediction/runs/fzds8ybq</a><br/>\n",
       "Find logs at: <code>./wandb/run-20220304_124859-fzds8ybq/logs</code><br/>\n"
      ],
      "text/plain": [
       "<IPython.core.display.HTML object>"
      ]
     },
     "metadata": {},
     "output_type": "display_data"
    },
    {
     "name": "stderr",
     "output_type": "stream",
     "text": [
      "\u001b[34m\u001b[1mwandb\u001b[0m: wandb version 0.12.11 is available!  To upgrade, please run:\n",
      "\u001b[34m\u001b[1mwandb\u001b[0m:  $ pip install wandb --upgrade\n"
     ]
    },
    {
     "data": {
      "text/html": [
       "\n",
       "                    Syncing run <strong><a href=\"https://wandb.ai/luiscostigan/house-price-prediction/runs/fzds8ybq\" target=\"_blank\">sleek-sweep-4</a></strong> to <a href=\"https://wandb.ai/luiscostigan/house-price-prediction\" target=\"_blank\">Weights & Biases</a> (<a href=\"https://docs.wandb.com/integrations/jupyter.html\" target=\"_blank\">docs</a>).<br/>\n",
       "Sweep page: <a href=\"https://wandb.ai/luiscostigan/house-price-prediction/sweeps/hbftehhf\" target=\"_blank\">https://wandb.ai/luiscostigan/house-price-prediction/sweeps/hbftehhf</a><br/>\n",
       "\n",
       "                "
      ],
      "text/plain": [
       "<IPython.core.display.HTML object>"
      ]
     },
     "metadata": {},
     "output_type": "display_data"
    },
    {
     "name": "stdout",
     "output_type": "stream",
     "text": [
      "37/37 [==============================] - 0s 2ms/step - loss: 0.2429 - root_mean_squared_error: 0.4929\n",
      "Score for fold 5: loss of 0.2429054230451584; root_mean_squared_error of 0.49285435676574707\n",
      "------------------------------------------------------------------------\n",
      "Score per fold\n",
      "------------------------------------------------------------------------\n",
      "> Fold 1 - Loss: 0.10172329097986221 - RMSE: 0.3189408779144287%\n",
      "------------------------------------------------------------------------\n",
      "> Fold 2 - Loss: 0.12291979789733887 - RMSE: 0.3505991995334625%\n",
      "------------------------------------------------------------------------\n",
      "> Fold 3 - Loss: 0.2896213233470917 - RMSE: 0.5381647944450378%\n",
      "------------------------------------------------------------------------\n",
      "> Fold 4 - Loss: 0.15173880755901337 - RMSE: 0.38953664898872375%\n",
      "------------------------------------------------------------------------\n",
      "> Fold 5 - Loss: 0.2429054230451584 - RMSE: 0.49285435676574707%\n",
      "------------------------------------------------------------------------\n",
      "Average scores for all folds:\n",
      "> RMSE: 0.41801917552948 (+- 0.08391482662201302)\n",
      "> Loss: 0.1817817285656929\n",
      "------------------------------------------------------------------------\n"
     ]
    },
    {
     "data": {
      "text/html": [
       "<br/>Waiting for W&B process to finish, PID 24983... <strong style=\"color:green\">(success).</strong>"
      ],
      "text/plain": [
       "<IPython.core.display.HTML object>"
      ]
     },
     "metadata": {},
     "output_type": "display_data"
    },
    {
     "data": {
      "application/vnd.jupyter.widget-view+json": {
       "model_id": "072c7c0b9a594235890cdc085f0a7d4c",
       "version_major": 2,
       "version_minor": 0
      },
      "text/plain": [
       "VBox(children=(Label(value=' 0.12MB of 0.12MB uploaded (0.00MB deduped)\\r'), FloatProgress(value=1.0, max=1.0)…"
      ]
     },
     "metadata": {},
     "output_type": "display_data"
    },
    {
     "data": {
      "text/html": [
       "<style>\n",
       "    table.wandb td:nth-child(1) { padding: 0 10px; text-align: right }\n",
       "    .wandb-row { display: flex; flex-direction: row; flex-wrap: wrap; width: 100% }\n",
       "    .wandb-col { display: flex; flex-direction: column; flex-basis: 100%; flex: 1; padding: 10px; }\n",
       "    </style>\n",
       "<div class=\"wandb-row\"><div class=\"wandb-col\">\n",
       "<h3>Run history:</h3><br/><table class=\"wandb\"><tr><td>Mean Validation Loss (all folds)</td><td>▁</td></tr><tr><td>Mean Validation RMSE (all folds)</td><td>▁</td></tr><tr><td>epoch</td><td>▁▁▁▂▂▂▂▂▂▃▃▃▃▃▄▄▄▄▄▄▅▅▅▅▅▅▆▆▆▆▆▇▇▇▇▇▇███</td></tr><tr><td>loss</td><td>█▁▁▁▁▁▁▁▁▁▁▁▁▁▁▁▁▁▁▁▁▁▁▁▁▁▁▁▁▁▁▁▁▁▁▁▁▁▁▁</td></tr><tr><td>root_mean_squared_error</td><td>█▂▁▁▁▁▁▁▁▁▁▁▁▁▁▁▁▁▁▁▁▁▁▁▁▁▁▁▁▁▁▁▁▁▁▁▁▁▁▁</td></tr><tr><td>val_loss</td><td>█▁▂▁▁▁▁▁▁▁▁▂▁▁▁▁▁▁▁▁▁▁▁▁▁▁▁▁▁▁▁▁▁▁▁▁▁▁▁▁</td></tr><tr><td>val_root_mean_squared_error</td><td>█▂▃▂▂▂▁▁▂▂▂▃▁▂▁▂▂▂▁▁▁▁▂▁▁▂▁▂▁▁▁▂▁▁▁▂▁▂▂▂</td></tr></table><br/></div><div class=\"wandb-col\">\n",
       "<h3>Run summary:</h3><br/><table class=\"wandb\"><tr><td>Mean Validation Loss (all folds)</td><td>0.18178</td></tr><tr><td>Mean Validation RMSE (all folds)</td><td>0.41802</td></tr><tr><td>best_epoch</td><td>225</td></tr><tr><td>best_val_loss</td><td>0.01618</td></tr><tr><td>epoch</td><td>249</td></tr><tr><td>loss</td><td>0.32192</td></tr><tr><td>root_mean_squared_error</td><td>0.56738</td></tr><tr><td>val_loss</td><td>0.24291</td></tr><tr><td>val_root_mean_squared_error</td><td>0.49285</td></tr></table>\n",
       "</div></div>\n",
       "Synced 5 W&B file(s), 0 media file(s), 0 artifact file(s) and 1 other file(s)\n",
       "<br/>Synced <strong style=\"color:#cdcd00\">sleek-sweep-4</strong>: <a href=\"https://wandb.ai/luiscostigan/house-price-prediction/runs/fzds8ybq\" target=\"_blank\">https://wandb.ai/luiscostigan/house-price-prediction/runs/fzds8ybq</a><br/>\n",
       "Find logs at: <code>./wandb/run-20220304_124932-fzds8ybq/logs</code><br/>\n"
      ],
      "text/plain": [
       "<IPython.core.display.HTML object>"
      ]
     },
     "metadata": {},
     "output_type": "display_data"
    },
    {
     "name": "stderr",
     "output_type": "stream",
     "text": [
      "\u001b[34m\u001b[1mwandb\u001b[0m: Agent Starting Run: zs207jud with config:\n",
      "\u001b[34m\u001b[1mwandb\u001b[0m: \tbatch_size: 64\n",
      "\u001b[34m\u001b[1mwandb\u001b[0m: \tdense1: 8\n",
      "\u001b[34m\u001b[1mwandb\u001b[0m: \tdense2: 16\n",
      "\u001b[34m\u001b[1mwandb\u001b[0m: \tdropout1: 0.13523393593669925\n",
      "\u001b[34m\u001b[1mwandb\u001b[0m: \tepochs: 750\n",
      "\u001b[34m\u001b[1mwandb\u001b[0m: wandb version 0.12.11 is available!  To upgrade, please run:\n",
      "\u001b[34m\u001b[1mwandb\u001b[0m:  $ pip install wandb --upgrade\n"
     ]
    },
    {
     "data": {
      "text/html": [
       "\n",
       "                    Syncing run <strong><a href=\"https://wandb.ai/luiscostigan/house-price-prediction/runs/zs207jud\" target=\"_blank\">wandering-sweep-5</a></strong> to <a href=\"https://wandb.ai/luiscostigan/house-price-prediction\" target=\"_blank\">Weights & Biases</a> (<a href=\"https://docs.wandb.com/integrations/jupyter.html\" target=\"_blank\">docs</a>).<br/>\n",
       "Sweep page: <a href=\"https://wandb.ai/luiscostigan/house-price-prediction/sweeps/hbftehhf\" target=\"_blank\">https://wandb.ai/luiscostigan/house-price-prediction/sweeps/hbftehhf</a><br/>\n",
       "\n",
       "                "
      ],
      "text/plain": [
       "<IPython.core.display.HTML object>"
      ]
     },
     "metadata": {},
     "output_type": "display_data"
    },
    {
     "name": "stdout",
     "output_type": "stream",
     "text": [
      "37/37 [==============================] - 0s 3ms/step - loss: 1.9799 - root_mean_squared_error: 1.4071\n",
      "Score for fold 1: loss of 1.9799199104309082; root_mean_squared_error of 1.407096266746521\n",
      "------------------------------------------------------------------------\n",
      "Score per fold\n",
      "------------------------------------------------------------------------\n",
      "> Fold 1 - Loss: 1.9799199104309082 - RMSE: 1.407096266746521%\n",
      "------------------------------------------------------------------------\n",
      "Average scores for all folds:\n",
      "> RMSE: 1.407096266746521 (+- 0.0)\n",
      "> Loss: 1.9799199104309082\n",
      "------------------------------------------------------------------------\n"
     ]
    },
    {
     "data": {
      "text/html": [
       "<br/>Waiting for W&B process to finish, PID 30138... <strong style=\"color:green\">(success).</strong>"
      ],
      "text/plain": [
       "<IPython.core.display.HTML object>"
      ]
     },
     "metadata": {},
     "output_type": "display_data"
    },
    {
     "data": {
      "application/vnd.jupyter.widget-view+json": {
       "model_id": "78edfc9488a1492fb9551d87d6e8d8da",
       "version_major": 2,
       "version_minor": 0
      },
      "text/plain": [
       "VBox(children=(Label(value=' 0.12MB of 0.12MB uploaded (0.00MB deduped)\\r'), FloatProgress(value=1.0, max=1.0)…"
      ]
     },
     "metadata": {},
     "output_type": "display_data"
    },
    {
     "data": {
      "text/html": [
       "<style>\n",
       "    table.wandb td:nth-child(1) { padding: 0 10px; text-align: right }\n",
       "    .wandb-row { display: flex; flex-direction: row; flex-wrap: wrap; width: 100% }\n",
       "    .wandb-col { display: flex; flex-direction: column; flex-basis: 100%; flex: 1; padding: 10px; }\n",
       "    </style>\n",
       "<div class=\"wandb-row\"><div class=\"wandb-col\">\n",
       "<h3>Run history:</h3><br/><table class=\"wandb\"><tr><td>Mean Validation Loss (all folds)</td><td>▁</td></tr><tr><td>Mean Validation RMSE (all folds)</td><td>▁</td></tr><tr><td>epoch</td><td>▁▁▁▂▂▂▂▂▂▃▃▃▃▃▄▄▄▄▄▄▅▅▅▅▅▅▆▆▆▆▆▇▇▇▇▇▇███</td></tr><tr><td>loss</td><td>█▃▁▁▁▁▁▁▁▁▁▁▁▁▁▁▁▁▁▁▁▁▁▁▁▁▁▁▁▁▁▁▁▁▁▁▁▁▁▁</td></tr><tr><td>root_mean_squared_error</td><td>█▄▂▂▂▂▂▂▂▂▂▁▂▁▁▁▁▁▁▁▂▂▁▁▁▁▁▁▁▁▁▁▁▁▁▁▁▁▁▁</td></tr><tr><td>val_loss</td><td>▁▄▆█▅▅▇▆▆▄▆▇▆▅▅▅▆▅▅▅▅▇▅▅▅▆▅▅▅▅▆▅▆▆▄▄▄▆▅▅</td></tr><tr><td>val_root_mean_squared_error</td><td>▁▅▆█▆▆▇▇▆▅▇▇▇▆▆▆▇▆▆▆▆▇▆▆▆▆▆▅▆▆▇▆▇▇▅▅▅▇▆▆</td></tr></table><br/></div><div class=\"wandb-col\">\n",
       "<h3>Run summary:</h3><br/><table class=\"wandb\"><tr><td>Mean Validation Loss (all folds)</td><td>1.97992</td></tr><tr><td>Mean Validation RMSE (all folds)</td><td>1.4071</td></tr><tr><td>best_epoch</td><td>8</td></tr><tr><td>best_val_loss</td><td>0.12648</td></tr><tr><td>epoch</td><td>749</td></tr><tr><td>loss</td><td>0.02206</td></tr><tr><td>root_mean_squared_error</td><td>0.14854</td></tr><tr><td>val_loss</td><td>1.97992</td></tr><tr><td>val_root_mean_squared_error</td><td>1.4071</td></tr></table>\n",
       "</div></div>\n",
       "Synced 5 W&B file(s), 0 media file(s), 0 artifact file(s) and 1 other file(s)\n",
       "<br/>Synced <strong style=\"color:#cdcd00\">wandering-sweep-5</strong>: <a href=\"https://wandb.ai/luiscostigan/house-price-prediction/runs/zs207jud\" target=\"_blank\">https://wandb.ai/luiscostigan/house-price-prediction/runs/zs207jud</a><br/>\n",
       "Find logs at: <code>./wandb/run-20220304_125007-zs207jud/logs</code><br/>\n"
      ],
      "text/plain": [
       "<IPython.core.display.HTML object>"
      ]
     },
     "metadata": {},
     "output_type": "display_data"
    },
    {
     "name": "stderr",
     "output_type": "stream",
     "text": [
      "\u001b[34m\u001b[1mwandb\u001b[0m: wandb version 0.12.11 is available!  To upgrade, please run:\n",
      "\u001b[34m\u001b[1mwandb\u001b[0m:  $ pip install wandb --upgrade\n"
     ]
    },
    {
     "data": {
      "text/html": [
       "\n",
       "                    Syncing run <strong><a href=\"https://wandb.ai/luiscostigan/house-price-prediction/runs/zs207jud\" target=\"_blank\">wandering-sweep-5</a></strong> to <a href=\"https://wandb.ai/luiscostigan/house-price-prediction\" target=\"_blank\">Weights & Biases</a> (<a href=\"https://docs.wandb.com/integrations/jupyter.html\" target=\"_blank\">docs</a>).<br/>\n",
       "Sweep page: <a href=\"https://wandb.ai/luiscostigan/house-price-prediction/sweeps/hbftehhf\" target=\"_blank\">https://wandb.ai/luiscostigan/house-price-prediction/sweeps/hbftehhf</a><br/>\n",
       "\n",
       "                "
      ],
      "text/plain": [
       "<IPython.core.display.HTML object>"
      ]
     },
     "metadata": {},
     "output_type": "display_data"
    },
    {
     "name": "stdout",
     "output_type": "stream",
     "text": [
      "37/37 [==============================] - 0s 3ms/step - loss: 1.6739 - root_mean_squared_error: 1.2938\n",
      "Score for fold 2: loss of 1.6738518476486206; root_mean_squared_error of 1.2937742471694946\n",
      "------------------------------------------------------------------------\n",
      "Score per fold\n",
      "------------------------------------------------------------------------\n",
      "> Fold 1 - Loss: 1.9799199104309082 - RMSE: 1.407096266746521%\n",
      "------------------------------------------------------------------------\n",
      "> Fold 2 - Loss: 1.6738518476486206 - RMSE: 1.2937742471694946%\n",
      "------------------------------------------------------------------------\n",
      "Average scores for all folds:\n",
      "> RMSE: 1.3504352569580078 (+- 0.056661009788513184)\n",
      "> Loss: 1.8268858790397644\n",
      "------------------------------------------------------------------------\n"
     ]
    },
    {
     "data": {
      "text/html": [
       "<br/>Waiting for W&B process to finish, PID 12726... <strong style=\"color:green\">(success).</strong>"
      ],
      "text/plain": [
       "<IPython.core.display.HTML object>"
      ]
     },
     "metadata": {},
     "output_type": "display_data"
    },
    {
     "data": {
      "application/vnd.jupyter.widget-view+json": {
       "model_id": "b3399131ade84924ac23a049df851d03",
       "version_major": 2,
       "version_minor": 0
      },
      "text/plain": [
       "VBox(children=(Label(value=' 0.12MB of 0.12MB uploaded (0.00MB deduped)\\r'), FloatProgress(value=1.0, max=1.0)…"
      ]
     },
     "metadata": {},
     "output_type": "display_data"
    },
    {
     "data": {
      "text/html": [
       "<style>\n",
       "    table.wandb td:nth-child(1) { padding: 0 10px; text-align: right }\n",
       "    .wandb-row { display: flex; flex-direction: row; flex-wrap: wrap; width: 100% }\n",
       "    .wandb-col { display: flex; flex-direction: column; flex-basis: 100%; flex: 1; padding: 10px; }\n",
       "    </style>\n",
       "<div class=\"wandb-row\"><div class=\"wandb-col\">\n",
       "<h3>Run history:</h3><br/><table class=\"wandb\"><tr><td>Mean Validation Loss (all folds)</td><td>▁</td></tr><tr><td>Mean Validation RMSE (all folds)</td><td>▁</td></tr><tr><td>epoch</td><td>▁▁▁▂▂▂▂▂▂▃▃▃▃▃▄▄▄▄▄▄▅▅▅▅▅▅▆▆▆▆▆▇▇▇▇▇▇███</td></tr><tr><td>loss</td><td>█▃▂▁▁▁▁▁▁▁▁▁▁▁▁▁▁▁▁▁▁▁▁▁▁▁▁▁▁▁▁▁▁▁▁▁▁▁▁▁</td></tr><tr><td>root_mean_squared_error</td><td>█▄▃▂▂▂▂▁▂▂▁▂▁▁▁▁▂▁▁▂▁▁▁▁▁▁▁▁▁▁▁▁▁▁▁▁▁▁▁▁</td></tr><tr><td>val_loss</td><td>▁▂▂▆▅▅▅█▅▆▆▆▅▅▆▇▄▆▇▄▅▆▅▅▄▆▅▅▃▅▅▄▆▅▄▅▄▆▅▅</td></tr><tr><td>val_root_mean_squared_error</td><td>▁▃▃▇▆▆▆█▆▇▇▆▆▆▆▇▅▆▇▅▆▇▆▆▅▇▆▆▅▆▆▅▇▆▅▆▅▆▆▆</td></tr></table><br/></div><div class=\"wandb-col\">\n",
       "<h3>Run summary:</h3><br/><table class=\"wandb\"><tr><td>Mean Validation Loss (all folds)</td><td>1.82689</td></tr><tr><td>Mean Validation RMSE (all folds)</td><td>1.35044</td></tr><tr><td>best_epoch</td><td>14</td></tr><tr><td>best_val_loss</td><td>0.12982</td></tr><tr><td>epoch</td><td>749</td></tr><tr><td>loss</td><td>0.03674</td></tr><tr><td>root_mean_squared_error</td><td>0.19169</td></tr><tr><td>val_loss</td><td>1.67385</td></tr><tr><td>val_root_mean_squared_error</td><td>1.29377</td></tr></table>\n",
       "</div></div>\n",
       "Synced 5 W&B file(s), 0 media file(s), 0 artifact file(s) and 1 other file(s)\n",
       "<br/>Synced <strong style=\"color:#cdcd00\">wandering-sweep-5</strong>: <a href=\"https://wandb.ai/luiscostigan/house-price-prediction/runs/zs207jud\" target=\"_blank\">https://wandb.ai/luiscostigan/house-price-prediction/runs/zs207jud</a><br/>\n",
       "Find logs at: <code>./wandb/run-20220304_125117-zs207jud/logs</code><br/>\n"
      ],
      "text/plain": [
       "<IPython.core.display.HTML object>"
      ]
     },
     "metadata": {},
     "output_type": "display_data"
    },
    {
     "name": "stderr",
     "output_type": "stream",
     "text": [
      "\u001b[34m\u001b[1mwandb\u001b[0m: wandb version 0.12.11 is available!  To upgrade, please run:\n",
      "\u001b[34m\u001b[1mwandb\u001b[0m:  $ pip install wandb --upgrade\n"
     ]
    },
    {
     "data": {
      "text/html": [
       "\n",
       "                    Syncing run <strong><a href=\"https://wandb.ai/luiscostigan/house-price-prediction/runs/zs207jud\" target=\"_blank\">wandering-sweep-5</a></strong> to <a href=\"https://wandb.ai/luiscostigan/house-price-prediction\" target=\"_blank\">Weights & Biases</a> (<a href=\"https://docs.wandb.com/integrations/jupyter.html\" target=\"_blank\">docs</a>).<br/>\n",
       "Sweep page: <a href=\"https://wandb.ai/luiscostigan/house-price-prediction/sweeps/hbftehhf\" target=\"_blank\">https://wandb.ai/luiscostigan/house-price-prediction/sweeps/hbftehhf</a><br/>\n",
       "\n",
       "                "
      ],
      "text/plain": [
       "<IPython.core.display.HTML object>"
      ]
     },
     "metadata": {},
     "output_type": "display_data"
    },
    {
     "name": "stdout",
     "output_type": "stream",
     "text": [
      "37/37 [==============================] - 0s 2ms/step - loss: 1.3935 - root_mean_squared_error: 1.1805\n",
      "Score for fold 3: loss of 1.3934627771377563; root_mean_squared_error of 1.180450201034546\n",
      "------------------------------------------------------------------------\n",
      "Score per fold\n",
      "------------------------------------------------------------------------\n",
      "> Fold 1 - Loss: 1.9799199104309082 - RMSE: 1.407096266746521%\n",
      "------------------------------------------------------------------------\n",
      "> Fold 2 - Loss: 1.6738518476486206 - RMSE: 1.2937742471694946%\n",
      "------------------------------------------------------------------------\n",
      "> Fold 3 - Loss: 1.3934627771377563 - RMSE: 1.180450201034546%\n",
      "------------------------------------------------------------------------\n",
      "Average scores for all folds:\n",
      "> RMSE: 1.2937735716501872 (+- 0.09252786886850713)\n",
      "> Loss: 1.682411511739095\n",
      "------------------------------------------------------------------------\n"
     ]
    },
    {
     "data": {
      "text/html": [
       "<br/>Waiting for W&B process to finish, PID 27739... <strong style=\"color:green\">(success).</strong>"
      ],
      "text/plain": [
       "<IPython.core.display.HTML object>"
      ]
     },
     "metadata": {},
     "output_type": "display_data"
    },
    {
     "data": {
      "application/vnd.jupyter.widget-view+json": {
       "model_id": "e8dad0b7b19a418b924105f0792faaea",
       "version_major": 2,
       "version_minor": 0
      },
      "text/plain": [
       "VBox(children=(Label(value=' 0.12MB of 0.12MB uploaded (0.00MB deduped)\\r'), FloatProgress(value=1.0, max=1.0)…"
      ]
     },
     "metadata": {},
     "output_type": "display_data"
    },
    {
     "data": {
      "text/html": [
       "<style>\n",
       "    table.wandb td:nth-child(1) { padding: 0 10px; text-align: right }\n",
       "    .wandb-row { display: flex; flex-direction: row; flex-wrap: wrap; width: 100% }\n",
       "    .wandb-col { display: flex; flex-direction: column; flex-basis: 100%; flex: 1; padding: 10px; }\n",
       "    </style>\n",
       "<div class=\"wandb-row\"><div class=\"wandb-col\">\n",
       "<h3>Run history:</h3><br/><table class=\"wandb\"><tr><td>Mean Validation Loss (all folds)</td><td>▁</td></tr><tr><td>Mean Validation RMSE (all folds)</td><td>▁</td></tr><tr><td>epoch</td><td>▁▁▁▂▂▂▂▂▂▃▃▃▃▃▄▄▄▄▄▄▅▅▅▅▅▅▆▆▆▆▆▇▇▇▇▇▇███</td></tr><tr><td>loss</td><td>█▃▁▁▁▁▁▁▁▁▁▁▁▁▁▁▁▁▁▁▁▁▁▁▁▁▁▁▁▁▁▁▁▁▁▁▁▁▁▁</td></tr><tr><td>root_mean_squared_error</td><td>█▄▂▂▁▂▁▁▁▁▁▂▁▁▁▂▁▁▁▁▁▂▁▁▁▁▁▁▁▁▁▁▁▁▁▁▁▁▁▁</td></tr><tr><td>val_loss</td><td>▁▆▅▅▄█▇▇▅▇█▇▄▄▇▇▇▅▆▇▇▇▆▇▇▇█▄▄▃▇▇▇▇▇▇▆▆▆▄</td></tr><tr><td>val_root_mean_squared_error</td><td>▁▆▅▆▅█▇▇▅▇█▇▅▄█▇▇▆▇▇█▇▆▇▇▇█▄▅▄▇▇▇▇▇▇▇▇▆▄</td></tr></table><br/></div><div class=\"wandb-col\">\n",
       "<h3>Run summary:</h3><br/><table class=\"wandb\"><tr><td>Mean Validation Loss (all folds)</td><td>1.68241</td></tr><tr><td>Mean Validation RMSE (all folds)</td><td>1.29377</td></tr><tr><td>best_epoch</td><td>5</td></tr><tr><td>best_val_loss</td><td>0.28232</td></tr><tr><td>epoch</td><td>749</td></tr><tr><td>loss</td><td>0.02324</td></tr><tr><td>root_mean_squared_error</td><td>0.15246</td></tr><tr><td>val_loss</td><td>1.39346</td></tr><tr><td>val_root_mean_squared_error</td><td>1.18045</td></tr></table>\n",
       "</div></div>\n",
       "Synced 5 W&B file(s), 0 media file(s), 0 artifact file(s) and 1 other file(s)\n",
       "<br/>Synced <strong style=\"color:#cdcd00\">wandering-sweep-5</strong>: <a href=\"https://wandb.ai/luiscostigan/house-price-prediction/runs/zs207jud\" target=\"_blank\">https://wandb.ai/luiscostigan/house-price-prediction/runs/zs207jud</a><br/>\n",
       "Find logs at: <code>./wandb/run-20220304_125228-zs207jud/logs</code><br/>\n"
      ],
      "text/plain": [
       "<IPython.core.display.HTML object>"
      ]
     },
     "metadata": {},
     "output_type": "display_data"
    },
    {
     "name": "stderr",
     "output_type": "stream",
     "text": [
      "\u001b[34m\u001b[1mwandb\u001b[0m: wandb version 0.12.11 is available!  To upgrade, please run:\n",
      "\u001b[34m\u001b[1mwandb\u001b[0m:  $ pip install wandb --upgrade\n"
     ]
    },
    {
     "data": {
      "text/html": [
       "\n",
       "                    Syncing run <strong><a href=\"https://wandb.ai/luiscostigan/house-price-prediction/runs/zs207jud\" target=\"_blank\">wandering-sweep-5</a></strong> to <a href=\"https://wandb.ai/luiscostigan/house-price-prediction\" target=\"_blank\">Weights & Biases</a> (<a href=\"https://docs.wandb.com/integrations/jupyter.html\" target=\"_blank\">docs</a>).<br/>\n",
       "Sweep page: <a href=\"https://wandb.ai/luiscostigan/house-price-prediction/sweeps/hbftehhf\" target=\"_blank\">https://wandb.ai/luiscostigan/house-price-prediction/sweeps/hbftehhf</a><br/>\n",
       "\n",
       "                "
      ],
      "text/plain": [
       "<IPython.core.display.HTML object>"
      ]
     },
     "metadata": {},
     "output_type": "display_data"
    },
    {
     "name": "stdout",
     "output_type": "stream",
     "text": [
      "37/37 [==============================] - 0s 2ms/step - loss: 1.1947 - root_mean_squared_error: 1.0930\n",
      "Score for fold 4: loss of 1.1946595907211304; root_mean_squared_error of 1.093004822731018\n",
      "------------------------------------------------------------------------\n",
      "Score per fold\n",
      "------------------------------------------------------------------------\n",
      "> Fold 1 - Loss: 1.9799199104309082 - RMSE: 1.407096266746521%\n",
      "------------------------------------------------------------------------\n",
      "> Fold 2 - Loss: 1.6738518476486206 - RMSE: 1.2937742471694946%\n",
      "------------------------------------------------------------------------\n",
      "> Fold 3 - Loss: 1.3934627771377563 - RMSE: 1.180450201034546%\n",
      "------------------------------------------------------------------------\n",
      "> Fold 4 - Loss: 1.1946595907211304 - RMSE: 1.093004822731018%\n",
      "------------------------------------------------------------------------\n",
      "Average scores for all folds:\n",
      "> RMSE: 1.243581384420395 (+- 0.11823206783585538)\n",
      "> Loss: 1.5604735314846039\n",
      "------------------------------------------------------------------------\n"
     ]
    },
    {
     "data": {
      "text/html": [
       "<br/>Waiting for W&B process to finish, PID 10334... <strong style=\"color:green\">(success).</strong>"
      ],
      "text/plain": [
       "<IPython.core.display.HTML object>"
      ]
     },
     "metadata": {},
     "output_type": "display_data"
    },
    {
     "data": {
      "application/vnd.jupyter.widget-view+json": {
       "model_id": "83596f22d5a54dcb9c7aab847e2fcc3a",
       "version_major": 2,
       "version_minor": 0
      },
      "text/plain": [
       "VBox(children=(Label(value=' 0.12MB of 0.12MB uploaded (0.00MB deduped)\\r'), FloatProgress(value=1.0, max=1.0)…"
      ]
     },
     "metadata": {},
     "output_type": "display_data"
    },
    {
     "data": {
      "text/html": [
       "<style>\n",
       "    table.wandb td:nth-child(1) { padding: 0 10px; text-align: right }\n",
       "    .wandb-row { display: flex; flex-direction: row; flex-wrap: wrap; width: 100% }\n",
       "    .wandb-col { display: flex; flex-direction: column; flex-basis: 100%; flex: 1; padding: 10px; }\n",
       "    </style>\n",
       "<div class=\"wandb-row\"><div class=\"wandb-col\">\n",
       "<h3>Run history:</h3><br/><table class=\"wandb\"><tr><td>Mean Validation Loss (all folds)</td><td>▁</td></tr><tr><td>Mean Validation RMSE (all folds)</td><td>▁</td></tr><tr><td>epoch</td><td>▁▁▁▂▂▂▂▂▂▃▃▃▃▃▄▄▄▄▄▄▅▅▅▅▅▅▆▆▆▆▆▇▇▇▇▇▇███</td></tr><tr><td>loss</td><td>█▂▂▂▂▂▁▁▂▁▁▁▁▁▁▁▁▁▁▁▁▁▁▁▁▁▁▁▁▁▁▁▁▁▁▁▁▁▁▁</td></tr><tr><td>root_mean_squared_error</td><td>█▃▃▃▃▃▂▂▃▂▂▂▂▂▁▁▁▁▁▁▁▁▁▁▁▁▁▁▁▁▁▁▁▁▁▁▁▁▁▁</td></tr><tr><td>val_loss</td><td>▂█▇▅▆▂▃▅▃▆▅▆▂▂▂▂▁▄▁▄▁▃▃▃▃▃▁▃▁▃▃▂▁▁▁▃▂▁▃▁</td></tr><tr><td>val_root_mean_squared_error</td><td>▂█▇▆▆▃▄▅▃▆▅▆▂▂▂▂▂▄▁▄▂▃▄▃▃▄▁▄▂▄▄▂▁▁▁▃▂▁▃▁</td></tr></table><br/></div><div class=\"wandb-col\">\n",
       "<h3>Run summary:</h3><br/><table class=\"wandb\"><tr><td>Mean Validation Loss (all folds)</td><td>1.56047</td></tr><tr><td>Mean Validation RMSE (all folds)</td><td>1.24358</td></tr><tr><td>best_epoch</td><td>5</td></tr><tr><td>best_val_loss</td><td>0.33328</td></tr><tr><td>epoch</td><td>749</td></tr><tr><td>loss</td><td>0.01508</td></tr><tr><td>root_mean_squared_error</td><td>0.12279</td></tr><tr><td>val_loss</td><td>1.19466</td></tr><tr><td>val_root_mean_squared_error</td><td>1.093</td></tr></table>\n",
       "</div></div>\n",
       "Synced 5 W&B file(s), 0 media file(s), 0 artifact file(s) and 1 other file(s)\n",
       "<br/>Synced <strong style=\"color:#cdcd00\">wandering-sweep-5</strong>: <a href=\"https://wandb.ai/luiscostigan/house-price-prediction/runs/zs207jud\" target=\"_blank\">https://wandb.ai/luiscostigan/house-price-prediction/runs/zs207jud</a><br/>\n",
       "Find logs at: <code>./wandb/run-20220304_125340-zs207jud/logs</code><br/>\n"
      ],
      "text/plain": [
       "<IPython.core.display.HTML object>"
      ]
     },
     "metadata": {},
     "output_type": "display_data"
    },
    {
     "name": "stderr",
     "output_type": "stream",
     "text": [
      "\u001b[34m\u001b[1mwandb\u001b[0m: wandb version 0.12.11 is available!  To upgrade, please run:\n",
      "\u001b[34m\u001b[1mwandb\u001b[0m:  $ pip install wandb --upgrade\n"
     ]
    },
    {
     "data": {
      "text/html": [
       "\n",
       "                    Syncing run <strong><a href=\"https://wandb.ai/luiscostigan/house-price-prediction/runs/zs207jud\" target=\"_blank\">wandering-sweep-5</a></strong> to <a href=\"https://wandb.ai/luiscostigan/house-price-prediction\" target=\"_blank\">Weights & Biases</a> (<a href=\"https://docs.wandb.com/integrations/jupyter.html\" target=\"_blank\">docs</a>).<br/>\n",
       "Sweep page: <a href=\"https://wandb.ai/luiscostigan/house-price-prediction/sweeps/hbftehhf\" target=\"_blank\">https://wandb.ai/luiscostigan/house-price-prediction/sweeps/hbftehhf</a><br/>\n",
       "\n",
       "                "
      ],
      "text/plain": [
       "<IPython.core.display.HTML object>"
      ]
     },
     "metadata": {},
     "output_type": "display_data"
    },
    {
     "name": "stdout",
     "output_type": "stream",
     "text": [
      "37/37 [==============================] - 0s 2ms/step - loss: 1.8859 - root_mean_squared_error: 1.3733\n",
      "Score for fold 5: loss of 1.8859280347824097; root_mean_squared_error of 1.3732908964157104\n",
      "------------------------------------------------------------------------\n",
      "Score per fold\n",
      "------------------------------------------------------------------------\n",
      "> Fold 1 - Loss: 1.9799199104309082 - RMSE: 1.407096266746521%\n",
      "------------------------------------------------------------------------\n",
      "> Fold 2 - Loss: 1.6738518476486206 - RMSE: 1.2937742471694946%\n",
      "------------------------------------------------------------------------\n",
      "> Fold 3 - Loss: 1.3934627771377563 - RMSE: 1.180450201034546%\n",
      "------------------------------------------------------------------------\n",
      "> Fold 4 - Loss: 1.1946595907211304 - RMSE: 1.093004822731018%\n",
      "------------------------------------------------------------------------\n",
      "> Fold 5 - Loss: 1.8859280347824097 - RMSE: 1.3732908964157104%\n",
      "------------------------------------------------------------------------\n",
      "Average scores for all folds:\n",
      "> RMSE: 1.269523286819458 (+- 0.11779213340509591)\n",
      "> Loss: 1.6255644321441651\n",
      "------------------------------------------------------------------------\n"
     ]
    },
    {
     "data": {
      "text/html": [
       "<br/>Waiting for W&B process to finish, PID 25313... <strong style=\"color:green\">(success).</strong>"
      ],
      "text/plain": [
       "<IPython.core.display.HTML object>"
      ]
     },
     "metadata": {},
     "output_type": "display_data"
    },
    {
     "data": {
      "application/vnd.jupyter.widget-view+json": {
       "model_id": "cce825f410804993b9c8e7bbd216afd4",
       "version_major": 2,
       "version_minor": 0
      },
      "text/plain": [
       "VBox(children=(Label(value=' 0.12MB of 0.12MB uploaded (0.00MB deduped)\\r'), FloatProgress(value=1.0, max=1.0)…"
      ]
     },
     "metadata": {},
     "output_type": "display_data"
    },
    {
     "data": {
      "text/html": [
       "<style>\n",
       "    table.wandb td:nth-child(1) { padding: 0 10px; text-align: right }\n",
       "    .wandb-row { display: flex; flex-direction: row; flex-wrap: wrap; width: 100% }\n",
       "    .wandb-col { display: flex; flex-direction: column; flex-basis: 100%; flex: 1; padding: 10px; }\n",
       "    </style>\n",
       "<div class=\"wandb-row\"><div class=\"wandb-col\">\n",
       "<h3>Run history:</h3><br/><table class=\"wandb\"><tr><td>Mean Validation Loss (all folds)</td><td>▁</td></tr><tr><td>Mean Validation RMSE (all folds)</td><td>▁</td></tr><tr><td>epoch</td><td>▁▁▁▂▂▂▂▂▂▃▃▃▃▃▄▄▄▄▄▄▅▅▅▅▅▅▆▆▆▆▆▇▇▇▇▇▇███</td></tr><tr><td>loss</td><td>█▂▁▁▁▁▁▁▁▁▁▁▁▁▁▁▁▁▁▁▁▁▁▁▁▁▁▁▁▁▁▁▁▁▁▁▁▁▁▁</td></tr><tr><td>root_mean_squared_error</td><td>█▃▂▂▂▁▁▂▁▁▂▁▁▂▁▁▁▁▁▁▁▁▂▂▂▂▂▂▂▂▁▁▁▁▁▂▁▁▁▁</td></tr><tr><td>val_loss</td><td>▁▇█▇█▆▆▇▇▆▆▆▅▅█▇█▇▇▇▅▆▅█▇▇▆▅▆▅▅▅▆▅▅▇▇▇▅▅</td></tr><tr><td>val_root_mean_squared_error</td><td>▁▇█▇█▇▇▇▇▆▆▆▆▆███▇▇▇▅▆▆█▇▇▇▅▆▆▆▆▇▆▆▇▇▇▆▆</td></tr></table><br/></div><div class=\"wandb-col\">\n",
       "<h3>Run summary:</h3><br/><table class=\"wandb\"><tr><td>Mean Validation Loss (all folds)</td><td>1.62556</td></tr><tr><td>Mean Validation RMSE (all folds)</td><td>1.26952</td></tr><tr><td>best_epoch</td><td>6</td></tr><tr><td>best_val_loss</td><td>0.39148</td></tr><tr><td>epoch</td><td>749</td></tr><tr><td>loss</td><td>0.01579</td></tr><tr><td>root_mean_squared_error</td><td>0.12566</td></tr><tr><td>val_loss</td><td>1.88593</td></tr><tr><td>val_root_mean_squared_error</td><td>1.37329</td></tr></table>\n",
       "</div></div>\n",
       "Synced 5 W&B file(s), 0 media file(s), 0 artifact file(s) and 1 other file(s)\n",
       "<br/>Synced <strong style=\"color:#cdcd00\">wandering-sweep-5</strong>: <a href=\"https://wandb.ai/luiscostigan/house-price-prediction/runs/zs207jud\" target=\"_blank\">https://wandb.ai/luiscostigan/house-price-prediction/runs/zs207jud</a><br/>\n",
       "Find logs at: <code>./wandb/run-20220304_125447-zs207jud/logs</code><br/>\n"
      ],
      "text/plain": [
       "<IPython.core.display.HTML object>"
      ]
     },
     "metadata": {},
     "output_type": "display_data"
    },
    {
     "name": "stderr",
     "output_type": "stream",
     "text": [
      "\u001b[34m\u001b[1mwandb\u001b[0m: Agent Starting Run: depbesvl with config:\n",
      "\u001b[34m\u001b[1mwandb\u001b[0m: \tbatch_size: 16\n",
      "\u001b[34m\u001b[1mwandb\u001b[0m: \tdense1: 8\n",
      "\u001b[34m\u001b[1mwandb\u001b[0m: \tdense2: 16\n",
      "\u001b[34m\u001b[1mwandb\u001b[0m: \tdropout1: 0.0709500587062086\n",
      "\u001b[34m\u001b[1mwandb\u001b[0m: \tepochs: 250\n",
      "\u001b[34m\u001b[1mwandb\u001b[0m: wandb version 0.12.11 is available!  To upgrade, please run:\n",
      "\u001b[34m\u001b[1mwandb\u001b[0m:  $ pip install wandb --upgrade\n"
     ]
    },
    {
     "data": {
      "text/html": [
       "\n",
       "                    Syncing run <strong><a href=\"https://wandb.ai/luiscostigan/house-price-prediction/runs/depbesvl\" target=\"_blank\">earnest-sweep-6</a></strong> to <a href=\"https://wandb.ai/luiscostigan/house-price-prediction\" target=\"_blank\">Weights & Biases</a> (<a href=\"https://docs.wandb.com/integrations/jupyter.html\" target=\"_blank\">docs</a>).<br/>\n",
       "Sweep page: <a href=\"https://wandb.ai/luiscostigan/house-price-prediction/sweeps/hbftehhf\" target=\"_blank\">https://wandb.ai/luiscostigan/house-price-prediction/sweeps/hbftehhf</a><br/>\n",
       "\n",
       "                "
      ],
      "text/plain": [
       "<IPython.core.display.HTML object>"
      ]
     },
     "metadata": {},
     "output_type": "display_data"
    },
    {
     "name": "stdout",
     "output_type": "stream",
     "text": [
      "37/37 [==============================] - 0s 2ms/step - loss: 0.7547 - root_mean_squared_error: 0.8687\n",
      "Score for fold 1: loss of 0.7547261118888855; root_mean_squared_error of 0.868749737739563\n",
      "------------------------------------------------------------------------\n",
      "Score per fold\n",
      "------------------------------------------------------------------------\n",
      "> Fold 1 - Loss: 0.7547261118888855 - RMSE: 0.868749737739563%\n",
      "------------------------------------------------------------------------\n",
      "Average scores for all folds:\n",
      "> RMSE: 0.868749737739563 (+- 0.0)\n",
      "> Loss: 0.7547261118888855\n",
      "------------------------------------------------------------------------\n"
     ]
    },
    {
     "data": {
      "text/html": [
       "<br/>Waiting for W&B process to finish, PID 7885... <strong style=\"color:green\">(success).</strong>"
      ],
      "text/plain": [
       "<IPython.core.display.HTML object>"
      ]
     },
     "metadata": {},
     "output_type": "display_data"
    },
    {
     "data": {
      "application/vnd.jupyter.widget-view+json": {
       "model_id": "e2a97f34293d499cb4948586075c9929",
       "version_major": 2,
       "version_minor": 0
      },
      "text/plain": [
       "VBox(children=(Label(value=' 0.12MB of 0.12MB uploaded (0.00MB deduped)\\r'), FloatProgress(value=1.0, max=1.0)…"
      ]
     },
     "metadata": {},
     "output_type": "display_data"
    },
    {
     "data": {
      "text/html": [
       "<style>\n",
       "    table.wandb td:nth-child(1) { padding: 0 10px; text-align: right }\n",
       "    .wandb-row { display: flex; flex-direction: row; flex-wrap: wrap; width: 100% }\n",
       "    .wandb-col { display: flex; flex-direction: column; flex-basis: 100%; flex: 1; padding: 10px; }\n",
       "    </style>\n",
       "<div class=\"wandb-row\"><div class=\"wandb-col\">\n",
       "<h3>Run history:</h3><br/><table class=\"wandb\"><tr><td>Mean Validation Loss (all folds)</td><td>▁</td></tr><tr><td>Mean Validation RMSE (all folds)</td><td>▁</td></tr><tr><td>epoch</td><td>▁▁▁▂▂▂▂▂▂▃▃▃▃▃▄▄▄▄▄▄▅▅▅▅▅▅▆▆▆▆▆▇▇▇▇▇▇███</td></tr><tr><td>loss</td><td>█▃▂▁▁▁▁▁▁▁▁▁▁▁▁▁▁▁▁▁▁▁▁▁▁▁▁▁▁▁▁▁▁▁▁▁▁▁▁▁</td></tr><tr><td>root_mean_squared_error</td><td>█▄▃▂▂▂▂▁▁▁▁▁▁▁▁▁▁▁▁▁▁▁▁▁▁▁▁▁▁▁▁▁▁▁▁▁▁▁▁▁</td></tr><tr><td>val_loss</td><td>▂▁▆▅▅▅▅▃▂▅▅▆▁▃▁▅█▅▂▃▃▂▄▂▂▁▁▅▄▅▅▃▂▃▂▄▅▂▂▃</td></tr><tr><td>val_root_mean_squared_error</td><td>▃▂▆▅▅▅▆▄▂▆▆▆▁▄▁▅█▅▂▃▄▂▄▂▂▂▂▆▄▆▅▃▃▃▃▅▅▂▂▃</td></tr></table><br/></div><div class=\"wandb-col\">\n",
       "<h3>Run summary:</h3><br/><table class=\"wandb\"><tr><td>Mean Validation Loss (all folds)</td><td>0.75473</td></tr><tr><td>Mean Validation RMSE (all folds)</td><td>0.86875</td></tr><tr><td>best_epoch</td><td>5</td></tr><tr><td>best_val_loss</td><td>0.11263</td></tr><tr><td>epoch</td><td>249</td></tr><tr><td>loss</td><td>0.01882</td></tr><tr><td>root_mean_squared_error</td><td>0.13718</td></tr><tr><td>val_loss</td><td>0.75473</td></tr><tr><td>val_root_mean_squared_error</td><td>0.86875</td></tr></table>\n",
       "</div></div>\n",
       "Synced 5 W&B file(s), 0 media file(s), 0 artifact file(s) and 1 other file(s)\n",
       "<br/>Synced <strong style=\"color:#cdcd00\">earnest-sweep-6</strong>: <a href=\"https://wandb.ai/luiscostigan/house-price-prediction/runs/depbesvl\" target=\"_blank\">https://wandb.ai/luiscostigan/house-price-prediction/runs/depbesvl</a><br/>\n",
       "Find logs at: <code>./wandb/run-20220304_125559-depbesvl/logs</code><br/>\n"
      ],
      "text/plain": [
       "<IPython.core.display.HTML object>"
      ]
     },
     "metadata": {},
     "output_type": "display_data"
    },
    {
     "name": "stderr",
     "output_type": "stream",
     "text": [
      "\u001b[34m\u001b[1mwandb\u001b[0m: wandb version 0.12.11 is available!  To upgrade, please run:\n",
      "\u001b[34m\u001b[1mwandb\u001b[0m:  $ pip install wandb --upgrade\n"
     ]
    },
    {
     "data": {
      "text/html": [
       "\n",
       "                    Syncing run <strong><a href=\"https://wandb.ai/luiscostigan/house-price-prediction/runs/depbesvl\" target=\"_blank\">earnest-sweep-6</a></strong> to <a href=\"https://wandb.ai/luiscostigan/house-price-prediction\" target=\"_blank\">Weights & Biases</a> (<a href=\"https://docs.wandb.com/integrations/jupyter.html\" target=\"_blank\">docs</a>).<br/>\n",
       "Sweep page: <a href=\"https://wandb.ai/luiscostigan/house-price-prediction/sweeps/hbftehhf\" target=\"_blank\">https://wandb.ai/luiscostigan/house-price-prediction/sweeps/hbftehhf</a><br/>\n",
       "\n",
       "                "
      ],
      "text/plain": [
       "<IPython.core.display.HTML object>"
      ]
     },
     "metadata": {},
     "output_type": "display_data"
    },
    {
     "name": "stdout",
     "output_type": "stream",
     "text": [
      "37/37 [==============================] - 0s 2ms/step - loss: 0.8293 - root_mean_squared_error: 0.9107\n",
      "Score for fold 2: loss of 0.8293049931526184; root_mean_squared_error of 0.9106618165969849\n",
      "------------------------------------------------------------------------\n",
      "Score per fold\n",
      "------------------------------------------------------------------------\n",
      "> Fold 1 - Loss: 0.7547261118888855 - RMSE: 0.868749737739563%\n",
      "------------------------------------------------------------------------\n",
      "> Fold 2 - Loss: 0.8293049931526184 - RMSE: 0.9106618165969849%\n",
      "------------------------------------------------------------------------\n",
      "Average scores for all folds:\n",
      "> RMSE: 0.8897057771682739 (+- 0.020956039428710938)\n",
      "> Loss: 0.792015552520752\n",
      "------------------------------------------------------------------------\n"
     ]
    },
    {
     "data": {
      "text/html": [
       "<br/>Waiting for W&B process to finish, PID 13223... <strong style=\"color:green\">(success).</strong>"
      ],
      "text/plain": [
       "<IPython.core.display.HTML object>"
      ]
     },
     "metadata": {},
     "output_type": "display_data"
    },
    {
     "data": {
      "application/vnd.jupyter.widget-view+json": {
       "model_id": "84f1943a444b45baa8d4fd271031a8b4",
       "version_major": 2,
       "version_minor": 0
      },
      "text/plain": [
       "VBox(children=(Label(value=' 0.12MB of 0.12MB uploaded (0.00MB deduped)\\r'), FloatProgress(value=1.0, max=1.0)…"
      ]
     },
     "metadata": {},
     "output_type": "display_data"
    },
    {
     "data": {
      "text/html": [
       "<style>\n",
       "    table.wandb td:nth-child(1) { padding: 0 10px; text-align: right }\n",
       "    .wandb-row { display: flex; flex-direction: row; flex-wrap: wrap; width: 100% }\n",
       "    .wandb-col { display: flex; flex-direction: column; flex-basis: 100%; flex: 1; padding: 10px; }\n",
       "    </style>\n",
       "<div class=\"wandb-row\"><div class=\"wandb-col\">\n",
       "<h3>Run history:</h3><br/><table class=\"wandb\"><tr><td>Mean Validation Loss (all folds)</td><td>▁</td></tr><tr><td>Mean Validation RMSE (all folds)</td><td>▁</td></tr><tr><td>epoch</td><td>▁▁▁▂▂▂▂▂▂▃▃▃▃▃▄▄▄▄▄▄▅▅▅▅▅▅▆▆▆▆▆▇▇▇▇▇▇███</td></tr><tr><td>loss</td><td>█▂▂▁▁▁▁▁▁▁▁▁▁▁▁▁▁▁▁▁▁▁▁▁▁▁▁▁▁▁▁▁▁▁▁▁▁▁▁▁</td></tr><tr><td>root_mean_squared_error</td><td>█▃▃▂▂▂▁▂▂▁▁▁▂▁▁▁▁▁▁▁▁▁▁▁▁▁▁▁▁▁▁▁▁▁▁▁▁▁▁▁</td></tr><tr><td>val_loss</td><td>▂█▄▂▅▁▃▂▂▆▂▇▅▄▁▃▆▆▅▃▂▅▄▅▅▅▂▂▂▃▇▂▅▄▆▄▆▃▄▆</td></tr><tr><td>val_root_mean_squared_error</td><td>▂█▅▂▆▁▄▂▂▆▂▇▅▅▁▄▆▆▆▄▃▅▅▆▆▆▃▂▃▃▇▃▆▄▆▅▇▄▅▇</td></tr></table><br/></div><div class=\"wandb-col\">\n",
       "<h3>Run summary:</h3><br/><table class=\"wandb\"><tr><td>Mean Validation Loss (all folds)</td><td>0.79202</td></tr><tr><td>Mean Validation RMSE (all folds)</td><td>0.88971</td></tr><tr><td>best_epoch</td><td>2</td></tr><tr><td>best_val_loss</td><td>0.09359</td></tr><tr><td>epoch</td><td>249</td></tr><tr><td>loss</td><td>0.02655</td></tr><tr><td>root_mean_squared_error</td><td>0.16294</td></tr><tr><td>val_loss</td><td>0.8293</td></tr><tr><td>val_root_mean_squared_error</td><td>0.91066</td></tr></table>\n",
       "</div></div>\n",
       "Synced 5 W&B file(s), 0 media file(s), 0 artifact file(s) and 1 other file(s)\n",
       "<br/>Synced <strong style=\"color:#cdcd00\">earnest-sweep-6</strong>: <a href=\"https://wandb.ai/luiscostigan/house-price-prediction/runs/depbesvl\" target=\"_blank\">https://wandb.ai/luiscostigan/house-price-prediction/runs/depbesvl</a><br/>\n",
       "Find logs at: <code>./wandb/run-20220304_125652-depbesvl/logs</code><br/>\n"
      ],
      "text/plain": [
       "<IPython.core.display.HTML object>"
      ]
     },
     "metadata": {},
     "output_type": "display_data"
    },
    {
     "name": "stderr",
     "output_type": "stream",
     "text": [
      "\u001b[34m\u001b[1mwandb\u001b[0m: wandb version 0.12.11 is available!  To upgrade, please run:\n",
      "\u001b[34m\u001b[1mwandb\u001b[0m:  $ pip install wandb --upgrade\n"
     ]
    },
    {
     "data": {
      "text/html": [
       "\n",
       "                    Syncing run <strong><a href=\"https://wandb.ai/luiscostigan/house-price-prediction/runs/depbesvl\" target=\"_blank\">earnest-sweep-6</a></strong> to <a href=\"https://wandb.ai/luiscostigan/house-price-prediction\" target=\"_blank\">Weights & Biases</a> (<a href=\"https://docs.wandb.com/integrations/jupyter.html\" target=\"_blank\">docs</a>).<br/>\n",
       "Sweep page: <a href=\"https://wandb.ai/luiscostigan/house-price-prediction/sweeps/hbftehhf\" target=\"_blank\">https://wandb.ai/luiscostigan/house-price-prediction/sweeps/hbftehhf</a><br/>\n",
       "\n",
       "                "
      ],
      "text/plain": [
       "<IPython.core.display.HTML object>"
      ]
     },
     "metadata": {},
     "output_type": "display_data"
    },
    {
     "name": "stdout",
     "output_type": "stream",
     "text": [
      "37/37 [==============================] - 0s 3ms/step - loss: 0.3437 - root_mean_squared_error: 0.5863\n",
      "Score for fold 3: loss of 0.343719482421875; root_mean_squared_error of 0.5862759351730347\n",
      "------------------------------------------------------------------------\n",
      "Score per fold\n",
      "------------------------------------------------------------------------\n",
      "> Fold 1 - Loss: 0.7547261118888855 - RMSE: 0.868749737739563%\n",
      "------------------------------------------------------------------------\n",
      "> Fold 2 - Loss: 0.8293049931526184 - RMSE: 0.9106618165969849%\n",
      "------------------------------------------------------------------------\n",
      "> Fold 3 - Loss: 0.343719482421875 - RMSE: 0.5862759351730347%\n",
      "------------------------------------------------------------------------\n",
      "Average scores for all folds:\n",
      "> RMSE: 0.7885624965031942 (+- 0.14405796347216857)\n",
      "> Loss: 0.6425835291544596\n",
      "------------------------------------------------------------------------\n"
     ]
    },
    {
     "data": {
      "text/html": [
       "<br/>Waiting for W&B process to finish, PID 18633... <strong style=\"color:green\">(success).</strong>"
      ],
      "text/plain": [
       "<IPython.core.display.HTML object>"
      ]
     },
     "metadata": {},
     "output_type": "display_data"
    },
    {
     "data": {
      "application/vnd.jupyter.widget-view+json": {
       "model_id": "315d62bf7874450fba553dd2364c28d7",
       "version_major": 2,
       "version_minor": 0
      },
      "text/plain": [
       "VBox(children=(Label(value=' 0.12MB of 0.12MB uploaded (0.00MB deduped)\\r'), FloatProgress(value=1.0, max=1.0)…"
      ]
     },
     "metadata": {},
     "output_type": "display_data"
    },
    {
     "data": {
      "text/html": [
       "<style>\n",
       "    table.wandb td:nth-child(1) { padding: 0 10px; text-align: right }\n",
       "    .wandb-row { display: flex; flex-direction: row; flex-wrap: wrap; width: 100% }\n",
       "    .wandb-col { display: flex; flex-direction: column; flex-basis: 100%; flex: 1; padding: 10px; }\n",
       "    </style>\n",
       "<div class=\"wandb-row\"><div class=\"wandb-col\">\n",
       "<h3>Run history:</h3><br/><table class=\"wandb\"><tr><td>Mean Validation Loss (all folds)</td><td>▁</td></tr><tr><td>Mean Validation RMSE (all folds)</td><td>▁</td></tr><tr><td>epoch</td><td>▁▁▁▂▂▂▂▂▂▃▃▃▃▃▄▄▄▄▄▄▅▅▅▅▅▅▆▆▆▆▆▇▇▇▇▇▇███</td></tr><tr><td>loss</td><td>█▂▂▁▂▁▁▁▁▁▁▁▁▁▁▁▁▁▁▁▁▁▁▁▁▁▁▁▁▁▁▁▁▁▁▁▁▁▁▁</td></tr><tr><td>root_mean_squared_error</td><td>█▃▃▂▃▂▂▂▁▁▁▁▂▁▁▁▁▁▁▁▁▁▁▁▁▁▁▁▁▁▁▁▁▁▁▁▁▁▁▁</td></tr><tr><td>val_loss</td><td>▅▁█▄█▂▄▃▃▄▅▄▆▃▅█▃▂▄▃▃▇▂▃▅▅▆▇▆▃▂▂▂▂▄▂▆▂▆▆</td></tr><tr><td>val_root_mean_squared_error</td><td>▅▁█▄█▂▅▄▄▅▆▄▇▃▅█▄▃▅▄▄▇▃▃▆▅▆▇▆▄▃▃▃▃▄▃▆▂▇▆</td></tr></table><br/></div><div class=\"wandb-col\">\n",
       "<h3>Run summary:</h3><br/><table class=\"wandb\"><tr><td>Mean Validation Loss (all folds)</td><td>0.64258</td></tr><tr><td>Mean Validation RMSE (all folds)</td><td>0.78856</td></tr><tr><td>best_epoch</td><td>3</td></tr><tr><td>best_val_loss</td><td>0.10858</td></tr><tr><td>epoch</td><td>249</td></tr><tr><td>loss</td><td>0.02012</td></tr><tr><td>root_mean_squared_error</td><td>0.14184</td></tr><tr><td>val_loss</td><td>0.34372</td></tr><tr><td>val_root_mean_squared_error</td><td>0.58628</td></tr></table>\n",
       "</div></div>\n",
       "Synced 5 W&B file(s), 0 media file(s), 0 artifact file(s) and 1 other file(s)\n",
       "<br/>Synced <strong style=\"color:#cdcd00\">earnest-sweep-6</strong>: <a href=\"https://wandb.ai/luiscostigan/house-price-prediction/runs/depbesvl\" target=\"_blank\">https://wandb.ai/luiscostigan/house-price-prediction/runs/depbesvl</a><br/>\n",
       "Find logs at: <code>./wandb/run-20220304_125751-depbesvl/logs</code><br/>\n"
      ],
      "text/plain": [
       "<IPython.core.display.HTML object>"
      ]
     },
     "metadata": {},
     "output_type": "display_data"
    },
    {
     "name": "stderr",
     "output_type": "stream",
     "text": [
      "\u001b[34m\u001b[1mwandb\u001b[0m: wandb version 0.12.11 is available!  To upgrade, please run:\n",
      "\u001b[34m\u001b[1mwandb\u001b[0m:  $ pip install wandb --upgrade\n"
     ]
    },
    {
     "data": {
      "text/html": [
       "\n",
       "                    Syncing run <strong><a href=\"https://wandb.ai/luiscostigan/house-price-prediction/runs/depbesvl\" target=\"_blank\">earnest-sweep-6</a></strong> to <a href=\"https://wandb.ai/luiscostigan/house-price-prediction\" target=\"_blank\">Weights & Biases</a> (<a href=\"https://docs.wandb.com/integrations/jupyter.html\" target=\"_blank\">docs</a>).<br/>\n",
       "Sweep page: <a href=\"https://wandb.ai/luiscostigan/house-price-prediction/sweeps/hbftehhf\" target=\"_blank\">https://wandb.ai/luiscostigan/house-price-prediction/sweeps/hbftehhf</a><br/>\n",
       "\n",
       "                "
      ],
      "text/plain": [
       "<IPython.core.display.HTML object>"
      ]
     },
     "metadata": {},
     "output_type": "display_data"
    },
    {
     "name": "stdout",
     "output_type": "stream",
     "text": [
      "37/37 [==============================] - 0s 2ms/step - loss: 0.2846 - root_mean_squared_error: 0.5335\n",
      "Score for fold 4: loss of 0.2846395671367645; root_mean_squared_error of 0.5335162281990051\n",
      "------------------------------------------------------------------------\n",
      "Score per fold\n",
      "------------------------------------------------------------------------\n",
      "> Fold 1 - Loss: 0.7547261118888855 - RMSE: 0.868749737739563%\n",
      "------------------------------------------------------------------------\n",
      "> Fold 2 - Loss: 0.8293049931526184 - RMSE: 0.9106618165969849%\n",
      "------------------------------------------------------------------------\n",
      "> Fold 3 - Loss: 0.343719482421875 - RMSE: 0.5862759351730347%\n",
      "------------------------------------------------------------------------\n",
      "> Fold 4 - Loss: 0.2846395671367645 - RMSE: 0.5335162281990051%\n",
      "------------------------------------------------------------------------\n",
      "Average scores for all folds:\n",
      "> RMSE: 0.7248009294271469 (+- 0.16661673066589475)\n",
      "> Loss: 0.5530975386500359\n",
      "------------------------------------------------------------------------\n"
     ]
    },
    {
     "data": {
      "text/html": [
       "<br/>Waiting for W&B process to finish, PID 23983... <strong style=\"color:green\">(success).</strong>"
      ],
      "text/plain": [
       "<IPython.core.display.HTML object>"
      ]
     },
     "metadata": {},
     "output_type": "display_data"
    },
    {
     "data": {
      "application/vnd.jupyter.widget-view+json": {
       "model_id": "dd2edb1b92084f5497911da3cd720e7b",
       "version_major": 2,
       "version_minor": 0
      },
      "text/plain": [
       "VBox(children=(Label(value=' 0.12MB of 0.12MB uploaded (0.00MB deduped)\\r'), FloatProgress(value=1.0, max=1.0)…"
      ]
     },
     "metadata": {},
     "output_type": "display_data"
    },
    {
     "data": {
      "text/html": [
       "<style>\n",
       "    table.wandb td:nth-child(1) { padding: 0 10px; text-align: right }\n",
       "    .wandb-row { display: flex; flex-direction: row; flex-wrap: wrap; width: 100% }\n",
       "    .wandb-col { display: flex; flex-direction: column; flex-basis: 100%; flex: 1; padding: 10px; }\n",
       "    </style>\n",
       "<div class=\"wandb-row\"><div class=\"wandb-col\">\n",
       "<h3>Run history:</h3><br/><table class=\"wandb\"><tr><td>Mean Validation Loss (all folds)</td><td>▁</td></tr><tr><td>Mean Validation RMSE (all folds)</td><td>▁</td></tr><tr><td>epoch</td><td>▁▁▁▂▂▂▂▂▂▃▃▃▃▃▄▄▄▄▄▄▅▅▅▅▅▅▆▆▆▆▆▇▇▇▇▇▇███</td></tr><tr><td>loss</td><td>█▃▂▁▁▁▁▁▁▁▁▁▁▁▁▁▁▁▁▁▁▁▁▁▁▁▁▁▁▁▁▁▁▁▁▁▁▁▁▁</td></tr><tr><td>root_mean_squared_error</td><td>█▅▃▂▂▂▂▂▁▁▁▁▁▁▁▁▁▁▁▁▁▁▁▁▁▁▁▁▁▁▁▁▁▁▁▁▁▁▁▁</td></tr><tr><td>val_loss</td><td>▅▁▄▅▇▃▄▅▄▄▇▃▅█▂▄▃▇▇▆▆▅▄▅▇▃▃█▄▃▆▃▃▆▃▂▇▃▃▆</td></tr><tr><td>val_root_mean_squared_error</td><td>▆▁▄▆█▄▅▅▅▅▇▄▆█▃▅▄█▇▆▆▆▅▅▇▄▃█▅▄▇▄▄▇▄▃▇▄▄▆</td></tr></table><br/></div><div class=\"wandb-col\">\n",
       "<h3>Run summary:</h3><br/><table class=\"wandb\"><tr><td>Mean Validation Loss (all folds)</td><td>0.5531</td></tr><tr><td>Mean Validation RMSE (all folds)</td><td>0.7248</td></tr><tr><td>best_epoch</td><td>11</td></tr><tr><td>best_val_loss</td><td>0.05836</td></tr><tr><td>epoch</td><td>249</td></tr><tr><td>loss</td><td>0.04235</td></tr><tr><td>root_mean_squared_error</td><td>0.2058</td></tr><tr><td>val_loss</td><td>0.28464</td></tr><tr><td>val_root_mean_squared_error</td><td>0.53352</td></tr></table>\n",
       "</div></div>\n",
       "Synced 5 W&B file(s), 0 media file(s), 0 artifact file(s) and 1 other file(s)\n",
       "<br/>Synced <strong style=\"color:#cdcd00\">earnest-sweep-6</strong>: <a href=\"https://wandb.ai/luiscostigan/house-price-prediction/runs/depbesvl\" target=\"_blank\">https://wandb.ai/luiscostigan/house-price-prediction/runs/depbesvl</a><br/>\n",
       "Find logs at: <code>./wandb/run-20220304_125848-depbesvl/logs</code><br/>\n"
      ],
      "text/plain": [
       "<IPython.core.display.HTML object>"
      ]
     },
     "metadata": {},
     "output_type": "display_data"
    },
    {
     "name": "stderr",
     "output_type": "stream",
     "text": [
      "\u001b[34m\u001b[1mwandb\u001b[0m: wandb version 0.12.11 is available!  To upgrade, please run:\n",
      "\u001b[34m\u001b[1mwandb\u001b[0m:  $ pip install wandb --upgrade\n"
     ]
    },
    {
     "data": {
      "text/html": [
       "\n",
       "                    Syncing run <strong><a href=\"https://wandb.ai/luiscostigan/house-price-prediction/runs/depbesvl\" target=\"_blank\">earnest-sweep-6</a></strong> to <a href=\"https://wandb.ai/luiscostigan/house-price-prediction\" target=\"_blank\">Weights & Biases</a> (<a href=\"https://docs.wandb.com/integrations/jupyter.html\" target=\"_blank\">docs</a>).<br/>\n",
       "Sweep page: <a href=\"https://wandb.ai/luiscostigan/house-price-prediction/sweeps/hbftehhf\" target=\"_blank\">https://wandb.ai/luiscostigan/house-price-prediction/sweeps/hbftehhf</a><br/>\n",
       "\n",
       "                "
      ],
      "text/plain": [
       "<IPython.core.display.HTML object>"
      ]
     },
     "metadata": {},
     "output_type": "display_data"
    },
    {
     "name": "stdout",
     "output_type": "stream",
     "text": [
      "37/37 [==============================] - 0s 3ms/step - loss: 0.4578 - root_mean_squared_error: 0.6766\n",
      "Score for fold 5: loss of 0.4577544629573822; root_mean_squared_error of 0.6765755414962769\n",
      "------------------------------------------------------------------------\n",
      "Score per fold\n",
      "------------------------------------------------------------------------\n",
      "> Fold 1 - Loss: 0.7547261118888855 - RMSE: 0.868749737739563%\n",
      "------------------------------------------------------------------------\n",
      "> Fold 2 - Loss: 0.8293049931526184 - RMSE: 0.9106618165969849%\n",
      "------------------------------------------------------------------------\n",
      "> Fold 3 - Loss: 0.343719482421875 - RMSE: 0.5862759351730347%\n",
      "------------------------------------------------------------------------\n",
      "> Fold 4 - Loss: 0.2846395671367645 - RMSE: 0.5335162281990051%\n",
      "------------------------------------------------------------------------\n",
      "> Fold 5 - Loss: 0.4577544629573822 - RMSE: 0.6765755414962769%\n",
      "------------------------------------------------------------------------\n",
      "Average scores for all folds:\n",
      "> RMSE: 0.7151558518409729 (+- 0.15026981745116452)\n",
      "> Loss: 0.5340289235115051\n",
      "------------------------------------------------------------------------\n"
     ]
    },
    {
     "data": {
      "text/html": [
       "<br/>Waiting for W&B process to finish, PID 29315... <strong style=\"color:green\">(success).</strong>"
      ],
      "text/plain": [
       "<IPython.core.display.HTML object>"
      ]
     },
     "metadata": {},
     "output_type": "display_data"
    },
    {
     "data": {
      "application/vnd.jupyter.widget-view+json": {
       "model_id": "bcb23829d5c743fe99600a72f3d1eef2",
       "version_major": 2,
       "version_minor": 0
      },
      "text/plain": [
       "VBox(children=(Label(value=' 0.12MB of 0.12MB uploaded (0.00MB deduped)\\r'), FloatProgress(value=1.0, max=1.0)…"
      ]
     },
     "metadata": {},
     "output_type": "display_data"
    },
    {
     "data": {
      "text/html": [
       "<style>\n",
       "    table.wandb td:nth-child(1) { padding: 0 10px; text-align: right }\n",
       "    .wandb-row { display: flex; flex-direction: row; flex-wrap: wrap; width: 100% }\n",
       "    .wandb-col { display: flex; flex-direction: column; flex-basis: 100%; flex: 1; padding: 10px; }\n",
       "    </style>\n",
       "<div class=\"wandb-row\"><div class=\"wandb-col\">\n",
       "<h3>Run history:</h3><br/><table class=\"wandb\"><tr><td>Mean Validation Loss (all folds)</td><td>▁</td></tr><tr><td>Mean Validation RMSE (all folds)</td><td>▁</td></tr><tr><td>epoch</td><td>▁▁▁▂▂▂▂▂▂▃▃▃▃▃▄▄▄▄▄▄▅▅▅▅▅▅▆▆▆▆▆▇▇▇▇▇▇███</td></tr><tr><td>loss</td><td>█▂▁▁▁▁▁▁▁▁▁▁▁▁▁▁▁▁▁▁▁▁▁▁▁▁▁▁▁▁▁▁▁▁▁▁▁▁▁▁</td></tr><tr><td>root_mean_squared_error</td><td>█▂▂▂▂▂▂▁▁▁▁▁▁▁▁▂▁▁▁▁▁▁▁▁▁▁▁▁▁▁▁▁▁▁▁▁▁▁▁▁</td></tr><tr><td>val_loss</td><td>▂▂▁▂▃█▆▅▁▅▂▃▄▃▆▅▄▂▄▅▆▂▂▄▃▅▂▃▅▂▃▄▄▁▁▄▂▃▃▃</td></tr><tr><td>val_root_mean_squared_error</td><td>▃▃▂▃▃█▇▆▁▆▂▄▅▄▆▅▄▂▅▅▇▂▃▄▃▆▂▄▆▂▃▅▅▂▁▅▂▄▄▄</td></tr></table><br/></div><div class=\"wandb-col\">\n",
       "<h3>Run summary:</h3><br/><table class=\"wandb\"><tr><td>Mean Validation Loss (all folds)</td><td>0.53403</td></tr><tr><td>Mean Validation RMSE (all folds)</td><td>0.71516</td></tr><tr><td>best_epoch</td><td>41</td></tr><tr><td>best_val_loss</td><td>0.13229</td></tr><tr><td>epoch</td><td>249</td></tr><tr><td>loss</td><td>0.02434</td></tr><tr><td>root_mean_squared_error</td><td>0.156</td></tr><tr><td>val_loss</td><td>0.45775</td></tr><tr><td>val_root_mean_squared_error</td><td>0.67658</td></tr></table>\n",
       "</div></div>\n",
       "Synced 5 W&B file(s), 0 media file(s), 0 artifact file(s) and 1 other file(s)\n",
       "<br/>Synced <strong style=\"color:#cdcd00\">earnest-sweep-6</strong>: <a href=\"https://wandb.ai/luiscostigan/house-price-prediction/runs/depbesvl\" target=\"_blank\">https://wandb.ai/luiscostigan/house-price-prediction/runs/depbesvl</a><br/>\n",
       "Find logs at: <code>./wandb/run-20220304_125943-depbesvl/logs</code><br/>\n"
      ],
      "text/plain": [
       "<IPython.core.display.HTML object>"
      ]
     },
     "metadata": {},
     "output_type": "display_data"
    },
    {
     "name": "stderr",
     "output_type": "stream",
     "text": [
      "\u001b[34m\u001b[1mwandb\u001b[0m: Agent Starting Run: 92lx3iuu with config:\n",
      "\u001b[34m\u001b[1mwandb\u001b[0m: \tbatch_size: 8\n",
      "\u001b[34m\u001b[1mwandb\u001b[0m: \tdense1: 8\n",
      "\u001b[34m\u001b[1mwandb\u001b[0m: \tdense2: 16\n",
      "\u001b[34m\u001b[1mwandb\u001b[0m: \tdropout1: 0.271428629861413\n",
      "\u001b[34m\u001b[1mwandb\u001b[0m: \tepochs: 250\n",
      "\u001b[34m\u001b[1mwandb\u001b[0m: wandb version 0.12.11 is available!  To upgrade, please run:\n",
      "\u001b[34m\u001b[1mwandb\u001b[0m:  $ pip install wandb --upgrade\n"
     ]
    },
    {
     "data": {
      "text/html": [
       "\n",
       "                    Syncing run <strong><a href=\"https://wandb.ai/luiscostigan/house-price-prediction/runs/92lx3iuu\" target=\"_blank\">proud-sweep-7</a></strong> to <a href=\"https://wandb.ai/luiscostigan/house-price-prediction\" target=\"_blank\">Weights & Biases</a> (<a href=\"https://docs.wandb.com/integrations/jupyter.html\" target=\"_blank\">docs</a>).<br/>\n",
       "Sweep page: <a href=\"https://wandb.ai/luiscostigan/house-price-prediction/sweeps/hbftehhf\" target=\"_blank\">https://wandb.ai/luiscostigan/house-price-prediction/sweeps/hbftehhf</a><br/>\n",
       "\n",
       "                "
      ],
      "text/plain": [
       "<IPython.core.display.HTML object>"
      ]
     },
     "metadata": {},
     "output_type": "display_data"
    },
    {
     "name": "stdout",
     "output_type": "stream",
     "text": [
      "37/37 [==============================] - 0s 2ms/step - loss: 2.9055 - root_mean_squared_error: 1.7046\n",
      "Score for fold 1: loss of 2.9055161476135254; root_mean_squared_error of 1.7045574188232422\n",
      "------------------------------------------------------------------------\n",
      "Score per fold\n",
      "------------------------------------------------------------------------\n",
      "> Fold 1 - Loss: 2.9055161476135254 - RMSE: 1.7045574188232422%\n",
      "------------------------------------------------------------------------\n",
      "Average scores for all folds:\n",
      "> RMSE: 1.7045574188232422 (+- 0.0)\n",
      "> Loss: 2.9055161476135254\n",
      "------------------------------------------------------------------------\n"
     ]
    },
    {
     "data": {
      "text/html": [
       "<br/>Waiting for W&B process to finish, PID 2226... <strong style=\"color:green\">(success).</strong>"
      ],
      "text/plain": [
       "<IPython.core.display.HTML object>"
      ]
     },
     "metadata": {},
     "output_type": "display_data"
    },
    {
     "data": {
      "application/vnd.jupyter.widget-view+json": {
       "model_id": "bd0ceaf08920429eb6aaac2e0283664f",
       "version_major": 2,
       "version_minor": 0
      },
      "text/plain": [
       "VBox(children=(Label(value=' 0.12MB of 0.12MB uploaded (0.00MB deduped)\\r'), FloatProgress(value=1.0, max=1.0)…"
      ]
     },
     "metadata": {},
     "output_type": "display_data"
    },
    {
     "data": {
      "text/html": [
       "<style>\n",
       "    table.wandb td:nth-child(1) { padding: 0 10px; text-align: right }\n",
       "    .wandb-row { display: flex; flex-direction: row; flex-wrap: wrap; width: 100% }\n",
       "    .wandb-col { display: flex; flex-direction: column; flex-basis: 100%; flex: 1; padding: 10px; }\n",
       "    </style>\n",
       "<div class=\"wandb-row\"><div class=\"wandb-col\">\n",
       "<h3>Run history:</h3><br/><table class=\"wandb\"><tr><td>Mean Validation Loss (all folds)</td><td>▁</td></tr><tr><td>Mean Validation RMSE (all folds)</td><td>▁</td></tr><tr><td>epoch</td><td>▁▁▁▂▂▂▂▂▂▃▃▃▃▃▄▄▄▄▄▄▅▅▅▅▅▅▆▆▆▆▆▇▇▇▇▇▇███</td></tr><tr><td>loss</td><td>█▂▂▁▂▁▁▁▁▁▁▁▁▁▁▁▁▁▁▁▁▁▁▁▁▁▁▁▁▁▁▁▁▁▁▁▁▁▁▁</td></tr><tr><td>root_mean_squared_error</td><td>█▄▃▂▄▃▃▂▂▂▂▂▁▁▁▁▁▁▁▁▁▁▁▁▁▁▁▁▁▁▁▁▁▁▁▁▁▁▁▁</td></tr><tr><td>val_loss</td><td>▇█▆▇▅▅▄▅▄▃▃▂▂▂▂▂▂▂▁▁▁▂▂▂▂▂▂▁▁▁▂▂▁▂▂▂▂▂▂▂</td></tr><tr><td>val_root_mean_squared_error</td><td>▇█▇▇▅▅▅▅▄▄▄▂▂▂▂▂▂▂▁▂▂▂▂▂▂▂▂▂▂▁▃▂▂▂▂▂▃▂▂▃</td></tr></table><br/></div><div class=\"wandb-col\">\n",
       "<h3>Run summary:</h3><br/><table class=\"wandb\"><tr><td>Mean Validation Loss (all folds)</td><td>2.90552</td></tr><tr><td>Mean Validation RMSE (all folds)</td><td>1.70456</td></tr><tr><td>best_epoch</td><td>119</td></tr><tr><td>best_val_loss</td><td>1.91629</td></tr><tr><td>epoch</td><td>249</td></tr><tr><td>loss</td><td>0.014</td></tr><tr><td>root_mean_squared_error</td><td>0.1183</td></tr><tr><td>val_loss</td><td>2.90552</td></tr><tr><td>val_root_mean_squared_error</td><td>1.70456</td></tr></table>\n",
       "</div></div>\n",
       "Synced 5 W&B file(s), 0 media file(s), 0 artifact file(s) and 1 other file(s)\n",
       "<br/>Synced <strong style=\"color:#cdcd00\">proud-sweep-7</strong>: <a href=\"https://wandb.ai/luiscostigan/house-price-prediction/runs/92lx3iuu\" target=\"_blank\">https://wandb.ai/luiscostigan/house-price-prediction/runs/92lx3iuu</a><br/>\n",
       "Find logs at: <code>./wandb/run-20220304_130041-92lx3iuu/logs</code><br/>\n"
      ],
      "text/plain": [
       "<IPython.core.display.HTML object>"
      ]
     },
     "metadata": {},
     "output_type": "display_data"
    },
    {
     "name": "stderr",
     "output_type": "stream",
     "text": [
      "\u001b[34m\u001b[1mwandb\u001b[0m: wandb version 0.12.11 is available!  To upgrade, please run:\n",
      "\u001b[34m\u001b[1mwandb\u001b[0m:  $ pip install wandb --upgrade\n"
     ]
    },
    {
     "data": {
      "text/html": [
       "\n",
       "                    Syncing run <strong><a href=\"https://wandb.ai/luiscostigan/house-price-prediction/runs/92lx3iuu\" target=\"_blank\">proud-sweep-7</a></strong> to <a href=\"https://wandb.ai/luiscostigan/house-price-prediction\" target=\"_blank\">Weights & Biases</a> (<a href=\"https://docs.wandb.com/integrations/jupyter.html\" target=\"_blank\">docs</a>).<br/>\n",
       "Sweep page: <a href=\"https://wandb.ai/luiscostigan/house-price-prediction/sweeps/hbftehhf\" target=\"_blank\">https://wandb.ai/luiscostigan/house-price-prediction/sweeps/hbftehhf</a><br/>\n",
       "\n",
       "                "
      ],
      "text/plain": [
       "<IPython.core.display.HTML object>"
      ]
     },
     "metadata": {},
     "output_type": "display_data"
    },
    {
     "name": "stdout",
     "output_type": "stream",
     "text": [
      "37/37 [==============================] - 0s 3ms/step - loss: 1.8583 - root_mean_squared_error: 1.3632\n",
      "Score for fold 2: loss of 1.8583043813705444; root_mean_squared_error of 1.3631963729858398\n",
      "------------------------------------------------------------------------\n",
      "Score per fold\n",
      "------------------------------------------------------------------------\n",
      "> Fold 1 - Loss: 2.9055161476135254 - RMSE: 1.7045574188232422%\n",
      "------------------------------------------------------------------------\n",
      "> Fold 2 - Loss: 1.8583043813705444 - RMSE: 1.3631963729858398%\n",
      "------------------------------------------------------------------------\n",
      "Average scores for all folds:\n",
      "> RMSE: 1.533876895904541 (+- 0.17068052291870117)\n",
      "> Loss: 2.381910264492035\n",
      "------------------------------------------------------------------------\n"
     ]
    },
    {
     "data": {
      "text/html": [
       "<br/>Waiting for W&B process to finish, PID 7873... <strong style=\"color:green\">(success).</strong>"
      ],
      "text/plain": [
       "<IPython.core.display.HTML object>"
      ]
     },
     "metadata": {},
     "output_type": "display_data"
    },
    {
     "data": {
      "application/vnd.jupyter.widget-view+json": {
       "model_id": "f685000b54144a798ed19e72afc19d1b",
       "version_major": 2,
       "version_minor": 0
      },
      "text/plain": [
       "VBox(children=(Label(value=' 0.12MB of 0.12MB uploaded (0.00MB deduped)\\r'), FloatProgress(value=1.0, max=1.0)…"
      ]
     },
     "metadata": {},
     "output_type": "display_data"
    },
    {
     "data": {
      "text/html": [
       "<style>\n",
       "    table.wandb td:nth-child(1) { padding: 0 10px; text-align: right }\n",
       "    .wandb-row { display: flex; flex-direction: row; flex-wrap: wrap; width: 100% }\n",
       "    .wandb-col { display: flex; flex-direction: column; flex-basis: 100%; flex: 1; padding: 10px; }\n",
       "    </style>\n",
       "<div class=\"wandb-row\"><div class=\"wandb-col\">\n",
       "<h3>Run history:</h3><br/><table class=\"wandb\"><tr><td>Mean Validation Loss (all folds)</td><td>▁</td></tr><tr><td>Mean Validation RMSE (all folds)</td><td>▁</td></tr><tr><td>epoch</td><td>▁▁▁▂▂▂▂▂▂▃▃▃▃▃▄▄▄▄▄▄▅▅▅▅▅▅▆▆▆▆▆▇▇▇▇▇▇███</td></tr><tr><td>loss</td><td>█▂▁▁▁▁▁▁▁▁▁▁▁▁▁▁▁▁▁▁▁▁▁▁▁▁▁▁▁▁▁▁▁▁▁▁▁▁▁▁</td></tr><tr><td>root_mean_squared_error</td><td>█▄▃▂▁▁▁▁▁▁▁▁▁▁▁▁▁▁▁▁▁▁▁▁▁▁▁▁▁▁▁▁▁▁▁▁▁▁▁▁</td></tr><tr><td>val_loss</td><td>▂█▅▄▃▂▃▂▃▂▂▃▂▂▂▂▂▂▂▂▂▂▂▁▂▂▁▁▂▂▂▁▂▂▁▁▂▁▁▁</td></tr><tr><td>val_root_mean_squared_error</td><td>▃█▆▄▃▃▃▃▃▃▃▃▃▃▃▃▂▃▃▂▂▂▂▂▂▂▂▂▂▂▂▂▂▂▂▂▂▂▂▁</td></tr></table><br/></div><div class=\"wandb-col\">\n",
       "<h3>Run summary:</h3><br/><table class=\"wandb\"><tr><td>Mean Validation Loss (all folds)</td><td>2.38191</td></tr><tr><td>Mean Validation RMSE (all folds)</td><td>1.53388</td></tr><tr><td>best_epoch</td><td>244</td></tr><tr><td>best_val_loss</td><td>1.46219</td></tr><tr><td>epoch</td><td>249</td></tr><tr><td>loss</td><td>0.01246</td></tr><tr><td>root_mean_squared_error</td><td>0.11162</td></tr><tr><td>val_loss</td><td>1.8583</td></tr><tr><td>val_root_mean_squared_error</td><td>1.3632</td></tr></table>\n",
       "</div></div>\n",
       "Synced 5 W&B file(s), 0 media file(s), 0 artifact file(s) and 1 other file(s)\n",
       "<br/>Synced <strong style=\"color:#cdcd00\">proud-sweep-7</strong>: <a href=\"https://wandb.ai/luiscostigan/house-price-prediction/runs/92lx3iuu\" target=\"_blank\">https://wandb.ai/luiscostigan/house-price-prediction/runs/92lx3iuu</a><br/>\n",
       "Find logs at: <code>./wandb/run-20220304_130210-92lx3iuu/logs</code><br/>\n"
      ],
      "text/plain": [
       "<IPython.core.display.HTML object>"
      ]
     },
     "metadata": {},
     "output_type": "display_data"
    },
    {
     "name": "stderr",
     "output_type": "stream",
     "text": [
      "\u001b[34m\u001b[1mwandb\u001b[0m: wandb version 0.12.11 is available!  To upgrade, please run:\n",
      "\u001b[34m\u001b[1mwandb\u001b[0m:  $ pip install wandb --upgrade\n"
     ]
    },
    {
     "data": {
      "text/html": [
       "\n",
       "                    Syncing run <strong><a href=\"https://wandb.ai/luiscostigan/house-price-prediction/runs/92lx3iuu\" target=\"_blank\">proud-sweep-7</a></strong> to <a href=\"https://wandb.ai/luiscostigan/house-price-prediction\" target=\"_blank\">Weights & Biases</a> (<a href=\"https://docs.wandb.com/integrations/jupyter.html\" target=\"_blank\">docs</a>).<br/>\n",
       "Sweep page: <a href=\"https://wandb.ai/luiscostigan/house-price-prediction/sweeps/hbftehhf\" target=\"_blank\">https://wandb.ai/luiscostigan/house-price-prediction/sweeps/hbftehhf</a><br/>\n",
       "\n",
       "                "
      ],
      "text/plain": [
       "<IPython.core.display.HTML object>"
      ]
     },
     "metadata": {},
     "output_type": "display_data"
    },
    {
     "name": "stdout",
     "output_type": "stream",
     "text": [
      "37/37 [==============================] - 0s 2ms/step - loss: 1.4606 - root_mean_squared_error: 1.2085\n",
      "Score for fold 3: loss of 1.4605666399002075; root_mean_squared_error of 1.2085390090942383\n",
      "------------------------------------------------------------------------\n",
      "Score per fold\n",
      "------------------------------------------------------------------------\n",
      "> Fold 1 - Loss: 2.9055161476135254 - RMSE: 1.7045574188232422%\n",
      "------------------------------------------------------------------------\n",
      "> Fold 2 - Loss: 1.8583043813705444 - RMSE: 1.3631963729858398%\n",
      "------------------------------------------------------------------------\n",
      "> Fold 3 - Loss: 1.4605666399002075 - RMSE: 1.2085390090942383%\n",
      "------------------------------------------------------------------------\n",
      "Average scores for all folds:\n",
      "> RMSE: 1.4254309336344402 (+- 0.2072251932912047)\n",
      "> Loss: 2.074795722961426\n",
      "------------------------------------------------------------------------\n"
     ]
    },
    {
     "data": {
      "text/html": [
       "<br/>Waiting for W&B process to finish, PID 13540... <strong style=\"color:green\">(success).</strong>"
      ],
      "text/plain": [
       "<IPython.core.display.HTML object>"
      ]
     },
     "metadata": {},
     "output_type": "display_data"
    },
    {
     "data": {
      "application/vnd.jupyter.widget-view+json": {
       "model_id": "3ccef213042a48edb7bfc24a68929f58",
       "version_major": 2,
       "version_minor": 0
      },
      "text/plain": [
       "VBox(children=(Label(value=' 0.12MB of 0.12MB uploaded (0.00MB deduped)\\r'), FloatProgress(value=1.0, max=1.0)…"
      ]
     },
     "metadata": {},
     "output_type": "display_data"
    },
    {
     "data": {
      "text/html": [
       "<style>\n",
       "    table.wandb td:nth-child(1) { padding: 0 10px; text-align: right }\n",
       "    .wandb-row { display: flex; flex-direction: row; flex-wrap: wrap; width: 100% }\n",
       "    .wandb-col { display: flex; flex-direction: column; flex-basis: 100%; flex: 1; padding: 10px; }\n",
       "    </style>\n",
       "<div class=\"wandb-row\"><div class=\"wandb-col\">\n",
       "<h3>Run history:</h3><br/><table class=\"wandb\"><tr><td>Mean Validation Loss (all folds)</td><td>▁</td></tr><tr><td>Mean Validation RMSE (all folds)</td><td>▁</td></tr><tr><td>epoch</td><td>▁▁▁▂▂▂▂▂▂▃▃▃▃▃▄▄▄▄▄▄▅▅▅▅▅▅▆▆▆▆▆▇▇▇▇▇▇███</td></tr><tr><td>loss</td><td>█▂▂▁▁▁▁▁▁▁▁▁▁▁▁▁▁▁▁▁▁▁▁▁▁▁▁▁▁▁▁▁▁▁▁▁▁▁▁▁</td></tr><tr><td>root_mean_squared_error</td><td>█▃▃▃▃▂▂▂▂▁▁▁▁▁▁▁▁▁▁▁▁▁▁▁▁▁▁▁▁▁▁▁▁▁▁▁▁▁▁▁</td></tr><tr><td>val_loss</td><td>▇█▆▅▇▅▅▄▃▃▂▂▂▁▁▂▂▁▂▁▂▁▁▁▁▁▂▁▁▁▁▁▁▁▁▁▁▁▁▁</td></tr><tr><td>val_root_mean_squared_error</td><td>▇█▇▆▇▆▆▄▄▄▃▂▂▂▁▂▂▂▃▁▂▂▂▂▂▂▂▁▁▁▂▁▁▁▁▂▁▁▁▂</td></tr></table><br/></div><div class=\"wandb-col\">\n",
       "<h3>Run summary:</h3><br/><table class=\"wandb\"><tr><td>Mean Validation Loss (all folds)</td><td>2.0748</td></tr><tr><td>Mean Validation RMSE (all folds)</td><td>1.42543</td></tr><tr><td>best_epoch</td><td>184</td></tr><tr><td>best_val_loss</td><td>1.05159</td></tr><tr><td>epoch</td><td>249</td></tr><tr><td>loss</td><td>0.01534</td></tr><tr><td>root_mean_squared_error</td><td>0.12384</td></tr><tr><td>val_loss</td><td>1.46057</td></tr><tr><td>val_root_mean_squared_error</td><td>1.20854</td></tr></table>\n",
       "</div></div>\n",
       "Synced 5 W&B file(s), 0 media file(s), 0 artifact file(s) and 1 other file(s)\n",
       "<br/>Synced <strong style=\"color:#cdcd00\">proud-sweep-7</strong>: <a href=\"https://wandb.ai/luiscostigan/house-price-prediction/runs/92lx3iuu\" target=\"_blank\">https://wandb.ai/luiscostigan/house-price-prediction/runs/92lx3iuu</a><br/>\n",
       "Find logs at: <code>./wandb/run-20220304_130341-92lx3iuu/logs</code><br/>\n"
      ],
      "text/plain": [
       "<IPython.core.display.HTML object>"
      ]
     },
     "metadata": {},
     "output_type": "display_data"
    },
    {
     "name": "stderr",
     "output_type": "stream",
     "text": [
      "\u001b[34m\u001b[1mwandb\u001b[0m: wandb version 0.12.11 is available!  To upgrade, please run:\n",
      "\u001b[34m\u001b[1mwandb\u001b[0m:  $ pip install wandb --upgrade\n"
     ]
    },
    {
     "data": {
      "text/html": [
       "\n",
       "                    Syncing run <strong><a href=\"https://wandb.ai/luiscostigan/house-price-prediction/runs/92lx3iuu\" target=\"_blank\">proud-sweep-7</a></strong> to <a href=\"https://wandb.ai/luiscostigan/house-price-prediction\" target=\"_blank\">Weights & Biases</a> (<a href=\"https://docs.wandb.com/integrations/jupyter.html\" target=\"_blank\">docs</a>).<br/>\n",
       "Sweep page: <a href=\"https://wandb.ai/luiscostigan/house-price-prediction/sweeps/hbftehhf\" target=\"_blank\">https://wandb.ai/luiscostigan/house-price-prediction/sweeps/hbftehhf</a><br/>\n",
       "\n",
       "                "
      ],
      "text/plain": [
       "<IPython.core.display.HTML object>"
      ]
     },
     "metadata": {},
     "output_type": "display_data"
    },
    {
     "name": "stdout",
     "output_type": "stream",
     "text": [
      "37/37 [==============================] - 0s 4ms/step - loss: 1.1465 - root_mean_squared_error: 1.0708\n",
      "Score for fold 4: loss of 1.1465119123458862; root_mean_squared_error of 1.0707529783248901\n",
      "------------------------------------------------------------------------\n",
      "Score per fold\n",
      "------------------------------------------------------------------------\n",
      "> Fold 1 - Loss: 2.9055161476135254 - RMSE: 1.7045574188232422%\n",
      "------------------------------------------------------------------------\n",
      "> Fold 2 - Loss: 1.8583043813705444 - RMSE: 1.3631963729858398%\n",
      "------------------------------------------------------------------------\n",
      "> Fold 3 - Loss: 1.4605666399002075 - RMSE: 1.2085390090942383%\n",
      "------------------------------------------------------------------------\n",
      "> Fold 4 - Loss: 1.1465119123458862 - RMSE: 1.0707529783248901%\n",
      "------------------------------------------------------------------------\n",
      "Average scores for all folds:\n",
      "> RMSE: 1.3367614448070526 (+- 0.2362065733582862)\n",
      "> Loss: 1.842724770307541\n",
      "------------------------------------------------------------------------\n"
     ]
    },
    {
     "data": {
      "text/html": [
       "<br/>Waiting for W&B process to finish, PID 19219... <strong style=\"color:green\">(success).</strong>"
      ],
      "text/plain": [
       "<IPython.core.display.HTML object>"
      ]
     },
     "metadata": {},
     "output_type": "display_data"
    },
    {
     "data": {
      "application/vnd.jupyter.widget-view+json": {
       "model_id": "374c72b4ab224ca382f1dc223c13f34c",
       "version_major": 2,
       "version_minor": 0
      },
      "text/plain": [
       "VBox(children=(Label(value=' 0.12MB of 0.12MB uploaded (0.00MB deduped)\\r'), FloatProgress(value=1.0, max=1.0)…"
      ]
     },
     "metadata": {},
     "output_type": "display_data"
    },
    {
     "data": {
      "text/html": [
       "<style>\n",
       "    table.wandb td:nth-child(1) { padding: 0 10px; text-align: right }\n",
       "    .wandb-row { display: flex; flex-direction: row; flex-wrap: wrap; width: 100% }\n",
       "    .wandb-col { display: flex; flex-direction: column; flex-basis: 100%; flex: 1; padding: 10px; }\n",
       "    </style>\n",
       "<div class=\"wandb-row\"><div class=\"wandb-col\">\n",
       "<h3>Run history:</h3><br/><table class=\"wandb\"><tr><td>Mean Validation Loss (all folds)</td><td>▁</td></tr><tr><td>Mean Validation RMSE (all folds)</td><td>▁</td></tr><tr><td>epoch</td><td>▁▁▁▂▂▂▂▂▂▃▃▃▃▃▄▄▄▄▄▄▅▅▅▅▅▅▆▆▆▆▆▇▇▇▇▇▇███</td></tr><tr><td>loss</td><td>█▁▁▁▁▁▁▁▁▁▁▁▁▁▁▁▁▁▁▁▁▁▁▁▁▁▁▁▁▁▁▁▁▁▁▁▁▁▁▁</td></tr><tr><td>root_mean_squared_error</td><td>█▃▂▂▂▂▂▁▂▁▂▁▁▁▁▁▁▁▁▁▁▁▁▁▁▁▁▁▁▁▁▁▁▁▁▁▁▁▁▁</td></tr><tr><td>val_loss</td><td>▆█▇█▇▆▆▃▃▄▄▃▃▂▂▂▂▂▂▁▂▂▂▂▂▂▂▂▁▁▁▁▁▁▁▁▁▁▁▁</td></tr><tr><td>val_root_mean_squared_error</td><td>▇█▇█▇▇▆▄▄▅▅▄▄▃▂▃▃▃▂▂▂▂▂▂▂▂▂▂▂▂▁▂▁▁▂▁▁▁▁▂</td></tr></table><br/></div><div class=\"wandb-col\">\n",
       "<h3>Run summary:</h3><br/><table class=\"wandb\"><tr><td>Mean Validation Loss (all folds)</td><td>1.84272</td></tr><tr><td>Mean Validation RMSE (all folds)</td><td>1.33676</td></tr><tr><td>best_epoch</td><td>223</td></tr><tr><td>best_val_loss</td><td>0.75125</td></tr><tr><td>epoch</td><td>249</td></tr><tr><td>loss</td><td>0.01093</td></tr><tr><td>root_mean_squared_error</td><td>0.10455</td></tr><tr><td>val_loss</td><td>1.14651</td></tr><tr><td>val_root_mean_squared_error</td><td>1.07075</td></tr></table>\n",
       "</div></div>\n",
       "Synced 5 W&B file(s), 0 media file(s), 0 artifact file(s) and 1 other file(s)\n",
       "<br/>Synced <strong style=\"color:#cdcd00\">proud-sweep-7</strong>: <a href=\"https://wandb.ai/luiscostigan/house-price-prediction/runs/92lx3iuu\" target=\"_blank\">https://wandb.ai/luiscostigan/house-price-prediction/runs/92lx3iuu</a><br/>\n",
       "Find logs at: <code>./wandb/run-20220304_130512-92lx3iuu/logs</code><br/>\n"
      ],
      "text/plain": [
       "<IPython.core.display.HTML object>"
      ]
     },
     "metadata": {},
     "output_type": "display_data"
    },
    {
     "name": "stderr",
     "output_type": "stream",
     "text": [
      "\u001b[34m\u001b[1mwandb\u001b[0m: wandb version 0.12.11 is available!  To upgrade, please run:\n",
      "\u001b[34m\u001b[1mwandb\u001b[0m:  $ pip install wandb --upgrade\n"
     ]
    },
    {
     "data": {
      "text/html": [
       "\n",
       "                    Syncing run <strong><a href=\"https://wandb.ai/luiscostigan/house-price-prediction/runs/92lx3iuu\" target=\"_blank\">proud-sweep-7</a></strong> to <a href=\"https://wandb.ai/luiscostigan/house-price-prediction\" target=\"_blank\">Weights & Biases</a> (<a href=\"https://docs.wandb.com/integrations/jupyter.html\" target=\"_blank\">docs</a>).<br/>\n",
       "Sweep page: <a href=\"https://wandb.ai/luiscostigan/house-price-prediction/sweeps/hbftehhf\" target=\"_blank\">https://wandb.ai/luiscostigan/house-price-prediction/sweeps/hbftehhf</a><br/>\n",
       "\n",
       "                "
      ],
      "text/plain": [
       "<IPython.core.display.HTML object>"
      ]
     },
     "metadata": {},
     "output_type": "display_data"
    },
    {
     "name": "stdout",
     "output_type": "stream",
     "text": [
      "37/37 [==============================] - 0s 2ms/step - loss: 3.6469 - root_mean_squared_error: 1.9097\n",
      "Score for fold 5: loss of 3.64685320854187; root_mean_squared_error of 1.9096735715866089\n",
      "------------------------------------------------------------------------\n",
      "Score per fold\n",
      "------------------------------------------------------------------------\n",
      "> Fold 1 - Loss: 2.9055161476135254 - RMSE: 1.7045574188232422%\n",
      "------------------------------------------------------------------------\n",
      "> Fold 2 - Loss: 1.8583043813705444 - RMSE: 1.3631963729858398%\n",
      "------------------------------------------------------------------------\n",
      "> Fold 3 - Loss: 1.4605666399002075 - RMSE: 1.2085390090942383%\n",
      "------------------------------------------------------------------------\n",
      "> Fold 4 - Loss: 1.1465119123458862 - RMSE: 1.0707529783248901%\n",
      "------------------------------------------------------------------------\n",
      "> Fold 5 - Loss: 3.64685320854187 - RMSE: 1.9096735715866089%\n",
      "------------------------------------------------------------------------\n",
      "Average scores for all folds:\n",
      "> RMSE: 1.451343870162964 (+- 0.3116911372495257)\n",
      "> Loss: 2.2035504579544067\n",
      "------------------------------------------------------------------------\n"
     ]
    },
    {
     "data": {
      "text/html": [
       "<br/>Waiting for W&B process to finish, PID 24856... <strong style=\"color:green\">(success).</strong>"
      ],
      "text/plain": [
       "<IPython.core.display.HTML object>"
      ]
     },
     "metadata": {},
     "output_type": "display_data"
    },
    {
     "data": {
      "application/vnd.jupyter.widget-view+json": {
       "model_id": "afc51db46a354ae396e43c84690739a3",
       "version_major": 2,
       "version_minor": 0
      },
      "text/plain": [
       "VBox(children=(Label(value=' 0.12MB of 0.12MB uploaded (0.00MB deduped)\\r'), FloatProgress(value=1.0, max=1.0)…"
      ]
     },
     "metadata": {},
     "output_type": "display_data"
    },
    {
     "data": {
      "text/html": [
       "<style>\n",
       "    table.wandb td:nth-child(1) { padding: 0 10px; text-align: right }\n",
       "    .wandb-row { display: flex; flex-direction: row; flex-wrap: wrap; width: 100% }\n",
       "    .wandb-col { display: flex; flex-direction: column; flex-basis: 100%; flex: 1; padding: 10px; }\n",
       "    </style>\n",
       "<div class=\"wandb-row\"><div class=\"wandb-col\">\n",
       "<h3>Run history:</h3><br/><table class=\"wandb\"><tr><td>Mean Validation Loss (all folds)</td><td>▁</td></tr><tr><td>Mean Validation RMSE (all folds)</td><td>▁</td></tr><tr><td>epoch</td><td>▁▁▁▂▂▂▂▂▂▃▃▃▃▃▄▄▄▄▄▄▅▅▅▅▅▅▆▆▆▆▆▇▇▇▇▇▇███</td></tr><tr><td>loss</td><td>█▁▁▁▁▁▁▁▁▁▁▁▁▁▁▁▁▁▁▁▁▁▁▁▁▁▁▁▁▁▁▁▁▁▁▁▁▁▁▁</td></tr><tr><td>root_mean_squared_error</td><td>█▃▃▂▂▂▂▂▂▂▂▂▁▁▁▁▁▁▁▁▁▁▁▁▁▁▁▁▁▁▁▁▁▁▁▁▁▁▁▁</td></tr><tr><td>val_loss</td><td>▂██▇▅▇▆▆▆▅▆▆▃▅▄▄▄▃▄▂▃▂▂▂▂▂▂▂▂▃▁▂▂▂▂▁▂▁▁▂</td></tr><tr><td>val_root_mean_squared_error</td><td>▂██▇▆▇▆▇▇▅▆▆▃▆▅▄▄▄▄▂▃▂▂▂▃▃▂▂▂▃▂▂▂▂▃▂▂▁▂▂</td></tr></table><br/></div><div class=\"wandb-col\">\n",
       "<h3>Run summary:</h3><br/><table class=\"wandb\"><tr><td>Mean Validation Loss (all folds)</td><td>2.20355</td></tr><tr><td>Mean Validation RMSE (all folds)</td><td>1.45134</td></tr><tr><td>best_epoch</td><td>0</td></tr><tr><td>best_val_loss</td><td>1.39118</td></tr><tr><td>epoch</td><td>249</td></tr><tr><td>loss</td><td>0.01507</td></tr><tr><td>root_mean_squared_error</td><td>0.12276</td></tr><tr><td>val_loss</td><td>3.64685</td></tr><tr><td>val_root_mean_squared_error</td><td>1.90967</td></tr></table>\n",
       "</div></div>\n",
       "Synced 5 W&B file(s), 0 media file(s), 0 artifact file(s) and 1 other file(s)\n",
       "<br/>Synced <strong style=\"color:#cdcd00\">proud-sweep-7</strong>: <a href=\"https://wandb.ai/luiscostigan/house-price-prediction/runs/92lx3iuu\" target=\"_blank\">https://wandb.ai/luiscostigan/house-price-prediction/runs/92lx3iuu</a><br/>\n",
       "Find logs at: <code>./wandb/run-20220304_130642-92lx3iuu/logs</code><br/>\n"
      ],
      "text/plain": [
       "<IPython.core.display.HTML object>"
      ]
     },
     "metadata": {},
     "output_type": "display_data"
    },
    {
     "name": "stderr",
     "output_type": "stream",
     "text": [
      "\u001b[34m\u001b[1mwandb\u001b[0m: Sweep Agent: Waiting for job.\n",
      "\u001b[34m\u001b[1mwandb\u001b[0m: Job received.\n",
      "\u001b[34m\u001b[1mwandb\u001b[0m: Agent Starting Run: teb3rtei with config:\n",
      "\u001b[34m\u001b[1mwandb\u001b[0m: \tbatch_size: 128\n",
      "\u001b[34m\u001b[1mwandb\u001b[0m: \tdense1: 8\n",
      "\u001b[34m\u001b[1mwandb\u001b[0m: \tdense2: 16\n",
      "\u001b[34m\u001b[1mwandb\u001b[0m: \tdropout1: 0.2900217456257274\n",
      "\u001b[34m\u001b[1mwandb\u001b[0m: \tepochs: 500\n",
      "\u001b[34m\u001b[1mwandb\u001b[0m: wandb version 0.12.11 is available!  To upgrade, please run:\n",
      "\u001b[34m\u001b[1mwandb\u001b[0m:  $ pip install wandb --upgrade\n"
     ]
    },
    {
     "data": {
      "text/html": [
       "\n",
       "                    Syncing run <strong><a href=\"https://wandb.ai/luiscostigan/house-price-prediction/runs/teb3rtei\" target=\"_blank\">vivid-sweep-8</a></strong> to <a href=\"https://wandb.ai/luiscostigan/house-price-prediction\" target=\"_blank\">Weights & Biases</a> (<a href=\"https://docs.wandb.com/integrations/jupyter.html\" target=\"_blank\">docs</a>).<br/>\n",
       "Sweep page: <a href=\"https://wandb.ai/luiscostigan/house-price-prediction/sweeps/hbftehhf\" target=\"_blank\">https://wandb.ai/luiscostigan/house-price-prediction/sweeps/hbftehhf</a><br/>\n",
       "\n",
       "                "
      ],
      "text/plain": [
       "<IPython.core.display.HTML object>"
      ]
     },
     "metadata": {},
     "output_type": "display_data"
    },
    {
     "name": "stdout",
     "output_type": "stream",
     "text": [
      "37/37 [==============================] - 0s 1ms/step - loss: 5.4873 - root_mean_squared_error: 2.3425\n",
      "Score for fold 1: loss of 5.487287998199463; root_mean_squared_error of 2.342496156692505\n",
      "------------------------------------------------------------------------\n",
      "Score per fold\n",
      "------------------------------------------------------------------------\n",
      "> Fold 1 - Loss: 5.487287998199463 - RMSE: 2.342496156692505%\n",
      "------------------------------------------------------------------------\n",
      "Average scores for all folds:\n",
      "> RMSE: 2.342496156692505 (+- 0.0)\n",
      "> Loss: 5.487287998199463\n",
      "------------------------------------------------------------------------\n"
     ]
    },
    {
     "data": {
      "text/html": [
       "<br/>Waiting for W&B process to finish, PID 30581... <strong style=\"color:green\">(success).</strong>"
      ],
      "text/plain": [
       "<IPython.core.display.HTML object>"
      ]
     },
     "metadata": {},
     "output_type": "display_data"
    },
    {
     "data": {
      "application/vnd.jupyter.widget-view+json": {
       "model_id": "bfe2a192916f44ee9c58c20189b6aabb",
       "version_major": 2,
       "version_minor": 0
      },
      "text/plain": [
       "VBox(children=(Label(value=' 0.12MB of 0.12MB uploaded (0.00MB deduped)\\r'), FloatProgress(value=1.0, max=1.0)…"
      ]
     },
     "metadata": {},
     "output_type": "display_data"
    },
    {
     "data": {
      "text/html": [
       "<style>\n",
       "    table.wandb td:nth-child(1) { padding: 0 10px; text-align: right }\n",
       "    .wandb-row { display: flex; flex-direction: row; flex-wrap: wrap; width: 100% }\n",
       "    .wandb-col { display: flex; flex-direction: column; flex-basis: 100%; flex: 1; padding: 10px; }\n",
       "    </style>\n",
       "<div class=\"wandb-row\"><div class=\"wandb-col\">\n",
       "<h3>Run history:</h3><br/><table class=\"wandb\"><tr><td>Mean Validation Loss (all folds)</td><td>▁</td></tr><tr><td>Mean Validation RMSE (all folds)</td><td>▁</td></tr><tr><td>epoch</td><td>▁▁▁▂▂▂▂▂▂▃▃▃▃▃▄▄▄▄▄▄▅▅▅▅▅▅▆▆▆▆▆▇▇▇▇▇▇███</td></tr><tr><td>loss</td><td>█▂▁▁▁▁▁▁▁▁▁▁▁▁▁▁▁▁▁▁▁▁▁▁▁▁▁▁▁▁▁▁▁▁▁▁▁▁▁▁</td></tr><tr><td>root_mean_squared_error</td><td>█▃▂▂▂▂▂▂▂▁▂▂▂▂▁▂▁▁▁▁▁▁▁▁▁▁▁▁▁▁▁▁▁▁▁▁▁▁▁▁</td></tr><tr><td>val_loss</td><td>█▂▂▂▃▂▂▂▂▂▂▂▂▂▁▁▂▁▂▂▂▂▁▁▁▁▁▂▁▁▁▁▁▁▁▁▁▁▁▁</td></tr><tr><td>val_root_mean_squared_error</td><td>█▂▃▂▄▃▂▃▃▃▃▂▂▂▂▂▂▂▂▂▂▂▁▂▁▁▁▂▂▂▂▂▁▁▂▁▁▁▁▁</td></tr></table><br/></div><div class=\"wandb-col\">\n",
       "<h3>Run summary:</h3><br/><table class=\"wandb\"><tr><td>Mean Validation Loss (all folds)</td><td>5.48729</td></tr><tr><td>Mean Validation RMSE (all folds)</td><td>2.3425</td></tr><tr><td>best_epoch</td><td>10</td></tr><tr><td>best_val_loss</td><td>2.5268</td></tr><tr><td>epoch</td><td>499</td></tr><tr><td>loss</td><td>0.03857</td></tr><tr><td>root_mean_squared_error</td><td>0.19639</td></tr><tr><td>val_loss</td><td>5.48729</td></tr><tr><td>val_root_mean_squared_error</td><td>2.3425</td></tr></table>\n",
       "</div></div>\n",
       "Synced 5 W&B file(s), 0 media file(s), 0 artifact file(s) and 1 other file(s)\n",
       "<br/>Synced <strong style=\"color:#cdcd00\">vivid-sweep-8</strong>: <a href=\"https://wandb.ai/luiscostigan/house-price-prediction/runs/teb3rtei\" target=\"_blank\">https://wandb.ai/luiscostigan/house-price-prediction/runs/teb3rtei</a><br/>\n",
       "Find logs at: <code>./wandb/run-20220304_130822-teb3rtei/logs</code><br/>\n"
      ],
      "text/plain": [
       "<IPython.core.display.HTML object>"
      ]
     },
     "metadata": {},
     "output_type": "display_data"
    },
    {
     "name": "stderr",
     "output_type": "stream",
     "text": [
      "\u001b[34m\u001b[1mwandb\u001b[0m: wandb version 0.12.11 is available!  To upgrade, please run:\n",
      "\u001b[34m\u001b[1mwandb\u001b[0m:  $ pip install wandb --upgrade\n"
     ]
    },
    {
     "data": {
      "text/html": [
       "\n",
       "                    Syncing run <strong><a href=\"https://wandb.ai/luiscostigan/house-price-prediction/runs/teb3rtei\" target=\"_blank\">vivid-sweep-8</a></strong> to <a href=\"https://wandb.ai/luiscostigan/house-price-prediction\" target=\"_blank\">Weights & Biases</a> (<a href=\"https://docs.wandb.com/integrations/jupyter.html\" target=\"_blank\">docs</a>).<br/>\n",
       "Sweep page: <a href=\"https://wandb.ai/luiscostigan/house-price-prediction/sweeps/hbftehhf\" target=\"_blank\">https://wandb.ai/luiscostigan/house-price-prediction/sweeps/hbftehhf</a><br/>\n",
       "\n",
       "                "
      ],
      "text/plain": [
       "<IPython.core.display.HTML object>"
      ]
     },
     "metadata": {},
     "output_type": "display_data"
    },
    {
     "name": "stdout",
     "output_type": "stream",
     "text": [
      "37/37 [==============================] - 0s 3ms/step - loss: 9.9686 - root_mean_squared_error: 3.1573\n",
      "Score for fold 2: loss of 9.968613624572754; root_mean_squared_error of 3.157311201095581\n",
      "------------------------------------------------------------------------\n",
      "Score per fold\n",
      "------------------------------------------------------------------------\n",
      "> Fold 1 - Loss: 5.487287998199463 - RMSE: 2.342496156692505%\n",
      "------------------------------------------------------------------------\n",
      "> Fold 2 - Loss: 9.968613624572754 - RMSE: 3.157311201095581%\n",
      "------------------------------------------------------------------------\n",
      "Average scores for all folds:\n",
      "> RMSE: 2.749903678894043 (+- 0.4074075222015381)\n",
      "> Loss: 7.727950811386108\n",
      "------------------------------------------------------------------------\n"
     ]
    },
    {
     "data": {
      "text/html": [
       "<br/>Waiting for W&B process to finish, PID 8108... <strong style=\"color:green\">(success).</strong>"
      ],
      "text/plain": [
       "<IPython.core.display.HTML object>"
      ]
     },
     "metadata": {},
     "output_type": "display_data"
    },
    {
     "data": {
      "application/vnd.jupyter.widget-view+json": {
       "model_id": "cf59e7d9a24347669e331bae70aa4545",
       "version_major": 2,
       "version_minor": 0
      },
      "text/plain": [
       "VBox(children=(Label(value=' 0.12MB of 0.12MB uploaded (0.00MB deduped)\\r'), FloatProgress(value=1.0, max=1.0)…"
      ]
     },
     "metadata": {},
     "output_type": "display_data"
    },
    {
     "data": {
      "text/html": [
       "<style>\n",
       "    table.wandb td:nth-child(1) { padding: 0 10px; text-align: right }\n",
       "    .wandb-row { display: flex; flex-direction: row; flex-wrap: wrap; width: 100% }\n",
       "    .wandb-col { display: flex; flex-direction: column; flex-basis: 100%; flex: 1; padding: 10px; }\n",
       "    </style>\n",
       "<div class=\"wandb-row\"><div class=\"wandb-col\">\n",
       "<h3>Run history:</h3><br/><table class=\"wandb\"><tr><td>Mean Validation Loss (all folds)</td><td>▁</td></tr><tr><td>Mean Validation RMSE (all folds)</td><td>▁</td></tr><tr><td>epoch</td><td>▁▁▁▂▂▂▂▂▂▃▃▃▃▃▄▄▄▄▄▄▅▅▅▅▅▅▆▆▆▆▆▇▇▇▇▇▇███</td></tr><tr><td>loss</td><td>█▂▂▁▁▁▁▁▁▁▁▁▁▁▁▁▁▁▁▁▁▁▁▁▁▁▁▁▁▁▁▁▁▁▁▁▁▁▁▁</td></tr><tr><td>root_mean_squared_error</td><td>█▄▃▂▂▂▂▂▂▂▂▂▂▁▁▁▁▁▁▁▁▁▁▁▁▁▁▁▁▁▁▁▁▁▁▁▁▁▁▁</td></tr><tr><td>val_loss</td><td>█▁▂▂▃▃▃▂▁▂▁▁▁▂▁▁▂▂▁▂▂▁▁▂▂▂▂▂▂▂▁▂▂▁▁▁▁▂▂▂</td></tr><tr><td>val_root_mean_squared_error</td><td>█▁▂▂▃▃▃▃▂▂▂▁▁▂▁▁▂▂▁▂▂▂▁▂▂▂▂▂▂▂▁▂▂▁▁▁▁▂▂▂</td></tr></table><br/></div><div class=\"wandb-col\">\n",
       "<h3>Run summary:</h3><br/><table class=\"wandb\"><tr><td>Mean Validation Loss (all folds)</td><td>7.72795</td></tr><tr><td>Mean Validation RMSE (all folds)</td><td>2.7499</td></tr><tr><td>best_epoch</td><td>10</td></tr><tr><td>best_val_loss</td><td>3.51698</td></tr><tr><td>epoch</td><td>499</td></tr><tr><td>loss</td><td>0.01567</td></tr><tr><td>root_mean_squared_error</td><td>0.12516</td></tr><tr><td>val_loss</td><td>9.96861</td></tr><tr><td>val_root_mean_squared_error</td><td>3.15731</td></tr></table>\n",
       "</div></div>\n",
       "Synced 5 W&B file(s), 0 media file(s), 0 artifact file(s) and 1 other file(s)\n",
       "<br/>Synced <strong style=\"color:#cdcd00\">vivid-sweep-8</strong>: <a href=\"https://wandb.ai/luiscostigan/house-price-prediction/runs/teb3rtei\" target=\"_blank\">https://wandb.ai/luiscostigan/house-price-prediction/runs/teb3rtei</a><br/>\n",
       "Find logs at: <code>./wandb/run-20220304_130900-teb3rtei/logs</code><br/>\n"
      ],
      "text/plain": [
       "<IPython.core.display.HTML object>"
      ]
     },
     "metadata": {},
     "output_type": "display_data"
    },
    {
     "name": "stderr",
     "output_type": "stream",
     "text": [
      "\u001b[34m\u001b[1mwandb\u001b[0m: wandb version 0.12.11 is available!  To upgrade, please run:\n",
      "\u001b[34m\u001b[1mwandb\u001b[0m:  $ pip install wandb --upgrade\n"
     ]
    },
    {
     "data": {
      "text/html": [
       "\n",
       "                    Syncing run <strong><a href=\"https://wandb.ai/luiscostigan/house-price-prediction/runs/teb3rtei\" target=\"_blank\">vivid-sweep-8</a></strong> to <a href=\"https://wandb.ai/luiscostigan/house-price-prediction\" target=\"_blank\">Weights & Biases</a> (<a href=\"https://docs.wandb.com/integrations/jupyter.html\" target=\"_blank\">docs</a>).<br/>\n",
       "Sweep page: <a href=\"https://wandb.ai/luiscostigan/house-price-prediction/sweeps/hbftehhf\" target=\"_blank\">https://wandb.ai/luiscostigan/house-price-prediction/sweeps/hbftehhf</a><br/>\n",
       "\n",
       "                "
      ],
      "text/plain": [
       "<IPython.core.display.HTML object>"
      ]
     },
     "metadata": {},
     "output_type": "display_data"
    },
    {
     "name": "stdout",
     "output_type": "stream",
     "text": [
      "37/37 [==============================] - 0s 2ms/step - loss: 8.9432 - root_mean_squared_error: 2.9905\n",
      "Score for fold 3: loss of 8.94320011138916; root_mean_squared_error of 2.99051833152771\n",
      "------------------------------------------------------------------------\n",
      "Score per fold\n",
      "------------------------------------------------------------------------\n",
      "> Fold 1 - Loss: 5.487287998199463 - RMSE: 2.342496156692505%\n",
      "------------------------------------------------------------------------\n",
      "> Fold 2 - Loss: 9.968613624572754 - RMSE: 3.157311201095581%\n",
      "------------------------------------------------------------------------\n",
      "> Fold 3 - Loss: 8.94320011138916 - RMSE: 2.99051833152771%\n",
      "------------------------------------------------------------------------\n",
      "Average scores for all folds:\n",
      "> RMSE: 2.830108563105265 (+- 0.35145351470752)\n",
      "> Loss: 8.133033911387125\n",
      "------------------------------------------------------------------------\n"
     ]
    },
    {
     "data": {
      "text/html": [
       "<br/>Waiting for W&B process to finish, PID 18371... <strong style=\"color:green\">(success).</strong>"
      ],
      "text/plain": [
       "<IPython.core.display.HTML object>"
      ]
     },
     "metadata": {},
     "output_type": "display_data"
    },
    {
     "data": {
      "application/vnd.jupyter.widget-view+json": {
       "model_id": "50a7df9e8c7b4f0f9bf6b711013d65b0",
       "version_major": 2,
       "version_minor": 0
      },
      "text/plain": [
       "VBox(children=(Label(value=' 0.00MB of 0.12MB uploaded (0.00MB deduped)\\r'), FloatProgress(value=0.00840212143…"
      ]
     },
     "metadata": {},
     "output_type": "display_data"
    },
    {
     "data": {
      "text/html": [
       "<style>\n",
       "    table.wandb td:nth-child(1) { padding: 0 10px; text-align: right }\n",
       "    .wandb-row { display: flex; flex-direction: row; flex-wrap: wrap; width: 100% }\n",
       "    .wandb-col { display: flex; flex-direction: column; flex-basis: 100%; flex: 1; padding: 10px; }\n",
       "    </style>\n",
       "<div class=\"wandb-row\"><div class=\"wandb-col\">\n",
       "<h3>Run history:</h3><br/><table class=\"wandb\"><tr><td>Mean Validation Loss (all folds)</td><td>▁</td></tr><tr><td>Mean Validation RMSE (all folds)</td><td>▁</td></tr><tr><td>epoch</td><td>▁▁▁▂▂▂▂▂▂▃▃▃▃▃▄▄▄▄▄▄▅▅▅▅▅▅▆▆▆▆▆▇▇▇▇▇▇███</td></tr><tr><td>loss</td><td>█▂▁▁▁▁▁▁▁▁▁▁▁▁▁▁▁▁▁▁▁▁▁▁▁▁▁▁▁▁▁▁▁▁▁▁▁▁▁▁</td></tr><tr><td>root_mean_squared_error</td><td>█▄▃▂▂▂▂▂▂▁▂▁▁▁▁▁▁▁▁▁▁▁▁▁▁▁▁▁▁▁▁▁▁▁▁▁▁▁▁▁</td></tr><tr><td>val_loss</td><td>█▁▄▅▆▅▆▅▆▅▅▅▆▄▅▅▅▆▅▅▄▄▅▄▄▅▄▄▅▅▅▄▄▅▅▅▅▅▅▅</td></tr><tr><td>val_root_mean_squared_error</td><td>█▁▅▆▇▆▆▆▆▆▆▆▆▅▆▆▆▆▆▆▅▅▅▅▅▅▅▅▆▆▆▅▅▆▆▆▆▆▆▆</td></tr></table><br/></div><div class=\"wandb-col\">\n",
       "<h3>Run summary:</h3><br/><table class=\"wandb\"><tr><td>Mean Validation Loss (all folds)</td><td>8.13303</td></tr><tr><td>Mean Validation RMSE (all folds)</td><td>2.83011</td></tr><tr><td>best_epoch</td><td>15</td></tr><tr><td>best_val_loss</td><td>1.02858</td></tr><tr><td>epoch</td><td>499</td></tr><tr><td>loss</td><td>0.02933</td></tr><tr><td>root_mean_squared_error</td><td>0.17127</td></tr><tr><td>val_loss</td><td>8.9432</td></tr><tr><td>val_root_mean_squared_error</td><td>2.99052</td></tr></table>\n",
       "</div></div>\n",
       "Synced 5 W&B file(s), 0 media file(s), 0 artifact file(s) and 1 other file(s)\n",
       "<br/>Synced <strong style=\"color:#cdcd00\">vivid-sweep-8</strong>: <a href=\"https://wandb.ai/luiscostigan/house-price-prediction/runs/teb3rtei\" target=\"_blank\">https://wandb.ai/luiscostigan/house-price-prediction/runs/teb3rtei</a><br/>\n",
       "Find logs at: <code>./wandb/run-20220304_131003-teb3rtei/logs</code><br/>\n"
      ],
      "text/plain": [
       "<IPython.core.display.HTML object>"
      ]
     },
     "metadata": {},
     "output_type": "display_data"
    },
    {
     "name": "stderr",
     "output_type": "stream",
     "text": [
      "\u001b[34m\u001b[1mwandb\u001b[0m: wandb version 0.12.11 is available!  To upgrade, please run:\n",
      "\u001b[34m\u001b[1mwandb\u001b[0m:  $ pip install wandb --upgrade\n"
     ]
    },
    {
     "data": {
      "text/html": [
       "\n",
       "                    Syncing run <strong><a href=\"https://wandb.ai/luiscostigan/house-price-prediction/runs/teb3rtei\" target=\"_blank\">vivid-sweep-8</a></strong> to <a href=\"https://wandb.ai/luiscostigan/house-price-prediction\" target=\"_blank\">Weights & Biases</a> (<a href=\"https://docs.wandb.com/integrations/jupyter.html\" target=\"_blank\">docs</a>).<br/>\n",
       "Sweep page: <a href=\"https://wandb.ai/luiscostigan/house-price-prediction/sweeps/hbftehhf\" target=\"_blank\">https://wandb.ai/luiscostigan/house-price-prediction/sweeps/hbftehhf</a><br/>\n",
       "\n",
       "                "
      ],
      "text/plain": [
       "<IPython.core.display.HTML object>"
      ]
     },
     "metadata": {},
     "output_type": "display_data"
    },
    {
     "name": "stdout",
     "output_type": "stream",
     "text": [
      "37/37 [==============================] - 0s 2ms/step - loss: 2.6740 - root_mean_squared_error: 1.6352\n",
      "Score for fold 4: loss of 2.6739821434020996; root_mean_squared_error of 1.6352314949035645\n",
      "------------------------------------------------------------------------\n",
      "Score per fold\n",
      "------------------------------------------------------------------------\n",
      "> Fold 1 - Loss: 5.487287998199463 - RMSE: 2.342496156692505%\n",
      "------------------------------------------------------------------------\n",
      "> Fold 2 - Loss: 9.968613624572754 - RMSE: 3.157311201095581%\n",
      "------------------------------------------------------------------------\n",
      "> Fold 3 - Loss: 8.94320011138916 - RMSE: 2.99051833152771%\n",
      "------------------------------------------------------------------------\n",
      "> Fold 4 - Loss: 2.6739821434020996 - RMSE: 1.6352314949035645%\n",
      "------------------------------------------------------------------------\n",
      "Average scores for all folds:\n",
      "> RMSE: 2.53138929605484 (+- 0.6002826678087845)\n",
      "> Loss: 6.768270969390869\n",
      "------------------------------------------------------------------------\n"
     ]
    },
    {
     "data": {
      "text/html": [
       "<br/>Waiting for W&B process to finish, PID 28476... <strong style=\"color:green\">(success).</strong>"
      ],
      "text/plain": [
       "<IPython.core.display.HTML object>"
      ]
     },
     "metadata": {},
     "output_type": "display_data"
    },
    {
     "data": {
      "application/vnd.jupyter.widget-view+json": {
       "model_id": "cd56f3baff96488eaefddfa06356bbc1",
       "version_major": 2,
       "version_minor": 0
      },
      "text/plain": [
       "VBox(children=(Label(value=' 0.12MB of 0.12MB uploaded (0.00MB deduped)\\r'), FloatProgress(value=1.0, max=1.0)…"
      ]
     },
     "metadata": {},
     "output_type": "display_data"
    },
    {
     "data": {
      "text/html": [
       "<style>\n",
       "    table.wandb td:nth-child(1) { padding: 0 10px; text-align: right }\n",
       "    .wandb-row { display: flex; flex-direction: row; flex-wrap: wrap; width: 100% }\n",
       "    .wandb-col { display: flex; flex-direction: column; flex-basis: 100%; flex: 1; padding: 10px; }\n",
       "    </style>\n",
       "<div class=\"wandb-row\"><div class=\"wandb-col\">\n",
       "<h3>Run history:</h3><br/><table class=\"wandb\"><tr><td>Mean Validation Loss (all folds)</td><td>▁</td></tr><tr><td>Mean Validation RMSE (all folds)</td><td>▁</td></tr><tr><td>epoch</td><td>▁▁▁▂▂▂▂▂▂▃▃▃▃▃▄▄▄▄▄▄▅▅▅▅▅▅▆▆▆▆▆▇▇▇▇▇▇███</td></tr><tr><td>loss</td><td>█▄▂▂▁▁▁▁▁▁▁▁▁▁▁▁▁▁▁▁▁▁▁▁▁▁▁▁▁▁▁▁▁▁▁▁▁▁▁▁</td></tr><tr><td>root_mean_squared_error</td><td>█▆▄▃▃▃▂▂▂▂▂▂▁▁▁▁▁▁▁▁▁▁▁▁▁▁▁▁▁▁▁▁▁▁▁▁▁▁▁▁</td></tr><tr><td>val_loss</td><td>█▄▅▆▄▅▅▄▃▃▃▃▂▂▂▂▂▁▁▁▁▁▁▁▁▁▁▁▁▂▁▁▁▁▁▁▂▁▁▁</td></tr><tr><td>val_root_mean_squared_error</td><td>█▅▆▆▅▆▆▅▄▃▄▃▂▂▂▂▂▂▂▂▂▁▁▂▁▁▁▁▂▂▂▁▁▁▂▂▂▂▂▂</td></tr></table><br/></div><div class=\"wandb-col\">\n",
       "<h3>Run summary:</h3><br/><table class=\"wandb\"><tr><td>Mean Validation Loss (all folds)</td><td>6.76827</td></tr><tr><td>Mean Validation RMSE (all folds)</td><td>2.53139</td></tr><tr><td>best_epoch</td><td>403</td></tr><tr><td>best_val_loss</td><td>1.94865</td></tr><tr><td>epoch</td><td>499</td></tr><tr><td>loss</td><td>0.01619</td></tr><tr><td>root_mean_squared_error</td><td>0.12724</td></tr><tr><td>val_loss</td><td>2.67398</td></tr><tr><td>val_root_mean_squared_error</td><td>1.63523</td></tr></table>\n",
       "</div></div>\n",
       "Synced 5 W&B file(s), 0 media file(s), 0 artifact file(s) and 1 other file(s)\n",
       "<br/>Synced <strong style=\"color:#cdcd00\">vivid-sweep-8</strong>: <a href=\"https://wandb.ai/luiscostigan/house-price-prediction/runs/teb3rtei\" target=\"_blank\">https://wandb.ai/luiscostigan/house-price-prediction/runs/teb3rtei</a><br/>\n",
       "Find logs at: <code>./wandb/run-20220304_131101-teb3rtei/logs</code><br/>\n"
      ],
      "text/plain": [
       "<IPython.core.display.HTML object>"
      ]
     },
     "metadata": {},
     "output_type": "display_data"
    },
    {
     "name": "stderr",
     "output_type": "stream",
     "text": [
      "\u001b[34m\u001b[1mwandb\u001b[0m: wandb version 0.12.11 is available!  To upgrade, please run:\n",
      "\u001b[34m\u001b[1mwandb\u001b[0m:  $ pip install wandb --upgrade\n"
     ]
    },
    {
     "data": {
      "text/html": [
       "\n",
       "                    Syncing run <strong><a href=\"https://wandb.ai/luiscostigan/house-price-prediction/runs/teb3rtei\" target=\"_blank\">vivid-sweep-8</a></strong> to <a href=\"https://wandb.ai/luiscostigan/house-price-prediction\" target=\"_blank\">Weights & Biases</a> (<a href=\"https://docs.wandb.com/integrations/jupyter.html\" target=\"_blank\">docs</a>).<br/>\n",
       "Sweep page: <a href=\"https://wandb.ai/luiscostigan/house-price-prediction/sweeps/hbftehhf\" target=\"_blank\">https://wandb.ai/luiscostigan/house-price-prediction/sweeps/hbftehhf</a><br/>\n",
       "\n",
       "                "
      ],
      "text/plain": [
       "<IPython.core.display.HTML object>"
      ]
     },
     "metadata": {},
     "output_type": "display_data"
    },
    {
     "name": "stdout",
     "output_type": "stream",
     "text": [
      "37/37 [==============================] - 0s 2ms/step - loss: 4.3366 - root_mean_squared_error: 2.0824\n",
      "Score for fold 5: loss of 4.33657693862915; root_mean_squared_error of 2.082444906234741\n",
      "------------------------------------------------------------------------\n",
      "Score per fold\n",
      "------------------------------------------------------------------------\n",
      "> Fold 1 - Loss: 5.487287998199463 - RMSE: 2.342496156692505%\n",
      "------------------------------------------------------------------------\n",
      "> Fold 2 - Loss: 9.968613624572754 - RMSE: 3.157311201095581%\n",
      "------------------------------------------------------------------------\n",
      "> Fold 3 - Loss: 8.94320011138916 - RMSE: 2.99051833152771%\n",
      "------------------------------------------------------------------------\n",
      "> Fold 4 - Loss: 2.6739821434020996 - RMSE: 1.6352314949035645%\n",
      "------------------------------------------------------------------------\n",
      "> Fold 5 - Loss: 4.33657693862915 - RMSE: 2.082444906234741%\n",
      "------------------------------------------------------------------------\n",
      "Average scores for all folds:\n",
      "> RMSE: 2.4416004180908204 (+- 0.5661445004956382)\n",
      "> Loss: 6.281932163238525\n",
      "------------------------------------------------------------------------\n"
     ]
    },
    {
     "data": {
      "text/html": [
       "<br/>Waiting for W&B process to finish, PID 6150... <strong style=\"color:green\">(success).</strong>"
      ],
      "text/plain": [
       "<IPython.core.display.HTML object>"
      ]
     },
     "metadata": {},
     "output_type": "display_data"
    },
    {
     "data": {
      "application/vnd.jupyter.widget-view+json": {
       "model_id": "539be2d2898340b4977d8ae008b3920c",
       "version_major": 2,
       "version_minor": 0
      },
      "text/plain": [
       "VBox(children=(Label(value=' 0.12MB of 0.12MB uploaded (0.00MB deduped)\\r'), FloatProgress(value=1.0, max=1.0)…"
      ]
     },
     "metadata": {},
     "output_type": "display_data"
    },
    {
     "data": {
      "text/html": [
       "<style>\n",
       "    table.wandb td:nth-child(1) { padding: 0 10px; text-align: right }\n",
       "    .wandb-row { display: flex; flex-direction: row; flex-wrap: wrap; width: 100% }\n",
       "    .wandb-col { display: flex; flex-direction: column; flex-basis: 100%; flex: 1; padding: 10px; }\n",
       "    </style>\n",
       "<div class=\"wandb-row\"><div class=\"wandb-col\">\n",
       "<h3>Run history:</h3><br/><table class=\"wandb\"><tr><td>Mean Validation Loss (all folds)</td><td>▁</td></tr><tr><td>Mean Validation RMSE (all folds)</td><td>▁</td></tr><tr><td>epoch</td><td>▁▁▁▂▂▂▂▂▂▃▃▃▃▃▄▄▄▄▄▄▅▅▅▅▅▅▆▆▆▆▆▇▇▇▇▇▇███</td></tr><tr><td>loss</td><td>█▂▂▁▁▁▁▁▁▁▁▁▁▁▁▁▁▁▁▁▁▁▁▁▁▁▁▁▁▁▁▁▁▁▁▁▁▁▁▁</td></tr><tr><td>root_mean_squared_error</td><td>█▄▃▂▂▂▂▂▂▂▂▂▁▂▁▂▁▁▁▁▁▁▁▁▁▁▁▁▁▁▁▁▁▁▁▁▁▁▁▁</td></tr><tr><td>val_loss</td><td>█▁▅▆▄▄▄▃▄▃▄▄▄▄▄▃▃▃▃▃▃▃▃▃▃▃▃▃▃▃▃▃▃▃▃▃▃▃▂▂</td></tr><tr><td>val_root_mean_squared_error</td><td>█▁▆▇▅▅▅▄▅▄▅▅▅▅▅▄▄▄▄▃▃▄▄▄▄▄▄▄▄▄▄▄▄▄▄▃▃▄▃▃</td></tr></table><br/></div><div class=\"wandb-col\">\n",
       "<h3>Run summary:</h3><br/><table class=\"wandb\"><tr><td>Mean Validation Loss (all folds)</td><td>6.28193</td></tr><tr><td>Mean Validation RMSE (all folds)</td><td>2.4416</td></tr><tr><td>best_epoch</td><td>13</td></tr><tr><td>best_val_loss</td><td>1.02349</td></tr><tr><td>epoch</td><td>499</td></tr><tr><td>loss</td><td>0.02912</td></tr><tr><td>root_mean_squared_error</td><td>0.17064</td></tr><tr><td>val_loss</td><td>4.33658</td></tr><tr><td>val_root_mean_squared_error</td><td>2.08244</td></tr></table>\n",
       "</div></div>\n",
       "Synced 5 W&B file(s), 0 media file(s), 0 artifact file(s) and 1 other file(s)\n",
       "<br/>Synced <strong style=\"color:#cdcd00\">vivid-sweep-8</strong>: <a href=\"https://wandb.ai/luiscostigan/house-price-prediction/runs/teb3rtei\" target=\"_blank\">https://wandb.ai/luiscostigan/house-price-prediction/runs/teb3rtei</a><br/>\n",
       "Find logs at: <code>./wandb/run-20220304_131156-teb3rtei/logs</code><br/>\n"
      ],
      "text/plain": [
       "<IPython.core.display.HTML object>"
      ]
     },
     "metadata": {},
     "output_type": "display_data"
    },
    {
     "name": "stderr",
     "output_type": "stream",
     "text": [
      "\u001b[34m\u001b[1mwandb\u001b[0m: Sweep Agent: Waiting for job.\n",
      "\u001b[34m\u001b[1mwandb\u001b[0m: Job received.\n",
      "\u001b[34m\u001b[1mwandb\u001b[0m: Agent Starting Run: z5s8l9w6 with config:\n",
      "\u001b[34m\u001b[1mwandb\u001b[0m: \tbatch_size: 128\n",
      "\u001b[34m\u001b[1mwandb\u001b[0m: \tdense1: 32\n",
      "\u001b[34m\u001b[1mwandb\u001b[0m: \tdense2: 16\n",
      "\u001b[34m\u001b[1mwandb\u001b[0m: \tdropout1: 0.1375763492456085\n",
      "\u001b[34m\u001b[1mwandb\u001b[0m: \tepochs: 500\n",
      "\u001b[34m\u001b[1mwandb\u001b[0m: wandb version 0.12.11 is available!  To upgrade, please run:\n",
      "\u001b[34m\u001b[1mwandb\u001b[0m:  $ pip install wandb --upgrade\n"
     ]
    },
    {
     "data": {
      "text/html": [
       "\n",
       "                    Syncing run <strong><a href=\"https://wandb.ai/luiscostigan/house-price-prediction/runs/z5s8l9w6\" target=\"_blank\">fanciful-sweep-9</a></strong> to <a href=\"https://wandb.ai/luiscostigan/house-price-prediction\" target=\"_blank\">Weights & Biases</a> (<a href=\"https://docs.wandb.com/integrations/jupyter.html\" target=\"_blank\">docs</a>).<br/>\n",
       "Sweep page: <a href=\"https://wandb.ai/luiscostigan/house-price-prediction/sweeps/hbftehhf\" target=\"_blank\">https://wandb.ai/luiscostigan/house-price-prediction/sweeps/hbftehhf</a><br/>\n",
       "\n",
       "                "
      ],
      "text/plain": [
       "<IPython.core.display.HTML object>"
      ]
     },
     "metadata": {},
     "output_type": "display_data"
    },
    {
     "name": "stdout",
     "output_type": "stream",
     "text": [
      "37/37 [==============================] - 0s 1ms/step - loss: 2.5315 - root_mean_squared_error: 1.5911\n",
      "Score for fold 1: loss of 2.531486988067627; root_mean_squared_error of 1.591064691543579\n",
      "------------------------------------------------------------------------\n",
      "Score per fold\n",
      "------------------------------------------------------------------------\n",
      "> Fold 1 - Loss: 2.531486988067627 - RMSE: 1.591064691543579%\n",
      "------------------------------------------------------------------------\n",
      "Average scores for all folds:\n",
      "> RMSE: 1.591064691543579 (+- 0.0)\n",
      "> Loss: 2.531486988067627\n",
      "------------------------------------------------------------------------\n"
     ]
    },
    {
     "data": {
      "text/html": [
       "<br/>Waiting for W&B process to finish, PID 16327... <strong style=\"color:green\">(success).</strong>"
      ],
      "text/plain": [
       "<IPython.core.display.HTML object>"
      ]
     },
     "metadata": {},
     "output_type": "display_data"
    },
    {
     "data": {
      "application/vnd.jupyter.widget-view+json": {
       "model_id": "e14e259394be4791a65813ad5345b07c",
       "version_major": 2,
       "version_minor": 0
      },
      "text/plain": [
       "VBox(children=(Label(value=' 0.13MB of 0.13MB uploaded (0.00MB deduped)\\r'), FloatProgress(value=1.0, max=1.0)…"
      ]
     },
     "metadata": {},
     "output_type": "display_data"
    },
    {
     "data": {
      "text/html": [
       "<style>\n",
       "    table.wandb td:nth-child(1) { padding: 0 10px; text-align: right }\n",
       "    .wandb-row { display: flex; flex-direction: row; flex-wrap: wrap; width: 100% }\n",
       "    .wandb-col { display: flex; flex-direction: column; flex-basis: 100%; flex: 1; padding: 10px; }\n",
       "    </style>\n",
       "<div class=\"wandb-row\"><div class=\"wandb-col\">\n",
       "<h3>Run history:</h3><br/><table class=\"wandb\"><tr><td>Mean Validation Loss (all folds)</td><td>▁</td></tr><tr><td>Mean Validation RMSE (all folds)</td><td>▁</td></tr><tr><td>epoch</td><td>▁▁▁▂▂▂▂▂▂▃▃▃▃▃▄▄▄▄▄▄▅▅▅▅▅▅▆▆▆▆▆▇▇▇▇▇▇███</td></tr><tr><td>loss</td><td>█▃▂▂▂▂▂▂▁▂▁▁▁▁▁▁▁▁▁▁▁▁▁▁▁▁▁▁▁▁▁▁▁▁▁▁▁▁▁▁</td></tr><tr><td>root_mean_squared_error</td><td>█▅▄▄▃▃▃▂▂▂▂▂▂▂▂▂▂▂▁▂▁▁▁▂▁▂▁▁▁▁▁▁▁▁▁▁▁▁▁▁</td></tr><tr><td>val_loss</td><td>▂▁▅▃▄▆▆█▄▇▃▄▆▆▄█▅▆▅▇▇██▇▇▆▅▇▅▇▅▄▄▇▆▅▅▅▇▅</td></tr><tr><td>val_root_mean_squared_error</td><td>▃▁▆▄▅▆▇█▆▇▄▅▇▇▅█▆▇▆██████▇▆▇▆▇▆▆▆█▇▆▆▆▇▆</td></tr></table><br/></div><div class=\"wandb-col\">\n",
       "<h3>Run summary:</h3><br/><table class=\"wandb\"><tr><td>Mean Validation Loss (all folds)</td><td>2.53149</td></tr><tr><td>Mean Validation RMSE (all folds)</td><td>1.59106</td></tr><tr><td>best_epoch</td><td>13</td></tr><tr><td>best_val_loss</td><td>0.07299</td></tr><tr><td>epoch</td><td>499</td></tr><tr><td>loss</td><td>0.08929</td></tr><tr><td>root_mean_squared_error</td><td>0.29881</td></tr><tr><td>val_loss</td><td>2.53149</td></tr><tr><td>val_root_mean_squared_error</td><td>1.59106</td></tr></table>\n",
       "</div></div>\n",
       "Synced 5 W&B file(s), 0 media file(s), 0 artifact file(s) and 1 other file(s)\n",
       "<br/>Synced <strong style=\"color:#cdcd00\">fanciful-sweep-9</strong>: <a href=\"https://wandb.ai/luiscostigan/house-price-prediction/runs/z5s8l9w6\" target=\"_blank\">https://wandb.ai/luiscostigan/house-price-prediction/runs/z5s8l9w6</a><br/>\n",
       "Find logs at: <code>./wandb/run-20220304_131254-z5s8l9w6/logs</code><br/>\n"
      ],
      "text/plain": [
       "<IPython.core.display.HTML object>"
      ]
     },
     "metadata": {},
     "output_type": "display_data"
    },
    {
     "name": "stderr",
     "output_type": "stream",
     "text": [
      "\u001b[34m\u001b[1mwandb\u001b[0m: wandb version 0.12.11 is available!  To upgrade, please run:\n",
      "\u001b[34m\u001b[1mwandb\u001b[0m:  $ pip install wandb --upgrade\n"
     ]
    },
    {
     "data": {
      "text/html": [
       "\n",
       "                    Syncing run <strong><a href=\"https://wandb.ai/luiscostigan/house-price-prediction/runs/z5s8l9w6\" target=\"_blank\">fanciful-sweep-9</a></strong> to <a href=\"https://wandb.ai/luiscostigan/house-price-prediction\" target=\"_blank\">Weights & Biases</a> (<a href=\"https://docs.wandb.com/integrations/jupyter.html\" target=\"_blank\">docs</a>).<br/>\n",
       "Sweep page: <a href=\"https://wandb.ai/luiscostigan/house-price-prediction/sweeps/hbftehhf\" target=\"_blank\">https://wandb.ai/luiscostigan/house-price-prediction/sweeps/hbftehhf</a><br/>\n",
       "\n",
       "                "
      ],
      "text/plain": [
       "<IPython.core.display.HTML object>"
      ]
     },
     "metadata": {},
     "output_type": "display_data"
    },
    {
     "name": "stdout",
     "output_type": "stream",
     "text": [
      "37/37 [==============================] - 0s 1ms/step - loss: 2.8812 - root_mean_squared_error: 1.6974\n",
      "Score for fold 2: loss of 2.8811771869659424; root_mean_squared_error of 1.697403073310852\n",
      "------------------------------------------------------------------------\n",
      "Score per fold\n",
      "------------------------------------------------------------------------\n",
      "> Fold 1 - Loss: 2.531486988067627 - RMSE: 1.591064691543579%\n",
      "------------------------------------------------------------------------\n",
      "> Fold 2 - Loss: 2.8811771869659424 - RMSE: 1.697403073310852%\n",
      "------------------------------------------------------------------------\n",
      "Average scores for all folds:\n",
      "> RMSE: 1.6442338824272156 (+- 0.053169190883636475)\n",
      "> Loss: 2.7063320875167847\n",
      "------------------------------------------------------------------------\n"
     ]
    },
    {
     "data": {
      "text/html": [
       "<br/>Waiting for W&B process to finish, PID 26333... <strong style=\"color:green\">(success).</strong>"
      ],
      "text/plain": [
       "<IPython.core.display.HTML object>"
      ]
     },
     "metadata": {},
     "output_type": "display_data"
    },
    {
     "data": {
      "application/vnd.jupyter.widget-view+json": {
       "model_id": "11ee8846c4f14b48860b45d843aed98b",
       "version_major": 2,
       "version_minor": 0
      },
      "text/plain": [
       "VBox(children=(Label(value=' 0.13MB of 0.13MB uploaded (0.00MB deduped)\\r'), FloatProgress(value=1.0, max=1.0)…"
      ]
     },
     "metadata": {},
     "output_type": "display_data"
    },
    {
     "data": {
      "text/html": [
       "<style>\n",
       "    table.wandb td:nth-child(1) { padding: 0 10px; text-align: right }\n",
       "    .wandb-row { display: flex; flex-direction: row; flex-wrap: wrap; width: 100% }\n",
       "    .wandb-col { display: flex; flex-direction: column; flex-basis: 100%; flex: 1; padding: 10px; }\n",
       "    </style>\n",
       "<div class=\"wandb-row\"><div class=\"wandb-col\">\n",
       "<h3>Run history:</h3><br/><table class=\"wandb\"><tr><td>Mean Validation Loss (all folds)</td><td>▁</td></tr><tr><td>Mean Validation RMSE (all folds)</td><td>▁</td></tr><tr><td>epoch</td><td>▁▁▁▂▂▂▂▂▂▃▃▃▃▃▄▄▄▄▄▄▅▅▅▅▅▅▆▆▆▆▆▇▇▇▇▇▇███</td></tr><tr><td>loss</td><td>█▃▃▃▃▂▂▂▂▂▂▂▁▂▁▁▁▁▁▁▁▁▁▁▁▁▁▁▁▁▁▁▁▁▁▁▁▁▁▁</td></tr><tr><td>root_mean_squared_error</td><td>█▅▅▄▄▄▃▃▃▃▃▃▂▂▂▂▂▂▂▂▂▁▁▁▁▁▁▁▁▁▁▁▁▁▁▁▁▁▁▁</td></tr><tr><td>val_loss</td><td>▂▂▁▂▁▁▃▃▂▃▃▅▄▄▅▅▅▅▆▅▅█▇█▇▇▄▇▅▅▄▅▇▄▆▇▅▅▅█</td></tr><tr><td>val_root_mean_squared_error</td><td>▃▃▂▃▁▂▄▄▃▄▄▆▅▅▆▆▆▆▇▆▆█▇█▇▇▅▇▆▆▅▆▇▅▇▇▆▆▆█</td></tr></table><br/></div><div class=\"wandb-col\">\n",
       "<h3>Run summary:</h3><br/><table class=\"wandb\"><tr><td>Mean Validation Loss (all folds)</td><td>2.70633</td></tr><tr><td>Mean Validation RMSE (all folds)</td><td>1.64423</td></tr><tr><td>best_epoch</td><td>62</td></tr><tr><td>best_val_loss</td><td>0.02979</td></tr><tr><td>epoch</td><td>499</td></tr><tr><td>loss</td><td>0.07658</td></tr><tr><td>root_mean_squared_error</td><td>0.27673</td></tr><tr><td>val_loss</td><td>2.88118</td></tr><tr><td>val_root_mean_squared_error</td><td>1.6974</td></tr></table>\n",
       "</div></div>\n",
       "Synced 5 W&B file(s), 0 media file(s), 0 artifact file(s) and 1 other file(s)\n",
       "<br/>Synced <strong style=\"color:#cdcd00\">fanciful-sweep-9</strong>: <a href=\"https://wandb.ai/luiscostigan/house-price-prediction/runs/z5s8l9w6\" target=\"_blank\">https://wandb.ai/luiscostigan/house-price-prediction/runs/z5s8l9w6</a><br/>\n",
       "Find logs at: <code>./wandb/run-20220304_131339-z5s8l9w6/logs</code><br/>\n"
      ],
      "text/plain": [
       "<IPython.core.display.HTML object>"
      ]
     },
     "metadata": {},
     "output_type": "display_data"
    },
    {
     "name": "stderr",
     "output_type": "stream",
     "text": [
      "\u001b[34m\u001b[1mwandb\u001b[0m: wandb version 0.12.11 is available!  To upgrade, please run:\n",
      "\u001b[34m\u001b[1mwandb\u001b[0m:  $ pip install wandb --upgrade\n"
     ]
    },
    {
     "data": {
      "text/html": [
       "\n",
       "                    Syncing run <strong><a href=\"https://wandb.ai/luiscostigan/house-price-prediction/runs/z5s8l9w6\" target=\"_blank\">fanciful-sweep-9</a></strong> to <a href=\"https://wandb.ai/luiscostigan/house-price-prediction\" target=\"_blank\">Weights & Biases</a> (<a href=\"https://docs.wandb.com/integrations/jupyter.html\" target=\"_blank\">docs</a>).<br/>\n",
       "Sweep page: <a href=\"https://wandb.ai/luiscostigan/house-price-prediction/sweeps/hbftehhf\" target=\"_blank\">https://wandb.ai/luiscostigan/house-price-prediction/sweeps/hbftehhf</a><br/>\n",
       "\n",
       "                "
      ],
      "text/plain": [
       "<IPython.core.display.HTML object>"
      ]
     },
     "metadata": {},
     "output_type": "display_data"
    },
    {
     "name": "stdout",
     "output_type": "stream",
     "text": [
      "37/37 [==============================] - 0s 1ms/step - loss: 2.0318 - root_mean_squared_error: 1.4254\n",
      "Score for fold 3: loss of 2.0317776203155518; root_mean_squared_error of 1.42540442943573\n",
      "------------------------------------------------------------------------\n",
      "Score per fold\n",
      "------------------------------------------------------------------------\n",
      "> Fold 1 - Loss: 2.531486988067627 - RMSE: 1.591064691543579%\n",
      "------------------------------------------------------------------------\n",
      "> Fold 2 - Loss: 2.8811771869659424 - RMSE: 1.697403073310852%\n",
      "------------------------------------------------------------------------\n",
      "> Fold 3 - Loss: 2.0317776203155518 - RMSE: 1.42540442943573%\n",
      "------------------------------------------------------------------------\n",
      "Average scores for all folds:\n",
      "> RMSE: 1.5712907314300537 (+- 0.1119198305079871)\n",
      "> Loss: 2.481480598449707\n",
      "------------------------------------------------------------------------\n"
     ]
    },
    {
     "data": {
      "text/html": [
       "<br/>Waiting for W&B process to finish, PID 3882... <strong style=\"color:green\">(success).</strong>"
      ],
      "text/plain": [
       "<IPython.core.display.HTML object>"
      ]
     },
     "metadata": {},
     "output_type": "display_data"
    },
    {
     "data": {
      "application/vnd.jupyter.widget-view+json": {
       "model_id": "4f6a812ad66247d986584cfae6fe2c53",
       "version_major": 2,
       "version_minor": 0
      },
      "text/plain": [
       "VBox(children=(Label(value=' 0.13MB of 0.13MB uploaded (0.00MB deduped)\\r'), FloatProgress(value=1.0, max=1.0)…"
      ]
     },
     "metadata": {},
     "output_type": "display_data"
    },
    {
     "data": {
      "text/html": [
       "<style>\n",
       "    table.wandb td:nth-child(1) { padding: 0 10px; text-align: right }\n",
       "    .wandb-row { display: flex; flex-direction: row; flex-wrap: wrap; width: 100% }\n",
       "    .wandb-col { display: flex; flex-direction: column; flex-basis: 100%; flex: 1; padding: 10px; }\n",
       "    </style>\n",
       "<div class=\"wandb-row\"><div class=\"wandb-col\">\n",
       "<h3>Run history:</h3><br/><table class=\"wandb\"><tr><td>Mean Validation Loss (all folds)</td><td>▁</td></tr><tr><td>Mean Validation RMSE (all folds)</td><td>▁</td></tr><tr><td>epoch</td><td>▁▁▁▂▂▂▂▂▂▃▃▃▃▃▄▄▄▄▄▄▅▅▅▅▅▅▆▆▆▆▆▇▇▇▇▇▇███</td></tr><tr><td>loss</td><td>█▄▄▃▃▃▃▂▂▂▂▂▂▁▁▁▁▁▁▁▁▁▁▁▁▁▁▁▁▁▁▁▁▁▁▁▁▁▁▁</td></tr><tr><td>root_mean_squared_error</td><td>█▆▅▅▄▄▄▄▃▃▃▃▃▂▂▂▂▁▂▁▁▁▁▂▁▁▁▁▁▁▁▁▁▁▁▁▁▁▁▁</td></tr><tr><td>val_loss</td><td>▂▁▂▁▁▁▂▂▃▂▃▄▃▃▅▄▆█▄▆▆▅█▆█▅▆▇▇▇▇▇▇▅▆▆▅▆▅▇</td></tr><tr><td>val_root_mean_squared_error</td><td>▄▁▃▁▁▂▃▃▄▃▄▆▅▄▆▅▇█▆▇▇▆█▇█▆▇█▇███▇▆▇▇▆▇▆▇</td></tr></table><br/></div><div class=\"wandb-col\">\n",
       "<h3>Run summary:</h3><br/><table class=\"wandb\"><tr><td>Mean Validation Loss (all folds)</td><td>2.48148</td></tr><tr><td>Mean Validation RMSE (all folds)</td><td>1.57129</td></tr><tr><td>best_epoch</td><td>87</td></tr><tr><td>best_val_loss</td><td>0.02542</td></tr><tr><td>epoch</td><td>499</td></tr><tr><td>loss</td><td>0.05778</td></tr><tr><td>root_mean_squared_error</td><td>0.24037</td></tr><tr><td>val_loss</td><td>2.03178</td></tr><tr><td>val_root_mean_squared_error</td><td>1.4254</td></tr></table>\n",
       "</div></div>\n",
       "Synced 5 W&B file(s), 0 media file(s), 0 artifact file(s) and 1 other file(s)\n",
       "<br/>Synced <strong style=\"color:#cdcd00\">fanciful-sweep-9</strong>: <a href=\"https://wandb.ai/luiscostigan/house-price-prediction/runs/z5s8l9w6\" target=\"_blank\">https://wandb.ai/luiscostigan/house-price-prediction/runs/z5s8l9w6</a><br/>\n",
       "Find logs at: <code>./wandb/run-20220304_131420-z5s8l9w6/logs</code><br/>\n"
      ],
      "text/plain": [
       "<IPython.core.display.HTML object>"
      ]
     },
     "metadata": {},
     "output_type": "display_data"
    },
    {
     "name": "stderr",
     "output_type": "stream",
     "text": [
      "\u001b[34m\u001b[1mwandb\u001b[0m: wandb version 0.12.11 is available!  To upgrade, please run:\n",
      "\u001b[34m\u001b[1mwandb\u001b[0m:  $ pip install wandb --upgrade\n"
     ]
    },
    {
     "data": {
      "text/html": [
       "\n",
       "                    Syncing run <strong><a href=\"https://wandb.ai/luiscostigan/house-price-prediction/runs/z5s8l9w6\" target=\"_blank\">fanciful-sweep-9</a></strong> to <a href=\"https://wandb.ai/luiscostigan/house-price-prediction\" target=\"_blank\">Weights & Biases</a> (<a href=\"https://docs.wandb.com/integrations/jupyter.html\" target=\"_blank\">docs</a>).<br/>\n",
       "Sweep page: <a href=\"https://wandb.ai/luiscostigan/house-price-prediction/sweeps/hbftehhf\" target=\"_blank\">https://wandb.ai/luiscostigan/house-price-prediction/sweeps/hbftehhf</a><br/>\n",
       "\n",
       "                "
      ],
      "text/plain": [
       "<IPython.core.display.HTML object>"
      ]
     },
     "metadata": {},
     "output_type": "display_data"
    },
    {
     "name": "stdout",
     "output_type": "stream",
     "text": [
      "37/37 [==============================] - 0s 1ms/step - loss: 2.9478 - root_mean_squared_error: 1.7169\n",
      "Score for fold 4: loss of 2.9477570056915283; root_mean_squared_error of 1.7169033288955688\n",
      "------------------------------------------------------------------------\n",
      "Score per fold\n",
      "------------------------------------------------------------------------\n",
      "> Fold 1 - Loss: 2.531486988067627 - RMSE: 1.591064691543579%\n",
      "------------------------------------------------------------------------\n",
      "> Fold 2 - Loss: 2.8811771869659424 - RMSE: 1.697403073310852%\n",
      "------------------------------------------------------------------------\n",
      "> Fold 3 - Loss: 2.0317776203155518 - RMSE: 1.42540442943573%\n",
      "------------------------------------------------------------------------\n",
      "> Fold 4 - Loss: 2.9477570056915283 - RMSE: 1.7169033288955688%\n",
      "------------------------------------------------------------------------\n",
      "Average scores for all folds:\n",
      "> RMSE: 1.6076938807964325 (+- 0.11562916672308536)\n",
      "> Loss: 2.5980497002601624\n",
      "------------------------------------------------------------------------\n"
     ]
    },
    {
     "data": {
      "text/html": [
       "<br/>Waiting for W&B process to finish, PID 13914... <strong style=\"color:green\">(success).</strong>"
      ],
      "text/plain": [
       "<IPython.core.display.HTML object>"
      ]
     },
     "metadata": {},
     "output_type": "display_data"
    },
    {
     "data": {
      "application/vnd.jupyter.widget-view+json": {
       "model_id": "fece9074a74249c2a8b21318749bee46",
       "version_major": 2,
       "version_minor": 0
      },
      "text/plain": [
       "VBox(children=(Label(value=' 0.13MB of 0.13MB uploaded (0.00MB deduped)\\r'), FloatProgress(value=1.0, max=1.0)…"
      ]
     },
     "metadata": {},
     "output_type": "display_data"
    },
    {
     "data": {
      "text/html": [
       "<style>\n",
       "    table.wandb td:nth-child(1) { padding: 0 10px; text-align: right }\n",
       "    .wandb-row { display: flex; flex-direction: row; flex-wrap: wrap; width: 100% }\n",
       "    .wandb-col { display: flex; flex-direction: column; flex-basis: 100%; flex: 1; padding: 10px; }\n",
       "    </style>\n",
       "<div class=\"wandb-row\"><div class=\"wandb-col\">\n",
       "<h3>Run history:</h3><br/><table class=\"wandb\"><tr><td>Mean Validation Loss (all folds)</td><td>▁</td></tr><tr><td>Mean Validation RMSE (all folds)</td><td>▁</td></tr><tr><td>epoch</td><td>▁▁▁▂▂▂▂▂▂▃▃▃▃▃▄▄▄▄▄▄▅▅▅▅▅▅▆▆▆▆▆▇▇▇▇▇▇███</td></tr><tr><td>loss</td><td>█▅▄▃▃▂▃▂▂▂▂▂▁▂▂▁▁▁▁▁▁▁▁▁▁▁▁▁▁▁▁▁▁▁▁▁▁▁▁▁</td></tr><tr><td>root_mean_squared_error</td><td>█▆▅▄▄▄▄▃▃▃▃▃▂▂▂▂▂▂▂▂▁▂▂▂▂▁▂▂▁▂▁▂▁▁▁▁▂▂▂▁</td></tr><tr><td>val_loss</td><td>▂▁▂▅▃▂▅▄▄▆▄▃█▇▅█▇▄▅▅▅▅▅▇▆▅▅▄▇▇▇▆▄█▆▄▄▅▆▇</td></tr><tr><td>val_root_mean_squared_error</td><td>▃▁▄▆▄▃▆▅▅▇▅▄█▇▆█▇▅▆▆▆▆▆▇▇▆▆▆▇▇▇▇▅█▇▅▅▆▇▇</td></tr></table><br/></div><div class=\"wandb-col\">\n",
       "<h3>Run summary:</h3><br/><table class=\"wandb\"><tr><td>Mean Validation Loss (all folds)</td><td>2.59805</td></tr><tr><td>Mean Validation RMSE (all folds)</td><td>1.60769</td></tr><tr><td>best_epoch</td><td>19</td></tr><tr><td>best_val_loss</td><td>0.06767</td></tr><tr><td>epoch</td><td>499</td></tr><tr><td>loss</td><td>0.07751</td></tr><tr><td>root_mean_squared_error</td><td>0.27841</td></tr><tr><td>val_loss</td><td>2.94776</td></tr><tr><td>val_root_mean_squared_error</td><td>1.7169</td></tr></table>\n",
       "</div></div>\n",
       "Synced 5 W&B file(s), 0 media file(s), 0 artifact file(s) and 1 other file(s)\n",
       "<br/>Synced <strong style=\"color:#cdcd00\">fanciful-sweep-9</strong>: <a href=\"https://wandb.ai/luiscostigan/house-price-prediction/runs/z5s8l9w6\" target=\"_blank\">https://wandb.ai/luiscostigan/house-price-prediction/runs/z5s8l9w6</a><br/>\n",
       "Find logs at: <code>./wandb/run-20220304_131502-z5s8l9w6/logs</code><br/>\n"
      ],
      "text/plain": [
       "<IPython.core.display.HTML object>"
      ]
     },
     "metadata": {},
     "output_type": "display_data"
    },
    {
     "name": "stderr",
     "output_type": "stream",
     "text": [
      "\u001b[34m\u001b[1mwandb\u001b[0m: wandb version 0.12.11 is available!  To upgrade, please run:\n",
      "\u001b[34m\u001b[1mwandb\u001b[0m:  $ pip install wandb --upgrade\n"
     ]
    },
    {
     "data": {
      "text/html": [
       "\n",
       "                    Syncing run <strong><a href=\"https://wandb.ai/luiscostigan/house-price-prediction/runs/z5s8l9w6\" target=\"_blank\">fanciful-sweep-9</a></strong> to <a href=\"https://wandb.ai/luiscostigan/house-price-prediction\" target=\"_blank\">Weights & Biases</a> (<a href=\"https://docs.wandb.com/integrations/jupyter.html\" target=\"_blank\">docs</a>).<br/>\n",
       "Sweep page: <a href=\"https://wandb.ai/luiscostigan/house-price-prediction/sweeps/hbftehhf\" target=\"_blank\">https://wandb.ai/luiscostigan/house-price-prediction/sweeps/hbftehhf</a><br/>\n",
       "\n",
       "                "
      ],
      "text/plain": [
       "<IPython.core.display.HTML object>"
      ]
     },
     "metadata": {},
     "output_type": "display_data"
    },
    {
     "name": "stdout",
     "output_type": "stream",
     "text": [
      "37/37 [==============================] - 0s 1ms/step - loss: 1.9103 - root_mean_squared_error: 1.3821\n",
      "Score for fold 5: loss of 1.9102869033813477; root_mean_squared_error of 1.3821313381195068\n",
      "------------------------------------------------------------------------\n",
      "Score per fold\n",
      "------------------------------------------------------------------------\n",
      "> Fold 1 - Loss: 2.531486988067627 - RMSE: 1.591064691543579%\n",
      "------------------------------------------------------------------------\n",
      "> Fold 2 - Loss: 2.8811771869659424 - RMSE: 1.697403073310852%\n",
      "------------------------------------------------------------------------\n",
      "> Fold 3 - Loss: 2.0317776203155518 - RMSE: 1.42540442943573%\n",
      "------------------------------------------------------------------------\n",
      "> Fold 4 - Loss: 2.9477570056915283 - RMSE: 1.7169033288955688%\n",
      "------------------------------------------------------------------------\n",
      "> Fold 5 - Loss: 1.9102869033813477 - RMSE: 1.3821313381195068%\n",
      "------------------------------------------------------------------------\n",
      "Average scores for all folds:\n",
      "> RMSE: 1.5625813722610473 (+- 0.1372466286036959)\n",
      "> Loss: 2.4604971408843994\n",
      "------------------------------------------------------------------------\n"
     ]
    },
    {
     "data": {
      "text/html": [
       "<br/>Waiting for W&B process to finish, PID 23889... <strong style=\"color:green\">(success).</strong>"
      ],
      "text/plain": [
       "<IPython.core.display.HTML object>"
      ]
     },
     "metadata": {},
     "output_type": "display_data"
    },
    {
     "data": {
      "application/vnd.jupyter.widget-view+json": {
       "model_id": "61ffd31e796245ab88f12e6c88334076",
       "version_major": 2,
       "version_minor": 0
      },
      "text/plain": [
       "VBox(children=(Label(value=' 0.13MB of 0.13MB uploaded (0.00MB deduped)\\r'), FloatProgress(value=1.0, max=1.0)…"
      ]
     },
     "metadata": {},
     "output_type": "display_data"
    },
    {
     "data": {
      "text/html": [
       "<style>\n",
       "    table.wandb td:nth-child(1) { padding: 0 10px; text-align: right }\n",
       "    .wandb-row { display: flex; flex-direction: row; flex-wrap: wrap; width: 100% }\n",
       "    .wandb-col { display: flex; flex-direction: column; flex-basis: 100%; flex: 1; padding: 10px; }\n",
       "    </style>\n",
       "<div class=\"wandb-row\"><div class=\"wandb-col\">\n",
       "<h3>Run history:</h3><br/><table class=\"wandb\"><tr><td>Mean Validation Loss (all folds)</td><td>▁</td></tr><tr><td>Mean Validation RMSE (all folds)</td><td>▁</td></tr><tr><td>epoch</td><td>▁▁▁▂▂▂▂▂▂▃▃▃▃▃▄▄▄▄▄▄▅▅▅▅▅▅▆▆▆▆▆▇▇▇▇▇▇███</td></tr><tr><td>loss</td><td>█▂▂▁▁▁▁▁▁▁▁▁▁▁▁▁▁▁▁▁▁▁▁▁▁▁▁▁▁▁▁▁▁▁▁▁▁▁▁▁</td></tr><tr><td>root_mean_squared_error</td><td>█▃▃▃▃▃▂▂▂▂▂▂▂▂▂▂▂▁▁▁▁▁▁▁▁▁▁▁▁▁▁▁▁▁▁▁▁▁▁▁</td></tr><tr><td>val_loss</td><td>█▂▂▂▁▁▁▁▁▂▂▂▁▁▂▂▃▅▄▃▄▄▃▄▄▅▄▅▃▅▅▅▅▆▃▅▃▅▅▄</td></tr><tr><td>val_root_mean_squared_error</td><td>█▄▃▃▂▂▁▂▂▄▃▃▁▂▃▃▄▆▆▅▅▅▄▅▅▆▆▆▅▆▆▆▆▇▅▆▅▆▆▅</td></tr></table><br/></div><div class=\"wandb-col\">\n",
       "<h3>Run summary:</h3><br/><table class=\"wandb\"><tr><td>Mean Validation Loss (all folds)</td><td>2.4605</td></tr><tr><td>Mean Validation RMSE (all folds)</td><td>1.56258</td></tr><tr><td>best_epoch</td><td>137</td></tr><tr><td>best_val_loss</td><td>0.02141</td></tr><tr><td>epoch</td><td>499</td></tr><tr><td>loss</td><td>0.0915</td></tr><tr><td>root_mean_squared_error</td><td>0.30248</td></tr><tr><td>val_loss</td><td>1.91029</td></tr><tr><td>val_root_mean_squared_error</td><td>1.38213</td></tr></table>\n",
       "</div></div>\n",
       "Synced 5 W&B file(s), 0 media file(s), 0 artifact file(s) and 1 other file(s)\n",
       "<br/>Synced <strong style=\"color:#cdcd00\">fanciful-sweep-9</strong>: <a href=\"https://wandb.ai/luiscostigan/house-price-prediction/runs/z5s8l9w6\" target=\"_blank\">https://wandb.ai/luiscostigan/house-price-prediction/runs/z5s8l9w6</a><br/>\n",
       "Find logs at: <code>./wandb/run-20220304_131544-z5s8l9w6/logs</code><br/>\n"
      ],
      "text/plain": [
       "<IPython.core.display.HTML object>"
      ]
     },
     "metadata": {},
     "output_type": "display_data"
    },
    {
     "name": "stderr",
     "output_type": "stream",
     "text": [
      "\u001b[34m\u001b[1mwandb\u001b[0m: Sweep Agent: Waiting for job.\n",
      "\u001b[34m\u001b[1mwandb\u001b[0m: Job received.\n",
      "\u001b[34m\u001b[1mwandb\u001b[0m: Agent Starting Run: ptyf4dv5 with config:\n",
      "\u001b[34m\u001b[1mwandb\u001b[0m: \tbatch_size: 8\n",
      "\u001b[34m\u001b[1mwandb\u001b[0m: \tdense1: 8\n",
      "\u001b[34m\u001b[1mwandb\u001b[0m: \tdense2: 16\n",
      "\u001b[34m\u001b[1mwandb\u001b[0m: \tdropout1: 0.057982939128334986\n",
      "\u001b[34m\u001b[1mwandb\u001b[0m: \tepochs: 500\n",
      "\u001b[34m\u001b[1mwandb\u001b[0m: wandb version 0.12.11 is available!  To upgrade, please run:\n",
      "\u001b[34m\u001b[1mwandb\u001b[0m:  $ pip install wandb --upgrade\n"
     ]
    },
    {
     "data": {
      "text/html": [
       "\n",
       "                    Syncing run <strong><a href=\"https://wandb.ai/luiscostigan/house-price-prediction/runs/ptyf4dv5\" target=\"_blank\">confused-sweep-10</a></strong> to <a href=\"https://wandb.ai/luiscostigan/house-price-prediction\" target=\"_blank\">Weights & Biases</a> (<a href=\"https://docs.wandb.com/integrations/jupyter.html\" target=\"_blank\">docs</a>).<br/>\n",
       "Sweep page: <a href=\"https://wandb.ai/luiscostigan/house-price-prediction/sweeps/hbftehhf\" target=\"_blank\">https://wandb.ai/luiscostigan/house-price-prediction/sweeps/hbftehhf</a><br/>\n",
       "\n",
       "                "
      ],
      "text/plain": [
       "<IPython.core.display.HTML object>"
      ]
     },
     "metadata": {},
     "output_type": "display_data"
    },
    {
     "name": "stdout",
     "output_type": "stream",
     "text": [
      "37/37 [==============================] - 0s 2ms/step - loss: 0.2243 - root_mean_squared_error: 0.4737\n",
      "Score for fold 1: loss of 0.22434547543525696; root_mean_squared_error of 0.4736512303352356\n",
      "------------------------------------------------------------------------\n",
      "Score per fold\n",
      "------------------------------------------------------------------------\n",
      "> Fold 1 - Loss: 0.22434547543525696 - RMSE: 0.4736512303352356%\n",
      "------------------------------------------------------------------------\n",
      "Average scores for all folds:\n",
      "> RMSE: 0.4736512303352356 (+- 0.0)\n",
      "> Loss: 0.22434547543525696\n",
      "------------------------------------------------------------------------\n"
     ]
    },
    {
     "data": {
      "text/html": [
       "<br/>Waiting for W&B process to finish, PID 1503... <strong style=\"color:green\">(success).</strong>"
      ],
      "text/plain": [
       "<IPython.core.display.HTML object>"
      ]
     },
     "metadata": {},
     "output_type": "display_data"
    },
    {
     "data": {
      "application/vnd.jupyter.widget-view+json": {
       "model_id": "5dcb86de789448abb8b237f9a33f6825",
       "version_major": 2,
       "version_minor": 0
      },
      "text/plain": [
       "VBox(children=(Label(value=' 0.12MB of 0.12MB uploaded (0.00MB deduped)\\r'), FloatProgress(value=1.0, max=1.0)…"
      ]
     },
     "metadata": {},
     "output_type": "display_data"
    },
    {
     "data": {
      "text/html": [
       "<style>\n",
       "    table.wandb td:nth-child(1) { padding: 0 10px; text-align: right }\n",
       "    .wandb-row { display: flex; flex-direction: row; flex-wrap: wrap; width: 100% }\n",
       "    .wandb-col { display: flex; flex-direction: column; flex-basis: 100%; flex: 1; padding: 10px; }\n",
       "    </style>\n",
       "<div class=\"wandb-row\"><div class=\"wandb-col\">\n",
       "<h3>Run history:</h3><br/><table class=\"wandb\"><tr><td>Mean Validation Loss (all folds)</td><td>▁</td></tr><tr><td>Mean Validation RMSE (all folds)</td><td>▁</td></tr><tr><td>epoch</td><td>▁▁▁▂▂▂▂▂▂▃▃▃▃▃▄▄▄▄▄▄▅▅▅▅▅▅▆▆▆▆▆▇▇▇▇▇▇███</td></tr><tr><td>loss</td><td>█▂▂▁▁▁▁▁▁▁▁▁▁▁▁▁▁▁▁▁▁▁▁▁▁▁▁▁▁▁▁▁▁▁▁▁▁▁▁▁</td></tr><tr><td>root_mean_squared_error</td><td>█▄▃▂▂▂▂▂▁▁▁▁▁▁▁▂▁▂▁▁▂▁▁▂▁▁▁▁▁▂▁▁▁▁▁▁▁▁▁▁</td></tr><tr><td>val_loss</td><td>▄█▁▂▃▄▃▁▂▃▂▄▂▃▃▃▃▂▂▃▂▃▂▄▃▃▃▃▃▂▂▃▄▂▁▂▃▁▂▁</td></tr><tr><td>val_root_mean_squared_error</td><td>▅█▁▂▃▅▄▂▂▄▃▄▂▄▄▄▃▂▃▃▂▃▃▅▃▄▃▄▄▃▂▄▄▂▂▂▄▂▃▁</td></tr></table><br/></div><div class=\"wandb-col\">\n",
       "<h3>Run summary:</h3><br/><table class=\"wandb\"><tr><td>Mean Validation Loss (all folds)</td><td>0.22435</td></tr><tr><td>Mean Validation RMSE (all folds)</td><td>0.47365</td></tr><tr><td>best_epoch</td><td>451</td></tr><tr><td>best_val_loss</td><td>0.11191</td></tr><tr><td>epoch</td><td>499</td></tr><tr><td>loss</td><td>0.0067</td></tr><tr><td>root_mean_squared_error</td><td>0.08184</td></tr><tr><td>val_loss</td><td>0.22435</td></tr><tr><td>val_root_mean_squared_error</td><td>0.47365</td></tr></table>\n",
       "</div></div>\n",
       "Synced 5 W&B file(s), 0 media file(s), 0 artifact file(s) and 1 other file(s)\n",
       "<br/>Synced <strong style=\"color:#cdcd00\">confused-sweep-10</strong>: <a href=\"https://wandb.ai/luiscostigan/house-price-prediction/runs/ptyf4dv5\" target=\"_blank\">https://wandb.ai/luiscostigan/house-price-prediction/runs/ptyf4dv5</a><br/>\n",
       "Find logs at: <code>./wandb/run-20220304_131636-ptyf4dv5/logs</code><br/>\n"
      ],
      "text/plain": [
       "<IPython.core.display.HTML object>"
      ]
     },
     "metadata": {},
     "output_type": "display_data"
    },
    {
     "name": "stderr",
     "output_type": "stream",
     "text": [
      "\u001b[34m\u001b[1mwandb\u001b[0m: wandb version 0.12.11 is available!  To upgrade, please run:\n",
      "\u001b[34m\u001b[1mwandb\u001b[0m:  $ pip install wandb --upgrade\n"
     ]
    },
    {
     "data": {
      "text/html": [
       "\n",
       "                    Syncing run <strong><a href=\"https://wandb.ai/luiscostigan/house-price-prediction/runs/ptyf4dv5\" target=\"_blank\">confused-sweep-10</a></strong> to <a href=\"https://wandb.ai/luiscostigan/house-price-prediction\" target=\"_blank\">Weights & Biases</a> (<a href=\"https://docs.wandb.com/integrations/jupyter.html\" target=\"_blank\">docs</a>).<br/>\n",
       "Sweep page: <a href=\"https://wandb.ai/luiscostigan/house-price-prediction/sweeps/hbftehhf\" target=\"_blank\">https://wandb.ai/luiscostigan/house-price-prediction/sweeps/hbftehhf</a><br/>\n",
       "\n",
       "                "
      ],
      "text/plain": [
       "<IPython.core.display.HTML object>"
      ]
     },
     "metadata": {},
     "output_type": "display_data"
    },
    {
     "name": "stdout",
     "output_type": "stream",
     "text": [
      "37/37 [==============================] - 0s 2ms/step - loss: 0.3777 - root_mean_squared_error: 0.6145\n",
      "Score for fold 2: loss of 0.37766700983047485; root_mean_squared_error of 0.6145461797714233\n",
      "------------------------------------------------------------------------\n",
      "Score per fold\n",
      "------------------------------------------------------------------------\n",
      "> Fold 1 - Loss: 0.22434547543525696 - RMSE: 0.4736512303352356%\n",
      "------------------------------------------------------------------------\n",
      "> Fold 2 - Loss: 0.37766700983047485 - RMSE: 0.6145461797714233%\n",
      "------------------------------------------------------------------------\n",
      "Average scores for all folds:\n",
      "> RMSE: 0.5440987050533295 (+- 0.07044747471809387)\n",
      "> Loss: 0.3010062426328659\n",
      "------------------------------------------------------------------------\n"
     ]
    },
    {
     "data": {
      "text/html": [
       "<br/>Waiting for W&B process to finish, PID 12631... <strong style=\"color:green\">(success).</strong>"
      ],
      "text/plain": [
       "<IPython.core.display.HTML object>"
      ]
     },
     "metadata": {},
     "output_type": "display_data"
    },
    {
     "data": {
      "application/vnd.jupyter.widget-view+json": {
       "model_id": "fe80f2fcf78b4f9b9a3f44087669554b",
       "version_major": 2,
       "version_minor": 0
      },
      "text/plain": [
       "VBox(children=(Label(value=' 0.12MB of 0.12MB uploaded (0.00MB deduped)\\r'), FloatProgress(value=1.0, max=1.0)…"
      ]
     },
     "metadata": {},
     "output_type": "display_data"
    },
    {
     "data": {
      "text/html": [
       "<style>\n",
       "    table.wandb td:nth-child(1) { padding: 0 10px; text-align: right }\n",
       "    .wandb-row { display: flex; flex-direction: row; flex-wrap: wrap; width: 100% }\n",
       "    .wandb-col { display: flex; flex-direction: column; flex-basis: 100%; flex: 1; padding: 10px; }\n",
       "    </style>\n",
       "<div class=\"wandb-row\"><div class=\"wandb-col\">\n",
       "<h3>Run history:</h3><br/><table class=\"wandb\"><tr><td>Mean Validation Loss (all folds)</td><td>▁</td></tr><tr><td>Mean Validation RMSE (all folds)</td><td>▁</td></tr><tr><td>epoch</td><td>▁▁▁▂▂▂▂▂▂▃▃▃▃▃▄▄▄▄▄▄▅▅▅▅▅▅▆▆▆▆▆▇▇▇▇▇▇███</td></tr><tr><td>loss</td><td>█▂▁▁▁▁▂▁▁▁▁▁▁▁▁▁▁▁▁▁▁▁▁▁▁▁▁▁▁▁▁▁▁▁▁▁▁▁▁▁</td></tr><tr><td>root_mean_squared_error</td><td>█▂▂▂▂▁▃▁▁▁▁▁▂▁▁▁▁▁▁▁▁▁▁▁▂▁▁▂▁▁▁▁▁▁▁▁▁▁▁▁</td></tr><tr><td>val_loss</td><td>▃▄▃▁▄█▄▂▇▃▄▅▃▂▄▆▂▅▆▃▅▂▅▂▆▄▆▂▁▄▆▃▁▂▃▄▂▄▂▂</td></tr><tr><td>val_root_mean_squared_error</td><td>▄▄▄▁▅█▅▂▇▃▅▆▃▂▄▆▃▅▇▃▅▃▅▃▆▄▆▂▁▅▆▄▂▂▃▄▂▅▂▂</td></tr></table><br/></div><div class=\"wandb-col\">\n",
       "<h3>Run summary:</h3><br/><table class=\"wandb\"><tr><td>Mean Validation Loss (all folds)</td><td>0.30101</td></tr><tr><td>Mean Validation RMSE (all folds)</td><td>0.5441</td></tr><tr><td>best_epoch</td><td>184</td></tr><tr><td>best_val_loss</td><td>0.10905</td></tr><tr><td>epoch</td><td>499</td></tr><tr><td>loss</td><td>0.00955</td></tr><tr><td>root_mean_squared_error</td><td>0.09771</td></tr><tr><td>val_loss</td><td>0.37767</td></tr><tr><td>val_root_mean_squared_error</td><td>0.61455</td></tr></table>\n",
       "</div></div>\n",
       "Synced 5 W&B file(s), 0 media file(s), 0 artifact file(s) and 1 other file(s)\n",
       "<br/>Synced <strong style=\"color:#cdcd00\">confused-sweep-10</strong>: <a href=\"https://wandb.ai/luiscostigan/house-price-prediction/runs/ptyf4dv5\" target=\"_blank\">https://wandb.ai/luiscostigan/house-price-prediction/runs/ptyf4dv5</a><br/>\n",
       "Find logs at: <code>./wandb/run-20220304_131927-ptyf4dv5/logs</code><br/>\n"
      ],
      "text/plain": [
       "<IPython.core.display.HTML object>"
      ]
     },
     "metadata": {},
     "output_type": "display_data"
    },
    {
     "name": "stderr",
     "output_type": "stream",
     "text": [
      "\u001b[34m\u001b[1mwandb\u001b[0m: wandb version 0.12.11 is available!  To upgrade, please run:\n",
      "\u001b[34m\u001b[1mwandb\u001b[0m:  $ pip install wandb --upgrade\n"
     ]
    },
    {
     "data": {
      "text/html": [
       "\n",
       "                    Syncing run <strong><a href=\"https://wandb.ai/luiscostigan/house-price-prediction/runs/ptyf4dv5\" target=\"_blank\">confused-sweep-10</a></strong> to <a href=\"https://wandb.ai/luiscostigan/house-price-prediction\" target=\"_blank\">Weights & Biases</a> (<a href=\"https://docs.wandb.com/integrations/jupyter.html\" target=\"_blank\">docs</a>).<br/>\n",
       "Sweep page: <a href=\"https://wandb.ai/luiscostigan/house-price-prediction/sweeps/hbftehhf\" target=\"_blank\">https://wandb.ai/luiscostigan/house-price-prediction/sweeps/hbftehhf</a><br/>\n",
       "\n",
       "                "
      ],
      "text/plain": [
       "<IPython.core.display.HTML object>"
      ]
     },
     "metadata": {},
     "output_type": "display_data"
    },
    {
     "name": "stdout",
     "output_type": "stream",
     "text": [
      "37/37 [==============================] - 0s 2ms/step - loss: 0.2018 - root_mean_squared_error: 0.4492\n",
      "Score for fold 3: loss of 0.20175801217556; root_mean_squared_error of 0.44917482137680054\n",
      "------------------------------------------------------------------------\n",
      "Score per fold\n",
      "------------------------------------------------------------------------\n",
      "> Fold 1 - Loss: 0.22434547543525696 - RMSE: 0.4736512303352356%\n",
      "------------------------------------------------------------------------\n",
      "> Fold 2 - Loss: 0.37766700983047485 - RMSE: 0.6145461797714233%\n",
      "------------------------------------------------------------------------\n",
      "> Fold 3 - Loss: 0.20175801217556 - RMSE: 0.44917482137680054%\n",
      "------------------------------------------------------------------------\n",
      "Average scores for all folds:\n",
      "> RMSE: 0.5124574104944865 (+- 0.07287597344454423)\n",
      "> Loss: 0.2679234991470973\n",
      "------------------------------------------------------------------------\n"
     ]
    },
    {
     "data": {
      "text/html": [
       "<br/>Waiting for W&B process to finish, PID 23730... <strong style=\"color:green\">(success).</strong>"
      ],
      "text/plain": [
       "<IPython.core.display.HTML object>"
      ]
     },
     "metadata": {},
     "output_type": "display_data"
    },
    {
     "data": {
      "application/vnd.jupyter.widget-view+json": {
       "model_id": "260ae7eae3ee47038a8072f18a5a1696",
       "version_major": 2,
       "version_minor": 0
      },
      "text/plain": [
       "VBox(children=(Label(value=' 0.12MB of 0.12MB uploaded (0.00MB deduped)\\r'), FloatProgress(value=1.0, max=1.0)…"
      ]
     },
     "metadata": {},
     "output_type": "display_data"
    },
    {
     "data": {
      "text/html": [
       "<style>\n",
       "    table.wandb td:nth-child(1) { padding: 0 10px; text-align: right }\n",
       "    .wandb-row { display: flex; flex-direction: row; flex-wrap: wrap; width: 100% }\n",
       "    .wandb-col { display: flex; flex-direction: column; flex-basis: 100%; flex: 1; padding: 10px; }\n",
       "    </style>\n",
       "<div class=\"wandb-row\"><div class=\"wandb-col\">\n",
       "<h3>Run history:</h3><br/><table class=\"wandb\"><tr><td>Mean Validation Loss (all folds)</td><td>▁</td></tr><tr><td>Mean Validation RMSE (all folds)</td><td>▁</td></tr><tr><td>epoch</td><td>▁▁▁▂▂▂▂▂▂▃▃▃▃▃▄▄▄▄▄▄▅▅▅▅▅▅▆▆▆▆▆▇▇▇▇▇▇███</td></tr><tr><td>loss</td><td>█▂▂▁▁▁▁▁▁▁▁▁▁▁▁▁▁▁▁▁▁▁▁▁▁▁▁▁▁▁▁▁▁▁▁▁▁▁▁▁</td></tr><tr><td>root_mean_squared_error</td><td>█▃▃▂▂▂▂▂▂▂▂▁▁▁▂▁▁▁▁▁▁▁▁▂▁▁▁▁▁▁▁▁▁▁▁▁▁▁▁▁</td></tr><tr><td>val_loss</td><td>▅▇▄▇▄▃▄▃▄▁▄▄▃▄▂▂▂▄▄▃█▃▅▃▂▅▃▃▃▂▂▂▂▁▄▂▁▃▂▅</td></tr><tr><td>val_root_mean_squared_error</td><td>▆▇▅▇▅▃▄▃▅▁▅▅▄▅▂▃▃▅▄▄█▄▆▄▂▆▃▄▄▂▂▃▃▂▅▃▁▃▂▅</td></tr></table><br/></div><div class=\"wandb-col\">\n",
       "<h3>Run summary:</h3><br/><table class=\"wandb\"><tr><td>Mean Validation Loss (all folds)</td><td>0.26792</td></tr><tr><td>Mean Validation RMSE (all folds)</td><td>0.51246</td></tr><tr><td>best_epoch</td><td>14</td></tr><tr><td>best_val_loss</td><td>0.07357</td></tr><tr><td>epoch</td><td>499</td></tr><tr><td>loss</td><td>0.02305</td></tr><tr><td>root_mean_squared_error</td><td>0.15184</td></tr><tr><td>val_loss</td><td>0.20176</td></tr><tr><td>val_root_mean_squared_error</td><td>0.44917</td></tr></table>\n",
       "</div></div>\n",
       "Synced 5 W&B file(s), 0 media file(s), 0 artifact file(s) and 1 other file(s)\n",
       "<br/>Synced <strong style=\"color:#cdcd00\">confused-sweep-10</strong>: <a href=\"https://wandb.ai/luiscostigan/house-price-prediction/runs/ptyf4dv5\" target=\"_blank\">https://wandb.ai/luiscostigan/house-price-prediction/runs/ptyf4dv5</a><br/>\n",
       "Find logs at: <code>./wandb/run-20220304_132215-ptyf4dv5/logs</code><br/>\n"
      ],
      "text/plain": [
       "<IPython.core.display.HTML object>"
      ]
     },
     "metadata": {},
     "output_type": "display_data"
    },
    {
     "name": "stderr",
     "output_type": "stream",
     "text": [
      "\u001b[34m\u001b[1mwandb\u001b[0m: wandb version 0.12.11 is available!  To upgrade, please run:\n",
      "\u001b[34m\u001b[1mwandb\u001b[0m:  $ pip install wandb --upgrade\n"
     ]
    },
    {
     "data": {
      "text/html": [
       "\n",
       "                    Syncing run <strong><a href=\"https://wandb.ai/luiscostigan/house-price-prediction/runs/ptyf4dv5\" target=\"_blank\">confused-sweep-10</a></strong> to <a href=\"https://wandb.ai/luiscostigan/house-price-prediction\" target=\"_blank\">Weights & Biases</a> (<a href=\"https://docs.wandb.com/integrations/jupyter.html\" target=\"_blank\">docs</a>).<br/>\n",
       "Sweep page: <a href=\"https://wandb.ai/luiscostigan/house-price-prediction/sweeps/hbftehhf\" target=\"_blank\">https://wandb.ai/luiscostigan/house-price-prediction/sweeps/hbftehhf</a><br/>\n",
       "\n",
       "                "
      ],
      "text/plain": [
       "<IPython.core.display.HTML object>"
      ]
     },
     "metadata": {},
     "output_type": "display_data"
    },
    {
     "name": "stdout",
     "output_type": "stream",
     "text": [
      "37/37 [==============================] - 0s 3ms/step - loss: 0.1873 - root_mean_squared_error: 0.4328\n",
      "Score for fold 4: loss of 0.18733622133731842; root_mean_squared_error of 0.4328235387802124\n",
      "------------------------------------------------------------------------\n",
      "Score per fold\n",
      "------------------------------------------------------------------------\n",
      "> Fold 1 - Loss: 0.22434547543525696 - RMSE: 0.4736512303352356%\n",
      "------------------------------------------------------------------------\n",
      "> Fold 2 - Loss: 0.37766700983047485 - RMSE: 0.6145461797714233%\n",
      "------------------------------------------------------------------------\n",
      "> Fold 3 - Loss: 0.20175801217556 - RMSE: 0.44917482137680054%\n",
      "------------------------------------------------------------------------\n",
      "> Fold 4 - Loss: 0.18733622133731842 - RMSE: 0.4328235387802124%\n",
      "------------------------------------------------------------------------\n",
      "Average scores for all folds:\n",
      "> RMSE: 0.49254894256591797 (+- 0.0719181612314022)\n",
      "> Loss: 0.24777667969465256\n",
      "------------------------------------------------------------------------\n"
     ]
    },
    {
     "data": {
      "text/html": [
       "<br/>Waiting for W&B process to finish, PID 2332... <strong style=\"color:green\">(success).</strong>"
      ],
      "text/plain": [
       "<IPython.core.display.HTML object>"
      ]
     },
     "metadata": {},
     "output_type": "display_data"
    },
    {
     "data": {
      "application/vnd.jupyter.widget-view+json": {
       "model_id": "543154849b2d4a1ebf6aa347a323e225",
       "version_major": 2,
       "version_minor": 0
      },
      "text/plain": [
       "VBox(children=(Label(value=' 0.12MB of 0.12MB uploaded (0.00MB deduped)\\r'), FloatProgress(value=1.0, max=1.0)…"
      ]
     },
     "metadata": {},
     "output_type": "display_data"
    },
    {
     "data": {
      "text/html": [
       "<style>\n",
       "    table.wandb td:nth-child(1) { padding: 0 10px; text-align: right }\n",
       "    .wandb-row { display: flex; flex-direction: row; flex-wrap: wrap; width: 100% }\n",
       "    .wandb-col { display: flex; flex-direction: column; flex-basis: 100%; flex: 1; padding: 10px; }\n",
       "    </style>\n",
       "<div class=\"wandb-row\"><div class=\"wandb-col\">\n",
       "<h3>Run history:</h3><br/><table class=\"wandb\"><tr><td>Mean Validation Loss (all folds)</td><td>▁</td></tr><tr><td>Mean Validation RMSE (all folds)</td><td>▁</td></tr><tr><td>epoch</td><td>▁▁▁▂▂▂▂▂▂▃▃▃▃▃▄▄▄▄▄▄▅▅▅▅▅▅▆▆▆▆▆▇▇▇▇▇▇███</td></tr><tr><td>loss</td><td>██▇▄▁▃▂▂▁▁▁▁▁▁▁▁▁▁▁▁▁▁▁▁▁▁▁▁▁▁▁▁▁▁▁▁▁▁▁▁</td></tr><tr><td>root_mean_squared_error</td><td>██▇▆▂▅▃▂▂▁▁▁▁▁▁▁▁▁▁▁▁▁▁▁▁▁▁▁▁▁▁▁▁▁▁▁▁▁▁▁</td></tr><tr><td>val_loss</td><td>▃▇█▄▄▃▂▂▁▄▂▁▂▃▄▅▂▃▁▂▃▅▂▃▄▄▁▃▁▂▄▃▃▂▃▃▂▁▃▃</td></tr><tr><td>val_root_mean_squared_error</td><td>▄▇█▄▅▃▃▂▁▄▂▂▂▄▄▆▂▃▁▂▄▅▃▃▅▅▁▄▁▃▅▄▄▂▄▄▃▁▄▄</td></tr></table><br/></div><div class=\"wandb-col\">\n",
       "<h3>Run summary:</h3><br/><table class=\"wandb\"><tr><td>Mean Validation Loss (all folds)</td><td>0.24778</td></tr><tr><td>Mean Validation RMSE (all folds)</td><td>0.49255</td></tr><tr><td>best_epoch</td><td>472</td></tr><tr><td>best_val_loss</td><td>0.07839</td></tr><tr><td>epoch</td><td>499</td></tr><tr><td>loss</td><td>0.00719</td></tr><tr><td>root_mean_squared_error</td><td>0.08479</td></tr><tr><td>val_loss</td><td>0.18734</td></tr><tr><td>val_root_mean_squared_error</td><td>0.43282</td></tr></table>\n",
       "</div></div>\n",
       "Synced 5 W&B file(s), 0 media file(s), 0 artifact file(s) and 1 other file(s)\n",
       "<br/>Synced <strong style=\"color:#cdcd00\">confused-sweep-10</strong>: <a href=\"https://wandb.ai/luiscostigan/house-price-prediction/runs/ptyf4dv5\" target=\"_blank\">https://wandb.ai/luiscostigan/house-price-prediction/runs/ptyf4dv5</a><br/>\n",
       "Find logs at: <code>./wandb/run-20220304_132501-ptyf4dv5/logs</code><br/>\n"
      ],
      "text/plain": [
       "<IPython.core.display.HTML object>"
      ]
     },
     "metadata": {},
     "output_type": "display_data"
    },
    {
     "name": "stderr",
     "output_type": "stream",
     "text": [
      "\u001b[34m\u001b[1mwandb\u001b[0m: wandb version 0.12.11 is available!  To upgrade, please run:\n",
      "\u001b[34m\u001b[1mwandb\u001b[0m:  $ pip install wandb --upgrade\n"
     ]
    },
    {
     "data": {
      "text/html": [
       "\n",
       "                    Syncing run <strong><a href=\"https://wandb.ai/luiscostigan/house-price-prediction/runs/ptyf4dv5\" target=\"_blank\">confused-sweep-10</a></strong> to <a href=\"https://wandb.ai/luiscostigan/house-price-prediction\" target=\"_blank\">Weights & Biases</a> (<a href=\"https://docs.wandb.com/integrations/jupyter.html\" target=\"_blank\">docs</a>).<br/>\n",
       "Sweep page: <a href=\"https://wandb.ai/luiscostigan/house-price-prediction/sweeps/hbftehhf\" target=\"_blank\">https://wandb.ai/luiscostigan/house-price-prediction/sweeps/hbftehhf</a><br/>\n",
       "\n",
       "                "
      ],
      "text/plain": [
       "<IPython.core.display.HTML object>"
      ]
     },
     "metadata": {},
     "output_type": "display_data"
    },
    {
     "name": "stdout",
     "output_type": "stream",
     "text": [
      "37/37 [==============================] - 0s 2ms/step - loss: 0.3060 - root_mean_squared_error: 0.5532\n",
      "Score for fold 5: loss of 0.3060009181499481; root_mean_squared_error of 0.5531734824180603\n",
      "------------------------------------------------------------------------\n",
      "Score per fold\n",
      "------------------------------------------------------------------------\n",
      "> Fold 1 - Loss: 0.22434547543525696 - RMSE: 0.4736512303352356%\n",
      "------------------------------------------------------------------------\n",
      "> Fold 2 - Loss: 0.37766700983047485 - RMSE: 0.6145461797714233%\n",
      "------------------------------------------------------------------------\n",
      "> Fold 3 - Loss: 0.20175801217556 - RMSE: 0.44917482137680054%\n",
      "------------------------------------------------------------------------\n",
      "> Fold 4 - Loss: 0.18733622133731842 - RMSE: 0.4328235387802124%\n",
      "------------------------------------------------------------------------\n",
      "> Fold 5 - Loss: 0.3060009181499481 - RMSE: 0.5531734824180603%\n",
      "------------------------------------------------------------------------\n",
      "Average scores for all folds:\n",
      "> RMSE: 0.5046738505363464 (+- 0.06874468055850001)\n",
      "> Loss: 0.25942152738571167\n",
      "------------------------------------------------------------------------\n"
     ]
    },
    {
     "data": {
      "text/html": [
       "<br/>Waiting for W&B process to finish, PID 13482... <strong style=\"color:green\">(success).</strong>"
      ],
      "text/plain": [
       "<IPython.core.display.HTML object>"
      ]
     },
     "metadata": {},
     "output_type": "display_data"
    },
    {
     "data": {
      "application/vnd.jupyter.widget-view+json": {
       "model_id": "d7b9ee40e03f48c78c4da86dc2455bd8",
       "version_major": 2,
       "version_minor": 0
      },
      "text/plain": [
       "VBox(children=(Label(value=' 0.12MB of 0.12MB uploaded (0.00MB deduped)\\r'), FloatProgress(value=1.0, max=1.0)…"
      ]
     },
     "metadata": {},
     "output_type": "display_data"
    },
    {
     "data": {
      "text/html": [
       "<style>\n",
       "    table.wandb td:nth-child(1) { padding: 0 10px; text-align: right }\n",
       "    .wandb-row { display: flex; flex-direction: row; flex-wrap: wrap; width: 100% }\n",
       "    .wandb-col { display: flex; flex-direction: column; flex-basis: 100%; flex: 1; padding: 10px; }\n",
       "    </style>\n",
       "<div class=\"wandb-row\"><div class=\"wandb-col\">\n",
       "<h3>Run history:</h3><br/><table class=\"wandb\"><tr><td>Mean Validation Loss (all folds)</td><td>▁</td></tr><tr><td>Mean Validation RMSE (all folds)</td><td>▁</td></tr><tr><td>epoch</td><td>▁▁▁▂▂▂▂▂▂▃▃▃▃▃▄▄▄▄▄▄▅▅▅▅▅▅▆▆▆▆▆▇▇▇▇▇▇███</td></tr><tr><td>loss</td><td>█▂▁▂▁▁▁▁▁▁▁▁▁▁▁▁▁▁▁▁▁▁▁▁▁▁▁▁▁▁▁▁▁▁▁▁▁▁▁▁</td></tr><tr><td>root_mean_squared_error</td><td>█▃▂▂▂▂▂▂▂▂▁▁▂▂▁▁▁▁▁▁▁▁▁▁▁▁▁▁▁▁▁▁▁▁▁▁▁▁▁▁</td></tr><tr><td>val_loss</td><td>▁█▅▁█▃▂▇▄▃▄▅█▄█▇▇▃▂▆▅▃▁▅▃▃▃▂▄▃▃▂▄▃▃▃▂▄▆▆</td></tr><tr><td>val_root_mean_squared_error</td><td>▁█▅▁█▃▃▇▅▄▄▅█▄█▇█▄▃▇▆▄▂▅▃▄▃▂▅▄▄▂▄▃▃▄▂▅▆▇</td></tr></table><br/></div><div class=\"wandb-col\">\n",
       "<h3>Run summary:</h3><br/><table class=\"wandb\"><tr><td>Mean Validation Loss (all folds)</td><td>0.25942</td></tr><tr><td>Mean Validation RMSE (all folds)</td><td>0.50467</td></tr><tr><td>best_epoch</td><td>108</td></tr><tr><td>best_val_loss</td><td>0.08571</td></tr><tr><td>epoch</td><td>499</td></tr><tr><td>loss</td><td>0.01453</td></tr><tr><td>root_mean_squared_error</td><td>0.12052</td></tr><tr><td>val_loss</td><td>0.306</td></tr><tr><td>val_root_mean_squared_error</td><td>0.55317</td></tr></table>\n",
       "</div></div>\n",
       "Synced 5 W&B file(s), 0 media file(s), 0 artifact file(s) and 1 other file(s)\n",
       "<br/>Synced <strong style=\"color:#cdcd00\">confused-sweep-10</strong>: <a href=\"https://wandb.ai/luiscostigan/house-price-prediction/runs/ptyf4dv5\" target=\"_blank\">https://wandb.ai/luiscostigan/house-price-prediction/runs/ptyf4dv5</a><br/>\n",
       "Find logs at: <code>./wandb/run-20220304_132753-ptyf4dv5/logs</code><br/>\n"
      ],
      "text/plain": [
       "<IPython.core.display.HTML object>"
      ]
     },
     "metadata": {},
     "output_type": "display_data"
    },
    {
     "name": "stderr",
     "output_type": "stream",
     "text": [
      "\u001b[34m\u001b[1mwandb\u001b[0m: Agent Starting Run: izuv7odl with config:\n",
      "\u001b[34m\u001b[1mwandb\u001b[0m: \tbatch_size: 64\n",
      "\u001b[34m\u001b[1mwandb\u001b[0m: \tdense1: 8\n",
      "\u001b[34m\u001b[1mwandb\u001b[0m: \tdense2: 16\n",
      "\u001b[34m\u001b[1mwandb\u001b[0m: \tdropout1: 0.16140811541183558\n",
      "\u001b[34m\u001b[1mwandb\u001b[0m: \tepochs: 500\n",
      "\u001b[34m\u001b[1mwandb\u001b[0m: wandb version 0.12.11 is available!  To upgrade, please run:\n",
      "\u001b[34m\u001b[1mwandb\u001b[0m:  $ pip install wandb --upgrade\n"
     ]
    },
    {
     "data": {
      "text/html": [
       "\n",
       "                    Syncing run <strong><a href=\"https://wandb.ai/luiscostigan/house-price-prediction/runs/izuv7odl\" target=\"_blank\">upbeat-sweep-11</a></strong> to <a href=\"https://wandb.ai/luiscostigan/house-price-prediction\" target=\"_blank\">Weights & Biases</a> (<a href=\"https://docs.wandb.com/integrations/jupyter.html\" target=\"_blank\">docs</a>).<br/>\n",
       "Sweep page: <a href=\"https://wandb.ai/luiscostigan/house-price-prediction/sweeps/hbftehhf\" target=\"_blank\">https://wandb.ai/luiscostigan/house-price-prediction/sweeps/hbftehhf</a><br/>\n",
       "\n",
       "                "
      ],
      "text/plain": [
       "<IPython.core.display.HTML object>"
      ]
     },
     "metadata": {},
     "output_type": "display_data"
    },
    {
     "name": "stdout",
     "output_type": "stream",
     "text": [
      "37/37 [==============================] - 0s 1ms/step - loss: 2.7663 - root_mean_squared_error: 1.6632\n",
      "Score for fold 1: loss of 2.7663426399230957; root_mean_squared_error of 1.6632325649261475\n",
      "------------------------------------------------------------------------\n",
      "Score per fold\n",
      "------------------------------------------------------------------------\n",
      "> Fold 1 - Loss: 2.7663426399230957 - RMSE: 1.6632325649261475%\n",
      "------------------------------------------------------------------------\n",
      "Average scores for all folds:\n",
      "> RMSE: 1.6632325649261475 (+- 0.0)\n",
      "> Loss: 2.7663426399230957\n",
      "------------------------------------------------------------------------\n"
     ]
    },
    {
     "data": {
      "text/html": [
       "<br/>Waiting for W&B process to finish, PID 24604... <strong style=\"color:green\">(success).</strong>"
      ],
      "text/plain": [
       "<IPython.core.display.HTML object>"
      ]
     },
     "metadata": {},
     "output_type": "display_data"
    },
    {
     "data": {
      "application/vnd.jupyter.widget-view+json": {
       "model_id": "4729385069b7473e9306f8c3a018e70d",
       "version_major": 2,
       "version_minor": 0
      },
      "text/plain": [
       "VBox(children=(Label(value=' 0.12MB of 0.12MB uploaded (0.00MB deduped)\\r'), FloatProgress(value=1.0, max=1.0)…"
      ]
     },
     "metadata": {},
     "output_type": "display_data"
    },
    {
     "data": {
      "text/html": [
       "<style>\n",
       "    table.wandb td:nth-child(1) { padding: 0 10px; text-align: right }\n",
       "    .wandb-row { display: flex; flex-direction: row; flex-wrap: wrap; width: 100% }\n",
       "    .wandb-col { display: flex; flex-direction: column; flex-basis: 100%; flex: 1; padding: 10px; }\n",
       "    </style>\n",
       "<div class=\"wandb-row\"><div class=\"wandb-col\">\n",
       "<h3>Run history:</h3><br/><table class=\"wandb\"><tr><td>Mean Validation Loss (all folds)</td><td>▁</td></tr><tr><td>Mean Validation RMSE (all folds)</td><td>▁</td></tr><tr><td>epoch</td><td>▁▁▁▂▂▂▂▂▂▃▃▃▃▃▄▄▄▄▄▄▅▅▅▅▅▅▆▆▆▆▆▇▇▇▇▇▇███</td></tr><tr><td>loss</td><td>█▂▂▁▁▁▁▁▁▁▁▁▁▁▁▁▁▁▁▁▁▁▁▁▁▁▁▁▁▁▁▁▁▁▁▁▁▁▁▁</td></tr><tr><td>root_mean_squared_error</td><td>█▃▃▂▂▂▁▂▂▂▂▁▂▁▂▂▁▁▁▁▁▁▁▁▁▁▁▁▁▁▁▁▁▁▁▁▁▁▁▁</td></tr><tr><td>val_loss</td><td>▁▅▆▇▆█▆▆▅▇▅▅▅▇▆▅▅▆▄▅▄▄▄▅▆▆▄▅▄▆▅▄▄▄▄▄▅▆▅▅</td></tr><tr><td>val_root_mean_squared_error</td><td>▁▆▆▇▇█▇▇▆▇▆▆▅▇▆▆▆▇▅▆▅▅▅▆▇▇▅▆▅▇▅▅▅▅▅▅▆▆▆▆</td></tr></table><br/></div><div class=\"wandb-col\">\n",
       "<h3>Run summary:</h3><br/><table class=\"wandb\"><tr><td>Mean Validation Loss (all folds)</td><td>2.76634</td></tr><tr><td>Mean Validation RMSE (all folds)</td><td>1.66323</td></tr><tr><td>best_epoch</td><td>5</td></tr><tr><td>best_val_loss</td><td>0.18843</td></tr><tr><td>epoch</td><td>499</td></tr><tr><td>loss</td><td>0.034</td></tr><tr><td>root_mean_squared_error</td><td>0.18438</td></tr><tr><td>val_loss</td><td>2.76634</td></tr><tr><td>val_root_mean_squared_error</td><td>1.66323</td></tr></table>\n",
       "</div></div>\n",
       "Synced 5 W&B file(s), 0 media file(s), 0 artifact file(s) and 1 other file(s)\n",
       "<br/>Synced <strong style=\"color:#cdcd00\">upbeat-sweep-11</strong>: <a href=\"https://wandb.ai/luiscostigan/house-price-prediction/runs/izuv7odl\" target=\"_blank\">https://wandb.ai/luiscostigan/house-price-prediction/runs/izuv7odl</a><br/>\n",
       "Find logs at: <code>./wandb/run-20220304_133046-izuv7odl/logs</code><br/>\n"
      ],
      "text/plain": [
       "<IPython.core.display.HTML object>"
      ]
     },
     "metadata": {},
     "output_type": "display_data"
    },
    {
     "name": "stderr",
     "output_type": "stream",
     "text": [
      "\u001b[34m\u001b[1mwandb\u001b[0m: wandb version 0.12.11 is available!  To upgrade, please run:\n",
      "\u001b[34m\u001b[1mwandb\u001b[0m:  $ pip install wandb --upgrade\n"
     ]
    },
    {
     "data": {
      "text/html": [
       "\n",
       "                    Syncing run <strong><a href=\"https://wandb.ai/luiscostigan/house-price-prediction/runs/izuv7odl\" target=\"_blank\">upbeat-sweep-11</a></strong> to <a href=\"https://wandb.ai/luiscostigan/house-price-prediction\" target=\"_blank\">Weights & Biases</a> (<a href=\"https://docs.wandb.com/integrations/jupyter.html\" target=\"_blank\">docs</a>).<br/>\n",
       "Sweep page: <a href=\"https://wandb.ai/luiscostigan/house-price-prediction/sweeps/hbftehhf\" target=\"_blank\">https://wandb.ai/luiscostigan/house-price-prediction/sweeps/hbftehhf</a><br/>\n",
       "\n",
       "                "
      ],
      "text/plain": [
       "<IPython.core.display.HTML object>"
      ]
     },
     "metadata": {},
     "output_type": "display_data"
    },
    {
     "name": "stdout",
     "output_type": "stream",
     "text": [
      "37/37 [==============================] - 0s 2ms/step - loss: 2.1486 - root_mean_squared_error: 1.4658\n",
      "Score for fold 2: loss of 2.14860200881958; root_mean_squared_error of 1.465811014175415\n",
      "------------------------------------------------------------------------\n",
      "Score per fold\n",
      "------------------------------------------------------------------------\n",
      "> Fold 1 - Loss: 2.7663426399230957 - RMSE: 1.6632325649261475%\n",
      "------------------------------------------------------------------------\n",
      "> Fold 2 - Loss: 2.14860200881958 - RMSE: 1.465811014175415%\n",
      "------------------------------------------------------------------------\n",
      "Average scores for all folds:\n",
      "> RMSE: 1.5645217895507812 (+- 0.09871077537536621)\n",
      "> Loss: 2.457472324371338\n",
      "------------------------------------------------------------------------\n"
     ]
    },
    {
     "data": {
      "text/html": [
       "<br/>Waiting for W&B process to finish, PID 2193... <strong style=\"color:green\">(success).</strong>"
      ],
      "text/plain": [
       "<IPython.core.display.HTML object>"
      ]
     },
     "metadata": {},
     "output_type": "display_data"
    },
    {
     "data": {
      "application/vnd.jupyter.widget-view+json": {
       "model_id": "52b65be1a77943d0bab901608a9582f6",
       "version_major": 2,
       "version_minor": 0
      },
      "text/plain": [
       "VBox(children=(Label(value=' 0.12MB of 0.12MB uploaded (0.00MB deduped)\\r'), FloatProgress(value=1.0, max=1.0)…"
      ]
     },
     "metadata": {},
     "output_type": "display_data"
    },
    {
     "data": {
      "text/html": [
       "<style>\n",
       "    table.wandb td:nth-child(1) { padding: 0 10px; text-align: right }\n",
       "    .wandb-row { display: flex; flex-direction: row; flex-wrap: wrap; width: 100% }\n",
       "    .wandb-col { display: flex; flex-direction: column; flex-basis: 100%; flex: 1; padding: 10px; }\n",
       "    </style>\n",
       "<div class=\"wandb-row\"><div class=\"wandb-col\">\n",
       "<h3>Run history:</h3><br/><table class=\"wandb\"><tr><td>Mean Validation Loss (all folds)</td><td>▁</td></tr><tr><td>Mean Validation RMSE (all folds)</td><td>▁</td></tr><tr><td>epoch</td><td>▁▁▁▂▂▂▂▂▂▃▃▃▃▃▄▄▄▄▄▄▅▅▅▅▅▅▆▆▆▆▆▇▇▇▇▇▇███</td></tr><tr><td>loss</td><td>█▂▂▁▁▁▁▁▁▁▁▁▁▁▁▁▁▁▁▁▁▁▁▁▁▁▁▁▁▁▁▁▁▁▁▁▁▁▁▁</td></tr><tr><td>root_mean_squared_error</td><td>█▄▃▃▂▂▂▂▂▂▂▂▂▂▁▁▁▁▁▁▁▁▁▁▁▁▁▁▁▁▁▁▁▁▁▁▁▁▁▁</td></tr><tr><td>val_loss</td><td>▁▅▆█▆▆▅▃▃▃▅▂▄▂▂▂▁▂▄▃▂▃▄▄▃▃▄▂▃▂▄▃▂▂▄▃▄▃▂▂</td></tr><tr><td>val_root_mean_squared_error</td><td>▂▅▆█▆▆▆▃▃▃▅▂▄▂▂▂▁▃▅▄▂▃▄▄▃▃▄▂▃▂▄▄▂▂▄▄▄▃▂▂</td></tr></table><br/></div><div class=\"wandb-col\">\n",
       "<h3>Run summary:</h3><br/><table class=\"wandb\"><tr><td>Mean Validation Loss (all folds)</td><td>2.45747</td></tr><tr><td>Mean Validation RMSE (all folds)</td><td>1.56452</td></tr><tr><td>best_epoch</td><td>6</td></tr><tr><td>best_val_loss</td><td>0.58214</td></tr><tr><td>epoch</td><td>499</td></tr><tr><td>loss</td><td>0.01784</td></tr><tr><td>root_mean_squared_error</td><td>0.13357</td></tr><tr><td>val_loss</td><td>2.1486</td></tr><tr><td>val_root_mean_squared_error</td><td>1.46581</td></tr></table>\n",
       "</div></div>\n",
       "Synced 5 W&B file(s), 0 media file(s), 0 artifact file(s) and 1 other file(s)\n",
       "<br/>Synced <strong style=\"color:#cdcd00\">upbeat-sweep-11</strong>: <a href=\"https://wandb.ai/luiscostigan/house-price-prediction/runs/izuv7odl\" target=\"_blank\">https://wandb.ai/luiscostigan/house-price-prediction/runs/izuv7odl</a><br/>\n",
       "Find logs at: <code>./wandb/run-20220304_133136-izuv7odl/logs</code><br/>\n"
      ],
      "text/plain": [
       "<IPython.core.display.HTML object>"
      ]
     },
     "metadata": {},
     "output_type": "display_data"
    },
    {
     "name": "stderr",
     "output_type": "stream",
     "text": [
      "\u001b[34m\u001b[1mwandb\u001b[0m: wandb version 0.12.11 is available!  To upgrade, please run:\n",
      "\u001b[34m\u001b[1mwandb\u001b[0m:  $ pip install wandb --upgrade\n"
     ]
    },
    {
     "data": {
      "text/html": [
       "\n",
       "                    Syncing run <strong><a href=\"https://wandb.ai/luiscostigan/house-price-prediction/runs/izuv7odl\" target=\"_blank\">upbeat-sweep-11</a></strong> to <a href=\"https://wandb.ai/luiscostigan/house-price-prediction\" target=\"_blank\">Weights & Biases</a> (<a href=\"https://docs.wandb.com/integrations/jupyter.html\" target=\"_blank\">docs</a>).<br/>\n",
       "Sweep page: <a href=\"https://wandb.ai/luiscostigan/house-price-prediction/sweeps/hbftehhf\" target=\"_blank\">https://wandb.ai/luiscostigan/house-price-prediction/sweeps/hbftehhf</a><br/>\n",
       "\n",
       "                "
      ],
      "text/plain": [
       "<IPython.core.display.HTML object>"
      ]
     },
     "metadata": {},
     "output_type": "display_data"
    },
    {
     "name": "stdout",
     "output_type": "stream",
     "text": [
      "37/37 [==============================] - 0s 2ms/step - loss: 3.0096 - root_mean_squared_error: 1.7348\n",
      "Score for fold 3: loss of 3.009606122970581; root_mean_squared_error of 1.7348216772079468\n",
      "------------------------------------------------------------------------\n",
      "Score per fold\n",
      "------------------------------------------------------------------------\n",
      "> Fold 1 - Loss: 2.7663426399230957 - RMSE: 1.6632325649261475%\n",
      "------------------------------------------------------------------------\n",
      "> Fold 2 - Loss: 2.14860200881958 - RMSE: 1.465811014175415%\n",
      "------------------------------------------------------------------------\n",
      "> Fold 3 - Loss: 3.009606122970581 - RMSE: 1.7348216772079468%\n",
      "------------------------------------------------------------------------\n",
      "Average scores for all folds:\n",
      "> RMSE: 1.6212884187698364 (+- 0.1137575426184628)\n",
      "> Loss: 2.641516923904419\n",
      "------------------------------------------------------------------------\n"
     ]
    },
    {
     "data": {
      "text/html": [
       "<br/>Waiting for W&B process to finish, PID 12311... <strong style=\"color:green\">(success).</strong>"
      ],
      "text/plain": [
       "<IPython.core.display.HTML object>"
      ]
     },
     "metadata": {},
     "output_type": "display_data"
    },
    {
     "data": {
      "application/vnd.jupyter.widget-view+json": {
       "model_id": "dfbc0ef264f9443eb36409c54d56a9be",
       "version_major": 2,
       "version_minor": 0
      },
      "text/plain": [
       "VBox(children=(Label(value=' 0.12MB of 0.12MB uploaded (0.00MB deduped)\\r'), FloatProgress(value=1.0, max=1.0)…"
      ]
     },
     "metadata": {},
     "output_type": "display_data"
    },
    {
     "data": {
      "text/html": [
       "<style>\n",
       "    table.wandb td:nth-child(1) { padding: 0 10px; text-align: right }\n",
       "    .wandb-row { display: flex; flex-direction: row; flex-wrap: wrap; width: 100% }\n",
       "    .wandb-col { display: flex; flex-direction: column; flex-basis: 100%; flex: 1; padding: 10px; }\n",
       "    </style>\n",
       "<div class=\"wandb-row\"><div class=\"wandb-col\">\n",
       "<h3>Run history:</h3><br/><table class=\"wandb\"><tr><td>Mean Validation Loss (all folds)</td><td>▁</td></tr><tr><td>Mean Validation RMSE (all folds)</td><td>▁</td></tr><tr><td>epoch</td><td>▁▁▁▂▂▂▂▂▂▃▃▃▃▃▄▄▄▄▄▄▅▅▅▅▅▅▆▆▆▆▆▇▇▇▇▇▇███</td></tr><tr><td>loss</td><td>█▃▂▂▁▁▁▁▁▁▁▁▁▁▁▁▁▁▁▁▁▁▁▁▁▁▁▁▁▁▁▁▁▁▁▁▁▁▁▁</td></tr><tr><td>root_mean_squared_error</td><td>█▄▃▃▂▂▂▂▂▂▁▂▁▁▁▁▁▁▁▁▁▁▁▁▁▁▁▁▁▁▂▁▁▁▁▁▁▁▁▁</td></tr><tr><td>val_loss</td><td>▁▆▆▄▅▄▄▇▇▅█▄▇▄▇▆▅▇▄▄▇▅▅▅▅▅▇▅▆▆▇▅▅▇▅▆▆▆▅▆</td></tr><tr><td>val_root_mean_squared_error</td><td>▁▇▆▅▆▅▅▇▇▆█▅▇▅▇▆▆▇▅▅▇▅▆▆▆▆▇▆▆▇▇▆▆▇▆▇▆▇▆▇</td></tr></table><br/></div><div class=\"wandb-col\">\n",
       "<h3>Run summary:</h3><br/><table class=\"wandb\"><tr><td>Mean Validation Loss (all folds)</td><td>2.64152</td></tr><tr><td>Mean Validation RMSE (all folds)</td><td>1.62129</td></tr><tr><td>best_epoch</td><td>9</td></tr><tr><td>best_val_loss</td><td>0.22063</td></tr><tr><td>epoch</td><td>499</td></tr><tr><td>loss</td><td>0.05018</td></tr><tr><td>root_mean_squared_error</td><td>0.22401</td></tr><tr><td>val_loss</td><td>3.00961</td></tr><tr><td>val_root_mean_squared_error</td><td>1.73482</td></tr></table>\n",
       "</div></div>\n",
       "Synced 5 W&B file(s), 0 media file(s), 0 artifact file(s) and 1 other file(s)\n",
       "<br/>Synced <strong style=\"color:#cdcd00\">upbeat-sweep-11</strong>: <a href=\"https://wandb.ai/luiscostigan/house-price-prediction/runs/izuv7odl\" target=\"_blank\">https://wandb.ai/luiscostigan/house-price-prediction/runs/izuv7odl</a><br/>\n",
       "Find logs at: <code>./wandb/run-20220304_133228-izuv7odl/logs</code><br/>\n"
      ],
      "text/plain": [
       "<IPython.core.display.HTML object>"
      ]
     },
     "metadata": {},
     "output_type": "display_data"
    },
    {
     "name": "stderr",
     "output_type": "stream",
     "text": [
      "\u001b[34m\u001b[1mwandb\u001b[0m: wandb version 0.12.11 is available!  To upgrade, please run:\n",
      "\u001b[34m\u001b[1mwandb\u001b[0m:  $ pip install wandb --upgrade\n"
     ]
    },
    {
     "data": {
      "text/html": [
       "\n",
       "                    Syncing run <strong><a href=\"https://wandb.ai/luiscostigan/house-price-prediction/runs/izuv7odl\" target=\"_blank\">upbeat-sweep-11</a></strong> to <a href=\"https://wandb.ai/luiscostigan/house-price-prediction\" target=\"_blank\">Weights & Biases</a> (<a href=\"https://docs.wandb.com/integrations/jupyter.html\" target=\"_blank\">docs</a>).<br/>\n",
       "Sweep page: <a href=\"https://wandb.ai/luiscostigan/house-price-prediction/sweeps/hbftehhf\" target=\"_blank\">https://wandb.ai/luiscostigan/house-price-prediction/sweeps/hbftehhf</a><br/>\n",
       "\n",
       "                "
      ],
      "text/plain": [
       "<IPython.core.display.HTML object>"
      ]
     },
     "metadata": {},
     "output_type": "display_data"
    },
    {
     "name": "stdout",
     "output_type": "stream",
     "text": [
      "37/37 [==============================] - 0s 2ms/step - loss: 2.8090 - root_mean_squared_error: 1.6760\n",
      "Score for fold 4: loss of 2.8090481758117676; root_mean_squared_error of 1.6760215759277344\n",
      "------------------------------------------------------------------------\n",
      "Score per fold\n",
      "------------------------------------------------------------------------\n",
      "> Fold 1 - Loss: 2.7663426399230957 - RMSE: 1.6632325649261475%\n",
      "------------------------------------------------------------------------\n",
      "> Fold 2 - Loss: 2.14860200881958 - RMSE: 1.465811014175415%\n",
      "------------------------------------------------------------------------\n",
      "> Fold 3 - Loss: 3.009606122970581 - RMSE: 1.7348216772079468%\n",
      "------------------------------------------------------------------------\n",
      "> Fold 4 - Loss: 2.8090481758117676 - RMSE: 1.6760215759277344%\n",
      "------------------------------------------------------------------------\n",
      "Average scores for all folds:\n",
      "> RMSE: 1.634971708059311 (+- 0.10132759295612365)\n",
      "> Loss: 2.683399736881256\n",
      "------------------------------------------------------------------------\n"
     ]
    },
    {
     "data": {
      "text/html": [
       "<br/>Waiting for W&B process to finish, PID 22405... <strong style=\"color:green\">(success).</strong>"
      ],
      "text/plain": [
       "<IPython.core.display.HTML object>"
      ]
     },
     "metadata": {},
     "output_type": "display_data"
    },
    {
     "data": {
      "application/vnd.jupyter.widget-view+json": {
       "model_id": "46f537637223483dbe444808a9f34c60",
       "version_major": 2,
       "version_minor": 0
      },
      "text/plain": [
       "VBox(children=(Label(value=' 0.12MB of 0.12MB uploaded (0.00MB deduped)\\r'), FloatProgress(value=1.0, max=1.0)…"
      ]
     },
     "metadata": {},
     "output_type": "display_data"
    },
    {
     "data": {
      "text/html": [
       "<style>\n",
       "    table.wandb td:nth-child(1) { padding: 0 10px; text-align: right }\n",
       "    .wandb-row { display: flex; flex-direction: row; flex-wrap: wrap; width: 100% }\n",
       "    .wandb-col { display: flex; flex-direction: column; flex-basis: 100%; flex: 1; padding: 10px; }\n",
       "    </style>\n",
       "<div class=\"wandb-row\"><div class=\"wandb-col\">\n",
       "<h3>Run history:</h3><br/><table class=\"wandb\"><tr><td>Mean Validation Loss (all folds)</td><td>▁</td></tr><tr><td>Mean Validation RMSE (all folds)</td><td>▁</td></tr><tr><td>epoch</td><td>▁▁▁▂▂▂▂▂▂▃▃▃▃▃▄▄▄▄▄▄▅▅▅▅▅▅▆▆▆▆▆▇▇▇▇▇▇███</td></tr><tr><td>loss</td><td>█▁▁▁▁▁▁▁▁▁▁▁▁▁▁▁▁▁▁▁▁▁▁▁▁▁▁▁▁▁▁▁▁▁▁▁▁▁▁▁</td></tr><tr><td>root_mean_squared_error</td><td>█▂▂▁▁▁▁▁▁▁▁▁▁▁▁▁▁▁▁▁▁▁▁▁▁▁▁▁▁▁▁▁▁▁▁▁▁▁▁▁</td></tr><tr><td>val_loss</td><td>█▁▁▁▂▁▂▂▂▂▁▁▁▂▁▁▁▁▁▁▂▁▁▁▂▁▁▁▁▁▁▂▁▁▁▁▁▁▁▁</td></tr><tr><td>val_root_mean_squared_error</td><td>█▂▂▁▂▂▂▂▂▂▁▁▂▂▁▂▁▂▁▁▂▂▁▁▂▁▁▂▁▁▂▂▂▂▂▂▁▂▁▁</td></tr></table><br/></div><div class=\"wandb-col\">\n",
       "<h3>Run summary:</h3><br/><table class=\"wandb\"><tr><td>Mean Validation Loss (all folds)</td><td>2.6834</td></tr><tr><td>Mean Validation RMSE (all folds)</td><td>1.63497</td></tr><tr><td>best_epoch</td><td>7</td></tr><tr><td>best_val_loss</td><td>1.35001</td></tr><tr><td>epoch</td><td>499</td></tr><tr><td>loss</td><td>0.02115</td></tr><tr><td>root_mean_squared_error</td><td>0.14544</td></tr><tr><td>val_loss</td><td>2.80905</td></tr><tr><td>val_root_mean_squared_error</td><td>1.67602</td></tr></table>\n",
       "</div></div>\n",
       "Synced 5 W&B file(s), 0 media file(s), 0 artifact file(s) and 1 other file(s)\n",
       "<br/>Synced <strong style=\"color:#cdcd00\">upbeat-sweep-11</strong>: <a href=\"https://wandb.ai/luiscostigan/house-price-prediction/runs/izuv7odl\" target=\"_blank\">https://wandb.ai/luiscostigan/house-price-prediction/runs/izuv7odl</a><br/>\n",
       "Find logs at: <code>./wandb/run-20220304_133317-izuv7odl/logs</code><br/>\n"
      ],
      "text/plain": [
       "<IPython.core.display.HTML object>"
      ]
     },
     "metadata": {},
     "output_type": "display_data"
    },
    {
     "name": "stderr",
     "output_type": "stream",
     "text": [
      "\u001b[34m\u001b[1mwandb\u001b[0m: wandb version 0.12.11 is available!  To upgrade, please run:\n",
      "\u001b[34m\u001b[1mwandb\u001b[0m:  $ pip install wandb --upgrade\n"
     ]
    },
    {
     "data": {
      "text/html": [
       "\n",
       "                    Syncing run <strong><a href=\"https://wandb.ai/luiscostigan/house-price-prediction/runs/izuv7odl\" target=\"_blank\">upbeat-sweep-11</a></strong> to <a href=\"https://wandb.ai/luiscostigan/house-price-prediction\" target=\"_blank\">Weights & Biases</a> (<a href=\"https://docs.wandb.com/integrations/jupyter.html\" target=\"_blank\">docs</a>).<br/>\n",
       "Sweep page: <a href=\"https://wandb.ai/luiscostigan/house-price-prediction/sweeps/hbftehhf\" target=\"_blank\">https://wandb.ai/luiscostigan/house-price-prediction/sweeps/hbftehhf</a><br/>\n",
       "\n",
       "                "
      ],
      "text/plain": [
       "<IPython.core.display.HTML object>"
      ]
     },
     "metadata": {},
     "output_type": "display_data"
    },
    {
     "name": "stdout",
     "output_type": "stream",
     "text": [
      "37/37 [==============================] - 0s 2ms/step - loss: 3.4605 - root_mean_squared_error: 1.8603\n",
      "Score for fold 5: loss of 3.4605345726013184; root_mean_squared_error of 1.8602511882781982\n",
      "------------------------------------------------------------------------\n",
      "Score per fold\n",
      "------------------------------------------------------------------------\n",
      "> Fold 1 - Loss: 2.7663426399230957 - RMSE: 1.6632325649261475%\n",
      "------------------------------------------------------------------------\n",
      "> Fold 2 - Loss: 2.14860200881958 - RMSE: 1.465811014175415%\n",
      "------------------------------------------------------------------------\n",
      "> Fold 3 - Loss: 3.009606122970581 - RMSE: 1.7348216772079468%\n",
      "------------------------------------------------------------------------\n",
      "> Fold 4 - Loss: 2.8090481758117676 - RMSE: 1.6760215759277344%\n",
      "------------------------------------------------------------------------\n",
      "> Fold 5 - Loss: 3.4605345726013184 - RMSE: 1.8602511882781982%\n",
      "------------------------------------------------------------------------\n",
      "Average scores for all folds:\n",
      "> RMSE: 1.6800276041030884 (+- 0.12780438157064972)\n",
      "> Loss: 2.8388267040252684\n",
      "------------------------------------------------------------------------\n"
     ]
    },
    {
     "data": {
      "text/html": [
       "<br/>Waiting for W&B process to finish, PID 32450... <strong style=\"color:green\">(success).</strong>"
      ],
      "text/plain": [
       "<IPython.core.display.HTML object>"
      ]
     },
     "metadata": {},
     "output_type": "display_data"
    },
    {
     "data": {
      "application/vnd.jupyter.widget-view+json": {
       "model_id": "08908fa2569f48edb7d17562b6572652",
       "version_major": 2,
       "version_minor": 0
      },
      "text/plain": [
       "VBox(children=(Label(value=' 0.12MB of 0.12MB uploaded (0.00MB deduped)\\r'), FloatProgress(value=1.0, max=1.0)…"
      ]
     },
     "metadata": {},
     "output_type": "display_data"
    },
    {
     "data": {
      "text/html": [
       "<style>\n",
       "    table.wandb td:nth-child(1) { padding: 0 10px; text-align: right }\n",
       "    .wandb-row { display: flex; flex-direction: row; flex-wrap: wrap; width: 100% }\n",
       "    .wandb-col { display: flex; flex-direction: column; flex-basis: 100%; flex: 1; padding: 10px; }\n",
       "    </style>\n",
       "<div class=\"wandb-row\"><div class=\"wandb-col\">\n",
       "<h3>Run history:</h3><br/><table class=\"wandb\"><tr><td>Mean Validation Loss (all folds)</td><td>▁</td></tr><tr><td>Mean Validation RMSE (all folds)</td><td>▁</td></tr><tr><td>epoch</td><td>▁▁▁▂▂▂▂▂▂▃▃▃▃▃▄▄▄▄▄▄▅▅▅▅▅▅▆▆▆▆▆▇▇▇▇▇▇███</td></tr><tr><td>loss</td><td>█▁▁▁▁▁▁▁▁▁▁▁▁▁▁▁▁▁▁▁▁▁▁▁▁▁▁▁▁▁▁▁▁▁▁▁▁▁▁▁</td></tr><tr><td>root_mean_squared_error</td><td>█▂▂▂▁▁▁▁▂▁▁▁▁▁▂▁▁▁▁▁▁▁▁▁▁▁▁▁▁▁▁▁▁▁▁▁▁▁▁▁</td></tr><tr><td>val_loss</td><td>▁▅█▅▇▆▆▇▇▇▆▆▇▇▆▄▅▆▅▅▆▄▄▅▆▆▆▅▅▆▆▆▄▅▇▅▆▆▆▆</td></tr><tr><td>val_root_mean_squared_error</td><td>▁▅█▅▇▇▇▇█▇▆▇█▇▇▄▆▆▅▅▇▅▅▆▇▇▇▅▆▇▇▇▅▅▇▆▇▆▇▆</td></tr></table><br/></div><div class=\"wandb-col\">\n",
       "<h3>Run summary:</h3><br/><table class=\"wandb\"><tr><td>Mean Validation Loss (all folds)</td><td>2.83883</td></tr><tr><td>Mean Validation RMSE (all folds)</td><td>1.68003</td></tr><tr><td>best_epoch</td><td>4</td></tr><tr><td>best_val_loss</td><td>0.20251</td></tr><tr><td>epoch</td><td>499</td></tr><tr><td>loss</td><td>0.04077</td></tr><tr><td>root_mean_squared_error</td><td>0.20193</td></tr><tr><td>val_loss</td><td>3.46053</td></tr><tr><td>val_root_mean_squared_error</td><td>1.86025</td></tr></table>\n",
       "</div></div>\n",
       "Synced 5 W&B file(s), 0 media file(s), 0 artifact file(s) and 1 other file(s)\n",
       "<br/>Synced <strong style=\"color:#cdcd00\">upbeat-sweep-11</strong>: <a href=\"https://wandb.ai/luiscostigan/house-price-prediction/runs/izuv7odl\" target=\"_blank\">https://wandb.ai/luiscostigan/house-price-prediction/runs/izuv7odl</a><br/>\n",
       "Find logs at: <code>./wandb/run-20220304_133407-izuv7odl/logs</code><br/>\n"
      ],
      "text/plain": [
       "<IPython.core.display.HTML object>"
      ]
     },
     "metadata": {},
     "output_type": "display_data"
    },
    {
     "name": "stderr",
     "output_type": "stream",
     "text": [
      "\u001b[34m\u001b[1mwandb\u001b[0m: Agent Starting Run: 2v5i966g with config:\n",
      "\u001b[34m\u001b[1mwandb\u001b[0m: \tbatch_size: 16\n",
      "\u001b[34m\u001b[1mwandb\u001b[0m: \tdense1: 8\n",
      "\u001b[34m\u001b[1mwandb\u001b[0m: \tdense2: 16\n",
      "\u001b[34m\u001b[1mwandb\u001b[0m: \tdropout1: 0.17823096981248235\n",
      "\u001b[34m\u001b[1mwandb\u001b[0m: \tepochs: 750\n",
      "\u001b[34m\u001b[1mwandb\u001b[0m: wandb version 0.12.11 is available!  To upgrade, please run:\n",
      "\u001b[34m\u001b[1mwandb\u001b[0m:  $ pip install wandb --upgrade\n"
     ]
    },
    {
     "data": {
      "text/html": [
       "\n",
       "                    Syncing run <strong><a href=\"https://wandb.ai/luiscostigan/house-price-prediction/runs/2v5i966g\" target=\"_blank\">drawn-sweep-12</a></strong> to <a href=\"https://wandb.ai/luiscostigan/house-price-prediction\" target=\"_blank\">Weights & Biases</a> (<a href=\"https://docs.wandb.com/integrations/jupyter.html\" target=\"_blank\">docs</a>).<br/>\n",
       "Sweep page: <a href=\"https://wandb.ai/luiscostigan/house-price-prediction/sweeps/hbftehhf\" target=\"_blank\">https://wandb.ai/luiscostigan/house-price-prediction/sweeps/hbftehhf</a><br/>\n",
       "\n",
       "                "
      ],
      "text/plain": [
       "<IPython.core.display.HTML object>"
      ]
     },
     "metadata": {},
     "output_type": "display_data"
    },
    {
     "name": "stdout",
     "output_type": "stream",
     "text": [
      "37/37 [==============================] - 0s 2ms/step - loss: 1.1196 - root_mean_squared_error: 1.0581\n",
      "Score for fold 1: loss of 1.1196273565292358; root_mean_squared_error of 1.0581244230270386\n",
      "------------------------------------------------------------------------\n",
      "Score per fold\n",
      "------------------------------------------------------------------------\n",
      "> Fold 1 - Loss: 1.1196273565292358 - RMSE: 1.0581244230270386%\n",
      "------------------------------------------------------------------------\n",
      "Average scores for all folds:\n",
      "> RMSE: 1.0581244230270386 (+- 0.0)\n",
      "> Loss: 1.1196273565292358\n",
      "------------------------------------------------------------------------\n"
     ]
    },
    {
     "data": {
      "text/html": [
       "<br/>Waiting for W&B process to finish, PID 10121... <strong style=\"color:green\">(success).</strong>"
      ],
      "text/plain": [
       "<IPython.core.display.HTML object>"
      ]
     },
     "metadata": {},
     "output_type": "display_data"
    },
    {
     "data": {
      "application/vnd.jupyter.widget-view+json": {
       "model_id": "103c03e5209a4b06b9c12b248c84202a",
       "version_major": 2,
       "version_minor": 0
      },
      "text/plain": [
       "VBox(children=(Label(value=' 0.12MB of 0.12MB uploaded (0.00MB deduped)\\r'), FloatProgress(value=1.0, max=1.0)…"
      ]
     },
     "metadata": {},
     "output_type": "display_data"
    },
    {
     "data": {
      "text/html": [
       "<style>\n",
       "    table.wandb td:nth-child(1) { padding: 0 10px; text-align: right }\n",
       "    .wandb-row { display: flex; flex-direction: row; flex-wrap: wrap; width: 100% }\n",
       "    .wandb-col { display: flex; flex-direction: column; flex-basis: 100%; flex: 1; padding: 10px; }\n",
       "    </style>\n",
       "<div class=\"wandb-row\"><div class=\"wandb-col\">\n",
       "<h3>Run history:</h3><br/><table class=\"wandb\"><tr><td>Mean Validation Loss (all folds)</td><td>▁</td></tr><tr><td>Mean Validation RMSE (all folds)</td><td>▁</td></tr><tr><td>epoch</td><td>▁▁▁▂▂▂▂▂▂▃▃▃▃▃▄▄▄▄▄▄▅▅▅▅▅▅▆▆▆▆▆▇▇▇▇▇▇███</td></tr><tr><td>loss</td><td>█▂▁▂▁▁▁▁▁▁▁▁▁▁▁▁▁▁▁▁▁▁▁▁▁▁▁▁▁▁▁▁▁▁▁▁▁▁▁▁</td></tr><tr><td>root_mean_squared_error</td><td>█▃▂▃▂▃▂▂▂▁▁▂▁▁▁▁▁▁▁▁▁▁▁▁▁▁▁▁▁▁▁▁▁▁▁▁▁▁▁▁</td></tr><tr><td>val_loss</td><td>██▃▄▆▄▅▆▅▄▄▄▃▃▃▂▂▂▁▃▂▃▃▂▁▂▁▂▁▁▂▂▂▁▁▁▂▂▂▁</td></tr><tr><td>val_root_mean_squared_error</td><td>██▄▅▇▄▆▆▆▅▅▄▃▄▄▂▂▂▁▃▂▃▃▃▂▃▁▃▁▁▃▃▂▁▁▁▂▂▂▁</td></tr></table><br/></div><div class=\"wandb-col\">\n",
       "<h3>Run summary:</h3><br/><table class=\"wandb\"><tr><td>Mean Validation Loss (all folds)</td><td>1.11963</td></tr><tr><td>Mean Validation RMSE (all folds)</td><td>1.05812</td></tr><tr><td>best_epoch</td><td>695</td></tr><tr><td>best_val_loss</td><td>0.98817</td></tr><tr><td>epoch</td><td>749</td></tr><tr><td>loss</td><td>0.00873</td></tr><tr><td>root_mean_squared_error</td><td>0.09342</td></tr><tr><td>val_loss</td><td>1.11963</td></tr><tr><td>val_root_mean_squared_error</td><td>1.05812</td></tr></table>\n",
       "</div></div>\n",
       "Synced 5 W&B file(s), 0 media file(s), 0 artifact file(s) and 1 other file(s)\n",
       "<br/>Synced <strong style=\"color:#cdcd00\">drawn-sweep-12</strong>: <a href=\"https://wandb.ai/luiscostigan/house-price-prediction/runs/2v5i966g\" target=\"_blank\">https://wandb.ai/luiscostigan/house-price-prediction/runs/2v5i966g</a><br/>\n",
       "Find logs at: <code>./wandb/run-20220304_133459-2v5i966g/logs</code><br/>\n"
      ],
      "text/plain": [
       "<IPython.core.display.HTML object>"
      ]
     },
     "metadata": {},
     "output_type": "display_data"
    },
    {
     "name": "stderr",
     "output_type": "stream",
     "text": [
      "\u001b[34m\u001b[1mwandb\u001b[0m: wandb version 0.12.11 is available!  To upgrade, please run:\n",
      "\u001b[34m\u001b[1mwandb\u001b[0m:  $ pip install wandb --upgrade\n"
     ]
    },
    {
     "data": {
      "text/html": [
       "\n",
       "                    Syncing run <strong><a href=\"https://wandb.ai/luiscostigan/house-price-prediction/runs/2v5i966g\" target=\"_blank\">drawn-sweep-12</a></strong> to <a href=\"https://wandb.ai/luiscostigan/house-price-prediction\" target=\"_blank\">Weights & Biases</a> (<a href=\"https://docs.wandb.com/integrations/jupyter.html\" target=\"_blank\">docs</a>).<br/>\n",
       "Sweep page: <a href=\"https://wandb.ai/luiscostigan/house-price-prediction/sweeps/hbftehhf\" target=\"_blank\">https://wandb.ai/luiscostigan/house-price-prediction/sweeps/hbftehhf</a><br/>\n",
       "\n",
       "                "
      ],
      "text/plain": [
       "<IPython.core.display.HTML object>"
      ]
     },
     "metadata": {},
     "output_type": "display_data"
    },
    {
     "name": "stdout",
     "output_type": "stream",
     "text": [
      "37/37 [==============================] - 0s 2ms/step - loss: 0.9296 - root_mean_squared_error: 0.9642\n",
      "Score for fold 2: loss of 0.9296003580093384; root_mean_squared_error of 0.9641578197479248\n",
      "------------------------------------------------------------------------\n",
      "Score per fold\n",
      "------------------------------------------------------------------------\n",
      "> Fold 1 - Loss: 1.1196273565292358 - RMSE: 1.0581244230270386%\n",
      "------------------------------------------------------------------------\n",
      "> Fold 2 - Loss: 0.9296003580093384 - RMSE: 0.9641578197479248%\n",
      "------------------------------------------------------------------------\n",
      "Average scores for all folds:\n",
      "> RMSE: 1.0111411213874817 (+- 0.046983301639556885)\n",
      "> Loss: 1.024613857269287\n",
      "------------------------------------------------------------------------\n"
     ]
    },
    {
     "data": {
      "text/html": [
       "<br/>Waiting for W&B process to finish, PID 25779... <strong style=\"color:green\">(success).</strong>"
      ],
      "text/plain": [
       "<IPython.core.display.HTML object>"
      ]
     },
     "metadata": {},
     "output_type": "display_data"
    },
    {
     "data": {
      "application/vnd.jupyter.widget-view+json": {
       "model_id": "d59dbe95b78a489bb401d0523aaec65d",
       "version_major": 2,
       "version_minor": 0
      },
      "text/plain": [
       "VBox(children=(Label(value=' 0.12MB of 0.12MB uploaded (0.00MB deduped)\\r'), FloatProgress(value=1.0, max=1.0)…"
      ]
     },
     "metadata": {},
     "output_type": "display_data"
    },
    {
     "data": {
      "text/html": [
       "<style>\n",
       "    table.wandb td:nth-child(1) { padding: 0 10px; text-align: right }\n",
       "    .wandb-row { display: flex; flex-direction: row; flex-wrap: wrap; width: 100% }\n",
       "    .wandb-col { display: flex; flex-direction: column; flex-basis: 100%; flex: 1; padding: 10px; }\n",
       "    </style>\n",
       "<div class=\"wandb-row\"><div class=\"wandb-col\">\n",
       "<h3>Run history:</h3><br/><table class=\"wandb\"><tr><td>Mean Validation Loss (all folds)</td><td>▁</td></tr><tr><td>Mean Validation RMSE (all folds)</td><td>▁</td></tr><tr><td>epoch</td><td>▁▁▁▂▂▂▂▂▂▃▃▃▃▃▄▄▄▄▄▄▅▅▅▅▅▅▆▆▆▆▆▇▇▇▇▇▇███</td></tr><tr><td>loss</td><td>█▂▂▁▁▁▁▁▁▁▁▁▁▁▁▁▁▁▁▁▁▁▁▁▁▁▁▁▁▁▁▁▁▁▁▁▁▁▁▁</td></tr><tr><td>root_mean_squared_error</td><td>█▃▃▂▂▂▂▂▂▁▁▁▁▁▁▁▁▁▁▁▁▁▁▁▁▁▁▁▁▁▁▁▁▁▁▁▁▁▁▁</td></tr><tr><td>val_loss</td><td>▃█▇▇▇██▄▅▃▆▄▃▂▃▃▂▃▃▃▃▂▃▄▂▁▃▃▃▃▂▂▂▁▁▂▂▂▁▂</td></tr><tr><td>val_root_mean_squared_error</td><td>▄██▇▇██▄▅▃▆▅▄▂▃▃▃▄▄▃▄▂▄▄▂▂▃▃▄▃▂▂▂▂▁▂▃▂▁▂</td></tr></table><br/></div><div class=\"wandb-col\">\n",
       "<h3>Run summary:</h3><br/><table class=\"wandb\"><tr><td>Mean Validation Loss (all folds)</td><td>1.02461</td></tr><tr><td>Mean Validation RMSE (all folds)</td><td>1.01114</td></tr><tr><td>best_epoch</td><td>4</td></tr><tr><td>best_val_loss</td><td>0.43398</td></tr><tr><td>epoch</td><td>749</td></tr><tr><td>loss</td><td>0.00952</td></tr><tr><td>root_mean_squared_error</td><td>0.09759</td></tr><tr><td>val_loss</td><td>0.9296</td></tr><tr><td>val_root_mean_squared_error</td><td>0.96416</td></tr></table>\n",
       "</div></div>\n",
       "Synced 5 W&B file(s), 0 media file(s), 0 artifact file(s) and 1 other file(s)\n",
       "<br/>Synced <strong style=\"color:#cdcd00\">drawn-sweep-12</strong>: <a href=\"https://wandb.ai/luiscostigan/house-price-prediction/runs/2v5i966g\" target=\"_blank\">https://wandb.ai/luiscostigan/house-price-prediction/runs/2v5i966g</a><br/>\n",
       "Find logs at: <code>./wandb/run-20220304_133723-2v5i966g/logs</code><br/>\n"
      ],
      "text/plain": [
       "<IPython.core.display.HTML object>"
      ]
     },
     "metadata": {},
     "output_type": "display_data"
    },
    {
     "name": "stderr",
     "output_type": "stream",
     "text": [
      "\u001b[34m\u001b[1mwandb\u001b[0m: wandb version 0.12.11 is available!  To upgrade, please run:\n",
      "\u001b[34m\u001b[1mwandb\u001b[0m:  $ pip install wandb --upgrade\n"
     ]
    },
    {
     "data": {
      "text/html": [
       "\n",
       "                    Syncing run <strong><a href=\"https://wandb.ai/luiscostigan/house-price-prediction/runs/2v5i966g\" target=\"_blank\">drawn-sweep-12</a></strong> to <a href=\"https://wandb.ai/luiscostigan/house-price-prediction\" target=\"_blank\">Weights & Biases</a> (<a href=\"https://docs.wandb.com/integrations/jupyter.html\" target=\"_blank\">docs</a>).<br/>\n",
       "Sweep page: <a href=\"https://wandb.ai/luiscostigan/house-price-prediction/sweeps/hbftehhf\" target=\"_blank\">https://wandb.ai/luiscostigan/house-price-prediction/sweeps/hbftehhf</a><br/>\n",
       "\n",
       "                "
      ],
      "text/plain": [
       "<IPython.core.display.HTML object>"
      ]
     },
     "metadata": {},
     "output_type": "display_data"
    },
    {
     "name": "stdout",
     "output_type": "stream",
     "text": [
      "37/37 [==============================] - 0s 2ms/step - loss: 1.6422 - root_mean_squared_error: 1.2815\n",
      "Score for fold 3: loss of 1.642160177230835; root_mean_squared_error of 1.2814680337905884\n",
      "------------------------------------------------------------------------\n",
      "Score per fold\n",
      "------------------------------------------------------------------------\n",
      "> Fold 1 - Loss: 1.1196273565292358 - RMSE: 1.0581244230270386%\n",
      "------------------------------------------------------------------------\n",
      "> Fold 2 - Loss: 0.9296003580093384 - RMSE: 0.9641578197479248%\n",
      "------------------------------------------------------------------------\n",
      "> Fold 3 - Loss: 1.642160177230835 - RMSE: 1.2814680337905884%\n",
      "------------------------------------------------------------------------\n",
      "Average scores for all folds:\n",
      "> RMSE: 1.1012500921885173 (+- 0.13308220639744753)\n",
      "> Loss: 1.230462630589803\n",
      "------------------------------------------------------------------------\n"
     ]
    },
    {
     "data": {
      "text/html": [
       "<br/>Waiting for W&B process to finish, PID 9004... <strong style=\"color:green\">(success).</strong>"
      ],
      "text/plain": [
       "<IPython.core.display.HTML object>"
      ]
     },
     "metadata": {},
     "output_type": "display_data"
    },
    {
     "data": {
      "application/vnd.jupyter.widget-view+json": {
       "model_id": "72e6132141f94d32a4531cc770080089",
       "version_major": 2,
       "version_minor": 0
      },
      "text/plain": [
       "VBox(children=(Label(value=' 0.12MB of 0.12MB uploaded (0.00MB deduped)\\r'), FloatProgress(value=1.0, max=1.0)…"
      ]
     },
     "metadata": {},
     "output_type": "display_data"
    },
    {
     "data": {
      "text/html": [
       "<style>\n",
       "    table.wandb td:nth-child(1) { padding: 0 10px; text-align: right }\n",
       "    .wandb-row { display: flex; flex-direction: row; flex-wrap: wrap; width: 100% }\n",
       "    .wandb-col { display: flex; flex-direction: column; flex-basis: 100%; flex: 1; padding: 10px; }\n",
       "    </style>\n",
       "<div class=\"wandb-row\"><div class=\"wandb-col\">\n",
       "<h3>Run history:</h3><br/><table class=\"wandb\"><tr><td>Mean Validation Loss (all folds)</td><td>▁</td></tr><tr><td>Mean Validation RMSE (all folds)</td><td>▁</td></tr><tr><td>epoch</td><td>▁▁▁▂▂▂▂▂▂▃▃▃▃▃▄▄▄▄▄▄▅▅▅▅▅▅▆▆▆▆▆▇▇▇▇▇▇███</td></tr><tr><td>loss</td><td>█▃▂▂▂▂▁▁▂▁▁▁▁▁▁▁▁▁▁▁▁▁▁▁▁▁▁▁▁▁▁▁▁▁▁▁▁▁▁▁</td></tr><tr><td>root_mean_squared_error</td><td>█▅▄▃▃▃▂▂▃▂▂▂▁▁▁▁▁▁▁▁▁▁▁▁▁▁▁▁▁▁▁▁▁▁▁▁▁▁▁▁</td></tr><tr><td>val_loss</td><td>▇█▄▃▆▅▃▄▅▄▁▄▄▃▃▄▄▄▂▂▃▃▃▂▃▂▃▂▂▃▂▂▃▃▂▃▃▃▂▁</td></tr><tr><td>val_root_mean_squared_error</td><td>▇█▄▄▆▅▃▅▆▄▁▄▄▄▄▅▅▄▂▃▃▄▄▂▄▂▃▃▂▃▃▂▃▃▂▃▃▃▂▂</td></tr></table><br/></div><div class=\"wandb-col\">\n",
       "<h3>Run summary:</h3><br/><table class=\"wandb\"><tr><td>Mean Validation Loss (all folds)</td><td>1.23046</td></tr><tr><td>Mean Validation RMSE (all folds)</td><td>1.10125</td></tr><tr><td>best_epoch</td><td>716</td></tr><tr><td>best_val_loss</td><td>1.03941</td></tr><tr><td>epoch</td><td>749</td></tr><tr><td>loss</td><td>0.01023</td></tr><tr><td>root_mean_squared_error</td><td>0.10114</td></tr><tr><td>val_loss</td><td>1.64216</td></tr><tr><td>val_root_mean_squared_error</td><td>1.28147</td></tr></table>\n",
       "</div></div>\n",
       "Synced 5 W&B file(s), 0 media file(s), 0 artifact file(s) and 1 other file(s)\n",
       "<br/>Synced <strong style=\"color:#cdcd00\">drawn-sweep-12</strong>: <a href=\"https://wandb.ai/luiscostigan/house-price-prediction/runs/2v5i966g\" target=\"_blank\">https://wandb.ai/luiscostigan/house-price-prediction/runs/2v5i966g</a><br/>\n",
       "Find logs at: <code>./wandb/run-20220304_133948-2v5i966g/logs</code><br/>\n"
      ],
      "text/plain": [
       "<IPython.core.display.HTML object>"
      ]
     },
     "metadata": {},
     "output_type": "display_data"
    },
    {
     "name": "stderr",
     "output_type": "stream",
     "text": [
      "\u001b[34m\u001b[1mwandb\u001b[0m: wandb version 0.12.11 is available!  To upgrade, please run:\n",
      "\u001b[34m\u001b[1mwandb\u001b[0m:  $ pip install wandb --upgrade\n"
     ]
    },
    {
     "data": {
      "text/html": [
       "\n",
       "                    Syncing run <strong><a href=\"https://wandb.ai/luiscostigan/house-price-prediction/runs/2v5i966g\" target=\"_blank\">drawn-sweep-12</a></strong> to <a href=\"https://wandb.ai/luiscostigan/house-price-prediction\" target=\"_blank\">Weights & Biases</a> (<a href=\"https://docs.wandb.com/integrations/jupyter.html\" target=\"_blank\">docs</a>).<br/>\n",
       "Sweep page: <a href=\"https://wandb.ai/luiscostigan/house-price-prediction/sweeps/hbftehhf\" target=\"_blank\">https://wandb.ai/luiscostigan/house-price-prediction/sweeps/hbftehhf</a><br/>\n",
       "\n",
       "                "
      ],
      "text/plain": [
       "<IPython.core.display.HTML object>"
      ]
     },
     "metadata": {},
     "output_type": "display_data"
    },
    {
     "name": "stdout",
     "output_type": "stream",
     "text": [
      "37/37 [==============================] - 0s 2ms/step - loss: 1.1108 - root_mean_squared_error: 1.0539\n",
      "Score for fold 4: loss of 1.1107772588729858; root_mean_squared_error of 1.0539342164993286\n",
      "------------------------------------------------------------------------\n",
      "Score per fold\n",
      "------------------------------------------------------------------------\n",
      "> Fold 1 - Loss: 1.1196273565292358 - RMSE: 1.0581244230270386%\n",
      "------------------------------------------------------------------------\n",
      "> Fold 2 - Loss: 0.9296003580093384 - RMSE: 0.9641578197479248%\n",
      "------------------------------------------------------------------------\n",
      "> Fold 3 - Loss: 1.642160177230835 - RMSE: 1.2814680337905884%\n",
      "------------------------------------------------------------------------\n",
      "> Fold 4 - Loss: 1.1107772588729858 - RMSE: 1.0539342164993286%\n",
      "------------------------------------------------------------------------\n",
      "Average scores for all folds:\n",
      "> RMSE: 1.08942112326622 (+- 0.11705950948984721)\n",
      "> Loss: 1.2005412876605988\n",
      "------------------------------------------------------------------------\n"
     ]
    },
    {
     "data": {
      "text/html": [
       "<br/>Waiting for W&B process to finish, PID 24646... <strong style=\"color:green\">(success).</strong>"
      ],
      "text/plain": [
       "<IPython.core.display.HTML object>"
      ]
     },
     "metadata": {},
     "output_type": "display_data"
    },
    {
     "data": {
      "application/vnd.jupyter.widget-view+json": {
       "model_id": "705058535f4d4beea78828fe81009f1b",
       "version_major": 2,
       "version_minor": 0
      },
      "text/plain": [
       "VBox(children=(Label(value=' 0.12MB of 0.12MB uploaded (0.00MB deduped)\\r'), FloatProgress(value=1.0, max=1.0)…"
      ]
     },
     "metadata": {},
     "output_type": "display_data"
    },
    {
     "data": {
      "text/html": [
       "<style>\n",
       "    table.wandb td:nth-child(1) { padding: 0 10px; text-align: right }\n",
       "    .wandb-row { display: flex; flex-direction: row; flex-wrap: wrap; width: 100% }\n",
       "    .wandb-col { display: flex; flex-direction: column; flex-basis: 100%; flex: 1; padding: 10px; }\n",
       "    </style>\n",
       "<div class=\"wandb-row\"><div class=\"wandb-col\">\n",
       "<h3>Run history:</h3><br/><table class=\"wandb\"><tr><td>Mean Validation Loss (all folds)</td><td>▁</td></tr><tr><td>Mean Validation RMSE (all folds)</td><td>▁</td></tr><tr><td>epoch</td><td>▁▁▁▂▂▂▂▂▂▃▃▃▃▃▄▄▄▄▄▄▅▅▅▅▅▅▆▆▆▆▆▇▇▇▇▇▇███</td></tr><tr><td>loss</td><td>█▃▄▂▃▂▃▂▁▁▁▁▁▁▁▁▁▁▁▁▁▁▁▁▁▁▁▁▁▁▁▁▁▁▁▁▁▁▁▁</td></tr><tr><td>root_mean_squared_error</td><td>█▄▅▃▄▃▄▃▂▂▂▂▂▂▁▁▁▁▁▁▁▁▁▁▁▁▁▁▁▁▁▁▁▁▁▁▁▁▁▁</td></tr><tr><td>val_loss</td><td>█▄▅▅▅▄▄▃▄▄▃▂▂▂▂▁▁▂▂▂▁▁▂▂▂▁▂▂▂▂▁▂▁▂▂▂▂▂▂▁</td></tr><tr><td>val_root_mean_squared_error</td><td>█▅▆▆▆▄▅▃▅▄▃▃▂▃▃▂▂▂▂▂▁▂▂▂▂▁▂▂▂▂▂▂▂▂▂▂▂▂▂▁</td></tr></table><br/></div><div class=\"wandb-col\">\n",
       "<h3>Run summary:</h3><br/><table class=\"wandb\"><tr><td>Mean Validation Loss (all folds)</td><td>1.20054</td></tr><tr><td>Mean Validation RMSE (all folds)</td><td>1.08942</td></tr><tr><td>best_epoch</td><td>1</td></tr><tr><td>best_val_loss</td><td>0.4549</td></tr><tr><td>epoch</td><td>749</td></tr><tr><td>loss</td><td>0.01157</td></tr><tr><td>root_mean_squared_error</td><td>0.10754</td></tr><tr><td>val_loss</td><td>1.11078</td></tr><tr><td>val_root_mean_squared_error</td><td>1.05393</td></tr></table>\n",
       "</div></div>\n",
       "Synced 5 W&B file(s), 0 media file(s), 0 artifact file(s) and 1 other file(s)\n",
       "<br/>Synced <strong style=\"color:#cdcd00\">drawn-sweep-12</strong>: <a href=\"https://wandb.ai/luiscostigan/house-price-prediction/runs/2v5i966g\" target=\"_blank\">https://wandb.ai/luiscostigan/house-price-prediction/runs/2v5i966g</a><br/>\n",
       "Find logs at: <code>./wandb/run-20220304_134210-2v5i966g/logs</code><br/>\n"
      ],
      "text/plain": [
       "<IPython.core.display.HTML object>"
      ]
     },
     "metadata": {},
     "output_type": "display_data"
    },
    {
     "name": "stderr",
     "output_type": "stream",
     "text": [
      "\u001b[34m\u001b[1mwandb\u001b[0m: wandb version 0.12.11 is available!  To upgrade, please run:\n",
      "\u001b[34m\u001b[1mwandb\u001b[0m:  $ pip install wandb --upgrade\n"
     ]
    },
    {
     "data": {
      "text/html": [
       "\n",
       "                    Syncing run <strong><a href=\"https://wandb.ai/luiscostigan/house-price-prediction/runs/2v5i966g\" target=\"_blank\">drawn-sweep-12</a></strong> to <a href=\"https://wandb.ai/luiscostigan/house-price-prediction\" target=\"_blank\">Weights & Biases</a> (<a href=\"https://docs.wandb.com/integrations/jupyter.html\" target=\"_blank\">docs</a>).<br/>\n",
       "Sweep page: <a href=\"https://wandb.ai/luiscostigan/house-price-prediction/sweeps/hbftehhf\" target=\"_blank\">https://wandb.ai/luiscostigan/house-price-prediction/sweeps/hbftehhf</a><br/>\n",
       "\n",
       "                "
      ],
      "text/plain": [
       "<IPython.core.display.HTML object>"
      ]
     },
     "metadata": {},
     "output_type": "display_data"
    },
    {
     "name": "stdout",
     "output_type": "stream",
     "text": [
      "37/37 [==============================] - 0s 2ms/step - loss: 0.7838 - root_mean_squared_error: 0.8853\n",
      "Score for fold 5: loss of 0.7838287949562073; root_mean_squared_error of 0.8853410482406616\n",
      "------------------------------------------------------------------------\n",
      "Score per fold\n",
      "------------------------------------------------------------------------\n",
      "> Fold 1 - Loss: 1.1196273565292358 - RMSE: 1.0581244230270386%\n",
      "------------------------------------------------------------------------\n",
      "> Fold 2 - Loss: 0.9296003580093384 - RMSE: 0.9641578197479248%\n",
      "------------------------------------------------------------------------\n",
      "> Fold 3 - Loss: 1.642160177230835 - RMSE: 1.2814680337905884%\n",
      "------------------------------------------------------------------------\n",
      "> Fold 4 - Loss: 1.1107772588729858 - RMSE: 1.0539342164993286%\n",
      "------------------------------------------------------------------------\n",
      "> Fold 5 - Loss: 0.7838287949562073 - RMSE: 0.8853410482406616%\n",
      "------------------------------------------------------------------------\n",
      "Average scores for all folds:\n",
      "> RMSE: 1.0486051082611083 (+- 0.13276344125245065)\n",
      "> Loss: 1.1171987891197204\n",
      "------------------------------------------------------------------------\n"
     ]
    },
    {
     "data": {
      "text/html": [
       "<br/>Waiting for W&B process to finish, PID 7853... <strong style=\"color:green\">(success).</strong>"
      ],
      "text/plain": [
       "<IPython.core.display.HTML object>"
      ]
     },
     "metadata": {},
     "output_type": "display_data"
    },
    {
     "data": {
      "application/vnd.jupyter.widget-view+json": {
       "model_id": "d95b7f79e041412ba5f0978c32dd017f",
       "version_major": 2,
       "version_minor": 0
      },
      "text/plain": [
       "VBox(children=(Label(value=' 0.12MB of 0.12MB uploaded (0.00MB deduped)\\r'), FloatProgress(value=1.0, max=1.0)…"
      ]
     },
     "metadata": {},
     "output_type": "display_data"
    },
    {
     "data": {
      "text/html": [
       "<style>\n",
       "    table.wandb td:nth-child(1) { padding: 0 10px; text-align: right }\n",
       "    .wandb-row { display: flex; flex-direction: row; flex-wrap: wrap; width: 100% }\n",
       "    .wandb-col { display: flex; flex-direction: column; flex-basis: 100%; flex: 1; padding: 10px; }\n",
       "    </style>\n",
       "<div class=\"wandb-row\"><div class=\"wandb-col\">\n",
       "<h3>Run history:</h3><br/><table class=\"wandb\"><tr><td>Mean Validation Loss (all folds)</td><td>▁</td></tr><tr><td>Mean Validation RMSE (all folds)</td><td>▁</td></tr><tr><td>epoch</td><td>▁▁▁▂▂▂▂▂▂▃▃▃▃▃▄▄▄▄▄▄▅▅▅▅▅▅▆▆▆▆▆▇▇▇▇▇▇███</td></tr><tr><td>loss</td><td>█▁▂▁▂▁▂▂▁▁▁▁▁▁▁▁▁▁▁▁▁▁▁▁▁▁▁▁▁▁▁▁▁▁▁▁▁▁▁▁</td></tr><tr><td>root_mean_squared_error</td><td>█▃▃▂▃▂▃▃▂▂▂▂▂▂▁▁▁▁▁▁▁▁▁▁▁▁▁▁▁▁▁▁▁▁▁▁▁▁▁▁</td></tr><tr><td>val_loss</td><td>▅███▅▄▅▇▅▄▄▃▂▃▃▂▂▃▃▂▁▂▂▂▂▂▂▂▂▁▂▁▁▁▁▁▁▁▁▂</td></tr><tr><td>val_root_mean_squared_error</td><td>▅███▆▅▅▇▆▄▄▄▃▃▄▃▂▄▃▂▂▃▃▃▂▃▃▂▃▁▂▁▁▂▁▁▂▁▂▂</td></tr></table><br/></div><div class=\"wandb-col\">\n",
       "<h3>Run summary:</h3><br/><table class=\"wandb\"><tr><td>Mean Validation Loss (all folds)</td><td>1.1172</td></tr><tr><td>Mean Validation RMSE (all folds)</td><td>1.04861</td></tr><tr><td>best_epoch</td><td>1</td></tr><tr><td>best_val_loss</td><td>0.28591</td></tr><tr><td>epoch</td><td>749</td></tr><tr><td>loss</td><td>0.00733</td></tr><tr><td>root_mean_squared_error</td><td>0.08563</td></tr><tr><td>val_loss</td><td>0.78383</td></tr><tr><td>val_root_mean_squared_error</td><td>0.88534</td></tr></table>\n",
       "</div></div>\n",
       "Synced 5 W&B file(s), 0 media file(s), 0 artifact file(s) and 1 other file(s)\n",
       "<br/>Synced <strong style=\"color:#cdcd00\">drawn-sweep-12</strong>: <a href=\"https://wandb.ai/luiscostigan/house-price-prediction/runs/2v5i966g\" target=\"_blank\">https://wandb.ai/luiscostigan/house-price-prediction/runs/2v5i966g</a><br/>\n",
       "Find logs at: <code>./wandb/run-20220304_134434-2v5i966g/logs</code><br/>\n"
      ],
      "text/plain": [
       "<IPython.core.display.HTML object>"
      ]
     },
     "metadata": {},
     "output_type": "display_data"
    },
    {
     "name": "stderr",
     "output_type": "stream",
     "text": [
      "\u001b[34m\u001b[1mwandb\u001b[0m: Agent Starting Run: 347t8577 with config:\n",
      "\u001b[34m\u001b[1mwandb\u001b[0m: \tbatch_size: 16\n",
      "\u001b[34m\u001b[1mwandb\u001b[0m: \tdense1: 16\n",
      "\u001b[34m\u001b[1mwandb\u001b[0m: \tdense2: 16\n",
      "\u001b[34m\u001b[1mwandb\u001b[0m: \tdropout1: 0.05813504025906704\n",
      "\u001b[34m\u001b[1mwandb\u001b[0m: \tepochs: 750\n",
      "\u001b[34m\u001b[1mwandb\u001b[0m: wandb version 0.12.11 is available!  To upgrade, please run:\n",
      "\u001b[34m\u001b[1mwandb\u001b[0m:  $ pip install wandb --upgrade\n"
     ]
    },
    {
     "data": {
      "text/html": [
       "\n",
       "                    Syncing run <strong><a href=\"https://wandb.ai/luiscostigan/house-price-prediction/runs/347t8577\" target=\"_blank\">vital-sweep-13</a></strong> to <a href=\"https://wandb.ai/luiscostigan/house-price-prediction\" target=\"_blank\">Weights & Biases</a> (<a href=\"https://docs.wandb.com/integrations/jupyter.html\" target=\"_blank\">docs</a>).<br/>\n",
       "Sweep page: <a href=\"https://wandb.ai/luiscostigan/house-price-prediction/sweeps/hbftehhf\" target=\"_blank\">https://wandb.ai/luiscostigan/house-price-prediction/sweeps/hbftehhf</a><br/>\n",
       "\n",
       "                "
      ],
      "text/plain": [
       "<IPython.core.display.HTML object>"
      ]
     },
     "metadata": {},
     "output_type": "display_data"
    },
    {
     "name": "stdout",
     "output_type": "stream",
     "text": [
      "37/37 [==============================] - 0s 2ms/step - loss: 0.3509 - root_mean_squared_error: 0.5923\n",
      "Score for fold 1: loss of 0.35087552666664124; root_mean_squared_error of 0.5923474431037903\n",
      "------------------------------------------------------------------------\n",
      "Score per fold\n",
      "------------------------------------------------------------------------\n",
      "> Fold 1 - Loss: 0.35087552666664124 - RMSE: 0.5923474431037903%\n",
      "------------------------------------------------------------------------\n",
      "Average scores for all folds:\n",
      "> RMSE: 0.5923474431037903 (+- 0.0)\n",
      "> Loss: 0.35087552666664124\n",
      "------------------------------------------------------------------------\n"
     ]
    },
    {
     "data": {
      "text/html": [
       "<br/>Waiting for W&B process to finish, PID 23598... <strong style=\"color:green\">(success).</strong>"
      ],
      "text/plain": [
       "<IPython.core.display.HTML object>"
      ]
     },
     "metadata": {},
     "output_type": "display_data"
    },
    {
     "data": {
      "application/vnd.jupyter.widget-view+json": {
       "model_id": "ce7f8a4562d84cd297ffa8a04a97ea9c",
       "version_major": 2,
       "version_minor": 0
      },
      "text/plain": [
       "VBox(children=(Label(value=' 0.12MB of 0.12MB uploaded (0.00MB deduped)\\r'), FloatProgress(value=1.0, max=1.0)…"
      ]
     },
     "metadata": {},
     "output_type": "display_data"
    },
    {
     "data": {
      "text/html": [
       "<style>\n",
       "    table.wandb td:nth-child(1) { padding: 0 10px; text-align: right }\n",
       "    .wandb-row { display: flex; flex-direction: row; flex-wrap: wrap; width: 100% }\n",
       "    .wandb-col { display: flex; flex-direction: column; flex-basis: 100%; flex: 1; padding: 10px; }\n",
       "    </style>\n",
       "<div class=\"wandb-row\"><div class=\"wandb-col\">\n",
       "<h3>Run history:</h3><br/><table class=\"wandb\"><tr><td>Mean Validation Loss (all folds)</td><td>▁</td></tr><tr><td>Mean Validation RMSE (all folds)</td><td>▁</td></tr><tr><td>epoch</td><td>▁▁▁▂▂▂▂▂▂▃▃▃▃▃▄▄▄▄▄▄▅▅▅▅▅▅▆▆▆▆▆▇▇▇▇▇▇███</td></tr><tr><td>loss</td><td>█▄▃▂▂▂▂▂▁▁▁▁▁▁▁▁▁▁▁▁▁▁▁▁▁▁▁▁▁▁▁▁▁▁▁▁▁▁▁▁</td></tr><tr><td>root_mean_squared_error</td><td>█▅▄▃▃▃▂▂▂▂▂▂▂▂▂▂▁▁▂▂▂▁▁▁▂▂▁▁▂▁▁▁▁▁▁▁▁▁▁▁</td></tr><tr><td>val_loss</td><td>▅▁▂▃▅▃█▅▄▂▃▅▆▂▁▅▂▅▂▂▂▄▁▅▄▂▆▅▂▅▆▂▂▂▁▅▂▁▃▅</td></tr><tr><td>val_root_mean_squared_error</td><td>▅▂▂▄▆▄█▅▅▂▃▅▇▂▁▆▃▅▃▂▂▅▁▆▅▃▆▆▂▅▆▃▃▂▂▆▃▁▄▆</td></tr></table><br/></div><div class=\"wandb-col\">\n",
       "<h3>Run summary:</h3><br/><table class=\"wandb\"><tr><td>Mean Validation Loss (all folds)</td><td>0.35088</td></tr><tr><td>Mean Validation RMSE (all folds)</td><td>0.59235</td></tr><tr><td>best_epoch</td><td>28</td></tr><tr><td>best_val_loss</td><td>0.06604</td></tr><tr><td>epoch</td><td>749</td></tr><tr><td>loss</td><td>0.01403</td></tr><tr><td>root_mean_squared_error</td><td>0.11847</td></tr><tr><td>val_loss</td><td>0.35088</td></tr><tr><td>val_root_mean_squared_error</td><td>0.59235</td></tr></table>\n",
       "</div></div>\n",
       "Synced 5 W&B file(s), 0 media file(s), 0 artifact file(s) and 1 other file(s)\n",
       "<br/>Synced <strong style=\"color:#cdcd00\">vital-sweep-13</strong>: <a href=\"https://wandb.ai/luiscostigan/house-price-prediction/runs/347t8577\" target=\"_blank\">https://wandb.ai/luiscostigan/house-price-prediction/runs/347t8577</a><br/>\n",
       "Find logs at: <code>./wandb/run-20220304_134711-347t8577/logs</code><br/>\n"
      ],
      "text/plain": [
       "<IPython.core.display.HTML object>"
      ]
     },
     "metadata": {},
     "output_type": "display_data"
    },
    {
     "name": "stderr",
     "output_type": "stream",
     "text": [
      "\u001b[34m\u001b[1mwandb\u001b[0m: wandb version 0.12.11 is available!  To upgrade, please run:\n",
      "\u001b[34m\u001b[1mwandb\u001b[0m:  $ pip install wandb --upgrade\n"
     ]
    },
    {
     "data": {
      "text/html": [
       "\n",
       "                    Syncing run <strong><a href=\"https://wandb.ai/luiscostigan/house-price-prediction/runs/347t8577\" target=\"_blank\">vital-sweep-13</a></strong> to <a href=\"https://wandb.ai/luiscostigan/house-price-prediction\" target=\"_blank\">Weights & Biases</a> (<a href=\"https://docs.wandb.com/integrations/jupyter.html\" target=\"_blank\">docs</a>).<br/>\n",
       "Sweep page: <a href=\"https://wandb.ai/luiscostigan/house-price-prediction/sweeps/hbftehhf\" target=\"_blank\">https://wandb.ai/luiscostigan/house-price-prediction/sweeps/hbftehhf</a><br/>\n",
       "\n",
       "                "
      ],
      "text/plain": [
       "<IPython.core.display.HTML object>"
      ]
     },
     "metadata": {},
     "output_type": "display_data"
    },
    {
     "name": "stdout",
     "output_type": "stream",
     "text": [
      "37/37 [==============================] - 0s 2ms/step - loss: 0.2851 - root_mean_squared_error: 0.5339\n",
      "Score for fold 2: loss of 0.2850601375102997; root_mean_squared_error of 0.5339102149009705\n",
      "------------------------------------------------------------------------\n",
      "Score per fold\n",
      "------------------------------------------------------------------------\n",
      "> Fold 1 - Loss: 0.35087552666664124 - RMSE: 0.5923474431037903%\n",
      "------------------------------------------------------------------------\n",
      "> Fold 2 - Loss: 0.2850601375102997 - RMSE: 0.5339102149009705%\n",
      "------------------------------------------------------------------------\n",
      "Average scores for all folds:\n",
      "> RMSE: 0.5631288290023804 (+- 0.029218614101409912)\n",
      "> Loss: 0.31796783208847046\n",
      "------------------------------------------------------------------------\n"
     ]
    },
    {
     "data": {
      "text/html": [
       "<br/>Waiting for W&B process to finish, PID 6841... <strong style=\"color:green\">(success).</strong>"
      ],
      "text/plain": [
       "<IPython.core.display.HTML object>"
      ]
     },
     "metadata": {},
     "output_type": "display_data"
    },
    {
     "data": {
      "application/vnd.jupyter.widget-view+json": {
       "model_id": "b67ce2ca7afb47d692545c5d3d4ea9a6",
       "version_major": 2,
       "version_minor": 0
      },
      "text/plain": [
       "VBox(children=(Label(value=' 0.12MB of 0.12MB uploaded (0.00MB deduped)\\r'), FloatProgress(value=1.0, max=1.0)…"
      ]
     },
     "metadata": {},
     "output_type": "display_data"
    },
    {
     "data": {
      "text/html": [
       "<style>\n",
       "    table.wandb td:nth-child(1) { padding: 0 10px; text-align: right }\n",
       "    .wandb-row { display: flex; flex-direction: row; flex-wrap: wrap; width: 100% }\n",
       "    .wandb-col { display: flex; flex-direction: column; flex-basis: 100%; flex: 1; padding: 10px; }\n",
       "    </style>\n",
       "<div class=\"wandb-row\"><div class=\"wandb-col\">\n",
       "<h3>Run history:</h3><br/><table class=\"wandb\"><tr><td>Mean Validation Loss (all folds)</td><td>▁</td></tr><tr><td>Mean Validation RMSE (all folds)</td><td>▁</td></tr><tr><td>epoch</td><td>▁▁▁▂▂▂▂▂▂▃▃▃▃▃▄▄▄▄▄▄▅▅▅▅▅▅▆▆▆▆▆▇▇▇▇▇▇███</td></tr><tr><td>loss</td><td>█▃▂▂▁▁▁▁▁▁▁▁▁▁▁▁▁▁▁▁▁▁▁▁▁▁▁▁▁▂▁▁▁▁▁▁▁▁▁▁</td></tr><tr><td>root_mean_squared_error</td><td>█▄▃▃▂▂▂▂▂▂▂▂▂▂▂▁▂▁▁▂▁▁▁▁▁▂▁▁▂▃▁▁▁▁▁▁▁▁▁▁</td></tr><tr><td>val_loss</td><td>▁▂▃▅▇▆▅▆█▁▄▄▄▅▅▃▅▂▂▆▆▃▃▃▅▄▅▇▂▅▂▃▂▅▂▁▃▆▃▃</td></tr><tr><td>val_root_mean_squared_error</td><td>▂▂▃▅▇▇▆▇█▁▄▅▄▅▅▃▆▂▃▆▆▃▄▄▆▅▆▇▃▆▃▃▂▅▂▂▃▆▄▃</td></tr></table><br/></div><div class=\"wandb-col\">\n",
       "<h3>Run summary:</h3><br/><table class=\"wandb\"><tr><td>Mean Validation Loss (all folds)</td><td>0.31797</td></tr><tr><td>Mean Validation RMSE (all folds)</td><td>0.56313</td></tr><tr><td>best_epoch</td><td>8</td></tr><tr><td>best_val_loss</td><td>0.05533</td></tr><tr><td>epoch</td><td>749</td></tr><tr><td>loss</td><td>0.0085</td></tr><tr><td>root_mean_squared_error</td><td>0.09219</td></tr><tr><td>val_loss</td><td>0.28506</td></tr><tr><td>val_root_mean_squared_error</td><td>0.53391</td></tr></table>\n",
       "</div></div>\n",
       "Synced 5 W&B file(s), 0 media file(s), 0 artifact file(s) and 1 other file(s)\n",
       "<br/>Synced <strong style=\"color:#cdcd00\">vital-sweep-13</strong>: <a href=\"https://wandb.ai/luiscostigan/house-price-prediction/runs/347t8577\" target=\"_blank\">https://wandb.ai/luiscostigan/house-price-prediction/runs/347t8577</a><br/>\n",
       "Find logs at: <code>./wandb/run-20220304_134941-347t8577/logs</code><br/>\n"
      ],
      "text/plain": [
       "<IPython.core.display.HTML object>"
      ]
     },
     "metadata": {},
     "output_type": "display_data"
    },
    {
     "name": "stderr",
     "output_type": "stream",
     "text": [
      "\u001b[34m\u001b[1mwandb\u001b[0m: wandb version 0.12.11 is available!  To upgrade, please run:\n",
      "\u001b[34m\u001b[1mwandb\u001b[0m:  $ pip install wandb --upgrade\n"
     ]
    },
    {
     "data": {
      "text/html": [
       "\n",
       "                    Syncing run <strong><a href=\"https://wandb.ai/luiscostigan/house-price-prediction/runs/347t8577\" target=\"_blank\">vital-sweep-13</a></strong> to <a href=\"https://wandb.ai/luiscostigan/house-price-prediction\" target=\"_blank\">Weights & Biases</a> (<a href=\"https://docs.wandb.com/integrations/jupyter.html\" target=\"_blank\">docs</a>).<br/>\n",
       "Sweep page: <a href=\"https://wandb.ai/luiscostigan/house-price-prediction/sweeps/hbftehhf\" target=\"_blank\">https://wandb.ai/luiscostigan/house-price-prediction/sweeps/hbftehhf</a><br/>\n",
       "\n",
       "                "
      ],
      "text/plain": [
       "<IPython.core.display.HTML object>"
      ]
     },
     "metadata": {},
     "output_type": "display_data"
    },
    {
     "name": "stdout",
     "output_type": "stream",
     "text": [
      "37/37 [==============================] - 0s 2ms/step - loss: 0.0779 - root_mean_squared_error: 0.2792\n",
      "Score for fold 3: loss of 0.07792703062295914; root_mean_squared_error of 0.27915412187576294\n",
      "------------------------------------------------------------------------\n",
      "Score per fold\n",
      "------------------------------------------------------------------------\n",
      "> Fold 1 - Loss: 0.35087552666664124 - RMSE: 0.5923474431037903%\n",
      "------------------------------------------------------------------------\n",
      "> Fold 2 - Loss: 0.2850601375102997 - RMSE: 0.5339102149009705%\n",
      "------------------------------------------------------------------------\n",
      "> Fold 3 - Loss: 0.07792703062295914 - RMSE: 0.27915412187576294%\n",
      "------------------------------------------------------------------------\n",
      "Average scores for all folds:\n",
      "> RMSE: 0.4684705932935079 (+- 0.1359761551953295)\n",
      "> Loss: 0.23795423159996668\n",
      "------------------------------------------------------------------------\n"
     ]
    },
    {
     "data": {
      "text/html": [
       "<br/>Waiting for W&B process to finish, PID 22527... <strong style=\"color:green\">(success).</strong>"
      ],
      "text/plain": [
       "<IPython.core.display.HTML object>"
      ]
     },
     "metadata": {},
     "output_type": "display_data"
    },
    {
     "data": {
      "application/vnd.jupyter.widget-view+json": {
       "model_id": "fa1cadc963af47e3850036c0fc1845d0",
       "version_major": 2,
       "version_minor": 0
      },
      "text/plain": [
       "VBox(children=(Label(value=' 0.12MB of 0.12MB uploaded (0.00MB deduped)\\r'), FloatProgress(value=1.0, max=1.0)…"
      ]
     },
     "metadata": {},
     "output_type": "display_data"
    },
    {
     "data": {
      "text/html": [
       "<style>\n",
       "    table.wandb td:nth-child(1) { padding: 0 10px; text-align: right }\n",
       "    .wandb-row { display: flex; flex-direction: row; flex-wrap: wrap; width: 100% }\n",
       "    .wandb-col { display: flex; flex-direction: column; flex-basis: 100%; flex: 1; padding: 10px; }\n",
       "    </style>\n",
       "<div class=\"wandb-row\"><div class=\"wandb-col\">\n",
       "<h3>Run history:</h3><br/><table class=\"wandb\"><tr><td>Mean Validation Loss (all folds)</td><td>▁</td></tr><tr><td>Mean Validation RMSE (all folds)</td><td>▁</td></tr><tr><td>epoch</td><td>▁▁▁▂▂▂▂▂▂▃▃▃▃▃▄▄▄▄▄▄▅▅▅▅▅▅▆▆▆▆▆▇▇▇▇▇▇███</td></tr><tr><td>loss</td><td>█▃▂▂▂▁▂▁▁▁▁▁▁▁▁▁▁▁▁▁▁▁▁▁▁▁▁▁▁▁▁▁▁▁▁▁▁▁▁▁</td></tr><tr><td>root_mean_squared_error</td><td>█▄▄▃▃▂▃▂▂▂▂▂▂▂▂▂▂▁▁▂▁▂▂▁▂▂▁▁▁▁▁▁▁▁▁▁▁▁▁▁</td></tr><tr><td>val_loss</td><td>▁▂█▅▅▄▂▄▅▄▃▃▂▂▂▂▄▂▁▃▃▂▃▂▂▂▃▁▁▂▂▁▁▁▂▂▂▁▁▂</td></tr><tr><td>val_root_mean_squared_error</td><td>▁▃█▆▆▅▂▅▆▅▄▄▃▃▃▃▅▃▂▄▄▂▄▂▂▂▄▂▂▃▂▁▁▁▃▂▃▂▁▃</td></tr></table><br/></div><div class=\"wandb-col\">\n",
       "<h3>Run summary:</h3><br/><table class=\"wandb\"><tr><td>Mean Validation Loss (all folds)</td><td>0.23795</td></tr><tr><td>Mean Validation RMSE (all folds)</td><td>0.46847</td></tr><tr><td>best_epoch</td><td>16</td></tr><tr><td>best_val_loss</td><td>0.03159</td></tr><tr><td>epoch</td><td>749</td></tr><tr><td>loss</td><td>0.00704</td></tr><tr><td>root_mean_squared_error</td><td>0.08392</td></tr><tr><td>val_loss</td><td>0.07793</td></tr><tr><td>val_root_mean_squared_error</td><td>0.27915</td></tr></table>\n",
       "</div></div>\n",
       "Synced 5 W&B file(s), 0 media file(s), 0 artifact file(s) and 1 other file(s)\n",
       "<br/>Synced <strong style=\"color:#cdcd00\">vital-sweep-13</strong>: <a href=\"https://wandb.ai/luiscostigan/house-price-prediction/runs/347t8577\" target=\"_blank\">https://wandb.ai/luiscostigan/house-price-prediction/runs/347t8577</a><br/>\n",
       "Find logs at: <code>./wandb/run-20220304_135208-347t8577/logs</code><br/>\n"
      ],
      "text/plain": [
       "<IPython.core.display.HTML object>"
      ]
     },
     "metadata": {},
     "output_type": "display_data"
    },
    {
     "name": "stderr",
     "output_type": "stream",
     "text": [
      "\u001b[34m\u001b[1mwandb\u001b[0m: wandb version 0.12.11 is available!  To upgrade, please run:\n",
      "\u001b[34m\u001b[1mwandb\u001b[0m:  $ pip install wandb --upgrade\n"
     ]
    },
    {
     "data": {
      "text/html": [
       "\n",
       "                    Syncing run <strong><a href=\"https://wandb.ai/luiscostigan/house-price-prediction/runs/347t8577\" target=\"_blank\">vital-sweep-13</a></strong> to <a href=\"https://wandb.ai/luiscostigan/house-price-prediction\" target=\"_blank\">Weights & Biases</a> (<a href=\"https://docs.wandb.com/integrations/jupyter.html\" target=\"_blank\">docs</a>).<br/>\n",
       "Sweep page: <a href=\"https://wandb.ai/luiscostigan/house-price-prediction/sweeps/hbftehhf\" target=\"_blank\">https://wandb.ai/luiscostigan/house-price-prediction/sweeps/hbftehhf</a><br/>\n",
       "\n",
       "                "
      ],
      "text/plain": [
       "<IPython.core.display.HTML object>"
      ]
     },
     "metadata": {},
     "output_type": "display_data"
    },
    {
     "name": "stdout",
     "output_type": "stream",
     "text": [
      "37/37 [==============================] - 0s 2ms/step - loss: 0.2452 - root_mean_squared_error: 0.4952\n",
      "Score for fold 4: loss of 0.24519005417823792; root_mean_squared_error of 0.49516668915748596\n",
      "------------------------------------------------------------------------\n",
      "Score per fold\n",
      "------------------------------------------------------------------------\n",
      "> Fold 1 - Loss: 0.35087552666664124 - RMSE: 0.5923474431037903%\n",
      "------------------------------------------------------------------------\n",
      "> Fold 2 - Loss: 0.2850601375102997 - RMSE: 0.5339102149009705%\n",
      "------------------------------------------------------------------------\n",
      "> Fold 3 - Loss: 0.07792703062295914 - RMSE: 0.27915412187576294%\n",
      "------------------------------------------------------------------------\n",
      "> Fold 4 - Loss: 0.24519005417823792 - RMSE: 0.49516668915748596%\n",
      "------------------------------------------------------------------------\n",
      "Average scores for all folds:\n",
      "> RMSE: 0.4751446172595024 (+- 0.11832482357465932)\n",
      "> Loss: 0.2397631872445345\n",
      "------------------------------------------------------------------------\n"
     ]
    },
    {
     "data": {
      "text/html": [
       "<br/>Waiting for W&B process to finish, PID 5758... <strong style=\"color:green\">(success).</strong>"
      ],
      "text/plain": [
       "<IPython.core.display.HTML object>"
      ]
     },
     "metadata": {},
     "output_type": "display_data"
    },
    {
     "data": {
      "application/vnd.jupyter.widget-view+json": {
       "model_id": "4209f89b531a4e31bd6b5baf2829dd96",
       "version_major": 2,
       "version_minor": 0
      },
      "text/plain": [
       "VBox(children=(Label(value=' 0.12MB of 0.12MB uploaded (0.00MB deduped)\\r'), FloatProgress(value=1.0, max=1.0)…"
      ]
     },
     "metadata": {},
     "output_type": "display_data"
    },
    {
     "data": {
      "text/html": [
       "<style>\n",
       "    table.wandb td:nth-child(1) { padding: 0 10px; text-align: right }\n",
       "    .wandb-row { display: flex; flex-direction: row; flex-wrap: wrap; width: 100% }\n",
       "    .wandb-col { display: flex; flex-direction: column; flex-basis: 100%; flex: 1; padding: 10px; }\n",
       "    </style>\n",
       "<div class=\"wandb-row\"><div class=\"wandb-col\">\n",
       "<h3>Run history:</h3><br/><table class=\"wandb\"><tr><td>Mean Validation Loss (all folds)</td><td>▁</td></tr><tr><td>Mean Validation RMSE (all folds)</td><td>▁</td></tr><tr><td>epoch</td><td>▁▁▁▂▂▂▂▂▂▃▃▃▃▃▄▄▄▄▄▄▅▅▅▅▅▅▆▆▆▆▆▇▇▇▇▇▇███</td></tr><tr><td>loss</td><td>█▄▂▂▂▁▁▁▁▁▁▁▁▁▁▁▁▁▁▁▁▁▁▁▁▁▁▁▁▁▁▁▁▁▁▁▁▁▁▁</td></tr><tr><td>root_mean_squared_error</td><td>█▅▃▃▂▂▂▂▂▂▂▁▂▂▁▂▂▁▁▁▁▁▁▁▁▁▁▁▂▁▁▁▁▁▁▁▁▁▁▁</td></tr><tr><td>val_loss</td><td>▁▄█▂▇▁▅▂▂▄▃▃▃▄▃▂▂▁▄▁▅▄▃▂▁▄▃▃▃▂▁▂▂▁▃▂▂▃▃▂</td></tr><tr><td>val_root_mean_squared_error</td><td>▁▅█▃▇▁▆▂▃▅▃▄▃▄▃▃▂▂▅▂▅▅▄▂▂▅▄▄▄▂▁▃▃▂▄▂▂▄▄▃</td></tr></table><br/></div><div class=\"wandb-col\">\n",
       "<h3>Run summary:</h3><br/><table class=\"wandb\"><tr><td>Mean Validation Loss (all folds)</td><td>0.23976</td></tr><tr><td>Mean Validation RMSE (all folds)</td><td>0.47514</td></tr><tr><td>best_epoch</td><td>10</td></tr><tr><td>best_val_loss</td><td>0.05604</td></tr><tr><td>epoch</td><td>749</td></tr><tr><td>loss</td><td>0.0138</td></tr><tr><td>root_mean_squared_error</td><td>0.11749</td></tr><tr><td>val_loss</td><td>0.24519</td></tr><tr><td>val_root_mean_squared_error</td><td>0.49517</td></tr></table>\n",
       "</div></div>\n",
       "Synced 5 W&B file(s), 0 media file(s), 0 artifact file(s) and 1 other file(s)\n",
       "<br/>Synced <strong style=\"color:#cdcd00\">vital-sweep-13</strong>: <a href=\"https://wandb.ai/luiscostigan/house-price-prediction/runs/347t8577\" target=\"_blank\">https://wandb.ai/luiscostigan/house-price-prediction/runs/347t8577</a><br/>\n",
       "Find logs at: <code>./wandb/run-20220304_135439-347t8577/logs</code><br/>\n"
      ],
      "text/plain": [
       "<IPython.core.display.HTML object>"
      ]
     },
     "metadata": {},
     "output_type": "display_data"
    },
    {
     "name": "stderr",
     "output_type": "stream",
     "text": [
      "\u001b[34m\u001b[1mwandb\u001b[0m: wandb version 0.12.11 is available!  To upgrade, please run:\n",
      "\u001b[34m\u001b[1mwandb\u001b[0m:  $ pip install wandb --upgrade\n"
     ]
    },
    {
     "data": {
      "text/html": [
       "\n",
       "                    Syncing run <strong><a href=\"https://wandb.ai/luiscostigan/house-price-prediction/runs/347t8577\" target=\"_blank\">vital-sweep-13</a></strong> to <a href=\"https://wandb.ai/luiscostigan/house-price-prediction\" target=\"_blank\">Weights & Biases</a> (<a href=\"https://docs.wandb.com/integrations/jupyter.html\" target=\"_blank\">docs</a>).<br/>\n",
       "Sweep page: <a href=\"https://wandb.ai/luiscostigan/house-price-prediction/sweeps/hbftehhf\" target=\"_blank\">https://wandb.ai/luiscostigan/house-price-prediction/sweeps/hbftehhf</a><br/>\n",
       "\n",
       "                "
      ],
      "text/plain": [
       "<IPython.core.display.HTML object>"
      ]
     },
     "metadata": {},
     "output_type": "display_data"
    },
    {
     "name": "stdout",
     "output_type": "stream",
     "text": [
      "37/37 [==============================] - 0s 2ms/step - loss: 0.3989 - root_mean_squared_error: 0.6316\n",
      "Score for fold 5: loss of 0.3988983929157257; root_mean_squared_error of 0.6315840482711792\n",
      "------------------------------------------------------------------------\n",
      "Score per fold\n",
      "------------------------------------------------------------------------\n",
      "> Fold 1 - Loss: 0.35087552666664124 - RMSE: 0.5923474431037903%\n",
      "------------------------------------------------------------------------\n",
      "> Fold 2 - Loss: 0.2850601375102997 - RMSE: 0.5339102149009705%\n",
      "------------------------------------------------------------------------\n",
      "> Fold 3 - Loss: 0.07792703062295914 - RMSE: 0.27915412187576294%\n",
      "------------------------------------------------------------------------\n",
      "> Fold 4 - Loss: 0.24519005417823792 - RMSE: 0.49516668915748596%\n",
      "------------------------------------------------------------------------\n",
      "> Fold 5 - Loss: 0.3988983929157257 - RMSE: 0.6315840482711792%\n",
      "------------------------------------------------------------------------\n",
      "Average scores for all folds:\n",
      "> RMSE: 0.5064325034618378 (+- 0.12294851927217568)\n",
      "> Loss: 0.2715902283787727\n",
      "------------------------------------------------------------------------\n"
     ]
    },
    {
     "data": {
      "text/html": [
       "<br/>Waiting for W&B process to finish, PID 21477... <strong style=\"color:green\">(success).</strong>"
      ],
      "text/plain": [
       "<IPython.core.display.HTML object>"
      ]
     },
     "metadata": {},
     "output_type": "display_data"
    },
    {
     "data": {
      "application/vnd.jupyter.widget-view+json": {
       "model_id": "ecdb7ad415054e408628a7df9a664c2b",
       "version_major": 2,
       "version_minor": 0
      },
      "text/plain": [
       "VBox(children=(Label(value=' 0.12MB of 0.12MB uploaded (0.00MB deduped)\\r'), FloatProgress(value=1.0, max=1.0)…"
      ]
     },
     "metadata": {},
     "output_type": "display_data"
    },
    {
     "data": {
      "text/html": [
       "<style>\n",
       "    table.wandb td:nth-child(1) { padding: 0 10px; text-align: right }\n",
       "    .wandb-row { display: flex; flex-direction: row; flex-wrap: wrap; width: 100% }\n",
       "    .wandb-col { display: flex; flex-direction: column; flex-basis: 100%; flex: 1; padding: 10px; }\n",
       "    </style>\n",
       "<div class=\"wandb-row\"><div class=\"wandb-col\">\n",
       "<h3>Run history:</h3><br/><table class=\"wandb\"><tr><td>Mean Validation Loss (all folds)</td><td>▁</td></tr><tr><td>Mean Validation RMSE (all folds)</td><td>▁</td></tr><tr><td>epoch</td><td>▁▁▁▂▂▂▂▂▂▃▃▃▃▃▄▄▄▄▄▄▅▅▅▅▅▅▆▆▆▆▆▇▇▇▇▇▇███</td></tr><tr><td>loss</td><td>█▄▅▃▂▂▁▂▂▁▁▁▁▁▃▁▁▁▁▁▁▁▁▁▁▁▁▁▁▁▁▁▁▁▁▁▁▁▁▁</td></tr><tr><td>root_mean_squared_error</td><td>█▅▆▄▃▂▂▃▂▂▂▂▂▂▄▂▂▂▂▂▁▁▁▁▁▁▁▁▁▁▁▁▁▁▁▁▁▁▁▁</td></tr><tr><td>val_loss</td><td>▃▇▂▃▂▇▇▂▃▇▂█▆▃▃▅▆▅▃▇▄▂▅▁▅▃▂▃▆▂▅█▃▂▅▆▅▅▅▄</td></tr><tr><td>val_root_mean_squared_error</td><td>▄█▃▄▃▇▇▃▄▇▂█▇▃▃▆▆▆▃▇▅▂▅▁▆▄▃▃▆▂▅█▃▂▆▆▆▆▅▅</td></tr></table><br/></div><div class=\"wandb-col\">\n",
       "<h3>Run summary:</h3><br/><table class=\"wandb\"><tr><td>Mean Validation Loss (all folds)</td><td>0.27159</td></tr><tr><td>Mean Validation RMSE (all folds)</td><td>0.50643</td></tr><tr><td>best_epoch</td><td>5</td></tr><tr><td>best_val_loss</td><td>0.10395</td></tr><tr><td>epoch</td><td>749</td></tr><tr><td>loss</td><td>0.01258</td></tr><tr><td>root_mean_squared_error</td><td>0.11215</td></tr><tr><td>val_loss</td><td>0.3989</td></tr><tr><td>val_root_mean_squared_error</td><td>0.63158</td></tr></table>\n",
       "</div></div>\n",
       "Synced 5 W&B file(s), 0 media file(s), 0 artifact file(s) and 1 other file(s)\n",
       "<br/>Synced <strong style=\"color:#cdcd00\">vital-sweep-13</strong>: <a href=\"https://wandb.ai/luiscostigan/house-price-prediction/runs/347t8577\" target=\"_blank\">https://wandb.ai/luiscostigan/house-price-prediction/runs/347t8577</a><br/>\n",
       "Find logs at: <code>./wandb/run-20220304_135709-347t8577/logs</code><br/>\n"
      ],
      "text/plain": [
       "<IPython.core.display.HTML object>"
      ]
     },
     "metadata": {},
     "output_type": "display_data"
    },
    {
     "name": "stderr",
     "output_type": "stream",
     "text": [
      "\u001b[34m\u001b[1mwandb\u001b[0m: Agent Starting Run: y5bbxc4c with config:\n",
      "\u001b[34m\u001b[1mwandb\u001b[0m: \tbatch_size: 64\n",
      "\u001b[34m\u001b[1mwandb\u001b[0m: \tdense1: 16\n",
      "\u001b[34m\u001b[1mwandb\u001b[0m: \tdense2: 16\n",
      "\u001b[34m\u001b[1mwandb\u001b[0m: \tdropout1: 0.14550081411403146\n",
      "\u001b[34m\u001b[1mwandb\u001b[0m: \tepochs: 750\n",
      "\u001b[34m\u001b[1mwandb\u001b[0m: wandb version 0.12.11 is available!  To upgrade, please run:\n",
      "\u001b[34m\u001b[1mwandb\u001b[0m:  $ pip install wandb --upgrade\n"
     ]
    },
    {
     "data": {
      "text/html": [
       "\n",
       "                    Syncing run <strong><a href=\"https://wandb.ai/luiscostigan/house-price-prediction/runs/y5bbxc4c\" target=\"_blank\">revived-sweep-14</a></strong> to <a href=\"https://wandb.ai/luiscostigan/house-price-prediction\" target=\"_blank\">Weights & Biases</a> (<a href=\"https://docs.wandb.com/integrations/jupyter.html\" target=\"_blank\">docs</a>).<br/>\n",
       "Sweep page: <a href=\"https://wandb.ai/luiscostigan/house-price-prediction/sweeps/hbftehhf\" target=\"_blank\">https://wandb.ai/luiscostigan/house-price-prediction/sweeps/hbftehhf</a><br/>\n",
       "\n",
       "                "
      ],
      "text/plain": [
       "<IPython.core.display.HTML object>"
      ]
     },
     "metadata": {},
     "output_type": "display_data"
    },
    {
     "name": "stdout",
     "output_type": "stream",
     "text": [
      "37/37 [==============================] - 0s 1ms/step - loss: 1.6801 - root_mean_squared_error: 1.2962\n",
      "Score for fold 1: loss of 1.6801282167434692; root_mean_squared_error of 1.2961976528167725\n",
      "------------------------------------------------------------------------\n",
      "Score per fold\n",
      "------------------------------------------------------------------------\n",
      "> Fold 1 - Loss: 1.6801282167434692 - RMSE: 1.2961976528167725%\n",
      "------------------------------------------------------------------------\n",
      "Average scores for all folds:\n",
      "> RMSE: 1.2961976528167725 (+- 0.0)\n",
      "> Loss: 1.6801282167434692\n",
      "------------------------------------------------------------------------\n"
     ]
    },
    {
     "data": {
      "text/html": [
       "<br/>Waiting for W&B process to finish, PID 4724... <strong style=\"color:green\">(success).</strong>"
      ],
      "text/plain": [
       "<IPython.core.display.HTML object>"
      ]
     },
     "metadata": {},
     "output_type": "display_data"
    },
    {
     "data": {
      "application/vnd.jupyter.widget-view+json": {
       "model_id": "481893a9c8234f5696cb75c8364bac08",
       "version_major": 2,
       "version_minor": 0
      },
      "text/plain": [
       "VBox(children=(Label(value=' 0.12MB of 0.12MB uploaded (0.00MB deduped)\\r'), FloatProgress(value=1.0, max=1.0)…"
      ]
     },
     "metadata": {},
     "output_type": "display_data"
    },
    {
     "data": {
      "text/html": [
       "<style>\n",
       "    table.wandb td:nth-child(1) { padding: 0 10px; text-align: right }\n",
       "    .wandb-row { display: flex; flex-direction: row; flex-wrap: wrap; width: 100% }\n",
       "    .wandb-col { display: flex; flex-direction: column; flex-basis: 100%; flex: 1; padding: 10px; }\n",
       "    </style>\n",
       "<div class=\"wandb-row\"><div class=\"wandb-col\">\n",
       "<h3>Run history:</h3><br/><table class=\"wandb\"><tr><td>Mean Validation Loss (all folds)</td><td>▁</td></tr><tr><td>Mean Validation RMSE (all folds)</td><td>▁</td></tr><tr><td>epoch</td><td>▁▁▁▂▂▂▂▂▂▃▃▃▃▃▄▄▄▄▄▄▅▅▅▅▅▅▆▆▆▆▆▇▇▇▇▇▇███</td></tr><tr><td>loss</td><td>█▃▂▂▁▁▁▁▁▁▁▁▁▁▁▁▁▁▁▁▁▁▁▁▁▁▁▁▁▁▁▁▁▁▁▁▁▁▁▁</td></tr><tr><td>root_mean_squared_error</td><td>█▅▄▃▂▂▂▂▂▂▂▂▂▁▂▂▂▁▁▂▁▁▁▁▁▁▁▁▂▁▁▁▁▁▁▁▁▁▁▁</td></tr><tr><td>val_loss</td><td>▄▁▂▅▁▄▄▄█▄▇▆▂▆▅▇▇▃▅▂▄▃▃▃▂▂▆▅▆▇▅▂▂▃▂▂▂▃▂▂</td></tr><tr><td>val_root_mean_squared_error</td><td>▅▁▂▅▁▄▄▄█▄▇▇▃▆▅▇▇▄▅▂▄▃▄▃▂▃▆▆▇▇▅▂▂▃▂▃▃▃▃▂</td></tr></table><br/></div><div class=\"wandb-col\">\n",
       "<h3>Run summary:</h3><br/><table class=\"wandb\"><tr><td>Mean Validation Loss (all folds)</td><td>1.68013</td></tr><tr><td>Mean Validation RMSE (all folds)</td><td>1.2962</td></tr><tr><td>best_epoch</td><td>13</td></tr><tr><td>best_val_loss</td><td>0.24643</td></tr><tr><td>epoch</td><td>749</td></tr><tr><td>loss</td><td>0.03774</td></tr><tr><td>root_mean_squared_error</td><td>0.19428</td></tr><tr><td>val_loss</td><td>1.68013</td></tr><tr><td>val_root_mean_squared_error</td><td>1.2962</td></tr></table>\n",
       "</div></div>\n",
       "Synced 5 W&B file(s), 0 media file(s), 0 artifact file(s) and 1 other file(s)\n",
       "<br/>Synced <strong style=\"color:#cdcd00\">revived-sweep-14</strong>: <a href=\"https://wandb.ai/luiscostigan/house-price-prediction/runs/y5bbxc4c\" target=\"_blank\">https://wandb.ai/luiscostigan/house-price-prediction/runs/y5bbxc4c</a><br/>\n",
       "Find logs at: <code>./wandb/run-20220304_135940-y5bbxc4c/logs</code><br/>\n"
      ],
      "text/plain": [
       "<IPython.core.display.HTML object>"
      ]
     },
     "metadata": {},
     "output_type": "display_data"
    },
    {
     "name": "stderr",
     "output_type": "stream",
     "text": [
      "\u001b[34m\u001b[1mwandb\u001b[0m: wandb version 0.12.11 is available!  To upgrade, please run:\n",
      "\u001b[34m\u001b[1mwandb\u001b[0m:  $ pip install wandb --upgrade\n"
     ]
    },
    {
     "data": {
      "text/html": [
       "\n",
       "                    Syncing run <strong><a href=\"https://wandb.ai/luiscostigan/house-price-prediction/runs/y5bbxc4c\" target=\"_blank\">revived-sweep-14</a></strong> to <a href=\"https://wandb.ai/luiscostigan/house-price-prediction\" target=\"_blank\">Weights & Biases</a> (<a href=\"https://docs.wandb.com/integrations/jupyter.html\" target=\"_blank\">docs</a>).<br/>\n",
       "Sweep page: <a href=\"https://wandb.ai/luiscostigan/house-price-prediction/sweeps/hbftehhf\" target=\"_blank\">https://wandb.ai/luiscostigan/house-price-prediction/sweeps/hbftehhf</a><br/>\n",
       "\n",
       "                "
      ],
      "text/plain": [
       "<IPython.core.display.HTML object>"
      ]
     },
     "metadata": {},
     "output_type": "display_data"
    },
    {
     "name": "stdout",
     "output_type": "stream",
     "text": [
      "37/37 [==============================] - 0s 1ms/step - loss: 2.7208 - root_mean_squared_error: 1.6495\n",
      "Score for fold 2: loss of 2.7208251953125; root_mean_squared_error of 1.6494923830032349\n",
      "------------------------------------------------------------------------\n",
      "Score per fold\n",
      "------------------------------------------------------------------------\n",
      "> Fold 1 - Loss: 1.6801282167434692 - RMSE: 1.2961976528167725%\n",
      "------------------------------------------------------------------------\n",
      "> Fold 2 - Loss: 2.7208251953125 - RMSE: 1.6494923830032349%\n",
      "------------------------------------------------------------------------\n",
      "Average scores for all folds:\n",
      "> RMSE: 1.4728450179100037 (+- 0.1766473650932312)\n",
      "> Loss: 2.2004767060279846\n",
      "------------------------------------------------------------------------\n"
     ]
    },
    {
     "data": {
      "text/html": [
       "<br/>Waiting for W&B process to finish, PID 19796... <strong style=\"color:green\">(success).</strong>"
      ],
      "text/plain": [
       "<IPython.core.display.HTML object>"
      ]
     },
     "metadata": {},
     "output_type": "display_data"
    },
    {
     "data": {
      "application/vnd.jupyter.widget-view+json": {
       "model_id": "854c47cb2f83454584d8d836bab54f8f",
       "version_major": 2,
       "version_minor": 0
      },
      "text/plain": [
       "VBox(children=(Label(value=' 0.12MB of 0.12MB uploaded (0.00MB deduped)\\r'), FloatProgress(value=1.0, max=1.0)…"
      ]
     },
     "metadata": {},
     "output_type": "display_data"
    },
    {
     "data": {
      "text/html": [
       "<style>\n",
       "    table.wandb td:nth-child(1) { padding: 0 10px; text-align: right }\n",
       "    .wandb-row { display: flex; flex-direction: row; flex-wrap: wrap; width: 100% }\n",
       "    .wandb-col { display: flex; flex-direction: column; flex-basis: 100%; flex: 1; padding: 10px; }\n",
       "    </style>\n",
       "<div class=\"wandb-row\"><div class=\"wandb-col\">\n",
       "<h3>Run history:</h3><br/><table class=\"wandb\"><tr><td>Mean Validation Loss (all folds)</td><td>▁</td></tr><tr><td>Mean Validation RMSE (all folds)</td><td>▁</td></tr><tr><td>epoch</td><td>▁▁▁▂▂▂▂▂▂▃▃▃▃▃▄▄▄▄▄▄▅▅▅▅▅▅▆▆▆▆▆▇▇▇▇▇▇███</td></tr><tr><td>loss</td><td>█▃▃▁▁▁▁▁▁▁▁▁▁▁▁▁▁▁▁▁▁▁▁▁▁▁▁▁▁▁▁▁▁▁▁▁▁▁▁▁</td></tr><tr><td>root_mean_squared_error</td><td>█▅▄▂▂▁▂▁▁▂▁▁▁▁▁▁▁▁▁▁▁▁▁▁▁▁▁▁▁▁▁▂▁▁▁▁▁▁▂▁</td></tr><tr><td>val_loss</td><td>▁▃▆▆▅▆▆▅▇▅▆▇▅█▅▆▅▄▅▄▇█▇▅▄▅▇▆▅▇▆▇▆▅▅▆▅▅▇▆</td></tr><tr><td>val_root_mean_squared_error</td><td>▁▄▆▇▆▇▆▆▇▆▆█▆█▆▇▆▆▆▆▇█▇▆▆▆█▇▆▇▆▇▆▆▆▇▆▆▇▇</td></tr></table><br/></div><div class=\"wandb-col\">\n",
       "<h3>Run summary:</h3><br/><table class=\"wandb\"><tr><td>Mean Validation Loss (all folds)</td><td>2.20048</td></tr><tr><td>Mean Validation RMSE (all folds)</td><td>1.47285</td></tr><tr><td>best_epoch</td><td>9</td></tr><tr><td>best_val_loss</td><td>0.08348</td></tr><tr><td>epoch</td><td>749</td></tr><tr><td>loss</td><td>0.03909</td></tr><tr><td>root_mean_squared_error</td><td>0.19772</td></tr><tr><td>val_loss</td><td>2.72083</td></tr><tr><td>val_root_mean_squared_error</td><td>1.64949</td></tr></table>\n",
       "</div></div>\n",
       "Synced 5 W&B file(s), 0 media file(s), 0 artifact file(s) and 1 other file(s)\n",
       "<br/>Synced <strong style=\"color:#cdcd00\">revived-sweep-14</strong>: <a href=\"https://wandb.ai/luiscostigan/house-price-prediction/runs/y5bbxc4c\" target=\"_blank\">https://wandb.ai/luiscostigan/house-price-prediction/runs/y5bbxc4c</a><br/>\n",
       "Find logs at: <code>./wandb/run-20220304_140056-y5bbxc4c/logs</code><br/>\n"
      ],
      "text/plain": [
       "<IPython.core.display.HTML object>"
      ]
     },
     "metadata": {},
     "output_type": "display_data"
    },
    {
     "name": "stderr",
     "output_type": "stream",
     "text": [
      "\u001b[34m\u001b[1mwandb\u001b[0m: wandb version 0.12.11 is available!  To upgrade, please run:\n",
      "\u001b[34m\u001b[1mwandb\u001b[0m:  $ pip install wandb --upgrade\n"
     ]
    },
    {
     "data": {
      "text/html": [
       "\n",
       "                    Syncing run <strong><a href=\"https://wandb.ai/luiscostigan/house-price-prediction/runs/y5bbxc4c\" target=\"_blank\">revived-sweep-14</a></strong> to <a href=\"https://wandb.ai/luiscostigan/house-price-prediction\" target=\"_blank\">Weights & Biases</a> (<a href=\"https://docs.wandb.com/integrations/jupyter.html\" target=\"_blank\">docs</a>).<br/>\n",
       "Sweep page: <a href=\"https://wandb.ai/luiscostigan/house-price-prediction/sweeps/hbftehhf\" target=\"_blank\">https://wandb.ai/luiscostigan/house-price-prediction/sweeps/hbftehhf</a><br/>\n",
       "\n",
       "                "
      ],
      "text/plain": [
       "<IPython.core.display.HTML object>"
      ]
     },
     "metadata": {},
     "output_type": "display_data"
    },
    {
     "name": "stdout",
     "output_type": "stream",
     "text": [
      "37/37 [==============================] - 0s 3ms/step - loss: 2.6257 - root_mean_squared_error: 1.6204\n",
      "Score for fold 3: loss of 2.6257498264312744; root_mean_squared_error of 1.620416522026062\n",
      "------------------------------------------------------------------------\n",
      "Score per fold\n",
      "------------------------------------------------------------------------\n",
      "> Fold 1 - Loss: 1.6801282167434692 - RMSE: 1.2961976528167725%\n",
      "------------------------------------------------------------------------\n",
      "> Fold 2 - Loss: 2.7208251953125 - RMSE: 1.6494923830032349%\n",
      "------------------------------------------------------------------------\n",
      "> Fold 3 - Loss: 2.6257498264312744 - RMSE: 1.620416522026062%\n",
      "------------------------------------------------------------------------\n",
      "Average scores for all folds:\n",
      "> RMSE: 1.5220355192820232 (+- 0.16013204524198826)\n",
      "> Loss: 2.342234412829081\n",
      "------------------------------------------------------------------------\n"
     ]
    },
    {
     "data": {
      "text/html": [
       "<br/>Waiting for W&B process to finish, PID 2371... <strong style=\"color:green\">(success).</strong>"
      ],
      "text/plain": [
       "<IPython.core.display.HTML object>"
      ]
     },
     "metadata": {},
     "output_type": "display_data"
    },
    {
     "data": {
      "application/vnd.jupyter.widget-view+json": {
       "model_id": "ec9502af40df45989be3e3fd982f47fe",
       "version_major": 2,
       "version_minor": 0
      },
      "text/plain": [
       "VBox(children=(Label(value=' 0.12MB of 0.12MB uploaded (0.00MB deduped)\\r'), FloatProgress(value=1.0, max=1.0)…"
      ]
     },
     "metadata": {},
     "output_type": "display_data"
    },
    {
     "data": {
      "text/html": [
       "<style>\n",
       "    table.wandb td:nth-child(1) { padding: 0 10px; text-align: right }\n",
       "    .wandb-row { display: flex; flex-direction: row; flex-wrap: wrap; width: 100% }\n",
       "    .wandb-col { display: flex; flex-direction: column; flex-basis: 100%; flex: 1; padding: 10px; }\n",
       "    </style>\n",
       "<div class=\"wandb-row\"><div class=\"wandb-col\">\n",
       "<h3>Run history:</h3><br/><table class=\"wandb\"><tr><td>Mean Validation Loss (all folds)</td><td>▁</td></tr><tr><td>Mean Validation RMSE (all folds)</td><td>▁</td></tr><tr><td>epoch</td><td>▁▁▁▂▂▂▂▂▂▃▃▃▃▃▄▄▄▄▄▄▅▅▅▅▅▅▆▆▆▆▆▇▇▇▇▇▇███</td></tr><tr><td>loss</td><td>█▃▁▂▁▁▁▁▁▁▁▁▁▁▁▁▁▁▁▁▁▁▁▁▁▁▁▁▁▁▁▁▁▁▁▁▁▁▁▁</td></tr><tr><td>root_mean_squared_error</td><td>█▄▂▃▂▂▂▂▂▂▁▂▁▁▂▁▁▁▁▁▁▁▁▁▁▁▁▁▁▁▁▁▁▁▁▁▁▁▁▁</td></tr><tr><td>val_loss</td><td>▁▄▇▅▇▅█▄▇▆▆▆▇▅▅▆▅▅▆▆▇▇▇▆▇▄▅▄▅▅▅▆▄▅▆▄▅▇▄▆</td></tr><tr><td>val_root_mean_squared_error</td><td>▁▅▇▆█▆█▅▇▇▇▆▇▆▆▇▆▆▆▇▇▇▇▇▇▅▆▅▆▆▆▇▅▆▇▅▆▇▅▇</td></tr></table><br/></div><div class=\"wandb-col\">\n",
       "<h3>Run summary:</h3><br/><table class=\"wandb\"><tr><td>Mean Validation Loss (all folds)</td><td>2.34223</td></tr><tr><td>Mean Validation RMSE (all folds)</td><td>1.52204</td></tr><tr><td>best_epoch</td><td>10</td></tr><tr><td>best_val_loss</td><td>0.12041</td></tr><tr><td>epoch</td><td>749</td></tr><tr><td>loss</td><td>0.02103</td></tr><tr><td>root_mean_squared_error</td><td>0.14503</td></tr><tr><td>val_loss</td><td>2.62575</td></tr><tr><td>val_root_mean_squared_error</td><td>1.62042</td></tr></table>\n",
       "</div></div>\n",
       "Synced 5 W&B file(s), 0 media file(s), 0 artifact file(s) and 1 other file(s)\n",
       "<br/>Synced <strong style=\"color:#cdcd00\">revived-sweep-14</strong>: <a href=\"https://wandb.ai/luiscostigan/house-price-prediction/runs/y5bbxc4c\" target=\"_blank\">https://wandb.ai/luiscostigan/house-price-prediction/runs/y5bbxc4c</a><br/>\n",
       "Find logs at: <code>./wandb/run-20220304_140212-y5bbxc4c/logs</code><br/>\n"
      ],
      "text/plain": [
       "<IPython.core.display.HTML object>"
      ]
     },
     "metadata": {},
     "output_type": "display_data"
    },
    {
     "name": "stderr",
     "output_type": "stream",
     "text": [
      "\u001b[34m\u001b[1mwandb\u001b[0m: wandb version 0.12.11 is available!  To upgrade, please run:\n",
      "\u001b[34m\u001b[1mwandb\u001b[0m:  $ pip install wandb --upgrade\n"
     ]
    },
    {
     "data": {
      "text/html": [
       "\n",
       "                    Syncing run <strong><a href=\"https://wandb.ai/luiscostigan/house-price-prediction/runs/y5bbxc4c\" target=\"_blank\">revived-sweep-14</a></strong> to <a href=\"https://wandb.ai/luiscostigan/house-price-prediction\" target=\"_blank\">Weights & Biases</a> (<a href=\"https://docs.wandb.com/integrations/jupyter.html\" target=\"_blank\">docs</a>).<br/>\n",
       "Sweep page: <a href=\"https://wandb.ai/luiscostigan/house-price-prediction/sweeps/hbftehhf\" target=\"_blank\">https://wandb.ai/luiscostigan/house-price-prediction/sweeps/hbftehhf</a><br/>\n",
       "\n",
       "                "
      ],
      "text/plain": [
       "<IPython.core.display.HTML object>"
      ]
     },
     "metadata": {},
     "output_type": "display_data"
    },
    {
     "name": "stdout",
     "output_type": "stream",
     "text": [
      "37/37 [==============================] - 0s 2ms/step - loss: 2.2760 - root_mean_squared_error: 1.5086\n",
      "Score for fold 4: loss of 2.2759995460510254; root_mean_squared_error of 1.5086416006088257\n",
      "------------------------------------------------------------------------\n",
      "Score per fold\n",
      "------------------------------------------------------------------------\n",
      "> Fold 1 - Loss: 1.6801282167434692 - RMSE: 1.2961976528167725%\n",
      "------------------------------------------------------------------------\n",
      "> Fold 2 - Loss: 2.7208251953125 - RMSE: 1.6494923830032349%\n",
      "------------------------------------------------------------------------\n",
      "> Fold 3 - Loss: 2.6257498264312744 - RMSE: 1.620416522026062%\n",
      "------------------------------------------------------------------------\n",
      "> Fold 4 - Loss: 2.2759995460510254 - RMSE: 1.5086416006088257%\n",
      "------------------------------------------------------------------------\n",
      "Average scores for all folds:\n",
      "> RMSE: 1.5186870396137238 (+- 0.13879964295092287)\n",
      "> Loss: 2.3256756961345673\n",
      "------------------------------------------------------------------------\n"
     ]
    },
    {
     "data": {
      "text/html": [
       "<br/>Waiting for W&B process to finish, PID 17492... <strong style=\"color:green\">(success).</strong>"
      ],
      "text/plain": [
       "<IPython.core.display.HTML object>"
      ]
     },
     "metadata": {},
     "output_type": "display_data"
    },
    {
     "data": {
      "application/vnd.jupyter.widget-view+json": {
       "model_id": "9650d8bb95e94b6bb278389f1a1aa416",
       "version_major": 2,
       "version_minor": 0
      },
      "text/plain": [
       "VBox(children=(Label(value=' 0.12MB of 0.12MB uploaded (0.00MB deduped)\\r'), FloatProgress(value=1.0, max=1.0)…"
      ]
     },
     "metadata": {},
     "output_type": "display_data"
    },
    {
     "data": {
      "text/html": [
       "<style>\n",
       "    table.wandb td:nth-child(1) { padding: 0 10px; text-align: right }\n",
       "    .wandb-row { display: flex; flex-direction: row; flex-wrap: wrap; width: 100% }\n",
       "    .wandb-col { display: flex; flex-direction: column; flex-basis: 100%; flex: 1; padding: 10px; }\n",
       "    </style>\n",
       "<div class=\"wandb-row\"><div class=\"wandb-col\">\n",
       "<h3>Run history:</h3><br/><table class=\"wandb\"><tr><td>Mean Validation Loss (all folds)</td><td>▁</td></tr><tr><td>Mean Validation RMSE (all folds)</td><td>▁</td></tr><tr><td>epoch</td><td>▁▁▁▂▂▂▂▂▂▃▃▃▃▃▄▄▄▄▄▄▅▅▅▅▅▅▆▆▆▆▆▇▇▇▇▇▇███</td></tr><tr><td>loss</td><td>█▄▃▂▂▁▁▁▁▁▁▁▁▁▁▁▁▁▁▁▁▁▁▁▁▁▁▁▁▁▁▁▁▁▁▁▁▁▁▁</td></tr><tr><td>root_mean_squared_error</td><td>█▆▄▃▃▂▂▂▂▂▂▂▂▂▂▂▂▂▁▂▁▁▁▁▁▁▁▁▁▁▁▁▁▁▁▁▁▁▁▁</td></tr><tr><td>val_loss</td><td>▁▃▇▄▄█▅▇▃▅▅▄▆▇▆▆▄▆▆▅▆▄▇▅▄▅▅▅▅▆▅▅▅▄▅▃▃▃▅▃</td></tr><tr><td>val_root_mean_squared_error</td><td>▁▄▇▅▅█▆▇▄▆▆▅▇▇▇▇▅▇▆▆▆▅▇▅▅▆▆▆▆▇▆▅▆▅▆▄▄▄▆▄</td></tr></table><br/></div><div class=\"wandb-col\">\n",
       "<h3>Run summary:</h3><br/><table class=\"wandb\"><tr><td>Mean Validation Loss (all folds)</td><td>2.32568</td></tr><tr><td>Mean Validation RMSE (all folds)</td><td>1.51869</td></tr><tr><td>best_epoch</td><td>10</td></tr><tr><td>best_val_loss</td><td>0.06965</td></tr><tr><td>epoch</td><td>749</td></tr><tr><td>loss</td><td>0.04461</td></tr><tr><td>root_mean_squared_error</td><td>0.21121</td></tr><tr><td>val_loss</td><td>2.276</td></tr><tr><td>val_root_mean_squared_error</td><td>1.50864</td></tr></table>\n",
       "</div></div>\n",
       "Synced 5 W&B file(s), 0 media file(s), 0 artifact file(s) and 1 other file(s)\n",
       "<br/>Synced <strong style=\"color:#cdcd00\">revived-sweep-14</strong>: <a href=\"https://wandb.ai/luiscostigan/house-price-prediction/runs/y5bbxc4c\" target=\"_blank\">https://wandb.ai/luiscostigan/house-price-prediction/runs/y5bbxc4c</a><br/>\n",
       "Find logs at: <code>./wandb/run-20220304_140328-y5bbxc4c/logs</code><br/>\n"
      ],
      "text/plain": [
       "<IPython.core.display.HTML object>"
      ]
     },
     "metadata": {},
     "output_type": "display_data"
    },
    {
     "name": "stderr",
     "output_type": "stream",
     "text": [
      "\u001b[34m\u001b[1mwandb\u001b[0m: wandb version 0.12.11 is available!  To upgrade, please run:\n",
      "\u001b[34m\u001b[1mwandb\u001b[0m:  $ pip install wandb --upgrade\n"
     ]
    },
    {
     "data": {
      "text/html": [
       "\n",
       "                    Syncing run <strong><a href=\"https://wandb.ai/luiscostigan/house-price-prediction/runs/y5bbxc4c\" target=\"_blank\">revived-sweep-14</a></strong> to <a href=\"https://wandb.ai/luiscostigan/house-price-prediction\" target=\"_blank\">Weights & Biases</a> (<a href=\"https://docs.wandb.com/integrations/jupyter.html\" target=\"_blank\">docs</a>).<br/>\n",
       "Sweep page: <a href=\"https://wandb.ai/luiscostigan/house-price-prediction/sweeps/hbftehhf\" target=\"_blank\">https://wandb.ai/luiscostigan/house-price-prediction/sweeps/hbftehhf</a><br/>\n",
       "\n",
       "                "
      ],
      "text/plain": [
       "<IPython.core.display.HTML object>"
      ]
     },
     "metadata": {},
     "output_type": "display_data"
    },
    {
     "name": "stdout",
     "output_type": "stream",
     "text": [
      "37/37 [==============================] - 0s 1ms/step - loss: 2.9897 - root_mean_squared_error: 1.7291\n",
      "Score for fold 5: loss of 2.989727735519409; root_mean_squared_error of 1.7290829420089722\n",
      "------------------------------------------------------------------------\n",
      "Score per fold\n",
      "------------------------------------------------------------------------\n",
      "> Fold 1 - Loss: 1.6801282167434692 - RMSE: 1.2961976528167725%\n",
      "------------------------------------------------------------------------\n",
      "> Fold 2 - Loss: 2.7208251953125 - RMSE: 1.6494923830032349%\n",
      "------------------------------------------------------------------------\n",
      "> Fold 3 - Loss: 2.6257498264312744 - RMSE: 1.620416522026062%\n",
      "------------------------------------------------------------------------\n",
      "> Fold 4 - Loss: 2.2759995460510254 - RMSE: 1.5086416006088257%\n",
      "------------------------------------------------------------------------\n",
      "> Fold 5 - Loss: 2.989727735519409 - RMSE: 1.7290829420089722%\n",
      "------------------------------------------------------------------------\n",
      "Average scores for all folds:\n",
      "> RMSE: 1.5607662200927734 (+- 0.14998300712346277)\n",
      "> Loss: 2.4584861040115356\n",
      "------------------------------------------------------------------------\n"
     ]
    },
    {
     "data": {
      "text/html": [
       "<br/>Waiting for W&B process to finish, PID 32492... <strong style=\"color:green\">(success).</strong>"
      ],
      "text/plain": [
       "<IPython.core.display.HTML object>"
      ]
     },
     "metadata": {},
     "output_type": "display_data"
    },
    {
     "data": {
      "application/vnd.jupyter.widget-view+json": {
       "model_id": "044d5bb0c6ad4cd38f549b2777509c07",
       "version_major": 2,
       "version_minor": 0
      },
      "text/plain": [
       "VBox(children=(Label(value=' 0.12MB of 0.12MB uploaded (0.00MB deduped)\\r'), FloatProgress(value=1.0, max=1.0)…"
      ]
     },
     "metadata": {},
     "output_type": "display_data"
    },
    {
     "data": {
      "text/html": [
       "<style>\n",
       "    table.wandb td:nth-child(1) { padding: 0 10px; text-align: right }\n",
       "    .wandb-row { display: flex; flex-direction: row; flex-wrap: wrap; width: 100% }\n",
       "    .wandb-col { display: flex; flex-direction: column; flex-basis: 100%; flex: 1; padding: 10px; }\n",
       "    </style>\n",
       "<div class=\"wandb-row\"><div class=\"wandb-col\">\n",
       "<h3>Run history:</h3><br/><table class=\"wandb\"><tr><td>Mean Validation Loss (all folds)</td><td>▁</td></tr><tr><td>Mean Validation RMSE (all folds)</td><td>▁</td></tr><tr><td>epoch</td><td>▁▁▁▂▂▂▂▂▂▃▃▃▃▃▄▄▄▄▄▄▅▅▅▅▅▅▆▆▆▆▆▇▇▇▇▇▇███</td></tr><tr><td>loss</td><td>█▂▂▁▁▁▁▁▁▁▁▁▁▁▁▁▁▁▁▁▁▁▁▁▁▁▁▁▁▁▁▁▁▁▁▁▁▁▁▁</td></tr><tr><td>root_mean_squared_error</td><td>█▃▃▂▂▂▁▂▁▁▁▁▁▁▁▁▁▂▁▁▁▁▁▁▁▁▁▁▁▁▁▁▁▁▁▁▁▁▁▁</td></tr><tr><td>val_loss</td><td>▁▆██▆█▅▆▆▅▅▅▆▅▆█▇▇▇▅▇▆▇▄▄▆▆▆▇▆▇▆▇▇▇▄▅▇▇▇</td></tr><tr><td>val_root_mean_squared_error</td><td>▁▇██▇█▆▇▆▆▆▆▆▆▇█▇▇▇▆▇▇▇▅▅▇▆▆▇▇▇▇▇▇▇▅▅▇▇▇</td></tr></table><br/></div><div class=\"wandb-col\">\n",
       "<h3>Run summary:</h3><br/><table class=\"wandb\"><tr><td>Mean Validation Loss (all folds)</td><td>2.45849</td></tr><tr><td>Mean Validation RMSE (all folds)</td><td>1.56077</td></tr><tr><td>best_epoch</td><td>12</td></tr><tr><td>best_val_loss</td><td>0.06128</td></tr><tr><td>epoch</td><td>749</td></tr><tr><td>loss</td><td>0.03047</td></tr><tr><td>root_mean_squared_error</td><td>0.17456</td></tr><tr><td>val_loss</td><td>2.98973</td></tr><tr><td>val_root_mean_squared_error</td><td>1.72908</td></tr></table>\n",
       "</div></div>\n",
       "Synced 5 W&B file(s), 0 media file(s), 0 artifact file(s) and 1 other file(s)\n",
       "<br/>Synced <strong style=\"color:#cdcd00\">revived-sweep-14</strong>: <a href=\"https://wandb.ai/luiscostigan/house-price-prediction/runs/y5bbxc4c\" target=\"_blank\">https://wandb.ai/luiscostigan/house-price-prediction/runs/y5bbxc4c</a><br/>\n",
       "Find logs at: <code>./wandb/run-20220304_140441-y5bbxc4c/logs</code><br/>\n"
      ],
      "text/plain": [
       "<IPython.core.display.HTML object>"
      ]
     },
     "metadata": {},
     "output_type": "display_data"
    },
    {
     "name": "stderr",
     "output_type": "stream",
     "text": [
      "\u001b[34m\u001b[1mwandb\u001b[0m: Agent Starting Run: nyw309z4 with config:\n",
      "\u001b[34m\u001b[1mwandb\u001b[0m: \tbatch_size: 16\n",
      "\u001b[34m\u001b[1mwandb\u001b[0m: \tdense1: 16\n",
      "\u001b[34m\u001b[1mwandb\u001b[0m: \tdense2: 32\n",
      "\u001b[34m\u001b[1mwandb\u001b[0m: \tdropout1: 0.05543842392746271\n",
      "\u001b[34m\u001b[1mwandb\u001b[0m: \tepochs: 500\n",
      "\u001b[34m\u001b[1mwandb\u001b[0m: wandb version 0.12.11 is available!  To upgrade, please run:\n",
      "\u001b[34m\u001b[1mwandb\u001b[0m:  $ pip install wandb --upgrade\n"
     ]
    },
    {
     "data": {
      "text/html": [
       "\n",
       "                    Syncing run <strong><a href=\"https://wandb.ai/luiscostigan/house-price-prediction/runs/nyw309z4\" target=\"_blank\">classic-sweep-15</a></strong> to <a href=\"https://wandb.ai/luiscostigan/house-price-prediction\" target=\"_blank\">Weights & Biases</a> (<a href=\"https://docs.wandb.com/integrations/jupyter.html\" target=\"_blank\">docs</a>).<br/>\n",
       "Sweep page: <a href=\"https://wandb.ai/luiscostigan/house-price-prediction/sweeps/hbftehhf\" target=\"_blank\">https://wandb.ai/luiscostigan/house-price-prediction/sweeps/hbftehhf</a><br/>\n",
       "\n",
       "                "
      ],
      "text/plain": [
       "<IPython.core.display.HTML object>"
      ]
     },
     "metadata": {},
     "output_type": "display_data"
    },
    {
     "name": "stdout",
     "output_type": "stream",
     "text": [
      "37/37 [==============================] - 0s 2ms/step - loss: 0.2878 - root_mean_squared_error: 0.5365\n",
      "Score for fold 1: loss of 0.28782764077186584; root_mean_squared_error of 0.5364956855773926\n",
      "------------------------------------------------------------------------\n",
      "Score per fold\n",
      "------------------------------------------------------------------------\n",
      "> Fold 1 - Loss: 0.28782764077186584 - RMSE: 0.5364956855773926%\n",
      "------------------------------------------------------------------------\n",
      "Average scores for all folds:\n",
      "> RMSE: 0.5364956855773926 (+- 0.0)\n",
      "> Loss: 0.28782764077186584\n",
      "------------------------------------------------------------------------\n"
     ]
    },
    {
     "data": {
      "text/html": [
       "<br/>Waiting for W&B process to finish, PID 15190... <strong style=\"color:green\">(success).</strong>"
      ],
      "text/plain": [
       "<IPython.core.display.HTML object>"
      ]
     },
     "metadata": {},
     "output_type": "display_data"
    },
    {
     "data": {
      "application/vnd.jupyter.widget-view+json": {
       "model_id": "a116d502ba414b92921aafe824cf8edb",
       "version_major": 2,
       "version_minor": 0
      },
      "text/plain": [
       "VBox(children=(Label(value=' 0.12MB of 0.12MB uploaded (0.00MB deduped)\\r'), FloatProgress(value=1.0, max=1.0)…"
      ]
     },
     "metadata": {},
     "output_type": "display_data"
    },
    {
     "data": {
      "text/html": [
       "<style>\n",
       "    table.wandb td:nth-child(1) { padding: 0 10px; text-align: right }\n",
       "    .wandb-row { display: flex; flex-direction: row; flex-wrap: wrap; width: 100% }\n",
       "    .wandb-col { display: flex; flex-direction: column; flex-basis: 100%; flex: 1; padding: 10px; }\n",
       "    </style>\n",
       "<div class=\"wandb-row\"><div class=\"wandb-col\">\n",
       "<h3>Run history:</h3><br/><table class=\"wandb\"><tr><td>Mean Validation Loss (all folds)</td><td>▁</td></tr><tr><td>Mean Validation RMSE (all folds)</td><td>▁</td></tr><tr><td>epoch</td><td>▁▁▁▂▂▂▂▂▂▃▃▃▃▃▄▄▄▄▄▄▅▅▅▅▅▅▆▆▆▆▆▇▇▇▇▇▇███</td></tr><tr><td>loss</td><td>█▂▂▂▂▂▁▁▁▁▁▁▁▁▁▁▁▁▁▁▁▁▁▁▁▁▁▁▁▁▁▁▁▁▁▁▁▁▁▁</td></tr><tr><td>root_mean_squared_error</td><td>█▄▃▃▃▂▂▂▂▂▂▂▂▂▂▂▂▂▂▁▁▁▁▁▁▁▁▁▁▁▁▁▁▁▁▁▁▁▁▁</td></tr><tr><td>val_loss</td><td>▄█▆▄▄▃▅▁▁▁▂▁▁▄▂▅▂▂▄▅▂▄▅▂▂▂▃▄▂▄▂▁▂▂▃▄▂▄▂▂</td></tr><tr><td>val_root_mean_squared_error</td><td>▅█▆▅▅▄▆▁▁▁▃▂▁▅▂▆▃▂▅▅▃▅▆▃▂▂▄▅▃▄▃▂▃▃▄▅▂▅▂▂</td></tr></table><br/></div><div class=\"wandb-col\">\n",
       "<h3>Run summary:</h3><br/><table class=\"wandb\"><tr><td>Mean Validation Loss (all folds)</td><td>0.28783</td></tr><tr><td>Mean Validation RMSE (all folds)</td><td>0.5365</td></tr><tr><td>best_epoch</td><td>30</td></tr><tr><td>best_val_loss</td><td>0.04354</td></tr><tr><td>epoch</td><td>499</td></tr><tr><td>loss</td><td>0.02276</td></tr><tr><td>root_mean_squared_error</td><td>0.15086</td></tr><tr><td>val_loss</td><td>0.28783</td></tr><tr><td>val_root_mean_squared_error</td><td>0.5365</td></tr></table>\n",
       "</div></div>\n",
       "Synced 5 W&B file(s), 0 media file(s), 0 artifact file(s) and 1 other file(s)\n",
       "<br/>Synced <strong style=\"color:#cdcd00\">classic-sweep-15</strong>: <a href=\"https://wandb.ai/luiscostigan/house-price-prediction/runs/nyw309z4\" target=\"_blank\">https://wandb.ai/luiscostigan/house-price-prediction/runs/nyw309z4</a><br/>\n",
       "Find logs at: <code>./wandb/run-20220304_140557-nyw309z4/logs</code><br/>\n"
      ],
      "text/plain": [
       "<IPython.core.display.HTML object>"
      ]
     },
     "metadata": {},
     "output_type": "display_data"
    },
    {
     "name": "stderr",
     "output_type": "stream",
     "text": [
      "\u001b[34m\u001b[1mwandb\u001b[0m: wandb version 0.12.11 is available!  To upgrade, please run:\n",
      "\u001b[34m\u001b[1mwandb\u001b[0m:  $ pip install wandb --upgrade\n"
     ]
    },
    {
     "data": {
      "text/html": [
       "\n",
       "                    Syncing run <strong><a href=\"https://wandb.ai/luiscostigan/house-price-prediction/runs/nyw309z4\" target=\"_blank\">classic-sweep-15</a></strong> to <a href=\"https://wandb.ai/luiscostigan/house-price-prediction\" target=\"_blank\">Weights & Biases</a> (<a href=\"https://docs.wandb.com/integrations/jupyter.html\" target=\"_blank\">docs</a>).<br/>\n",
       "Sweep page: <a href=\"https://wandb.ai/luiscostigan/house-price-prediction/sweeps/hbftehhf\" target=\"_blank\">https://wandb.ai/luiscostigan/house-price-prediction/sweeps/hbftehhf</a><br/>\n",
       "\n",
       "                "
      ],
      "text/plain": [
       "<IPython.core.display.HTML object>"
      ]
     },
     "metadata": {},
     "output_type": "display_data"
    },
    {
     "name": "stdout",
     "output_type": "stream",
     "text": [
      "37/37 [==============================] - 0s 2ms/step - loss: 0.2975 - root_mean_squared_error: 0.5455\n",
      "Score for fold 2: loss of 0.29753175377845764; root_mean_squared_error of 0.5454646944999695\n",
      "------------------------------------------------------------------------\n",
      "Score per fold\n",
      "------------------------------------------------------------------------\n",
      "> Fold 1 - Loss: 0.28782764077186584 - RMSE: 0.5364956855773926%\n",
      "------------------------------------------------------------------------\n",
      "> Fold 2 - Loss: 0.29753175377845764 - RMSE: 0.5454646944999695%\n",
      "------------------------------------------------------------------------\n",
      "Average scores for all folds:\n",
      "> RMSE: 0.540980190038681 (+- 0.004484504461288452)\n",
      "> Loss: 0.29267969727516174\n",
      "------------------------------------------------------------------------\n"
     ]
    },
    {
     "data": {
      "text/html": [
       "<br/>Waiting for W&B process to finish, PID 25667... <strong style=\"color:green\">(success).</strong>"
      ],
      "text/plain": [
       "<IPython.core.display.HTML object>"
      ]
     },
     "metadata": {},
     "output_type": "display_data"
    },
    {
     "data": {
      "application/vnd.jupyter.widget-view+json": {
       "model_id": "54640d822e7742968fc9a03fbe97197a",
       "version_major": 2,
       "version_minor": 0
      },
      "text/plain": [
       "VBox(children=(Label(value=' 0.00MB of 0.12MB uploaded (0.00MB deduped)\\r'), FloatProgress(value=0.00799575639…"
      ]
     },
     "metadata": {},
     "output_type": "display_data"
    },
    {
     "data": {
      "text/html": [
       "<style>\n",
       "    table.wandb td:nth-child(1) { padding: 0 10px; text-align: right }\n",
       "    .wandb-row { display: flex; flex-direction: row; flex-wrap: wrap; width: 100% }\n",
       "    .wandb-col { display: flex; flex-direction: column; flex-basis: 100%; flex: 1; padding: 10px; }\n",
       "    </style>\n",
       "<div class=\"wandb-row\"><div class=\"wandb-col\">\n",
       "<h3>Run history:</h3><br/><table class=\"wandb\"><tr><td>Mean Validation Loss (all folds)</td><td>▁</td></tr><tr><td>Mean Validation RMSE (all folds)</td><td>▁</td></tr><tr><td>epoch</td><td>▁▁▁▂▂▂▂▂▂▃▃▃▃▃▄▄▄▄▄▄▅▅▅▅▅▅▆▆▆▆▆▇▇▇▇▇▇███</td></tr><tr><td>loss</td><td>█▂▂▂▂▂▁▁▁▁▁▁▁▁▁▁▁▁▁▁▁▁▁▁▁▁▁▁▁▁▁▁▁▁▁▁▁▁▁▁</td></tr><tr><td>root_mean_squared_error</td><td>█▃▃▃▂▂▂▂▂▂▂▂▂▂▂▂▁▁▁▁▁▁▁▁▁▁▁▁▁▁▁▁▁▁▁▁▁▁▁▁</td></tr><tr><td>val_loss</td><td>▁▂▇▄█▃▂▂▂▅▆▄▇▆▁▃▃▃▇▄▃▃▆▄█▆▆▃▃▃▅▄▂▂▂▃▄▅▂▃</td></tr><tr><td>val_root_mean_squared_error</td><td>▁▃▇▅█▄▃▃▃▆▆▅▇▇▁▄▃▄▇▄▄▃▆▅█▆▇▄▄▄▆▅▂▃▂▄▅▆▃▃</td></tr></table><br/></div><div class=\"wandb-col\">\n",
       "<h3>Run summary:</h3><br/><table class=\"wandb\"><tr><td>Mean Validation Loss (all folds)</td><td>0.29268</td></tr><tr><td>Mean Validation RMSE (all folds)</td><td>0.54098</td></tr><tr><td>best_epoch</td><td>10</td></tr><tr><td>best_val_loss</td><td>0.06433</td></tr><tr><td>epoch</td><td>499</td></tr><tr><td>loss</td><td>0.0197</td></tr><tr><td>root_mean_squared_error</td><td>0.14037</td></tr><tr><td>val_loss</td><td>0.29753</td></tr><tr><td>val_root_mean_squared_error</td><td>0.54546</td></tr></table>\n",
       "</div></div>\n",
       "Synced 5 W&B file(s), 0 media file(s), 0 artifact file(s) and 1 other file(s)\n",
       "<br/>Synced <strong style=\"color:#cdcd00\">classic-sweep-15</strong>: <a href=\"https://wandb.ai/luiscostigan/house-price-prediction/runs/nyw309z4\" target=\"_blank\">https://wandb.ai/luiscostigan/house-price-prediction/runs/nyw309z4</a><br/>\n",
       "Find logs at: <code>./wandb/run-20220304_140740-nyw309z4/logs</code><br/>\n"
      ],
      "text/plain": [
       "<IPython.core.display.HTML object>"
      ]
     },
     "metadata": {},
     "output_type": "display_data"
    },
    {
     "name": "stderr",
     "output_type": "stream",
     "text": [
      "\u001b[34m\u001b[1mwandb\u001b[0m: wandb version 0.12.11 is available!  To upgrade, please run:\n",
      "\u001b[34m\u001b[1mwandb\u001b[0m:  $ pip install wandb --upgrade\n"
     ]
    },
    {
     "data": {
      "text/html": [
       "\n",
       "                    Syncing run <strong><a href=\"https://wandb.ai/luiscostigan/house-price-prediction/runs/nyw309z4\" target=\"_blank\">classic-sweep-15</a></strong> to <a href=\"https://wandb.ai/luiscostigan/house-price-prediction\" target=\"_blank\">Weights & Biases</a> (<a href=\"https://docs.wandb.com/integrations/jupyter.html\" target=\"_blank\">docs</a>).<br/>\n",
       "Sweep page: <a href=\"https://wandb.ai/luiscostigan/house-price-prediction/sweeps/hbftehhf\" target=\"_blank\">https://wandb.ai/luiscostigan/house-price-prediction/sweeps/hbftehhf</a><br/>\n",
       "\n",
       "                "
      ],
      "text/plain": [
       "<IPython.core.display.HTML object>"
      ]
     },
     "metadata": {},
     "output_type": "display_data"
    },
    {
     "name": "stdout",
     "output_type": "stream",
     "text": [
      "37/37 [==============================] - 0s 2ms/step - loss: 0.4962 - root_mean_squared_error: 0.7044\n",
      "Score for fold 3: loss of 0.49621644616127014; root_mean_squared_error of 0.7044263482093811\n",
      "------------------------------------------------------------------------\n",
      "Score per fold\n",
      "------------------------------------------------------------------------\n",
      "> Fold 1 - Loss: 0.28782764077186584 - RMSE: 0.5364956855773926%\n",
      "------------------------------------------------------------------------\n",
      "> Fold 2 - Loss: 0.29753175377845764 - RMSE: 0.5454646944999695%\n",
      "------------------------------------------------------------------------\n",
      "> Fold 3 - Loss: 0.49621644616127014 - RMSE: 0.7044263482093811%\n",
      "------------------------------------------------------------------------\n",
      "Average scores for all folds:\n",
      "> RMSE: 0.5954622427622477 (+- 0.0771362127978112)\n",
      "> Loss: 0.3605252802371979\n",
      "------------------------------------------------------------------------\n"
     ]
    },
    {
     "data": {
      "text/html": [
       "<br/>Waiting for W&B process to finish, PID 3747... <strong style=\"color:green\">(success).</strong>"
      ],
      "text/plain": [
       "<IPython.core.display.HTML object>"
      ]
     },
     "metadata": {},
     "output_type": "display_data"
    },
    {
     "data": {
      "application/vnd.jupyter.widget-view+json": {
       "model_id": "4d6405d9ad814559abdfa1c3b03bd83c",
       "version_major": 2,
       "version_minor": 0
      },
      "text/plain": [
       "VBox(children=(Label(value=' 0.12MB of 0.12MB uploaded (0.00MB deduped)\\r'), FloatProgress(value=1.0, max=1.0)…"
      ]
     },
     "metadata": {},
     "output_type": "display_data"
    },
    {
     "data": {
      "text/html": [
       "<style>\n",
       "    table.wandb td:nth-child(1) { padding: 0 10px; text-align: right }\n",
       "    .wandb-row { display: flex; flex-direction: row; flex-wrap: wrap; width: 100% }\n",
       "    .wandb-col { display: flex; flex-direction: column; flex-basis: 100%; flex: 1; padding: 10px; }\n",
       "    </style>\n",
       "<div class=\"wandb-row\"><div class=\"wandb-col\">\n",
       "<h3>Run history:</h3><br/><table class=\"wandb\"><tr><td>Mean Validation Loss (all folds)</td><td>▁</td></tr><tr><td>Mean Validation RMSE (all folds)</td><td>▁</td></tr><tr><td>epoch</td><td>▁▁▁▂▂▂▂▂▂▃▃▃▃▃▄▄▄▄▄▄▅▅▅▅▅▅▆▆▆▆▆▇▇▇▇▇▇███</td></tr><tr><td>loss</td><td>█▂▂▁▁▁▁▁▁▁▁▁▁▁▁▁▁▁▁▁▁▁▁▁▁▁▁▁▁▁▁▁▁▁▁▁▁▁▁▁</td></tr><tr><td>root_mean_squared_error</td><td>█▃▃▂▂▂▂▂▂▂▂▂▁▁▁▁▁▁▁▁▁▁▁▁▁▁▁▁▁▁▁▁▁▁▁▁▁▁▁▁</td></tr><tr><td>val_loss</td><td>▁▃▃▂▄▄▇█▅▄▁▅▅▂▁▃▂▂▂▂▄▂▄▆▆▂▂▅▁▃▄▂▄▃▃▃▃▁▂▄</td></tr><tr><td>val_root_mean_squared_error</td><td>▁▄▄▃▅▅▇█▆▅▂▆▆▂▂▄▃▃▂▃▅▃▅▆▆▂▂▆▁▄▅▃▅▄▃▃▄▁▂▅</td></tr></table><br/></div><div class=\"wandb-col\">\n",
       "<h3>Run summary:</h3><br/><table class=\"wandb\"><tr><td>Mean Validation Loss (all folds)</td><td>0.36053</td></tr><tr><td>Mean Validation RMSE (all folds)</td><td>0.59546</td></tr><tr><td>best_epoch</td><td>86</td></tr><tr><td>best_val_loss</td><td>0.05889</td></tr><tr><td>epoch</td><td>499</td></tr><tr><td>loss</td><td>0.01595</td></tr><tr><td>root_mean_squared_error</td><td>0.1263</td></tr><tr><td>val_loss</td><td>0.49622</td></tr><tr><td>val_root_mean_squared_error</td><td>0.70443</td></tr></table>\n",
       "</div></div>\n",
       "Synced 5 W&B file(s), 0 media file(s), 0 artifact file(s) and 1 other file(s)\n",
       "<br/>Synced <strong style=\"color:#cdcd00\">classic-sweep-15</strong>: <a href=\"https://wandb.ai/luiscostigan/house-price-prediction/runs/nyw309z4\" target=\"_blank\">https://wandb.ai/luiscostigan/house-price-prediction/runs/nyw309z4</a><br/>\n",
       "Find logs at: <code>./wandb/run-20220304_140923-nyw309z4/logs</code><br/>\n"
      ],
      "text/plain": [
       "<IPython.core.display.HTML object>"
      ]
     },
     "metadata": {},
     "output_type": "display_data"
    },
    {
     "name": "stderr",
     "output_type": "stream",
     "text": [
      "\u001b[34m\u001b[1mwandb\u001b[0m: wandb version 0.12.11 is available!  To upgrade, please run:\n",
      "\u001b[34m\u001b[1mwandb\u001b[0m:  $ pip install wandb --upgrade\n"
     ]
    },
    {
     "data": {
      "text/html": [
       "\n",
       "                    Syncing run <strong><a href=\"https://wandb.ai/luiscostigan/house-price-prediction/runs/nyw309z4\" target=\"_blank\">classic-sweep-15</a></strong> to <a href=\"https://wandb.ai/luiscostigan/house-price-prediction\" target=\"_blank\">Weights & Biases</a> (<a href=\"https://docs.wandb.com/integrations/jupyter.html\" target=\"_blank\">docs</a>).<br/>\n",
       "Sweep page: <a href=\"https://wandb.ai/luiscostigan/house-price-prediction/sweeps/hbftehhf\" target=\"_blank\">https://wandb.ai/luiscostigan/house-price-prediction/sweeps/hbftehhf</a><br/>\n",
       "\n",
       "                "
      ],
      "text/plain": [
       "<IPython.core.display.HTML object>"
      ]
     },
     "metadata": {},
     "output_type": "display_data"
    },
    {
     "name": "stdout",
     "output_type": "stream",
     "text": [
      "37/37 [==============================] - 0s 2ms/step - loss: 0.2393 - root_mean_squared_error: 0.4892\n",
      "Score for fold 4: loss of 0.23928552865982056; root_mean_squared_error of 0.4891681969165802\n",
      "------------------------------------------------------------------------\n",
      "Score per fold\n",
      "------------------------------------------------------------------------\n",
      "> Fold 1 - Loss: 0.28782764077186584 - RMSE: 0.5364956855773926%\n",
      "------------------------------------------------------------------------\n",
      "> Fold 2 - Loss: 0.29753175377845764 - RMSE: 0.5454646944999695%\n",
      "------------------------------------------------------------------------\n",
      "> Fold 3 - Loss: 0.49621644616127014 - RMSE: 0.7044263482093811%\n",
      "------------------------------------------------------------------------\n",
      "> Fold 4 - Loss: 0.23928552865982056 - RMSE: 0.4891681969165802%\n",
      "------------------------------------------------------------------------\n",
      "Average scores for all folds:\n",
      "> RMSE: 0.5688887313008308 (+- 0.08112306101080058)\n",
      "> Loss: 0.33021534234285355\n",
      "------------------------------------------------------------------------\n"
     ]
    },
    {
     "data": {
      "text/html": [
       "<br/>Waiting for W&B process to finish, PID 14322... <strong style=\"color:green\">(success).</strong>"
      ],
      "text/plain": [
       "<IPython.core.display.HTML object>"
      ]
     },
     "metadata": {},
     "output_type": "display_data"
    },
    {
     "data": {
      "application/vnd.jupyter.widget-view+json": {
       "model_id": "5f119a25ec824948a2de9fc0daabf66a",
       "version_major": 2,
       "version_minor": 0
      },
      "text/plain": [
       "VBox(children=(Label(value=' 0.12MB of 0.12MB uploaded (0.00MB deduped)\\r'), FloatProgress(value=1.0, max=1.0)…"
      ]
     },
     "metadata": {},
     "output_type": "display_data"
    },
    {
     "data": {
      "text/html": [
       "<style>\n",
       "    table.wandb td:nth-child(1) { padding: 0 10px; text-align: right }\n",
       "    .wandb-row { display: flex; flex-direction: row; flex-wrap: wrap; width: 100% }\n",
       "    .wandb-col { display: flex; flex-direction: column; flex-basis: 100%; flex: 1; padding: 10px; }\n",
       "    </style>\n",
       "<div class=\"wandb-row\"><div class=\"wandb-col\">\n",
       "<h3>Run history:</h3><br/><table class=\"wandb\"><tr><td>Mean Validation Loss (all folds)</td><td>▁</td></tr><tr><td>Mean Validation RMSE (all folds)</td><td>▁</td></tr><tr><td>epoch</td><td>▁▁▁▂▂▂▂▂▂▃▃▃▃▃▄▄▄▄▄▄▅▅▅▅▅▅▆▆▆▆▆▇▇▇▇▇▇███</td></tr><tr><td>loss</td><td>█▂▂▂▂▂▂▁▂▁▁▁▁▁▁▁▂▁▂▁▁▁▁▁▁▁▁▁▁▁▁▁▁▁▁▁▁▁▁▁</td></tr><tr><td>root_mean_squared_error</td><td>█▃▃▂▃▂▂▂▃▂▂▂▂▂▁▁▃▁▃▁▁▁▁▁▁▁▁▁▁▁▁▁▁▁▂▁▁▂▁▁</td></tr><tr><td>val_loss</td><td>▁▃▄▂▃▆▄█▄▄▃▄▁▂▅▃▃▆▆▅▃▄▄▂▃▂▄▂▅▃▅▃▃▅▄▄▄▂▅▄</td></tr><tr><td>val_root_mean_squared_error</td><td>▁▃▅▃▄▆▅█▅▅▄▅▂▃▆▃▄▇▇▆▃▅▅▃▃▃▅▃▆▄▆▄▄▆▅▅▅▃▆▅</td></tr></table><br/></div><div class=\"wandb-col\">\n",
       "<h3>Run summary:</h3><br/><table class=\"wandb\"><tr><td>Mean Validation Loss (all folds)</td><td>0.33022</td></tr><tr><td>Mean Validation RMSE (all folds)</td><td>0.56889</td></tr><tr><td>best_epoch</td><td>3</td></tr><tr><td>best_val_loss</td><td>0.06857</td></tr><tr><td>epoch</td><td>499</td></tr><tr><td>loss</td><td>0.01597</td></tr><tr><td>root_mean_squared_error</td><td>0.12638</td></tr><tr><td>val_loss</td><td>0.23929</td></tr><tr><td>val_root_mean_squared_error</td><td>0.48917</td></tr></table>\n",
       "</div></div>\n",
       "Synced 5 W&B file(s), 0 media file(s), 0 artifact file(s) and 1 other file(s)\n",
       "<br/>Synced <strong style=\"color:#cdcd00\">classic-sweep-15</strong>: <a href=\"https://wandb.ai/luiscostigan/house-price-prediction/runs/nyw309z4\" target=\"_blank\">https://wandb.ai/luiscostigan/house-price-prediction/runs/nyw309z4</a><br/>\n",
       "Find logs at: <code>./wandb/run-20220304_141107-nyw309z4/logs</code><br/>\n"
      ],
      "text/plain": [
       "<IPython.core.display.HTML object>"
      ]
     },
     "metadata": {},
     "output_type": "display_data"
    },
    {
     "name": "stderr",
     "output_type": "stream",
     "text": [
      "\u001b[34m\u001b[1mwandb\u001b[0m: wandb version 0.12.11 is available!  To upgrade, please run:\n",
      "\u001b[34m\u001b[1mwandb\u001b[0m:  $ pip install wandb --upgrade\n"
     ]
    },
    {
     "data": {
      "text/html": [
       "\n",
       "                    Syncing run <strong><a href=\"https://wandb.ai/luiscostigan/house-price-prediction/runs/nyw309z4\" target=\"_blank\">classic-sweep-15</a></strong> to <a href=\"https://wandb.ai/luiscostigan/house-price-prediction\" target=\"_blank\">Weights & Biases</a> (<a href=\"https://docs.wandb.com/integrations/jupyter.html\" target=\"_blank\">docs</a>).<br/>\n",
       "Sweep page: <a href=\"https://wandb.ai/luiscostigan/house-price-prediction/sweeps/hbftehhf\" target=\"_blank\">https://wandb.ai/luiscostigan/house-price-prediction/sweeps/hbftehhf</a><br/>\n",
       "\n",
       "                "
      ],
      "text/plain": [
       "<IPython.core.display.HTML object>"
      ]
     },
     "metadata": {},
     "output_type": "display_data"
    },
    {
     "name": "stdout",
     "output_type": "stream",
     "text": [
      "37/37 [==============================] - 0s 2ms/step - loss: 0.3802 - root_mean_squared_error: 0.6166\n",
      "Score for fold 5: loss of 0.38016295433044434; root_mean_squared_error of 0.6165735721588135\n",
      "------------------------------------------------------------------------\n",
      "Score per fold\n",
      "------------------------------------------------------------------------\n",
      "> Fold 1 - Loss: 0.28782764077186584 - RMSE: 0.5364956855773926%\n",
      "------------------------------------------------------------------------\n",
      "> Fold 2 - Loss: 0.29753175377845764 - RMSE: 0.5454646944999695%\n",
      "------------------------------------------------------------------------\n",
      "> Fold 3 - Loss: 0.49621644616127014 - RMSE: 0.7044263482093811%\n",
      "------------------------------------------------------------------------\n",
      "> Fold 4 - Loss: 0.23928552865982056 - RMSE: 0.4891681969165802%\n",
      "------------------------------------------------------------------------\n",
      "> Fold 5 - Loss: 0.38016295433044434 - RMSE: 0.6165735721588135%\n",
      "------------------------------------------------------------------------\n",
      "Average scores for all folds:\n",
      "> RMSE: 0.5784256994724274 (+- 0.07502383534473453)\n",
      "> Loss: 0.3402048647403717\n",
      "------------------------------------------------------------------------\n"
     ]
    },
    {
     "data": {
      "text/html": [
       "<br/>Waiting for W&B process to finish, PID 24818... <strong style=\"color:green\">(success).</strong>"
      ],
      "text/plain": [
       "<IPython.core.display.HTML object>"
      ]
     },
     "metadata": {},
     "output_type": "display_data"
    },
    {
     "data": {
      "application/vnd.jupyter.widget-view+json": {
       "model_id": "4462a70aa550413887a3c5eb08a7c6d3",
       "version_major": 2,
       "version_minor": 0
      },
      "text/plain": [
       "VBox(children=(Label(value=' 0.12MB of 0.12MB uploaded (0.00MB deduped)\\r'), FloatProgress(value=1.0, max=1.0)…"
      ]
     },
     "metadata": {},
     "output_type": "display_data"
    },
    {
     "data": {
      "text/html": [
       "<style>\n",
       "    table.wandb td:nth-child(1) { padding: 0 10px; text-align: right }\n",
       "    .wandb-row { display: flex; flex-direction: row; flex-wrap: wrap; width: 100% }\n",
       "    .wandb-col { display: flex; flex-direction: column; flex-basis: 100%; flex: 1; padding: 10px; }\n",
       "    </style>\n",
       "<div class=\"wandb-row\"><div class=\"wandb-col\">\n",
       "<h3>Run history:</h3><br/><table class=\"wandb\"><tr><td>Mean Validation Loss (all folds)</td><td>▁</td></tr><tr><td>Mean Validation RMSE (all folds)</td><td>▁</td></tr><tr><td>epoch</td><td>▁▁▁▂▂▂▂▂▂▃▃▃▃▃▄▄▄▄▄▄▅▅▅▅▅▅▆▆▆▆▆▇▇▇▇▇▇███</td></tr><tr><td>loss</td><td>█▃▂▂▂▂▁▁▁▁▁▁▁▁▁▁▁▁▁▁▁▁▁▁▁▁▁▁▁▁▁▁▁▁▁▁▁▁▁▁</td></tr><tr><td>root_mean_squared_error</td><td>█▄▃▃▂▂▂▂▂▂▂▂▂▂▁▂▁▁▁▁▁▁▁▁▁▁▁▁▁▁▁▁▁▁▁▁▁▁▁▁</td></tr><tr><td>val_loss</td><td>▁▁▆▃█▆▄▅▆▃▂▃▄▅▂▃▁▅▄▅▁▃▂▃▂▅▃▂▂▅▅▄▃▆▇▃▅▆▃▆</td></tr><tr><td>val_root_mean_squared_error</td><td>▂▁▇▄█▇▄▆▇▄▃▄▅▆▂▃▂▆▅▆▂▄▃▄▂▆▄▃▃▆▅▅▄▇▇▃▆▇▄▇</td></tr></table><br/></div><div class=\"wandb-col\">\n",
       "<h3>Run summary:</h3><br/><table class=\"wandb\"><tr><td>Mean Validation Loss (all folds)</td><td>0.3402</td></tr><tr><td>Mean Validation RMSE (all folds)</td><td>0.57843</td></tr><tr><td>best_epoch</td><td>77</td></tr><tr><td>best_val_loss</td><td>0.07515</td></tr><tr><td>epoch</td><td>499</td></tr><tr><td>loss</td><td>0.01632</td></tr><tr><td>root_mean_squared_error</td><td>0.12776</td></tr><tr><td>val_loss</td><td>0.38016</td></tr><tr><td>val_root_mean_squared_error</td><td>0.61657</td></tr></table>\n",
       "</div></div>\n",
       "Synced 5 W&B file(s), 0 media file(s), 0 artifact file(s) and 1 other file(s)\n",
       "<br/>Synced <strong style=\"color:#cdcd00\">classic-sweep-15</strong>: <a href=\"https://wandb.ai/luiscostigan/house-price-prediction/runs/nyw309z4\" target=\"_blank\">https://wandb.ai/luiscostigan/house-price-prediction/runs/nyw309z4</a><br/>\n",
       "Find logs at: <code>./wandb/run-20220304_141248-nyw309z4/logs</code><br/>\n"
      ],
      "text/plain": [
       "<IPython.core.display.HTML object>"
      ]
     },
     "metadata": {},
     "output_type": "display_data"
    },
    {
     "name": "stderr",
     "output_type": "stream",
     "text": [
      "\u001b[34m\u001b[1mwandb\u001b[0m: Agent Starting Run: 6uqxdxcv with config:\n",
      "\u001b[34m\u001b[1mwandb\u001b[0m: \tbatch_size: 8\n",
      "\u001b[34m\u001b[1mwandb\u001b[0m: \tdense1: 8\n",
      "\u001b[34m\u001b[1mwandb\u001b[0m: \tdense2: 8\n",
      "\u001b[34m\u001b[1mwandb\u001b[0m: \tdropout1: 0.16003189892231845\n",
      "\u001b[34m\u001b[1mwandb\u001b[0m: \tepochs: 500\n",
      "\u001b[34m\u001b[1mwandb\u001b[0m: wandb version 0.12.11 is available!  To upgrade, please run:\n",
      "\u001b[34m\u001b[1mwandb\u001b[0m:  $ pip install wandb --upgrade\n"
     ]
    },
    {
     "data": {
      "text/html": [
       "\n",
       "                    Syncing run <strong><a href=\"https://wandb.ai/luiscostigan/house-price-prediction/runs/6uqxdxcv\" target=\"_blank\">kind-sweep-16</a></strong> to <a href=\"https://wandb.ai/luiscostigan/house-price-prediction\" target=\"_blank\">Weights & Biases</a> (<a href=\"https://docs.wandb.com/integrations/jupyter.html\" target=\"_blank\">docs</a>).<br/>\n",
       "Sweep page: <a href=\"https://wandb.ai/luiscostigan/house-price-prediction/sweeps/hbftehhf\" target=\"_blank\">https://wandb.ai/luiscostigan/house-price-prediction/sweeps/hbftehhf</a><br/>\n",
       "\n",
       "                "
      ],
      "text/plain": [
       "<IPython.core.display.HTML object>"
      ]
     },
     "metadata": {},
     "output_type": "display_data"
    },
    {
     "name": "stdout",
     "output_type": "stream",
     "text": [
      "37/37 [==============================] - 0s 4ms/step - loss: 0.0551 - root_mean_squared_error: 0.2348\n",
      "Score for fold 1: loss of 0.055125754326581955; root_mean_squared_error of 0.23478874564170837\n",
      "------------------------------------------------------------------------\n",
      "Score per fold\n",
      "------------------------------------------------------------------------\n",
      "> Fold 1 - Loss: 0.055125754326581955 - RMSE: 0.23478874564170837%\n",
      "------------------------------------------------------------------------\n",
      "Average scores for all folds:\n",
      "> RMSE: 0.23478874564170837 (+- 0.0)\n",
      "> Loss: 0.055125754326581955\n",
      "------------------------------------------------------------------------\n"
     ]
    },
    {
     "data": {
      "text/html": [
       "<br/>Waiting for W&B process to finish, PID 2892... <strong style=\"color:green\">(success).</strong>"
      ],
      "text/plain": [
       "<IPython.core.display.HTML object>"
      ]
     },
     "metadata": {},
     "output_type": "display_data"
    },
    {
     "data": {
      "application/vnd.jupyter.widget-view+json": {
       "model_id": "08a0c423c7fb4ba4930bd9259cfd6643",
       "version_major": 2,
       "version_minor": 0
      },
      "text/plain": [
       "VBox(children=(Label(value=' 0.12MB of 0.12MB uploaded (0.00MB deduped)\\r'), FloatProgress(value=1.0, max=1.0)…"
      ]
     },
     "metadata": {},
     "output_type": "display_data"
    },
    {
     "data": {
      "text/html": [
       "<style>\n",
       "    table.wandb td:nth-child(1) { padding: 0 10px; text-align: right }\n",
       "    .wandb-row { display: flex; flex-direction: row; flex-wrap: wrap; width: 100% }\n",
       "    .wandb-col { display: flex; flex-direction: column; flex-basis: 100%; flex: 1; padding: 10px; }\n",
       "    </style>\n",
       "<div class=\"wandb-row\"><div class=\"wandb-col\">\n",
       "<h3>Run history:</h3><br/><table class=\"wandb\"><tr><td>Mean Validation Loss (all folds)</td><td>▁</td></tr><tr><td>Mean Validation RMSE (all folds)</td><td>▁</td></tr><tr><td>epoch</td><td>▁▁▁▂▂▂▂▂▂▃▃▃▃▃▄▄▄▄▄▄▅▅▅▅▅▅▆▆▆▆▆▇▇▇▇▇▇███</td></tr><tr><td>loss</td><td>█▂▂▁▁▁▁▁▁▁▁▁▁▁▁▁▁▁▁▁▁▁▁▁▁▁▁▁▁▁▁▁▁▁▁▁▁▁▁▁</td></tr><tr><td>root_mean_squared_error</td><td>█▄▃▂▂▂▁▁▁▁▁▁▁▁▁▁▁▁▁▁▁▁▁▁▁▁▁▁▁▁▁▁▁▁▁▁▁▁▁▁</td></tr><tr><td>val_loss</td><td>▄█▆▄▂▂▂▂▁▁▁▁▁▁▁▁▁▁▁▁▁▁▁▁▁▁▁▁▁▁▁▁▁▁▁▁▁▁▁▁</td></tr><tr><td>val_root_mean_squared_error</td><td>▆█▇▅▃▄▃▂▂▂▂▁▂▂▂▂▁▁▁▁▂▁▁▁▂▂▁▁▁▁▁▁▁▁▁▁▁▁▂▁</td></tr></table><br/></div><div class=\"wandb-col\">\n",
       "<h3>Run summary:</h3><br/><table class=\"wandb\"><tr><td>Mean Validation Loss (all folds)</td><td>0.05513</td></tr><tr><td>Mean Validation RMSE (all folds)</td><td>0.23479</td></tr><tr><td>best_epoch</td><td>375</td></tr><tr><td>best_val_loss</td><td>0.01425</td></tr><tr><td>epoch</td><td>499</td></tr><tr><td>loss</td><td>0.006</td></tr><tr><td>root_mean_squared_error</td><td>0.07747</td></tr><tr><td>val_loss</td><td>0.05513</td></tr><tr><td>val_root_mean_squared_error</td><td>0.23479</td></tr></table>\n",
       "</div></div>\n",
       "Synced 5 W&B file(s), 0 media file(s), 0 artifact file(s) and 1 other file(s)\n",
       "<br/>Synced <strong style=\"color:#cdcd00\">kind-sweep-16</strong>: <a href=\"https://wandb.ai/luiscostigan/house-price-prediction/runs/6uqxdxcv\" target=\"_blank\">https://wandb.ai/luiscostigan/house-price-prediction/runs/6uqxdxcv</a><br/>\n",
       "Find logs at: <code>./wandb/run-20220304_141436-6uqxdxcv/logs</code><br/>\n"
      ],
      "text/plain": [
       "<IPython.core.display.HTML object>"
      ]
     },
     "metadata": {},
     "output_type": "display_data"
    },
    {
     "name": "stderr",
     "output_type": "stream",
     "text": [
      "\u001b[34m\u001b[1mwandb\u001b[0m: wandb version 0.12.11 is available!  To upgrade, please run:\n",
      "\u001b[34m\u001b[1mwandb\u001b[0m:  $ pip install wandb --upgrade\n"
     ]
    },
    {
     "data": {
      "text/html": [
       "\n",
       "                    Syncing run <strong><a href=\"https://wandb.ai/luiscostigan/house-price-prediction/runs/6uqxdxcv\" target=\"_blank\">kind-sweep-16</a></strong> to <a href=\"https://wandb.ai/luiscostigan/house-price-prediction\" target=\"_blank\">Weights & Biases</a> (<a href=\"https://docs.wandb.com/integrations/jupyter.html\" target=\"_blank\">docs</a>).<br/>\n",
       "Sweep page: <a href=\"https://wandb.ai/luiscostigan/house-price-prediction/sweeps/hbftehhf\" target=\"_blank\">https://wandb.ai/luiscostigan/house-price-prediction/sweeps/hbftehhf</a><br/>\n",
       "\n",
       "                "
      ],
      "text/plain": [
       "<IPython.core.display.HTML object>"
      ]
     },
     "metadata": {},
     "output_type": "display_data"
    },
    {
     "name": "stdout",
     "output_type": "stream",
     "text": [
      "37/37 [==============================] - 0s 2ms/step - loss: 1.4297 - root_mean_squared_error: 1.1957\n",
      "Score for fold 2: loss of 1.4297456741333008; root_mean_squared_error of 1.1957197189331055\n",
      "------------------------------------------------------------------------\n",
      "Score per fold\n",
      "------------------------------------------------------------------------\n",
      "> Fold 1 - Loss: 0.055125754326581955 - RMSE: 0.23478874564170837%\n",
      "------------------------------------------------------------------------\n",
      "> Fold 2 - Loss: 1.4297456741333008 - RMSE: 1.1957197189331055%\n",
      "------------------------------------------------------------------------\n",
      "Average scores for all folds:\n",
      "> RMSE: 0.7152542322874069 (+- 0.48046548664569855)\n",
      "> Loss: 0.7424357142299414\n",
      "------------------------------------------------------------------------\n"
     ]
    },
    {
     "data": {
      "text/html": [
       "<br/>Waiting for W&B process to finish, PID 14100... <strong style=\"color:green\">(success).</strong>"
      ],
      "text/plain": [
       "<IPython.core.display.HTML object>"
      ]
     },
     "metadata": {},
     "output_type": "display_data"
    },
    {
     "data": {
      "application/vnd.jupyter.widget-view+json": {
       "model_id": "fee09391c80a45c093e483b0e214a8ff",
       "version_major": 2,
       "version_minor": 0
      },
      "text/plain": [
       "VBox(children=(Label(value=' 0.12MB of 0.12MB uploaded (0.00MB deduped)\\r'), FloatProgress(value=1.0, max=1.0)…"
      ]
     },
     "metadata": {},
     "output_type": "display_data"
    },
    {
     "data": {
      "text/html": [
       "<style>\n",
       "    table.wandb td:nth-child(1) { padding: 0 10px; text-align: right }\n",
       "    .wandb-row { display: flex; flex-direction: row; flex-wrap: wrap; width: 100% }\n",
       "    .wandb-col { display: flex; flex-direction: column; flex-basis: 100%; flex: 1; padding: 10px; }\n",
       "    </style>\n",
       "<div class=\"wandb-row\"><div class=\"wandb-col\">\n",
       "<h3>Run history:</h3><br/><table class=\"wandb\"><tr><td>Mean Validation Loss (all folds)</td><td>▁</td></tr><tr><td>Mean Validation RMSE (all folds)</td><td>▁</td></tr><tr><td>epoch</td><td>▁▁▁▂▂▂▂▂▂▃▃▃▃▃▄▄▄▄▄▄▅▅▅▅▅▅▆▆▆▆▆▇▇▇▇▇▇███</td></tr><tr><td>loss</td><td>█▂▁▂▂▁▁▁▁▁▁▁▁▁▁▁▁▁▁▁▁▁▁▁▁▁▁▁▁▁▁▁▁▁▁▁▁▁▁▁</td></tr><tr><td>root_mean_squared_error</td><td>█▃▂▃▃▂▁▂▂▂▂▂▂▂▂▂▁▁▁▂▁▁▁▁▂▁▁▁▁▁▁▁▁▁▁▁▁▁▁▁</td></tr><tr><td>val_loss</td><td>▂█▇▇█▇▄▇▆▆▆▄▅▆▄▄▃▄▄▃▂▃▃▂▂▂▂▃▂▂▂▂▁▂▂▁▂▁▂▁</td></tr><tr><td>val_root_mean_squared_error</td><td>▂█▇▇█▇▄▇▆▆▆▅▆▆▄▅▃▅▄▄▂▃▃▃▂▃▂▃▂▂▂▂▁▂▂▁▂▂▂▁</td></tr></table><br/></div><div class=\"wandb-col\">\n",
       "<h3>Run summary:</h3><br/><table class=\"wandb\"><tr><td>Mean Validation Loss (all folds)</td><td>0.74244</td></tr><tr><td>Mean Validation RMSE (all folds)</td><td>0.71525</td></tr><tr><td>best_epoch</td><td>0</td></tr><tr><td>best_val_loss</td><td>1.06474</td></tr><tr><td>epoch</td><td>499</td></tr><tr><td>loss</td><td>0.0064</td></tr><tr><td>root_mean_squared_error</td><td>0.08</td></tr><tr><td>val_loss</td><td>1.42975</td></tr><tr><td>val_root_mean_squared_error</td><td>1.19572</td></tr></table>\n",
       "</div></div>\n",
       "Synced 5 W&B file(s), 0 media file(s), 0 artifact file(s) and 1 other file(s)\n",
       "<br/>Synced <strong style=\"color:#cdcd00\">kind-sweep-16</strong>: <a href=\"https://wandb.ai/luiscostigan/house-price-prediction/runs/6uqxdxcv\" target=\"_blank\">https://wandb.ai/luiscostigan/house-price-prediction/runs/6uqxdxcv</a><br/>\n",
       "Find logs at: <code>./wandb/run-20220304_141729-6uqxdxcv/logs</code><br/>\n"
      ],
      "text/plain": [
       "<IPython.core.display.HTML object>"
      ]
     },
     "metadata": {},
     "output_type": "display_data"
    },
    {
     "name": "stderr",
     "output_type": "stream",
     "text": [
      "\u001b[34m\u001b[1mwandb\u001b[0m: wandb version 0.12.11 is available!  To upgrade, please run:\n",
      "\u001b[34m\u001b[1mwandb\u001b[0m:  $ pip install wandb --upgrade\n"
     ]
    },
    {
     "data": {
      "text/html": [
       "\n",
       "                    Syncing run <strong><a href=\"https://wandb.ai/luiscostigan/house-price-prediction/runs/6uqxdxcv\" target=\"_blank\">kind-sweep-16</a></strong> to <a href=\"https://wandb.ai/luiscostigan/house-price-prediction\" target=\"_blank\">Weights & Biases</a> (<a href=\"https://docs.wandb.com/integrations/jupyter.html\" target=\"_blank\">docs</a>).<br/>\n",
       "Sweep page: <a href=\"https://wandb.ai/luiscostigan/house-price-prediction/sweeps/hbftehhf\" target=\"_blank\">https://wandb.ai/luiscostigan/house-price-prediction/sweeps/hbftehhf</a><br/>\n",
       "\n",
       "                "
      ],
      "text/plain": [
       "<IPython.core.display.HTML object>"
      ]
     },
     "metadata": {},
     "output_type": "display_data"
    },
    {
     "name": "stdout",
     "output_type": "stream",
     "text": [
      "37/37 [==============================] - 0s 2ms/step - loss: 1.2162 - root_mean_squared_error: 1.1028\n",
      "Score for fold 3: loss of 1.2161591053009033; root_mean_squared_error of 1.1027960777282715\n",
      "------------------------------------------------------------------------\n",
      "Score per fold\n",
      "------------------------------------------------------------------------\n",
      "> Fold 1 - Loss: 0.055125754326581955 - RMSE: 0.23478874564170837%\n",
      "------------------------------------------------------------------------\n",
      "> Fold 2 - Loss: 1.4297456741333008 - RMSE: 1.1957197189331055%\n",
      "------------------------------------------------------------------------\n",
      "> Fold 3 - Loss: 1.2161591053009033 - RMSE: 1.1027960777282715%\n",
      "------------------------------------------------------------------------\n",
      "Average scores for all folds:\n",
      "> RMSE: 0.8444348474343618 (+- 0.432750873557312)\n",
      "> Loss: 0.9003435112535954\n",
      "------------------------------------------------------------------------\n"
     ]
    },
    {
     "data": {
      "text/html": [
       "<br/>Waiting for W&B process to finish, PID 25188... <strong style=\"color:green\">(success).</strong>"
      ],
      "text/plain": [
       "<IPython.core.display.HTML object>"
      ]
     },
     "metadata": {},
     "output_type": "display_data"
    },
    {
     "data": {
      "application/vnd.jupyter.widget-view+json": {
       "model_id": "82d2740697924810ac5ad76d263a7fb6",
       "version_major": 2,
       "version_minor": 0
      },
      "text/plain": [
       "VBox(children=(Label(value=' 0.12MB of 0.12MB uploaded (0.00MB deduped)\\r'), FloatProgress(value=1.0, max=1.0)…"
      ]
     },
     "metadata": {},
     "output_type": "display_data"
    },
    {
     "data": {
      "text/html": [
       "<style>\n",
       "    table.wandb td:nth-child(1) { padding: 0 10px; text-align: right }\n",
       "    .wandb-row { display: flex; flex-direction: row; flex-wrap: wrap; width: 100% }\n",
       "    .wandb-col { display: flex; flex-direction: column; flex-basis: 100%; flex: 1; padding: 10px; }\n",
       "    </style>\n",
       "<div class=\"wandb-row\"><div class=\"wandb-col\">\n",
       "<h3>Run history:</h3><br/><table class=\"wandb\"><tr><td>Mean Validation Loss (all folds)</td><td>▁</td></tr><tr><td>Mean Validation RMSE (all folds)</td><td>▁</td></tr><tr><td>epoch</td><td>▁▁▁▂▂▂▂▂▂▃▃▃▃▃▄▄▄▄▄▄▅▅▅▅▅▅▆▆▆▆▆▇▇▇▇▇▇███</td></tr><tr><td>loss</td><td>█▂▃▂▂▁▁▁▁▁▁▁▁▁▁▁▁▁▁▁▁▁▁▁▁▁▁▁▁▁▁▁▁▁▁▁▁▁▁▁</td></tr><tr><td>root_mean_squared_error</td><td>█▃▅▃▃▂▂▁▁▁▁▁▁▁▁▁▁▁▁▁▁▁▁▁▁▁▁▁▁▁▁▁▁▁▁▁▁▁▁▁</td></tr><tr><td>val_loss</td><td>▅█▆▄▅▅▂▂▂▃▂▂▂▂▂▂▂▂▂▁▂▂▃▁▁▂▁▂▂▂▂▁▂▁▂▂▂▂▂▂</td></tr><tr><td>val_root_mean_squared_error</td><td>▅█▆▄▅▅▂▂▃▃▃▃▂▂▂▃▂▂▃▁▂▂▃▁▁▂▂▂▂▂▂▂▂▂▂▂▂▂▂▂</td></tr></table><br/></div><div class=\"wandb-col\">\n",
       "<h3>Run summary:</h3><br/><table class=\"wandb\"><tr><td>Mean Validation Loss (all folds)</td><td>0.90034</td></tr><tr><td>Mean Validation RMSE (all folds)</td><td>0.84443</td></tr><tr><td>best_epoch</td><td>0</td></tr><tr><td>best_val_loss</td><td>0.42411</td></tr><tr><td>epoch</td><td>499</td></tr><tr><td>loss</td><td>0.00763</td></tr><tr><td>root_mean_squared_error</td><td>0.08737</td></tr><tr><td>val_loss</td><td>1.21616</td></tr><tr><td>val_root_mean_squared_error</td><td>1.1028</td></tr></table>\n",
       "</div></div>\n",
       "Synced 5 W&B file(s), 0 media file(s), 0 artifact file(s) and 1 other file(s)\n",
       "<br/>Synced <strong style=\"color:#cdcd00\">kind-sweep-16</strong>: <a href=\"https://wandb.ai/luiscostigan/house-price-prediction/runs/6uqxdxcv\" target=\"_blank\">https://wandb.ai/luiscostigan/house-price-prediction/runs/6uqxdxcv</a><br/>\n",
       "Find logs at: <code>./wandb/run-20220304_142020-6uqxdxcv/logs</code><br/>\n"
      ],
      "text/plain": [
       "<IPython.core.display.HTML object>"
      ]
     },
     "metadata": {},
     "output_type": "display_data"
    },
    {
     "name": "stderr",
     "output_type": "stream",
     "text": [
      "\u001b[34m\u001b[1mwandb\u001b[0m: wandb version 0.12.11 is available!  To upgrade, please run:\n",
      "\u001b[34m\u001b[1mwandb\u001b[0m:  $ pip install wandb --upgrade\n"
     ]
    },
    {
     "data": {
      "text/html": [
       "\n",
       "                    Syncing run <strong><a href=\"https://wandb.ai/luiscostigan/house-price-prediction/runs/6uqxdxcv\" target=\"_blank\">kind-sweep-16</a></strong> to <a href=\"https://wandb.ai/luiscostigan/house-price-prediction\" target=\"_blank\">Weights & Biases</a> (<a href=\"https://docs.wandb.com/integrations/jupyter.html\" target=\"_blank\">docs</a>).<br/>\n",
       "Sweep page: <a href=\"https://wandb.ai/luiscostigan/house-price-prediction/sweeps/hbftehhf\" target=\"_blank\">https://wandb.ai/luiscostigan/house-price-prediction/sweeps/hbftehhf</a><br/>\n",
       "\n",
       "                "
      ],
      "text/plain": [
       "<IPython.core.display.HTML object>"
      ]
     },
     "metadata": {},
     "output_type": "display_data"
    },
    {
     "name": "stdout",
     "output_type": "stream",
     "text": [
      "37/37 [==============================] - 0s 2ms/step - loss: 0.6707 - root_mean_squared_error: 0.8189\n",
      "Score for fold 4: loss of 0.6706714630126953; root_mean_squared_error of 0.8189453482627869\n",
      "------------------------------------------------------------------------\n",
      "Score per fold\n",
      "------------------------------------------------------------------------\n",
      "> Fold 1 - Loss: 0.055125754326581955 - RMSE: 0.23478874564170837%\n",
      "------------------------------------------------------------------------\n",
      "> Fold 2 - Loss: 1.4297456741333008 - RMSE: 1.1957197189331055%\n",
      "------------------------------------------------------------------------\n",
      "> Fold 3 - Loss: 1.2161591053009033 - RMSE: 1.1027960777282715%\n",
      "------------------------------------------------------------------------\n",
      "> Fold 4 - Loss: 0.6706714630126953 - RMSE: 0.8189453482627869%\n",
      "------------------------------------------------------------------------\n",
      "Average scores for all folds:\n",
      "> RMSE: 0.838062472641468 (+- 0.37493574170111577)\n",
      "> Loss: 0.8429254991933703\n",
      "------------------------------------------------------------------------\n"
     ]
    },
    {
     "data": {
      "text/html": [
       "<br/>Waiting for W&B process to finish, PID 3806... <strong style=\"color:green\">(success).</strong>"
      ],
      "text/plain": [
       "<IPython.core.display.HTML object>"
      ]
     },
     "metadata": {},
     "output_type": "display_data"
    },
    {
     "data": {
      "application/vnd.jupyter.widget-view+json": {
       "model_id": "ef1975289803470c964f5f19121b56ca",
       "version_major": 2,
       "version_minor": 0
      },
      "text/plain": [
       "VBox(children=(Label(value=' 0.12MB of 0.12MB uploaded (0.00MB deduped)\\r'), FloatProgress(value=1.0, max=1.0)…"
      ]
     },
     "metadata": {},
     "output_type": "display_data"
    },
    {
     "data": {
      "text/html": [
       "<style>\n",
       "    table.wandb td:nth-child(1) { padding: 0 10px; text-align: right }\n",
       "    .wandb-row { display: flex; flex-direction: row; flex-wrap: wrap; width: 100% }\n",
       "    .wandb-col { display: flex; flex-direction: column; flex-basis: 100%; flex: 1; padding: 10px; }\n",
       "    </style>\n",
       "<div class=\"wandb-row\"><div class=\"wandb-col\">\n",
       "<h3>Run history:</h3><br/><table class=\"wandb\"><tr><td>Mean Validation Loss (all folds)</td><td>▁</td></tr><tr><td>Mean Validation RMSE (all folds)</td><td>▁</td></tr><tr><td>epoch</td><td>▁▁▁▂▂▂▂▂▂▃▃▃▃▃▄▄▄▄▄▄▅▅▅▅▅▅▆▆▆▆▆▇▇▇▇▇▇███</td></tr><tr><td>loss</td><td>█▂▂▁▁▁▁▁▁▁▁▁▁▁▁▁▁▁▁▁▁▁▁▁▁▁▁▁▁▁▁▁▁▁▁▁▁▁▁▁</td></tr><tr><td>root_mean_squared_error</td><td>█▄▃▂▂▁▁▁▁▁▁▁▁▁▁▁▁▁▁▁▁▁▁▁▁▁▁▁▁▁▁▁▁▁▁▁▁▁▁▁</td></tr><tr><td>val_loss</td><td>▂▇█▃▃▄▃▃▃▂▂▂▂▂▂▂▂▂▃▂▂▁▂▂▂▁▁▁▁▂▂▂▂▂▁▁▂▁▁▁</td></tr><tr><td>val_root_mean_squared_error</td><td>▂██▃▄▄▄▃▄▃▂▃▂▂▂▃▃▂▃▂▃▁▂▂▂▂▂▂▁▂▂▂▂▂▂▁▂▂▂▂</td></tr></table><br/></div><div class=\"wandb-col\">\n",
       "<h3>Run summary:</h3><br/><table class=\"wandb\"><tr><td>Mean Validation Loss (all folds)</td><td>0.84293</td></tr><tr><td>Mean Validation RMSE (all folds)</td><td>0.83806</td></tr><tr><td>best_epoch</td><td>1</td></tr><tr><td>best_val_loss</td><td>0.44117</td></tr><tr><td>epoch</td><td>499</td></tr><tr><td>loss</td><td>0.00869</td></tr><tr><td>root_mean_squared_error</td><td>0.09322</td></tr><tr><td>val_loss</td><td>0.67067</td></tr><tr><td>val_root_mean_squared_error</td><td>0.81895</td></tr></table>\n",
       "</div></div>\n",
       "Synced 5 W&B file(s), 0 media file(s), 0 artifact file(s) and 1 other file(s)\n",
       "<br/>Synced <strong style=\"color:#cdcd00\">kind-sweep-16</strong>: <a href=\"https://wandb.ai/luiscostigan/house-price-prediction/runs/6uqxdxcv\" target=\"_blank\">https://wandb.ai/luiscostigan/house-price-prediction/runs/6uqxdxcv</a><br/>\n",
       "Find logs at: <code>./wandb/run-20220304_142306-6uqxdxcv/logs</code><br/>\n"
      ],
      "text/plain": [
       "<IPython.core.display.HTML object>"
      ]
     },
     "metadata": {},
     "output_type": "display_data"
    },
    {
     "name": "stderr",
     "output_type": "stream",
     "text": [
      "\u001b[34m\u001b[1mwandb\u001b[0m: wandb version 0.12.11 is available!  To upgrade, please run:\n",
      "\u001b[34m\u001b[1mwandb\u001b[0m:  $ pip install wandb --upgrade\n"
     ]
    },
    {
     "data": {
      "text/html": [
       "\n",
       "                    Syncing run <strong><a href=\"https://wandb.ai/luiscostigan/house-price-prediction/runs/6uqxdxcv\" target=\"_blank\">kind-sweep-16</a></strong> to <a href=\"https://wandb.ai/luiscostigan/house-price-prediction\" target=\"_blank\">Weights & Biases</a> (<a href=\"https://docs.wandb.com/integrations/jupyter.html\" target=\"_blank\">docs</a>).<br/>\n",
       "Sweep page: <a href=\"https://wandb.ai/luiscostigan/house-price-prediction/sweeps/hbftehhf\" target=\"_blank\">https://wandb.ai/luiscostigan/house-price-prediction/sweeps/hbftehhf</a><br/>\n",
       "\n",
       "                "
      ],
      "text/plain": [
       "<IPython.core.display.HTML object>"
      ]
     },
     "metadata": {},
     "output_type": "display_data"
    },
    {
     "name": "stdout",
     "output_type": "stream",
     "text": [
      "37/37 [==============================] - 0s 2ms/step - loss: 0.1791 - root_mean_squared_error: 0.4232\n",
      "Score for fold 5: loss of 0.17911989986896515; root_mean_squared_error of 0.4232255816459656\n",
      "------------------------------------------------------------------------\n",
      "Score per fold\n",
      "------------------------------------------------------------------------\n",
      "> Fold 1 - Loss: 0.055125754326581955 - RMSE: 0.23478874564170837%\n",
      "------------------------------------------------------------------------\n",
      "> Fold 2 - Loss: 1.4297456741333008 - RMSE: 1.1957197189331055%\n",
      "------------------------------------------------------------------------\n",
      "> Fold 3 - Loss: 1.2161591053009033 - RMSE: 1.1027960777282715%\n",
      "------------------------------------------------------------------------\n",
      "> Fold 4 - Loss: 0.6706714630126953 - RMSE: 0.8189453482627869%\n",
      "------------------------------------------------------------------------\n",
      "> Fold 5 - Loss: 0.17911989986896515 - RMSE: 0.4232255816459656%\n",
      "------------------------------------------------------------------------\n",
      "Average scores for all folds:\n",
      "> RMSE: 0.7550950944423676 (+- 0.37416011506426355)\n",
      "> Loss: 0.7101643793284893\n",
      "------------------------------------------------------------------------\n"
     ]
    },
    {
     "data": {
      "text/html": [
       "<br/>Waiting for W&B process to finish, PID 14951... <strong style=\"color:green\">(success).</strong>"
      ],
      "text/plain": [
       "<IPython.core.display.HTML object>"
      ]
     },
     "metadata": {},
     "output_type": "display_data"
    },
    {
     "data": {
      "application/vnd.jupyter.widget-view+json": {
       "model_id": "4f418fb70a0d4afe9745f89f906e7356",
       "version_major": 2,
       "version_minor": 0
      },
      "text/plain": [
       "VBox(children=(Label(value=' 0.12MB of 0.12MB uploaded (0.00MB deduped)\\r'), FloatProgress(value=1.0, max=1.0)…"
      ]
     },
     "metadata": {},
     "output_type": "display_data"
    },
    {
     "data": {
      "text/html": [
       "<style>\n",
       "    table.wandb td:nth-child(1) { padding: 0 10px; text-align: right }\n",
       "    .wandb-row { display: flex; flex-direction: row; flex-wrap: wrap; width: 100% }\n",
       "    .wandb-col { display: flex; flex-direction: column; flex-basis: 100%; flex: 1; padding: 10px; }\n",
       "    </style>\n",
       "<div class=\"wandb-row\"><div class=\"wandb-col\">\n",
       "<h3>Run history:</h3><br/><table class=\"wandb\"><tr><td>Mean Validation Loss (all folds)</td><td>▁</td></tr><tr><td>Mean Validation RMSE (all folds)</td><td>▁</td></tr><tr><td>epoch</td><td>▁▁▁▂▂▂▂▂▂▃▃▃▃▃▄▄▄▄▄▄▅▅▅▅▅▅▆▆▆▆▆▇▇▇▇▇▇███</td></tr><tr><td>loss</td><td>█▂▂▁▁▁▁▁▁▁▁▁▁▁▁▁▁▁▁▁▁▁▁▁▁▁▁▁▁▁▁▁▁▁▁▁▁▁▁▁</td></tr><tr><td>root_mean_squared_error</td><td>█▃▃▂▂▂▂▂▁▂▂▂▁▁▁▁▁▁▁▁▁▁▁▁▁▁▁▁▁▁▁▁▁▁▁▁▁▁▁▁</td></tr><tr><td>val_loss</td><td>▅█▆▅▅▄▅▃▄▄▂▂▁▂▂▂▂▂▂▁▂▁▁▁▂▁▁▁▁▁▁▁▁▁▁▁▁▁▁▁</td></tr><tr><td>val_root_mean_squared_error</td><td>▆█▆▆▆▅▆▄▅▅▃▃▂▂▂▃▃▂▂▂▃▂▂▂▂▂▁▂▂▁▁▁▂▁▂▁▂▁▁▁</td></tr></table><br/></div><div class=\"wandb-col\">\n",
       "<h3>Run summary:</h3><br/><table class=\"wandb\"><tr><td>Mean Validation Loss (all folds)</td><td>0.71016</td></tr><tr><td>Mean Validation RMSE (all folds)</td><td>0.7551</td></tr><tr><td>best_epoch</td><td>432</td></tr><tr><td>best_val_loss</td><td>0.10497</td></tr><tr><td>epoch</td><td>499</td></tr><tr><td>loss</td><td>0.00689</td></tr><tr><td>root_mean_squared_error</td><td>0.083</td></tr><tr><td>val_loss</td><td>0.17912</td></tr><tr><td>val_root_mean_squared_error</td><td>0.42323</td></tr></table>\n",
       "</div></div>\n",
       "Synced 5 W&B file(s), 0 media file(s), 0 artifact file(s) and 1 other file(s)\n",
       "<br/>Synced <strong style=\"color:#cdcd00\">kind-sweep-16</strong>: <a href=\"https://wandb.ai/luiscostigan/house-price-prediction/runs/6uqxdxcv\" target=\"_blank\">https://wandb.ai/luiscostigan/house-price-prediction/runs/6uqxdxcv</a><br/>\n",
       "Find logs at: <code>./wandb/run-20220304_142555-6uqxdxcv/logs</code><br/>\n"
      ],
      "text/plain": [
       "<IPython.core.display.HTML object>"
      ]
     },
     "metadata": {},
     "output_type": "display_data"
    },
    {
     "name": "stderr",
     "output_type": "stream",
     "text": [
      "\u001b[34m\u001b[1mwandb\u001b[0m: Agent Starting Run: ib9wcgoe with config:\n",
      "\u001b[34m\u001b[1mwandb\u001b[0m: \tbatch_size: 16\n",
      "\u001b[34m\u001b[1mwandb\u001b[0m: \tdense1: 32\n",
      "\u001b[34m\u001b[1mwandb\u001b[0m: \tdense2: 8\n",
      "\u001b[34m\u001b[1mwandb\u001b[0m: \tdropout1: 0.1358070817330264\n",
      "\u001b[34m\u001b[1mwandb\u001b[0m: \tepochs: 250\n",
      "\u001b[34m\u001b[1mwandb\u001b[0m: wandb version 0.12.11 is available!  To upgrade, please run:\n",
      "\u001b[34m\u001b[1mwandb\u001b[0m:  $ pip install wandb --upgrade\n"
     ]
    },
    {
     "data": {
      "text/html": [
       "\n",
       "                    Syncing run <strong><a href=\"https://wandb.ai/luiscostigan/house-price-prediction/runs/ib9wcgoe\" target=\"_blank\">happy-sweep-17</a></strong> to <a href=\"https://wandb.ai/luiscostigan/house-price-prediction\" target=\"_blank\">Weights & Biases</a> (<a href=\"https://docs.wandb.com/integrations/jupyter.html\" target=\"_blank\">docs</a>).<br/>\n",
       "Sweep page: <a href=\"https://wandb.ai/luiscostigan/house-price-prediction/sweeps/hbftehhf\" target=\"_blank\">https://wandb.ai/luiscostigan/house-price-prediction/sweeps/hbftehhf</a><br/>\n",
       "\n",
       "                "
      ],
      "text/plain": [
       "<IPython.core.display.HTML object>"
      ]
     },
     "metadata": {},
     "output_type": "display_data"
    }
   ],
   "source": [
    "# Define training function and hyperparameter ranges\n",
    "from wandb.keras import WandbCallback\n",
    "from sklearn.model_selection import KFold\n",
    "\n",
    "sweep_config = {\n",
    "  \"name\": \"keras-sequential-model-sweep\",\n",
    "  \"method\": \"random\",\n",
    "  \"parameters\": {\n",
    "    \"dropout1\": {\n",
    "      \"min\": 0.0,\n",
    "      \"max\": 0.3\n",
    "    },\n",
    "    \"dense1\": {\n",
    "      \"values\": [8, 16, 32]\n",
    "    },\n",
    "    \"dense2\": {\n",
    "      \"values\": [8, 16, 32]\n",
    "    },\n",
    "    \"epochs\": {\n",
    "      \"values\": [250,500,750]\n",
    "    },\n",
    "    \"batch_size\": {\n",
    "      \"values\": [8, 16, 64, 128]\n",
    "    }\n",
    "  },\n",
    "  \"metric\": {\n",
    "    \"name\": \"Mean Validation RMSE (all folds)\",\n",
    "    \"goal\": \"minimize\"\n",
    "  }\n",
    "}\n",
    "\n",
    "config_defaults = {\n",
    "  \"dropout1\": 0.1,\n",
    "  \"dense1\": 16,\n",
    "  \"dense2\": 16,\n",
    "  \"epochs\": 100,\n",
    "  \"batch_size\": 16\n",
    "}\n",
    "\n",
    "# Define number of splits\n",
    "kf = KFold(n_splits=5)\n",
    "\n",
    "def train():\n",
    "\n",
    "  rmse_per_fold = []\n",
    "  loss_per_fold = []\n",
    "  fold_no = 1\n",
    "\n",
    "  # Go through each split, and get the index number for each (currently 50, 10 x 5 repeated k-fold) \n",
    "  for train, test in kf.split(X_train, y_train):\n",
    "\n",
    "    # With the current session in WandB\n",
    "    with wandb.init(config=config_defaults) as run:\n",
    "\n",
    "      # Recreate the model each time for each new batch\n",
    "      model = None # Not sure if this step is necessary\n",
    "      model = create_model()\n",
    "\n",
    "      # Fit model on new batches\n",
    "      model.fit(\n",
    "        np.asarray(X_train), \n",
    "        y_train, \n",
    "        epochs=wandb.config.epochs, \n",
    "        batch_size=wandb.config.batch_size, \n",
    "        verbose=0,\n",
    "        callbacks=[WandbCallback()], \n",
    "        validation_data=(np.asarray(X_train),y_train)\n",
    "        )\n",
    "      \n",
    "      # Generate data for each\n",
    "      scores = model.evaluate(np.asarray(X_train), y_train, callbacks=[WandbCallback()])\n",
    "      print(f'Score for fold {fold_no}: {model.metrics_names[0]} of {scores[0]}; {model.metrics_names[1]} of {scores[1]}')\n",
    "      rmse_per_fold.append(scores[1])\n",
    "      loss_per_fold.append(scores[0])\n",
    "\n",
    "      # Increase fold number\n",
    "      fold_no = fold_no + 1\n",
    "\n",
    "      # == Provide average scores ==\n",
    "      print('------------------------------------------------------------------------')\n",
    "      print('Score per fold')\n",
    "      for i in range(0, len(rmse_per_fold)):\n",
    "        print('------------------------------------------------------------------------')\n",
    "        print(f'> Fold {i+1} - Loss: {loss_per_fold[i]} - RMSE: {rmse_per_fold[i]}%')\n",
    "      print('------------------------------------------------------------------------')\n",
    "      print('Average scores for all folds:')\n",
    "      print(f'> RMSE: {np.mean(rmse_per_fold)} (+- {np.std(rmse_per_fold)})')\n",
    "      print(f'> Loss: {np.mean(loss_per_fold)}')\n",
    "      print('------------------------------------------------------------------------')\n",
    "\n",
    "      wandb.log({\n",
    "        \"Mean Validation RMSE (all folds)\": np.mean(rmse_per_fold),\n",
    "        \"Mean Validation Loss (all folds)\": np.mean(loss_per_fold) \n",
    "        })\n",
    "\n",
    "keras_sequential_sweep_1 = wandb.sweep(sweep_config, project=\"house-price-prediction\", entity=\"luiscostigan\")\n",
    "\n",
    "count = 20\n",
    "\n",
    "wandb.agent(keras_sequential_sweep_1, function=train, count=count)"
   ]
  },
  {
   "cell_type": "markdown",
   "id": "ffaa74eb",
   "metadata": {},
   "source": [
    "Hyperparameter optimization and experiment recording all took place within the Weights and Biases platform. The set of hyperparametrs resulting in the lowest loss (in terms of RMSE) is noted in the top row of the image below:\n",
    "\n",
    "<img src=\"./wandb_rmse.png\" width=\"800\">"
   ]
  },
  {
   "cell_type": "code",
   "execution_count": 77,
   "id": "7b238b8d-bf25-43da-acdb-7caa72dec5df",
   "metadata": {},
   "outputs": [],
   "source": [
    "# Enter best params from sweep\n",
    "best_params = {\n",
    "    \"dropout\": 0.1729,\n",
    "    \"dense1\": 8,\n",
    "    \"dense2\": 8,\n",
    "    \"epochs\": 200,\n",
    "    \"batch_size\": 8\n",
    "}\n",
    "\n",
    "# Build model using the best parameters\n",
    "def make_predictions(best_params, dataset):\n",
    "    \n",
    "    model = Sequential()\n",
    "    model.add(Dense(32, input_dim=X_train.shape[1], activation='relu'))\n",
    "    model.add(Dense(best_params.get(\"dense1\"), activation='linear'))\n",
    "    model.add(Dropout(best_params.get(\"dropout\")))\n",
    "    model.add(Dense(best_params.get(\"dense2\"), activation='linear'))\n",
    "    model.add(Dense(1))\n",
    "    model.compile(optimizer='rmsprop', loss=\"mse\", metrics=[RootMeanSquaredError()])\n",
    "              \n",
    "    model.fit(X_train, y_train, epochs=best_params.get(\"epochs\"),\n",
    "              batch_size=best_params.get(\"batch_size\"), verbose = 0)\n",
    "    \n",
    "    preds  = model.predict(dataset, best_params.get(\"batch_size\"), verbose = 0)\n",
    "              \n",
    "    return preds"
   ]
  },
  {
   "cell_type": "code",
   "execution_count": 80,
   "id": "3eb6fd6b",
   "metadata": {},
   "outputs": [
    {
     "data": {
      "text/plain": [
       "array([[11.663364],\n",
       "       [12.045205],\n",
       "       [12.201768],\n",
       "       ...,\n",
       "       [12.03668 ],\n",
       "       [11.636952],\n",
       "       [12.296822]], dtype=float32)"
      ]
     },
     "execution_count": 80,
     "metadata": {},
     "output_type": "execute_result"
    }
   ],
   "source": [
    "np.log(test_predictions)"
   ]
  },
  {
   "cell_type": "code",
   "execution_count": 78,
   "id": "73e3b4ec-1072-44a8-82b7-620ce29e29db",
   "metadata": {},
   "outputs": [],
   "source": [
    "# Make predictions\n",
    "test_predictions = make_predictions(best_params, X_test)\n",
    "holdout_predictions = make_predictions(best_params, X_holdout)\n",
    "\n",
    "# Undo the log transform\n",
    "test_predictions = np.exp(test_predictions)\n",
    "holdout_predictions = np.exp(holdout_predictions)\n",
    "\n",
    "# Generating submission CSV\n",
    "d = {\"Id\":X_test.index,\"SalePrice\":test_predictions.flatten()}\n",
    "submission = pd.DataFrame(data=d, index=None)\n",
    "\n",
    "submission[\"Id\"] = submission[\"Id\"] + 1461\n",
    "\n",
    "submission.to_csv(\"submission_nn.csv\",index=False)"
   ]
  },
  {
   "cell_type": "markdown",
   "id": "18fb0b31",
   "metadata": {},
   "source": [
    "## Blending Predictions\n",
    "\n",
    "So far, I have generated predictions using a decision tree-based model and a neural net-based model.\n",
    "First, I'll try taking the mean of predictions from both to see how it performs."
   ]
  },
  {
   "cell_type": "code",
   "execution_count": 38,
   "id": "578a0854",
   "metadata": {},
   "outputs": [],
   "source": [
    "# Read CSVs\n",
    "decision_tree_predictions = pd.read_csv(\"/root/data-science-projects-1/house-price-prediction/Models/sklearn/submission_dt.csv\")\n",
    "neural_net_predictions = pd.read_csv(\"/root/data-science-projects-1/house-price-prediction/Models/tensorflow/submission_nn.csv\")\n",
    "\n",
    "# Merge CSVs on Id column\n",
    "decision_tree_predictions[\"neural_net_predictions\"] = neural_net_predictions[\"SalePrice\"]\n",
    "\n",
    "# Rename decision tree predictions column\n",
    "decision_tree_predictions = decision_tree_predictions.rename(columns={\"SalePrice\":\"decision_tree_predictions\"})\n",
    "\n",
    "# Add new column with mean\n",
    "decision_tree_predictions[\"SalePrice\"] = decision_tree_predictions[[\"neural_net_predictions\",\"decision_tree_predictions\"]].mean(axis=1)\n",
    "\n",
    "# Drop other columns\n",
    "decision_tree_predictions = decision_tree_predictions[[\"Id\",\"SalePrice\"]]\n",
    "\n",
    "# Create mean prediction submission CSV\n",
    "mean_predictions = decision_tree_predictions\n",
    "mean_predictions.to_csv(\"submission_mean.csv\",index=False)"
   ]
  },
  {
   "cell_type": "markdown",
   "id": "84c22511",
   "metadata": {},
   "source": [
    "Taking the mean of predictions did not beat my score from just using LightGBM in the previous post.\n",
    "\n",
    "<img src=\"./mean_predictions_kaggle.png\" width=\"600\">\n",
    "\n",
    "Next, I'll try defining a meta-model to best blend predictions from the two models. After developing each model, predictions were also made on a holdout dataset that was kept separate from the training and validation datasets, for the explicit purpose of training this meta-model. The model trained on this dataset was then used to blend predictions on the test dataset to be submitted to Kaggle."
   ]
  },
  {
   "cell_type": "code",
   "execution_count": 39,
   "id": "d4109da3",
   "metadata": {},
   "outputs": [],
   "source": [
    "# Append holdout set NN predictions to DT predictions\n",
    "holdout_predictions_df[\"NN_predictions\"] = holdout_predictions\n",
    "holdout_predictions_df = holdout_predictions_df[[\"DT_predictions\", \"NN_predictions\", \"Actual_SalePrice\"]]"
   ]
  },
  {
   "cell_type": "code",
   "execution_count": 40,
   "id": "a0349413",
   "metadata": {},
   "outputs": [],
   "source": [
    "# Get predictions on test set\n",
    "test_predictions_dt = pd.read_csv(\"/root/data-science-projects-1/house-price-prediction/Models/sklearn/submission_dt.csv\")\n",
    "test_predictions_nn = pd.read_csv(\"/root/data-science-projects-1/house-price-prediction/Models/tensorflow/submission_nn.csv\")\n",
    "\n",
    "# Merge CSVs on Id column\n",
    "test_predictions_dt[\"NN_predictions\"] = test_predictions_nn[\"SalePrice\"]\n",
    "\n",
    "# Rename decision tree predictions column\n",
    "test_predictions_dt = test_predictions_dt.rename(columns={\"SalePrice\":\"DT_predictions\"})\n",
    "\n",
    "# Rename df\n",
    "blended_predictions_df = test_predictions_dt"
   ]
  },
  {
   "cell_type": "markdown",
   "id": "b76de3cc",
   "metadata": {},
   "source": [
    "The meta-model was a simple grid search across different estimators, without attempting to optimize hyperparameters. Since the holdout dataset is very small, I used 10 folds in the cross-validation process."
   ]
  },
  {
   "cell_type": "code",
   "execution_count": 41,
   "id": "88d80bdc",
   "metadata": {},
   "outputs": [
    {
     "name": "stderr",
     "output_type": "stream",
     "text": [
      "/usr/local/lib/python3.8/dist-packages/xgboost/data.py:262: FutureWarning: pandas.Int64Index is deprecated and will be removed from pandas in a future version. Use pandas.Index with the appropriate dtype instead.\n",
      "  elif isinstance(data.columns, (pd.Int64Index, pd.RangeIndex)):\n",
      "/usr/local/lib/python3.8/dist-packages/xgboost/data.py:262: FutureWarning: pandas.Int64Index is deprecated and will be removed from pandas in a future version. Use pandas.Index with the appropriate dtype instead.\n",
      "  elif isinstance(data.columns, (pd.Int64Index, pd.RangeIndex)):\n",
      "/usr/local/lib/python3.8/dist-packages/xgboost/data.py:262: FutureWarning: pandas.Int64Index is deprecated and will be removed from pandas in a future version. Use pandas.Index with the appropriate dtype instead.\n",
      "  elif isinstance(data.columns, (pd.Int64Index, pd.RangeIndex)):\n",
      "/usr/local/lib/python3.8/dist-packages/xgboost/data.py:262: FutureWarning: pandas.Int64Index is deprecated and will be removed from pandas in a future version. Use pandas.Index with the appropriate dtype instead.\n",
      "  elif isinstance(data.columns, (pd.Int64Index, pd.RangeIndex)):\n",
      "/usr/local/lib/python3.8/dist-packages/xgboost/data.py:262: FutureWarning: pandas.Int64Index is deprecated and will be removed from pandas in a future version. Use pandas.Index with the appropriate dtype instead.\n",
      "  elif isinstance(data.columns, (pd.Int64Index, pd.RangeIndex)):\n",
      "/usr/local/lib/python3.8/dist-packages/xgboost/data.py:262: FutureWarning: pandas.Int64Index is deprecated and will be removed from pandas in a future version. Use pandas.Index with the appropriate dtype instead.\n",
      "  elif isinstance(data.columns, (pd.Int64Index, pd.RangeIndex)):\n",
      "/usr/local/lib/python3.8/dist-packages/xgboost/data.py:262: FutureWarning: pandas.Int64Index is deprecated and will be removed from pandas in a future version. Use pandas.Index with the appropriate dtype instead.\n",
      "  elif isinstance(data.columns, (pd.Int64Index, pd.RangeIndex)):\n",
      "/usr/local/lib/python3.8/dist-packages/xgboost/data.py:262: FutureWarning: pandas.Int64Index is deprecated and will be removed from pandas in a future version. Use pandas.Index with the appropriate dtype instead.\n",
      "  elif isinstance(data.columns, (pd.Int64Index, pd.RangeIndex)):\n",
      "/usr/local/lib/python3.8/dist-packages/xgboost/data.py:262: FutureWarning: pandas.Int64Index is deprecated and will be removed from pandas in a future version. Use pandas.Index with the appropriate dtype instead.\n",
      "  elif isinstance(data.columns, (pd.Int64Index, pd.RangeIndex)):\n",
      "/usr/local/lib/python3.8/dist-packages/xgboost/data.py:262: FutureWarning: pandas.Int64Index is deprecated and will be removed from pandas in a future version. Use pandas.Index with the appropriate dtype instead.\n",
      "  elif isinstance(data.columns, (pd.Int64Index, pd.RangeIndex)):\n"
     ]
    },
    {
     "data": {
      "text/plain": [
       "GridSearchCV(cv=10, estimator=Pipeline(steps=[('clf', LinearRegression())]),\n",
       "             param_grid=[{'clf': (LinearRegression(),)}, {'clf': (Ridge(),)},\n",
       "                         {'clf': (XGBRegressor(base_score=None, booster=None,\n",
       "                                               colsample_bylevel=None,\n",
       "                                               colsample_bynode=None,\n",
       "                                               colsample_bytree=None,\n",
       "                                               enable_categorical=False,\n",
       "                                               gamma=None, gpu_id=None,\n",
       "                                               importance_type=None,\n",
       "                                               interaction_constraints=None,...\n",
       "                                               min_child_weight=None,\n",
       "                                               missing=nan,\n",
       "                                               monotone_constraints=None,\n",
       "                                               n_estimators=100, n_jobs=None,\n",
       "                                               num_parallel_tree=None,\n",
       "                                               predictor=None,\n",
       "                                               random_state=None,\n",
       "                                               reg_alpha=None, reg_lambda=None,\n",
       "                                               scale_pos_weight=None,\n",
       "                                               subsample=None, tree_method=None,\n",
       "                                               validate_parameters=None,\n",
       "                                               verbosity=None),)},\n",
       "                         {'clf': (LGBMRegressor(),)}],\n",
       "             scoring=make_scorer(mean_squared_error, squared=False))"
      ]
     },
     "execution_count": 41,
     "metadata": {},
     "output_type": "execute_result"
    }
   ],
   "source": [
    "from sklearn.linear_model import LinearRegression, Ridge\n",
    "from sklearn.model_selection import cross_val_score, GridSearchCV\n",
    "from sklearn.pipeline import Pipeline\n",
    "from sklearn.metrics import make_scorer, mean_squared_error\n",
    "import xgboost as xgb\n",
    "import lightgbm as lgb\n",
    "\n",
    "# Defining a custom loss function (Root Mean Squared Error)\n",
    "rmse = make_scorer(mean_squared_error, squared=False)\n",
    "\n",
    "X = holdout_predictions_df[[\"DT_predictions\", \"NN_predictions\"]]\n",
    "y = holdout_predictions_df[\"Actual_SalePrice\"]\n",
    "\n",
    "estimators = [\n",
    "    {\n",
    "        \"clf\": (LinearRegression(),)\n",
    "    },\n",
    "    {\n",
    "        \"clf\": (Ridge(),)\n",
    "    },\n",
    "    {\n",
    "        \"clf\": (xgb.XGBRegressor(),)\n",
    "    },\n",
    "    {\n",
    "       \"clf\": (lgb.LGBMRegressor(),)\n",
    "    }\n",
    "]\n",
    "\n",
    "pipe = Pipeline([(\"clf\", LinearRegression())])\n",
    "\n",
    "grid_search = GridSearchCV(pipe, estimators, cv=10, scoring=rmse)\n",
    "grid_search.fit(X,y)"
   ]
  },
  {
   "cell_type": "code",
   "execution_count": 42,
   "id": "f98dafc7",
   "metadata": {},
   "outputs": [
    {
     "data": {
      "text/plain": [
       "Pipeline(steps=[('clf', LGBMRegressor())])"
      ]
     },
     "execution_count": 42,
     "metadata": {},
     "output_type": "execute_result"
    }
   ],
   "source": [
    "# Printing the best estimator\n",
    "grid_search.best_estimator_"
   ]
  },
  {
   "cell_type": "code",
   "execution_count": 43,
   "id": "5f117f30",
   "metadata": {},
   "outputs": [],
   "source": [
    "# Make predictions \n",
    "grid_search_blended_predictions = grid_search.predict(blended_predictions_df[[\"DT_predictions\", \"NN_predictions\"]])"
   ]
  },
  {
   "cell_type": "code",
   "execution_count": 44,
   "id": "0a154b42",
   "metadata": {},
   "outputs": [],
   "source": [
    "# Add predictions to a dataframe\n",
    "grid_search_blended_predictions_df = blended_predictions_df\n",
    "grid_search_blended_predictions_df[\"SalePrice\"] = grid_search_blended_predictions\n",
    "grid_search_blended_predictions_df = grid_search_blended_predictions_df.drop(columns=[\"DT_predictions\",\"NN_predictions\"])\n",
    "\n",
    "# Create CSV with blended predictions\n",
    "grid_search_blended_predictions_df.to_csv(\"submission_gridsearch_blended.csv\",index=False)"
   ]
  },
  {
   "cell_type": "markdown",
   "id": "f19b1299",
   "metadata": {},
   "source": [
    "I had high hopes for a meta-model that blended predictions, but it performed worse than I expected.\n",
    "\n"
   ]
  },
  {
   "cell_type": "markdown",
   "id": "60f3e2d2",
   "metadata": {},
   "source": [
    "## Improvements to subsequent models\n",
    "\n",
    "Below I note some improvements to the models I would implement if I had more time.\n",
    "\n",
    "- Remove outliers (using something like sklearn's IsolationForest)\n",
    "- "
   ]
  }
 ],
 "metadata": {
  "kernelspec": {
   "display_name": "Python 3 (ipykernel)",
   "language": "python",
   "name": "python3"
  },
  "language_info": {
   "codemirror_mode": {
    "name": "ipython",
    "version": 3
   },
   "file_extension": ".py",
   "mimetype": "text/x-python",
   "name": "python",
   "nbconvert_exporter": "python",
   "pygments_lexer": "ipython3",
   "version": "3.8.10"
  }
 },
 "nbformat": 4,
 "nbformat_minor": 5
}
