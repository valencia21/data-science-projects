{
 "cells": [
  {
   "cell_type": "code",
   "execution_count": 10,
   "id": "1a9b44ee-21e3-44e1-ab3b-4af5c351aca6",
   "metadata": {
    "tags": []
   },
   "outputs": [],
   "source": [
    "from tensorflow.keras.models import Sequential\n",
    "from tensorflow.keras.layers import Dense, Dropout\n",
    "from tensorflow.keras.metrics import RootMeanSquaredError\n",
    "from tensorflow.keras.losses import Huber\n",
    "from time import time\n",
    "from sklearn.metrics import mean_absolute_error\n",
    "import wandb\n",
    "import pandas as pd\n",
    "import numpy as np\n",
    "import matplotlib.pyplot as plt"
   ]
  },
  {
   "cell_type": "markdown",
   "id": "049f674b",
   "metadata": {},
   "source": [
    "In my previous post, I went through the following process:\n",
    "\n",
    "Environment: Anaconda, Windows 11.\n",
    "\n",
    "- Data wrangling (Light exploration, followed by removing and transforming some variables)\n",
    "- Split the training dataset into training and validation datasets\n",
    "- Fit a model using a Scikit-Learn pipeline (Data Preprocessing + fitting XGBoost/LightGBM estimators with a Randomized Search across their respective hyperparameters)\n",
    "- Evaluate and visualize model performance\n",
    "- Implement an automated approach to selecting hyperparameters (HyperOpt)\n",
    "- Make predictions\n",
    "\n",
    "In this post, I will implement the following using the same wrangled/preprocessed data:\n",
    "\n",
    "Environment: Docker, Windows Subsystem for Linux 2 (WSL 2), Windows 11.\n",
    "\n",
    "- Build a simple Sequential model in Keras/Tensorflow\n",
    "- Use the Weights and Biases (WandB) platform to select optimal hyperparameters and record experiments.\n",
    "  - Experiments are evaluated using K-Fold Cross Validation. Mean RMSE across folds for each experiment are custom logged in WandB. \n",
    "- Make predictions.\n",
    "- Blend predictions from the previous post (decision tree) and this post (neural net).\n",
    "  - By both taking the mean of predictions, and defining a meta-model trained on a holdout dataset kept completely separate."
   ]
  },
  {
   "cell_type": "code",
   "execution_count": 32,
   "id": "41683053-0452-48d6-8033-a5e2909e0f84",
   "metadata": {},
   "outputs": [
    {
     "name": "stderr",
     "output_type": "stream",
     "text": [
      "<ipython-input-32-20af1fdf8908>:23: FutureWarning: The frame.append method is deprecated and will be removed from pandas in a future version. Use pandas.concat instead.\n",
      "  X_train = X_train.append(X_valid).reset_index().drop(columns=\"index\")\n",
      "<ipython-input-32-20af1fdf8908>:24: FutureWarning: The series.append method is deprecated and will be removed from pandas in a future version. Use pandas.concat instead.\n",
      "  y_train = y_train.append(y_valid).reset_index().drop(columns=\"index\").values\n"
     ]
    }
   ],
   "source": [
    "# Function to bring in wrangled/preprocessed data from previous post\n",
    "def data():\n",
    "    training = pd.read_csv(\"/root/data-science-projects-1/house-price-prediction/Models/sklearn/training_preprocessed\")\n",
    "    validation = pd.read_csv(\"/root/data-science-projects-1/house-price-prediction/Models/sklearn/validation_preprocessed\")\n",
    "    holdout = pd.read_csv(\"/root/data-science-projects-1/house-price-prediction/Models/sklearn/holdout_preprocessed\")\n",
    "    holdout_predictions_df = pd.read_csv(\"/root/data-science-projects-1/house-price-prediction/Models/sklearn/holdout_preds_preprocessed\")\n",
    "    test = pd.read_csv(\"/root/data-science-projects-1/house-price-prediction/Models/sklearn/test_preprocessed\")\n",
    "    \n",
    "    X_train = training.drop(columns=\"SalePrice\")\n",
    "    y_train = training[\"SalePrice\"]\n",
    "    X_valid = validation.drop(columns=\"SalePrice\")\n",
    "    y_valid = validation[\"SalePrice\"]\n",
    "    X_holdout = holdout.drop(columns=\"Actual_SalePrice\")\n",
    "    y_holdout = holdout[\"Actual_SalePrice\"]\n",
    "    X_test = test\n",
    "    holdout_predictions_df = holdout_predictions_df\n",
    "    return X_train, y_train, X_valid, y_valid, X_holdout, y_holdout, X_test, holdout_predictions_df\n",
    "\n",
    "# Bring in data\n",
    "X_train, y_train, X_valid, y_valid, X_holdout, y_holdout, X_test, holdout_predictions_df = data()\n",
    "\n",
    "# Since this model uses k-fold validation, we don't need separate training and validation datasets\n",
    "X_train = X_train.append(X_valid).reset_index().drop(columns=\"index\")\n",
    "y_train = y_train.append(y_valid).reset_index().drop(columns=\"index\").values"
   ]
  },
  {
   "cell_type": "code",
   "execution_count": 4,
   "id": "0cd95926-a2d1-484d-8674-273e1310e88d",
   "metadata": {},
   "outputs": [
    {
     "name": "stderr",
     "output_type": "stream",
     "text": [
      "Failed to detect the name of this notebook, you can set it manually with the WANDB_NOTEBOOK_NAME environment variable to enable code saving.\n",
      "\u001b[34m\u001b[1mwandb\u001b[0m: Currently logged in as: \u001b[33mluiscostigan\u001b[0m (use `wandb login --relogin` to force relogin)\n",
      "\u001b[34m\u001b[1mwandb\u001b[0m: wandb version 0.12.11 is available!  To upgrade, please run:\n",
      "\u001b[34m\u001b[1mwandb\u001b[0m:  $ pip install wandb --upgrade\n"
     ]
    },
    {
     "data": {
      "text/html": [
       "\n",
       "                    Syncing run <strong><a href=\"https://wandb.ai/luiscostigan/house-price-prediction/runs/2yic1o3f\" target=\"_blank\">decent-mountain-272</a></strong> to <a href=\"https://wandb.ai/luiscostigan/house-price-prediction\" target=\"_blank\">Weights & Biases</a> (<a href=\"https://docs.wandb.com/integrations/jupyter.html\" target=\"_blank\">docs</a>).<br/>\n",
       "\n",
       "                "
      ],
      "text/plain": [
       "<IPython.core.display.HTML object>"
      ]
     },
     "metadata": {},
     "output_type": "display_data"
    },
    {
     "data": {
      "text/html": [
       "<button onClick=\"this.nextSibling.style.display='block';this.style.display='none';\">Display W&B run</button><iframe src=\"https://wandb.ai/luiscostigan/house-price-prediction/runs/2yic1o3f?jupyter=true\" style=\"border:none;width:100%;height:420px;display:none;\"></iframe>"
      ],
      "text/plain": [
       "<wandb.sdk.wandb_run.Run at 0x7fa88abc07c0>"
      ]
     },
     "execution_count": 4,
     "metadata": {},
     "output_type": "execute_result"
    }
   ],
   "source": [
    "# Log into Weights and Biases\n",
    "wandb.init(project=\"house-price-prediction\", entity=\"luiscostigan\")"
   ]
  },
  {
   "cell_type": "code",
   "execution_count": 11,
   "id": "1b06efad-42f3-4cb3-90c9-ee188ed47acc",
   "metadata": {},
   "outputs": [],
   "source": [
    "# Define simple Sequential model\n",
    "def create_model():\n",
    "    model = Sequential()\n",
    "    model.add(Dense(32, input_dim=X_train.shape[1], activation='relu'))\n",
    "    model.add(Dense(wandb.config.dense1, activation='relu'))\n",
    "    model.add(Dropout(wandb.config.dropout1))\n",
    "    model.add(Dense(wandb.config.dense2, activation='relu'))\n",
    "    model.add(Dense(1))\n",
    "    model.compile(optimizer='rmsprop', loss=Huber(), metrics=[RootMeanSquaredError()])\n",
    "    \n",
    "    return model"
   ]
  },
  {
   "cell_type": "code",
   "execution_count": 13,
   "id": "9e707d3f-2deb-4ac1-b274-48350e1027bd",
   "metadata": {},
   "outputs": [
    {
     "name": "stdout",
     "output_type": "stream",
     "text": [
      "Create sweep with ID: r64dtrnj\n",
      "Sweep URL: https://wandb.ai/luiscostigan/house-price-prediction/sweeps/r64dtrnj\n"
     ]
    },
    {
     "name": "stderr",
     "output_type": "stream",
     "text": [
      "\u001b[34m\u001b[1mwandb\u001b[0m: Agent Starting Run: u63rieuv with config:\n",
      "\u001b[34m\u001b[1mwandb\u001b[0m: \tbatch_size: 64\n",
      "\u001b[34m\u001b[1mwandb\u001b[0m: \tdense1: 32\n",
      "\u001b[34m\u001b[1mwandb\u001b[0m: \tdense2: 16\n",
      "\u001b[34m\u001b[1mwandb\u001b[0m: \tdropout1: 0.1075711633874446\n",
      "\u001b[34m\u001b[1mwandb\u001b[0m: \tepochs: 250\n",
      "\u001b[34m\u001b[1mwandb\u001b[0m: wandb version 0.12.11 is available!  To upgrade, please run:\n",
      "\u001b[34m\u001b[1mwandb\u001b[0m:  $ pip install wandb --upgrade\n"
     ]
    },
    {
     "data": {
      "text/html": [
       "\n",
       "                    Syncing run <strong><a href=\"https://wandb.ai/luiscostigan/house-price-prediction/runs/u63rieuv\" target=\"_blank\">peachy-sweep-1</a></strong> to <a href=\"https://wandb.ai/luiscostigan/house-price-prediction\" target=\"_blank\">Weights & Biases</a> (<a href=\"https://docs.wandb.com/integrations/jupyter.html\" target=\"_blank\">docs</a>).<br/>\n",
       "Sweep page: <a href=\"https://wandb.ai/luiscostigan/house-price-prediction/sweeps/r64dtrnj\" target=\"_blank\">https://wandb.ai/luiscostigan/house-price-prediction/sweeps/r64dtrnj</a><br/>\n",
       "\n",
       "                "
      ],
      "text/plain": [
       "<IPython.core.display.HTML object>"
      ]
     },
     "metadata": {},
     "output_type": "display_data"
    },
    {
     "name": "stdout",
     "output_type": "stream",
     "text": [
      "37/37 [==============================] - 0s 954us/step - loss: 0.6825 - root_mean_squared_error: 1.1869\n",
      "Score for fold 1: loss of 0.6825138330459595; root_mean_squared_error of 1.1868821382522583\n",
      "------------------------------------------------------------------------\n",
      "Score per fold\n",
      "------------------------------------------------------------------------\n",
      "> Fold 1 - Loss: 0.6825138330459595 - RMSE: 1.1868821382522583\n",
      "------------------------------------------------------------------------\n",
      "Average scores for all folds:\n",
      "> RMSE: 1.1868821382522583 (+- 0.0)\n",
      "> Loss: 0.6825138330459595\n",
      "------------------------------------------------------------------------\n"
     ]
    },
    {
     "data": {
      "text/html": [
       "<br/>Waiting for W&B process to finish, PID 11125... <strong style=\"color:green\">(success).</strong>"
      ],
      "text/plain": [
       "<IPython.core.display.HTML object>"
      ]
     },
     "metadata": {},
     "output_type": "display_data"
    },
    {
     "data": {
      "application/vnd.jupyter.widget-view+json": {
       "model_id": "70cced23de9c4b69a2660c13fbeee9ae",
       "version_major": 2,
       "version_minor": 0
      },
      "text/plain": [
       "VBox(children=(Label(value=' 0.13MB of 0.13MB uploaded (0.00MB deduped)\\r'), FloatProgress(value=1.0, max=1.0)…"
      ]
     },
     "metadata": {},
     "output_type": "display_data"
    },
    {
     "data": {
      "text/html": [
       "<style>\n",
       "    table.wandb td:nth-child(1) { padding: 0 10px; text-align: right }\n",
       "    .wandb-row { display: flex; flex-direction: row; flex-wrap: wrap; width: 100% }\n",
       "    .wandb-col { display: flex; flex-direction: column; flex-basis: 100%; flex: 1; padding: 10px; }\n",
       "    </style>\n",
       "<div class=\"wandb-row\"><div class=\"wandb-col\">\n",
       "<h3>Run history:</h3><br/><table class=\"wandb\"><tr><td>Mean Validation Loss (all folds)</td><td>▁</td></tr><tr><td>Mean Validation RMSE (all folds)</td><td>▁</td></tr><tr><td>epoch</td><td>▁▁▁▂▂▂▂▂▂▃▃▃▃▃▄▄▄▄▄▄▅▅▅▅▅▅▆▆▆▆▆▇▇▇▇▇▇███</td></tr><tr><td>loss</td><td>█▂▂▂▁▁▁▁▁▁▁▁▁▁▁▁▁▁▁▁▁▁▁▁▁▁▁▁▁▁▁▁▁▁▁▁▁▁▁▁</td></tr><tr><td>root_mean_squared_error</td><td>█▂▂▂▂▂▁▁▁▁▁▁▁▁▁▁▁▁▁▁▁▁▁▁▁▁▁▁▁▁▁▁▁▁▁▁▁▁▁▁</td></tr><tr><td>val_loss</td><td>▃▂▂▁▁▂▅▆▃▄▄▅▄▃▃▅▆▇▄▅▄▆▇▅▃▇▅▇█▆▅▄▆▆▅▄▅▅▄▇</td></tr><tr><td>val_root_mean_squared_error</td><td>▄▃▃▁▁▂▆▆▃▅▄▅▅▃▄▅▇▇▅▅▄▇▇▆▄▇▅▇█▆▅▄▆▆▆▅▆▆▅▇</td></tr></table><br/></div><div class=\"wandb-col\">\n",
       "<h3>Run summary:</h3><br/><table class=\"wandb\"><tr><td>Mean Validation Loss (all folds)</td><td>0.68251</td></tr><tr><td>Mean Validation RMSE (all folds)</td><td>1.18688</td></tr><tr><td>best_epoch</td><td>18</td></tr><tr><td>best_val_loss</td><td>0.02627</td></tr><tr><td>epoch</td><td>249</td></tr><tr><td>loss</td><td>0.07688</td></tr><tr><td>root_mean_squared_error</td><td>0.4282</td></tr><tr><td>val_loss</td><td>0.68251</td></tr><tr><td>val_root_mean_squared_error</td><td>1.18688</td></tr></table>\n",
       "</div></div>\n",
       "Synced 5 W&B file(s), 0 media file(s), 0 artifact file(s) and 1 other file(s)\n",
       "<br/>Synced <strong style=\"color:#cdcd00\">peachy-sweep-1</strong>: <a href=\"https://wandb.ai/luiscostigan/house-price-prediction/runs/u63rieuv\" target=\"_blank\">https://wandb.ai/luiscostigan/house-price-prediction/runs/u63rieuv</a><br/>\n",
       "Find logs at: <code>./wandb/run-20220307_051536-u63rieuv/logs</code><br/>\n"
      ],
      "text/plain": [
       "<IPython.core.display.HTML object>"
      ]
     },
     "metadata": {},
     "output_type": "display_data"
    },
    {
     "name": "stderr",
     "output_type": "stream",
     "text": [
      "\u001b[34m\u001b[1mwandb\u001b[0m: wandb version 0.12.11 is available!  To upgrade, please run:\n",
      "\u001b[34m\u001b[1mwandb\u001b[0m:  $ pip install wandb --upgrade\n"
     ]
    },
    {
     "data": {
      "text/html": [
       "\n",
       "                    Syncing run <strong><a href=\"https://wandb.ai/luiscostigan/house-price-prediction/runs/u63rieuv\" target=\"_blank\">peachy-sweep-1</a></strong> to <a href=\"https://wandb.ai/luiscostigan/house-price-prediction\" target=\"_blank\">Weights & Biases</a> (<a href=\"https://docs.wandb.com/integrations/jupyter.html\" target=\"_blank\">docs</a>).<br/>\n",
       "Sweep page: <a href=\"https://wandb.ai/luiscostigan/house-price-prediction/sweeps/r64dtrnj\" target=\"_blank\">https://wandb.ai/luiscostigan/house-price-prediction/sweeps/r64dtrnj</a><br/>\n",
       "\n",
       "                "
      ],
      "text/plain": [
       "<IPython.core.display.HTML object>"
      ]
     },
     "metadata": {},
     "output_type": "display_data"
    },
    {
     "name": "stdout",
     "output_type": "stream",
     "text": [
      "37/37 [==============================] - 0s 903us/step - loss: 0.7053 - root_mean_squared_error: 1.2096\n",
      "Score for fold 2: loss of 0.7053347826004028; root_mean_squared_error of 1.209572434425354\n",
      "------------------------------------------------------------------------\n",
      "Score per fold\n",
      "------------------------------------------------------------------------\n",
      "> Fold 1 - Loss: 0.6825138330459595 - RMSE: 1.1868821382522583\n",
      "------------------------------------------------------------------------\n",
      "> Fold 2 - Loss: 0.7053347826004028 - RMSE: 1.209572434425354\n",
      "------------------------------------------------------------------------\n",
      "Average scores for all folds:\n",
      "> RMSE: 1.1982272863388062 (+- 0.011345148086547852)\n",
      "> Loss: 0.6939243078231812\n",
      "------------------------------------------------------------------------\n"
     ]
    },
    {
     "data": {
      "text/html": [
       "<br/>Waiting for W&B process to finish, PID 16170... <strong style=\"color:green\">(success).</strong>"
      ],
      "text/plain": [
       "<IPython.core.display.HTML object>"
      ]
     },
     "metadata": {},
     "output_type": "display_data"
    },
    {
     "data": {
      "application/vnd.jupyter.widget-view+json": {
       "model_id": "f3e269a01b0f4f758d2628bdd9069658",
       "version_major": 2,
       "version_minor": 0
      },
      "text/plain": [
       "VBox(children=(Label(value=' 0.13MB of 0.13MB uploaded (0.00MB deduped)\\r'), FloatProgress(value=1.0, max=1.0)…"
      ]
     },
     "metadata": {},
     "output_type": "display_data"
    },
    {
     "data": {
      "text/html": [
       "<style>\n",
       "    table.wandb td:nth-child(1) { padding: 0 10px; text-align: right }\n",
       "    .wandb-row { display: flex; flex-direction: row; flex-wrap: wrap; width: 100% }\n",
       "    .wandb-col { display: flex; flex-direction: column; flex-basis: 100%; flex: 1; padding: 10px; }\n",
       "    </style>\n",
       "<div class=\"wandb-row\"><div class=\"wandb-col\">\n",
       "<h3>Run history:</h3><br/><table class=\"wandb\"><tr><td>Mean Validation Loss (all folds)</td><td>▁</td></tr><tr><td>Mean Validation RMSE (all folds)</td><td>▁</td></tr><tr><td>epoch</td><td>▁▁▁▂▂▂▂▂▂▃▃▃▃▃▄▄▄▄▄▄▅▅▅▅▅▅▆▆▆▆▆▇▇▇▇▇▇███</td></tr><tr><td>loss</td><td>█▅▃▃▃▃▂▂▂▂▂▂▂▂▂▁▁▁▁▁▁▁▁▁▁▁▁▁▁▁▁▁▁▁▁▁▁▁▁▁</td></tr><tr><td>root_mean_squared_error</td><td>█▅▄▄▃▃▃▃▃▃▂▃▂▂▂▂▂▁▂▂▁▁▁▁▁▁▁▁▁▁▁▁▁▁▁▁▁▁▁▁</td></tr><tr><td>val_loss</td><td>▂▁▁▂▇▃▇█▃▂▆▄▇▅▅▆▇▅▅▇▆█▆▃▇▇▃▆▅▆▄█▇▆▅▆▆▇▅▅</td></tr><tr><td>val_root_mean_squared_error</td><td>▃▂▁▃█▄██▄▃▇▅▇▆▆▆▇▆▅▇▇█▇▄▇▇▄▆▆▇▅██▇▆▆▆▇▅▆</td></tr></table><br/></div><div class=\"wandb-col\">\n",
       "<h3>Run summary:</h3><br/><table class=\"wandb\"><tr><td>Mean Validation Loss (all folds)</td><td>0.69392</td></tr><tr><td>Mean Validation RMSE (all folds)</td><td>1.19823</td></tr><tr><td>best_epoch</td><td>13</td></tr><tr><td>best_val_loss</td><td>0.03</td></tr><tr><td>epoch</td><td>249</td></tr><tr><td>loss</td><td>0.04888</td></tr><tr><td>root_mean_squared_error</td><td>0.31432</td></tr><tr><td>val_loss</td><td>0.70533</td></tr><tr><td>val_root_mean_squared_error</td><td>1.20957</td></tr></table>\n",
       "</div></div>\n",
       "Synced 5 W&B file(s), 0 media file(s), 0 artifact file(s) and 1 other file(s)\n",
       "<br/>Synced <strong style=\"color:#cdcd00\">peachy-sweep-1</strong>: <a href=\"https://wandb.ai/luiscostigan/house-price-prediction/runs/u63rieuv\" target=\"_blank\">https://wandb.ai/luiscostigan/house-price-prediction/runs/u63rieuv</a><br/>\n",
       "Find logs at: <code>./wandb/run-20220307_051557-u63rieuv/logs</code><br/>\n"
      ],
      "text/plain": [
       "<IPython.core.display.HTML object>"
      ]
     },
     "metadata": {},
     "output_type": "display_data"
    },
    {
     "name": "stderr",
     "output_type": "stream",
     "text": [
      "\u001b[34m\u001b[1mwandb\u001b[0m: wandb version 0.12.11 is available!  To upgrade, please run:\n",
      "\u001b[34m\u001b[1mwandb\u001b[0m:  $ pip install wandb --upgrade\n"
     ]
    },
    {
     "data": {
      "text/html": [
       "\n",
       "                    Syncing run <strong><a href=\"https://wandb.ai/luiscostigan/house-price-prediction/runs/u63rieuv\" target=\"_blank\">peachy-sweep-1</a></strong> to <a href=\"https://wandb.ai/luiscostigan/house-price-prediction\" target=\"_blank\">Weights & Biases</a> (<a href=\"https://docs.wandb.com/integrations/jupyter.html\" target=\"_blank\">docs</a>).<br/>\n",
       "Sweep page: <a href=\"https://wandb.ai/luiscostigan/house-price-prediction/sweeps/r64dtrnj\" target=\"_blank\">https://wandb.ai/luiscostigan/house-price-prediction/sweeps/r64dtrnj</a><br/>\n",
       "\n",
       "                "
      ],
      "text/plain": [
       "<IPython.core.display.HTML object>"
      ]
     },
     "metadata": {},
     "output_type": "display_data"
    },
    {
     "name": "stdout",
     "output_type": "stream",
     "text": [
      "37/37 [==============================] - 0s 797us/step - loss: 0.8684 - root_mean_squared_error: 1.3771\n",
      "Score for fold 3: loss of 0.8683790564537048; root_mean_squared_error of 1.3771008253097534\n",
      "------------------------------------------------------------------------\n",
      "Score per fold\n",
      "------------------------------------------------------------------------\n",
      "> Fold 1 - Loss: 0.6825138330459595 - RMSE: 1.1868821382522583\n",
      "------------------------------------------------------------------------\n",
      "> Fold 2 - Loss: 0.7053347826004028 - RMSE: 1.209572434425354\n",
      "------------------------------------------------------------------------\n",
      "> Fold 3 - Loss: 0.8683790564537048 - RMSE: 1.3771008253097534\n",
      "------------------------------------------------------------------------\n",
      "Average scores for all folds:\n",
      "> RMSE: 1.2578517993291218 (+- 0.0848290831932174)\n",
      "> Loss: 0.7520758907000223\n",
      "------------------------------------------------------------------------\n"
     ]
    },
    {
     "data": {
      "text/html": [
       "<br/>Waiting for W&B process to finish, PID 21190... <strong style=\"color:green\">(success).</strong>"
      ],
      "text/plain": [
       "<IPython.core.display.HTML object>"
      ]
     },
     "metadata": {},
     "output_type": "display_data"
    },
    {
     "data": {
      "application/vnd.jupyter.widget-view+json": {
       "model_id": "20480ddb5a3649639b6886075f9c6156",
       "version_major": 2,
       "version_minor": 0
      },
      "text/plain": [
       "VBox(children=(Label(value=' 0.13MB of 0.13MB uploaded (0.00MB deduped)\\r'), FloatProgress(value=1.0, max=1.0)…"
      ]
     },
     "metadata": {},
     "output_type": "display_data"
    },
    {
     "data": {
      "text/html": [
       "<style>\n",
       "    table.wandb td:nth-child(1) { padding: 0 10px; text-align: right }\n",
       "    .wandb-row { display: flex; flex-direction: row; flex-wrap: wrap; width: 100% }\n",
       "    .wandb-col { display: flex; flex-direction: column; flex-basis: 100%; flex: 1; padding: 10px; }\n",
       "    </style>\n",
       "<div class=\"wandb-row\"><div class=\"wandb-col\">\n",
       "<h3>Run history:</h3><br/><table class=\"wandb\"><tr><td>Mean Validation Loss (all folds)</td><td>▁</td></tr><tr><td>Mean Validation RMSE (all folds)</td><td>▁</td></tr><tr><td>epoch</td><td>▁▁▁▂▂▂▂▂▂▃▃▃▃▃▄▄▄▄▄▄▅▅▅▅▅▅▆▆▆▆▆▇▇▇▇▇▇███</td></tr><tr><td>loss</td><td>█▃▂▂▂▂▂▂▂▂▂▂▂▁▁▁▁▁▁▁▁▁▁▁▁▁▁▁▁▁▁▁▁▁▁▁▁▁▁▁</td></tr><tr><td>root_mean_squared_error</td><td>█▃▃▃▂▂▂▂▂▂▂▂▂▂▂▂▂▂▂▂▂▁▁▁▁▁▁▁▁▁▁▁▁▁▁▁▁▁▁▁</td></tr><tr><td>val_loss</td><td>▂▁▁▃▁▁▅▄▄▆▁█▅▄▃▅▆▃▅▃▂▇▆▃▅▄▃▆▆▃▅▇▆▄▅▇▆▃▆▃</td></tr><tr><td>val_root_mean_squared_error</td><td>▂▁▁▄▂▂▅▄▄▆▂█▅▅▃▅▆▄▅▄▃▇▆▄▅▅▄▇▆▄▆▇▇▅▆▇▆▄▆▄</td></tr></table><br/></div><div class=\"wandb-col\">\n",
       "<h3>Run summary:</h3><br/><table class=\"wandb\"><tr><td>Mean Validation Loss (all folds)</td><td>0.75208</td></tr><tr><td>Mean Validation RMSE (all folds)</td><td>1.25785</td></tr><tr><td>best_epoch</td><td>17</td></tr><tr><td>best_val_loss</td><td>0.01924</td></tr><tr><td>epoch</td><td>249</td></tr><tr><td>loss</td><td>0.04217</td></tr><tr><td>root_mean_squared_error</td><td>0.29665</td></tr><tr><td>val_loss</td><td>0.86838</td></tr><tr><td>val_root_mean_squared_error</td><td>1.3771</td></tr></table>\n",
       "</div></div>\n",
       "Synced 5 W&B file(s), 0 media file(s), 0 artifact file(s) and 1 other file(s)\n",
       "<br/>Synced <strong style=\"color:#cdcd00\">peachy-sweep-1</strong>: <a href=\"https://wandb.ai/luiscostigan/house-price-prediction/runs/u63rieuv\" target=\"_blank\">https://wandb.ai/luiscostigan/house-price-prediction/runs/u63rieuv</a><br/>\n",
       "Find logs at: <code>./wandb/run-20220307_051616-u63rieuv/logs</code><br/>\n"
      ],
      "text/plain": [
       "<IPython.core.display.HTML object>"
      ]
     },
     "metadata": {},
     "output_type": "display_data"
    },
    {
     "name": "stderr",
     "output_type": "stream",
     "text": [
      "\u001b[34m\u001b[1mwandb\u001b[0m: wandb version 0.12.11 is available!  To upgrade, please run:\n",
      "\u001b[34m\u001b[1mwandb\u001b[0m:  $ pip install wandb --upgrade\n"
     ]
    },
    {
     "data": {
      "text/html": [
       "\n",
       "                    Syncing run <strong><a href=\"https://wandb.ai/luiscostigan/house-price-prediction/runs/u63rieuv\" target=\"_blank\">peachy-sweep-1</a></strong> to <a href=\"https://wandb.ai/luiscostigan/house-price-prediction\" target=\"_blank\">Weights & Biases</a> (<a href=\"https://docs.wandb.com/integrations/jupyter.html\" target=\"_blank\">docs</a>).<br/>\n",
       "Sweep page: <a href=\"https://wandb.ai/luiscostigan/house-price-prediction/sweeps/r64dtrnj\" target=\"_blank\">https://wandb.ai/luiscostigan/house-price-prediction/sweeps/r64dtrnj</a><br/>\n",
       "\n",
       "                "
      ],
      "text/plain": [
       "<IPython.core.display.HTML object>"
      ]
     },
     "metadata": {},
     "output_type": "display_data"
    },
    {
     "name": "stdout",
     "output_type": "stream",
     "text": [
      "37/37 [==============================] - 0s 851us/step - loss: 0.9459 - root_mean_squared_error: 1.4499\n",
      "Score for fold 4: loss of 0.9459481239318848; root_mean_squared_error of 1.4498732089996338\n",
      "------------------------------------------------------------------------\n",
      "Score per fold\n",
      "------------------------------------------------------------------------\n",
      "> Fold 1 - Loss: 0.6825138330459595 - RMSE: 1.1868821382522583\n",
      "------------------------------------------------------------------------\n",
      "> Fold 2 - Loss: 0.7053347826004028 - RMSE: 1.209572434425354\n",
      "------------------------------------------------------------------------\n",
      "> Fold 3 - Loss: 0.8683790564537048 - RMSE: 1.3771008253097534\n",
      "------------------------------------------------------------------------\n",
      "> Fold 4 - Loss: 0.9459481239318848 - RMSE: 1.4498732089996338\n",
      "------------------------------------------------------------------------\n",
      "Average scores for all folds:\n",
      "> RMSE: 1.3058571517467499 (+- 0.11095278995488725)\n",
      "> Loss: 0.800543949007988\n",
      "------------------------------------------------------------------------\n"
     ]
    },
    {
     "data": {
      "text/html": [
       "<br/>Waiting for W&B process to finish, PID 26280... <strong style=\"color:green\">(success).</strong>"
      ],
      "text/plain": [
       "<IPython.core.display.HTML object>"
      ]
     },
     "metadata": {},
     "output_type": "display_data"
    },
    {
     "data": {
      "application/vnd.jupyter.widget-view+json": {
       "model_id": "b05783f522284ab29d88d48495329556",
       "version_major": 2,
       "version_minor": 0
      },
      "text/plain": [
       "VBox(children=(Label(value=' 0.13MB of 0.13MB uploaded (0.00MB deduped)\\r'), FloatProgress(value=1.0, max=1.0)…"
      ]
     },
     "metadata": {},
     "output_type": "display_data"
    },
    {
     "data": {
      "text/html": [
       "<style>\n",
       "    table.wandb td:nth-child(1) { padding: 0 10px; text-align: right }\n",
       "    .wandb-row { display: flex; flex-direction: row; flex-wrap: wrap; width: 100% }\n",
       "    .wandb-col { display: flex; flex-direction: column; flex-basis: 100%; flex: 1; padding: 10px; }\n",
       "    </style>\n",
       "<div class=\"wandb-row\"><div class=\"wandb-col\">\n",
       "<h3>Run history:</h3><br/><table class=\"wandb\"><tr><td>Mean Validation Loss (all folds)</td><td>▁</td></tr><tr><td>Mean Validation RMSE (all folds)</td><td>▁</td></tr><tr><td>epoch</td><td>▁▁▁▂▂▂▂▂▂▃▃▃▃▃▄▄▄▄▄▄▅▅▅▅▅▅▆▆▆▆▆▇▇▇▇▇▇███</td></tr><tr><td>loss</td><td>█▄▄▃▃▃▃▃▂▃▂▂▂▂▂▁▁▁▁▁▁▁▁▁▁▁▁▁▁▁▁▁▁▁▁▁▁▁▁▁</td></tr><tr><td>root_mean_squared_error</td><td>█▄▄▄▄▄▄▃▃▃▃▃▃▂▂▂▂▂▂▂▂▁▂▁▂▁▂▂▁▁▁▁▁▁▁▁▁▁▁▁</td></tr><tr><td>val_loss</td><td>▂▅▃▂▃▁▅▁▁▄▂▄▇▃▆▅█▄█▇▃▃▅▆▇▇▃▇▆▄▆▄▇▄▅▃▆▄▆▄</td></tr><tr><td>val_root_mean_squared_error</td><td>▃▆▄▃▄▂▅▂▁▅▃▅▇▄▇▆█▅█▇▄▄▆▆▇▇▄▇▆▅▆▅▇▅▆▄▇▅▆▅</td></tr></table><br/></div><div class=\"wandb-col\">\n",
       "<h3>Run summary:</h3><br/><table class=\"wandb\"><tr><td>Mean Validation Loss (all folds)</td><td>0.80054</td></tr><tr><td>Mean Validation RMSE (all folds)</td><td>1.30586</td></tr><tr><td>best_epoch</td><td>46</td></tr><tr><td>best_val_loss</td><td>0.01396</td></tr><tr><td>epoch</td><td>249</td></tr><tr><td>loss</td><td>0.03712</td></tr><tr><td>root_mean_squared_error</td><td>0.27304</td></tr><tr><td>val_loss</td><td>0.94595</td></tr><tr><td>val_root_mean_squared_error</td><td>1.44987</td></tr></table>\n",
       "</div></div>\n",
       "Synced 5 W&B file(s), 0 media file(s), 0 artifact file(s) and 1 other file(s)\n",
       "<br/>Synced <strong style=\"color:#cdcd00\">peachy-sweep-1</strong>: <a href=\"https://wandb.ai/luiscostigan/house-price-prediction/runs/u63rieuv\" target=\"_blank\">https://wandb.ai/luiscostigan/house-price-prediction/runs/u63rieuv</a><br/>\n",
       "Find logs at: <code>./wandb/run-20220307_051636-u63rieuv/logs</code><br/>\n"
      ],
      "text/plain": [
       "<IPython.core.display.HTML object>"
      ]
     },
     "metadata": {},
     "output_type": "display_data"
    },
    {
     "name": "stderr",
     "output_type": "stream",
     "text": [
      "\u001b[34m\u001b[1mwandb\u001b[0m: wandb version 0.12.11 is available!  To upgrade, please run:\n",
      "\u001b[34m\u001b[1mwandb\u001b[0m:  $ pip install wandb --upgrade\n"
     ]
    },
    {
     "data": {
      "text/html": [
       "\n",
       "                    Syncing run <strong><a href=\"https://wandb.ai/luiscostigan/house-price-prediction/runs/u63rieuv\" target=\"_blank\">peachy-sweep-1</a></strong> to <a href=\"https://wandb.ai/luiscostigan/house-price-prediction\" target=\"_blank\">Weights & Biases</a> (<a href=\"https://docs.wandb.com/integrations/jupyter.html\" target=\"_blank\">docs</a>).<br/>\n",
       "Sweep page: <a href=\"https://wandb.ai/luiscostigan/house-price-prediction/sweeps/r64dtrnj\" target=\"_blank\">https://wandb.ai/luiscostigan/house-price-prediction/sweeps/r64dtrnj</a><br/>\n",
       "\n",
       "                "
      ],
      "text/plain": [
       "<IPython.core.display.HTML object>"
      ]
     },
     "metadata": {},
     "output_type": "display_data"
    },
    {
     "name": "stdout",
     "output_type": "stream",
     "text": [
      "37/37 [==============================] - 0s 832us/step - loss: 0.6408 - root_mean_squared_error: 1.1451\n",
      "Score for fold 5: loss of 0.640813410282135; root_mean_squared_error of 1.1450573205947876\n",
      "------------------------------------------------------------------------\n",
      "Score per fold\n",
      "------------------------------------------------------------------------\n",
      "> Fold 1 - Loss: 0.6825138330459595 - RMSE: 1.1868821382522583\n",
      "------------------------------------------------------------------------\n",
      "> Fold 2 - Loss: 0.7053347826004028 - RMSE: 1.209572434425354\n",
      "------------------------------------------------------------------------\n",
      "> Fold 3 - Loss: 0.8683790564537048 - RMSE: 1.3771008253097534\n",
      "------------------------------------------------------------------------\n",
      "> Fold 4 - Loss: 0.9459481239318848 - RMSE: 1.4498732089996338\n",
      "------------------------------------------------------------------------\n",
      "> Fold 5 - Loss: 0.640813410282135 - RMSE: 1.1450573205947876\n",
      "------------------------------------------------------------------------\n",
      "Average scores for all folds:\n",
      "> RMSE: 1.2736971855163575 (+- 0.11826018345486614)\n",
      "> Loss: 0.7685978412628174\n",
      "------------------------------------------------------------------------\n"
     ]
    },
    {
     "data": {
      "text/html": [
       "<br/>Waiting for W&B process to finish, PID 31341... <strong style=\"color:green\">(success).</strong>"
      ],
      "text/plain": [
       "<IPython.core.display.HTML object>"
      ]
     },
     "metadata": {},
     "output_type": "display_data"
    },
    {
     "data": {
      "application/vnd.jupyter.widget-view+json": {
       "model_id": "0c4ea9db637f43648bc98ce366c9beca",
       "version_major": 2,
       "version_minor": 0
      },
      "text/plain": [
       "VBox(children=(Label(value=' 0.13MB of 0.13MB uploaded (0.00MB deduped)\\r'), FloatProgress(value=1.0, max=1.0)…"
      ]
     },
     "metadata": {},
     "output_type": "display_data"
    },
    {
     "data": {
      "text/html": [
       "<style>\n",
       "    table.wandb td:nth-child(1) { padding: 0 10px; text-align: right }\n",
       "    .wandb-row { display: flex; flex-direction: row; flex-wrap: wrap; width: 100% }\n",
       "    .wandb-col { display: flex; flex-direction: column; flex-basis: 100%; flex: 1; padding: 10px; }\n",
       "    </style>\n",
       "<div class=\"wandb-row\"><div class=\"wandb-col\">\n",
       "<h3>Run history:</h3><br/><table class=\"wandb\"><tr><td>Mean Validation Loss (all folds)</td><td>▁</td></tr><tr><td>Mean Validation RMSE (all folds)</td><td>▁</td></tr><tr><td>epoch</td><td>▁▁▁▂▂▂▂▂▂▃▃▃▃▃▄▄▄▄▄▄▅▅▅▅▅▅▆▆▆▆▆▇▇▇▇▇▇███</td></tr><tr><td>loss</td><td>█▂▁▁▁▁▁▁▁▁▁▁▁▁▁▁▁▁▁▁▁▁▁▁▁▁▁▁▁▁▁▁▁▁▁▁▁▁▁▁</td></tr><tr><td>root_mean_squared_error</td><td>█▂▂▂▂▁▁▁▁▁▁▁▁▁▁▁▁▁▁▁▁▁▁▁▁▁▁▁▁▁▁▁▁▁▁▁▁▁▁▁</td></tr><tr><td>val_loss</td><td>▅▅▆▃▁▃▁▃▄▇▂▇█▅▅▆▅▇▅▆▅▄▇█▇▅▆▅▆▇▄█▆▇▆▇▄▇▃▅</td></tr><tr><td>val_root_mean_squared_error</td><td>▆▅▆▄▁▃▁▄▅▇▃▇█▅▅▆▅▇▆▇▆▅██▇▅▇▆▆▇▅█▇▇▆▇▅▇▄▅</td></tr></table><br/></div><div class=\"wandb-col\">\n",
       "<h3>Run summary:</h3><br/><table class=\"wandb\"><tr><td>Mean Validation Loss (all folds)</td><td>0.7686</td></tr><tr><td>Mean Validation RMSE (all folds)</td><td>1.2737</td></tr><tr><td>best_epoch</td><td>20</td></tr><tr><td>best_val_loss</td><td>0.01749</td></tr><tr><td>epoch</td><td>249</td></tr><tr><td>loss</td><td>0.05055</td></tr><tr><td>root_mean_squared_error</td><td>0.35185</td></tr><tr><td>val_loss</td><td>0.64081</td></tr><tr><td>val_root_mean_squared_error</td><td>1.14506</td></tr></table>\n",
       "</div></div>\n",
       "Synced 5 W&B file(s), 0 media file(s), 0 artifact file(s) and 1 other file(s)\n",
       "<br/>Synced <strong style=\"color:#cdcd00\">peachy-sweep-1</strong>: <a href=\"https://wandb.ai/luiscostigan/house-price-prediction/runs/u63rieuv\" target=\"_blank\">https://wandb.ai/luiscostigan/house-price-prediction/runs/u63rieuv</a><br/>\n",
       "Find logs at: <code>./wandb/run-20220307_051655-u63rieuv/logs</code><br/>\n"
      ],
      "text/plain": [
       "<IPython.core.display.HTML object>"
      ]
     },
     "metadata": {},
     "output_type": "display_data"
    },
    {
     "name": "stderr",
     "output_type": "stream",
     "text": [
      "\u001b[34m\u001b[1mwandb\u001b[0m: Agent Starting Run: ucmjr66l with config:\n",
      "\u001b[34m\u001b[1mwandb\u001b[0m: \tbatch_size: 16\n",
      "\u001b[34m\u001b[1mwandb\u001b[0m: \tdense1: 8\n",
      "\u001b[34m\u001b[1mwandb\u001b[0m: \tdense2: 32\n",
      "\u001b[34m\u001b[1mwandb\u001b[0m: \tdropout1: 0.2918519958868394\n",
      "\u001b[34m\u001b[1mwandb\u001b[0m: \tepochs: 250\n",
      "\u001b[34m\u001b[1mwandb\u001b[0m: wandb version 0.12.11 is available!  To upgrade, please run:\n",
      "\u001b[34m\u001b[1mwandb\u001b[0m:  $ pip install wandb --upgrade\n"
     ]
    },
    {
     "data": {
      "text/html": [
       "\n",
       "                    Syncing run <strong><a href=\"https://wandb.ai/luiscostigan/house-price-prediction/runs/ucmjr66l\" target=\"_blank\">still-sweep-2</a></strong> to <a href=\"https://wandb.ai/luiscostigan/house-price-prediction\" target=\"_blank\">Weights & Biases</a> (<a href=\"https://docs.wandb.com/integrations/jupyter.html\" target=\"_blank\">docs</a>).<br/>\n",
       "Sweep page: <a href=\"https://wandb.ai/luiscostigan/house-price-prediction/sweeps/r64dtrnj\" target=\"_blank\">https://wandb.ai/luiscostigan/house-price-prediction/sweeps/r64dtrnj</a><br/>\n",
       "\n",
       "                "
      ],
      "text/plain": [
       "<IPython.core.display.HTML object>"
      ]
     },
     "metadata": {},
     "output_type": "display_data"
    },
    {
     "name": "stdout",
     "output_type": "stream",
     "text": [
      "37/37 [==============================] - 0s 2ms/step - loss: 2.2391 - root_mean_squared_error: 2.7421\n",
      "Score for fold 1: loss of 2.239083766937256; root_mean_squared_error of 2.742051601409912\n",
      "------------------------------------------------------------------------\n",
      "Score per fold\n",
      "------------------------------------------------------------------------\n",
      "> Fold 1 - Loss: 2.239083766937256 - RMSE: 2.742051601409912\n",
      "------------------------------------------------------------------------\n",
      "Average scores for all folds:\n",
      "> RMSE: 2.742051601409912 (+- 0.0)\n",
      "> Loss: 2.239083766937256\n",
      "------------------------------------------------------------------------\n"
     ]
    },
    {
     "data": {
      "text/html": [
       "<br/>Waiting for W&B process to finish, PID 4039... <strong style=\"color:green\">(success).</strong>"
      ],
      "text/plain": [
       "<IPython.core.display.HTML object>"
      ]
     },
     "metadata": {},
     "output_type": "display_data"
    },
    {
     "data": {
      "application/vnd.jupyter.widget-view+json": {
       "model_id": "3ebc9b2ae24e434e81422b99765c6344",
       "version_major": 2,
       "version_minor": 0
      },
      "text/plain": [
       "VBox(children=(Label(value=' 0.12MB of 0.12MB uploaded (0.00MB deduped)\\r'), FloatProgress(value=1.0, max=1.0)…"
      ]
     },
     "metadata": {},
     "output_type": "display_data"
    },
    {
     "data": {
      "text/html": [
       "<style>\n",
       "    table.wandb td:nth-child(1) { padding: 0 10px; text-align: right }\n",
       "    .wandb-row { display: flex; flex-direction: row; flex-wrap: wrap; width: 100% }\n",
       "    .wandb-col { display: flex; flex-direction: column; flex-basis: 100%; flex: 1; padding: 10px; }\n",
       "    </style>\n",
       "<div class=\"wandb-row\"><div class=\"wandb-col\">\n",
       "<h3>Run history:</h3><br/><table class=\"wandb\"><tr><td>Mean Validation Loss (all folds)</td><td>▁</td></tr><tr><td>Mean Validation RMSE (all folds)</td><td>▁</td></tr><tr><td>epoch</td><td>▁▁▁▂▂▂▂▂▂▃▃▃▃▃▄▄▄▄▄▄▅▅▅▅▅▅▆▆▆▆▆▇▇▇▇▇▇███</td></tr><tr><td>loss</td><td>█▂▁▁▁▁▁▁▁▁▁▁▁▁▁▁▁▁▁▁▁▁▁▁▁▁▁▁▁▁▁▁▁▁▁▁▁▁▁▁</td></tr><tr><td>root_mean_squared_error</td><td>█▃▂▃▃▂▂▂▂▃▂▂▂▁▂▂▂▂▁▂▁▁▂▁▁▁▁▁▁▁▁▁▁▁▁▁▁▁▁▁</td></tr><tr><td>val_loss</td><td>▃██▅▅██▅▅▆▅▃▃▃▆▄▄▄▃▄▅▂▃▅▄▃▄▂▄▂▄▄▂▁▃▁▂▃▃▂</td></tr><tr><td>val_root_mean_squared_error</td><td>▃██▅▅██▅▅▆▅▃▃▃▆▄▄▄▃▄▅▂▃▅▄▃▄▂▄▂▄▄▂▁▃▁▂▃▃▂</td></tr></table><br/></div><div class=\"wandb-col\">\n",
       "<h3>Run summary:</h3><br/><table class=\"wandb\"><tr><td>Mean Validation Loss (all folds)</td><td>2.23908</td></tr><tr><td>Mean Validation RMSE (all folds)</td><td>2.74205</td></tr><tr><td>best_epoch</td><td>0</td></tr><tr><td>best_val_loss</td><td>1.66437</td></tr><tr><td>epoch</td><td>249</td></tr><tr><td>loss</td><td>0.01827</td></tr><tr><td>root_mean_squared_error</td><td>0.19114</td></tr><tr><td>val_loss</td><td>2.23908</td></tr><tr><td>val_root_mean_squared_error</td><td>2.74205</td></tr></table>\n",
       "</div></div>\n",
       "Synced 5 W&B file(s), 0 media file(s), 0 artifact file(s) and 1 other file(s)\n",
       "<br/>Synced <strong style=\"color:#cdcd00\">still-sweep-2</strong>: <a href=\"https://wandb.ai/luiscostigan/house-price-prediction/runs/ucmjr66l\" target=\"_blank\">https://wandb.ai/luiscostigan/house-price-prediction/runs/ucmjr66l</a><br/>\n",
       "Find logs at: <code>./wandb/run-20220307_051720-ucmjr66l/logs</code><br/>\n"
      ],
      "text/plain": [
       "<IPython.core.display.HTML object>"
      ]
     },
     "metadata": {},
     "output_type": "display_data"
    },
    {
     "name": "stderr",
     "output_type": "stream",
     "text": [
      "\u001b[34m\u001b[1mwandb\u001b[0m: wandb version 0.12.11 is available!  To upgrade, please run:\n",
      "\u001b[34m\u001b[1mwandb\u001b[0m:  $ pip install wandb --upgrade\n"
     ]
    },
    {
     "data": {
      "text/html": [
       "\n",
       "                    Syncing run <strong><a href=\"https://wandb.ai/luiscostigan/house-price-prediction/runs/ucmjr66l\" target=\"_blank\">still-sweep-2</a></strong> to <a href=\"https://wandb.ai/luiscostigan/house-price-prediction\" target=\"_blank\">Weights & Biases</a> (<a href=\"https://docs.wandb.com/integrations/jupyter.html\" target=\"_blank\">docs</a>).<br/>\n",
       "Sweep page: <a href=\"https://wandb.ai/luiscostigan/house-price-prediction/sweeps/r64dtrnj\" target=\"_blank\">https://wandb.ai/luiscostigan/house-price-prediction/sweeps/r64dtrnj</a><br/>\n",
       "\n",
       "                "
      ],
      "text/plain": [
       "<IPython.core.display.HTML object>"
      ]
     },
     "metadata": {},
     "output_type": "display_data"
    },
    {
     "name": "stdout",
     "output_type": "stream",
     "text": [
      "37/37 [==============================] - 0s 2ms/step - loss: 2.2128 - root_mean_squared_error: 2.7156\n",
      "Score for fold 2: loss of 2.21277117729187; root_mean_squared_error of 2.7156124114990234\n",
      "------------------------------------------------------------------------\n",
      "Score per fold\n",
      "------------------------------------------------------------------------\n",
      "> Fold 1 - Loss: 2.239083766937256 - RMSE: 2.742051601409912\n",
      "------------------------------------------------------------------------\n",
      "> Fold 2 - Loss: 2.21277117729187 - RMSE: 2.7156124114990234\n",
      "------------------------------------------------------------------------\n",
      "Average scores for all folds:\n",
      "> RMSE: 2.7288320064544678 (+- 0.013219594955444336)\n",
      "> Loss: 2.225927472114563\n",
      "------------------------------------------------------------------------\n"
     ]
    },
    {
     "data": {
      "text/html": [
       "<br/>Waiting for W&B process to finish, PID 9206... <strong style=\"color:green\">(success).</strong>"
      ],
      "text/plain": [
       "<IPython.core.display.HTML object>"
      ]
     },
     "metadata": {},
     "output_type": "display_data"
    },
    {
     "data": {
      "application/vnd.jupyter.widget-view+json": {
       "model_id": "06585d32c8a447fb879cfb98e434be2a",
       "version_major": 2,
       "version_minor": 0
      },
      "text/plain": [
       "VBox(children=(Label(value=' 0.12MB of 0.12MB uploaded (0.00MB deduped)\\r'), FloatProgress(value=1.0, max=1.0)…"
      ]
     },
     "metadata": {},
     "output_type": "display_data"
    },
    {
     "data": {
      "text/html": [
       "<style>\n",
       "    table.wandb td:nth-child(1) { padding: 0 10px; text-align: right }\n",
       "    .wandb-row { display: flex; flex-direction: row; flex-wrap: wrap; width: 100% }\n",
       "    .wandb-col { display: flex; flex-direction: column; flex-basis: 100%; flex: 1; padding: 10px; }\n",
       "    </style>\n",
       "<div class=\"wandb-row\"><div class=\"wandb-col\">\n",
       "<h3>Run history:</h3><br/><table class=\"wandb\"><tr><td>Mean Validation Loss (all folds)</td><td>▁</td></tr><tr><td>Mean Validation RMSE (all folds)</td><td>▁</td></tr><tr><td>epoch</td><td>▁▁▁▂▂▂▂▂▂▃▃▃▃▃▄▄▄▄▄▄▅▅▅▅▅▅▆▆▆▆▆▇▇▇▇▇▇███</td></tr><tr><td>loss</td><td>█▂▁▁▁▁▁▁▁▁▁▁▁▁▁▁▁▁▁▁▁▁▁▁▁▁▁▁▁▁▁▁▁▁▁▁▁▁▁▁</td></tr><tr><td>root_mean_squared_error</td><td>█▃▃▃▂▂▂▂▂▂▂▂▁▁▁▁▁▁▁▁▁▁▁▁▁▁▁▁▁▁▁▁▁▁▁▁▁▁▁▁</td></tr><tr><td>val_loss</td><td>▁▇▇▇█▆▆▆▅▆▆▅▄▅▅▅▄▅▆▅▄▆▅▄▅▄▅▅▅▆▅▅▄▅▅▅▄▄▄▅</td></tr><tr><td>val_root_mean_squared_error</td><td>▁▇▇▇█▆▆▆▅▆▆▅▄▅▅▅▄▅▆▅▄▆▅▄▅▄▅▅▄▆▅▄▄▅▅▅▄▄▄▄</td></tr></table><br/></div><div class=\"wandb-col\">\n",
       "<h3>Run summary:</h3><br/><table class=\"wandb\"><tr><td>Mean Validation Loss (all folds)</td><td>2.22593</td></tr><tr><td>Mean Validation RMSE (all folds)</td><td>2.72883</td></tr><tr><td>best_epoch</td><td>0</td></tr><tr><td>best_val_loss</td><td>1.00257</td></tr><tr><td>epoch</td><td>249</td></tr><tr><td>loss</td><td>0.01478</td></tr><tr><td>root_mean_squared_error</td><td>0.17194</td></tr><tr><td>val_loss</td><td>2.21277</td></tr><tr><td>val_root_mean_squared_error</td><td>2.71561</td></tr></table>\n",
       "</div></div>\n",
       "Synced 5 W&B file(s), 0 media file(s), 0 artifact file(s) and 1 other file(s)\n",
       "<br/>Synced <strong style=\"color:#cdcd00\">still-sweep-2</strong>: <a href=\"https://wandb.ai/luiscostigan/house-price-prediction/runs/ucmjr66l\" target=\"_blank\">https://wandb.ai/luiscostigan/house-price-prediction/runs/ucmjr66l</a><br/>\n",
       "Find logs at: <code>./wandb/run-20220307_051757-ucmjr66l/logs</code><br/>\n"
      ],
      "text/plain": [
       "<IPython.core.display.HTML object>"
      ]
     },
     "metadata": {},
     "output_type": "display_data"
    },
    {
     "name": "stderr",
     "output_type": "stream",
     "text": [
      "\u001b[34m\u001b[1mwandb\u001b[0m: wandb version 0.12.11 is available!  To upgrade, please run:\n",
      "\u001b[34m\u001b[1mwandb\u001b[0m:  $ pip install wandb --upgrade\n"
     ]
    },
    {
     "data": {
      "text/html": [
       "\n",
       "                    Syncing run <strong><a href=\"https://wandb.ai/luiscostigan/house-price-prediction/runs/ucmjr66l\" target=\"_blank\">still-sweep-2</a></strong> to <a href=\"https://wandb.ai/luiscostigan/house-price-prediction\" target=\"_blank\">Weights & Biases</a> (<a href=\"https://docs.wandb.com/integrations/jupyter.html\" target=\"_blank\">docs</a>).<br/>\n",
       "Sweep page: <a href=\"https://wandb.ai/luiscostigan/house-price-prediction/sweeps/r64dtrnj\" target=\"_blank\">https://wandb.ai/luiscostigan/house-price-prediction/sweeps/r64dtrnj</a><br/>\n",
       "\n",
       "                "
      ],
      "text/plain": [
       "<IPython.core.display.HTML object>"
      ]
     },
     "metadata": {},
     "output_type": "display_data"
    },
    {
     "name": "stdout",
     "output_type": "stream",
     "text": [
      "37/37 [==============================] - 0s 2ms/step - loss: 2.3968 - root_mean_squared_error: 2.8992\n",
      "Score for fold 3: loss of 2.3968169689178467; root_mean_squared_error of 2.8991549015045166\n",
      "------------------------------------------------------------------------\n",
      "Score per fold\n",
      "------------------------------------------------------------------------\n",
      "> Fold 1 - Loss: 2.239083766937256 - RMSE: 2.742051601409912\n",
      "------------------------------------------------------------------------\n",
      "> Fold 2 - Loss: 2.21277117729187 - RMSE: 2.7156124114990234\n",
      "------------------------------------------------------------------------\n",
      "> Fold 3 - Loss: 2.3968169689178467 - RMSE: 2.8991549015045166\n",
      "------------------------------------------------------------------------\n",
      "Average scores for all folds:\n",
      "> RMSE: 2.785606304804484 (+- 0.08101325220890712)\n",
      "> Loss: 2.2828906377156577\n",
      "------------------------------------------------------------------------\n"
     ]
    },
    {
     "data": {
      "text/html": [
       "<br/>Waiting for W&B process to finish, PID 14378... <strong style=\"color:green\">(success).</strong>"
      ],
      "text/plain": [
       "<IPython.core.display.HTML object>"
      ]
     },
     "metadata": {},
     "output_type": "display_data"
    },
    {
     "data": {
      "application/vnd.jupyter.widget-view+json": {
       "model_id": "12a778c52435412b968ba56240526181",
       "version_major": 2,
       "version_minor": 0
      },
      "text/plain": [
       "VBox(children=(Label(value=' 0.12MB of 0.12MB uploaded (0.00MB deduped)\\r'), FloatProgress(value=1.0, max=1.0)…"
      ]
     },
     "metadata": {},
     "output_type": "display_data"
    },
    {
     "data": {
      "text/html": [
       "<style>\n",
       "    table.wandb td:nth-child(1) { padding: 0 10px; text-align: right }\n",
       "    .wandb-row { display: flex; flex-direction: row; flex-wrap: wrap; width: 100% }\n",
       "    .wandb-col { display: flex; flex-direction: column; flex-basis: 100%; flex: 1; padding: 10px; }\n",
       "    </style>\n",
       "<div class=\"wandb-row\"><div class=\"wandb-col\">\n",
       "<h3>Run history:</h3><br/><table class=\"wandb\"><tr><td>Mean Validation Loss (all folds)</td><td>▁</td></tr><tr><td>Mean Validation RMSE (all folds)</td><td>▁</td></tr><tr><td>epoch</td><td>▁▁▁▂▂▂▂▂▂▃▃▃▃▃▄▄▄▄▄▄▅▅▅▅▅▅▆▆▆▆▆▇▇▇▇▇▇███</td></tr><tr><td>loss</td><td>█▂▁▁▁▁▁▁▁▁▁▁▁▁▁▁▁▁▁▁▁▁▁▁▁▁▁▁▁▁▁▁▁▁▁▁▁▁▁▁</td></tr><tr><td>root_mean_squared_error</td><td>█▃▂▂▂▂▁▂▁▁▁▁▁▁▁▁▁▁▁▁▁▁▁▁▁▁▁▁▁▁▁▁▁▁▁▁▁▁▁▁</td></tr><tr><td>val_loss</td><td>▁▅▆▅▆▆█▇▄▅▇▅▇▅▇▇▆▅▆▆▇▆▆▅▅▆▅▅▃▃▂▂▆▃▃▂▃▃▃▂</td></tr><tr><td>val_root_mean_squared_error</td><td>▁▅▆▅▆▆█▇▄▅▇▅▆▅▇▆▆▅▆▆▆▆▆▅▅▆▅▅▃▃▂▂▆▃▃▂▂▂▃▂</td></tr></table><br/></div><div class=\"wandb-col\">\n",
       "<h3>Run summary:</h3><br/><table class=\"wandb\"><tr><td>Mean Validation Loss (all folds)</td><td>2.28289</td></tr><tr><td>Mean Validation RMSE (all folds)</td><td>2.78561</td></tr><tr><td>best_epoch</td><td>0</td></tr><tr><td>best_val_loss</td><td>1.5509</td></tr><tr><td>epoch</td><td>249</td></tr><tr><td>loss</td><td>0.01562</td></tr><tr><td>root_mean_squared_error</td><td>0.17675</td></tr><tr><td>val_loss</td><td>2.39682</td></tr><tr><td>val_root_mean_squared_error</td><td>2.89915</td></tr></table>\n",
       "</div></div>\n",
       "Synced 5 W&B file(s), 0 media file(s), 0 artifact file(s) and 1 other file(s)\n",
       "<br/>Synced <strong style=\"color:#cdcd00\">still-sweep-2</strong>: <a href=\"https://wandb.ai/luiscostigan/house-price-prediction/runs/ucmjr66l\" target=\"_blank\">https://wandb.ai/luiscostigan/house-price-prediction/runs/ucmjr66l</a><br/>\n",
       "Find logs at: <code>./wandb/run-20220307_051833-ucmjr66l/logs</code><br/>\n"
      ],
      "text/plain": [
       "<IPython.core.display.HTML object>"
      ]
     },
     "metadata": {},
     "output_type": "display_data"
    },
    {
     "name": "stderr",
     "output_type": "stream",
     "text": [
      "\u001b[34m\u001b[1mwandb\u001b[0m: wandb version 0.12.11 is available!  To upgrade, please run:\n",
      "\u001b[34m\u001b[1mwandb\u001b[0m:  $ pip install wandb --upgrade\n"
     ]
    },
    {
     "data": {
      "text/html": [
       "\n",
       "                    Syncing run <strong><a href=\"https://wandb.ai/luiscostigan/house-price-prediction/runs/ucmjr66l\" target=\"_blank\">still-sweep-2</a></strong> to <a href=\"https://wandb.ai/luiscostigan/house-price-prediction\" target=\"_blank\">Weights & Biases</a> (<a href=\"https://docs.wandb.com/integrations/jupyter.html\" target=\"_blank\">docs</a>).<br/>\n",
       "Sweep page: <a href=\"https://wandb.ai/luiscostigan/house-price-prediction/sweeps/r64dtrnj\" target=\"_blank\">https://wandb.ai/luiscostigan/house-price-prediction/sweeps/r64dtrnj</a><br/>\n",
       "\n",
       "                "
      ],
      "text/plain": [
       "<IPython.core.display.HTML object>"
      ]
     },
     "metadata": {},
     "output_type": "display_data"
    },
    {
     "name": "stdout",
     "output_type": "stream",
     "text": [
      "37/37 [==============================] - 0s 1ms/step - loss: 2.3311 - root_mean_squared_error: 2.8343\n",
      "Score for fold 4: loss of 2.331066608428955; root_mean_squared_error of 2.8343305587768555\n",
      "------------------------------------------------------------------------\n",
      "Score per fold\n",
      "------------------------------------------------------------------------\n",
      "> Fold 1 - Loss: 2.239083766937256 - RMSE: 2.742051601409912\n",
      "------------------------------------------------------------------------\n",
      "> Fold 2 - Loss: 2.21277117729187 - RMSE: 2.7156124114990234\n",
      "------------------------------------------------------------------------\n",
      "> Fold 3 - Loss: 2.3968169689178467 - RMSE: 2.8991549015045166\n",
      "------------------------------------------------------------------------\n",
      "> Fold 4 - Loss: 2.331066608428955 - RMSE: 2.8343305587768555\n",
      "------------------------------------------------------------------------\n",
      "Average scores for all folds:\n",
      "> RMSE: 2.797787368297577 (+- 0.07326319129389788)\n",
      "> Loss: 2.294934630393982\n",
      "------------------------------------------------------------------------\n"
     ]
    },
    {
     "data": {
      "text/html": [
       "<br/>Waiting for W&B process to finish, PID 19565... <strong style=\"color:green\">(success).</strong>"
      ],
      "text/plain": [
       "<IPython.core.display.HTML object>"
      ]
     },
     "metadata": {},
     "output_type": "display_data"
    },
    {
     "data": {
      "application/vnd.jupyter.widget-view+json": {
       "model_id": "d32b641506214eac85137e47d879df91",
       "version_major": 2,
       "version_minor": 0
      },
      "text/plain": [
       "VBox(children=(Label(value=' 0.12MB of 0.12MB uploaded (0.00MB deduped)\\r'), FloatProgress(value=1.0, max=1.0)…"
      ]
     },
     "metadata": {},
     "output_type": "display_data"
    },
    {
     "data": {
      "text/html": [
       "<style>\n",
       "    table.wandb td:nth-child(1) { padding: 0 10px; text-align: right }\n",
       "    .wandb-row { display: flex; flex-direction: row; flex-wrap: wrap; width: 100% }\n",
       "    .wandb-col { display: flex; flex-direction: column; flex-basis: 100%; flex: 1; padding: 10px; }\n",
       "    </style>\n",
       "<div class=\"wandb-row\"><div class=\"wandb-col\">\n",
       "<h3>Run history:</h3><br/><table class=\"wandb\"><tr><td>Mean Validation Loss (all folds)</td><td>▁</td></tr><tr><td>Mean Validation RMSE (all folds)</td><td>▁</td></tr><tr><td>epoch</td><td>▁▁▁▂▂▂▂▂▂▃▃▃▃▃▄▄▄▄▄▄▅▅▅▅▅▅▆▆▆▆▆▇▇▇▇▇▇███</td></tr><tr><td>loss</td><td>█▂▁▁▁▁▁▁▁▁▁▁▁▁▁▁▁▁▁▁▁▁▁▁▁▁▁▁▁▁▁▁▁▁▁▁▁▁▁▁</td></tr><tr><td>root_mean_squared_error</td><td>█▃▂▃▃▃▂▂▂▂▂▂▂▁▁▁▁▁▁▁▁▁▁▁▁▁▁▁▁▁▁▁▁▁▁▁▁▁▁▁</td></tr><tr><td>val_loss</td><td>▁██▇▆▇▇█▆▇▆▇▇▇▇▇▆▇▆▇▇▆▆▆▆▅▆▆▇▇▆▆▇▆▆▆▆▆▆▆</td></tr><tr><td>val_root_mean_squared_error</td><td>▁██▇▆▇▇█▆▇▆▇▆▇▆▇▆▇▆▇▆▆▆▆▆▅▆▆▇▇▆▆▆▆▆▆▆▆▆▆</td></tr></table><br/></div><div class=\"wandb-col\">\n",
       "<h3>Run summary:</h3><br/><table class=\"wandb\"><tr><td>Mean Validation Loss (all folds)</td><td>2.29493</td></tr><tr><td>Mean Validation RMSE (all folds)</td><td>2.79779</td></tr><tr><td>best_epoch</td><td>1</td></tr><tr><td>best_val_loss</td><td>1.05167</td></tr><tr><td>epoch</td><td>249</td></tr><tr><td>loss</td><td>0.01124</td></tr><tr><td>root_mean_squared_error</td><td>0.14992</td></tr><tr><td>val_loss</td><td>2.33107</td></tr><tr><td>val_root_mean_squared_error</td><td>2.83433</td></tr></table>\n",
       "</div></div>\n",
       "Synced 5 W&B file(s), 0 media file(s), 0 artifact file(s) and 1 other file(s)\n",
       "<br/>Synced <strong style=\"color:#cdcd00\">still-sweep-2</strong>: <a href=\"https://wandb.ai/luiscostigan/house-price-prediction/runs/ucmjr66l\" target=\"_blank\">https://wandb.ai/luiscostigan/house-price-prediction/runs/ucmjr66l</a><br/>\n",
       "Find logs at: <code>./wandb/run-20220307_051912-ucmjr66l/logs</code><br/>\n"
      ],
      "text/plain": [
       "<IPython.core.display.HTML object>"
      ]
     },
     "metadata": {},
     "output_type": "display_data"
    },
    {
     "name": "stderr",
     "output_type": "stream",
     "text": [
      "\u001b[34m\u001b[1mwandb\u001b[0m: wandb version 0.12.11 is available!  To upgrade, please run:\n",
      "\u001b[34m\u001b[1mwandb\u001b[0m:  $ pip install wandb --upgrade\n"
     ]
    },
    {
     "data": {
      "text/html": [
       "\n",
       "                    Syncing run <strong><a href=\"https://wandb.ai/luiscostigan/house-price-prediction/runs/ucmjr66l\" target=\"_blank\">still-sweep-2</a></strong> to <a href=\"https://wandb.ai/luiscostigan/house-price-prediction\" target=\"_blank\">Weights & Biases</a> (<a href=\"https://docs.wandb.com/integrations/jupyter.html\" target=\"_blank\">docs</a>).<br/>\n",
       "Sweep page: <a href=\"https://wandb.ai/luiscostigan/house-price-prediction/sweeps/r64dtrnj\" target=\"_blank\">https://wandb.ai/luiscostigan/house-price-prediction/sweeps/r64dtrnj</a><br/>\n",
       "\n",
       "                "
      ],
      "text/plain": [
       "<IPython.core.display.HTML object>"
      ]
     },
     "metadata": {},
     "output_type": "display_data"
    },
    {
     "name": "stdout",
     "output_type": "stream",
     "text": [
      "37/37 [==============================] - 0s 1ms/step - loss: 2.1863 - root_mean_squared_error: 2.6909\n",
      "Score for fold 5: loss of 2.1862990856170654; root_mean_squared_error of 2.6908957958221436\n",
      "------------------------------------------------------------------------\n",
      "Score per fold\n",
      "------------------------------------------------------------------------\n",
      "> Fold 1 - Loss: 2.239083766937256 - RMSE: 2.742051601409912\n",
      "------------------------------------------------------------------------\n",
      "> Fold 2 - Loss: 2.21277117729187 - RMSE: 2.7156124114990234\n",
      "------------------------------------------------------------------------\n",
      "> Fold 3 - Loss: 2.3968169689178467 - RMSE: 2.8991549015045166\n",
      "------------------------------------------------------------------------\n",
      "> Fold 4 - Loss: 2.331066608428955 - RMSE: 2.8343305587768555\n",
      "------------------------------------------------------------------------\n",
      "> Fold 5 - Loss: 2.1862990856170654 - RMSE: 2.6908957958221436\n",
      "------------------------------------------------------------------------\n",
      "Average scores for all folds:\n",
      "> RMSE: 2.77640905380249 (+- 0.07824401243198326)\n",
      "> Loss: 2.2732075214385987\n",
      "------------------------------------------------------------------------\n"
     ]
    },
    {
     "data": {
      "text/html": [
       "<br/>Waiting for W&B process to finish, PID 24774... <strong style=\"color:green\">(success).</strong>"
      ],
      "text/plain": [
       "<IPython.core.display.HTML object>"
      ]
     },
     "metadata": {},
     "output_type": "display_data"
    },
    {
     "data": {
      "application/vnd.jupyter.widget-view+json": {
       "model_id": "25777ed134cf4cda8e6ab2a21ea2c3cf",
       "version_major": 2,
       "version_minor": 0
      },
      "text/plain": [
       "VBox(children=(Label(value=' 0.12MB of 0.12MB uploaded (0.00MB deduped)\\r'), FloatProgress(value=1.0, max=1.0)…"
      ]
     },
     "metadata": {},
     "output_type": "display_data"
    },
    {
     "data": {
      "text/html": [
       "<style>\n",
       "    table.wandb td:nth-child(1) { padding: 0 10px; text-align: right }\n",
       "    .wandb-row { display: flex; flex-direction: row; flex-wrap: wrap; width: 100% }\n",
       "    .wandb-col { display: flex; flex-direction: column; flex-basis: 100%; flex: 1; padding: 10px; }\n",
       "    </style>\n",
       "<div class=\"wandb-row\"><div class=\"wandb-col\">\n",
       "<h3>Run history:</h3><br/><table class=\"wandb\"><tr><td>Mean Validation Loss (all folds)</td><td>▁</td></tr><tr><td>Mean Validation RMSE (all folds)</td><td>▁</td></tr><tr><td>epoch</td><td>▁▁▁▂▂▂▂▂▂▃▃▃▃▃▄▄▄▄▄▄▅▅▅▅▅▅▆▆▆▆▆▇▇▇▇▇▇███</td></tr><tr><td>loss</td><td>█▂▁▁▁▁▁▁▁▁▁▁▁▁▁▁▁▁▁▁▁▁▁▁▁▁▁▁▁▁▁▁▁▁▁▁▁▁▁▁</td></tr><tr><td>root_mean_squared_error</td><td>█▃▃▃▂▂▂▂▂▂▂▂▂▁▂▁▁▁▂▁▁▁▁▁▁▁▁▁▁▁▁▁▁▁▁▁▁▁▁▁</td></tr><tr><td>val_loss</td><td>▁███▇███▇▇██▆▇▇▇▆▇▆▆▇▆▆▆▆▆▆▆▅▆▆▆▆▇▆▆▆▆▆▆</td></tr><tr><td>val_root_mean_squared_error</td><td>▁▇▇▇▇██▇▆▇██▆▇▇▇▆▆▆▆▇▆▆▆▆▆▆▆▅▆▆▆▆▆▆▆▆▆▆▆</td></tr></table><br/></div><div class=\"wandb-col\">\n",
       "<h3>Run summary:</h3><br/><table class=\"wandb\"><tr><td>Mean Validation Loss (all folds)</td><td>2.27321</td></tr><tr><td>Mean Validation RMSE (all folds)</td><td>2.77641</td></tr><tr><td>best_epoch</td><td>1</td></tr><tr><td>best_val_loss</td><td>0.7563</td></tr><tr><td>epoch</td><td>249</td></tr><tr><td>loss</td><td>0.0169</td></tr><tr><td>root_mean_squared_error</td><td>0.18386</td></tr><tr><td>val_loss</td><td>2.1863</td></tr><tr><td>val_root_mean_squared_error</td><td>2.6909</td></tr></table>\n",
       "</div></div>\n",
       "Synced 5 W&B file(s), 0 media file(s), 0 artifact file(s) and 1 other file(s)\n",
       "<br/>Synced <strong style=\"color:#cdcd00\">still-sweep-2</strong>: <a href=\"https://wandb.ai/luiscostigan/house-price-prediction/runs/ucmjr66l\" target=\"_blank\">https://wandb.ai/luiscostigan/house-price-prediction/runs/ucmjr66l</a><br/>\n",
       "Find logs at: <code>./wandb/run-20220307_051950-ucmjr66l/logs</code><br/>\n"
      ],
      "text/plain": [
       "<IPython.core.display.HTML object>"
      ]
     },
     "metadata": {},
     "output_type": "display_data"
    },
    {
     "name": "stderr",
     "output_type": "stream",
     "text": [
      "\u001b[34m\u001b[1mwandb\u001b[0m: Sweep Agent: Waiting for job.\n",
      "\u001b[34m\u001b[1mwandb\u001b[0m: Job received.\n",
      "\u001b[34m\u001b[1mwandb\u001b[0m: Agent Starting Run: xne9i70c with config:\n",
      "\u001b[34m\u001b[1mwandb\u001b[0m: \tbatch_size: 16\n",
      "\u001b[34m\u001b[1mwandb\u001b[0m: \tdense1: 32\n",
      "\u001b[34m\u001b[1mwandb\u001b[0m: \tdense2: 32\n",
      "\u001b[34m\u001b[1mwandb\u001b[0m: \tdropout1: 0.1595234348965972\n",
      "\u001b[34m\u001b[1mwandb\u001b[0m: \tepochs: 750\n",
      "\u001b[34m\u001b[1mwandb\u001b[0m: wandb version 0.12.11 is available!  To upgrade, please run:\n",
      "\u001b[34m\u001b[1mwandb\u001b[0m:  $ pip install wandb --upgrade\n"
     ]
    },
    {
     "data": {
      "text/html": [
       "\n",
       "                    Syncing run <strong><a href=\"https://wandb.ai/luiscostigan/house-price-prediction/runs/xne9i70c\" target=\"_blank\">glorious-sweep-3</a></strong> to <a href=\"https://wandb.ai/luiscostigan/house-price-prediction\" target=\"_blank\">Weights & Biases</a> (<a href=\"https://docs.wandb.com/integrations/jupyter.html\" target=\"_blank\">docs</a>).<br/>\n",
       "Sweep page: <a href=\"https://wandb.ai/luiscostigan/house-price-prediction/sweeps/r64dtrnj\" target=\"_blank\">https://wandb.ai/luiscostigan/house-price-prediction/sweeps/r64dtrnj</a><br/>\n",
       "\n",
       "                "
      ],
      "text/plain": [
       "<IPython.core.display.HTML object>"
      ]
     },
     "metadata": {},
     "output_type": "display_data"
    },
    {
     "name": "stdout",
     "output_type": "stream",
     "text": [
      "37/37 [==============================] - 0s 1ms/step - loss: 0.9456 - root_mean_squared_error: 1.4478\n",
      "Score for fold 1: loss of 0.9455954432487488; root_mean_squared_error of 1.4478204250335693\n",
      "------------------------------------------------------------------------\n",
      "Score per fold\n",
      "------------------------------------------------------------------------\n",
      "> Fold 1 - Loss: 0.9455954432487488 - RMSE: 1.4478204250335693\n",
      "------------------------------------------------------------------------\n",
      "Average scores for all folds:\n",
      "> RMSE: 1.4478204250335693 (+- 0.0)\n",
      "> Loss: 0.9455954432487488\n",
      "------------------------------------------------------------------------\n"
     ]
    },
    {
     "data": {
      "text/html": [
       "<br/>Waiting for W&B process to finish, PID 30073... <strong style=\"color:green\">(success).</strong>"
      ],
      "text/plain": [
       "<IPython.core.display.HTML object>"
      ]
     },
     "metadata": {},
     "output_type": "display_data"
    },
    {
     "data": {
      "application/vnd.jupyter.widget-view+json": {
       "model_id": "de86d6847fa7452bbc9e2a15f4c591a8",
       "version_major": 2,
       "version_minor": 0
      },
      "text/plain": [
       "VBox(children=(Label(value=' 0.13MB of 0.13MB uploaded (0.00MB deduped)\\r'), FloatProgress(value=1.0, max=1.0)…"
      ]
     },
     "metadata": {},
     "output_type": "display_data"
    },
    {
     "data": {
      "text/html": [
       "<style>\n",
       "    table.wandb td:nth-child(1) { padding: 0 10px; text-align: right }\n",
       "    .wandb-row { display: flex; flex-direction: row; flex-wrap: wrap; width: 100% }\n",
       "    .wandb-col { display: flex; flex-direction: column; flex-basis: 100%; flex: 1; padding: 10px; }\n",
       "    </style>\n",
       "<div class=\"wandb-row\"><div class=\"wandb-col\">\n",
       "<h3>Run history:</h3><br/><table class=\"wandb\"><tr><td>Mean Validation Loss (all folds)</td><td>▁</td></tr><tr><td>Mean Validation RMSE (all folds)</td><td>▁</td></tr><tr><td>epoch</td><td>▁▁▁▂▂▂▂▂▂▃▃▃▃▃▄▄▄▄▄▄▅▅▅▅▅▅▆▆▆▆▆▇▇▇▇▇▇███</td></tr><tr><td>loss</td><td>█▃▂▁▁▁▁▁▁▁▁▁▁▁▁▁▁▁▁▁▁▁▁▁▁▁▁▁▁▁▁▁▁▁▁▁▁▁▁▁</td></tr><tr><td>root_mean_squared_error</td><td>█▅▃▂▂▂▂▂▂▂▂▂▁▁▁▁▁▁▁▁▁▁▁▁▁▁▁▁▁▁▁▁▁▁▁▁▁▁▁▁</td></tr><tr><td>val_loss</td><td>▁█▇▇▇▇▇▆▆▇▇▆▇▇▅▆▇▇▆▇▇▅▆▆▅▆▆▅▆▇▆▆▅▆▆▆▆▆▆▅</td></tr><tr><td>val_root_mean_squared_error</td><td>▁█▇▇▇▇▇▆▆▇▇▆▇▇▆▇▇▇▆▇▇▆▆▇▆▆▆▆▆▇▇▆▆▆▆▆▆▆▆▆</td></tr></table><br/></div><div class=\"wandb-col\">\n",
       "<h3>Run summary:</h3><br/><table class=\"wandb\"><tr><td>Mean Validation Loss (all folds)</td><td>0.9456</td></tr><tr><td>Mean Validation RMSE (all folds)</td><td>1.44782</td></tr><tr><td>best_epoch</td><td>6</td></tr><tr><td>best_val_loss</td><td>0.05512</td></tr><tr><td>epoch</td><td>749</td></tr><tr><td>loss</td><td>0.00707</td></tr><tr><td>root_mean_squared_error</td><td>0.11895</td></tr><tr><td>val_loss</td><td>0.9456</td></tr><tr><td>val_root_mean_squared_error</td><td>1.44782</td></tr></table>\n",
       "</div></div>\n",
       "Synced 5 W&B file(s), 0 media file(s), 0 artifact file(s) and 1 other file(s)\n",
       "<br/>Synced <strong style=\"color:#cdcd00\">glorious-sweep-3</strong>: <a href=\"https://wandb.ai/luiscostigan/house-price-prediction/runs/xne9i70c\" target=\"_blank\">https://wandb.ai/luiscostigan/house-price-prediction/runs/xne9i70c</a><br/>\n",
       "Find logs at: <code>./wandb/run-20220307_052038-xne9i70c/logs</code><br/>\n"
      ],
      "text/plain": [
       "<IPython.core.display.HTML object>"
      ]
     },
     "metadata": {},
     "output_type": "display_data"
    },
    {
     "name": "stderr",
     "output_type": "stream",
     "text": [
      "\u001b[34m\u001b[1mwandb\u001b[0m: wandb version 0.12.11 is available!  To upgrade, please run:\n",
      "\u001b[34m\u001b[1mwandb\u001b[0m:  $ pip install wandb --upgrade\n"
     ]
    },
    {
     "data": {
      "text/html": [
       "\n",
       "                    Syncing run <strong><a href=\"https://wandb.ai/luiscostigan/house-price-prediction/runs/xne9i70c\" target=\"_blank\">glorious-sweep-3</a></strong> to <a href=\"https://wandb.ai/luiscostigan/house-price-prediction\" target=\"_blank\">Weights & Biases</a> (<a href=\"https://docs.wandb.com/integrations/jupyter.html\" target=\"_blank\">docs</a>).<br/>\n",
       "Sweep page: <a href=\"https://wandb.ai/luiscostigan/house-price-prediction/sweeps/r64dtrnj\" target=\"_blank\">https://wandb.ai/luiscostigan/house-price-prediction/sweeps/r64dtrnj</a><br/>\n",
       "\n",
       "                "
      ],
      "text/plain": [
       "<IPython.core.display.HTML object>"
      ]
     },
     "metadata": {},
     "output_type": "display_data"
    },
    {
     "name": "stdout",
     "output_type": "stream",
     "text": [
      "37/37 [==============================] - 0s 2ms/step - loss: 1.1140 - root_mean_squared_error: 1.6165\n",
      "Score for fold 2: loss of 1.1140270233154297; root_mean_squared_error of 1.6165170669555664\n",
      "------------------------------------------------------------------------\n",
      "Score per fold\n",
      "------------------------------------------------------------------------\n",
      "> Fold 1 - Loss: 0.9455954432487488 - RMSE: 1.4478204250335693\n",
      "------------------------------------------------------------------------\n",
      "> Fold 2 - Loss: 1.1140270233154297 - RMSE: 1.6165170669555664\n",
      "------------------------------------------------------------------------\n",
      "Average scores for all folds:\n",
      "> RMSE: 1.5321687459945679 (+- 0.08434832096099854)\n",
      "> Loss: 1.0298112332820892\n",
      "------------------------------------------------------------------------\n"
     ]
    },
    {
     "data": {
      "text/html": [
       "<br/>Waiting for W&B process to finish, PID 12897... <strong style=\"color:green\">(success).</strong>"
      ],
      "text/plain": [
       "<IPython.core.display.HTML object>"
      ]
     },
     "metadata": {},
     "output_type": "display_data"
    },
    {
     "data": {
      "application/vnd.jupyter.widget-view+json": {
       "model_id": "5bc61e5b47304113b075122872cb68cd",
       "version_major": 2,
       "version_minor": 0
      },
      "text/plain": [
       "VBox(children=(Label(value=' 0.13MB of 0.13MB uploaded (0.00MB deduped)\\r'), FloatProgress(value=1.0, max=1.0)…"
      ]
     },
     "metadata": {},
     "output_type": "display_data"
    },
    {
     "data": {
      "text/html": [
       "<style>\n",
       "    table.wandb td:nth-child(1) { padding: 0 10px; text-align: right }\n",
       "    .wandb-row { display: flex; flex-direction: row; flex-wrap: wrap; width: 100% }\n",
       "    .wandb-col { display: flex; flex-direction: column; flex-basis: 100%; flex: 1; padding: 10px; }\n",
       "    </style>\n",
       "<div class=\"wandb-row\"><div class=\"wandb-col\">\n",
       "<h3>Run history:</h3><br/><table class=\"wandb\"><tr><td>Mean Validation Loss (all folds)</td><td>▁</td></tr><tr><td>Mean Validation RMSE (all folds)</td><td>▁</td></tr><tr><td>epoch</td><td>▁▁▁▂▂▂▂▂▂▃▃▃▃▃▄▄▄▄▄▄▅▅▅▅▅▅▆▆▆▆▆▇▇▇▇▇▇███</td></tr><tr><td>loss</td><td>█▃▂▂▁▁▁▁▁▁▁▁▁▁▁▁▁▁▁▁▁▁▁▁▁▁▁▁▁▁▁▁▁▁▁▁▁▁▁▁</td></tr><tr><td>root_mean_squared_error</td><td>█▄▃▃▂▂▃▂▂▂▂▂▂▂▂▂▁▁▁▁▂▁▁▁▁▁▁▁▁▁▁▁▁▁▁▁▁▁▁▁</td></tr><tr><td>val_loss</td><td>▁▆▇▅▆▆█▄▆▇▇▆▆▅▆▆▅▅▆▅▆▆▆▆▄▅▆▇▅▄▆▅▅▇▅▅▅▄▆▄</td></tr><tr><td>val_root_mean_squared_error</td><td>▁▆▇▅▆▆█▄▆▇▇▆▆▅▆▆▅▅▆▅▆▆▆▆▄▅▆▇▅▄▆▅▅▇▅▅▅▄▆▄</td></tr></table><br/></div><div class=\"wandb-col\">\n",
       "<h3>Run summary:</h3><br/><table class=\"wandb\"><tr><td>Mean Validation Loss (all folds)</td><td>1.02981</td></tr><tr><td>Mean Validation RMSE (all folds)</td><td>1.53217</td></tr><tr><td>best_epoch</td><td>2</td></tr><tr><td>best_val_loss</td><td>0.07046</td></tr><tr><td>epoch</td><td>749</td></tr><tr><td>loss</td><td>0.00727</td></tr><tr><td>root_mean_squared_error</td><td>0.12061</td></tr><tr><td>val_loss</td><td>1.11403</td></tr><tr><td>val_root_mean_squared_error</td><td>1.61652</td></tr></table>\n",
       "</div></div>\n",
       "Synced 5 W&B file(s), 0 media file(s), 0 artifact file(s) and 1 other file(s)\n",
       "<br/>Synced <strong style=\"color:#cdcd00\">glorious-sweep-3</strong>: <a href=\"https://wandb.ai/luiscostigan/house-price-prediction/runs/xne9i70c\" target=\"_blank\">https://wandb.ai/luiscostigan/house-price-prediction/runs/xne9i70c</a><br/>\n",
       "Find logs at: <code>./wandb/run-20220307_052214-xne9i70c/logs</code><br/>\n"
      ],
      "text/plain": [
       "<IPython.core.display.HTML object>"
      ]
     },
     "metadata": {},
     "output_type": "display_data"
    },
    {
     "name": "stderr",
     "output_type": "stream",
     "text": [
      "\u001b[34m\u001b[1mwandb\u001b[0m: wandb version 0.12.11 is available!  To upgrade, please run:\n",
      "\u001b[34m\u001b[1mwandb\u001b[0m:  $ pip install wandb --upgrade\n"
     ]
    },
    {
     "data": {
      "text/html": [
       "\n",
       "                    Syncing run <strong><a href=\"https://wandb.ai/luiscostigan/house-price-prediction/runs/xne9i70c\" target=\"_blank\">glorious-sweep-3</a></strong> to <a href=\"https://wandb.ai/luiscostigan/house-price-prediction\" target=\"_blank\">Weights & Biases</a> (<a href=\"https://docs.wandb.com/integrations/jupyter.html\" target=\"_blank\">docs</a>).<br/>\n",
       "Sweep page: <a href=\"https://wandb.ai/luiscostigan/house-price-prediction/sweeps/r64dtrnj\" target=\"_blank\">https://wandb.ai/luiscostigan/house-price-prediction/sweeps/r64dtrnj</a><br/>\n",
       "\n",
       "                "
      ],
      "text/plain": [
       "<IPython.core.display.HTML object>"
      ]
     },
     "metadata": {},
     "output_type": "display_data"
    },
    {
     "name": "stdout",
     "output_type": "stream",
     "text": [
      "37/37 [==============================] - 0s 1ms/step - loss: 1.0075 - root_mean_squared_error: 1.5092\n",
      "Score for fold 3: loss of 1.0074905157089233; root_mean_squared_error of 1.5091664791107178\n",
      "------------------------------------------------------------------------\n",
      "Score per fold\n",
      "------------------------------------------------------------------------\n",
      "> Fold 1 - Loss: 0.9455954432487488 - RMSE: 1.4478204250335693\n",
      "------------------------------------------------------------------------\n",
      "> Fold 2 - Loss: 1.1140270233154297 - RMSE: 1.6165170669555664\n",
      "------------------------------------------------------------------------\n",
      "> Fold 3 - Loss: 1.0074905157089233 - RMSE: 1.5091664791107178\n",
      "------------------------------------------------------------------------\n",
      "Average scores for all folds:\n",
      "> RMSE: 1.5245013236999512 (+- 0.06971851663592957)\n",
      "> Loss: 1.022370994091034\n",
      "------------------------------------------------------------------------\n"
     ]
    },
    {
     "data": {
      "text/html": [
       "<br/>Waiting for W&B process to finish, PID 28157... <strong style=\"color:green\">(success).</strong>"
      ],
      "text/plain": [
       "<IPython.core.display.HTML object>"
      ]
     },
     "metadata": {},
     "output_type": "display_data"
    },
    {
     "data": {
      "application/vnd.jupyter.widget-view+json": {
       "model_id": "29f6860137934f878030c919661170fd",
       "version_major": 2,
       "version_minor": 0
      },
      "text/plain": [
       "VBox(children=(Label(value=' 0.13MB of 0.13MB uploaded (0.00MB deduped)\\r'), FloatProgress(value=1.0, max=1.0)…"
      ]
     },
     "metadata": {},
     "output_type": "display_data"
    },
    {
     "data": {
      "text/html": [
       "<style>\n",
       "    table.wandb td:nth-child(1) { padding: 0 10px; text-align: right }\n",
       "    .wandb-row { display: flex; flex-direction: row; flex-wrap: wrap; width: 100% }\n",
       "    .wandb-col { display: flex; flex-direction: column; flex-basis: 100%; flex: 1; padding: 10px; }\n",
       "    </style>\n",
       "<div class=\"wandb-row\"><div class=\"wandb-col\">\n",
       "<h3>Run history:</h3><br/><table class=\"wandb\"><tr><td>Mean Validation Loss (all folds)</td><td>▁</td></tr><tr><td>Mean Validation RMSE (all folds)</td><td>▁</td></tr><tr><td>epoch</td><td>▁▁▁▂▂▂▂▂▂▃▃▃▃▃▄▄▄▄▄▄▅▅▅▅▅▅▆▆▆▆▆▇▇▇▇▇▇███</td></tr><tr><td>loss</td><td>█▃▂▂▂▂▁▁▂▁▁▁▁▁▁▁▁▁▁▁▁▁▁▁▁▁▁▁▁▁▁▁▁▁▁▁▁▁▁▁</td></tr><tr><td>root_mean_squared_error</td><td>█▄▃▃▂▂▂▂▃▂▂▂▂▂▂▁▁▁▁▁▂▂▁▁▁▁▁▁▁▁▁▁▁▁▁▁▁▁▁▁</td></tr><tr><td>val_loss</td><td>▆█▂▃▅▅▂▃▃▁▄▄▂▃▄▃▂▄▂▃▄▄▂▄▁▂▁▃▂▃▃▁▄▂▂▁▂▃▂▃</td></tr><tr><td>val_root_mean_squared_error</td><td>▆█▂▃▅▅▂▃▃▁▄▄▂▃▄▃▂▄▂▃▄▄▂▄▁▂▁▃▂▃▃▁▄▂▂▁▂▃▂▃</td></tr></table><br/></div><div class=\"wandb-col\">\n",
       "<h3>Run summary:</h3><br/><table class=\"wandb\"><tr><td>Mean Validation Loss (all folds)</td><td>1.02237</td></tr><tr><td>Mean Validation RMSE (all folds)</td><td>1.5245</td></tr><tr><td>best_epoch</td><td>2</td></tr><tr><td>best_val_loss</td><td>0.18639</td></tr><tr><td>epoch</td><td>749</td></tr><tr><td>loss</td><td>0.00694</td></tr><tr><td>root_mean_squared_error</td><td>0.1178</td></tr><tr><td>val_loss</td><td>1.00749</td></tr><tr><td>val_root_mean_squared_error</td><td>1.50917</td></tr></table>\n",
       "</div></div>\n",
       "Synced 5 W&B file(s), 0 media file(s), 0 artifact file(s) and 1 other file(s)\n",
       "<br/>Synced <strong style=\"color:#cdcd00\">glorious-sweep-3</strong>: <a href=\"https://wandb.ai/luiscostigan/house-price-prediction/runs/xne9i70c\" target=\"_blank\">https://wandb.ai/luiscostigan/house-price-prediction/runs/xne9i70c</a><br/>\n",
       "Find logs at: <code>./wandb/run-20220307_052352-xne9i70c/logs</code><br/>\n"
      ],
      "text/plain": [
       "<IPython.core.display.HTML object>"
      ]
     },
     "metadata": {},
     "output_type": "display_data"
    },
    {
     "name": "stderr",
     "output_type": "stream",
     "text": [
      "\u001b[34m\u001b[1mwandb\u001b[0m: wandb version 0.12.11 is available!  To upgrade, please run:\n",
      "\u001b[34m\u001b[1mwandb\u001b[0m:  $ pip install wandb --upgrade\n"
     ]
    },
    {
     "data": {
      "text/html": [
       "\n",
       "                    Syncing run <strong><a href=\"https://wandb.ai/luiscostigan/house-price-prediction/runs/xne9i70c\" target=\"_blank\">glorious-sweep-3</a></strong> to <a href=\"https://wandb.ai/luiscostigan/house-price-prediction\" target=\"_blank\">Weights & Biases</a> (<a href=\"https://docs.wandb.com/integrations/jupyter.html\" target=\"_blank\">docs</a>).<br/>\n",
       "Sweep page: <a href=\"https://wandb.ai/luiscostigan/house-price-prediction/sweeps/r64dtrnj\" target=\"_blank\">https://wandb.ai/luiscostigan/house-price-prediction/sweeps/r64dtrnj</a><br/>\n",
       "\n",
       "                "
      ],
      "text/plain": [
       "<IPython.core.display.HTML object>"
      ]
     },
     "metadata": {},
     "output_type": "display_data"
    },
    {
     "name": "stdout",
     "output_type": "stream",
     "text": [
      "37/37 [==============================] - 0s 1ms/step - loss: 1.1475 - root_mean_squared_error: 1.6492\n",
      "Score for fold 4: loss of 1.147540807723999; root_mean_squared_error of 1.6492058038711548\n",
      "------------------------------------------------------------------------\n",
      "Score per fold\n",
      "------------------------------------------------------------------------\n",
      "> Fold 1 - Loss: 0.9455954432487488 - RMSE: 1.4478204250335693\n",
      "------------------------------------------------------------------------\n",
      "> Fold 2 - Loss: 1.1140270233154297 - RMSE: 1.6165170669555664\n",
      "------------------------------------------------------------------------\n",
      "> Fold 3 - Loss: 1.0074905157089233 - RMSE: 1.5091664791107178\n",
      "------------------------------------------------------------------------\n",
      "> Fold 4 - Loss: 1.147540807723999 - RMSE: 1.6492058038711548\n",
      "------------------------------------------------------------------------\n",
      "Average scores for all folds:\n",
      "> RMSE: 1.555677443742752 (+- 0.08100219166297408)\n",
      "> Loss: 1.0536634474992752\n",
      "------------------------------------------------------------------------\n"
     ]
    },
    {
     "data": {
      "text/html": [
       "<br/>Waiting for W&B process to finish, PID 10997... <strong style=\"color:green\">(success).</strong>"
      ],
      "text/plain": [
       "<IPython.core.display.HTML object>"
      ]
     },
     "metadata": {},
     "output_type": "display_data"
    },
    {
     "data": {
      "application/vnd.jupyter.widget-view+json": {
       "model_id": "772ae95af6834fa49ea0c15fb3150b83",
       "version_major": 2,
       "version_minor": 0
      },
      "text/plain": [
       "VBox(children=(Label(value=' 0.13MB of 0.13MB uploaded (0.00MB deduped)\\r'), FloatProgress(value=1.0, max=1.0)…"
      ]
     },
     "metadata": {},
     "output_type": "display_data"
    },
    {
     "data": {
      "text/html": [
       "<style>\n",
       "    table.wandb td:nth-child(1) { padding: 0 10px; text-align: right }\n",
       "    .wandb-row { display: flex; flex-direction: row; flex-wrap: wrap; width: 100% }\n",
       "    .wandb-col { display: flex; flex-direction: column; flex-basis: 100%; flex: 1; padding: 10px; }\n",
       "    </style>\n",
       "<div class=\"wandb-row\"><div class=\"wandb-col\">\n",
       "<h3>Run history:</h3><br/><table class=\"wandb\"><tr><td>Mean Validation Loss (all folds)</td><td>▁</td></tr><tr><td>Mean Validation RMSE (all folds)</td><td>▁</td></tr><tr><td>epoch</td><td>▁▁▁▂▂▂▂▂▂▃▃▃▃▃▄▄▄▄▄▄▅▅▅▅▅▅▆▆▆▆▆▇▇▇▇▇▇███</td></tr><tr><td>loss</td><td>█▃▃▂▂▂▂▂▂▁▁▁▁▁▁▁▁▁▁▁▁▁▁▁▁▁▁▁▁▁▁▁▁▁▁▁▁▁▁▁</td></tr><tr><td>root_mean_squared_error</td><td>█▄▄▃▃▃▃▂▂▂▂▂▂▂▂▂▁▁▁▁▁▁▁▁▁▁▁▁▁▁▁▁▁▁▁▁▁▁▁▁</td></tr><tr><td>val_loss</td><td>▄▁▅▃▆█▅▄▇▃▇▃▂▃▄▆▃▆▆▃▆▄▆▅▃▄▇▅▆▃▆▅▃▃▅▅▃▅▄▄</td></tr><tr><td>val_root_mean_squared_error</td><td>▄▁▅▃▆█▅▄▇▃▇▃▂▃▄▆▃▆▆▃▆▄▆▅▃▄▇▅▆▃▆▅▃▃▅▅▃▅▄▄</td></tr></table><br/></div><div class=\"wandb-col\">\n",
       "<h3>Run summary:</h3><br/><table class=\"wandb\"><tr><td>Mean Validation Loss (all folds)</td><td>1.05366</td></tr><tr><td>Mean Validation RMSE (all folds)</td><td>1.55568</td></tr><tr><td>best_epoch</td><td>2</td></tr><tr><td>best_val_loss</td><td>0.34113</td></tr><tr><td>epoch</td><td>749</td></tr><tr><td>loss</td><td>0.00697</td></tr><tr><td>root_mean_squared_error</td><td>0.11809</td></tr><tr><td>val_loss</td><td>1.14754</td></tr><tr><td>val_root_mean_squared_error</td><td>1.64921</td></tr></table>\n",
       "</div></div>\n",
       "Synced 5 W&B file(s), 0 media file(s), 0 artifact file(s) and 1 other file(s)\n",
       "<br/>Synced <strong style=\"color:#cdcd00\">glorious-sweep-3</strong>: <a href=\"https://wandb.ai/luiscostigan/house-price-prediction/runs/xne9i70c\" target=\"_blank\">https://wandb.ai/luiscostigan/house-price-prediction/runs/xne9i70c</a><br/>\n",
       "Find logs at: <code>./wandb/run-20220307_052531-xne9i70c/logs</code><br/>\n"
      ],
      "text/plain": [
       "<IPython.core.display.HTML object>"
      ]
     },
     "metadata": {},
     "output_type": "display_data"
    },
    {
     "name": "stderr",
     "output_type": "stream",
     "text": [
      "\u001b[34m\u001b[1mwandb\u001b[0m: wandb version 0.12.11 is available!  To upgrade, please run:\n",
      "\u001b[34m\u001b[1mwandb\u001b[0m:  $ pip install wandb --upgrade\n"
     ]
    },
    {
     "data": {
      "text/html": [
       "\n",
       "                    Syncing run <strong><a href=\"https://wandb.ai/luiscostigan/house-price-prediction/runs/xne9i70c\" target=\"_blank\">glorious-sweep-3</a></strong> to <a href=\"https://wandb.ai/luiscostigan/house-price-prediction\" target=\"_blank\">Weights & Biases</a> (<a href=\"https://docs.wandb.com/integrations/jupyter.html\" target=\"_blank\">docs</a>).<br/>\n",
       "Sweep page: <a href=\"https://wandb.ai/luiscostigan/house-price-prediction/sweeps/r64dtrnj\" target=\"_blank\">https://wandb.ai/luiscostigan/house-price-prediction/sweeps/r64dtrnj</a><br/>\n",
       "\n",
       "                "
      ],
      "text/plain": [
       "<IPython.core.display.HTML object>"
      ]
     },
     "metadata": {},
     "output_type": "display_data"
    },
    {
     "name": "stdout",
     "output_type": "stream",
     "text": [
      "37/37 [==============================] - 0s 1ms/step - loss: 1.0579 - root_mean_squared_error: 1.5602\n",
      "Score for fold 5: loss of 1.0579484701156616; root_mean_squared_error of 1.560233473777771\n",
      "------------------------------------------------------------------------\n",
      "Score per fold\n",
      "------------------------------------------------------------------------\n",
      "> Fold 1 - Loss: 0.9455954432487488 - RMSE: 1.4478204250335693\n",
      "------------------------------------------------------------------------\n",
      "> Fold 2 - Loss: 1.1140270233154297 - RMSE: 1.6165170669555664\n",
      "------------------------------------------------------------------------\n",
      "> Fold 3 - Loss: 1.0074905157089233 - RMSE: 1.5091664791107178\n",
      "------------------------------------------------------------------------\n",
      "> Fold 4 - Loss: 1.147540807723999 - RMSE: 1.6492058038711548\n",
      "------------------------------------------------------------------------\n",
      "> Fold 5 - Loss: 1.0579484701156616 - RMSE: 1.560233473777771\n",
      "------------------------------------------------------------------------\n",
      "Average scores for all folds:\n",
      "> RMSE: 1.5565886497497559 (+- 0.07247347948672637)\n",
      "> Loss: 1.0545204520225524\n",
      "------------------------------------------------------------------------\n"
     ]
    },
    {
     "data": {
      "text/html": [
       "<br/>Waiting for W&B process to finish, PID 26298... <strong style=\"color:green\">(success).</strong>"
      ],
      "text/plain": [
       "<IPython.core.display.HTML object>"
      ]
     },
     "metadata": {},
     "output_type": "display_data"
    },
    {
     "data": {
      "application/vnd.jupyter.widget-view+json": {
       "model_id": "dabff181645f487dba91600c5042aed0",
       "version_major": 2,
       "version_minor": 0
      },
      "text/plain": [
       "VBox(children=(Label(value=' 0.13MB of 0.13MB uploaded (0.00MB deduped)\\r'), FloatProgress(value=1.0, max=1.0)…"
      ]
     },
     "metadata": {},
     "output_type": "display_data"
    },
    {
     "data": {
      "text/html": [
       "<style>\n",
       "    table.wandb td:nth-child(1) { padding: 0 10px; text-align: right }\n",
       "    .wandb-row { display: flex; flex-direction: row; flex-wrap: wrap; width: 100% }\n",
       "    .wandb-col { display: flex; flex-direction: column; flex-basis: 100%; flex: 1; padding: 10px; }\n",
       "    </style>\n",
       "<div class=\"wandb-row\"><div class=\"wandb-col\">\n",
       "<h3>Run history:</h3><br/><table class=\"wandb\"><tr><td>Mean Validation Loss (all folds)</td><td>▁</td></tr><tr><td>Mean Validation RMSE (all folds)</td><td>▁</td></tr><tr><td>epoch</td><td>▁▁▁▂▂▂▂▂▂▃▃▃▃▃▄▄▄▄▄▄▅▅▅▅▅▅▆▆▆▆▆▇▇▇▇▇▇███</td></tr><tr><td>loss</td><td>█▄▂▂▂▂▂▂▂▁▁▁▁▁▁▁▁▁▁▁▁▁▁▁▁▁▁▁▁▁▁▁▁▁▁▁▁▁▁▁</td></tr><tr><td>root_mean_squared_error</td><td>█▅▃▃▃▃▂▂▃▂▂▂▂▂▂▂▂▂▂▂▁▁▁▁▁▁▁▁▁▁▁▁▁▁▁▁▁▁▁▁</td></tr><tr><td>val_loss</td><td>▄▆▆█▃▂▇▅█▅▅▇▇▇▆▄▅▅▃▆▅▄▃▁▆▆▅▄▄▆▃▅▆▃▂▄▄▅▄▂</td></tr><tr><td>val_root_mean_squared_error</td><td>▄▆▆█▃▂▇▅█▅▅▇▇▇▆▄▅▅▃▆▅▄▃▁▆▆▅▄▄▆▃▅▆▃▂▄▄▅▄▂</td></tr></table><br/></div><div class=\"wandb-col\">\n",
       "<h3>Run summary:</h3><br/><table class=\"wandb\"><tr><td>Mean Validation Loss (all folds)</td><td>1.05452</td></tr><tr><td>Mean Validation RMSE (all folds)</td><td>1.55659</td></tr><tr><td>best_epoch</td><td>1</td></tr><tr><td>best_val_loss</td><td>0.13757</td></tr><tr><td>epoch</td><td>749</td></tr><tr><td>loss</td><td>0.00741</td></tr><tr><td>root_mean_squared_error</td><td>0.12174</td></tr><tr><td>val_loss</td><td>1.05795</td></tr><tr><td>val_root_mean_squared_error</td><td>1.56023</td></tr></table>\n",
       "</div></div>\n",
       "Synced 5 W&B file(s), 0 media file(s), 0 artifact file(s) and 1 other file(s)\n",
       "<br/>Synced <strong style=\"color:#cdcd00\">glorious-sweep-3</strong>: <a href=\"https://wandb.ai/luiscostigan/house-price-prediction/runs/xne9i70c\" target=\"_blank\">https://wandb.ai/luiscostigan/house-price-prediction/runs/xne9i70c</a><br/>\n",
       "Find logs at: <code>./wandb/run-20220307_052714-xne9i70c/logs</code><br/>\n"
      ],
      "text/plain": [
       "<IPython.core.display.HTML object>"
      ]
     },
     "metadata": {},
     "output_type": "display_data"
    },
    {
     "name": "stderr",
     "output_type": "stream",
     "text": [
      "\u001b[34m\u001b[1mwandb\u001b[0m: Agent Starting Run: kze4q5l9 with config:\n",
      "\u001b[34m\u001b[1mwandb\u001b[0m: \tbatch_size: 64\n",
      "\u001b[34m\u001b[1mwandb\u001b[0m: \tdense1: 8\n",
      "\u001b[34m\u001b[1mwandb\u001b[0m: \tdense2: 32\n",
      "\u001b[34m\u001b[1mwandb\u001b[0m: \tdropout1: 0.002116252562712917\n",
      "\u001b[34m\u001b[1mwandb\u001b[0m: \tepochs: 750\n",
      "\u001b[34m\u001b[1mwandb\u001b[0m: wandb version 0.12.11 is available!  To upgrade, please run:\n",
      "\u001b[34m\u001b[1mwandb\u001b[0m:  $ pip install wandb --upgrade\n"
     ]
    },
    {
     "data": {
      "text/html": [
       "\n",
       "                    Syncing run <strong><a href=\"https://wandb.ai/luiscostigan/house-price-prediction/runs/kze4q5l9\" target=\"_blank\">lively-sweep-4</a></strong> to <a href=\"https://wandb.ai/luiscostigan/house-price-prediction\" target=\"_blank\">Weights & Biases</a> (<a href=\"https://docs.wandb.com/integrations/jupyter.html\" target=\"_blank\">docs</a>).<br/>\n",
       "Sweep page: <a href=\"https://wandb.ai/luiscostigan/house-price-prediction/sweeps/r64dtrnj\" target=\"_blank\">https://wandb.ai/luiscostigan/house-price-prediction/sweeps/r64dtrnj</a><br/>\n",
       "\n",
       "                "
      ],
      "text/plain": [
       "<IPython.core.display.HTML object>"
      ]
     },
     "metadata": {},
     "output_type": "display_data"
    },
    {
     "name": "stdout",
     "output_type": "stream",
     "text": [
      "37/37 [==============================] - 0s 842us/step - loss: 0.0231 - root_mean_squared_error: 0.2149\n",
      "Score for fold 1: loss of 0.023090863600373268; root_mean_squared_error of 0.21489934623241425\n",
      "------------------------------------------------------------------------\n",
      "Score per fold\n",
      "------------------------------------------------------------------------\n",
      "> Fold 1 - Loss: 0.023090863600373268 - RMSE: 0.21489934623241425\n",
      "------------------------------------------------------------------------\n",
      "Average scores for all folds:\n",
      "> RMSE: 0.21489934623241425 (+- 0.0)\n",
      "> Loss: 0.023090863600373268\n",
      "------------------------------------------------------------------------\n"
     ]
    },
    {
     "data": {
      "text/html": [
       "<br/>Waiting for W&B process to finish, PID 9148... <strong style=\"color:green\">(success).</strong>"
      ],
      "text/plain": [
       "<IPython.core.display.HTML object>"
      ]
     },
     "metadata": {},
     "output_type": "display_data"
    },
    {
     "data": {
      "application/vnd.jupyter.widget-view+json": {
       "model_id": "7450a4047ede4ff0b83ce62dd99c8509",
       "version_major": 2,
       "version_minor": 0
      },
      "text/plain": [
       "VBox(children=(Label(value=' 0.12MB of 0.12MB uploaded (0.00MB deduped)\\r'), FloatProgress(value=1.0, max=1.0)…"
      ]
     },
     "metadata": {},
     "output_type": "display_data"
    },
    {
     "data": {
      "text/html": [
       "<style>\n",
       "    table.wandb td:nth-child(1) { padding: 0 10px; text-align: right }\n",
       "    .wandb-row { display: flex; flex-direction: row; flex-wrap: wrap; width: 100% }\n",
       "    .wandb-col { display: flex; flex-direction: column; flex-basis: 100%; flex: 1; padding: 10px; }\n",
       "    </style>\n",
       "<div class=\"wandb-row\"><div class=\"wandb-col\">\n",
       "<h3>Run history:</h3><br/><table class=\"wandb\"><tr><td>Mean Validation Loss (all folds)</td><td>▁</td></tr><tr><td>Mean Validation RMSE (all folds)</td><td>▁</td></tr><tr><td>epoch</td><td>▁▁▁▂▂▂▂▂▂▃▃▃▃▃▄▄▄▄▄▄▅▅▅▅▅▅▆▆▆▆▆▇▇▇▇▇▇███</td></tr><tr><td>loss</td><td>▆▇▅▆▅▆▄▆█▆▆▄▄▃▃▄▃▂▂▂▁▂▁▁▁▂▂▁▂▁▂▁▂▁▂▁▁▁▁▁</td></tr><tr><td>root_mean_squared_error</td><td>▄▆▄▆▄▆▃▅█▇▇▄▅▃▃▄▂▂▂▂▁▁▁▁▁▁▂▁▁▁▁▁▁▁▁▁▁▁▁▁</td></tr><tr><td>val_loss</td><td>▅▃█▄▆▆▂▅▃▄▄▄▅▅▃▃▃▂▃▂▄▂▂▄▄▃▂▁▃▃▃▃▂▂▂▂▃▁▃▁</td></tr><tr><td>val_root_mean_squared_error</td><td>▆▄█▅▇▇▂▆▄▅▅▅▆▆▄▄▄▃▄▃▅▃▂▅▅▄▃▂▅▄▄▃▃▃▃▂▄▂▄▁</td></tr></table><br/></div><div class=\"wandb-col\">\n",
       "<h3>Run summary:</h3><br/><table class=\"wandb\"><tr><td>Mean Validation Loss (all folds)</td><td>0.02309</td></tr><tr><td>Mean Validation RMSE (all folds)</td><td>0.2149</td></tr><tr><td>best_epoch</td><td>700</td></tr><tr><td>best_val_loss</td><td>0.00179</td></tr><tr><td>epoch</td><td>749</td></tr><tr><td>loss</td><td>0.0128</td></tr><tr><td>root_mean_squared_error</td><td>0.16004</td></tr><tr><td>val_loss</td><td>0.02309</td></tr><tr><td>val_root_mean_squared_error</td><td>0.2149</td></tr></table>\n",
       "</div></div>\n",
       "Synced 5 W&B file(s), 0 media file(s), 0 artifact file(s) and 1 other file(s)\n",
       "<br/>Synced <strong style=\"color:#cdcd00\">lively-sweep-4</strong>: <a href=\"https://wandb.ai/luiscostigan/house-price-prediction/runs/kze4q5l9\" target=\"_blank\">https://wandb.ai/luiscostigan/house-price-prediction/runs/kze4q5l9</a><br/>\n",
       "Find logs at: <code>./wandb/run-20220307_052854-kze4q5l9/logs</code><br/>\n"
      ],
      "text/plain": [
       "<IPython.core.display.HTML object>"
      ]
     },
     "metadata": {},
     "output_type": "display_data"
    },
    {
     "name": "stderr",
     "output_type": "stream",
     "text": [
      "\u001b[34m\u001b[1mwandb\u001b[0m: wandb version 0.12.11 is available!  To upgrade, please run:\n",
      "\u001b[34m\u001b[1mwandb\u001b[0m:  $ pip install wandb --upgrade\n"
     ]
    },
    {
     "data": {
      "text/html": [
       "\n",
       "                    Syncing run <strong><a href=\"https://wandb.ai/luiscostigan/house-price-prediction/runs/kze4q5l9\" target=\"_blank\">lively-sweep-4</a></strong> to <a href=\"https://wandb.ai/luiscostigan/house-price-prediction\" target=\"_blank\">Weights & Biases</a> (<a href=\"https://docs.wandb.com/integrations/jupyter.html\" target=\"_blank\">docs</a>).<br/>\n",
       "Sweep page: <a href=\"https://wandb.ai/luiscostigan/house-price-prediction/sweeps/r64dtrnj\" target=\"_blank\">https://wandb.ai/luiscostigan/house-price-prediction/sweeps/r64dtrnj</a><br/>\n",
       "\n",
       "                "
      ],
      "text/plain": [
       "<IPython.core.display.HTML object>"
      ]
     },
     "metadata": {},
     "output_type": "display_data"
    },
    {
     "name": "stdout",
     "output_type": "stream",
     "text": [
      "37/37 [==============================] - 0s 864us/step - loss: 0.0090 - root_mean_squared_error: 0.1342\n",
      "Score for fold 2: loss of 0.009005195461213589; root_mean_squared_error of 0.13420279324054718\n",
      "------------------------------------------------------------------------\n",
      "Score per fold\n",
      "------------------------------------------------------------------------\n",
      "> Fold 1 - Loss: 0.023090863600373268 - RMSE: 0.21489934623241425\n",
      "------------------------------------------------------------------------\n",
      "> Fold 2 - Loss: 0.009005195461213589 - RMSE: 0.13420279324054718\n",
      "------------------------------------------------------------------------\n",
      "Average scores for all folds:\n",
      "> RMSE: 0.1745510697364807 (+- 0.04034827649593353)\n",
      "> Loss: 0.01604802953079343\n",
      "------------------------------------------------------------------------\n"
     ]
    },
    {
     "data": {
      "text/html": [
       "<br/>Waiting for W&B process to finish, PID 23905... <strong style=\"color:green\">(success).</strong>"
      ],
      "text/plain": [
       "<IPython.core.display.HTML object>"
      ]
     },
     "metadata": {},
     "output_type": "display_data"
    },
    {
     "data": {
      "application/vnd.jupyter.widget-view+json": {
       "model_id": "94bd76c128a344739134b8c5484d48de",
       "version_major": 2,
       "version_minor": 0
      },
      "text/plain": [
       "VBox(children=(Label(value=' 0.12MB of 0.12MB uploaded (0.00MB deduped)\\r'), FloatProgress(value=1.0, max=1.0)…"
      ]
     },
     "metadata": {},
     "output_type": "display_data"
    },
    {
     "data": {
      "text/html": [
       "<style>\n",
       "    table.wandb td:nth-child(1) { padding: 0 10px; text-align: right }\n",
       "    .wandb-row { display: flex; flex-direction: row; flex-wrap: wrap; width: 100% }\n",
       "    .wandb-col { display: flex; flex-direction: column; flex-basis: 100%; flex: 1; padding: 10px; }\n",
       "    </style>\n",
       "<div class=\"wandb-row\"><div class=\"wandb-col\">\n",
       "<h3>Run history:</h3><br/><table class=\"wandb\"><tr><td>Mean Validation Loss (all folds)</td><td>▁</td></tr><tr><td>Mean Validation RMSE (all folds)</td><td>▁</td></tr><tr><td>epoch</td><td>▁▁▁▂▂▂▂▂▂▃▃▃▃▃▄▄▄▄▄▄▅▅▅▅▅▅▆▆▆▆▆▇▇▇▇▇▇███</td></tr><tr><td>loss</td><td>█▆▅▅▃▃▃▄▃▃▂▃▃▃▂▂▂▂▂▂▁▂▂▂▂▂▂▁▁▁▁▁▁▁▁▁▁▁▁▂</td></tr><tr><td>root_mean_squared_error</td><td>█▆▄▅▃▃▃▄▃▃▂▃▃▂▂▂▂▂▂▂▁▂▂▂▂▂▂▁▁▁▁▁▁▁▁▂▁▁▁▂</td></tr><tr><td>val_loss</td><td>▆█▅▆▅▅▂▂▃▂▂▄▂▂▁▂▃▄▃▂█▃▆▁▂▂▁▁▂▂▄▂▁▁▂▁▂▂▂▁</td></tr><tr><td>val_root_mean_squared_error</td><td>▆█▆▇▅▆▃▃▃▃▃▅▃▂▁▂▄▅▄▂█▄▇▁▃▂▁▁▂▃▅▃▂▁▃▂▂▂▂▂</td></tr></table><br/></div><div class=\"wandb-col\">\n",
       "<h3>Run summary:</h3><br/><table class=\"wandb\"><tr><td>Mean Validation Loss (all folds)</td><td>0.01605</td></tr><tr><td>Mean Validation RMSE (all folds)</td><td>0.17455</td></tr><tr><td>best_epoch</td><td>747</td></tr><tr><td>best_val_loss</td><td>0.00195</td></tr><tr><td>epoch</td><td>749</td></tr><tr><td>loss</td><td>0.01175</td></tr><tr><td>root_mean_squared_error</td><td>0.15331</td></tr><tr><td>val_loss</td><td>0.00901</td></tr><tr><td>val_root_mean_squared_error</td><td>0.1342</td></tr></table>\n",
       "</div></div>\n",
       "Synced 5 W&B file(s), 0 media file(s), 0 artifact file(s) and 1 other file(s)\n",
       "<br/>Synced <strong style=\"color:#cdcd00\">lively-sweep-4</strong>: <a href=\"https://wandb.ai/luiscostigan/house-price-prediction/runs/kze4q5l9\" target=\"_blank\">https://wandb.ai/luiscostigan/house-price-prediction/runs/kze4q5l9</a><br/>\n",
       "Find logs at: <code>./wandb/run-20220307_052940-kze4q5l9/logs</code><br/>\n"
      ],
      "text/plain": [
       "<IPython.core.display.HTML object>"
      ]
     },
     "metadata": {},
     "output_type": "display_data"
    },
    {
     "name": "stderr",
     "output_type": "stream",
     "text": [
      "\u001b[34m\u001b[1mwandb\u001b[0m: wandb version 0.12.11 is available!  To upgrade, please run:\n",
      "\u001b[34m\u001b[1mwandb\u001b[0m:  $ pip install wandb --upgrade\n"
     ]
    },
    {
     "data": {
      "text/html": [
       "\n",
       "                    Syncing run <strong><a href=\"https://wandb.ai/luiscostigan/house-price-prediction/runs/kze4q5l9\" target=\"_blank\">lively-sweep-4</a></strong> to <a href=\"https://wandb.ai/luiscostigan/house-price-prediction\" target=\"_blank\">Weights & Biases</a> (<a href=\"https://docs.wandb.com/integrations/jupyter.html\" target=\"_blank\">docs</a>).<br/>\n",
       "Sweep page: <a href=\"https://wandb.ai/luiscostigan/house-price-prediction/sweeps/r64dtrnj\" target=\"_blank\">https://wandb.ai/luiscostigan/house-price-prediction/sweeps/r64dtrnj</a><br/>\n",
       "\n",
       "                "
      ],
      "text/plain": [
       "<IPython.core.display.HTML object>"
      ]
     },
     "metadata": {},
     "output_type": "display_data"
    },
    {
     "name": "stdout",
     "output_type": "stream",
     "text": [
      "37/37 [==============================] - 0s 915us/step - loss: 0.0095 - root_mean_squared_error: 0.1379\n",
      "Score for fold 3: loss of 0.009504894725978374; root_mean_squared_error of 0.1378759890794754\n",
      "------------------------------------------------------------------------\n",
      "Score per fold\n",
      "------------------------------------------------------------------------\n",
      "> Fold 1 - Loss: 0.023090863600373268 - RMSE: 0.21489934623241425\n",
      "------------------------------------------------------------------------\n",
      "> Fold 2 - Loss: 0.009005195461213589 - RMSE: 0.13420279324054718\n",
      "------------------------------------------------------------------------\n",
      "> Fold 3 - Loss: 0.009504894725978374 - RMSE: 0.1378759890794754\n",
      "------------------------------------------------------------------------\n",
      "Average scores for all folds:\n",
      "> RMSE: 0.16232604285081229 (+- 0.03720517225026874)\n",
      "> Loss: 0.013866984595855078\n",
      "------------------------------------------------------------------------\n"
     ]
    },
    {
     "data": {
      "text/html": [
       "<br/>Waiting for W&B process to finish, PID 6337... <strong style=\"color:green\">(success).</strong>"
      ],
      "text/plain": [
       "<IPython.core.display.HTML object>"
      ]
     },
     "metadata": {},
     "output_type": "display_data"
    },
    {
     "data": {
      "application/vnd.jupyter.widget-view+json": {
       "model_id": "70da0bac8266466f9c8fb6819af9f6e7",
       "version_major": 2,
       "version_minor": 0
      },
      "text/plain": [
       "VBox(children=(Label(value=' 0.12MB of 0.12MB uploaded (0.00MB deduped)\\r'), FloatProgress(value=1.0, max=1.0)…"
      ]
     },
     "metadata": {},
     "output_type": "display_data"
    },
    {
     "data": {
      "text/html": [
       "<style>\n",
       "    table.wandb td:nth-child(1) { padding: 0 10px; text-align: right }\n",
       "    .wandb-row { display: flex; flex-direction: row; flex-wrap: wrap; width: 100% }\n",
       "    .wandb-col { display: flex; flex-direction: column; flex-basis: 100%; flex: 1; padding: 10px; }\n",
       "    </style>\n",
       "<div class=\"wandb-row\"><div class=\"wandb-col\">\n",
       "<h3>Run history:</h3><br/><table class=\"wandb\"><tr><td>Mean Validation Loss (all folds)</td><td>▁</td></tr><tr><td>Mean Validation RMSE (all folds)</td><td>▁</td></tr><tr><td>epoch</td><td>▁▁▁▂▂▂▂▂▂▃▃▃▃▃▄▄▄▄▄▄▅▅▅▅▅▅▆▆▆▆▆▇▇▇▇▇▇███</td></tr><tr><td>loss</td><td>▇██▆▅▄▄▃▄▄▃▃▃▃▃▃▂▃▂▂▂▂▃▂▂▂▂▂▂▁▂▂▁▁▁▂▁▁▁▁</td></tr><tr><td>root_mean_squared_error</td><td>▆██▆▄▄▄▃▄▃▃▃▃▃▃▃▂▃▂▂▂▂▃▂▂▂▂▂▂▁▂▂▁▂▂▂▂▁▁▁</td></tr><tr><td>val_loss</td><td>█▂▅▄▃▆▇▅▆▂▂▂▂▂▂▄▁▃▁▃▃▅▂▂▂▂▂▂▂▃▃▂▁▃▃▃▁▃▃▁</td></tr><tr><td>val_root_mean_squared_error</td><td>█▃▆▆▄▇▇▆▆▃▃▃▃▃▃▅▂▄▂▅▄▆▃▃▄▃▃▃▄▄▄▃▁▄▄▄▁▄▄▁</td></tr></table><br/></div><div class=\"wandb-col\">\n",
       "<h3>Run summary:</h3><br/><table class=\"wandb\"><tr><td>Mean Validation Loss (all folds)</td><td>0.01387</td></tr><tr><td>Mean Validation RMSE (all folds)</td><td>0.16233</td></tr><tr><td>best_epoch</td><td>722</td></tr><tr><td>best_val_loss</td><td>0.00176</td></tr><tr><td>epoch</td><td>749</td></tr><tr><td>loss</td><td>0.01343</td></tr><tr><td>root_mean_squared_error</td><td>0.16396</td></tr><tr><td>val_loss</td><td>0.0095</td></tr><tr><td>val_root_mean_squared_error</td><td>0.13788</td></tr></table>\n",
       "</div></div>\n",
       "Synced 5 W&B file(s), 0 media file(s), 0 artifact file(s) and 1 other file(s)\n",
       "<br/>Synced <strong style=\"color:#cdcd00\">lively-sweep-4</strong>: <a href=\"https://wandb.ai/luiscostigan/house-price-prediction/runs/kze4q5l9\" target=\"_blank\">https://wandb.ai/luiscostigan/house-price-prediction/runs/kze4q5l9</a><br/>\n",
       "Find logs at: <code>./wandb/run-20220307_053025-kze4q5l9/logs</code><br/>\n"
      ],
      "text/plain": [
       "<IPython.core.display.HTML object>"
      ]
     },
     "metadata": {},
     "output_type": "display_data"
    },
    {
     "name": "stderr",
     "output_type": "stream",
     "text": [
      "\u001b[34m\u001b[1mwandb\u001b[0m: wandb version 0.12.11 is available!  To upgrade, please run:\n",
      "\u001b[34m\u001b[1mwandb\u001b[0m:  $ pip install wandb --upgrade\n"
     ]
    },
    {
     "data": {
      "text/html": [
       "\n",
       "                    Syncing run <strong><a href=\"https://wandb.ai/luiscostigan/house-price-prediction/runs/kze4q5l9\" target=\"_blank\">lively-sweep-4</a></strong> to <a href=\"https://wandb.ai/luiscostigan/house-price-prediction\" target=\"_blank\">Weights & Biases</a> (<a href=\"https://docs.wandb.com/integrations/jupyter.html\" target=\"_blank\">docs</a>).<br/>\n",
       "Sweep page: <a href=\"https://wandb.ai/luiscostigan/house-price-prediction/sweeps/r64dtrnj\" target=\"_blank\">https://wandb.ai/luiscostigan/house-price-prediction/sweeps/r64dtrnj</a><br/>\n",
       "\n",
       "                "
      ],
      "text/plain": [
       "<IPython.core.display.HTML object>"
      ]
     },
     "metadata": {},
     "output_type": "display_data"
    },
    {
     "name": "stdout",
     "output_type": "stream",
     "text": [
      "37/37 [==============================] - 0s 844us/step - loss: 0.0104 - root_mean_squared_error: 0.1445\n",
      "Score for fold 4: loss of 0.010440532118082047; root_mean_squared_error of 0.14450281858444214\n",
      "------------------------------------------------------------------------\n",
      "Score per fold\n",
      "------------------------------------------------------------------------\n",
      "> Fold 1 - Loss: 0.023090863600373268 - RMSE: 0.21489934623241425\n",
      "------------------------------------------------------------------------\n",
      "> Fold 2 - Loss: 0.009005195461213589 - RMSE: 0.13420279324054718\n",
      "------------------------------------------------------------------------\n",
      "> Fold 3 - Loss: 0.009504894725978374 - RMSE: 0.1378759890794754\n",
      "------------------------------------------------------------------------\n",
      "> Fold 4 - Loss: 0.010440532118082047 - RMSE: 0.14450281858444214\n",
      "------------------------------------------------------------------------\n",
      "Average scores for all folds:\n",
      "> RMSE: 0.15787023678421974 (+- 0.0331320276279369)\n",
      "> Loss: 0.01301037147641182\n",
      "------------------------------------------------------------------------\n"
     ]
    },
    {
     "data": {
      "text/html": [
       "<br/>Waiting for W&B process to finish, PID 21093... <strong style=\"color:green\">(success).</strong>"
      ],
      "text/plain": [
       "<IPython.core.display.HTML object>"
      ]
     },
     "metadata": {},
     "output_type": "display_data"
    },
    {
     "data": {
      "application/vnd.jupyter.widget-view+json": {
       "model_id": "103ff136b21e4ae79d7bc70ee81b19ef",
       "version_major": 2,
       "version_minor": 0
      },
      "text/plain": [
       "VBox(children=(Label(value=' 0.12MB of 0.12MB uploaded (0.00MB deduped)\\r'), FloatProgress(value=1.0, max=1.0)…"
      ]
     },
     "metadata": {},
     "output_type": "display_data"
    },
    {
     "data": {
      "text/html": [
       "<style>\n",
       "    table.wandb td:nth-child(1) { padding: 0 10px; text-align: right }\n",
       "    .wandb-row { display: flex; flex-direction: row; flex-wrap: wrap; width: 100% }\n",
       "    .wandb-col { display: flex; flex-direction: column; flex-basis: 100%; flex: 1; padding: 10px; }\n",
       "    </style>\n",
       "<div class=\"wandb-row\"><div class=\"wandb-col\">\n",
       "<h3>Run history:</h3><br/><table class=\"wandb\"><tr><td>Mean Validation Loss (all folds)</td><td>▁</td></tr><tr><td>Mean Validation RMSE (all folds)</td><td>▁</td></tr><tr><td>epoch</td><td>▁▁▁▂▂▂▂▂▂▃▃▃▃▃▄▄▄▄▄▄▅▅▅▅▅▅▆▆▆▆▆▇▇▇▇▇▇███</td></tr><tr><td>loss</td><td>█▇▅▆▅▄▄▃▄▃▃▃▂▂▂▂▂▂▂▂▂▁▁▂▂▂▁▁▁▁▁▁▁▁▁▁▁▁▁▁</td></tr><tr><td>root_mean_squared_error</td><td>█▇▅▆▅▄▄▄▄▃▃▃▂▂▂▂▂▂▂▂▂▂▂▂▂▂▂▁▂▁▁▁▁▁▂▁▁▁▁▁</td></tr><tr><td>val_loss</td><td>▅▂▂▃▃▃▅▆▄▂▆▂█▁▃▃▂▃▂▁▁▄▁▄▃▃▂▄▂▂▂▁▃▁▁▁▁▂▄▂</td></tr><tr><td>val_root_mean_squared_error</td><td>▆▃▃▄▄▄▆▆▅▂▇▃█▂▄▄▃▄▃▂▂▅▂▅▄▄▂▆▂▂▃▂▄▂▁▁▁▂▅▂</td></tr></table><br/></div><div class=\"wandb-col\">\n",
       "<h3>Run summary:</h3><br/><table class=\"wandb\"><tr><td>Mean Validation Loss (all folds)</td><td>0.01301</td></tr><tr><td>Mean Validation RMSE (all folds)</td><td>0.15787</td></tr><tr><td>best_epoch</td><td>696</td></tr><tr><td>best_val_loss</td><td>0.00148</td></tr><tr><td>epoch</td><td>749</td></tr><tr><td>loss</td><td>0.01042</td></tr><tr><td>root_mean_squared_error</td><td>0.14438</td></tr><tr><td>val_loss</td><td>0.01044</td></tr><tr><td>val_root_mean_squared_error</td><td>0.1445</td></tr></table>\n",
       "</div></div>\n",
       "Synced 5 W&B file(s), 0 media file(s), 0 artifact file(s) and 1 other file(s)\n",
       "<br/>Synced <strong style=\"color:#cdcd00\">lively-sweep-4</strong>: <a href=\"https://wandb.ai/luiscostigan/house-price-prediction/runs/kze4q5l9\" target=\"_blank\">https://wandb.ai/luiscostigan/house-price-prediction/runs/kze4q5l9</a><br/>\n",
       "Find logs at: <code>./wandb/run-20220307_053110-kze4q5l9/logs</code><br/>\n"
      ],
      "text/plain": [
       "<IPython.core.display.HTML object>"
      ]
     },
     "metadata": {},
     "output_type": "display_data"
    },
    {
     "name": "stderr",
     "output_type": "stream",
     "text": [
      "\u001b[34m\u001b[1mwandb\u001b[0m: wandb version 0.12.11 is available!  To upgrade, please run:\n",
      "\u001b[34m\u001b[1mwandb\u001b[0m:  $ pip install wandb --upgrade\n"
     ]
    },
    {
     "data": {
      "text/html": [
       "\n",
       "                    Syncing run <strong><a href=\"https://wandb.ai/luiscostigan/house-price-prediction/runs/kze4q5l9\" target=\"_blank\">lively-sweep-4</a></strong> to <a href=\"https://wandb.ai/luiscostigan/house-price-prediction\" target=\"_blank\">Weights & Biases</a> (<a href=\"https://docs.wandb.com/integrations/jupyter.html\" target=\"_blank\">docs</a>).<br/>\n",
       "Sweep page: <a href=\"https://wandb.ai/luiscostigan/house-price-prediction/sweeps/r64dtrnj\" target=\"_blank\">https://wandb.ai/luiscostigan/house-price-prediction/sweeps/r64dtrnj</a><br/>\n",
       "\n",
       "                "
      ],
      "text/plain": [
       "<IPython.core.display.HTML object>"
      ]
     },
     "metadata": {},
     "output_type": "display_data"
    },
    {
     "name": "stdout",
     "output_type": "stream",
     "text": [
      "37/37 [==============================] - 0s 780us/step - loss: 0.0047 - root_mean_squared_error: 0.0966\n",
      "Score for fold 5: loss of 0.004667839966714382; root_mean_squared_error of 0.0966213196516037\n",
      "------------------------------------------------------------------------\n",
      "Score per fold\n",
      "------------------------------------------------------------------------\n",
      "> Fold 1 - Loss: 0.023090863600373268 - RMSE: 0.21489934623241425\n",
      "------------------------------------------------------------------------\n",
      "> Fold 2 - Loss: 0.009005195461213589 - RMSE: 0.13420279324054718\n",
      "------------------------------------------------------------------------\n",
      "> Fold 3 - Loss: 0.009504894725978374 - RMSE: 0.1378759890794754\n",
      "------------------------------------------------------------------------\n",
      "> Fold 4 - Loss: 0.010440532118082047 - RMSE: 0.14450281858444214\n",
      "------------------------------------------------------------------------\n",
      "> Fold 5 - Loss: 0.004667839966714382 - RMSE: 0.0966213196516037\n",
      "------------------------------------------------------------------------\n",
      "Average scores for all folds:\n",
      "> RMSE: 0.14562045335769652 (+- 0.03845014668083322)\n",
      "> Loss: 0.011341865174472332\n",
      "------------------------------------------------------------------------\n"
     ]
    },
    {
     "data": {
      "text/html": [
       "<br/>Waiting for W&B process to finish, PID 3520... <strong style=\"color:green\">(success).</strong>"
      ],
      "text/plain": [
       "<IPython.core.display.HTML object>"
      ]
     },
     "metadata": {},
     "output_type": "display_data"
    },
    {
     "data": {
      "application/vnd.jupyter.widget-view+json": {
       "model_id": "956000b70f804c91bd6f68b6a5d77cec",
       "version_major": 2,
       "version_minor": 0
      },
      "text/plain": [
       "VBox(children=(Label(value=' 0.12MB of 0.12MB uploaded (0.00MB deduped)\\r'), FloatProgress(value=1.0, max=1.0)…"
      ]
     },
     "metadata": {},
     "output_type": "display_data"
    },
    {
     "data": {
      "text/html": [
       "<style>\n",
       "    table.wandb td:nth-child(1) { padding: 0 10px; text-align: right }\n",
       "    .wandb-row { display: flex; flex-direction: row; flex-wrap: wrap; width: 100% }\n",
       "    .wandb-col { display: flex; flex-direction: column; flex-basis: 100%; flex: 1; padding: 10px; }\n",
       "    </style>\n",
       "<div class=\"wandb-row\"><div class=\"wandb-col\">\n",
       "<h3>Run history:</h3><br/><table class=\"wandb\"><tr><td>Mean Validation Loss (all folds)</td><td>▁</td></tr><tr><td>Mean Validation RMSE (all folds)</td><td>▁</td></tr><tr><td>epoch</td><td>▁▁▁▂▂▂▂▂▂▃▃▃▃▃▄▄▄▄▄▄▅▅▅▅▅▅▆▆▆▆▆▇▇▇▇▇▇███</td></tr><tr><td>loss</td><td>█▅▄▆▇▆▅▆▅▃▄▃▂▂▂▂▂▂▂▂▂▂▂▁▂▂▁▁▁▁▁▁▁▁▁▁▁▁▁▁</td></tr><tr><td>root_mean_squared_error</td><td>▇▅▅▆█▇▅▇▅▃▅▃▂▂▂▂▂▂▂▂▂▂▂▁▂▂▁▁▁▁▁▁▁▁▁▁▁▁▁▁</td></tr><tr><td>val_loss</td><td>▃▆▆▄▄█▃▄▇▁▂▃▂▄▃▃▂▃▁▁▃▂▂▂▁▂▂▃▄▂▃▂▁▁▃▂▂▁▃▂</td></tr><tr><td>val_root_mean_squared_error</td><td>▅▇▇▅▅█▅▅█▂▃▄▄▅▅▄▄▄▁▂▄▃▃▃▁▃▃▄▅▃▄▂▂▂▄▃▃▁▅▃</td></tr></table><br/></div><div class=\"wandb-col\">\n",
       "<h3>Run summary:</h3><br/><table class=\"wandb\"><tr><td>Mean Validation Loss (all folds)</td><td>0.01134</td></tr><tr><td>Mean Validation RMSE (all folds)</td><td>0.14562</td></tr><tr><td>best_epoch</td><td>685</td></tr><tr><td>best_val_loss</td><td>0.00146</td></tr><tr><td>epoch</td><td>749</td></tr><tr><td>loss</td><td>0.00956</td></tr><tr><td>root_mean_squared_error</td><td>0.13826</td></tr><tr><td>val_loss</td><td>0.00467</td></tr><tr><td>val_root_mean_squared_error</td><td>0.09662</td></tr></table>\n",
       "</div></div>\n",
       "Synced 5 W&B file(s), 0 media file(s), 0 artifact file(s) and 1 other file(s)\n",
       "<br/>Synced <strong style=\"color:#cdcd00\">lively-sweep-4</strong>: <a href=\"https://wandb.ai/luiscostigan/house-price-prediction/runs/kze4q5l9\" target=\"_blank\">https://wandb.ai/luiscostigan/house-price-prediction/runs/kze4q5l9</a><br/>\n",
       "Find logs at: <code>./wandb/run-20220307_053155-kze4q5l9/logs</code><br/>\n"
      ],
      "text/plain": [
       "<IPython.core.display.HTML object>"
      ]
     },
     "metadata": {},
     "output_type": "display_data"
    },
    {
     "name": "stderr",
     "output_type": "stream",
     "text": [
      "\u001b[34m\u001b[1mwandb\u001b[0m: Agent Starting Run: zut0p6h4 with config:\n",
      "\u001b[34m\u001b[1mwandb\u001b[0m: \tbatch_size: 128\n",
      "\u001b[34m\u001b[1mwandb\u001b[0m: \tdense1: 16\n",
      "\u001b[34m\u001b[1mwandb\u001b[0m: \tdense2: 16\n",
      "\u001b[34m\u001b[1mwandb\u001b[0m: \tdropout1: 0.19485812427111016\n",
      "\u001b[34m\u001b[1mwandb\u001b[0m: \tepochs: 750\n",
      "\u001b[34m\u001b[1mwandb\u001b[0m: wandb version 0.12.11 is available!  To upgrade, please run:\n",
      "\u001b[34m\u001b[1mwandb\u001b[0m:  $ pip install wandb --upgrade\n"
     ]
    },
    {
     "data": {
      "text/html": [
       "\n",
       "                    Syncing run <strong><a href=\"https://wandb.ai/luiscostigan/house-price-prediction/runs/zut0p6h4\" target=\"_blank\">restful-sweep-5</a></strong> to <a href=\"https://wandb.ai/luiscostigan/house-price-prediction\" target=\"_blank\">Weights & Biases</a> (<a href=\"https://docs.wandb.com/integrations/jupyter.html\" target=\"_blank\">docs</a>).<br/>\n",
       "Sweep page: <a href=\"https://wandb.ai/luiscostigan/house-price-prediction/sweeps/r64dtrnj\" target=\"_blank\">https://wandb.ai/luiscostigan/house-price-prediction/sweeps/r64dtrnj</a><br/>\n",
       "\n",
       "                "
      ],
      "text/plain": [
       "<IPython.core.display.HTML object>"
      ]
     },
     "metadata": {},
     "output_type": "display_data"
    },
    {
     "name": "stdout",
     "output_type": "stream",
     "text": [
      "37/37 [==============================] - 0s 844us/step - loss: 1.1778 - root_mean_squared_error: 1.6817\n",
      "Score for fold 1: loss of 1.1777876615524292; root_mean_squared_error of 1.6816645860671997\n",
      "------------------------------------------------------------------------\n",
      "Score per fold\n",
      "------------------------------------------------------------------------\n",
      "> Fold 1 - Loss: 1.1777876615524292 - RMSE: 1.6816645860671997\n",
      "------------------------------------------------------------------------\n",
      "Average scores for all folds:\n",
      "> RMSE: 1.6816645860671997 (+- 0.0)\n",
      "> Loss: 1.1777876615524292\n",
      "------------------------------------------------------------------------\n"
     ]
    },
    {
     "data": {
      "text/html": [
       "<br/>Waiting for W&B process to finish, PID 18308... <strong style=\"color:green\">(success).</strong>"
      ],
      "text/plain": [
       "<IPython.core.display.HTML object>"
      ]
     },
     "metadata": {},
     "output_type": "display_data"
    },
    {
     "data": {
      "application/vnd.jupyter.widget-view+json": {
       "model_id": "eeb6fce1995448e9bc72c5df101bc58c",
       "version_major": 2,
       "version_minor": 0
      },
      "text/plain": [
       "VBox(children=(Label(value=' 0.12MB of 0.12MB uploaded (0.00MB deduped)\\r'), FloatProgress(value=1.0, max=1.0)…"
      ]
     },
     "metadata": {},
     "output_type": "display_data"
    },
    {
     "data": {
      "text/html": [
       "<style>\n",
       "    table.wandb td:nth-child(1) { padding: 0 10px; text-align: right }\n",
       "    .wandb-row { display: flex; flex-direction: row; flex-wrap: wrap; width: 100% }\n",
       "    .wandb-col { display: flex; flex-direction: column; flex-basis: 100%; flex: 1; padding: 10px; }\n",
       "    </style>\n",
       "<div class=\"wandb-row\"><div class=\"wandb-col\">\n",
       "<h3>Run history:</h3><br/><table class=\"wandb\"><tr><td>Mean Validation Loss (all folds)</td><td>▁</td></tr><tr><td>Mean Validation RMSE (all folds)</td><td>▁</td></tr><tr><td>epoch</td><td>▁▁▁▂▂▂▂▂▂▃▃▃▃▃▄▄▄▄▄▄▅▅▅▅▅▅▆▆▆▆▆▇▇▇▇▇▇███</td></tr><tr><td>loss</td><td>█▅▄▃▂▂▂▂▁▁▁▁▁▁▁▁▁▁▁▁▁▁▁▁▁▁▁▁▁▁▁▁▁▁▁▁▁▁▁▁</td></tr><tr><td>root_mean_squared_error</td><td>█▅▄▃▃▃▃▂▂▂▂▂▂▂▂▂▂▂▁▂▁▂▂▁▁▁▂▁▁▁▁▁▁▁▁▂▁▁▂▁</td></tr><tr><td>val_loss</td><td>▄▄▁▆▇█▅▅▇▅▅█▄▄▇▇▇▇▆▆▆▆▆▅▅▅▅▇▅▅▅▅▅▅▅▅▅▅▅▅</td></tr><tr><td>val_root_mean_squared_error</td><td>▄▄▁▆▇█▅▅▇▅▅█▄▄▇▇▇▇▆▆▆▆▆▅▅▅▅▇▅▅▅▅▅▅▅▅▅▅▅▅</td></tr></table><br/></div><div class=\"wandb-col\">\n",
       "<h3>Run summary:</h3><br/><table class=\"wandb\"><tr><td>Mean Validation Loss (all folds)</td><td>1.17779</td></tr><tr><td>Mean Validation RMSE (all folds)</td><td>1.68166</td></tr><tr><td>best_epoch</td><td>34</td></tr><tr><td>best_val_loss</td><td>0.03487</td></tr><tr><td>epoch</td><td>749</td></tr><tr><td>loss</td><td>0.03744</td></tr><tr><td>root_mean_squared_error</td><td>0.41702</td></tr><tr><td>val_loss</td><td>1.17779</td></tr><tr><td>val_root_mean_squared_error</td><td>1.68166</td></tr></table>\n",
       "</div></div>\n",
       "Synced 5 W&B file(s), 0 media file(s), 0 artifact file(s) and 1 other file(s)\n",
       "<br/>Synced <strong style=\"color:#cdcd00\">restful-sweep-5</strong>: <a href=\"https://wandb.ai/luiscostigan/house-price-prediction/runs/zut0p6h4\" target=\"_blank\">https://wandb.ai/luiscostigan/house-price-prediction/runs/zut0p6h4</a><br/>\n",
       "Find logs at: <code>./wandb/run-20220307_053243-zut0p6h4/logs</code><br/>\n"
      ],
      "text/plain": [
       "<IPython.core.display.HTML object>"
      ]
     },
     "metadata": {},
     "output_type": "display_data"
    },
    {
     "name": "stderr",
     "output_type": "stream",
     "text": [
      "\u001b[34m\u001b[1mwandb\u001b[0m: wandb version 0.12.11 is available!  To upgrade, please run:\n",
      "\u001b[34m\u001b[1mwandb\u001b[0m:  $ pip install wandb --upgrade\n"
     ]
    },
    {
     "data": {
      "text/html": [
       "\n",
       "                    Syncing run <strong><a href=\"https://wandb.ai/luiscostigan/house-price-prediction/runs/zut0p6h4\" target=\"_blank\">restful-sweep-5</a></strong> to <a href=\"https://wandb.ai/luiscostigan/house-price-prediction\" target=\"_blank\">Weights & Biases</a> (<a href=\"https://docs.wandb.com/integrations/jupyter.html\" target=\"_blank\">docs</a>).<br/>\n",
       "Sweep page: <a href=\"https://wandb.ai/luiscostigan/house-price-prediction/sweeps/r64dtrnj\" target=\"_blank\">https://wandb.ai/luiscostigan/house-price-prediction/sweeps/r64dtrnj</a><br/>\n",
       "\n",
       "                "
      ],
      "text/plain": [
       "<IPython.core.display.HTML object>"
      ]
     },
     "metadata": {},
     "output_type": "display_data"
    },
    {
     "name": "stdout",
     "output_type": "stream",
     "text": [
      "37/37 [==============================] - 0s 886us/step - loss: 1.5737 - root_mean_squared_error: 2.0758\n",
      "Score for fold 2: loss of 1.5737346410751343; root_mean_squared_error of 2.075836658477783\n",
      "------------------------------------------------------------------------\n",
      "Score per fold\n",
      "------------------------------------------------------------------------\n",
      "> Fold 1 - Loss: 1.1777876615524292 - RMSE: 1.6816645860671997\n",
      "------------------------------------------------------------------------\n",
      "> Fold 2 - Loss: 1.5737346410751343 - RMSE: 2.075836658477783\n",
      "------------------------------------------------------------------------\n",
      "Average scores for all folds:\n",
      "> RMSE: 1.8787506222724915 (+- 0.19708603620529175)\n",
      "> Loss: 1.3757611513137817\n",
      "------------------------------------------------------------------------\n"
     ]
    },
    {
     "data": {
      "text/html": [
       "<br/>Waiting for W&B process to finish, PID 593... <strong style=\"color:green\">(success).</strong>"
      ],
      "text/plain": [
       "<IPython.core.display.HTML object>"
      ]
     },
     "metadata": {},
     "output_type": "display_data"
    },
    {
     "data": {
      "application/vnd.jupyter.widget-view+json": {
       "model_id": "bf32f48784a84b12b1bdb6f737b5b8e1",
       "version_major": 2,
       "version_minor": 0
      },
      "text/plain": [
       "VBox(children=(Label(value=' 0.12MB of 0.12MB uploaded (0.00MB deduped)\\r'), FloatProgress(value=1.0, max=1.0)…"
      ]
     },
     "metadata": {},
     "output_type": "display_data"
    },
    {
     "data": {
      "text/html": [
       "<style>\n",
       "    table.wandb td:nth-child(1) { padding: 0 10px; text-align: right }\n",
       "    .wandb-row { display: flex; flex-direction: row; flex-wrap: wrap; width: 100% }\n",
       "    .wandb-col { display: flex; flex-direction: column; flex-basis: 100%; flex: 1; padding: 10px; }\n",
       "    </style>\n",
       "<div class=\"wandb-row\"><div class=\"wandb-col\">\n",
       "<h3>Run history:</h3><br/><table class=\"wandb\"><tr><td>Mean Validation Loss (all folds)</td><td>▁</td></tr><tr><td>Mean Validation RMSE (all folds)</td><td>▁</td></tr><tr><td>epoch</td><td>▁▁▁▂▂▂▂▂▂▃▃▃▃▃▄▄▄▄▄▄▅▅▅▅▅▅▆▆▆▆▆▇▇▇▇▇▇███</td></tr><tr><td>loss</td><td>█▄▃▂▂▂▁▁▁▁▁▁▁▁▁▁▁▁▁▁▁▁▁▁▁▁▁▁▁▁▁▁▁▁▁▁▁▁▁▁</td></tr><tr><td>root_mean_squared_error</td><td>█▅▄▃▃▃▂▃▂▂▂▁▂▂▂▂▂▂▂▂▂▂▂▂▃▂▂▂▁▂▂▂▁▂▂▂▁▂▂▁</td></tr><tr><td>val_loss</td><td>▁▃▆▇▇▇█▇██▆██▇▇█▇▇▇▇▇▇██▇▇▇▇▇▇▇██▆▇▇▆▇▆▇</td></tr><tr><td>val_root_mean_squared_error</td><td>▁▃▆▇▇██▇██▆██▇▇█▇▇▇▇▇███▇▇▇▇▇▇▇██▇▇▇▆▇▇▇</td></tr></table><br/></div><div class=\"wandb-col\">\n",
       "<h3>Run summary:</h3><br/><table class=\"wandb\"><tr><td>Mean Validation Loss (all folds)</td><td>1.37576</td></tr><tr><td>Mean Validation RMSE (all folds)</td><td>1.87875</td></tr><tr><td>best_epoch</td><td>7</td></tr><tr><td>best_val_loss</td><td>0.09565</td></tr><tr><td>epoch</td><td>749</td></tr><tr><td>loss</td><td>0.0269</td></tr><tr><td>root_mean_squared_error</td><td>0.28215</td></tr><tr><td>val_loss</td><td>1.57373</td></tr><tr><td>val_root_mean_squared_error</td><td>2.07584</td></tr></table>\n",
       "</div></div>\n",
       "Synced 5 W&B file(s), 0 media file(s), 0 artifact file(s) and 1 other file(s)\n",
       "<br/>Synced <strong style=\"color:#cdcd00\">restful-sweep-5</strong>: <a href=\"https://wandb.ai/luiscostigan/house-price-prediction/runs/zut0p6h4\" target=\"_blank\">https://wandb.ai/luiscostigan/house-price-prediction/runs/zut0p6h4</a><br/>\n",
       "Find logs at: <code>./wandb/run-20220307_053318-zut0p6h4/logs</code><br/>\n"
      ],
      "text/plain": [
       "<IPython.core.display.HTML object>"
      ]
     },
     "metadata": {},
     "output_type": "display_data"
    },
    {
     "name": "stderr",
     "output_type": "stream",
     "text": [
      "\u001b[34m\u001b[1mwandb\u001b[0m: wandb version 0.12.11 is available!  To upgrade, please run:\n",
      "\u001b[34m\u001b[1mwandb\u001b[0m:  $ pip install wandb --upgrade\n"
     ]
    },
    {
     "data": {
      "text/html": [
       "\n",
       "                    Syncing run <strong><a href=\"https://wandb.ai/luiscostigan/house-price-prediction/runs/zut0p6h4\" target=\"_blank\">restful-sweep-5</a></strong> to <a href=\"https://wandb.ai/luiscostigan/house-price-prediction\" target=\"_blank\">Weights & Biases</a> (<a href=\"https://docs.wandb.com/integrations/jupyter.html\" target=\"_blank\">docs</a>).<br/>\n",
       "Sweep page: <a href=\"https://wandb.ai/luiscostigan/house-price-prediction/sweeps/r64dtrnj\" target=\"_blank\">https://wandb.ai/luiscostigan/house-price-prediction/sweeps/r64dtrnj</a><br/>\n",
       "\n",
       "                "
      ],
      "text/plain": [
       "<IPython.core.display.HTML object>"
      ]
     },
     "metadata": {},
     "output_type": "display_data"
    },
    {
     "name": "stdout",
     "output_type": "stream",
     "text": [
      "37/37 [==============================] - 0s 890us/step - loss: 1.6555 - root_mean_squared_error: 2.1587\n",
      "Score for fold 3: loss of 1.6554595232009888; root_mean_squared_error of 2.1587297916412354\n",
      "------------------------------------------------------------------------\n",
      "Score per fold\n",
      "------------------------------------------------------------------------\n",
      "> Fold 1 - Loss: 1.1777876615524292 - RMSE: 1.6816645860671997\n",
      "------------------------------------------------------------------------\n",
      "> Fold 2 - Loss: 1.5737346410751343 - RMSE: 2.075836658477783\n",
      "------------------------------------------------------------------------\n",
      "> Fold 3 - Loss: 1.6554595232009888 - RMSE: 2.1587297916412354\n",
      "------------------------------------------------------------------------\n",
      "Average scores for all folds:\n",
      "> RMSE: 1.9720770120620728 (+- 0.20812232102073075)\n",
      "> Loss: 1.4689939419428508\n",
      "------------------------------------------------------------------------\n"
     ]
    },
    {
     "data": {
      "text/html": [
       "<br/>Waiting for W&B process to finish, PID 15358... <strong style=\"color:green\">(success).</strong>"
      ],
      "text/plain": [
       "<IPython.core.display.HTML object>"
      ]
     },
     "metadata": {},
     "output_type": "display_data"
    },
    {
     "data": {
      "application/vnd.jupyter.widget-view+json": {
       "model_id": "6f1e7cd20e554d84a877b79bcdbbe57b",
       "version_major": 2,
       "version_minor": 0
      },
      "text/plain": [
       "VBox(children=(Label(value=' 0.12MB of 0.12MB uploaded (0.00MB deduped)\\r'), FloatProgress(value=1.0, max=1.0)…"
      ]
     },
     "metadata": {},
     "output_type": "display_data"
    },
    {
     "data": {
      "text/html": [
       "<style>\n",
       "    table.wandb td:nth-child(1) { padding: 0 10px; text-align: right }\n",
       "    .wandb-row { display: flex; flex-direction: row; flex-wrap: wrap; width: 100% }\n",
       "    .wandb-col { display: flex; flex-direction: column; flex-basis: 100%; flex: 1; padding: 10px; }\n",
       "    </style>\n",
       "<div class=\"wandb-row\"><div class=\"wandb-col\">\n",
       "<h3>Run history:</h3><br/><table class=\"wandb\"><tr><td>Mean Validation Loss (all folds)</td><td>▁</td></tr><tr><td>Mean Validation RMSE (all folds)</td><td>▁</td></tr><tr><td>epoch</td><td>▁▁▁▂▂▂▂▂▂▃▃▃▃▃▄▄▄▄▄▄▅▅▅▅▅▅▆▆▆▆▆▇▇▇▇▇▇███</td></tr><tr><td>loss</td><td>█▃▂▂▂▁▁▁▁▁▁▁▁▁▁▁▁▁▁▁▁▁▁▁▁▁▁▁▁▁▁▁▁▁▁▁▁▁▁▁</td></tr><tr><td>root_mean_squared_error</td><td>█▄▃▃▂▂▂▂▂▂▂▂▂▁▂▁▁▂▂▂▂▁▂▂▂▁▁▁▂▁▁▁▁▁▂▁▁▁▁▁</td></tr><tr><td>val_loss</td><td>▁▂███▄▇█▅▇▆▅▅█▆▆▄▃▄▄▆▅▅▇▆▆▆▆▇▆▇▄▄▃▆▆▄▆▆▆</td></tr><tr><td>val_root_mean_squared_error</td><td>▁▂███▄▆█▅▇▆▄▅█▆▆▃▃▃▄▆▅▅▇▆▆▆▆▇▆▇▃▄▃▆▅▄▅▆▆</td></tr></table><br/></div><div class=\"wandb-col\">\n",
       "<h3>Run summary:</h3><br/><table class=\"wandb\"><tr><td>Mean Validation Loss (all folds)</td><td>1.46899</td></tr><tr><td>Mean Validation RMSE (all folds)</td><td>1.97208</td></tr><tr><td>best_epoch</td><td>4</td></tr><tr><td>best_val_loss</td><td>0.19751</td></tr><tr><td>epoch</td><td>749</td></tr><tr><td>loss</td><td>0.05822</td></tr><tr><td>root_mean_squared_error</td><td>0.40738</td></tr><tr><td>val_loss</td><td>1.65546</td></tr><tr><td>val_root_mean_squared_error</td><td>2.15873</td></tr></table>\n",
       "</div></div>\n",
       "Synced 5 W&B file(s), 0 media file(s), 0 artifact file(s) and 1 other file(s)\n",
       "<br/>Synced <strong style=\"color:#cdcd00\">restful-sweep-5</strong>: <a href=\"https://wandb.ai/luiscostigan/house-price-prediction/runs/zut0p6h4\" target=\"_blank\">https://wandb.ai/luiscostigan/house-price-prediction/runs/zut0p6h4</a><br/>\n",
       "Find logs at: <code>./wandb/run-20220307_053358-zut0p6h4/logs</code><br/>\n"
      ],
      "text/plain": [
       "<IPython.core.display.HTML object>"
      ]
     },
     "metadata": {},
     "output_type": "display_data"
    },
    {
     "name": "stderr",
     "output_type": "stream",
     "text": [
      "\u001b[34m\u001b[1mwandb\u001b[0m: wandb version 0.12.11 is available!  To upgrade, please run:\n",
      "\u001b[34m\u001b[1mwandb\u001b[0m:  $ pip install wandb --upgrade\n"
     ]
    },
    {
     "data": {
      "text/html": [
       "\n",
       "                    Syncing run <strong><a href=\"https://wandb.ai/luiscostigan/house-price-prediction/runs/zut0p6h4\" target=\"_blank\">restful-sweep-5</a></strong> to <a href=\"https://wandb.ai/luiscostigan/house-price-prediction\" target=\"_blank\">Weights & Biases</a> (<a href=\"https://docs.wandb.com/integrations/jupyter.html\" target=\"_blank\">docs</a>).<br/>\n",
       "Sweep page: <a href=\"https://wandb.ai/luiscostigan/house-price-prediction/sweeps/r64dtrnj\" target=\"_blank\">https://wandb.ai/luiscostigan/house-price-prediction/sweeps/r64dtrnj</a><br/>\n",
       "\n",
       "                "
      ],
      "text/plain": [
       "<IPython.core.display.HTML object>"
      ]
     },
     "metadata": {},
     "output_type": "display_data"
    },
    {
     "name": "stdout",
     "output_type": "stream",
     "text": [
      "37/37 [==============================] - 0s 870us/step - loss: 1.3340 - root_mean_squared_error: 1.8369\n",
      "Score for fold 4: loss of 1.3339545726776123; root_mean_squared_error of 1.8369187116622925\n",
      "------------------------------------------------------------------------\n",
      "Score per fold\n",
      "------------------------------------------------------------------------\n",
      "> Fold 1 - Loss: 1.1777876615524292 - RMSE: 1.6816645860671997\n",
      "------------------------------------------------------------------------\n",
      "> Fold 2 - Loss: 1.5737346410751343 - RMSE: 2.075836658477783\n",
      "------------------------------------------------------------------------\n",
      "> Fold 3 - Loss: 1.6554595232009888 - RMSE: 2.1587297916412354\n",
      "------------------------------------------------------------------------\n",
      "> Fold 4 - Loss: 1.3339545726776123 - RMSE: 1.8369187116622925\n",
      "------------------------------------------------------------------------\n",
      "Average scores for all folds:\n",
      "> RMSE: 1.9382874369621277 (+- 0.18950298556116885)\n",
      "> Loss: 1.4352340996265411\n",
      "------------------------------------------------------------------------\n"
     ]
    },
    {
     "data": {
      "text/html": [
       "<br/>Waiting for W&B process to finish, PID 30099... <strong style=\"color:green\">(success).</strong>"
      ],
      "text/plain": [
       "<IPython.core.display.HTML object>"
      ]
     },
     "metadata": {},
     "output_type": "display_data"
    },
    {
     "data": {
      "application/vnd.jupyter.widget-view+json": {
       "model_id": "34f142be78f04c6b9d97355a3d4bc640",
       "version_major": 2,
       "version_minor": 0
      },
      "text/plain": [
       "VBox(children=(Label(value=' 0.12MB of 0.12MB uploaded (0.00MB deduped)\\r'), FloatProgress(value=1.0, max=1.0)…"
      ]
     },
     "metadata": {},
     "output_type": "display_data"
    },
    {
     "data": {
      "text/html": [
       "<style>\n",
       "    table.wandb td:nth-child(1) { padding: 0 10px; text-align: right }\n",
       "    .wandb-row { display: flex; flex-direction: row; flex-wrap: wrap; width: 100% }\n",
       "    .wandb-col { display: flex; flex-direction: column; flex-basis: 100%; flex: 1; padding: 10px; }\n",
       "    </style>\n",
       "<div class=\"wandb-row\"><div class=\"wandb-col\">\n",
       "<h3>Run history:</h3><br/><table class=\"wandb\"><tr><td>Mean Validation Loss (all folds)</td><td>▁</td></tr><tr><td>Mean Validation RMSE (all folds)</td><td>▁</td></tr><tr><td>epoch</td><td>▁▁▁▂▂▂▂▂▂▃▃▃▃▃▄▄▄▄▄▄▅▅▅▅▅▅▆▆▆▆▆▇▇▇▇▇▇███</td></tr><tr><td>loss</td><td>█▅▃▂▂▂▂▂▂▁▁▁▁▁▁▁▁▁▁▁▁▁▁▁▁▁▁▁▁▁▁▁▁▁▁▁▁▁▁▁</td></tr><tr><td>root_mean_squared_error</td><td>█▆▅▃▃▃▃▃▂▂▂▂▂▂▂▂▁▂▂▁▂▂▂▂▁▂▂▁▁▁▁▁▁▁▁▂▁▁▁▁</td></tr><tr><td>val_loss</td><td>▁▂▃█▆▂▆▇▇▄▂▃▃▆▃▄▃▅▅▅▅▂▄▃▆▃▃▂▅▅▅▅▆▅▅▅▅▅▅▂</td></tr><tr><td>val_root_mean_squared_error</td><td>▁▁▃█▆▂▆▇▇▃▂▃▃▆▃▄▃▅▅▅▅▂▃▃▅▂▃▂▅▅▅▅▅▅▅▅▅▅▅▂</td></tr></table><br/></div><div class=\"wandb-col\">\n",
       "<h3>Run summary:</h3><br/><table class=\"wandb\"><tr><td>Mean Validation Loss (all folds)</td><td>1.43523</td></tr><tr><td>Mean Validation RMSE (all folds)</td><td>1.93829</td></tr><tr><td>best_epoch</td><td>13</td></tr><tr><td>best_val_loss</td><td>0.08531</td></tr><tr><td>epoch</td><td>749</td></tr><tr><td>loss</td><td>0.03488</td></tr><tr><td>root_mean_squared_error</td><td>0.29321</td></tr><tr><td>val_loss</td><td>1.33395</td></tr><tr><td>val_root_mean_squared_error</td><td>1.83692</td></tr></table>\n",
       "</div></div>\n",
       "Synced 5 W&B file(s), 0 media file(s), 0 artifact file(s) and 1 other file(s)\n",
       "<br/>Synced <strong style=\"color:#cdcd00\">restful-sweep-5</strong>: <a href=\"https://wandb.ai/luiscostigan/house-price-prediction/runs/zut0p6h4\" target=\"_blank\">https://wandb.ai/luiscostigan/house-price-prediction/runs/zut0p6h4</a><br/>\n",
       "Find logs at: <code>./wandb/run-20220307_053436-zut0p6h4/logs</code><br/>\n"
      ],
      "text/plain": [
       "<IPython.core.display.HTML object>"
      ]
     },
     "metadata": {},
     "output_type": "display_data"
    },
    {
     "name": "stderr",
     "output_type": "stream",
     "text": [
      "\u001b[34m\u001b[1mwandb\u001b[0m: wandb version 0.12.11 is available!  To upgrade, please run:\n",
      "\u001b[34m\u001b[1mwandb\u001b[0m:  $ pip install wandb --upgrade\n"
     ]
    },
    {
     "data": {
      "text/html": [
       "\n",
       "                    Syncing run <strong><a href=\"https://wandb.ai/luiscostigan/house-price-prediction/runs/zut0p6h4\" target=\"_blank\">restful-sweep-5</a></strong> to <a href=\"https://wandb.ai/luiscostigan/house-price-prediction\" target=\"_blank\">Weights & Biases</a> (<a href=\"https://docs.wandb.com/integrations/jupyter.html\" target=\"_blank\">docs</a>).<br/>\n",
       "Sweep page: <a href=\"https://wandb.ai/luiscostigan/house-price-prediction/sweeps/r64dtrnj\" target=\"_blank\">https://wandb.ai/luiscostigan/house-price-prediction/sweeps/r64dtrnj</a><br/>\n",
       "\n",
       "                "
      ],
      "text/plain": [
       "<IPython.core.display.HTML object>"
      ]
     },
     "metadata": {},
     "output_type": "display_data"
    },
    {
     "name": "stdout",
     "output_type": "stream",
     "text": [
      "37/37 [==============================] - 0s 909us/step - loss: 1.4765 - root_mean_squared_error: 1.9792\n",
      "Score for fold 5: loss of 1.4765100479125977; root_mean_squared_error of 1.979203224182129\n",
      "------------------------------------------------------------------------\n",
      "Score per fold\n",
      "------------------------------------------------------------------------\n",
      "> Fold 1 - Loss: 1.1777876615524292 - RMSE: 1.6816645860671997\n",
      "------------------------------------------------------------------------\n",
      "> Fold 2 - Loss: 1.5737346410751343 - RMSE: 2.075836658477783\n",
      "------------------------------------------------------------------------\n",
      "> Fold 3 - Loss: 1.6554595232009888 - RMSE: 2.1587297916412354\n",
      "------------------------------------------------------------------------\n",
      "> Fold 4 - Loss: 1.3339545726776123 - RMSE: 1.8369187116622925\n",
      "------------------------------------------------------------------------\n",
      "> Fold 5 - Loss: 1.4765100479125977 - RMSE: 1.979203224182129\n",
      "------------------------------------------------------------------------\n",
      "Average scores for all folds:\n",
      "> RMSE: 1.946470594406128 (+- 0.1702849420597442)\n",
      "> Loss: 1.4434892892837525\n",
      "------------------------------------------------------------------------\n"
     ]
    },
    {
     "data": {
      "text/html": [
       "<br/>Waiting for W&B process to finish, PID 12410... <strong style=\"color:green\">(success).</strong>"
      ],
      "text/plain": [
       "<IPython.core.display.HTML object>"
      ]
     },
     "metadata": {},
     "output_type": "display_data"
    },
    {
     "data": {
      "application/vnd.jupyter.widget-view+json": {
       "model_id": "6161971e8c69409fab26306ae5a45cd9",
       "version_major": 2,
       "version_minor": 0
      },
      "text/plain": [
       "VBox(children=(Label(value=' 0.12MB of 0.12MB uploaded (0.00MB deduped)\\r'), FloatProgress(value=1.0, max=1.0)…"
      ]
     },
     "metadata": {},
     "output_type": "display_data"
    },
    {
     "data": {
      "text/html": [
       "<style>\n",
       "    table.wandb td:nth-child(1) { padding: 0 10px; text-align: right }\n",
       "    .wandb-row { display: flex; flex-direction: row; flex-wrap: wrap; width: 100% }\n",
       "    .wandb-col { display: flex; flex-direction: column; flex-basis: 100%; flex: 1; padding: 10px; }\n",
       "    </style>\n",
       "<div class=\"wandb-row\"><div class=\"wandb-col\">\n",
       "<h3>Run history:</h3><br/><table class=\"wandb\"><tr><td>Mean Validation Loss (all folds)</td><td>▁</td></tr><tr><td>Mean Validation RMSE (all folds)</td><td>▁</td></tr><tr><td>epoch</td><td>▁▁▁▂▂▂▂▂▂▃▃▃▃▃▄▄▄▄▄▄▅▅▅▅▅▅▆▆▆▆▆▇▇▇▇▇▇███</td></tr><tr><td>loss</td><td>█▅▃▂▂▁▁▁▁▁▁▁▁▁▁▁▁▁▁▁▁▁▁▁▁▁▁▁▁▁▁▁▁▁▁▁▁▁▁▁</td></tr><tr><td>root_mean_squared_error</td><td>█▆▄▃▃▂▃▂▂▃▂▂▁▁▁▂▂▁▂▁▂▁▂▂▁▂▁▂▁▂▂▁▁▁▁▁▁▁▁▁</td></tr><tr><td>val_loss</td><td>▁▁▄▆▆▆▇▇▇▆▇▇██▇▇▆▆▇▇▇▇▇▆▇▇▇▆▆▇▇▇▇▆▇▆▆▇▇▆</td></tr><tr><td>val_root_mean_squared_error</td><td>▁▂▅▇▇▇▇▇▇▆▇▇██▇▇▇▇▇▇▇▇▇▆▇▇▇▇▇▇▇▇▇▆▇▆▇▇▇▆</td></tr></table><br/></div><div class=\"wandb-col\">\n",
       "<h3>Run summary:</h3><br/><table class=\"wandb\"><tr><td>Mean Validation Loss (all folds)</td><td>1.44349</td></tr><tr><td>Mean Validation RMSE (all folds)</td><td>1.94647</td></tr><tr><td>best_epoch</td><td>20</td></tr><tr><td>best_val_loss</td><td>0.03196</td></tr><tr><td>epoch</td><td>749</td></tr><tr><td>loss</td><td>0.01944</td></tr><tr><td>root_mean_squared_error</td><td>0.19879</td></tr><tr><td>val_loss</td><td>1.47651</td></tr><tr><td>val_root_mean_squared_error</td><td>1.9792</td></tr></table>\n",
       "</div></div>\n",
       "Synced 5 W&B file(s), 0 media file(s), 0 artifact file(s) and 1 other file(s)\n",
       "<br/>Synced <strong style=\"color:#cdcd00\">restful-sweep-5</strong>: <a href=\"https://wandb.ai/luiscostigan/house-price-prediction/runs/zut0p6h4\" target=\"_blank\">https://wandb.ai/luiscostigan/house-price-prediction/runs/zut0p6h4</a><br/>\n",
       "Find logs at: <code>./wandb/run-20220307_053513-zut0p6h4/logs</code><br/>\n"
      ],
      "text/plain": [
       "<IPython.core.display.HTML object>"
      ]
     },
     "metadata": {},
     "output_type": "display_data"
    },
    {
     "name": "stderr",
     "output_type": "stream",
     "text": [
      "\u001b[34m\u001b[1mwandb\u001b[0m: Agent Starting Run: vmxct2o9 with config:\n",
      "\u001b[34m\u001b[1mwandb\u001b[0m: \tbatch_size: 8\n",
      "\u001b[34m\u001b[1mwandb\u001b[0m: \tdense1: 8\n",
      "\u001b[34m\u001b[1mwandb\u001b[0m: \tdense2: 16\n",
      "\u001b[34m\u001b[1mwandb\u001b[0m: \tdropout1: 0.11430912963638327\n",
      "\u001b[34m\u001b[1mwandb\u001b[0m: \tepochs: 500\n",
      "\u001b[34m\u001b[1mwandb\u001b[0m: wandb version 0.12.11 is available!  To upgrade, please run:\n",
      "\u001b[34m\u001b[1mwandb\u001b[0m:  $ pip install wandb --upgrade\n"
     ]
    },
    {
     "data": {
      "text/html": [
       "\n",
       "                    Syncing run <strong><a href=\"https://wandb.ai/luiscostigan/house-price-prediction/runs/vmxct2o9\" target=\"_blank\">expert-sweep-6</a></strong> to <a href=\"https://wandb.ai/luiscostigan/house-price-prediction\" target=\"_blank\">Weights & Biases</a> (<a href=\"https://docs.wandb.com/integrations/jupyter.html\" target=\"_blank\">docs</a>).<br/>\n",
       "Sweep page: <a href=\"https://wandb.ai/luiscostigan/house-price-prediction/sweeps/r64dtrnj\" target=\"_blank\">https://wandb.ai/luiscostigan/house-price-prediction/sweeps/r64dtrnj</a><br/>\n",
       "\n",
       "                "
      ],
      "text/plain": [
       "<IPython.core.display.HTML object>"
      ]
     },
     "metadata": {},
     "output_type": "display_data"
    },
    {
     "name": "stdout",
     "output_type": "stream",
     "text": [
      "37/37 [==============================] - 0s 1ms/step - loss: 0.2920 - root_mean_squared_error: 0.7642\n",
      "Score for fold 1: loss of 0.2920249402523041; root_mean_squared_error of 0.7642316222190857\n",
      "------------------------------------------------------------------------\n",
      "Score per fold\n",
      "------------------------------------------------------------------------\n",
      "> Fold 1 - Loss: 0.2920249402523041 - RMSE: 0.7642316222190857\n",
      "------------------------------------------------------------------------\n",
      "Average scores for all folds:\n",
      "> RMSE: 0.7642316222190857 (+- 0.0)\n",
      "> Loss: 0.2920249402523041\n",
      "------------------------------------------------------------------------\n"
     ]
    },
    {
     "data": {
      "text/html": [
       "<br/>Waiting for W&B process to finish, PID 27150... <strong style=\"color:green\">(success).</strong>"
      ],
      "text/plain": [
       "<IPython.core.display.HTML object>"
      ]
     },
     "metadata": {},
     "output_type": "display_data"
    },
    {
     "data": {
      "application/vnd.jupyter.widget-view+json": {
       "model_id": "dd60fe22092f429494637061cc9f7698",
       "version_major": 2,
       "version_minor": 0
      },
      "text/plain": [
       "VBox(children=(Label(value=' 0.12MB of 0.12MB uploaded (0.00MB deduped)\\r'), FloatProgress(value=1.0, max=1.0)…"
      ]
     },
     "metadata": {},
     "output_type": "display_data"
    },
    {
     "data": {
      "text/html": [
       "<style>\n",
       "    table.wandb td:nth-child(1) { padding: 0 10px; text-align: right }\n",
       "    .wandb-row { display: flex; flex-direction: row; flex-wrap: wrap; width: 100% }\n",
       "    .wandb-col { display: flex; flex-direction: column; flex-basis: 100%; flex: 1; padding: 10px; }\n",
       "    </style>\n",
       "<div class=\"wandb-row\"><div class=\"wandb-col\">\n",
       "<h3>Run history:</h3><br/><table class=\"wandb\"><tr><td>Mean Validation Loss (all folds)</td><td>▁</td></tr><tr><td>Mean Validation RMSE (all folds)</td><td>▁</td></tr><tr><td>epoch</td><td>▁▁▁▂▂▂▂▂▂▃▃▃▃▃▄▄▄▄▄▄▅▅▅▅▅▅▆▆▆▆▆▇▇▇▇▇▇███</td></tr><tr><td>loss</td><td>█▂▁▁▁▁▁▁▁▁▁▁▁▁▁▁▁▁▁▁▁▁▁▁▁▁▁▁▁▁▁▁▁▁▁▁▁▁▁▁</td></tr><tr><td>root_mean_squared_error</td><td>█▂▂▂▂▂▂▂▂▂▁▁▁▁▁▁▁▁▁▁▁▁▁▁▁▁▁▁▁▁▁▁▁▁▁▁▁▁▁▁</td></tr><tr><td>val_loss</td><td>▁█▇▅█▄▆▅▄█▄▃▄▅▄▂▂▃▅▁▃▃▂▁▄▂▂▂▃▂▂▂▃▃▁▁▂▂▁▂</td></tr><tr><td>val_root_mean_squared_error</td><td>▁█▇▆█▄▆▅▄█▄▃▄▅▄▂▃▃▅▁▃▄▃▂▄▃▂▃▃▂▂▂▃▃▁▁▃▂▁▂</td></tr></table><br/></div><div class=\"wandb-col\">\n",
       "<h3>Run summary:</h3><br/><table class=\"wandb\"><tr><td>Mean Validation Loss (all folds)</td><td>0.29202</td></tr><tr><td>Mean Validation RMSE (all folds)</td><td>0.76423</td></tr><tr><td>best_epoch</td><td>2</td></tr><tr><td>best_val_loss</td><td>0.08432</td></tr><tr><td>epoch</td><td>499</td></tr><tr><td>loss</td><td>0.00575</td></tr><tr><td>root_mean_squared_error</td><td>0.10727</td></tr><tr><td>val_loss</td><td>0.29202</td></tr><tr><td>val_root_mean_squared_error</td><td>0.76423</td></tr></table>\n",
       "</div></div>\n",
       "Synced 5 W&B file(s), 0 media file(s), 0 artifact file(s) and 1 other file(s)\n",
       "<br/>Synced <strong style=\"color:#cdcd00\">expert-sweep-6</strong>: <a href=\"https://wandb.ai/luiscostigan/house-price-prediction/runs/vmxct2o9\" target=\"_blank\">https://wandb.ai/luiscostigan/house-price-prediction/runs/vmxct2o9</a><br/>\n",
       "Find logs at: <code>./wandb/run-20220307_053551-vmxct2o9/logs</code><br/>\n"
      ],
      "text/plain": [
       "<IPython.core.display.HTML object>"
      ]
     },
     "metadata": {},
     "output_type": "display_data"
    },
    {
     "name": "stderr",
     "output_type": "stream",
     "text": [
      "\u001b[34m\u001b[1mwandb\u001b[0m: wandb version 0.12.11 is available!  To upgrade, please run:\n",
      "\u001b[34m\u001b[1mwandb\u001b[0m:  $ pip install wandb --upgrade\n"
     ]
    },
    {
     "data": {
      "text/html": [
       "\n",
       "                    Syncing run <strong><a href=\"https://wandb.ai/luiscostigan/house-price-prediction/runs/vmxct2o9\" target=\"_blank\">expert-sweep-6</a></strong> to <a href=\"https://wandb.ai/luiscostigan/house-price-prediction\" target=\"_blank\">Weights & Biases</a> (<a href=\"https://docs.wandb.com/integrations/jupyter.html\" target=\"_blank\">docs</a>).<br/>\n",
       "Sweep page: <a href=\"https://wandb.ai/luiscostigan/house-price-prediction/sweeps/r64dtrnj\" target=\"_blank\">https://wandb.ai/luiscostigan/house-price-prediction/sweeps/r64dtrnj</a><br/>\n",
       "\n",
       "                "
      ],
      "text/plain": [
       "<IPython.core.display.HTML object>"
      ]
     },
     "metadata": {},
     "output_type": "display_data"
    },
    {
     "name": "stdout",
     "output_type": "stream",
     "text": [
      "37/37 [==============================] - 0s 1ms/step - loss: 0.5072 - root_mean_squared_error: 1.0091\n",
      "Score for fold 2: loss of 0.5072299242019653; root_mean_squared_error of 1.0090665817260742\n",
      "------------------------------------------------------------------------\n",
      "Score per fold\n",
      "------------------------------------------------------------------------\n",
      "> Fold 1 - Loss: 0.2920249402523041 - RMSE: 0.7642316222190857\n",
      "------------------------------------------------------------------------\n",
      "> Fold 2 - Loss: 0.5072299242019653 - RMSE: 1.0090665817260742\n",
      "------------------------------------------------------------------------\n",
      "Average scores for all folds:\n",
      "> RMSE: 0.88664910197258 (+- 0.12241747975349426)\n",
      "> Loss: 0.3996274322271347\n",
      "------------------------------------------------------------------------\n"
     ]
    },
    {
     "data": {
      "text/html": [
       "<br/>Waiting for W&B process to finish, PID 5355... <strong style=\"color:green\">(success).</strong>"
      ],
      "text/plain": [
       "<IPython.core.display.HTML object>"
      ]
     },
     "metadata": {},
     "output_type": "display_data"
    },
    {
     "data": {
      "application/vnd.jupyter.widget-view+json": {
       "model_id": "69439188136e4f86b147311a45138207",
       "version_major": 2,
       "version_minor": 0
      },
      "text/plain": [
       "VBox(children=(Label(value=' 0.12MB of 0.12MB uploaded (0.00MB deduped)\\r'), FloatProgress(value=1.0, max=1.0)…"
      ]
     },
     "metadata": {},
     "output_type": "display_data"
    },
    {
     "data": {
      "text/html": [
       "<style>\n",
       "    table.wandb td:nth-child(1) { padding: 0 10px; text-align: right }\n",
       "    .wandb-row { display: flex; flex-direction: row; flex-wrap: wrap; width: 100% }\n",
       "    .wandb-col { display: flex; flex-direction: column; flex-basis: 100%; flex: 1; padding: 10px; }\n",
       "    </style>\n",
       "<div class=\"wandb-row\"><div class=\"wandb-col\">\n",
       "<h3>Run history:</h3><br/><table class=\"wandb\"><tr><td>Mean Validation Loss (all folds)</td><td>▁</td></tr><tr><td>Mean Validation RMSE (all folds)</td><td>▁</td></tr><tr><td>epoch</td><td>▁▁▁▂▂▂▂▂▂▃▃▃▃▃▄▄▄▄▄▄▅▅▅▅▅▅▆▆▆▆▆▇▇▇▇▇▇███</td></tr><tr><td>loss</td><td>█▃▂▂▂▂▂▂▁▁▁▂▁▁▁▁▁▁▁▁▁▁▁▁▁▁▁▁▁▁▁▁▁▁▁▁▁▁▁▁</td></tr><tr><td>root_mean_squared_error</td><td>█▄▃▃▂▂▃▂▁▂▁▂▂▂▁▁▁▁▁▁▁▁▁▁▁▁▁▁▁▁▁▁▁▁▁▁▁▁▁▁</td></tr><tr><td>val_loss</td><td>▇▃▅▃▅▆▆▃▅▅█▄▄▆▆▃▁▃▃▁▃▁▂▄▄▄▄▄▄▃▂▄▂▃▄▃▂▂▂▂</td></tr><tr><td>val_root_mean_squared_error</td><td>▇▃▅▄▅▆▆▃▅▅█▄▅▆▆▃▂▃▃▁▃▁▂▄▄▄▄▄▄▃▂▄▂▃▄▃▂▂▂▂</td></tr></table><br/></div><div class=\"wandb-col\">\n",
       "<h3>Run summary:</h3><br/><table class=\"wandb\"><tr><td>Mean Validation Loss (all folds)</td><td>0.39963</td></tr><tr><td>Mean Validation RMSE (all folds)</td><td>0.88665</td></tr><tr><td>best_epoch</td><td>378</td></tr><tr><td>best_val_loss</td><td>0.42069</td></tr><tr><td>epoch</td><td>499</td></tr><tr><td>loss</td><td>0.00543</td></tr><tr><td>root_mean_squared_error</td><td>0.10424</td></tr><tr><td>val_loss</td><td>0.50723</td></tr><tr><td>val_root_mean_squared_error</td><td>1.00907</td></tr></table>\n",
       "</div></div>\n",
       "Synced 5 W&B file(s), 0 media file(s), 0 artifact file(s) and 1 other file(s)\n",
       "<br/>Synced <strong style=\"color:#cdcd00\">expert-sweep-6</strong>: <a href=\"https://wandb.ai/luiscostigan/house-price-prediction/runs/vmxct2o9\" target=\"_blank\">https://wandb.ai/luiscostigan/house-price-prediction/runs/vmxct2o9</a><br/>\n",
       "Find logs at: <code>./wandb/run-20220307_053744-vmxct2o9/logs</code><br/>\n"
      ],
      "text/plain": [
       "<IPython.core.display.HTML object>"
      ]
     },
     "metadata": {},
     "output_type": "display_data"
    },
    {
     "name": "stderr",
     "output_type": "stream",
     "text": [
      "\u001b[34m\u001b[1mwandb\u001b[0m: wandb version 0.12.11 is available!  To upgrade, please run:\n",
      "\u001b[34m\u001b[1mwandb\u001b[0m:  $ pip install wandb --upgrade\n"
     ]
    },
    {
     "data": {
      "text/html": [
       "\n",
       "                    Syncing run <strong><a href=\"https://wandb.ai/luiscostigan/house-price-prediction/runs/vmxct2o9\" target=\"_blank\">expert-sweep-6</a></strong> to <a href=\"https://wandb.ai/luiscostigan/house-price-prediction\" target=\"_blank\">Weights & Biases</a> (<a href=\"https://docs.wandb.com/integrations/jupyter.html\" target=\"_blank\">docs</a>).<br/>\n",
       "Sweep page: <a href=\"https://wandb.ai/luiscostigan/house-price-prediction/sweeps/r64dtrnj\" target=\"_blank\">https://wandb.ai/luiscostigan/house-price-prediction/sweeps/r64dtrnj</a><br/>\n",
       "\n",
       "                "
      ],
      "text/plain": [
       "<IPython.core.display.HTML object>"
      ]
     },
     "metadata": {},
     "output_type": "display_data"
    },
    {
     "name": "stdout",
     "output_type": "stream",
     "text": [
      "37/37 [==============================] - 0s 1ms/step - loss: 0.6280 - root_mean_squared_error: 1.1299\n",
      "Score for fold 3: loss of 0.6279675960540771; root_mean_squared_error of 1.1299045085906982\n",
      "------------------------------------------------------------------------\n",
      "Score per fold\n",
      "------------------------------------------------------------------------\n",
      "> Fold 1 - Loss: 0.2920249402523041 - RMSE: 0.7642316222190857\n",
      "------------------------------------------------------------------------\n",
      "> Fold 2 - Loss: 0.5072299242019653 - RMSE: 1.0090665817260742\n",
      "------------------------------------------------------------------------\n",
      "> Fold 3 - Loss: 0.6279675960540771 - RMSE: 1.1299045085906982\n",
      "------------------------------------------------------------------------\n",
      "Average scores for all folds:\n",
      "> RMSE: 0.9677342375119528 (+- 0.15211933246744705)\n",
      "> Loss: 0.47574082016944885\n",
      "------------------------------------------------------------------------\n"
     ]
    },
    {
     "data": {
      "text/html": [
       "<br/>Waiting for W&B process to finish, PID 15936... <strong style=\"color:green\">(success).</strong>"
      ],
      "text/plain": [
       "<IPython.core.display.HTML object>"
      ]
     },
     "metadata": {},
     "output_type": "display_data"
    },
    {
     "data": {
      "application/vnd.jupyter.widget-view+json": {
       "model_id": "99eeedb480804d878aa4cab2d23d2ba5",
       "version_major": 2,
       "version_minor": 0
      },
      "text/plain": [
       "VBox(children=(Label(value=' 0.12MB of 0.12MB uploaded (0.00MB deduped)\\r'), FloatProgress(value=1.0, max=1.0)…"
      ]
     },
     "metadata": {},
     "output_type": "display_data"
    },
    {
     "data": {
      "text/html": [
       "<style>\n",
       "    table.wandb td:nth-child(1) { padding: 0 10px; text-align: right }\n",
       "    .wandb-row { display: flex; flex-direction: row; flex-wrap: wrap; width: 100% }\n",
       "    .wandb-col { display: flex; flex-direction: column; flex-basis: 100%; flex: 1; padding: 10px; }\n",
       "    </style>\n",
       "<div class=\"wandb-row\"><div class=\"wandb-col\">\n",
       "<h3>Run history:</h3><br/><table class=\"wandb\"><tr><td>Mean Validation Loss (all folds)</td><td>▁</td></tr><tr><td>Mean Validation RMSE (all folds)</td><td>▁</td></tr><tr><td>epoch</td><td>▁▁▁▂▂▂▂▂▂▃▃▃▃▃▄▄▄▄▄▄▅▅▅▅▅▅▆▆▆▆▆▇▇▇▇▇▇███</td></tr><tr><td>loss</td><td>█▃▂▂▁▁▁▁▁▁▁▁▁▁▁▁▁▁▁▁▁▁▁▁▁▁▁▁▁▁▁▁▁▁▁▁▁▁▁▁</td></tr><tr><td>root_mean_squared_error</td><td>█▅▄▂▂▂▂▂▂▂▁▁▂▂▂▁▁▂▁▁▁▁▁▁▁▁▁▁▁▁▁▁▁▁▁▁▁▁▁▁</td></tr><tr><td>val_loss</td><td>▂▄█▁█▅▂▇▄▆▆█▄▅▄▄▄▄▆▁▆▃▃▄▆▂▄▄▄▃▃▃▄▄▃▂▄▅▂▂</td></tr><tr><td>val_root_mean_squared_error</td><td>▂▄█▁█▅▂▇▄▆▆█▄▅▄▄▄▄▆▁▆▃▃▄▆▂▄▄▄▃▃▃▄▄▃▂▄▅▂▂</td></tr></table><br/></div><div class=\"wandb-col\">\n",
       "<h3>Run summary:</h3><br/><table class=\"wandb\"><tr><td>Mean Validation Loss (all folds)</td><td>0.47574</td></tr><tr><td>Mean Validation RMSE (all folds)</td><td>0.96773</td></tr><tr><td>best_epoch</td><td>4</td></tr><tr><td>best_val_loss</td><td>0.23735</td></tr><tr><td>epoch</td><td>499</td></tr><tr><td>loss</td><td>0.00468</td></tr><tr><td>root_mean_squared_error</td><td>0.09674</td></tr><tr><td>val_loss</td><td>0.62797</td></tr><tr><td>val_root_mean_squared_error</td><td>1.1299</td></tr></table>\n",
       "</div></div>\n",
       "Synced 5 W&B file(s), 0 media file(s), 0 artifact file(s) and 1 other file(s)\n",
       "<br/>Synced <strong style=\"color:#cdcd00\">expert-sweep-6</strong>: <a href=\"https://wandb.ai/luiscostigan/house-price-prediction/runs/vmxct2o9\" target=\"_blank\">https://wandb.ai/luiscostigan/house-price-prediction/runs/vmxct2o9</a><br/>\n",
       "Find logs at: <code>./wandb/run-20220307_053937-vmxct2o9/logs</code><br/>\n"
      ],
      "text/plain": [
       "<IPython.core.display.HTML object>"
      ]
     },
     "metadata": {},
     "output_type": "display_data"
    },
    {
     "name": "stderr",
     "output_type": "stream",
     "text": [
      "\u001b[34m\u001b[1mwandb\u001b[0m: wandb version 0.12.11 is available!  To upgrade, please run:\n",
      "\u001b[34m\u001b[1mwandb\u001b[0m:  $ pip install wandb --upgrade\n"
     ]
    },
    {
     "data": {
      "text/html": [
       "\n",
       "                    Syncing run <strong><a href=\"https://wandb.ai/luiscostigan/house-price-prediction/runs/vmxct2o9\" target=\"_blank\">expert-sweep-6</a></strong> to <a href=\"https://wandb.ai/luiscostigan/house-price-prediction\" target=\"_blank\">Weights & Biases</a> (<a href=\"https://docs.wandb.com/integrations/jupyter.html\" target=\"_blank\">docs</a>).<br/>\n",
       "Sweep page: <a href=\"https://wandb.ai/luiscostigan/house-price-prediction/sweeps/r64dtrnj\" target=\"_blank\">https://wandb.ai/luiscostigan/house-price-prediction/sweeps/r64dtrnj</a><br/>\n",
       "\n",
       "                "
      ],
      "text/plain": [
       "<IPython.core.display.HTML object>"
      ]
     },
     "metadata": {},
     "output_type": "display_data"
    },
    {
     "name": "stdout",
     "output_type": "stream",
     "text": [
      "37/37 [==============================] - 0s 1ms/step - loss: 0.5514 - root_mean_squared_error: 1.0530\n",
      "Score for fold 4: loss of 0.5514375567436218; root_mean_squared_error of 1.0529553890228271\n",
      "------------------------------------------------------------------------\n",
      "Score per fold\n",
      "------------------------------------------------------------------------\n",
      "> Fold 1 - Loss: 0.2920249402523041 - RMSE: 0.7642316222190857\n",
      "------------------------------------------------------------------------\n",
      "> Fold 2 - Loss: 0.5072299242019653 - RMSE: 1.0090665817260742\n",
      "------------------------------------------------------------------------\n",
      "> Fold 3 - Loss: 0.6279675960540771 - RMSE: 1.1299045085906982\n",
      "------------------------------------------------------------------------\n",
      "> Fold 4 - Loss: 0.5514375567436218 - RMSE: 1.0529553890228271\n",
      "------------------------------------------------------------------------\n",
      "Average scores for all folds:\n",
      "> RMSE: 0.9890395253896713 (+- 0.13680995708432064)\n",
      "> Loss: 0.4946650043129921\n",
      "------------------------------------------------------------------------\n"
     ]
    },
    {
     "data": {
      "text/html": [
       "<br/>Waiting for W&B process to finish, PID 26614... <strong style=\"color:green\">(success).</strong>"
      ],
      "text/plain": [
       "<IPython.core.display.HTML object>"
      ]
     },
     "metadata": {},
     "output_type": "display_data"
    },
    {
     "data": {
      "application/vnd.jupyter.widget-view+json": {
       "model_id": "d043575dd0674c8da9376408c472df3f",
       "version_major": 2,
       "version_minor": 0
      },
      "text/plain": [
       "VBox(children=(Label(value=' 0.12MB of 0.12MB uploaded (0.00MB deduped)\\r'), FloatProgress(value=1.0, max=1.0)…"
      ]
     },
     "metadata": {},
     "output_type": "display_data"
    },
    {
     "data": {
      "text/html": [
       "<style>\n",
       "    table.wandb td:nth-child(1) { padding: 0 10px; text-align: right }\n",
       "    .wandb-row { display: flex; flex-direction: row; flex-wrap: wrap; width: 100% }\n",
       "    .wandb-col { display: flex; flex-direction: column; flex-basis: 100%; flex: 1; padding: 10px; }\n",
       "    </style>\n",
       "<div class=\"wandb-row\"><div class=\"wandb-col\">\n",
       "<h3>Run history:</h3><br/><table class=\"wandb\"><tr><td>Mean Validation Loss (all folds)</td><td>▁</td></tr><tr><td>Mean Validation RMSE (all folds)</td><td>▁</td></tr><tr><td>epoch</td><td>▁▁▁▂▂▂▂▂▂▃▃▃▃▃▄▄▄▄▄▄▅▅▅▅▅▅▆▆▆▆▆▇▇▇▇▇▇███</td></tr><tr><td>loss</td><td>█▂▂▂▁▁▁▁▁▁▁▁▁▁▁▁▁▁▁▁▁▁▁▁▁▁▁▁▁▁▁▁▁▁▁▁▁▁▁▁</td></tr><tr><td>root_mean_squared_error</td><td>█▃▃▃▂▃▃▂▂▂▂▂▂▂▂▂▂▁▁▁▁▁▁▁▁▁▁▁▁▁▁▁▁▁▁▁▁▁▁▁</td></tr><tr><td>val_loss</td><td>▄▇▆█▆▅█▇▆▅▆▄▇▇▅▇▆▇▅▆▄▁▁▆▃▅▃▅▄▄▃▄▄▅▄▂▄▄▃▁</td></tr><tr><td>val_root_mean_squared_error</td><td>▄▇▆█▆▅█▇▇▅▆▄▇▇▅▇▆▇▅▆▄▁▁▆▃▅▃▅▄▄▃▄▄▅▄▂▄▄▃▁</td></tr></table><br/></div><div class=\"wandb-col\">\n",
       "<h3>Run summary:</h3><br/><table class=\"wandb\"><tr><td>Mean Validation Loss (all folds)</td><td>0.49467</td></tr><tr><td>Mean Validation RMSE (all folds)</td><td>0.98904</td></tr><tr><td>best_epoch</td><td>321</td></tr><tr><td>best_val_loss</td><td>0.34884</td></tr><tr><td>epoch</td><td>499</td></tr><tr><td>loss</td><td>0.00493</td></tr><tr><td>root_mean_squared_error</td><td>0.09926</td></tr><tr><td>val_loss</td><td>0.55144</td></tr><tr><td>val_root_mean_squared_error</td><td>1.05296</td></tr></table>\n",
       "</div></div>\n",
       "Synced 5 W&B file(s), 0 media file(s), 0 artifact file(s) and 1 other file(s)\n",
       "<br/>Synced <strong style=\"color:#cdcd00\">expert-sweep-6</strong>: <a href=\"https://wandb.ai/luiscostigan/house-price-prediction/runs/vmxct2o9\" target=\"_blank\">https://wandb.ai/luiscostigan/house-price-prediction/runs/vmxct2o9</a><br/>\n",
       "Find logs at: <code>./wandb/run-20220307_054134-vmxct2o9/logs</code><br/>\n"
      ],
      "text/plain": [
       "<IPython.core.display.HTML object>"
      ]
     },
     "metadata": {},
     "output_type": "display_data"
    },
    {
     "name": "stderr",
     "output_type": "stream",
     "text": [
      "\u001b[34m\u001b[1mwandb\u001b[0m: wandb version 0.12.11 is available!  To upgrade, please run:\n",
      "\u001b[34m\u001b[1mwandb\u001b[0m:  $ pip install wandb --upgrade\n"
     ]
    },
    {
     "data": {
      "text/html": [
       "\n",
       "                    Syncing run <strong><a href=\"https://wandb.ai/luiscostigan/house-price-prediction/runs/vmxct2o9\" target=\"_blank\">expert-sweep-6</a></strong> to <a href=\"https://wandb.ai/luiscostigan/house-price-prediction\" target=\"_blank\">Weights & Biases</a> (<a href=\"https://docs.wandb.com/integrations/jupyter.html\" target=\"_blank\">docs</a>).<br/>\n",
       "Sweep page: <a href=\"https://wandb.ai/luiscostigan/house-price-prediction/sweeps/r64dtrnj\" target=\"_blank\">https://wandb.ai/luiscostigan/house-price-prediction/sweeps/r64dtrnj</a><br/>\n",
       "\n",
       "                "
      ],
      "text/plain": [
       "<IPython.core.display.HTML object>"
      ]
     },
     "metadata": {},
     "output_type": "display_data"
    },
    {
     "name": "stdout",
     "output_type": "stream",
     "text": [
      "37/37 [==============================] - 0s 1ms/step - loss: 0.1207 - root_mean_squared_error: 0.4914\n",
      "Score for fold 5: loss of 0.1207403838634491; root_mean_squared_error of 0.4914069175720215\n",
      "------------------------------------------------------------------------\n",
      "Score per fold\n",
      "------------------------------------------------------------------------\n",
      "> Fold 1 - Loss: 0.2920249402523041 - RMSE: 0.7642316222190857\n",
      "------------------------------------------------------------------------\n",
      "> Fold 2 - Loss: 0.5072299242019653 - RMSE: 1.0090665817260742\n",
      "------------------------------------------------------------------------\n",
      "> Fold 3 - Loss: 0.6279675960540771 - RMSE: 1.1299045085906982\n",
      "------------------------------------------------------------------------\n",
      "> Fold 4 - Loss: 0.5514375567436218 - RMSE: 1.0529553890228271\n",
      "------------------------------------------------------------------------\n",
      "> Fold 5 - Loss: 0.1207403838634491 - RMSE: 0.4914069175720215\n",
      "------------------------------------------------------------------------\n",
      "Average scores for all folds:\n",
      "> RMSE: 0.8895130038261414 (+- 0.23365719647396718)\n",
      "> Loss: 0.4198800802230835\n",
      "------------------------------------------------------------------------\n"
     ]
    },
    {
     "data": {
      "text/html": [
       "<br/>Waiting for W&B process to finish, PID 4924... <strong style=\"color:green\">(success).</strong>"
      ],
      "text/plain": [
       "<IPython.core.display.HTML object>"
      ]
     },
     "metadata": {},
     "output_type": "display_data"
    },
    {
     "data": {
      "application/vnd.jupyter.widget-view+json": {
       "model_id": "92abb730f9b242e28c2c59d91e93d8d8",
       "version_major": 2,
       "version_minor": 0
      },
      "text/plain": [
       "VBox(children=(Label(value=' 0.12MB of 0.12MB uploaded (0.00MB deduped)\\r'), FloatProgress(value=1.0, max=1.0)…"
      ]
     },
     "metadata": {},
     "output_type": "display_data"
    },
    {
     "data": {
      "text/html": [
       "<style>\n",
       "    table.wandb td:nth-child(1) { padding: 0 10px; text-align: right }\n",
       "    .wandb-row { display: flex; flex-direction: row; flex-wrap: wrap; width: 100% }\n",
       "    .wandb-col { display: flex; flex-direction: column; flex-basis: 100%; flex: 1; padding: 10px; }\n",
       "    </style>\n",
       "<div class=\"wandb-row\"><div class=\"wandb-col\">\n",
       "<h3>Run history:</h3><br/><table class=\"wandb\"><tr><td>Mean Validation Loss (all folds)</td><td>▁</td></tr><tr><td>Mean Validation RMSE (all folds)</td><td>▁</td></tr><tr><td>epoch</td><td>▁▁▁▂▂▂▂▂▂▃▃▃▃▃▄▄▄▄▄▄▅▅▅▅▅▅▆▆▆▆▆▇▇▇▇▇▇███</td></tr><tr><td>loss</td><td>█▂▁▁▁▁▁▁▁▁▁▁▁▁▁▁▁▁▁▁▁▁▁▁▁▁▁▁▁▁▁▁▁▁▁▁▁▁▁▁</td></tr><tr><td>root_mean_squared_error</td><td>█▃▂▂▂▂▂▂▁▁▁▁▁▁▁▁▁▁▁▁▁▁▁▁▁▁▁▁▁▁▁▁▁▁▁▁▁▁▁▁</td></tr><tr><td>val_loss</td><td>▇█▇▄▅█▅▆▃▄▄▃▄▃▂▃▃▃▃▂▂▂▃▂▃▃▃▃▂▂▂▁▂▁▁▁▁▂▁▁</td></tr><tr><td>val_root_mean_squared_error</td><td>▇█▇▅▅█▆▇▄▅▅▄▄▃▃▄▃▄▃▃▂▂▃▃▃▃▃▃▂▃▃▂▂▂▁▁▁▂▁▂</td></tr></table><br/></div><div class=\"wandb-col\">\n",
       "<h3>Run summary:</h3><br/><table class=\"wandb\"><tr><td>Mean Validation Loss (all folds)</td><td>0.41988</td></tr><tr><td>Mean Validation RMSE (all folds)</td><td>0.88951</td></tr><tr><td>best_epoch</td><td>484</td></tr><tr><td>best_val_loss</td><td>0.09596</td></tr><tr><td>epoch</td><td>499</td></tr><tr><td>loss</td><td>0.00429</td></tr><tr><td>root_mean_squared_error</td><td>0.0926</td></tr><tr><td>val_loss</td><td>0.12074</td></tr><tr><td>val_root_mean_squared_error</td><td>0.49141</td></tr></table>\n",
       "</div></div>\n",
       "Synced 5 W&B file(s), 0 media file(s), 0 artifact file(s) and 1 other file(s)\n",
       "<br/>Synced <strong style=\"color:#cdcd00\">expert-sweep-6</strong>: <a href=\"https://wandb.ai/luiscostigan/house-price-prediction/runs/vmxct2o9\" target=\"_blank\">https://wandb.ai/luiscostigan/house-price-prediction/runs/vmxct2o9</a><br/>\n",
       "Find logs at: <code>./wandb/run-20220307_054334-vmxct2o9/logs</code><br/>\n"
      ],
      "text/plain": [
       "<IPython.core.display.HTML object>"
      ]
     },
     "metadata": {},
     "output_type": "display_data"
    },
    {
     "name": "stderr",
     "output_type": "stream",
     "text": [
      "\u001b[34m\u001b[1mwandb\u001b[0m: Agent Starting Run: aljjmwkp with config:\n",
      "\u001b[34m\u001b[1mwandb\u001b[0m: \tbatch_size: 64\n",
      "\u001b[34m\u001b[1mwandb\u001b[0m: \tdense1: 16\n",
      "\u001b[34m\u001b[1mwandb\u001b[0m: \tdense2: 8\n",
      "\u001b[34m\u001b[1mwandb\u001b[0m: \tdropout1: 0.023848486718494034\n",
      "\u001b[34m\u001b[1mwandb\u001b[0m: \tepochs: 750\n",
      "\u001b[34m\u001b[1mwandb\u001b[0m: wandb version 0.12.11 is available!  To upgrade, please run:\n",
      "\u001b[34m\u001b[1mwandb\u001b[0m:  $ pip install wandb --upgrade\n"
     ]
    },
    {
     "data": {
      "text/html": [
       "\n",
       "                    Syncing run <strong><a href=\"https://wandb.ai/luiscostigan/house-price-prediction/runs/aljjmwkp\" target=\"_blank\">splendid-sweep-7</a></strong> to <a href=\"https://wandb.ai/luiscostigan/house-price-prediction\" target=\"_blank\">Weights & Biases</a> (<a href=\"https://docs.wandb.com/integrations/jupyter.html\" target=\"_blank\">docs</a>).<br/>\n",
       "Sweep page: <a href=\"https://wandb.ai/luiscostigan/house-price-prediction/sweeps/r64dtrnj\" target=\"_blank\">https://wandb.ai/luiscostigan/house-price-prediction/sweeps/r64dtrnj</a><br/>\n",
       "\n",
       "                "
      ],
      "text/plain": [
       "<IPython.core.display.HTML object>"
      ]
     },
     "metadata": {},
     "output_type": "display_data"
    },
    {
     "name": "stdout",
     "output_type": "stream",
     "text": [
      "37/37 [==============================] - 0s 765us/step - loss: 0.0076 - root_mean_squared_error: 0.1229\n",
      "Score for fold 1: loss of 0.007551100105047226; root_mean_squared_error of 0.12289100885391235\n",
      "------------------------------------------------------------------------\n",
      "Score per fold\n",
      "------------------------------------------------------------------------\n",
      "> Fold 1 - Loss: 0.007551100105047226 - RMSE: 0.12289100885391235\n",
      "------------------------------------------------------------------------\n",
      "Average scores for all folds:\n",
      "> RMSE: 0.12289100885391235 (+- 0.0)\n",
      "> Loss: 0.007551100105047226\n",
      "------------------------------------------------------------------------\n"
     ]
    },
    {
     "data": {
      "text/html": [
       "<br/>Waiting for W&B process to finish, PID 15528... <strong style=\"color:green\">(success).</strong>"
      ],
      "text/plain": [
       "<IPython.core.display.HTML object>"
      ]
     },
     "metadata": {},
     "output_type": "display_data"
    },
    {
     "data": {
      "application/vnd.jupyter.widget-view+json": {
       "model_id": "09a5b79baa8b4792acdb3592aed15fee",
       "version_major": 2,
       "version_minor": 0
      },
      "text/plain": [
       "VBox(children=(Label(value=' 0.12MB of 0.12MB uploaded (0.00MB deduped)\\r'), FloatProgress(value=1.0, max=1.0)…"
      ]
     },
     "metadata": {},
     "output_type": "display_data"
    },
    {
     "data": {
      "text/html": [
       "<style>\n",
       "    table.wandb td:nth-child(1) { padding: 0 10px; text-align: right }\n",
       "    .wandb-row { display: flex; flex-direction: row; flex-wrap: wrap; width: 100% }\n",
       "    .wandb-col { display: flex; flex-direction: column; flex-basis: 100%; flex: 1; padding: 10px; }\n",
       "    </style>\n",
       "<div class=\"wandb-row\"><div class=\"wandb-col\">\n",
       "<h3>Run history:</h3><br/><table class=\"wandb\"><tr><td>Mean Validation Loss (all folds)</td><td>▁</td></tr><tr><td>Mean Validation RMSE (all folds)</td><td>▁</td></tr><tr><td>epoch</td><td>▁▁▁▂▂▂▂▂▂▃▃▃▃▃▄▄▄▄▄▄▅▅▅▅▅▅▆▆▆▆▆▇▇▇▇▇▇███</td></tr><tr><td>loss</td><td>█▆▅▂▂▂▁▁▁▁▁▂▁▂▁▁▁▁▂▁▁▁▁▁▁▁▁▁▁▁▁▁▂▁▁▁▁▁▁▁</td></tr><tr><td>root_mean_squared_error</td><td>█▇▅▃▂▂▂▂▁▂▂▃▂▂▁▁▂▂▂▂▂▁▁▁▁▂▁▂▁▁▁▂▂▁▁▂▁▁▁▁</td></tr><tr><td>val_loss</td><td>▃▁▁▆▁▆▁█▁▁▃▅▂▃▁▆▄▄▅▅▄▅▃▂▁▃▂▄▂▂▁▅▅▂▁▁▁▃▅▁</td></tr><tr><td>val_root_mean_squared_error</td><td>▄▂▂▇▁▇▂█▂▁▄▆▃▄▂▇▅▆▆▆▅▆▄▂▁▄▃▅▃▂▁▆▆▂▂▂▂▄▆▁</td></tr></table><br/></div><div class=\"wandb-col\">\n",
       "<h3>Run summary:</h3><br/><table class=\"wandb\"><tr><td>Mean Validation Loss (all folds)</td><td>0.00755</td></tr><tr><td>Mean Validation RMSE (all folds)</td><td>0.12289</td></tr><tr><td>best_epoch</td><td>728</td></tr><tr><td>best_val_loss</td><td>0.00292</td></tr><tr><td>epoch</td><td>749</td></tr><tr><td>loss</td><td>0.01599</td></tr><tr><td>root_mean_squared_error</td><td>0.1963</td></tr><tr><td>val_loss</td><td>0.00755</td></tr><tr><td>val_root_mean_squared_error</td><td>0.12289</td></tr></table>\n",
       "</div></div>\n",
       "Synced 5 W&B file(s), 0 media file(s), 0 artifact file(s) and 1 other file(s)\n",
       "<br/>Synced <strong style=\"color:#cdcd00\">splendid-sweep-7</strong>: <a href=\"https://wandb.ai/luiscostigan/house-price-prediction/runs/aljjmwkp\" target=\"_blank\">https://wandb.ai/luiscostigan/house-price-prediction/runs/aljjmwkp</a><br/>\n",
       "Find logs at: <code>./wandb/run-20220307_054529-aljjmwkp/logs</code><br/>\n"
      ],
      "text/plain": [
       "<IPython.core.display.HTML object>"
      ]
     },
     "metadata": {},
     "output_type": "display_data"
    },
    {
     "name": "stderr",
     "output_type": "stream",
     "text": [
      "\u001b[34m\u001b[1mwandb\u001b[0m: wandb version 0.12.11 is available!  To upgrade, please run:\n",
      "\u001b[34m\u001b[1mwandb\u001b[0m:  $ pip install wandb --upgrade\n"
     ]
    },
    {
     "data": {
      "text/html": [
       "\n",
       "                    Syncing run <strong><a href=\"https://wandb.ai/luiscostigan/house-price-prediction/runs/aljjmwkp\" target=\"_blank\">splendid-sweep-7</a></strong> to <a href=\"https://wandb.ai/luiscostigan/house-price-prediction\" target=\"_blank\">Weights & Biases</a> (<a href=\"https://docs.wandb.com/integrations/jupyter.html\" target=\"_blank\">docs</a>).<br/>\n",
       "Sweep page: <a href=\"https://wandb.ai/luiscostigan/house-price-prediction/sweeps/r64dtrnj\" target=\"_blank\">https://wandb.ai/luiscostigan/house-price-prediction/sweeps/r64dtrnj</a><br/>\n",
       "\n",
       "                "
      ],
      "text/plain": [
       "<IPython.core.display.HTML object>"
      ]
     },
     "metadata": {},
     "output_type": "display_data"
    },
    {
     "name": "stdout",
     "output_type": "stream",
     "text": [
      "37/37 [==============================] - 0s 832us/step - loss: 0.0087 - root_mean_squared_error: 0.1322\n",
      "Score for fold 2: loss of 0.008737425319850445; root_mean_squared_error of 0.1321924775838852\n",
      "------------------------------------------------------------------------\n",
      "Score per fold\n",
      "------------------------------------------------------------------------\n",
      "> Fold 1 - Loss: 0.007551100105047226 - RMSE: 0.12289100885391235\n",
      "------------------------------------------------------------------------\n",
      "> Fold 2 - Loss: 0.008737425319850445 - RMSE: 0.1321924775838852\n",
      "------------------------------------------------------------------------\n",
      "Average scores for all folds:\n",
      "> RMSE: 0.12754174321889877 (+- 0.00465073436498642)\n",
      "> Loss: 0.008144262712448835\n",
      "------------------------------------------------------------------------\n"
     ]
    },
    {
     "data": {
      "text/html": [
       "<br/>Waiting for W&B process to finish, PID 30384... <strong style=\"color:green\">(success).</strong>"
      ],
      "text/plain": [
       "<IPython.core.display.HTML object>"
      ]
     },
     "metadata": {},
     "output_type": "display_data"
    },
    {
     "data": {
      "application/vnd.jupyter.widget-view+json": {
       "model_id": "5ecc9b24abdf47abba9d412f502d9659",
       "version_major": 2,
       "version_minor": 0
      },
      "text/plain": [
       "VBox(children=(Label(value=' 0.12MB of 0.12MB uploaded (0.00MB deduped)\\r'), FloatProgress(value=1.0, max=1.0)…"
      ]
     },
     "metadata": {},
     "output_type": "display_data"
    },
    {
     "data": {
      "text/html": [
       "<style>\n",
       "    table.wandb td:nth-child(1) { padding: 0 10px; text-align: right }\n",
       "    .wandb-row { display: flex; flex-direction: row; flex-wrap: wrap; width: 100% }\n",
       "    .wandb-col { display: flex; flex-direction: column; flex-basis: 100%; flex: 1; padding: 10px; }\n",
       "    </style>\n",
       "<div class=\"wandb-row\"><div class=\"wandb-col\">\n",
       "<h3>Run history:</h3><br/><table class=\"wandb\"><tr><td>Mean Validation Loss (all folds)</td><td>▁</td></tr><tr><td>Mean Validation RMSE (all folds)</td><td>▁</td></tr><tr><td>epoch</td><td>▁▁▁▂▂▂▂▂▂▃▃▃▃▃▄▄▄▄▄▄▅▅▅▅▅▅▆▆▆▆▆▇▇▇▇▇▇███</td></tr><tr><td>loss</td><td>█▆▅▃▃▂▂▂▂▂▂▁▂▁▁▂▂▁▁▂▁▁▁▁▁▁▁▁▁▁▁▁▁▁▁▁▁▁▁▁</td></tr><tr><td>root_mean_squared_error</td><td>█▆▅▄▃▃▃▃▃▂▃▂▃▂▁▃▃▃▂▃▃▁▂▁▁▁▂▂▂▂▂▁▁▂▂▂▂▂▁▁</td></tr><tr><td>val_loss</td><td>▄▅▁▂▁▂▁▄▅▄▃▁▅█▂▇▄▁▁▃▇▁▄▁▄▂▁▆▂▁▁▁▂▂▄▅▁▆▁▄</td></tr><tr><td>val_root_mean_squared_error</td><td>▅▆▁▃▁▃▂▅▆▅▄▂▆█▃▇▅▂▂▄▇▁▅▁▅▂▁▇▄▁▁▂▃▂▅▆▁▇▂▆</td></tr></table><br/></div><div class=\"wandb-col\">\n",
       "<h3>Run summary:</h3><br/><table class=\"wandb\"><tr><td>Mean Validation Loss (all folds)</td><td>0.00814</td></tr><tr><td>Mean Validation RMSE (all folds)</td><td>0.12754</td></tr><tr><td>best_epoch</td><td>452</td></tr><tr><td>best_val_loss</td><td>0.0027</td></tr><tr><td>epoch</td><td>749</td></tr><tr><td>loss</td><td>0.0181</td></tr><tr><td>root_mean_squared_error</td><td>0.23697</td></tr><tr><td>val_loss</td><td>0.00874</td></tr><tr><td>val_root_mean_squared_error</td><td>0.13219</td></tr></table>\n",
       "</div></div>\n",
       "Synced 5 W&B file(s), 0 media file(s), 0 artifact file(s) and 1 other file(s)\n",
       "<br/>Synced <strong style=\"color:#cdcd00\">splendid-sweep-7</strong>: <a href=\"https://wandb.ai/luiscostigan/house-price-prediction/runs/aljjmwkp\" target=\"_blank\">https://wandb.ai/luiscostigan/house-price-prediction/runs/aljjmwkp</a><br/>\n",
       "Find logs at: <code>./wandb/run-20220307_054620-aljjmwkp/logs</code><br/>\n"
      ],
      "text/plain": [
       "<IPython.core.display.HTML object>"
      ]
     },
     "metadata": {},
     "output_type": "display_data"
    },
    {
     "name": "stderr",
     "output_type": "stream",
     "text": [
      "\u001b[34m\u001b[1mwandb\u001b[0m: wandb version 0.12.11 is available!  To upgrade, please run:\n",
      "\u001b[34m\u001b[1mwandb\u001b[0m:  $ pip install wandb --upgrade\n"
     ]
    },
    {
     "data": {
      "text/html": [
       "\n",
       "                    Syncing run <strong><a href=\"https://wandb.ai/luiscostigan/house-price-prediction/runs/aljjmwkp\" target=\"_blank\">splendid-sweep-7</a></strong> to <a href=\"https://wandb.ai/luiscostigan/house-price-prediction\" target=\"_blank\">Weights & Biases</a> (<a href=\"https://docs.wandb.com/integrations/jupyter.html\" target=\"_blank\">docs</a>).<br/>\n",
       "Sweep page: <a href=\"https://wandb.ai/luiscostigan/house-price-prediction/sweeps/r64dtrnj\" target=\"_blank\">https://wandb.ai/luiscostigan/house-price-prediction/sweeps/r64dtrnj</a><br/>\n",
       "\n",
       "                "
      ],
      "text/plain": [
       "<IPython.core.display.HTML object>"
      ]
     },
     "metadata": {},
     "output_type": "display_data"
    },
    {
     "name": "stdout",
     "output_type": "stream",
     "text": [
      "37/37 [==============================] - 0s 734us/step - loss: 0.0720 - root_mean_squared_error: 0.3794\n",
      "Score for fold 3: loss of 0.07197198271751404; root_mean_squared_error of 0.37939947843551636\n",
      "------------------------------------------------------------------------\n",
      "Score per fold\n",
      "------------------------------------------------------------------------\n",
      "> Fold 1 - Loss: 0.007551100105047226 - RMSE: 0.12289100885391235\n",
      "------------------------------------------------------------------------\n",
      "> Fold 2 - Loss: 0.008737425319850445 - RMSE: 0.1321924775838852\n",
      "------------------------------------------------------------------------\n",
      "> Fold 3 - Loss: 0.07197198271751404 - RMSE: 0.37939947843551636\n",
      "------------------------------------------------------------------------\n",
      "Average scores for all folds:\n",
      "> RMSE: 0.21149432162443796 (+- 0.1187875851901151)\n",
      "> Loss: 0.029420169380803902\n",
      "------------------------------------------------------------------------\n"
     ]
    },
    {
     "data": {
      "text/html": [
       "<br/>Waiting for W&B process to finish, PID 12792... <strong style=\"color:green\">(success).</strong>"
      ],
      "text/plain": [
       "<IPython.core.display.HTML object>"
      ]
     },
     "metadata": {},
     "output_type": "display_data"
    },
    {
     "data": {
      "application/vnd.jupyter.widget-view+json": {
       "model_id": "633b3c47ea7f420db6f92c36220fba84",
       "version_major": 2,
       "version_minor": 0
      },
      "text/plain": [
       "VBox(children=(Label(value=' 0.12MB of 0.12MB uploaded (0.00MB deduped)\\r'), FloatProgress(value=1.0, max=1.0)…"
      ]
     },
     "metadata": {},
     "output_type": "display_data"
    },
    {
     "data": {
      "text/html": [
       "<style>\n",
       "    table.wandb td:nth-child(1) { padding: 0 10px; text-align: right }\n",
       "    .wandb-row { display: flex; flex-direction: row; flex-wrap: wrap; width: 100% }\n",
       "    .wandb-col { display: flex; flex-direction: column; flex-basis: 100%; flex: 1; padding: 10px; }\n",
       "    </style>\n",
       "<div class=\"wandb-row\"><div class=\"wandb-col\">\n",
       "<h3>Run history:</h3><br/><table class=\"wandb\"><tr><td>Mean Validation Loss (all folds)</td><td>▁</td></tr><tr><td>Mean Validation RMSE (all folds)</td><td>▁</td></tr><tr><td>epoch</td><td>▁▁▁▂▂▂▂▂▂▃▃▃▃▃▄▄▄▄▄▄▅▅▅▅▅▅▆▆▆▆▆▇▇▇▇▇▇███</td></tr><tr><td>loss</td><td>█▃▂▂▂▁▁▁▁▁▁▁▁▁▁▁▁▁▁▁▁▁▁▁▁▁▁▁▁▁▁▁▁▁▁▁▁▁▁▁</td></tr><tr><td>root_mean_squared_error</td><td>█▄▃▃▂▂▂▂▂▁▁▁▂▂▂▁▂▂▂▂▁▂▁▁▁▂▂▁▁▁▁▁▁▁▁▁▁▁▁▁</td></tr><tr><td>val_loss</td><td>▃▁▁▁▃▃▇▂▃▇▅▅▇▂▃▆▁▂▂▅▁▂▇▄▂▇▅▁█▁▂▆▃▅▁▁▂▄▄▃</td></tr><tr><td>val_root_mean_squared_error</td><td>▄▁▁▁▄▄▇▃▄█▆▆▇▃▃▆▂▂▂▆▂▃█▅▂▇▆▂█▂▃▇▄▆▁▂▂▅▅▄</td></tr></table><br/></div><div class=\"wandb-col\">\n",
       "<h3>Run summary:</h3><br/><table class=\"wandb\"><tr><td>Mean Validation Loss (all folds)</td><td>0.02942</td></tr><tr><td>Mean Validation RMSE (all folds)</td><td>0.21149</td></tr><tr><td>best_epoch</td><td>619</td></tr><tr><td>best_val_loss</td><td>0.00204</td></tr><tr><td>epoch</td><td>749</td></tr><tr><td>loss</td><td>0.01124</td></tr><tr><td>root_mean_squared_error</td><td>0.16064</td></tr><tr><td>val_loss</td><td>0.07197</td></tr><tr><td>val_root_mean_squared_error</td><td>0.3794</td></tr></table>\n",
       "</div></div>\n",
       "Synced 5 W&B file(s), 0 media file(s), 0 artifact file(s) and 1 other file(s)\n",
       "<br/>Synced <strong style=\"color:#cdcd00\">splendid-sweep-7</strong>: <a href=\"https://wandb.ai/luiscostigan/house-price-prediction/runs/aljjmwkp\" target=\"_blank\">https://wandb.ai/luiscostigan/house-price-prediction/runs/aljjmwkp</a><br/>\n",
       "Find logs at: <code>./wandb/run-20220307_054709-aljjmwkp/logs</code><br/>\n"
      ],
      "text/plain": [
       "<IPython.core.display.HTML object>"
      ]
     },
     "metadata": {},
     "output_type": "display_data"
    },
    {
     "name": "stderr",
     "output_type": "stream",
     "text": [
      "\u001b[34m\u001b[1mwandb\u001b[0m: wandb version 0.12.11 is available!  To upgrade, please run:\n",
      "\u001b[34m\u001b[1mwandb\u001b[0m:  $ pip install wandb --upgrade\n"
     ]
    },
    {
     "data": {
      "text/html": [
       "\n",
       "                    Syncing run <strong><a href=\"https://wandb.ai/luiscostigan/house-price-prediction/runs/aljjmwkp\" target=\"_blank\">splendid-sweep-7</a></strong> to <a href=\"https://wandb.ai/luiscostigan/house-price-prediction\" target=\"_blank\">Weights & Biases</a> (<a href=\"https://docs.wandb.com/integrations/jupyter.html\" target=\"_blank\">docs</a>).<br/>\n",
       "Sweep page: <a href=\"https://wandb.ai/luiscostigan/house-price-prediction/sweeps/r64dtrnj\" target=\"_blank\">https://wandb.ai/luiscostigan/house-price-prediction/sweeps/r64dtrnj</a><br/>\n",
       "\n",
       "                "
      ],
      "text/plain": [
       "<IPython.core.display.HTML object>"
      ]
     },
     "metadata": {},
     "output_type": "display_data"
    },
    {
     "name": "stdout",
     "output_type": "stream",
     "text": [
      "37/37 [==============================] - 0s 779us/step - loss: 0.0415 - root_mean_squared_error: 0.2880\n",
      "Score for fold 4: loss of 0.041473597288131714; root_mean_squared_error of 0.2880055606365204\n",
      "------------------------------------------------------------------------\n",
      "Score per fold\n",
      "------------------------------------------------------------------------\n",
      "> Fold 1 - Loss: 0.007551100105047226 - RMSE: 0.12289100885391235\n",
      "------------------------------------------------------------------------\n",
      "> Fold 2 - Loss: 0.008737425319850445 - RMSE: 0.1321924775838852\n",
      "------------------------------------------------------------------------\n",
      "> Fold 3 - Loss: 0.07197198271751404 - RMSE: 0.37939947843551636\n",
      "------------------------------------------------------------------------\n",
      "> Fold 4 - Loss: 0.041473597288131714 - RMSE: 0.2880055606365204\n",
      "------------------------------------------------------------------------\n",
      "Average scores for all folds:\n",
      "> RMSE: 0.23062213137745857 (+- 0.10807630227907222)\n",
      "> Loss: 0.032433526357635856\n",
      "------------------------------------------------------------------------\n"
     ]
    },
    {
     "data": {
      "text/html": [
       "<br/>Waiting for W&B process to finish, PID 27613... <strong style=\"color:green\">(success).</strong>"
      ],
      "text/plain": [
       "<IPython.core.display.HTML object>"
      ]
     },
     "metadata": {},
     "output_type": "display_data"
    },
    {
     "data": {
      "application/vnd.jupyter.widget-view+json": {
       "model_id": "4147852fe223456087e0d1e627203fd0",
       "version_major": 2,
       "version_minor": 0
      },
      "text/plain": [
       "VBox(children=(Label(value=' 0.12MB of 0.12MB uploaded (0.00MB deduped)\\r'), FloatProgress(value=1.0, max=1.0)…"
      ]
     },
     "metadata": {},
     "output_type": "display_data"
    },
    {
     "data": {
      "text/html": [
       "<style>\n",
       "    table.wandb td:nth-child(1) { padding: 0 10px; text-align: right }\n",
       "    .wandb-row { display: flex; flex-direction: row; flex-wrap: wrap; width: 100% }\n",
       "    .wandb-col { display: flex; flex-direction: column; flex-basis: 100%; flex: 1; padding: 10px; }\n",
       "    </style>\n",
       "<div class=\"wandb-row\"><div class=\"wandb-col\">\n",
       "<h3>Run history:</h3><br/><table class=\"wandb\"><tr><td>Mean Validation Loss (all folds)</td><td>▁</td></tr><tr><td>Mean Validation RMSE (all folds)</td><td>▁</td></tr><tr><td>epoch</td><td>▁▁▁▂▂▂▂▂▂▃▃▃▃▃▄▄▄▄▄▄▅▅▅▅▅▅▆▆▆▆▆▇▇▇▇▇▇███</td></tr><tr><td>loss</td><td>██▆▇▆▇▅▄▄▃▃▃▂▂▂▂▂▁▁▂▁▁▁▁▁▁▁▁▁▁▁▁▁▁▁▁▁▁▁▁</td></tr><tr><td>root_mean_squared_error</td><td>██▇▇▆▇▆▅▅▄▃▄▃▃▃▂▂▂▂▂▂▂▂▂▂▂▂▂▁▂▂▁▂▁▁▁▁▁▁▁</td></tr><tr><td>val_loss</td><td>▄▂█▂▇▃▂▄▂▃▂▃▂▆▁▁▂▁▅▇▃▃▅▂▂▁▅▇▁▅▆▆▅▂▂▄▄▅▂▄</td></tr><tr><td>val_root_mean_squared_error</td><td>▅▃█▃▇▄▃▅▂▄▃▄▃▇▁▂▄▁▆█▄▅▆▃▄▂▆█▂▆▇▆▆▃▂▅▅▆▂▆</td></tr></table><br/></div><div class=\"wandb-col\">\n",
       "<h3>Run summary:</h3><br/><table class=\"wandb\"><tr><td>Mean Validation Loss (all folds)</td><td>0.03243</td></tr><tr><td>Mean Validation RMSE (all folds)</td><td>0.23062</td></tr><tr><td>best_epoch</td><td>608</td></tr><tr><td>best_val_loss</td><td>0.00278</td></tr><tr><td>epoch</td><td>749</td></tr><tr><td>loss</td><td>0.00813</td></tr><tr><td>root_mean_squared_error</td><td>0.12755</td></tr><tr><td>val_loss</td><td>0.04147</td></tr><tr><td>val_root_mean_squared_error</td><td>0.28801</td></tr></table>\n",
       "</div></div>\n",
       "Synced 5 W&B file(s), 0 media file(s), 0 artifact file(s) and 1 other file(s)\n",
       "<br/>Synced <strong style=\"color:#cdcd00\">splendid-sweep-7</strong>: <a href=\"https://wandb.ai/luiscostigan/house-price-prediction/runs/aljjmwkp\" target=\"_blank\">https://wandb.ai/luiscostigan/house-price-prediction/runs/aljjmwkp</a><br/>\n",
       "Find logs at: <code>./wandb/run-20220307_054756-aljjmwkp/logs</code><br/>\n"
      ],
      "text/plain": [
       "<IPython.core.display.HTML object>"
      ]
     },
     "metadata": {},
     "output_type": "display_data"
    },
    {
     "name": "stderr",
     "output_type": "stream",
     "text": [
      "\u001b[34m\u001b[1mwandb\u001b[0m: wandb version 0.12.11 is available!  To upgrade, please run:\n",
      "\u001b[34m\u001b[1mwandb\u001b[0m:  $ pip install wandb --upgrade\n"
     ]
    },
    {
     "data": {
      "text/html": [
       "\n",
       "                    Syncing run <strong><a href=\"https://wandb.ai/luiscostigan/house-price-prediction/runs/aljjmwkp\" target=\"_blank\">splendid-sweep-7</a></strong> to <a href=\"https://wandb.ai/luiscostigan/house-price-prediction\" target=\"_blank\">Weights & Biases</a> (<a href=\"https://docs.wandb.com/integrations/jupyter.html\" target=\"_blank\">docs</a>).<br/>\n",
       "Sweep page: <a href=\"https://wandb.ai/luiscostigan/house-price-prediction/sweeps/r64dtrnj\" target=\"_blank\">https://wandb.ai/luiscostigan/house-price-prediction/sweeps/r64dtrnj</a><br/>\n",
       "\n",
       "                "
      ],
      "text/plain": [
       "<IPython.core.display.HTML object>"
      ]
     },
     "metadata": {},
     "output_type": "display_data"
    },
    {
     "name": "stdout",
     "output_type": "stream",
     "text": [
      "37/37 [==============================] - 0s 833us/step - loss: 0.0120 - root_mean_squared_error: 0.1546\n",
      "Score for fold 5: loss of 0.011958198621869087; root_mean_squared_error of 0.1546492725610733\n",
      "------------------------------------------------------------------------\n",
      "Score per fold\n",
      "------------------------------------------------------------------------\n",
      "> Fold 1 - Loss: 0.007551100105047226 - RMSE: 0.12289100885391235\n",
      "------------------------------------------------------------------------\n",
      "> Fold 2 - Loss: 0.008737425319850445 - RMSE: 0.1321924775838852\n",
      "------------------------------------------------------------------------\n",
      "> Fold 3 - Loss: 0.07197198271751404 - RMSE: 0.37939947843551636\n",
      "------------------------------------------------------------------------\n",
      "> Fold 4 - Loss: 0.041473597288131714 - RMSE: 0.2880055606365204\n",
      "------------------------------------------------------------------------\n",
      "> Fold 5 - Loss: 0.011958198621869087 - RMSE: 0.1546492725610733\n",
      "------------------------------------------------------------------------\n",
      "Average scores for all folds:\n",
      "> RMSE: 0.21542755961418153 (+- 0.10133059624679715)\n",
      "> Loss: 0.028338460810482503\n",
      "------------------------------------------------------------------------\n"
     ]
    },
    {
     "data": {
      "text/html": [
       "<br/>Waiting for W&B process to finish, PID 10003... <strong style=\"color:green\">(success).</strong>"
      ],
      "text/plain": [
       "<IPython.core.display.HTML object>"
      ]
     },
     "metadata": {},
     "output_type": "display_data"
    },
    {
     "data": {
      "application/vnd.jupyter.widget-view+json": {
       "model_id": "c028dbda526a4e0caa68ed0ed9eaf8ff",
       "version_major": 2,
       "version_minor": 0
      },
      "text/plain": [
       "VBox(children=(Label(value=' 0.12MB of 0.12MB uploaded (0.00MB deduped)\\r'), FloatProgress(value=1.0, max=1.0)…"
      ]
     },
     "metadata": {},
     "output_type": "display_data"
    },
    {
     "data": {
      "text/html": [
       "<style>\n",
       "    table.wandb td:nth-child(1) { padding: 0 10px; text-align: right }\n",
       "    .wandb-row { display: flex; flex-direction: row; flex-wrap: wrap; width: 100% }\n",
       "    .wandb-col { display: flex; flex-direction: column; flex-basis: 100%; flex: 1; padding: 10px; }\n",
       "    </style>\n",
       "<div class=\"wandb-row\"><div class=\"wandb-col\">\n",
       "<h3>Run history:</h3><br/><table class=\"wandb\"><tr><td>Mean Validation Loss (all folds)</td><td>▁</td></tr><tr><td>Mean Validation RMSE (all folds)</td><td>▁</td></tr><tr><td>epoch</td><td>▁▁▁▂▂▂▂▂▂▃▃▃▃▃▄▄▄▄▄▄▅▅▅▅▅▅▆▆▆▆▆▇▇▇▇▇▇███</td></tr><tr><td>loss</td><td>█▇▅▄▃▂▂▁▂▁▂▁▁▁▁▂▁▂▁▁▁▁▁▁▁▁▁▂▁▁▁▁▁▁▂▁▁▁▁▁</td></tr><tr><td>root_mean_squared_error</td><td>█▇▆▅▄▂▂▂▃▂▃▂▂▂▂▄▁▃▂▂▂▂▁▂▁▂▂▃▁▂▁▁▂▁▃▂▂▁▂▁</td></tr><tr><td>val_loss</td><td>▇▅▃▃▇▆▁▄▂▂▄▁█▆▇▄▁▂▁▁▂▅▇▂▆▂▂▅▇▆▆▁▆▁▄▇▃▇▅▁</td></tr><tr><td>val_root_mean_squared_error</td><td>▇▆▄▄█▇▂▅▂▃▅▂█▇▇▅▂▂▂▂▃▆█▂▇▃▃▆█▇▇▂▇▁▅▇▄█▆▂</td></tr></table><br/></div><div class=\"wandb-col\">\n",
       "<h3>Run summary:</h3><br/><table class=\"wandb\"><tr><td>Mean Validation Loss (all folds)</td><td>0.02834</td></tr><tr><td>Mean Validation RMSE (all folds)</td><td>0.21543</td></tr><tr><td>best_epoch</td><td>530</td></tr><tr><td>best_val_loss</td><td>0.00265</td></tr><tr><td>epoch</td><td>749</td></tr><tr><td>loss</td><td>0.01006</td></tr><tr><td>root_mean_squared_error</td><td>0.14188</td></tr><tr><td>val_loss</td><td>0.01196</td></tr><tr><td>val_root_mean_squared_error</td><td>0.15465</td></tr></table>\n",
       "</div></div>\n",
       "Synced 5 W&B file(s), 0 media file(s), 0 artifact file(s) and 1 other file(s)\n",
       "<br/>Synced <strong style=\"color:#cdcd00\">splendid-sweep-7</strong>: <a href=\"https://wandb.ai/luiscostigan/house-price-prediction/runs/aljjmwkp\" target=\"_blank\">https://wandb.ai/luiscostigan/house-price-prediction/runs/aljjmwkp</a><br/>\n",
       "Find logs at: <code>./wandb/run-20220307_054843-aljjmwkp/logs</code><br/>\n"
      ],
      "text/plain": [
       "<IPython.core.display.HTML object>"
      ]
     },
     "metadata": {},
     "output_type": "display_data"
    },
    {
     "name": "stderr",
     "output_type": "stream",
     "text": [
      "\u001b[34m\u001b[1mwandb\u001b[0m: Agent Starting Run: de9vtujm with config:\n",
      "\u001b[34m\u001b[1mwandb\u001b[0m: \tbatch_size: 16\n",
      "\u001b[34m\u001b[1mwandb\u001b[0m: \tdense1: 16\n",
      "\u001b[34m\u001b[1mwandb\u001b[0m: \tdense2: 8\n",
      "\u001b[34m\u001b[1mwandb\u001b[0m: \tdropout1: 0.13558059057411345\n",
      "\u001b[34m\u001b[1mwandb\u001b[0m: \tepochs: 500\n",
      "\u001b[34m\u001b[1mwandb\u001b[0m: wandb version 0.12.11 is available!  To upgrade, please run:\n",
      "\u001b[34m\u001b[1mwandb\u001b[0m:  $ pip install wandb --upgrade\n"
     ]
    },
    {
     "data": {
      "text/html": [
       "\n",
       "                    Syncing run <strong><a href=\"https://wandb.ai/luiscostigan/house-price-prediction/runs/de9vtujm\" target=\"_blank\">trim-sweep-8</a></strong> to <a href=\"https://wandb.ai/luiscostigan/house-price-prediction\" target=\"_blank\">Weights & Biases</a> (<a href=\"https://docs.wandb.com/integrations/jupyter.html\" target=\"_blank\">docs</a>).<br/>\n",
       "Sweep page: <a href=\"https://wandb.ai/luiscostigan/house-price-prediction/sweeps/r64dtrnj\" target=\"_blank\">https://wandb.ai/luiscostigan/house-price-prediction/sweeps/r64dtrnj</a><br/>\n",
       "\n",
       "                "
      ],
      "text/plain": [
       "<IPython.core.display.HTML object>"
      ]
     },
     "metadata": {},
     "output_type": "display_data"
    },
    {
     "name": "stdout",
     "output_type": "stream",
     "text": [
      "37/37 [==============================] - 0s 2ms/step - loss: 0.5052 - root_mean_squared_error: 1.0063\n",
      "Score for fold 1: loss of 0.5051852464675903; root_mean_squared_error of 1.0063101053237915\n",
      "------------------------------------------------------------------------\n",
      "Score per fold\n",
      "------------------------------------------------------------------------\n",
      "> Fold 1 - Loss: 0.5051852464675903 - RMSE: 1.0063101053237915\n",
      "------------------------------------------------------------------------\n",
      "Average scores for all folds:\n",
      "> RMSE: 1.0063101053237915 (+- 0.0)\n",
      "> Loss: 0.5051852464675903\n",
      "------------------------------------------------------------------------\n"
     ]
    },
    {
     "data": {
      "text/html": [
       "<br/>Waiting for W&B process to finish, PID 24819... <strong style=\"color:green\">(success).</strong>"
      ],
      "text/plain": [
       "<IPython.core.display.HTML object>"
      ]
     },
     "metadata": {},
     "output_type": "display_data"
    },
    {
     "data": {
      "application/vnd.jupyter.widget-view+json": {
       "model_id": "1e129f45fcf4443c909b0250faecf2ad",
       "version_major": 2,
       "version_minor": 0
      },
      "text/plain": [
       "VBox(children=(Label(value=' 0.12MB of 0.12MB uploaded (0.00MB deduped)\\r'), FloatProgress(value=1.0, max=1.0)…"
      ]
     },
     "metadata": {},
     "output_type": "display_data"
    },
    {
     "data": {
      "text/html": [
       "<style>\n",
       "    table.wandb td:nth-child(1) { padding: 0 10px; text-align: right }\n",
       "    .wandb-row { display: flex; flex-direction: row; flex-wrap: wrap; width: 100% }\n",
       "    .wandb-col { display: flex; flex-direction: column; flex-basis: 100%; flex: 1; padding: 10px; }\n",
       "    </style>\n",
       "<div class=\"wandb-row\"><div class=\"wandb-col\">\n",
       "<h3>Run history:</h3><br/><table class=\"wandb\"><tr><td>Mean Validation Loss (all folds)</td><td>▁</td></tr><tr><td>Mean Validation RMSE (all folds)</td><td>▁</td></tr><tr><td>epoch</td><td>▁▁▁▂▂▂▂▂▂▃▃▃▃▃▄▄▄▄▄▄▅▅▅▅▅▅▆▆▆▆▆▇▇▇▇▇▇███</td></tr><tr><td>loss</td><td>█▄▂▂▂▂▂▁▁▁▁▁▁▁▁▁▁▁▁▁▁▁▁▁▁▁▁▁▁▁▁▁▁▁▁▁▁▁▁▁</td></tr><tr><td>root_mean_squared_error</td><td>█▆▄▄▃▃▃▂▂▂▂▂▂▂▂▂▂▂▁▂▁▁▁▂▂▁▁▁▁▁▁▁▁▁▁▁▁▁▁▁</td></tr><tr><td>val_loss</td><td>▃▆█▆▆▇▆▄▆▄▃▃▅▆▅▃▄▃▄▄▄▄▁▃▄▃▂▃▂▄▃▃▂▃▃▁▃▂▁▁</td></tr><tr><td>val_root_mean_squared_error</td><td>▃▆█▆▆▇▆▄▆▄▃▃▅▆▅▃▄▃▄▄▄▄▂▃▄▃▂▄▂▄▃▃▂▃▃▁▃▂▂▁</td></tr></table><br/></div><div class=\"wandb-col\">\n",
       "<h3>Run summary:</h3><br/><table class=\"wandb\"><tr><td>Mean Validation Loss (all folds)</td><td>0.50519</td></tr><tr><td>Mean Validation RMSE (all folds)</td><td>1.00631</td></tr><tr><td>best_epoch</td><td>1</td></tr><tr><td>best_val_loss</td><td>0.16973</td></tr><tr><td>epoch</td><td>499</td></tr><tr><td>loss</td><td>0.00537</td></tr><tr><td>root_mean_squared_error</td><td>0.10365</td></tr><tr><td>val_loss</td><td>0.50519</td></tr><tr><td>val_root_mean_squared_error</td><td>1.00631</td></tr></table>\n",
       "</div></div>\n",
       "Synced 5 W&B file(s), 0 media file(s), 0 artifact file(s) and 1 other file(s)\n",
       "<br/>Synced <strong style=\"color:#cdcd00\">trim-sweep-8</strong>: <a href=\"https://wandb.ai/luiscostigan/house-price-prediction/runs/de9vtujm\" target=\"_blank\">https://wandb.ai/luiscostigan/house-price-prediction/runs/de9vtujm</a><br/>\n",
       "Find logs at: <code>./wandb/run-20220307_054933-de9vtujm/logs</code><br/>\n"
      ],
      "text/plain": [
       "<IPython.core.display.HTML object>"
      ]
     },
     "metadata": {},
     "output_type": "display_data"
    },
    {
     "name": "stderr",
     "output_type": "stream",
     "text": [
      "\u001b[34m\u001b[1mwandb\u001b[0m: wandb version 0.12.11 is available!  To upgrade, please run:\n",
      "\u001b[34m\u001b[1mwandb\u001b[0m:  $ pip install wandb --upgrade\n"
     ]
    },
    {
     "data": {
      "text/html": [
       "\n",
       "                    Syncing run <strong><a href=\"https://wandb.ai/luiscostigan/house-price-prediction/runs/de9vtujm\" target=\"_blank\">trim-sweep-8</a></strong> to <a href=\"https://wandb.ai/luiscostigan/house-price-prediction\" target=\"_blank\">Weights & Biases</a> (<a href=\"https://docs.wandb.com/integrations/jupyter.html\" target=\"_blank\">docs</a>).<br/>\n",
       "Sweep page: <a href=\"https://wandb.ai/luiscostigan/house-price-prediction/sweeps/r64dtrnj\" target=\"_blank\">https://wandb.ai/luiscostigan/house-price-prediction/sweeps/r64dtrnj</a><br/>\n",
       "\n",
       "                "
      ],
      "text/plain": [
       "<IPython.core.display.HTML object>"
      ]
     },
     "metadata": {},
     "output_type": "display_data"
    },
    {
     "name": "stdout",
     "output_type": "stream",
     "text": [
      "37/37 [==============================] - 0s 2ms/step - loss: 0.5749 - root_mean_squared_error: 1.0781\n",
      "Score for fold 2: loss of 0.5748968124389648; root_mean_squared_error of 1.078076958656311\n",
      "------------------------------------------------------------------------\n",
      "Score per fold\n",
      "------------------------------------------------------------------------\n",
      "> Fold 1 - Loss: 0.5051852464675903 - RMSE: 1.0063101053237915\n",
      "------------------------------------------------------------------------\n",
      "> Fold 2 - Loss: 0.5748968124389648 - RMSE: 1.078076958656311\n",
      "------------------------------------------------------------------------\n",
      "Average scores for all folds:\n",
      "> RMSE: 1.0421935319900513 (+- 0.035883426666259766)\n",
      "> Loss: 0.5400410294532776\n",
      "------------------------------------------------------------------------\n"
     ]
    },
    {
     "data": {
      "text/html": [
       "<br/>Waiting for W&B process to finish, PID 2709... <strong style=\"color:green\">(success).</strong>"
      ],
      "text/plain": [
       "<IPython.core.display.HTML object>"
      ]
     },
     "metadata": {},
     "output_type": "display_data"
    },
    {
     "data": {
      "application/vnd.jupyter.widget-view+json": {
       "model_id": "58e9850000944f239d6a94ecd7214f16",
       "version_major": 2,
       "version_minor": 0
      },
      "text/plain": [
       "VBox(children=(Label(value=' 0.12MB of 0.12MB uploaded (0.00MB deduped)\\r'), FloatProgress(value=1.0, max=1.0)…"
      ]
     },
     "metadata": {},
     "output_type": "display_data"
    },
    {
     "data": {
      "text/html": [
       "<style>\n",
       "    table.wandb td:nth-child(1) { padding: 0 10px; text-align: right }\n",
       "    .wandb-row { display: flex; flex-direction: row; flex-wrap: wrap; width: 100% }\n",
       "    .wandb-col { display: flex; flex-direction: column; flex-basis: 100%; flex: 1; padding: 10px; }\n",
       "    </style>\n",
       "<div class=\"wandb-row\"><div class=\"wandb-col\">\n",
       "<h3>Run history:</h3><br/><table class=\"wandb\"><tr><td>Mean Validation Loss (all folds)</td><td>▁</td></tr><tr><td>Mean Validation RMSE (all folds)</td><td>▁</td></tr><tr><td>epoch</td><td>▁▁▁▂▂▂▂▂▂▃▃▃▃▃▄▄▄▄▄▄▅▅▅▅▅▅▆▆▆▆▆▇▇▇▇▇▇███</td></tr><tr><td>loss</td><td>█▂▂▂▂▁▁▁▁▁▁▁▁▁▁▁▁▁▁▁▁▁▁▁▁▁▁▁▁▁▁▁▁▁▁▁▁▁▁▁</td></tr><tr><td>root_mean_squared_error</td><td>█▃▃▃▂▂▂▂▂▂▂▂▂▂▂▁▂▂▂▁▁▁▁▁▁▁▁▁▁▁▁▁▁▁▁▁▁▁▁▁</td></tr><tr><td>val_loss</td><td>▁███▆▅█▄▇▆▅▅▃▅▅▅▅▆▆▄▅▅▄▄▃▄▄▄▅▃▄▃▃▃▂▂▂▁▂▂</td></tr><tr><td>val_root_mean_squared_error</td><td>▁███▆▅█▅▇▆▅▅▃▅▅▆▅▆▆▄▅▅▄▄▃▄▄▄▅▃▄▃▄▃▂▂▂▁▂▃</td></tr></table><br/></div><div class=\"wandb-col\">\n",
       "<h3>Run summary:</h3><br/><table class=\"wandb\"><tr><td>Mean Validation Loss (all folds)</td><td>0.54004</td></tr><tr><td>Mean Validation RMSE (all folds)</td><td>1.04219</td></tr><tr><td>best_epoch</td><td>464</td></tr><tr><td>best_val_loss</td><td>0.28894</td></tr><tr><td>epoch</td><td>499</td></tr><tr><td>loss</td><td>0.00596</td></tr><tr><td>root_mean_squared_error</td><td>0.10919</td></tr><tr><td>val_loss</td><td>0.5749</td></tr><tr><td>val_root_mean_squared_error</td><td>1.07808</td></tr></table>\n",
       "</div></div>\n",
       "Synced 5 W&B file(s), 0 media file(s), 0 artifact file(s) and 1 other file(s)\n",
       "<br/>Synced <strong style=\"color:#cdcd00\">trim-sweep-8</strong>: <a href=\"https://wandb.ai/luiscostigan/house-price-prediction/runs/de9vtujm\" target=\"_blank\">https://wandb.ai/luiscostigan/house-price-prediction/runs/de9vtujm</a><br/>\n",
       "Find logs at: <code>./wandb/run-20220307_055046-de9vtujm/logs</code><br/>\n"
      ],
      "text/plain": [
       "<IPython.core.display.HTML object>"
      ]
     },
     "metadata": {},
     "output_type": "display_data"
    },
    {
     "name": "stderr",
     "output_type": "stream",
     "text": [
      "\u001b[34m\u001b[1mwandb\u001b[0m: wandb version 0.12.11 is available!  To upgrade, please run:\n",
      "\u001b[34m\u001b[1mwandb\u001b[0m:  $ pip install wandb --upgrade\n"
     ]
    },
    {
     "data": {
      "text/html": [
       "\n",
       "                    Syncing run <strong><a href=\"https://wandb.ai/luiscostigan/house-price-prediction/runs/de9vtujm\" target=\"_blank\">trim-sweep-8</a></strong> to <a href=\"https://wandb.ai/luiscostigan/house-price-prediction\" target=\"_blank\">Weights & Biases</a> (<a href=\"https://docs.wandb.com/integrations/jupyter.html\" target=\"_blank\">docs</a>).<br/>\n",
       "Sweep page: <a href=\"https://wandb.ai/luiscostigan/house-price-prediction/sweeps/r64dtrnj\" target=\"_blank\">https://wandb.ai/luiscostigan/house-price-prediction/sweeps/r64dtrnj</a><br/>\n",
       "\n",
       "                "
      ],
      "text/plain": [
       "<IPython.core.display.HTML object>"
      ]
     },
     "metadata": {},
     "output_type": "display_data"
    },
    {
     "name": "stdout",
     "output_type": "stream",
     "text": [
      "37/37 [==============================] - 0s 1ms/step - loss: 0.5201 - root_mean_squared_error: 1.0221\n",
      "Score for fold 3: loss of 0.5200559496879578; root_mean_squared_error of 1.0220632553100586\n",
      "------------------------------------------------------------------------\n",
      "Score per fold\n",
      "------------------------------------------------------------------------\n",
      "> Fold 1 - Loss: 0.5051852464675903 - RMSE: 1.0063101053237915\n",
      "------------------------------------------------------------------------\n",
      "> Fold 2 - Loss: 0.5748968124389648 - RMSE: 1.078076958656311\n",
      "------------------------------------------------------------------------\n",
      "> Fold 3 - Loss: 0.5200559496879578 - RMSE: 1.0220632553100586\n",
      "------------------------------------------------------------------------\n",
      "Average scores for all folds:\n",
      "> RMSE: 1.035483439763387 (+- 0.030797146213936356)\n",
      "> Loss: 0.533379336198171\n",
      "------------------------------------------------------------------------\n"
     ]
    },
    {
     "data": {
      "text/html": [
       "<br/>Waiting for W&B process to finish, PID 13002... <strong style=\"color:green\">(success).</strong>"
      ],
      "text/plain": [
       "<IPython.core.display.HTML object>"
      ]
     },
     "metadata": {},
     "output_type": "display_data"
    },
    {
     "data": {
      "application/vnd.jupyter.widget-view+json": {
       "model_id": "c996725014644eebb7f97d6c3691bd5f",
       "version_major": 2,
       "version_minor": 0
      },
      "text/plain": [
       "VBox(children=(Label(value=' 0.12MB of 0.12MB uploaded (0.00MB deduped)\\r'), FloatProgress(value=1.0, max=1.0)…"
      ]
     },
     "metadata": {},
     "output_type": "display_data"
    },
    {
     "data": {
      "text/html": [
       "<style>\n",
       "    table.wandb td:nth-child(1) { padding: 0 10px; text-align: right }\n",
       "    .wandb-row { display: flex; flex-direction: row; flex-wrap: wrap; width: 100% }\n",
       "    .wandb-col { display: flex; flex-direction: column; flex-basis: 100%; flex: 1; padding: 10px; }\n",
       "    </style>\n",
       "<div class=\"wandb-row\"><div class=\"wandb-col\">\n",
       "<h3>Run history:</h3><br/><table class=\"wandb\"><tr><td>Mean Validation Loss (all folds)</td><td>▁</td></tr><tr><td>Mean Validation RMSE (all folds)</td><td>▁</td></tr><tr><td>epoch</td><td>▁▁▁▂▂▂▂▂▂▃▃▃▃▃▄▄▄▄▄▄▅▅▅▅▅▅▆▆▆▆▆▇▇▇▇▇▇███</td></tr><tr><td>loss</td><td>█▃▂▂▁▁▁▁▁▁▁▁▁▁▁▁▁▁▁▁▁▁▁▁▁▁▁▁▁▁▁▁▁▁▁▁▁▁▁▁</td></tr><tr><td>root_mean_squared_error</td><td>█▄▄▃▂▂▂▂▂▂▂▂▂▂▂▂▂▂▁▁▁▁▁▂▁▁▂▁▁▁▁▁▁▁▁▁▁▁▁▁</td></tr><tr><td>val_loss</td><td>▁█▆▇█▆▇▇▆▆▇▆▅▇▆▆▇▅▅▆▅▅▆▆▅▅▆▆▆▄▅▄▆▅▄▄▅▅▄▄</td></tr><tr><td>val_root_mean_squared_error</td><td>▁█▆▇█▆▇▇▆▆▇▆▅▇▆▆▇▅▅▆▅▅▆▆▅▅▆▆▆▄▆▅▆▆▅▅▅▅▄▄</td></tr></table><br/></div><div class=\"wandb-col\">\n",
       "<h3>Run summary:</h3><br/><table class=\"wandb\"><tr><td>Mean Validation Loss (all folds)</td><td>0.53338</td></tr><tr><td>Mean Validation RMSE (all folds)</td><td>1.03548</td></tr><tr><td>best_epoch</td><td>7</td></tr><tr><td>best_val_loss</td><td>0.04828</td></tr><tr><td>epoch</td><td>499</td></tr><tr><td>loss</td><td>0.00946</td></tr><tr><td>root_mean_squared_error</td><td>0.13903</td></tr><tr><td>val_loss</td><td>0.52006</td></tr><tr><td>val_root_mean_squared_error</td><td>1.02206</td></tr></table>\n",
       "</div></div>\n",
       "Synced 5 W&B file(s), 0 media file(s), 0 artifact file(s) and 1 other file(s)\n",
       "<br/>Synced <strong style=\"color:#cdcd00\">trim-sweep-8</strong>: <a href=\"https://wandb.ai/luiscostigan/house-price-prediction/runs/de9vtujm\" target=\"_blank\">https://wandb.ai/luiscostigan/house-price-prediction/runs/de9vtujm</a><br/>\n",
       "Find logs at: <code>./wandb/run-20220307_055159-de9vtujm/logs</code><br/>\n"
      ],
      "text/plain": [
       "<IPython.core.display.HTML object>"
      ]
     },
     "metadata": {},
     "output_type": "display_data"
    },
    {
     "name": "stderr",
     "output_type": "stream",
     "text": [
      "\u001b[34m\u001b[1mwandb\u001b[0m: wandb version 0.12.11 is available!  To upgrade, please run:\n",
      "\u001b[34m\u001b[1mwandb\u001b[0m:  $ pip install wandb --upgrade\n"
     ]
    },
    {
     "data": {
      "text/html": [
       "\n",
       "                    Syncing run <strong><a href=\"https://wandb.ai/luiscostigan/house-price-prediction/runs/de9vtujm\" target=\"_blank\">trim-sweep-8</a></strong> to <a href=\"https://wandb.ai/luiscostigan/house-price-prediction\" target=\"_blank\">Weights & Biases</a> (<a href=\"https://docs.wandb.com/integrations/jupyter.html\" target=\"_blank\">docs</a>).<br/>\n",
       "Sweep page: <a href=\"https://wandb.ai/luiscostigan/house-price-prediction/sweeps/r64dtrnj\" target=\"_blank\">https://wandb.ai/luiscostigan/house-price-prediction/sweeps/r64dtrnj</a><br/>\n",
       "\n",
       "                "
      ],
      "text/plain": [
       "<IPython.core.display.HTML object>"
      ]
     },
     "metadata": {},
     "output_type": "display_data"
    },
    {
     "name": "stdout",
     "output_type": "stream",
     "text": [
      "37/37 [==============================] - 0s 1ms/step - loss: 0.7105 - root_mean_squared_error: 1.2118\n",
      "Score for fold 4: loss of 0.7104508280754089; root_mean_squared_error of 1.2118455171585083\n",
      "------------------------------------------------------------------------\n",
      "Score per fold\n",
      "------------------------------------------------------------------------\n",
      "> Fold 1 - Loss: 0.5051852464675903 - RMSE: 1.0063101053237915\n",
      "------------------------------------------------------------------------\n",
      "> Fold 2 - Loss: 0.5748968124389648 - RMSE: 1.078076958656311\n",
      "------------------------------------------------------------------------\n",
      "> Fold 3 - Loss: 0.5200559496879578 - RMSE: 1.0220632553100586\n",
      "------------------------------------------------------------------------\n",
      "> Fold 4 - Loss: 0.7104508280754089 - RMSE: 1.2118455171585083\n",
      "------------------------------------------------------------------------\n",
      "Average scores for all folds:\n",
      "> RMSE: 1.0795739591121674 (+- 0.08089048059275854)\n",
      "> Loss: 0.5776472091674805\n",
      "------------------------------------------------------------------------\n"
     ]
    },
    {
     "data": {
      "text/html": [
       "<br/>Waiting for W&B process to finish, PID 23249... <strong style=\"color:green\">(success).</strong>"
      ],
      "text/plain": [
       "<IPython.core.display.HTML object>"
      ]
     },
     "metadata": {},
     "output_type": "display_data"
    },
    {
     "data": {
      "application/vnd.jupyter.widget-view+json": {
       "model_id": "dd6c0875bd754f8c85dbb73c9906fe11",
       "version_major": 2,
       "version_minor": 0
      },
      "text/plain": [
       "VBox(children=(Label(value=' 0.12MB of 0.12MB uploaded (0.00MB deduped)\\r'), FloatProgress(value=1.0, max=1.0)…"
      ]
     },
     "metadata": {},
     "output_type": "display_data"
    },
    {
     "data": {
      "text/html": [
       "<style>\n",
       "    table.wandb td:nth-child(1) { padding: 0 10px; text-align: right }\n",
       "    .wandb-row { display: flex; flex-direction: row; flex-wrap: wrap; width: 100% }\n",
       "    .wandb-col { display: flex; flex-direction: column; flex-basis: 100%; flex: 1; padding: 10px; }\n",
       "    </style>\n",
       "<div class=\"wandb-row\"><div class=\"wandb-col\">\n",
       "<h3>Run history:</h3><br/><table class=\"wandb\"><tr><td>Mean Validation Loss (all folds)</td><td>▁</td></tr><tr><td>Mean Validation RMSE (all folds)</td><td>▁</td></tr><tr><td>epoch</td><td>▁▁▁▂▂▂▂▂▂▃▃▃▃▃▄▄▄▄▄▄▅▅▅▅▅▅▆▆▆▆▆▇▇▇▇▇▇███</td></tr><tr><td>loss</td><td>█▂▂▂▁▁▁▁▁▁▁▁▁▁▁▁▁▁▁▁▁▁▁▁▁▁▁▁▁▁▁▁▁▁▁▁▁▁▁▁</td></tr><tr><td>root_mean_squared_error</td><td>█▄▃▃▂▂▂▃▂▂▂▂▂▁▁▂▂▁▁▁▂▁▁▂▁▁▁▁▁▁▂▁▁▁▁▁▁▁▁▁</td></tr><tr><td>val_loss</td><td>▁▃█▄▄▃▅▆▅▆▄▆▅▅▇▆▆▄▅▄▆▄▆▅▆▃▅▅▄▄▅▃▅▅▅▅▅▅▅▄</td></tr><tr><td>val_root_mean_squared_error</td><td>▁▃█▄▄▃▅▆▅▆▄▆▅▅▇▆▆▄▅▄▆▃▆▅▆▃▅▅▄▄▅▃▅▅▅▅▄▅▅▃</td></tr></table><br/></div><div class=\"wandb-col\">\n",
       "<h3>Run summary:</h3><br/><table class=\"wandb\"><tr><td>Mean Validation Loss (all folds)</td><td>0.57765</td></tr><tr><td>Mean Validation RMSE (all folds)</td><td>1.07957</td></tr><tr><td>best_epoch</td><td>2</td></tr><tr><td>best_val_loss</td><td>0.24033</td></tr><tr><td>epoch</td><td>499</td></tr><tr><td>loss</td><td>0.0052</td></tr><tr><td>root_mean_squared_error</td><td>0.10201</td></tr><tr><td>val_loss</td><td>0.71045</td></tr><tr><td>val_root_mean_squared_error</td><td>1.21185</td></tr></table>\n",
       "</div></div>\n",
       "Synced 5 W&B file(s), 0 media file(s), 0 artifact file(s) and 1 other file(s)\n",
       "<br/>Synced <strong style=\"color:#cdcd00\">trim-sweep-8</strong>: <a href=\"https://wandb.ai/luiscostigan/house-price-prediction/runs/de9vtujm\" target=\"_blank\">https://wandb.ai/luiscostigan/house-price-prediction/runs/de9vtujm</a><br/>\n",
       "Find logs at: <code>./wandb/run-20220307_055309-de9vtujm/logs</code><br/>\n"
      ],
      "text/plain": [
       "<IPython.core.display.HTML object>"
      ]
     },
     "metadata": {},
     "output_type": "display_data"
    },
    {
     "name": "stderr",
     "output_type": "stream",
     "text": [
      "\u001b[34m\u001b[1mwandb\u001b[0m: wandb version 0.12.11 is available!  To upgrade, please run:\n",
      "\u001b[34m\u001b[1mwandb\u001b[0m:  $ pip install wandb --upgrade\n"
     ]
    },
    {
     "data": {
      "text/html": [
       "\n",
       "                    Syncing run <strong><a href=\"https://wandb.ai/luiscostigan/house-price-prediction/runs/de9vtujm\" target=\"_blank\">trim-sweep-8</a></strong> to <a href=\"https://wandb.ai/luiscostigan/house-price-prediction\" target=\"_blank\">Weights & Biases</a> (<a href=\"https://docs.wandb.com/integrations/jupyter.html\" target=\"_blank\">docs</a>).<br/>\n",
       "Sweep page: <a href=\"https://wandb.ai/luiscostigan/house-price-prediction/sweeps/r64dtrnj\" target=\"_blank\">https://wandb.ai/luiscostigan/house-price-prediction/sweeps/r64dtrnj</a><br/>\n",
       "\n",
       "                "
      ],
      "text/plain": [
       "<IPython.core.display.HTML object>"
      ]
     },
     "metadata": {},
     "output_type": "display_data"
    },
    {
     "name": "stdout",
     "output_type": "stream",
     "text": [
      "37/37 [==============================] - 0s 1ms/step - loss: 0.4129 - root_mean_squared_error: 0.9088\n",
      "Score for fold 5: loss of 0.4128841757774353; root_mean_squared_error of 0.9087635278701782\n",
      "------------------------------------------------------------------------\n",
      "Score per fold\n",
      "------------------------------------------------------------------------\n",
      "> Fold 1 - Loss: 0.5051852464675903 - RMSE: 1.0063101053237915\n",
      "------------------------------------------------------------------------\n",
      "> Fold 2 - Loss: 0.5748968124389648 - RMSE: 1.078076958656311\n",
      "------------------------------------------------------------------------\n",
      "> Fold 3 - Loss: 0.5200559496879578 - RMSE: 1.0220632553100586\n",
      "------------------------------------------------------------------------\n",
      "> Fold 4 - Loss: 0.7104508280754089 - RMSE: 1.2118455171585083\n",
      "------------------------------------------------------------------------\n",
      "> Fold 5 - Loss: 0.4128841757774353 - RMSE: 0.9087635278701782\n",
      "------------------------------------------------------------------------\n",
      "Average scores for all folds:\n",
      "> RMSE: 1.0454118728637696 (+- 0.09951285559059113)\n",
      "> Loss: 0.5446946024894714\n",
      "------------------------------------------------------------------------\n"
     ]
    },
    {
     "data": {
      "text/html": [
       "<br/>Waiting for W&B process to finish, PID 1101... <strong style=\"color:green\">(success).</strong>"
      ],
      "text/plain": [
       "<IPython.core.display.HTML object>"
      ]
     },
     "metadata": {},
     "output_type": "display_data"
    },
    {
     "data": {
      "application/vnd.jupyter.widget-view+json": {
       "model_id": "ce6640a4efd248aa8f1f002ff45d1a0a",
       "version_major": 2,
       "version_minor": 0
      },
      "text/plain": [
       "VBox(children=(Label(value=' 0.12MB of 0.12MB uploaded (0.00MB deduped)\\r'), FloatProgress(value=1.0, max=1.0)…"
      ]
     },
     "metadata": {},
     "output_type": "display_data"
    },
    {
     "data": {
      "text/html": [
       "<style>\n",
       "    table.wandb td:nth-child(1) { padding: 0 10px; text-align: right }\n",
       "    .wandb-row { display: flex; flex-direction: row; flex-wrap: wrap; width: 100% }\n",
       "    .wandb-col { display: flex; flex-direction: column; flex-basis: 100%; flex: 1; padding: 10px; }\n",
       "    </style>\n",
       "<div class=\"wandb-row\"><div class=\"wandb-col\">\n",
       "<h3>Run history:</h3><br/><table class=\"wandb\"><tr><td>Mean Validation Loss (all folds)</td><td>▁</td></tr><tr><td>Mean Validation RMSE (all folds)</td><td>▁</td></tr><tr><td>epoch</td><td>▁▁▁▂▂▂▂▂▂▃▃▃▃▃▄▄▄▄▄▄▅▅▅▅▅▅▆▆▆▆▆▇▇▇▇▇▇███</td></tr><tr><td>loss</td><td>█▂▂▂▁▁▁▁▁▁▁▁▁▁▁▁▁▁▁▁▁▁▁▁▁▁▁▁▁▁▁▁▁▁▁▁▁▁▁▁</td></tr><tr><td>root_mean_squared_error</td><td>█▄▄▃▂▂▃▃▁▂▂▂▂▂▂▂▂▂▂▂▂▂▂▂▂▂▂▂▁▁▁▁▁▁▁▁▁▁▁▁</td></tr><tr><td>val_loss</td><td>▁█▇▆▇▄▅▅▇▄▅▇▆▆▆▅▅▄▆▆▃▅▄▅▄▅▅▅▄▃▄▃▄▄▃▃▃▃▄▄</td></tr><tr><td>val_root_mean_squared_error</td><td>▁█▇▆▇▄▅▆▇▄▆▇▆▆▆▆▅▅▆▆▄▅▅▆▄▅▅▅▄▄▄▄▄▄▄▄▄▄▄▄</td></tr></table><br/></div><div class=\"wandb-col\">\n",
       "<h3>Run summary:</h3><br/><table class=\"wandb\"><tr><td>Mean Validation Loss (all folds)</td><td>0.54469</td></tr><tr><td>Mean Validation RMSE (all folds)</td><td>1.04541</td></tr><tr><td>best_epoch</td><td>3</td></tr><tr><td>best_val_loss</td><td>0.09916</td></tr><tr><td>epoch</td><td>499</td></tr><tr><td>loss</td><td>0.00621</td></tr><tr><td>root_mean_squared_error</td><td>0.11157</td></tr><tr><td>val_loss</td><td>0.41288</td></tr><tr><td>val_root_mean_squared_error</td><td>0.90876</td></tr></table>\n",
       "</div></div>\n",
       "Synced 5 W&B file(s), 0 media file(s), 0 artifact file(s) and 1 other file(s)\n",
       "<br/>Synced <strong style=\"color:#cdcd00\">trim-sweep-8</strong>: <a href=\"https://wandb.ai/luiscostigan/house-price-prediction/runs/de9vtujm\" target=\"_blank\">https://wandb.ai/luiscostigan/house-price-prediction/runs/de9vtujm</a><br/>\n",
       "Find logs at: <code>./wandb/run-20220307_055414-de9vtujm/logs</code><br/>\n"
      ],
      "text/plain": [
       "<IPython.core.display.HTML object>"
      ]
     },
     "metadata": {},
     "output_type": "display_data"
    },
    {
     "name": "stderr",
     "output_type": "stream",
     "text": [
      "\u001b[34m\u001b[1mwandb\u001b[0m: Agent Starting Run: ex11qrlc with config:\n",
      "\u001b[34m\u001b[1mwandb\u001b[0m: \tbatch_size: 128\n",
      "\u001b[34m\u001b[1mwandb\u001b[0m: \tdense1: 32\n",
      "\u001b[34m\u001b[1mwandb\u001b[0m: \tdense2: 32\n",
      "\u001b[34m\u001b[1mwandb\u001b[0m: \tdropout1: 0.27350612036898825\n",
      "\u001b[34m\u001b[1mwandb\u001b[0m: \tepochs: 750\n",
      "\u001b[34m\u001b[1mwandb\u001b[0m: wandb version 0.12.11 is available!  To upgrade, please run:\n",
      "\u001b[34m\u001b[1mwandb\u001b[0m:  $ pip install wandb --upgrade\n"
     ]
    },
    {
     "data": {
      "text/html": [
       "\n",
       "                    Syncing run <strong><a href=\"https://wandb.ai/luiscostigan/house-price-prediction/runs/ex11qrlc\" target=\"_blank\">radiant-sweep-9</a></strong> to <a href=\"https://wandb.ai/luiscostigan/house-price-prediction\" target=\"_blank\">Weights & Biases</a> (<a href=\"https://docs.wandb.com/integrations/jupyter.html\" target=\"_blank\">docs</a>).<br/>\n",
       "Sweep page: <a href=\"https://wandb.ai/luiscostigan/house-price-prediction/sweeps/r64dtrnj\" target=\"_blank\">https://wandb.ai/luiscostigan/house-price-prediction/sweeps/r64dtrnj</a><br/>\n",
       "\n",
       "                "
      ],
      "text/plain": [
       "<IPython.core.display.HTML object>"
      ]
     },
     "metadata": {},
     "output_type": "display_data"
    },
    {
     "name": "stdout",
     "output_type": "stream",
     "text": [
      "37/37 [==============================] - 0s 1ms/step - loss: 2.3901 - root_mean_squared_error: 2.8922\n",
      "Score for fold 1: loss of 2.3900556564331055; root_mean_squared_error of 2.892230987548828\n",
      "------------------------------------------------------------------------\n",
      "Score per fold\n",
      "------------------------------------------------------------------------\n",
      "> Fold 1 - Loss: 2.3900556564331055 - RMSE: 2.892230987548828\n",
      "------------------------------------------------------------------------\n",
      "Average scores for all folds:\n",
      "> RMSE: 2.892230987548828 (+- 0.0)\n",
      "> Loss: 2.3900556564331055\n",
      "------------------------------------------------------------------------\n"
     ]
    },
    {
     "data": {
      "text/html": [
       "<br/>Waiting for W&B process to finish, PID 11321... <strong style=\"color:green\">(success).</strong>"
      ],
      "text/plain": [
       "<IPython.core.display.HTML object>"
      ]
     },
     "metadata": {},
     "output_type": "display_data"
    },
    {
     "data": {
      "application/vnd.jupyter.widget-view+json": {
       "model_id": "ad4288cd8abb4e7bb21fdf28a0cc1987",
       "version_major": 2,
       "version_minor": 0
      },
      "text/plain": [
       "VBox(children=(Label(value=' 0.13MB of 0.13MB uploaded (0.00MB deduped)\\r'), FloatProgress(value=1.0, max=1.0)…"
      ]
     },
     "metadata": {},
     "output_type": "display_data"
    },
    {
     "data": {
      "text/html": [
       "<style>\n",
       "    table.wandb td:nth-child(1) { padding: 0 10px; text-align: right }\n",
       "    .wandb-row { display: flex; flex-direction: row; flex-wrap: wrap; width: 100% }\n",
       "    .wandb-col { display: flex; flex-direction: column; flex-basis: 100%; flex: 1; padding: 10px; }\n",
       "    </style>\n",
       "<div class=\"wandb-row\"><div class=\"wandb-col\">\n",
       "<h3>Run history:</h3><br/><table class=\"wandb\"><tr><td>Mean Validation Loss (all folds)</td><td>▁</td></tr><tr><td>Mean Validation RMSE (all folds)</td><td>▁</td></tr><tr><td>epoch</td><td>▁▁▁▂▂▂▂▂▂▃▃▃▃▃▄▄▄▄▄▄▅▅▅▅▅▅▆▆▆▆▆▇▇▇▇▇▇███</td></tr><tr><td>loss</td><td>█▅▄▃▂▂▂▂▂▁▁▁▁▁▁▁▁▁▁▁▁▁▁▁▁▁▁▁▁▁▁▁▁▁▁▁▁▁▁▁</td></tr><tr><td>root_mean_squared_error</td><td>█▆▅▄▃▃▃▃▂▂▂▁▂▂▂▂▁▁▂▂▂▁▁▂▁▁▁▁▁▁▁▁▁▁▁▁▁▁▁▁</td></tr><tr><td>val_loss</td><td>▁▄▅▇▇▇▇██▇█▇▇▇█▇▇▇▇▇▇██▇▇▇▇▇▇▇▇▇▇▇▆▆▇▆▇▆</td></tr><tr><td>val_root_mean_squared_error</td><td>▁▄▅▇▇▇▇██▇█▇▇▇█▇▇▇▇▇▇██▇▇▇▇▇▇▇▇▇▇▇▆▆▇▆▇▆</td></tr></table><br/></div><div class=\"wandb-col\">\n",
       "<h3>Run summary:</h3><br/><table class=\"wandb\"><tr><td>Mean Validation Loss (all folds)</td><td>2.39006</td></tr><tr><td>Mean Validation RMSE (all folds)</td><td>2.89223</td></tr><tr><td>best_epoch</td><td>14</td></tr><tr><td>best_val_loss</td><td>0.10093</td></tr><tr><td>epoch</td><td>749</td></tr><tr><td>loss</td><td>0.03176</td></tr><tr><td>root_mean_squared_error</td><td>0.25576</td></tr><tr><td>val_loss</td><td>2.39006</td></tr><tr><td>val_root_mean_squared_error</td><td>2.89223</td></tr></table>\n",
       "</div></div>\n",
       "Synced 5 W&B file(s), 0 media file(s), 0 artifact file(s) and 1 other file(s)\n",
       "<br/>Synced <strong style=\"color:#cdcd00\">radiant-sweep-9</strong>: <a href=\"https://wandb.ai/luiscostigan/house-price-prediction/runs/ex11qrlc\" target=\"_blank\">https://wandb.ai/luiscostigan/house-price-prediction/runs/ex11qrlc</a><br/>\n",
       "Find logs at: <code>./wandb/run-20220307_055524-ex11qrlc/logs</code><br/>\n"
      ],
      "text/plain": [
       "<IPython.core.display.HTML object>"
      ]
     },
     "metadata": {},
     "output_type": "display_data"
    },
    {
     "name": "stderr",
     "output_type": "stream",
     "text": [
      "\u001b[34m\u001b[1mwandb\u001b[0m: wandb version 0.12.11 is available!  To upgrade, please run:\n",
      "\u001b[34m\u001b[1mwandb\u001b[0m:  $ pip install wandb --upgrade\n"
     ]
    },
    {
     "data": {
      "text/html": [
       "\n",
       "                    Syncing run <strong><a href=\"https://wandb.ai/luiscostigan/house-price-prediction/runs/ex11qrlc\" target=\"_blank\">radiant-sweep-9</a></strong> to <a href=\"https://wandb.ai/luiscostigan/house-price-prediction\" target=\"_blank\">Weights & Biases</a> (<a href=\"https://docs.wandb.com/integrations/jupyter.html\" target=\"_blank\">docs</a>).<br/>\n",
       "Sweep page: <a href=\"https://wandb.ai/luiscostigan/house-price-prediction/sweeps/r64dtrnj\" target=\"_blank\">https://wandb.ai/luiscostigan/house-price-prediction/sweeps/r64dtrnj</a><br/>\n",
       "\n",
       "                "
      ],
      "text/plain": [
       "<IPython.core.display.HTML object>"
      ]
     },
     "metadata": {},
     "output_type": "display_data"
    },
    {
     "name": "stdout",
     "output_type": "stream",
     "text": [
      "37/37 [==============================] - 0s 976us/step - loss: 2.4682 - root_mean_squared_error: 2.9712\n",
      "Score for fold 2: loss of 2.468155860900879; root_mean_squared_error of 2.9711923599243164\n",
      "------------------------------------------------------------------------\n",
      "Score per fold\n",
      "------------------------------------------------------------------------\n",
      "> Fold 1 - Loss: 2.3900556564331055 - RMSE: 2.892230987548828\n",
      "------------------------------------------------------------------------\n",
      "> Fold 2 - Loss: 2.468155860900879 - RMSE: 2.9711923599243164\n",
      "------------------------------------------------------------------------\n",
      "Average scores for all folds:\n",
      "> RMSE: 2.9317116737365723 (+- 0.03948068618774414)\n",
      "> Loss: 2.429105758666992\n",
      "------------------------------------------------------------------------\n"
     ]
    },
    {
     "data": {
      "text/html": [
       "<br/>Waiting for W&B process to finish, PID 26178... <strong style=\"color:green\">(success).</strong>"
      ],
      "text/plain": [
       "<IPython.core.display.HTML object>"
      ]
     },
     "metadata": {},
     "output_type": "display_data"
    },
    {
     "data": {
      "application/vnd.jupyter.widget-view+json": {
       "model_id": "9a5a90ceb8f64e71a260112a21189f60",
       "version_major": 2,
       "version_minor": 0
      },
      "text/plain": [
       "VBox(children=(Label(value=' 0.13MB of 0.13MB uploaded (0.00MB deduped)\\r'), FloatProgress(value=1.0, max=1.0)…"
      ]
     },
     "metadata": {},
     "output_type": "display_data"
    },
    {
     "data": {
      "text/html": [
       "<style>\n",
       "    table.wandb td:nth-child(1) { padding: 0 10px; text-align: right }\n",
       "    .wandb-row { display: flex; flex-direction: row; flex-wrap: wrap; width: 100% }\n",
       "    .wandb-col { display: flex; flex-direction: column; flex-basis: 100%; flex: 1; padding: 10px; }\n",
       "    </style>\n",
       "<div class=\"wandb-row\"><div class=\"wandb-col\">\n",
       "<h3>Run history:</h3><br/><table class=\"wandb\"><tr><td>Mean Validation Loss (all folds)</td><td>▁</td></tr><tr><td>Mean Validation RMSE (all folds)</td><td>▁</td></tr><tr><td>epoch</td><td>▁▁▁▂▂▂▂▂▂▃▃▃▃▃▄▄▄▄▄▄▅▅▅▅▅▅▆▆▆▆▆▇▇▇▇▇▇███</td></tr><tr><td>loss</td><td>█▅▄▂▂▂▂▁▁▁▁▁▁▁▁▁▁▁▁▁▁▁▁▁▁▁▁▁▁▁▁▁▁▁▁▁▁▁▁▁</td></tr><tr><td>root_mean_squared_error</td><td>█▅▄▃▂▂▂▂▂▂▂▂▂▂▂▂▂▂▂▁▁▁▁▁▁▁▁▁▁▁▁▁▁▁▁▁▁▁▁▁</td></tr><tr><td>val_loss</td><td>▁▂▃▇▇█████████▇▇▇▇▇▇▇▇█▇▇▇▇██▇▇▇▇█▇█▇▇▇▇</td></tr><tr><td>val_root_mean_squared_error</td><td>▁▃▄▇▇█████████▇▇▇▇▇▇▇▇█▇▇▇▇██▇▇▇▇███▇▇▇▇</td></tr></table><br/></div><div class=\"wandb-col\">\n",
       "<h3>Run summary:</h3><br/><table class=\"wandb\"><tr><td>Mean Validation Loss (all folds)</td><td>2.42911</td></tr><tr><td>Mean Validation RMSE (all folds)</td><td>2.93171</td></tr><tr><td>best_epoch</td><td>6</td></tr><tr><td>best_val_loss</td><td>0.1269</td></tr><tr><td>epoch</td><td>749</td></tr><tr><td>loss</td><td>0.02824</td></tr><tr><td>root_mean_squared_error</td><td>0.24167</td></tr><tr><td>val_loss</td><td>2.46816</td></tr><tr><td>val_root_mean_squared_error</td><td>2.97119</td></tr></table>\n",
       "</div></div>\n",
       "Synced 5 W&B file(s), 0 media file(s), 0 artifact file(s) and 1 other file(s)\n",
       "<br/>Synced <strong style=\"color:#cdcd00\">radiant-sweep-9</strong>: <a href=\"https://wandb.ai/luiscostigan/house-price-prediction/runs/ex11qrlc\" target=\"_blank\">https://wandb.ai/luiscostigan/house-price-prediction/runs/ex11qrlc</a><br/>\n",
       "Find logs at: <code>./wandb/run-20220307_055609-ex11qrlc/logs</code><br/>\n"
      ],
      "text/plain": [
       "<IPython.core.display.HTML object>"
      ]
     },
     "metadata": {},
     "output_type": "display_data"
    },
    {
     "name": "stderr",
     "output_type": "stream",
     "text": [
      "\u001b[34m\u001b[1mwandb\u001b[0m: wandb version 0.12.11 is available!  To upgrade, please run:\n",
      "\u001b[34m\u001b[1mwandb\u001b[0m:  $ pip install wandb --upgrade\n"
     ]
    },
    {
     "data": {
      "text/html": [
       "\n",
       "                    Syncing run <strong><a href=\"https://wandb.ai/luiscostigan/house-price-prediction/runs/ex11qrlc\" target=\"_blank\">radiant-sweep-9</a></strong> to <a href=\"https://wandb.ai/luiscostigan/house-price-prediction\" target=\"_blank\">Weights & Biases</a> (<a href=\"https://docs.wandb.com/integrations/jupyter.html\" target=\"_blank\">docs</a>).<br/>\n",
       "Sweep page: <a href=\"https://wandb.ai/luiscostigan/house-price-prediction/sweeps/r64dtrnj\" target=\"_blank\">https://wandb.ai/luiscostigan/house-price-prediction/sweeps/r64dtrnj</a><br/>\n",
       "\n",
       "                "
      ],
      "text/plain": [
       "<IPython.core.display.HTML object>"
      ]
     },
     "metadata": {},
     "output_type": "display_data"
    },
    {
     "name": "stdout",
     "output_type": "stream",
     "text": [
      "37/37 [==============================] - 0s 903us/step - loss: 2.5852 - root_mean_squared_error: 3.0889\n",
      "Score for fold 3: loss of 2.585153341293335; root_mean_squared_error of 3.0889158248901367\n",
      "------------------------------------------------------------------------\n",
      "Score per fold\n",
      "------------------------------------------------------------------------\n",
      "> Fold 1 - Loss: 2.3900556564331055 - RMSE: 2.892230987548828\n",
      "------------------------------------------------------------------------\n",
      "> Fold 2 - Loss: 2.468155860900879 - RMSE: 2.9711923599243164\n",
      "------------------------------------------------------------------------\n",
      "> Fold 3 - Loss: 2.585153341293335 - RMSE: 3.0889158248901367\n",
      "------------------------------------------------------------------------\n",
      "Average scores for all folds:\n",
      "> RMSE: 2.9841130574544272 (+- 0.0808143536281054)\n",
      "> Loss: 2.48112161954244\n",
      "------------------------------------------------------------------------\n"
     ]
    },
    {
     "data": {
      "text/html": [
       "<br/>Waiting for W&B process to finish, PID 8571... <strong style=\"color:green\">(success).</strong>"
      ],
      "text/plain": [
       "<IPython.core.display.HTML object>"
      ]
     },
     "metadata": {},
     "output_type": "display_data"
    },
    {
     "data": {
      "application/vnd.jupyter.widget-view+json": {
       "model_id": "ab922a9c92b1422db183d3e4c8aa34c7",
       "version_major": 2,
       "version_minor": 0
      },
      "text/plain": [
       "VBox(children=(Label(value=' 0.13MB of 0.13MB uploaded (0.00MB deduped)\\r'), FloatProgress(value=1.0, max=1.0)…"
      ]
     },
     "metadata": {},
     "output_type": "display_data"
    },
    {
     "data": {
      "text/html": [
       "<style>\n",
       "    table.wandb td:nth-child(1) { padding: 0 10px; text-align: right }\n",
       "    .wandb-row { display: flex; flex-direction: row; flex-wrap: wrap; width: 100% }\n",
       "    .wandb-col { display: flex; flex-direction: column; flex-basis: 100%; flex: 1; padding: 10px; }\n",
       "    </style>\n",
       "<div class=\"wandb-row\"><div class=\"wandb-col\">\n",
       "<h3>Run history:</h3><br/><table class=\"wandb\"><tr><td>Mean Validation Loss (all folds)</td><td>▁</td></tr><tr><td>Mean Validation RMSE (all folds)</td><td>▁</td></tr><tr><td>epoch</td><td>▁▁▁▂▂▂▂▂▂▃▃▃▃▃▄▄▄▄▄▄▅▅▅▅▅▅▆▆▆▆▆▇▇▇▇▇▇███</td></tr><tr><td>loss</td><td>█▄▃▂▂▁▁▁▁▁▁▁▁▁▁▁▁▁▁▁▁▁▁▁▁▁▁▁▁▁▁▁▁▁▁▁▁▁▁▁</td></tr><tr><td>root_mean_squared_error</td><td>█▅▄▃▃▂▂▂▂▁▂▂▁▂▁▁▁▁▁▁▁▁▁▁▁▁▁▁▁▁▁▁▁▁▁▁▁▁▁▁</td></tr><tr><td>val_loss</td><td>▁▃▄█▇█▇▆▇█▇▆▇▇▆▆▆▇▇▇▇▇▇▇▆▆▆▇▇▇▇▇▇▇▆▆▆▆▇▆</td></tr><tr><td>val_root_mean_squared_error</td><td>▁▃▄█▇█▇▆▇█▇▆▇▇▆▅▆▇▇▇▇▇▇▇▆▆▆▇▇▇▇▆▇▇▆▆▆▆▇▆</td></tr></table><br/></div><div class=\"wandb-col\">\n",
       "<h3>Run summary:</h3><br/><table class=\"wandb\"><tr><td>Mean Validation Loss (all folds)</td><td>2.48112</td></tr><tr><td>Mean Validation RMSE (all folds)</td><td>2.98411</td></tr><tr><td>best_epoch</td><td>4</td></tr><tr><td>best_val_loss</td><td>0.17774</td></tr><tr><td>epoch</td><td>749</td></tr><tr><td>loss</td><td>0.02538</td></tr><tr><td>root_mean_squared_error</td><td>0.22529</td></tr><tr><td>val_loss</td><td>2.58515</td></tr><tr><td>val_root_mean_squared_error</td><td>3.08892</td></tr></table>\n",
       "</div></div>\n",
       "Synced 5 W&B file(s), 0 media file(s), 0 artifact file(s) and 1 other file(s)\n",
       "<br/>Synced <strong style=\"color:#cdcd00\">radiant-sweep-9</strong>: <a href=\"https://wandb.ai/luiscostigan/house-price-prediction/runs/ex11qrlc\" target=\"_blank\">https://wandb.ai/luiscostigan/house-price-prediction/runs/ex11qrlc</a><br/>\n",
       "Find logs at: <code>./wandb/run-20220307_055652-ex11qrlc/logs</code><br/>\n"
      ],
      "text/plain": [
       "<IPython.core.display.HTML object>"
      ]
     },
     "metadata": {},
     "output_type": "display_data"
    },
    {
     "name": "stderr",
     "output_type": "stream",
     "text": [
      "\u001b[34m\u001b[1mwandb\u001b[0m: wandb version 0.12.11 is available!  To upgrade, please run:\n",
      "\u001b[34m\u001b[1mwandb\u001b[0m:  $ pip install wandb --upgrade\n"
     ]
    },
    {
     "data": {
      "text/html": [
       "\n",
       "                    Syncing run <strong><a href=\"https://wandb.ai/luiscostigan/house-price-prediction/runs/ex11qrlc\" target=\"_blank\">radiant-sweep-9</a></strong> to <a href=\"https://wandb.ai/luiscostigan/house-price-prediction\" target=\"_blank\">Weights & Biases</a> (<a href=\"https://docs.wandb.com/integrations/jupyter.html\" target=\"_blank\">docs</a>).<br/>\n",
       "Sweep page: <a href=\"https://wandb.ai/luiscostigan/house-price-prediction/sweeps/r64dtrnj\" target=\"_blank\">https://wandb.ai/luiscostigan/house-price-prediction/sweeps/r64dtrnj</a><br/>\n",
       "\n",
       "                "
      ],
      "text/plain": [
       "<IPython.core.display.HTML object>"
      ]
     },
     "metadata": {},
     "output_type": "display_data"
    },
    {
     "name": "stdout",
     "output_type": "stream",
     "text": [
      "37/37 [==============================] - 0s 810us/step - loss: 2.6544 - root_mean_squared_error: 3.1565\n",
      "Score for fold 4: loss of 2.6544315814971924; root_mean_squared_error of 3.156508684158325\n",
      "------------------------------------------------------------------------\n",
      "Score per fold\n",
      "------------------------------------------------------------------------\n",
      "> Fold 1 - Loss: 2.3900556564331055 - RMSE: 2.892230987548828\n",
      "------------------------------------------------------------------------\n",
      "> Fold 2 - Loss: 2.468155860900879 - RMSE: 2.9711923599243164\n",
      "------------------------------------------------------------------------\n",
      "> Fold 3 - Loss: 2.585153341293335 - RMSE: 3.0889158248901367\n",
      "------------------------------------------------------------------------\n",
      "> Fold 4 - Loss: 2.6544315814971924 - RMSE: 3.156508684158325\n",
      "------------------------------------------------------------------------\n",
      "Average scores for all folds:\n",
      "> RMSE: 3.0272119641304016 (+- 0.10232676621607584)\n",
      "> Loss: 2.524449110031128\n",
      "------------------------------------------------------------------------\n"
     ]
    },
    {
     "data": {
      "text/html": [
       "<br/>Waiting for W&B process to finish, PID 23340... <strong style=\"color:green\">(success).</strong>"
      ],
      "text/plain": [
       "<IPython.core.display.HTML object>"
      ]
     },
     "metadata": {},
     "output_type": "display_data"
    },
    {
     "data": {
      "application/vnd.jupyter.widget-view+json": {
       "model_id": "aa9923a9a5c94d58bf07e5f7e8179e30",
       "version_major": 2,
       "version_minor": 0
      },
      "text/plain": [
       "VBox(children=(Label(value=' 0.13MB of 0.13MB uploaded (0.00MB deduped)\\r'), FloatProgress(value=1.0, max=1.0)…"
      ]
     },
     "metadata": {},
     "output_type": "display_data"
    },
    {
     "data": {
      "text/html": [
       "<style>\n",
       "    table.wandb td:nth-child(1) { padding: 0 10px; text-align: right }\n",
       "    .wandb-row { display: flex; flex-direction: row; flex-wrap: wrap; width: 100% }\n",
       "    .wandb-col { display: flex; flex-direction: column; flex-basis: 100%; flex: 1; padding: 10px; }\n",
       "    </style>\n",
       "<div class=\"wandb-row\"><div class=\"wandb-col\">\n",
       "<h3>Run history:</h3><br/><table class=\"wandb\"><tr><td>Mean Validation Loss (all folds)</td><td>▁</td></tr><tr><td>Mean Validation RMSE (all folds)</td><td>▁</td></tr><tr><td>epoch</td><td>▁▁▁▂▂▂▂▂▂▃▃▃▃▃▄▄▄▄▄▄▅▅▅▅▅▅▆▆▆▆▆▇▇▇▇▇▇███</td></tr><tr><td>loss</td><td>█▅▄▂▂▂▁▂▁▁▁▁▁▁▁▁▁▁▁▁▁▁▁▁▁▁▁▁▁▁▁▁▁▁▁▁▁▁▁▁</td></tr><tr><td>root_mean_squared_error</td><td>█▅▄▃▂▃▂▃▂▂▂▁▂▂▂▂▂▂▂▂▁▁▂▁▂▂▂▂▁▂▁▁▁▁▁▂▂▁▁▁</td></tr><tr><td>val_loss</td><td>▁▁▄▇▆█▆▇▆█▆▇▇▇▆▆▆▇▆▆▆▅▆▇▇▇▇▇▇▇▇▇▇▇▆▆▆▆▆▇</td></tr><tr><td>val_root_mean_squared_error</td><td>▁▁▄▇▆█▆▆▆█▆▇▇▇▆▆▆▆▆▆▆▅▆▇▇▇▇▇▇▇▇▇▇▇▆▆▆▆▆▇</td></tr></table><br/></div><div class=\"wandb-col\">\n",
       "<h3>Run summary:</h3><br/><table class=\"wandb\"><tr><td>Mean Validation Loss (all folds)</td><td>2.52445</td></tr><tr><td>Mean Validation RMSE (all folds)</td><td>3.02721</td></tr><tr><td>best_epoch</td><td>10</td></tr><tr><td>best_val_loss</td><td>0.11065</td></tr><tr><td>epoch</td><td>749</td></tr><tr><td>loss</td><td>0.02274</td></tr><tr><td>root_mean_squared_error</td><td>0.25497</td></tr><tr><td>val_loss</td><td>2.65443</td></tr><tr><td>val_root_mean_squared_error</td><td>3.15651</td></tr></table>\n",
       "</div></div>\n",
       "Synced 5 W&B file(s), 0 media file(s), 0 artifact file(s) and 1 other file(s)\n",
       "<br/>Synced <strong style=\"color:#cdcd00\">radiant-sweep-9</strong>: <a href=\"https://wandb.ai/luiscostigan/house-price-prediction/runs/ex11qrlc\" target=\"_blank\">https://wandb.ai/luiscostigan/house-price-prediction/runs/ex11qrlc</a><br/>\n",
       "Find logs at: <code>./wandb/run-20220307_055735-ex11qrlc/logs</code><br/>\n"
      ],
      "text/plain": [
       "<IPython.core.display.HTML object>"
      ]
     },
     "metadata": {},
     "output_type": "display_data"
    },
    {
     "name": "stderr",
     "output_type": "stream",
     "text": [
      "\u001b[34m\u001b[1mwandb\u001b[0m: wandb version 0.12.11 is available!  To upgrade, please run:\n",
      "\u001b[34m\u001b[1mwandb\u001b[0m:  $ pip install wandb --upgrade\n"
     ]
    },
    {
     "data": {
      "text/html": [
       "\n",
       "                    Syncing run <strong><a href=\"https://wandb.ai/luiscostigan/house-price-prediction/runs/ex11qrlc\" target=\"_blank\">radiant-sweep-9</a></strong> to <a href=\"https://wandb.ai/luiscostigan/house-price-prediction\" target=\"_blank\">Weights & Biases</a> (<a href=\"https://docs.wandb.com/integrations/jupyter.html\" target=\"_blank\">docs</a>).<br/>\n",
       "Sweep page: <a href=\"https://wandb.ai/luiscostigan/house-price-prediction/sweeps/r64dtrnj\" target=\"_blank\">https://wandb.ai/luiscostigan/house-price-prediction/sweeps/r64dtrnj</a><br/>\n",
       "\n",
       "                "
      ],
      "text/plain": [
       "<IPython.core.display.HTML object>"
      ]
     },
     "metadata": {},
     "output_type": "display_data"
    },
    {
     "name": "stdout",
     "output_type": "stream",
     "text": [
      "37/37 [==============================] - 0s 889us/step - loss: 2.2908 - root_mean_squared_error: 2.7940\n",
      "Score for fold 5: loss of 2.2908120155334473; root_mean_squared_error of 2.7940146923065186\n",
      "------------------------------------------------------------------------\n",
      "Score per fold\n",
      "------------------------------------------------------------------------\n",
      "> Fold 1 - Loss: 2.3900556564331055 - RMSE: 2.892230987548828\n",
      "------------------------------------------------------------------------\n",
      "> Fold 2 - Loss: 2.468155860900879 - RMSE: 2.9711923599243164\n",
      "------------------------------------------------------------------------\n",
      "> Fold 3 - Loss: 2.585153341293335 - RMSE: 3.0889158248901367\n",
      "------------------------------------------------------------------------\n",
      "> Fold 4 - Loss: 2.6544315814971924 - RMSE: 3.156508684158325\n",
      "------------------------------------------------------------------------\n",
      "> Fold 5 - Loss: 2.2908120155334473 - RMSE: 2.7940146923065186\n",
      "------------------------------------------------------------------------\n",
      "Average scores for all folds:\n",
      "> RMSE: 2.980572509765625 (+- 0.13068117110421024)\n",
      "> Loss: 2.477721691131592\n",
      "------------------------------------------------------------------------\n"
     ]
    },
    {
     "data": {
      "text/html": [
       "<br/>Waiting for W&B process to finish, PID 5792... <strong style=\"color:green\">(success).</strong>"
      ],
      "text/plain": [
       "<IPython.core.display.HTML object>"
      ]
     },
     "metadata": {},
     "output_type": "display_data"
    },
    {
     "data": {
      "application/vnd.jupyter.widget-view+json": {
       "model_id": "e64a82f9336144afaa25b35ad3f3fd5b",
       "version_major": 2,
       "version_minor": 0
      },
      "text/plain": [
       "VBox(children=(Label(value=' 0.13MB of 0.13MB uploaded (0.00MB deduped)\\r'), FloatProgress(value=1.0, max=1.0)…"
      ]
     },
     "metadata": {},
     "output_type": "display_data"
    },
    {
     "data": {
      "text/html": [
       "<style>\n",
       "    table.wandb td:nth-child(1) { padding: 0 10px; text-align: right }\n",
       "    .wandb-row { display: flex; flex-direction: row; flex-wrap: wrap; width: 100% }\n",
       "    .wandb-col { display: flex; flex-direction: column; flex-basis: 100%; flex: 1; padding: 10px; }\n",
       "    </style>\n",
       "<div class=\"wandb-row\"><div class=\"wandb-col\">\n",
       "<h3>Run history:</h3><br/><table class=\"wandb\"><tr><td>Mean Validation Loss (all folds)</td><td>▁</td></tr><tr><td>Mean Validation RMSE (all folds)</td><td>▁</td></tr><tr><td>epoch</td><td>▁▁▁▂▂▂▂▂▂▃▃▃▃▃▄▄▄▄▄▄▅▅▅▅▅▅▆▆▆▆▆▇▇▇▇▇▇███</td></tr><tr><td>loss</td><td>█▆▄▃▂▂▂▂▁▂▁▂▁▁▁▁▁▁▁▁▁▁▁▁▁▁▁▁▁▁▁▁▁▁▁▁▁▁▁▁</td></tr><tr><td>root_mean_squared_error</td><td>█▆▅▄▃▃▂▂▂▂▂▂▂▂▁▂▂▂▂▁▁▁▁▁▁▁▁▁▁▁▁▁▁▁▁▁▁▁▁▁</td></tr><tr><td>val_loss</td><td>▄▁▄▆▇▇▇██▇▆███▇▇▇▇▆▇█▇▇▆▇▇█▇▇▇▇▇▇▇▆▇▇▆▆▆</td></tr><tr><td>val_root_mean_squared_error</td><td>▄▁▄▆▇▇▇██▇▆███▇▇▇▇▆▇█▇▇▆▇▇█▇▇▇▇▇▇▇▆▇▇▆▆▆</td></tr></table><br/></div><div class=\"wandb-col\">\n",
       "<h3>Run summary:</h3><br/><table class=\"wandb\"><tr><td>Mean Validation Loss (all folds)</td><td>2.47772</td></tr><tr><td>Mean Validation RMSE (all folds)</td><td>2.98057</td></tr><tr><td>best_epoch</td><td>20</td></tr><tr><td>best_val_loss</td><td>0.06476</td></tr><tr><td>epoch</td><td>749</td></tr><tr><td>loss</td><td>0.02816</td></tr><tr><td>root_mean_squared_error</td><td>0.24289</td></tr><tr><td>val_loss</td><td>2.29081</td></tr><tr><td>val_root_mean_squared_error</td><td>2.79401</td></tr></table>\n",
       "</div></div>\n",
       "Synced 5 W&B file(s), 0 media file(s), 0 artifact file(s) and 1 other file(s)\n",
       "<br/>Synced <strong style=\"color:#cdcd00\">radiant-sweep-9</strong>: <a href=\"https://wandb.ai/luiscostigan/house-price-prediction/runs/ex11qrlc\" target=\"_blank\">https://wandb.ai/luiscostigan/house-price-prediction/runs/ex11qrlc</a><br/>\n",
       "Find logs at: <code>./wandb/run-20220307_055818-ex11qrlc/logs</code><br/>\n"
      ],
      "text/plain": [
       "<IPython.core.display.HTML object>"
      ]
     },
     "metadata": {},
     "output_type": "display_data"
    },
    {
     "name": "stderr",
     "output_type": "stream",
     "text": [
      "\u001b[34m\u001b[1mwandb\u001b[0m: Agent Starting Run: mzllm0ee with config:\n",
      "\u001b[34m\u001b[1mwandb\u001b[0m: \tbatch_size: 128\n",
      "\u001b[34m\u001b[1mwandb\u001b[0m: \tdense1: 16\n",
      "\u001b[34m\u001b[1mwandb\u001b[0m: \tdense2: 16\n",
      "\u001b[34m\u001b[1mwandb\u001b[0m: \tdropout1: 0.033424540266526026\n",
      "\u001b[34m\u001b[1mwandb\u001b[0m: \tepochs: 250\n",
      "\u001b[34m\u001b[1mwandb\u001b[0m: wandb version 0.12.11 is available!  To upgrade, please run:\n",
      "\u001b[34m\u001b[1mwandb\u001b[0m:  $ pip install wandb --upgrade\n"
     ]
    },
    {
     "data": {
      "text/html": [
       "\n",
       "                    Syncing run <strong><a href=\"https://wandb.ai/luiscostigan/house-price-prediction/runs/mzllm0ee\" target=\"_blank\">icy-sweep-10</a></strong> to <a href=\"https://wandb.ai/luiscostigan/house-price-prediction\" target=\"_blank\">Weights & Biases</a> (<a href=\"https://docs.wandb.com/integrations/jupyter.html\" target=\"_blank\">docs</a>).<br/>\n",
       "Sweep page: <a href=\"https://wandb.ai/luiscostigan/house-price-prediction/sweeps/r64dtrnj\" target=\"_blank\">https://wandb.ai/luiscostigan/house-price-prediction/sweeps/r64dtrnj</a><br/>\n",
       "\n",
       "                "
      ],
      "text/plain": [
       "<IPython.core.display.HTML object>"
      ]
     },
     "metadata": {},
     "output_type": "display_data"
    },
    {
     "name": "stdout",
     "output_type": "stream",
     "text": [
      "37/37 [==============================] - 0s 897us/step - loss: 0.0220 - root_mean_squared_error: 0.2100\n",
      "Score for fold 1: loss of 0.022044330835342407; root_mean_squared_error of 0.20997300744056702\n",
      "------------------------------------------------------------------------\n",
      "Score per fold\n",
      "------------------------------------------------------------------------\n",
      "> Fold 1 - Loss: 0.022044330835342407 - RMSE: 0.20997300744056702\n",
      "------------------------------------------------------------------------\n",
      "Average scores for all folds:\n",
      "> RMSE: 0.20997300744056702 (+- 0.0)\n",
      "> Loss: 0.022044330835342407\n",
      "------------------------------------------------------------------------\n"
     ]
    },
    {
     "data": {
      "text/html": [
       "<br/>Waiting for W&B process to finish, PID 20597... <strong style=\"color:green\">(success).</strong>"
      ],
      "text/plain": [
       "<IPython.core.display.HTML object>"
      ]
     },
     "metadata": {},
     "output_type": "display_data"
    },
    {
     "data": {
      "application/vnd.jupyter.widget-view+json": {
       "model_id": "2a3505f7ca13427d8883fd4f5d75bbe3",
       "version_major": 2,
       "version_minor": 0
      },
      "text/plain": [
       "VBox(children=(Label(value=' 0.12MB of 0.12MB uploaded (0.00MB deduped)\\r'), FloatProgress(value=1.0, max=1.0)…"
      ]
     },
     "metadata": {},
     "output_type": "display_data"
    },
    {
     "data": {
      "text/html": [
       "<style>\n",
       "    table.wandb td:nth-child(1) { padding: 0 10px; text-align: right }\n",
       "    .wandb-row { display: flex; flex-direction: row; flex-wrap: wrap; width: 100% }\n",
       "    .wandb-col { display: flex; flex-direction: column; flex-basis: 100%; flex: 1; padding: 10px; }\n",
       "    </style>\n",
       "<div class=\"wandb-row\"><div class=\"wandb-col\">\n",
       "<h3>Run history:</h3><br/><table class=\"wandb\"><tr><td>Mean Validation Loss (all folds)</td><td>▁</td></tr><tr><td>Mean Validation RMSE (all folds)</td><td>▁</td></tr><tr><td>epoch</td><td>▁▁▁▂▂▂▂▂▂▃▃▃▃▃▄▄▄▄▄▄▅▅▅▅▅▅▆▆▆▆▆▇▇▇▇▇▇███</td></tr><tr><td>loss</td><td>█▁▁▁▁▁▁▁▁▁▁▁▁▁▁▁▁▁▁▁▁▁▁▁▁▁▁▁▁▁▁▁▁▁▁▁▁▁▁▁</td></tr><tr><td>root_mean_squared_error</td><td>█▂▂▂▁▁▁▁▁▁▁▁▁▁▁▁▁▁▁▁▁▁▁▁▁▁▁▁▁▁▁▁▁▁▁▁▁▁▁▁</td></tr><tr><td>val_loss</td><td>█▂▁▁▁▁▁▁▂▁▁▁▂▂▁▁▂▂▂▂▁▂▂▂▁▁▁▁▁▁▁▂▂▂▂▂▁▁▁▁</td></tr><tr><td>val_root_mean_squared_error</td><td>█▂▂▁▂▁▁▁▃▁▁▁▂▂▂▂▂▃▃▃▂▂▂▃▁▁▁▁▁▁▁▂▂▂▂▂▁▁▁▁</td></tr></table><br/></div><div class=\"wandb-col\">\n",
       "<h3>Run summary:</h3><br/><table class=\"wandb\"><tr><td>Mean Validation Loss (all folds)</td><td>0.02204</td></tr><tr><td>Mean Validation RMSE (all folds)</td><td>0.20997</td></tr><tr><td>best_epoch</td><td>185</td></tr><tr><td>best_val_loss</td><td>0.00593</td></tr><tr><td>epoch</td><td>249</td></tr><tr><td>loss</td><td>0.04488</td></tr><tr><td>root_mean_squared_error</td><td>0.3029</td></tr><tr><td>val_loss</td><td>0.02204</td></tr><tr><td>val_root_mean_squared_error</td><td>0.20997</td></tr></table>\n",
       "</div></div>\n",
       "Synced 5 W&B file(s), 0 media file(s), 0 artifact file(s) and 1 other file(s)\n",
       "<br/>Synced <strong style=\"color:#cdcd00\">icy-sweep-10</strong>: <a href=\"https://wandb.ai/luiscostigan/house-price-prediction/runs/mzllm0ee\" target=\"_blank\">https://wandb.ai/luiscostigan/house-price-prediction/runs/mzllm0ee</a><br/>\n",
       "Find logs at: <code>./wandb/run-20220307_055903-mzllm0ee/logs</code><br/>\n"
      ],
      "text/plain": [
       "<IPython.core.display.HTML object>"
      ]
     },
     "metadata": {},
     "output_type": "display_data"
    },
    {
     "name": "stderr",
     "output_type": "stream",
     "text": [
      "\u001b[34m\u001b[1mwandb\u001b[0m: wandb version 0.12.11 is available!  To upgrade, please run:\n",
      "\u001b[34m\u001b[1mwandb\u001b[0m:  $ pip install wandb --upgrade\n"
     ]
    },
    {
     "data": {
      "text/html": [
       "\n",
       "                    Syncing run <strong><a href=\"https://wandb.ai/luiscostigan/house-price-prediction/runs/mzllm0ee\" target=\"_blank\">icy-sweep-10</a></strong> to <a href=\"https://wandb.ai/luiscostigan/house-price-prediction\" target=\"_blank\">Weights & Biases</a> (<a href=\"https://docs.wandb.com/integrations/jupyter.html\" target=\"_blank\">docs</a>).<br/>\n",
       "Sweep page: <a href=\"https://wandb.ai/luiscostigan/house-price-prediction/sweeps/r64dtrnj\" target=\"_blank\">https://wandb.ai/luiscostigan/house-price-prediction/sweeps/r64dtrnj</a><br/>\n",
       "\n",
       "                "
      ],
      "text/plain": [
       "<IPython.core.display.HTML object>"
      ]
     },
     "metadata": {},
     "output_type": "display_data"
    },
    {
     "name": "stdout",
     "output_type": "stream",
     "text": [
      "37/37 [==============================] - 0s 842us/step - loss: 0.1911 - root_mean_squared_error: 0.6182\n",
      "Score for fold 2: loss of 0.19111451506614685; root_mean_squared_error of 0.6182467937469482\n",
      "------------------------------------------------------------------------\n",
      "Score per fold\n",
      "------------------------------------------------------------------------\n",
      "> Fold 1 - Loss: 0.022044330835342407 - RMSE: 0.20997300744056702\n",
      "------------------------------------------------------------------------\n",
      "> Fold 2 - Loss: 0.19111451506614685 - RMSE: 0.6182467937469482\n",
      "------------------------------------------------------------------------\n",
      "Average scores for all folds:\n",
      "> RMSE: 0.41410990059375763 (+- 0.2041368931531906)\n",
      "> Loss: 0.10657942295074463\n",
      "------------------------------------------------------------------------\n"
     ]
    },
    {
     "data": {
      "text/html": [
       "<br/>Waiting for W&B process to finish, PID 25714... <strong style=\"color:green\">(success).</strong>"
      ],
      "text/plain": [
       "<IPython.core.display.HTML object>"
      ]
     },
     "metadata": {},
     "output_type": "display_data"
    },
    {
     "data": {
      "application/vnd.jupyter.widget-view+json": {
       "model_id": "a3cc8411d9cb416289d0ada32e6906cf",
       "version_major": 2,
       "version_minor": 0
      },
      "text/plain": [
       "VBox(children=(Label(value=' 0.12MB of 0.12MB uploaded (0.00MB deduped)\\r'), FloatProgress(value=1.0, max=1.0)…"
      ]
     },
     "metadata": {},
     "output_type": "display_data"
    },
    {
     "data": {
      "text/html": [
       "<style>\n",
       "    table.wandb td:nth-child(1) { padding: 0 10px; text-align: right }\n",
       "    .wandb-row { display: flex; flex-direction: row; flex-wrap: wrap; width: 100% }\n",
       "    .wandb-col { display: flex; flex-direction: column; flex-basis: 100%; flex: 1; padding: 10px; }\n",
       "    </style>\n",
       "<div class=\"wandb-row\"><div class=\"wandb-col\">\n",
       "<h3>Run history:</h3><br/><table class=\"wandb\"><tr><td>Mean Validation Loss (all folds)</td><td>▁</td></tr><tr><td>Mean Validation RMSE (all folds)</td><td>▁</td></tr><tr><td>epoch</td><td>▁▁▁▂▂▂▂▂▂▃▃▃▃▃▄▄▄▄▄▄▅▅▅▅▅▅▆▆▆▆▆▇▇▇▇▇▇███</td></tr><tr><td>loss</td><td>█▁▁▁▁▁▁▁▁▁▁▁▁▁▁▁▁▁▁▁▁▁▁▁▁▁▁▁▁▁▁▁▁▁▁▁▁▁▁▁</td></tr><tr><td>root_mean_squared_error</td><td>█▂▂▂▂▁▂▁▁▁▁▁▁▁▁▁▁▁▁▁▁▁▁▁▁▁▁▁▁▁▁▁▁▁▁▁▁▁▁▁</td></tr><tr><td>val_loss</td><td>█▁▁▁▁▁▁▁▁▁▁▁▁▁▁▁▁▁▁▁▁▁▁▁▁▁▁▁▁▁▁▁▁▁▁▁▁▁▁▁</td></tr><tr><td>val_root_mean_squared_error</td><td>█▁▂▁▁▁▁▁▁▁▁▁▁▁▁▁▁▁▁▁▂▁▁▁▁▁▁▁▁▁▁▂▁▁▁▁▁▁▂▂</td></tr></table><br/></div><div class=\"wandb-col\">\n",
       "<h3>Run summary:</h3><br/><table class=\"wandb\"><tr><td>Mean Validation Loss (all folds)</td><td>0.10658</td></tr><tr><td>Mean Validation RMSE (all folds)</td><td>0.41411</td></tr><tr><td>best_epoch</td><td>177</td></tr><tr><td>best_val_loss</td><td>0.00577</td></tr><tr><td>epoch</td><td>249</td></tr><tr><td>loss</td><td>0.04448</td></tr><tr><td>root_mean_squared_error</td><td>0.31635</td></tr><tr><td>val_loss</td><td>0.19111</td></tr><tr><td>val_root_mean_squared_error</td><td>0.61825</td></tr></table>\n",
       "</div></div>\n",
       "Synced 5 W&B file(s), 0 media file(s), 0 artifact file(s) and 1 other file(s)\n",
       "<br/>Synced <strong style=\"color:#cdcd00\">icy-sweep-10</strong>: <a href=\"https://wandb.ai/luiscostigan/house-price-prediction/runs/mzllm0ee\" target=\"_blank\">https://wandb.ai/luiscostigan/house-price-prediction/runs/mzllm0ee</a><br/>\n",
       "Find logs at: <code>./wandb/run-20220307_055923-mzllm0ee/logs</code><br/>\n"
      ],
      "text/plain": [
       "<IPython.core.display.HTML object>"
      ]
     },
     "metadata": {},
     "output_type": "display_data"
    },
    {
     "name": "stderr",
     "output_type": "stream",
     "text": [
      "\u001b[34m\u001b[1mwandb\u001b[0m: wandb version 0.12.11 is available!  To upgrade, please run:\n",
      "\u001b[34m\u001b[1mwandb\u001b[0m:  $ pip install wandb --upgrade\n"
     ]
    },
    {
     "data": {
      "text/html": [
       "\n",
       "                    Syncing run <strong><a href=\"https://wandb.ai/luiscostigan/house-price-prediction/runs/mzllm0ee\" target=\"_blank\">icy-sweep-10</a></strong> to <a href=\"https://wandb.ai/luiscostigan/house-price-prediction\" target=\"_blank\">Weights & Biases</a> (<a href=\"https://docs.wandb.com/integrations/jupyter.html\" target=\"_blank\">docs</a>).<br/>\n",
       "Sweep page: <a href=\"https://wandb.ai/luiscostigan/house-price-prediction/sweeps/r64dtrnj\" target=\"_blank\">https://wandb.ai/luiscostigan/house-price-prediction/sweeps/r64dtrnj</a><br/>\n",
       "\n",
       "                "
      ],
      "text/plain": [
       "<IPython.core.display.HTML object>"
      ]
     },
     "metadata": {},
     "output_type": "display_data"
    },
    {
     "name": "stdout",
     "output_type": "stream",
     "text": [
      "37/37 [==============================] - 0s 792us/step - loss: 0.0151 - root_mean_squared_error: 0.1738\n",
      "Score for fold 3: loss of 0.015110050328075886; root_mean_squared_error of 0.17383930087089539\n",
      "------------------------------------------------------------------------\n",
      "Score per fold\n",
      "------------------------------------------------------------------------\n",
      "> Fold 1 - Loss: 0.022044330835342407 - RMSE: 0.20997300744056702\n",
      "------------------------------------------------------------------------\n",
      "> Fold 2 - Loss: 0.19111451506614685 - RMSE: 0.6182467937469482\n",
      "------------------------------------------------------------------------\n",
      "> Fold 3 - Loss: 0.015110050328075886 - RMSE: 0.17383930087089539\n",
      "------------------------------------------------------------------------\n",
      "Average scores for all folds:\n",
      "> RMSE: 0.3340197006861369 (+- 0.20151954662838562)\n",
      "> Loss: 0.07608963207652171\n",
      "------------------------------------------------------------------------\n"
     ]
    },
    {
     "data": {
      "text/html": [
       "<br/>Waiting for W&B process to finish, PID 30766... <strong style=\"color:green\">(success).</strong>"
      ],
      "text/plain": [
       "<IPython.core.display.HTML object>"
      ]
     },
     "metadata": {},
     "output_type": "display_data"
    },
    {
     "data": {
      "application/vnd.jupyter.widget-view+json": {
       "model_id": "05e4a11dc5d54fa88b84d8eb7c59e340",
       "version_major": 2,
       "version_minor": 0
      },
      "text/plain": [
       "VBox(children=(Label(value=' 0.12MB of 0.12MB uploaded (0.00MB deduped)\\r'), FloatProgress(value=1.0, max=1.0)…"
      ]
     },
     "metadata": {},
     "output_type": "display_data"
    },
    {
     "data": {
      "text/html": [
       "<style>\n",
       "    table.wandb td:nth-child(1) { padding: 0 10px; text-align: right }\n",
       "    .wandb-row { display: flex; flex-direction: row; flex-wrap: wrap; width: 100% }\n",
       "    .wandb-col { display: flex; flex-direction: column; flex-basis: 100%; flex: 1; padding: 10px; }\n",
       "    </style>\n",
       "<div class=\"wandb-row\"><div class=\"wandb-col\">\n",
       "<h3>Run history:</h3><br/><table class=\"wandb\"><tr><td>Mean Validation Loss (all folds)</td><td>▁</td></tr><tr><td>Mean Validation RMSE (all folds)</td><td>▁</td></tr><tr><td>epoch</td><td>▁▁▁▂▂▂▂▂▂▃▃▃▃▃▄▄▄▄▄▄▅▅▅▅▅▅▆▆▆▆▆▇▇▇▇▇▇███</td></tr><tr><td>loss</td><td>█▁▁▁▁▁▁▁▁▁▁▁▁▁▁▁▁▁▁▁▁▁▁▁▁▁▁▁▁▁▁▁▁▁▁▁▁▁▁▁</td></tr><tr><td>root_mean_squared_error</td><td>█▂▂▂▂▂▂▁▁▁▁▁▁▁▁▁▁▁▁▁▁▁▁▁▁▁▁▁▁▁▁▁▁▁▁▁▁▁▁▁</td></tr><tr><td>val_loss</td><td>█▁▁▁▂▁▁▁▁▁▁▁▁▁▁▁▁▁▁▁▁▁▁▁▁▁▁▁▁▁▁▁▁▁▁▁▁▁▁▁</td></tr><tr><td>val_root_mean_squared_error</td><td>█▁▁▁▂▁▁▂▂▁▁▁▂▁▂▁▁▁▂▂▁▁▁▁▁▁▁▁▁▁▁▁▁▁▁▁▁▁▁▁</td></tr></table><br/></div><div class=\"wandb-col\">\n",
       "<h3>Run summary:</h3><br/><table class=\"wandb\"><tr><td>Mean Validation Loss (all folds)</td><td>0.07609</td></tr><tr><td>Mean Validation RMSE (all folds)</td><td>0.33402</td></tr><tr><td>best_epoch</td><td>166</td></tr><tr><td>best_val_loss</td><td>0.00446</td></tr><tr><td>epoch</td><td>249</td></tr><tr><td>loss</td><td>0.03241</td></tr><tr><td>root_mean_squared_error</td><td>0.27969</td></tr><tr><td>val_loss</td><td>0.01511</td></tr><tr><td>val_root_mean_squared_error</td><td>0.17384</td></tr></table>\n",
       "</div></div>\n",
       "Synced 5 W&B file(s), 0 media file(s), 0 artifact file(s) and 1 other file(s)\n",
       "<br/>Synced <strong style=\"color:#cdcd00\">icy-sweep-10</strong>: <a href=\"https://wandb.ai/luiscostigan/house-price-prediction/runs/mzllm0ee\" target=\"_blank\">https://wandb.ai/luiscostigan/house-price-prediction/runs/mzllm0ee</a><br/>\n",
       "Find logs at: <code>./wandb/run-20220307_055945-mzllm0ee/logs</code><br/>\n"
      ],
      "text/plain": [
       "<IPython.core.display.HTML object>"
      ]
     },
     "metadata": {},
     "output_type": "display_data"
    },
    {
     "name": "stderr",
     "output_type": "stream",
     "text": [
      "\u001b[34m\u001b[1mwandb\u001b[0m: wandb version 0.12.11 is available!  To upgrade, please run:\n",
      "\u001b[34m\u001b[1mwandb\u001b[0m:  $ pip install wandb --upgrade\n"
     ]
    },
    {
     "data": {
      "text/html": [
       "\n",
       "                    Syncing run <strong><a href=\"https://wandb.ai/luiscostigan/house-price-prediction/runs/mzllm0ee\" target=\"_blank\">icy-sweep-10</a></strong> to <a href=\"https://wandb.ai/luiscostigan/house-price-prediction\" target=\"_blank\">Weights & Biases</a> (<a href=\"https://docs.wandb.com/integrations/jupyter.html\" target=\"_blank\">docs</a>).<br/>\n",
       "Sweep page: <a href=\"https://wandb.ai/luiscostigan/house-price-prediction/sweeps/r64dtrnj\" target=\"_blank\">https://wandb.ai/luiscostigan/house-price-prediction/sweeps/r64dtrnj</a><br/>\n",
       "\n",
       "                "
      ],
      "text/plain": [
       "<IPython.core.display.HTML object>"
      ]
     },
     "metadata": {},
     "output_type": "display_data"
    },
    {
     "name": "stdout",
     "output_type": "stream",
     "text": [
      "37/37 [==============================] - 0s 791us/step - loss: 0.0598 - root_mean_squared_error: 0.3457\n",
      "Score for fold 4: loss of 0.05975312367081642; root_mean_squared_error of 0.34569674730300903\n",
      "------------------------------------------------------------------------\n",
      "Score per fold\n",
      "------------------------------------------------------------------------\n",
      "> Fold 1 - Loss: 0.022044330835342407 - RMSE: 0.20997300744056702\n",
      "------------------------------------------------------------------------\n",
      "> Fold 2 - Loss: 0.19111451506614685 - RMSE: 0.6182467937469482\n",
      "------------------------------------------------------------------------\n",
      "> Fold 3 - Loss: 0.015110050328075886 - RMSE: 0.17383930087089539\n",
      "------------------------------------------------------------------------\n",
      "> Fold 4 - Loss: 0.05975312367081642 - RMSE: 0.34569674730300903\n",
      "------------------------------------------------------------------------\n",
      "Average scores for all folds:\n",
      "> RMSE: 0.3369389623403549 (+- 0.1745942783163295)\n",
      "> Loss: 0.07200550497509539\n",
      "------------------------------------------------------------------------\n"
     ]
    },
    {
     "data": {
      "text/html": [
       "<br/>Waiting for W&B process to finish, PID 3442... <strong style=\"color:green\">(success).</strong>"
      ],
      "text/plain": [
       "<IPython.core.display.HTML object>"
      ]
     },
     "metadata": {},
     "output_type": "display_data"
    },
    {
     "data": {
      "application/vnd.jupyter.widget-view+json": {
       "model_id": "c08f8a72f94842d8bcfe537bb885a7b6",
       "version_major": 2,
       "version_minor": 0
      },
      "text/plain": [
       "VBox(children=(Label(value=' 0.12MB of 0.12MB uploaded (0.00MB deduped)\\r'), FloatProgress(value=1.0, max=1.0)…"
      ]
     },
     "metadata": {},
     "output_type": "display_data"
    },
    {
     "data": {
      "text/html": [
       "<style>\n",
       "    table.wandb td:nth-child(1) { padding: 0 10px; text-align: right }\n",
       "    .wandb-row { display: flex; flex-direction: row; flex-wrap: wrap; width: 100% }\n",
       "    .wandb-col { display: flex; flex-direction: column; flex-basis: 100%; flex: 1; padding: 10px; }\n",
       "    </style>\n",
       "<div class=\"wandb-row\"><div class=\"wandb-col\">\n",
       "<h3>Run history:</h3><br/><table class=\"wandb\"><tr><td>Mean Validation Loss (all folds)</td><td>▁</td></tr><tr><td>Mean Validation RMSE (all folds)</td><td>▁</td></tr><tr><td>epoch</td><td>▁▁▁▂▂▂▂▂▂▃▃▃▃▃▄▄▄▄▄▄▅▅▅▅▅▅▆▆▆▆▆▇▇▇▇▇▇███</td></tr><tr><td>loss</td><td>█▁▁▁▁▁▁▁▁▁▁▁▁▁▁▁▁▁▁▁▁▁▁▁▁▁▁▁▁▁▁▁▁▁▁▁▁▁▁▁</td></tr><tr><td>root_mean_squared_error</td><td>█▂▁▁▁▁▁▁▁▁▁▁▁▁▁▁▁▁▁▁▁▁▁▁▁▁▁▁▁▁▁▁▁▁▁▁▁▁▁▁</td></tr><tr><td>val_loss</td><td>█▁▁▁▁▁▁▁▁▁▁▁▁▁▁▁▁▁▁▁▁▁▁▁▁▁▁▁▁▁▁▁▁▁▁▁▁▁▁▁</td></tr><tr><td>val_root_mean_squared_error</td><td>█▁▁▁▁▁▁▁▁▁▁▁▁▁▁▁▁▁▁▁▁▁▁▁▁▁▁▁▁▁▁▁▁▁▁▁▁▁▁▁</td></tr></table><br/></div><div class=\"wandb-col\">\n",
       "<h3>Run summary:</h3><br/><table class=\"wandb\"><tr><td>Mean Validation Loss (all folds)</td><td>0.07201</td></tr><tr><td>Mean Validation RMSE (all folds)</td><td>0.33694</td></tr><tr><td>best_epoch</td><td>168</td></tr><tr><td>best_val_loss</td><td>0.00545</td></tr><tr><td>epoch</td><td>249</td></tr><tr><td>loss</td><td>0.03863</td></tr><tr><td>root_mean_squared_error</td><td>0.33253</td></tr><tr><td>val_loss</td><td>0.05975</td></tr><tr><td>val_root_mean_squared_error</td><td>0.3457</td></tr></table>\n",
       "</div></div>\n",
       "Synced 5 W&B file(s), 0 media file(s), 0 artifact file(s) and 1 other file(s)\n",
       "<br/>Synced <strong style=\"color:#cdcd00\">icy-sweep-10</strong>: <a href=\"https://wandb.ai/luiscostigan/house-price-prediction/runs/mzllm0ee\" target=\"_blank\">https://wandb.ai/luiscostigan/house-price-prediction/runs/mzllm0ee</a><br/>\n",
       "Find logs at: <code>./wandb/run-20220307_060004-mzllm0ee/logs</code><br/>\n"
      ],
      "text/plain": [
       "<IPython.core.display.HTML object>"
      ]
     },
     "metadata": {},
     "output_type": "display_data"
    },
    {
     "name": "stderr",
     "output_type": "stream",
     "text": [
      "\u001b[34m\u001b[1mwandb\u001b[0m: wandb version 0.12.11 is available!  To upgrade, please run:\n",
      "\u001b[34m\u001b[1mwandb\u001b[0m:  $ pip install wandb --upgrade\n"
     ]
    },
    {
     "data": {
      "text/html": [
       "\n",
       "                    Syncing run <strong><a href=\"https://wandb.ai/luiscostigan/house-price-prediction/runs/mzllm0ee\" target=\"_blank\">icy-sweep-10</a></strong> to <a href=\"https://wandb.ai/luiscostigan/house-price-prediction\" target=\"_blank\">Weights & Biases</a> (<a href=\"https://docs.wandb.com/integrations/jupyter.html\" target=\"_blank\">docs</a>).<br/>\n",
       "Sweep page: <a href=\"https://wandb.ai/luiscostigan/house-price-prediction/sweeps/r64dtrnj\" target=\"_blank\">https://wandb.ai/luiscostigan/house-price-prediction/sweeps/r64dtrnj</a><br/>\n",
       "\n",
       "                "
      ],
      "text/plain": [
       "<IPython.core.display.HTML object>"
      ]
     },
     "metadata": {},
     "output_type": "display_data"
    },
    {
     "name": "stdout",
     "output_type": "stream",
     "text": [
      "37/37 [==============================] - 0s 1ms/step - loss: 0.1675 - root_mean_squared_error: 0.5787\n",
      "Score for fold 5: loss of 0.1674620658159256; root_mean_squared_error of 0.5787262916564941\n",
      "------------------------------------------------------------------------\n",
      "Score per fold\n",
      "------------------------------------------------------------------------\n",
      "> Fold 1 - Loss: 0.022044330835342407 - RMSE: 0.20997300744056702\n",
      "------------------------------------------------------------------------\n",
      "> Fold 2 - Loss: 0.19111451506614685 - RMSE: 0.6182467937469482\n",
      "------------------------------------------------------------------------\n",
      "> Fold 3 - Loss: 0.015110050328075886 - RMSE: 0.17383930087089539\n",
      "------------------------------------------------------------------------\n",
      "> Fold 4 - Loss: 0.05975312367081642 - RMSE: 0.34569674730300903\n",
      "------------------------------------------------------------------------\n",
      "> Fold 5 - Loss: 0.1674620658159256 - RMSE: 0.5787262916564941\n",
      "------------------------------------------------------------------------\n",
      "Average scores for all folds:\n",
      "> RMSE: 0.3852964282035828 (+- 0.18368534953962148)\n",
      "> Loss: 0.09109681714326143\n",
      "------------------------------------------------------------------------\n"
     ]
    },
    {
     "data": {
      "text/html": [
       "<br/>Waiting for W&B process to finish, PID 8503... <strong style=\"color:green\">(success).</strong>"
      ],
      "text/plain": [
       "<IPython.core.display.HTML object>"
      ]
     },
     "metadata": {},
     "output_type": "display_data"
    },
    {
     "data": {
      "application/vnd.jupyter.widget-view+json": {
       "model_id": "909cad2d8e35417b94a7876c8323e476",
       "version_major": 2,
       "version_minor": 0
      },
      "text/plain": [
       "VBox(children=(Label(value=' 0.12MB of 0.12MB uploaded (0.00MB deduped)\\r'), FloatProgress(value=1.0, max=1.0)…"
      ]
     },
     "metadata": {},
     "output_type": "display_data"
    },
    {
     "data": {
      "text/html": [
       "<style>\n",
       "    table.wandb td:nth-child(1) { padding: 0 10px; text-align: right }\n",
       "    .wandb-row { display: flex; flex-direction: row; flex-wrap: wrap; width: 100% }\n",
       "    .wandb-col { display: flex; flex-direction: column; flex-basis: 100%; flex: 1; padding: 10px; }\n",
       "    </style>\n",
       "<div class=\"wandb-row\"><div class=\"wandb-col\">\n",
       "<h3>Run history:</h3><br/><table class=\"wandb\"><tr><td>Mean Validation Loss (all folds)</td><td>▁</td></tr><tr><td>Mean Validation RMSE (all folds)</td><td>▁</td></tr><tr><td>epoch</td><td>▁▁▁▂▂▂▂▂▂▃▃▃▃▃▄▄▄▄▄▄▅▅▅▅▅▅▆▆▆▆▆▇▇▇▇▇▇███</td></tr><tr><td>loss</td><td>█▁▁▁▁▁▁▁▁▁▁▁▁▁▁▁▁▁▁▁▁▁▁▁▁▁▁▁▁▁▁▁▁▁▁▁▁▁▁▁</td></tr><tr><td>root_mean_squared_error</td><td>█▂▁▁▁▁▁▁▁▁▁▁▁▁▁▁▁▁▁▁▁▁▁▁▁▁▁▁▁▁▁▁▁▁▁▁▁▁▁▁</td></tr><tr><td>val_loss</td><td>█▁▁▁▁▁▁▁▁▁▁▁▁▁▁▁▁▁▁▁▁▁▁▁▁▁▁▁▁▁▁▁▁▁▁▁▁▁▁▁</td></tr><tr><td>val_root_mean_squared_error</td><td>█▁▁▁▁▁▁▁▁▁▁▁▁▁▁▁▁▁▁▁▁▁▁▁▁▁▁▁▁▁▁▁▁▁▁▁▁▁▁▁</td></tr></table><br/></div><div class=\"wandb-col\">\n",
       "<h3>Run summary:</h3><br/><table class=\"wandb\"><tr><td>Mean Validation Loss (all folds)</td><td>0.0911</td></tr><tr><td>Mean Validation RMSE (all folds)</td><td>0.3853</td></tr><tr><td>best_epoch</td><td>97</td></tr><tr><td>best_val_loss</td><td>0.005</td></tr><tr><td>epoch</td><td>249</td></tr><tr><td>loss</td><td>0.03662</td></tr><tr><td>root_mean_squared_error</td><td>0.36782</td></tr><tr><td>val_loss</td><td>0.16746</td></tr><tr><td>val_root_mean_squared_error</td><td>0.57873</td></tr></table>\n",
       "</div></div>\n",
       "Synced 5 W&B file(s), 0 media file(s), 0 artifact file(s) and 1 other file(s)\n",
       "<br/>Synced <strong style=\"color:#cdcd00\">icy-sweep-10</strong>: <a href=\"https://wandb.ai/luiscostigan/house-price-prediction/runs/mzllm0ee\" target=\"_blank\">https://wandb.ai/luiscostigan/house-price-prediction/runs/mzllm0ee</a><br/>\n",
       "Find logs at: <code>./wandb/run-20220307_060025-mzllm0ee/logs</code><br/>\n"
      ],
      "text/plain": [
       "<IPython.core.display.HTML object>"
      ]
     },
     "metadata": {},
     "output_type": "display_data"
    },
    {
     "name": "stderr",
     "output_type": "stream",
     "text": [
      "\u001b[34m\u001b[1mwandb\u001b[0m: Agent Starting Run: 27y8s6tt with config:\n",
      "\u001b[34m\u001b[1mwandb\u001b[0m: \tbatch_size: 128\n",
      "\u001b[34m\u001b[1mwandb\u001b[0m: \tdense1: 32\n",
      "\u001b[34m\u001b[1mwandb\u001b[0m: \tdense2: 32\n",
      "\u001b[34m\u001b[1mwandb\u001b[0m: \tdropout1: 0.10642584913381992\n",
      "\u001b[34m\u001b[1mwandb\u001b[0m: \tepochs: 250\n",
      "\u001b[34m\u001b[1mwandb\u001b[0m: wandb version 0.12.11 is available!  To upgrade, please run:\n",
      "\u001b[34m\u001b[1mwandb\u001b[0m:  $ pip install wandb --upgrade\n"
     ]
    },
    {
     "data": {
      "text/html": [
       "\n",
       "                    Syncing run <strong><a href=\"https://wandb.ai/luiscostigan/house-price-prediction/runs/27y8s6tt\" target=\"_blank\">lunar-sweep-11</a></strong> to <a href=\"https://wandb.ai/luiscostigan/house-price-prediction\" target=\"_blank\">Weights & Biases</a> (<a href=\"https://docs.wandb.com/integrations/jupyter.html\" target=\"_blank\">docs</a>).<br/>\n",
       "Sweep page: <a href=\"https://wandb.ai/luiscostigan/house-price-prediction/sweeps/r64dtrnj\" target=\"_blank\">https://wandb.ai/luiscostigan/house-price-prediction/sweeps/r64dtrnj</a><br/>\n",
       "\n",
       "                "
      ],
      "text/plain": [
       "<IPython.core.display.HTML object>"
      ]
     },
     "metadata": {},
     "output_type": "display_data"
    },
    {
     "name": "stdout",
     "output_type": "stream",
     "text": [
      "37/37 [==============================] - 0s 862us/step - loss: 0.4913 - root_mean_squared_error: 0.9932\n",
      "Score for fold 1: loss of 0.49131613969802856; root_mean_squared_error of 0.9932130575180054\n",
      "------------------------------------------------------------------------\n",
      "Score per fold\n",
      "------------------------------------------------------------------------\n",
      "> Fold 1 - Loss: 0.49131613969802856 - RMSE: 0.9932130575180054\n",
      "------------------------------------------------------------------------\n",
      "Average scores for all folds:\n",
      "> RMSE: 0.9932130575180054 (+- 0.0)\n",
      "> Loss: 0.49131613969802856\n",
      "------------------------------------------------------------------------\n"
     ]
    },
    {
     "data": {
      "text/html": [
       "<br/>Waiting for W&B process to finish, PID 13591... <strong style=\"color:green\">(success).</strong>"
      ],
      "text/plain": [
       "<IPython.core.display.HTML object>"
      ]
     },
     "metadata": {},
     "output_type": "display_data"
    },
    {
     "data": {
      "application/vnd.jupyter.widget-view+json": {
       "model_id": "23b73d9421cc495f81fe307ba3bc340a",
       "version_major": 2,
       "version_minor": 0
      },
      "text/plain": [
       "VBox(children=(Label(value=' 0.13MB of 0.13MB uploaded (0.00MB deduped)\\r'), FloatProgress(value=1.0, max=1.0)…"
      ]
     },
     "metadata": {},
     "output_type": "display_data"
    },
    {
     "data": {
      "text/html": [
       "<style>\n",
       "    table.wandb td:nth-child(1) { padding: 0 10px; text-align: right }\n",
       "    .wandb-row { display: flex; flex-direction: row; flex-wrap: wrap; width: 100% }\n",
       "    .wandb-col { display: flex; flex-direction: column; flex-basis: 100%; flex: 1; padding: 10px; }\n",
       "    </style>\n",
       "<div class=\"wandb-row\"><div class=\"wandb-col\">\n",
       "<h3>Run history:</h3><br/><table class=\"wandb\"><tr><td>Mean Validation Loss (all folds)</td><td>▁</td></tr><tr><td>Mean Validation RMSE (all folds)</td><td>▁</td></tr><tr><td>epoch</td><td>▁▁▁▂▂▂▂▂▂▃▃▃▃▃▄▄▄▄▄▄▅▅▅▅▅▅▆▆▆▆▆▇▇▇▇▇▇███</td></tr><tr><td>loss</td><td>█▂▁▁▁▁▁▁▁▁▁▁▁▁▁▁▁▁▁▁▁▁▁▁▁▁▁▁▁▁▁▁▁▁▁▁▁▁▁▁</td></tr><tr><td>root_mean_squared_error</td><td>█▂▂▂▂▁▁▁▁▁▁▁▁▁▁▁▁▁▁▁▁▁▁▁▁▁▁▁▁▁▁▁▁▁▁▁▁▁▁▁</td></tr><tr><td>val_loss</td><td>█▂▂▁▁▁▂▂▁▂▂▁▁▂▂▃▂▂▃▂▃▃▃▂▂▂▃▂▂▂▃▃▂▂▂▂▂▂▂▂</td></tr><tr><td>val_root_mean_squared_error</td><td>█▃▂▁▁▁▃▃▁▃▂▂▂▂▃▃▂▃▄▃▃▃▃▂▂▂▃▂▂▂▃▃▂▂▂▂▃▂▂▃</td></tr></table><br/></div><div class=\"wandb-col\">\n",
       "<h3>Run summary:</h3><br/><table class=\"wandb\"><tr><td>Mean Validation Loss (all folds)</td><td>0.49132</td></tr><tr><td>Mean Validation RMSE (all folds)</td><td>0.99321</td></tr><tr><td>best_epoch</td><td>18</td></tr><tr><td>best_val_loss</td><td>0.02713</td></tr><tr><td>epoch</td><td>249</td></tr><tr><td>loss</td><td>0.03619</td></tr><tr><td>root_mean_squared_error</td><td>0.27353</td></tr><tr><td>val_loss</td><td>0.49132</td></tr><tr><td>val_root_mean_squared_error</td><td>0.99321</td></tr></table>\n",
       "</div></div>\n",
       "Synced 5 W&B file(s), 0 media file(s), 0 artifact file(s) and 1 other file(s)\n",
       "<br/>Synced <strong style=\"color:#cdcd00\">lunar-sweep-11</strong>: <a href=\"https://wandb.ai/luiscostigan/house-price-prediction/runs/27y8s6tt\" target=\"_blank\">https://wandb.ai/luiscostigan/house-price-prediction/runs/27y8s6tt</a><br/>\n",
       "Find logs at: <code>./wandb/run-20220307_060048-27y8s6tt/logs</code><br/>\n"
      ],
      "text/plain": [
       "<IPython.core.display.HTML object>"
      ]
     },
     "metadata": {},
     "output_type": "display_data"
    },
    {
     "name": "stderr",
     "output_type": "stream",
     "text": [
      "\u001b[34m\u001b[1mwandb\u001b[0m: wandb version 0.12.11 is available!  To upgrade, please run:\n",
      "\u001b[34m\u001b[1mwandb\u001b[0m:  $ pip install wandb --upgrade\n"
     ]
    },
    {
     "data": {
      "text/html": [
       "\n",
       "                    Syncing run <strong><a href=\"https://wandb.ai/luiscostigan/house-price-prediction/runs/27y8s6tt\" target=\"_blank\">lunar-sweep-11</a></strong> to <a href=\"https://wandb.ai/luiscostigan/house-price-prediction\" target=\"_blank\">Weights & Biases</a> (<a href=\"https://docs.wandb.com/integrations/jupyter.html\" target=\"_blank\">docs</a>).<br/>\n",
       "Sweep page: <a href=\"https://wandb.ai/luiscostigan/house-price-prediction/sweeps/r64dtrnj\" target=\"_blank\">https://wandb.ai/luiscostigan/house-price-prediction/sweeps/r64dtrnj</a><br/>\n",
       "\n",
       "                "
      ],
      "text/plain": [
       "<IPython.core.display.HTML object>"
      ]
     },
     "metadata": {},
     "output_type": "display_data"
    },
    {
     "name": "stdout",
     "output_type": "stream",
     "text": [
      "37/37 [==============================] - 0s 897us/step - loss: 0.4082 - root_mean_squared_error: 0.9040\n",
      "Score for fold 2: loss of 0.40823644399642944; root_mean_squared_error of 0.9040364623069763\n",
      "------------------------------------------------------------------------\n",
      "Score per fold\n",
      "------------------------------------------------------------------------\n",
      "> Fold 1 - Loss: 0.49131613969802856 - RMSE: 0.9932130575180054\n",
      "------------------------------------------------------------------------\n",
      "> Fold 2 - Loss: 0.40823644399642944 - RMSE: 0.9040364623069763\n",
      "------------------------------------------------------------------------\n",
      "Average scores for all folds:\n",
      "> RMSE: 0.9486247599124908 (+- 0.044588297605514526)\n",
      "> Loss: 0.449776291847229\n",
      "------------------------------------------------------------------------\n"
     ]
    },
    {
     "data": {
      "text/html": [
       "<br/>Waiting for W&B process to finish, PID 18653... <strong style=\"color:green\">(success).</strong>"
      ],
      "text/plain": [
       "<IPython.core.display.HTML object>"
      ]
     },
     "metadata": {},
     "output_type": "display_data"
    },
    {
     "data": {
      "application/vnd.jupyter.widget-view+json": {
       "model_id": "768f96747db140fcbd0233b49f02baca",
       "version_major": 2,
       "version_minor": 0
      },
      "text/plain": [
       "VBox(children=(Label(value=' 0.13MB of 0.13MB uploaded (0.00MB deduped)\\r'), FloatProgress(value=1.0, max=1.0)…"
      ]
     },
     "metadata": {},
     "output_type": "display_data"
    },
    {
     "data": {
      "text/html": [
       "<style>\n",
       "    table.wandb td:nth-child(1) { padding: 0 10px; text-align: right }\n",
       "    .wandb-row { display: flex; flex-direction: row; flex-wrap: wrap; width: 100% }\n",
       "    .wandb-col { display: flex; flex-direction: column; flex-basis: 100%; flex: 1; padding: 10px; }\n",
       "    </style>\n",
       "<div class=\"wandb-row\"><div class=\"wandb-col\">\n",
       "<h3>Run history:</h3><br/><table class=\"wandb\"><tr><td>Mean Validation Loss (all folds)</td><td>▁</td></tr><tr><td>Mean Validation RMSE (all folds)</td><td>▁</td></tr><tr><td>epoch</td><td>▁▁▁▂▂▂▂▂▂▃▃▃▃▃▄▄▄▄▄▄▅▅▅▅▅▅▆▆▆▆▆▇▇▇▇▇▇███</td></tr><tr><td>loss</td><td>█▂▂▂▂▁▁▁▁▁▁▁▁▁▁▁▁▁▁▁▁▁▁▁▁▁▁▁▁▁▁▁▁▁▁▁▁▁▁▁</td></tr><tr><td>root_mean_squared_error</td><td>█▂▂▂▂▂▂▂▂▂▂▂▁▁▂▁▁▁▁▁▁▁▁▁▁▁▁▁▁▁▁▁▁▁▁▁▁▁▁▁</td></tr><tr><td>val_loss</td><td>▅▃▁▁▁▅▅█▅▅▁▂█▁▅▂▂▆▂▇▆▆▇▅▆▂▇▇▇▄▂▄▃▃▃▃▄█▆▄</td></tr><tr><td>val_root_mean_squared_error</td><td>▆▄▂▂▁▆▅█▆▆▂▃█▂▆▂▂▆▃▇▇▆▇▆▆▃▇▇▇▅▃▅▄▄▄▄▅█▆▄</td></tr></table><br/></div><div class=\"wandb-col\">\n",
       "<h3>Run summary:</h3><br/><table class=\"wandb\"><tr><td>Mean Validation Loss (all folds)</td><td>0.44978</td></tr><tr><td>Mean Validation RMSE (all folds)</td><td>0.94862</td></tr><tr><td>best_epoch</td><td>43</td></tr><tr><td>best_val_loss</td><td>0.01516</td></tr><tr><td>epoch</td><td>249</td></tr><tr><td>loss</td><td>0.05966</td></tr><tr><td>root_mean_squared_error</td><td>0.35462</td></tr><tr><td>val_loss</td><td>0.40824</td></tr><tr><td>val_root_mean_squared_error</td><td>0.90404</td></tr></table>\n",
       "</div></div>\n",
       "Synced 5 W&B file(s), 0 media file(s), 0 artifact file(s) and 1 other file(s)\n",
       "<br/>Synced <strong style=\"color:#cdcd00\">lunar-sweep-11</strong>: <a href=\"https://wandb.ai/luiscostigan/house-price-prediction/runs/27y8s6tt\" target=\"_blank\">https://wandb.ai/luiscostigan/house-price-prediction/runs/27y8s6tt</a><br/>\n",
       "Find logs at: <code>./wandb/run-20220307_060110-27y8s6tt/logs</code><br/>\n"
      ],
      "text/plain": [
       "<IPython.core.display.HTML object>"
      ]
     },
     "metadata": {},
     "output_type": "display_data"
    },
    {
     "name": "stderr",
     "output_type": "stream",
     "text": [
      "\u001b[34m\u001b[1mwandb\u001b[0m: wandb version 0.12.11 is available!  To upgrade, please run:\n",
      "\u001b[34m\u001b[1mwandb\u001b[0m:  $ pip install wandb --upgrade\n"
     ]
    },
    {
     "data": {
      "text/html": [
       "\n",
       "                    Syncing run <strong><a href=\"https://wandb.ai/luiscostigan/house-price-prediction/runs/27y8s6tt\" target=\"_blank\">lunar-sweep-11</a></strong> to <a href=\"https://wandb.ai/luiscostigan/house-price-prediction\" target=\"_blank\">Weights & Biases</a> (<a href=\"https://docs.wandb.com/integrations/jupyter.html\" target=\"_blank\">docs</a>).<br/>\n",
       "Sweep page: <a href=\"https://wandb.ai/luiscostigan/house-price-prediction/sweeps/r64dtrnj\" target=\"_blank\">https://wandb.ai/luiscostigan/house-price-prediction/sweeps/r64dtrnj</a><br/>\n",
       "\n",
       "                "
      ],
      "text/plain": [
       "<IPython.core.display.HTML object>"
      ]
     },
     "metadata": {},
     "output_type": "display_data"
    },
    {
     "name": "stdout",
     "output_type": "stream",
     "text": [
      "37/37 [==============================] - 0s 802us/step - loss: 0.3329 - root_mean_squared_error: 0.8161\n",
      "Score for fold 3: loss of 0.33294743299484253; root_mean_squared_error of 0.8161076903343201\n",
      "------------------------------------------------------------------------\n",
      "Score per fold\n",
      "------------------------------------------------------------------------\n",
      "> Fold 1 - Loss: 0.49131613969802856 - RMSE: 0.9932130575180054\n",
      "------------------------------------------------------------------------\n",
      "> Fold 2 - Loss: 0.40823644399642944 - RMSE: 0.9040364623069763\n",
      "------------------------------------------------------------------------\n",
      "> Fold 3 - Loss: 0.33294743299484253 - RMSE: 0.8161076903343201\n",
      "------------------------------------------------------------------------\n",
      "Average scores for all folds:\n",
      "> RMSE: 0.904452403386434 (+- 0.07230356158379837)\n",
      "> Loss: 0.41083333889643353\n",
      "------------------------------------------------------------------------\n"
     ]
    },
    {
     "data": {
      "text/html": [
       "<br/>Waiting for W&B process to finish, PID 23713... <strong style=\"color:green\">(success).</strong>"
      ],
      "text/plain": [
       "<IPython.core.display.HTML object>"
      ]
     },
     "metadata": {},
     "output_type": "display_data"
    },
    {
     "data": {
      "application/vnd.jupyter.widget-view+json": {
       "model_id": "d45db6852fd645dfb0f4450b1146ebc1",
       "version_major": 2,
       "version_minor": 0
      },
      "text/plain": [
       "VBox(children=(Label(value=' 0.13MB of 0.13MB uploaded (0.00MB deduped)\\r'), FloatProgress(value=1.0, max=1.0)…"
      ]
     },
     "metadata": {},
     "output_type": "display_data"
    },
    {
     "data": {
      "text/html": [
       "<style>\n",
       "    table.wandb td:nth-child(1) { padding: 0 10px; text-align: right }\n",
       "    .wandb-row { display: flex; flex-direction: row; flex-wrap: wrap; width: 100% }\n",
       "    .wandb-col { display: flex; flex-direction: column; flex-basis: 100%; flex: 1; padding: 10px; }\n",
       "    </style>\n",
       "<div class=\"wandb-row\"><div class=\"wandb-col\">\n",
       "<h3>Run history:</h3><br/><table class=\"wandb\"><tr><td>Mean Validation Loss (all folds)</td><td>▁</td></tr><tr><td>Mean Validation RMSE (all folds)</td><td>▁</td></tr><tr><td>epoch</td><td>▁▁▁▂▂▂▂▂▂▃▃▃▃▃▄▄▄▄▄▄▅▅▅▅▅▅▆▆▆▆▆▇▇▇▇▇▇███</td></tr><tr><td>loss</td><td>█▂▁▁▁▁▁▁▁▁▁▁▁▁▁▁▁▁▁▁▁▁▁▁▁▁▁▁▁▁▁▁▁▁▁▁▁▁▁▁</td></tr><tr><td>root_mean_squared_error</td><td>█▂▂▂▂▂▁▁▁▁▁▁▁▁▁▁▁▁▁▁▁▁▁▁▁▁▁▁▁▁▁▁▁▁▁▁▁▁▁▁</td></tr><tr><td>val_loss</td><td>█▁▁▁▂▁▃▂▂▁▂▁▂▁▁▃▂▃▁▂▁▃▂▂▁▂▂▃▃▂▂▁▂▂▂▂▂▂▃▂</td></tr><tr><td>val_root_mean_squared_error</td><td>█▂▁▁▂▁▃▃▃▂▃▁▂▂▂▃▂▃▂▃▂▄▂▃▂▃▂▃▄▂▂▂▃▂▂▂▃▃▃▂</td></tr></table><br/></div><div class=\"wandb-col\">\n",
       "<h3>Run summary:</h3><br/><table class=\"wandb\"><tr><td>Mean Validation Loss (all folds)</td><td>0.41083</td></tr><tr><td>Mean Validation RMSE (all folds)</td><td>0.90445</td></tr><tr><td>best_epoch</td><td>55</td></tr><tr><td>best_val_loss</td><td>0.01377</td></tr><tr><td>epoch</td><td>249</td></tr><tr><td>loss</td><td>0.09165</td></tr><tr><td>root_mean_squared_error</td><td>0.4425</td></tr><tr><td>val_loss</td><td>0.33295</td></tr><tr><td>val_root_mean_squared_error</td><td>0.81611</td></tr></table>\n",
       "</div></div>\n",
       "Synced 5 W&B file(s), 0 media file(s), 0 artifact file(s) and 1 other file(s)\n",
       "<br/>Synced <strong style=\"color:#cdcd00\">lunar-sweep-11</strong>: <a href=\"https://wandb.ai/luiscostigan/house-price-prediction/runs/27y8s6tt\" target=\"_blank\">https://wandb.ai/luiscostigan/house-price-prediction/runs/27y8s6tt</a><br/>\n",
       "Find logs at: <code>./wandb/run-20220307_060131-27y8s6tt/logs</code><br/>\n"
      ],
      "text/plain": [
       "<IPython.core.display.HTML object>"
      ]
     },
     "metadata": {},
     "output_type": "display_data"
    },
    {
     "name": "stderr",
     "output_type": "stream",
     "text": [
      "\u001b[34m\u001b[1mwandb\u001b[0m: wandb version 0.12.11 is available!  To upgrade, please run:\n",
      "\u001b[34m\u001b[1mwandb\u001b[0m:  $ pip install wandb --upgrade\n"
     ]
    },
    {
     "data": {
      "text/html": [
       "\n",
       "                    Syncing run <strong><a href=\"https://wandb.ai/luiscostigan/house-price-prediction/runs/27y8s6tt\" target=\"_blank\">lunar-sweep-11</a></strong> to <a href=\"https://wandb.ai/luiscostigan/house-price-prediction\" target=\"_blank\">Weights & Biases</a> (<a href=\"https://docs.wandb.com/integrations/jupyter.html\" target=\"_blank\">docs</a>).<br/>\n",
       "Sweep page: <a href=\"https://wandb.ai/luiscostigan/house-price-prediction/sweeps/r64dtrnj\" target=\"_blank\">https://wandb.ai/luiscostigan/house-price-prediction/sweeps/r64dtrnj</a><br/>\n",
       "\n",
       "                "
      ],
      "text/plain": [
       "<IPython.core.display.HTML object>"
      ]
     },
     "metadata": {},
     "output_type": "display_data"
    },
    {
     "name": "stdout",
     "output_type": "stream",
     "text": [
      "37/37 [==============================] - 0s 914us/step - loss: 0.7617 - root_mean_squared_error: 1.2668\n",
      "Score for fold 4: loss of 0.7616763710975647; root_mean_squared_error of 1.2668042182922363\n",
      "------------------------------------------------------------------------\n",
      "Score per fold\n",
      "------------------------------------------------------------------------\n",
      "> Fold 1 - Loss: 0.49131613969802856 - RMSE: 0.9932130575180054\n",
      "------------------------------------------------------------------------\n",
      "> Fold 2 - Loss: 0.40823644399642944 - RMSE: 0.9040364623069763\n",
      "------------------------------------------------------------------------\n",
      "> Fold 3 - Loss: 0.33294743299484253 - RMSE: 0.8161076903343201\n",
      "------------------------------------------------------------------------\n",
      "> Fold 4 - Loss: 0.7616763710975647 - RMSE: 1.2668042182922363\n",
      "------------------------------------------------------------------------\n",
      "Average scores for all folds:\n",
      "> RMSE: 0.9950403571128845 (+- 0.1689360406908877)\n",
      "> Loss: 0.4985440969467163\n",
      "------------------------------------------------------------------------\n"
     ]
    },
    {
     "data": {
      "text/html": [
       "<br/>Waiting for W&B process to finish, PID 28847... <strong style=\"color:green\">(success).</strong>"
      ],
      "text/plain": [
       "<IPython.core.display.HTML object>"
      ]
     },
     "metadata": {},
     "output_type": "display_data"
    },
    {
     "data": {
      "application/vnd.jupyter.widget-view+json": {
       "model_id": "3d83eaffcb0641dbb4d4da6cb0e53a90",
       "version_major": 2,
       "version_minor": 0
      },
      "text/plain": [
       "VBox(children=(Label(value=' 0.13MB of 0.13MB uploaded (0.00MB deduped)\\r'), FloatProgress(value=1.0, max=1.0)…"
      ]
     },
     "metadata": {},
     "output_type": "display_data"
    },
    {
     "data": {
      "text/html": [
       "<style>\n",
       "    table.wandb td:nth-child(1) { padding: 0 10px; text-align: right }\n",
       "    .wandb-row { display: flex; flex-direction: row; flex-wrap: wrap; width: 100% }\n",
       "    .wandb-col { display: flex; flex-direction: column; flex-basis: 100%; flex: 1; padding: 10px; }\n",
       "    </style>\n",
       "<div class=\"wandb-row\"><div class=\"wandb-col\">\n",
       "<h3>Run history:</h3><br/><table class=\"wandb\"><tr><td>Mean Validation Loss (all folds)</td><td>▁</td></tr><tr><td>Mean Validation RMSE (all folds)</td><td>▁</td></tr><tr><td>epoch</td><td>▁▁▁▂▂▂▂▂▂▃▃▃▃▃▄▄▄▄▄▄▅▅▅▅▅▅▆▆▆▆▆▇▇▇▇▇▇███</td></tr><tr><td>loss</td><td>█▂▁▁▁▁▁▁▁▁▁▁▁▁▁▁▁▁▁▁▁▁▁▁▁▁▁▁▁▁▁▁▁▁▁▁▁▁▁▁</td></tr><tr><td>root_mean_squared_error</td><td>█▂▂▂▁▁▁▁▁▁▁▁▁▁▁▁▁▁▁▁▁▁▁▁▁▁▁▁▁▁▁▁▁▁▁▁▁▁▁▁</td></tr><tr><td>val_loss</td><td>█▁▁▁▁▁▁▆▃▂▅▄▄▂▂▅▄▃▆▄▂▃▃▂▂▅▄▄▆▃▄▄▄▃▆▆▅▆▅▆</td></tr><tr><td>val_root_mean_squared_error</td><td>█▁▂▁▁▁▁▆▄▃▅▄▄▃▂▅▅▄▆▄▃▃▃▃▂▅▅▄▆▄▄▄▄▄▆▆▅▆▅▆</td></tr></table><br/></div><div class=\"wandb-col\">\n",
       "<h3>Run summary:</h3><br/><table class=\"wandb\"><tr><td>Mean Validation Loss (all folds)</td><td>0.49854</td></tr><tr><td>Mean Validation RMSE (all folds)</td><td>0.99504</td></tr><tr><td>best_epoch</td><td>26</td></tr><tr><td>best_val_loss</td><td>0.02637</td></tr><tr><td>epoch</td><td>249</td></tr><tr><td>loss</td><td>0.05047</td></tr><tr><td>root_mean_squared_error</td><td>0.32788</td></tr><tr><td>val_loss</td><td>0.76168</td></tr><tr><td>val_root_mean_squared_error</td><td>1.2668</td></tr></table>\n",
       "</div></div>\n",
       "Synced 5 W&B file(s), 0 media file(s), 0 artifact file(s) and 1 other file(s)\n",
       "<br/>Synced <strong style=\"color:#cdcd00\">lunar-sweep-11</strong>: <a href=\"https://wandb.ai/luiscostigan/house-price-prediction/runs/27y8s6tt\" target=\"_blank\">https://wandb.ai/luiscostigan/house-price-prediction/runs/27y8s6tt</a><br/>\n",
       "Find logs at: <code>./wandb/run-20220307_060152-27y8s6tt/logs</code><br/>\n"
      ],
      "text/plain": [
       "<IPython.core.display.HTML object>"
      ]
     },
     "metadata": {},
     "output_type": "display_data"
    },
    {
     "name": "stderr",
     "output_type": "stream",
     "text": [
      "\u001b[34m\u001b[1mwandb\u001b[0m: wandb version 0.12.11 is available!  To upgrade, please run:\n",
      "\u001b[34m\u001b[1mwandb\u001b[0m:  $ pip install wandb --upgrade\n"
     ]
    },
    {
     "data": {
      "text/html": [
       "\n",
       "                    Syncing run <strong><a href=\"https://wandb.ai/luiscostigan/house-price-prediction/runs/27y8s6tt\" target=\"_blank\">lunar-sweep-11</a></strong> to <a href=\"https://wandb.ai/luiscostigan/house-price-prediction\" target=\"_blank\">Weights & Biases</a> (<a href=\"https://docs.wandb.com/integrations/jupyter.html\" target=\"_blank\">docs</a>).<br/>\n",
       "Sweep page: <a href=\"https://wandb.ai/luiscostigan/house-price-prediction/sweeps/r64dtrnj\" target=\"_blank\">https://wandb.ai/luiscostigan/house-price-prediction/sweeps/r64dtrnj</a><br/>\n",
       "\n",
       "                "
      ],
      "text/plain": [
       "<IPython.core.display.HTML object>"
      ]
     },
     "metadata": {},
     "output_type": "display_data"
    },
    {
     "name": "stdout",
     "output_type": "stream",
     "text": [
      "37/37 [==============================] - 0s 783us/step - loss: 0.6638 - root_mean_squared_error: 1.1685\n",
      "Score for fold 5: loss of 0.6638228893280029; root_mean_squared_error of 1.168514609336853\n",
      "------------------------------------------------------------------------\n",
      "Score per fold\n",
      "------------------------------------------------------------------------\n",
      "> Fold 1 - Loss: 0.49131613969802856 - RMSE: 0.9932130575180054\n",
      "------------------------------------------------------------------------\n",
      "> Fold 2 - Loss: 0.40823644399642944 - RMSE: 0.9040364623069763\n",
      "------------------------------------------------------------------------\n",
      "> Fold 3 - Loss: 0.33294743299484253 - RMSE: 0.8161076903343201\n",
      "------------------------------------------------------------------------\n",
      "> Fold 4 - Loss: 0.7616763710975647 - RMSE: 1.2668042182922363\n",
      "------------------------------------------------------------------------\n",
      "> Fold 5 - Loss: 0.6638228893280029 - RMSE: 1.168514609336853\n",
      "------------------------------------------------------------------------\n",
      "Average scores for all folds:\n",
      "> RMSE: 1.0297352075576782 (+- 0.16627218427926246)\n",
      "> Loss: 0.5315998554229736\n",
      "------------------------------------------------------------------------\n"
     ]
    },
    {
     "data": {
      "text/html": [
       "<br/>Waiting for W&B process to finish, PID 1516... <strong style=\"color:green\">(success).</strong>"
      ],
      "text/plain": [
       "<IPython.core.display.HTML object>"
      ]
     },
     "metadata": {},
     "output_type": "display_data"
    },
    {
     "data": {
      "application/vnd.jupyter.widget-view+json": {
       "model_id": "028c9044109143b8aa0c298cc2e6240d",
       "version_major": 2,
       "version_minor": 0
      },
      "text/plain": [
       "VBox(children=(Label(value=' 0.13MB of 0.13MB uploaded (0.00MB deduped)\\r'), FloatProgress(value=1.0, max=1.0)…"
      ]
     },
     "metadata": {},
     "output_type": "display_data"
    },
    {
     "data": {
      "text/html": [
       "<style>\n",
       "    table.wandb td:nth-child(1) { padding: 0 10px; text-align: right }\n",
       "    .wandb-row { display: flex; flex-direction: row; flex-wrap: wrap; width: 100% }\n",
       "    .wandb-col { display: flex; flex-direction: column; flex-basis: 100%; flex: 1; padding: 10px; }\n",
       "    </style>\n",
       "<div class=\"wandb-row\"><div class=\"wandb-col\">\n",
       "<h3>Run history:</h3><br/><table class=\"wandb\"><tr><td>Mean Validation Loss (all folds)</td><td>▁</td></tr><tr><td>Mean Validation RMSE (all folds)</td><td>▁</td></tr><tr><td>epoch</td><td>▁▁▁▂▂▂▂▂▂▃▃▃▃▃▄▄▄▄▄▄▅▅▅▅▅▅▆▆▆▆▆▇▇▇▇▇▇███</td></tr><tr><td>loss</td><td>█▂▂▁▁▁▁▁▁▁▁▁▁▁▁▁▁▁▁▁▁▁▁▁▁▁▁▁▁▁▁▁▁▁▁▁▁▁▁▁</td></tr><tr><td>root_mean_squared_error</td><td>█▂▂▂▂▂▂▁▁▁▁▁▁▁▁▁▁▁▁▁▁▁▁▁▁▁▁▁▁▁▁▁▁▁▁▁▁▁▁▁</td></tr><tr><td>val_loss</td><td>█▁▄▁▁▁▂▄▁▂▅▃▂▄▁▄▂▅▅▄▄▅▆▅▄▃▄▃▄▄▅▃▄▄▄▃▅▅▄▃</td></tr><tr><td>val_root_mean_squared_error</td><td>█▁▄▂▂▁▃▄▁▂▅▄▃▄▁▄▂▅▅▄▄▅▆▅▄▃▄▃▄▄▅▄▄▄▄▄▄▄▄▃</td></tr></table><br/></div><div class=\"wandb-col\">\n",
       "<h3>Run summary:</h3><br/><table class=\"wandb\"><tr><td>Mean Validation Loss (all folds)</td><td>0.5316</td></tr><tr><td>Mean Validation RMSE (all folds)</td><td>1.02974</td></tr><tr><td>best_epoch</td><td>28</td></tr><tr><td>best_val_loss</td><td>0.01725</td></tr><tr><td>epoch</td><td>249</td></tr><tr><td>loss</td><td>0.04808</td></tr><tr><td>root_mean_squared_error</td><td>0.31259</td></tr><tr><td>val_loss</td><td>0.66382</td></tr><tr><td>val_root_mean_squared_error</td><td>1.16851</td></tr></table>\n",
       "</div></div>\n",
       "Synced 5 W&B file(s), 0 media file(s), 0 artifact file(s) and 1 other file(s)\n",
       "<br/>Synced <strong style=\"color:#cdcd00\">lunar-sweep-11</strong>: <a href=\"https://wandb.ai/luiscostigan/house-price-prediction/runs/27y8s6tt\" target=\"_blank\">https://wandb.ai/luiscostigan/house-price-prediction/runs/27y8s6tt</a><br/>\n",
       "Find logs at: <code>./wandb/run-20220307_060213-27y8s6tt/logs</code><br/>\n"
      ],
      "text/plain": [
       "<IPython.core.display.HTML object>"
      ]
     },
     "metadata": {},
     "output_type": "display_data"
    },
    {
     "name": "stderr",
     "output_type": "stream",
     "text": [
      "\u001b[34m\u001b[1mwandb\u001b[0m: Sweep Agent: Waiting for job.\n",
      "\u001b[34m\u001b[1mwandb\u001b[0m: Job received.\n",
      "\u001b[34m\u001b[1mwandb\u001b[0m: Agent Starting Run: yr3zdpkc with config:\n",
      "\u001b[34m\u001b[1mwandb\u001b[0m: \tbatch_size: 128\n",
      "\u001b[34m\u001b[1mwandb\u001b[0m: \tdense1: 32\n",
      "\u001b[34m\u001b[1mwandb\u001b[0m: \tdense2: 32\n",
      "\u001b[34m\u001b[1mwandb\u001b[0m: \tdropout1: 0.07773994591298616\n",
      "\u001b[34m\u001b[1mwandb\u001b[0m: \tepochs: 500\n",
      "\u001b[34m\u001b[1mwandb\u001b[0m: wandb version 0.12.11 is available!  To upgrade, please run:\n",
      "\u001b[34m\u001b[1mwandb\u001b[0m:  $ pip install wandb --upgrade\n"
     ]
    },
    {
     "data": {
      "text/html": [
       "\n",
       "                    Syncing run <strong><a href=\"https://wandb.ai/luiscostigan/house-price-prediction/runs/yr3zdpkc\" target=\"_blank\">dandy-sweep-12</a></strong> to <a href=\"https://wandb.ai/luiscostigan/house-price-prediction\" target=\"_blank\">Weights & Biases</a> (<a href=\"https://docs.wandb.com/integrations/jupyter.html\" target=\"_blank\">docs</a>).<br/>\n",
       "Sweep page: <a href=\"https://wandb.ai/luiscostigan/house-price-prediction/sweeps/r64dtrnj\" target=\"_blank\">https://wandb.ai/luiscostigan/house-price-prediction/sweeps/r64dtrnj</a><br/>\n",
       "\n",
       "                "
      ],
      "text/plain": [
       "<IPython.core.display.HTML object>"
      ]
     },
     "metadata": {},
     "output_type": "display_data"
    },
    {
     "name": "stderr",
     "output_type": "stream",
     "text": [
      "\u001b[34m\u001b[1mwandb\u001b[0m: Ctrl + C detected. Stopping sweep.\n"
     ]
    },
    {
     "data": {
      "text/html": [
       "<br/>Waiting for W&B process to finish, PID 6662... <strong style=\"color:red\">(failed 1).</strong> Press ctrl-c to abort syncing."
      ],
      "text/plain": [
       "<IPython.core.display.HTML object>"
      ]
     },
     "metadata": {},
     "output_type": "display_data"
    },
    {
     "data": {
      "application/vnd.jupyter.widget-view+json": {
       "model_id": "278da4809dde4b55b97a57adc079ce65",
       "version_major": 2,
       "version_minor": 0
      },
      "text/plain": [
       "VBox(children=(Label(value=' 0.13MB of 0.13MB uploaded (0.00MB deduped)\\r'), FloatProgress(value=1.0, max=1.0)…"
      ]
     },
     "metadata": {},
     "output_type": "display_data"
    },
    {
     "data": {
      "text/html": [
       "<style>\n",
       "    table.wandb td:nth-child(1) { padding: 0 10px; text-align: right }\n",
       "    .wandb-row { display: flex; flex-direction: row; flex-wrap: wrap; width: 100% }\n",
       "    .wandb-col { display: flex; flex-direction: column; flex-basis: 100%; flex: 1; padding: 10px; }\n",
       "    </style>\n",
       "<div class=\"wandb-row\"><div class=\"wandb-col\">\n",
       "<h3>Run history:</h3><br/><table class=\"wandb\"><tr><td>epoch</td><td>▁▁▁▁▂▂▂▂▂▃▃▃▃▃▃▄▄▄▄▄▅▅▅▅▅▅▆▆▆▆▆▆▇▇▇▇▇███</td></tr><tr><td>loss</td><td>█▂▁▁▁▁▁▁▁▁▁▁▁▁▁▁▁▁▁▁▁▁▁▁▁▁▁▁▁▁▁▁▁▁▁▁▁▁▁▁</td></tr><tr><td>root_mean_squared_error</td><td>█▂▂▂▁▁▁▁▁▁▁▁▁▁▁▁▁▁▁▁▁▁▁▁▁▁▁▁▁▁▁▁▁▁▁▁▁▁▁▁</td></tr><tr><td>val_loss</td><td>█▁▁▁▁▁▁▁▁▁▂▁▂▂▂▂▁▂▁▂▁▁▁▁▂▁▁▁▁▂▁▁▁▁▁▁▂▂▂▂</td></tr><tr><td>val_root_mean_squared_error</td><td>█▂▂▂▁▁▁▂▂▁▂▂▂▂▂▂▁▂▂▂▂▁▂▂▂▁▂▁▁▂▁▁▁▂▁▁▂▂▂▂</td></tr></table><br/></div><div class=\"wandb-col\">\n",
       "<h3>Run summary:</h3><br/><table class=\"wandb\"><tr><td>best_epoch</td><td>29</td></tr><tr><td>best_val_loss</td><td>0.01816</td></tr><tr><td>epoch</td><td>150</td></tr><tr><td>loss</td><td>0.07929</td></tr><tr><td>root_mean_squared_error</td><td>0.41292</td></tr><tr><td>val_loss</td><td>0.44217</td></tr><tr><td>val_root_mean_squared_error</td><td>0.94105</td></tr></table>\n",
       "</div></div>\n",
       "Synced 5 W&B file(s), 0 media file(s), 0 artifact file(s) and 1 other file(s)\n",
       "<br/>Synced <strong style=\"color:#cdcd00\">dandy-sweep-12</strong>: <a href=\"https://wandb.ai/luiscostigan/house-price-prediction/runs/yr3zdpkc\" target=\"_blank\">https://wandb.ai/luiscostigan/house-price-prediction/runs/yr3zdpkc</a><br/>\n",
       "Find logs at: <code>./wandb/run-20220307_060243-yr3zdpkc/logs</code><br/>\n"
      ],
      "text/plain": [
       "<IPython.core.display.HTML object>"
      ]
     },
     "metadata": {},
     "output_type": "display_data"
    }
   ],
   "source": [
    "# Define training function and hyperparameter ranges\n",
    "from wandb.keras import WandbCallback\n",
    "from sklearn.model_selection import KFold\n",
    "\n",
    "sweep_config = {\n",
    "  \"name\": \"keras-sequential-model-sweep\",\n",
    "  \"method\": \"random\",\n",
    "  \"parameters\": {\n",
    "    \"dropout1\": {\n",
    "      \"min\": 0.0,\n",
    "      \"max\": 0.3\n",
    "    },\n",
    "    \"dense1\": {\n",
    "      \"values\": [8, 16, 32]\n",
    "    },\n",
    "    \"dense2\": {\n",
    "      \"values\": [8, 16, 32]\n",
    "    },\n",
    "    \"epochs\": {\n",
    "      \"values\": [250,500,750]\n",
    "    },\n",
    "    \"batch_size\": {\n",
    "      \"values\": [8, 16, 64, 128]\n",
    "    }\n",
    "  },\n",
    "  \"metric\": {\n",
    "    \"name\": \"Mean Validation RMSE (all folds)\",\n",
    "    \"goal\": \"minimize\"\n",
    "  }\n",
    "}\n",
    "\n",
    "config_defaults = {\n",
    "  \"dropout1\": 0.1,\n",
    "  \"dense1\": 16,\n",
    "  \"dense2\": 16,\n",
    "  \"epochs\": 100,\n",
    "  \"batch_size\": 16\n",
    "}\n",
    "\n",
    "# Define number of splits\n",
    "kf = KFold(n_splits=5)\n",
    "\n",
    "def train():\n",
    "\n",
    "  rmse_per_fold = []\n",
    "  loss_per_fold = []\n",
    "  fold_no = 1\n",
    "\n",
    "  # Go through each split, and get the index number for each (currently 50, 10 x 5 repeated k-fold) \n",
    "  for train, test in kf.split(X_train, y_train):\n",
    "\n",
    "    # With the current session in WandB\n",
    "    with wandb.init(config=config_defaults) as run:\n",
    "\n",
    "      # Recreate the model each time for each new batch\n",
    "      model = None # Not sure if this step is necessary\n",
    "      model = create_model()\n",
    "\n",
    "      # Fit model on new batches\n",
    "      model.fit(\n",
    "        np.asarray(X_train), \n",
    "        y_train, \n",
    "        epochs=wandb.config.epochs, \n",
    "        batch_size=wandb.config.batch_size, \n",
    "        verbose=0,\n",
    "        callbacks=[WandbCallback()], \n",
    "        validation_data=(np.asarray(X_train),y_train)\n",
    "        )\n",
    "      \n",
    "      # Generate data for each\n",
    "      scores = model.evaluate(np.asarray(X_train), y_train, callbacks=[WandbCallback()])\n",
    "      print(f'Score for fold {fold_no}: {model.metrics_names[0]} of {scores[0]}; {model.metrics_names[1]} of {scores[1]}')\n",
    "      rmse_per_fold.append(scores[1])\n",
    "      loss_per_fold.append(scores[0])\n",
    "\n",
    "      # Increase fold number\n",
    "      fold_no = fold_no + 1\n",
    "\n",
    "      # == Provide average scores ==\n",
    "      print('------------------------------------------------------------------------')\n",
    "      print('Score per fold')\n",
    "      for i in range(0, len(rmse_per_fold)):\n",
    "        print('------------------------------------------------------------------------')\n",
    "        print(f'> Fold {i+1} - Loss: {loss_per_fold[i]} - RMSE: {rmse_per_fold[i]}')\n",
    "      print('------------------------------------------------------------------------')\n",
    "      print('Average scores for all folds:')\n",
    "      print(f'> RMSE: {np.mean(rmse_per_fold)} (+- {np.std(rmse_per_fold)})')\n",
    "      print(f'> Loss: {np.mean(loss_per_fold)}')\n",
    "      print('------------------------------------------------------------------------')\n",
    "\n",
    "      wandb.log({\n",
    "        \"Mean Validation RMSE (all folds)\": np.mean(rmse_per_fold),\n",
    "        \"Mean Validation Loss (all folds)\": np.mean(loss_per_fold) \n",
    "        })\n",
    "\n",
    "keras_sequential_sweep_1 = wandb.sweep(sweep_config, project=\"house-price-prediction\", entity=\"luiscostigan\")\n",
    "\n",
    "count = 10\n",
    "\n",
    "wandb.agent(keras_sequential_sweep_1, function=train, count=count)"
   ]
  },
  {
   "cell_type": "markdown",
   "id": "ffaa74eb",
   "metadata": {},
   "source": [
    "Hyperparameter optimization and experiment recording all took place within the Weights and Biases platform. The set of hyperparametrs resulting in the lowest loss (in terms of RMSE) is noted in the top row of the image below:\n",
    "\n",
    "<img src=\"./wandb_rmse.png\" width=\"800\">"
   ]
  },
  {
   "cell_type": "code",
   "execution_count": 24,
   "id": "7b238b8d-bf25-43da-acdb-7caa72dec5df",
   "metadata": {},
   "outputs": [],
   "source": [
    "# Enter best params from sweep\n",
    "best_params = {\n",
    "    \"dropout\": 0.2,\n",
    "    \"dense1\": 2048,\n",
    "    \"dense2\": 2048,\n",
    "    \"epochs\": 750,\n",
    "    \"batch_size\": 256\n",
    "}\n",
    "\n",
    "# Build model using the best parameters\n",
    "def make_predictions(best_params, dataset):\n",
    "    \n",
    "    model = Sequential()\n",
    "    model.add(Dense(512, input_dim=X_train.shape[1], activation='relu'))\n",
    "    model.add(Dense(best_params.get(\"dense1\"), activation='linear'))\n",
    "    model.add(Dropout(best_params.get(\"dropout\")))\n",
    "    model.add(Dense(best_params.get(\"dense2\"), activation='linear'))\n",
    "    model.add(Dense(1))\n",
    "    model.compile(optimizer='rmsprop', loss=Huber(), metrics=[RootMeanSquaredError()])\n",
    "              \n",
    "    model.fit(X_train, y_train, epochs=best_params.get(\"epochs\"),\n",
    "              batch_size=best_params.get(\"batch_size\"), verbose = 0)\n",
    "    \n",
    "    preds  = model.predict(dataset, best_params.get(\"batch_size\"), verbose = 0)\n",
    "              \n",
    "    return preds"
   ]
  },
  {
   "cell_type": "code",
   "execution_count": 25,
   "id": "73e3b4ec-1072-44a8-82b7-620ce29e29db",
   "metadata": {},
   "outputs": [],
   "source": [
    "# Make predictions\n",
    "test_predictions = make_predictions(best_params, X_test)\n",
    "holdout_predictions = make_predictions(best_params, X_holdout)\n",
    "\n",
    "# Undo the log transform\n",
    "test_predictions = np.exp(test_predictions)\n",
    "holdout_predictions = np.exp(holdout_predictions)\n",
    "\n",
    "# Generating submission CSV\n",
    "d = {\"Id\":X_test.index,\"SalePrice\":test_predictions.flatten()}\n",
    "submission = pd.DataFrame(data=d, index=None)\n",
    "\n",
    "submission[\"Id\"] = submission[\"Id\"] + 1461\n",
    "\n",
    "submission.to_csv(\"submission_nn.csv\",index=False)"
   ]
  },
  {
   "cell_type": "code",
   "execution_count": 27,
   "id": "481864a4",
   "metadata": {},
   "outputs": [
    {
     "data": {
      "text/plain": [
       "array([[228658.5 ],\n",
       "       [266291.47],\n",
       "       [385278.97],\n",
       "       ...,\n",
       "       [324904.97],\n",
       "       [207755.81],\n",
       "       [433188.25]], dtype=float32)"
      ]
     },
     "execution_count": 27,
     "metadata": {},
     "output_type": "execute_result"
    }
   ],
   "source": [
    "test_predictions"
   ]
  },
  {
   "cell_type": "code",
   "execution_count": 28,
   "id": "97d2b4aa",
   "metadata": {},
   "outputs": [
    {
     "data": {
      "text/plain": [
       "array([[ 218479.58 ],\n",
       "       [ 133389.95 ],\n",
       "       [ 132196.88 ],\n",
       "       [ 132154.52 ],\n",
       "       [ 163463.19 ],\n",
       "       [ 335370.78 ],\n",
       "       [ 132196.88 ],\n",
       "       [ 130181.1  ],\n",
       "       [ 233474.55 ],\n",
       "       [ 143973.17 ],\n",
       "       [ 132196.88 ],\n",
       "       [ 159368.34 ],\n",
       "       [ 174977.47 ],\n",
       "       [ 285044.88 ],\n",
       "       [ 132196.88 ],\n",
       "       [ 132196.88 ],\n",
       "       [ 132196.88 ],\n",
       "       [ 141738.36 ],\n",
       "       [ 200083.   ],\n",
       "       [ 132196.88 ],\n",
       "       [ 132196.88 ],\n",
       "       [ 231247.31 ],\n",
       "       [ 132196.88 ],\n",
       "       [ 141900.39 ],\n",
       "       [ 132196.88 ],\n",
       "       [ 177879.97 ],\n",
       "       [ 141840.06 ],\n",
       "       [ 176016.47 ],\n",
       "       [ 221649.62 ],\n",
       "       [ 240287.45 ],\n",
       "       [ 377281.47 ],\n",
       "       [ 132196.88 ],\n",
       "       [ 351849.88 ],\n",
       "       [ 278087.8  ],\n",
       "       [ 199817.2  ],\n",
       "       [ 235199.83 ],\n",
       "       [ 147299.16 ],\n",
       "       [ 191182.55 ],\n",
       "       [ 570931.2  ],\n",
       "       [ 132196.88 ],\n",
       "       [ 491676.2  ],\n",
       "       [ 146617.45 ],\n",
       "       [ 301641.62 ],\n",
       "       [ 264456.66 ],\n",
       "       [ 212061.81 ],\n",
       "       [ 132196.88 ],\n",
       "       [ 221439.62 ],\n",
       "       [ 263082.4  ],\n",
       "       [ 157212.86 ],\n",
       "       [ 221583.27 ],\n",
       "       [ 178462.62 ],\n",
       "       [ 472825.   ],\n",
       "       [ 132196.88 ],\n",
       "       [ 239127.06 ],\n",
       "       [ 206046.88 ],\n",
       "       [ 334511.5  ],\n",
       "       [ 218587.34 ],\n",
       "       [ 237749.53 ],\n",
       "       [ 176930.84 ],\n",
       "       [ 132196.88 ],\n",
       "       [ 134977.48 ],\n",
       "       [ 201867.78 ],\n",
       "       [ 277014.22 ],\n",
       "       [ 329640.22 ],\n",
       "       [ 159846.89 ],\n",
       "       [ 337908.28 ],\n",
       "       [ 204865.36 ],\n",
       "       [ 156401.28 ],\n",
       "       [ 132196.88 ],\n",
       "       [ 160592.86 ],\n",
       "       [ 132196.88 ],\n",
       "       [ 197275.4  ],\n",
       "       [ 134915.84 ],\n",
       "       [ 185513.   ],\n",
       "       [ 153721.5  ],\n",
       "       [ 251019.67 ],\n",
       "       [ 131202.14 ],\n",
       "       [ 134525.02 ],\n",
       "       [ 485015.94 ],\n",
       "       [ 132196.88 ],\n",
       "       [ 240530.03 ],\n",
       "       [ 136838.05 ],\n",
       "       [ 319636.34 ],\n",
       "       [ 132196.88 ],\n",
       "       [ 280974.6  ],\n",
       "       [ 341590.97 ],\n",
       "       [ 185013.55 ],\n",
       "       [ 132196.88 ],\n",
       "       [ 209965.75 ],\n",
       "       [ 156280.66 ],\n",
       "       [ 283833.16 ],\n",
       "       [ 149581.12 ],\n",
       "       [ 132196.88 ],\n",
       "       [ 141161.55 ],\n",
       "       [ 390313.78 ],\n",
       "       [ 147400.05 ],\n",
       "       [ 149719.97 ],\n",
       "       [ 156198.56 ],\n",
       "       [ 149063.05 ],\n",
       "       [ 132196.88 ],\n",
       "       [ 276399.88 ],\n",
       "       [ 247693.56 ],\n",
       "       [ 132196.88 ],\n",
       "       [ 479031.28 ],\n",
       "       [ 277748.03 ],\n",
       "       [ 239805.11 ],\n",
       "       [ 136888.42 ],\n",
       "       [ 303746.3  ],\n",
       "       [ 132196.88 ],\n",
       "       [ 142210.9  ],\n",
       "       [ 280587.66 ],\n",
       "       [ 225117.98 ],\n",
       "       [ 142658.36 ],\n",
       "       [ 234819.94 ],\n",
       "       [ 146110.62 ],\n",
       "       [ 381549.7  ],\n",
       "       [ 128248.664],\n",
       "       [ 153447.75 ],\n",
       "       [ 132196.88 ],\n",
       "       [ 165007.66 ],\n",
       "       [ 190393.61 ],\n",
       "       [ 146988.33 ],\n",
       "       [ 132196.88 ],\n",
       "       [ 132196.88 ],\n",
       "       [ 172574.48 ],\n",
       "       [ 162198.53 ],\n",
       "       [ 133561.67 ],\n",
       "       [ 102415.625],\n",
       "       [ 132196.88 ],\n",
       "       [ 264162.47 ],\n",
       "       [ 132196.88 ],\n",
       "       [ 159422.45 ],\n",
       "       [ 201067.36 ],\n",
       "       [ 132196.88 ],\n",
       "       [ 466131.56 ],\n",
       "       [ 320835.9  ],\n",
       "       [ 190207.03 ],\n",
       "       [ 333265.84 ],\n",
       "       [ 198160.7  ],\n",
       "       [ 146547.56 ],\n",
       "       [ 319098.47 ],\n",
       "       [ 231986.4  ],\n",
       "       [ 193453.12 ],\n",
       "       [ 132196.88 ],\n",
       "       [ 216635.75 ],\n",
       "       [ 337099.75 ],\n",
       "       [ 284768.84 ],\n",
       "       [ 142983.34 ],\n",
       "       [ 132196.88 ],\n",
       "       [ 144409.78 ],\n",
       "       [ 242398.03 ],\n",
       "       [ 172511.62 ],\n",
       "       [ 333497.62 ],\n",
       "       [ 166162.34 ],\n",
       "       [ 132196.88 ],\n",
       "       [ 132196.88 ],\n",
       "       [ 277379.53 ],\n",
       "       [ 176618.45 ],\n",
       "       [ 231203.88 ],\n",
       "       [ 132196.88 ],\n",
       "       [ 121493.94 ],\n",
       "       [ 491827.16 ],\n",
       "       [ 133990.84 ],\n",
       "       [ 132196.88 ],\n",
       "       [ 354375.5  ],\n",
       "       [ 132196.88 ],\n",
       "       [ 132196.88 ],\n",
       "       [ 135863.44 ],\n",
       "       [ 139762.67 ],\n",
       "       [ 192549.02 ],\n",
       "       [ 132196.88 ],\n",
       "       [ 129886.46 ],\n",
       "       [ 182887.19 ],\n",
       "       [ 132196.88 ],\n",
       "       [ 300220.72 ],\n",
       "       [ 160102.3  ],\n",
       "       [ 148752.2  ],\n",
       "       [ 187097.67 ],\n",
       "       [ 135165.69 ],\n",
       "       [ 286895.03 ],\n",
       "       [ 213846.98 ],\n",
       "       [ 314052.12 ],\n",
       "       [ 257893.61 ],\n",
       "       [ 213461.88 ],\n",
       "       [ 238996.2  ],\n",
       "       [ 137789.02 ],\n",
       "       [ 177451.81 ],\n",
       "       [ 132196.88 ],\n",
       "       [ 189385.28 ],\n",
       "       [ 189359.47 ],\n",
       "       [ 159833.17 ],\n",
       "       [ 132196.88 ],\n",
       "       [ 132196.88 ],\n",
       "       [ 330999.84 ],\n",
       "       [ 132246.3  ],\n",
       "       [ 181344.25 ],\n",
       "       [ 155932.28 ],\n",
       "       [ 132196.88 ],\n",
       "       [ 247937.69 ],\n",
       "       [ 292698.62 ],\n",
       "       [ 132196.88 ],\n",
       "       [ 135504.62 ],\n",
       "       [ 192493.56 ],\n",
       "       [ 172403.72 ],\n",
       "       [ 183389.86 ],\n",
       "       [ 196522.61 ],\n",
       "       [ 137634.05 ],\n",
       "       [ 206362.1  ],\n",
       "       [ 158796.98 ],\n",
       "       [ 139658.88 ],\n",
       "       [ 132196.88 ],\n",
       "       [ 132196.88 ],\n",
       "       [ 151479.64 ],\n",
       "       [ 307693.62 ],\n",
       "       [ 197318.11 ],\n",
       "       [ 132196.88 ],\n",
       "       [ 234124.73 ],\n",
       "       [ 217411.66 ],\n",
       "       [ 187542.84 ],\n",
       "       [ 132196.88 ],\n",
       "       [ 200408.81 ],\n",
       "       [ 422921.84 ],\n",
       "       [ 183213.3  ],\n",
       "       [ 253818.33 ],\n",
       "       [ 229158.4  ],\n",
       "       [ 181949.52 ],\n",
       "       [ 195742.08 ],\n",
       "       [ 132196.88 ],\n",
       "       [ 132196.88 ],\n",
       "       [ 207484.36 ],\n",
       "       [ 171420.7  ],\n",
       "       [ 201268.23 ],\n",
       "       [1135665.   ],\n",
       "       [ 156114.27 ],\n",
       "       [ 250061.1  ],\n",
       "       [ 187451.12 ],\n",
       "       [ 132196.88 ],\n",
       "       [ 149432.69 ],\n",
       "       [ 185546.27 ],\n",
       "       [ 221673.52 ],\n",
       "       [ 132196.88 ],\n",
       "       [ 132196.88 ],\n",
       "       [ 132196.88 ],\n",
       "       [ 147343.14 ],\n",
       "       [ 215602.73 ],\n",
       "       [ 132196.88 ],\n",
       "       [ 132196.88 ],\n",
       "       [ 220830.77 ],\n",
       "       [ 203101.92 ],\n",
       "       [ 146692.72 ],\n",
       "       [ 132196.88 ],\n",
       "       [ 132196.88 ],\n",
       "       [ 145138.34 ],\n",
       "       [ 152706.88 ],\n",
       "       [ 132196.88 ],\n",
       "       [ 361875.34 ],\n",
       "       [ 132196.88 ],\n",
       "       [ 132196.88 ],\n",
       "       [ 207567.06 ],\n",
       "       [ 179256.47 ],\n",
       "       [ 277293.06 ],\n",
       "       [ 132196.88 ],\n",
       "       [ 205548.16 ],\n",
       "       [ 348577.47 ],\n",
       "       [ 352769.8  ],\n",
       "       [ 131529.61 ],\n",
       "       [ 247271.33 ],\n",
       "       [ 259439.3  ],\n",
       "       [ 132196.88 ],\n",
       "       [ 171295.52 ],\n",
       "       [ 176076.25 ],\n",
       "       [ 245723.11 ],\n",
       "       [ 175815.16 ],\n",
       "       [ 293197.6  ],\n",
       "       [ 543511.8  ],\n",
       "       [ 273687.72 ],\n",
       "       [ 283369.6  ],\n",
       "       [ 132196.88 ],\n",
       "       [ 241534.3  ],\n",
       "       [ 149391.52 ],\n",
       "       [ 285232.53 ],\n",
       "       [ 136018.75 ],\n",
       "       [ 132196.88 ],\n",
       "       [ 132196.88 ],\n",
       "       [ 132196.88 ],\n",
       "       [ 141857.11 ],\n",
       "       [ 900719.4  ],\n",
       "       [ 286442.28 ],\n",
       "       [ 201950.97 ],\n",
       "       [ 142785.06 ],\n",
       "       [ 132196.88 ],\n",
       "       [ 273513.94 ]], dtype=float32)"
      ]
     },
     "execution_count": 28,
     "metadata": {},
     "output_type": "execute_result"
    }
   ],
   "source": [
    "holdout_predictions"
   ]
  },
  {
   "cell_type": "markdown",
   "id": "18fb0b31",
   "metadata": {},
   "source": [
    "## Blending Predictions\n",
    "\n",
    "So far, I have generated predictions using a decision tree-based model and a neural net-based model.\n",
    "First, I'll try taking the mean of predictions from both to see how it performs."
   ]
  },
  {
   "cell_type": "code",
   "execution_count": 33,
   "id": "578a0854",
   "metadata": {},
   "outputs": [],
   "source": [
    "# Read CSVs\n",
    "decision_tree_predictions = pd.read_csv(\"/root/data-science-projects-1/house-price-prediction/Models/sklearn/submission_dt.csv\")\n",
    "neural_net_predictions = pd.read_csv(\"/root/data-science-projects-1/house-price-prediction/Models/tensorflow/submission_nn.csv\")\n",
    "\n",
    "# Merge CSVs on Id column\n",
    "decision_tree_predictions[\"neural_net_predictions\"] = neural_net_predictions[\"SalePrice\"]\n",
    "\n",
    "# Rename decision tree predictions column\n",
    "decision_tree_predictions = decision_tree_predictions.rename(columns={\"SalePrice\":\"decision_tree_predictions\"})\n",
    "\n",
    "# Add new column with mean\n",
    "decision_tree_predictions[\"SalePrice\"] = decision_tree_predictions[[\"neural_net_predictions\",\"decision_tree_predictions\"]].mean(axis=1)\n",
    "\n",
    "# Drop other columns\n",
    "decision_tree_predictions = decision_tree_predictions[[\"Id\",\"SalePrice\"]]\n",
    "\n",
    "# Create mean prediction submission CSV\n",
    "mean_predictions = decision_tree_predictions\n",
    "mean_predictions.to_csv(\"submission_mean.csv\",index=False)"
   ]
  },
  {
   "cell_type": "markdown",
   "id": "84c22511",
   "metadata": {},
   "source": [
    "Taking the mean of predictions did not beat my score from just using LightGBM in the previous post.\n",
    "\n",
    "<img src=\"./mean_predictions_kaggle.png\" width=\"600\">\n",
    "\n",
    "Next, I'll try defining a meta-model to best blend predictions from the two models. After developing each model, predictions were also made on a holdout dataset that was kept separate from the training and validation datasets, for the explicit purpose of training this meta-model. The model trained on this dataset was then used to blend predictions on the test dataset to be submitted to Kaggle."
   ]
  },
  {
   "cell_type": "code",
   "execution_count": 34,
   "id": "d4109da3",
   "metadata": {},
   "outputs": [],
   "source": [
    "# Append holdout set NN predictions to DT predictions\n",
    "holdout_predictions_df[\"NN_predictions\"] = holdout_predictions\n",
    "holdout_predictions_df = holdout_predictions_df[[\"DT_predictions\", \"NN_predictions\", \"Actual_SalePrice\"]]\n",
    "\n",
    "# Reverse log transform on SalePrice\n",
    "holdout_predictions_df[\"Actual_SalePrice\"] = np.exp(holdout_predictions_df[\"Actual_SalePrice\"])"
   ]
  },
  {
   "cell_type": "code",
   "execution_count": 35,
   "id": "5202fcdf",
   "metadata": {},
   "outputs": [
    {
     "data": {
      "text/html": [
       "<div>\n",
       "<style scoped>\n",
       "    .dataframe tbody tr th:only-of-type {\n",
       "        vertical-align: middle;\n",
       "    }\n",
       "\n",
       "    .dataframe tbody tr th {\n",
       "        vertical-align: top;\n",
       "    }\n",
       "\n",
       "    .dataframe thead th {\n",
       "        text-align: right;\n",
       "    }\n",
       "</style>\n",
       "<table border=\"1\" class=\"dataframe\">\n",
       "  <thead>\n",
       "    <tr style=\"text-align: right;\">\n",
       "      <th></th>\n",
       "      <th>DT_predictions</th>\n",
       "      <th>NN_predictions</th>\n",
       "      <th>Actual_SalePrice</th>\n",
       "    </tr>\n",
       "  </thead>\n",
       "  <tbody>\n",
       "    <tr>\n",
       "      <th>0</th>\n",
       "      <td>200565.22</td>\n",
       "      <td>218479.578125</td>\n",
       "      <td>208500.0</td>\n",
       "    </tr>\n",
       "    <tr>\n",
       "      <th>1</th>\n",
       "      <td>133316.58</td>\n",
       "      <td>133389.953125</td>\n",
       "      <td>129500.0</td>\n",
       "    </tr>\n",
       "    <tr>\n",
       "      <th>2</th>\n",
       "      <td>131912.38</td>\n",
       "      <td>132196.875000</td>\n",
       "      <td>132000.0</td>\n",
       "    </tr>\n",
       "    <tr>\n",
       "      <th>3</th>\n",
       "      <td>107866.20</td>\n",
       "      <td>132154.515625</td>\n",
       "      <td>90000.0</td>\n",
       "    </tr>\n",
       "    <tr>\n",
       "      <th>4</th>\n",
       "      <td>155335.47</td>\n",
       "      <td>163463.187500</td>\n",
       "      <td>159000.0</td>\n",
       "    </tr>\n",
       "    <tr>\n",
       "      <th>...</th>\n",
       "      <td>...</td>\n",
       "      <td>...</td>\n",
       "      <td>...</td>\n",
       "    </tr>\n",
       "    <tr>\n",
       "      <th>287</th>\n",
       "      <td>234057.98</td>\n",
       "      <td>286442.281250</td>\n",
       "      <td>271000.0</td>\n",
       "    </tr>\n",
       "    <tr>\n",
       "      <th>288</th>\n",
       "      <td>171889.88</td>\n",
       "      <td>201950.968750</td>\n",
       "      <td>192140.0</td>\n",
       "    </tr>\n",
       "    <tr>\n",
       "      <th>289</th>\n",
       "      <td>144124.02</td>\n",
       "      <td>142785.062500</td>\n",
       "      <td>143750.0</td>\n",
       "    </tr>\n",
       "    <tr>\n",
       "      <th>290</th>\n",
       "      <td>110798.66</td>\n",
       "      <td>132196.875000</td>\n",
       "      <td>64500.0</td>\n",
       "    </tr>\n",
       "    <tr>\n",
       "      <th>291</th>\n",
       "      <td>267439.28</td>\n",
       "      <td>273513.937500</td>\n",
       "      <td>287090.0</td>\n",
       "    </tr>\n",
       "  </tbody>\n",
       "</table>\n",
       "<p>292 rows × 3 columns</p>\n",
       "</div>"
      ],
      "text/plain": [
       "     DT_predictions  NN_predictions  Actual_SalePrice\n",
       "0         200565.22   218479.578125          208500.0\n",
       "1         133316.58   133389.953125          129500.0\n",
       "2         131912.38   132196.875000          132000.0\n",
       "3         107866.20   132154.515625           90000.0\n",
       "4         155335.47   163463.187500          159000.0\n",
       "..              ...             ...               ...\n",
       "287       234057.98   286442.281250          271000.0\n",
       "288       171889.88   201950.968750          192140.0\n",
       "289       144124.02   142785.062500          143750.0\n",
       "290       110798.66   132196.875000           64500.0\n",
       "291       267439.28   273513.937500          287090.0\n",
       "\n",
       "[292 rows x 3 columns]"
      ]
     },
     "execution_count": 35,
     "metadata": {},
     "output_type": "execute_result"
    }
   ],
   "source": [
    "holdout_predictions_df"
   ]
  },
  {
   "cell_type": "code",
   "execution_count": 37,
   "id": "a0349413",
   "metadata": {},
   "outputs": [],
   "source": [
    "# Get predictions on test set\n",
    "test_predictions_dt = pd.read_csv(\"/root/data-science-projects-1/house-price-prediction/Models/sklearn/submission_dt.csv\")\n",
    "test_predictions_nn = pd.read_csv(\"/root/data-science-projects-1/house-price-prediction/Models/tensorflow/submission_nn.csv\")\n",
    "\n",
    "# Merge CSVs on Id column\n",
    "test_predictions_dt[\"NN_predictions\"] = test_predictions_nn[\"SalePrice\"]\n",
    "\n",
    "# Rename decision tree predictions column\n",
    "test_predictions_dt = test_predictions_dt.rename(columns={\"SalePrice\":\"DT_predictions\"})\n",
    "\n",
    "# Rename df\n",
    "blended_predictions_df = test_predictions_dt"
   ]
  },
  {
   "cell_type": "markdown",
   "id": "b76de3cc",
   "metadata": {},
   "source": [
    "The meta-model was a simple grid search across different estimators, without attempting to optimize hyperparameters. Since the holdout dataset is very small, I used 10 folds in the cross-validation process."
   ]
  },
  {
   "cell_type": "code",
   "execution_count": 38,
   "id": "88d80bdc",
   "metadata": {},
   "outputs": [
    {
     "name": "stderr",
     "output_type": "stream",
     "text": [
      "/usr/local/lib/python3.8/dist-packages/xgboost/compat.py:36: FutureWarning: pandas.Int64Index is deprecated and will be removed from pandas in a future version. Use pandas.Index with the appropriate dtype instead.\n",
      "  from pandas import MultiIndex, Int64Index\n",
      "/usr/local/lib/python3.8/dist-packages/xgboost/data.py:262: FutureWarning: pandas.Int64Index is deprecated and will be removed from pandas in a future version. Use pandas.Index with the appropriate dtype instead.\n",
      "  elif isinstance(data.columns, (pd.Int64Index, pd.RangeIndex)):\n",
      "/usr/local/lib/python3.8/dist-packages/xgboost/data.py:262: FutureWarning: pandas.Int64Index is deprecated and will be removed from pandas in a future version. Use pandas.Index with the appropriate dtype instead.\n",
      "  elif isinstance(data.columns, (pd.Int64Index, pd.RangeIndex)):\n",
      "/usr/local/lib/python3.8/dist-packages/xgboost/data.py:262: FutureWarning: pandas.Int64Index is deprecated and will be removed from pandas in a future version. Use pandas.Index with the appropriate dtype instead.\n",
      "  elif isinstance(data.columns, (pd.Int64Index, pd.RangeIndex)):\n",
      "/usr/local/lib/python3.8/dist-packages/xgboost/data.py:262: FutureWarning: pandas.Int64Index is deprecated and will be removed from pandas in a future version. Use pandas.Index with the appropriate dtype instead.\n",
      "  elif isinstance(data.columns, (pd.Int64Index, pd.RangeIndex)):\n",
      "/usr/local/lib/python3.8/dist-packages/xgboost/data.py:262: FutureWarning: pandas.Int64Index is deprecated and will be removed from pandas in a future version. Use pandas.Index with the appropriate dtype instead.\n",
      "  elif isinstance(data.columns, (pd.Int64Index, pd.RangeIndex)):\n",
      "/usr/local/lib/python3.8/dist-packages/xgboost/data.py:262: FutureWarning: pandas.Int64Index is deprecated and will be removed from pandas in a future version. Use pandas.Index with the appropriate dtype instead.\n",
      "  elif isinstance(data.columns, (pd.Int64Index, pd.RangeIndex)):\n",
      "/usr/local/lib/python3.8/dist-packages/xgboost/data.py:262: FutureWarning: pandas.Int64Index is deprecated and will be removed from pandas in a future version. Use pandas.Index with the appropriate dtype instead.\n",
      "  elif isinstance(data.columns, (pd.Int64Index, pd.RangeIndex)):\n",
      "/usr/local/lib/python3.8/dist-packages/xgboost/data.py:262: FutureWarning: pandas.Int64Index is deprecated and will be removed from pandas in a future version. Use pandas.Index with the appropriate dtype instead.\n",
      "  elif isinstance(data.columns, (pd.Int64Index, pd.RangeIndex)):\n",
      "/usr/local/lib/python3.8/dist-packages/xgboost/data.py:262: FutureWarning: pandas.Int64Index is deprecated and will be removed from pandas in a future version. Use pandas.Index with the appropriate dtype instead.\n",
      "  elif isinstance(data.columns, (pd.Int64Index, pd.RangeIndex)):\n",
      "/usr/local/lib/python3.8/dist-packages/xgboost/data.py:262: FutureWarning: pandas.Int64Index is deprecated and will be removed from pandas in a future version. Use pandas.Index with the appropriate dtype instead.\n",
      "  elif isinstance(data.columns, (pd.Int64Index, pd.RangeIndex)):\n"
     ]
    },
    {
     "data": {
      "text/plain": [
       "GridSearchCV(cv=10, estimator=Pipeline(steps=[('clf', LinearRegression())]),\n",
       "             param_grid=[{'clf': (LinearRegression(),)}, {'clf': (Ridge(),)},\n",
       "                         {'clf': (XGBRegressor(base_score=None, booster=None,\n",
       "                                               colsample_bylevel=None,\n",
       "                                               colsample_bynode=None,\n",
       "                                               colsample_bytree=None,\n",
       "                                               enable_categorical=False,\n",
       "                                               gamma=None, gpu_id=None,\n",
       "                                               importance_type=None,\n",
       "                                               interaction_constraints=None,...\n",
       "                                               min_child_weight=None,\n",
       "                                               missing=nan,\n",
       "                                               monotone_constraints=None,\n",
       "                                               n_estimators=100, n_jobs=None,\n",
       "                                               num_parallel_tree=None,\n",
       "                                               predictor=None,\n",
       "                                               random_state=None,\n",
       "                                               reg_alpha=None, reg_lambda=None,\n",
       "                                               scale_pos_weight=None,\n",
       "                                               subsample=None, tree_method=None,\n",
       "                                               validate_parameters=None,\n",
       "                                               verbosity=None),)},\n",
       "                         {'clf': (LGBMRegressor(),)}],\n",
       "             scoring=make_scorer(mean_squared_error, squared=False))"
      ]
     },
     "execution_count": 38,
     "metadata": {},
     "output_type": "execute_result"
    }
   ],
   "source": [
    "from sklearn.linear_model import LinearRegression, Ridge\n",
    "from sklearn.model_selection import cross_val_score, GridSearchCV\n",
    "from sklearn.pipeline import Pipeline\n",
    "from sklearn.metrics import make_scorer, mean_squared_error\n",
    "import xgboost as xgb\n",
    "import lightgbm as lgb\n",
    "\n",
    "# Defining a custom loss function (Root Mean Squared Error)\n",
    "rmse = make_scorer(mean_squared_error, squared=False)\n",
    "\n",
    "X = holdout_predictions_df[[\"DT_predictions\", \"NN_predictions\"]]\n",
    "y = holdout_predictions_df[\"Actual_SalePrice\"]\n",
    "\n",
    "estimators = [\n",
    "    {\n",
    "        \"clf\": (LinearRegression(),)\n",
    "    },\n",
    "    {\n",
    "        \"clf\": (Ridge(),)\n",
    "    },\n",
    "    {\n",
    "        \"clf\": (xgb.XGBRegressor(),)\n",
    "    },\n",
    "    {\n",
    "       \"clf\": (lgb.LGBMRegressor(),)\n",
    "    }\n",
    "]\n",
    "\n",
    "pipe = Pipeline([(\"clf\", LinearRegression())])\n",
    "\n",
    "grid_search = GridSearchCV(pipe, estimators, cv=10, scoring=rmse)\n",
    "grid_search.fit(X,y)"
   ]
  },
  {
   "cell_type": "code",
   "execution_count": 39,
   "id": "f98dafc7",
   "metadata": {},
   "outputs": [
    {
     "data": {
      "text/plain": [
       "Pipeline(steps=[('clf', LGBMRegressor())])"
      ]
     },
     "execution_count": 39,
     "metadata": {},
     "output_type": "execute_result"
    }
   ],
   "source": [
    "# Printing the best estimator\n",
    "grid_search.best_estimator_"
   ]
  },
  {
   "cell_type": "code",
   "execution_count": 40,
   "id": "5f117f30",
   "metadata": {},
   "outputs": [],
   "source": [
    "# Make predictions \n",
    "grid_search_blended_predictions = grid_search.predict(blended_predictions_df[[\"DT_predictions\", \"NN_predictions\"]])"
   ]
  },
  {
   "cell_type": "code",
   "execution_count": 41,
   "id": "0a154b42",
   "metadata": {},
   "outputs": [],
   "source": [
    "# Add predictions to a dataframe\n",
    "grid_search_blended_predictions_df = blended_predictions_df\n",
    "grid_search_blended_predictions_df[\"SalePrice\"] = grid_search_blended_predictions\n",
    "grid_search_blended_predictions_df = grid_search_blended_predictions_df.drop(columns=[\"DT_predictions\",\"NN_predictions\"])\n",
    "\n",
    "# Create CSV with blended predictions\n",
    "grid_search_blended_predictions_df.to_csv(\"submission_gridsearch_blended.csv\",index=False)"
   ]
  },
  {
   "cell_type": "code",
   "execution_count": 42,
   "id": "b6d3c014",
   "metadata": {},
   "outputs": [
    {
     "data": {
      "text/html": [
       "<div>\n",
       "<style scoped>\n",
       "    .dataframe tbody tr th:only-of-type {\n",
       "        vertical-align: middle;\n",
       "    }\n",
       "\n",
       "    .dataframe tbody tr th {\n",
       "        vertical-align: top;\n",
       "    }\n",
       "\n",
       "    .dataframe thead th {\n",
       "        text-align: right;\n",
       "    }\n",
       "</style>\n",
       "<table border=\"1\" class=\"dataframe\">\n",
       "  <thead>\n",
       "    <tr style=\"text-align: right;\">\n",
       "      <th></th>\n",
       "      <th>Id</th>\n",
       "      <th>SalePrice</th>\n",
       "    </tr>\n",
       "  </thead>\n",
       "  <tbody>\n",
       "    <tr>\n",
       "      <th>0</th>\n",
       "      <td>1461</td>\n",
       "      <td>136766.464370</td>\n",
       "    </tr>\n",
       "    <tr>\n",
       "      <th>1</th>\n",
       "      <td>1462</td>\n",
       "      <td>186703.082381</td>\n",
       "    </tr>\n",
       "    <tr>\n",
       "      <th>2</th>\n",
       "      <td>1463</td>\n",
       "      <td>274587.653517</td>\n",
       "    </tr>\n",
       "    <tr>\n",
       "      <th>3</th>\n",
       "      <td>1464</td>\n",
       "      <td>280045.176750</td>\n",
       "    </tr>\n",
       "    <tr>\n",
       "      <th>4</th>\n",
       "      <td>1465</td>\n",
       "      <td>274587.653517</td>\n",
       "    </tr>\n",
       "    <tr>\n",
       "      <th>...</th>\n",
       "      <td>...</td>\n",
       "      <td>...</td>\n",
       "    </tr>\n",
       "    <tr>\n",
       "      <th>1454</th>\n",
       "      <td>2915</td>\n",
       "      <td>101520.160747</td>\n",
       "    </tr>\n",
       "    <tr>\n",
       "      <th>1455</th>\n",
       "      <td>2916</td>\n",
       "      <td>101520.160747</td>\n",
       "    </tr>\n",
       "    <tr>\n",
       "      <th>1456</th>\n",
       "      <td>2917</td>\n",
       "      <td>186667.541492</td>\n",
       "    </tr>\n",
       "    <tr>\n",
       "      <th>1457</th>\n",
       "      <td>2918</td>\n",
       "      <td>120444.947406</td>\n",
       "    </tr>\n",
       "    <tr>\n",
       "      <th>1458</th>\n",
       "      <td>2919</td>\n",
       "      <td>280045.176750</td>\n",
       "    </tr>\n",
       "  </tbody>\n",
       "</table>\n",
       "<p>1459 rows × 2 columns</p>\n",
       "</div>"
      ],
      "text/plain": [
       "        Id      SalePrice\n",
       "0     1461  136766.464370\n",
       "1     1462  186703.082381\n",
       "2     1463  274587.653517\n",
       "3     1464  280045.176750\n",
       "4     1465  274587.653517\n",
       "...    ...            ...\n",
       "1454  2915  101520.160747\n",
       "1455  2916  101520.160747\n",
       "1456  2917  186667.541492\n",
       "1457  2918  120444.947406\n",
       "1458  2919  280045.176750\n",
       "\n",
       "[1459 rows x 2 columns]"
      ]
     },
     "execution_count": 42,
     "metadata": {},
     "output_type": "execute_result"
    }
   ],
   "source": [
    "grid_search_blended_predictions_df"
   ]
  },
  {
   "cell_type": "markdown",
   "id": "f19b1299",
   "metadata": {},
   "source": [
    "I had high hopes for a meta-model that blended predictions, but it performed worse than I expected.\n",
    "\n"
   ]
  },
  {
   "cell_type": "markdown",
   "id": "60f3e2d2",
   "metadata": {},
   "source": [
    "## Improvements to subsequent models\n",
    "\n",
    "Below I note some improvements to the models I would implement if I had more time.\n",
    "\n",
    "- Remove outliers (using something like sklearn's IsolationForest)\n",
    "- "
   ]
  }
 ],
 "metadata": {
  "kernelspec": {
   "display_name": "Python 3 (ipykernel)",
   "language": "python",
   "name": "python3"
  },
  "language_info": {
   "codemirror_mode": {
    "name": "ipython",
    "version": 3
   },
   "file_extension": ".py",
   "mimetype": "text/x-python",
   "name": "python",
   "nbconvert_exporter": "python",
   "pygments_lexer": "ipython3",
   "version": "3.8.10"
  }
 },
 "nbformat": 4,
 "nbformat_minor": 5
}
