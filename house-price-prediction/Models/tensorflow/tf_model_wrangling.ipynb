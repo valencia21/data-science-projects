{
 "cells": [
  {
   "cell_type": "code",
   "execution_count": 2,
   "id": "1a9b44ee-21e3-44e1-ab3b-4af5c351aca6",
   "metadata": {
    "tags": []
   },
   "outputs": [],
   "source": [
    "from tensorflow.keras.models import Sequential\n",
    "from tensorflow.keras.layers import Dense, Dropout\n",
    "from tensorflow.keras.optimizers import Adam\n",
    "from tensorflow.keras.metrics import RootMeanSquaredError\n",
    "from tensorflow.keras.losses import Huber\n",
    "from tensorflow.keras import regularizers\n",
    "from time import time\n",
    "from sklearn.metrics import mean_absolute_error\n",
    "import wandb\n",
    "import pandas as pd\n",
    "import numpy as np\n",
    "import matplotlib.pyplot as plt"
   ]
  },
  {
   "cell_type": "markdown",
   "id": "049f674b",
   "metadata": {},
   "source": [
    "In my previous post, I went through the following process:\n",
    "\n",
    "Environment: Anaconda, Windows 11.\n",
    "\n",
    "- Data wrangling (Light exploration, followed by removing and transforming some variables)\n",
    "- Split the training dataset into training and validation datasets\n",
    "- Fit a model using a Scikit-Learn pipeline (Data Preprocessing + fitting XGBoost/LightGBM estimators with a Randomized Search across their respective hyperparameters)\n",
    "- Evaluate and visualize model performance\n",
    "- Implement an automated approach to selecting hyperparameters (HyperOpt)\n",
    "- Make predictions\n",
    "\n",
    "In this post, I will implement the following using the same wrangled/preprocessed data:\n",
    "\n",
    "Environment: Docker, Windows Subsystem for Linux 2 (WSL 2), Windows 11.\n",
    "\n",
    "- Build a simple Sequential model in Keras/Tensorflow\n",
    "- Use the Weights and Biases (WandB) platform to select optimal hyperparameters and record experiments.\n",
    "  - Experiments are evaluated using K-Fold Cross Validation. Mean RMSE across folds for each experiment are custom logged in WandB. \n",
    "- Make predictions.\n",
    "- Blend predictions from the previous post (decision tree) and this post (neural net).\n",
    "  - By taking the mean of predictions, taking the weighted mean of predictions, and defining a meta-model.\n",
    "  - Predictions are evaluated on a holdout dataset, kept separate from the training set since the beginning of the project."
   ]
  },
  {
   "cell_type": "markdown",
   "id": "557fef8e",
   "metadata": {},
   "source": [
    "Actually setting up the environment (Docker, Windows Subsystem for Linux 2 (WSL 2), Windows 11, VSCode, using CUDA) took a couple of days and is probably worthy of its own blog post. It required the following process:\n",
    "\n",
    "- Install WSL2, CUDA drivers and Docker\n",
    "    - Define a Dockerfile that uses a base image compatible with CUDA\n",
    "    - Get libraries from requirements.txt\n",
    "    - Set \"runArgs\" in devcontainer.json to allow GPU usage\n",
    "- Run in VSCode (the Jupyter extension gave me some trouble)\n",
    "    - I ended up creating the container directly from a Dockerfile in the same repo as my code"
   ]
  },
  {
   "cell_type": "code",
   "execution_count": 3,
   "id": "41683053-0452-48d6-8033-a5e2909e0f84",
   "metadata": {},
   "outputs": [
    {
     "name": "stderr",
     "output_type": "stream",
     "text": [
      "/tmp/ipykernel_1783/2886453018.py:23: FutureWarning: The frame.append method is deprecated and will be removed from pandas in a future version. Use pandas.concat instead.\n",
      "  X_train = X_train.append(X_valid).reset_index().drop(columns=\"index\")\n",
      "/tmp/ipykernel_1783/2886453018.py:24: FutureWarning: The series.append method is deprecated and will be removed from pandas in a future version. Use pandas.concat instead.\n",
      "  y_train = y_train.append(y_valid).reset_index().drop(columns=\"index\").values\n"
     ]
    }
   ],
   "source": [
    "# Read in data\n",
    "# Function to bring in wrangled/preprocessed data from previous post\n",
    "def data():\n",
    "    training = pd.read_csv(\"../sklearn/training_preprocessed\")\n",
    "    validation = pd.read_csv(\"../sklearn/validation_preprocessed\")\n",
    "    holdout = pd.read_csv(\"../sklearn/holdout_preprocessed\")\n",
    "    holdout_predictions_df = pd.read_csv(\"../sklearn/holdout_preds_preprocessed\")\n",
    "    test = pd.read_csv(\"../sklearn/test_preprocessed\")\n",
    "    \n",
    "    X_train = training.drop(columns=\"SalePrice\")\n",
    "    y_train = training[\"SalePrice\"]\n",
    "    X_valid = validation.drop(columns=\"SalePrice\")\n",
    "    y_valid = validation[\"SalePrice\"]\n",
    "    X_holdout = holdout.drop(columns=\"Actual_SalePrice\")\n",
    "    y_holdout = holdout[\"Actual_SalePrice\"]\n",
    "    X_test = test\n",
    "    holdout_predictions_df = holdout_predictions_df\n",
    "    return X_train, y_train, X_valid, y_valid, X_holdout, y_holdout, X_test, holdout_predictions_df\n",
    "\n",
    "# Bring in data\n",
    "X_train, y_train, X_valid, y_valid, X_holdout, y_holdout, X_test, holdout_predictions_df = data()\n",
    "\n",
    "# Since this model uses k-fold validation, we don't need separate training and validation datasets\n",
    "X_train = X_train.append(X_valid).reset_index().drop(columns=\"index\")\n",
    "y_train = y_train.append(y_valid).reset_index().drop(columns=\"index\").values"
   ]
  },
  {
   "cell_type": "code",
   "execution_count": 4,
   "id": "0cd95926-a2d1-484d-8674-273e1310e88d",
   "metadata": {},
   "outputs": [
    {
     "name": "stderr",
     "output_type": "stream",
     "text": [
      "Failed to detect the name of this notebook, you can set it manually with the WANDB_NOTEBOOK_NAME environment variable to enable code saving.\n",
      "\u001b[34m\u001b[1mwandb\u001b[0m: Currently logged in as: \u001b[33mluiscostigan\u001b[0m (use `wandb login --relogin` to force relogin)\n"
     ]
    },
    {
     "data": {
      "text/html": [
       "Tracking run with wandb version 0.12.11"
      ],
      "text/plain": [
       "<IPython.core.display.HTML object>"
      ]
     },
     "metadata": {},
     "output_type": "display_data"
    },
    {
     "data": {
      "text/html": [
       "Run data is saved locally in <code>/workspaces/data-science-projects/house-price-prediction/Models/tensorflow/wandb/run-20220314_023039-18o3rtly</code>"
      ],
      "text/plain": [
       "<IPython.core.display.HTML object>"
      ]
     },
     "metadata": {},
     "output_type": "display_data"
    },
    {
     "data": {
      "text/html": [
       "Syncing run <strong><a href=\"https://wandb.ai/luiscostigan/house-price-prediction/runs/18o3rtly\" target=\"_blank\">hershey-cake-476</a></strong> to <a href=\"https://wandb.ai/luiscostigan/house-price-prediction\" target=\"_blank\">Weights & Biases</a> (<a href=\"https://wandb.me/run\" target=\"_blank\">docs</a>)<br/>"
      ],
      "text/plain": [
       "<IPython.core.display.HTML object>"
      ]
     },
     "metadata": {},
     "output_type": "display_data"
    },
    {
     "data": {
      "text/html": [
       "<button onClick=\"this.nextSibling.style.display='block';this.style.display='none';\">Display W&B run</button><iframe src=\"https://wandb.ai/luiscostigan/house-price-prediction/runs/18o3rtly?jupyter=true\" style=\"border:none;width:100%;height:420px;display:none;\"></iframe>"
      ],
      "text/plain": [
       "<wandb.sdk.wandb_run.Run at 0x7f7cc6eb1b20>"
      ]
     },
     "execution_count": 4,
     "metadata": {},
     "output_type": "execute_result"
    }
   ],
   "source": [
    "# Log into Weights and Biases\n",
    "wandb.init(project=\"house-price-prediction\", entity=\"luiscostigan\")"
   ]
  },
  {
   "cell_type": "markdown",
   "id": "2292d2a8",
   "metadata": {},
   "source": [
    "The Neural Network I will use for this task is a simple sequential model. It features:\n",
    "\n",
    "- Two Dense layers with configurable dimensionality and L2 regularization.\n",
    "- A configurable Dropout layer, which takes a sample of the data to improve generalizability of the model.\n",
    "- Use of the ADAM optimizer with a configurable learning rate \"scheduler\" (since the learning rate will change over time).\n",
    "- A configurable number of epochs and batch-size."
   ]
  },
  {
   "cell_type": "code",
   "execution_count": 6,
   "id": "1b06efad-42f3-4cb3-90c9-ee188ed47acc",
   "metadata": {},
   "outputs": [],
   "source": [
    "# Define simple Sequential model\n",
    "def create_model():\n",
    "    model = Sequential()\n",
    "    model.add(Dense(wandb.config.dense1, input_dim=X_train.shape[1], activation='relu', kernel_regularizer=regularizers.l2(wandb.config.bias1)))\n",
    "    model.add(Dropout(wandb.config.dropout1))\n",
    "    model.add(Dense(wandb.config.dense2, activation='relu', kernel_regularizer=regularizers.l2(wandb.config.bias2)))\n",
    "    model.add(Dense(1))\n",
    "    model.compile(optimizer=Adam(wandb.config.learning_rate), loss=\"mean_absolute_error\", metrics=[RootMeanSquaredError()])\n",
    "    \n",
    "    return model"
   ]
  },
  {
   "cell_type": "markdown",
   "id": "c3195ee6",
   "metadata": {},
   "source": [
    "The code below uses the Weights and Biases API to go through 15 \"sweeps\", with each sweep using a set of values for each configurable hyperparameter. Every sweep is conducted 5 times as part of a K-Fold cross validation process. The hyperparameter values to be evaluated for each sweep are determined using Bayesian Optimization (explained in my previous blog post). This requires some metric to optimize for, so I have used the mean RMSE across the 5 folds.\n",
    "\n",
    "The Dense layers have fairly high dimensionality, since running a few trial experiments showed far better performance on the holdout dataset for overparameterized models."
   ]
  },
  {
   "cell_type": "code",
   "execution_count": 7,
   "id": "9e707d3f-2deb-4ac1-b274-48350e1027bd",
   "metadata": {},
   "outputs": [
    {
     "name": "stderr",
     "output_type": "stream",
     "text": [
      "\u001b[34m\u001b[1mwandb\u001b[0m: \u001b[33mWARNING\u001b[0m Calling wandb.login() after wandb.init() has no effect.\n"
     ]
    },
    {
     "name": "stdout",
     "output_type": "stream",
     "text": [
      "Create sweep with ID: e8odal49\n",
      "Sweep URL: https://wandb.ai/luiscostigan/house-price-prediction/sweeps/e8odal49\n"
     ]
    },
    {
     "name": "stderr",
     "output_type": "stream",
     "text": [
      "\u001b[34m\u001b[1mwandb\u001b[0m: Agent Starting Run: wzk1y0kt with config:\n",
      "\u001b[34m\u001b[1mwandb\u001b[0m: \tbatch_size: 8\n",
      "\u001b[34m\u001b[1mwandb\u001b[0m: \tbias1: 0.01\n",
      "\u001b[34m\u001b[1mwandb\u001b[0m: \tbias2: 0.001\n",
      "\u001b[34m\u001b[1mwandb\u001b[0m: \tdense1: 4096\n",
      "\u001b[34m\u001b[1mwandb\u001b[0m: \tdense2: 2048\n",
      "\u001b[34m\u001b[1mwandb\u001b[0m: \tdropout1: 0.26141804024777965\n",
      "\u001b[34m\u001b[1mwandb\u001b[0m: \tepochs: 100\n",
      "\u001b[34m\u001b[1mwandb\u001b[0m: \tlearning_rate: 0.001\n"
     ]
    },
    {
     "data": {
      "text/html": [
       "Tracking run with wandb version 0.12.11"
      ],
      "text/plain": [
       "<IPython.core.display.HTML object>"
      ]
     },
     "metadata": {},
     "output_type": "display_data"
    },
    {
     "data": {
      "text/html": [
       "Run data is saved locally in <code>/workspaces/data-science-projects/house-price-prediction/Models/tensorflow/wandb/run-20220314_023100-wzk1y0kt</code>"
      ],
      "text/plain": [
       "<IPython.core.display.HTML object>"
      ]
     },
     "metadata": {},
     "output_type": "display_data"
    },
    {
     "data": {
      "text/html": [
       "Syncing run <strong><a href=\"https://wandb.ai/luiscostigan/house-price-prediction/runs/wzk1y0kt\" target=\"_blank\">charmed-sweep-1</a></strong> to <a href=\"https://wandb.ai/luiscostigan/house-price-prediction\" target=\"_blank\">Weights & Biases</a> (<a href=\"https://wandb.me/run\" target=\"_blank\">docs</a>)<br/>Sweep page:  <a href=\"https://wandb.ai/luiscostigan/house-price-prediction/sweeps/e8odal49\" target=\"_blank\">https://wandb.ai/luiscostigan/house-price-prediction/sweeps/e8odal49</a>"
      ],
      "text/plain": [
       "<IPython.core.display.HTML object>"
      ]
     },
     "metadata": {},
     "output_type": "display_data"
    },
    {
     "name": "stderr",
     "output_type": "stream",
     "text": [
      "2022-03-14 02:31:04.126154: I tensorflow/stream_executor/cuda/cuda_gpu_executor.cc:922] could not open file to read NUMA node: /sys/bus/pci/devices/0000:01:00.0/numa_node\n",
      "Your kernel may have been built without NUMA support.\n",
      "2022-03-14 02:31:04.145074: I tensorflow/stream_executor/cuda/cuda_gpu_executor.cc:922] could not open file to read NUMA node: /sys/bus/pci/devices/0000:01:00.0/numa_node\n",
      "Your kernel may have been built without NUMA support.\n",
      "2022-03-14 02:31:04.145375: I tensorflow/stream_executor/cuda/cuda_gpu_executor.cc:922] could not open file to read NUMA node: /sys/bus/pci/devices/0000:01:00.0/numa_node\n",
      "Your kernel may have been built without NUMA support.\n",
      "2022-03-14 02:31:04.146346: I tensorflow/core/platform/cpu_feature_guard.cc:151] This TensorFlow binary is optimized with oneAPI Deep Neural Network Library (oneDNN) to use the following CPU instructions in performance-critical operations:  AVX2 FMA\n",
      "To enable them in other operations, rebuild TensorFlow with the appropriate compiler flags.\n",
      "2022-03-14 02:31:04.147453: I tensorflow/stream_executor/cuda/cuda_gpu_executor.cc:922] could not open file to read NUMA node: /sys/bus/pci/devices/0000:01:00.0/numa_node\n",
      "Your kernel may have been built without NUMA support.\n",
      "2022-03-14 02:31:04.147646: I tensorflow/stream_executor/cuda/cuda_gpu_executor.cc:922] could not open file to read NUMA node: /sys/bus/pci/devices/0000:01:00.0/numa_node\n",
      "Your kernel may have been built without NUMA support.\n",
      "2022-03-14 02:31:04.147807: I tensorflow/stream_executor/cuda/cuda_gpu_executor.cc:922] could not open file to read NUMA node: /sys/bus/pci/devices/0000:01:00.0/numa_node\n",
      "Your kernel may have been built without NUMA support.\n",
      "2022-03-14 02:31:04.842007: I tensorflow/stream_executor/cuda/cuda_gpu_executor.cc:922] could not open file to read NUMA node: /sys/bus/pci/devices/0000:01:00.0/numa_node\n",
      "Your kernel may have been built without NUMA support.\n",
      "2022-03-14 02:31:04.842465: I tensorflow/stream_executor/cuda/cuda_gpu_executor.cc:922] could not open file to read NUMA node: /sys/bus/pci/devices/0000:01:00.0/numa_node\n",
      "Your kernel may have been built without NUMA support.\n",
      "2022-03-14 02:31:04.842485: I tensorflow/core/common_runtime/gpu/gpu_device.cc:1609] Could not identify NUMA node of platform GPU id 0, defaulting to 0.  Your kernel may not have been built with NUMA support.\n",
      "2022-03-14 02:31:04.842746: I tensorflow/stream_executor/cuda/cuda_gpu_executor.cc:922] could not open file to read NUMA node: /sys/bus/pci/devices/0000:01:00.0/numa_node\n",
      "Your kernel may have been built without NUMA support.\n",
      "2022-03-14 02:31:04.843082: I tensorflow/core/common_runtime/gpu/gpu_process_state.cc:214] Using CUDA malloc Async allocator for GPU: 0\n",
      "2022-03-14 02:31:04.843892: I tensorflow/core/common_runtime/gpu/gpu_device.cc:1525] Created device /job:localhost/replica:0/task:0/device:GPU:0 with 3455 MB memory:  -> device: 0, name: NVIDIA GeForce RTX 3060 Laptop GPU, pci bus id: 0000:01:00.0, compute capability: 8.6\n",
      "2022-03-14 02:31:06.320275: I tensorflow/stream_executor/cuda/cuda_blas.cc:1786] TensorFloat-32 will be used for the matrix multiplication. This will only be logged once.\n"
     ]
    },
    {
     "name": "stdout",
     "output_type": "stream",
     "text": [
      "37/37 [==============================] - 0s 4ms/step - loss: 0.2773 - root_mean_squared_error: 0.2948\n",
      "Score for fold 1: loss of 0.27732130885124207; root_mean_squared_error of 0.29478657245635986\n",
      "------------------------------------------------------------------------\n",
      "Score per fold\n",
      "------------------------------------------------------------------------\n",
      "> Fold 1 - Loss: 0.27732130885124207 - RMSE: 0.29478657245635986\n",
      "------------------------------------------------------------------------\n",
      "Average scores for all folds:\n",
      "> RMSE: 0.29478657245635986 (+- 0.0)\n",
      "> Loss: 0.27732130885124207\n",
      "------------------------------------------------------------------------\n",
      "\n"
     ]
    },
    {
     "data": {
      "text/html": [
       "Waiting for W&B process to finish... <strong style=\"color:green\">(success).</strong>"
      ],
      "text/plain": [
       "<IPython.core.display.HTML object>"
      ]
     },
     "metadata": {},
     "output_type": "display_data"
    },
    {
     "data": {
      "application/vnd.jupyter.widget-view+json": {
       "model_id": "07b92043090240be92b13852cb93fa2d",
       "version_major": 2,
       "version_minor": 0
      },
      "text/plain": [
       "VBox(children=(Label(value='1.423 MB of 110.800 MB uploaded (0.000 MB deduped)\\r'), FloatProgress(value=0.0128…"
      ]
     },
     "metadata": {},
     "output_type": "display_data"
    },
    {
     "data": {
      "text/html": [
       "<style>\n",
       "    table.wandb td:nth-child(1) { padding: 0 10px; text-align: right }\n",
       "    .wandb-row { display: flex; flex-direction: row; flex-wrap: wrap; width: 100% }\n",
       "    .wandb-col { display: flex; flex-direction: column; flex-basis: 100%; flex: 1; padding: 10px; }\n",
       "    </style>\n",
       "<div class=\"wandb-row\"><div class=\"wandb-col\"><h3>Run history:</h3><br/><table class=\"wandb\"><tr><td>Mean Validation Loss (all folds)</td><td>▁</td></tr><tr><td>Mean Validation RMSE (all folds)</td><td>▁</td></tr><tr><td>epoch</td><td>▁▁▁▁▂▂▂▂▂▃▃▃▃▃▃▄▄▄▄▄▅▅▅▅▅▅▆▆▆▆▆▇▇▇▇▇▇███</td></tr><tr><td>loss</td><td>█▃▂▂▂▂▁▂▁▁▁▁▁▁▁▁▁▁▁▁▁▁▁▁▁▁▁▁▁▁▁▁▁▁▁▁▁▁▁▁</td></tr><tr><td>root_mean_squared_error</td><td>█▃▃▂▂▂▂▂▂▂▂▂▂▁▂▂▂▂▁▁▂▁▂▂▁▁▁▁▁▁▂▁▁▁▁▁▁▁▁▁</td></tr><tr><td>val_loss</td><td>█▄▂▄▂▂▂▂▄▃▃▂▂▂▂▃▂▂▁▂▁▂▂▁▂▂▂▁▂▁▂▁▁▁▂▂▁▁▁▁</td></tr><tr><td>val_root_mean_squared_error</td><td>▆▆▃▇▃▃▄▄█▇▆▂▂▂▃▅▃▂▂▄▂▃▃▂▄▃▃▂▃▂▄▁▂▁▄▃▂▂▂▁</td></tr></table><br/></div><div class=\"wandb-col\"><h3>Run summary:</h3><br/><table class=\"wandb\"><tr><td>Mean Validation Loss (all folds)</td><td>0.27732</td></tr><tr><td>Mean Validation RMSE (all folds)</td><td>0.29479</td></tr><tr><td>best_epoch</td><td>99</td></tr><tr><td>best_val_loss</td><td>0.27733</td></tr><tr><td>epoch</td><td>99</td></tr><tr><td>loss</td><td>0.47573</td></tr><tr><td>root_mean_squared_error</td><td>0.52961</td></tr><tr><td>val_loss</td><td>0.27733</td></tr><tr><td>val_root_mean_squared_error</td><td>0.29481</td></tr></table><br/></div></div>"
      ],
      "text/plain": [
       "<IPython.core.display.HTML object>"
      ]
     },
     "metadata": {},
     "output_type": "display_data"
    },
    {
     "data": {
      "text/html": [
       "Synced <strong style=\"color:#cdcd00\">charmed-sweep-1</strong>: <a href=\"https://wandb.ai/luiscostigan/house-price-prediction/runs/wzk1y0kt\" target=\"_blank\">https://wandb.ai/luiscostigan/house-price-prediction/runs/wzk1y0kt</a><br/>Synced 5 W&B file(s), 0 media file(s), 0 artifact file(s) and 1 other file(s)"
      ],
      "text/plain": [
       "<IPython.core.display.HTML object>"
      ]
     },
     "metadata": {},
     "output_type": "display_data"
    },
    {
     "data": {
      "text/html": [
       "Find logs at: <code>./wandb/run-20220314_023100-wzk1y0kt/logs</code>"
      ],
      "text/plain": [
       "<IPython.core.display.HTML object>"
      ]
     },
     "metadata": {},
     "output_type": "display_data"
    },
    {
     "data": {
      "text/html": [
       "Tracking run with wandb version 0.12.11"
      ],
      "text/plain": [
       "<IPython.core.display.HTML object>"
      ]
     },
     "metadata": {},
     "output_type": "display_data"
    },
    {
     "data": {
      "text/html": [
       "Run data is saved locally in <code>/workspaces/data-science-projects/house-price-prediction/Models/tensorflow/wandb/run-20220314_023254-wzk1y0kt</code>"
      ],
      "text/plain": [
       "<IPython.core.display.HTML object>"
      ]
     },
     "metadata": {},
     "output_type": "display_data"
    },
    {
     "data": {
      "text/html": [
       "Syncing run <strong><a href=\"https://wandb.ai/luiscostigan/house-price-prediction/runs/wzk1y0kt\" target=\"_blank\">charmed-sweep-1</a></strong> to <a href=\"https://wandb.ai/luiscostigan/house-price-prediction\" target=\"_blank\">Weights & Biases</a> (<a href=\"https://wandb.me/run\" target=\"_blank\">docs</a>)<br/>Sweep page:  <a href=\"https://wandb.ai/luiscostigan/house-price-prediction/sweeps/e8odal49\" target=\"_blank\">https://wandb.ai/luiscostigan/house-price-prediction/sweeps/e8odal49</a>"
      ],
      "text/plain": [
       "<IPython.core.display.HTML object>"
      ]
     },
     "metadata": {},
     "output_type": "display_data"
    },
    {
     "name": "stdout",
     "output_type": "stream",
     "text": [
      "37/37 [==============================] - 0s 4ms/step - loss: 0.2815 - root_mean_squared_error: 0.2889\n",
      "Score for fold 2: loss of 0.28154727816581726; root_mean_squared_error of 0.2889197766780853\n",
      "------------------------------------------------------------------------\n",
      "Score per fold\n",
      "------------------------------------------------------------------------\n",
      "> Fold 1 - Loss: 0.27732130885124207 - RMSE: 0.29478657245635986\n",
      "------------------------------------------------------------------------\n",
      "------------------------------------------------------------------------\n",
      "> Fold 2 - Loss: 0.28154727816581726 - RMSE: 0.2889197766780853\n",
      "------------------------------------------------------------------------\n",
      "Average scores for all folds:\n",
      "> RMSE: 0.2918531745672226 (+- 0.002933397889137268)\n",
      "> Loss: 0.27943429350852966\n",
      "------------------------------------------------------------------------\n",
      "\n"
     ]
    },
    {
     "data": {
      "text/html": [
       "Waiting for W&B process to finish... <strong style=\"color:green\">(success).</strong>"
      ],
      "text/plain": [
       "<IPython.core.display.HTML object>"
      ]
     },
     "metadata": {},
     "output_type": "display_data"
    },
    {
     "data": {
      "application/vnd.jupyter.widget-view+json": {
       "model_id": "0fd87077f6ac43dc981d45fa6df4494f",
       "version_major": 2,
       "version_minor": 0
      },
      "text/plain": [
       "VBox(children=(Label(value='1.790 MB of 110.800 MB uploaded (0.000 MB deduped)\\r'), FloatProgress(value=0.0161…"
      ]
     },
     "metadata": {},
     "output_type": "display_data"
    },
    {
     "data": {
      "text/html": [
       "<style>\n",
       "    table.wandb td:nth-child(1) { padding: 0 10px; text-align: right }\n",
       "    .wandb-row { display: flex; flex-direction: row; flex-wrap: wrap; width: 100% }\n",
       "    .wandb-col { display: flex; flex-direction: column; flex-basis: 100%; flex: 1; padding: 10px; }\n",
       "    </style>\n",
       "<div class=\"wandb-row\"><div class=\"wandb-col\"><h3>Run history:</h3><br/><table class=\"wandb\"><tr><td>Mean Validation Loss (all folds)</td><td>▁</td></tr><tr><td>Mean Validation RMSE (all folds)</td><td>▁</td></tr><tr><td>epoch</td><td>▁▁▁▁▂▂▂▂▂▃▃▃▃▃▃▄▄▄▄▄▅▅▅▅▅▅▆▆▆▆▆▇▇▇▇▇▇███</td></tr><tr><td>loss</td><td>█▃▂▂▂▁▂▁▂▂▁▁▁▁▁▁▁▁▁▁▁▁▁▁▁▁▁▁▁▁▁▁▁▁▁▁▁▁▁▁</td></tr><tr><td>root_mean_squared_error</td><td>█▃▃▂▃▂▃▂▂▂▂▂▂▂▂▂▂▂▂▂▂▂▂▂▂▂▁▁▁▁▁▂▁▁▁▁▂▁▁▁</td></tr><tr><td>val_loss</td><td>█▅▄▂▂▃▂▂▂▂▁▃▂▁▂▂▂▁▁▂▁▁▁▃▁▁▁▁▁▁▁▁▂▁▁▁▁▂▂▁</td></tr><tr><td>val_root_mean_squared_error</td><td>██▇▃▃▅▃▄▂▅▂▆▄▂▄▄▂▂▁▃▂▂▂▆▃▁▁▂▂▂▂▂▅▂▁▁▁▅▃▁</td></tr></table><br/></div><div class=\"wandb-col\"><h3>Run summary:</h3><br/><table class=\"wandb\"><tr><td>Mean Validation Loss (all folds)</td><td>0.27943</td></tr><tr><td>Mean Validation RMSE (all folds)</td><td>0.29185</td></tr><tr><td>best_epoch</td><td>98</td></tr><tr><td>best_val_loss</td><td>0.26113</td></tr><tr><td>epoch</td><td>99</td></tr><tr><td>loss</td><td>0.43063</td></tr><tr><td>root_mean_squared_error</td><td>0.47212</td></tr><tr><td>val_loss</td><td>0.28155</td></tr><tr><td>val_root_mean_squared_error</td><td>0.28892</td></tr></table><br/></div></div>"
      ],
      "text/plain": [
       "<IPython.core.display.HTML object>"
      ]
     },
     "metadata": {},
     "output_type": "display_data"
    },
    {
     "data": {
      "text/html": [
       "Synced <strong style=\"color:#cdcd00\">charmed-sweep-1</strong>: <a href=\"https://wandb.ai/luiscostigan/house-price-prediction/runs/wzk1y0kt\" target=\"_blank\">https://wandb.ai/luiscostigan/house-price-prediction/runs/wzk1y0kt</a><br/>Synced 5 W&B file(s), 0 media file(s), 0 artifact file(s) and 1 other file(s)"
      ],
      "text/plain": [
       "<IPython.core.display.HTML object>"
      ]
     },
     "metadata": {},
     "output_type": "display_data"
    },
    {
     "data": {
      "text/html": [
       "Find logs at: <code>./wandb/run-20220314_023254-wzk1y0kt/logs</code>"
      ],
      "text/plain": [
       "<IPython.core.display.HTML object>"
      ]
     },
     "metadata": {},
     "output_type": "display_data"
    },
    {
     "data": {
      "text/html": [
       "Tracking run with wandb version 0.12.11"
      ],
      "text/plain": [
       "<IPython.core.display.HTML object>"
      ]
     },
     "metadata": {},
     "output_type": "display_data"
    },
    {
     "data": {
      "text/html": [
       "Run data is saved locally in <code>/workspaces/data-science-projects/house-price-prediction/Models/tensorflow/wandb/run-20220314_023459-wzk1y0kt</code>"
      ],
      "text/plain": [
       "<IPython.core.display.HTML object>"
      ]
     },
     "metadata": {},
     "output_type": "display_data"
    },
    {
     "data": {
      "text/html": [
       "Syncing run <strong><a href=\"https://wandb.ai/luiscostigan/house-price-prediction/runs/wzk1y0kt\" target=\"_blank\">charmed-sweep-1</a></strong> to <a href=\"https://wandb.ai/luiscostigan/house-price-prediction\" target=\"_blank\">Weights & Biases</a> (<a href=\"https://wandb.me/run\" target=\"_blank\">docs</a>)<br/>Sweep page:  <a href=\"https://wandb.ai/luiscostigan/house-price-prediction/sweeps/e8odal49\" target=\"_blank\">https://wandb.ai/luiscostigan/house-price-prediction/sweeps/e8odal49</a>"
      ],
      "text/plain": [
       "<IPython.core.display.HTML object>"
      ]
     },
     "metadata": {},
     "output_type": "display_data"
    },
    {
     "name": "stdout",
     "output_type": "stream",
     "text": [
      "37/37 [==============================] - 0s 4ms/step - loss: 0.2496 - root_mean_squared_error: 0.2638\n",
      "Score for fold 3: loss of 0.24955467879772186; root_mean_squared_error of 0.2638399302959442\n",
      "------------------------------------------------------------------------\n",
      "Score per fold\n",
      "------------------------------------------------------------------------\n",
      "> Fold 1 - Loss: 0.27732130885124207 - RMSE: 0.29478657245635986\n",
      "------------------------------------------------------------------------\n",
      "------------------------------------------------------------------------\n",
      "> Fold 2 - Loss: 0.28154727816581726 - RMSE: 0.2889197766780853\n",
      "------------------------------------------------------------------------\n",
      "------------------------------------------------------------------------\n",
      "> Fold 3 - Loss: 0.24955467879772186 - RMSE: 0.2638399302959442\n",
      "------------------------------------------------------------------------\n",
      "Average scores for all folds:\n",
      "> RMSE: 0.28251542647679645 (+- 0.013421014402216781)\n",
      "> Loss: 0.2694744219382604\n",
      "------------------------------------------------------------------------\n",
      "\n"
     ]
    },
    {
     "data": {
      "text/html": [
       "Waiting for W&B process to finish... <strong style=\"color:green\">(success).</strong>"
      ],
      "text/plain": [
       "<IPython.core.display.HTML object>"
      ]
     },
     "metadata": {},
     "output_type": "display_data"
    },
    {
     "data": {
      "application/vnd.jupyter.widget-view+json": {
       "model_id": "9c86f0a1dc24402fbbcd5edd10396681",
       "version_major": 2,
       "version_minor": 0
      },
      "text/plain": [
       "VBox(children=(Label(value='1.696 MB of 110.800 MB uploaded (0.000 MB deduped)\\r'), FloatProgress(value=0.0153…"
      ]
     },
     "metadata": {},
     "output_type": "display_data"
    },
    {
     "data": {
      "text/html": [
       "<style>\n",
       "    table.wandb td:nth-child(1) { padding: 0 10px; text-align: right }\n",
       "    .wandb-row { display: flex; flex-direction: row; flex-wrap: wrap; width: 100% }\n",
       "    .wandb-col { display: flex; flex-direction: column; flex-basis: 100%; flex: 1; padding: 10px; }\n",
       "    </style>\n",
       "<div class=\"wandb-row\"><div class=\"wandb-col\"><h3>Run history:</h3><br/><table class=\"wandb\"><tr><td>Mean Validation Loss (all folds)</td><td>▁</td></tr><tr><td>Mean Validation RMSE (all folds)</td><td>▁</td></tr><tr><td>epoch</td><td>▁▁▁▁▂▂▂▂▂▃▃▃▃▃▃▄▄▄▄▄▅▅▅▅▅▅▆▆▆▆▆▇▇▇▇▇▇███</td></tr><tr><td>loss</td><td>█▃▂▂▂▂▂▁▁▁▁▁▂▁▁▁▁▁▁▁▁▁▁▁▁▁▁▁▁▁▁▁▁▁▁▁▁▁▁▁</td></tr><tr><td>root_mean_squared_error</td><td>█▃▃▂▃▂▂▂▂▂▂▂▂▂▂▂▁▂▁▂▁▂▁▁▁▁▂▁▁▂▁▁▂▁▁▁▁▁▁▁</td></tr><tr><td>val_loss</td><td>█▃▂▂▂▂▃▂▂▃▂▂▂▂▁▁▂▁▁▁▁▁▂▁▂▁▂▁▁▂▁▁▂▁▁▂▁▂▁▁</td></tr><tr><td>val_root_mean_squared_error</td><td>█▃▂▃▄▂▅▃▂▆▄▂▃▃▂▂▃▂▂▂▂▁▃▂▄▂▃▁▁▂▁▁▃▁▂▃▁▄▂▁</td></tr></table><br/></div><div class=\"wandb-col\"><h3>Run summary:</h3><br/><table class=\"wandb\"><tr><td>Mean Validation Loss (all folds)</td><td>0.26947</td></tr><tr><td>Mean Validation RMSE (all folds)</td><td>0.28252</td></tr><tr><td>best_epoch</td><td>99</td></tr><tr><td>best_val_loss</td><td>0.24956</td></tr><tr><td>epoch</td><td>99</td></tr><tr><td>loss</td><td>0.44372</td></tr><tr><td>root_mean_squared_error</td><td>0.50722</td></tr><tr><td>val_loss</td><td>0.24956</td></tr><tr><td>val_root_mean_squared_error</td><td>0.26384</td></tr></table><br/></div></div>"
      ],
      "text/plain": [
       "<IPython.core.display.HTML object>"
      ]
     },
     "metadata": {},
     "output_type": "display_data"
    },
    {
     "data": {
      "text/html": [
       "Synced <strong style=\"color:#cdcd00\">charmed-sweep-1</strong>: <a href=\"https://wandb.ai/luiscostigan/house-price-prediction/runs/wzk1y0kt\" target=\"_blank\">https://wandb.ai/luiscostigan/house-price-prediction/runs/wzk1y0kt</a><br/>Synced 5 W&B file(s), 0 media file(s), 0 artifact file(s) and 1 other file(s)"
      ],
      "text/plain": [
       "<IPython.core.display.HTML object>"
      ]
     },
     "metadata": {},
     "output_type": "display_data"
    },
    {
     "data": {
      "text/html": [
       "Find logs at: <code>./wandb/run-20220314_023459-wzk1y0kt/logs</code>"
      ],
      "text/plain": [
       "<IPython.core.display.HTML object>"
      ]
     },
     "metadata": {},
     "output_type": "display_data"
    },
    {
     "data": {
      "text/html": [
       "Tracking run with wandb version 0.12.11"
      ],
      "text/plain": [
       "<IPython.core.display.HTML object>"
      ]
     },
     "metadata": {},
     "output_type": "display_data"
    },
    {
     "data": {
      "text/html": [
       "Run data is saved locally in <code>/workspaces/data-science-projects/house-price-prediction/Models/tensorflow/wandb/run-20220314_023712-wzk1y0kt</code>"
      ],
      "text/plain": [
       "<IPython.core.display.HTML object>"
      ]
     },
     "metadata": {},
     "output_type": "display_data"
    },
    {
     "data": {
      "text/html": [
       "Syncing run <strong><a href=\"https://wandb.ai/luiscostigan/house-price-prediction/runs/wzk1y0kt\" target=\"_blank\">charmed-sweep-1</a></strong> to <a href=\"https://wandb.ai/luiscostigan/house-price-prediction\" target=\"_blank\">Weights & Biases</a> (<a href=\"https://wandb.me/run\" target=\"_blank\">docs</a>)<br/>Sweep page:  <a href=\"https://wandb.ai/luiscostigan/house-price-prediction/sweeps/e8odal49\" target=\"_blank\">https://wandb.ai/luiscostigan/house-price-prediction/sweeps/e8odal49</a>"
      ],
      "text/plain": [
       "<IPython.core.display.HTML object>"
      ]
     },
     "metadata": {},
     "output_type": "display_data"
    },
    {
     "name": "stdout",
     "output_type": "stream",
     "text": [
      "37/37 [==============================] - 0s 4ms/step - loss: 0.2910 - root_mean_squared_error: 0.3138\n",
      "Score for fold 4: loss of 0.2910064160823822; root_mean_squared_error of 0.3138122260570526\n",
      "------------------------------------------------------------------------\n",
      "Score per fold\n",
      "------------------------------------------------------------------------\n",
      "> Fold 1 - Loss: 0.27732130885124207 - RMSE: 0.29478657245635986\n",
      "------------------------------------------------------------------------\n",
      "------------------------------------------------------------------------\n",
      "> Fold 2 - Loss: 0.28154727816581726 - RMSE: 0.2889197766780853\n",
      "------------------------------------------------------------------------\n",
      "------------------------------------------------------------------------\n",
      "> Fold 3 - Loss: 0.24955467879772186 - RMSE: 0.2638399302959442\n",
      "------------------------------------------------------------------------\n",
      "------------------------------------------------------------------------\n",
      "> Fold 4 - Loss: 0.2910064160823822 - RMSE: 0.3138122260570526\n",
      "------------------------------------------------------------------------\n",
      "Average scores for all folds:\n",
      "> RMSE: 0.2903396263718605 (+- 0.017853487969641754)\n",
      "> Loss: 0.27485742047429085\n",
      "------------------------------------------------------------------------\n",
      "\n"
     ]
    },
    {
     "data": {
      "text/html": [
       "Waiting for W&B process to finish... <strong style=\"color:green\">(success).</strong>"
      ],
      "text/plain": [
       "<IPython.core.display.HTML object>"
      ]
     },
     "metadata": {},
     "output_type": "display_data"
    },
    {
     "data": {
      "application/vnd.jupyter.widget-view+json": {
       "model_id": "5080abff84ef43d09ce5a177c7637cf3",
       "version_major": 2,
       "version_minor": 0
      },
      "text/plain": [
       "VBox(children=(Label(value='1.298 MB of 110.800 MB uploaded (0.000 MB deduped)\\r'), FloatProgress(value=0.0117…"
      ]
     },
     "metadata": {},
     "output_type": "display_data"
    },
    {
     "data": {
      "text/html": [
       "<style>\n",
       "    table.wandb td:nth-child(1) { padding: 0 10px; text-align: right }\n",
       "    .wandb-row { display: flex; flex-direction: row; flex-wrap: wrap; width: 100% }\n",
       "    .wandb-col { display: flex; flex-direction: column; flex-basis: 100%; flex: 1; padding: 10px; }\n",
       "    </style>\n",
       "<div class=\"wandb-row\"><div class=\"wandb-col\"><h3>Run history:</h3><br/><table class=\"wandb\"><tr><td>Mean Validation Loss (all folds)</td><td>▁</td></tr><tr><td>Mean Validation RMSE (all folds)</td><td>▁</td></tr><tr><td>epoch</td><td>▁▁▁▁▂▂▂▂▂▃▃▃▃▃▃▄▄▄▄▄▅▅▅▅▅▅▆▆▆▆▆▇▇▇▇▇▇███</td></tr><tr><td>loss</td><td>█▃▂▂▂▂▂▁▂▁▁▂▁▁▁▁▁▁▁▁▁▁▁▁▁▁▁▁▁▁▁▁▁▁▁▁▁▁▁▁</td></tr><tr><td>root_mean_squared_error</td><td>█▃▃▃▂▃▂▂▂▂▂▂▂▂▂▂▂▂▂▂▂▂▂▂▂▂▁▂▁▂▂▁▂▁▁▁▁▁▁▁</td></tr><tr><td>val_loss</td><td>█▅▂▃▃▂▂▃▂▂▁▂▂▂▂▁▂▂▂▁▁▄▂▁▁▁▂▂▂▁▁▂▁▁▁▁▁▁▁▁</td></tr><tr><td>val_root_mean_squared_error</td><td>██▃▆▅▃▂▅▂▄▂▂▂▄▃▂▄▃▃▂▂▇▃▂▂▂▂▃▄▂▁▄▁▂▂▁▂▁▁▁</td></tr></table><br/></div><div class=\"wandb-col\"><h3>Run summary:</h3><br/><table class=\"wandb\"><tr><td>Mean Validation Loss (all folds)</td><td>0.27486</td></tr><tr><td>Mean Validation RMSE (all folds)</td><td>0.29034</td></tr><tr><td>best_epoch</td><td>96</td></tr><tr><td>best_val_loss</td><td>0.24354</td></tr><tr><td>epoch</td><td>99</td></tr><tr><td>loss</td><td>0.39854</td></tr><tr><td>root_mean_squared_error</td><td>0.44918</td></tr><tr><td>val_loss</td><td>0.29102</td></tr><tr><td>val_root_mean_squared_error</td><td>0.31383</td></tr></table><br/></div></div>"
      ],
      "text/plain": [
       "<IPython.core.display.HTML object>"
      ]
     },
     "metadata": {},
     "output_type": "display_data"
    },
    {
     "data": {
      "text/html": [
       "Synced <strong style=\"color:#cdcd00\">charmed-sweep-1</strong>: <a href=\"https://wandb.ai/luiscostigan/house-price-prediction/runs/wzk1y0kt\" target=\"_blank\">https://wandb.ai/luiscostigan/house-price-prediction/runs/wzk1y0kt</a><br/>Synced 5 W&B file(s), 0 media file(s), 0 artifact file(s) and 1 other file(s)"
      ],
      "text/plain": [
       "<IPython.core.display.HTML object>"
      ]
     },
     "metadata": {},
     "output_type": "display_data"
    },
    {
     "data": {
      "text/html": [
       "Find logs at: <code>./wandb/run-20220314_023712-wzk1y0kt/logs</code>"
      ],
      "text/plain": [
       "<IPython.core.display.HTML object>"
      ]
     },
     "metadata": {},
     "output_type": "display_data"
    },
    {
     "data": {
      "text/html": [
       "Tracking run with wandb version 0.12.11"
      ],
      "text/plain": [
       "<IPython.core.display.HTML object>"
      ]
     },
     "metadata": {},
     "output_type": "display_data"
    },
    {
     "data": {
      "text/html": [
       "Run data is saved locally in <code>/workspaces/data-science-projects/house-price-prediction/Models/tensorflow/wandb/run-20220314_023921-wzk1y0kt</code>"
      ],
      "text/plain": [
       "<IPython.core.display.HTML object>"
      ]
     },
     "metadata": {},
     "output_type": "display_data"
    },
    {
     "data": {
      "text/html": [
       "Syncing run <strong><a href=\"https://wandb.ai/luiscostigan/house-price-prediction/runs/wzk1y0kt\" target=\"_blank\">charmed-sweep-1</a></strong> to <a href=\"https://wandb.ai/luiscostigan/house-price-prediction\" target=\"_blank\">Weights & Biases</a> (<a href=\"https://wandb.me/run\" target=\"_blank\">docs</a>)<br/>Sweep page:  <a href=\"https://wandb.ai/luiscostigan/house-price-prediction/sweeps/e8odal49\" target=\"_blank\">https://wandb.ai/luiscostigan/house-price-prediction/sweeps/e8odal49</a>"
      ],
      "text/plain": [
       "<IPython.core.display.HTML object>"
      ]
     },
     "metadata": {},
     "output_type": "display_data"
    },
    {
     "name": "stdout",
     "output_type": "stream",
     "text": [
      "37/37 [==============================] - 0s 5ms/step - loss: 0.2718 - root_mean_squared_error: 0.2845\n",
      "Score for fold 5: loss of 0.27183544635772705; root_mean_squared_error of 0.2844793498516083\n",
      "------------------------------------------------------------------------\n",
      "Score per fold\n",
      "------------------------------------------------------------------------\n",
      "> Fold 1 - Loss: 0.27732130885124207 - RMSE: 0.29478657245635986\n",
      "------------------------------------------------------------------------\n",
      "------------------------------------------------------------------------\n",
      "> Fold 2 - Loss: 0.28154727816581726 - RMSE: 0.2889197766780853\n",
      "------------------------------------------------------------------------\n",
      "------------------------------------------------------------------------\n",
      "> Fold 3 - Loss: 0.24955467879772186 - RMSE: 0.2638399302959442\n",
      "------------------------------------------------------------------------\n",
      "------------------------------------------------------------------------\n",
      "> Fold 4 - Loss: 0.2910064160823822 - RMSE: 0.3138122260570526\n",
      "------------------------------------------------------------------------\n",
      "------------------------------------------------------------------------\n",
      "> Fold 5 - Loss: 0.27183544635772705 - RMSE: 0.2844793498516083\n",
      "------------------------------------------------------------------------\n",
      "Average scores for all folds:\n",
      "> RMSE: 0.28916757106781005 (+- 0.0161397794498167)\n",
      "> Loss: 0.2742530256509781\n",
      "------------------------------------------------------------------------\n",
      "\n"
     ]
    },
    {
     "data": {
      "text/html": [
       "Waiting for W&B process to finish... <strong style=\"color:green\">(success).</strong>"
      ],
      "text/plain": [
       "<IPython.core.display.HTML object>"
      ]
     },
     "metadata": {},
     "output_type": "display_data"
    },
    {
     "data": {
      "application/vnd.jupyter.widget-view+json": {
       "model_id": "72a3fcd8efdd455b9276d44ed0874cb9",
       "version_major": 2,
       "version_minor": 0
      },
      "text/plain": [
       "VBox(children=(Label(value='2.189 MB of 110.800 MB uploaded (0.000 MB deduped)\\r'), FloatProgress(value=0.0197…"
      ]
     },
     "metadata": {},
     "output_type": "display_data"
    },
    {
     "data": {
      "text/html": [
       "<style>\n",
       "    table.wandb td:nth-child(1) { padding: 0 10px; text-align: right }\n",
       "    .wandb-row { display: flex; flex-direction: row; flex-wrap: wrap; width: 100% }\n",
       "    .wandb-col { display: flex; flex-direction: column; flex-basis: 100%; flex: 1; padding: 10px; }\n",
       "    </style>\n",
       "<div class=\"wandb-row\"><div class=\"wandb-col\"><h3>Run history:</h3><br/><table class=\"wandb\"><tr><td>Mean Validation Loss (all folds)</td><td>▁</td></tr><tr><td>Mean Validation RMSE (all folds)</td><td>▁</td></tr><tr><td>epoch</td><td>▁▁▁▁▂▂▂▂▂▃▃▃▃▃▃▄▄▄▄▄▅▅▅▅▅▅▆▆▆▆▆▇▇▇▇▇▇███</td></tr><tr><td>loss</td><td>█▃▂▂▂▂▁▁▁▁▁▁▁▁▁▁▁▁▁▁▁▁▁▁▁▁▁▁▁▁▁▁▁▁▁▁▁▁▁▁</td></tr><tr><td>root_mean_squared_error</td><td>█▃▂▃▃▂▂▂▂▂▂▂▂▂▂▂▂▂▂▂▁▂▂▂▂▂▂▂▁▁▂▁▁▁▁▁▁▁▁▁</td></tr><tr><td>val_loss</td><td>█▃▂▃▃▂▂▂▂▂▂▂▂▂▂▂▂▂▂▁▂▂▁▂▂▁▁▁▁▁▁▃▁▁▂▂▁▁▁▁</td></tr><tr><td>val_root_mean_squared_error</td><td>█▃▃▅▅▂▃▂▄▃▃▂▃▂▃▃▄▂▂▂▃▃▂▄▂▂▁▁▂▁▂▅▂▂▄▃▁▁▁▁</td></tr></table><br/></div><div class=\"wandb-col\"><h3>Run summary:</h3><br/><table class=\"wandb\"><tr><td>Mean Validation Loss (all folds)</td><td>0.27425</td></tr><tr><td>Mean Validation RMSE (all folds)</td><td>0.28917</td></tr><tr><td>best_epoch</td><td>98</td></tr><tr><td>best_val_loss</td><td>0.2509</td></tr><tr><td>epoch</td><td>99</td></tr><tr><td>loss</td><td>0.45517</td></tr><tr><td>root_mean_squared_error</td><td>0.50419</td></tr><tr><td>val_loss</td><td>0.27184</td></tr><tr><td>val_root_mean_squared_error</td><td>0.28448</td></tr></table><br/></div></div>"
      ],
      "text/plain": [
       "<IPython.core.display.HTML object>"
      ]
     },
     "metadata": {},
     "output_type": "display_data"
    },
    {
     "data": {
      "text/html": [
       "Synced <strong style=\"color:#cdcd00\">charmed-sweep-1</strong>: <a href=\"https://wandb.ai/luiscostigan/house-price-prediction/runs/wzk1y0kt\" target=\"_blank\">https://wandb.ai/luiscostigan/house-price-prediction/runs/wzk1y0kt</a><br/>Synced 5 W&B file(s), 0 media file(s), 0 artifact file(s) and 1 other file(s)"
      ],
      "text/plain": [
       "<IPython.core.display.HTML object>"
      ]
     },
     "metadata": {},
     "output_type": "display_data"
    },
    {
     "data": {
      "text/html": [
       "Find logs at: <code>./wandb/run-20220314_023921-wzk1y0kt/logs</code>"
      ],
      "text/plain": [
       "<IPython.core.display.HTML object>"
      ]
     },
     "metadata": {},
     "output_type": "display_data"
    },
    {
     "name": "stderr",
     "output_type": "stream",
     "text": [
      "\u001b[34m\u001b[1mwandb\u001b[0m: Agent Starting Run: vg9tvhp1 with config:\n",
      "\u001b[34m\u001b[1mwandb\u001b[0m: \tbatch_size: 32\n",
      "\u001b[34m\u001b[1mwandb\u001b[0m: \tbias1: 0.01\n",
      "\u001b[34m\u001b[1mwandb\u001b[0m: \tbias2: 0.001\n",
      "\u001b[34m\u001b[1mwandb\u001b[0m: \tdense1: 2048\n",
      "\u001b[34m\u001b[1mwandb\u001b[0m: \tdense2: 2048\n",
      "\u001b[34m\u001b[1mwandb\u001b[0m: \tdropout1: 0.15263226611428152\n",
      "\u001b[34m\u001b[1mwandb\u001b[0m: \tepochs: 50\n",
      "\u001b[34m\u001b[1mwandb\u001b[0m: \tlearning_rate: 0.0001\n"
     ]
    },
    {
     "data": {
      "text/html": [
       "Tracking run with wandb version 0.12.11"
      ],
      "text/plain": [
       "<IPython.core.display.HTML object>"
      ]
     },
     "metadata": {},
     "output_type": "display_data"
    },
    {
     "data": {
      "text/html": [
       "Run data is saved locally in <code>/workspaces/data-science-projects/house-price-prediction/Models/tensorflow/wandb/run-20220314_024128-vg9tvhp1</code>"
      ],
      "text/plain": [
       "<IPython.core.display.HTML object>"
      ]
     },
     "metadata": {},
     "output_type": "display_data"
    },
    {
     "data": {
      "text/html": [
       "Syncing run <strong><a href=\"https://wandb.ai/luiscostigan/house-price-prediction/runs/vg9tvhp1\" target=\"_blank\">devoted-sweep-2</a></strong> to <a href=\"https://wandb.ai/luiscostigan/house-price-prediction\" target=\"_blank\">Weights & Biases</a> (<a href=\"https://wandb.me/run\" target=\"_blank\">docs</a>)<br/>Sweep page:  <a href=\"https://wandb.ai/luiscostigan/house-price-prediction/sweeps/e8odal49\" target=\"_blank\">https://wandb.ai/luiscostigan/house-price-prediction/sweeps/e8odal49</a>"
      ],
      "text/plain": [
       "<IPython.core.display.HTML object>"
      ]
     },
     "metadata": {},
     "output_type": "display_data"
    },
    {
     "name": "stdout",
     "output_type": "stream",
     "text": [
      "37/37 [==============================] - 0s 4ms/step - loss: 1.1119 - root_mean_squared_error: 0.1599\n",
      "Score for fold 1: loss of 1.1118658781051636; root_mean_squared_error of 0.159930020570755\n",
      "------------------------------------------------------------------------\n",
      "Score per fold\n",
      "------------------------------------------------------------------------\n",
      "> Fold 1 - Loss: 1.1118658781051636 - RMSE: 0.159930020570755\n",
      "------------------------------------------------------------------------\n",
      "Average scores for all folds:\n",
      "> RMSE: 0.159930020570755 (+- 0.0)\n",
      "> Loss: 1.1118658781051636\n",
      "------------------------------------------------------------------------\n",
      "\n"
     ]
    },
    {
     "data": {
      "text/html": [
       "Waiting for W&B process to finish... <strong style=\"color:green\">(success).</strong>"
      ],
      "text/plain": [
       "<IPython.core.display.HTML object>"
      ]
     },
     "metadata": {},
     "output_type": "display_data"
    },
    {
     "data": {
      "application/vnd.jupyter.widget-view+json": {
       "model_id": "8098c247feaa4a64be6940dca8339593",
       "version_major": 2,
       "version_minor": 0
      },
      "text/plain": [
       "VBox(children=(Label(value='1.665 MB of 55.440 MB uploaded (0.000 MB deduped)\\r'), FloatProgress(value=0.03003…"
      ]
     },
     "metadata": {},
     "output_type": "display_data"
    },
    {
     "data": {
      "text/html": [
       "<style>\n",
       "    table.wandb td:nth-child(1) { padding: 0 10px; text-align: right }\n",
       "    .wandb-row { display: flex; flex-direction: row; flex-wrap: wrap; width: 100% }\n",
       "    .wandb-col { display: flex; flex-direction: column; flex-basis: 100%; flex: 1; padding: 10px; }\n",
       "    </style>\n",
       "<div class=\"wandb-row\"><div class=\"wandb-col\"><h3>Run history:</h3><br/><table class=\"wandb\"><tr><td>Mean Validation Loss (all folds)</td><td>▁</td></tr><tr><td>Mean Validation RMSE (all folds)</td><td>▁</td></tr><tr><td>epoch</td><td>▁▁▁▁▂▂▂▂▂▃▃▃▃▃▃▄▄▄▄▄▅▅▅▅▅▅▆▆▆▆▆▆▇▇▇▇▇███</td></tr><tr><td>loss</td><td>█▅▅▄▄▃▃▃▃▃▂▂▂▂▂▂▂▂▂▂▂▂▁▁▁▁▁▁▁▁▁▁▁▁▁▁▁▁▁▁</td></tr><tr><td>root_mean_squared_error</td><td>█▂▂▁▁▁▁▁▁▁▁▁▁▁▁▁▁▁▁▁▁▁▁▁▁▁▁▁▁▁▁▁▁▁▁▁▁▁▁▁</td></tr><tr><td>val_loss</td><td>█▇▆▆▅▄▄▄▃▃▃▃▃▃▂▂▂▂▂▂▂▂▂▂▂▂▁▁▁▁▁▁▁▁▁▁▁▁▁▁</td></tr><tr><td>val_root_mean_squared_error</td><td>█▅▃▂▂▂▂▂▁▂▂▂▁▂▂▁▁▁▁▁▁▂▁▁▂▁▁▁▁▁▂▁▁▁▁▂▁▁▁▁</td></tr></table><br/></div><div class=\"wandb-col\"><h3>Run summary:</h3><br/><table class=\"wandb\"><tr><td>Mean Validation Loss (all folds)</td><td>1.11187</td></tr><tr><td>Mean Validation RMSE (all folds)</td><td>0.15993</td></tr><tr><td>best_epoch</td><td>49</td></tr><tr><td>best_val_loss</td><td>1.11187</td></tr><tr><td>epoch</td><td>49</td></tr><tr><td>loss</td><td>1.19655</td></tr><tr><td>root_mean_squared_error</td><td>0.25303</td></tr><tr><td>val_loss</td><td>1.11187</td></tr><tr><td>val_root_mean_squared_error</td><td>0.15993</td></tr></table><br/></div></div>"
      ],
      "text/plain": [
       "<IPython.core.display.HTML object>"
      ]
     },
     "metadata": {},
     "output_type": "display_data"
    },
    {
     "data": {
      "text/html": [
       "Synced <strong style=\"color:#cdcd00\">devoted-sweep-2</strong>: <a href=\"https://wandb.ai/luiscostigan/house-price-prediction/runs/vg9tvhp1\" target=\"_blank\">https://wandb.ai/luiscostigan/house-price-prediction/runs/vg9tvhp1</a><br/>Synced 5 W&B file(s), 0 media file(s), 0 artifact file(s) and 1 other file(s)"
      ],
      "text/plain": [
       "<IPython.core.display.HTML object>"
      ]
     },
     "metadata": {},
     "output_type": "display_data"
    },
    {
     "data": {
      "text/html": [
       "Find logs at: <code>./wandb/run-20220314_024128-vg9tvhp1/logs</code>"
      ],
      "text/plain": [
       "<IPython.core.display.HTML object>"
      ]
     },
     "metadata": {},
     "output_type": "display_data"
    },
    {
     "data": {
      "text/html": [
       "Tracking run with wandb version 0.12.11"
      ],
      "text/plain": [
       "<IPython.core.display.HTML object>"
      ]
     },
     "metadata": {},
     "output_type": "display_data"
    },
    {
     "data": {
      "text/html": [
       "Run data is saved locally in <code>/workspaces/data-science-projects/house-price-prediction/Models/tensorflow/wandb/run-20220314_024203-vg9tvhp1</code>"
      ],
      "text/plain": [
       "<IPython.core.display.HTML object>"
      ]
     },
     "metadata": {},
     "output_type": "display_data"
    },
    {
     "data": {
      "text/html": [
       "Syncing run <strong><a href=\"https://wandb.ai/luiscostigan/house-price-prediction/runs/vg9tvhp1\" target=\"_blank\">devoted-sweep-2</a></strong> to <a href=\"https://wandb.ai/luiscostigan/house-price-prediction\" target=\"_blank\">Weights & Biases</a> (<a href=\"https://wandb.me/run\" target=\"_blank\">docs</a>)<br/>Sweep page:  <a href=\"https://wandb.ai/luiscostigan/house-price-prediction/sweeps/e8odal49\" target=\"_blank\">https://wandb.ai/luiscostigan/house-price-prediction/sweeps/e8odal49</a>"
      ],
      "text/plain": [
       "<IPython.core.display.HTML object>"
      ]
     },
     "metadata": {},
     "output_type": "display_data"
    },
    {
     "name": "stdout",
     "output_type": "stream",
     "text": [
      "37/37 [==============================] - 0s 5ms/step - loss: 1.0968 - root_mean_squared_error: 0.1613\n",
      "Score for fold 2: loss of 1.0967937707901; root_mean_squared_error of 0.16129805147647858\n",
      "------------------------------------------------------------------------\n",
      "Score per fold\n",
      "------------------------------------------------------------------------\n",
      "> Fold 1 - Loss: 1.1118658781051636 - RMSE: 0.159930020570755\n",
      "------------------------------------------------------------------------\n",
      "------------------------------------------------------------------------\n",
      "> Fold 2 - Loss: 1.0967937707901 - RMSE: 0.16129805147647858\n",
      "------------------------------------------------------------------------\n",
      "Average scores for all folds:\n",
      "> RMSE: 0.1606140360236168 (+- 0.0006840154528617859)\n",
      "> Loss: 1.1043298244476318\n",
      "------------------------------------------------------------------------\n",
      "\n"
     ]
    },
    {
     "data": {
      "text/html": [
       "Waiting for W&B process to finish... <strong style=\"color:green\">(success).</strong>"
      ],
      "text/plain": [
       "<IPython.core.display.HTML object>"
      ]
     },
     "metadata": {},
     "output_type": "display_data"
    },
    {
     "data": {
      "application/vnd.jupyter.widget-view+json": {
       "model_id": "e67a71c00a0f4070ae793bab498e7a8f",
       "version_major": 2,
       "version_minor": 0
      },
      "text/plain": [
       "VBox(children=(Label(value='55.440 MB of 55.440 MB uploaded (0.000 MB deduped)\\r'), FloatProgress(value=1.0, m…"
      ]
     },
     "metadata": {},
     "output_type": "display_data"
    },
    {
     "data": {
      "text/html": [
       "<style>\n",
       "    table.wandb td:nth-child(1) { padding: 0 10px; text-align: right }\n",
       "    .wandb-row { display: flex; flex-direction: row; flex-wrap: wrap; width: 100% }\n",
       "    .wandb-col { display: flex; flex-direction: column; flex-basis: 100%; flex: 1; padding: 10px; }\n",
       "    </style>\n",
       "<div class=\"wandb-row\"><div class=\"wandb-col\"><h3>Run history:</h3><br/><table class=\"wandb\"><tr><td>Mean Validation Loss (all folds)</td><td>▁</td></tr><tr><td>Mean Validation RMSE (all folds)</td><td>▁</td></tr><tr><td>epoch</td><td>▁▁▁▁▂▂▂▂▂▃▃▃▃▃▃▄▄▄▄▄▅▅▅▅▅▅▆▆▆▆▆▆▇▇▇▇▇███</td></tr><tr><td>loss</td><td>█▅▅▄▄▃▃▃▃▃▂▂▂▂▂▂▂▂▂▂▂▁▁▁▁▁▁▁▁▁▁▁▁▁▁▁▁▁▁▁</td></tr><tr><td>root_mean_squared_error</td><td>█▂▂▁▁▁▁▁▁▁▁▁▁▁▁▁▁▁▁▁▁▁▁▁▁▁▁▁▁▁▁▁▁▁▁▁▁▁▁▁</td></tr><tr><td>val_loss</td><td>█▇▆▆▅▅▄▄▃▃▃▃▃▂▃▂▂▂▂▂▂▂▂▂▂▂▁▁▁▁▁▁▁▁▁▁▁▁▁▁</td></tr><tr><td>val_root_mean_squared_error</td><td>█▄▃▂▂▂▂▁▂▁▂▁▁▁▂▂▁▁▁▁▁▁▁▁▂▁▁▁▁▁▁▁▁▁▁▁▂▁▁▁</td></tr></table><br/></div><div class=\"wandb-col\"><h3>Run summary:</h3><br/><table class=\"wandb\"><tr><td>Mean Validation Loss (all folds)</td><td>1.10433</td></tr><tr><td>Mean Validation RMSE (all folds)</td><td>0.16061</td></tr><tr><td>best_epoch</td><td>48</td></tr><tr><td>best_val_loss</td><td>1.09466</td></tr><tr><td>epoch</td><td>49</td></tr><tr><td>loss</td><td>1.18133</td></tr><tr><td>root_mean_squared_error</td><td>0.25596</td></tr><tr><td>val_loss</td><td>1.09679</td></tr><tr><td>val_root_mean_squared_error</td><td>0.1613</td></tr></table><br/></div></div>"
      ],
      "text/plain": [
       "<IPython.core.display.HTML object>"
      ]
     },
     "metadata": {},
     "output_type": "display_data"
    },
    {
     "data": {
      "text/html": [
       "Synced <strong style=\"color:#cdcd00\">devoted-sweep-2</strong>: <a href=\"https://wandb.ai/luiscostigan/house-price-prediction/runs/vg9tvhp1\" target=\"_blank\">https://wandb.ai/luiscostigan/house-price-prediction/runs/vg9tvhp1</a><br/>Synced 5 W&B file(s), 0 media file(s), 0 artifact file(s) and 1 other file(s)"
      ],
      "text/plain": [
       "<IPython.core.display.HTML object>"
      ]
     },
     "metadata": {},
     "output_type": "display_data"
    },
    {
     "data": {
      "text/html": [
       "Find logs at: <code>./wandb/run-20220314_024203-vg9tvhp1/logs</code>"
      ],
      "text/plain": [
       "<IPython.core.display.HTML object>"
      ]
     },
     "metadata": {},
     "output_type": "display_data"
    },
    {
     "data": {
      "text/html": [
       "Tracking run with wandb version 0.12.11"
      ],
      "text/plain": [
       "<IPython.core.display.HTML object>"
      ]
     },
     "metadata": {},
     "output_type": "display_data"
    },
    {
     "data": {
      "text/html": [
       "Run data is saved locally in <code>/workspaces/data-science-projects/house-price-prediction/Models/tensorflow/wandb/run-20220314_024238-vg9tvhp1</code>"
      ],
      "text/plain": [
       "<IPython.core.display.HTML object>"
      ]
     },
     "metadata": {},
     "output_type": "display_data"
    },
    {
     "data": {
      "text/html": [
       "Syncing run <strong><a href=\"https://wandb.ai/luiscostigan/house-price-prediction/runs/vg9tvhp1\" target=\"_blank\">devoted-sweep-2</a></strong> to <a href=\"https://wandb.ai/luiscostigan/house-price-prediction\" target=\"_blank\">Weights & Biases</a> (<a href=\"https://wandb.me/run\" target=\"_blank\">docs</a>)<br/>Sweep page:  <a href=\"https://wandb.ai/luiscostigan/house-price-prediction/sweeps/e8odal49\" target=\"_blank\">https://wandb.ai/luiscostigan/house-price-prediction/sweeps/e8odal49</a>"
      ],
      "text/plain": [
       "<IPython.core.display.HTML object>"
      ]
     },
     "metadata": {},
     "output_type": "display_data"
    },
    {
     "name": "stdout",
     "output_type": "stream",
     "text": [
      "37/37 [==============================] - 0s 4ms/step - loss: 1.1011 - root_mean_squared_error: 0.1581\n",
      "Score for fold 3: loss of 1.101095199584961; root_mean_squared_error of 0.15812477469444275\n",
      "------------------------------------------------------------------------\n",
      "Score per fold\n",
      "------------------------------------------------------------------------\n",
      "> Fold 1 - Loss: 1.1118658781051636 - RMSE: 0.159930020570755\n",
      "------------------------------------------------------------------------\n",
      "------------------------------------------------------------------------\n",
      "> Fold 2 - Loss: 1.0967937707901 - RMSE: 0.16129805147647858\n",
      "------------------------------------------------------------------------\n",
      "------------------------------------------------------------------------\n",
      "> Fold 3 - Loss: 1.101095199584961 - RMSE: 0.15812477469444275\n",
      "------------------------------------------------------------------------\n",
      "Average scores for all folds:\n",
      "> RMSE: 0.15978428224722543 (+- 0.0012995771435511424)\n",
      "> Loss: 1.103251616160075\n",
      "------------------------------------------------------------------------\n",
      "\n"
     ]
    },
    {
     "data": {
      "text/html": [
       "Waiting for W&B process to finish... <strong style=\"color:green\">(success).</strong>"
      ],
      "text/plain": [
       "<IPython.core.display.HTML object>"
      ]
     },
     "metadata": {},
     "output_type": "display_data"
    },
    {
     "data": {
      "application/vnd.jupyter.widget-view+json": {
       "model_id": "4356163568224f1fa34bbb9128689be9",
       "version_major": 2,
       "version_minor": 0
      },
      "text/plain": [
       "VBox(children=(Label(value='48.532 MB of 55.440 MB uploaded (0.000 MB deduped)\\r'), FloatProgress(value=0.8753…"
      ]
     },
     "metadata": {},
     "output_type": "display_data"
    },
    {
     "data": {
      "text/html": [
       "<style>\n",
       "    table.wandb td:nth-child(1) { padding: 0 10px; text-align: right }\n",
       "    .wandb-row { display: flex; flex-direction: row; flex-wrap: wrap; width: 100% }\n",
       "    .wandb-col { display: flex; flex-direction: column; flex-basis: 100%; flex: 1; padding: 10px; }\n",
       "    </style>\n",
       "<div class=\"wandb-row\"><div class=\"wandb-col\"><h3>Run history:</h3><br/><table class=\"wandb\"><tr><td>Mean Validation Loss (all folds)</td><td>▁</td></tr><tr><td>Mean Validation RMSE (all folds)</td><td>▁</td></tr><tr><td>epoch</td><td>▁▁▁▁▂▂▂▂▂▃▃▃▃▃▃▄▄▄▄▄▅▅▅▅▅▅▆▆▆▆▆▆▇▇▇▇▇███</td></tr><tr><td>loss</td><td>█▅▅▄▄▃▃▃▃▃▂▂▂▂▂▂▂▂▂▂▂▂▁▁▁▁▁▁▁▁▁▁▁▁▁▁▁▁▁▁</td></tr><tr><td>root_mean_squared_error</td><td>█▂▂▁▁▁▁▁▁▁▁▁▁▁▁▁▁▁▁▁▁▁▁▁▁▁▁▁▁▁▁▁▁▁▁▁▁▁▁▁</td></tr><tr><td>val_loss</td><td>█▇▆▆▅▄▄▄▃▃▃▃▃▃▂▂▂▂▂▂▂▂▂▂▂▂▁▁▂▁▁▁▁▁▁▁▁▁▁▁</td></tr><tr><td>val_root_mean_squared_error</td><td>█▄▃▃▂▂▂▁▁▁▁▁▁▂▁▁▁▁▁▁▁▁▁▁▁▁▁▁▂▁▁▂▁▁▂▁▁▂▂▁</td></tr></table><br/></div><div class=\"wandb-col\"><h3>Run summary:</h3><br/><table class=\"wandb\"><tr><td>Mean Validation Loss (all folds)</td><td>1.10325</td></tr><tr><td>Mean Validation RMSE (all folds)</td><td>0.15978</td></tr><tr><td>best_epoch</td><td>49</td></tr><tr><td>best_val_loss</td><td>1.1011</td></tr><tr><td>epoch</td><td>49</td></tr><tr><td>loss</td><td>1.18353</td></tr><tr><td>root_mean_squared_error</td><td>0.23832</td></tr><tr><td>val_loss</td><td>1.1011</td></tr><tr><td>val_root_mean_squared_error</td><td>0.15812</td></tr></table><br/></div></div>"
      ],
      "text/plain": [
       "<IPython.core.display.HTML object>"
      ]
     },
     "metadata": {},
     "output_type": "display_data"
    },
    {
     "data": {
      "text/html": [
       "Synced <strong style=\"color:#cdcd00\">devoted-sweep-2</strong>: <a href=\"https://wandb.ai/luiscostigan/house-price-prediction/runs/vg9tvhp1\" target=\"_blank\">https://wandb.ai/luiscostigan/house-price-prediction/runs/vg9tvhp1</a><br/>Synced 5 W&B file(s), 0 media file(s), 0 artifact file(s) and 1 other file(s)"
      ],
      "text/plain": [
       "<IPython.core.display.HTML object>"
      ]
     },
     "metadata": {},
     "output_type": "display_data"
    },
    {
     "data": {
      "text/html": [
       "Find logs at: <code>./wandb/run-20220314_024238-vg9tvhp1/logs</code>"
      ],
      "text/plain": [
       "<IPython.core.display.HTML object>"
      ]
     },
     "metadata": {},
     "output_type": "display_data"
    },
    {
     "data": {
      "text/html": [
       "Tracking run with wandb version 0.12.11"
      ],
      "text/plain": [
       "<IPython.core.display.HTML object>"
      ]
     },
     "metadata": {},
     "output_type": "display_data"
    },
    {
     "data": {
      "text/html": [
       "Run data is saved locally in <code>/workspaces/data-science-projects/house-price-prediction/Models/tensorflow/wandb/run-20220314_024314-vg9tvhp1</code>"
      ],
      "text/plain": [
       "<IPython.core.display.HTML object>"
      ]
     },
     "metadata": {},
     "output_type": "display_data"
    },
    {
     "data": {
      "text/html": [
       "Syncing run <strong><a href=\"https://wandb.ai/luiscostigan/house-price-prediction/runs/vg9tvhp1\" target=\"_blank\">devoted-sweep-2</a></strong> to <a href=\"https://wandb.ai/luiscostigan/house-price-prediction\" target=\"_blank\">Weights & Biases</a> (<a href=\"https://wandb.me/run\" target=\"_blank\">docs</a>)<br/>Sweep page:  <a href=\"https://wandb.ai/luiscostigan/house-price-prediction/sweeps/e8odal49\" target=\"_blank\">https://wandb.ai/luiscostigan/house-price-prediction/sweeps/e8odal49</a>"
      ],
      "text/plain": [
       "<IPython.core.display.HTML object>"
      ]
     },
     "metadata": {},
     "output_type": "display_data"
    },
    {
     "name": "stdout",
     "output_type": "stream",
     "text": [
      "37/37 [==============================] - 0s 3ms/step - loss: 1.1258 - root_mean_squared_error: 0.1786\n",
      "Score for fold 4: loss of 1.1257576942443848; root_mean_squared_error of 0.17857955396175385\n",
      "------------------------------------------------------------------------\n",
      "Score per fold\n",
      "------------------------------------------------------------------------\n",
      "> Fold 1 - Loss: 1.1118658781051636 - RMSE: 0.159930020570755\n",
      "------------------------------------------------------------------------\n",
      "------------------------------------------------------------------------\n",
      "> Fold 2 - Loss: 1.0967937707901 - RMSE: 0.16129805147647858\n",
      "------------------------------------------------------------------------\n",
      "------------------------------------------------------------------------\n",
      "> Fold 3 - Loss: 1.101095199584961 - RMSE: 0.15812477469444275\n",
      "------------------------------------------------------------------------\n",
      "------------------------------------------------------------------------\n",
      "> Fold 4 - Loss: 1.1257576942443848 - RMSE: 0.17857955396175385\n",
      "------------------------------------------------------------------------\n",
      "Average scores for all folds:\n",
      "> RMSE: 0.16448310017585754 (+- 0.008216041951166863)\n",
      "> Loss: 1.1088781356811523\n",
      "------------------------------------------------------------------------\n",
      "\n"
     ]
    },
    {
     "data": {
      "text/html": [
       "Waiting for W&B process to finish... <strong style=\"color:green\">(success).</strong>"
      ],
      "text/plain": [
       "<IPython.core.display.HTML object>"
      ]
     },
     "metadata": {},
     "output_type": "display_data"
    },
    {
     "data": {
      "application/vnd.jupyter.widget-view+json": {
       "model_id": "002cf21a91e24607885ab6347df23de7",
       "version_major": 2,
       "version_minor": 0
      },
      "text/plain": [
       "VBox(children=(Label(value='1.790 MB of 55.440 MB uploaded (0.000 MB deduped)\\r'), FloatProgress(value=0.03228…"
      ]
     },
     "metadata": {},
     "output_type": "display_data"
    },
    {
     "data": {
      "text/html": [
       "<style>\n",
       "    table.wandb td:nth-child(1) { padding: 0 10px; text-align: right }\n",
       "    .wandb-row { display: flex; flex-direction: row; flex-wrap: wrap; width: 100% }\n",
       "    .wandb-col { display: flex; flex-direction: column; flex-basis: 100%; flex: 1; padding: 10px; }\n",
       "    </style>\n",
       "<div class=\"wandb-row\"><div class=\"wandb-col\"><h3>Run history:</h3><br/><table class=\"wandb\"><tr><td>Mean Validation Loss (all folds)</td><td>▁</td></tr><tr><td>Mean Validation RMSE (all folds)</td><td>▁</td></tr><tr><td>epoch</td><td>▁▁▁▁▂▂▂▂▂▃▃▃▃▃▃▄▄▄▄▄▅▅▅▅▅▅▆▆▆▆▆▆▇▇▇▇▇███</td></tr><tr><td>loss</td><td>█▅▅▄▄▃▃▃▃▃▂▂▂▂▂▂▂▂▂▂▂▁▁▁▁▁▁▁▁▁▁▁▁▁▁▁▁▁▁▁</td></tr><tr><td>root_mean_squared_error</td><td>█▂▂▁▁▁▁▁▁▁▁▁▁▁▁▁▁▁▁▁▁▁▁▁▁▁▁▁▁▁▁▁▁▁▁▁▁▁▁▁</td></tr><tr><td>val_loss</td><td>█▇▆▆▅▄▄▄▄▃▃▃▃▃▂▂▂▂▂▂▂▂▂▂▂▂▁▁▂▁▁▁▁▁▁▁▁▁▁▁</td></tr><tr><td>val_root_mean_squared_error</td><td>█▅▄▃▂▂▂▂▂▁▂▂▂▁▁▁▂▁▂▁▁▁▁▁▂▂▁▁▂▂▁▁▁▁▁▁▁▁▁▁</td></tr></table><br/></div><div class=\"wandb-col\"><h3>Run summary:</h3><br/><table class=\"wandb\"><tr><td>Mean Validation Loss (all folds)</td><td>1.10888</td></tr><tr><td>Mean Validation RMSE (all folds)</td><td>0.16448</td></tr><tr><td>best_epoch</td><td>48</td></tr><tr><td>best_val_loss</td><td>1.10547</td></tr><tr><td>epoch</td><td>49</td></tr><tr><td>loss</td><td>1.19904</td></tr><tr><td>root_mean_squared_error</td><td>0.26371</td></tr><tr><td>val_loss</td><td>1.12576</td></tr><tr><td>val_root_mean_squared_error</td><td>0.17858</td></tr></table><br/></div></div>"
      ],
      "text/plain": [
       "<IPython.core.display.HTML object>"
      ]
     },
     "metadata": {},
     "output_type": "display_data"
    },
    {
     "data": {
      "text/html": [
       "Synced <strong style=\"color:#cdcd00\">devoted-sweep-2</strong>: <a href=\"https://wandb.ai/luiscostigan/house-price-prediction/runs/vg9tvhp1\" target=\"_blank\">https://wandb.ai/luiscostigan/house-price-prediction/runs/vg9tvhp1</a><br/>Synced 5 W&B file(s), 0 media file(s), 0 artifact file(s) and 1 other file(s)"
      ],
      "text/plain": [
       "<IPython.core.display.HTML object>"
      ]
     },
     "metadata": {},
     "output_type": "display_data"
    },
    {
     "data": {
      "text/html": [
       "Find logs at: <code>./wandb/run-20220314_024314-vg9tvhp1/logs</code>"
      ],
      "text/plain": [
       "<IPython.core.display.HTML object>"
      ]
     },
     "metadata": {},
     "output_type": "display_data"
    },
    {
     "data": {
      "text/html": [
       "Tracking run with wandb version 0.12.11"
      ],
      "text/plain": [
       "<IPython.core.display.HTML object>"
      ]
     },
     "metadata": {},
     "output_type": "display_data"
    },
    {
     "data": {
      "text/html": [
       "Run data is saved locally in <code>/workspaces/data-science-projects/house-price-prediction/Models/tensorflow/wandb/run-20220314_024347-vg9tvhp1</code>"
      ],
      "text/plain": [
       "<IPython.core.display.HTML object>"
      ]
     },
     "metadata": {},
     "output_type": "display_data"
    },
    {
     "data": {
      "text/html": [
       "Syncing run <strong><a href=\"https://wandb.ai/luiscostigan/house-price-prediction/runs/vg9tvhp1\" target=\"_blank\">devoted-sweep-2</a></strong> to <a href=\"https://wandb.ai/luiscostigan/house-price-prediction\" target=\"_blank\">Weights & Biases</a> (<a href=\"https://wandb.me/run\" target=\"_blank\">docs</a>)<br/>Sweep page:  <a href=\"https://wandb.ai/luiscostigan/house-price-prediction/sweeps/e8odal49\" target=\"_blank\">https://wandb.ai/luiscostigan/house-price-prediction/sweeps/e8odal49</a>"
      ],
      "text/plain": [
       "<IPython.core.display.HTML object>"
      ]
     },
     "metadata": {},
     "output_type": "display_data"
    },
    {
     "name": "stdout",
     "output_type": "stream",
     "text": [
      "37/37 [==============================] - 0s 3ms/step - loss: 1.1094 - root_mean_squared_error: 0.1576\n",
      "Score for fold 5: loss of 1.1093980073928833; root_mean_squared_error of 0.15764331817626953\n",
      "------------------------------------------------------------------------\n",
      "Score per fold\n",
      "------------------------------------------------------------------------\n",
      "> Fold 1 - Loss: 1.1118658781051636 - RMSE: 0.159930020570755\n",
      "------------------------------------------------------------------------\n",
      "------------------------------------------------------------------------\n",
      "> Fold 2 - Loss: 1.0967937707901 - RMSE: 0.16129805147647858\n",
      "------------------------------------------------------------------------\n",
      "------------------------------------------------------------------------\n",
      "> Fold 3 - Loss: 1.101095199584961 - RMSE: 0.15812477469444275\n",
      "------------------------------------------------------------------------\n",
      "------------------------------------------------------------------------\n",
      "> Fold 4 - Loss: 1.1257576942443848 - RMSE: 0.17857955396175385\n",
      "------------------------------------------------------------------------\n",
      "------------------------------------------------------------------------\n",
      "> Fold 5 - Loss: 1.1093980073928833 - RMSE: 0.15764331817626953\n",
      "------------------------------------------------------------------------\n",
      "Average scores for all folds:\n",
      "> RMSE: 0.16311514377593994 (+- 0.007841421753927609)\n",
      "> Loss: 1.1089821100234984\n",
      "------------------------------------------------------------------------\n",
      "\n"
     ]
    },
    {
     "data": {
      "text/html": [
       "Waiting for W&B process to finish... <strong style=\"color:green\">(success).</strong>"
      ],
      "text/plain": [
       "<IPython.core.display.HTML object>"
      ]
     },
     "metadata": {},
     "output_type": "display_data"
    },
    {
     "data": {
      "application/vnd.jupyter.widget-view+json": {
       "model_id": "6570f7e79a454463b22287c81cf63482",
       "version_major": 2,
       "version_minor": 0
      },
      "text/plain": [
       "VBox(children=(Label(value='4.149 MB of 55.440 MB uploaded (0.000 MB deduped)\\r'), FloatProgress(value=0.07484…"
      ]
     },
     "metadata": {},
     "output_type": "display_data"
    },
    {
     "data": {
      "text/html": [
       "<style>\n",
       "    table.wandb td:nth-child(1) { padding: 0 10px; text-align: right }\n",
       "    .wandb-row { display: flex; flex-direction: row; flex-wrap: wrap; width: 100% }\n",
       "    .wandb-col { display: flex; flex-direction: column; flex-basis: 100%; flex: 1; padding: 10px; }\n",
       "    </style>\n",
       "<div class=\"wandb-row\"><div class=\"wandb-col\"><h3>Run history:</h3><br/><table class=\"wandb\"><tr><td>Mean Validation Loss (all folds)</td><td>▁</td></tr><tr><td>Mean Validation RMSE (all folds)</td><td>▁</td></tr><tr><td>epoch</td><td>▁▁▁▁▂▂▂▂▂▃▃▃▃▃▃▄▄▄▄▄▅▅▅▅▅▅▆▆▆▆▆▆▇▇▇▇▇███</td></tr><tr><td>loss</td><td>█▅▅▄▄▃▃▃▃▃▂▂▂▂▂▂▂▂▂▂▂▂▁▁▁▁▁▁▁▁▁▁▁▁▁▁▁▁▁▁</td></tr><tr><td>root_mean_squared_error</td><td>█▂▂▁▁▁▁▁▁▁▁▁▁▁▁▁▁▁▁▁▁▁▁▁▁▁▁▁▁▁▁▁▁▁▁▁▁▁▁▁</td></tr><tr><td>val_loss</td><td>█▇▆▆▅▄▄▄▃▃▃▃▃▃▂▂▂▂▂▂▂▂▂▂▂▂▁▂▁▁▁▁▁▁▁▁▁▁▁▁</td></tr><tr><td>val_root_mean_squared_error</td><td>█▄▃▂▂▂▂▁▁▁▁▂▂▁▂▁▂▁▁▂▁▁▁▁▂▁▁▁▁▁▁▁▁▁▁▁▁▁▁▁</td></tr></table><br/></div><div class=\"wandb-col\"><h3>Run summary:</h3><br/><table class=\"wandb\"><tr><td>Mean Validation Loss (all folds)</td><td>1.10898</td></tr><tr><td>Mean Validation RMSE (all folds)</td><td>0.16312</td></tr><tr><td>best_epoch</td><td>49</td></tr><tr><td>best_val_loss</td><td>1.1094</td></tr><tr><td>epoch</td><td>49</td></tr><tr><td>loss</td><td>1.20001</td></tr><tr><td>root_mean_squared_error</td><td>0.25089</td></tr><tr><td>val_loss</td><td>1.1094</td></tr><tr><td>val_root_mean_squared_error</td><td>0.15764</td></tr></table><br/></div></div>"
      ],
      "text/plain": [
       "<IPython.core.display.HTML object>"
      ]
     },
     "metadata": {},
     "output_type": "display_data"
    },
    {
     "data": {
      "text/html": [
       "Synced <strong style=\"color:#cdcd00\">devoted-sweep-2</strong>: <a href=\"https://wandb.ai/luiscostigan/house-price-prediction/runs/vg9tvhp1\" target=\"_blank\">https://wandb.ai/luiscostigan/house-price-prediction/runs/vg9tvhp1</a><br/>Synced 5 W&B file(s), 0 media file(s), 0 artifact file(s) and 1 other file(s)"
      ],
      "text/plain": [
       "<IPython.core.display.HTML object>"
      ]
     },
     "metadata": {},
     "output_type": "display_data"
    },
    {
     "data": {
      "text/html": [
       "Find logs at: <code>./wandb/run-20220314_024347-vg9tvhp1/logs</code>"
      ],
      "text/plain": [
       "<IPython.core.display.HTML object>"
      ]
     },
     "metadata": {},
     "output_type": "display_data"
    },
    {
     "name": "stderr",
     "output_type": "stream",
     "text": [
      "\u001b[34m\u001b[1mwandb\u001b[0m: Agent Starting Run: w83tal63 with config:\n",
      "\u001b[34m\u001b[1mwandb\u001b[0m: \tbatch_size: 8\n",
      "\u001b[34m\u001b[1mwandb\u001b[0m: \tbias1: 0.01\n",
      "\u001b[34m\u001b[1mwandb\u001b[0m: \tbias2: 0.001\n",
      "\u001b[34m\u001b[1mwandb\u001b[0m: \tdense1: 4096\n",
      "\u001b[34m\u001b[1mwandb\u001b[0m: \tdense2: 2048\n",
      "\u001b[34m\u001b[1mwandb\u001b[0m: \tdropout1: 0.0018974185232078168\n",
      "\u001b[34m\u001b[1mwandb\u001b[0m: \tepochs: 150\n",
      "\u001b[34m\u001b[1mwandb\u001b[0m: \tlearning_rate: 0.001\n"
     ]
    },
    {
     "data": {
      "text/html": [
       "Tracking run with wandb version 0.12.11"
      ],
      "text/plain": [
       "<IPython.core.display.HTML object>"
      ]
     },
     "metadata": {},
     "output_type": "display_data"
    },
    {
     "data": {
      "text/html": [
       "Run data is saved locally in <code>/workspaces/data-science-projects/house-price-prediction/Models/tensorflow/wandb/run-20220314_024423-w83tal63</code>"
      ],
      "text/plain": [
       "<IPython.core.display.HTML object>"
      ]
     },
     "metadata": {},
     "output_type": "display_data"
    },
    {
     "data": {
      "text/html": [
       "Syncing run <strong><a href=\"https://wandb.ai/luiscostigan/house-price-prediction/runs/w83tal63\" target=\"_blank\">fragrant-sweep-3</a></strong> to <a href=\"https://wandb.ai/luiscostigan/house-price-prediction\" target=\"_blank\">Weights & Biases</a> (<a href=\"https://wandb.me/run\" target=\"_blank\">docs</a>)<br/>Sweep page:  <a href=\"https://wandb.ai/luiscostigan/house-price-prediction/sweeps/e8odal49\" target=\"_blank\">https://wandb.ai/luiscostigan/house-price-prediction/sweeps/e8odal49</a>"
      ],
      "text/plain": [
       "<IPython.core.display.HTML object>"
      ]
     },
     "metadata": {},
     "output_type": "display_data"
    },
    {
     "name": "stdout",
     "output_type": "stream",
     "text": [
      "37/37 [==============================] - 0s 5ms/step - loss: 0.0847 - root_mean_squared_error: 0.1174\n",
      "Score for fold 1: loss of 0.0846887156367302; root_mean_squared_error of 0.11743402481079102\n",
      "------------------------------------------------------------------------\n",
      "Score per fold\n",
      "------------------------------------------------------------------------\n",
      "> Fold 1 - Loss: 0.0846887156367302 - RMSE: 0.11743402481079102\n",
      "------------------------------------------------------------------------\n",
      "Average scores for all folds:\n",
      "> RMSE: 0.11743402481079102 (+- 0.0)\n",
      "> Loss: 0.0846887156367302\n",
      "------------------------------------------------------------------------\n",
      "\n"
     ]
    },
    {
     "data": {
      "text/html": [
       "Waiting for W&B process to finish... <strong style=\"color:green\">(success).</strong>"
      ],
      "text/plain": [
       "<IPython.core.display.HTML object>"
      ]
     },
     "metadata": {},
     "output_type": "display_data"
    },
    {
     "data": {
      "application/vnd.jupyter.widget-view+json": {
       "model_id": "306902be92bc4c18830fb7859e825a8a",
       "version_major": 2,
       "version_minor": 0
      },
      "text/plain": [
       "VBox(children=(Label(value='4.024 MB of 110.800 MB uploaded (0.000 MB deduped)\\r'), FloatProgress(value=0.0363…"
      ]
     },
     "metadata": {},
     "output_type": "display_data"
    },
    {
     "data": {
      "text/html": [
       "<style>\n",
       "    table.wandb td:nth-child(1) { padding: 0 10px; text-align: right }\n",
       "    .wandb-row { display: flex; flex-direction: row; flex-wrap: wrap; width: 100% }\n",
       "    .wandb-col { display: flex; flex-direction: column; flex-basis: 100%; flex: 1; padding: 10px; }\n",
       "    </style>\n",
       "<div class=\"wandb-row\"><div class=\"wandb-col\"><h3>Run history:</h3><br/><table class=\"wandb\"><tr><td>Mean Validation Loss (all folds)</td><td>▁</td></tr><tr><td>Mean Validation RMSE (all folds)</td><td>▁</td></tr><tr><td>epoch</td><td>▁▁▁▁▂▂▂▂▂▃▃▃▃▃▃▄▄▄▄▄▅▅▅▅▅▅▆▆▆▆▆▆▇▇▇▇▇███</td></tr><tr><td>loss</td><td>█▄▃▃▂▂▂▂▂▂▂▂▂▂▂▂▂▂▁▁▁▁▁▁▁▁▁▁▁▁▁▁▁▁▁▁▁▁▁▁</td></tr><tr><td>root_mean_squared_error</td><td>█▅▄▄▃▃▃▃▃▂▃▃▃▂▃▃▂▂▂▂▂▂▂▂▂▂▂▂▂▂▂▁▁▁▁▁▁▁▁▁</td></tr><tr><td>val_loss</td><td>█▄▃▃▂▂▂▃▃▃▂▂▂▂▂▂▂▁▁▁▁▂▂▁▁▂▁▂▂▂▁▁▁▁▁▁▁▁▁▁</td></tr><tr><td>val_root_mean_squared_error</td><td>█▄▃▄▂▃▃▄▅▄▂▃▂▃▂▂▂▂▁▂▁▂▂▁▂▂▁▂▂▂▁▂▁▁▁▂▁▁▁▁</td></tr></table><br/></div><div class=\"wandb-col\"><h3>Run summary:</h3><br/><table class=\"wandb\"><tr><td>Mean Validation Loss (all folds)</td><td>0.08469</td></tr><tr><td>Mean Validation RMSE (all folds)</td><td>0.11743</td></tr><tr><td>best_epoch</td><td>136</td></tr><tr><td>best_val_loss</td><td>0.07516</td></tr><tr><td>epoch</td><td>149</td></tr><tr><td>loss</td><td>0.08707</td></tr><tr><td>root_mean_squared_error</td><td>0.12618</td></tr><tr><td>val_loss</td><td>0.0847</td></tr><tr><td>val_root_mean_squared_error</td><td>0.11745</td></tr></table><br/></div></div>"
      ],
      "text/plain": [
       "<IPython.core.display.HTML object>"
      ]
     },
     "metadata": {},
     "output_type": "display_data"
    },
    {
     "data": {
      "text/html": [
       "Synced <strong style=\"color:#cdcd00\">fragrant-sweep-3</strong>: <a href=\"https://wandb.ai/luiscostigan/house-price-prediction/runs/w83tal63\" target=\"_blank\">https://wandb.ai/luiscostigan/house-price-prediction/runs/w83tal63</a><br/>Synced 5 W&B file(s), 0 media file(s), 0 artifact file(s) and 1 other file(s)"
      ],
      "text/plain": [
       "<IPython.core.display.HTML object>"
      ]
     },
     "metadata": {},
     "output_type": "display_data"
    },
    {
     "data": {
      "text/html": [
       "Find logs at: <code>./wandb/run-20220314_024423-w83tal63/logs</code>"
      ],
      "text/plain": [
       "<IPython.core.display.HTML object>"
      ]
     },
     "metadata": {},
     "output_type": "display_data"
    },
    {
     "data": {
      "text/html": [
       "Tracking run with wandb version 0.12.11"
      ],
      "text/plain": [
       "<IPython.core.display.HTML object>"
      ]
     },
     "metadata": {},
     "output_type": "display_data"
    },
    {
     "data": {
      "text/html": [
       "Run data is saved locally in <code>/workspaces/data-science-projects/house-price-prediction/Models/tensorflow/wandb/run-20220314_024656-w83tal63</code>"
      ],
      "text/plain": [
       "<IPython.core.display.HTML object>"
      ]
     },
     "metadata": {},
     "output_type": "display_data"
    },
    {
     "data": {
      "text/html": [
       "Syncing run <strong><a href=\"https://wandb.ai/luiscostigan/house-price-prediction/runs/w83tal63\" target=\"_blank\">fragrant-sweep-3</a></strong> to <a href=\"https://wandb.ai/luiscostigan/house-price-prediction\" target=\"_blank\">Weights & Biases</a> (<a href=\"https://wandb.me/run\" target=\"_blank\">docs</a>)<br/>Sweep page:  <a href=\"https://wandb.ai/luiscostigan/house-price-prediction/sweeps/e8odal49\" target=\"_blank\">https://wandb.ai/luiscostigan/house-price-prediction/sweeps/e8odal49</a>"
      ],
      "text/plain": [
       "<IPython.core.display.HTML object>"
      ]
     },
     "metadata": {},
     "output_type": "display_data"
    },
    {
     "name": "stdout",
     "output_type": "stream",
     "text": [
      "37/37 [==============================] - 0s 5ms/step - loss: 0.0762 - root_mean_squared_error: 0.1089\n",
      "Score for fold 2: loss of 0.07618991285562515; root_mean_squared_error of 0.10891823470592499\n",
      "------------------------------------------------------------------------\n",
      "Score per fold\n",
      "------------------------------------------------------------------------\n",
      "> Fold 1 - Loss: 0.0846887156367302 - RMSE: 0.11743402481079102\n",
      "------------------------------------------------------------------------\n",
      "------------------------------------------------------------------------\n",
      "> Fold 2 - Loss: 0.07618991285562515 - RMSE: 0.10891823470592499\n",
      "------------------------------------------------------------------------\n",
      "Average scores for all folds:\n",
      "> RMSE: 0.113176129758358 (+- 0.004257895052433014)\n",
      "> Loss: 0.08043931424617767\n",
      "------------------------------------------------------------------------\n",
      "\n"
     ]
    },
    {
     "data": {
      "text/html": [
       "Waiting for W&B process to finish... <strong style=\"color:green\">(success).</strong>"
      ],
      "text/plain": [
       "<IPython.core.display.HTML object>"
      ]
     },
     "metadata": {},
     "output_type": "display_data"
    },
    {
     "data": {
      "application/vnd.jupyter.widget-view+json": {
       "model_id": "31383eeeee6642939fb54c46af7938bc",
       "version_major": 2,
       "version_minor": 0
      },
      "text/plain": [
       "VBox(children=(Label(value='2.337 MB of 110.800 MB uploaded (0.000 MB deduped)\\r'), FloatProgress(value=0.0210…"
      ]
     },
     "metadata": {},
     "output_type": "display_data"
    },
    {
     "data": {
      "text/html": [
       "<style>\n",
       "    table.wandb td:nth-child(1) { padding: 0 10px; text-align: right }\n",
       "    .wandb-row { display: flex; flex-direction: row; flex-wrap: wrap; width: 100% }\n",
       "    .wandb-col { display: flex; flex-direction: column; flex-basis: 100%; flex: 1; padding: 10px; }\n",
       "    </style>\n",
       "<div class=\"wandb-row\"><div class=\"wandb-col\"><h3>Run history:</h3><br/><table class=\"wandb\"><tr><td>Mean Validation Loss (all folds)</td><td>▁</td></tr><tr><td>Mean Validation RMSE (all folds)</td><td>▁</td></tr><tr><td>epoch</td><td>▁▁▁▁▂▂▂▂▂▃▃▃▃▃▃▄▄▄▄▄▅▅▅▅▅▅▆▆▆▆▆▆▇▇▇▇▇███</td></tr><tr><td>loss</td><td>█▄▃▃▂▂▂▂▂▂▂▂▂▂▂▂▂▂▂▁▁▂▂▁▁▁▁▁▁▁▁▁▁▁▁▁▁▁▁▁</td></tr><tr><td>root_mean_squared_error</td><td>█▆▅▄▄▃▃▃▃▃▃▂▃▃▂▂▂▂▂▂▂▃▂▂▂▁▂▂▂▂▂▂▁▁▂▁▁▁▁▁</td></tr><tr><td>val_loss</td><td>█▄▃▂▃▃▃▃▃▃▂▂▂▃▃▂▂▂▂▂▂▂▂▂▁▂▁▁▁▂▁▁▁▁▁▁▁▁▁▁</td></tr><tr><td>val_root_mean_squared_error</td><td>█▆▅▃▅▅▄▆▄▆▃▂▂▅▄▃▂▃▂▃▃▃▂▂▁▂▁▁▁▃▁▁▁▁▁▁▁▁▁▁</td></tr></table><br/></div><div class=\"wandb-col\"><h3>Run summary:</h3><br/><table class=\"wandb\"><tr><td>Mean Validation Loss (all folds)</td><td>0.08044</td></tr><tr><td>Mean Validation RMSE (all folds)</td><td>0.11318</td></tr><tr><td>best_epoch</td><td>147</td></tr><tr><td>best_val_loss</td><td>0.07081</td></tr><tr><td>epoch</td><td>149</td></tr><tr><td>loss</td><td>0.08957</td></tr><tr><td>root_mean_squared_error</td><td>0.133</td></tr><tr><td>val_loss</td><td>0.07622</td></tr><tr><td>val_root_mean_squared_error</td><td>0.10896</td></tr></table><br/></div></div>"
      ],
      "text/plain": [
       "<IPython.core.display.HTML object>"
      ]
     },
     "metadata": {},
     "output_type": "display_data"
    },
    {
     "data": {
      "text/html": [
       "Synced <strong style=\"color:#cdcd00\">fragrant-sweep-3</strong>: <a href=\"https://wandb.ai/luiscostigan/house-price-prediction/runs/w83tal63\" target=\"_blank\">https://wandb.ai/luiscostigan/house-price-prediction/runs/w83tal63</a><br/>Synced 5 W&B file(s), 0 media file(s), 0 artifact file(s) and 1 other file(s)"
      ],
      "text/plain": [
       "<IPython.core.display.HTML object>"
      ]
     },
     "metadata": {},
     "output_type": "display_data"
    },
    {
     "data": {
      "text/html": [
       "Find logs at: <code>./wandb/run-20220314_024656-w83tal63/logs</code>"
      ],
      "text/plain": [
       "<IPython.core.display.HTML object>"
      ]
     },
     "metadata": {},
     "output_type": "display_data"
    },
    {
     "data": {
      "text/html": [
       "Tracking run with wandb version 0.12.11"
      ],
      "text/plain": [
       "<IPython.core.display.HTML object>"
      ]
     },
     "metadata": {},
     "output_type": "display_data"
    },
    {
     "data": {
      "text/html": [
       "Run data is saved locally in <code>/workspaces/data-science-projects/house-price-prediction/Models/tensorflow/wandb/run-20220314_024947-w83tal63</code>"
      ],
      "text/plain": [
       "<IPython.core.display.HTML object>"
      ]
     },
     "metadata": {},
     "output_type": "display_data"
    },
    {
     "data": {
      "text/html": [
       "Syncing run <strong><a href=\"https://wandb.ai/luiscostigan/house-price-prediction/runs/w83tal63\" target=\"_blank\">fragrant-sweep-3</a></strong> to <a href=\"https://wandb.ai/luiscostigan/house-price-prediction\" target=\"_blank\">Weights & Biases</a> (<a href=\"https://wandb.me/run\" target=\"_blank\">docs</a>)<br/>Sweep page:  <a href=\"https://wandb.ai/luiscostigan/house-price-prediction/sweeps/e8odal49\" target=\"_blank\">https://wandb.ai/luiscostigan/house-price-prediction/sweeps/e8odal49</a>"
      ],
      "text/plain": [
       "<IPython.core.display.HTML object>"
      ]
     },
     "metadata": {},
     "output_type": "display_data"
    },
    {
     "name": "stdout",
     "output_type": "stream",
     "text": [
      "37/37 [==============================] - 0s 5ms/step - loss: 0.0798 - root_mean_squared_error: 0.1175\n",
      "Score for fold 3: loss of 0.07979454100131989; root_mean_squared_error of 0.11751759797334671\n",
      "------------------------------------------------------------------------\n",
      "Score per fold\n",
      "------------------------------------------------------------------------\n",
      "> Fold 1 - Loss: 0.0846887156367302 - RMSE: 0.11743402481079102\n",
      "------------------------------------------------------------------------\n",
      "------------------------------------------------------------------------\n",
      "> Fold 2 - Loss: 0.07618991285562515 - RMSE: 0.10891823470592499\n",
      "------------------------------------------------------------------------\n",
      "------------------------------------------------------------------------\n",
      "> Fold 3 - Loss: 0.07979454100131989 - RMSE: 0.11751759797334671\n",
      "------------------------------------------------------------------------\n",
      "Average scores for all folds:\n",
      "> RMSE: 0.1146232858300209 (+- 0.004034224614865988)\n",
      "> Loss: 0.08022438983122508\n",
      "------------------------------------------------------------------------\n",
      "\n"
     ]
    },
    {
     "data": {
      "text/html": [
       "Waiting for W&B process to finish... <strong style=\"color:green\">(success).</strong>"
      ],
      "text/plain": [
       "<IPython.core.display.HTML object>"
      ]
     },
     "metadata": {},
     "output_type": "display_data"
    },
    {
     "data": {
      "application/vnd.jupyter.widget-view+json": {
       "model_id": "8cf6333e5b1c496fbe7ff3b71ea9a7b5",
       "version_major": 2,
       "version_minor": 0
      },
      "text/plain": [
       "VBox(children=(Label(value='1.524 MB of 110.800 MB uploaded (0.000 MB deduped)\\r'), FloatProgress(value=0.0137…"
      ]
     },
     "metadata": {},
     "output_type": "display_data"
    },
    {
     "data": {
      "text/html": [
       "<style>\n",
       "    table.wandb td:nth-child(1) { padding: 0 10px; text-align: right }\n",
       "    .wandb-row { display: flex; flex-direction: row; flex-wrap: wrap; width: 100% }\n",
       "    .wandb-col { display: flex; flex-direction: column; flex-basis: 100%; flex: 1; padding: 10px; }\n",
       "    </style>\n",
       "<div class=\"wandb-row\"><div class=\"wandb-col\"><h3>Run history:</h3><br/><table class=\"wandb\"><tr><td>Mean Validation Loss (all folds)</td><td>▁</td></tr><tr><td>Mean Validation RMSE (all folds)</td><td>▁</td></tr><tr><td>epoch</td><td>▁▁▁▁▂▂▂▂▂▃▃▃▃▃▃▄▄▄▄▄▅▅▅▅▅▅▆▆▆▆▆▆▇▇▇▇▇███</td></tr><tr><td>loss</td><td>█▄▃▃▂▂▂▂▂▂▂▂▂▂▂▂▂▂▂▁▁▁▁▁▁▁▁▁▁▁▁▁▁▁▁▁▁▁▁▁</td></tr><tr><td>root_mean_squared_error</td><td>█▅▅▄▃▃▃▄▃▃▃▃▃▃▃▃▃▃▂▂▂▂▂▂▂▂▂▂▂▂▂▁▂▁▁▁▂▁▁▁</td></tr><tr><td>val_loss</td><td>█▅▄▄▃▃▂▃▂▂▂▂▂▂▃▂▂▂▂▂▂▂▁▁▁▂▁▂▁▂▁▁▁▁▁▁▁▁▁▁</td></tr><tr><td>val_root_mean_squared_error</td><td>█▇▆█▄▅▄▅▄▄▄▃▃▃▅▃▂▂▂▃▂▃▂▁▁▂▁▄▁▂▁▂▁▁▁▁▁▁▁▁</td></tr></table><br/></div><div class=\"wandb-col\"><h3>Run summary:</h3><br/><table class=\"wandb\"><tr><td>Mean Validation Loss (all folds)</td><td>0.08022</td></tr><tr><td>Mean Validation RMSE (all folds)</td><td>0.11462</td></tr><tr><td>best_epoch</td><td>140</td></tr><tr><td>best_val_loss</td><td>0.07303</td></tr><tr><td>epoch</td><td>149</td></tr><tr><td>loss</td><td>0.09019</td></tr><tr><td>root_mean_squared_error</td><td>0.14222</td></tr><tr><td>val_loss</td><td>0.07981</td></tr><tr><td>val_root_mean_squared_error</td><td>0.11753</td></tr></table><br/></div></div>"
      ],
      "text/plain": [
       "<IPython.core.display.HTML object>"
      ]
     },
     "metadata": {},
     "output_type": "display_data"
    },
    {
     "data": {
      "text/html": [
       "Synced <strong style=\"color:#cdcd00\">fragrant-sweep-3</strong>: <a href=\"https://wandb.ai/luiscostigan/house-price-prediction/runs/w83tal63\" target=\"_blank\">https://wandb.ai/luiscostigan/house-price-prediction/runs/w83tal63</a><br/>Synced 5 W&B file(s), 0 media file(s), 0 artifact file(s) and 1 other file(s)"
      ],
      "text/plain": [
       "<IPython.core.display.HTML object>"
      ]
     },
     "metadata": {},
     "output_type": "display_data"
    },
    {
     "data": {
      "text/html": [
       "Find logs at: <code>./wandb/run-20220314_024947-w83tal63/logs</code>"
      ],
      "text/plain": [
       "<IPython.core.display.HTML object>"
      ]
     },
     "metadata": {},
     "output_type": "display_data"
    },
    {
     "data": {
      "text/html": [
       "Tracking run with wandb version 0.12.11"
      ],
      "text/plain": [
       "<IPython.core.display.HTML object>"
      ]
     },
     "metadata": {},
     "output_type": "display_data"
    },
    {
     "data": {
      "text/html": [
       "Run data is saved locally in <code>/workspaces/data-science-projects/house-price-prediction/Models/tensorflow/wandb/run-20220314_025234-w83tal63</code>"
      ],
      "text/plain": [
       "<IPython.core.display.HTML object>"
      ]
     },
     "metadata": {},
     "output_type": "display_data"
    },
    {
     "data": {
      "text/html": [
       "Syncing run <strong><a href=\"https://wandb.ai/luiscostigan/house-price-prediction/runs/w83tal63\" target=\"_blank\">fragrant-sweep-3</a></strong> to <a href=\"https://wandb.ai/luiscostigan/house-price-prediction\" target=\"_blank\">Weights & Biases</a> (<a href=\"https://wandb.me/run\" target=\"_blank\">docs</a>)<br/>Sweep page:  <a href=\"https://wandb.ai/luiscostigan/house-price-prediction/sweeps/e8odal49\" target=\"_blank\">https://wandb.ai/luiscostigan/house-price-prediction/sweeps/e8odal49</a>"
      ],
      "text/plain": [
       "<IPython.core.display.HTML object>"
      ]
     },
     "metadata": {},
     "output_type": "display_data"
    },
    {
     "name": "stdout",
     "output_type": "stream",
     "text": [
      "37/37 [==============================] - 0s 5ms/step - loss: 0.0855 - root_mean_squared_error: 0.1141\n",
      "Score for fold 4: loss of 0.08545583486557007; root_mean_squared_error of 0.11414212733507156\n",
      "------------------------------------------------------------------------\n",
      "Score per fold\n",
      "------------------------------------------------------------------------\n",
      "> Fold 1 - Loss: 0.0846887156367302 - RMSE: 0.11743402481079102\n",
      "------------------------------------------------------------------------\n",
      "------------------------------------------------------------------------\n",
      "> Fold 2 - Loss: 0.07618991285562515 - RMSE: 0.10891823470592499\n",
      "------------------------------------------------------------------------\n",
      "------------------------------------------------------------------------\n",
      "> Fold 3 - Loss: 0.07979454100131989 - RMSE: 0.11751759797334671\n",
      "------------------------------------------------------------------------\n",
      "------------------------------------------------------------------------\n",
      "> Fold 4 - Loss: 0.08545583486557007 - RMSE: 0.11414212733507156\n",
      "------------------------------------------------------------------------\n",
      "Average scores for all folds:\n",
      "> RMSE: 0.11450299620628357 (+- 0.0034999478514871596)\n",
      "> Loss: 0.08153225108981133\n",
      "------------------------------------------------------------------------\n",
      "\n"
     ]
    },
    {
     "data": {
      "text/html": [
       "Waiting for W&B process to finish... <strong style=\"color:green\">(success).</strong>"
      ],
      "text/plain": [
       "<IPython.core.display.HTML object>"
      ]
     },
     "metadata": {},
     "output_type": "display_data"
    },
    {
     "data": {
      "application/vnd.jupyter.widget-view+json": {
       "model_id": "542aff8836574814a7d339b4f6c794a9",
       "version_major": 2,
       "version_minor": 0
      },
      "text/plain": [
       "VBox(children=(Label(value='1.548 MB of 110.800 MB uploaded (0.000 MB deduped)\\r'), FloatProgress(value=0.0139…"
      ]
     },
     "metadata": {},
     "output_type": "display_data"
    },
    {
     "data": {
      "text/html": [
       "<style>\n",
       "    table.wandb td:nth-child(1) { padding: 0 10px; text-align: right }\n",
       "    .wandb-row { display: flex; flex-direction: row; flex-wrap: wrap; width: 100% }\n",
       "    .wandb-col { display: flex; flex-direction: column; flex-basis: 100%; flex: 1; padding: 10px; }\n",
       "    </style>\n",
       "<div class=\"wandb-row\"><div class=\"wandb-col\"><h3>Run history:</h3><br/><table class=\"wandb\"><tr><td>Mean Validation Loss (all folds)</td><td>▁</td></tr><tr><td>Mean Validation RMSE (all folds)</td><td>▁</td></tr><tr><td>epoch</td><td>▁▁▁▁▂▂▂▂▂▃▃▃▃▃▃▄▄▄▄▄▅▅▅▅▅▅▆▆▆▆▆▆▇▇▇▇▇███</td></tr><tr><td>loss</td><td>█▄▃▃▂▂▂▂▂▂▂▂▂▂▂▂▂▁▁▁▁▁▁▂▁▁▁▁▁▁▁▁▁▁▁▁▁▁▁▁</td></tr><tr><td>root_mean_squared_error</td><td>█▅▄▄▄▃▃▃▂▃▂▂▂▂▂▂▂▂▂▂▂▂▂▂▂▂▂▂▂▂▂▂▁▁▁▁▁▁▁▁</td></tr><tr><td>val_loss</td><td>██▄▃▃▄▂▂▂▂▂▂▂▂▂▂▂▂▂▂▁▁▂▁▂▁▂▁▁▁▁▂▁▁▁▁▁▁▁▁</td></tr><tr><td>val_root_mean_squared_error</td><td>▅█▄▃▃▅▂▂▃▂▂▂▂▂▂▂▂▂▂▂▂▂▂▁▂▂▂▁▁▁▁▂▁▁▁▁▁▁▁▁</td></tr></table><br/></div><div class=\"wandb-col\"><h3>Run summary:</h3><br/><table class=\"wandb\"><tr><td>Mean Validation Loss (all folds)</td><td>0.08153</td></tr><tr><td>Mean Validation RMSE (all folds)</td><td>0.1145</td></tr><tr><td>best_epoch</td><td>148</td></tr><tr><td>best_val_loss</td><td>0.07243</td></tr><tr><td>epoch</td><td>149</td></tr><tr><td>loss</td><td>0.08682</td></tr><tr><td>root_mean_squared_error</td><td>0.12803</td></tr><tr><td>val_loss</td><td>0.08546</td></tr><tr><td>val_root_mean_squared_error</td><td>0.11415</td></tr></table><br/></div></div>"
      ],
      "text/plain": [
       "<IPython.core.display.HTML object>"
      ]
     },
     "metadata": {},
     "output_type": "display_data"
    },
    {
     "data": {
      "text/html": [
       "Synced <strong style=\"color:#cdcd00\">fragrant-sweep-3</strong>: <a href=\"https://wandb.ai/luiscostigan/house-price-prediction/runs/w83tal63\" target=\"_blank\">https://wandb.ai/luiscostigan/house-price-prediction/runs/w83tal63</a><br/>Synced 5 W&B file(s), 0 media file(s), 0 artifact file(s) and 1 other file(s)"
      ],
      "text/plain": [
       "<IPython.core.display.HTML object>"
      ]
     },
     "metadata": {},
     "output_type": "display_data"
    },
    {
     "data": {
      "text/html": [
       "Find logs at: <code>./wandb/run-20220314_025234-w83tal63/logs</code>"
      ],
      "text/plain": [
       "<IPython.core.display.HTML object>"
      ]
     },
     "metadata": {},
     "output_type": "display_data"
    },
    {
     "data": {
      "text/html": [
       "Tracking run with wandb version 0.12.11"
      ],
      "text/plain": [
       "<IPython.core.display.HTML object>"
      ]
     },
     "metadata": {},
     "output_type": "display_data"
    },
    {
     "data": {
      "text/html": [
       "Run data is saved locally in <code>/workspaces/data-science-projects/house-price-prediction/Models/tensorflow/wandb/run-20220314_025524-w83tal63</code>"
      ],
      "text/plain": [
       "<IPython.core.display.HTML object>"
      ]
     },
     "metadata": {},
     "output_type": "display_data"
    },
    {
     "data": {
      "text/html": [
       "Syncing run <strong><a href=\"https://wandb.ai/luiscostigan/house-price-prediction/runs/w83tal63\" target=\"_blank\">fragrant-sweep-3</a></strong> to <a href=\"https://wandb.ai/luiscostigan/house-price-prediction\" target=\"_blank\">Weights & Biases</a> (<a href=\"https://wandb.me/run\" target=\"_blank\">docs</a>)<br/>Sweep page:  <a href=\"https://wandb.ai/luiscostigan/house-price-prediction/sweeps/e8odal49\" target=\"_blank\">https://wandb.ai/luiscostigan/house-price-prediction/sweeps/e8odal49</a>"
      ],
      "text/plain": [
       "<IPython.core.display.HTML object>"
      ]
     },
     "metadata": {},
     "output_type": "display_data"
    },
    {
     "name": "stdout",
     "output_type": "stream",
     "text": [
      "37/37 [==============================] - 0s 5ms/step - loss: 0.0950 - root_mean_squared_error: 0.1256\n",
      "Score for fold 5: loss of 0.09500935673713684; root_mean_squared_error of 0.12563714385032654\n",
      "------------------------------------------------------------------------\n",
      "Score per fold\n",
      "------------------------------------------------------------------------\n",
      "> Fold 1 - Loss: 0.0846887156367302 - RMSE: 0.11743402481079102\n",
      "------------------------------------------------------------------------\n",
      "------------------------------------------------------------------------\n",
      "> Fold 2 - Loss: 0.07618991285562515 - RMSE: 0.10891823470592499\n",
      "------------------------------------------------------------------------\n",
      "------------------------------------------------------------------------\n",
      "> Fold 3 - Loss: 0.07979454100131989 - RMSE: 0.11751759797334671\n",
      "------------------------------------------------------------------------\n",
      "------------------------------------------------------------------------\n",
      "> Fold 4 - Loss: 0.08545583486557007 - RMSE: 0.11414212733507156\n",
      "------------------------------------------------------------------------\n",
      "------------------------------------------------------------------------\n",
      "> Fold 5 - Loss: 0.09500935673713684 - RMSE: 0.12563714385032654\n",
      "------------------------------------------------------------------------\n",
      "Average scores for all folds:\n",
      "> RMSE: 0.11672982573509216 (+- 0.005443784251051771)\n",
      "> Loss: 0.08422767221927643\n",
      "------------------------------------------------------------------------\n",
      "\n"
     ]
    },
    {
     "data": {
      "text/html": [
       "Waiting for W&B process to finish... <strong style=\"color:green\">(success).</strong>"
      ],
      "text/plain": [
       "<IPython.core.display.HTML object>"
      ]
     },
     "metadata": {},
     "output_type": "display_data"
    },
    {
     "data": {
      "application/vnd.jupyter.widget-view+json": {
       "model_id": "f2bc443aaaae4dabaed3872a7fd0b1a5",
       "version_major": 2,
       "version_minor": 0
      },
      "text/plain": [
       "VBox(children=(Label(value='3.564 MB of 110.800 MB uploaded (0.000 MB deduped)\\r'), FloatProgress(value=0.0321…"
      ]
     },
     "metadata": {},
     "output_type": "display_data"
    },
    {
     "data": {
      "text/html": [
       "<style>\n",
       "    table.wandb td:nth-child(1) { padding: 0 10px; text-align: right }\n",
       "    .wandb-row { display: flex; flex-direction: row; flex-wrap: wrap; width: 100% }\n",
       "    .wandb-col { display: flex; flex-direction: column; flex-basis: 100%; flex: 1; padding: 10px; }\n",
       "    </style>\n",
       "<div class=\"wandb-row\"><div class=\"wandb-col\"><h3>Run history:</h3><br/><table class=\"wandb\"><tr><td>Mean Validation Loss (all folds)</td><td>▁</td></tr><tr><td>Mean Validation RMSE (all folds)</td><td>▁</td></tr><tr><td>epoch</td><td>▁▁▁▁▂▂▂▂▂▃▃▃▃▃▃▄▄▄▄▄▅▅▅▅▅▅▆▆▆▆▆▆▇▇▇▇▇███</td></tr><tr><td>loss</td><td>█▄▃▃▂▂▂▂▂▂▂▂▂▂▂▂▂▂▁▁▁▁▁▁▁▁▁▁▁▁▁▁▁▁▁▁▁▁▁▁</td></tr><tr><td>root_mean_squared_error</td><td>█▆▅▅▄▄▄▃▃▄▃▃▃▃▂▃▃▃▂▂▂▂▃▃▂▂▂▂▂▂▂▂▁▂▁▁▁▁▁▁</td></tr><tr><td>val_loss</td><td>█▇▄▆▃▂▃▂▂▂▂▂▂▂▂▂▂▂▂▂▂▁▂▁▁▁▁▂▁▁▁▁▁▁▁▁▁▁▁▁</td></tr><tr><td>val_root_mean_squared_error</td><td>▆▇▅█▄▂▄▃▂▂▃▂▃▂▂▂▂▂▂▂▂▂▂▁▁▁▂▂▁▁▁▁▁▁▁▁▁▁▁▁</td></tr></table><br/></div><div class=\"wandb-col\"><h3>Run summary:</h3><br/><table class=\"wandb\"><tr><td>Mean Validation Loss (all folds)</td><td>0.08423</td></tr><tr><td>Mean Validation RMSE (all folds)</td><td>0.11673</td></tr><tr><td>best_epoch</td><td>141</td></tr><tr><td>best_val_loss</td><td>0.07367</td></tr><tr><td>epoch</td><td>149</td></tr><tr><td>loss</td><td>0.08503</td></tr><tr><td>root_mean_squared_error</td><td>0.11871</td></tr><tr><td>val_loss</td><td>0.09498</td></tr><tr><td>val_root_mean_squared_error</td><td>0.12562</td></tr></table><br/></div></div>"
      ],
      "text/plain": [
       "<IPython.core.display.HTML object>"
      ]
     },
     "metadata": {},
     "output_type": "display_data"
    },
    {
     "data": {
      "text/html": [
       "Synced <strong style=\"color:#cdcd00\">fragrant-sweep-3</strong>: <a href=\"https://wandb.ai/luiscostigan/house-price-prediction/runs/w83tal63\" target=\"_blank\">https://wandb.ai/luiscostigan/house-price-prediction/runs/w83tal63</a><br/>Synced 5 W&B file(s), 0 media file(s), 0 artifact file(s) and 1 other file(s)"
      ],
      "text/plain": [
       "<IPython.core.display.HTML object>"
      ]
     },
     "metadata": {},
     "output_type": "display_data"
    },
    {
     "data": {
      "text/html": [
       "Find logs at: <code>./wandb/run-20220314_025524-w83tal63/logs</code>"
      ],
      "text/plain": [
       "<IPython.core.display.HTML object>"
      ]
     },
     "metadata": {},
     "output_type": "display_data"
    },
    {
     "name": "stderr",
     "output_type": "stream",
     "text": [
      "\u001b[34m\u001b[1mwandb\u001b[0m: Agent Starting Run: zvfav1s1 with config:\n",
      "\u001b[34m\u001b[1mwandb\u001b[0m: \tbatch_size: 32\n",
      "\u001b[34m\u001b[1mwandb\u001b[0m: \tbias1: 0.01\n",
      "\u001b[34m\u001b[1mwandb\u001b[0m: \tbias2: 0.01\n",
      "\u001b[34m\u001b[1mwandb\u001b[0m: \tdense1: 4096\n",
      "\u001b[34m\u001b[1mwandb\u001b[0m: \tdense2: 1024\n",
      "\u001b[34m\u001b[1mwandb\u001b[0m: \tdropout1: 0.3587939794684356\n",
      "\u001b[34m\u001b[1mwandb\u001b[0m: \tepochs: 50\n",
      "\u001b[34m\u001b[1mwandb\u001b[0m: \tlearning_rate: 0.01\n"
     ]
    },
    {
     "data": {
      "text/html": [
       "Tracking run with wandb version 0.12.11"
      ],
      "text/plain": [
       "<IPython.core.display.HTML object>"
      ]
     },
     "metadata": {},
     "output_type": "display_data"
    },
    {
     "data": {
      "text/html": [
       "Run data is saved locally in <code>/workspaces/data-science-projects/house-price-prediction/Models/tensorflow/wandb/run-20220314_025809-zvfav1s1</code>"
      ],
      "text/plain": [
       "<IPython.core.display.HTML object>"
      ]
     },
     "metadata": {},
     "output_type": "display_data"
    },
    {
     "data": {
      "text/html": [
       "Syncing run <strong><a href=\"https://wandb.ai/luiscostigan/house-price-prediction/runs/zvfav1s1\" target=\"_blank\">denim-sweep-4</a></strong> to <a href=\"https://wandb.ai/luiscostigan/house-price-prediction\" target=\"_blank\">Weights & Biases</a> (<a href=\"https://wandb.me/run\" target=\"_blank\">docs</a>)<br/>Sweep page:  <a href=\"https://wandb.ai/luiscostigan/house-price-prediction/sweeps/e8odal49\" target=\"_blank\">https://wandb.ai/luiscostigan/house-price-prediction/sweeps/e8odal49</a>"
      ],
      "text/plain": [
       "<IPython.core.display.HTML object>"
      ]
     },
     "metadata": {},
     "output_type": "display_data"
    },
    {
     "name": "stdout",
     "output_type": "stream",
     "text": [
      "37/37 [==============================] - 0s 3ms/step - loss: 0.1686 - root_mean_squared_error: 0.1628\n",
      "Score for fold 1: loss of 0.16857755184173584; root_mean_squared_error of 0.1627967208623886\n",
      "------------------------------------------------------------------------\n",
      "Score per fold\n",
      "------------------------------------------------------------------------\n",
      "> Fold 1 - Loss: 0.16857755184173584 - RMSE: 0.1627967208623886\n",
      "------------------------------------------------------------------------\n",
      "Average scores for all folds:\n",
      "> RMSE: 0.1627967208623886 (+- 0.0)\n",
      "> Loss: 0.16857755184173584\n",
      "------------------------------------------------------------------------\n",
      "\n"
     ]
    },
    {
     "data": {
      "text/html": [
       "Waiting for W&B process to finish... <strong style=\"color:green\">(success).</strong>"
      ],
      "text/plain": [
       "<IPython.core.display.HTML object>"
      ]
     },
     "metadata": {},
     "output_type": "display_data"
    },
    {
     "data": {
      "application/vnd.jupyter.widget-view+json": {
       "model_id": "3e2c66e673224a7e974498fbc9aa2254",
       "version_major": 2,
       "version_minor": 0
      },
      "text/plain": [
       "VBox(children=(Label(value='42.603 MB of 62.776 MB uploaded (0.000 MB deduped)\\r'), FloatProgress(value=0.6786…"
      ]
     },
     "metadata": {},
     "output_type": "display_data"
    },
    {
     "data": {
      "text/html": [
       "<style>\n",
       "    table.wandb td:nth-child(1) { padding: 0 10px; text-align: right }\n",
       "    .wandb-row { display: flex; flex-direction: row; flex-wrap: wrap; width: 100% }\n",
       "    .wandb-col { display: flex; flex-direction: column; flex-basis: 100%; flex: 1; padding: 10px; }\n",
       "    </style>\n",
       "<div class=\"wandb-row\"><div class=\"wandb-col\"><h3>Run history:</h3><br/><table class=\"wandb\"><tr><td>Mean Validation Loss (all folds)</td><td>▁</td></tr><tr><td>Mean Validation RMSE (all folds)</td><td>▁</td></tr><tr><td>epoch</td><td>▁▁▁▁▂▂▂▂▂▃▃▃▃▃▃▄▄▄▄▄▅▅▅▅▅▅▆▆▆▆▆▆▇▇▇▇▇███</td></tr><tr><td>loss</td><td>█▂▂▂▂▁▁▁▁▁▁▁▁▁▁▁▁▁▁▁▁▁▁▁▁▁▁▁▁▁▁▁▁▁▁▁▁▁▁▁</td></tr><tr><td>root_mean_squared_error</td><td>█▂▁▁▂▁▁▁▁▁▁▁▁▁▁▁▁▁▁▁▁▁▁▁▁▁▁▁▁▁▁▁▁▁▁▁▁▁▁▁</td></tr><tr><td>val_loss</td><td>█▃▂▃▂▂▂▂▂▂▂▂▂▂▂▁▁▁▁▁▁▁▁▁▁▁▁▁▁▁▁▁▁▁▁▁▁▁▁▁</td></tr><tr><td>val_root_mean_squared_error</td><td>▇▃▃█▄▃▄▃▃▃▃▅▅▄▃▂▁▁▁▁▁▁▁▁▁▁▁▁▁▁▁▁▁▁▁▁▁▁▁▁</td></tr></table><br/></div><div class=\"wandb-col\"><h3>Run summary:</h3><br/><table class=\"wandb\"><tr><td>Mean Validation Loss (all folds)</td><td>0.16858</td></tr><tr><td>Mean Validation RMSE (all folds)</td><td>0.1628</td></tr><tr><td>best_epoch</td><td>42</td></tr><tr><td>best_val_loss</td><td>0.1337</td></tr><tr><td>epoch</td><td>49</td></tr><tr><td>loss</td><td>0.23524</td></tr><tr><td>root_mean_squared_error</td><td>0.24696</td></tr><tr><td>val_loss</td><td>0.16858</td></tr><tr><td>val_root_mean_squared_error</td><td>0.1628</td></tr></table><br/></div></div>"
      ],
      "text/plain": [
       "<IPython.core.display.HTML object>"
      ]
     },
     "metadata": {},
     "output_type": "display_data"
    },
    {
     "data": {
      "text/html": [
       "Synced <strong style=\"color:#cdcd00\">denim-sweep-4</strong>: <a href=\"https://wandb.ai/luiscostigan/house-price-prediction/runs/zvfav1s1\" target=\"_blank\">https://wandb.ai/luiscostigan/house-price-prediction/runs/zvfav1s1</a><br/>Synced 5 W&B file(s), 0 media file(s), 0 artifact file(s) and 1 other file(s)"
      ],
      "text/plain": [
       "<IPython.core.display.HTML object>"
      ]
     },
     "metadata": {},
     "output_type": "display_data"
    },
    {
     "data": {
      "text/html": [
       "Find logs at: <code>./wandb/run-20220314_025809-zvfav1s1/logs</code>"
      ],
      "text/plain": [
       "<IPython.core.display.HTML object>"
      ]
     },
     "metadata": {},
     "output_type": "display_data"
    },
    {
     "data": {
      "text/html": [
       "Tracking run with wandb version 0.12.11"
      ],
      "text/plain": [
       "<IPython.core.display.HTML object>"
      ]
     },
     "metadata": {},
     "output_type": "display_data"
    },
    {
     "data": {
      "text/html": [
       "Run data is saved locally in <code>/workspaces/data-science-projects/house-price-prediction/Models/tensorflow/wandb/run-20220314_025857-zvfav1s1</code>"
      ],
      "text/plain": [
       "<IPython.core.display.HTML object>"
      ]
     },
     "metadata": {},
     "output_type": "display_data"
    },
    {
     "data": {
      "text/html": [
       "Syncing run <strong><a href=\"https://wandb.ai/luiscostigan/house-price-prediction/runs/zvfav1s1\" target=\"_blank\">denim-sweep-4</a></strong> to <a href=\"https://wandb.ai/luiscostigan/house-price-prediction\" target=\"_blank\">Weights & Biases</a> (<a href=\"https://wandb.me/run\" target=\"_blank\">docs</a>)<br/>Sweep page:  <a href=\"https://wandb.ai/luiscostigan/house-price-prediction/sweeps/e8odal49\" target=\"_blank\">https://wandb.ai/luiscostigan/house-price-prediction/sweeps/e8odal49</a>"
      ],
      "text/plain": [
       "<IPython.core.display.HTML object>"
      ]
     },
     "metadata": {},
     "output_type": "display_data"
    },
    {
     "name": "stdout",
     "output_type": "stream",
     "text": [
      "37/37 [==============================] - 0s 3ms/step - loss: 0.1595 - root_mean_squared_error: 0.1617\n",
      "Score for fold 2: loss of 0.159547820687294; root_mean_squared_error of 0.1617046743631363\n",
      "------------------------------------------------------------------------\n",
      "Score per fold\n",
      "------------------------------------------------------------------------\n",
      "> Fold 1 - Loss: 0.16857755184173584 - RMSE: 0.1627967208623886\n",
      "------------------------------------------------------------------------\n",
      "------------------------------------------------------------------------\n",
      "> Fold 2 - Loss: 0.159547820687294 - RMSE: 0.1617046743631363\n",
      "------------------------------------------------------------------------\n",
      "Average scores for all folds:\n",
      "> RMSE: 0.16225069761276245 (+- 0.0005460232496261597)\n",
      "> Loss: 0.16406268626451492\n",
      "------------------------------------------------------------------------\n",
      "\n"
     ]
    },
    {
     "data": {
      "text/html": [
       "Waiting for W&B process to finish... <strong style=\"color:green\">(success).</strong>"
      ],
      "text/plain": [
       "<IPython.core.display.HTML object>"
      ]
     },
     "metadata": {},
     "output_type": "display_data"
    },
    {
     "data": {
      "application/vnd.jupyter.widget-view+json": {
       "model_id": "ba373455a031407894db32d72429a339",
       "version_major": 2,
       "version_minor": 0
      },
      "text/plain": [
       "VBox(children=(Label(value='42.696 MB of 62.776 MB uploaded (0.000 MB deduped)\\r'), FloatProgress(value=0.6801…"
      ]
     },
     "metadata": {},
     "output_type": "display_data"
    },
    {
     "data": {
      "text/html": [
       "<style>\n",
       "    table.wandb td:nth-child(1) { padding: 0 10px; text-align: right }\n",
       "    .wandb-row { display: flex; flex-direction: row; flex-wrap: wrap; width: 100% }\n",
       "    .wandb-col { display: flex; flex-direction: column; flex-basis: 100%; flex: 1; padding: 10px; }\n",
       "    </style>\n",
       "<div class=\"wandb-row\"><div class=\"wandb-col\"><h3>Run history:</h3><br/><table class=\"wandb\"><tr><td>Mean Validation Loss (all folds)</td><td>▁</td></tr><tr><td>Mean Validation RMSE (all folds)</td><td>▁</td></tr><tr><td>epoch</td><td>▁▁▁▁▂▂▂▂▂▃▃▃▃▃▃▄▄▄▄▄▅▅▅▅▅▅▆▆▆▆▆▆▇▇▇▇▇███</td></tr><tr><td>loss</td><td>█▂▂▂▁▁▁▁▁▁▁▁▁▁▁▁▁▁▁▁▁▁▁▁▁▁▁▁▁▁▁▁▁▁▁▁▁▁▁▁</td></tr><tr><td>root_mean_squared_error</td><td>█▁▁▁▁▁▁▁▁▁▁▁▁▁▁▁▁▁▁▁▁▁▁▁▁▁▁▁▁▁▁▁▁▁▁▁▁▁▁▁</td></tr><tr><td>val_loss</td><td>█▄▃▂▂▂▂▂▁▂▁▂▁▂▂▁▁▁▁▁▁▁▁▁▁▁▁▁▁▁▁▁▁▁▁▁▁▁▁▁</td></tr><tr><td>val_root_mean_squared_error</td><td>▇█▆▅▄▃▅▅▂▄▂▄▂▄▄▃▁▁▁▁▁▁▁▁▁▁▁▁▁▁▁▁▁▁▁▁▁▁▁▁</td></tr></table><br/></div><div class=\"wandb-col\"><h3>Run summary:</h3><br/><table class=\"wandb\"><tr><td>Mean Validation Loss (all folds)</td><td>0.16406</td></tr><tr><td>Mean Validation RMSE (all folds)</td><td>0.16225</td></tr><tr><td>best_epoch</td><td>24</td></tr><tr><td>best_val_loss</td><td>0.13457</td></tr><tr><td>epoch</td><td>49</td></tr><tr><td>loss</td><td>0.21368</td></tr><tr><td>root_mean_squared_error</td><td>0.2266</td></tr><tr><td>val_loss</td><td>0.15955</td></tr><tr><td>val_root_mean_squared_error</td><td>0.1617</td></tr></table><br/></div></div>"
      ],
      "text/plain": [
       "<IPython.core.display.HTML object>"
      ]
     },
     "metadata": {},
     "output_type": "display_data"
    },
    {
     "data": {
      "text/html": [
       "Synced <strong style=\"color:#cdcd00\">denim-sweep-4</strong>: <a href=\"https://wandb.ai/luiscostigan/house-price-prediction/runs/zvfav1s1\" target=\"_blank\">https://wandb.ai/luiscostigan/house-price-prediction/runs/zvfav1s1</a><br/>Synced 5 W&B file(s), 0 media file(s), 0 artifact file(s) and 1 other file(s)"
      ],
      "text/plain": [
       "<IPython.core.display.HTML object>"
      ]
     },
     "metadata": {},
     "output_type": "display_data"
    },
    {
     "data": {
      "text/html": [
       "Find logs at: <code>./wandb/run-20220314_025857-zvfav1s1/logs</code>"
      ],
      "text/plain": [
       "<IPython.core.display.HTML object>"
      ]
     },
     "metadata": {},
     "output_type": "display_data"
    },
    {
     "data": {
      "text/html": [
       "Tracking run with wandb version 0.12.11"
      ],
      "text/plain": [
       "<IPython.core.display.HTML object>"
      ]
     },
     "metadata": {},
     "output_type": "display_data"
    },
    {
     "data": {
      "text/html": [
       "Run data is saved locally in <code>/workspaces/data-science-projects/house-price-prediction/Models/tensorflow/wandb/run-20220314_025935-zvfav1s1</code>"
      ],
      "text/plain": [
       "<IPython.core.display.HTML object>"
      ]
     },
     "metadata": {},
     "output_type": "display_data"
    },
    {
     "data": {
      "text/html": [
       "Syncing run <strong><a href=\"https://wandb.ai/luiscostigan/house-price-prediction/runs/zvfav1s1\" target=\"_blank\">denim-sweep-4</a></strong> to <a href=\"https://wandb.ai/luiscostigan/house-price-prediction\" target=\"_blank\">Weights & Biases</a> (<a href=\"https://wandb.me/run\" target=\"_blank\">docs</a>)<br/>Sweep page:  <a href=\"https://wandb.ai/luiscostigan/house-price-prediction/sweeps/e8odal49\" target=\"_blank\">https://wandb.ai/luiscostigan/house-price-prediction/sweeps/e8odal49</a>"
      ],
      "text/plain": [
       "<IPython.core.display.HTML object>"
      ]
     },
     "metadata": {},
     "output_type": "display_data"
    },
    {
     "name": "stdout",
     "output_type": "stream",
     "text": [
      "37/37 [==============================] - 0s 3ms/step - loss: 0.1746 - root_mean_squared_error: 0.1728\n",
      "Score for fold 3: loss of 0.17457714676856995; root_mean_squared_error of 0.17281468212604523\n",
      "------------------------------------------------------------------------\n",
      "Score per fold\n",
      "------------------------------------------------------------------------\n",
      "> Fold 1 - Loss: 0.16857755184173584 - RMSE: 0.1627967208623886\n",
      "------------------------------------------------------------------------\n",
      "------------------------------------------------------------------------\n",
      "> Fold 2 - Loss: 0.159547820687294 - RMSE: 0.1617046743631363\n",
      "------------------------------------------------------------------------\n",
      "------------------------------------------------------------------------\n",
      "> Fold 3 - Loss: 0.17457714676856995 - RMSE: 0.17281468212604523\n",
      "------------------------------------------------------------------------\n",
      "Average scores for all folds:\n",
      "> RMSE: 0.16577202578385672 (+- 0.004999826507307257)\n",
      "> Loss: 0.16756750643253326\n",
      "------------------------------------------------------------------------\n",
      "\n"
     ]
    },
    {
     "data": {
      "text/html": [
       "Waiting for W&B process to finish... <strong style=\"color:green\">(success).</strong>"
      ],
      "text/plain": [
       "<IPython.core.display.HTML object>"
      ]
     },
     "metadata": {},
     "output_type": "display_data"
    },
    {
     "data": {
      "application/vnd.jupyter.widget-view+json": {
       "model_id": "b6c4e67c255a40e2b38c3e25ca174842",
       "version_major": 2,
       "version_minor": 0
      },
      "text/plain": [
       "VBox(children=(Label(value='2.368 MB of 62.776 MB uploaded (0.000 MB deduped)\\r'), FloatProgress(value=0.03772…"
      ]
     },
     "metadata": {},
     "output_type": "display_data"
    },
    {
     "data": {
      "text/html": [
       "<style>\n",
       "    table.wandb td:nth-child(1) { padding: 0 10px; text-align: right }\n",
       "    .wandb-row { display: flex; flex-direction: row; flex-wrap: wrap; width: 100% }\n",
       "    .wandb-col { display: flex; flex-direction: column; flex-basis: 100%; flex: 1; padding: 10px; }\n",
       "    </style>\n",
       "<div class=\"wandb-row\"><div class=\"wandb-col\"><h3>Run history:</h3><br/><table class=\"wandb\"><tr><td>Mean Validation Loss (all folds)</td><td>▁</td></tr><tr><td>Mean Validation RMSE (all folds)</td><td>▁</td></tr><tr><td>epoch</td><td>▁▁▁▁▂▂▂▂▂▃▃▃▃▃▃▄▄▄▄▄▅▅▅▅▅▅▆▆▆▆▆▆▇▇▇▇▇███</td></tr><tr><td>loss</td><td>█▃▂▂▁▁▁▁▁▁▁▁▁▁▁▁▁▁▁▁▁▁▁▁▁▁▁▁▁▁▁▁▁▁▁▁▁▁▁▁</td></tr><tr><td>root_mean_squared_error</td><td>█▁▁▁▁▁▁▁▁▁▁▁▁▁▁▁▁▁▁▁▁▁▁▁▁▁▁▁▁▁▁▁▁▁▁▁▁▁▁▁</td></tr><tr><td>val_loss</td><td>█▃▂▂▂▂▃▂▂▂▂▁▁▁▁▂▁▁▁▁▁▁▁▁▁▁▁▁▁▁▁▁▁▁▁▁▁▁▁▁</td></tr><tr><td>val_root_mean_squared_error</td><td>▅▅▅▆▄▄█▄▃▄▅▃▂▃▃▅▂▁▁▂▂▁▁▁▁▁▁▁▂▁▁▁▁▁▁▁▁▁▁▁</td></tr></table><br/></div><div class=\"wandb-col\"><h3>Run summary:</h3><br/><table class=\"wandb\"><tr><td>Mean Validation Loss (all folds)</td><td>0.16757</td></tr><tr><td>Mean Validation RMSE (all folds)</td><td>0.16577</td></tr><tr><td>best_epoch</td><td>29</td></tr><tr><td>best_val_loss</td><td>0.13961</td></tr><tr><td>epoch</td><td>49</td></tr><tr><td>loss</td><td>0.21207</td></tr><tr><td>root_mean_squared_error</td><td>0.22624</td></tr><tr><td>val_loss</td><td>0.17458</td></tr><tr><td>val_root_mean_squared_error</td><td>0.17281</td></tr></table><br/></div></div>"
      ],
      "text/plain": [
       "<IPython.core.display.HTML object>"
      ]
     },
     "metadata": {},
     "output_type": "display_data"
    },
    {
     "data": {
      "text/html": [
       "Synced <strong style=\"color:#cdcd00\">denim-sweep-4</strong>: <a href=\"https://wandb.ai/luiscostigan/house-price-prediction/runs/zvfav1s1\" target=\"_blank\">https://wandb.ai/luiscostigan/house-price-prediction/runs/zvfav1s1</a><br/>Synced 5 W&B file(s), 0 media file(s), 0 artifact file(s) and 1 other file(s)"
      ],
      "text/plain": [
       "<IPython.core.display.HTML object>"
      ]
     },
     "metadata": {},
     "output_type": "display_data"
    },
    {
     "data": {
      "text/html": [
       "Find logs at: <code>./wandb/run-20220314_025935-zvfav1s1/logs</code>"
      ],
      "text/plain": [
       "<IPython.core.display.HTML object>"
      ]
     },
     "metadata": {},
     "output_type": "display_data"
    },
    {
     "data": {
      "text/html": [
       "Tracking run with wandb version 0.12.11"
      ],
      "text/plain": [
       "<IPython.core.display.HTML object>"
      ]
     },
     "metadata": {},
     "output_type": "display_data"
    },
    {
     "data": {
      "text/html": [
       "Run data is saved locally in <code>/workspaces/data-science-projects/house-price-prediction/Models/tensorflow/wandb/run-20220314_030014-zvfav1s1</code>"
      ],
      "text/plain": [
       "<IPython.core.display.HTML object>"
      ]
     },
     "metadata": {},
     "output_type": "display_data"
    },
    {
     "data": {
      "text/html": [
       "Syncing run <strong><a href=\"https://wandb.ai/luiscostigan/house-price-prediction/runs/zvfav1s1\" target=\"_blank\">denim-sweep-4</a></strong> to <a href=\"https://wandb.ai/luiscostigan/house-price-prediction\" target=\"_blank\">Weights & Biases</a> (<a href=\"https://wandb.me/run\" target=\"_blank\">docs</a>)<br/>Sweep page:  <a href=\"https://wandb.ai/luiscostigan/house-price-prediction/sweeps/e8odal49\" target=\"_blank\">https://wandb.ai/luiscostigan/house-price-prediction/sweeps/e8odal49</a>"
      ],
      "text/plain": [
       "<IPython.core.display.HTML object>"
      ]
     },
     "metadata": {},
     "output_type": "display_data"
    },
    {
     "name": "stdout",
     "output_type": "stream",
     "text": [
      "37/37 [==============================] - 0s 3ms/step - loss: 0.2217 - root_mean_squared_error: 0.2377\n",
      "Score for fold 4: loss of 0.22165517508983612; root_mean_squared_error of 0.23772463202476501\n",
      "------------------------------------------------------------------------\n",
      "Score per fold\n",
      "------------------------------------------------------------------------\n",
      "> Fold 1 - Loss: 0.16857755184173584 - RMSE: 0.1627967208623886\n",
      "------------------------------------------------------------------------\n",
      "------------------------------------------------------------------------\n",
      "> Fold 2 - Loss: 0.159547820687294 - RMSE: 0.1617046743631363\n",
      "------------------------------------------------------------------------\n",
      "------------------------------------------------------------------------\n",
      "> Fold 3 - Loss: 0.17457714676856995 - RMSE: 0.17281468212604523\n",
      "------------------------------------------------------------------------\n",
      "------------------------------------------------------------------------\n",
      "> Fold 4 - Loss: 0.22165517508983612 - RMSE: 0.23772463202476501\n",
      "------------------------------------------------------------------------\n",
      "Average scores for all folds:\n",
      "> RMSE: 0.18376017734408379 (+- 0.03145583393408095)\n",
      "> Loss: 0.18108942359685898\n",
      "------------------------------------------------------------------------\n",
      "\n"
     ]
    },
    {
     "data": {
      "text/html": [
       "Waiting for W&B process to finish... <strong style=\"color:green\">(success).</strong>"
      ],
      "text/plain": [
       "<IPython.core.display.HTML object>"
      ]
     },
     "metadata": {},
     "output_type": "display_data"
    },
    {
     "data": {
      "application/vnd.jupyter.widget-view+json": {
       "model_id": "0306bc1097cf4732878de0ab8921f251",
       "version_major": 2,
       "version_minor": 0
      },
      "text/plain": [
       "VBox(children=(Label(value='1.970 MB of 62.776 MB uploaded (0.000 MB deduped)\\r'), FloatProgress(value=0.03137…"
      ]
     },
     "metadata": {},
     "output_type": "display_data"
    },
    {
     "data": {
      "text/html": [
       "<style>\n",
       "    table.wandb td:nth-child(1) { padding: 0 10px; text-align: right }\n",
       "    .wandb-row { display: flex; flex-direction: row; flex-wrap: wrap; width: 100% }\n",
       "    .wandb-col { display: flex; flex-direction: column; flex-basis: 100%; flex: 1; padding: 10px; }\n",
       "    </style>\n",
       "<div class=\"wandb-row\"><div class=\"wandb-col\"><h3>Run history:</h3><br/><table class=\"wandb\"><tr><td>Mean Validation Loss (all folds)</td><td>▁</td></tr><tr><td>Mean Validation RMSE (all folds)</td><td>▁</td></tr><tr><td>epoch</td><td>▁▁▁▁▂▂▂▂▂▃▃▃▃▃▃▄▄▄▄▄▅▅▅▅▅▅▆▆▆▆▆▆▇▇▇▇▇███</td></tr><tr><td>loss</td><td>█▂▂▂▁▁▁▁▁▁▁▁▁▁▁▁▁▁▁▁▁▁▁▁▁▁▁▁▁▁▁▁▁▁▁▁▁▁▁▁</td></tr><tr><td>root_mean_squared_error</td><td>█▁▁▁▁▁▁▁▁▁▁▁▁▁▁▁▁▁▁▁▁▁▁▁▁▁▁▁▁▁▁▁▁▁▁▁▁▁▁▁</td></tr><tr><td>val_loss</td><td>█▃▂▂▃▂▂▂▂▂▁▂▁▁▁▂▁▁▁▁▁▁▁▁▁▁▁▁▁▁▁▁▁▁▁▁▁▁▁▁</td></tr><tr><td>val_root_mean_squared_error</td><td>█▄▃▃▆▄▃▄▃▃▂▃▂▂▂▃▂▁▁▁▁▁▁▁▁▁▁▁▁▁▁▁▁▁▁▁▁▁▁▁</td></tr></table><br/></div><div class=\"wandb-col\"><h3>Run summary:</h3><br/><table class=\"wandb\"><tr><td>Mean Validation Loss (all folds)</td><td>0.18109</td></tr><tr><td>Mean Validation RMSE (all folds)</td><td>0.18376</td></tr><tr><td>best_epoch</td><td>23</td></tr><tr><td>best_val_loss</td><td>0.13446</td></tr><tr><td>epoch</td><td>49</td></tr><tr><td>loss</td><td>0.24691</td></tr><tr><td>root_mean_squared_error</td><td>0.25814</td></tr><tr><td>val_loss</td><td>0.22166</td></tr><tr><td>val_root_mean_squared_error</td><td>0.23772</td></tr></table><br/></div></div>"
      ],
      "text/plain": [
       "<IPython.core.display.HTML object>"
      ]
     },
     "metadata": {},
     "output_type": "display_data"
    },
    {
     "data": {
      "text/html": [
       "Synced <strong style=\"color:#cdcd00\">denim-sweep-4</strong>: <a href=\"https://wandb.ai/luiscostigan/house-price-prediction/runs/zvfav1s1\" target=\"_blank\">https://wandb.ai/luiscostigan/house-price-prediction/runs/zvfav1s1</a><br/>Synced 5 W&B file(s), 0 media file(s), 0 artifact file(s) and 1 other file(s)"
      ],
      "text/plain": [
       "<IPython.core.display.HTML object>"
      ]
     },
     "metadata": {},
     "output_type": "display_data"
    },
    {
     "data": {
      "text/html": [
       "Find logs at: <code>./wandb/run-20220314_030014-zvfav1s1/logs</code>"
      ],
      "text/plain": [
       "<IPython.core.display.HTML object>"
      ]
     },
     "metadata": {},
     "output_type": "display_data"
    },
    {
     "data": {
      "text/html": [
       "Tracking run with wandb version 0.12.11"
      ],
      "text/plain": [
       "<IPython.core.display.HTML object>"
      ]
     },
     "metadata": {},
     "output_type": "display_data"
    },
    {
     "data": {
      "text/html": [
       "Run data is saved locally in <code>/workspaces/data-science-projects/house-price-prediction/Models/tensorflow/wandb/run-20220314_030052-zvfav1s1</code>"
      ],
      "text/plain": [
       "<IPython.core.display.HTML object>"
      ]
     },
     "metadata": {},
     "output_type": "display_data"
    },
    {
     "data": {
      "text/html": [
       "Syncing run <strong><a href=\"https://wandb.ai/luiscostigan/house-price-prediction/runs/zvfav1s1\" target=\"_blank\">denim-sweep-4</a></strong> to <a href=\"https://wandb.ai/luiscostigan/house-price-prediction\" target=\"_blank\">Weights & Biases</a> (<a href=\"https://wandb.me/run\" target=\"_blank\">docs</a>)<br/>Sweep page:  <a href=\"https://wandb.ai/luiscostigan/house-price-prediction/sweeps/e8odal49\" target=\"_blank\">https://wandb.ai/luiscostigan/house-price-prediction/sweeps/e8odal49</a>"
      ],
      "text/plain": [
       "<IPython.core.display.HTML object>"
      ]
     },
     "metadata": {},
     "output_type": "display_data"
    },
    {
     "name": "stdout",
     "output_type": "stream",
     "text": [
      "37/37 [==============================] - 0s 3ms/step - loss: 0.1636 - root_mean_squared_error: 0.1576\n",
      "Score for fold 5: loss of 0.16356201469898224; root_mean_squared_error of 0.15762178599834442\n",
      "------------------------------------------------------------------------\n",
      "Score per fold\n",
      "------------------------------------------------------------------------\n",
      "> Fold 1 - Loss: 0.16857755184173584 - RMSE: 0.1627967208623886\n",
      "------------------------------------------------------------------------\n",
      "------------------------------------------------------------------------\n",
      "> Fold 2 - Loss: 0.159547820687294 - RMSE: 0.1617046743631363\n",
      "------------------------------------------------------------------------\n",
      "------------------------------------------------------------------------\n",
      "> Fold 3 - Loss: 0.17457714676856995 - RMSE: 0.17281468212604523\n",
      "------------------------------------------------------------------------\n",
      "------------------------------------------------------------------------\n",
      "> Fold 4 - Loss: 0.22165517508983612 - RMSE: 0.23772463202476501\n",
      "------------------------------------------------------------------------\n",
      "------------------------------------------------------------------------\n",
      "> Fold 5 - Loss: 0.16356201469898224 - RMSE: 0.15762178599834442\n",
      "------------------------------------------------------------------------\n",
      "Average scores for all folds:\n",
      "> RMSE: 0.1785324990749359 (+- 0.0300148308529911)\n",
      "> Loss: 0.17758394181728362\n",
      "------------------------------------------------------------------------\n",
      "\n"
     ]
    },
    {
     "data": {
      "text/html": [
       "Waiting for W&B process to finish... <strong style=\"color:green\">(success).</strong>"
      ],
      "text/plain": [
       "<IPython.core.display.HTML object>"
      ]
     },
     "metadata": {},
     "output_type": "display_data"
    },
    {
     "data": {
      "application/vnd.jupyter.widget-view+json": {
       "model_id": "8d0d6299d5754acc99b8f8c4ea6639e8",
       "version_major": 2,
       "version_minor": 0
      },
      "text/plain": [
       "VBox(children=(Label(value='0.001 MB of 62.776 MB uploaded (0.000 MB deduped)\\r'), FloatProgress(value=1.66804…"
      ]
     },
     "metadata": {},
     "output_type": "display_data"
    },
    {
     "data": {
      "text/html": [
       "<style>\n",
       "    table.wandb td:nth-child(1) { padding: 0 10px; text-align: right }\n",
       "    .wandb-row { display: flex; flex-direction: row; flex-wrap: wrap; width: 100% }\n",
       "    .wandb-col { display: flex; flex-direction: column; flex-basis: 100%; flex: 1; padding: 10px; }\n",
       "    </style>\n",
       "<div class=\"wandb-row\"><div class=\"wandb-col\"><h3>Run history:</h3><br/><table class=\"wandb\"><tr><td>Mean Validation Loss (all folds)</td><td>▁</td></tr><tr><td>Mean Validation RMSE (all folds)</td><td>▁</td></tr><tr><td>epoch</td><td>▁▁▁▁▂▂▂▂▂▃▃▃▃▃▃▄▄▄▄▄▅▅▅▅▅▅▆▆▆▆▆▆▇▇▇▇▇███</td></tr><tr><td>loss</td><td>█▃▂▂▁▁▁▁▁▁▁▁▁▁▁▁▁▁▁▁▁▁▁▁▁▁▁▁▁▁▁▁▁▁▁▁▁▁▁▁</td></tr><tr><td>root_mean_squared_error</td><td>█▁▁▁▁▁▁▁▁▁▁▁▁▁▁▁▁▁▁▁▁▁▁▁▁▁▁▁▁▁▁▁▁▁▁▁▁▁▁▁</td></tr><tr><td>val_loss</td><td>█▃▄▂▂▂▂▁▁▂▁▂▂▁▁▁▁▁▁▁▁▁▁▁▁▁▁▁▁▁▁▁▁▁▁▁▁▁▁▁</td></tr><tr><td>val_root_mean_squared_error</td><td>▄▄█▃▃▃▅▂▂▆▂▄▃▂▁▁▁▁▁▁▁▁▁▁▁▁▁▁▁▁▁▁▁▁▁▁▁▂▁▁</td></tr></table><br/></div><div class=\"wandb-col\"><h3>Run summary:</h3><br/><table class=\"wandb\"><tr><td>Mean Validation Loss (all folds)</td><td>0.17758</td></tr><tr><td>Mean Validation RMSE (all folds)</td><td>0.17853</td></tr><tr><td>best_epoch</td><td>29</td></tr><tr><td>best_val_loss</td><td>0.12297</td></tr><tr><td>epoch</td><td>49</td></tr><tr><td>loss</td><td>0.20891</td></tr><tr><td>root_mean_squared_error</td><td>0.20912</td></tr><tr><td>val_loss</td><td>0.16356</td></tr><tr><td>val_root_mean_squared_error</td><td>0.15762</td></tr></table><br/></div></div>"
      ],
      "text/plain": [
       "<IPython.core.display.HTML object>"
      ]
     },
     "metadata": {},
     "output_type": "display_data"
    },
    {
     "data": {
      "text/html": [
       "Synced <strong style=\"color:#cdcd00\">denim-sweep-4</strong>: <a href=\"https://wandb.ai/luiscostigan/house-price-prediction/runs/zvfav1s1\" target=\"_blank\">https://wandb.ai/luiscostigan/house-price-prediction/runs/zvfav1s1</a><br/>Synced 5 W&B file(s), 0 media file(s), 0 artifact file(s) and 1 other file(s)"
      ],
      "text/plain": [
       "<IPython.core.display.HTML object>"
      ]
     },
     "metadata": {},
     "output_type": "display_data"
    },
    {
     "data": {
      "text/html": [
       "Find logs at: <code>./wandb/run-20220314_030052-zvfav1s1/logs</code>"
      ],
      "text/plain": [
       "<IPython.core.display.HTML object>"
      ]
     },
     "metadata": {},
     "output_type": "display_data"
    },
    {
     "name": "stderr",
     "output_type": "stream",
     "text": [
      "\u001b[34m\u001b[1mwandb\u001b[0m: Agent Starting Run: bljc2joj with config:\n",
      "\u001b[34m\u001b[1mwandb\u001b[0m: \tbatch_size: 8\n",
      "\u001b[34m\u001b[1mwandb\u001b[0m: \tbias1: 0.01\n",
      "\u001b[34m\u001b[1mwandb\u001b[0m: \tbias2: 0.001\n",
      "\u001b[34m\u001b[1mwandb\u001b[0m: \tdense1: 4096\n",
      "\u001b[34m\u001b[1mwandb\u001b[0m: \tdense2: 4096\n",
      "\u001b[34m\u001b[1mwandb\u001b[0m: \tdropout1: 0.18031908594800333\n",
      "\u001b[34m\u001b[1mwandb\u001b[0m: \tepochs: 150\n",
      "\u001b[34m\u001b[1mwandb\u001b[0m: \tlearning_rate: 0.001\n"
     ]
    },
    {
     "data": {
      "text/html": [
       "Tracking run with wandb version 0.12.11"
      ],
      "text/plain": [
       "<IPython.core.display.HTML object>"
      ]
     },
     "metadata": {},
     "output_type": "display_data"
    },
    {
     "data": {
      "text/html": [
       "Run data is saved locally in <code>/workspaces/data-science-projects/house-price-prediction/Models/tensorflow/wandb/run-20220314_030128-bljc2joj</code>"
      ],
      "text/plain": [
       "<IPython.core.display.HTML object>"
      ]
     },
     "metadata": {},
     "output_type": "display_data"
    },
    {
     "data": {
      "text/html": [
       "Syncing run <strong><a href=\"https://wandb.ai/luiscostigan/house-price-prediction/runs/bljc2joj\" target=\"_blank\">zesty-sweep-5</a></strong> to <a href=\"https://wandb.ai/luiscostigan/house-price-prediction\" target=\"_blank\">Weights & Biases</a> (<a href=\"https://wandb.me/run\" target=\"_blank\">docs</a>)<br/>Sweep page:  <a href=\"https://wandb.ai/luiscostigan/house-price-prediction/sweeps/e8odal49\" target=\"_blank\">https://wandb.ai/luiscostigan/house-price-prediction/sweeps/e8odal49</a>"
      ],
      "text/plain": [
       "<IPython.core.display.HTML object>"
      ]
     },
     "metadata": {},
     "output_type": "display_data"
    },
    {
     "name": "stdout",
     "output_type": "stream",
     "text": [
      "37/37 [==============================] - 0s 5ms/step - loss: 0.0962 - root_mean_squared_error: 0.1354\n",
      "Score for fold 1: loss of 0.09617645293474197; root_mean_squared_error of 0.13539163768291473\n",
      "------------------------------------------------------------------------\n",
      "Score per fold\n",
      "------------------------------------------------------------------------\n",
      "> Fold 1 - Loss: 0.09617645293474197 - RMSE: 0.13539163768291473\n",
      "------------------------------------------------------------------------\n",
      "Average scores for all folds:\n",
      "> RMSE: 0.13539163768291473 (+- 0.0)\n",
      "> Loss: 0.09617645293474197\n",
      "------------------------------------------------------------------------\n",
      "\n"
     ]
    },
    {
     "data": {
      "text/html": [
       "Waiting for W&B process to finish... <strong style=\"color:green\">(success).</strong>"
      ],
      "text/plain": [
       "<IPython.core.display.HTML object>"
      ]
     },
     "metadata": {},
     "output_type": "display_data"
    },
    {
     "data": {
      "application/vnd.jupyter.widget-view+json": {
       "model_id": "55aae85bd80d4046b0111a67345a336f",
       "version_major": 2,
       "version_minor": 0
      },
      "text/plain": [
       "VBox(children=(Label(value='2.407 MB of 206.847 MB uploaded (0.000 MB deduped)\\r'), FloatProgress(value=0.0116…"
      ]
     },
     "metadata": {},
     "output_type": "display_data"
    },
    {
     "data": {
      "text/html": [
       "<style>\n",
       "    table.wandb td:nth-child(1) { padding: 0 10px; text-align: right }\n",
       "    .wandb-row { display: flex; flex-direction: row; flex-wrap: wrap; width: 100% }\n",
       "    .wandb-col { display: flex; flex-direction: column; flex-basis: 100%; flex: 1; padding: 10px; }\n",
       "    </style>\n",
       "<div class=\"wandb-row\"><div class=\"wandb-col\"><h3>Run history:</h3><br/><table class=\"wandb\"><tr><td>Mean Validation Loss (all folds)</td><td>▁</td></tr><tr><td>Mean Validation RMSE (all folds)</td><td>▁</td></tr><tr><td>epoch</td><td>▁▁▁▁▂▂▂▂▂▃▃▃▃▃▃▄▄▄▄▄▅▅▅▅▅▅▆▆▆▆▆▆▇▇▇▇▇███</td></tr><tr><td>loss</td><td>█▅▄▃▃▃▃▃▃▃▃▃▃▃▃▂▂▂▂▂▂▁▁▁▁▁▁▁▁▁▁▁▁▁▁▁▁▁▁▁</td></tr><tr><td>root_mean_squared_error</td><td>█▇▆▅▅▅▅▅▅▅▅▅▅▄▅▄▄▄▄▃▃▂▁▁▁▁▁▁▁▁▁▁▁▁▁▁▁▁▁▁</td></tr><tr><td>val_loss</td><td>█▅▆▃▃▃▃▄▃▃▃▂▃▄▂▂▂▂▄▂▂▁▁▁▁▁▁▁▁▁▁▁▁▁▁▁▁▁▁▁</td></tr><tr><td>val_root_mean_squared_error</td><td>▆▅█▄▄▄▃▅▃▄▄▃▃▅▃▃▃▃▅▂▂▂▂▂▁▁▂▂▁▁▁▁▁▁▁▁▁▁▁▁</td></tr></table><br/></div><div class=\"wandb-col\"><h3>Run summary:</h3><br/><table class=\"wandb\"><tr><td>Mean Validation Loss (all folds)</td><td>0.09618</td></tr><tr><td>Mean Validation RMSE (all folds)</td><td>0.13539</td></tr><tr><td>best_epoch</td><td>145</td></tr><tr><td>best_val_loss</td><td>0.09397</td></tr><tr><td>epoch</td><td>149</td></tr><tr><td>loss</td><td>0.1247</td></tr><tr><td>root_mean_squared_error</td><td>0.17477</td></tr><tr><td>val_loss</td><td>0.09618</td></tr><tr><td>val_root_mean_squared_error</td><td>0.13539</td></tr></table><br/></div></div>"
      ],
      "text/plain": [
       "<IPython.core.display.HTML object>"
      ]
     },
     "metadata": {},
     "output_type": "display_data"
    },
    {
     "data": {
      "text/html": [
       "Synced <strong style=\"color:#cdcd00\">zesty-sweep-5</strong>: <a href=\"https://wandb.ai/luiscostigan/house-price-prediction/runs/bljc2joj\" target=\"_blank\">https://wandb.ai/luiscostigan/house-price-prediction/runs/bljc2joj</a><br/>Synced 5 W&B file(s), 0 media file(s), 0 artifact file(s) and 1 other file(s)"
      ],
      "text/plain": [
       "<IPython.core.display.HTML object>"
      ]
     },
     "metadata": {},
     "output_type": "display_data"
    },
    {
     "data": {
      "text/html": [
       "Find logs at: <code>./wandb/run-20220314_030128-bljc2joj/logs</code>"
      ],
      "text/plain": [
       "<IPython.core.display.HTML object>"
      ]
     },
     "metadata": {},
     "output_type": "display_data"
    },
    {
     "data": {
      "text/html": [
       "Tracking run with wandb version 0.12.11"
      ],
      "text/plain": [
       "<IPython.core.display.HTML object>"
      ]
     },
     "metadata": {},
     "output_type": "display_data"
    },
    {
     "data": {
      "text/html": [
       "Run data is saved locally in <code>/workspaces/data-science-projects/house-price-prediction/Models/tensorflow/wandb/run-20220314_030554-bljc2joj</code>"
      ],
      "text/plain": [
       "<IPython.core.display.HTML object>"
      ]
     },
     "metadata": {},
     "output_type": "display_data"
    },
    {
     "data": {
      "text/html": [
       "Syncing run <strong><a href=\"https://wandb.ai/luiscostigan/house-price-prediction/runs/bljc2joj\" target=\"_blank\">zesty-sweep-5</a></strong> to <a href=\"https://wandb.ai/luiscostigan/house-price-prediction\" target=\"_blank\">Weights & Biases</a> (<a href=\"https://wandb.me/run\" target=\"_blank\">docs</a>)<br/>Sweep page:  <a href=\"https://wandb.ai/luiscostigan/house-price-prediction/sweeps/e8odal49\" target=\"_blank\">https://wandb.ai/luiscostigan/house-price-prediction/sweeps/e8odal49</a>"
      ],
      "text/plain": [
       "<IPython.core.display.HTML object>"
      ]
     },
     "metadata": {},
     "output_type": "display_data"
    },
    {
     "name": "stdout",
     "output_type": "stream",
     "text": [
      "37/37 [==============================] - 0s 6ms/step - loss: 0.1348 - root_mean_squared_error: 0.1544\n",
      "Score for fold 2: loss of 0.1347762644290924; root_mean_squared_error of 0.15441320836544037\n",
      "------------------------------------------------------------------------\n",
      "Score per fold\n",
      "------------------------------------------------------------------------\n",
      "> Fold 1 - Loss: 0.09617645293474197 - RMSE: 0.13539163768291473\n",
      "------------------------------------------------------------------------\n",
      "------------------------------------------------------------------------\n",
      "> Fold 2 - Loss: 0.1347762644290924 - RMSE: 0.15441320836544037\n",
      "------------------------------------------------------------------------\n",
      "Average scores for all folds:\n",
      "> RMSE: 0.14490242302417755 (+- 0.009510785341262817)\n",
      "> Loss: 0.11547635868191719\n",
      "------------------------------------------------------------------------\n",
      "\n"
     ]
    },
    {
     "data": {
      "text/html": [
       "Waiting for W&B process to finish... <strong style=\"color:green\">(success).</strong>"
      ],
      "text/plain": [
       "<IPython.core.display.HTML object>"
      ]
     },
     "metadata": {},
     "output_type": "display_data"
    },
    {
     "data": {
      "application/vnd.jupyter.widget-view+json": {
       "model_id": "5652cf564eab4e1e9b91aa20fcc4ade5",
       "version_major": 2,
       "version_minor": 0
      },
      "text/plain": [
       "VBox(children=(Label(value='1.603 MB of 206.847 MB uploaded (0.000 MB deduped)\\r'), FloatProgress(value=0.0077…"
      ]
     },
     "metadata": {},
     "output_type": "display_data"
    },
    {
     "data": {
      "text/html": [
       "<style>\n",
       "    table.wandb td:nth-child(1) { padding: 0 10px; text-align: right }\n",
       "    .wandb-row { display: flex; flex-direction: row; flex-wrap: wrap; width: 100% }\n",
       "    .wandb-col { display: flex; flex-direction: column; flex-basis: 100%; flex: 1; padding: 10px; }\n",
       "    </style>\n",
       "<div class=\"wandb-row\"><div class=\"wandb-col\"><h3>Run history:</h3><br/><table class=\"wandb\"><tr><td>Mean Validation Loss (all folds)</td><td>▁</td></tr><tr><td>Mean Validation RMSE (all folds)</td><td>▁</td></tr><tr><td>epoch</td><td>▁▁▁▁▂▂▂▂▂▃▃▃▃▃▃▄▄▄▄▄▅▅▅▅▅▅▆▆▆▆▆▆▇▇▇▇▇███</td></tr><tr><td>loss</td><td>█▄▃▃▃▃▃▃▃▃▃▃▃▃▃▂▂▂▂▂▂▂▂▂▁▁▁▁▁▁▁▁▁▁▁▁▁▁▁▁</td></tr><tr><td>root_mean_squared_error</td><td>█▆▅▆▆▅▅▆▅▄▅▄▅▄▅▄▄▄▄▄▄▄▃▃▂▁▁▁▁▁▁▁▁▁▁▁▁▁▁▁</td></tr><tr><td>val_loss</td><td>█▆▇▆▄▃▄▄▃▂▄▂▃▄▄▃▃▄▃▄▂▂▃▂▁▁▁▁▁▁▁▁▁▂▁▁▁▁▁▁</td></tr><tr><td>val_root_mean_squared_error</td><td>▅▅█▇▅▃▅▅▃▃▆▃▄▅▅▃▄▅▄▆▃▂▃▂▂▁▁▁▁▁▁▁▁▂▁▂▁▁▁▁</td></tr></table><br/></div><div class=\"wandb-col\"><h3>Run summary:</h3><br/><table class=\"wandb\"><tr><td>Mean Validation Loss (all folds)</td><td>0.11548</td></tr><tr><td>Mean Validation RMSE (all folds)</td><td>0.1449</td></tr><tr><td>best_epoch</td><td>146</td></tr><tr><td>best_val_loss</td><td>0.09725</td></tr><tr><td>epoch</td><td>149</td></tr><tr><td>loss</td><td>0.13208</td></tr><tr><td>root_mean_squared_error</td><td>0.16508</td></tr><tr><td>val_loss</td><td>0.13477</td></tr><tr><td>val_root_mean_squared_error</td><td>0.15441</td></tr></table><br/></div></div>"
      ],
      "text/plain": [
       "<IPython.core.display.HTML object>"
      ]
     },
     "metadata": {},
     "output_type": "display_data"
    },
    {
     "data": {
      "text/html": [
       "Synced <strong style=\"color:#cdcd00\">zesty-sweep-5</strong>: <a href=\"https://wandb.ai/luiscostigan/house-price-prediction/runs/bljc2joj\" target=\"_blank\">https://wandb.ai/luiscostigan/house-price-prediction/runs/bljc2joj</a><br/>Synced 5 W&B file(s), 0 media file(s), 0 artifact file(s) and 1 other file(s)"
      ],
      "text/plain": [
       "<IPython.core.display.HTML object>"
      ]
     },
     "metadata": {},
     "output_type": "display_data"
    },
    {
     "data": {
      "text/html": [
       "Find logs at: <code>./wandb/run-20220314_030554-bljc2joj/logs</code>"
      ],
      "text/plain": [
       "<IPython.core.display.HTML object>"
      ]
     },
     "metadata": {},
     "output_type": "display_data"
    },
    {
     "data": {
      "text/html": [
       "Tracking run with wandb version 0.12.11"
      ],
      "text/plain": [
       "<IPython.core.display.HTML object>"
      ]
     },
     "metadata": {},
     "output_type": "display_data"
    },
    {
     "data": {
      "text/html": [
       "Run data is saved locally in <code>/workspaces/data-science-projects/house-price-prediction/Models/tensorflow/wandb/run-20220314_030959-bljc2joj</code>"
      ],
      "text/plain": [
       "<IPython.core.display.HTML object>"
      ]
     },
     "metadata": {},
     "output_type": "display_data"
    },
    {
     "data": {
      "text/html": [
       "Syncing run <strong><a href=\"https://wandb.ai/luiscostigan/house-price-prediction/runs/bljc2joj\" target=\"_blank\">zesty-sweep-5</a></strong> to <a href=\"https://wandb.ai/luiscostigan/house-price-prediction\" target=\"_blank\">Weights & Biases</a> (<a href=\"https://wandb.me/run\" target=\"_blank\">docs</a>)<br/>Sweep page:  <a href=\"https://wandb.ai/luiscostigan/house-price-prediction/sweeps/e8odal49\" target=\"_blank\">https://wandb.ai/luiscostigan/house-price-prediction/sweeps/e8odal49</a>"
      ],
      "text/plain": [
       "<IPython.core.display.HTML object>"
      ]
     },
     "metadata": {},
     "output_type": "display_data"
    },
    {
     "name": "stdout",
     "output_type": "stream",
     "text": [
      "37/37 [==============================] - 0s 5ms/step - loss: 0.1078 - root_mean_squared_error: 0.1238\n",
      "Score for fold 3: loss of 0.10780339688062668; root_mean_squared_error of 0.12377068400382996\n",
      "------------------------------------------------------------------------\n",
      "Score per fold\n",
      "------------------------------------------------------------------------\n",
      "> Fold 1 - Loss: 0.09617645293474197 - RMSE: 0.13539163768291473\n",
      "------------------------------------------------------------------------\n",
      "------------------------------------------------------------------------\n",
      "> Fold 2 - Loss: 0.1347762644290924 - RMSE: 0.15441320836544037\n",
      "------------------------------------------------------------------------\n",
      "------------------------------------------------------------------------\n",
      "> Fold 3 - Loss: 0.10780339688062668 - RMSE: 0.12377068400382996\n",
      "------------------------------------------------------------------------\n",
      "Average scores for all folds:\n",
      "> RMSE: 0.13785851001739502 (+- 0.012630786968064448)\n",
      "> Loss: 0.11291870474815369\n",
      "------------------------------------------------------------------------\n",
      "\n"
     ]
    },
    {
     "data": {
      "text/html": [
       "Waiting for W&B process to finish... <strong style=\"color:green\">(success).</strong>"
      ],
      "text/plain": [
       "<IPython.core.display.HTML object>"
      ]
     },
     "metadata": {},
     "output_type": "display_data"
    },
    {
     "data": {
      "application/vnd.jupyter.widget-view+json": {
       "model_id": "fca78a43bdba41adad90b6ea1f874171",
       "version_major": 2,
       "version_minor": 0
      },
      "text/plain": [
       "VBox(children=(Label(value='0.689 MB of 206.847 MB uploaded (0.000 MB deduped)\\r'), FloatProgress(value=0.0033…"
      ]
     },
     "metadata": {},
     "output_type": "display_data"
    },
    {
     "data": {
      "text/html": [
       "<style>\n",
       "    table.wandb td:nth-child(1) { padding: 0 10px; text-align: right }\n",
       "    .wandb-row { display: flex; flex-direction: row; flex-wrap: wrap; width: 100% }\n",
       "    .wandb-col { display: flex; flex-direction: column; flex-basis: 100%; flex: 1; padding: 10px; }\n",
       "    </style>\n",
       "<div class=\"wandb-row\"><div class=\"wandb-col\"><h3>Run history:</h3><br/><table class=\"wandb\"><tr><td>Mean Validation Loss (all folds)</td><td>▁</td></tr><tr><td>Mean Validation RMSE (all folds)</td><td>▁</td></tr><tr><td>epoch</td><td>▁▁▁▁▂▂▂▂▂▃▃▃▃▃▃▄▄▄▄▄▅▅▅▅▅▅▆▆▆▆▆▆▇▇▇▇▇███</td></tr><tr><td>loss</td><td>█▅▄▄▄▃▃▃▃▃▃▃▃▃▃▃▃▃▃▃▃▂▂▂▂▁▁▁▁▁▁▁▁▁▁▁▁▁▁▁</td></tr><tr><td>root_mean_squared_error</td><td>██▆▇▇▆▆▆▆▅▅▅▆▅▆▅▅▅▄▅▅▄▄▄▄▂▁▁▁▁▁▁▁▁▁▁▁▁▁▁</td></tr><tr><td>val_loss</td><td>█▄▅▄▃▅▃▃▃▄▄▃▃▃▃▃▃▅▂▃▂▂▂▃▄▁▁▁▁▁▁▁▁▁▁▁▁▁▁▁</td></tr><tr><td>val_root_mean_squared_error</td><td>█▅▇▇▄█▄▄▄▇▆▄▄▄▅▄▄█▃▄▄▃▃▄▆▂▂▂▂▁▁▁▁▁▁▁▁▁▁▁</td></tr></table><br/></div><div class=\"wandb-col\"><h3>Run summary:</h3><br/><table class=\"wandb\"><tr><td>Mean Validation Loss (all folds)</td><td>0.11292</td></tr><tr><td>Mean Validation RMSE (all folds)</td><td>0.13786</td></tr><tr><td>best_epoch</td><td>128</td></tr><tr><td>best_val_loss</td><td>0.10102</td></tr><tr><td>epoch</td><td>149</td></tr><tr><td>loss</td><td>0.1266</td></tr><tr><td>root_mean_squared_error</td><td>0.14213</td></tr><tr><td>val_loss</td><td>0.1078</td></tr><tr><td>val_root_mean_squared_error</td><td>0.12377</td></tr></table><br/></div></div>"
      ],
      "text/plain": [
       "<IPython.core.display.HTML object>"
      ]
     },
     "metadata": {},
     "output_type": "display_data"
    },
    {
     "data": {
      "text/html": [
       "Synced <strong style=\"color:#cdcd00\">zesty-sweep-5</strong>: <a href=\"https://wandb.ai/luiscostigan/house-price-prediction/runs/bljc2joj\" target=\"_blank\">https://wandb.ai/luiscostigan/house-price-prediction/runs/bljc2joj</a><br/>Synced 5 W&B file(s), 0 media file(s), 0 artifact file(s) and 1 other file(s)"
      ],
      "text/plain": [
       "<IPython.core.display.HTML object>"
      ]
     },
     "metadata": {},
     "output_type": "display_data"
    },
    {
     "data": {
      "text/html": [
       "Find logs at: <code>./wandb/run-20220314_030959-bljc2joj/logs</code>"
      ],
      "text/plain": [
       "<IPython.core.display.HTML object>"
      ]
     },
     "metadata": {},
     "output_type": "display_data"
    },
    {
     "data": {
      "text/html": [
       "Tracking run with wandb version 0.12.11"
      ],
      "text/plain": [
       "<IPython.core.display.HTML object>"
      ]
     },
     "metadata": {},
     "output_type": "display_data"
    },
    {
     "data": {
      "text/html": [
       "Run data is saved locally in <code>/workspaces/data-science-projects/house-price-prediction/Models/tensorflow/wandb/run-20220314_031403-bljc2joj</code>"
      ],
      "text/plain": [
       "<IPython.core.display.HTML object>"
      ]
     },
     "metadata": {},
     "output_type": "display_data"
    },
    {
     "data": {
      "text/html": [
       "Syncing run <strong><a href=\"https://wandb.ai/luiscostigan/house-price-prediction/runs/bljc2joj\" target=\"_blank\">zesty-sweep-5</a></strong> to <a href=\"https://wandb.ai/luiscostigan/house-price-prediction\" target=\"_blank\">Weights & Biases</a> (<a href=\"https://wandb.me/run\" target=\"_blank\">docs</a>)<br/>Sweep page:  <a href=\"https://wandb.ai/luiscostigan/house-price-prediction/sweeps/e8odal49\" target=\"_blank\">https://wandb.ai/luiscostigan/house-price-prediction/sweeps/e8odal49</a>"
      ],
      "text/plain": [
       "<IPython.core.display.HTML object>"
      ]
     },
     "metadata": {},
     "output_type": "display_data"
    },
    {
     "name": "stdout",
     "output_type": "stream",
     "text": [
      "37/37 [==============================] - 0s 5ms/step - loss: 0.1181 - root_mean_squared_error: 0.1512\n",
      "Score for fold 4: loss of 0.11811768263578415; root_mean_squared_error of 0.1511678844690323\n",
      "------------------------------------------------------------------------\n",
      "Score per fold\n",
      "------------------------------------------------------------------------\n",
      "> Fold 1 - Loss: 0.09617645293474197 - RMSE: 0.13539163768291473\n",
      "------------------------------------------------------------------------\n",
      "------------------------------------------------------------------------\n",
      "> Fold 2 - Loss: 0.1347762644290924 - RMSE: 0.15441320836544037\n",
      "------------------------------------------------------------------------\n",
      "------------------------------------------------------------------------\n",
      "> Fold 3 - Loss: 0.10780339688062668 - RMSE: 0.12377068400382996\n",
      "------------------------------------------------------------------------\n",
      "------------------------------------------------------------------------\n",
      "> Fold 4 - Loss: 0.11811768263578415 - RMSE: 0.1511678844690323\n",
      "------------------------------------------------------------------------\n",
      "Average scores for all folds:\n",
      "> RMSE: 0.14118585363030434 (+- 0.012363908408330083)\n",
      "> Loss: 0.1142184492200613\n",
      "------------------------------------------------------------------------\n",
      "\n"
     ]
    },
    {
     "data": {
      "text/html": [
       "Waiting for W&B process to finish... <strong style=\"color:green\">(success).</strong>"
      ],
      "text/plain": [
       "<IPython.core.display.HTML object>"
      ]
     },
     "metadata": {},
     "output_type": "display_data"
    },
    {
     "data": {
      "application/vnd.jupyter.widget-view+json": {
       "model_id": "89199c98f3344f1388fdabef3a13cbb4",
       "version_major": 2,
       "version_minor": 0
      },
      "text/plain": [
       "VBox(children=(Label(value='3.134 MB of 206.847 MB uploaded (0.000 MB deduped)\\r'), FloatProgress(value=0.0151…"
      ]
     },
     "metadata": {},
     "output_type": "display_data"
    },
    {
     "data": {
      "text/html": [
       "<style>\n",
       "    table.wandb td:nth-child(1) { padding: 0 10px; text-align: right }\n",
       "    .wandb-row { display: flex; flex-direction: row; flex-wrap: wrap; width: 100% }\n",
       "    .wandb-col { display: flex; flex-direction: column; flex-basis: 100%; flex: 1; padding: 10px; }\n",
       "    </style>\n",
       "<div class=\"wandb-row\"><div class=\"wandb-col\"><h3>Run history:</h3><br/><table class=\"wandb\"><tr><td>Mean Validation Loss (all folds)</td><td>▁</td></tr><tr><td>Mean Validation RMSE (all folds)</td><td>▁</td></tr><tr><td>epoch</td><td>▁▁▁▁▂▂▂▂▂▃▃▃▃▃▃▄▄▄▄▄▅▅▅▅▅▅▆▆▆▆▆▆▇▇▇▇▇███</td></tr><tr><td>loss</td><td>█▅▄▃▃▃▃▃▃▃▃▃▃▃▃▃▃▂▂▂▂▂▂▂▁▁▁▁▁▁▁▁▁▁▁▁▁▁▁▁</td></tr><tr><td>root_mean_squared_error</td><td>█▇▆▅▅▅▅▅▅▅▅▅▄▄▅▅▄▄▄▄▄▄▃▃▁▁▁▁▁▁▁▁▁▁▁▁▁▁▁▁</td></tr><tr><td>val_loss</td><td>█▅▄▃▃▄▂▂▃▃▃▂▃▃▃▃▄▃▂▂▂▂▂▃▁▁▁▁▁▁▁▁▁▁▁▁▁▁▁▁</td></tr><tr><td>val_root_mean_squared_error</td><td>█▇▆▄▄▇▃▃▄▄▅▃▄▆▄▅▆▄▃▂▃▃▃▄▁▂▂▁▂▁▁▁▁▁▁▁▁▁▁▁</td></tr></table><br/></div><div class=\"wandb-col\"><h3>Run summary:</h3><br/><table class=\"wandb\"><tr><td>Mean Validation Loss (all folds)</td><td>0.11422</td></tr><tr><td>Mean Validation RMSE (all folds)</td><td>0.14119</td></tr><tr><td>best_epoch</td><td>141</td></tr><tr><td>best_val_loss</td><td>0.09937</td></tr><tr><td>epoch</td><td>149</td></tr><tr><td>loss</td><td>0.1206</td></tr><tr><td>root_mean_squared_error</td><td>0.1374</td></tr><tr><td>val_loss</td><td>0.11812</td></tr><tr><td>val_root_mean_squared_error</td><td>0.1512</td></tr></table><br/></div></div>"
      ],
      "text/plain": [
       "<IPython.core.display.HTML object>"
      ]
     },
     "metadata": {},
     "output_type": "display_data"
    },
    {
     "data": {
      "text/html": [
       "Synced <strong style=\"color:#cdcd00\">zesty-sweep-5</strong>: <a href=\"https://wandb.ai/luiscostigan/house-price-prediction/runs/bljc2joj\" target=\"_blank\">https://wandb.ai/luiscostigan/house-price-prediction/runs/bljc2joj</a><br/>Synced 5 W&B file(s), 0 media file(s), 0 artifact file(s) and 1 other file(s)"
      ],
      "text/plain": [
       "<IPython.core.display.HTML object>"
      ]
     },
     "metadata": {},
     "output_type": "display_data"
    },
    {
     "data": {
      "text/html": [
       "Find logs at: <code>./wandb/run-20220314_031403-bljc2joj/logs</code>"
      ],
      "text/plain": [
       "<IPython.core.display.HTML object>"
      ]
     },
     "metadata": {},
     "output_type": "display_data"
    },
    {
     "data": {
      "text/html": [
       "Tracking run with wandb version 0.12.11"
      ],
      "text/plain": [
       "<IPython.core.display.HTML object>"
      ]
     },
     "metadata": {},
     "output_type": "display_data"
    },
    {
     "data": {
      "text/html": [
       "Run data is saved locally in <code>/workspaces/data-science-projects/house-price-prediction/Models/tensorflow/wandb/run-20220314_031806-bljc2joj</code>"
      ],
      "text/plain": [
       "<IPython.core.display.HTML object>"
      ]
     },
     "metadata": {},
     "output_type": "display_data"
    },
    {
     "data": {
      "text/html": [
       "Syncing run <strong><a href=\"https://wandb.ai/luiscostigan/house-price-prediction/runs/bljc2joj\" target=\"_blank\">zesty-sweep-5</a></strong> to <a href=\"https://wandb.ai/luiscostigan/house-price-prediction\" target=\"_blank\">Weights & Biases</a> (<a href=\"https://wandb.me/run\" target=\"_blank\">docs</a>)<br/>Sweep page:  <a href=\"https://wandb.ai/luiscostigan/house-price-prediction/sweeps/e8odal49\" target=\"_blank\">https://wandb.ai/luiscostigan/house-price-prediction/sweeps/e8odal49</a>"
      ],
      "text/plain": [
       "<IPython.core.display.HTML object>"
      ]
     },
     "metadata": {},
     "output_type": "display_data"
    },
    {
     "name": "stdout",
     "output_type": "stream",
     "text": [
      "37/37 [==============================] - 0s 6ms/step - loss: 0.1214 - root_mean_squared_error: 0.1478\n",
      "Score for fold 5: loss of 0.12140488624572754; root_mean_squared_error of 0.14784720540046692\n",
      "------------------------------------------------------------------------\n",
      "Score per fold\n",
      "------------------------------------------------------------------------\n",
      "> Fold 1 - Loss: 0.09617645293474197 - RMSE: 0.13539163768291473\n",
      "------------------------------------------------------------------------\n",
      "------------------------------------------------------------------------\n",
      "> Fold 2 - Loss: 0.1347762644290924 - RMSE: 0.15441320836544037\n",
      "------------------------------------------------------------------------\n",
      "------------------------------------------------------------------------\n",
      "> Fold 3 - Loss: 0.10780339688062668 - RMSE: 0.12377068400382996\n",
      "------------------------------------------------------------------------\n",
      "------------------------------------------------------------------------\n",
      "> Fold 4 - Loss: 0.11811768263578415 - RMSE: 0.1511678844690323\n",
      "------------------------------------------------------------------------\n",
      "------------------------------------------------------------------------\n",
      "> Fold 5 - Loss: 0.12140488624572754 - RMSE: 0.14784720540046692\n",
      "------------------------------------------------------------------------\n",
      "Average scores for all folds:\n",
      "> RMSE: 0.14251812398433686 (+- 0.011375093937572382)\n",
      "> Loss: 0.11565573662519454\n",
      "------------------------------------------------------------------------\n",
      "\n"
     ]
    },
    {
     "data": {
      "text/html": [
       "Waiting for W&B process to finish... <strong style=\"color:green\">(success).</strong>"
      ],
      "text/plain": [
       "<IPython.core.display.HTML object>"
      ]
     },
     "metadata": {},
     "output_type": "display_data"
    },
    {
     "data": {
      "application/vnd.jupyter.widget-view+json": {
       "model_id": "e1bc0e2a13954ec395633b895301c887",
       "version_major": 2,
       "version_minor": 0
      },
      "text/plain": [
       "VBox(children=(Label(value='2.087 MB of 206.847 MB uploaded (0.000 MB deduped)\\r'), FloatProgress(value=0.0100…"
      ]
     },
     "metadata": {},
     "output_type": "display_data"
    },
    {
     "data": {
      "text/html": [
       "<style>\n",
       "    table.wandb td:nth-child(1) { padding: 0 10px; text-align: right }\n",
       "    .wandb-row { display: flex; flex-direction: row; flex-wrap: wrap; width: 100% }\n",
       "    .wandb-col { display: flex; flex-direction: column; flex-basis: 100%; flex: 1; padding: 10px; }\n",
       "    </style>\n",
       "<div class=\"wandb-row\"><div class=\"wandb-col\"><h3>Run history:</h3><br/><table class=\"wandb\"><tr><td>Mean Validation Loss (all folds)</td><td>▁</td></tr><tr><td>Mean Validation RMSE (all folds)</td><td>▁</td></tr><tr><td>epoch</td><td>▁▁▁▁▂▂▂▂▂▃▃▃▃▃▃▄▄▄▄▄▅▅▅▅▅▅▆▆▆▆▆▆▇▇▇▇▇███</td></tr><tr><td>loss</td><td>█▄▃▃▃▃▃▃▃▃▃▃▃▃▂▂▂▂▂▂▂▂▂▂▁▁▁▁▁▁▁▁▁▁▁▁▁▁▁▁</td></tr><tr><td>root_mean_squared_error</td><td>█▆▅▅▆▅▅▄▄▆▄▄▄▄▄▄▄▄▄▃▄▃▃▃▂▁▁▁▁▁▁▁▁▁▁▁▁▁▁▁</td></tr><tr><td>val_loss</td><td>█▆▄▄▃▃▅▄▂▃▃▃▃▂▃▃▄▂▃▂▂▃▂▄▂▁▁▁▁▁▁▁▁▁▁▁▁▁▁▁</td></tr><tr><td>val_root_mean_squared_error</td><td>▆█▅▆▄▃▇▇▃▄▄▄▄▃▅▄▆▃▅▃▃▅▃▅▃▁▁▂▁▁▁▁▁▁▁▁▁▁▁▁</td></tr></table><br/></div><div class=\"wandb-col\"><h3>Run summary:</h3><br/><table class=\"wandb\"><tr><td>Mean Validation Loss (all folds)</td><td>0.11566</td></tr><tr><td>Mean Validation RMSE (all folds)</td><td>0.14252</td></tr><tr><td>best_epoch</td><td>143</td></tr><tr><td>best_val_loss</td><td>0.0967</td></tr><tr><td>epoch</td><td>149</td></tr><tr><td>loss</td><td>0.11928</td></tr><tr><td>root_mean_squared_error</td><td>0.13883</td></tr><tr><td>val_loss</td><td>0.12141</td></tr><tr><td>val_root_mean_squared_error</td><td>0.14785</td></tr></table><br/></div></div>"
      ],
      "text/plain": [
       "<IPython.core.display.HTML object>"
      ]
     },
     "metadata": {},
     "output_type": "display_data"
    },
    {
     "data": {
      "text/html": [
       "Synced <strong style=\"color:#cdcd00\">zesty-sweep-5</strong>: <a href=\"https://wandb.ai/luiscostigan/house-price-prediction/runs/bljc2joj\" target=\"_blank\">https://wandb.ai/luiscostigan/house-price-prediction/runs/bljc2joj</a><br/>Synced 5 W&B file(s), 0 media file(s), 0 artifact file(s) and 1 other file(s)"
      ],
      "text/plain": [
       "<IPython.core.display.HTML object>"
      ]
     },
     "metadata": {},
     "output_type": "display_data"
    },
    {
     "data": {
      "text/html": [
       "Find logs at: <code>./wandb/run-20220314_031806-bljc2joj/logs</code>"
      ],
      "text/plain": [
       "<IPython.core.display.HTML object>"
      ]
     },
     "metadata": {},
     "output_type": "display_data"
    },
    {
     "name": "stderr",
     "output_type": "stream",
     "text": [
      "\u001b[34m\u001b[1mwandb\u001b[0m: Sweep Agent: Waiting for job.\n",
      "\u001b[34m\u001b[1mwandb\u001b[0m: Job received.\n",
      "\u001b[34m\u001b[1mwandb\u001b[0m: Agent Starting Run: rlktob5k with config:\n",
      "\u001b[34m\u001b[1mwandb\u001b[0m: \tbatch_size: 32\n",
      "\u001b[34m\u001b[1mwandb\u001b[0m: \tbias1: 0.001\n",
      "\u001b[34m\u001b[1mwandb\u001b[0m: \tbias2: 0.01\n",
      "\u001b[34m\u001b[1mwandb\u001b[0m: \tdense1: 1024\n",
      "\u001b[34m\u001b[1mwandb\u001b[0m: \tdense2: 4096\n",
      "\u001b[34m\u001b[1mwandb\u001b[0m: \tdropout1: 0.025781091431819683\n",
      "\u001b[34m\u001b[1mwandb\u001b[0m: \tepochs: 150\n",
      "\u001b[34m\u001b[1mwandb\u001b[0m: \tlearning_rate: 0.01\n"
     ]
    },
    {
     "data": {
      "text/html": [
       "Tracking run with wandb version 0.12.11"
      ],
      "text/plain": [
       "<IPython.core.display.HTML object>"
      ]
     },
     "metadata": {},
     "output_type": "display_data"
    },
    {
     "data": {
      "text/html": [
       "Run data is saved locally in <code>/workspaces/data-science-projects/house-price-prediction/Models/tensorflow/wandb/run-20220314_032247-rlktob5k</code>"
      ],
      "text/plain": [
       "<IPython.core.display.HTML object>"
      ]
     },
     "metadata": {},
     "output_type": "display_data"
    },
    {
     "data": {
      "text/html": [
       "Syncing run <strong><a href=\"https://wandb.ai/luiscostigan/house-price-prediction/runs/rlktob5k\" target=\"_blank\">sunny-sweep-6</a></strong> to <a href=\"https://wandb.ai/luiscostigan/house-price-prediction\" target=\"_blank\">Weights & Biases</a> (<a href=\"https://wandb.me/run\" target=\"_blank\">docs</a>)<br/>Sweep page:  <a href=\"https://wandb.ai/luiscostigan/house-price-prediction/sweeps/e8odal49\" target=\"_blank\">https://wandb.ai/luiscostigan/house-price-prediction/sweeps/e8odal49</a>"
      ],
      "text/plain": [
       "<IPython.core.display.HTML object>"
      ]
     },
     "metadata": {},
     "output_type": "display_data"
    },
    {
     "name": "stdout",
     "output_type": "stream",
     "text": [
      "37/37 [==============================] - 0s 3ms/step - loss: 0.1750 - root_mean_squared_error: 0.2139\n",
      "Score for fold 1: loss of 0.17496448755264282; root_mean_squared_error of 0.21391314268112183\n",
      "------------------------------------------------------------------------\n",
      "Score per fold\n",
      "------------------------------------------------------------------------\n",
      "> Fold 1 - Loss: 0.17496448755264282 - RMSE: 0.21391314268112183\n",
      "------------------------------------------------------------------------\n",
      "Average scores for all folds:\n",
      "> RMSE: 0.21391314268112183 (+- 0.0)\n",
      "> Loss: 0.17496448755264282\n",
      "------------------------------------------------------------------------\n",
      "\n"
     ]
    },
    {
     "data": {
      "text/html": [
       "Waiting for W&B process to finish... <strong style=\"color:green\">(success).</strong>"
      ],
      "text/plain": [
       "<IPython.core.display.HTML object>"
      ]
     },
     "metadata": {},
     "output_type": "display_data"
    },
    {
     "data": {
      "application/vnd.jupyter.widget-view+json": {
       "model_id": "fdefc71f79394d3e9b0cbd1927b695f6",
       "version_major": 2,
       "version_minor": 0
      },
      "text/plain": [
       "VBox(children=(Label(value='1.485 MB of 51.807 MB uploaded (0.000 MB deduped)\\r'), FloatProgress(value=0.02867…"
      ]
     },
     "metadata": {},
     "output_type": "display_data"
    },
    {
     "data": {
      "text/html": [
       "<style>\n",
       "    table.wandb td:nth-child(1) { padding: 0 10px; text-align: right }\n",
       "    .wandb-row { display: flex; flex-direction: row; flex-wrap: wrap; width: 100% }\n",
       "    .wandb-col { display: flex; flex-direction: column; flex-basis: 100%; flex: 1; padding: 10px; }\n",
       "    </style>\n",
       "<div class=\"wandb-row\"><div class=\"wandb-col\"><h3>Run history:</h3><br/><table class=\"wandb\"><tr><td>Mean Validation Loss (all folds)</td><td>▁</td></tr><tr><td>Mean Validation RMSE (all folds)</td><td>▁</td></tr><tr><td>epoch</td><td>▁▁▁▁▂▂▂▂▂▃▃▃▃▃▃▄▄▄▄▄▅▅▅▅▅▅▆▆▆▆▆▆▇▇▇▇▇███</td></tr><tr><td>loss</td><td>█▄▃▃▂▁▁▁▁▁▁▁▁▁▁▁▁▁▁▁▁▁▁▁▁▁▁▁▁▁▁▁▁▁▁▁▁▁▁▁</td></tr><tr><td>root_mean_squared_error</td><td>█▅▅▄▂▁▁▁▁▁▁▁▁▁▁▁▁▁▁▁▁▁▁▁▁▁▁▁▂▁▁▁▁▁▁▁▁▁▁▁</td></tr><tr><td>val_loss</td><td>█▃▃▂▂▂▁▁▂▁▁▂▁▁▁▁▁▁▁▁▁▁▁▁▁▁▁▁▁▁▁▁▁▁▁▁▁▁▁▁</td></tr><tr><td>val_root_mean_squared_error</td><td>█▃▃▂▂▃▁▁▂▁▁▂▁▁▁▁▂▁▁▁▁▁▁▁▂▂▁▁▂▁▁▁▁▁▂▁▁▁▁▁</td></tr></table><br/></div><div class=\"wandb-col\"><h3>Run summary:</h3><br/><table class=\"wandb\"><tr><td>Mean Validation Loss (all folds)</td><td>0.17496</td></tr><tr><td>Mean Validation RMSE (all folds)</td><td>0.21391</td></tr><tr><td>best_epoch</td><td>142</td></tr><tr><td>best_val_loss</td><td>0.08686</td></tr><tr><td>epoch</td><td>149</td></tr><tr><td>loss</td><td>0.13298</td></tr><tr><td>root_mean_squared_error</td><td>0.18142</td></tr><tr><td>val_loss</td><td>0.17496</td></tr><tr><td>val_root_mean_squared_error</td><td>0.21391</td></tr></table><br/></div></div>"
      ],
      "text/plain": [
       "<IPython.core.display.HTML object>"
      ]
     },
     "metadata": {},
     "output_type": "display_data"
    },
    {
     "data": {
      "text/html": [
       "Synced <strong style=\"color:#cdcd00\">sunny-sweep-6</strong>: <a href=\"https://wandb.ai/luiscostigan/house-price-prediction/runs/rlktob5k\" target=\"_blank\">https://wandb.ai/luiscostigan/house-price-prediction/runs/rlktob5k</a><br/>Synced 5 W&B file(s), 0 media file(s), 0 artifact file(s) and 1 other file(s)"
      ],
      "text/plain": [
       "<IPython.core.display.HTML object>"
      ]
     },
     "metadata": {},
     "output_type": "display_data"
    },
    {
     "data": {
      "text/html": [
       "Find logs at: <code>./wandb/run-20220314_032247-rlktob5k/logs</code>"
      ],
      "text/plain": [
       "<IPython.core.display.HTML object>"
      ]
     },
     "metadata": {},
     "output_type": "display_data"
    },
    {
     "data": {
      "text/html": [
       "Tracking run with wandb version 0.12.11"
      ],
      "text/plain": [
       "<IPython.core.display.HTML object>"
      ]
     },
     "metadata": {},
     "output_type": "display_data"
    },
    {
     "data": {
      "text/html": [
       "Run data is saved locally in <code>/workspaces/data-science-projects/house-price-prediction/Models/tensorflow/wandb/run-20220314_032341-rlktob5k</code>"
      ],
      "text/plain": [
       "<IPython.core.display.HTML object>"
      ]
     },
     "metadata": {},
     "output_type": "display_data"
    },
    {
     "data": {
      "text/html": [
       "Syncing run <strong><a href=\"https://wandb.ai/luiscostigan/house-price-prediction/runs/rlktob5k\" target=\"_blank\">sunny-sweep-6</a></strong> to <a href=\"https://wandb.ai/luiscostigan/house-price-prediction\" target=\"_blank\">Weights & Biases</a> (<a href=\"https://wandb.me/run\" target=\"_blank\">docs</a>)<br/>Sweep page:  <a href=\"https://wandb.ai/luiscostigan/house-price-prediction/sweeps/e8odal49\" target=\"_blank\">https://wandb.ai/luiscostigan/house-price-prediction/sweeps/e8odal49</a>"
      ],
      "text/plain": [
       "<IPython.core.display.HTML object>"
      ]
     },
     "metadata": {},
     "output_type": "display_data"
    },
    {
     "name": "stdout",
     "output_type": "stream",
     "text": [
      "37/37 [==============================] - 0s 4ms/step - loss: 0.1341 - root_mean_squared_error: 0.1848\n",
      "Score for fold 2: loss of 0.13407626748085022; root_mean_squared_error of 0.18480677902698517\n",
      "------------------------------------------------------------------------\n",
      "Score per fold\n",
      "------------------------------------------------------------------------\n",
      "> Fold 1 - Loss: 0.17496448755264282 - RMSE: 0.21391314268112183\n",
      "------------------------------------------------------------------------\n",
      "------------------------------------------------------------------------\n",
      "> Fold 2 - Loss: 0.13407626748085022 - RMSE: 0.18480677902698517\n",
      "------------------------------------------------------------------------\n",
      "Average scores for all folds:\n",
      "> RMSE: 0.1993599608540535 (+- 0.014553181827068329)\n",
      "> Loss: 0.15452037751674652\n",
      "------------------------------------------------------------------------\n",
      "\n"
     ]
    },
    {
     "data": {
      "text/html": [
       "Waiting for W&B process to finish... <strong style=\"color:green\">(success).</strong>"
      ],
      "text/plain": [
       "<IPython.core.display.HTML object>"
      ]
     },
     "metadata": {},
     "output_type": "display_data"
    },
    {
     "data": {
      "application/vnd.jupyter.widget-view+json": {
       "model_id": "acf4baf179d340a985cb02a009d496b3",
       "version_major": 2,
       "version_minor": 0
      },
      "text/plain": [
       "VBox(children=(Label(value='5.454 MB of 51.807 MB uploaded (0.000 MB deduped)\\r'), FloatProgress(value=0.10527…"
      ]
     },
     "metadata": {},
     "output_type": "display_data"
    },
    {
     "data": {
      "text/html": [
       "<style>\n",
       "    table.wandb td:nth-child(1) { padding: 0 10px; text-align: right }\n",
       "    .wandb-row { display: flex; flex-direction: row; flex-wrap: wrap; width: 100% }\n",
       "    .wandb-col { display: flex; flex-direction: column; flex-basis: 100%; flex: 1; padding: 10px; }\n",
       "    </style>\n",
       "<div class=\"wandb-row\"><div class=\"wandb-col\"><h3>Run history:</h3><br/><table class=\"wandb\"><tr><td>Mean Validation Loss (all folds)</td><td>▁</td></tr><tr><td>Mean Validation RMSE (all folds)</td><td>▁</td></tr><tr><td>epoch</td><td>▁▁▁▁▂▂▂▂▂▃▃▃▃▃▃▄▄▄▄▄▅▅▅▅▅▅▆▆▆▆▆▆▇▇▇▇▇███</td></tr><tr><td>loss</td><td>█▄▄▂▂▁▁▁▁▁▁▁▁▁▁▁▁▁▁▁▁▁▁▁▁▁▁▁▁▁▁▁▁▁▁▁▁▁▁▁</td></tr><tr><td>root_mean_squared_error</td><td>█▅▆▄▂▂▁▁▁▁▁▁▁▁▁▁▁▁▁▁▁▁▁▁▁▁▁▁▁▁▁▁▁▁▁▁▁▁▁▁</td></tr><tr><td>val_loss</td><td>█▃▅▂▁▁▁▁▁▁▁▁▁▁▁▁▁▂▁▁▁▁▂▁▁▁▁▁▁▁▁▁▁▁▁▁▁▁▁▁</td></tr><tr><td>val_root_mean_squared_error</td><td>█▄▆▂▁▁▁▁▁▁▁▁▁▁▁▁▂▂▁▁▁▁▂▁▁▁▁▁▂▁▁▁▁▁▁▁▁▁▁▁</td></tr></table><br/></div><div class=\"wandb-col\"><h3>Run summary:</h3><br/><table class=\"wandb\"><tr><td>Mean Validation Loss (all folds)</td><td>0.15452</td></tr><tr><td>Mean Validation RMSE (all folds)</td><td>0.19936</td></tr><tr><td>best_epoch</td><td>141</td></tr><tr><td>best_val_loss</td><td>0.08502</td></tr><tr><td>epoch</td><td>149</td></tr><tr><td>loss</td><td>0.12262</td></tr><tr><td>root_mean_squared_error</td><td>0.19574</td></tr><tr><td>val_loss</td><td>0.13408</td></tr><tr><td>val_root_mean_squared_error</td><td>0.18481</td></tr></table><br/></div></div>"
      ],
      "text/plain": [
       "<IPython.core.display.HTML object>"
      ]
     },
     "metadata": {},
     "output_type": "display_data"
    },
    {
     "data": {
      "text/html": [
       "Synced <strong style=\"color:#cdcd00\">sunny-sweep-6</strong>: <a href=\"https://wandb.ai/luiscostigan/house-price-prediction/runs/rlktob5k\" target=\"_blank\">https://wandb.ai/luiscostigan/house-price-prediction/runs/rlktob5k</a><br/>Synced 5 W&B file(s), 0 media file(s), 0 artifact file(s) and 1 other file(s)"
      ],
      "text/plain": [
       "<IPython.core.display.HTML object>"
      ]
     },
     "metadata": {},
     "output_type": "display_data"
    },
    {
     "data": {
      "text/html": [
       "Find logs at: <code>./wandb/run-20220314_032341-rlktob5k/logs</code>"
      ],
      "text/plain": [
       "<IPython.core.display.HTML object>"
      ]
     },
     "metadata": {},
     "output_type": "display_data"
    },
    {
     "data": {
      "text/html": [
       "Tracking run with wandb version 0.12.11"
      ],
      "text/plain": [
       "<IPython.core.display.HTML object>"
      ]
     },
     "metadata": {},
     "output_type": "display_data"
    },
    {
     "data": {
      "text/html": [
       "Run data is saved locally in <code>/workspaces/data-science-projects/house-price-prediction/Models/tensorflow/wandb/run-20220314_032432-rlktob5k</code>"
      ],
      "text/plain": [
       "<IPython.core.display.HTML object>"
      ]
     },
     "metadata": {},
     "output_type": "display_data"
    },
    {
     "data": {
      "text/html": [
       "Syncing run <strong><a href=\"https://wandb.ai/luiscostigan/house-price-prediction/runs/rlktob5k\" target=\"_blank\">sunny-sweep-6</a></strong> to <a href=\"https://wandb.ai/luiscostigan/house-price-prediction\" target=\"_blank\">Weights & Biases</a> (<a href=\"https://wandb.me/run\" target=\"_blank\">docs</a>)<br/>Sweep page:  <a href=\"https://wandb.ai/luiscostigan/house-price-prediction/sweeps/e8odal49\" target=\"_blank\">https://wandb.ai/luiscostigan/house-price-prediction/sweeps/e8odal49</a>"
      ],
      "text/plain": [
       "<IPython.core.display.HTML object>"
      ]
     },
     "metadata": {},
     "output_type": "display_data"
    },
    {
     "name": "stdout",
     "output_type": "stream",
     "text": [
      "37/37 [==============================] - 0s 4ms/step - loss: 0.3222 - root_mean_squared_error: 0.3500\n",
      "Score for fold 3: loss of 0.3222486674785614; root_mean_squared_error of 0.3500324487686157\n",
      "------------------------------------------------------------------------\n",
      "Score per fold\n",
      "------------------------------------------------------------------------\n",
      "> Fold 1 - Loss: 0.17496448755264282 - RMSE: 0.21391314268112183\n",
      "------------------------------------------------------------------------\n",
      "------------------------------------------------------------------------\n",
      "> Fold 2 - Loss: 0.13407626748085022 - RMSE: 0.18480677902698517\n",
      "------------------------------------------------------------------------\n",
      "------------------------------------------------------------------------\n",
      "> Fold 3 - Loss: 0.3222486674785614 - RMSE: 0.3500324487686157\n",
      "------------------------------------------------------------------------\n",
      "Average scores for all folds:\n",
      "> RMSE: 0.2495841234922409 (+- 0.07201478847853873)\n",
      "> Loss: 0.21042980750401816\n",
      "------------------------------------------------------------------------\n",
      "\n"
     ]
    },
    {
     "data": {
      "text/html": [
       "Waiting for W&B process to finish... <strong style=\"color:green\">(success).</strong>"
      ],
      "text/plain": [
       "<IPython.core.display.HTML object>"
      ]
     },
     "metadata": {},
     "output_type": "display_data"
    },
    {
     "data": {
      "application/vnd.jupyter.widget-view+json": {
       "model_id": "56041533355949449fad5db7c1e04a8b",
       "version_major": 2,
       "version_minor": 0
      },
      "text/plain": [
       "VBox(children=(Label(value='1.181 MB of 51.807 MB uploaded (0.000 MB deduped)\\r'), FloatProgress(value=0.02279…"
      ]
     },
     "metadata": {},
     "output_type": "display_data"
    },
    {
     "data": {
      "text/html": [
       "<style>\n",
       "    table.wandb td:nth-child(1) { padding: 0 10px; text-align: right }\n",
       "    .wandb-row { display: flex; flex-direction: row; flex-wrap: wrap; width: 100% }\n",
       "    .wandb-col { display: flex; flex-direction: column; flex-basis: 100%; flex: 1; padding: 10px; }\n",
       "    </style>\n",
       "<div class=\"wandb-row\"><div class=\"wandb-col\"><h3>Run history:</h3><br/><table class=\"wandb\"><tr><td>Mean Validation Loss (all folds)</td><td>▁</td></tr><tr><td>Mean Validation RMSE (all folds)</td><td>▁</td></tr><tr><td>epoch</td><td>▁▁▁▁▂▂▂▂▂▃▃▃▃▃▃▄▄▄▄▄▅▅▅▅▅▅▆▆▆▆▆▆▇▇▇▇▇███</td></tr><tr><td>loss</td><td>█▄▃▂▂▁▁▁▁▁▁▁▁▁▁▁▁▁▁▁▁▁▁▁▁▁▁▁▁▁▁▁▁▁▁▁▁▁▁▁</td></tr><tr><td>root_mean_squared_error</td><td>█▆▄▃▂▂▁▁▁▁▁▁▁▁▁▁▁▁▂▁▁▁▁▁▁▁▁▁▁▁▁▁▁▁▁▁▁▁▂▁</td></tr><tr><td>val_loss</td><td>█▅▂▃▂▁▁▁▁▁▁▁▁▁▁▁▁▁▁▁▁▁▁▁▁▁▁▁▁▁▁▁▁▁▁▁▁▁▁▂</td></tr><tr><td>val_root_mean_squared_error</td><td>█▅▂▃▂▂▁▂▁▁▁▁▁▁▁▁▁▁▁▁▁▁▁▁▁▁▁▁▁▂▁▁▁▁▂▁▁▁▂▂</td></tr></table><br/></div><div class=\"wandb-col\"><h3>Run summary:</h3><br/><table class=\"wandb\"><tr><td>Mean Validation Loss (all folds)</td><td>0.21043</td></tr><tr><td>Mean Validation RMSE (all folds)</td><td>0.24958</td></tr><tr><td>best_epoch</td><td>148</td></tr><tr><td>best_val_loss</td><td>0.08171</td></tr><tr><td>epoch</td><td>149</td></tr><tr><td>loss</td><td>0.18082</td></tr><tr><td>root_mean_squared_error</td><td>0.2403</td></tr><tr><td>val_loss</td><td>0.32225</td></tr><tr><td>val_root_mean_squared_error</td><td>0.35003</td></tr></table><br/></div></div>"
      ],
      "text/plain": [
       "<IPython.core.display.HTML object>"
      ]
     },
     "metadata": {},
     "output_type": "display_data"
    },
    {
     "data": {
      "text/html": [
       "Synced <strong style=\"color:#cdcd00\">sunny-sweep-6</strong>: <a href=\"https://wandb.ai/luiscostigan/house-price-prediction/runs/rlktob5k\" target=\"_blank\">https://wandb.ai/luiscostigan/house-price-prediction/runs/rlktob5k</a><br/>Synced 5 W&B file(s), 0 media file(s), 0 artifact file(s) and 1 other file(s)"
      ],
      "text/plain": [
       "<IPython.core.display.HTML object>"
      ]
     },
     "metadata": {},
     "output_type": "display_data"
    },
    {
     "data": {
      "text/html": [
       "Find logs at: <code>./wandb/run-20220314_032432-rlktob5k/logs</code>"
      ],
      "text/plain": [
       "<IPython.core.display.HTML object>"
      ]
     },
     "metadata": {},
     "output_type": "display_data"
    },
    {
     "data": {
      "text/html": [
       "Tracking run with wandb version 0.12.11"
      ],
      "text/plain": [
       "<IPython.core.display.HTML object>"
      ]
     },
     "metadata": {},
     "output_type": "display_data"
    },
    {
     "data": {
      "text/html": [
       "Run data is saved locally in <code>/workspaces/data-science-projects/house-price-prediction/Models/tensorflow/wandb/run-20220314_032532-rlktob5k</code>"
      ],
      "text/plain": [
       "<IPython.core.display.HTML object>"
      ]
     },
     "metadata": {},
     "output_type": "display_data"
    },
    {
     "data": {
      "text/html": [
       "Syncing run <strong><a href=\"https://wandb.ai/luiscostigan/house-price-prediction/runs/rlktob5k\" target=\"_blank\">sunny-sweep-6</a></strong> to <a href=\"https://wandb.ai/luiscostigan/house-price-prediction\" target=\"_blank\">Weights & Biases</a> (<a href=\"https://wandb.me/run\" target=\"_blank\">docs</a>)<br/>Sweep page:  <a href=\"https://wandb.ai/luiscostigan/house-price-prediction/sweeps/e8odal49\" target=\"_blank\">https://wandb.ai/luiscostigan/house-price-prediction/sweeps/e8odal49</a>"
      ],
      "text/plain": [
       "<IPython.core.display.HTML object>"
      ]
     },
     "metadata": {},
     "output_type": "display_data"
    },
    {
     "name": "stdout",
     "output_type": "stream",
     "text": [
      "37/37 [==============================] - 0s 3ms/step - loss: 0.2328 - root_mean_squared_error: 0.2578\n",
      "Score for fold 4: loss of 0.23275958001613617; root_mean_squared_error of 0.2577536702156067\n",
      "------------------------------------------------------------------------\n",
      "Score per fold\n",
      "------------------------------------------------------------------------\n",
      "> Fold 1 - Loss: 0.17496448755264282 - RMSE: 0.21391314268112183\n",
      "------------------------------------------------------------------------\n",
      "------------------------------------------------------------------------\n",
      "> Fold 2 - Loss: 0.13407626748085022 - RMSE: 0.18480677902698517\n",
      "------------------------------------------------------------------------\n",
      "------------------------------------------------------------------------\n",
      "> Fold 3 - Loss: 0.3222486674785614 - RMSE: 0.3500324487686157\n",
      "------------------------------------------------------------------------\n",
      "------------------------------------------------------------------------\n",
      "> Fold 4 - Loss: 0.23275958001613617 - RMSE: 0.2577536702156067\n",
      "------------------------------------------------------------------------\n",
      "Average scores for all folds:\n",
      "> RMSE: 0.25162651017308235 (+- 0.062466882023747124)\n",
      "> Loss: 0.21601225063204765\n",
      "------------------------------------------------------------------------\n",
      "\n"
     ]
    },
    {
     "data": {
      "text/html": [
       "Waiting for W&B process to finish... <strong style=\"color:green\">(success).</strong>"
      ],
      "text/plain": [
       "<IPython.core.display.HTML object>"
      ]
     },
     "metadata": {},
     "output_type": "display_data"
    },
    {
     "data": {
      "application/vnd.jupyter.widget-view+json": {
       "model_id": "f4a3f14d4007431492d3099a226b1791",
       "version_major": 2,
       "version_minor": 0
      },
      "text/plain": [
       "VBox(children=(Label(value='3.564 MB of 51.807 MB uploaded (0.000 MB deduped)\\r'), FloatProgress(value=0.06878…"
      ]
     },
     "metadata": {},
     "output_type": "display_data"
    },
    {
     "data": {
      "text/html": [
       "<style>\n",
       "    table.wandb td:nth-child(1) { padding: 0 10px; text-align: right }\n",
       "    .wandb-row { display: flex; flex-direction: row; flex-wrap: wrap; width: 100% }\n",
       "    .wandb-col { display: flex; flex-direction: column; flex-basis: 100%; flex: 1; padding: 10px; }\n",
       "    </style>\n",
       "<div class=\"wandb-row\"><div class=\"wandb-col\"><h3>Run history:</h3><br/><table class=\"wandb\"><tr><td>Mean Validation Loss (all folds)</td><td>▁</td></tr><tr><td>Mean Validation RMSE (all folds)</td><td>▁</td></tr><tr><td>epoch</td><td>▁▁▁▁▂▂▂▂▂▃▃▃▃▃▃▄▄▄▄▄▅▅▅▅▅▅▆▆▆▆▆▆▇▇▇▇▇███</td></tr><tr><td>loss</td><td>█▄▃▂▂▁▁▁▁▁▁▁▁▁▁▁▁▁▁▁▁▁▁▁▁▁▁▁▁▁▁▁▁▁▁▁▁▁▁▁</td></tr><tr><td>root_mean_squared_error</td><td>█▆▅▄▃▂▁▁▁▁▁▁▁▁▁▁▁▁▁▁▁▁▁▁▁▁▁▁▁▁▂▁▁▁▁▁▁▁▁▁</td></tr><tr><td>val_loss</td><td>█▆▃▂▁▂▁▂▁▁▁▁▂▁▁▁▁▁▁▂▁▂▁▁▁▁▁▁▁▁▂▁▁▁▁▁▁▁▁▂</td></tr><tr><td>val_root_mean_squared_error</td><td>█▇▄▃▁▂▂▂▁▂▁▁▂▂▁▁▁▁▁▂▁▂▁▁▁▁▁▁▁▁▂▁▁▁▁▁▁▁▁▂</td></tr></table><br/></div><div class=\"wandb-col\"><h3>Run summary:</h3><br/><table class=\"wandb\"><tr><td>Mean Validation Loss (all folds)</td><td>0.21601</td></tr><tr><td>Mean Validation RMSE (all folds)</td><td>0.25163</td></tr><tr><td>best_epoch</td><td>33</td></tr><tr><td>best_val_loss</td><td>0.07821</td></tr><tr><td>epoch</td><td>149</td></tr><tr><td>loss</td><td>0.13143</td></tr><tr><td>root_mean_squared_error</td><td>0.20482</td></tr><tr><td>val_loss</td><td>0.23276</td></tr><tr><td>val_root_mean_squared_error</td><td>0.25775</td></tr></table><br/></div></div>"
      ],
      "text/plain": [
       "<IPython.core.display.HTML object>"
      ]
     },
     "metadata": {},
     "output_type": "display_data"
    },
    {
     "data": {
      "text/html": [
       "Synced <strong style=\"color:#cdcd00\">sunny-sweep-6</strong>: <a href=\"https://wandb.ai/luiscostigan/house-price-prediction/runs/rlktob5k\" target=\"_blank\">https://wandb.ai/luiscostigan/house-price-prediction/runs/rlktob5k</a><br/>Synced 5 W&B file(s), 0 media file(s), 0 artifact file(s) and 1 other file(s)"
      ],
      "text/plain": [
       "<IPython.core.display.HTML object>"
      ]
     },
     "metadata": {},
     "output_type": "display_data"
    },
    {
     "data": {
      "text/html": [
       "Find logs at: <code>./wandb/run-20220314_032532-rlktob5k/logs</code>"
      ],
      "text/plain": [
       "<IPython.core.display.HTML object>"
      ]
     },
     "metadata": {},
     "output_type": "display_data"
    },
    {
     "data": {
      "text/html": [
       "Tracking run with wandb version 0.12.11"
      ],
      "text/plain": [
       "<IPython.core.display.HTML object>"
      ]
     },
     "metadata": {},
     "output_type": "display_data"
    },
    {
     "data": {
      "text/html": [
       "Run data is saved locally in <code>/workspaces/data-science-projects/house-price-prediction/Models/tensorflow/wandb/run-20220314_032626-rlktob5k</code>"
      ],
      "text/plain": [
       "<IPython.core.display.HTML object>"
      ]
     },
     "metadata": {},
     "output_type": "display_data"
    },
    {
     "data": {
      "text/html": [
       "Syncing run <strong><a href=\"https://wandb.ai/luiscostigan/house-price-prediction/runs/rlktob5k\" target=\"_blank\">sunny-sweep-6</a></strong> to <a href=\"https://wandb.ai/luiscostigan/house-price-prediction\" target=\"_blank\">Weights & Biases</a> (<a href=\"https://wandb.me/run\" target=\"_blank\">docs</a>)<br/>Sweep page:  <a href=\"https://wandb.ai/luiscostigan/house-price-prediction/sweeps/e8odal49\" target=\"_blank\">https://wandb.ai/luiscostigan/house-price-prediction/sweeps/e8odal49</a>"
      ],
      "text/plain": [
       "<IPython.core.display.HTML object>"
      ]
     },
     "metadata": {},
     "output_type": "display_data"
    },
    {
     "name": "stdout",
     "output_type": "stream",
     "text": [
      "37/37 [==============================] - 0s 4ms/step - loss: 0.1008 - root_mean_squared_error: 0.1608\n",
      "Score for fold 5: loss of 0.10080078989267349; root_mean_squared_error of 0.1608400046825409\n",
      "------------------------------------------------------------------------\n",
      "Score per fold\n",
      "------------------------------------------------------------------------\n",
      "> Fold 1 - Loss: 0.17496448755264282 - RMSE: 0.21391314268112183\n",
      "------------------------------------------------------------------------\n",
      "------------------------------------------------------------------------\n",
      "> Fold 2 - Loss: 0.13407626748085022 - RMSE: 0.18480677902698517\n",
      "------------------------------------------------------------------------\n",
      "------------------------------------------------------------------------\n",
      "> Fold 3 - Loss: 0.3222486674785614 - RMSE: 0.3500324487686157\n",
      "------------------------------------------------------------------------\n",
      "------------------------------------------------------------------------\n",
      "> Fold 4 - Loss: 0.23275958001613617 - RMSE: 0.2577536702156067\n",
      "------------------------------------------------------------------------\n",
      "------------------------------------------------------------------------\n",
      "> Fold 5 - Loss: 0.10080078989267349 - RMSE: 0.1608400046825409\n",
      "------------------------------------------------------------------------\n",
      "Average scores for all folds:\n",
      "> RMSE: 0.23346920907497407 (+- 0.06663662215692248)\n",
      "> Loss: 0.1929699584841728\n",
      "------------------------------------------------------------------------\n",
      "\n"
     ]
    },
    {
     "data": {
      "text/html": [
       "Waiting for W&B process to finish... <strong style=\"color:green\">(success).</strong>"
      ],
      "text/plain": [
       "<IPython.core.display.HTML object>"
      ]
     },
     "metadata": {},
     "output_type": "display_data"
    },
    {
     "data": {
      "application/vnd.jupyter.widget-view+json": {
       "model_id": "e89ec5907195427ba24e5a6ae2eb61ae",
       "version_major": 2,
       "version_minor": 0
      },
      "text/plain": [
       "VBox(children=(Label(value='2.399 MB of 51.808 MB uploaded (0.000 MB deduped)\\r'), FloatProgress(value=0.04631…"
      ]
     },
     "metadata": {},
     "output_type": "display_data"
    },
    {
     "data": {
      "text/html": [
       "<style>\n",
       "    table.wandb td:nth-child(1) { padding: 0 10px; text-align: right }\n",
       "    .wandb-row { display: flex; flex-direction: row; flex-wrap: wrap; width: 100% }\n",
       "    .wandb-col { display: flex; flex-direction: column; flex-basis: 100%; flex: 1; padding: 10px; }\n",
       "    </style>\n",
       "<div class=\"wandb-row\"><div class=\"wandb-col\"><h3>Run history:</h3><br/><table class=\"wandb\"><tr><td>Mean Validation Loss (all folds)</td><td>▁</td></tr><tr><td>Mean Validation RMSE (all folds)</td><td>▁</td></tr><tr><td>epoch</td><td>▁▁▁▁▂▂▂▂▂▃▃▃▃▃▃▄▄▄▄▄▅▅▅▅▅▅▆▆▆▆▆▆▇▇▇▇▇███</td></tr><tr><td>loss</td><td>█▅▃▂▂▂▁▁▁▁▁▁▁▁▁▁▁▁▁▁▁▁▁▁▁▁▁▁▁▁▁▁▁▁▁▁▁▁▁▁</td></tr><tr><td>root_mean_squared_error</td><td>█▇▆▄▃▂▁▁▁▁▁▁▁▁▁▁▂▁▁▁▁▁▁▁▁▂▂▁▁▁▁▁▁▁▁▂▁▁▁▂</td></tr><tr><td>val_loss</td><td>█▃▂▃▂▁▁▁▁▁▁▂▂▂▁▁▂▁▁▁▁▁▁▂▁▁▂▁▁▁▁▁▁▁▁▁▁▂▁▁</td></tr><tr><td>val_root_mean_squared_error</td><td>█▃▂▃▂▁▁▁▁▁▁▂▂▂▁▁▂▁▁▁▁▁▁▂▂▁▂▁▁▁▁▁▁▁▁▁▂▂▁▁</td></tr></table><br/></div><div class=\"wandb-col\"><h3>Run summary:</h3><br/><table class=\"wandb\"><tr><td>Mean Validation Loss (all folds)</td><td>0.19297</td></tr><tr><td>Mean Validation RMSE (all folds)</td><td>0.23347</td></tr><tr><td>best_epoch</td><td>103</td></tr><tr><td>best_val_loss</td><td>0.08277</td></tr><tr><td>epoch</td><td>149</td></tr><tr><td>loss</td><td>0.15993</td></tr><tr><td>root_mean_squared_error</td><td>0.23697</td></tr><tr><td>val_loss</td><td>0.1008</td></tr><tr><td>val_root_mean_squared_error</td><td>0.16084</td></tr></table><br/></div></div>"
      ],
      "text/plain": [
       "<IPython.core.display.HTML object>"
      ]
     },
     "metadata": {},
     "output_type": "display_data"
    },
    {
     "data": {
      "text/html": [
       "Synced <strong style=\"color:#cdcd00\">sunny-sweep-6</strong>: <a href=\"https://wandb.ai/luiscostigan/house-price-prediction/runs/rlktob5k\" target=\"_blank\">https://wandb.ai/luiscostigan/house-price-prediction/runs/rlktob5k</a><br/>Synced 5 W&B file(s), 0 media file(s), 0 artifact file(s) and 1 other file(s)"
      ],
      "text/plain": [
       "<IPython.core.display.HTML object>"
      ]
     },
     "metadata": {},
     "output_type": "display_data"
    },
    {
     "data": {
      "text/html": [
       "Find logs at: <code>./wandb/run-20220314_032626-rlktob5k/logs</code>"
      ],
      "text/plain": [
       "<IPython.core.display.HTML object>"
      ]
     },
     "metadata": {},
     "output_type": "display_data"
    },
    {
     "name": "stderr",
     "output_type": "stream",
     "text": [
      "\u001b[34m\u001b[1mwandb\u001b[0m: Agent Starting Run: 0y3t452r with config:\n",
      "\u001b[34m\u001b[1mwandb\u001b[0m: \tbatch_size: 8\n",
      "\u001b[34m\u001b[1mwandb\u001b[0m: \tbias1: 0.001\n",
      "\u001b[34m\u001b[1mwandb\u001b[0m: \tbias2: 0.01\n",
      "\u001b[34m\u001b[1mwandb\u001b[0m: \tdense1: 4096\n",
      "\u001b[34m\u001b[1mwandb\u001b[0m: \tdense2: 2048\n",
      "\u001b[34m\u001b[1mwandb\u001b[0m: \tdropout1: 0.20163163296423017\n",
      "\u001b[34m\u001b[1mwandb\u001b[0m: \tepochs: 150\n",
      "\u001b[34m\u001b[1mwandb\u001b[0m: \tlearning_rate: 0.01\n"
     ]
    },
    {
     "data": {
      "text/html": [
       "Tracking run with wandb version 0.12.11"
      ],
      "text/plain": [
       "<IPython.core.display.HTML object>"
      ]
     },
     "metadata": {},
     "output_type": "display_data"
    },
    {
     "data": {
      "text/html": [
       "Run data is saved locally in <code>/workspaces/data-science-projects/house-price-prediction/Models/tensorflow/wandb/run-20220314_032734-0y3t452r</code>"
      ],
      "text/plain": [
       "<IPython.core.display.HTML object>"
      ]
     },
     "metadata": {},
     "output_type": "display_data"
    },
    {
     "data": {
      "text/html": [
       "Syncing run <strong><a href=\"https://wandb.ai/luiscostigan/house-price-prediction/runs/0y3t452r\" target=\"_blank\">cerulean-sweep-7</a></strong> to <a href=\"https://wandb.ai/luiscostigan/house-price-prediction\" target=\"_blank\">Weights & Biases</a> (<a href=\"https://wandb.me/run\" target=\"_blank\">docs</a>)<br/>Sweep page:  <a href=\"https://wandb.ai/luiscostigan/house-price-prediction/sweeps/e8odal49\" target=\"_blank\">https://wandb.ai/luiscostigan/house-price-prediction/sweeps/e8odal49</a>"
      ],
      "text/plain": [
       "<IPython.core.display.HTML object>"
      ]
     },
     "metadata": {},
     "output_type": "display_data"
    },
    {
     "name": "stdout",
     "output_type": "stream",
     "text": [
      "37/37 [==============================] - 0s 4ms/step - loss: 0.2168 - root_mean_squared_error: 0.2577\n",
      "Score for fold 1: loss of 0.21676607429981232; root_mean_squared_error of 0.2577434778213501\n",
      "------------------------------------------------------------------------\n",
      "Score per fold\n",
      "------------------------------------------------------------------------\n",
      "> Fold 1 - Loss: 0.21676607429981232 - RMSE: 0.2577434778213501\n",
      "------------------------------------------------------------------------\n",
      "Average scores for all folds:\n",
      "> RMSE: 0.2577434778213501 (+- 0.0)\n",
      "> Loss: 0.21676607429981232\n",
      "------------------------------------------------------------------------\n",
      "\n"
     ]
    },
    {
     "data": {
      "text/html": [
       "Waiting for W&B process to finish... <strong style=\"color:green\">(success).</strong>"
      ],
      "text/plain": [
       "<IPython.core.display.HTML object>"
      ]
     },
     "metadata": {},
     "output_type": "display_data"
    },
    {
     "data": {
      "application/vnd.jupyter.widget-view+json": {
       "model_id": "508e5011d58e45faa72be25d3c7afdca",
       "version_major": 2,
       "version_minor": 0
      },
      "text/plain": [
       "VBox(children=(Label(value='2.587 MB of 110.800 MB uploaded (0.000 MB deduped)\\r'), FloatProgress(value=0.0233…"
      ]
     },
     "metadata": {},
     "output_type": "display_data"
    },
    {
     "data": {
      "text/html": [
       "<style>\n",
       "    table.wandb td:nth-child(1) { padding: 0 10px; text-align: right }\n",
       "    .wandb-row { display: flex; flex-direction: row; flex-wrap: wrap; width: 100% }\n",
       "    .wandb-col { display: flex; flex-direction: column; flex-basis: 100%; flex: 1; padding: 10px; }\n",
       "    </style>\n",
       "<div class=\"wandb-row\"><div class=\"wandb-col\"><h3>Run history:</h3><br/><table class=\"wandb\"><tr><td>Mean Validation Loss (all folds)</td><td>▁</td></tr><tr><td>Mean Validation RMSE (all folds)</td><td>▁</td></tr><tr><td>epoch</td><td>▁▁▁▁▂▂▂▂▂▃▃▃▃▃▃▄▄▄▄▄▅▅▅▅▅▅▆▆▆▆▆▆▇▇▇▇▇███</td></tr><tr><td>loss</td><td>█▆▅▄▂▁▁▁▁▁▁▁▁▁▁▁▁▁▁▁▁▁▁▁▁▁▁▁▁▁▁▁▁▁▁▁▁▁▁▁</td></tr><tr><td>root_mean_squared_error</td><td>█▆▆▄▂▁▁▁▁▁▁▂▁▁▁▁▁▁▁▁▁▁▁▁▁▁▁▁▁▁▁▁▁▁▁▁▁▁▁▁</td></tr><tr><td>val_loss</td><td>▇█▃▂▁▁▁▁▁▂▁▁▁▁▁▁▁▁▁▁▁▁▁▁▁▁▁▁▂▂▁▁▁▁▁▁▁▁▁▁</td></tr><tr><td>val_root_mean_squared_error</td><td>▆█▃▃▁▁▁▁▁▂▁▁▁▁▁▁▁▁▁▁▁▁▁▁▂▁▁▁▂▂▁▁▁▁▁▁▁▁▁▂</td></tr></table><br/></div><div class=\"wandb-col\"><h3>Run summary:</h3><br/><table class=\"wandb\"><tr><td>Mean Validation Loss (all folds)</td><td>0.21677</td></tr><tr><td>Mean Validation RMSE (all folds)</td><td>0.25774</td></tr><tr><td>best_epoch</td><td>135</td></tr><tr><td>best_val_loss</td><td>0.09859</td></tr><tr><td>epoch</td><td>149</td></tr><tr><td>loss</td><td>0.16428</td></tr><tr><td>root_mean_squared_error</td><td>0.22192</td></tr><tr><td>val_loss</td><td>0.21678</td></tr><tr><td>val_root_mean_squared_error</td><td>0.25777</td></tr></table><br/></div></div>"
      ],
      "text/plain": [
       "<IPython.core.display.HTML object>"
      ]
     },
     "metadata": {},
     "output_type": "display_data"
    },
    {
     "data": {
      "text/html": [
       "Synced <strong style=\"color:#cdcd00\">cerulean-sweep-7</strong>: <a href=\"https://wandb.ai/luiscostigan/house-price-prediction/runs/0y3t452r\" target=\"_blank\">https://wandb.ai/luiscostigan/house-price-prediction/runs/0y3t452r</a><br/>Synced 5 W&B file(s), 0 media file(s), 0 artifact file(s) and 1 other file(s)"
      ],
      "text/plain": [
       "<IPython.core.display.HTML object>"
      ]
     },
     "metadata": {},
     "output_type": "display_data"
    },
    {
     "data": {
      "text/html": [
       "Find logs at: <code>./wandb/run-20220314_032734-0y3t452r/logs</code>"
      ],
      "text/plain": [
       "<IPython.core.display.HTML object>"
      ]
     },
     "metadata": {},
     "output_type": "display_data"
    },
    {
     "data": {
      "text/html": [
       "Tracking run with wandb version 0.12.11"
      ],
      "text/plain": [
       "<IPython.core.display.HTML object>"
      ]
     },
     "metadata": {},
     "output_type": "display_data"
    },
    {
     "data": {
      "text/html": [
       "Run data is saved locally in <code>/workspaces/data-science-projects/house-price-prediction/Models/tensorflow/wandb/run-20220314_033026-0y3t452r</code>"
      ],
      "text/plain": [
       "<IPython.core.display.HTML object>"
      ]
     },
     "metadata": {},
     "output_type": "display_data"
    },
    {
     "data": {
      "text/html": [
       "Syncing run <strong><a href=\"https://wandb.ai/luiscostigan/house-price-prediction/runs/0y3t452r\" target=\"_blank\">cerulean-sweep-7</a></strong> to <a href=\"https://wandb.ai/luiscostigan/house-price-prediction\" target=\"_blank\">Weights & Biases</a> (<a href=\"https://wandb.me/run\" target=\"_blank\">docs</a>)<br/>Sweep page:  <a href=\"https://wandb.ai/luiscostigan/house-price-prediction/sweeps/e8odal49\" target=\"_blank\">https://wandb.ai/luiscostigan/house-price-prediction/sweeps/e8odal49</a>"
      ],
      "text/plain": [
       "<IPython.core.display.HTML object>"
      ]
     },
     "metadata": {},
     "output_type": "display_data"
    },
    {
     "name": "stdout",
     "output_type": "stream",
     "text": [
      "37/37 [==============================] - 0s 5ms/step - loss: 0.1316 - root_mean_squared_error: 0.1685\n",
      "Score for fold 2: loss of 0.13163228332996368; root_mean_squared_error of 0.1684987097978592\n",
      "------------------------------------------------------------------------\n",
      "Score per fold\n",
      "------------------------------------------------------------------------\n",
      "> Fold 1 - Loss: 0.21676607429981232 - RMSE: 0.2577434778213501\n",
      "------------------------------------------------------------------------\n",
      "------------------------------------------------------------------------\n",
      "> Fold 2 - Loss: 0.13163228332996368 - RMSE: 0.1684987097978592\n",
      "------------------------------------------------------------------------\n",
      "Average scores for all folds:\n",
      "> RMSE: 0.21312109380960464 (+- 0.04462238401174545)\n",
      "> Loss: 0.174199178814888\n",
      "------------------------------------------------------------------------\n",
      "\n"
     ]
    },
    {
     "data": {
      "text/html": [
       "Waiting for W&B process to finish... <strong style=\"color:green\">(success).</strong>"
      ],
      "text/plain": [
       "<IPython.core.display.HTML object>"
      ]
     },
     "metadata": {},
     "output_type": "display_data"
    },
    {
     "data": {
      "application/vnd.jupyter.widget-view+json": {
       "model_id": "94940d2eb46d4ed4b47af17d33348e2e",
       "version_major": 2,
       "version_minor": 0
      },
      "text/plain": [
       "VBox(children=(Label(value='0.814 MB of 110.800 MB uploaded (0.000 MB deduped)\\r'), FloatProgress(value=0.0073…"
      ]
     },
     "metadata": {},
     "output_type": "display_data"
    },
    {
     "data": {
      "text/html": [
       "<style>\n",
       "    table.wandb td:nth-child(1) { padding: 0 10px; text-align: right }\n",
       "    .wandb-row { display: flex; flex-direction: row; flex-wrap: wrap; width: 100% }\n",
       "    .wandb-col { display: flex; flex-direction: column; flex-basis: 100%; flex: 1; padding: 10px; }\n",
       "    </style>\n",
       "<div class=\"wandb-row\"><div class=\"wandb-col\"><h3>Run history:</h3><br/><table class=\"wandb\"><tr><td>Mean Validation Loss (all folds)</td><td>▁</td></tr><tr><td>Mean Validation RMSE (all folds)</td><td>▁</td></tr><tr><td>epoch</td><td>▁▁▁▁▂▂▂▂▂▃▃▃▃▃▃▄▄▄▄▄▅▅▅▅▅▅▆▆▆▆▆▆▇▇▇▇▇███</td></tr><tr><td>loss</td><td>█▆▄▃▁▁▁▁▁▁▁▁▁▁▁▁▁▁▁▁▁▁▁▁▁▁▁▁▁▁▁▁▁▁▁▁▁▁▁▁</td></tr><tr><td>root_mean_squared_error</td><td>█▇▅▄▁▁▁▁▁▁▁▁▁▁▁▁▁▁▁▁▁▁▁▁▁▁▁▁▁▁▁▁▁▁▁▁▁▁▁▁</td></tr><tr><td>val_loss</td><td>██▇▃▁▁▁▁▁▂▂▁▁▁▁▂▁▁▁▁▂▁▁▁▁▂▁▁▁▂▁▁▁▁▁▂▂▁▁▁</td></tr><tr><td>val_root_mean_squared_error</td><td>▆██▃▁▁▁▁▁▂▂▁▁▁▁▂▁▁▁▁▂▁▁▁▁▂▁▁▁▂▁▁▁▂▁▂▂▁▁▁</td></tr></table><br/></div><div class=\"wandb-col\"><h3>Run summary:</h3><br/><table class=\"wandb\"><tr><td>Mean Validation Loss (all folds)</td><td>0.1742</td></tr><tr><td>Mean Validation RMSE (all folds)</td><td>0.21312</td></tr><tr><td>best_epoch</td><td>100</td></tr><tr><td>best_val_loss</td><td>0.09971</td></tr><tr><td>epoch</td><td>149</td></tr><tr><td>loss</td><td>0.17079</td></tr><tr><td>root_mean_squared_error</td><td>0.23016</td></tr><tr><td>val_loss</td><td>0.13162</td></tr><tr><td>val_root_mean_squared_error</td><td>0.16848</td></tr></table><br/></div></div>"
      ],
      "text/plain": [
       "<IPython.core.display.HTML object>"
      ]
     },
     "metadata": {},
     "output_type": "display_data"
    },
    {
     "data": {
      "text/html": [
       "Synced <strong style=\"color:#cdcd00\">cerulean-sweep-7</strong>: <a href=\"https://wandb.ai/luiscostigan/house-price-prediction/runs/0y3t452r\" target=\"_blank\">https://wandb.ai/luiscostigan/house-price-prediction/runs/0y3t452r</a><br/>Synced 5 W&B file(s), 0 media file(s), 0 artifact file(s) and 1 other file(s)"
      ],
      "text/plain": [
       "<IPython.core.display.HTML object>"
      ]
     },
     "metadata": {},
     "output_type": "display_data"
    },
    {
     "data": {
      "text/html": [
       "Find logs at: <code>./wandb/run-20220314_033026-0y3t452r/logs</code>"
      ],
      "text/plain": [
       "<IPython.core.display.HTML object>"
      ]
     },
     "metadata": {},
     "output_type": "display_data"
    },
    {
     "data": {
      "text/html": [
       "Tracking run with wandb version 0.12.11"
      ],
      "text/plain": [
       "<IPython.core.display.HTML object>"
      ]
     },
     "metadata": {},
     "output_type": "display_data"
    },
    {
     "data": {
      "text/html": [
       "Run data is saved locally in <code>/workspaces/data-science-projects/house-price-prediction/Models/tensorflow/wandb/run-20220314_033306-0y3t452r</code>"
      ],
      "text/plain": [
       "<IPython.core.display.HTML object>"
      ]
     },
     "metadata": {},
     "output_type": "display_data"
    },
    {
     "data": {
      "text/html": [
       "Syncing run <strong><a href=\"https://wandb.ai/luiscostigan/house-price-prediction/runs/0y3t452r\" target=\"_blank\">cerulean-sweep-7</a></strong> to <a href=\"https://wandb.ai/luiscostigan/house-price-prediction\" target=\"_blank\">Weights & Biases</a> (<a href=\"https://wandb.me/run\" target=\"_blank\">docs</a>)<br/>Sweep page:  <a href=\"https://wandb.ai/luiscostigan/house-price-prediction/sweeps/e8odal49\" target=\"_blank\">https://wandb.ai/luiscostigan/house-price-prediction/sweeps/e8odal49</a>"
      ],
      "text/plain": [
       "<IPython.core.display.HTML object>"
      ]
     },
     "metadata": {},
     "output_type": "display_data"
    },
    {
     "name": "stdout",
     "output_type": "stream",
     "text": [
      "37/37 [==============================] - 0s 5ms/step - loss: 0.1322 - root_mean_squared_error: 0.1731\n",
      "Score for fold 3: loss of 0.13216635584831238; root_mean_squared_error of 0.17310120165348053\n",
      "------------------------------------------------------------------------\n",
      "Score per fold\n",
      "------------------------------------------------------------------------\n",
      "> Fold 1 - Loss: 0.21676607429981232 - RMSE: 0.2577434778213501\n",
      "------------------------------------------------------------------------\n",
      "------------------------------------------------------------------------\n",
      "> Fold 2 - Loss: 0.13163228332996368 - RMSE: 0.1684987097978592\n",
      "------------------------------------------------------------------------\n",
      "------------------------------------------------------------------------\n",
      "> Fold 3 - Loss: 0.13216635584831238 - RMSE: 0.17310120165348053\n",
      "------------------------------------------------------------------------\n",
      "Average scores for all folds:\n",
      "> RMSE: 0.19978112975756326 (+- 0.041028616660577645)\n",
      "> Loss: 0.16018823782602945\n",
      "------------------------------------------------------------------------\n",
      "\n"
     ]
    },
    {
     "data": {
      "text/html": [
       "Waiting for W&B process to finish... <strong style=\"color:green\">(success).</strong>"
      ],
      "text/plain": [
       "<IPython.core.display.HTML object>"
      ]
     },
     "metadata": {},
     "output_type": "display_data"
    },
    {
     "data": {
      "application/vnd.jupyter.widget-view+json": {
       "model_id": "7619e770bb4c4386bb76efc1cf675fdb",
       "version_major": 2,
       "version_minor": 0
      },
      "text/plain": [
       "VBox(children=(Label(value='1.603 MB of 110.800 MB uploaded (0.000 MB deduped)\\r'), FloatProgress(value=0.0144…"
      ]
     },
     "metadata": {},
     "output_type": "display_data"
    },
    {
     "data": {
      "text/html": [
       "<style>\n",
       "    table.wandb td:nth-child(1) { padding: 0 10px; text-align: right }\n",
       "    .wandb-row { display: flex; flex-direction: row; flex-wrap: wrap; width: 100% }\n",
       "    .wandb-col { display: flex; flex-direction: column; flex-basis: 100%; flex: 1; padding: 10px; }\n",
       "    </style>\n",
       "<div class=\"wandb-row\"><div class=\"wandb-col\"><h3>Run history:</h3><br/><table class=\"wandb\"><tr><td>Mean Validation Loss (all folds)</td><td>▁</td></tr><tr><td>Mean Validation RMSE (all folds)</td><td>▁</td></tr><tr><td>epoch</td><td>▁▁▁▁▂▂▂▂▂▃▃▃▃▃▃▄▄▄▄▄▅▅▅▅▅▅▆▆▆▆▆▆▇▇▇▇▇███</td></tr><tr><td>loss</td><td>█▆▄▃▁▁▁▁▁▁▁▁▁▁▁▁▁▁▁▁▁▁▁▁▁▁▁▁▁▁▁▁▁▁▁▁▁▁▁▁</td></tr><tr><td>root_mean_squared_error</td><td>█▆▆▃▁▁▁▁▁▁▁▁▁▁▁▁▁▁▁▁▁▁▁▁▁▁▁▁▁▁▁▁▁▁▁▁▁▁▁▁</td></tr><tr><td>val_loss</td><td>█▄▃▃▁▁▁▁▁▂▁▁▁▁▁▁▁▁▁▁▁▁▁▁▁▁▁▁▁▁▁▁▁▁▁▁▁▂▁▁</td></tr><tr><td>val_root_mean_squared_error</td><td>█▄▃▃▁▁▁▂▁▂▁▁▁▁▁▁▁▁▁▁▁▁▁▁▁▁▁▁▁▁▂▁▁▁▁▁▁▂▁▁</td></tr></table><br/></div><div class=\"wandb-col\"><h3>Run summary:</h3><br/><table class=\"wandb\"><tr><td>Mean Validation Loss (all folds)</td><td>0.16019</td></tr><tr><td>Mean Validation RMSE (all folds)</td><td>0.19978</td></tr><tr><td>best_epoch</td><td>116</td></tr><tr><td>best_val_loss</td><td>0.09299</td></tr><tr><td>epoch</td><td>149</td></tr><tr><td>loss</td><td>0.16558</td></tr><tr><td>root_mean_squared_error</td><td>0.23329</td></tr><tr><td>val_loss</td><td>0.13217</td></tr><tr><td>val_root_mean_squared_error</td><td>0.17311</td></tr></table><br/></div></div>"
      ],
      "text/plain": [
       "<IPython.core.display.HTML object>"
      ]
     },
     "metadata": {},
     "output_type": "display_data"
    },
    {
     "data": {
      "text/html": [
       "Synced <strong style=\"color:#cdcd00\">cerulean-sweep-7</strong>: <a href=\"https://wandb.ai/luiscostigan/house-price-prediction/runs/0y3t452r\" target=\"_blank\">https://wandb.ai/luiscostigan/house-price-prediction/runs/0y3t452r</a><br/>Synced 5 W&B file(s), 0 media file(s), 0 artifact file(s) and 1 other file(s)"
      ],
      "text/plain": [
       "<IPython.core.display.HTML object>"
      ]
     },
     "metadata": {},
     "output_type": "display_data"
    },
    {
     "data": {
      "text/html": [
       "Find logs at: <code>./wandb/run-20220314_033306-0y3t452r/logs</code>"
      ],
      "text/plain": [
       "<IPython.core.display.HTML object>"
      ]
     },
     "metadata": {},
     "output_type": "display_data"
    },
    {
     "data": {
      "text/html": [
       "Tracking run with wandb version 0.12.11"
      ],
      "text/plain": [
       "<IPython.core.display.HTML object>"
      ]
     },
     "metadata": {},
     "output_type": "display_data"
    },
    {
     "data": {
      "text/html": [
       "Run data is saved locally in <code>/workspaces/data-science-projects/house-price-prediction/Models/tensorflow/wandb/run-20220314_033555-0y3t452r</code>"
      ],
      "text/plain": [
       "<IPython.core.display.HTML object>"
      ]
     },
     "metadata": {},
     "output_type": "display_data"
    },
    {
     "data": {
      "text/html": [
       "Syncing run <strong><a href=\"https://wandb.ai/luiscostigan/house-price-prediction/runs/0y3t452r\" target=\"_blank\">cerulean-sweep-7</a></strong> to <a href=\"https://wandb.ai/luiscostigan/house-price-prediction\" target=\"_blank\">Weights & Biases</a> (<a href=\"https://wandb.me/run\" target=\"_blank\">docs</a>)<br/>Sweep page:  <a href=\"https://wandb.ai/luiscostigan/house-price-prediction/sweeps/e8odal49\" target=\"_blank\">https://wandb.ai/luiscostigan/house-price-prediction/sweeps/e8odal49</a>"
      ],
      "text/plain": [
       "<IPython.core.display.HTML object>"
      ]
     },
     "metadata": {},
     "output_type": "display_data"
    },
    {
     "name": "stdout",
     "output_type": "stream",
     "text": [
      "37/37 [==============================] - 0s 4ms/step - loss: 0.1635 - root_mean_squared_error: 0.2034\n",
      "Score for fold 4: loss of 0.1634809374809265; root_mean_squared_error of 0.2034296840429306\n",
      "------------------------------------------------------------------------\n",
      "Score per fold\n",
      "------------------------------------------------------------------------\n",
      "> Fold 1 - Loss: 0.21676607429981232 - RMSE: 0.2577434778213501\n",
      "------------------------------------------------------------------------\n",
      "------------------------------------------------------------------------\n",
      "> Fold 2 - Loss: 0.13163228332996368 - RMSE: 0.1684987097978592\n",
      "------------------------------------------------------------------------\n",
      "------------------------------------------------------------------------\n",
      "> Fold 3 - Loss: 0.13216635584831238 - RMSE: 0.17310120165348053\n",
      "------------------------------------------------------------------------\n",
      "------------------------------------------------------------------------\n",
      "> Fold 4 - Loss: 0.1634809374809265 - RMSE: 0.2034296840429306\n",
      "------------------------------------------------------------------------\n",
      "Average scores for all folds:\n",
      "> RMSE: 0.2006932683289051 (+- 0.03556693027420923)\n",
      "> Loss: 0.16101141273975372\n",
      "------------------------------------------------------------------------\n",
      "\n"
     ]
    },
    {
     "data": {
      "text/html": [
       "Waiting for W&B process to finish... <strong style=\"color:green\">(success).</strong>"
      ],
      "text/plain": [
       "<IPython.core.display.HTML object>"
      ]
     },
     "metadata": {},
     "output_type": "display_data"
    },
    {
     "data": {
      "application/vnd.jupyter.widget-view+json": {
       "model_id": "b30df533829d472a8ab128d9674f040a",
       "version_major": 2,
       "version_minor": 0
      },
      "text/plain": [
       "VBox(children=(Label(value='0.634 MB of 110.800 MB uploaded (0.000 MB deduped)\\r'), FloatProgress(value=0.0057…"
      ]
     },
     "metadata": {},
     "output_type": "display_data"
    },
    {
     "data": {
      "text/html": [
       "<style>\n",
       "    table.wandb td:nth-child(1) { padding: 0 10px; text-align: right }\n",
       "    .wandb-row { display: flex; flex-direction: row; flex-wrap: wrap; width: 100% }\n",
       "    .wandb-col { display: flex; flex-direction: column; flex-basis: 100%; flex: 1; padding: 10px; }\n",
       "    </style>\n",
       "<div class=\"wandb-row\"><div class=\"wandb-col\"><h3>Run history:</h3><br/><table class=\"wandb\"><tr><td>Mean Validation Loss (all folds)</td><td>▁</td></tr><tr><td>Mean Validation RMSE (all folds)</td><td>▁</td></tr><tr><td>epoch</td><td>▁▁▁▁▂▂▂▂▂▃▃▃▃▃▃▄▄▄▄▄▅▅▅▅▅▅▆▆▆▆▆▆▇▇▇▇▇███</td></tr><tr><td>loss</td><td>█▆▄▂▁▁▁▁▁▁▁▁▁▁▁▁▁▁▁▁▁▁▁▁▁▁▁▁▁▁▁▁▁▁▁▁▁▁▁▁</td></tr><tr><td>root_mean_squared_error</td><td>█▆▅▂▁▁▁▁▁▁▁▁▁▁▁▁▁▁▁▁▁▁▁▁▁▁▁▁▁▁▁▁▁▁▁▁▁▁▁▁</td></tr><tr><td>val_loss</td><td>█▇▄▁▁▂▂▁▂▂▁▁▁▂▁▁▁▁▁▁▁▁▁▁▁▁▁▁▂▁▁▁▁▁▁▁▁▁▁▁</td></tr><tr><td>val_root_mean_squared_error</td><td>██▅▂▁▂▂▁▂▂▂▁▁▂▁▁▂▁▁▁▁▁▁▁▁▂▁▁▂▁▁▂▁▁▂▂▁▁▁▂</td></tr></table><br/></div><div class=\"wandb-col\"><h3>Run summary:</h3><br/><table class=\"wandb\"><tr><td>Mean Validation Loss (all folds)</td><td>0.16101</td></tr><tr><td>Mean Validation RMSE (all folds)</td><td>0.20069</td></tr><tr><td>best_epoch</td><td>68</td></tr><tr><td>best_val_loss</td><td>0.10168</td></tr><tr><td>epoch</td><td>149</td></tr><tr><td>loss</td><td>0.20515</td></tr><tr><td>root_mean_squared_error</td><td>0.27198</td></tr><tr><td>val_loss</td><td>0.16348</td></tr><tr><td>val_root_mean_squared_error</td><td>0.20343</td></tr></table><br/></div></div>"
      ],
      "text/plain": [
       "<IPython.core.display.HTML object>"
      ]
     },
     "metadata": {},
     "output_type": "display_data"
    },
    {
     "data": {
      "text/html": [
       "Synced <strong style=\"color:#cdcd00\">cerulean-sweep-7</strong>: <a href=\"https://wandb.ai/luiscostigan/house-price-prediction/runs/0y3t452r\" target=\"_blank\">https://wandb.ai/luiscostigan/house-price-prediction/runs/0y3t452r</a><br/>Synced 5 W&B file(s), 0 media file(s), 0 artifact file(s) and 1 other file(s)"
      ],
      "text/plain": [
       "<IPython.core.display.HTML object>"
      ]
     },
     "metadata": {},
     "output_type": "display_data"
    },
    {
     "data": {
      "text/html": [
       "Find logs at: <code>./wandb/run-20220314_033555-0y3t452r/logs</code>"
      ],
      "text/plain": [
       "<IPython.core.display.HTML object>"
      ]
     },
     "metadata": {},
     "output_type": "display_data"
    },
    {
     "data": {
      "text/html": [
       "Tracking run with wandb version 0.12.11"
      ],
      "text/plain": [
       "<IPython.core.display.HTML object>"
      ]
     },
     "metadata": {},
     "output_type": "display_data"
    },
    {
     "data": {
      "text/html": [
       "Run data is saved locally in <code>/workspaces/data-science-projects/house-price-prediction/Models/tensorflow/wandb/run-20220314_033846-0y3t452r</code>"
      ],
      "text/plain": [
       "<IPython.core.display.HTML object>"
      ]
     },
     "metadata": {},
     "output_type": "display_data"
    },
    {
     "data": {
      "text/html": [
       "Syncing run <strong><a href=\"https://wandb.ai/luiscostigan/house-price-prediction/runs/0y3t452r\" target=\"_blank\">cerulean-sweep-7</a></strong> to <a href=\"https://wandb.ai/luiscostigan/house-price-prediction\" target=\"_blank\">Weights & Biases</a> (<a href=\"https://wandb.me/run\" target=\"_blank\">docs</a>)<br/>Sweep page:  <a href=\"https://wandb.ai/luiscostigan/house-price-prediction/sweeps/e8odal49\" target=\"_blank\">https://wandb.ai/luiscostigan/house-price-prediction/sweeps/e8odal49</a>"
      ],
      "text/plain": [
       "<IPython.core.display.HTML object>"
      ]
     },
     "metadata": {},
     "output_type": "display_data"
    },
    {
     "name": "stdout",
     "output_type": "stream",
     "text": [
      "37/37 [==============================] - 0s 4ms/step - loss: 0.1266 - root_mean_squared_error: 0.1576\n",
      "Score for fold 5: loss of 0.12662886083126068; root_mean_squared_error of 0.15761494636535645\n",
      "------------------------------------------------------------------------\n",
      "Score per fold\n",
      "------------------------------------------------------------------------\n",
      "> Fold 1 - Loss: 0.21676607429981232 - RMSE: 0.2577434778213501\n",
      "------------------------------------------------------------------------\n",
      "------------------------------------------------------------------------\n",
      "> Fold 2 - Loss: 0.13163228332996368 - RMSE: 0.1684987097978592\n",
      "------------------------------------------------------------------------\n",
      "------------------------------------------------------------------------\n",
      "> Fold 3 - Loss: 0.13216635584831238 - RMSE: 0.17310120165348053\n",
      "------------------------------------------------------------------------\n",
      "------------------------------------------------------------------------\n",
      "> Fold 4 - Loss: 0.1634809374809265 - RMSE: 0.2034296840429306\n",
      "------------------------------------------------------------------------\n",
      "------------------------------------------------------------------------\n",
      "> Fold 5 - Loss: 0.12662886083126068 - RMSE: 0.15761494636535645\n",
      "------------------------------------------------------------------------\n",
      "Average scores for all folds:\n",
      "> RMSE: 0.19207760393619538 (+- 0.03617905353952193)\n",
      "> Loss: 0.1541349023580551\n",
      "------------------------------------------------------------------------\n",
      "\n"
     ]
    },
    {
     "data": {
      "text/html": [
       "Waiting for W&B process to finish... <strong style=\"color:green\">(success).</strong>"
      ],
      "text/plain": [
       "<IPython.core.display.HTML object>"
      ]
     },
     "metadata": {},
     "output_type": "display_data"
    },
    {
     "data": {
      "application/vnd.jupyter.widget-view+json": {
       "model_id": "750710dbdc094cc092323a7f8c16eddf",
       "version_major": 2,
       "version_minor": 0
      },
      "text/plain": [
       "VBox(children=(Label(value='3.313 MB of 110.800 MB uploaded (0.000 MB deduped)\\r'), FloatProgress(value=0.0299…"
      ]
     },
     "metadata": {},
     "output_type": "display_data"
    },
    {
     "data": {
      "text/html": [
       "<style>\n",
       "    table.wandb td:nth-child(1) { padding: 0 10px; text-align: right }\n",
       "    .wandb-row { display: flex; flex-direction: row; flex-wrap: wrap; width: 100% }\n",
       "    .wandb-col { display: flex; flex-direction: column; flex-basis: 100%; flex: 1; padding: 10px; }\n",
       "    </style>\n",
       "<div class=\"wandb-row\"><div class=\"wandb-col\"><h3>Run history:</h3><br/><table class=\"wandb\"><tr><td>Mean Validation Loss (all folds)</td><td>▁</td></tr><tr><td>Mean Validation RMSE (all folds)</td><td>▁</td></tr><tr><td>epoch</td><td>▁▁▁▁▂▂▂▂▂▃▃▃▃▃▃▄▄▄▄▄▅▅▅▅▅▅▆▆▆▆▆▆▇▇▇▇▇███</td></tr><tr><td>loss</td><td>█▆▄▁▁▁▁▁▁▁▁▁▁▁▁▁▁▁▁▁▁▁▁▁▁▁▁▁▁▁▁▁▁▁▁▁▁▁▁▁</td></tr><tr><td>root_mean_squared_error</td><td>█▆▅▁▁▁▁▁▁▁▁▁▁▁▁▁▁▁▁▁▁▁▁▁▁▁▁▁▁▁▁▁▁▁▁▁▁▁▁▁</td></tr><tr><td>val_loss</td><td>█▇▄▂▁▁▁▂▂▂▁▂▁▁▁▁▂▁▁▂▁▁▁▁▁▁▁▁▁▁▂▁▁▁▁▁▁▁▁▁</td></tr><tr><td>val_root_mean_squared_error</td><td>█▇▄▃▁▁▁▂▂▂▁▂▂▁▂▁▂▁▁▂▁▁▂▁▁▂▁▂▁▁▂▂▁▁▁▁▁▁▁▁</td></tr></table><br/></div><div class=\"wandb-col\"><h3>Run summary:</h3><br/><table class=\"wandb\"><tr><td>Mean Validation Loss (all folds)</td><td>0.15413</td></tr><tr><td>Mean Validation RMSE (all folds)</td><td>0.19208</td></tr><tr><td>best_epoch</td><td>36</td></tr><tr><td>best_val_loss</td><td>0.09816</td></tr><tr><td>epoch</td><td>149</td></tr><tr><td>loss</td><td>0.17315</td></tr><tr><td>root_mean_squared_error</td><td>0.23733</td></tr><tr><td>val_loss</td><td>0.12662</td></tr><tr><td>val_root_mean_squared_error</td><td>0.15761</td></tr></table><br/></div></div>"
      ],
      "text/plain": [
       "<IPython.core.display.HTML object>"
      ]
     },
     "metadata": {},
     "output_type": "display_data"
    },
    {
     "data": {
      "text/html": [
       "Synced <strong style=\"color:#cdcd00\">cerulean-sweep-7</strong>: <a href=\"https://wandb.ai/luiscostigan/house-price-prediction/runs/0y3t452r\" target=\"_blank\">https://wandb.ai/luiscostigan/house-price-prediction/runs/0y3t452r</a><br/>Synced 5 W&B file(s), 0 media file(s), 0 artifact file(s) and 1 other file(s)"
      ],
      "text/plain": [
       "<IPython.core.display.HTML object>"
      ]
     },
     "metadata": {},
     "output_type": "display_data"
    },
    {
     "data": {
      "text/html": [
       "Find logs at: <code>./wandb/run-20220314_033846-0y3t452r/logs</code>"
      ],
      "text/plain": [
       "<IPython.core.display.HTML object>"
      ]
     },
     "metadata": {},
     "output_type": "display_data"
    },
    {
     "name": "stderr",
     "output_type": "stream",
     "text": [
      "\u001b[34m\u001b[1mwandb\u001b[0m: Agent Starting Run: g3bvjzbp with config:\n",
      "\u001b[34m\u001b[1mwandb\u001b[0m: \tbatch_size: 32\n",
      "\u001b[34m\u001b[1mwandb\u001b[0m: \tbias1: 0.001\n",
      "\u001b[34m\u001b[1mwandb\u001b[0m: \tbias2: 0.001\n",
      "\u001b[34m\u001b[1mwandb\u001b[0m: \tdense1: 1024\n",
      "\u001b[34m\u001b[1mwandb\u001b[0m: \tdense2: 1024\n",
      "\u001b[34m\u001b[1mwandb\u001b[0m: \tdropout1: 0.18793855505863025\n",
      "\u001b[34m\u001b[1mwandb\u001b[0m: \tepochs: 150\n",
      "\u001b[34m\u001b[1mwandb\u001b[0m: \tlearning_rate: 0.01\n"
     ]
    },
    {
     "data": {
      "text/html": [
       "Tracking run with wandb version 0.12.11"
      ],
      "text/plain": [
       "<IPython.core.display.HTML object>"
      ]
     },
     "metadata": {},
     "output_type": "display_data"
    },
    {
     "data": {
      "text/html": [
       "Run data is saved locally in <code>/workspaces/data-science-projects/house-price-prediction/Models/tensorflow/wandb/run-20220314_034128-g3bvjzbp</code>"
      ],
      "text/plain": [
       "<IPython.core.display.HTML object>"
      ]
     },
     "metadata": {},
     "output_type": "display_data"
    },
    {
     "data": {
      "text/html": [
       "Syncing run <strong><a href=\"https://wandb.ai/luiscostigan/house-price-prediction/runs/g3bvjzbp\" target=\"_blank\">prime-sweep-8</a></strong> to <a href=\"https://wandb.ai/luiscostigan/house-price-prediction\" target=\"_blank\">Weights & Biases</a> (<a href=\"https://wandb.me/run\" target=\"_blank\">docs</a>)<br/>Sweep page:  <a href=\"https://wandb.ai/luiscostigan/house-price-prediction/sweeps/e8odal49\" target=\"_blank\">https://wandb.ai/luiscostigan/house-price-prediction/sweeps/e8odal49</a>"
      ],
      "text/plain": [
       "<IPython.core.display.HTML object>"
      ]
     },
     "metadata": {},
     "output_type": "display_data"
    },
    {
     "name": "stdout",
     "output_type": "stream",
     "text": [
      "37/37 [==============================] - 0s 4ms/step - loss: 0.0963 - root_mean_squared_error: 0.1181\n",
      "Score for fold 1: loss of 0.09634234756231308; root_mean_squared_error of 0.11809083074331284\n",
      "------------------------------------------------------------------------\n",
      "Score per fold\n",
      "------------------------------------------------------------------------\n",
      "> Fold 1 - Loss: 0.09634234756231308 - RMSE: 0.11809083074331284\n",
      "------------------------------------------------------------------------\n",
      "Average scores for all folds:\n",
      "> RMSE: 0.11809083074331284 (+- 0.0)\n",
      "> Loss: 0.09634234756231308\n",
      "------------------------------------------------------------------------\n",
      "\n"
     ]
    },
    {
     "data": {
      "text/html": [
       "Waiting for W&B process to finish... <strong style=\"color:green\">(success).</strong>"
      ],
      "text/plain": [
       "<IPython.core.display.HTML object>"
      ]
     },
     "metadata": {},
     "output_type": "display_data"
    },
    {
     "data": {
      "application/vnd.jupyter.widget-view+json": {
       "model_id": "84dd580b66fe4c6fa849aba160e5a652",
       "version_major": 2,
       "version_minor": 0
      },
      "text/plain": [
       "VBox(children=(Label(value='3.501 MB of 15.737 MB uploaded (0.000 MB deduped)\\r'), FloatProgress(value=0.22247…"
      ]
     },
     "metadata": {},
     "output_type": "display_data"
    },
    {
     "data": {
      "text/html": [
       "<style>\n",
       "    table.wandb td:nth-child(1) { padding: 0 10px; text-align: right }\n",
       "    .wandb-row { display: flex; flex-direction: row; flex-wrap: wrap; width: 100% }\n",
       "    .wandb-col { display: flex; flex-direction: column; flex-basis: 100%; flex: 1; padding: 10px; }\n",
       "    </style>\n",
       "<div class=\"wandb-row\"><div class=\"wandb-col\"><h3>Run history:</h3><br/><table class=\"wandb\"><tr><td>Mean Validation Loss (all folds)</td><td>▁</td></tr><tr><td>Mean Validation RMSE (all folds)</td><td>▁</td></tr><tr><td>epoch</td><td>▁▁▁▁▂▂▂▂▂▃▃▃▃▃▃▄▄▄▄▄▅▅▅▅▅▅▆▆▆▆▆▆▇▇▇▇▇███</td></tr><tr><td>loss</td><td>█▅▄▄▃▃▃▃▃▃▃▂▂▂▁▁▁▁▁▁▁▁▁▁▁▁▁▁▁▁▁▁▁▁▁▁▁▁▁▁</td></tr><tr><td>root_mean_squared_error</td><td>█▆▅▅▄▄▄▄▅▄▄▃▃▂▂▁▁▁▁▁▁▁▁▁▁▁▁▁▁▁▁▁▁▁▁▁▁▁▁▁</td></tr><tr><td>val_loss</td><td>█▅▃▅▄▅▃▃▃▃▃▂▄▄▄▁▂▂▁▁▁▁▁▁▁▁▁▁▁▁▁▁▁▁▁▁▁▁▁▁</td></tr><tr><td>val_root_mean_squared_error</td><td>█▆▄█▆█▄▄▄▄▅▃▆▆▅▁▂▂▂▂▁▂▁▁▂▁▁▁▁▂▁▁▁▁▁▁▁▁▁▁</td></tr></table><br/></div><div class=\"wandb-col\"><h3>Run summary:</h3><br/><table class=\"wandb\"><tr><td>Mean Validation Loss (all folds)</td><td>0.09634</td></tr><tr><td>Mean Validation RMSE (all folds)</td><td>0.11809</td></tr><tr><td>best_epoch</td><td>141</td></tr><tr><td>best_val_loss</td><td>0.09293</td></tr><tr><td>epoch</td><td>149</td></tr><tr><td>loss</td><td>0.13617</td></tr><tr><td>root_mean_squared_error</td><td>0.16828</td></tr><tr><td>val_loss</td><td>0.09634</td></tr><tr><td>val_root_mean_squared_error</td><td>0.11809</td></tr></table><br/></div></div>"
      ],
      "text/plain": [
       "<IPython.core.display.HTML object>"
      ]
     },
     "metadata": {},
     "output_type": "display_data"
    },
    {
     "data": {
      "text/html": [
       "Synced <strong style=\"color:#cdcd00\">prime-sweep-8</strong>: <a href=\"https://wandb.ai/luiscostigan/house-price-prediction/runs/g3bvjzbp\" target=\"_blank\">https://wandb.ai/luiscostigan/house-price-prediction/runs/g3bvjzbp</a><br/>Synced 5 W&B file(s), 0 media file(s), 0 artifact file(s) and 1 other file(s)"
      ],
      "text/plain": [
       "<IPython.core.display.HTML object>"
      ]
     },
     "metadata": {},
     "output_type": "display_data"
    },
    {
     "data": {
      "text/html": [
       "Find logs at: <code>./wandb/run-20220314_034128-g3bvjzbp/logs</code>"
      ],
      "text/plain": [
       "<IPython.core.display.HTML object>"
      ]
     },
     "metadata": {},
     "output_type": "display_data"
    },
    {
     "data": {
      "text/html": [
       "Tracking run with wandb version 0.12.11"
      ],
      "text/plain": [
       "<IPython.core.display.HTML object>"
      ]
     },
     "metadata": {},
     "output_type": "display_data"
    },
    {
     "data": {
      "text/html": [
       "Run data is saved locally in <code>/workspaces/data-science-projects/house-price-prediction/Models/tensorflow/wandb/run-20220314_034212-g3bvjzbp</code>"
      ],
      "text/plain": [
       "<IPython.core.display.HTML object>"
      ]
     },
     "metadata": {},
     "output_type": "display_data"
    },
    {
     "data": {
      "text/html": [
       "Syncing run <strong><a href=\"https://wandb.ai/luiscostigan/house-price-prediction/runs/g3bvjzbp\" target=\"_blank\">prime-sweep-8</a></strong> to <a href=\"https://wandb.ai/luiscostigan/house-price-prediction\" target=\"_blank\">Weights & Biases</a> (<a href=\"https://wandb.me/run\" target=\"_blank\">docs</a>)<br/>Sweep page:  <a href=\"https://wandb.ai/luiscostigan/house-price-prediction/sweeps/e8odal49\" target=\"_blank\">https://wandb.ai/luiscostigan/house-price-prediction/sweeps/e8odal49</a>"
      ],
      "text/plain": [
       "<IPython.core.display.HTML object>"
      ]
     },
     "metadata": {},
     "output_type": "display_data"
    },
    {
     "name": "stdout",
     "output_type": "stream",
     "text": [
      "37/37 [==============================] - 0s 3ms/step - loss: 0.1188 - root_mean_squared_error: 0.1501\n",
      "Score for fold 2: loss of 0.11884148418903351; root_mean_squared_error of 0.1501477211713791\n",
      "------------------------------------------------------------------------\n",
      "Score per fold\n",
      "------------------------------------------------------------------------\n",
      "> Fold 1 - Loss: 0.09634234756231308 - RMSE: 0.11809083074331284\n",
      "------------------------------------------------------------------------\n",
      "------------------------------------------------------------------------\n",
      "> Fold 2 - Loss: 0.11884148418903351 - RMSE: 0.1501477211713791\n",
      "------------------------------------------------------------------------\n",
      "Average scores for all folds:\n",
      "> RMSE: 0.13411927595734596 (+- 0.016028445214033127)\n",
      "> Loss: 0.1075919158756733\n",
      "------------------------------------------------------------------------\n",
      "\n"
     ]
    },
    {
     "data": {
      "text/html": [
       "Waiting for W&B process to finish... <strong style=\"color:green\">(success).</strong>"
      ],
      "text/plain": [
       "<IPython.core.display.HTML object>"
      ]
     },
     "metadata": {},
     "output_type": "display_data"
    },
    {
     "data": {
      "application/vnd.jupyter.widget-view+json": {
       "model_id": "5e6798a955274dc6be94735aed9cf9a3",
       "version_major": 2,
       "version_minor": 0
      },
      "text/plain": [
       "VBox(children=(Label(value='5.149 MB of 15.737 MB uploaded (0.000 MB deduped)\\r'), FloatProgress(value=0.32721…"
      ]
     },
     "metadata": {},
     "output_type": "display_data"
    },
    {
     "data": {
      "text/html": [
       "<style>\n",
       "    table.wandb td:nth-child(1) { padding: 0 10px; text-align: right }\n",
       "    .wandb-row { display: flex; flex-direction: row; flex-wrap: wrap; width: 100% }\n",
       "    .wandb-col { display: flex; flex-direction: column; flex-basis: 100%; flex: 1; padding: 10px; }\n",
       "    </style>\n",
       "<div class=\"wandb-row\"><div class=\"wandb-col\"><h3>Run history:</h3><br/><table class=\"wandb\"><tr><td>Mean Validation Loss (all folds)</td><td>▁</td></tr><tr><td>Mean Validation RMSE (all folds)</td><td>▁</td></tr><tr><td>epoch</td><td>▁▁▁▁▂▂▂▂▂▃▃▃▃▃▃▄▄▄▄▄▅▅▅▅▅▅▆▆▆▆▆▆▇▇▇▇▇███</td></tr><tr><td>loss</td><td>█▅▄▄▄▃▃▃▂▁▁▁▁▁▁▁▁▁▁▁▁▁▁▁▁▁▁▁▁▁▁▁▁▁▁▁▁▁▁▁</td></tr><tr><td>root_mean_squared_error</td><td>█▆▆▅▆▄▄▅▃▂▁▁▁▁▁▁▁▁▁▁▁▁▁▁▁▁▁▁▁▁▁▁▁▁▁▁▁▁▁▁</td></tr><tr><td>val_loss</td><td>▇▅█▃▅▂█▄▂▁▁▁▁▁▁▂▁▁▁▁▁▁▁▁▁▁▁▁▁▁▁▁▁▁▁▁▁▁▁▁</td></tr><tr><td>val_root_mean_squared_error</td><td>▆▄█▃▅▂█▄▂▁▁▁▁▁▁▂▁▁▁▁▁▁▁▁▁▁▁▁▁▁▁▁▁▁▁▁▁▁▁▁</td></tr></table><br/></div><div class=\"wandb-col\"><h3>Run summary:</h3><br/><table class=\"wandb\"><tr><td>Mean Validation Loss (all folds)</td><td>0.10759</td></tr><tr><td>Mean Validation RMSE (all folds)</td><td>0.13412</td></tr><tr><td>best_epoch</td><td>122</td></tr><tr><td>best_val_loss</td><td>0.09332</td></tr><tr><td>epoch</td><td>149</td></tr><tr><td>loss</td><td>0.15668</td></tr><tr><td>root_mean_squared_error</td><td>0.20306</td></tr><tr><td>val_loss</td><td>0.11884</td></tr><tr><td>val_root_mean_squared_error</td><td>0.15015</td></tr></table><br/></div></div>"
      ],
      "text/plain": [
       "<IPython.core.display.HTML object>"
      ]
     },
     "metadata": {},
     "output_type": "display_data"
    },
    {
     "data": {
      "text/html": [
       "Synced <strong style=\"color:#cdcd00\">prime-sweep-8</strong>: <a href=\"https://wandb.ai/luiscostigan/house-price-prediction/runs/g3bvjzbp\" target=\"_blank\">https://wandb.ai/luiscostigan/house-price-prediction/runs/g3bvjzbp</a><br/>Synced 5 W&B file(s), 0 media file(s), 0 artifact file(s) and 1 other file(s)"
      ],
      "text/plain": [
       "<IPython.core.display.HTML object>"
      ]
     },
     "metadata": {},
     "output_type": "display_data"
    },
    {
     "data": {
      "text/html": [
       "Find logs at: <code>./wandb/run-20220314_034212-g3bvjzbp/logs</code>"
      ],
      "text/plain": [
       "<IPython.core.display.HTML object>"
      ]
     },
     "metadata": {},
     "output_type": "display_data"
    },
    {
     "data": {
      "text/html": [
       "Tracking run with wandb version 0.12.11"
      ],
      "text/plain": [
       "<IPython.core.display.HTML object>"
      ]
     },
     "metadata": {},
     "output_type": "display_data"
    },
    {
     "data": {
      "text/html": [
       "Run data is saved locally in <code>/workspaces/data-science-projects/house-price-prediction/Models/tensorflow/wandb/run-20220314_034255-g3bvjzbp</code>"
      ],
      "text/plain": [
       "<IPython.core.display.HTML object>"
      ]
     },
     "metadata": {},
     "output_type": "display_data"
    },
    {
     "data": {
      "text/html": [
       "Syncing run <strong><a href=\"https://wandb.ai/luiscostigan/house-price-prediction/runs/g3bvjzbp\" target=\"_blank\">prime-sweep-8</a></strong> to <a href=\"https://wandb.ai/luiscostigan/house-price-prediction\" target=\"_blank\">Weights & Biases</a> (<a href=\"https://wandb.me/run\" target=\"_blank\">docs</a>)<br/>Sweep page:  <a href=\"https://wandb.ai/luiscostigan/house-price-prediction/sweeps/e8odal49\" target=\"_blank\">https://wandb.ai/luiscostigan/house-price-prediction/sweeps/e8odal49</a>"
      ],
      "text/plain": [
       "<IPython.core.display.HTML object>"
      ]
     },
     "metadata": {},
     "output_type": "display_data"
    },
    {
     "name": "stdout",
     "output_type": "stream",
     "text": [
      "37/37 [==============================] - 0s 3ms/step - loss: 0.1214 - root_mean_squared_error: 0.1386\n",
      "Score for fold 3: loss of 0.12141755223274231; root_mean_squared_error of 0.13857606053352356\n",
      "------------------------------------------------------------------------\n",
      "Score per fold\n",
      "------------------------------------------------------------------------\n",
      "> Fold 1 - Loss: 0.09634234756231308 - RMSE: 0.11809083074331284\n",
      "------------------------------------------------------------------------\n",
      "------------------------------------------------------------------------\n",
      "> Fold 2 - Loss: 0.11884148418903351 - RMSE: 0.1501477211713791\n",
      "------------------------------------------------------------------------\n",
      "------------------------------------------------------------------------\n",
      "> Fold 3 - Loss: 0.12141755223274231 - RMSE: 0.13857606053352356\n",
      "------------------------------------------------------------------------\n",
      "Average scores for all folds:\n",
      "> RMSE: 0.13560487081607184 (+- 0.013254735813589536)\n",
      "> Loss: 0.11220046132802963\n",
      "------------------------------------------------------------------------\n",
      "\n"
     ]
    },
    {
     "data": {
      "text/html": [
       "Waiting for W&B process to finish... <strong style=\"color:green\">(success).</strong>"
      ],
      "text/plain": [
       "<IPython.core.display.HTML object>"
      ]
     },
     "metadata": {},
     "output_type": "display_data"
    },
    {
     "data": {
      "application/vnd.jupyter.widget-view+json": {
       "model_id": "ce2f66d5e7304c9a8a5096fd8be1ab3d",
       "version_major": 2,
       "version_minor": 0
      },
      "text/plain": [
       "VBox(children=(Label(value='4.454 MB of 15.737 MB uploaded (0.000 MB deduped)\\r'), FloatProgress(value=0.28303…"
      ]
     },
     "metadata": {},
     "output_type": "display_data"
    },
    {
     "data": {
      "text/html": [
       "<style>\n",
       "    table.wandb td:nth-child(1) { padding: 0 10px; text-align: right }\n",
       "    .wandb-row { display: flex; flex-direction: row; flex-wrap: wrap; width: 100% }\n",
       "    .wandb-col { display: flex; flex-direction: column; flex-basis: 100%; flex: 1; padding: 10px; }\n",
       "    </style>\n",
       "<div class=\"wandb-row\"><div class=\"wandb-col\"><h3>Run history:</h3><br/><table class=\"wandb\"><tr><td>Mean Validation Loss (all folds)</td><td>▁</td></tr><tr><td>Mean Validation RMSE (all folds)</td><td>▁</td></tr><tr><td>epoch</td><td>▁▁▁▁▂▂▂▂▂▃▃▃▃▃▃▄▄▄▄▄▅▅▅▅▅▅▆▆▆▆▆▆▇▇▇▇▇███</td></tr><tr><td>loss</td><td>█▅▄▄▃▃▃▃▃▃▃▃▃▃▃▃▃▂▃▂▂▂▁▁▁▁▁▁▁▁▁▁▁▁▁▁▁▁▁▁</td></tr><tr><td>root_mean_squared_error</td><td>█▇▆▅▅▅▅▄▅▄▅▄▄▄▄▃▄▃▃▃▃▂▁▁▁▁▁▁▁▁▁▁▁▁▁▁▁▁▁▁</td></tr><tr><td>val_loss</td><td>▆█▃▅▂▂▂▃▂▂▃▂▂▂▄▂▂▂▂▂▁▂▁▁▁▁▁▁▁▁▁▁▁▁▁▁▁▁▁▁</td></tr><tr><td>val_root_mean_squared_error</td><td>▄█▃▅▂▂▂▃▂▂▃▂▂▂▄▂▂▂▂▂▁▂▁▁▁▁▁▁▁▁▁▁▁▁▁▁▁▁▁▁</td></tr></table><br/></div><div class=\"wandb-col\"><h3>Run summary:</h3><br/><table class=\"wandb\"><tr><td>Mean Validation Loss (all folds)</td><td>0.1122</td></tr><tr><td>Mean Validation RMSE (all folds)</td><td>0.1356</td></tr><tr><td>best_epoch</td><td>128</td></tr><tr><td>best_val_loss</td><td>0.09598</td></tr><tr><td>epoch</td><td>149</td></tr><tr><td>loss</td><td>0.13465</td></tr><tr><td>root_mean_squared_error</td><td>0.15205</td></tr><tr><td>val_loss</td><td>0.12142</td></tr><tr><td>val_root_mean_squared_error</td><td>0.13858</td></tr></table><br/></div></div>"
      ],
      "text/plain": [
       "<IPython.core.display.HTML object>"
      ]
     },
     "metadata": {},
     "output_type": "display_data"
    },
    {
     "data": {
      "text/html": [
       "Synced <strong style=\"color:#cdcd00\">prime-sweep-8</strong>: <a href=\"https://wandb.ai/luiscostigan/house-price-prediction/runs/g3bvjzbp\" target=\"_blank\">https://wandb.ai/luiscostigan/house-price-prediction/runs/g3bvjzbp</a><br/>Synced 5 W&B file(s), 0 media file(s), 0 artifact file(s) and 1 other file(s)"
      ],
      "text/plain": [
       "<IPython.core.display.HTML object>"
      ]
     },
     "metadata": {},
     "output_type": "display_data"
    },
    {
     "data": {
      "text/html": [
       "Find logs at: <code>./wandb/run-20220314_034255-g3bvjzbp/logs</code>"
      ],
      "text/plain": [
       "<IPython.core.display.HTML object>"
      ]
     },
     "metadata": {},
     "output_type": "display_data"
    },
    {
     "data": {
      "text/html": [
       "Tracking run with wandb version 0.12.11"
      ],
      "text/plain": [
       "<IPython.core.display.HTML object>"
      ]
     },
     "metadata": {},
     "output_type": "display_data"
    },
    {
     "data": {
      "text/html": [
       "Run data is saved locally in <code>/workspaces/data-science-projects/house-price-prediction/Models/tensorflow/wandb/run-20220314_034340-g3bvjzbp</code>"
      ],
      "text/plain": [
       "<IPython.core.display.HTML object>"
      ]
     },
     "metadata": {},
     "output_type": "display_data"
    },
    {
     "data": {
      "text/html": [
       "Syncing run <strong><a href=\"https://wandb.ai/luiscostigan/house-price-prediction/runs/g3bvjzbp\" target=\"_blank\">prime-sweep-8</a></strong> to <a href=\"https://wandb.ai/luiscostigan/house-price-prediction\" target=\"_blank\">Weights & Biases</a> (<a href=\"https://wandb.me/run\" target=\"_blank\">docs</a>)<br/>Sweep page:  <a href=\"https://wandb.ai/luiscostigan/house-price-prediction/sweeps/e8odal49\" target=\"_blank\">https://wandb.ai/luiscostigan/house-price-prediction/sweeps/e8odal49</a>"
      ],
      "text/plain": [
       "<IPython.core.display.HTML object>"
      ]
     },
     "metadata": {},
     "output_type": "display_data"
    },
    {
     "name": "stdout",
     "output_type": "stream",
     "text": [
      "37/37 [==============================] - 0s 3ms/step - loss: 0.1064 - root_mean_squared_error: 0.1360\n",
      "Score for fold 4: loss of 0.10641000419855118; root_mean_squared_error of 0.1359558403491974\n",
      "------------------------------------------------------------------------\n",
      "Score per fold\n",
      "------------------------------------------------------------------------\n",
      "> Fold 1 - Loss: 0.09634234756231308 - RMSE: 0.11809083074331284\n",
      "------------------------------------------------------------------------\n",
      "------------------------------------------------------------------------\n",
      "> Fold 2 - Loss: 0.11884148418903351 - RMSE: 0.1501477211713791\n",
      "------------------------------------------------------------------------\n",
      "------------------------------------------------------------------------\n",
      "> Fold 3 - Loss: 0.12141755223274231 - RMSE: 0.13857606053352356\n",
      "------------------------------------------------------------------------\n",
      "------------------------------------------------------------------------\n",
      "> Fold 4 - Loss: 0.10641000419855118 - RMSE: 0.1359558403491974\n",
      "------------------------------------------------------------------------\n",
      "Average scores for all folds:\n",
      "> RMSE: 0.13569261319935322 (+- 0.011479943915085626)\n",
      "> Loss: 0.11075284704566002\n",
      "------------------------------------------------------------------------\n",
      "\n"
     ]
    },
    {
     "data": {
      "text/html": [
       "Waiting for W&B process to finish... <strong style=\"color:green\">(success).</strong>"
      ],
      "text/plain": [
       "<IPython.core.display.HTML object>"
      ]
     },
     "metadata": {},
     "output_type": "display_data"
    },
    {
     "data": {
      "application/vnd.jupyter.widget-view+json": {
       "model_id": "3b5d7da5ff0b4cccac5058c687abd0b7",
       "version_major": 2,
       "version_minor": 0
      },
      "text/plain": [
       "VBox(children=(Label(value='0.001 MB of 15.737 MB uploaded (0.000 MB deduped)\\r'), FloatProgress(value=6.23579…"
      ]
     },
     "metadata": {},
     "output_type": "display_data"
    },
    {
     "data": {
      "text/html": [
       "<style>\n",
       "    table.wandb td:nth-child(1) { padding: 0 10px; text-align: right }\n",
       "    .wandb-row { display: flex; flex-direction: row; flex-wrap: wrap; width: 100% }\n",
       "    .wandb-col { display: flex; flex-direction: column; flex-basis: 100%; flex: 1; padding: 10px; }\n",
       "    </style>\n",
       "<div class=\"wandb-row\"><div class=\"wandb-col\"><h3>Run history:</h3><br/><table class=\"wandb\"><tr><td>Mean Validation Loss (all folds)</td><td>▁</td></tr><tr><td>Mean Validation RMSE (all folds)</td><td>▁</td></tr><tr><td>epoch</td><td>▁▁▁▁▂▂▂▂▂▃▃▃▃▃▃▄▄▄▄▄▅▅▅▅▅▅▆▆▆▆▆▆▇▇▇▇▇███</td></tr><tr><td>loss</td><td>█▅▄▄▄▃▃▃▃▃▃▃▃▂▂▁▁▁▁▁▁▁▁▁▁▁▁▁▁▁▁▁▁▁▁▁▁▁▁▁</td></tr><tr><td>root_mean_squared_error</td><td>█▆▆▆▅▅▄▅▄▅▄▃▄▃▂▁▁▁▁▁▁▁▁▁▁▁▁▁▁▁▁▁▁▁▁▁▁▁▁▁</td></tr><tr><td>val_loss</td><td>█▆▄█▄▃▃▃▃▄▄▂▄▂▂▁▁▁▁▁▁▁▁▁▁▁▁▁▁▁▁▁▁▁▂▁▁▁▁▁</td></tr><tr><td>val_root_mean_squared_error</td><td>▅▅▅█▄▃▃▃▃▅▄▂▄▂▂▁▁▁▁▁▁▁▁▁▁▁▁▁▁▁▂▁▁▁▂▂▁▁▁▁</td></tr></table><br/></div><div class=\"wandb-col\"><h3>Run summary:</h3><br/><table class=\"wandb\"><tr><td>Mean Validation Loss (all folds)</td><td>0.11075</td></tr><tr><td>Mean Validation RMSE (all folds)</td><td>0.13569</td></tr><tr><td>best_epoch</td><td>100</td></tr><tr><td>best_val_loss</td><td>0.09488</td></tr><tr><td>epoch</td><td>149</td></tr><tr><td>loss</td><td>0.13864</td></tr><tr><td>root_mean_squared_error</td><td>0.17387</td></tr><tr><td>val_loss</td><td>0.10641</td></tr><tr><td>val_root_mean_squared_error</td><td>0.13596</td></tr></table><br/></div></div>"
      ],
      "text/plain": [
       "<IPython.core.display.HTML object>"
      ]
     },
     "metadata": {},
     "output_type": "display_data"
    },
    {
     "data": {
      "text/html": [
       "Synced <strong style=\"color:#cdcd00\">prime-sweep-8</strong>: <a href=\"https://wandb.ai/luiscostigan/house-price-prediction/runs/g3bvjzbp\" target=\"_blank\">https://wandb.ai/luiscostigan/house-price-prediction/runs/g3bvjzbp</a><br/>Synced 5 W&B file(s), 0 media file(s), 0 artifact file(s) and 1 other file(s)"
      ],
      "text/plain": [
       "<IPython.core.display.HTML object>"
      ]
     },
     "metadata": {},
     "output_type": "display_data"
    },
    {
     "data": {
      "text/html": [
       "Find logs at: <code>./wandb/run-20220314_034340-g3bvjzbp/logs</code>"
      ],
      "text/plain": [
       "<IPython.core.display.HTML object>"
      ]
     },
     "metadata": {},
     "output_type": "display_data"
    },
    {
     "data": {
      "text/html": [
       "Tracking run with wandb version 0.12.11"
      ],
      "text/plain": [
       "<IPython.core.display.HTML object>"
      ]
     },
     "metadata": {},
     "output_type": "display_data"
    },
    {
     "data": {
      "text/html": [
       "Run data is saved locally in <code>/workspaces/data-science-projects/house-price-prediction/Models/tensorflow/wandb/run-20220314_034424-g3bvjzbp</code>"
      ],
      "text/plain": [
       "<IPython.core.display.HTML object>"
      ]
     },
     "metadata": {},
     "output_type": "display_data"
    },
    {
     "data": {
      "text/html": [
       "Syncing run <strong><a href=\"https://wandb.ai/luiscostigan/house-price-prediction/runs/g3bvjzbp\" target=\"_blank\">prime-sweep-8</a></strong> to <a href=\"https://wandb.ai/luiscostigan/house-price-prediction\" target=\"_blank\">Weights & Biases</a> (<a href=\"https://wandb.me/run\" target=\"_blank\">docs</a>)<br/>Sweep page:  <a href=\"https://wandb.ai/luiscostigan/house-price-prediction/sweeps/e8odal49\" target=\"_blank\">https://wandb.ai/luiscostigan/house-price-prediction/sweeps/e8odal49</a>"
      ],
      "text/plain": [
       "<IPython.core.display.HTML object>"
      ]
     },
     "metadata": {},
     "output_type": "display_data"
    },
    {
     "name": "stdout",
     "output_type": "stream",
     "text": [
      "37/37 [==============================] - 0s 3ms/step - loss: 0.1143 - root_mean_squared_error: 0.1389\n",
      "Score for fold 5: loss of 0.11431463807821274; root_mean_squared_error of 0.13888978958129883\n",
      "------------------------------------------------------------------------\n",
      "Score per fold\n",
      "------------------------------------------------------------------------\n",
      "> Fold 1 - Loss: 0.09634234756231308 - RMSE: 0.11809083074331284\n",
      "------------------------------------------------------------------------\n",
      "------------------------------------------------------------------------\n",
      "> Fold 2 - Loss: 0.11884148418903351 - RMSE: 0.1501477211713791\n",
      "------------------------------------------------------------------------\n",
      "------------------------------------------------------------------------\n",
      "> Fold 3 - Loss: 0.12141755223274231 - RMSE: 0.13857606053352356\n",
      "------------------------------------------------------------------------\n",
      "------------------------------------------------------------------------\n",
      "> Fold 4 - Loss: 0.10641000419855118 - RMSE: 0.1359558403491974\n",
      "------------------------------------------------------------------------\n",
      "------------------------------------------------------------------------\n",
      "> Fold 5 - Loss: 0.11431463807821274 - RMSE: 0.13888978958129883\n",
      "------------------------------------------------------------------------\n",
      "Average scores for all folds:\n",
      "> RMSE: 0.13633204847574235 (+- 0.010347308815608653)\n",
      "> Loss: 0.11146520525217056\n",
      "------------------------------------------------------------------------\n",
      "\n"
     ]
    },
    {
     "data": {
      "text/html": [
       "Waiting for W&B process to finish... <strong style=\"color:green\">(success).</strong>"
      ],
      "text/plain": [
       "<IPython.core.display.HTML object>"
      ]
     },
     "metadata": {},
     "output_type": "display_data"
    },
    {
     "data": {
      "application/vnd.jupyter.widget-view+json": {
       "model_id": "6dcc117c58b749d394ad6ed3135648e7",
       "version_major": 2,
       "version_minor": 0
      },
      "text/plain": [
       "VBox(children=(Label(value='4.353 MB of 15.737 MB uploaded (0.000 MB deduped)\\r'), FloatProgress(value=0.27657…"
      ]
     },
     "metadata": {},
     "output_type": "display_data"
    },
    {
     "data": {
      "text/html": [
       "<style>\n",
       "    table.wandb td:nth-child(1) { padding: 0 10px; text-align: right }\n",
       "    .wandb-row { display: flex; flex-direction: row; flex-wrap: wrap; width: 100% }\n",
       "    .wandb-col { display: flex; flex-direction: column; flex-basis: 100%; flex: 1; padding: 10px; }\n",
       "    </style>\n",
       "<div class=\"wandb-row\"><div class=\"wandb-col\"><h3>Run history:</h3><br/><table class=\"wandb\"><tr><td>Mean Validation Loss (all folds)</td><td>▁</td></tr><tr><td>Mean Validation RMSE (all folds)</td><td>▁</td></tr><tr><td>epoch</td><td>▁▁▁▁▂▂▂▂▂▃▃▃▃▃▃▄▄▄▄▄▅▅▅▅▅▅▆▆▆▆▆▆▇▇▇▇▇███</td></tr><tr><td>loss</td><td>█▅▄▄▃▃▄▄▄▃▃▃▃▃▂▂▁▁▁▁▁▁▁▁▁▁▁▁▁▁▁▁▁▁▁▁▁▁▁▁</td></tr><tr><td>root_mean_squared_error</td><td>█▇▅▅▅▄▅▅▅▄▄▄▄▄▃▃▂▁▁▁▁▁▁▁▁▁▁▁▁▁▁▁▁▁▁▁▁▁▁▁</td></tr><tr><td>val_loss</td><td>█▄▅▃▂▂▂▂▂▃▃▃▂▂▃▂▁▁▁▁▁▁▁▁▁▁▁▁▁▂▁▁▁▁▁▁▁▁▁▁</td></tr><tr><td>val_root_mean_squared_error</td><td>█▄▅▄▃▂▃▃▃▄▃▄▃▂▃▂▁▁▁▁▂▁▁▁▁▁▁▁▁▂▁▁▁▁▁▁▁▁▁▁</td></tr></table><br/></div><div class=\"wandb-col\"><h3>Run summary:</h3><br/><table class=\"wandb\"><tr><td>Mean Validation Loss (all folds)</td><td>0.11147</td></tr><tr><td>Mean Validation RMSE (all folds)</td><td>0.13633</td></tr><tr><td>best_epoch</td><td>148</td></tr><tr><td>best_val_loss</td><td>0.09908</td></tr><tr><td>epoch</td><td>149</td></tr><tr><td>loss</td><td>0.12684</td></tr><tr><td>root_mean_squared_error</td><td>0.16745</td></tr><tr><td>val_loss</td><td>0.11431</td></tr><tr><td>val_root_mean_squared_error</td><td>0.13889</td></tr></table><br/></div></div>"
      ],
      "text/plain": [
       "<IPython.core.display.HTML object>"
      ]
     },
     "metadata": {},
     "output_type": "display_data"
    },
    {
     "data": {
      "text/html": [
       "Synced <strong style=\"color:#cdcd00\">prime-sweep-8</strong>: <a href=\"https://wandb.ai/luiscostigan/house-price-prediction/runs/g3bvjzbp\" target=\"_blank\">https://wandb.ai/luiscostigan/house-price-prediction/runs/g3bvjzbp</a><br/>Synced 5 W&B file(s), 0 media file(s), 0 artifact file(s) and 1 other file(s)"
      ],
      "text/plain": [
       "<IPython.core.display.HTML object>"
      ]
     },
     "metadata": {},
     "output_type": "display_data"
    },
    {
     "data": {
      "text/html": [
       "Find logs at: <code>./wandb/run-20220314_034424-g3bvjzbp/logs</code>"
      ],
      "text/plain": [
       "<IPython.core.display.HTML object>"
      ]
     },
     "metadata": {},
     "output_type": "display_data"
    },
    {
     "name": "stderr",
     "output_type": "stream",
     "text": [
      "\u001b[34m\u001b[1mwandb\u001b[0m: Agent Starting Run: os4ufn1o with config:\n",
      "\u001b[34m\u001b[1mwandb\u001b[0m: \tbatch_size: 16\n",
      "\u001b[34m\u001b[1mwandb\u001b[0m: \tbias1: 0.01\n",
      "\u001b[34m\u001b[1mwandb\u001b[0m: \tbias2: 0.001\n",
      "\u001b[34m\u001b[1mwandb\u001b[0m: \tdense1: 1024\n",
      "\u001b[34m\u001b[1mwandb\u001b[0m: \tdense2: 2048\n",
      "\u001b[34m\u001b[1mwandb\u001b[0m: \tdropout1: 0.22691656452794493\n",
      "\u001b[34m\u001b[1mwandb\u001b[0m: \tepochs: 150\n",
      "\u001b[34m\u001b[1mwandb\u001b[0m: \tlearning_rate: 0.001\n"
     ]
    },
    {
     "data": {
      "text/html": [
       "Tracking run with wandb version 0.12.11"
      ],
      "text/plain": [
       "<IPython.core.display.HTML object>"
      ]
     },
     "metadata": {},
     "output_type": "display_data"
    },
    {
     "data": {
      "text/html": [
       "Run data is saved locally in <code>/workspaces/data-science-projects/house-price-prediction/Models/tensorflow/wandb/run-20220314_034513-os4ufn1o</code>"
      ],
      "text/plain": [
       "<IPython.core.display.HTML object>"
      ]
     },
     "metadata": {},
     "output_type": "display_data"
    },
    {
     "data": {
      "text/html": [
       "Syncing run <strong><a href=\"https://wandb.ai/luiscostigan/house-price-prediction/runs/os4ufn1o\" target=\"_blank\">stilted-sweep-9</a></strong> to <a href=\"https://wandb.ai/luiscostigan/house-price-prediction\" target=\"_blank\">Weights & Biases</a> (<a href=\"https://wandb.me/run\" target=\"_blank\">docs</a>)<br/>Sweep page:  <a href=\"https://wandb.ai/luiscostigan/house-price-prediction/sweeps/e8odal49\" target=\"_blank\">https://wandb.ai/luiscostigan/house-price-prediction/sweeps/e8odal49</a>"
      ],
      "text/plain": [
       "<IPython.core.display.HTML object>"
      ]
     },
     "metadata": {},
     "output_type": "display_data"
    },
    {
     "name": "stdout",
     "output_type": "stream",
     "text": [
      "37/37 [==============================] - 0s 4ms/step - loss: 0.1456 - root_mean_squared_error: 0.1770\n",
      "Score for fold 1: loss of 0.14561901986598969; root_mean_squared_error of 0.17697936296463013\n",
      "------------------------------------------------------------------------\n",
      "Score per fold\n",
      "------------------------------------------------------------------------\n",
      "> Fold 1 - Loss: 0.14561901986598969 - RMSE: 0.17697936296463013\n",
      "------------------------------------------------------------------------\n",
      "Average scores for all folds:\n",
      "> RMSE: 0.17697936296463013 (+- 0.0)\n",
      "> Loss: 0.14561901986598969\n",
      "------------------------------------------------------------------------\n",
      "\n"
     ]
    },
    {
     "data": {
      "text/html": [
       "Waiting for W&B process to finish... <strong style=\"color:green\">(success).</strong>"
      ],
      "text/plain": [
       "<IPython.core.display.HTML object>"
      ]
     },
     "metadata": {},
     "output_type": "display_data"
    },
    {
     "data": {
      "application/vnd.jupyter.widget-view+json": {
       "model_id": "4d889a8b86a44f5ca58f60b9e44fc42e",
       "version_major": 2,
       "version_minor": 0
      },
      "text/plain": [
       "VBox(children=(Label(value='6.220 MB of 27.761 MB uploaded (0.000 MB deduped)\\r'), FloatProgress(value=0.22405…"
      ]
     },
     "metadata": {},
     "output_type": "display_data"
    },
    {
     "data": {
      "text/html": [
       "<style>\n",
       "    table.wandb td:nth-child(1) { padding: 0 10px; text-align: right }\n",
       "    .wandb-row { display: flex; flex-direction: row; flex-wrap: wrap; width: 100% }\n",
       "    .wandb-col { display: flex; flex-direction: column; flex-basis: 100%; flex: 1; padding: 10px; }\n",
       "    </style>\n",
       "<div class=\"wandb-row\"><div class=\"wandb-col\"><h3>Run history:</h3><br/><table class=\"wandb\"><tr><td>Mean Validation Loss (all folds)</td><td>▁</td></tr><tr><td>Mean Validation RMSE (all folds)</td><td>▁</td></tr><tr><td>epoch</td><td>▁▁▁▁▂▂▂▂▂▃▃▃▃▃▃▄▄▄▄▄▅▅▅▅▅▅▆▆▆▆▆▆▇▇▇▇▇███</td></tr><tr><td>loss</td><td>█▅▃▃▃▂▂▂▂▂▂▂▂▂▂▂▂▂▂▂▂▂▂▂▂▂▂▂▂▂▂▂▁▁▁▁▁▁▁▁</td></tr><tr><td>root_mean_squared_error</td><td>█▅▅▅▅▄▅▅▄▄▅▄▄▅▄▄▄▄▄▄▄▄▃▄▄▄▄▃▄▃▃▃▂▂▁▁▁▁▁▁</td></tr><tr><td>val_loss</td><td>█▆▄▄▂▂▂▂▂▂▂▂▂▃▂▃▂▂▂▂▃▂▂▂▂▂▂▂▂▂▂▂▂▁▁▁▁▁▁▁</td></tr><tr><td>val_root_mean_squared_error</td><td>▆▇▄█▃▃▄▄▄▃▃▃▄▅▃▇▃▃▃▂▅▃▄▃▃▄▂▃▄▃▃▃▃▂▁▁▁▁▁▁</td></tr></table><br/></div><div class=\"wandb-col\"><h3>Run summary:</h3><br/><table class=\"wandb\"><tr><td>Mean Validation Loss (all folds)</td><td>0.14562</td></tr><tr><td>Mean Validation RMSE (all folds)</td><td>0.17698</td></tr><tr><td>best_epoch</td><td>137</td></tr><tr><td>best_val_loss</td><td>0.09541</td></tr><tr><td>epoch</td><td>149</td></tr><tr><td>loss</td><td>0.1184</td></tr><tr><td>root_mean_squared_error</td><td>0.1525</td></tr><tr><td>val_loss</td><td>0.14562</td></tr><tr><td>val_root_mean_squared_error</td><td>0.17698</td></tr></table><br/></div></div>"
      ],
      "text/plain": [
       "<IPython.core.display.HTML object>"
      ]
     },
     "metadata": {},
     "output_type": "display_data"
    },
    {
     "data": {
      "text/html": [
       "Synced <strong style=\"color:#cdcd00\">stilted-sweep-9</strong>: <a href=\"https://wandb.ai/luiscostigan/house-price-prediction/runs/os4ufn1o\" target=\"_blank\">https://wandb.ai/luiscostigan/house-price-prediction/runs/os4ufn1o</a><br/>Synced 5 W&B file(s), 0 media file(s), 0 artifact file(s) and 1 other file(s)"
      ],
      "text/plain": [
       "<IPython.core.display.HTML object>"
      ]
     },
     "metadata": {},
     "output_type": "display_data"
    },
    {
     "data": {
      "text/html": [
       "Find logs at: <code>./wandb/run-20220314_034513-os4ufn1o/logs</code>"
      ],
      "text/plain": [
       "<IPython.core.display.HTML object>"
      ]
     },
     "metadata": {},
     "output_type": "display_data"
    },
    {
     "data": {
      "text/html": [
       "Tracking run with wandb version 0.12.11"
      ],
      "text/plain": [
       "<IPython.core.display.HTML object>"
      ]
     },
     "metadata": {},
     "output_type": "display_data"
    },
    {
     "data": {
      "text/html": [
       "Run data is saved locally in <code>/workspaces/data-science-projects/house-price-prediction/Models/tensorflow/wandb/run-20220314_034614-os4ufn1o</code>"
      ],
      "text/plain": [
       "<IPython.core.display.HTML object>"
      ]
     },
     "metadata": {},
     "output_type": "display_data"
    },
    {
     "data": {
      "text/html": [
       "Syncing run <strong><a href=\"https://wandb.ai/luiscostigan/house-price-prediction/runs/os4ufn1o\" target=\"_blank\">stilted-sweep-9</a></strong> to <a href=\"https://wandb.ai/luiscostigan/house-price-prediction\" target=\"_blank\">Weights & Biases</a> (<a href=\"https://wandb.me/run\" target=\"_blank\">docs</a>)<br/>Sweep page:  <a href=\"https://wandb.ai/luiscostigan/house-price-prediction/sweeps/e8odal49\" target=\"_blank\">https://wandb.ai/luiscostigan/house-price-prediction/sweeps/e8odal49</a>"
      ],
      "text/plain": [
       "<IPython.core.display.HTML object>"
      ]
     },
     "metadata": {},
     "output_type": "display_data"
    },
    {
     "name": "stdout",
     "output_type": "stream",
     "text": [
      "37/37 [==============================] - 0s 3ms/step - loss: 0.0973 - root_mean_squared_error: 0.1387\n",
      "Score for fold 2: loss of 0.09730222821235657; root_mean_squared_error of 0.13866987824440002\n",
      "------------------------------------------------------------------------\n",
      "Score per fold\n",
      "------------------------------------------------------------------------\n",
      "> Fold 1 - Loss: 0.14561901986598969 - RMSE: 0.17697936296463013\n",
      "------------------------------------------------------------------------\n",
      "------------------------------------------------------------------------\n",
      "> Fold 2 - Loss: 0.09730222821235657 - RMSE: 0.13866987824440002\n",
      "------------------------------------------------------------------------\n",
      "Average scores for all folds:\n",
      "> RMSE: 0.15782462060451508 (+- 0.01915474236011505)\n",
      "> Loss: 0.12146062403917313\n",
      "------------------------------------------------------------------------\n",
      "\n"
     ]
    },
    {
     "data": {
      "text/html": [
       "Waiting for W&B process to finish... <strong style=\"color:green\">(success).</strong>"
      ],
      "text/plain": [
       "<IPython.core.display.HTML object>"
      ]
     },
     "metadata": {},
     "output_type": "display_data"
    },
    {
     "data": {
      "application/vnd.jupyter.widget-view+json": {
       "model_id": "0b95da8d5cb34359890fa19154d60040",
       "version_major": 2,
       "version_minor": 0
      },
      "text/plain": [
       "VBox(children=(Label(value='3.110 MB of 27.761 MB uploaded (0.000 MB deduped)\\r'), FloatProgress(value=0.11204…"
      ]
     },
     "metadata": {},
     "output_type": "display_data"
    },
    {
     "data": {
      "text/html": [
       "<style>\n",
       "    table.wandb td:nth-child(1) { padding: 0 10px; text-align: right }\n",
       "    .wandb-row { display: flex; flex-direction: row; flex-wrap: wrap; width: 100% }\n",
       "    .wandb-col { display: flex; flex-direction: column; flex-basis: 100%; flex: 1; padding: 10px; }\n",
       "    </style>\n",
       "<div class=\"wandb-row\"><div class=\"wandb-col\"><h3>Run history:</h3><br/><table class=\"wandb\"><tr><td>Mean Validation Loss (all folds)</td><td>▁</td></tr><tr><td>Mean Validation RMSE (all folds)</td><td>▁</td></tr><tr><td>epoch</td><td>▁▁▁▁▂▂▂▂▂▃▃▃▃▃▃▄▄▄▄▄▅▅▅▅▅▅▆▆▆▆▆▆▇▇▇▇▇███</td></tr><tr><td>loss</td><td>█▅▄▃▃▃▃▂▂▂▂▂▂▂▂▂▂▂▂▂▂▂▂▂▂▂▂▂▂▂▂▁▁▁▁▁▁▁▁▁</td></tr><tr><td>root_mean_squared_error</td><td>█▇▆▅▆▆▆▅▅▅▆▅▅▅▆▆▄▅▅▅▄▅▄▄▄▄▄▄▄▄▄▃▁▁▁▁▁▁▁▁</td></tr><tr><td>val_loss</td><td>█▅▄▃▃▂▃▂▂▂▃▂▂▂▂▃▂▂▃▂▂▂▂▂▂▂▂▃▂▂▂▂▁▁▁▁▁▁▁▁</td></tr><tr><td>val_root_mean_squared_error</td><td>█▅▆▄▆▃▇▃▄▄▇▃▄▃▅▆▄▄▆▄▃▄▄▂▃▄▃▇▅▆▃▃▁▁▁▁▂▁▁▁</td></tr></table><br/></div><div class=\"wandb-col\"><h3>Run summary:</h3><br/><table class=\"wandb\"><tr><td>Mean Validation Loss (all folds)</td><td>0.12146</td></tr><tr><td>Mean Validation RMSE (all folds)</td><td>0.15782</td></tr><tr><td>best_epoch</td><td>130</td></tr><tr><td>best_val_loss</td><td>0.09646</td></tr><tr><td>epoch</td><td>149</td></tr><tr><td>loss</td><td>0.13004</td></tr><tr><td>root_mean_squared_error</td><td>0.15422</td></tr><tr><td>val_loss</td><td>0.0973</td></tr><tr><td>val_root_mean_squared_error</td><td>0.13867</td></tr></table><br/></div></div>"
      ],
      "text/plain": [
       "<IPython.core.display.HTML object>"
      ]
     },
     "metadata": {},
     "output_type": "display_data"
    },
    {
     "data": {
      "text/html": [
       "Synced <strong style=\"color:#cdcd00\">stilted-sweep-9</strong>: <a href=\"https://wandb.ai/luiscostigan/house-price-prediction/runs/os4ufn1o\" target=\"_blank\">https://wandb.ai/luiscostigan/house-price-prediction/runs/os4ufn1o</a><br/>Synced 5 W&B file(s), 0 media file(s), 0 artifact file(s) and 1 other file(s)"
      ],
      "text/plain": [
       "<IPython.core.display.HTML object>"
      ]
     },
     "metadata": {},
     "output_type": "display_data"
    },
    {
     "data": {
      "text/html": [
       "Find logs at: <code>./wandb/run-20220314_034614-os4ufn1o/logs</code>"
      ],
      "text/plain": [
       "<IPython.core.display.HTML object>"
      ]
     },
     "metadata": {},
     "output_type": "display_data"
    },
    {
     "data": {
      "text/html": [
       "Tracking run with wandb version 0.12.11"
      ],
      "text/plain": [
       "<IPython.core.display.HTML object>"
      ]
     },
     "metadata": {},
     "output_type": "display_data"
    },
    {
     "data": {
      "text/html": [
       "Run data is saved locally in <code>/workspaces/data-science-projects/house-price-prediction/Models/tensorflow/wandb/run-20220314_034717-os4ufn1o</code>"
      ],
      "text/plain": [
       "<IPython.core.display.HTML object>"
      ]
     },
     "metadata": {},
     "output_type": "display_data"
    },
    {
     "data": {
      "text/html": [
       "Syncing run <strong><a href=\"https://wandb.ai/luiscostigan/house-price-prediction/runs/os4ufn1o\" target=\"_blank\">stilted-sweep-9</a></strong> to <a href=\"https://wandb.ai/luiscostigan/house-price-prediction\" target=\"_blank\">Weights & Biases</a> (<a href=\"https://wandb.me/run\" target=\"_blank\">docs</a>)<br/>Sweep page:  <a href=\"https://wandb.ai/luiscostigan/house-price-prediction/sweeps/e8odal49\" target=\"_blank\">https://wandb.ai/luiscostigan/house-price-prediction/sweeps/e8odal49</a>"
      ],
      "text/plain": [
       "<IPython.core.display.HTML object>"
      ]
     },
     "metadata": {},
     "output_type": "display_data"
    },
    {
     "name": "stdout",
     "output_type": "stream",
     "text": [
      "37/37 [==============================] - 0s 4ms/step - loss: 0.1017 - root_mean_squared_error: 0.1358\n",
      "Score for fold 3: loss of 0.10170911252498627; root_mean_squared_error of 0.13580259680747986\n",
      "------------------------------------------------------------------------\n",
      "Score per fold\n",
      "------------------------------------------------------------------------\n",
      "> Fold 1 - Loss: 0.14561901986598969 - RMSE: 0.17697936296463013\n",
      "------------------------------------------------------------------------\n",
      "------------------------------------------------------------------------\n",
      "> Fold 2 - Loss: 0.09730222821235657 - RMSE: 0.13866987824440002\n",
      "------------------------------------------------------------------------\n",
      "------------------------------------------------------------------------\n",
      "> Fold 3 - Loss: 0.10170911252498627 - RMSE: 0.13580259680747986\n",
      "------------------------------------------------------------------------\n",
      "Average scores for all folds:\n",
      "> RMSE: 0.15048394600550333 (+- 0.018771621588417525)\n",
      "> Loss: 0.11487678686777751\n",
      "------------------------------------------------------------------------\n",
      "\n"
     ]
    },
    {
     "data": {
      "text/html": [
       "Waiting for W&B process to finish... <strong style=\"color:green\">(success).</strong>"
      ],
      "text/plain": [
       "<IPython.core.display.HTML object>"
      ]
     },
     "metadata": {},
     "output_type": "display_data"
    },
    {
     "data": {
      "application/vnd.jupyter.widget-view+json": {
       "model_id": "da8f2d0d18ae4e0f8d49e101804d4d62",
       "version_major": 2,
       "version_minor": 0
      },
      "text/plain": [
       "VBox(children=(Label(value='1.853 MB of 27.761 MB uploaded (0.000 MB deduped)\\r'), FloatProgress(value=0.06673…"
      ]
     },
     "metadata": {},
     "output_type": "display_data"
    },
    {
     "data": {
      "text/html": [
       "<style>\n",
       "    table.wandb td:nth-child(1) { padding: 0 10px; text-align: right }\n",
       "    .wandb-row { display: flex; flex-direction: row; flex-wrap: wrap; width: 100% }\n",
       "    .wandb-col { display: flex; flex-direction: column; flex-basis: 100%; flex: 1; padding: 10px; }\n",
       "    </style>\n",
       "<div class=\"wandb-row\"><div class=\"wandb-col\"><h3>Run history:</h3><br/><table class=\"wandb\"><tr><td>Mean Validation Loss (all folds)</td><td>▁</td></tr><tr><td>Mean Validation RMSE (all folds)</td><td>▁</td></tr><tr><td>epoch</td><td>▁▁▁▁▂▂▂▂▂▃▃▃▃▃▃▄▄▄▄▄▅▅▅▅▅▅▆▆▆▆▆▆▇▇▇▇▇███</td></tr><tr><td>loss</td><td>█▅▄▃▃▂▂▂▂▂▂▂▂▂▂▂▂▂▂▂▂▂▂▂▂▂▂▂▂▂▂▂▂▁▁▁▁▁▁▁</td></tr><tr><td>root_mean_squared_error</td><td>█▇▆▅▅▄▅▅▅▅▄▅▄▄▄▄▄▄▄▄▄▄▄▄▄▄▃▄▃▃▃▃▃▂▁▁▁▁▁▁</td></tr><tr><td>val_loss</td><td>█▇▄▃▃▂▂▂▃▂▄▂▂▂▂▂▂▂▂▄▂▂▂▂▂▃▂▂▂▂▁▁▁▁▁▁▁▁▁▁</td></tr><tr><td>val_root_mean_squared_error</td><td>▅█▅▃▃▃▃▃▄▂▇▃▂▃▃▂▃▂▄▇▄▂▂▂▂▄▂▂▂▂▂▂▁▁▁▁▁▁▁▁</td></tr></table><br/></div><div class=\"wandb-col\"><h3>Run summary:</h3><br/><table class=\"wandb\"><tr><td>Mean Validation Loss (all folds)</td><td>0.11488</td></tr><tr><td>Mean Validation RMSE (all folds)</td><td>0.15048</td></tr><tr><td>best_epoch</td><td>145</td></tr><tr><td>best_val_loss</td><td>0.09325</td></tr><tr><td>epoch</td><td>149</td></tr><tr><td>loss</td><td>0.11787</td></tr><tr><td>root_mean_squared_error</td><td>0.15431</td></tr><tr><td>val_loss</td><td>0.10171</td></tr><tr><td>val_root_mean_squared_error</td><td>0.1358</td></tr></table><br/></div></div>"
      ],
      "text/plain": [
       "<IPython.core.display.HTML object>"
      ]
     },
     "metadata": {},
     "output_type": "display_data"
    },
    {
     "data": {
      "text/html": [
       "Synced <strong style=\"color:#cdcd00\">stilted-sweep-9</strong>: <a href=\"https://wandb.ai/luiscostigan/house-price-prediction/runs/os4ufn1o\" target=\"_blank\">https://wandb.ai/luiscostigan/house-price-prediction/runs/os4ufn1o</a><br/>Synced 5 W&B file(s), 0 media file(s), 0 artifact file(s) and 1 other file(s)"
      ],
      "text/plain": [
       "<IPython.core.display.HTML object>"
      ]
     },
     "metadata": {},
     "output_type": "display_data"
    },
    {
     "data": {
      "text/html": [
       "Find logs at: <code>./wandb/run-20220314_034717-os4ufn1o/logs</code>"
      ],
      "text/plain": [
       "<IPython.core.display.HTML object>"
      ]
     },
     "metadata": {},
     "output_type": "display_data"
    },
    {
     "data": {
      "text/html": [
       "Tracking run with wandb version 0.12.11"
      ],
      "text/plain": [
       "<IPython.core.display.HTML object>"
      ]
     },
     "metadata": {},
     "output_type": "display_data"
    },
    {
     "data": {
      "text/html": [
       "Run data is saved locally in <code>/workspaces/data-science-projects/house-price-prediction/Models/tensorflow/wandb/run-20220314_034824-os4ufn1o</code>"
      ],
      "text/plain": [
       "<IPython.core.display.HTML object>"
      ]
     },
     "metadata": {},
     "output_type": "display_data"
    },
    {
     "data": {
      "text/html": [
       "Syncing run <strong><a href=\"https://wandb.ai/luiscostigan/house-price-prediction/runs/os4ufn1o\" target=\"_blank\">stilted-sweep-9</a></strong> to <a href=\"https://wandb.ai/luiscostigan/house-price-prediction\" target=\"_blank\">Weights & Biases</a> (<a href=\"https://wandb.me/run\" target=\"_blank\">docs</a>)<br/>Sweep page:  <a href=\"https://wandb.ai/luiscostigan/house-price-prediction/sweeps/e8odal49\" target=\"_blank\">https://wandb.ai/luiscostigan/house-price-prediction/sweeps/e8odal49</a>"
      ],
      "text/plain": [
       "<IPython.core.display.HTML object>"
      ]
     },
     "metadata": {},
     "output_type": "display_data"
    },
    {
     "name": "stdout",
     "output_type": "stream",
     "text": [
      "37/37 [==============================] - 0s 4ms/step - loss: 0.1026 - root_mean_squared_error: 0.1201\n",
      "Score for fold 4: loss of 0.10264408588409424; root_mean_squared_error of 0.120071180164814\n",
      "------------------------------------------------------------------------\n",
      "Score per fold\n",
      "------------------------------------------------------------------------\n",
      "> Fold 1 - Loss: 0.14561901986598969 - RMSE: 0.17697936296463013\n",
      "------------------------------------------------------------------------\n",
      "------------------------------------------------------------------------\n",
      "> Fold 2 - Loss: 0.09730222821235657 - RMSE: 0.13866987824440002\n",
      "------------------------------------------------------------------------\n",
      "------------------------------------------------------------------------\n",
      "> Fold 3 - Loss: 0.10170911252498627 - RMSE: 0.13580259680747986\n",
      "------------------------------------------------------------------------\n",
      "------------------------------------------------------------------------\n",
      "> Fold 4 - Loss: 0.10264408588409424 - RMSE: 0.120071180164814\n",
      "------------------------------------------------------------------------\n",
      "Average scores for all folds:\n",
      "> RMSE: 0.142880754545331 (+- 0.02092142189083165)\n",
      "> Loss: 0.11181861162185669\n",
      "------------------------------------------------------------------------\n",
      "\n"
     ]
    },
    {
     "data": {
      "text/html": [
       "Waiting for W&B process to finish... <strong style=\"color:green\">(success).</strong>"
      ],
      "text/plain": [
       "<IPython.core.display.HTML object>"
      ]
     },
     "metadata": {},
     "output_type": "display_data"
    },
    {
     "data": {
      "application/vnd.jupyter.widget-view+json": {
       "model_id": "67cacdb43bf2400eaafc9eeec1facf92",
       "version_major": 2,
       "version_minor": 0
      },
      "text/plain": [
       "VBox(children=(Label(value='4.899 MB of 27.761 MB uploaded (0.000 MB deduped)\\r'), FloatProgress(value=0.17649…"
      ]
     },
     "metadata": {},
     "output_type": "display_data"
    },
    {
     "data": {
      "text/html": [
       "<style>\n",
       "    table.wandb td:nth-child(1) { padding: 0 10px; text-align: right }\n",
       "    .wandb-row { display: flex; flex-direction: row; flex-wrap: wrap; width: 100% }\n",
       "    .wandb-col { display: flex; flex-direction: column; flex-basis: 100%; flex: 1; padding: 10px; }\n",
       "    </style>\n",
       "<div class=\"wandb-row\"><div class=\"wandb-col\"><h3>Run history:</h3><br/><table class=\"wandb\"><tr><td>Mean Validation Loss (all folds)</td><td>▁</td></tr><tr><td>Mean Validation RMSE (all folds)</td><td>▁</td></tr><tr><td>epoch</td><td>▁▁▁▁▂▂▂▂▂▃▃▃▃▃▃▄▄▄▄▄▅▅▅▅▅▅▆▆▆▆▆▆▇▇▇▇▇███</td></tr><tr><td>loss</td><td>█▅▄▃▃▃▂▂▂▂▂▂▂▂▂▂▂▂▂▂▂▂▂▂▂▂▂▂▂▂▂▂▂▁▁▁▁▁▁▁</td></tr><tr><td>root_mean_squared_error</td><td>█▆▆▅▅▆▅▅▅▅▅▅▄▄▅▅▄▄▄▄▄▅▄▄▄▄▄▄▄▄▃▃▃▃▂▁▁▁▁▁</td></tr><tr><td>val_loss</td><td>█▅▄▃▂▃▂▂▂▂▂▂▂▂▂▂▃▂▂▂▂▂▂▂▂▂▂▂▂▂▂▂▂▁▁▁▁▁▁▁</td></tr><tr><td>val_root_mean_squared_error</td><td>█▅▆▅▄▆▄▄▄▃▃▃▄▄▃▄▆▃▄▄▄▄▅▄▃▃▃▃▄▄▃▆▃▂▃▂▁▂▂▁</td></tr></table><br/></div><div class=\"wandb-col\"><h3>Run summary:</h3><br/><table class=\"wandb\"><tr><td>Mean Validation Loss (all folds)</td><td>0.11182</td></tr><tr><td>Mean Validation RMSE (all folds)</td><td>0.14288</td></tr><tr><td>best_epoch</td><td>146</td></tr><tr><td>best_val_loss</td><td>0.10199</td></tr><tr><td>epoch</td><td>149</td></tr><tr><td>loss</td><td>0.1141</td></tr><tr><td>root_mean_squared_error</td><td>0.13548</td></tr><tr><td>val_loss</td><td>0.10264</td></tr><tr><td>val_root_mean_squared_error</td><td>0.12007</td></tr></table><br/></div></div>"
      ],
      "text/plain": [
       "<IPython.core.display.HTML object>"
      ]
     },
     "metadata": {},
     "output_type": "display_data"
    },
    {
     "data": {
      "text/html": [
       "Synced <strong style=\"color:#cdcd00\">stilted-sweep-9</strong>: <a href=\"https://wandb.ai/luiscostigan/house-price-prediction/runs/os4ufn1o\" target=\"_blank\">https://wandb.ai/luiscostigan/house-price-prediction/runs/os4ufn1o</a><br/>Synced 5 W&B file(s), 0 media file(s), 0 artifact file(s) and 1 other file(s)"
      ],
      "text/plain": [
       "<IPython.core.display.HTML object>"
      ]
     },
     "metadata": {},
     "output_type": "display_data"
    },
    {
     "data": {
      "text/html": [
       "Find logs at: <code>./wandb/run-20220314_034824-os4ufn1o/logs</code>"
      ],
      "text/plain": [
       "<IPython.core.display.HTML object>"
      ]
     },
     "metadata": {},
     "output_type": "display_data"
    },
    {
     "data": {
      "text/html": [
       "Tracking run with wandb version 0.12.11"
      ],
      "text/plain": [
       "<IPython.core.display.HTML object>"
      ]
     },
     "metadata": {},
     "output_type": "display_data"
    },
    {
     "data": {
      "text/html": [
       "Run data is saved locally in <code>/workspaces/data-science-projects/house-price-prediction/Models/tensorflow/wandb/run-20220314_034930-os4ufn1o</code>"
      ],
      "text/plain": [
       "<IPython.core.display.HTML object>"
      ]
     },
     "metadata": {},
     "output_type": "display_data"
    },
    {
     "data": {
      "text/html": [
       "Syncing run <strong><a href=\"https://wandb.ai/luiscostigan/house-price-prediction/runs/os4ufn1o\" target=\"_blank\">stilted-sweep-9</a></strong> to <a href=\"https://wandb.ai/luiscostigan/house-price-prediction\" target=\"_blank\">Weights & Biases</a> (<a href=\"https://wandb.me/run\" target=\"_blank\">docs</a>)<br/>Sweep page:  <a href=\"https://wandb.ai/luiscostigan/house-price-prediction/sweeps/e8odal49\" target=\"_blank\">https://wandb.ai/luiscostigan/house-price-prediction/sweeps/e8odal49</a>"
      ],
      "text/plain": [
       "<IPython.core.display.HTML object>"
      ]
     },
     "metadata": {},
     "output_type": "display_data"
    },
    {
     "name": "stdout",
     "output_type": "stream",
     "text": [
      "37/37 [==============================] - 0s 5ms/step - loss: 0.1126 - root_mean_squared_error: 0.1420\n",
      "Score for fold 5: loss of 0.11259793490171432; root_mean_squared_error of 0.1419537216424942\n",
      "------------------------------------------------------------------------\n",
      "Score per fold\n",
      "------------------------------------------------------------------------\n",
      "> Fold 1 - Loss: 0.14561901986598969 - RMSE: 0.17697936296463013\n",
      "------------------------------------------------------------------------\n",
      "------------------------------------------------------------------------\n",
      "> Fold 2 - Loss: 0.09730222821235657 - RMSE: 0.13866987824440002\n",
      "------------------------------------------------------------------------\n",
      "------------------------------------------------------------------------\n",
      "> Fold 3 - Loss: 0.10170911252498627 - RMSE: 0.13580259680747986\n",
      "------------------------------------------------------------------------\n",
      "------------------------------------------------------------------------\n",
      "> Fold 4 - Loss: 0.10264408588409424 - RMSE: 0.120071180164814\n",
      "------------------------------------------------------------------------\n",
      "------------------------------------------------------------------------\n",
      "> Fold 5 - Loss: 0.11259793490171432 - RMSE: 0.1419537216424942\n",
      "------------------------------------------------------------------------\n",
      "Average scores for all folds:\n",
      "> RMSE: 0.14269534796476363 (+- 0.01871636229473576)\n",
      "> Loss: 0.11197447627782822\n",
      "------------------------------------------------------------------------\n",
      "\n"
     ]
    },
    {
     "data": {
      "text/html": [
       "Waiting for W&B process to finish... <strong style=\"color:green\">(success).</strong>"
      ],
      "text/plain": [
       "<IPython.core.display.HTML object>"
      ]
     },
     "metadata": {},
     "output_type": "display_data"
    },
    {
     "data": {
      "application/vnd.jupyter.widget-view+json": {
       "model_id": "77e3a4fda0cd47a9aeaea490e188d602",
       "version_major": 2,
       "version_minor": 0
      },
      "text/plain": [
       "VBox(children=(Label(value='4.845 MB of 27.761 MB uploaded (0.000 MB deduped)\\r'), FloatProgress(value=0.17452…"
      ]
     },
     "metadata": {},
     "output_type": "display_data"
    },
    {
     "data": {
      "text/html": [
       "<style>\n",
       "    table.wandb td:nth-child(1) { padding: 0 10px; text-align: right }\n",
       "    .wandb-row { display: flex; flex-direction: row; flex-wrap: wrap; width: 100% }\n",
       "    .wandb-col { display: flex; flex-direction: column; flex-basis: 100%; flex: 1; padding: 10px; }\n",
       "    </style>\n",
       "<div class=\"wandb-row\"><div class=\"wandb-col\"><h3>Run history:</h3><br/><table class=\"wandb\"><tr><td>Mean Validation Loss (all folds)</td><td>▁</td></tr><tr><td>Mean Validation RMSE (all folds)</td><td>▁</td></tr><tr><td>epoch</td><td>▁▁▁▁▂▂▂▂▂▃▃▃▃▃▃▄▄▄▄▄▅▅▅▅▅▅▆▆▆▆▆▆▇▇▇▇▇███</td></tr><tr><td>loss</td><td>█▅▄▃▃▃▂▂▂▂▂▂▂▂▂▂▂▂▂▂▂▂▂▂▂▂▂▂▂▂▂▁▁▁▁▁▁▁▁▁</td></tr><tr><td>root_mean_squared_error</td><td>█▇▆▆▆▅▅▅▅▅▅▅▅▅▆▅▄▅▅▄▅▅▄▅▅▄▄▄▄▃▄▂▂▁▁▁▁▁▁▁</td></tr><tr><td>val_loss</td><td>█▆▄▃▃▃▂▂▂▃▂▂▂▂▂▂▂▂▂▂▂▃▃▂▃▂▂▁▁▂▂▂▁▁▁▁▁▁▁▁</td></tr><tr><td>val_root_mean_squared_error</td><td>▅█▆▄▅▆▃▃▄▅▄▄▅▃▅▄▄▃▄▃▄▅▅▃▅▄▃▂▂▄▄▄▂▁▁▂▂▁▁▁</td></tr></table><br/></div><div class=\"wandb-col\"><h3>Run summary:</h3><br/><table class=\"wandb\"><tr><td>Mean Validation Loss (all folds)</td><td>0.11197</td></tr><tr><td>Mean Validation RMSE (all folds)</td><td>0.1427</td></tr><tr><td>best_epoch</td><td>135</td></tr><tr><td>best_val_loss</td><td>0.09053</td></tr><tr><td>epoch</td><td>149</td></tr><tr><td>loss</td><td>0.12015</td></tr><tr><td>root_mean_squared_error</td><td>0.14831</td></tr><tr><td>val_loss</td><td>0.1126</td></tr><tr><td>val_root_mean_squared_error</td><td>0.14195</td></tr></table><br/></div></div>"
      ],
      "text/plain": [
       "<IPython.core.display.HTML object>"
      ]
     },
     "metadata": {},
     "output_type": "display_data"
    },
    {
     "data": {
      "text/html": [
       "Synced <strong style=\"color:#cdcd00\">stilted-sweep-9</strong>: <a href=\"https://wandb.ai/luiscostigan/house-price-prediction/runs/os4ufn1o\" target=\"_blank\">https://wandb.ai/luiscostigan/house-price-prediction/runs/os4ufn1o</a><br/>Synced 5 W&B file(s), 0 media file(s), 0 artifact file(s) and 1 other file(s)"
      ],
      "text/plain": [
       "<IPython.core.display.HTML object>"
      ]
     },
     "metadata": {},
     "output_type": "display_data"
    },
    {
     "data": {
      "text/html": [
       "Find logs at: <code>./wandb/run-20220314_034930-os4ufn1o/logs</code>"
      ],
      "text/plain": [
       "<IPython.core.display.HTML object>"
      ]
     },
     "metadata": {},
     "output_type": "display_data"
    },
    {
     "name": "stderr",
     "output_type": "stream",
     "text": [
      "\u001b[34m\u001b[1mwandb\u001b[0m: Agent Starting Run: 7st23kv4 with config:\n",
      "\u001b[34m\u001b[1mwandb\u001b[0m: \tbatch_size: 8\n",
      "\u001b[34m\u001b[1mwandb\u001b[0m: \tbias1: 0.001\n",
      "\u001b[34m\u001b[1mwandb\u001b[0m: \tbias2: 0.001\n",
      "\u001b[34m\u001b[1mwandb\u001b[0m: \tdense1: 1024\n",
      "\u001b[34m\u001b[1mwandb\u001b[0m: \tdense2: 2048\n",
      "\u001b[34m\u001b[1mwandb\u001b[0m: \tdropout1: 0.2514544274674719\n",
      "\u001b[34m\u001b[1mwandb\u001b[0m: \tepochs: 100\n",
      "\u001b[34m\u001b[1mwandb\u001b[0m: \tlearning_rate: 0.0001\n"
     ]
    },
    {
     "data": {
      "text/html": [
       "Tracking run with wandb version 0.12.11"
      ],
      "text/plain": [
       "<IPython.core.display.HTML object>"
      ]
     },
     "metadata": {},
     "output_type": "display_data"
    },
    {
     "data": {
      "text/html": [
       "Run data is saved locally in <code>/workspaces/data-science-projects/house-price-prediction/Models/tensorflow/wandb/run-20220314_035031-7st23kv4</code>"
      ],
      "text/plain": [
       "<IPython.core.display.HTML object>"
      ]
     },
     "metadata": {},
     "output_type": "display_data"
    },
    {
     "data": {
      "text/html": [
       "Syncing run <strong><a href=\"https://wandb.ai/luiscostigan/house-price-prediction/runs/7st23kv4\" target=\"_blank\">scarlet-sweep-10</a></strong> to <a href=\"https://wandb.ai/luiscostigan/house-price-prediction\" target=\"_blank\">Weights & Biases</a> (<a href=\"https://wandb.me/run\" target=\"_blank\">docs</a>)<br/>Sweep page:  <a href=\"https://wandb.ai/luiscostigan/house-price-prediction/sweeps/e8odal49\" target=\"_blank\">https://wandb.ai/luiscostigan/house-price-prediction/sweeps/e8odal49</a>"
      ],
      "text/plain": [
       "<IPython.core.display.HTML object>"
      ]
     },
     "metadata": {},
     "output_type": "display_data"
    },
    {
     "name": "stdout",
     "output_type": "stream",
     "text": [
      "37/37 [==============================] - 0s 4ms/step - loss: 0.4129 - root_mean_squared_error: 0.2919\n",
      "Score for fold 1: loss of 0.41294118762016296; root_mean_squared_error of 0.2918831408023834\n",
      "------------------------------------------------------------------------\n",
      "Score per fold\n",
      "------------------------------------------------------------------------\n",
      "> Fold 1 - Loss: 0.41294118762016296 - RMSE: 0.2918831408023834\n",
      "------------------------------------------------------------------------\n",
      "Average scores for all folds:\n",
      "> RMSE: 0.2918831408023834 (+- 0.0)\n",
      "> Loss: 0.41294118762016296\n",
      "------------------------------------------------------------------------\n",
      "\n"
     ]
    },
    {
     "data": {
      "text/html": [
       "Waiting for W&B process to finish... <strong style=\"color:green\">(success).</strong>"
      ],
      "text/plain": [
       "<IPython.core.display.HTML object>"
      ]
     },
     "metadata": {},
     "output_type": "display_data"
    },
    {
     "data": {
      "application/vnd.jupyter.widget-view+json": {
       "model_id": "696b5b7040c443ca98896d71daaa446f",
       "version_major": 2,
       "version_minor": 0
      },
      "text/plain": [
       "VBox(children=(Label(value='3.009 MB of 27.761 MB uploaded (0.000 MB deduped)\\r'), FloatProgress(value=0.10838…"
      ]
     },
     "metadata": {},
     "output_type": "display_data"
    },
    {
     "data": {
      "text/html": [
       "<style>\n",
       "    table.wandb td:nth-child(1) { padding: 0 10px; text-align: right }\n",
       "    .wandb-row { display: flex; flex-direction: row; flex-wrap: wrap; width: 100% }\n",
       "    .wandb-col { display: flex; flex-direction: column; flex-basis: 100%; flex: 1; padding: 10px; }\n",
       "    </style>\n",
       "<div class=\"wandb-row\"><div class=\"wandb-col\"><h3>Run history:</h3><br/><table class=\"wandb\"><tr><td>Mean Validation Loss (all folds)</td><td>▁</td></tr><tr><td>Mean Validation RMSE (all folds)</td><td>▁</td></tr><tr><td>epoch</td><td>▁▁▁▁▂▂▂▂▂▃▃▃▃▃▃▄▄▄▄▄▅▅▅▅▅▅▆▆▆▆▆▇▇▇▇▇▇███</td></tr><tr><td>loss</td><td>█▄▄▃▃▃▂▂▂▂▂▂▂▂▂▂▂▂▂▁▁▁▁▁▁▁▁▁▁▁▁▁▁▁▁▁▁▁▁▁</td></tr><tr><td>root_mean_squared_error</td><td>█▂▁▁▁▁▁▁▁▁▁▁▁▁▁▁▁▁▁▁▁▁▁▁▁▁▁▁▁▁▁▁▁▁▁▁▁▁▁▁</td></tr><tr><td>val_loss</td><td>█▇▆▅▅▄▄▃▃▄▃▃▃▃▂▂▂▂▂▂▂▁▁▁▂▁▁▁▁▁▁▁▁▁▁▂▁▁▁▁</td></tr><tr><td>val_root_mean_squared_error</td><td>█▅▆▃▄▃▄▃▃▅▃▄▅▃▂▂▂▂▂▃▁▁▁▁▅▂▂▂▁▂▁▂▂▂▁▃▁▃▃▃</td></tr></table><br/></div><div class=\"wandb-col\"><h3>Run summary:</h3><br/><table class=\"wandb\"><tr><td>Mean Validation Loss (all folds)</td><td>0.41294</td></tr><tr><td>Mean Validation RMSE (all folds)</td><td>0.29188</td></tr><tr><td>best_epoch</td><td>89</td></tr><tr><td>best_val_loss</td><td>0.29711</td></tr><tr><td>epoch</td><td>99</td></tr><tr><td>loss</td><td>0.46645</td></tr><tr><td>root_mean_squared_error</td><td>0.36811</td></tr><tr><td>val_loss</td><td>0.41294</td></tr><tr><td>val_root_mean_squared_error</td><td>0.29188</td></tr></table><br/></div></div>"
      ],
      "text/plain": [
       "<IPython.core.display.HTML object>"
      ]
     },
     "metadata": {},
     "output_type": "display_data"
    },
    {
     "data": {
      "text/html": [
       "Synced <strong style=\"color:#cdcd00\">scarlet-sweep-10</strong>: <a href=\"https://wandb.ai/luiscostigan/house-price-prediction/runs/7st23kv4\" target=\"_blank\">https://wandb.ai/luiscostigan/house-price-prediction/runs/7st23kv4</a><br/>Synced 5 W&B file(s), 0 media file(s), 0 artifact file(s) and 1 other file(s)"
      ],
      "text/plain": [
       "<IPython.core.display.HTML object>"
      ]
     },
     "metadata": {},
     "output_type": "display_data"
    },
    {
     "data": {
      "text/html": [
       "Find logs at: <code>./wandb/run-20220314_035031-7st23kv4/logs</code>"
      ],
      "text/plain": [
       "<IPython.core.display.HTML object>"
      ]
     },
     "metadata": {},
     "output_type": "display_data"
    },
    {
     "data": {
      "text/html": [
       "Tracking run with wandb version 0.12.11"
      ],
      "text/plain": [
       "<IPython.core.display.HTML object>"
      ]
     },
     "metadata": {},
     "output_type": "display_data"
    },
    {
     "data": {
      "text/html": [
       "Run data is saved locally in <code>/workspaces/data-science-projects/house-price-prediction/Models/tensorflow/wandb/run-20220314_035147-7st23kv4</code>"
      ],
      "text/plain": [
       "<IPython.core.display.HTML object>"
      ]
     },
     "metadata": {},
     "output_type": "display_data"
    },
    {
     "data": {
      "text/html": [
       "Syncing run <strong><a href=\"https://wandb.ai/luiscostigan/house-price-prediction/runs/7st23kv4\" target=\"_blank\">scarlet-sweep-10</a></strong> to <a href=\"https://wandb.ai/luiscostigan/house-price-prediction\" target=\"_blank\">Weights & Biases</a> (<a href=\"https://wandb.me/run\" target=\"_blank\">docs</a>)<br/>Sweep page:  <a href=\"https://wandb.ai/luiscostigan/house-price-prediction/sweeps/e8odal49\" target=\"_blank\">https://wandb.ai/luiscostigan/house-price-prediction/sweeps/e8odal49</a>"
      ],
      "text/plain": [
       "<IPython.core.display.HTML object>"
      ]
     },
     "metadata": {},
     "output_type": "display_data"
    },
    {
     "name": "stdout",
     "output_type": "stream",
     "text": [
      "37/37 [==============================] - 0s 3ms/step - loss: 0.3021 - root_mean_squared_error: 0.1713\n",
      "Score for fold 2: loss of 0.3021185100078583; root_mean_squared_error of 0.17134320735931396\n",
      "------------------------------------------------------------------------\n",
      "Score per fold\n",
      "------------------------------------------------------------------------\n",
      "> Fold 1 - Loss: 0.41294118762016296 - RMSE: 0.2918831408023834\n",
      "------------------------------------------------------------------------\n",
      "------------------------------------------------------------------------\n",
      "> Fold 2 - Loss: 0.3021185100078583 - RMSE: 0.17134320735931396\n",
      "------------------------------------------------------------------------\n",
      "Average scores for all folds:\n",
      "> RMSE: 0.2316131740808487 (+- 0.06026996672153473)\n",
      "> Loss: 0.3575298488140106\n",
      "------------------------------------------------------------------------\n",
      "\n"
     ]
    },
    {
     "data": {
      "text/html": [
       "Waiting for W&B process to finish... <strong style=\"color:green\">(success).</strong>"
      ],
      "text/plain": [
       "<IPython.core.display.HTML object>"
      ]
     },
     "metadata": {},
     "output_type": "display_data"
    },
    {
     "data": {
      "application/vnd.jupyter.widget-view+json": {
       "model_id": "6b6037366fe146b68d388ef554b58644",
       "version_major": 2,
       "version_minor": 0
      },
      "text/plain": [
       "VBox(children=(Label(value='3.032 MB of 27.761 MB uploaded (0.000 MB deduped)\\r'), FloatProgress(value=0.10923…"
      ]
     },
     "metadata": {},
     "output_type": "display_data"
    },
    {
     "data": {
      "text/html": [
       "<style>\n",
       "    table.wandb td:nth-child(1) { padding: 0 10px; text-align: right }\n",
       "    .wandb-row { display: flex; flex-direction: row; flex-wrap: wrap; width: 100% }\n",
       "    .wandb-col { display: flex; flex-direction: column; flex-basis: 100%; flex: 1; padding: 10px; }\n",
       "    </style>\n",
       "<div class=\"wandb-row\"><div class=\"wandb-col\"><h3>Run history:</h3><br/><table class=\"wandb\"><tr><td>Mean Validation Loss (all folds)</td><td>▁</td></tr><tr><td>Mean Validation RMSE (all folds)</td><td>▁</td></tr><tr><td>epoch</td><td>▁▁▁▁▂▂▂▂▂▃▃▃▃▃▃▄▄▄▄▄▅▅▅▅▅▅▆▆▆▆▆▇▇▇▇▇▇███</td></tr><tr><td>loss</td><td>█▄▄▃▃▃▃▂▂▂▂▂▂▂▂▂▂▁▁▁▁▁▁▁▁▁▁▁▁▁▁▁▁▁▁▁▁▁▁▁</td></tr><tr><td>root_mean_squared_error</td><td>█▂▁▁▁▁▁▁▁▁▁▁▁▁▁▁▁▁▁▁▁▁▁▁▁▁▁▁▁▁▁▁▁▁▁▁▁▁▁▁</td></tr><tr><td>val_loss</td><td>█▇▆▆▅▅▄▃▄▃▃▃▂▄▂▃▄▂▂▂▂▂▂▂▂▁▁▁▁▂▂▂▁▁▁▁▁▁▁▁</td></tr><tr><td>val_root_mean_squared_error</td><td>▇▄▃▇▃▆▃▂▃▃▂▂▂█▂▅▇▂▂▂▁▂▂▂▃▁▁▁▁▂▄▂▁▂▁▂▂▁▂▁</td></tr></table><br/></div><div class=\"wandb-col\"><h3>Run summary:</h3><br/><table class=\"wandb\"><tr><td>Mean Validation Loss (all folds)</td><td>0.35753</td></tr><tr><td>Mean Validation RMSE (all folds)</td><td>0.23161</td></tr><tr><td>best_epoch</td><td>95</td></tr><tr><td>best_val_loss</td><td>0.28307</td></tr><tr><td>epoch</td><td>99</td></tr><tr><td>loss</td><td>0.47006</td></tr><tr><td>root_mean_squared_error</td><td>0.37071</td></tr><tr><td>val_loss</td><td>0.30212</td></tr><tr><td>val_root_mean_squared_error</td><td>0.17134</td></tr></table><br/></div></div>"
      ],
      "text/plain": [
       "<IPython.core.display.HTML object>"
      ]
     },
     "metadata": {},
     "output_type": "display_data"
    },
    {
     "data": {
      "text/html": [
       "Synced <strong style=\"color:#cdcd00\">scarlet-sweep-10</strong>: <a href=\"https://wandb.ai/luiscostigan/house-price-prediction/runs/7st23kv4\" target=\"_blank\">https://wandb.ai/luiscostigan/house-price-prediction/runs/7st23kv4</a><br/>Synced 5 W&B file(s), 0 media file(s), 0 artifact file(s) and 1 other file(s)"
      ],
      "text/plain": [
       "<IPython.core.display.HTML object>"
      ]
     },
     "metadata": {},
     "output_type": "display_data"
    },
    {
     "data": {
      "text/html": [
       "Find logs at: <code>./wandb/run-20220314_035147-7st23kv4/logs</code>"
      ],
      "text/plain": [
       "<IPython.core.display.HTML object>"
      ]
     },
     "metadata": {},
     "output_type": "display_data"
    },
    {
     "data": {
      "text/html": [
       "Tracking run with wandb version 0.12.11"
      ],
      "text/plain": [
       "<IPython.core.display.HTML object>"
      ]
     },
     "metadata": {},
     "output_type": "display_data"
    },
    {
     "data": {
      "text/html": [
       "Run data is saved locally in <code>/workspaces/data-science-projects/house-price-prediction/Models/tensorflow/wandb/run-20220314_035302-7st23kv4</code>"
      ],
      "text/plain": [
       "<IPython.core.display.HTML object>"
      ]
     },
     "metadata": {},
     "output_type": "display_data"
    },
    {
     "data": {
      "text/html": [
       "Syncing run <strong><a href=\"https://wandb.ai/luiscostigan/house-price-prediction/runs/7st23kv4\" target=\"_blank\">scarlet-sweep-10</a></strong> to <a href=\"https://wandb.ai/luiscostigan/house-price-prediction\" target=\"_blank\">Weights & Biases</a> (<a href=\"https://wandb.me/run\" target=\"_blank\">docs</a>)<br/>Sweep page:  <a href=\"https://wandb.ai/luiscostigan/house-price-prediction/sweeps/e8odal49\" target=\"_blank\">https://wandb.ai/luiscostigan/house-price-prediction/sweeps/e8odal49</a>"
      ],
      "text/plain": [
       "<IPython.core.display.HTML object>"
      ]
     },
     "metadata": {},
     "output_type": "display_data"
    },
    {
     "name": "stdout",
     "output_type": "stream",
     "text": [
      "37/37 [==============================] - 0s 4ms/step - loss: 0.3090 - root_mean_squared_error: 0.1768\n",
      "Score for fold 3: loss of 0.3089757263660431; root_mean_squared_error of 0.17679958045482635\n",
      "------------------------------------------------------------------------\n",
      "Score per fold\n",
      "------------------------------------------------------------------------\n",
      "> Fold 1 - Loss: 0.41294118762016296 - RMSE: 0.2918831408023834\n",
      "------------------------------------------------------------------------\n",
      "------------------------------------------------------------------------\n",
      "> Fold 2 - Loss: 0.3021185100078583 - RMSE: 0.17134320735931396\n",
      "------------------------------------------------------------------------\n",
      "------------------------------------------------------------------------\n",
      "> Fold 3 - Loss: 0.3089757263660431 - RMSE: 0.17679958045482635\n",
      "------------------------------------------------------------------------\n",
      "Average scores for all folds:\n",
      "> RMSE: 0.2133419762055079 (+- 0.05558164507589699)\n",
      "> Loss: 0.3413451413313548\n",
      "------------------------------------------------------------------------\n",
      "\n"
     ]
    },
    {
     "data": {
      "text/html": [
       "Waiting for W&B process to finish... <strong style=\"color:green\">(success).</strong>"
      ],
      "text/plain": [
       "<IPython.core.display.HTML object>"
      ]
     },
     "metadata": {},
     "output_type": "display_data"
    },
    {
     "data": {
      "application/vnd.jupyter.widget-view+json": {
       "model_id": "f192f4ad85c545b283073a54a78320cb",
       "version_major": 2,
       "version_minor": 0
      },
      "text/plain": [
       "VBox(children=(Label(value='2.462 MB of 27.761 MB uploaded (0.000 MB deduped)\\r'), FloatProgress(value=0.08868…"
      ]
     },
     "metadata": {},
     "output_type": "display_data"
    },
    {
     "data": {
      "text/html": [
       "<style>\n",
       "    table.wandb td:nth-child(1) { padding: 0 10px; text-align: right }\n",
       "    .wandb-row { display: flex; flex-direction: row; flex-wrap: wrap; width: 100% }\n",
       "    .wandb-col { display: flex; flex-direction: column; flex-basis: 100%; flex: 1; padding: 10px; }\n",
       "    </style>\n",
       "<div class=\"wandb-row\"><div class=\"wandb-col\"><h3>Run history:</h3><br/><table class=\"wandb\"><tr><td>Mean Validation Loss (all folds)</td><td>▁</td></tr><tr><td>Mean Validation RMSE (all folds)</td><td>▁</td></tr><tr><td>epoch</td><td>▁▁▁▁▂▂▂▂▂▃▃▃▃▃▃▄▄▄▄▄▅▅▅▅▅▅▆▆▆▆▆▇▇▇▇▇▇███</td></tr><tr><td>loss</td><td>█▄▄▃▃▃▃▂▂▂▂▂▂▂▂▂▂▂▂▁▁▁▁▁▁▁▁▁▁▁▁▁▁▁▁▁▁▁▁▁</td></tr><tr><td>root_mean_squared_error</td><td>█▂▁▁▁▁▁▁▁▁▁▁▁▁▁▁▁▁▁▁▁▁▁▁▁▁▁▁▁▁▁▁▁▁▁▁▁▁▁▁</td></tr><tr><td>val_loss</td><td>█▇▆▆▅▅▄▄▃▃▃▃▃▂▂▂▃▃▂▂▂▂▂▂▂▁▁▁▁▁▂▁▁▁▁▂▁▁▁▁</td></tr><tr><td>val_root_mean_squared_error</td><td>▇▅▄█▄▅▄▃▂▃▂▄▃▂▂▂▅▄▃▂▂▄▂▃▂▂▁▁▂▂▃▁▁▁▃▅▁▂▁▂</td></tr></table><br/></div><div class=\"wandb-col\"><h3>Run summary:</h3><br/><table class=\"wandb\"><tr><td>Mean Validation Loss (all folds)</td><td>0.34135</td></tr><tr><td>Mean Validation RMSE (all folds)</td><td>0.21334</td></tr><tr><td>best_epoch</td><td>97</td></tr><tr><td>best_val_loss</td><td>0.2809</td></tr><tr><td>epoch</td><td>99</td></tr><tr><td>loss</td><td>0.46326</td></tr><tr><td>root_mean_squared_error</td><td>0.36055</td></tr><tr><td>val_loss</td><td>0.30898</td></tr><tr><td>val_root_mean_squared_error</td><td>0.1768</td></tr></table><br/></div></div>"
      ],
      "text/plain": [
       "<IPython.core.display.HTML object>"
      ]
     },
     "metadata": {},
     "output_type": "display_data"
    },
    {
     "data": {
      "text/html": [
       "Synced <strong style=\"color:#cdcd00\">scarlet-sweep-10</strong>: <a href=\"https://wandb.ai/luiscostigan/house-price-prediction/runs/7st23kv4\" target=\"_blank\">https://wandb.ai/luiscostigan/house-price-prediction/runs/7st23kv4</a><br/>Synced 5 W&B file(s), 0 media file(s), 0 artifact file(s) and 1 other file(s)"
      ],
      "text/plain": [
       "<IPython.core.display.HTML object>"
      ]
     },
     "metadata": {},
     "output_type": "display_data"
    },
    {
     "data": {
      "text/html": [
       "Find logs at: <code>./wandb/run-20220314_035302-7st23kv4/logs</code>"
      ],
      "text/plain": [
       "<IPython.core.display.HTML object>"
      ]
     },
     "metadata": {},
     "output_type": "display_data"
    },
    {
     "data": {
      "text/html": [
       "Tracking run with wandb version 0.12.11"
      ],
      "text/plain": [
       "<IPython.core.display.HTML object>"
      ]
     },
     "metadata": {},
     "output_type": "display_data"
    },
    {
     "data": {
      "text/html": [
       "Run data is saved locally in <code>/workspaces/data-science-projects/house-price-prediction/Models/tensorflow/wandb/run-20220314_035417-7st23kv4</code>"
      ],
      "text/plain": [
       "<IPython.core.display.HTML object>"
      ]
     },
     "metadata": {},
     "output_type": "display_data"
    },
    {
     "data": {
      "text/html": [
       "Syncing run <strong><a href=\"https://wandb.ai/luiscostigan/house-price-prediction/runs/7st23kv4\" target=\"_blank\">scarlet-sweep-10</a></strong> to <a href=\"https://wandb.ai/luiscostigan/house-price-prediction\" target=\"_blank\">Weights & Biases</a> (<a href=\"https://wandb.me/run\" target=\"_blank\">docs</a>)<br/>Sweep page:  <a href=\"https://wandb.ai/luiscostigan/house-price-prediction/sweeps/e8odal49\" target=\"_blank\">https://wandb.ai/luiscostigan/house-price-prediction/sweeps/e8odal49</a>"
      ],
      "text/plain": [
       "<IPython.core.display.HTML object>"
      ]
     },
     "metadata": {},
     "output_type": "display_data"
    },
    {
     "name": "stdout",
     "output_type": "stream",
     "text": [
      "37/37 [==============================] - 0s 3ms/step - loss: 0.3017 - root_mean_squared_error: 0.1624\n",
      "Score for fold 4: loss of 0.3017241656780243; root_mean_squared_error of 0.1624414026737213\n",
      "------------------------------------------------------------------------\n",
      "Score per fold\n",
      "------------------------------------------------------------------------\n",
      "> Fold 1 - Loss: 0.41294118762016296 - RMSE: 0.2918831408023834\n",
      "------------------------------------------------------------------------\n",
      "------------------------------------------------------------------------\n",
      "> Fold 2 - Loss: 0.3021185100078583 - RMSE: 0.17134320735931396\n",
      "------------------------------------------------------------------------\n",
      "------------------------------------------------------------------------\n",
      "> Fold 3 - Loss: 0.3089757263660431 - RMSE: 0.17679958045482635\n",
      "------------------------------------------------------------------------\n",
      "------------------------------------------------------------------------\n",
      "> Fold 4 - Loss: 0.3017241656780243 - RMSE: 0.1624414026737213\n",
      "------------------------------------------------------------------------\n",
      "Average scores for all folds:\n",
      "> RMSE: 0.20061683282256126 (+- 0.05294126249303931)\n",
      "> Loss: 0.33143989741802216\n",
      "------------------------------------------------------------------------\n",
      "\n"
     ]
    },
    {
     "data": {
      "text/html": [
       "Waiting for W&B process to finish... <strong style=\"color:green\">(success).</strong>"
      ],
      "text/plain": [
       "<IPython.core.display.HTML object>"
      ]
     },
     "metadata": {},
     "output_type": "display_data"
    },
    {
     "data": {
      "application/vnd.jupyter.widget-view+json": {
       "model_id": "86a248a6b3d44f00b4f98595e6808f2a",
       "version_major": 2,
       "version_minor": 0
      },
      "text/plain": [
       "VBox(children=(Label(value='3.853 MB of 27.761 MB uploaded (0.000 MB deduped)\\r'), FloatProgress(value=0.13877…"
      ]
     },
     "metadata": {},
     "output_type": "display_data"
    },
    {
     "data": {
      "text/html": [
       "<style>\n",
       "    table.wandb td:nth-child(1) { padding: 0 10px; text-align: right }\n",
       "    .wandb-row { display: flex; flex-direction: row; flex-wrap: wrap; width: 100% }\n",
       "    .wandb-col { display: flex; flex-direction: column; flex-basis: 100%; flex: 1; padding: 10px; }\n",
       "    </style>\n",
       "<div class=\"wandb-row\"><div class=\"wandb-col\"><h3>Run history:</h3><br/><table class=\"wandb\"><tr><td>Mean Validation Loss (all folds)</td><td>▁</td></tr><tr><td>Mean Validation RMSE (all folds)</td><td>▁</td></tr><tr><td>epoch</td><td>▁▁▁▁▂▂▂▂▂▃▃▃▃▃▃▄▄▄▄▄▅▅▅▅▅▅▆▆▆▆▆▇▇▇▇▇▇███</td></tr><tr><td>loss</td><td>█▄▄▃▃▃▃▂▂▂▂▂▂▂▂▂▂▂▂▁▁▁▁▁▁▁▁▁▁▁▁▁▁▁▁▁▁▁▁▁</td></tr><tr><td>root_mean_squared_error</td><td>█▂▁▁▁▁▁▁▁▁▁▁▁▁▁▁▁▁▁▁▁▁▁▁▁▁▁▁▁▁▁▁▁▁▁▁▁▁▁▁</td></tr><tr><td>val_loss</td><td>█▆▆▅▄▄▅▃▃▃▃▃▂▂▂▂▂▂▂▂▂▂▂▂▂▂▂▁▂▁▁▁▁▂▂▁▁▁▁▁</td></tr><tr><td>val_root_mean_squared_error</td><td>█▄▅▃▃▃▅▂▂▂▃▂▂▂▁▂▂▂▃▃▃▂▁▁▂▂▂▁▃▂▁▁▁▃▃▂▁▂▁▁</td></tr></table><br/></div><div class=\"wandb-col\"><h3>Run summary:</h3><br/><table class=\"wandb\"><tr><td>Mean Validation Loss (all folds)</td><td>0.33144</td></tr><tr><td>Mean Validation RMSE (all folds)</td><td>0.20062</td></tr><tr><td>best_epoch</td><td>99</td></tr><tr><td>best_val_loss</td><td>0.30172</td></tr><tr><td>epoch</td><td>99</td></tr><tr><td>loss</td><td>0.45972</td></tr><tr><td>root_mean_squared_error</td><td>0.36262</td></tr><tr><td>val_loss</td><td>0.30172</td></tr><tr><td>val_root_mean_squared_error</td><td>0.16244</td></tr></table><br/></div></div>"
      ],
      "text/plain": [
       "<IPython.core.display.HTML object>"
      ]
     },
     "metadata": {},
     "output_type": "display_data"
    },
    {
     "data": {
      "text/html": [
       "Synced <strong style=\"color:#cdcd00\">scarlet-sweep-10</strong>: <a href=\"https://wandb.ai/luiscostigan/house-price-prediction/runs/7st23kv4\" target=\"_blank\">https://wandb.ai/luiscostigan/house-price-prediction/runs/7st23kv4</a><br/>Synced 5 W&B file(s), 0 media file(s), 0 artifact file(s) and 1 other file(s)"
      ],
      "text/plain": [
       "<IPython.core.display.HTML object>"
      ]
     },
     "metadata": {},
     "output_type": "display_data"
    },
    {
     "data": {
      "text/html": [
       "Find logs at: <code>./wandb/run-20220314_035417-7st23kv4/logs</code>"
      ],
      "text/plain": [
       "<IPython.core.display.HTML object>"
      ]
     },
     "metadata": {},
     "output_type": "display_data"
    },
    {
     "data": {
      "text/html": [
       "Tracking run with wandb version 0.12.11"
      ],
      "text/plain": [
       "<IPython.core.display.HTML object>"
      ]
     },
     "metadata": {},
     "output_type": "display_data"
    },
    {
     "data": {
      "text/html": [
       "Run data is saved locally in <code>/workspaces/data-science-projects/house-price-prediction/Models/tensorflow/wandb/run-20220314_035534-7st23kv4</code>"
      ],
      "text/plain": [
       "<IPython.core.display.HTML object>"
      ]
     },
     "metadata": {},
     "output_type": "display_data"
    },
    {
     "data": {
      "text/html": [
       "Syncing run <strong><a href=\"https://wandb.ai/luiscostigan/house-price-prediction/runs/7st23kv4\" target=\"_blank\">scarlet-sweep-10</a></strong> to <a href=\"https://wandb.ai/luiscostigan/house-price-prediction\" target=\"_blank\">Weights & Biases</a> (<a href=\"https://wandb.me/run\" target=\"_blank\">docs</a>)<br/>Sweep page:  <a href=\"https://wandb.ai/luiscostigan/house-price-prediction/sweeps/e8odal49\" target=\"_blank\">https://wandb.ai/luiscostigan/house-price-prediction/sweeps/e8odal49</a>"
      ],
      "text/plain": [
       "<IPython.core.display.HTML object>"
      ]
     },
     "metadata": {},
     "output_type": "display_data"
    },
    {
     "name": "stdout",
     "output_type": "stream",
     "text": [
      "37/37 [==============================] - 0s 4ms/step - loss: 0.5524 - root_mean_squared_error: 0.4023\n",
      "Score for fold 5: loss of 0.5523825883865356; root_mean_squared_error of 0.4023100733757019\n",
      "------------------------------------------------------------------------\n",
      "Score per fold\n",
      "------------------------------------------------------------------------\n",
      "> Fold 1 - Loss: 0.41294118762016296 - RMSE: 0.2918831408023834\n",
      "------------------------------------------------------------------------\n",
      "------------------------------------------------------------------------\n",
      "> Fold 2 - Loss: 0.3021185100078583 - RMSE: 0.17134320735931396\n",
      "------------------------------------------------------------------------\n",
      "------------------------------------------------------------------------\n",
      "> Fold 3 - Loss: 0.3089757263660431 - RMSE: 0.17679958045482635\n",
      "------------------------------------------------------------------------\n",
      "------------------------------------------------------------------------\n",
      "> Fold 4 - Loss: 0.3017241656780243 - RMSE: 0.1624414026737213\n",
      "------------------------------------------------------------------------\n",
      "------------------------------------------------------------------------\n",
      "> Fold 5 - Loss: 0.5523825883865356 - RMSE: 0.4023100733757019\n",
      "------------------------------------------------------------------------\n",
      "Average scores for all folds:\n",
      "> RMSE: 0.2409554809331894 (+- 0.0935470360035947)\n",
      "> Loss: 0.3756284356117249\n",
      "------------------------------------------------------------------------\n",
      "\n"
     ]
    },
    {
     "data": {
      "text/html": [
       "Waiting for W&B process to finish... <strong style=\"color:green\">(success).</strong>"
      ],
      "text/plain": [
       "<IPython.core.display.HTML object>"
      ]
     },
     "metadata": {},
     "output_type": "display_data"
    },
    {
     "data": {
      "application/vnd.jupyter.widget-view+json": {
       "model_id": "5d1e9d709cc2482a8a2ea61c8ce02c4e",
       "version_major": 2,
       "version_minor": 0
      },
      "text/plain": [
       "VBox(children=(Label(value='2.845 MB of 27.761 MB uploaded (0.000 MB deduped)\\r'), FloatProgress(value=0.10247…"
      ]
     },
     "metadata": {},
     "output_type": "display_data"
    },
    {
     "data": {
      "text/html": [
       "<style>\n",
       "    table.wandb td:nth-child(1) { padding: 0 10px; text-align: right }\n",
       "    .wandb-row { display: flex; flex-direction: row; flex-wrap: wrap; width: 100% }\n",
       "    .wandb-col { display: flex; flex-direction: column; flex-basis: 100%; flex: 1; padding: 10px; }\n",
       "    </style>\n",
       "<div class=\"wandb-row\"><div class=\"wandb-col\"><h3>Run history:</h3><br/><table class=\"wandb\"><tr><td>Mean Validation Loss (all folds)</td><td>▁</td></tr><tr><td>Mean Validation RMSE (all folds)</td><td>▁</td></tr><tr><td>epoch</td><td>▁▁▁▁▂▂▂▂▂▃▃▃▃▃▃▄▄▄▄▄▅▅▅▅▅▅▆▆▆▆▆▇▇▇▇▇▇███</td></tr><tr><td>loss</td><td>█▄▄▃▃▃▃▂▂▂▂▂▂▂▂▂▂▂▂▁▁▁▁▁▁▁▁▁▁▁▁▁▁▁▁▁▁▁▁▁</td></tr><tr><td>root_mean_squared_error</td><td>█▂▁▁▁▁▁▁▁▁▁▁▁▁▁▁▁▁▁▁▁▁▁▁▁▁▁▁▁▁▁▁▁▁▁▁▁▁▁▁</td></tr><tr><td>val_loss</td><td>█▇▆▅▅▄▄▄▃▃▃▃▂▃▂▂▂▂▂▂▂▂▂▂▁▁▁▁▁▁▂▁▁▁▁▁▁▁▁▂</td></tr><tr><td>val_root_mean_squared_error</td><td>█▅▄▄▅▄▃▅▃▃▄▂▂▅▂▁▂▂▂▂▂▂▂▂▁▁▁▁▁▁▃▁▁▂▂▁▂▂▂▅</td></tr></table><br/></div><div class=\"wandb-col\"><h3>Run summary:</h3><br/><table class=\"wandb\"><tr><td>Mean Validation Loss (all folds)</td><td>0.37563</td></tr><tr><td>Mean Validation RMSE (all folds)</td><td>0.24096</td></tr><tr><td>best_epoch</td><td>92</td></tr><tr><td>best_val_loss</td><td>0.30116</td></tr><tr><td>epoch</td><td>99</td></tr><tr><td>loss</td><td>0.45957</td></tr><tr><td>root_mean_squared_error</td><td>0.35497</td></tr><tr><td>val_loss</td><td>0.55238</td></tr><tr><td>val_root_mean_squared_error</td><td>0.40231</td></tr></table><br/></div></div>"
      ],
      "text/plain": [
       "<IPython.core.display.HTML object>"
      ]
     },
     "metadata": {},
     "output_type": "display_data"
    },
    {
     "data": {
      "text/html": [
       "Synced <strong style=\"color:#cdcd00\">scarlet-sweep-10</strong>: <a href=\"https://wandb.ai/luiscostigan/house-price-prediction/runs/7st23kv4\" target=\"_blank\">https://wandb.ai/luiscostigan/house-price-prediction/runs/7st23kv4</a><br/>Synced 5 W&B file(s), 0 media file(s), 0 artifact file(s) and 1 other file(s)"
      ],
      "text/plain": [
       "<IPython.core.display.HTML object>"
      ]
     },
     "metadata": {},
     "output_type": "display_data"
    },
    {
     "data": {
      "text/html": [
       "Find logs at: <code>./wandb/run-20220314_035534-7st23kv4/logs</code>"
      ],
      "text/plain": [
       "<IPython.core.display.HTML object>"
      ]
     },
     "metadata": {},
     "output_type": "display_data"
    },
    {
     "name": "stderr",
     "output_type": "stream",
     "text": [
      "\u001b[34m\u001b[1mwandb\u001b[0m: Agent Starting Run: 4utfbhel with config:\n",
      "\u001b[34m\u001b[1mwandb\u001b[0m: \tbatch_size: 8\n",
      "\u001b[34m\u001b[1mwandb\u001b[0m: \tbias1: 0.001\n",
      "\u001b[34m\u001b[1mwandb\u001b[0m: \tbias2: 0.01\n",
      "\u001b[34m\u001b[1mwandb\u001b[0m: \tdense1: 2048\n",
      "\u001b[34m\u001b[1mwandb\u001b[0m: \tdense2: 4096\n",
      "\u001b[34m\u001b[1mwandb\u001b[0m: \tdropout1: 0.3491552350059186\n",
      "\u001b[34m\u001b[1mwandb\u001b[0m: \tepochs: 50\n",
      "\u001b[34m\u001b[1mwandb\u001b[0m: \tlearning_rate: 0.0001\n"
     ]
    },
    {
     "data": {
      "text/html": [
       "Tracking run with wandb version 0.12.11"
      ],
      "text/plain": [
       "<IPython.core.display.HTML object>"
      ]
     },
     "metadata": {},
     "output_type": "display_data"
    },
    {
     "data": {
      "text/html": [
       "Run data is saved locally in <code>/workspaces/data-science-projects/house-price-prediction/Models/tensorflow/wandb/run-20220314_035649-4utfbhel</code>"
      ],
      "text/plain": [
       "<IPython.core.display.HTML object>"
      ]
     },
     "metadata": {},
     "output_type": "display_data"
    },
    {
     "data": {
      "text/html": [
       "Syncing run <strong><a href=\"https://wandb.ai/luiscostigan/house-price-prediction/runs/4utfbhel\" target=\"_blank\">prime-sweep-11</a></strong> to <a href=\"https://wandb.ai/luiscostigan/house-price-prediction\" target=\"_blank\">Weights & Biases</a> (<a href=\"https://wandb.me/run\" target=\"_blank\">docs</a>)<br/>Sweep page:  <a href=\"https://wandb.ai/luiscostigan/house-price-prediction/sweeps/e8odal49\" target=\"_blank\">https://wandb.ai/luiscostigan/house-price-prediction/sweeps/e8odal49</a>"
      ],
      "text/plain": [
       "<IPython.core.display.HTML object>"
      ]
     },
     "metadata": {},
     "output_type": "display_data"
    },
    {
     "name": "stdout",
     "output_type": "stream",
     "text": [
      "37/37 [==============================] - 0s 4ms/step - loss: 0.4248 - root_mean_squared_error: 0.2878\n",
      "Score for fold 1: loss of 0.42475250363349915; root_mean_squared_error of 0.28776872158050537\n",
      "------------------------------------------------------------------------\n",
      "Score per fold\n",
      "------------------------------------------------------------------------\n",
      "> Fold 1 - Loss: 0.42475250363349915 - RMSE: 0.28776872158050537\n",
      "------------------------------------------------------------------------\n",
      "Average scores for all folds:\n",
      "> RMSE: 0.28776872158050537 (+- 0.0)\n",
      "> Loss: 0.42475250363349915\n",
      "------------------------------------------------------------------------\n",
      "\n"
     ]
    },
    {
     "data": {
      "text/html": [
       "Waiting for W&B process to finish... <strong style=\"color:green\">(success).</strong>"
      ],
      "text/plain": [
       "<IPython.core.display.HTML object>"
      ]
     },
     "metadata": {},
     "output_type": "display_data"
    },
    {
     "data": {
      "application/vnd.jupyter.widget-view+json": {
       "model_id": "0353208291044d1fa47e154fec14bc7d",
       "version_major": 2,
       "version_minor": 0
      },
      "text/plain": [
       "VBox(children=(Label(value='1.587 MB of 103.487 MB uploaded (0.000 MB deduped)\\r'), FloatProgress(value=0.0153…"
      ]
     },
     "metadata": {},
     "output_type": "display_data"
    },
    {
     "data": {
      "text/html": [
       "<style>\n",
       "    table.wandb td:nth-child(1) { padding: 0 10px; text-align: right }\n",
       "    .wandb-row { display: flex; flex-direction: row; flex-wrap: wrap; width: 100% }\n",
       "    .wandb-col { display: flex; flex-direction: column; flex-basis: 100%; flex: 1; padding: 10px; }\n",
       "    </style>\n",
       "<div class=\"wandb-row\"><div class=\"wandb-col\"><h3>Run history:</h3><br/><table class=\"wandb\"><tr><td>Mean Validation Loss (all folds)</td><td>▁</td></tr><tr><td>Mean Validation RMSE (all folds)</td><td>▁</td></tr><tr><td>epoch</td><td>▁▁▁▁▂▂▂▂▂▃▃▃▃▃▃▄▄▄▄▄▅▅▅▅▅▅▆▆▆▆▆▆▇▇▇▇▇███</td></tr><tr><td>loss</td><td>█▅▃▂▂▂▂▁▁▁▁▁▁▁▁▁▁▁▁▁▁▁▁▁▁▁▁▁▁▁▁▁▁▁▁▁▁▁▁▁</td></tr><tr><td>root_mean_squared_error</td><td>█▂▂▂▂▁▁▁▁▁▁▁▁▁▁▁▁▁▁▁▁▁▁▁▁▁▁▁▁▁▁▁▁▁▁▁▁▁▁▁</td></tr><tr><td>val_loss</td><td>█▅▄▃▂▂▂▂▁▁▁▁▁▁▁▁▁▁▁▁▁▁▁▁▁▁▁▁▁▁▁▁▁▁▁▁▁▁▁▁</td></tr><tr><td>val_root_mean_squared_error</td><td>▇█▇▆▆▄▃▅▃▃▅▂▂▃▆▂▆▂▂▃▅▃▂▂▂▂▄▄▂▂▁▄▂▃▄▂▁▂▂▃</td></tr></table><br/></div><div class=\"wandb-col\"><h3>Run summary:</h3><br/><table class=\"wandb\"><tr><td>Mean Validation Loss (all folds)</td><td>0.42475</td></tr><tr><td>Mean Validation RMSE (all folds)</td><td>0.28777</td></tr><tr><td>best_epoch</td><td>45</td></tr><tr><td>best_val_loss</td><td>0.33349</td></tr><tr><td>epoch</td><td>49</td></tr><tr><td>loss</td><td>0.53985</td></tr><tr><td>root_mean_squared_error</td><td>0.43615</td></tr><tr><td>val_loss</td><td>0.42475</td></tr><tr><td>val_root_mean_squared_error</td><td>0.28777</td></tr></table><br/></div></div>"
      ],
      "text/plain": [
       "<IPython.core.display.HTML object>"
      ]
     },
     "metadata": {},
     "output_type": "display_data"
    },
    {
     "data": {
      "text/html": [
       "Synced <strong style=\"color:#cdcd00\">prime-sweep-11</strong>: <a href=\"https://wandb.ai/luiscostigan/house-price-prediction/runs/4utfbhel\" target=\"_blank\">https://wandb.ai/luiscostigan/house-price-prediction/runs/4utfbhel</a><br/>Synced 5 W&B file(s), 0 media file(s), 0 artifact file(s) and 1 other file(s)"
      ],
      "text/plain": [
       "<IPython.core.display.HTML object>"
      ]
     },
     "metadata": {},
     "output_type": "display_data"
    },
    {
     "data": {
      "text/html": [
       "Find logs at: <code>./wandb/run-20220314_035649-4utfbhel/logs</code>"
      ],
      "text/plain": [
       "<IPython.core.display.HTML object>"
      ]
     },
     "metadata": {},
     "output_type": "display_data"
    },
    {
     "data": {
      "text/html": [
       "Tracking run with wandb version 0.12.11"
      ],
      "text/plain": [
       "<IPython.core.display.HTML object>"
      ]
     },
     "metadata": {},
     "output_type": "display_data"
    },
    {
     "data": {
      "text/html": [
       "Run data is saved locally in <code>/workspaces/data-science-projects/house-price-prediction/Models/tensorflow/wandb/run-20220314_035812-4utfbhel</code>"
      ],
      "text/plain": [
       "<IPython.core.display.HTML object>"
      ]
     },
     "metadata": {},
     "output_type": "display_data"
    },
    {
     "data": {
      "text/html": [
       "Syncing run <strong><a href=\"https://wandb.ai/luiscostigan/house-price-prediction/runs/4utfbhel\" target=\"_blank\">prime-sweep-11</a></strong> to <a href=\"https://wandb.ai/luiscostigan/house-price-prediction\" target=\"_blank\">Weights & Biases</a> (<a href=\"https://wandb.me/run\" target=\"_blank\">docs</a>)<br/>Sweep page:  <a href=\"https://wandb.ai/luiscostigan/house-price-prediction/sweeps/e8odal49\" target=\"_blank\">https://wandb.ai/luiscostigan/house-price-prediction/sweeps/e8odal49</a>"
      ],
      "text/plain": [
       "<IPython.core.display.HTML object>"
      ]
     },
     "metadata": {},
     "output_type": "display_data"
    },
    {
     "name": "stdout",
     "output_type": "stream",
     "text": [
      "37/37 [==============================] - 0s 4ms/step - loss: 0.3706 - root_mean_squared_error: 0.2293\n",
      "Score for fold 2: loss of 0.3706054985523224; root_mean_squared_error of 0.22927866876125336\n",
      "------------------------------------------------------------------------\n",
      "Score per fold\n",
      "------------------------------------------------------------------------\n",
      "> Fold 1 - Loss: 0.42475250363349915 - RMSE: 0.28776872158050537\n",
      "------------------------------------------------------------------------\n",
      "------------------------------------------------------------------------\n",
      "> Fold 2 - Loss: 0.3706054985523224 - RMSE: 0.22927866876125336\n",
      "------------------------------------------------------------------------\n",
      "Average scores for all folds:\n",
      "> RMSE: 0.25852369517087936 (+- 0.029245026409626007)\n",
      "> Loss: 0.39767900109291077\n",
      "------------------------------------------------------------------------\n",
      "\n"
     ]
    },
    {
     "data": {
      "text/html": [
       "Waiting for W&B process to finish... <strong style=\"color:green\">(success).</strong>"
      ],
      "text/plain": [
       "<IPython.core.display.HTML object>"
      ]
     },
     "metadata": {},
     "output_type": "display_data"
    },
    {
     "data": {
      "application/vnd.jupyter.widget-view+json": {
       "model_id": "da5b421f4a7c43f0a2166678eeef59fd",
       "version_major": 2,
       "version_minor": 0
      },
      "text/plain": [
       "VBox(children=(Label(value='2.399 MB of 103.487 MB uploaded (0.000 MB deduped)\\r'), FloatProgress(value=0.0231…"
      ]
     },
     "metadata": {},
     "output_type": "display_data"
    },
    {
     "data": {
      "text/html": [
       "<style>\n",
       "    table.wandb td:nth-child(1) { padding: 0 10px; text-align: right }\n",
       "    .wandb-row { display: flex; flex-direction: row; flex-wrap: wrap; width: 100% }\n",
       "    .wandb-col { display: flex; flex-direction: column; flex-basis: 100%; flex: 1; padding: 10px; }\n",
       "    </style>\n",
       "<div class=\"wandb-row\"><div class=\"wandb-col\"><h3>Run history:</h3><br/><table class=\"wandb\"><tr><td>Mean Validation Loss (all folds)</td><td>▁</td></tr><tr><td>Mean Validation RMSE (all folds)</td><td>▁</td></tr><tr><td>epoch</td><td>▁▁▁▁▂▂▂▂▂▃▃▃▃▃▃▄▄▄▄▄▅▅▅▅▅▅▆▆▆▆▆▆▇▇▇▇▇███</td></tr><tr><td>loss</td><td>█▅▃▂▂▂▂▁▁▁▁▁▁▁▁▁▁▁▁▁▁▁▁▁▁▁▁▁▁▁▁▁▁▁▁▁▁▁▁▁</td></tr><tr><td>root_mean_squared_error</td><td>█▂▂▂▁▁▁▁▁▁▁▁▁▁▁▁▁▁▁▁▁▁▁▁▁▁▁▁▁▁▁▁▁▁▁▁▁▁▁▁</td></tr><tr><td>val_loss</td><td>█▅▄▃▂▂▂▂▁▁▁▁▁▁▁▁▁▁▁▁▁▁▁▁▁▁▁▁▁▁▁▁▁▁▁▁▁▁▁▁</td></tr><tr><td>val_root_mean_squared_error</td><td>▆▅▆▆█▃▂▃▃▃▃▆▃▂▂▃▂▂▅▃▂▁▂▂▃▁▂▂▄▂▂▃▂▅▁▁▁▁▂▂</td></tr></table><br/></div><div class=\"wandb-col\"><h3>Run summary:</h3><br/><table class=\"wandb\"><tr><td>Mean Validation Loss (all folds)</td><td>0.39768</td></tr><tr><td>Mean Validation RMSE (all folds)</td><td>0.25852</td></tr><tr><td>best_epoch</td><td>45</td></tr><tr><td>best_val_loss</td><td>0.33524</td></tr><tr><td>epoch</td><td>49</td></tr><tr><td>loss</td><td>0.52743</td></tr><tr><td>root_mean_squared_error</td><td>0.42923</td></tr><tr><td>val_loss</td><td>0.37061</td></tr><tr><td>val_root_mean_squared_error</td><td>0.22928</td></tr></table><br/></div></div>"
      ],
      "text/plain": [
       "<IPython.core.display.HTML object>"
      ]
     },
     "metadata": {},
     "output_type": "display_data"
    },
    {
     "data": {
      "text/html": [
       "Synced <strong style=\"color:#cdcd00\">prime-sweep-11</strong>: <a href=\"https://wandb.ai/luiscostigan/house-price-prediction/runs/4utfbhel\" target=\"_blank\">https://wandb.ai/luiscostigan/house-price-prediction/runs/4utfbhel</a><br/>Synced 5 W&B file(s), 0 media file(s), 0 artifact file(s) and 1 other file(s)"
      ],
      "text/plain": [
       "<IPython.core.display.HTML object>"
      ]
     },
     "metadata": {},
     "output_type": "display_data"
    },
    {
     "data": {
      "text/html": [
       "Find logs at: <code>./wandb/run-20220314_035812-4utfbhel/logs</code>"
      ],
      "text/plain": [
       "<IPython.core.display.HTML object>"
      ]
     },
     "metadata": {},
     "output_type": "display_data"
    },
    {
     "data": {
      "text/html": [
       "Tracking run with wandb version 0.12.11"
      ],
      "text/plain": [
       "<IPython.core.display.HTML object>"
      ]
     },
     "metadata": {},
     "output_type": "display_data"
    },
    {
     "data": {
      "text/html": [
       "Run data is saved locally in <code>/workspaces/data-science-projects/house-price-prediction/Models/tensorflow/wandb/run-20220314_035931-4utfbhel</code>"
      ],
      "text/plain": [
       "<IPython.core.display.HTML object>"
      ]
     },
     "metadata": {},
     "output_type": "display_data"
    },
    {
     "data": {
      "text/html": [
       "Syncing run <strong><a href=\"https://wandb.ai/luiscostigan/house-price-prediction/runs/4utfbhel\" target=\"_blank\">prime-sweep-11</a></strong> to <a href=\"https://wandb.ai/luiscostigan/house-price-prediction\" target=\"_blank\">Weights & Biases</a> (<a href=\"https://wandb.me/run\" target=\"_blank\">docs</a>)<br/>Sweep page:  <a href=\"https://wandb.ai/luiscostigan/house-price-prediction/sweeps/e8odal49\" target=\"_blank\">https://wandb.ai/luiscostigan/house-price-prediction/sweeps/e8odal49</a>"
      ],
      "text/plain": [
       "<IPython.core.display.HTML object>"
      ]
     },
     "metadata": {},
     "output_type": "display_data"
    },
    {
     "name": "stdout",
     "output_type": "stream",
     "text": [
      "37/37 [==============================] - 0s 4ms/step - loss: 0.3522 - root_mean_squared_error: 0.2155\n",
      "Score for fold 3: loss of 0.35220611095428467; root_mean_squared_error of 0.21545252203941345\n",
      "------------------------------------------------------------------------\n",
      "Score per fold\n",
      "------------------------------------------------------------------------\n",
      "> Fold 1 - Loss: 0.42475250363349915 - RMSE: 0.28776872158050537\n",
      "------------------------------------------------------------------------\n",
      "------------------------------------------------------------------------\n",
      "> Fold 2 - Loss: 0.3706054985523224 - RMSE: 0.22927866876125336\n",
      "------------------------------------------------------------------------\n",
      "------------------------------------------------------------------------\n",
      "> Fold 3 - Loss: 0.35220611095428467 - RMSE: 0.21545252203941345\n",
      "------------------------------------------------------------------------\n",
      "Average scores for all folds:\n",
      "> RMSE: 0.24416663746039072 (+- 0.031343759485280065)\n",
      "> Loss: 0.3825213710467021\n",
      "------------------------------------------------------------------------\n",
      "\n"
     ]
    },
    {
     "data": {
      "text/html": [
       "Waiting for W&B process to finish... <strong style=\"color:green\">(success).</strong>"
      ],
      "text/plain": [
       "<IPython.core.display.HTML object>"
      ]
     },
     "metadata": {},
     "output_type": "display_data"
    },
    {
     "data": {
      "application/vnd.jupyter.widget-view+json": {
       "model_id": "3060383defa546b7b642fb4e08235d3f",
       "version_major": 2,
       "version_minor": 0
      },
      "text/plain": [
       "VBox(children=(Label(value='4.938 MB of 103.487 MB uploaded (0.000 MB deduped)\\r'), FloatProgress(value=0.0477…"
      ]
     },
     "metadata": {},
     "output_type": "display_data"
    },
    {
     "data": {
      "text/html": [
       "<style>\n",
       "    table.wandb td:nth-child(1) { padding: 0 10px; text-align: right }\n",
       "    .wandb-row { display: flex; flex-direction: row; flex-wrap: wrap; width: 100% }\n",
       "    .wandb-col { display: flex; flex-direction: column; flex-basis: 100%; flex: 1; padding: 10px; }\n",
       "    </style>\n",
       "<div class=\"wandb-row\"><div class=\"wandb-col\"><h3>Run history:</h3><br/><table class=\"wandb\"><tr><td>Mean Validation Loss (all folds)</td><td>▁</td></tr><tr><td>Mean Validation RMSE (all folds)</td><td>▁</td></tr><tr><td>epoch</td><td>▁▁▁▁▂▂▂▂▂▃▃▃▃▃▃▄▄▄▄▄▅▅▅▅▅▅▆▆▆▆▆▆▇▇▇▇▇███</td></tr><tr><td>loss</td><td>█▅▃▂▂▂▂▁▁▁▁▁▁▁▁▁▁▁▁▁▁▁▁▁▁▁▁▁▁▁▁▁▁▁▁▁▁▁▁▁</td></tr><tr><td>root_mean_squared_error</td><td>█▂▂▂▂▂▂▁▁▁▁▁▁▁▁▁▁▁▁▁▁▁▁▁▁▁▁▁▁▁▁▁▁▁▁▁▁▁▁▁</td></tr><tr><td>val_loss</td><td>█▅▄▃▂▂▂▂▁▁▁▁▁▁▁▁▁▁▁▁▁▁▁▁▁▁▁▁▁▁▁▁▁▁▁▁▁▁▁▁</td></tr><tr><td>val_root_mean_squared_error</td><td>█▇▆▄▅▅▅█▃▃▄▄▂▃▃▃▄▂▂▄▆▂▅▁▂▄▇▂▁▁▆▃▂▃▃▁▁▃▄▁</td></tr></table><br/></div><div class=\"wandb-col\"><h3>Run summary:</h3><br/><table class=\"wandb\"><tr><td>Mean Validation Loss (all folds)</td><td>0.38252</td></tr><tr><td>Mean Validation RMSE (all folds)</td><td>0.24417</td></tr><tr><td>best_epoch</td><td>49</td></tr><tr><td>best_val_loss</td><td>0.35221</td></tr><tr><td>epoch</td><td>49</td></tr><tr><td>loss</td><td>0.53336</td></tr><tr><td>root_mean_squared_error</td><td>0.44206</td></tr><tr><td>val_loss</td><td>0.35221</td></tr><tr><td>val_root_mean_squared_error</td><td>0.21545</td></tr></table><br/></div></div>"
      ],
      "text/plain": [
       "<IPython.core.display.HTML object>"
      ]
     },
     "metadata": {},
     "output_type": "display_data"
    },
    {
     "data": {
      "text/html": [
       "Synced <strong style=\"color:#cdcd00\">prime-sweep-11</strong>: <a href=\"https://wandb.ai/luiscostigan/house-price-prediction/runs/4utfbhel\" target=\"_blank\">https://wandb.ai/luiscostigan/house-price-prediction/runs/4utfbhel</a><br/>Synced 5 W&B file(s), 0 media file(s), 0 artifact file(s) and 1 other file(s)"
      ],
      "text/plain": [
       "<IPython.core.display.HTML object>"
      ]
     },
     "metadata": {},
     "output_type": "display_data"
    },
    {
     "data": {
      "text/html": [
       "Find logs at: <code>./wandb/run-20220314_035931-4utfbhel/logs</code>"
      ],
      "text/plain": [
       "<IPython.core.display.HTML object>"
      ]
     },
     "metadata": {},
     "output_type": "display_data"
    },
    {
     "data": {
      "text/html": [
       "Tracking run with wandb version 0.12.11"
      ],
      "text/plain": [
       "<IPython.core.display.HTML object>"
      ]
     },
     "metadata": {},
     "output_type": "display_data"
    },
    {
     "data": {
      "text/html": [
       "Run data is saved locally in <code>/workspaces/data-science-projects/house-price-prediction/Models/tensorflow/wandb/run-20220314_040044-4utfbhel</code>"
      ],
      "text/plain": [
       "<IPython.core.display.HTML object>"
      ]
     },
     "metadata": {},
     "output_type": "display_data"
    },
    {
     "data": {
      "text/html": [
       "Syncing run <strong><a href=\"https://wandb.ai/luiscostigan/house-price-prediction/runs/4utfbhel\" target=\"_blank\">prime-sweep-11</a></strong> to <a href=\"https://wandb.ai/luiscostigan/house-price-prediction\" target=\"_blank\">Weights & Biases</a> (<a href=\"https://wandb.me/run\" target=\"_blank\">docs</a>)<br/>Sweep page:  <a href=\"https://wandb.ai/luiscostigan/house-price-prediction/sweeps/e8odal49\" target=\"_blank\">https://wandb.ai/luiscostigan/house-price-prediction/sweeps/e8odal49</a>"
      ],
      "text/plain": [
       "<IPython.core.display.HTML object>"
      ]
     },
     "metadata": {},
     "output_type": "display_data"
    },
    {
     "name": "stdout",
     "output_type": "stream",
     "text": [
      "37/37 [==============================] - 0s 4ms/step - loss: 0.3320 - root_mean_squared_error: 0.1947\n",
      "Score for fold 4: loss of 0.3320205807685852; root_mean_squared_error of 0.19471055269241333\n",
      "------------------------------------------------------------------------\n",
      "Score per fold\n",
      "------------------------------------------------------------------------\n",
      "> Fold 1 - Loss: 0.42475250363349915 - RMSE: 0.28776872158050537\n",
      "------------------------------------------------------------------------\n",
      "------------------------------------------------------------------------\n",
      "> Fold 2 - Loss: 0.3706054985523224 - RMSE: 0.22927866876125336\n",
      "------------------------------------------------------------------------\n",
      "------------------------------------------------------------------------\n",
      "> Fold 3 - Loss: 0.35220611095428467 - RMSE: 0.21545252203941345\n",
      "------------------------------------------------------------------------\n",
      "------------------------------------------------------------------------\n",
      "> Fold 4 - Loss: 0.3320205807685852 - RMSE: 0.19471055269241333\n",
      "------------------------------------------------------------------------\n",
      "Average scores for all folds:\n",
      "> RMSE: 0.23180261626839638 (+- 0.03457499825179416)\n",
      "> Loss: 0.36989617347717285\n",
      "------------------------------------------------------------------------\n",
      "\n"
     ]
    },
    {
     "data": {
      "text/html": [
       "Waiting for W&B process to finish... <strong style=\"color:green\">(success).</strong>"
      ],
      "text/plain": [
       "<IPython.core.display.HTML object>"
      ]
     },
     "metadata": {},
     "output_type": "display_data"
    },
    {
     "data": {
      "application/vnd.jupyter.widget-view+json": {
       "model_id": "942e4fb59424466597fa13a8bc007472",
       "version_major": 2,
       "version_minor": 0
      },
      "text/plain": [
       "VBox(children=(Label(value='3.353 MB of 103.487 MB uploaded (0.000 MB deduped)\\r'), FloatProgress(value=0.0323…"
      ]
     },
     "metadata": {},
     "output_type": "display_data"
    },
    {
     "data": {
      "text/html": [
       "<style>\n",
       "    table.wandb td:nth-child(1) { padding: 0 10px; text-align: right }\n",
       "    .wandb-row { display: flex; flex-direction: row; flex-wrap: wrap; width: 100% }\n",
       "    .wandb-col { display: flex; flex-direction: column; flex-basis: 100%; flex: 1; padding: 10px; }\n",
       "    </style>\n",
       "<div class=\"wandb-row\"><div class=\"wandb-col\"><h3>Run history:</h3><br/><table class=\"wandb\"><tr><td>Mean Validation Loss (all folds)</td><td>▁</td></tr><tr><td>Mean Validation RMSE (all folds)</td><td>▁</td></tr><tr><td>epoch</td><td>▁▁▁▁▂▂▂▂▂▃▃▃▃▃▃▄▄▄▄▄▅▅▅▅▅▅▆▆▆▆▆▆▇▇▇▇▇███</td></tr><tr><td>loss</td><td>█▅▃▂▂▂▂▁▁▁▁▁▁▁▁▁▁▁▁▁▁▁▁▁▁▁▁▁▁▁▁▁▁▁▁▁▁▁▁▁</td></tr><tr><td>root_mean_squared_error</td><td>█▂▂▂▁▂▁▁▁▂▁▁▁▁▁▁▁▁▁▁▁▁▁▁▁▁▁▁▁▁▁▁▁▁▁▁▁▁▁▁</td></tr><tr><td>val_loss</td><td>█▅▄▃▂▂▂▂▂▁▁▁▁▁▁▁▁▁▁▁▁▁▁▁▁▁▁▁▁▁▁▁▁▁▁▁▁▁▁▁</td></tr><tr><td>val_root_mean_squared_error</td><td>█▄▅▃▄▄▃▃▄▄▃▂▄▂▃▃▄▄▃▂▂▂▄▂▃▂▄▂▂▃▂▂▂▁▂▄▁▂▃▁</td></tr></table><br/></div><div class=\"wandb-col\"><h3>Run summary:</h3><br/><table class=\"wandb\"><tr><td>Mean Validation Loss (all folds)</td><td>0.3699</td></tr><tr><td>Mean Validation RMSE (all folds)</td><td>0.2318</td></tr><tr><td>best_epoch</td><td>49</td></tr><tr><td>best_val_loss</td><td>0.33202</td></tr><tr><td>epoch</td><td>49</td></tr><tr><td>loss</td><td>0.52775</td></tr><tr><td>root_mean_squared_error</td><td>0.43121</td></tr><tr><td>val_loss</td><td>0.33202</td></tr><tr><td>val_root_mean_squared_error</td><td>0.19471</td></tr></table><br/></div></div>"
      ],
      "text/plain": [
       "<IPython.core.display.HTML object>"
      ]
     },
     "metadata": {},
     "output_type": "display_data"
    },
    {
     "data": {
      "text/html": [
       "Synced <strong style=\"color:#cdcd00\">prime-sweep-11</strong>: <a href=\"https://wandb.ai/luiscostigan/house-price-prediction/runs/4utfbhel\" target=\"_blank\">https://wandb.ai/luiscostigan/house-price-prediction/runs/4utfbhel</a><br/>Synced 5 W&B file(s), 0 media file(s), 0 artifact file(s) and 1 other file(s)"
      ],
      "text/plain": [
       "<IPython.core.display.HTML object>"
      ]
     },
     "metadata": {},
     "output_type": "display_data"
    },
    {
     "data": {
      "text/html": [
       "Find logs at: <code>./wandb/run-20220314_040044-4utfbhel/logs</code>"
      ],
      "text/plain": [
       "<IPython.core.display.HTML object>"
      ]
     },
     "metadata": {},
     "output_type": "display_data"
    },
    {
     "data": {
      "text/html": [
       "Tracking run with wandb version 0.12.11"
      ],
      "text/plain": [
       "<IPython.core.display.HTML object>"
      ]
     },
     "metadata": {},
     "output_type": "display_data"
    },
    {
     "data": {
      "text/html": [
       "Run data is saved locally in <code>/workspaces/data-science-projects/house-price-prediction/Models/tensorflow/wandb/run-20220314_040155-4utfbhel</code>"
      ],
      "text/plain": [
       "<IPython.core.display.HTML object>"
      ]
     },
     "metadata": {},
     "output_type": "display_data"
    },
    {
     "data": {
      "text/html": [
       "Syncing run <strong><a href=\"https://wandb.ai/luiscostigan/house-price-prediction/runs/4utfbhel\" target=\"_blank\">prime-sweep-11</a></strong> to <a href=\"https://wandb.ai/luiscostigan/house-price-prediction\" target=\"_blank\">Weights & Biases</a> (<a href=\"https://wandb.me/run\" target=\"_blank\">docs</a>)<br/>Sweep page:  <a href=\"https://wandb.ai/luiscostigan/house-price-prediction/sweeps/e8odal49\" target=\"_blank\">https://wandb.ai/luiscostigan/house-price-prediction/sweeps/e8odal49</a>"
      ],
      "text/plain": [
       "<IPython.core.display.HTML object>"
      ]
     },
     "metadata": {},
     "output_type": "display_data"
    },
    {
     "name": "stdout",
     "output_type": "stream",
     "text": [
      "37/37 [==============================] - 0s 3ms/step - loss: 0.3442 - root_mean_squared_error: 0.2084\n",
      "Score for fold 5: loss of 0.34422630071640015; root_mean_squared_error of 0.20840612053871155\n",
      "------------------------------------------------------------------------\n",
      "Score per fold\n",
      "------------------------------------------------------------------------\n",
      "> Fold 1 - Loss: 0.42475250363349915 - RMSE: 0.28776872158050537\n",
      "------------------------------------------------------------------------\n",
      "------------------------------------------------------------------------\n",
      "> Fold 2 - Loss: 0.3706054985523224 - RMSE: 0.22927866876125336\n",
      "------------------------------------------------------------------------\n",
      "------------------------------------------------------------------------\n",
      "> Fold 3 - Loss: 0.35220611095428467 - RMSE: 0.21545252203941345\n",
      "------------------------------------------------------------------------\n",
      "------------------------------------------------------------------------\n",
      "> Fold 4 - Loss: 0.3320205807685852 - RMSE: 0.19471055269241333\n",
      "------------------------------------------------------------------------\n",
      "------------------------------------------------------------------------\n",
      "> Fold 5 - Loss: 0.34422630071640015 - RMSE: 0.20840612053871155\n",
      "------------------------------------------------------------------------\n",
      "Average scores for all folds:\n",
      "> RMSE: 0.22712331712245942 (+- 0.03230987101920899)\n",
      "> Loss: 0.3647621989250183\n",
      "------------------------------------------------------------------------\n",
      "\n"
     ]
    },
    {
     "data": {
      "text/html": [
       "Waiting for W&B process to finish... <strong style=\"color:green\">(success).</strong>"
      ],
      "text/plain": [
       "<IPython.core.display.HTML object>"
      ]
     },
     "metadata": {},
     "output_type": "display_data"
    },
    {
     "data": {
      "application/vnd.jupyter.widget-view+json": {
       "model_id": "bece1e3aefd445878f24f2c7757c5580",
       "version_major": 2,
       "version_minor": 0
      },
      "text/plain": [
       "VBox(children=(Label(value='0.688 MB of 103.487 MB uploaded (0.000 MB deduped)\\r'), FloatProgress(value=0.0066…"
      ]
     },
     "metadata": {},
     "output_type": "display_data"
    },
    {
     "data": {
      "text/html": [
       "<style>\n",
       "    table.wandb td:nth-child(1) { padding: 0 10px; text-align: right }\n",
       "    .wandb-row { display: flex; flex-direction: row; flex-wrap: wrap; width: 100% }\n",
       "    .wandb-col { display: flex; flex-direction: column; flex-basis: 100%; flex: 1; padding: 10px; }\n",
       "    </style>\n",
       "<div class=\"wandb-row\"><div class=\"wandb-col\"><h3>Run history:</h3><br/><table class=\"wandb\"><tr><td>Mean Validation Loss (all folds)</td><td>▁</td></tr><tr><td>Mean Validation RMSE (all folds)</td><td>▁</td></tr><tr><td>epoch</td><td>▁▁▁▁▂▂▂▂▂▃▃▃▃▃▃▄▄▄▄▄▅▅▅▅▅▅▆▆▆▆▆▆▇▇▇▇▇███</td></tr><tr><td>loss</td><td>█▅▃▂▂▂▂▁▁▁▁▁▁▁▁▁▁▁▁▁▁▁▁▁▁▁▁▁▁▁▁▁▁▁▁▁▁▁▁▁</td></tr><tr><td>root_mean_squared_error</td><td>█▂▂▂▂▂▁▁▁▁▁▁▁▁▁▁▁▁▁▁▁▁▁▁▁▁▁▁▁▁▁▁▁▁▁▁▁▁▁▁</td></tr><tr><td>val_loss</td><td>█▅▄▃▂▂▂▂▁▁▁▁▁▁▁▁▁▁▁▁▁▁▁▁▁▁▁▁▁▁▁▁▁▁▁▁▁▁▁▁</td></tr><tr><td>val_root_mean_squared_error</td><td>█▆█▅▄▆▄▆▃▂▃▄▃▄▂▆▄▂▂▄▂▁▂▃▂▂▄▃▂▄▂▁▅▂▃▂▁▅▃▁</td></tr></table><br/></div><div class=\"wandb-col\"><h3>Run summary:</h3><br/><table class=\"wandb\"><tr><td>Mean Validation Loss (all folds)</td><td>0.36476</td></tr><tr><td>Mean Validation RMSE (all folds)</td><td>0.22712</td></tr><tr><td>best_epoch</td><td>49</td></tr><tr><td>best_val_loss</td><td>0.34423</td></tr><tr><td>epoch</td><td>49</td></tr><tr><td>loss</td><td>0.53507</td></tr><tr><td>root_mean_squared_error</td><td>0.44122</td></tr><tr><td>val_loss</td><td>0.34423</td></tr><tr><td>val_root_mean_squared_error</td><td>0.20841</td></tr></table><br/></div></div>"
      ],
      "text/plain": [
       "<IPython.core.display.HTML object>"
      ]
     },
     "metadata": {},
     "output_type": "display_data"
    },
    {
     "data": {
      "text/html": [
       "Synced <strong style=\"color:#cdcd00\">prime-sweep-11</strong>: <a href=\"https://wandb.ai/luiscostigan/house-price-prediction/runs/4utfbhel\" target=\"_blank\">https://wandb.ai/luiscostigan/house-price-prediction/runs/4utfbhel</a><br/>Synced 5 W&B file(s), 0 media file(s), 0 artifact file(s) and 1 other file(s)"
      ],
      "text/plain": [
       "<IPython.core.display.HTML object>"
      ]
     },
     "metadata": {},
     "output_type": "display_data"
    },
    {
     "data": {
      "text/html": [
       "Find logs at: <code>./wandb/run-20220314_040155-4utfbhel/logs</code>"
      ],
      "text/plain": [
       "<IPython.core.display.HTML object>"
      ]
     },
     "metadata": {},
     "output_type": "display_data"
    },
    {
     "name": "stderr",
     "output_type": "stream",
     "text": [
      "\u001b[34m\u001b[1mwandb\u001b[0m: Agent Starting Run: zls2ean1 with config:\n",
      "\u001b[34m\u001b[1mwandb\u001b[0m: \tbatch_size: 16\n",
      "\u001b[34m\u001b[1mwandb\u001b[0m: \tbias1: 0.001\n",
      "\u001b[34m\u001b[1mwandb\u001b[0m: \tbias2: 0.001\n",
      "\u001b[34m\u001b[1mwandb\u001b[0m: \tdense1: 4096\n",
      "\u001b[34m\u001b[1mwandb\u001b[0m: \tdense2: 1024\n",
      "\u001b[34m\u001b[1mwandb\u001b[0m: \tdropout1: 0.2216505566234253\n",
      "\u001b[34m\u001b[1mwandb\u001b[0m: \tepochs: 50\n",
      "\u001b[34m\u001b[1mwandb\u001b[0m: \tlearning_rate: 0.0001\n"
     ]
    },
    {
     "data": {
      "text/html": [
       "Tracking run with wandb version 0.12.11"
      ],
      "text/plain": [
       "<IPython.core.display.HTML object>"
      ]
     },
     "metadata": {},
     "output_type": "display_data"
    },
    {
     "data": {
      "text/html": [
       "Run data is saved locally in <code>/workspaces/data-science-projects/house-price-prediction/Models/tensorflow/wandb/run-20220314_040301-zls2ean1</code>"
      ],
      "text/plain": [
       "<IPython.core.display.HTML object>"
      ]
     },
     "metadata": {},
     "output_type": "display_data"
    },
    {
     "data": {
      "text/html": [
       "Syncing run <strong><a href=\"https://wandb.ai/luiscostigan/house-price-prediction/runs/zls2ean1\" target=\"_blank\">sage-sweep-12</a></strong> to <a href=\"https://wandb.ai/luiscostigan/house-price-prediction\" target=\"_blank\">Weights & Biases</a> (<a href=\"https://wandb.me/run\" target=\"_blank\">docs</a>)<br/>Sweep page:  <a href=\"https://wandb.ai/luiscostigan/house-price-prediction/sweeps/e8odal49\" target=\"_blank\">https://wandb.ai/luiscostigan/house-price-prediction/sweeps/e8odal49</a>"
      ],
      "text/plain": [
       "<IPython.core.display.HTML object>"
      ]
     },
     "metadata": {},
     "output_type": "display_data"
    },
    {
     "name": "stdout",
     "output_type": "stream",
     "text": [
      "37/37 [==============================] - 0s 3ms/step - loss: 0.5072 - root_mean_squared_error: 0.1705\n",
      "Score for fold 1: loss of 0.5072061419487; root_mean_squared_error of 0.1704900860786438\n",
      "------------------------------------------------------------------------\n",
      "Score per fold\n",
      "------------------------------------------------------------------------\n",
      "> Fold 1 - Loss: 0.5072061419487 - RMSE: 0.1704900860786438\n",
      "------------------------------------------------------------------------\n",
      "Average scores for all folds:\n",
      "> RMSE: 0.1704900860786438 (+- 0.0)\n",
      "> Loss: 0.5072061419487\n",
      "------------------------------------------------------------------------\n",
      "\n"
     ]
    },
    {
     "data": {
      "text/html": [
       "Waiting for W&B process to finish... <strong style=\"color:green\">(success).</strong>"
      ],
      "text/plain": [
       "<IPython.core.display.HTML object>"
      ]
     },
     "metadata": {},
     "output_type": "display_data"
    },
    {
     "data": {
      "application/vnd.jupyter.widget-view+json": {
       "model_id": "f452205e4cc549e982fa638b3b2a6157",
       "version_major": 2,
       "version_minor": 0
      },
      "text/plain": [
       "VBox(children=(Label(value='2.368 MB of 62.776 MB uploaded (0.000 MB deduped)\\r'), FloatProgress(value=0.03772…"
      ]
     },
     "metadata": {},
     "output_type": "display_data"
    },
    {
     "data": {
      "text/html": [
       "<style>\n",
       "    table.wandb td:nth-child(1) { padding: 0 10px; text-align: right }\n",
       "    .wandb-row { display: flex; flex-direction: row; flex-wrap: wrap; width: 100% }\n",
       "    .wandb-col { display: flex; flex-direction: column; flex-basis: 100%; flex: 1; padding: 10px; }\n",
       "    </style>\n",
       "<div class=\"wandb-row\"><div class=\"wandb-col\"><h3>Run history:</h3><br/><table class=\"wandb\"><tr><td>Mean Validation Loss (all folds)</td><td>▁</td></tr><tr><td>Mean Validation RMSE (all folds)</td><td>▁</td></tr><tr><td>epoch</td><td>▁▁▁▁▂▂▂▂▂▃▃▃▃▃▃▄▄▄▄▄▅▅▅▅▅▅▆▆▆▆▆▆▇▇▇▇▇███</td></tr><tr><td>loss</td><td>█▄▄▃▃▃▃▃▂▂▂▂▂▂▂▂▂▂▂▂▂▁▁▁▁▁▁▁▁▁▁▁▁▁▁▁▁▁▁▁</td></tr><tr><td>root_mean_squared_error</td><td>█▂▁▁▁▁▁▁▁▁▁▁▁▁▁▁▁▁▁▁▁▁▁▁▁▁▁▁▁▁▁▁▁▁▁▁▁▁▁▁</td></tr><tr><td>val_loss</td><td>█▇▆▅▅▄▄▄▄▃▄▃▃▃▃▃▃▂▂▂▂▂▂▂▂▂▂▂▂▂▂▁▁▂▁▁▁▁▁▁</td></tr><tr><td>val_root_mean_squared_error</td><td>█▅▄▂▂▂▂▃▂▁▃▃▂▂▁▂▄▁▂▁▁▂▁▁▁▂▂▁▁▃▃▂▁▂▁▁▁▁▁▁</td></tr></table><br/></div><div class=\"wandb-col\"><h3>Run summary:</h3><br/><table class=\"wandb\"><tr><td>Mean Validation Loss (all folds)</td><td>0.50721</td></tr><tr><td>Mean Validation RMSE (all folds)</td><td>0.17049</td></tr><tr><td>best_epoch</td><td>49</td></tr><tr><td>best_val_loss</td><td>0.5072</td></tr><tr><td>epoch</td><td>49</td></tr><tr><td>loss</td><td>0.59266</td></tr><tr><td>root_mean_squared_error</td><td>0.2639</td></tr><tr><td>val_loss</td><td>0.5072</td></tr><tr><td>val_root_mean_squared_error</td><td>0.17047</td></tr></table><br/></div></div>"
      ],
      "text/plain": [
       "<IPython.core.display.HTML object>"
      ]
     },
     "metadata": {},
     "output_type": "display_data"
    },
    {
     "data": {
      "text/html": [
       "Synced <strong style=\"color:#cdcd00\">sage-sweep-12</strong>: <a href=\"https://wandb.ai/luiscostigan/house-price-prediction/runs/zls2ean1\" target=\"_blank\">https://wandb.ai/luiscostigan/house-price-prediction/runs/zls2ean1</a><br/>Synced 5 W&B file(s), 0 media file(s), 0 artifact file(s) and 1 other file(s)"
      ],
      "text/plain": [
       "<IPython.core.display.HTML object>"
      ]
     },
     "metadata": {},
     "output_type": "display_data"
    },
    {
     "data": {
      "text/html": [
       "Find logs at: <code>./wandb/run-20220314_040301-zls2ean1/logs</code>"
      ],
      "text/plain": [
       "<IPython.core.display.HTML object>"
      ]
     },
     "metadata": {},
     "output_type": "display_data"
    },
    {
     "data": {
      "text/html": [
       "Tracking run with wandb version 0.12.11"
      ],
      "text/plain": [
       "<IPython.core.display.HTML object>"
      ]
     },
     "metadata": {},
     "output_type": "display_data"
    },
    {
     "data": {
      "text/html": [
       "Run data is saved locally in <code>/workspaces/data-science-projects/house-price-prediction/Models/tensorflow/wandb/run-20220314_040341-zls2ean1</code>"
      ],
      "text/plain": [
       "<IPython.core.display.HTML object>"
      ]
     },
     "metadata": {},
     "output_type": "display_data"
    },
    {
     "data": {
      "text/html": [
       "Syncing run <strong><a href=\"https://wandb.ai/luiscostigan/house-price-prediction/runs/zls2ean1\" target=\"_blank\">sage-sweep-12</a></strong> to <a href=\"https://wandb.ai/luiscostigan/house-price-prediction\" target=\"_blank\">Weights & Biases</a> (<a href=\"https://wandb.me/run\" target=\"_blank\">docs</a>)<br/>Sweep page:  <a href=\"https://wandb.ai/luiscostigan/house-price-prediction/sweeps/e8odal49\" target=\"_blank\">https://wandb.ai/luiscostigan/house-price-prediction/sweeps/e8odal49</a>"
      ],
      "text/plain": [
       "<IPython.core.display.HTML object>"
      ]
     },
     "metadata": {},
     "output_type": "display_data"
    },
    {
     "name": "stdout",
     "output_type": "stream",
     "text": [
      "37/37 [==============================] - 0s 3ms/step - loss: 0.5140 - root_mean_squared_error: 0.1756\n",
      "Score for fold 2: loss of 0.5139681100845337; root_mean_squared_error of 0.17557567358016968\n",
      "------------------------------------------------------------------------\n",
      "Score per fold\n",
      "------------------------------------------------------------------------\n",
      "> Fold 1 - Loss: 0.5072061419487 - RMSE: 0.1704900860786438\n",
      "------------------------------------------------------------------------\n",
      "------------------------------------------------------------------------\n",
      "> Fold 2 - Loss: 0.5139681100845337 - RMSE: 0.17557567358016968\n",
      "------------------------------------------------------------------------\n",
      "Average scores for all folds:\n",
      "> RMSE: 0.17303287982940674 (+- 0.0025427937507629395)\n",
      "> Loss: 0.5105871260166168\n",
      "------------------------------------------------------------------------\n",
      "\n"
     ]
    },
    {
     "data": {
      "text/html": [
       "Waiting for W&B process to finish... <strong style=\"color:green\">(success).</strong>"
      ],
      "text/plain": [
       "<IPython.core.display.HTML object>"
      ]
     },
     "metadata": {},
     "output_type": "display_data"
    },
    {
     "data": {
      "application/vnd.jupyter.widget-view+json": {
       "model_id": "e912d805cc4b4e56a9d991c78911b755",
       "version_major": 2,
       "version_minor": 0
      },
      "text/plain": [
       "VBox(children=(Label(value='5.329 MB of 62.776 MB uploaded (0.000 MB deduped)\\r'), FloatProgress(value=0.08489…"
      ]
     },
     "metadata": {},
     "output_type": "display_data"
    },
    {
     "data": {
      "text/html": [
       "<style>\n",
       "    table.wandb td:nth-child(1) { padding: 0 10px; text-align: right }\n",
       "    .wandb-row { display: flex; flex-direction: row; flex-wrap: wrap; width: 100% }\n",
       "    .wandb-col { display: flex; flex-direction: column; flex-basis: 100%; flex: 1; padding: 10px; }\n",
       "    </style>\n",
       "<div class=\"wandb-row\"><div class=\"wandb-col\"><h3>Run history:</h3><br/><table class=\"wandb\"><tr><td>Mean Validation Loss (all folds)</td><td>▁</td></tr><tr><td>Mean Validation RMSE (all folds)</td><td>▁</td></tr><tr><td>epoch</td><td>▁▁▁▁▂▂▂▂▂▃▃▃▃▃▃▄▄▄▄▄▅▅▅▅▅▅▆▆▆▆▆▆▇▇▇▇▇███</td></tr><tr><td>loss</td><td>█▄▄▃▃▃▃▂▂▂▂▂▂▂▂▂▂▂▂▂▁▁▁▁▁▁▁▁▁▁▁▁▁▁▁▁▁▁▁▁</td></tr><tr><td>root_mean_squared_error</td><td>█▂▁▁▁▁▁▁▁▁▁▁▁▁▁▁▁▁▁▁▁▁▁▁▁▁▁▁▁▁▁▁▁▁▁▁▁▁▁▁</td></tr><tr><td>val_loss</td><td>█▇▆▆▅▅▄▄▄▄▃▃▃▃▃▃▂▂▂▂▂▂▂▂▂▂▂▂▂▁▁▁▁▁▁▁▁▁▁▁</td></tr><tr><td>val_root_mean_squared_error</td><td>█▆▃▃▃▃▃▂▃▄▃▂▂▄▂▂▂▂▃▂▂▃▃▂▂▂▃▄▂▂▁▂▂▁▁▃▂▂▂▁</td></tr></table><br/></div><div class=\"wandb-col\"><h3>Run summary:</h3><br/><table class=\"wandb\"><tr><td>Mean Validation Loss (all folds)</td><td>0.51059</td></tr><tr><td>Mean Validation RMSE (all folds)</td><td>0.17303</td></tr><tr><td>best_epoch</td><td>49</td></tr><tr><td>best_val_loss</td><td>0.514</td></tr><tr><td>epoch</td><td>49</td></tr><tr><td>loss</td><td>0.61844</td></tr><tr><td>root_mean_squared_error</td><td>0.30213</td></tr><tr><td>val_loss</td><td>0.514</td></tr><tr><td>val_root_mean_squared_error</td><td>0.1756</td></tr></table><br/></div></div>"
      ],
      "text/plain": [
       "<IPython.core.display.HTML object>"
      ]
     },
     "metadata": {},
     "output_type": "display_data"
    },
    {
     "data": {
      "text/html": [
       "Synced <strong style=\"color:#cdcd00\">sage-sweep-12</strong>: <a href=\"https://wandb.ai/luiscostigan/house-price-prediction/runs/zls2ean1\" target=\"_blank\">https://wandb.ai/luiscostigan/house-price-prediction/runs/zls2ean1</a><br/>Synced 5 W&B file(s), 0 media file(s), 0 artifact file(s) and 1 other file(s)"
      ],
      "text/plain": [
       "<IPython.core.display.HTML object>"
      ]
     },
     "metadata": {},
     "output_type": "display_data"
    },
    {
     "data": {
      "text/html": [
       "Find logs at: <code>./wandb/run-20220314_040341-zls2ean1/logs</code>"
      ],
      "text/plain": [
       "<IPython.core.display.HTML object>"
      ]
     },
     "metadata": {},
     "output_type": "display_data"
    },
    {
     "data": {
      "text/html": [
       "Tracking run with wandb version 0.12.11"
      ],
      "text/plain": [
       "<IPython.core.display.HTML object>"
      ]
     },
     "metadata": {},
     "output_type": "display_data"
    },
    {
     "data": {
      "text/html": [
       "Run data is saved locally in <code>/workspaces/data-science-projects/house-price-prediction/Models/tensorflow/wandb/run-20220314_040421-zls2ean1</code>"
      ],
      "text/plain": [
       "<IPython.core.display.HTML object>"
      ]
     },
     "metadata": {},
     "output_type": "display_data"
    },
    {
     "data": {
      "text/html": [
       "Syncing run <strong><a href=\"https://wandb.ai/luiscostigan/house-price-prediction/runs/zls2ean1\" target=\"_blank\">sage-sweep-12</a></strong> to <a href=\"https://wandb.ai/luiscostigan/house-price-prediction\" target=\"_blank\">Weights & Biases</a> (<a href=\"https://wandb.me/run\" target=\"_blank\">docs</a>)<br/>Sweep page:  <a href=\"https://wandb.ai/luiscostigan/house-price-prediction/sweeps/e8odal49\" target=\"_blank\">https://wandb.ai/luiscostigan/house-price-prediction/sweeps/e8odal49</a>"
      ],
      "text/plain": [
       "<IPython.core.display.HTML object>"
      ]
     },
     "metadata": {},
     "output_type": "display_data"
    },
    {
     "name": "stdout",
     "output_type": "stream",
     "text": [
      "37/37 [==============================] - 0s 3ms/step - loss: 0.5353 - root_mean_squared_error: 0.2043\n",
      "Score for fold 3: loss of 0.5352684855461121; root_mean_squared_error of 0.20426827669143677\n",
      "------------------------------------------------------------------------\n",
      "Score per fold\n",
      "------------------------------------------------------------------------\n",
      "> Fold 1 - Loss: 0.5072061419487 - RMSE: 0.1704900860786438\n",
      "------------------------------------------------------------------------\n",
      "------------------------------------------------------------------------\n",
      "> Fold 2 - Loss: 0.5139681100845337 - RMSE: 0.17557567358016968\n",
      "------------------------------------------------------------------------\n",
      "------------------------------------------------------------------------\n",
      "> Fold 3 - Loss: 0.5352684855461121 - RMSE: 0.20426827669143677\n",
      "------------------------------------------------------------------------\n",
      "Average scores for all folds:\n",
      "> RMSE: 0.18344467878341675 (+- 0.014870159659198705)\n",
      "> Loss: 0.5188142458597819\n",
      "------------------------------------------------------------------------\n",
      "\n"
     ]
    },
    {
     "data": {
      "text/html": [
       "Waiting for W&B process to finish... <strong style=\"color:green\">(success).</strong>"
      ],
      "text/plain": [
       "<IPython.core.display.HTML object>"
      ]
     },
     "metadata": {},
     "output_type": "display_data"
    },
    {
     "data": {
      "application/vnd.jupyter.widget-view+json": {
       "model_id": "284ea8e3171845708aaa9b683d954a70",
       "version_major": 2,
       "version_minor": 0
      },
      "text/plain": [
       "VBox(children=(Label(value='3.134 MB of 62.776 MB uploaded (0.000 MB deduped)\\r'), FloatProgress(value=0.04992…"
      ]
     },
     "metadata": {},
     "output_type": "display_data"
    },
    {
     "data": {
      "text/html": [
       "<style>\n",
       "    table.wandb td:nth-child(1) { padding: 0 10px; text-align: right }\n",
       "    .wandb-row { display: flex; flex-direction: row; flex-wrap: wrap; width: 100% }\n",
       "    .wandb-col { display: flex; flex-direction: column; flex-basis: 100%; flex: 1; padding: 10px; }\n",
       "    </style>\n",
       "<div class=\"wandb-row\"><div class=\"wandb-col\"><h3>Run history:</h3><br/><table class=\"wandb\"><tr><td>Mean Validation Loss (all folds)</td><td>▁</td></tr><tr><td>Mean Validation RMSE (all folds)</td><td>▁</td></tr><tr><td>epoch</td><td>▁▁▁▁▂▂▂▂▂▃▃▃▃▃▃▄▄▄▄▄▅▅▅▅▅▅▆▆▆▆▆▆▇▇▇▇▇███</td></tr><tr><td>loss</td><td>█▄▄▃▃▃▃▃▂▂▂▂▂▂▂▂▂▂▂▂▂▁▁▁▁▁▁▁▁▁▁▁▁▁▁▁▁▁▁▁</td></tr><tr><td>root_mean_squared_error</td><td>█▂▁▁▁▁▁▁▁▁▁▁▁▁▁▁▁▁▁▁▁▁▁▁▁▁▁▁▁▁▁▁▁▁▁▁▁▁▁▁</td></tr><tr><td>val_loss</td><td>█▇▆▅▅▄▄▄▃▄▃▃▃▃▃▃▂▂▃▂▂▂▂▃▂▂▂▂▂▂▁▂▁▁▁▁▁▁▁▁</td></tr><tr><td>val_root_mean_squared_error</td><td>█▃▃▂▃▂▂▂▂▂▂▂▂▂▂▂▁▁▃▁▃▁▁▅▃▃▂▁▃▂▁▂▁▁▁▂▂▁▁▁</td></tr></table><br/></div><div class=\"wandb-col\"><h3>Run summary:</h3><br/><table class=\"wandb\"><tr><td>Mean Validation Loss (all folds)</td><td>0.51881</td></tr><tr><td>Mean Validation RMSE (all folds)</td><td>0.18344</td></tr><tr><td>best_epoch</td><td>47</td></tr><tr><td>best_val_loss</td><td>0.51544</td></tr><tr><td>epoch</td><td>49</td></tr><tr><td>loss</td><td>0.64083</td></tr><tr><td>root_mean_squared_error</td><td>0.31996</td></tr><tr><td>val_loss</td><td>0.53525</td></tr><tr><td>val_root_mean_squared_error</td><td>0.20427</td></tr></table><br/></div></div>"
      ],
      "text/plain": [
       "<IPython.core.display.HTML object>"
      ]
     },
     "metadata": {},
     "output_type": "display_data"
    },
    {
     "data": {
      "text/html": [
       "Synced <strong style=\"color:#cdcd00\">sage-sweep-12</strong>: <a href=\"https://wandb.ai/luiscostigan/house-price-prediction/runs/zls2ean1\" target=\"_blank\">https://wandb.ai/luiscostigan/house-price-prediction/runs/zls2ean1</a><br/>Synced 5 W&B file(s), 0 media file(s), 0 artifact file(s) and 1 other file(s)"
      ],
      "text/plain": [
       "<IPython.core.display.HTML object>"
      ]
     },
     "metadata": {},
     "output_type": "display_data"
    },
    {
     "data": {
      "text/html": [
       "Find logs at: <code>./wandb/run-20220314_040421-zls2ean1/logs</code>"
      ],
      "text/plain": [
       "<IPython.core.display.HTML object>"
      ]
     },
     "metadata": {},
     "output_type": "display_data"
    },
    {
     "data": {
      "text/html": [
       "Tracking run with wandb version 0.12.11"
      ],
      "text/plain": [
       "<IPython.core.display.HTML object>"
      ]
     },
     "metadata": {},
     "output_type": "display_data"
    },
    {
     "data": {
      "text/html": [
       "Run data is saved locally in <code>/workspaces/data-science-projects/house-price-prediction/Models/tensorflow/wandb/run-20220314_040508-zls2ean1</code>"
      ],
      "text/plain": [
       "<IPython.core.display.HTML object>"
      ]
     },
     "metadata": {},
     "output_type": "display_data"
    },
    {
     "data": {
      "text/html": [
       "Syncing run <strong><a href=\"https://wandb.ai/luiscostigan/house-price-prediction/runs/zls2ean1\" target=\"_blank\">sage-sweep-12</a></strong> to <a href=\"https://wandb.ai/luiscostigan/house-price-prediction\" target=\"_blank\">Weights & Biases</a> (<a href=\"https://wandb.me/run\" target=\"_blank\">docs</a>)<br/>Sweep page:  <a href=\"https://wandb.ai/luiscostigan/house-price-prediction/sweeps/e8odal49\" target=\"_blank\">https://wandb.ai/luiscostigan/house-price-prediction/sweeps/e8odal49</a>"
      ],
      "text/plain": [
       "<IPython.core.display.HTML object>"
      ]
     },
     "metadata": {},
     "output_type": "display_data"
    },
    {
     "name": "stdout",
     "output_type": "stream",
     "text": [
      "37/37 [==============================] - 0s 3ms/step - loss: 0.4971 - root_mean_squared_error: 0.1558\n",
      "Score for fold 4: loss of 0.4970792531967163; root_mean_squared_error of 0.15579438209533691\n",
      "------------------------------------------------------------------------\n",
      "Score per fold\n",
      "------------------------------------------------------------------------\n",
      "> Fold 1 - Loss: 0.5072061419487 - RMSE: 0.1704900860786438\n",
      "------------------------------------------------------------------------\n",
      "------------------------------------------------------------------------\n",
      "> Fold 2 - Loss: 0.5139681100845337 - RMSE: 0.17557567358016968\n",
      "------------------------------------------------------------------------\n",
      "------------------------------------------------------------------------\n",
      "> Fold 3 - Loss: 0.5352684855461121 - RMSE: 0.20426827669143677\n",
      "------------------------------------------------------------------------\n",
      "------------------------------------------------------------------------\n",
      "> Fold 4 - Loss: 0.4970792531967163 - RMSE: 0.15579438209533691\n",
      "------------------------------------------------------------------------\n",
      "Average scores for all folds:\n",
      "> RMSE: 0.1765321046113968 (+- 0.017583864230270252)\n",
      "> Loss: 0.5133804976940155\n",
      "------------------------------------------------------------------------\n",
      "\n"
     ]
    },
    {
     "data": {
      "text/html": [
       "Waiting for W&B process to finish... <strong style=\"color:green\">(success).</strong>"
      ],
      "text/plain": [
       "<IPython.core.display.HTML object>"
      ]
     },
     "metadata": {},
     "output_type": "display_data"
    },
    {
     "data": {
      "application/vnd.jupyter.widget-view+json": {
       "model_id": "0f7c072c7d90489f95e94effab5867d1",
       "version_major": 2,
       "version_minor": 0
      },
      "text/plain": [
       "VBox(children=(Label(value='2.220 MB of 62.776 MB uploaded (0.000 MB deduped)\\r'), FloatProgress(value=0.03536…"
      ]
     },
     "metadata": {},
     "output_type": "display_data"
    },
    {
     "data": {
      "text/html": [
       "<style>\n",
       "    table.wandb td:nth-child(1) { padding: 0 10px; text-align: right }\n",
       "    .wandb-row { display: flex; flex-direction: row; flex-wrap: wrap; width: 100% }\n",
       "    .wandb-col { display: flex; flex-direction: column; flex-basis: 100%; flex: 1; padding: 10px; }\n",
       "    </style>\n",
       "<div class=\"wandb-row\"><div class=\"wandb-col\"><h3>Run history:</h3><br/><table class=\"wandb\"><tr><td>Mean Validation Loss (all folds)</td><td>▁</td></tr><tr><td>Mean Validation RMSE (all folds)</td><td>▁</td></tr><tr><td>epoch</td><td>▁▁▁▁▂▂▂▂▂▃▃▃▃▃▃▄▄▄▄▄▅▅▅▅▅▅▆▆▆▆▆▆▇▇▇▇▇███</td></tr><tr><td>loss</td><td>█▄▄▃▃▃▃▃▂▂▂▂▂▂▂▂▂▂▂▂▂▂▁▁▁▁▁▁▁▁▁▁▁▁▁▁▁▁▁▁</td></tr><tr><td>root_mean_squared_error</td><td>█▂▁▁▁▁▁▁▁▁▁▁▁▁▁▁▁▁▁▁▁▁▁▁▁▁▁▁▁▁▁▁▁▁▁▁▁▁▁▁</td></tr><tr><td>val_loss</td><td>█▇▇▆▅▅▄▄▄▃▄▃▃▃▃▃▂▃▂▂▃▂▂▂▂▂▂▂▂▂▁▁▁▁▁▁▁▁▁▁</td></tr><tr><td>val_root_mean_squared_error</td><td>█▄▅▅▃▃▂▂▃▂▄▂▂▃▂▂▂▃▂▂▄▂▁▂▂▂▁▂▂▃▂▂▂▂▁▁▂▁▂▁</td></tr></table><br/></div><div class=\"wandb-col\"><h3>Run summary:</h3><br/><table class=\"wandb\"><tr><td>Mean Validation Loss (all folds)</td><td>0.51338</td></tr><tr><td>Mean Validation RMSE (all folds)</td><td>0.17653</td></tr><tr><td>best_epoch</td><td>48</td></tr><tr><td>best_val_loss</td><td>0.49458</td></tr><tr><td>epoch</td><td>49</td></tr><tr><td>loss</td><td>0.60246</td></tr><tr><td>root_mean_squared_error</td><td>0.27446</td></tr><tr><td>val_loss</td><td>0.49707</td></tr><tr><td>val_root_mean_squared_error</td><td>0.1558</td></tr></table><br/></div></div>"
      ],
      "text/plain": [
       "<IPython.core.display.HTML object>"
      ]
     },
     "metadata": {},
     "output_type": "display_data"
    },
    {
     "data": {
      "text/html": [
       "Synced <strong style=\"color:#cdcd00\">sage-sweep-12</strong>: <a href=\"https://wandb.ai/luiscostigan/house-price-prediction/runs/zls2ean1\" target=\"_blank\">https://wandb.ai/luiscostigan/house-price-prediction/runs/zls2ean1</a><br/>Synced 5 W&B file(s), 0 media file(s), 0 artifact file(s) and 1 other file(s)"
      ],
      "text/plain": [
       "<IPython.core.display.HTML object>"
      ]
     },
     "metadata": {},
     "output_type": "display_data"
    },
    {
     "data": {
      "text/html": [
       "Find logs at: <code>./wandb/run-20220314_040508-zls2ean1/logs</code>"
      ],
      "text/plain": [
       "<IPython.core.display.HTML object>"
      ]
     },
     "metadata": {},
     "output_type": "display_data"
    },
    {
     "data": {
      "text/html": [
       "Tracking run with wandb version 0.12.11"
      ],
      "text/plain": [
       "<IPython.core.display.HTML object>"
      ]
     },
     "metadata": {},
     "output_type": "display_data"
    },
    {
     "data": {
      "text/html": [
       "Run data is saved locally in <code>/workspaces/data-science-projects/house-price-prediction/Models/tensorflow/wandb/run-20220314_040549-zls2ean1</code>"
      ],
      "text/plain": [
       "<IPython.core.display.HTML object>"
      ]
     },
     "metadata": {},
     "output_type": "display_data"
    },
    {
     "data": {
      "text/html": [
       "Syncing run <strong><a href=\"https://wandb.ai/luiscostigan/house-price-prediction/runs/zls2ean1\" target=\"_blank\">sage-sweep-12</a></strong> to <a href=\"https://wandb.ai/luiscostigan/house-price-prediction\" target=\"_blank\">Weights & Biases</a> (<a href=\"https://wandb.me/run\" target=\"_blank\">docs</a>)<br/>Sweep page:  <a href=\"https://wandb.ai/luiscostigan/house-price-prediction/sweeps/e8odal49\" target=\"_blank\">https://wandb.ai/luiscostigan/house-price-prediction/sweeps/e8odal49</a>"
      ],
      "text/plain": [
       "<IPython.core.display.HTML object>"
      ]
     },
     "metadata": {},
     "output_type": "display_data"
    },
    {
     "name": "stdout",
     "output_type": "stream",
     "text": [
      "37/37 [==============================] - 0s 4ms/step - loss: 0.4843 - root_mean_squared_error: 0.1404\n",
      "Score for fold 5: loss of 0.48427367210388184; root_mean_squared_error of 0.14040693640708923\n",
      "------------------------------------------------------------------------\n",
      "Score per fold\n",
      "------------------------------------------------------------------------\n",
      "> Fold 1 - Loss: 0.5072061419487 - RMSE: 0.1704900860786438\n",
      "------------------------------------------------------------------------\n",
      "------------------------------------------------------------------------\n",
      "> Fold 2 - Loss: 0.5139681100845337 - RMSE: 0.17557567358016968\n",
      "------------------------------------------------------------------------\n",
      "------------------------------------------------------------------------\n",
      "> Fold 3 - Loss: 0.5352684855461121 - RMSE: 0.20426827669143677\n",
      "------------------------------------------------------------------------\n",
      "------------------------------------------------------------------------\n",
      "> Fold 4 - Loss: 0.4970792531967163 - RMSE: 0.15579438209533691\n",
      "------------------------------------------------------------------------\n",
      "------------------------------------------------------------------------\n",
      "> Fold 5 - Loss: 0.48427367210388184 - RMSE: 0.14040693640708923\n",
      "------------------------------------------------------------------------\n",
      "Average scores for all folds:\n",
      "> RMSE: 0.16930707097053527 (+- 0.021357862005855932)\n",
      "> Loss: 0.5075591325759887\n",
      "------------------------------------------------------------------------\n",
      "\n"
     ]
    },
    {
     "data": {
      "text/html": [
       "Waiting for W&B process to finish... <strong style=\"color:green\">(success).</strong>"
      ],
      "text/plain": [
       "<IPython.core.display.HTML object>"
      ]
     },
     "metadata": {},
     "output_type": "display_data"
    },
    {
     "data": {
      "application/vnd.jupyter.widget-view+json": {
       "model_id": "f99cc5bf61454cbf9714ebdfbfecc31d",
       "version_major": 2,
       "version_minor": 0
      },
      "text/plain": [
       "VBox(children=(Label(value='4.415 MB of 62.776 MB uploaded (0.000 MB deduped)\\r'), FloatProgress(value=0.07033…"
      ]
     },
     "metadata": {},
     "output_type": "display_data"
    },
    {
     "data": {
      "text/html": [
       "<style>\n",
       "    table.wandb td:nth-child(1) { padding: 0 10px; text-align: right }\n",
       "    .wandb-row { display: flex; flex-direction: row; flex-wrap: wrap; width: 100% }\n",
       "    .wandb-col { display: flex; flex-direction: column; flex-basis: 100%; flex: 1; padding: 10px; }\n",
       "    </style>\n",
       "<div class=\"wandb-row\"><div class=\"wandb-col\"><h3>Run history:</h3><br/><table class=\"wandb\"><tr><td>Mean Validation Loss (all folds)</td><td>▁</td></tr><tr><td>Mean Validation RMSE (all folds)</td><td>▁</td></tr><tr><td>epoch</td><td>▁▁▁▁▂▂▂▂▂▃▃▃▃▃▃▄▄▄▄▄▅▅▅▅▅▅▆▆▆▆▆▆▇▇▇▇▇███</td></tr><tr><td>loss</td><td>█▄▄▃▃▃▃▃▂▂▂▂▂▂▂▂▂▂▂▂▂▂▁▂▁▁▁▁▁▁▁▁▁▁▁▁▁▁▁▁</td></tr><tr><td>root_mean_squared_error</td><td>█▂▁▁▁▁▁▁▁▁▁▁▁▁▁▁▁▁▁▁▁▁▁▁▁▁▁▁▁▁▁▁▁▁▁▁▁▁▁▁</td></tr><tr><td>val_loss</td><td>█▇▆▅▅▄▄▄▄▄▃▃▃▃▃▃▃▃▃▂▂▂▂▂▂▂▂▂▁▂▁▂▁▂▂▂▁▁▂▁</td></tr><tr><td>val_root_mean_squared_error</td><td>█▅▃▃▃▂▂▃▂▅▂▂▂▂▂▂▂▄▅▃▂▂▂▂▁▂▂▁▁▃▁▂▂▂▄▃▂▁▃▁</td></tr></table><br/></div><div class=\"wandb-col\"><h3>Run summary:</h3><br/><table class=\"wandb\"><tr><td>Mean Validation Loss (all folds)</td><td>0.50756</td></tr><tr><td>Mean Validation RMSE (all folds)</td><td>0.16931</td></tr><tr><td>best_epoch</td><td>49</td></tr><tr><td>best_val_loss</td><td>0.48426</td></tr><tr><td>epoch</td><td>49</td></tr><tr><td>loss</td><td>0.59883</td></tr><tr><td>root_mean_squared_error</td><td>0.28217</td></tr><tr><td>val_loss</td><td>0.48426</td></tr><tr><td>val_root_mean_squared_error</td><td>0.14039</td></tr></table><br/></div></div>"
      ],
      "text/plain": [
       "<IPython.core.display.HTML object>"
      ]
     },
     "metadata": {},
     "output_type": "display_data"
    },
    {
     "data": {
      "text/html": [
       "Synced <strong style=\"color:#cdcd00\">sage-sweep-12</strong>: <a href=\"https://wandb.ai/luiscostigan/house-price-prediction/runs/zls2ean1\" target=\"_blank\">https://wandb.ai/luiscostigan/house-price-prediction/runs/zls2ean1</a><br/>Synced 5 W&B file(s), 0 media file(s), 0 artifact file(s) and 1 other file(s)"
      ],
      "text/plain": [
       "<IPython.core.display.HTML object>"
      ]
     },
     "metadata": {},
     "output_type": "display_data"
    },
    {
     "data": {
      "text/html": [
       "Find logs at: <code>./wandb/run-20220314_040549-zls2ean1/logs</code>"
      ],
      "text/plain": [
       "<IPython.core.display.HTML object>"
      ]
     },
     "metadata": {},
     "output_type": "display_data"
    },
    {
     "name": "stderr",
     "output_type": "stream",
     "text": [
      "\u001b[34m\u001b[1mwandb\u001b[0m: Agent Starting Run: ioo1rzlr with config:\n",
      "\u001b[34m\u001b[1mwandb\u001b[0m: \tbatch_size: 32\n",
      "\u001b[34m\u001b[1mwandb\u001b[0m: \tbias1: 0.01\n",
      "\u001b[34m\u001b[1mwandb\u001b[0m: \tbias2: 0.001\n",
      "\u001b[34m\u001b[1mwandb\u001b[0m: \tdense1: 4096\n",
      "\u001b[34m\u001b[1mwandb\u001b[0m: \tdense2: 1024\n",
      "\u001b[34m\u001b[1mwandb\u001b[0m: \tdropout1: 0.00406878977858387\n",
      "\u001b[34m\u001b[1mwandb\u001b[0m: \tepochs: 50\n",
      "\u001b[34m\u001b[1mwandb\u001b[0m: \tlearning_rate: 0.01\n"
     ]
    },
    {
     "data": {
      "text/html": [
       "Tracking run with wandb version 0.12.11"
      ],
      "text/plain": [
       "<IPython.core.display.HTML object>"
      ]
     },
     "metadata": {},
     "output_type": "display_data"
    },
    {
     "data": {
      "text/html": [
       "Run data is saved locally in <code>/workspaces/data-science-projects/house-price-prediction/Models/tensorflow/wandb/run-20220314_040631-ioo1rzlr</code>"
      ],
      "text/plain": [
       "<IPython.core.display.HTML object>"
      ]
     },
     "metadata": {},
     "output_type": "display_data"
    },
    {
     "data": {
      "text/html": [
       "Syncing run <strong><a href=\"https://wandb.ai/luiscostigan/house-price-prediction/runs/ioo1rzlr\" target=\"_blank\">noble-sweep-13</a></strong> to <a href=\"https://wandb.ai/luiscostigan/house-price-prediction\" target=\"_blank\">Weights & Biases</a> (<a href=\"https://wandb.me/run\" target=\"_blank\">docs</a>)<br/>Sweep page:  <a href=\"https://wandb.ai/luiscostigan/house-price-prediction/sweeps/e8odal49\" target=\"_blank\">https://wandb.ai/luiscostigan/house-price-prediction/sweeps/e8odal49</a>"
      ],
      "text/plain": [
       "<IPython.core.display.HTML object>"
      ]
     },
     "metadata": {},
     "output_type": "display_data"
    },
    {
     "name": "stdout",
     "output_type": "stream",
     "text": [
      "37/37 [==============================] - 0s 3ms/step - loss: 0.2481 - root_mean_squared_error: 0.2643\n",
      "Score for fold 1: loss of 0.24806281924247742; root_mean_squared_error of 0.2643369734287262\n",
      "------------------------------------------------------------------------\n",
      "Score per fold\n",
      "------------------------------------------------------------------------\n",
      "> Fold 1 - Loss: 0.24806281924247742 - RMSE: 0.2643369734287262\n",
      "------------------------------------------------------------------------\n",
      "Average scores for all folds:\n",
      "> RMSE: 0.2643369734287262 (+- 0.0)\n",
      "> Loss: 0.24806281924247742\n",
      "------------------------------------------------------------------------\n",
      "\n"
     ]
    },
    {
     "data": {
      "text/html": [
       "Waiting for W&B process to finish... <strong style=\"color:green\">(success).</strong>"
      ],
      "text/plain": [
       "<IPython.core.display.HTML object>"
      ]
     },
     "metadata": {},
     "output_type": "display_data"
    },
    {
     "data": {
      "application/vnd.jupyter.widget-view+json": {
       "model_id": "d3a49d1126764665ba732e72b55c9656",
       "version_major": 2,
       "version_minor": 0
      },
      "text/plain": [
       "VBox(children=(Label(value='0.993 MB of 62.776 MB uploaded (0.000 MB deduped)\\r'), FloatProgress(value=0.01582…"
      ]
     },
     "metadata": {},
     "output_type": "display_data"
    },
    {
     "data": {
      "text/html": [
       "<style>\n",
       "    table.wandb td:nth-child(1) { padding: 0 10px; text-align: right }\n",
       "    .wandb-row { display: flex; flex-direction: row; flex-wrap: wrap; width: 100% }\n",
       "    .wandb-col { display: flex; flex-direction: column; flex-basis: 100%; flex: 1; padding: 10px; }\n",
       "    </style>\n",
       "<div class=\"wandb-row\"><div class=\"wandb-col\"><h3>Run history:</h3><br/><table class=\"wandb\"><tr><td>Mean Validation Loss (all folds)</td><td>▁</td></tr><tr><td>Mean Validation RMSE (all folds)</td><td>▁</td></tr><tr><td>epoch</td><td>▁▁▁▁▂▂▂▂▂▃▃▃▃▃▃▄▄▄▄▄▅▅▅▅▅▅▆▆▆▆▆▆▇▇▇▇▇███</td></tr><tr><td>loss</td><td>█▃▂▁▁▁▁▁▁▁▁▁▁▁▁▁▁▁▁▁▁▁▁▁▁▁▁▁▁▁▁▁▁▁▁▁▁▁▁▁</td></tr><tr><td>root_mean_squared_error</td><td>█▁▁▁▁▁▁▁▁▁▁▁▁▁▁▁▁▁▁▁▁▁▁▁▁▁▁▁▁▁▁▁▁▁▁▁▁▁▁▁</td></tr><tr><td>val_loss</td><td>█▄▂▂▁▁▁▁▁▁▁▁▁▁▁▁▁▁▁▁▁▁▁▁▁▁▁▁▁▁▁▁▁▁▁▁▁▁▁▁</td></tr><tr><td>val_root_mean_squared_error</td><td>█▄▅▃▃▄▅▅▃▃▃▂▂▇▄▄▂▁▂▃▂▃▂▃▆▅▃▄▂▂▂▁▃▁▁▁▃▁▁▁</td></tr></table><br/></div><div class=\"wandb-col\"><h3>Run summary:</h3><br/><table class=\"wandb\"><tr><td>Mean Validation Loss (all folds)</td><td>0.24806</td></tr><tr><td>Mean Validation RMSE (all folds)</td><td>0.26434</td></tr><tr><td>best_epoch</td><td>48</td></tr><tr><td>best_val_loss</td><td>0.23293</td></tr><tr><td>epoch</td><td>49</td></tr><tr><td>loss</td><td>0.35426</td></tr><tr><td>root_mean_squared_error</td><td>0.43</td></tr><tr><td>val_loss</td><td>0.24806</td></tr><tr><td>val_root_mean_squared_error</td><td>0.26434</td></tr></table><br/></div></div>"
      ],
      "text/plain": [
       "<IPython.core.display.HTML object>"
      ]
     },
     "metadata": {},
     "output_type": "display_data"
    },
    {
     "data": {
      "text/html": [
       "Synced <strong style=\"color:#cdcd00\">noble-sweep-13</strong>: <a href=\"https://wandb.ai/luiscostigan/house-price-prediction/runs/ioo1rzlr\" target=\"_blank\">https://wandb.ai/luiscostigan/house-price-prediction/runs/ioo1rzlr</a><br/>Synced 5 W&B file(s), 0 media file(s), 0 artifact file(s) and 1 other file(s)"
      ],
      "text/plain": [
       "<IPython.core.display.HTML object>"
      ]
     },
     "metadata": {},
     "output_type": "display_data"
    },
    {
     "data": {
      "text/html": [
       "Find logs at: <code>./wandb/run-20220314_040631-ioo1rzlr/logs</code>"
      ],
      "text/plain": [
       "<IPython.core.display.HTML object>"
      ]
     },
     "metadata": {},
     "output_type": "display_data"
    },
    {
     "data": {
      "text/html": [
       "Tracking run with wandb version 0.12.11"
      ],
      "text/plain": [
       "<IPython.core.display.HTML object>"
      ]
     },
     "metadata": {},
     "output_type": "display_data"
    },
    {
     "data": {
      "text/html": [
       "Run data is saved locally in <code>/workspaces/data-science-projects/house-price-prediction/Models/tensorflow/wandb/run-20220314_040713-ioo1rzlr</code>"
      ],
      "text/plain": [
       "<IPython.core.display.HTML object>"
      ]
     },
     "metadata": {},
     "output_type": "display_data"
    },
    {
     "data": {
      "text/html": [
       "Syncing run <strong><a href=\"https://wandb.ai/luiscostigan/house-price-prediction/runs/ioo1rzlr\" target=\"_blank\">noble-sweep-13</a></strong> to <a href=\"https://wandb.ai/luiscostigan/house-price-prediction\" target=\"_blank\">Weights & Biases</a> (<a href=\"https://wandb.me/run\" target=\"_blank\">docs</a>)<br/>Sweep page:  <a href=\"https://wandb.ai/luiscostigan/house-price-prediction/sweeps/e8odal49\" target=\"_blank\">https://wandb.ai/luiscostigan/house-price-prediction/sweeps/e8odal49</a>"
      ],
      "text/plain": [
       "<IPython.core.display.HTML object>"
      ]
     },
     "metadata": {},
     "output_type": "display_data"
    },
    {
     "name": "stdout",
     "output_type": "stream",
     "text": [
      "37/37 [==============================] - 0s 3ms/step - loss: 0.2386 - root_mean_squared_error: 0.2466\n",
      "Score for fold 2: loss of 0.23857484757900238; root_mean_squared_error of 0.2466297745704651\n",
      "------------------------------------------------------------------------\n",
      "Score per fold\n",
      "------------------------------------------------------------------------\n",
      "> Fold 1 - Loss: 0.24806281924247742 - RMSE: 0.2643369734287262\n",
      "------------------------------------------------------------------------\n",
      "------------------------------------------------------------------------\n",
      "> Fold 2 - Loss: 0.23857484757900238 - RMSE: 0.2466297745704651\n",
      "------------------------------------------------------------------------\n",
      "Average scores for all folds:\n",
      "> RMSE: 0.25548337399959564 (+- 0.008853599429130554)\n",
      "> Loss: 0.2433188334107399\n",
      "------------------------------------------------------------------------\n",
      "\n"
     ]
    },
    {
     "data": {
      "text/html": [
       "Waiting for W&B process to finish... <strong style=\"color:green\">(success).</strong>"
      ],
      "text/plain": [
       "<IPython.core.display.HTML object>"
      ]
     },
     "metadata": {},
     "output_type": "display_data"
    },
    {
     "data": {
      "application/vnd.jupyter.widget-view+json": {
       "model_id": "80b8124361c047c9a3ff79c14c2d4cd2",
       "version_major": 2,
       "version_minor": 0
      },
      "text/plain": [
       "VBox(children=(Label(value='1.853 MB of 62.776 MB uploaded (0.000 MB deduped)\\r'), FloatProgress(value=0.02951…"
      ]
     },
     "metadata": {},
     "output_type": "display_data"
    },
    {
     "data": {
      "text/html": [
       "<style>\n",
       "    table.wandb td:nth-child(1) { padding: 0 10px; text-align: right }\n",
       "    .wandb-row { display: flex; flex-direction: row; flex-wrap: wrap; width: 100% }\n",
       "    .wandb-col { display: flex; flex-direction: column; flex-basis: 100%; flex: 1; padding: 10px; }\n",
       "    </style>\n",
       "<div class=\"wandb-row\"><div class=\"wandb-col\"><h3>Run history:</h3><br/><table class=\"wandb\"><tr><td>Mean Validation Loss (all folds)</td><td>▁</td></tr><tr><td>Mean Validation RMSE (all folds)</td><td>▁</td></tr><tr><td>epoch</td><td>▁▁▁▁▂▂▂▂▂▃▃▃▃▃▃▄▄▄▄▄▅▅▅▅▅▅▆▆▆▆▆▆▇▇▇▇▇███</td></tr><tr><td>loss</td><td>█▃▂▂▁▁▁▁▁▁▁▁▁▁▁▁▁▁▁▁▁▁▁▁▁▁▁▁▁▁▁▁▁▁▁▁▁▁▁▁</td></tr><tr><td>root_mean_squared_error</td><td>█▁▁▁▁▁▁▁▁▁▁▁▁▁▁▁▁▁▁▁▁▁▁▁▁▁▁▁▁▁▁▁▁▁▁▁▁▁▁▁</td></tr><tr><td>val_loss</td><td>█▄▂▂▁▁▁▂▁▂▁▁▁▂▁▁▁▁▁▁▁▁▁▁▁▁▁▁▁▁▁▁▁▁▁▁▁▁▁▁</td></tr><tr><td>val_root_mean_squared_error</td><td>█▄▃▄▂▃▂▃▃▄▂▂▂▄▂▃▂▂▁▃▁▂▂▂▁▁▂▂▁▂▁▂▁▁▂▁▁▁▁▁</td></tr></table><br/></div><div class=\"wandb-col\"><h3>Run summary:</h3><br/><table class=\"wandb\"><tr><td>Mean Validation Loss (all folds)</td><td>0.24332</td></tr><tr><td>Mean Validation RMSE (all folds)</td><td>0.25548</td></tr><tr><td>best_epoch</td><td>45</td></tr><tr><td>best_val_loss</td><td>0.14603</td></tr><tr><td>epoch</td><td>49</td></tr><tr><td>loss</td><td>0.18104</td></tr><tr><td>root_mean_squared_error</td><td>0.30048</td></tr><tr><td>val_loss</td><td>0.23857</td></tr><tr><td>val_root_mean_squared_error</td><td>0.24663</td></tr></table><br/></div></div>"
      ],
      "text/plain": [
       "<IPython.core.display.HTML object>"
      ]
     },
     "metadata": {},
     "output_type": "display_data"
    },
    {
     "data": {
      "text/html": [
       "Synced <strong style=\"color:#cdcd00\">noble-sweep-13</strong>: <a href=\"https://wandb.ai/luiscostigan/house-price-prediction/runs/ioo1rzlr\" target=\"_blank\">https://wandb.ai/luiscostigan/house-price-prediction/runs/ioo1rzlr</a><br/>Synced 5 W&B file(s), 0 media file(s), 0 artifact file(s) and 1 other file(s)"
      ],
      "text/plain": [
       "<IPython.core.display.HTML object>"
      ]
     },
     "metadata": {},
     "output_type": "display_data"
    },
    {
     "data": {
      "text/html": [
       "Find logs at: <code>./wandb/run-20220314_040713-ioo1rzlr/logs</code>"
      ],
      "text/plain": [
       "<IPython.core.display.HTML object>"
      ]
     },
     "metadata": {},
     "output_type": "display_data"
    },
    {
     "data": {
      "text/html": [
       "Tracking run with wandb version 0.12.11"
      ],
      "text/plain": [
       "<IPython.core.display.HTML object>"
      ]
     },
     "metadata": {},
     "output_type": "display_data"
    },
    {
     "data": {
      "text/html": [
       "Run data is saved locally in <code>/workspaces/data-science-projects/house-price-prediction/Models/tensorflow/wandb/run-20220314_040754-ioo1rzlr</code>"
      ],
      "text/plain": [
       "<IPython.core.display.HTML object>"
      ]
     },
     "metadata": {},
     "output_type": "display_data"
    },
    {
     "data": {
      "text/html": [
       "Syncing run <strong><a href=\"https://wandb.ai/luiscostigan/house-price-prediction/runs/ioo1rzlr\" target=\"_blank\">noble-sweep-13</a></strong> to <a href=\"https://wandb.ai/luiscostigan/house-price-prediction\" target=\"_blank\">Weights & Biases</a> (<a href=\"https://wandb.me/run\" target=\"_blank\">docs</a>)<br/>Sweep page:  <a href=\"https://wandb.ai/luiscostigan/house-price-prediction/sweeps/e8odal49\" target=\"_blank\">https://wandb.ai/luiscostigan/house-price-prediction/sweeps/e8odal49</a>"
      ],
      "text/plain": [
       "<IPython.core.display.HTML object>"
      ]
     },
     "metadata": {},
     "output_type": "display_data"
    },
    {
     "name": "stdout",
     "output_type": "stream",
     "text": [
      "37/37 [==============================] - 0s 4ms/step - loss: 0.2403 - root_mean_squared_error: 0.2447\n",
      "Score for fold 3: loss of 0.24032814800739288; root_mean_squared_error of 0.24469833076000214\n",
      "------------------------------------------------------------------------\n",
      "Score per fold\n",
      "------------------------------------------------------------------------\n",
      "> Fold 1 - Loss: 0.24806281924247742 - RMSE: 0.2643369734287262\n",
      "------------------------------------------------------------------------\n",
      "------------------------------------------------------------------------\n",
      "> Fold 2 - Loss: 0.23857484757900238 - RMSE: 0.2466297745704651\n",
      "------------------------------------------------------------------------\n",
      "------------------------------------------------------------------------\n",
      "> Fold 3 - Loss: 0.24032814800739288 - RMSE: 0.24469833076000214\n",
      "------------------------------------------------------------------------\n",
      "Average scores for all folds:\n",
      "> RMSE: 0.2518883595863978 (+- 0.008837745140204085)\n",
      "> Loss: 0.2423219382762909\n",
      "------------------------------------------------------------------------\n",
      "\n"
     ]
    },
    {
     "data": {
      "text/html": [
       "Waiting for W&B process to finish... <strong style=\"color:green\">(success).</strong>"
      ],
      "text/plain": [
       "<IPython.core.display.HTML object>"
      ]
     },
     "metadata": {},
     "output_type": "display_data"
    },
    {
     "data": {
      "application/vnd.jupyter.widget-view+json": {
       "model_id": "e7ef68810841461eb9a7c8328d320d61",
       "version_major": 2,
       "version_minor": 0
      },
      "text/plain": [
       "VBox(children=(Label(value='1.759 MB of 62.776 MB uploaded (0.000 MB deduped)\\r'), FloatProgress(value=0.02801…"
      ]
     },
     "metadata": {},
     "output_type": "display_data"
    },
    {
     "data": {
      "text/html": [
       "<style>\n",
       "    table.wandb td:nth-child(1) { padding: 0 10px; text-align: right }\n",
       "    .wandb-row { display: flex; flex-direction: row; flex-wrap: wrap; width: 100% }\n",
       "    .wandb-col { display: flex; flex-direction: column; flex-basis: 100%; flex: 1; padding: 10px; }\n",
       "    </style>\n",
       "<div class=\"wandb-row\"><div class=\"wandb-col\"><h3>Run history:</h3><br/><table class=\"wandb\"><tr><td>Mean Validation Loss (all folds)</td><td>▁</td></tr><tr><td>Mean Validation RMSE (all folds)</td><td>▁</td></tr><tr><td>epoch</td><td>▁▁▁▁▂▂▂▂▂▃▃▃▃▃▃▄▄▄▄▄▅▅▅▅▅▅▆▆▆▆▆▆▇▇▇▇▇███</td></tr><tr><td>loss</td><td>█▃▂▁▁▁▁▁▁▁▁▁▁▁▁▁▁▁▁▁▁▁▁▁▁▁▁▁▁▁▁▁▁▁▁▁▁▁▁▁</td></tr><tr><td>root_mean_squared_error</td><td>█▁▁▁▁▁▁▁▁▁▁▁▁▁▁▁▁▁▁▁▁▁▁▁▁▁▁▁▁▁▁▁▁▁▁▁▁▁▁▁</td></tr><tr><td>val_loss</td><td>█▃▂▂▁▁▁▁▁▁▁▁▁▁▂▁▁▁▁▁▁▁▁▁▁▁▁▁▁▁▁▁▁▁▁▁▁▁▁▁</td></tr><tr><td>val_root_mean_squared_error</td><td>█▃▃▂▂▂▂▂▁▂▂▂▂▂▃▂▁▁▂▁▂▃▁▁▂▁▁▂▁▁▁▂▂▁▁▂▁▂▁▁</td></tr></table><br/></div><div class=\"wandb-col\"><h3>Run summary:</h3><br/><table class=\"wandb\"><tr><td>Mean Validation Loss (all folds)</td><td>0.24232</td></tr><tr><td>Mean Validation RMSE (all folds)</td><td>0.25189</td></tr><tr><td>best_epoch</td><td>45</td></tr><tr><td>best_val_loss</td><td>0.21758</td></tr><tr><td>epoch</td><td>49</td></tr><tr><td>loss</td><td>0.33384</td></tr><tr><td>root_mean_squared_error</td><td>0.37971</td></tr><tr><td>val_loss</td><td>0.24033</td></tr><tr><td>val_root_mean_squared_error</td><td>0.2447</td></tr></table><br/></div></div>"
      ],
      "text/plain": [
       "<IPython.core.display.HTML object>"
      ]
     },
     "metadata": {},
     "output_type": "display_data"
    },
    {
     "data": {
      "text/html": [
       "Synced <strong style=\"color:#cdcd00\">noble-sweep-13</strong>: <a href=\"https://wandb.ai/luiscostigan/house-price-prediction/runs/ioo1rzlr\" target=\"_blank\">https://wandb.ai/luiscostigan/house-price-prediction/runs/ioo1rzlr</a><br/>Synced 5 W&B file(s), 0 media file(s), 0 artifact file(s) and 1 other file(s)"
      ],
      "text/plain": [
       "<IPython.core.display.HTML object>"
      ]
     },
     "metadata": {},
     "output_type": "display_data"
    },
    {
     "data": {
      "text/html": [
       "Find logs at: <code>./wandb/run-20220314_040754-ioo1rzlr/logs</code>"
      ],
      "text/plain": [
       "<IPython.core.display.HTML object>"
      ]
     },
     "metadata": {},
     "output_type": "display_data"
    },
    {
     "data": {
      "text/html": [
       "Tracking run with wandb version 0.12.11"
      ],
      "text/plain": [
       "<IPython.core.display.HTML object>"
      ]
     },
     "metadata": {},
     "output_type": "display_data"
    },
    {
     "data": {
      "text/html": [
       "Run data is saved locally in <code>/workspaces/data-science-projects/house-price-prediction/Models/tensorflow/wandb/run-20220314_040834-ioo1rzlr</code>"
      ],
      "text/plain": [
       "<IPython.core.display.HTML object>"
      ]
     },
     "metadata": {},
     "output_type": "display_data"
    },
    {
     "data": {
      "text/html": [
       "Syncing run <strong><a href=\"https://wandb.ai/luiscostigan/house-price-prediction/runs/ioo1rzlr\" target=\"_blank\">noble-sweep-13</a></strong> to <a href=\"https://wandb.ai/luiscostigan/house-price-prediction\" target=\"_blank\">Weights & Biases</a> (<a href=\"https://wandb.me/run\" target=\"_blank\">docs</a>)<br/>Sweep page:  <a href=\"https://wandb.ai/luiscostigan/house-price-prediction/sweeps/e8odal49\" target=\"_blank\">https://wandb.ai/luiscostigan/house-price-prediction/sweeps/e8odal49</a>"
      ],
      "text/plain": [
       "<IPython.core.display.HTML object>"
      ]
     },
     "metadata": {},
     "output_type": "display_data"
    },
    {
     "name": "stdout",
     "output_type": "stream",
     "text": [
      "37/37 [==============================] - 0s 4ms/step - loss: 0.1646 - root_mean_squared_error: 0.1801\n",
      "Score for fold 4: loss of 0.16459020972251892; root_mean_squared_error of 0.18012253940105438\n",
      "------------------------------------------------------------------------\n",
      "Score per fold\n",
      "------------------------------------------------------------------------\n",
      "> Fold 1 - Loss: 0.24806281924247742 - RMSE: 0.2643369734287262\n",
      "------------------------------------------------------------------------\n",
      "------------------------------------------------------------------------\n",
      "> Fold 2 - Loss: 0.23857484757900238 - RMSE: 0.2466297745704651\n",
      "------------------------------------------------------------------------\n",
      "------------------------------------------------------------------------\n",
      "> Fold 3 - Loss: 0.24032814800739288 - RMSE: 0.24469833076000214\n",
      "------------------------------------------------------------------------\n",
      "------------------------------------------------------------------------\n",
      "> Fold 4 - Loss: 0.16459020972251892 - RMSE: 0.18012253940105438\n",
      "------------------------------------------------------------------------\n",
      "Average scores for all folds:\n",
      "> RMSE: 0.23394690454006195 (+- 0.03200416741475197)\n",
      "> Loss: 0.2228890061378479\n",
      "------------------------------------------------------------------------\n",
      "\n"
     ]
    },
    {
     "data": {
      "text/html": [
       "Waiting for W&B process to finish... <strong style=\"color:green\">(success).</strong>"
      ],
      "text/plain": [
       "<IPython.core.display.HTML object>"
      ]
     },
     "metadata": {},
     "output_type": "display_data"
    },
    {
     "data": {
      "application/vnd.jupyter.widget-view+json": {
       "model_id": "60d5031dc1e74ad284cb9dc2585882fe",
       "version_major": 2,
       "version_minor": 0
      },
      "text/plain": [
       "VBox(children=(Label(value='1.642 MB of 62.776 MB uploaded (0.000 MB deduped)\\r'), FloatProgress(value=0.02615…"
      ]
     },
     "metadata": {},
     "output_type": "display_data"
    },
    {
     "data": {
      "text/html": [
       "<style>\n",
       "    table.wandb td:nth-child(1) { padding: 0 10px; text-align: right }\n",
       "    .wandb-row { display: flex; flex-direction: row; flex-wrap: wrap; width: 100% }\n",
       "    .wandb-col { display: flex; flex-direction: column; flex-basis: 100%; flex: 1; padding: 10px; }\n",
       "    </style>\n",
       "<div class=\"wandb-row\"><div class=\"wandb-col\"><h3>Run history:</h3><br/><table class=\"wandb\"><tr><td>Mean Validation Loss (all folds)</td><td>▁</td></tr><tr><td>Mean Validation RMSE (all folds)</td><td>▁</td></tr><tr><td>epoch</td><td>▁▁▁▁▂▂▂▂▂▃▃▃▃▃▃▄▄▄▄▄▅▅▅▅▅▅▆▆▆▆▆▆▇▇▇▇▇███</td></tr><tr><td>loss</td><td>█▃▂▂▁▁▁▁▁▁▁▁▁▁▁▁▁▁▁▁▁▁▁▁▁▁▁▁▁▁▁▁▁▁▁▁▁▁▁▁</td></tr><tr><td>root_mean_squared_error</td><td>█▁▁▁▁▁▁▁▁▁▁▁▁▁▁▁▁▁▁▁▁▁▁▁▁▁▁▁▁▁▁▁▁▁▁▁▁▁▁▁</td></tr><tr><td>val_loss</td><td>█▄▂▂▂▁▁▁▁▁▁▁▁▁▁▁▁▁▁▁▁▁▁▁▁▁▁▁▁▁▁▁▁▁▁▁▁▁▁▁</td></tr><tr><td>val_root_mean_squared_error</td><td>█▄▃▆▆▃▃▂▃▃▂▂▂▂▂▂▂▂▃▂▃▂▁▃▂▁▃▁▁▂▁▁▂▂▂▁▂▁▁▁</td></tr></table><br/></div><div class=\"wandb-col\"><h3>Run summary:</h3><br/><table class=\"wandb\"><tr><td>Mean Validation Loss (all folds)</td><td>0.22289</td></tr><tr><td>Mean Validation RMSE (all folds)</td><td>0.23395</td></tr><tr><td>best_epoch</td><td>48</td></tr><tr><td>best_val_loss</td><td>0.15485</td></tr><tr><td>epoch</td><td>49</td></tr><tr><td>loss</td><td>0.21399</td></tr><tr><td>root_mean_squared_error</td><td>0.37261</td></tr><tr><td>val_loss</td><td>0.16459</td></tr><tr><td>val_root_mean_squared_error</td><td>0.18012</td></tr></table><br/></div></div>"
      ],
      "text/plain": [
       "<IPython.core.display.HTML object>"
      ]
     },
     "metadata": {},
     "output_type": "display_data"
    },
    {
     "data": {
      "text/html": [
       "Synced <strong style=\"color:#cdcd00\">noble-sweep-13</strong>: <a href=\"https://wandb.ai/luiscostigan/house-price-prediction/runs/ioo1rzlr\" target=\"_blank\">https://wandb.ai/luiscostigan/house-price-prediction/runs/ioo1rzlr</a><br/>Synced 5 W&B file(s), 0 media file(s), 0 artifact file(s) and 1 other file(s)"
      ],
      "text/plain": [
       "<IPython.core.display.HTML object>"
      ]
     },
     "metadata": {},
     "output_type": "display_data"
    },
    {
     "data": {
      "text/html": [
       "Find logs at: <code>./wandb/run-20220314_040834-ioo1rzlr/logs</code>"
      ],
      "text/plain": [
       "<IPython.core.display.HTML object>"
      ]
     },
     "metadata": {},
     "output_type": "display_data"
    },
    {
     "data": {
      "text/html": [
       "Tracking run with wandb version 0.12.11"
      ],
      "text/plain": [
       "<IPython.core.display.HTML object>"
      ]
     },
     "metadata": {},
     "output_type": "display_data"
    },
    {
     "data": {
      "text/html": [
       "Run data is saved locally in <code>/workspaces/data-science-projects/house-price-prediction/Models/tensorflow/wandb/run-20220314_040907-ioo1rzlr</code>"
      ],
      "text/plain": [
       "<IPython.core.display.HTML object>"
      ]
     },
     "metadata": {},
     "output_type": "display_data"
    },
    {
     "data": {
      "text/html": [
       "Syncing run <strong><a href=\"https://wandb.ai/luiscostigan/house-price-prediction/runs/ioo1rzlr\" target=\"_blank\">noble-sweep-13</a></strong> to <a href=\"https://wandb.ai/luiscostigan/house-price-prediction\" target=\"_blank\">Weights & Biases</a> (<a href=\"https://wandb.me/run\" target=\"_blank\">docs</a>)<br/>Sweep page:  <a href=\"https://wandb.ai/luiscostigan/house-price-prediction/sweeps/e8odal49\" target=\"_blank\">https://wandb.ai/luiscostigan/house-price-prediction/sweeps/e8odal49</a>"
      ],
      "text/plain": [
       "<IPython.core.display.HTML object>"
      ]
     },
     "metadata": {},
     "output_type": "display_data"
    },
    {
     "name": "stdout",
     "output_type": "stream",
     "text": [
      "37/37 [==============================] - 0s 3ms/step - loss: 0.1821 - root_mean_squared_error: 0.2092\n",
      "Score for fold 5: loss of 0.1820698082447052; root_mean_squared_error of 0.20922258496284485\n",
      "------------------------------------------------------------------------\n",
      "Score per fold\n",
      "------------------------------------------------------------------------\n",
      "> Fold 1 - Loss: 0.24806281924247742 - RMSE: 0.2643369734287262\n",
      "------------------------------------------------------------------------\n",
      "------------------------------------------------------------------------\n",
      "> Fold 2 - Loss: 0.23857484757900238 - RMSE: 0.2466297745704651\n",
      "------------------------------------------------------------------------\n",
      "------------------------------------------------------------------------\n",
      "> Fold 3 - Loss: 0.24032814800739288 - RMSE: 0.24469833076000214\n",
      "------------------------------------------------------------------------\n",
      "------------------------------------------------------------------------\n",
      "> Fold 4 - Loss: 0.16459020972251892 - RMSE: 0.18012253940105438\n",
      "------------------------------------------------------------------------\n",
      "------------------------------------------------------------------------\n",
      "> Fold 5 - Loss: 0.1820698082447052 - RMSE: 0.20922258496284485\n",
      "------------------------------------------------------------------------\n",
      "Average scores for all folds:\n",
      "> RMSE: 0.22900204062461854 (+- 0.030285641847221847)\n",
      "> Loss: 0.21472516655921936\n",
      "------------------------------------------------------------------------\n",
      "\n"
     ]
    },
    {
     "data": {
      "text/html": [
       "Waiting for W&B process to finish... <strong style=\"color:green\">(success).</strong>"
      ],
      "text/plain": [
       "<IPython.core.display.HTML object>"
      ]
     },
     "metadata": {},
     "output_type": "display_data"
    },
    {
     "data": {
      "application/vnd.jupyter.widget-view+json": {
       "model_id": "bc32685d656a4ab0bf1766df603de75b",
       "version_major": 2,
       "version_minor": 0
      },
      "text/plain": [
       "VBox(children=(Label(value='1.665 MB of 62.776 MB uploaded (0.000 MB deduped)\\r'), FloatProgress(value=0.02652…"
      ]
     },
     "metadata": {},
     "output_type": "display_data"
    },
    {
     "data": {
      "text/html": [
       "<style>\n",
       "    table.wandb td:nth-child(1) { padding: 0 10px; text-align: right }\n",
       "    .wandb-row { display: flex; flex-direction: row; flex-wrap: wrap; width: 100% }\n",
       "    .wandb-col { display: flex; flex-direction: column; flex-basis: 100%; flex: 1; padding: 10px; }\n",
       "    </style>\n",
       "<div class=\"wandb-row\"><div class=\"wandb-col\"><h3>Run history:</h3><br/><table class=\"wandb\"><tr><td>Mean Validation Loss (all folds)</td><td>▁</td></tr><tr><td>Mean Validation RMSE (all folds)</td><td>▁</td></tr><tr><td>epoch</td><td>▁▁▁▁▂▂▂▂▂▃▃▃▃▃▃▄▄▄▄▄▅▅▅▅▅▅▆▆▆▆▆▆▇▇▇▇▇███</td></tr><tr><td>loss</td><td>█▃▂▁▁▁▁▁▁▁▁▁▁▁▁▁▁▁▁▁▁▁▁▁▁▁▁▁▁▁▁▁▁▁▁▁▁▁▁▁</td></tr><tr><td>root_mean_squared_error</td><td>█▁▁▁▁▁▁▁▁▁▁▁▁▁▁▁▁▁▁▁▁▁▁▁▁▁▁▁▁▁▁▁▁▁▁▁▁▁▁▁</td></tr><tr><td>val_loss</td><td>█▃▃▂▁▁▁▂▁▁▁▁▂▁▁▁▁▁▁▁▁▁▁▁▁▁▁▁▁▁▁▁▁▁▁▁▁▁▁▁</td></tr><tr><td>val_root_mean_squared_error</td><td>█▃▄▂▂▂▂▃▂▃▂▂▄▂▂▃▁▁▁▂▁▃▁▁▂▁▁▂▁▁▁▁▁▁▁▁▁▂▁▁</td></tr></table><br/></div><div class=\"wandb-col\"><h3>Run summary:</h3><br/><table class=\"wandb\"><tr><td>Mean Validation Loss (all folds)</td><td>0.21473</td></tr><tr><td>Mean Validation RMSE (all folds)</td><td>0.229</td></tr><tr><td>best_epoch</td><td>48</td></tr><tr><td>best_val_loss</td><td>0.1783</td></tr><tr><td>epoch</td><td>49</td></tr><tr><td>loss</td><td>0.30063</td></tr><tr><td>root_mean_squared_error</td><td>0.38441</td></tr><tr><td>val_loss</td><td>0.18207</td></tr><tr><td>val_root_mean_squared_error</td><td>0.20922</td></tr></table><br/></div></div>"
      ],
      "text/plain": [
       "<IPython.core.display.HTML object>"
      ]
     },
     "metadata": {},
     "output_type": "display_data"
    },
    {
     "data": {
      "text/html": [
       "Synced <strong style=\"color:#cdcd00\">noble-sweep-13</strong>: <a href=\"https://wandb.ai/luiscostigan/house-price-prediction/runs/ioo1rzlr\" target=\"_blank\">https://wandb.ai/luiscostigan/house-price-prediction/runs/ioo1rzlr</a><br/>Synced 5 W&B file(s), 0 media file(s), 0 artifact file(s) and 1 other file(s)"
      ],
      "text/plain": [
       "<IPython.core.display.HTML object>"
      ]
     },
     "metadata": {},
     "output_type": "display_data"
    },
    {
     "data": {
      "text/html": [
       "Find logs at: <code>./wandb/run-20220314_040907-ioo1rzlr/logs</code>"
      ],
      "text/plain": [
       "<IPython.core.display.HTML object>"
      ]
     },
     "metadata": {},
     "output_type": "display_data"
    },
    {
     "name": "stderr",
     "output_type": "stream",
     "text": [
      "\u001b[34m\u001b[1mwandb\u001b[0m: Agent Starting Run: huhkbn5q with config:\n",
      "\u001b[34m\u001b[1mwandb\u001b[0m: \tbatch_size: 8\n",
      "\u001b[34m\u001b[1mwandb\u001b[0m: \tbias1: 0.001\n",
      "\u001b[34m\u001b[1mwandb\u001b[0m: \tbias2: 0.01\n",
      "\u001b[34m\u001b[1mwandb\u001b[0m: \tdense1: 2048\n",
      "\u001b[34m\u001b[1mwandb\u001b[0m: \tdense2: 1024\n",
      "\u001b[34m\u001b[1mwandb\u001b[0m: \tdropout1: 0.05950566356262024\n",
      "\u001b[34m\u001b[1mwandb\u001b[0m: \tepochs: 100\n",
      "\u001b[34m\u001b[1mwandb\u001b[0m: \tlearning_rate: 0.0001\n"
     ]
    },
    {
     "data": {
      "text/html": [
       "Tracking run with wandb version 0.12.11"
      ],
      "text/plain": [
       "<IPython.core.display.HTML object>"
      ]
     },
     "metadata": {},
     "output_type": "display_data"
    },
    {
     "data": {
      "text/html": [
       "Run data is saved locally in <code>/workspaces/data-science-projects/house-price-prediction/Models/tensorflow/wandb/run-20220314_040950-huhkbn5q</code>"
      ],
      "text/plain": [
       "<IPython.core.display.HTML object>"
      ]
     },
     "metadata": {},
     "output_type": "display_data"
    },
    {
     "data": {
      "text/html": [
       "Syncing run <strong><a href=\"https://wandb.ai/luiscostigan/house-price-prediction/runs/huhkbn5q\" target=\"_blank\">golden-sweep-14</a></strong> to <a href=\"https://wandb.ai/luiscostigan/house-price-prediction\" target=\"_blank\">Weights & Biases</a> (<a href=\"https://wandb.me/run\" target=\"_blank\">docs</a>)<br/>Sweep page:  <a href=\"https://wandb.ai/luiscostigan/house-price-prediction/sweeps/e8odal49\" target=\"_blank\">https://wandb.ai/luiscostigan/house-price-prediction/sweeps/e8odal49</a>"
      ],
      "text/plain": [
       "<IPython.core.display.HTML object>"
      ]
     },
     "metadata": {},
     "output_type": "display_data"
    },
    {
     "name": "stdout",
     "output_type": "stream",
     "text": [
      "37/37 [==============================] - 0s 4ms/step - loss: 0.3687 - root_mean_squared_error: 0.2996\n",
      "Score for fold 1: loss of 0.36868149042129517; root_mean_squared_error of 0.29961201548576355\n",
      "------------------------------------------------------------------------\n",
      "Score per fold\n",
      "------------------------------------------------------------------------\n",
      "> Fold 1 - Loss: 0.36868149042129517 - RMSE: 0.29961201548576355\n",
      "------------------------------------------------------------------------\n",
      "Average scores for all folds:\n",
      "> RMSE: 0.29961201548576355 (+- 0.0)\n",
      "> Loss: 0.36868149042129517\n",
      "------------------------------------------------------------------------\n",
      "\n"
     ]
    },
    {
     "data": {
      "text/html": [
       "Waiting for W&B process to finish... <strong style=\"color:green\">(success).</strong>"
      ],
      "text/plain": [
       "<IPython.core.display.HTML object>"
      ]
     },
     "metadata": {},
     "output_type": "display_data"
    },
    {
     "data": {
      "application/vnd.jupyter.widget-view+json": {
       "model_id": "6d5be0c32db949a5951aff12e92fb372",
       "version_major": 2,
       "version_minor": 0
      },
      "text/plain": [
       "VBox(children=(Label(value='2.735 MB of 31.417 MB uploaded (0.000 MB deduped)\\r'), FloatProgress(value=0.08706…"
      ]
     },
     "metadata": {},
     "output_type": "display_data"
    },
    {
     "data": {
      "text/html": [
       "<style>\n",
       "    table.wandb td:nth-child(1) { padding: 0 10px; text-align: right }\n",
       "    .wandb-row { display: flex; flex-direction: row; flex-wrap: wrap; width: 100% }\n",
       "    .wandb-col { display: flex; flex-direction: column; flex-basis: 100%; flex: 1; padding: 10px; }\n",
       "    </style>\n",
       "<div class=\"wandb-row\"><div class=\"wandb-col\"><h3>Run history:</h3><br/><table class=\"wandb\"><tr><td>Mean Validation Loss (all folds)</td><td>▁</td></tr><tr><td>Mean Validation RMSE (all folds)</td><td>▁</td></tr><tr><td>epoch</td><td>▁▁▁▁▂▂▂▂▂▃▃▃▃▃▃▄▄▄▄▄▅▅▅▅▅▅▆▆▆▆▆▇▇▇▇▇▇███</td></tr><tr><td>loss</td><td>█▄▂▂▂▂▁▁▁▁▁▁▁▁▁▁▁▁▁▁▁▁▁▁▁▁▁▁▁▁▁▁▁▁▁▁▁▁▁▁</td></tr><tr><td>root_mean_squared_error</td><td>█▂▁▁▁▁▁▁▁▁▁▁▁▁▁▁▁▁▁▁▁▁▁▁▁▁▁▁▁▁▁▁▁▁▁▁▁▁▁▁</td></tr><tr><td>val_loss</td><td>█▄▃▂▂▂▂▂▁▁▁▁▁▁▁▁▁▁▁▁▁▁▁▁▁▁▁▁▁▁▁▁▁▁▁▁▁▁▁▁</td></tr><tr><td>val_root_mean_squared_error</td><td>█▅▆▄▇▂▂▄▂▂▅▂▅▆▂▂▂▂▂▃▂▂▂▃▄▄▃▁▁▂▂▃▂▂▂▃▄▃▁▅</td></tr></table><br/></div><div class=\"wandb-col\"><h3>Run summary:</h3><br/><table class=\"wandb\"><tr><td>Mean Validation Loss (all folds)</td><td>0.36868</td></tr><tr><td>Mean Validation RMSE (all folds)</td><td>0.29961</td></tr><tr><td>best_epoch</td><td>98</td></tr><tr><td>best_val_loss</td><td>0.18127</td></tr><tr><td>epoch</td><td>99</td></tr><tr><td>loss</td><td>0.24722</td></tr><tr><td>root_mean_squared_error</td><td>0.19902</td></tr><tr><td>val_loss</td><td>0.36868</td></tr><tr><td>val_root_mean_squared_error</td><td>0.29961</td></tr></table><br/></div></div>"
      ],
      "text/plain": [
       "<IPython.core.display.HTML object>"
      ]
     },
     "metadata": {},
     "output_type": "display_data"
    },
    {
     "data": {
      "text/html": [
       "Synced <strong style=\"color:#cdcd00\">golden-sweep-14</strong>: <a href=\"https://wandb.ai/luiscostigan/house-price-prediction/runs/huhkbn5q\" target=\"_blank\">https://wandb.ai/luiscostigan/house-price-prediction/runs/huhkbn5q</a><br/>Synced 5 W&B file(s), 0 media file(s), 0 artifact file(s) and 1 other file(s)"
      ],
      "text/plain": [
       "<IPython.core.display.HTML object>"
      ]
     },
     "metadata": {},
     "output_type": "display_data"
    },
    {
     "data": {
      "text/html": [
       "Find logs at: <code>./wandb/run-20220314_040950-huhkbn5q/logs</code>"
      ],
      "text/plain": [
       "<IPython.core.display.HTML object>"
      ]
     },
     "metadata": {},
     "output_type": "display_data"
    },
    {
     "data": {
      "text/html": [
       "Tracking run with wandb version 0.12.11"
      ],
      "text/plain": [
       "<IPython.core.display.HTML object>"
      ]
     },
     "metadata": {},
     "output_type": "display_data"
    },
    {
     "data": {
      "text/html": [
       "Run data is saved locally in <code>/workspaces/data-science-projects/house-price-prediction/Models/tensorflow/wandb/run-20220314_041104-huhkbn5q</code>"
      ],
      "text/plain": [
       "<IPython.core.display.HTML object>"
      ]
     },
     "metadata": {},
     "output_type": "display_data"
    },
    {
     "data": {
      "text/html": [
       "Syncing run <strong><a href=\"https://wandb.ai/luiscostigan/house-price-prediction/runs/huhkbn5q\" target=\"_blank\">golden-sweep-14</a></strong> to <a href=\"https://wandb.ai/luiscostigan/house-price-prediction\" target=\"_blank\">Weights & Biases</a> (<a href=\"https://wandb.me/run\" target=\"_blank\">docs</a>)<br/>Sweep page:  <a href=\"https://wandb.ai/luiscostigan/house-price-prediction/sweeps/e8odal49\" target=\"_blank\">https://wandb.ai/luiscostigan/house-price-prediction/sweeps/e8odal49</a>"
      ],
      "text/plain": [
       "<IPython.core.display.HTML object>"
      ]
     },
     "metadata": {},
     "output_type": "display_data"
    },
    {
     "name": "stdout",
     "output_type": "stream",
     "text": [
      "37/37 [==============================] - 0s 3ms/step - loss: 0.1846 - root_mean_squared_error: 0.1280\n",
      "Score for fold 2: loss of 0.18455876410007477; root_mean_squared_error of 0.12804239988327026\n",
      "------------------------------------------------------------------------\n",
      "Score per fold\n",
      "------------------------------------------------------------------------\n",
      "> Fold 1 - Loss: 0.36868149042129517 - RMSE: 0.29961201548576355\n",
      "------------------------------------------------------------------------\n",
      "------------------------------------------------------------------------\n",
      "> Fold 2 - Loss: 0.18455876410007477 - RMSE: 0.12804239988327026\n",
      "------------------------------------------------------------------------\n",
      "Average scores for all folds:\n",
      "> RMSE: 0.2138272076845169 (+- 0.08578480780124664)\n",
      "> Loss: 0.27662012726068497\n",
      "------------------------------------------------------------------------\n",
      "\n"
     ]
    },
    {
     "data": {
      "text/html": [
       "Waiting for W&B process to finish... <strong style=\"color:green\">(success).</strong>"
      ],
      "text/plain": [
       "<IPython.core.display.HTML object>"
      ]
     },
     "metadata": {},
     "output_type": "display_data"
    },
    {
     "data": {
      "application/vnd.jupyter.widget-view+json": {
       "model_id": "7e1de49193964d47af317a32ddc2b633",
       "version_major": 2,
       "version_minor": 0
      },
      "text/plain": [
       "VBox(children=(Label(value='2.399 MB of 31.417 MB uploaded (0.000 MB deduped)\\r'), FloatProgress(value=0.07637…"
      ]
     },
     "metadata": {},
     "output_type": "display_data"
    },
    {
     "data": {
      "text/html": [
       "<style>\n",
       "    table.wandb td:nth-child(1) { padding: 0 10px; text-align: right }\n",
       "    .wandb-row { display: flex; flex-direction: row; flex-wrap: wrap; width: 100% }\n",
       "    .wandb-col { display: flex; flex-direction: column; flex-basis: 100%; flex: 1; padding: 10px; }\n",
       "    </style>\n",
       "<div class=\"wandb-row\"><div class=\"wandb-col\"><h3>Run history:</h3><br/><table class=\"wandb\"><tr><td>Mean Validation Loss (all folds)</td><td>▁</td></tr><tr><td>Mean Validation RMSE (all folds)</td><td>▁</td></tr><tr><td>epoch</td><td>▁▁▁▁▂▂▂▂▂▃▃▃▃▃▃▄▄▄▄▄▅▅▅▅▅▅▆▆▆▆▆▇▇▇▇▇▇███</td></tr><tr><td>loss</td><td>█▄▂▂▂▂▁▁▁▁▁▁▁▁▁▁▁▁▁▁▁▁▁▁▁▁▁▁▁▁▁▁▁▁▁▁▁▁▁▁</td></tr><tr><td>root_mean_squared_error</td><td>█▁▁▁▁▁▁▁▁▁▁▁▁▁▁▁▁▁▁▁▁▁▁▁▁▁▁▁▁▁▁▁▁▁▁▁▁▁▁▁</td></tr><tr><td>val_loss</td><td>█▄▃▂▂▂▂▂▁▁▁▁▁▁▁▁▁▁▁▁▁▁▁▁▁▁▁▁▁▁▁▁▁▁▁▁▁▁▁▁</td></tr><tr><td>val_root_mean_squared_error</td><td>█▄▄▃▂▂▂▂▂▃▃▂▂▂▂▂▃▂▂▂▂▂▁▂▂▂▂▄▁▂▂▂▁▂▃▁▁▃▂▁</td></tr></table><br/></div><div class=\"wandb-col\"><h3>Run summary:</h3><br/><table class=\"wandb\"><tr><td>Mean Validation Loss (all folds)</td><td>0.27662</td></tr><tr><td>Mean Validation RMSE (all folds)</td><td>0.21383</td></tr><tr><td>best_epoch</td><td>94</td></tr><tr><td>best_val_loss</td><td>0.17436</td></tr><tr><td>epoch</td><td>99</td></tr><tr><td>loss</td><td>0.25038</td></tr><tr><td>root_mean_squared_error</td><td>0.19833</td></tr><tr><td>val_loss</td><td>0.18456</td></tr><tr><td>val_root_mean_squared_error</td><td>0.12804</td></tr></table><br/></div></div>"
      ],
      "text/plain": [
       "<IPython.core.display.HTML object>"
      ]
     },
     "metadata": {},
     "output_type": "display_data"
    },
    {
     "data": {
      "text/html": [
       "Synced <strong style=\"color:#cdcd00\">golden-sweep-14</strong>: <a href=\"https://wandb.ai/luiscostigan/house-price-prediction/runs/huhkbn5q\" target=\"_blank\">https://wandb.ai/luiscostigan/house-price-prediction/runs/huhkbn5q</a><br/>Synced 5 W&B file(s), 0 media file(s), 0 artifact file(s) and 1 other file(s)"
      ],
      "text/plain": [
       "<IPython.core.display.HTML object>"
      ]
     },
     "metadata": {},
     "output_type": "display_data"
    },
    {
     "data": {
      "text/html": [
       "Find logs at: <code>./wandb/run-20220314_041104-huhkbn5q/logs</code>"
      ],
      "text/plain": [
       "<IPython.core.display.HTML object>"
      ]
     },
     "metadata": {},
     "output_type": "display_data"
    },
    {
     "data": {
      "text/html": [
       "Tracking run with wandb version 0.12.11"
      ],
      "text/plain": [
       "<IPython.core.display.HTML object>"
      ]
     },
     "metadata": {},
     "output_type": "display_data"
    },
    {
     "data": {
      "text/html": [
       "Run data is saved locally in <code>/workspaces/data-science-projects/house-price-prediction/Models/tensorflow/wandb/run-20220314_041220-huhkbn5q</code>"
      ],
      "text/plain": [
       "<IPython.core.display.HTML object>"
      ]
     },
     "metadata": {},
     "output_type": "display_data"
    },
    {
     "data": {
      "text/html": [
       "Syncing run <strong><a href=\"https://wandb.ai/luiscostigan/house-price-prediction/runs/huhkbn5q\" target=\"_blank\">golden-sweep-14</a></strong> to <a href=\"https://wandb.ai/luiscostigan/house-price-prediction\" target=\"_blank\">Weights & Biases</a> (<a href=\"https://wandb.me/run\" target=\"_blank\">docs</a>)<br/>Sweep page:  <a href=\"https://wandb.ai/luiscostigan/house-price-prediction/sweeps/e8odal49\" target=\"_blank\">https://wandb.ai/luiscostigan/house-price-prediction/sweeps/e8odal49</a>"
      ],
      "text/plain": [
       "<IPython.core.display.HTML object>"
      ]
     },
     "metadata": {},
     "output_type": "display_data"
    },
    {
     "name": "stdout",
     "output_type": "stream",
     "text": [
      "37/37 [==============================] - 0s 3ms/step - loss: 0.2216 - root_mean_squared_error: 0.1616\n",
      "Score for fold 3: loss of 0.2216489613056183; root_mean_squared_error of 0.1616443395614624\n",
      "------------------------------------------------------------------------\n",
      "Score per fold\n",
      "------------------------------------------------------------------------\n",
      "> Fold 1 - Loss: 0.36868149042129517 - RMSE: 0.29961201548576355\n",
      "------------------------------------------------------------------------\n",
      "------------------------------------------------------------------------\n",
      "> Fold 2 - Loss: 0.18455876410007477 - RMSE: 0.12804239988327026\n",
      "------------------------------------------------------------------------\n",
      "------------------------------------------------------------------------\n",
      "> Fold 3 - Loss: 0.2216489613056183 - RMSE: 0.1616443395614624\n",
      "------------------------------------------------------------------------\n",
      "Average scores for all folds:\n",
      "> RMSE: 0.1964329183101654 (+- 0.07423708488355785)\n",
      "> Loss: 0.2582964052756627\n",
      "------------------------------------------------------------------------\n",
      "\n"
     ]
    },
    {
     "data": {
      "text/html": [
       "Waiting for W&B process to finish... <strong style=\"color:green\">(success).</strong>"
      ],
      "text/plain": [
       "<IPython.core.display.HTML object>"
      ]
     },
     "metadata": {},
     "output_type": "display_data"
    },
    {
     "data": {
      "application/vnd.jupyter.widget-view+json": {
       "model_id": "7c2e4cccb2c04cd2a5d8f7f39be4bdd2",
       "version_major": 2,
       "version_minor": 0
      },
      "text/plain": [
       "VBox(children=(Label(value='3.868 MB of 31.417 MB uploaded (0.000 MB deduped)\\r'), FloatProgress(value=0.12312…"
      ]
     },
     "metadata": {},
     "output_type": "display_data"
    },
    {
     "data": {
      "text/html": [
       "<style>\n",
       "    table.wandb td:nth-child(1) { padding: 0 10px; text-align: right }\n",
       "    .wandb-row { display: flex; flex-direction: row; flex-wrap: wrap; width: 100% }\n",
       "    .wandb-col { display: flex; flex-direction: column; flex-basis: 100%; flex: 1; padding: 10px; }\n",
       "    </style>\n",
       "<div class=\"wandb-row\"><div class=\"wandb-col\"><h3>Run history:</h3><br/><table class=\"wandb\"><tr><td>Mean Validation Loss (all folds)</td><td>▁</td></tr><tr><td>Mean Validation RMSE (all folds)</td><td>▁</td></tr><tr><td>epoch</td><td>▁▁▁▁▂▂▂▂▂▃▃▃▃▃▃▄▄▄▄▄▅▅▅▅▅▅▆▆▆▆▆▇▇▇▇▇▇███</td></tr><tr><td>loss</td><td>█▄▂▂▂▂▁▁▁▁▁▁▁▁▁▁▁▁▁▁▁▁▁▁▁▁▁▁▁▁▁▁▁▁▁▁▁▁▁▁</td></tr><tr><td>root_mean_squared_error</td><td>█▁▁▁▁▁▁▁▁▁▁▁▁▁▁▁▁▁▁▁▁▁▁▁▁▁▁▁▁▁▁▁▁▁▁▁▁▁▁▁</td></tr><tr><td>val_loss</td><td>█▄▃▂▂▂▂▂▁▁▁▁▁▁▁▁▁▁▁▁▁▁▁▁▁▁▁▁▁▁▁▁▁▁▁▁▁▁▁▁</td></tr><tr><td>val_root_mean_squared_error</td><td>█▄▃▃▄▃▂▂▄▂▂▂▂▂▁▂▁▂▂▁▂▃▁▁▂▂▂▁▁▁▁▁▁▁▂▂▂▂▁▂</td></tr></table><br/></div><div class=\"wandb-col\"><h3>Run summary:</h3><br/><table class=\"wandb\"><tr><td>Mean Validation Loss (all folds)</td><td>0.2583</td></tr><tr><td>Mean Validation RMSE (all folds)</td><td>0.19643</td></tr><tr><td>best_epoch</td><td>94</td></tr><tr><td>best_val_loss</td><td>0.1742</td></tr><tr><td>epoch</td><td>99</td></tr><tr><td>loss</td><td>0.24994</td></tr><tr><td>root_mean_squared_error</td><td>0.19733</td></tr><tr><td>val_loss</td><td>0.22165</td></tr><tr><td>val_root_mean_squared_error</td><td>0.16164</td></tr></table><br/></div></div>"
      ],
      "text/plain": [
       "<IPython.core.display.HTML object>"
      ]
     },
     "metadata": {},
     "output_type": "display_data"
    },
    {
     "data": {
      "text/html": [
       "Synced <strong style=\"color:#cdcd00\">golden-sweep-14</strong>: <a href=\"https://wandb.ai/luiscostigan/house-price-prediction/runs/huhkbn5q\" target=\"_blank\">https://wandb.ai/luiscostigan/house-price-prediction/runs/huhkbn5q</a><br/>Synced 5 W&B file(s), 0 media file(s), 0 artifact file(s) and 1 other file(s)"
      ],
      "text/plain": [
       "<IPython.core.display.HTML object>"
      ]
     },
     "metadata": {},
     "output_type": "display_data"
    },
    {
     "data": {
      "text/html": [
       "Find logs at: <code>./wandb/run-20220314_041220-huhkbn5q/logs</code>"
      ],
      "text/plain": [
       "<IPython.core.display.HTML object>"
      ]
     },
     "metadata": {},
     "output_type": "display_data"
    },
    {
     "data": {
      "text/html": [
       "Tracking run with wandb version 0.12.11"
      ],
      "text/plain": [
       "<IPython.core.display.HTML object>"
      ]
     },
     "metadata": {},
     "output_type": "display_data"
    },
    {
     "data": {
      "text/html": [
       "Run data is saved locally in <code>/workspaces/data-science-projects/house-price-prediction/Models/tensorflow/wandb/run-20220314_041336-huhkbn5q</code>"
      ],
      "text/plain": [
       "<IPython.core.display.HTML object>"
      ]
     },
     "metadata": {},
     "output_type": "display_data"
    },
    {
     "data": {
      "text/html": [
       "Syncing run <strong><a href=\"https://wandb.ai/luiscostigan/house-price-prediction/runs/huhkbn5q\" target=\"_blank\">golden-sweep-14</a></strong> to <a href=\"https://wandb.ai/luiscostigan/house-price-prediction\" target=\"_blank\">Weights & Biases</a> (<a href=\"https://wandb.me/run\" target=\"_blank\">docs</a>)<br/>Sweep page:  <a href=\"https://wandb.ai/luiscostigan/house-price-prediction/sweeps/e8odal49\" target=\"_blank\">https://wandb.ai/luiscostigan/house-price-prediction/sweeps/e8odal49</a>"
      ],
      "text/plain": [
       "<IPython.core.display.HTML object>"
      ]
     },
     "metadata": {},
     "output_type": "display_data"
    },
    {
     "name": "stdout",
     "output_type": "stream",
     "text": [
      "37/37 [==============================] - 0s 4ms/step - loss: 0.3037 - root_mean_squared_error: 0.2348\n",
      "Score for fold 4: loss of 0.30373141169548035; root_mean_squared_error of 0.23475439846515656\n",
      "------------------------------------------------------------------------\n",
      "Score per fold\n",
      "------------------------------------------------------------------------\n",
      "> Fold 1 - Loss: 0.36868149042129517 - RMSE: 0.29961201548576355\n",
      "------------------------------------------------------------------------\n",
      "------------------------------------------------------------------------\n",
      "> Fold 2 - Loss: 0.18455876410007477 - RMSE: 0.12804239988327026\n",
      "------------------------------------------------------------------------\n",
      "------------------------------------------------------------------------\n",
      "> Fold 3 - Loss: 0.2216489613056183 - RMSE: 0.1616443395614624\n",
      "------------------------------------------------------------------------\n",
      "------------------------------------------------------------------------\n",
      "> Fold 4 - Loss: 0.30373141169548035 - RMSE: 0.23475439846515656\n",
      "------------------------------------------------------------------------\n",
      "Average scores for all folds:\n",
      "> RMSE: 0.2060132883489132 (+- 0.06639811028368532)\n",
      "> Loss: 0.26965515688061714\n",
      "------------------------------------------------------------------------\n",
      "\n"
     ]
    },
    {
     "data": {
      "text/html": [
       "Waiting for W&B process to finish... <strong style=\"color:green\">(success).</strong>"
      ],
      "text/plain": [
       "<IPython.core.display.HTML object>"
      ]
     },
     "metadata": {},
     "output_type": "display_data"
    },
    {
     "data": {
      "application/vnd.jupyter.widget-view+json": {
       "model_id": "7a57ececb38745dcbd78464c2fb7ad79",
       "version_major": 2,
       "version_minor": 0
      },
      "text/plain": [
       "VBox(children=(Label(value='1.665 MB of 31.417 MB uploaded (0.000 MB deduped)\\r'), FloatProgress(value=0.05299…"
      ]
     },
     "metadata": {},
     "output_type": "display_data"
    },
    {
     "data": {
      "text/html": [
       "<style>\n",
       "    table.wandb td:nth-child(1) { padding: 0 10px; text-align: right }\n",
       "    .wandb-row { display: flex; flex-direction: row; flex-wrap: wrap; width: 100% }\n",
       "    .wandb-col { display: flex; flex-direction: column; flex-basis: 100%; flex: 1; padding: 10px; }\n",
       "    </style>\n",
       "<div class=\"wandb-row\"><div class=\"wandb-col\"><h3>Run history:</h3><br/><table class=\"wandb\"><tr><td>Mean Validation Loss (all folds)</td><td>▁</td></tr><tr><td>Mean Validation RMSE (all folds)</td><td>▁</td></tr><tr><td>epoch</td><td>▁▁▁▁▂▂▂▂▂▃▃▃▃▃▃▄▄▄▄▄▅▅▅▅▅▅▆▆▆▆▆▇▇▇▇▇▇███</td></tr><tr><td>loss</td><td>█▄▂▂▂▂▁▁▁▁▁▁▁▁▁▁▁▁▁▁▁▁▁▁▁▁▁▁▁▁▁▁▁▁▁▁▁▁▁▁</td></tr><tr><td>root_mean_squared_error</td><td>█▁▁▁▁▁▁▁▁▁▁▁▁▁▁▁▁▁▁▁▁▁▁▁▁▁▁▁▁▁▁▁▁▁▁▁▁▁▁▁</td></tr><tr><td>val_loss</td><td>█▄▃▂▂▂▂▂▁▁▁▁▁▁▁▁▁▁▁▁▁▁▁▁▁▁▁▁▁▁▁▁▁▁▁▁▁▁▁▁</td></tr><tr><td>val_root_mean_squared_error</td><td>█▃▃▃▂▂▂▃▂▃▂▂▂▆▂▁▂▂▃▁▁▁▁▁▁▁▂▁▁▃▁▁▁▁▁▂▂▁▂▃</td></tr></table><br/></div><div class=\"wandb-col\"><h3>Run summary:</h3><br/><table class=\"wandb\"><tr><td>Mean Validation Loss (all folds)</td><td>0.26966</td></tr><tr><td>Mean Validation RMSE (all folds)</td><td>0.20601</td></tr><tr><td>best_epoch</td><td>86</td></tr><tr><td>best_val_loss</td><td>0.19828</td></tr><tr><td>epoch</td><td>99</td></tr><tr><td>loss</td><td>0.25583</td></tr><tr><td>root_mean_squared_error</td><td>0.20588</td></tr><tr><td>val_loss</td><td>0.30373</td></tr><tr><td>val_root_mean_squared_error</td><td>0.23475</td></tr></table><br/></div></div>"
      ],
      "text/plain": [
       "<IPython.core.display.HTML object>"
      ]
     },
     "metadata": {},
     "output_type": "display_data"
    },
    {
     "data": {
      "text/html": [
       "Synced <strong style=\"color:#cdcd00\">golden-sweep-14</strong>: <a href=\"https://wandb.ai/luiscostigan/house-price-prediction/runs/huhkbn5q\" target=\"_blank\">https://wandb.ai/luiscostigan/house-price-prediction/runs/huhkbn5q</a><br/>Synced 5 W&B file(s), 0 media file(s), 0 artifact file(s) and 1 other file(s)"
      ],
      "text/plain": [
       "<IPython.core.display.HTML object>"
      ]
     },
     "metadata": {},
     "output_type": "display_data"
    },
    {
     "data": {
      "text/html": [
       "Find logs at: <code>./wandb/run-20220314_041336-huhkbn5q/logs</code>"
      ],
      "text/plain": [
       "<IPython.core.display.HTML object>"
      ]
     },
     "metadata": {},
     "output_type": "display_data"
    },
    {
     "data": {
      "text/html": [
       "Tracking run with wandb version 0.12.11"
      ],
      "text/plain": [
       "<IPython.core.display.HTML object>"
      ]
     },
     "metadata": {},
     "output_type": "display_data"
    },
    {
     "data": {
      "text/html": [
       "Run data is saved locally in <code>/workspaces/data-science-projects/house-price-prediction/Models/tensorflow/wandb/run-20220314_041456-huhkbn5q</code>"
      ],
      "text/plain": [
       "<IPython.core.display.HTML object>"
      ]
     },
     "metadata": {},
     "output_type": "display_data"
    },
    {
     "data": {
      "text/html": [
       "Syncing run <strong><a href=\"https://wandb.ai/luiscostigan/house-price-prediction/runs/huhkbn5q\" target=\"_blank\">golden-sweep-14</a></strong> to <a href=\"https://wandb.ai/luiscostigan/house-price-prediction\" target=\"_blank\">Weights & Biases</a> (<a href=\"https://wandb.me/run\" target=\"_blank\">docs</a>)<br/>Sweep page:  <a href=\"https://wandb.ai/luiscostigan/house-price-prediction/sweeps/e8odal49\" target=\"_blank\">https://wandb.ai/luiscostigan/house-price-prediction/sweeps/e8odal49</a>"
      ],
      "text/plain": [
       "<IPython.core.display.HTML object>"
      ]
     },
     "metadata": {},
     "output_type": "display_data"
    },
    {
     "name": "stdout",
     "output_type": "stream",
     "text": [
      "37/37 [==============================] - 0s 4ms/step - loss: 0.1855 - root_mean_squared_error: 0.1204\n",
      "Score for fold 5: loss of 0.18550719320774078; root_mean_squared_error of 0.12038405984640121\n",
      "------------------------------------------------------------------------\n",
      "Score per fold\n",
      "------------------------------------------------------------------------\n",
      "> Fold 1 - Loss: 0.36868149042129517 - RMSE: 0.29961201548576355\n",
      "------------------------------------------------------------------------\n",
      "------------------------------------------------------------------------\n",
      "> Fold 2 - Loss: 0.18455876410007477 - RMSE: 0.12804239988327026\n",
      "------------------------------------------------------------------------\n",
      "------------------------------------------------------------------------\n",
      "> Fold 3 - Loss: 0.2216489613056183 - RMSE: 0.1616443395614624\n",
      "------------------------------------------------------------------------\n",
      "------------------------------------------------------------------------\n",
      "> Fold 4 - Loss: 0.30373141169548035 - RMSE: 0.23475439846515656\n",
      "------------------------------------------------------------------------\n",
      "------------------------------------------------------------------------\n",
      "> Fold 5 - Loss: 0.18550719320774078 - RMSE: 0.12038405984640121\n",
      "------------------------------------------------------------------------\n",
      "Average scores for all folds:\n",
      "> RMSE: 0.18888744264841079 (+- 0.06855760791644656)\n",
      "> Loss: 0.25282556414604185\n",
      "------------------------------------------------------------------------\n",
      "\n"
     ]
    },
    {
     "data": {
      "text/html": [
       "Waiting for W&B process to finish... <strong style=\"color:green\">(success).</strong>"
      ],
      "text/plain": [
       "<IPython.core.display.HTML object>"
      ]
     },
     "metadata": {},
     "output_type": "display_data"
    },
    {
     "data": {
      "application/vnd.jupyter.widget-view+json": {
       "model_id": "0630ceeced4f46e3920b7cac7de378af",
       "version_major": 2,
       "version_minor": 0
      },
      "text/plain": [
       "VBox(children=(Label(value='4.595 MB of 31.417 MB uploaded (0.000 MB deduped)\\r'), FloatProgress(value=0.14625…"
      ]
     },
     "metadata": {},
     "output_type": "display_data"
    },
    {
     "data": {
      "text/html": [
       "<style>\n",
       "    table.wandb td:nth-child(1) { padding: 0 10px; text-align: right }\n",
       "    .wandb-row { display: flex; flex-direction: row; flex-wrap: wrap; width: 100% }\n",
       "    .wandb-col { display: flex; flex-direction: column; flex-basis: 100%; flex: 1; padding: 10px; }\n",
       "    </style>\n",
       "<div class=\"wandb-row\"><div class=\"wandb-col\"><h3>Run history:</h3><br/><table class=\"wandb\"><tr><td>Mean Validation Loss (all folds)</td><td>▁</td></tr><tr><td>Mean Validation RMSE (all folds)</td><td>▁</td></tr><tr><td>epoch</td><td>▁▁▁▁▂▂▂▂▂▃▃▃▃▃▃▄▄▄▄▄▅▅▅▅▅▅▆▆▆▆▆▇▇▇▇▇▇███</td></tr><tr><td>loss</td><td>█▄▂▂▂▂▁▁▁▁▁▁▁▁▁▁▁▁▁▁▁▁▁▁▁▁▁▁▁▁▁▁▁▁▁▁▁▁▁▁</td></tr><tr><td>root_mean_squared_error</td><td>█▂▁▁▁▁▁▁▁▁▁▁▁▁▁▁▁▁▁▁▁▁▁▁▁▁▁▁▁▁▁▁▁▁▁▁▁▁▁▁</td></tr><tr><td>val_loss</td><td>█▄▃▂▂▂▂▂▁▁▁▁▁▁▁▁▁▁▁▁▁▁▁▁▁▁▁▁▁▁▁▁▁▁▁▁▁▁▁▁</td></tr><tr><td>val_root_mean_squared_error</td><td>█▅▃▃▃▂▂▂▃▃▄▂▂▂▂▂▅▂▂▂▃▃▂▁▁▂▁▁▁▁▁▁▂▃▃▂▂▁▁▁</td></tr></table><br/></div><div class=\"wandb-col\"><h3>Run summary:</h3><br/><table class=\"wandb\"><tr><td>Mean Validation Loss (all folds)</td><td>0.25283</td></tr><tr><td>Mean Validation RMSE (all folds)</td><td>0.18889</td></tr><tr><td>best_epoch</td><td>93</td></tr><tr><td>best_val_loss</td><td>0.17874</td></tr><tr><td>epoch</td><td>99</td></tr><tr><td>loss</td><td>0.2661</td></tr><tr><td>root_mean_squared_error</td><td>0.21795</td></tr><tr><td>val_loss</td><td>0.18551</td></tr><tr><td>val_root_mean_squared_error</td><td>0.12038</td></tr></table><br/></div></div>"
      ],
      "text/plain": [
       "<IPython.core.display.HTML object>"
      ]
     },
     "metadata": {},
     "output_type": "display_data"
    },
    {
     "data": {
      "text/html": [
       "Synced <strong style=\"color:#cdcd00\">golden-sweep-14</strong>: <a href=\"https://wandb.ai/luiscostigan/house-price-prediction/runs/huhkbn5q\" target=\"_blank\">https://wandb.ai/luiscostigan/house-price-prediction/runs/huhkbn5q</a><br/>Synced 5 W&B file(s), 0 media file(s), 0 artifact file(s) and 1 other file(s)"
      ],
      "text/plain": [
       "<IPython.core.display.HTML object>"
      ]
     },
     "metadata": {},
     "output_type": "display_data"
    },
    {
     "data": {
      "text/html": [
       "Find logs at: <code>./wandb/run-20220314_041456-huhkbn5q/logs</code>"
      ],
      "text/plain": [
       "<IPython.core.display.HTML object>"
      ]
     },
     "metadata": {},
     "output_type": "display_data"
    },
    {
     "name": "stderr",
     "output_type": "stream",
     "text": [
      "\u001b[34m\u001b[1mwandb\u001b[0m: Agent Starting Run: u22irtve with config:\n",
      "\u001b[34m\u001b[1mwandb\u001b[0m: \tbatch_size: 32\n",
      "\u001b[34m\u001b[1mwandb\u001b[0m: \tbias1: 0.001\n",
      "\u001b[34m\u001b[1mwandb\u001b[0m: \tbias2: 0.01\n",
      "\u001b[34m\u001b[1mwandb\u001b[0m: \tdense1: 2048\n",
      "\u001b[34m\u001b[1mwandb\u001b[0m: \tdense2: 2048\n",
      "\u001b[34m\u001b[1mwandb\u001b[0m: \tdropout1: 0.08135223905753919\n",
      "\u001b[34m\u001b[1mwandb\u001b[0m: \tepochs: 150\n",
      "\u001b[34m\u001b[1mwandb\u001b[0m: \tlearning_rate: 0.01\n"
     ]
    },
    {
     "data": {
      "text/html": [
       "Tracking run with wandb version 0.12.11"
      ],
      "text/plain": [
       "<IPython.core.display.HTML object>"
      ]
     },
     "metadata": {},
     "output_type": "display_data"
    },
    {
     "data": {
      "text/html": [
       "Run data is saved locally in <code>/workspaces/data-science-projects/house-price-prediction/Models/tensorflow/wandb/run-20220314_041612-u22irtve</code>"
      ],
      "text/plain": [
       "<IPython.core.display.HTML object>"
      ]
     },
     "metadata": {},
     "output_type": "display_data"
    },
    {
     "data": {
      "text/html": [
       "Syncing run <strong><a href=\"https://wandb.ai/luiscostigan/house-price-prediction/runs/u22irtve\" target=\"_blank\">worldly-sweep-15</a></strong> to <a href=\"https://wandb.ai/luiscostigan/house-price-prediction\" target=\"_blank\">Weights & Biases</a> (<a href=\"https://wandb.me/run\" target=\"_blank\">docs</a>)<br/>Sweep page:  <a href=\"https://wandb.ai/luiscostigan/house-price-prediction/sweeps/e8odal49\" target=\"_blank\">https://wandb.ai/luiscostigan/house-price-prediction/sweeps/e8odal49</a>"
      ],
      "text/plain": [
       "<IPython.core.display.HTML object>"
      ]
     },
     "metadata": {},
     "output_type": "display_data"
    },
    {
     "name": "stdout",
     "output_type": "stream",
     "text": [
      "37/37 [==============================] - 0s 4ms/step - loss: 0.1802 - root_mean_squared_error: 0.2293\n",
      "Score for fold 1: loss of 0.1801561415195465; root_mean_squared_error of 0.2293308526277542\n",
      "------------------------------------------------------------------------\n",
      "Score per fold\n",
      "------------------------------------------------------------------------\n",
      "> Fold 1 - Loss: 0.1801561415195465 - RMSE: 0.2293308526277542\n",
      "------------------------------------------------------------------------\n",
      "Average scores for all folds:\n",
      "> RMSE: 0.2293308526277542 (+- 0.0)\n",
      "> Loss: 0.1801561415195465\n",
      "------------------------------------------------------------------------\n",
      "\n"
     ]
    },
    {
     "data": {
      "text/html": [
       "Waiting for W&B process to finish... <strong style=\"color:green\">(success).</strong>"
      ],
      "text/plain": [
       "<IPython.core.display.HTML object>"
      ]
     },
     "metadata": {},
     "output_type": "display_data"
    },
    {
     "data": {
      "application/vnd.jupyter.widget-view+json": {
       "model_id": "275df3d0d4cb4edebfaa3557ce4db242",
       "version_major": 2,
       "version_minor": 0
      },
      "text/plain": [
       "VBox(children=(Label(value='1.485 MB of 55.440 MB uploaded (0.000 MB deduped)\\r'), FloatProgress(value=0.02679…"
      ]
     },
     "metadata": {},
     "output_type": "display_data"
    },
    {
     "data": {
      "text/html": [
       "<style>\n",
       "    table.wandb td:nth-child(1) { padding: 0 10px; text-align: right }\n",
       "    .wandb-row { display: flex; flex-direction: row; flex-wrap: wrap; width: 100% }\n",
       "    .wandb-col { display: flex; flex-direction: column; flex-basis: 100%; flex: 1; padding: 10px; }\n",
       "    </style>\n",
       "<div class=\"wandb-row\"><div class=\"wandb-col\"><h3>Run history:</h3><br/><table class=\"wandb\"><tr><td>Mean Validation Loss (all folds)</td><td>▁</td></tr><tr><td>Mean Validation RMSE (all folds)</td><td>▁</td></tr><tr><td>epoch</td><td>▁▁▁▁▂▂▂▂▂▃▃▃▃▃▃▄▄▄▄▄▅▅▅▅▅▅▆▆▆▆▆▆▇▇▇▇▇███</td></tr><tr><td>loss</td><td>█▅▃▃▃▂▂▁▁▁▁▁▁▁▁▁▁▁▁▁▁▁▁▁▁▁▁▁▁▁▁▁▁▁▁▁▁▁▁▁</td></tr><tr><td>root_mean_squared_error</td><td>█▆▅▄▄▄▃▁▁▁▁▁▁▁▁▁▁▁▁▁▁▁▁▁▁▁▁▁▁▁▁▁▁▁▁▁▁▁▁▁</td></tr><tr><td>val_loss</td><td>█▄▃▄▂▂▂▁▁▁▁▁▁▁▁▁▂▁▁▁▂▁▁▁▁▁▂▁▁▁▁▁▁▁▁▁▁▁▁▁</td></tr><tr><td>val_root_mean_squared_error</td><td>█▄▃▅▂▂▃▁▁▁▁▁▂▁▁▁▂▁▂▁▂▁▁▁▁▁▂▁▁▁▁▁▁▁▂▁▁▁▁▂</td></tr></table><br/></div><div class=\"wandb-col\"><h3>Run summary:</h3><br/><table class=\"wandb\"><tr><td>Mean Validation Loss (all folds)</td><td>0.18016</td></tr><tr><td>Mean Validation RMSE (all folds)</td><td>0.22933</td></tr><tr><td>best_epoch</td><td>40</td></tr><tr><td>best_val_loss</td><td>0.09084</td></tr><tr><td>epoch</td><td>149</td></tr><tr><td>loss</td><td>0.13337</td></tr><tr><td>root_mean_squared_error</td><td>0.17669</td></tr><tr><td>val_loss</td><td>0.18016</td></tr><tr><td>val_root_mean_squared_error</td><td>0.22933</td></tr></table><br/></div></div>"
      ],
      "text/plain": [
       "<IPython.core.display.HTML object>"
      ]
     },
     "metadata": {},
     "output_type": "display_data"
    },
    {
     "data": {
      "text/html": [
       "Synced <strong style=\"color:#cdcd00\">worldly-sweep-15</strong>: <a href=\"https://wandb.ai/luiscostigan/house-price-prediction/runs/u22irtve\" target=\"_blank\">https://wandb.ai/luiscostigan/house-price-prediction/runs/u22irtve</a><br/>Synced 5 W&B file(s), 0 media file(s), 0 artifact file(s) and 1 other file(s)"
      ],
      "text/plain": [
       "<IPython.core.display.HTML object>"
      ]
     },
     "metadata": {},
     "output_type": "display_data"
    },
    {
     "data": {
      "text/html": [
       "Find logs at: <code>./wandb/run-20220314_041612-u22irtve/logs</code>"
      ],
      "text/plain": [
       "<IPython.core.display.HTML object>"
      ]
     },
     "metadata": {},
     "output_type": "display_data"
    },
    {
     "data": {
      "text/html": [
       "Tracking run with wandb version 0.12.11"
      ],
      "text/plain": [
       "<IPython.core.display.HTML object>"
      ]
     },
     "metadata": {},
     "output_type": "display_data"
    },
    {
     "data": {
      "text/html": [
       "Run data is saved locally in <code>/workspaces/data-science-projects/house-price-prediction/Models/tensorflow/wandb/run-20220314_041705-u22irtve</code>"
      ],
      "text/plain": [
       "<IPython.core.display.HTML object>"
      ]
     },
     "metadata": {},
     "output_type": "display_data"
    },
    {
     "data": {
      "text/html": [
       "Syncing run <strong><a href=\"https://wandb.ai/luiscostigan/house-price-prediction/runs/u22irtve\" target=\"_blank\">worldly-sweep-15</a></strong> to <a href=\"https://wandb.ai/luiscostigan/house-price-prediction\" target=\"_blank\">Weights & Biases</a> (<a href=\"https://wandb.me/run\" target=\"_blank\">docs</a>)<br/>Sweep page:  <a href=\"https://wandb.ai/luiscostigan/house-price-prediction/sweeps/e8odal49\" target=\"_blank\">https://wandb.ai/luiscostigan/house-price-prediction/sweeps/e8odal49</a>"
      ],
      "text/plain": [
       "<IPython.core.display.HTML object>"
      ]
     },
     "metadata": {},
     "output_type": "display_data"
    },
    {
     "name": "stdout",
     "output_type": "stream",
     "text": [
      "37/37 [==============================] - 0s 4ms/step - loss: 0.0825 - root_mean_squared_error: 0.1181\n",
      "Score for fold 2: loss of 0.08247493207454681; root_mean_squared_error of 0.11812463402748108\n",
      "------------------------------------------------------------------------\n",
      "Score per fold\n",
      "------------------------------------------------------------------------\n",
      "> Fold 1 - Loss: 0.1801561415195465 - RMSE: 0.2293308526277542\n",
      "------------------------------------------------------------------------\n",
      "------------------------------------------------------------------------\n",
      "> Fold 2 - Loss: 0.08247493207454681 - RMSE: 0.11812463402748108\n",
      "------------------------------------------------------------------------\n",
      "Average scores for all folds:\n",
      "> RMSE: 0.17372774332761765 (+- 0.055603109300136566)\n",
      "> Loss: 0.13131553679704666\n",
      "------------------------------------------------------------------------\n",
      "\n"
     ]
    },
    {
     "data": {
      "text/html": [
       "Waiting for W&B process to finish... <strong style=\"color:green\">(success).</strong>"
      ],
      "text/plain": [
       "<IPython.core.display.HTML object>"
      ]
     },
     "metadata": {},
     "output_type": "display_data"
    },
    {
     "data": {
      "application/vnd.jupyter.widget-view+json": {
       "model_id": "c12d37658bb8456d9a055ef25849ed28",
       "version_major": 2,
       "version_minor": 0
      },
      "text/plain": [
       "VBox(children=(Label(value='0.001 MB of 55.440 MB uploaded (0.000 MB deduped)\\r'), FloatProgress(value=1.88876…"
      ]
     },
     "metadata": {},
     "output_type": "display_data"
    },
    {
     "data": {
      "text/html": [
       "<style>\n",
       "    table.wandb td:nth-child(1) { padding: 0 10px; text-align: right }\n",
       "    .wandb-row { display: flex; flex-direction: row; flex-wrap: wrap; width: 100% }\n",
       "    .wandb-col { display: flex; flex-direction: column; flex-basis: 100%; flex: 1; padding: 10px; }\n",
       "    </style>\n",
       "<div class=\"wandb-row\"><div class=\"wandb-col\"><h3>Run history:</h3><br/><table class=\"wandb\"><tr><td>Mean Validation Loss (all folds)</td><td>▁</td></tr><tr><td>Mean Validation RMSE (all folds)</td><td>▁</td></tr><tr><td>epoch</td><td>▁▁▁▁▂▂▂▂▂▃▃▃▃▃▃▄▄▄▄▄▅▅▅▅▅▅▆▆▆▆▆▆▇▇▇▇▇███</td></tr><tr><td>loss</td><td>█▄▃▃▂▂▂▁▁▁▁▁▁▁▁▁▁▁▁▁▁▁▁▁▁▁▁▁▁▁▁▁▁▁▁▁▁▁▁▁</td></tr><tr><td>root_mean_squared_error</td><td>█▅▄▄▄▃▂▁▁▂▁▁▁▁▁▁▁▁▁▂▁▁▁▁▁▁▁▁▁▁▁▁▁▁▁▁▁▁▁▁</td></tr><tr><td>val_loss</td><td>█▅█▄▂▄▂▁▁▂▁▁▁▁▁▁▂▁▂▁▁▂▁▁▁▁▁▁▁▁▁▁▁▂▁▂▁▁▁▁</td></tr><tr><td>val_root_mean_squared_error</td><td>▅▄█▄▂▄▂▁▁▂▁▁▁▁▁▁▂▁▂▁▂▂▁▂▁▁▁▁▁▁▁▁▁▂▁▂▁▁▁▁</td></tr></table><br/></div><div class=\"wandb-col\"><h3>Run summary:</h3><br/><table class=\"wandb\"><tr><td>Mean Validation Loss (all folds)</td><td>0.13132</td></tr><tr><td>Mean Validation RMSE (all folds)</td><td>0.17373</td></tr><tr><td>best_epoch</td><td>149</td></tr><tr><td>best_val_loss</td><td>0.08247</td></tr><tr><td>epoch</td><td>149</td></tr><tr><td>loss</td><td>0.11658</td></tr><tr><td>root_mean_squared_error</td><td>0.16389</td></tr><tr><td>val_loss</td><td>0.08247</td></tr><tr><td>val_root_mean_squared_error</td><td>0.11812</td></tr></table><br/></div></div>"
      ],
      "text/plain": [
       "<IPython.core.display.HTML object>"
      ]
     },
     "metadata": {},
     "output_type": "display_data"
    },
    {
     "data": {
      "text/html": [
       "Synced <strong style=\"color:#cdcd00\">worldly-sweep-15</strong>: <a href=\"https://wandb.ai/luiscostigan/house-price-prediction/runs/u22irtve\" target=\"_blank\">https://wandb.ai/luiscostigan/house-price-prediction/runs/u22irtve</a><br/>Synced 5 W&B file(s), 0 media file(s), 0 artifact file(s) and 1 other file(s)"
      ],
      "text/plain": [
       "<IPython.core.display.HTML object>"
      ]
     },
     "metadata": {},
     "output_type": "display_data"
    },
    {
     "data": {
      "text/html": [
       "Find logs at: <code>./wandb/run-20220314_041705-u22irtve/logs</code>"
      ],
      "text/plain": [
       "<IPython.core.display.HTML object>"
      ]
     },
     "metadata": {},
     "output_type": "display_data"
    },
    {
     "data": {
      "text/html": [
       "Tracking run with wandb version 0.12.11"
      ],
      "text/plain": [
       "<IPython.core.display.HTML object>"
      ]
     },
     "metadata": {},
     "output_type": "display_data"
    },
    {
     "data": {
      "text/html": [
       "Run data is saved locally in <code>/workspaces/data-science-projects/house-price-prediction/Models/tensorflow/wandb/run-20220314_041802-u22irtve</code>"
      ],
      "text/plain": [
       "<IPython.core.display.HTML object>"
      ]
     },
     "metadata": {},
     "output_type": "display_data"
    },
    {
     "data": {
      "text/html": [
       "Syncing run <strong><a href=\"https://wandb.ai/luiscostigan/house-price-prediction/runs/u22irtve\" target=\"_blank\">worldly-sweep-15</a></strong> to <a href=\"https://wandb.ai/luiscostigan/house-price-prediction\" target=\"_blank\">Weights & Biases</a> (<a href=\"https://wandb.me/run\" target=\"_blank\">docs</a>)<br/>Sweep page:  <a href=\"https://wandb.ai/luiscostigan/house-price-prediction/sweeps/e8odal49\" target=\"_blank\">https://wandb.ai/luiscostigan/house-price-prediction/sweeps/e8odal49</a>"
      ],
      "text/plain": [
       "<IPython.core.display.HTML object>"
      ]
     },
     "metadata": {},
     "output_type": "display_data"
    },
    {
     "name": "stdout",
     "output_type": "stream",
     "text": [
      "37/37 [==============================] - 0s 4ms/step - loss: 0.1112 - root_mean_squared_error: 0.1496\n",
      "Score for fold 3: loss of 0.11115256696939468; root_mean_squared_error of 0.14960092306137085\n",
      "------------------------------------------------------------------------\n",
      "Score per fold\n",
      "------------------------------------------------------------------------\n",
      "> Fold 1 - Loss: 0.1801561415195465 - RMSE: 0.2293308526277542\n",
      "------------------------------------------------------------------------\n",
      "------------------------------------------------------------------------\n",
      "> Fold 2 - Loss: 0.08247493207454681 - RMSE: 0.11812463402748108\n",
      "------------------------------------------------------------------------\n",
      "------------------------------------------------------------------------\n",
      "> Fold 3 - Loss: 0.11115256696939468 - RMSE: 0.14960092306137085\n",
      "------------------------------------------------------------------------\n",
      "Average scores for all folds:\n",
      "> RMSE: 0.16568546990553537 (+- 0.046802708249484355)\n",
      "> Loss: 0.124594546854496\n",
      "------------------------------------------------------------------------\n",
      "\n"
     ]
    },
    {
     "data": {
      "text/html": [
       "Waiting for W&B process to finish... <strong style=\"color:green\">(success).</strong>"
      ],
      "text/plain": [
       "<IPython.core.display.HTML object>"
      ]
     },
     "metadata": {},
     "output_type": "display_data"
    },
    {
     "data": {
      "application/vnd.jupyter.widget-view+json": {
       "model_id": "b48124211f4b4724b6b48fd34f21e9bd",
       "version_major": 2,
       "version_minor": 0
      },
      "text/plain": [
       "VBox(children=(Label(value='0.001 MB of 55.440 MB uploaded (0.000 MB deduped)\\r'), FloatProgress(value=1.88876…"
      ]
     },
     "metadata": {},
     "output_type": "display_data"
    },
    {
     "data": {
      "text/html": [
       "<style>\n",
       "    table.wandb td:nth-child(1) { padding: 0 10px; text-align: right }\n",
       "    .wandb-row { display: flex; flex-direction: row; flex-wrap: wrap; width: 100% }\n",
       "    .wandb-col { display: flex; flex-direction: column; flex-basis: 100%; flex: 1; padding: 10px; }\n",
       "    </style>\n",
       "<div class=\"wandb-row\"><div class=\"wandb-col\"><h3>Run history:</h3><br/><table class=\"wandb\"><tr><td>Mean Validation Loss (all folds)</td><td>▁</td></tr><tr><td>Mean Validation RMSE (all folds)</td><td>▁</td></tr><tr><td>epoch</td><td>▁▁▁▁▂▂▂▂▂▃▃▃▃▃▃▄▄▄▄▄▅▅▅▅▅▅▆▆▆▆▆▆▇▇▇▇▇███</td></tr><tr><td>loss</td><td>█▅▃▃▃▂▁▁▁▁▁▁▁▁▁▁▁▁▁▁▁▁▁▁▁▁▁▁▁▁▁▁▁▁▁▁▁▁▁▁</td></tr><tr><td>root_mean_squared_error</td><td>█▇▅▅▅▄▁▁▁▁▁▁▁▁▁▁▁▂▁▁▁▁▁▁▁▁▁▁▁▁▁▁▁▁▁▁▁▂▁▁</td></tr><tr><td>val_loss</td><td>█▃▄▂▂▂▁▁▁▁▁▁▁▁▁▁▁▁▁▂▁▁▁▁▁▁▁▁▁▁▁▁▁▁▁▁▁▁▁▁</td></tr><tr><td>val_root_mean_squared_error</td><td>█▃▄▂▃▂▁▁▁▁▁▁▁▁▁▁▁▁▁▂▂▁▁▁▁▁▁▁▁▂▁▁▁▁▁▁▁▁▁▁</td></tr></table><br/></div><div class=\"wandb-col\"><h3>Run summary:</h3><br/><table class=\"wandb\"><tr><td>Mean Validation Loss (all folds)</td><td>0.12459</td></tr><tr><td>Mean Validation RMSE (all folds)</td><td>0.16569</td></tr><tr><td>best_epoch</td><td>33</td></tr><tr><td>best_val_loss</td><td>0.10208</td></tr><tr><td>epoch</td><td>149</td></tr><tr><td>loss</td><td>0.15951</td></tr><tr><td>root_mean_squared_error</td><td>0.20198</td></tr><tr><td>val_loss</td><td>0.11115</td></tr><tr><td>val_root_mean_squared_error</td><td>0.1496</td></tr></table><br/></div></div>"
      ],
      "text/plain": [
       "<IPython.core.display.HTML object>"
      ]
     },
     "metadata": {},
     "output_type": "display_data"
    },
    {
     "data": {
      "text/html": [
       "Synced <strong style=\"color:#cdcd00\">worldly-sweep-15</strong>: <a href=\"https://wandb.ai/luiscostigan/house-price-prediction/runs/u22irtve\" target=\"_blank\">https://wandb.ai/luiscostigan/house-price-prediction/runs/u22irtve</a><br/>Synced 5 W&B file(s), 0 media file(s), 0 artifact file(s) and 1 other file(s)"
      ],
      "text/plain": [
       "<IPython.core.display.HTML object>"
      ]
     },
     "metadata": {},
     "output_type": "display_data"
    },
    {
     "data": {
      "text/html": [
       "Find logs at: <code>./wandb/run-20220314_041802-u22irtve/logs</code>"
      ],
      "text/plain": [
       "<IPython.core.display.HTML object>"
      ]
     },
     "metadata": {},
     "output_type": "display_data"
    },
    {
     "data": {
      "text/html": [
       "Tracking run with wandb version 0.12.11"
      ],
      "text/plain": [
       "<IPython.core.display.HTML object>"
      ]
     },
     "metadata": {},
     "output_type": "display_data"
    },
    {
     "data": {
      "text/html": [
       "Run data is saved locally in <code>/workspaces/data-science-projects/house-price-prediction/Models/tensorflow/wandb/run-20220314_041855-u22irtve</code>"
      ],
      "text/plain": [
       "<IPython.core.display.HTML object>"
      ]
     },
     "metadata": {},
     "output_type": "display_data"
    },
    {
     "data": {
      "text/html": [
       "Syncing run <strong><a href=\"https://wandb.ai/luiscostigan/house-price-prediction/runs/u22irtve\" target=\"_blank\">worldly-sweep-15</a></strong> to <a href=\"https://wandb.ai/luiscostigan/house-price-prediction\" target=\"_blank\">Weights & Biases</a> (<a href=\"https://wandb.me/run\" target=\"_blank\">docs</a>)<br/>Sweep page:  <a href=\"https://wandb.ai/luiscostigan/house-price-prediction/sweeps/e8odal49\" target=\"_blank\">https://wandb.ai/luiscostigan/house-price-prediction/sweeps/e8odal49</a>"
      ],
      "text/plain": [
       "<IPython.core.display.HTML object>"
      ]
     },
     "metadata": {},
     "output_type": "display_data"
    },
    {
     "name": "stdout",
     "output_type": "stream",
     "text": [
      "37/37 [==============================] - 0s 3ms/step - loss: 0.1254 - root_mean_squared_error: 0.1794\n",
      "Score for fold 4: loss of 0.1254054754972458; root_mean_squared_error of 0.1793666034936905\n",
      "------------------------------------------------------------------------\n",
      "Score per fold\n",
      "------------------------------------------------------------------------\n",
      "> Fold 1 - Loss: 0.1801561415195465 - RMSE: 0.2293308526277542\n",
      "------------------------------------------------------------------------\n",
      "------------------------------------------------------------------------\n",
      "> Fold 2 - Loss: 0.08247493207454681 - RMSE: 0.11812463402748108\n",
      "------------------------------------------------------------------------\n",
      "------------------------------------------------------------------------\n",
      "> Fold 3 - Loss: 0.11115256696939468 - RMSE: 0.14960092306137085\n",
      "------------------------------------------------------------------------\n",
      "------------------------------------------------------------------------\n",
      "> Fold 4 - Loss: 0.1254054754972458 - RMSE: 0.1793666034936905\n",
      "------------------------------------------------------------------------\n",
      "Average scores for all folds:\n",
      "> RMSE: 0.16910575330257416 (+- 0.04096297279449992)\n",
      "> Loss: 0.12479727901518345\n",
      "------------------------------------------------------------------------\n",
      "\n"
     ]
    },
    {
     "data": {
      "text/html": [
       "Waiting for W&B process to finish... <strong style=\"color:green\">(success).</strong>"
      ],
      "text/plain": [
       "<IPython.core.display.HTML object>"
      ]
     },
     "metadata": {},
     "output_type": "display_data"
    },
    {
     "data": {
      "application/vnd.jupyter.widget-view+json": {
       "model_id": "8f574c4f647048b2820ef0a182ce8e41",
       "version_major": 2,
       "version_minor": 0
      },
      "text/plain": [
       "VBox(children=(Label(value='0.001 MB of 55.440 MB uploaded (0.000 MB deduped)\\r'), FloatProgress(value=1.88876…"
      ]
     },
     "metadata": {},
     "output_type": "display_data"
    },
    {
     "data": {
      "text/html": [
       "<style>\n",
       "    table.wandb td:nth-child(1) { padding: 0 10px; text-align: right }\n",
       "    .wandb-row { display: flex; flex-direction: row; flex-wrap: wrap; width: 100% }\n",
       "    .wandb-col { display: flex; flex-direction: column; flex-basis: 100%; flex: 1; padding: 10px; }\n",
       "    </style>\n",
       "<div class=\"wandb-row\"><div class=\"wandb-col\"><h3>Run history:</h3><br/><table class=\"wandb\"><tr><td>Mean Validation Loss (all folds)</td><td>▁</td></tr><tr><td>Mean Validation RMSE (all folds)</td><td>▁</td></tr><tr><td>epoch</td><td>▁▁▁▁▂▂▂▂▂▃▃▃▃▃▃▄▄▄▄▄▅▅▅▅▅▅▆▆▆▆▆▆▇▇▇▇▇███</td></tr><tr><td>loss</td><td>█▅▃▃▂▁▁▁▁▁▁▁▁▁▁▁▁▁▁▁▁▁▁▁▁▁▁▁▁▁▁▁▁▁▁▁▁▁▁▁</td></tr><tr><td>root_mean_squared_error</td><td>█▆▅▄▃▁▁▁▁▁▂▂▁▁▁▁▁▁▁▁▂▁▁▁▁▁▁▁▁▁▁▁▁▁▁▁▁▁▁▁</td></tr><tr><td>val_loss</td><td>█▇▆▃▂▂▁▁▁▁▁▁▁▂▁▂▁▁▁▁▁▁▁▁▁▁▁▁▁▂▁▁▁▁▂▁▁▁▁▁</td></tr><tr><td>val_root_mean_squared_error</td><td>███▃▃▂▂▁▁▁▁▂▁▂▁▂▁▁▁▂▂▁▁▂▂▁▂▂▂▂▂▂▂▂▄▁▂▁▂▁</td></tr></table><br/></div><div class=\"wandb-col\"><h3>Run summary:</h3><br/><table class=\"wandb\"><tr><td>Mean Validation Loss (all folds)</td><td>0.1248</td></tr><tr><td>Mean Validation RMSE (all folds)</td><td>0.16911</td></tr><tr><td>best_epoch</td><td>25</td></tr><tr><td>best_val_loss</td><td>0.09478</td></tr><tr><td>epoch</td><td>149</td></tr><tr><td>loss</td><td>0.15343</td></tr><tr><td>root_mean_squared_error</td><td>0.21217</td></tr><tr><td>val_loss</td><td>0.12541</td></tr><tr><td>val_root_mean_squared_error</td><td>0.17937</td></tr></table><br/></div></div>"
      ],
      "text/plain": [
       "<IPython.core.display.HTML object>"
      ]
     },
     "metadata": {},
     "output_type": "display_data"
    },
    {
     "data": {
      "text/html": [
       "Synced <strong style=\"color:#cdcd00\">worldly-sweep-15</strong>: <a href=\"https://wandb.ai/luiscostigan/house-price-prediction/runs/u22irtve\" target=\"_blank\">https://wandb.ai/luiscostigan/house-price-prediction/runs/u22irtve</a><br/>Synced 5 W&B file(s), 0 media file(s), 0 artifact file(s) and 1 other file(s)"
      ],
      "text/plain": [
       "<IPython.core.display.HTML object>"
      ]
     },
     "metadata": {},
     "output_type": "display_data"
    },
    {
     "data": {
      "text/html": [
       "Find logs at: <code>./wandb/run-20220314_041855-u22irtve/logs</code>"
      ],
      "text/plain": [
       "<IPython.core.display.HTML object>"
      ]
     },
     "metadata": {},
     "output_type": "display_data"
    },
    {
     "data": {
      "text/html": [
       "Tracking run with wandb version 0.12.11"
      ],
      "text/plain": [
       "<IPython.core.display.HTML object>"
      ]
     },
     "metadata": {},
     "output_type": "display_data"
    },
    {
     "data": {
      "text/html": [
       "Run data is saved locally in <code>/workspaces/data-science-projects/house-price-prediction/Models/tensorflow/wandb/run-20220314_041955-u22irtve</code>"
      ],
      "text/plain": [
       "<IPython.core.display.HTML object>"
      ]
     },
     "metadata": {},
     "output_type": "display_data"
    },
    {
     "data": {
      "text/html": [
       "Syncing run <strong><a href=\"https://wandb.ai/luiscostigan/house-price-prediction/runs/u22irtve\" target=\"_blank\">worldly-sweep-15</a></strong> to <a href=\"https://wandb.ai/luiscostigan/house-price-prediction\" target=\"_blank\">Weights & Biases</a> (<a href=\"https://wandb.me/run\" target=\"_blank\">docs</a>)<br/>Sweep page:  <a href=\"https://wandb.ai/luiscostigan/house-price-prediction/sweeps/e8odal49\" target=\"_blank\">https://wandb.ai/luiscostigan/house-price-prediction/sweeps/e8odal49</a>"
      ],
      "text/plain": [
       "<IPython.core.display.HTML object>"
      ]
     },
     "metadata": {},
     "output_type": "display_data"
    },
    {
     "name": "stdout",
     "output_type": "stream",
     "text": [
      "37/37 [==============================] - 0s 3ms/step - loss: 0.1407 - root_mean_squared_error: 0.1838\n",
      "Score for fold 5: loss of 0.14069266617298126; root_mean_squared_error of 0.1838429570198059\n",
      "------------------------------------------------------------------------\n",
      "Score per fold\n",
      "------------------------------------------------------------------------\n",
      "> Fold 1 - Loss: 0.1801561415195465 - RMSE: 0.2293308526277542\n",
      "------------------------------------------------------------------------\n",
      "------------------------------------------------------------------------\n",
      "> Fold 2 - Loss: 0.08247493207454681 - RMSE: 0.11812463402748108\n",
      "------------------------------------------------------------------------\n",
      "------------------------------------------------------------------------\n",
      "> Fold 3 - Loss: 0.11115256696939468 - RMSE: 0.14960092306137085\n",
      "------------------------------------------------------------------------\n",
      "------------------------------------------------------------------------\n",
      "> Fold 4 - Loss: 0.1254054754972458 - RMSE: 0.1793666034936905\n",
      "------------------------------------------------------------------------\n",
      "------------------------------------------------------------------------\n",
      "> Fold 5 - Loss: 0.14069266617298126 - RMSE: 0.1838429570198059\n",
      "------------------------------------------------------------------------\n",
      "Average scores for all folds:\n",
      "> RMSE: 0.1720531940460205 (+- 0.03710959094189618)\n",
      "> Loss: 0.12797635644674302\n",
      "------------------------------------------------------------------------\n",
      "\n"
     ]
    },
    {
     "data": {
      "text/html": [
       "Waiting for W&B process to finish... <strong style=\"color:green\">(success).</strong>"
      ],
      "text/plain": [
       "<IPython.core.display.HTML object>"
      ]
     },
     "metadata": {},
     "output_type": "display_data"
    },
    {
     "data": {
      "application/vnd.jupyter.widget-view+json": {
       "model_id": "31b46597306d442bb6e05493802ed42a",
       "version_major": 2,
       "version_minor": 0
      },
      "text/plain": [
       "VBox(children=(Label(value='0.001 MB of 55.440 MB uploaded (0.000 MB deduped)\\r'), FloatProgress(value=1.88875…"
      ]
     },
     "metadata": {},
     "output_type": "display_data"
    },
    {
     "data": {
      "text/html": [
       "<style>\n",
       "    table.wandb td:nth-child(1) { padding: 0 10px; text-align: right }\n",
       "    .wandb-row { display: flex; flex-direction: row; flex-wrap: wrap; width: 100% }\n",
       "    .wandb-col { display: flex; flex-direction: column; flex-basis: 100%; flex: 1; padding: 10px; }\n",
       "    </style>\n",
       "<div class=\"wandb-row\"><div class=\"wandb-col\"><h3>Run history:</h3><br/><table class=\"wandb\"><tr><td>Mean Validation Loss (all folds)</td><td>▁</td></tr><tr><td>Mean Validation RMSE (all folds)</td><td>▁</td></tr><tr><td>epoch</td><td>▁▁▁▁▂▂▂▂▂▃▃▃▃▃▃▄▄▄▄▄▅▅▅▅▅▅▆▆▆▆▆▆▇▇▇▇▇███</td></tr><tr><td>loss</td><td>█▅▄▃▂▁▁▁▁▁▁▁▁▁▁▁▁▁▁▁▁▁▁▁▁▁▁▁▁▁▁▁▁▁▁▁▁▁▁▁</td></tr><tr><td>root_mean_squared_error</td><td>█▇▅▄▂▁▁▁▁▁▁▁▁▁▁▁▁▁▁▁▁▁▂▁▁▁▁▁▁▁▁▁▁▁▁▁▁▁▁▁</td></tr><tr><td>val_loss</td><td>█▄▂▃▁▁▁▁▁▁▁▁▁▁▁▁▁▁▂▂▂▂▁▁▁▁▁▁▁▂▁▂▁▂▁▁▁▁▁▁</td></tr><tr><td>val_root_mean_squared_error</td><td>█▄▃▄▁▁▁▁▁▁▁▁▁▁▂▁▁▁▃▂▂▂▁▁▁▁▁▂▁▂▁▂▁▂▂▁▁▁▁▁</td></tr></table><br/></div><div class=\"wandb-col\"><h3>Run summary:</h3><br/><table class=\"wandb\"><tr><td>Mean Validation Loss (all folds)</td><td>0.12798</td></tr><tr><td>Mean Validation RMSE (all folds)</td><td>0.17205</td></tr><tr><td>best_epoch</td><td>144</td></tr><tr><td>best_val_loss</td><td>0.09398</td></tr><tr><td>epoch</td><td>149</td></tr><tr><td>loss</td><td>0.13072</td></tr><tr><td>root_mean_squared_error</td><td>0.18475</td></tr><tr><td>val_loss</td><td>0.14069</td></tr><tr><td>val_root_mean_squared_error</td><td>0.18384</td></tr></table><br/></div></div>"
      ],
      "text/plain": [
       "<IPython.core.display.HTML object>"
      ]
     },
     "metadata": {},
     "output_type": "display_data"
    },
    {
     "data": {
      "text/html": [
       "Synced <strong style=\"color:#cdcd00\">worldly-sweep-15</strong>: <a href=\"https://wandb.ai/luiscostigan/house-price-prediction/runs/u22irtve\" target=\"_blank\">https://wandb.ai/luiscostigan/house-price-prediction/runs/u22irtve</a><br/>Synced 5 W&B file(s), 0 media file(s), 0 artifact file(s) and 1 other file(s)"
      ],
      "text/plain": [
       "<IPython.core.display.HTML object>"
      ]
     },
     "metadata": {},
     "output_type": "display_data"
    },
    {
     "data": {
      "text/html": [
       "Find logs at: <code>./wandb/run-20220314_041955-u22irtve/logs</code>"
      ],
      "text/plain": [
       "<IPython.core.display.HTML object>"
      ]
     },
     "metadata": {},
     "output_type": "display_data"
    }
   ],
   "source": [
    "# Define training function and hyperparameter ranges\n",
    "from wandb.keras import WandbCallback\n",
    "from sklearn.model_selection import KFold\n",
    "# import multiprocessing\n",
    "\n",
    "sweep_config = {\n",
    "  \"name\": \"keras-sequential-model-sweep\",\n",
    "  \"method\": \"bayes\",\n",
    "  \"metric\": {\n",
    "    \"name\": \"Mean Validation RMSE (all folds)\",\n",
    "    \"goal\": \"minimize\"\n",
    "  },\n",
    "  \"parameters\": {\n",
    "    \"dropout1\": {\n",
    "      \"distribution\": \"uniform\",\n",
    "      \"min\": 0.0,\n",
    "      \"max\": 0.4\n",
    "    },\n",
    "    \"dense1\": {\n",
    "      \"distribution\": \"categorical\",\n",
    "      \"values\": [1024, 2048, 4096]\n",
    "    },\n",
    "    \"dense2\": {\n",
    "      \"distribution\": \"categorical\",\n",
    "      \"values\": [1024, 2048, 4096]\n",
    "    },\n",
    "    \"bias1\": {\n",
    "      \"distribution\": \"categorical\",\n",
    "      \"values\": [0.001, 0.01]\n",
    "    },\n",
    "    \"bias2\": {\n",
    "      \"distribution\": \"categorical\",\n",
    "      \"values\": [0.001, 0.01]\n",
    "    },\n",
    "    \"epochs\": {\n",
    "      \"distribution\": \"categorical\",\n",
    "      \"values\": [50, 100, 150]\n",
    "    },\n",
    "    \"batch_size\": {\n",
    "      \"distribution\": \"categorical\",\n",
    "      \"values\": [8, 16, 32]\n",
    "    },\n",
    "    \"learning_rate\": {\n",
    "      \"distribution\": \"categorical\",\n",
    "      \"values\": [0.0001, 0.001, 0.01]\n",
    "    }\n",
    "  }\n",
    "}\n",
    "\n",
    "config_defaults = {\n",
    "  \"dropout1\": 0.1,\n",
    "  \"dense1\": 2048,\n",
    "  \"dense2\": 2048,\n",
    "  \"bias1\": 0.01,\n",
    "  \"bias2\": 0.01,\n",
    "  \"epochs\": 100,\n",
    "  \"batch_size\": 16,\n",
    "  \"learning_rate\": 0.001\n",
    "}\n",
    "\n",
    "# Define number of splits\n",
    "kf = KFold(n_splits=5)\n",
    "\n",
    "def train():\n",
    "\n",
    "  rmse_per_fold = []\n",
    "  loss_per_fold = []\n",
    "  fold_no = 1\n",
    "\n",
    "  # Go through each split, and get the index number for each\n",
    "  for train, test in kf.split(X_train, y_train):\n",
    "\n",
    "    # With the current session in WandB\n",
    "    with wandb.init(config=config_defaults) as run:\n",
    "\n",
    "      def evaluate_model():\n",
    "\n",
    "        # Recreate the model each time for each new batch\n",
    "        model = None # Not sure if this step is necessary\n",
    "        model = create_model()\n",
    "\n",
    "        # Fit model on new batches\n",
    "        model.fit(\n",
    "        np.asarray(X_train),\n",
    "        y_train, \n",
    "        epochs=wandb.config.epochs, \n",
    "        batch_size=wandb.config.batch_size, \n",
    "        verbose=0,\n",
    "        callbacks=[WandbCallback()], \n",
    "        validation_data=(np.asarray(X_train),y_train)\n",
    "        )\n",
    "        \n",
    "        # Generate data for each\n",
    "        scores = model.evaluate(np.asarray(X_train), y_train, callbacks=[WandbCallback()])\n",
    "        print(f'Score for fold {fold_no}: {model.metrics_names[0]} of {scores[0]}; {model.metrics_names[1]} of {scores[1]}')\n",
    "        rmse_per_fold.append(scores[1])\n",
    "        loss_per_fold.append(scores[0])\n",
    "\n",
    "        # == Provide average scores ==\n",
    "        print('------------------------------------------------------------------------')\n",
    "        print('Score per fold')\n",
    "        for i in range(0, len(rmse_per_fold)):\n",
    "            print('------------------------------------------------------------------------')\n",
    "            print(f'> Fold {i+1} - Loss: {loss_per_fold[i]} - RMSE: {rmse_per_fold[i]}')\n",
    "            print('------------------------------------------------------------------------')\n",
    "        \n",
    "        print('Average scores for all folds:')\n",
    "        print(f'> RMSE: {np.mean(rmse_per_fold)} (+- {np.std(rmse_per_fold)})')\n",
    "        print(f'> Loss: {np.mean(loss_per_fold)}')\n",
    "        print('------------------------------------------------------------------------')\n",
    "\n",
    "\n",
    "        wandb.log({\n",
    "        \"Mean Validation RMSE (all folds)\": np.mean(rmse_per_fold),\n",
    "        \"Mean Validation Loss (all folds)\": np.mean(loss_per_fold) \n",
    "        })\n",
    "\n",
    "        wandb.join()\n",
    "\n",
    "      evaluate_model()\n",
    "\n",
    "      # TF has a problem releasing cache after an operation, for which the suggested solution is to start and kill a separate process (https://github.com/tensorflow/tensorflow/issues/36465)\n",
    "      # However, attempting to do this results in an error with WandB (https://github.com/wandb/client/issues/1994)\n",
    "      # p = multiprocessing.Process(target=evaluate_model) \n",
    "      # p.start() \n",
    "      # p.join()\n",
    "\n",
    "      # Increase fold number\n",
    "      fold_no = fold_no + 1\n",
    "\n",
    "keras_sequential_sweep_1 = wandb.sweep(sweep_config, project=\"house-price-prediction\", entity=\"luiscostigan\")\n",
    "\n",
    "count = 15\n",
    "\n",
    "wandb.agent(keras_sequential_sweep_1, function=train, count=count)"
   ]
  },
  {
   "cell_type": "markdown",
   "id": "ffaa74eb",
   "metadata": {},
   "source": [
    "One of the main selling points of Weights and Biases is that is can track the results of experiments to make it easy for an ML practitioner to review previous experiments, including the hyperparamater values tested and their results on a validation set/during cross-validation. For this model I conducted 15 experiments, the results of which can be viewed in interactive graphs as below:\n",
    "\n",
    "<img src=\"./wandb_graphs.png\" width=\"800\">\n",
    "\n",
    "The set of hyperparameters resulting in the lowest loss (in terms of RMSE) is noted in the top row of the below image, again taken from Weights and Biases:\n",
    "\n",
    "<img src=\"./wandb_rmse_loss.png\" width=\"800\">"
   ]
  },
  {
   "cell_type": "code",
   "execution_count": 8,
   "id": "7b238b8d-bf25-43da-acdb-7caa72dec5df",
   "metadata": {},
   "outputs": [],
   "source": [
    "# Enter best params from sweep\n",
    "best_params = {\n",
    "    \"dropout\": 0.001897,\n",
    "    \"dense1\": 4096,\n",
    "    \"dense2\": 2048,\n",
    "    \"bias1\": 0.01,\n",
    "    \"bias2\": 0.001,\n",
    "    \"epochs\": 150,\n",
    "    \"batch_size\": 8,\n",
    "    \"learning_rate\": 0.001\n",
    "}\n",
    "\n",
    "# Build model using the best parameters\n",
    "def make_predictions(best_params, dataset):\n",
    "    \n",
    "    model = Sequential()\n",
    "    model.add(Dense(best_params.get(\"dense1\"), input_dim=X_train.shape[1], activation='relu', kernel_regularizer=regularizers.l2(best_params.get(\"bias1\"))))\n",
    "    model.add(Dropout(best_params.get(\"dropout\")))\n",
    "    model.add(Dense(best_params.get(\"dense2\"), activation='relu', kernel_regularizer=regularizers.l2(best_params.get(\"bias2\"))))\n",
    "    model.add(Dense(1))\n",
    "    model.compile(optimizer=Adam(best_params.get(\"learning_rate\")), loss=\"mean_absolute_error\", metrics=[RootMeanSquaredError()])\n",
    "    \n",
    "    model.fit(X_train, y_train, epochs=best_params.get(\"epochs\"), batch_size=best_params.get(\"batch_size\"), verbose = 0)\n",
    "                \n",
    "    preds  = model.predict(dataset, best_params.get(\"batch_size\"), verbose = 0)\n",
    "              \n",
    "    return preds"
   ]
  },
  {
   "cell_type": "code",
   "execution_count": 13,
   "id": "73e3b4ec-1072-44a8-82b7-620ce29e29db",
   "metadata": {},
   "outputs": [],
   "source": [
    "# Make predictions\n",
    "test_predictions_log_transformed = make_predictions(best_params, X_test)\n",
    "\n",
    "# Generate predictions on holdout dataset\n",
    "holdout_predictions_log_transformed = make_predictions(best_params, X_holdout)"
   ]
  },
  {
   "cell_type": "markdown",
   "id": "c062b7c6",
   "metadata": {},
   "source": [
    "I'll first test my predictions from just the neural network in Kaggle before blending predictions. The result was reasonable.\n",
    "\n",
    "<img src=\"./submission_nn_score.png\" width=\"600\">"
   ]
  },
  {
   "cell_type": "code",
   "execution_count": 15,
   "id": "444e0725",
   "metadata": {},
   "outputs": [],
   "source": [
    "# Generating the CSV for NN submission \n",
    "# Undo the log transform\n",
    "test_predictions = np.exp(test_predictions_log_transformed)\n",
    "holdout_predictions = np.exp(holdout_predictions_log_transformed)\n",
    "\n",
    "d = {\"Id\":X_test.index,\"SalePrice\":test_predictions.flatten()}\n",
    "submission = pd.DataFrame(data=d, index=None)\n",
    "\n",
    "submission[\"Id\"] = submission[\"Id\"] + 1461\n",
    "\n",
    "submission.to_csv(\"submission_nn.csv\",index=False)"
   ]
  },
  {
   "cell_type": "markdown",
   "id": "18fb0b31",
   "metadata": {},
   "source": [
    "## Blending Predictions\n",
    "\n",
    "So far, I have generated predictions using two decision tree-based models and a neural net-based model.\n",
    "Before training and wrangling any data for either model, I isolated 10% of the training data set as a \"holdout\" set to evaluate different methods of blending predictions. I use three different methods to blend predictions:\n",
    "\n",
    "1) Take the mean of predictions from XGBoost, LightGBM and the Neural Network model.\n",
    "2) Take a weighted mean of all three, with weights based on how well each model performs on the holdout set.\n",
    "3) Test a bunch of meta models and use cross-validation to determine the best."
   ]
  },
  {
   "cell_type": "code",
   "execution_count": 65,
   "id": "d4109da3",
   "metadata": {},
   "outputs": [
    {
     "name": "stdout",
     "output_type": "stream",
     "text": [
      "Unweighted Mean RMSE:0.12437362669476726\n"
     ]
    }
   ],
   "source": [
    "from sklearn.metrics import mean_squared_error\n",
    "\n",
    "# Refresh data\n",
    "X_train, y_train, X_valid, y_valid, X_holdout, y_holdout, X_test, holdout_predictions_df = data()\n",
    "\n",
    "# Append holdout set NN predictions to DT predictions\n",
    "holdout_predictions_df[\"NN_Predictions\"] = holdout_predictions_log_transformed\n",
    "holdout_predictions_df = holdout_predictions_df[[\"XGBoost_Predictions\", \"LightGBM_Predictions\", \"NN_Predictions\", \"Actual_SalePrice\"]]\n",
    "\n",
    "# Add mean column\n",
    "holdout_predictions_df[\"Mean_SalePrice\"] = holdout_predictions_df[[\"XGBoost_Predictions\", \"LightGBM_Predictions\", \"NN_Predictions\"]].mean(axis=1)\n",
    "\n",
    "# Calculate RMSE\n",
    "print(\"Unweighted Mean RMSE: \" + str(mean_squared_error(holdout_predictions_df[\"Actual_SalePrice\"], holdout_predictions_df[\"Mean_SalePrice\"], squared=False)))"
   ]
  },
  {
   "cell_type": "markdown",
   "id": "5a6d3ebf",
   "metadata": {},
   "source": [
    "I submitted predictions based on the mean of all three to Kaggle, with the following results:\n",
    "\n",
    "<img src=\"./submission_mean_score.png\" width=\"600\">"
   ]
  },
  {
   "cell_type": "code",
   "execution_count": 68,
   "id": "08ee6c65",
   "metadata": {},
   "outputs": [
    {
     "name": "stdout",
     "output_type": "stream",
     "text": [
      "XGBoost RMSE: 0.13149106483301198\n",
      "LightGBM RMSE: 0.15526025452567674\n",
      "NN RMSE: 0.11821275132550024\n"
     ]
    }
   ],
   "source": [
    "print(\"XGBoost RMSE: \" + str(mean_squared_error(holdout_predictions_df[\"Actual_SalePrice\"], holdout_predictions_df[\"XGBoost_Predictions\"], squared=False)))\n",
    "print(\"LightGBM RMSE: \" + str(mean_squared_error(holdout_predictions_df[\"Actual_SalePrice\"], holdout_predictions_df[\"LightGBM_Predictions\"], squared=False)))\n",
    "print(\"NN RMSE: \" + str(mean_squared_error(holdout_predictions_df[\"Actual_SalePrice\"], holdout_predictions_df[\"NN_Predictions\"], squared=False)))"
   ]
  },
  {
   "cell_type": "markdown",
   "id": "7f2e6655",
   "metadata": {},
   "source": [
    "The above shows the RMSE of each of the three models I implemented on the holdout set. While I have more confidence in the ability of models with lower loss to perform well with production data, the point of blending is to improve the generalizability of your predictions. Based on that, I decided to weight the predictions of each model accordingly:\n",
    "\n",
    "30% - XGBoost\n",
    "20% - LightGBM\n",
    "50% - Neural Network"
   ]
  },
  {
   "cell_type": "code",
   "execution_count": 69,
   "id": "6285c45f",
   "metadata": {},
   "outputs": [
    {
     "name": "stdout",
     "output_type": "stream",
     "text": [
      "Weighted Mean RMSE:0.11975113619483989\n"
     ]
    }
   ],
   "source": [
    "# Add weighted mean column\n",
    "weight = [0.3, 0.2, 0.5]\n",
    "holdout_predictions_df[\"Weighted_Mean_SalePrice\"] = holdout_predictions_df[[\"XGBoost_Predictions\", \"LightGBM_Predictions\", \"NN_Predictions\"]].dot(weight)\n",
    "\n",
    "# Calculate RMSE\n",
    "print(\"Weighted Mean RMSE:\" + str(mean_squared_error(holdout_predictions_df[\"Actual_SalePrice\"], holdout_predictions_df[\"Weighted_Mean_SalePrice\"], squared=False)))"
   ]
  },
  {
   "cell_type": "markdown",
   "id": "1ffa62a4",
   "metadata": {},
   "source": [
    "The weighted mean predictions performed better than any individual model, and the unweighted mean. The score took me to 636 of 4,354 on the Kaggle leaderboard.\n",
    "\n",
    "<img src=\"./submission_weighted_mean_score.png\" width=\"600\">"
   ]
  },
  {
   "cell_type": "code",
   "execution_count": 72,
   "id": "829e4334",
   "metadata": {},
   "outputs": [],
   "source": [
    "# Generate CSV for mean submission\n",
    "# Get XGBoost and LightGBM predictions on test set from previous notebook\n",
    "mean_predictions_df = pd.read_csv(\"../sklearn/xgb_lgb_test_predictions.csv\")\n",
    "\n",
    "# Reverse the log transform\n",
    "mean_predictions_df[[\"XGBoost_Predictions\",\"LightGBM_Predictions\"]] = mean_predictions_df[[\"XGBoost_Predictions\",\"LightGBM_Predictions\"]].applymap(np.exp)\n",
    "\n",
    "# Append NN Predictions\n",
    "mean_predictions_df[\"NN_Predictions\"] = test_predictions\n",
    "\n",
    "# Take the mean\n",
    "mean_predictions_df[\"SalePrice\"] = mean_predictions_df[[\"XGBoost_Predictions\", \"LightGBM_Predictions\", \"NN_Predictions\"]].mean(axis=1)\n",
    "\n",
    "# Generate new df and save as CSV\n",
    "mean_predictions_submission = mean_predictions_df[[\"Id\",\"SalePrice\"]]\n",
    "mean_predictions_submission.to_csv(\"submission_mean.csv\",index=False)"
   ]
  },
  {
   "cell_type": "code",
   "execution_count": 73,
   "id": "53eada86",
   "metadata": {},
   "outputs": [],
   "source": [
    "# Generate CSV for weighted mean submission\n",
    "# Copy df\n",
    "weighted_mean_predictions_df = mean_predictions_df\n",
    "\n",
    "# Set weights and apply to predictions\n",
    "weight = [0.3, 0.2, 0.5]\n",
    "weighted_mean_predictions_df[\"SalePrice\"] = weighted_mean_predictions_df[[\"XGBoost_Predictions\", \"LightGBM_Predictions\", \"NN_Predictions\"]].dot(weight)\n",
    "\n",
    "# Generate new df and save as CSV\n",
    "weighted_mean_submission = weighted_mean_predictions_df[[\"Id\",\"SalePrice\"]]\n",
    "weighted_mean_submission.to_csv(\"submission_weighted_mean.csv\",index=False)"
   ]
  },
  {
   "cell_type": "markdown",
   "id": "84c22511",
   "metadata": {},
   "source": [
    "Next, I'll try defining a meta-model to best blend predictions from the three models. The meta-model was a simple grid search across different estimators, without attempting to optimize hyperparameters. Since the holdout dataset is very small, I used 10 folds in the cross-validation process."
   ]
  },
  {
   "cell_type": "code",
   "execution_count": 79,
   "id": "88d80bdc",
   "metadata": {},
   "outputs": [
    {
     "name": "stdout",
     "output_type": "stream",
     "text": [
      "Holdout Set Cross-Validation RMSE Loss: 0.13143476657527364\n"
     ]
    }
   ],
   "source": [
    "import warnings\n",
    "warnings.filterwarnings(\"ignore\", message=\".*Int64Index.*\")\n",
    "\n",
    "from sklearn.linear_model import LinearRegression, Ridge\n",
    "from sklearn.model_selection import cross_val_score, GridSearchCV\n",
    "from sklearn.pipeline import Pipeline\n",
    "from sklearn.metrics import make_scorer\n",
    "import xgboost as xgb\n",
    "import lightgbm as lgb\n",
    "\n",
    "# Defining a custom loss function (Root Mean Squared Error)\n",
    "rmse = make_scorer(mean_squared_error, squared=False)\n",
    "\n",
    "X = holdout_predictions_df[[\"XGBoost_Predictions\", \"LightGBM_Predictions\", \"NN_Predictions\"]]\n",
    "y = holdout_predictions_df[\"Actual_SalePrice\"]\n",
    "\n",
    "estimators = [\n",
    "    {\n",
    "        \"clf\": (LinearRegression(),)\n",
    "    },\n",
    "    {\n",
    "        \"clf\": (Ridge(),)\n",
    "    },\n",
    "    {\n",
    "        \"clf\": (xgb.XGBRegressor(),)\n",
    "    },\n",
    "    {\n",
    "       \"clf\": (lgb.LGBMRegressor(),)\n",
    "    }\n",
    "]\n",
    "\n",
    "pipe = Pipeline([(\"clf\", LinearRegression())])\n",
    "\n",
    "grid_search = GridSearchCV(pipe, estimators, cv=10, scoring=rmse)\n",
    "grid_search.fit(X,y)\n",
    "print(\"Holdout Set Cross-Validation RMSE Loss: \" + str(grid_search.cv_results_.get(\"mean_test_score\").mean()))"
   ]
  },
  {
   "cell_type": "markdown",
   "id": "eb89a68d",
   "metadata": {},
   "source": [
    "The cross-validation RMSE seems within the same range as RMSE loss on the holdout dataset using the mean and weighted mean. However, when posting to Kaggle, performance was not as good as I'd hoped. I think there's a lot of scope for improving this, but that will have to wait for another day.\n",
    "\n",
    "<img src=\"./submission_modelled_score.png\" width=\"600\">"
   ]
  },
  {
   "cell_type": "code",
   "execution_count": 41,
   "id": "238f07eb",
   "metadata": {},
   "outputs": [],
   "source": [
    "# Generate CSV for modelled prediction submission\n",
    "# Get test set predictions from all three models\n",
    "modelled_predictions_df = mean_predictions_df\n",
    "modelled_predictions_df[[\"XGBoost_Predictions\", \"LightGBM_Predictions\", \"NN_Predictions\"]] = modelled_predictions_df[[\"XGBoost_Predictions\", \"LightGBM_Predictions\", \"NN_Predictions\"]].applymap(np.log)\n",
    "\n",
    "# Make predictions \n",
    "grid_search_blended_predictions_log_transformed = grid_search.predict(modelled_predictions_df[[\"XGBoost_Predictions\", \"LightGBM_Predictions\", \"NN_Predictions\"]])\n",
    "grid_search_blended_predictions = np.exp(grid_search_blended_predictions_log_transformed)\n",
    "\n",
    "# Add predictions SalePrice column\n",
    "modelled_predictions_df[\"SalePrice\"] = grid_search_blended_predictions\n",
    "\n",
    "# Generate new df and save as CSV\n",
    "modelled_submission = modelled_predictions_df[[\"Id\",\"SalePrice\"]]\n",
    "modelled_submission.to_csv(\"submission_modelled.csv\",index=False)"
   ]
  }
 ],
 "metadata": {
  "kernelspec": {
   "display_name": "Python 3 (ipykernel)",
   "language": "python",
   "name": "python3"
  },
  "language_info": {
   "codemirror_mode": {
    "name": "ipython",
    "version": 3
   },
   "file_extension": ".py",
   "mimetype": "text/x-python",
   "name": "python",
   "nbconvert_exporter": "python",
   "pygments_lexer": "ipython3",
   "version": "3.8.10"
  }
 },
 "nbformat": 4,
 "nbformat_minor": 5
}
