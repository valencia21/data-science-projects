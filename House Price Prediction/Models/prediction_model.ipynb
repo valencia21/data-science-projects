{
 "cells": [
  {
   "cell_type": "markdown",
   "metadata": {},
   "source": [
    "# Kaggle: Predicting House Prices\n",
    "\n",
    "The goal of this project is to generate house price predictions that are as accurate as possible.\n",
    "There are 1459 observations."
   ]
  },
  {
   "cell_type": "code",
   "execution_count": null,
   "metadata": {
    "tags": []
   },
   "outputs": [],
   "source": [
    "import tensorflow as tf\n",
    "import pandas as pd\n",
    "import numpy as np\n",
    "import seaborn as sns"
   ]
  },
  {
   "cell_type": "code",
   "execution_count": null,
   "metadata": {},
   "outputs": [],
   "source": [
    "# Read in data\n",
    "df_train = pd.read_csv(r\"C:\\Users\\luis_\\Desktop\\Environments\\Data Science\\House Price Prediction\\train.csv\")"
   ]
  },
  {
   "cell_type": "code",
   "execution_count": null,
   "metadata": {},
   "outputs": [],
   "source": [
    "df.head()"
   ]
  },
  {
   "cell_type": "code",
   "execution_count": null,
   "metadata": {},
   "outputs": [],
   "source": [
    "# Create df that can be edited\n",
    "df_edited = df"
   ]
  },
  {
   "cell_type": "code",
   "execution_count": null,
   "metadata": {},
   "outputs": [],
   "source": [
    "df_edited[\"SalePrice\"]"
   ]
  },
  {
   "cell_type": "markdown",
   "metadata": {},
   "source": [
    "## Checking Data Characteristics\n",
    "\n",
    "Range of possible values for dependent variable."
   ]
  },
  {
   "cell_type": "code",
   "execution_count": null,
   "metadata": {},
   "outputs": [],
   "source": [
    "# Histogram of SalePrice variable\n",
    "sns.histplot(x=df_edited[\"SalePrice\"])"
   ]
  },
  {
   "cell_type": "markdown",
   "metadata": {},
   "source": [
    "## Dealing with Missing Data\n",
    "\n",
    "Get an overview of variables with missing values."
   ]
  },
  {
   "cell_type": "code",
   "execution_count": null,
   "metadata": {},
   "outputs": [],
   "source": [
    "df_edited.isna().sum().nlargest(20)"
   ]
  },
  {
   "cell_type": "markdown",
   "metadata": {},
   "source": [
    "Description of PoolQC: Discrete. Refers to pool quality.</br>\n",
    "1453 of 1460 observations are missing this variable. It is safe to delete."
   ]
  },
  {
   "cell_type": "code",
   "execution_count": null,
   "metadata": {},
   "outputs": [],
   "source": [
    "# Drop PoolQC column\n",
    "df_edited.drop(\"PoolQC\",axis=1)"
   ]
  },
  {
   "cell_type": "markdown",
   "metadata": {},
   "source": [
    "Description of MiscFeature: Discrete. Miscellaneous feature not covered in other categories.</br>\n",
    "1406 of 1460 observations are missing this variable. However, the existence of a miscellaneous feature is potentially indicative of price.\n",
    "\n",
    "- Elev: Elevator\n",
    "- Gar2: 2nd Garage (if not described in garage section)\n",
    "- Othr: Other\n",
    "- Shed: Shed (over 100 SF)\n",
    "- TenC: Tennis Court\n",
    "- NA: None\n",
    "\n",
    "There are a few options for this:\n",
    "1) Leave as is.\n",
    "2) Remove.\n",
    "3) Turn variable into a binary - has MiscFeature/does not have MiscFeature.\n",
    "\n",
    "Deciding to leave as is for now, should test with binary."
   ]
  },
  {
   "cell_type": "markdown",
   "metadata": {},
   "source": [
    "Description of Alley: Discrete. Type of alley access to property.</br>\n",
    "1369 of 1460 observations are missing this variable. Likely means no alley access.\n",
    "\n",
    "- Grvl: Gravel\n",
    "- Pave: Paved\n",
    "- NA: No alley access"
   ]
  },
  {
   "cell_type": "code",
   "execution_count": null,
   "metadata": {},
   "outputs": [],
   "source": [
    "df[\"Alley\"].value_counts()"
   ]
  },
  {
   "cell_type": "markdown",
   "metadata": {},
   "source": [
    "There are no \"NA\" values, suggesting that these have been left as nans. Will fill with \"NA\"."
   ]
  },
  {
   "cell_type": "code",
   "execution_count": null,
   "metadata": {},
   "outputs": [],
   "source": [
    "# Filling nan values with NA\n",
    "df_edited[\"Alley\"].fillna(\"NA\")"
   ]
  },
  {
   "cell_type": "markdown",
   "metadata": {},
   "source": [
    "Description of Fence: Discrete. Refers to fence quality.</br>\n",
    "1179 of 1460 observations are missing this variable.\n",
    "\n",
    "- GdPrv: Good Privacy\n",
    "- MnPrv: Minimum Privacy\n",
    "- GdWo: Good Wood\n",
    "- MnWw: Minimum Wood/Wire\n",
    "- NA: No Fence"
   ]
  },
  {
   "cell_type": "code",
   "execution_count": null,
   "metadata": {},
   "outputs": [],
   "source": [
    "df[\"Fence\"].value_counts()"
   ]
  },
  {
   "cell_type": "markdown",
   "metadata": {},
   "source": [
    "There are no \"NA\" values, likely meaning no fence. Will fill with NA."
   ]
  },
  {
   "cell_type": "code",
   "execution_count": null,
   "metadata": {},
   "outputs": [],
   "source": [
    "# Filling nan values with NA\n",
    "df_edited[\"Fence\"].fillna(\"NA\")"
   ]
  },
  {
   "cell_type": "markdown",
   "metadata": {},
   "source": [
    "Description of FireplaceQu: Discrete. Refers to fireplace quality.</br>\n",
    "690 of 1460 observations are missing this variable.\n",
    "\n",
    "- Ex: Excellent - Exceptional Masonry Fireplace\n",
    "- Gd: Good - Masonry Fireplace in main level\n",
    "- TA: Average - Prefabricated Fireplace in main living area or Masonry Fireplace in basement\n",
    "- Fa: Fair - Prefabricated Fireplace in basement\n",
    "- Po: Poor - Ben Franklin Stove\n",
    "- NA: No Fireplace"
   ]
  },
  {
   "cell_type": "code",
   "execution_count": null,
   "metadata": {},
   "outputs": [],
   "source": [
    "df[\"FireplaceQu\"].value_counts()"
   ]
  },
  {
   "cell_type": "markdown",
   "metadata": {},
   "source": [
    "There are no \"NA\" values, likely meaning no fireplace. Will fill with NA."
   ]
  },
  {
   "cell_type": "markdown",
   "metadata": {},
   "source": [
    "Description of LotFrontage: Continuous. Linear feet of street connected to property.\n",
    "259 of 1459 observations are missing this variable."
   ]
  },
  {
   "cell_type": "code",
   "execution_count": null,
   "metadata": {},
   "outputs": [],
   "source": [
    "df[\"LotFrontage\"]"
   ]
  },
  {
   "cell_type": "markdown",
   "metadata": {},
   "source": [
    "There are a few options for this variable:\n",
    "\n",
    "1) Leave as is.\n",
    "2) Add mean.\n",
    "3) Model predicted LotFrontage and add.\n",
    "\n",
    "For now, add the mean value."
   ]
  },
  {
   "cell_type": "code",
   "execution_count": null,
   "metadata": {},
   "outputs": [],
   "source": [
    "# Fill nan with mean of column.\n",
    "df[\"LotFrontage\"].fillna(df[\"LotFrontage\"].mean())"
   ]
  },
  {
   "cell_type": "markdown",
   "metadata": {},
   "source": [
    "## Dealing with Outliers\n",
    "\n"
   ]
  },
  {
   "cell_type": "code",
   "execution_count": null,
   "metadata": {},
   "outputs": [],
   "source": []
  }
 ],
 "metadata": {
  "kernelspec": {
   "display_name": "Python 3 (ipykernel)",
   "language": "python",
   "name": "python3"
  },
  "language_info": {
   "codemirror_mode": {
    "name": "ipython",
    "version": 3
   },
   "file_extension": ".py",
   "mimetype": "text/x-python",
   "name": "python",
   "nbconvert_exporter": "python",
   "pygments_lexer": "ipython3",
   "version": "3.7.9"
  }
 },
 "nbformat": 4,
 "nbformat_minor": 4
}
