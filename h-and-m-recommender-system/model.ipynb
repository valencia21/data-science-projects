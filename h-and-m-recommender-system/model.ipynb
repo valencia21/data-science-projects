{
 "cells": [
  {
   "cell_type": "code",
   "execution_count": 1,
   "metadata": {},
   "outputs": [],
   "source": [
    "import tensorflow as tf\n",
    "import wandb\n",
    "import modin.pandas as pd\n",
    "import numpy as np\n",
    "import pickle"
   ]
  },
  {
   "cell_type": "code",
   "execution_count": 2,
   "metadata": {},
   "outputs": [
    {
     "name": "stderr",
     "output_type": "stream",
     "text": [
      "2022-04-06 10:28:35,405\tINFO services.py:1412 -- View the Ray dashboard at \u001b[1m\u001b[32mhttp://127.0.0.1:8265\u001b[39m\u001b[22m\n"
     ]
    },
    {
     "data": {
      "text/plain": [
       "{'node_ip_address': '172.17.0.2',\n",
       " 'raylet_ip_address': '172.17.0.2',\n",
       " 'redis_address': None,\n",
       " 'object_store_address': '/tmp/ray/session_2022-04-06_10-28-32_968631_32297/sockets/plasma_store',\n",
       " 'raylet_socket_name': '/tmp/ray/session_2022-04-06_10-28-32_968631_32297/sockets/raylet',\n",
       " 'webui_url': '127.0.0.1:8265',\n",
       " 'session_dir': '/tmp/ray/session_2022-04-06_10-28-32_968631_32297',\n",
       " 'metrics_export_port': 64952,\n",
       " 'gcs_address': '172.17.0.2:60038',\n",
       " 'address': '172.17.0.2:60038',\n",
       " 'node_id': '38375c1b1e649b5cd6bd0af2f2d7f809dd89f0b256e7f48f1761edbe'}"
      ]
     },
     "execution_count": 2,
     "metadata": {},
     "output_type": "execute_result"
    }
   ],
   "source": [
    "import ray\n",
    "ray.init()"
   ]
  },
  {
   "cell_type": "code",
   "execution_count": 3,
   "metadata": {},
   "outputs": [],
   "source": [
    "# Read in data\n",
    "def data():\n",
    "\n",
    "    articles_df_original = pd.read_csv(\"data/articles.csv\")\n",
    "    customers_df_original = pd.read_csv(\"data/customers.csv\")\n",
    "    transactions_df_original = pd.read_csv(\"data/transactions_train.csv\")\n",
    "\n",
    "    return articles_df_original, customers_df_original, transactions_df_original\n",
    "\n",
    "articles_df_original, customers_df_original, transactions_df_original = data()"
   ]
  },
  {
   "cell_type": "code",
   "execution_count": 4,
   "metadata": {},
   "outputs": [
    {
     "name": "stderr",
     "output_type": "stream",
     "text": [
      "UserWarning: `Series.to_dict` defaulting to pandas implementation.\n",
      "Please refer to https://modin.readthedocs.io/en/stable/supported_apis/defaulting_to_pandas.html for explanation.\n",
      "UserWarning: sort_values defaulting to pandas implementation.\n"
     ]
    }
   ],
   "source": [
    "# Create lookup dictionary\n",
    "product_code_lookup = articles_df_original[[\"article_id\",\"product_code\"]]\n",
    "product_code_lookup = product_code_lookup.set_index(\"article_id\")[\"product_code\"].to_dict()\n",
    "\n",
    "# Create transactions matrix\n",
    "transactions_matrix = transactions_df_original[[\"customer_id\",\"article_id\"]]\n",
    "\n",
    "# Change article_id to product_code\n",
    "transactions_matrix[\"article_id\"] = transactions_matrix[\"article_id\"].map(product_code_lookup)\n",
    "\n",
    "# Rename article_id to product_code\n",
    "transactions_matrix = transactions_matrix.rename(columns={\"article_id\": \"product_code\"})\n",
    "\n",
    "# Sort by customer_id\n",
    "transactions_matrix = transactions_matrix.sort_values(by=[\"customer_id\"])"
   ]
  },
  {
   "cell_type": "code",
   "execution_count": 5,
   "metadata": {},
   "outputs": [],
   "source": [
    "# Split data into separate dataframes\n",
    "n = 200000\n",
    "list_df_transactions = [transactions_matrix[i:i+n] for i in range(0,transactions_matrix.shape[0],n)]\n",
    "\n",
    "# Get quantity of items purchased by each user\n",
    "list_df_transactions_quantity = []\n",
    "\n",
    "for df in list_df_transactions:\n",
    "    list_df_transactions_quantity.append(df.groupby([\"customer_id\",\"product_code\"]).size().reset_index())"
   ]
  },
  {
   "cell_type": "code",
   "execution_count": 15,
   "metadata": {},
   "outputs": [],
   "source": [
    "# Concatenate split dfs\n",
    "df_transactions_quantity_original = pd.concat(list_df_transactions_quantity)\n",
    "df_transactions_quantity_original = df_transactions_quantity_original.rename(columns={0:\"quantity\"})"
   ]
  },
  {
   "cell_type": "code",
   "execution_count": 16,
   "metadata": {},
   "outputs": [],
   "source": [
    "with open('df_transactions_quantity','wb') as handle:\n",
    "    pickle.dump(df_transactions_quantity_original, handle, protocol=pickle.HIGHEST_PROTOCOL)"
   ]
  },
  {
   "cell_type": "code",
   "execution_count": 3,
   "metadata": {},
   "outputs": [
    {
     "name": "stderr",
     "output_type": "stream",
     "text": [
      "UserWarning: `read_pickle` defaulting to pandas implementation.\n",
      "Please refer to https://modin.readthedocs.io/en/stable/supported_apis/defaulting_to_pandas.html for explanation.\n"
     ]
    }
   ],
   "source": [
    "df_transactions_quantity_1 = pd.read_pickle(\"df_transactions_quantity\")"
   ]
  },
  {
   "cell_type": "code",
   "execution_count": 4,
   "metadata": {},
   "outputs": [],
   "source": [
    "# Change dtype to object\n",
    "df_transactions_quantity_1['product_code'] = df_transactions_quantity_1['product_code'].astype('object')"
   ]
  },
  {
   "cell_type": "code",
   "execution_count": null,
   "metadata": {},
   "outputs": [],
   "source": [
    "df_transactions_quantity_1.head(10)"
   ]
  },
  {
   "cell_type": "code",
   "execution_count": 29,
   "metadata": {},
   "outputs": [],
   "source": [
    "transactions_dict = {name: np.array(value) for name, value in df_transactions_quantity_1.items()}"
   ]
  },
  {
   "cell_type": "code",
   "execution_count": 35,
   "metadata": {},
   "outputs": [
    {
     "ename": "Error",
     "evalue": "Canceled future for execute_request message before replies were done",
     "output_type": "error",
     "traceback": [
      "Error: Canceled future for execute_request message before replies were done",
      "at t.KernelShellFutureHandler.dispose (/root/.vscode-server/extensions/ms-toolsai.jupyter-2022.3.1000901801/out/extension.js:2:1204175)",
      "at /root/.vscode-server/extensions/ms-toolsai.jupyter-2022.3.1000901801/out/extension.js:2:1223227",
      "at Map.forEach (<anonymous>)",
      "at v._clearKernelState (/root/.vscode-server/extensions/ms-toolsai.jupyter-2022.3.1000901801/out/extension.js:2:1223212)",
      "at v.dispose (/root/.vscode-server/extensions/ms-toolsai.jupyter-2022.3.1000901801/out/extension.js:2:1216694)",
      "at /root/.vscode-server/extensions/ms-toolsai.jupyter-2022.3.1000901801/out/extension.js:2:533674",
      "at t.swallowExceptions (/root/.vscode-server/extensions/ms-toolsai.jupyter-2022.3.1000901801/out/extension.js:2:913059)",
      "at dispose (/root/.vscode-server/extensions/ms-toolsai.jupyter-2022.3.1000901801/out/extension.js:2:533652)",
      "at t.RawSession.dispose (/root/.vscode-server/extensions/ms-toolsai.jupyter-2022.3.1000901801/out/extension.js:2:537330)",
      "at processTicksAndRejections (node:internal/process/task_queues:96:5)"
     ]
    }
   ],
   "source": [
    "transactions = tf.data.Dataset.from_tensor_slices(transactions_dict)"
   ]
  },
  {
   "cell_type": "code",
   "execution_count": null,
   "metadata": {},
   "outputs": [],
   "source": []
  }
 ],
 "metadata": {
  "interpreter": {
   "hash": "916dbcbb3f70747c44a77c7bcd40155683ae19c65e1c03b4aa3499c5328201f1"
  },
  "kernelspec": {
   "display_name": "Python 3.8.10 64-bit",
   "language": "python",
   "name": "python3"
  },
  "language_info": {
   "codemirror_mode": {
    "name": "ipython",
    "version": 3
   },
   "file_extension": ".py",
   "mimetype": "text/x-python",
   "name": "python",
   "nbconvert_exporter": "python",
   "pygments_lexer": "ipython3",
   "version": "3.8.10"
  },
  "orig_nbformat": 4
 },
 "nbformat": 4,
 "nbformat_minor": 2
}
